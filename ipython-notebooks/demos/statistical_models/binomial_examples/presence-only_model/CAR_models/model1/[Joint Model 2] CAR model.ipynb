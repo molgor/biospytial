{
 "cells": [
  {
   "cell_type": "markdown",
   "metadata": {},
   "source": [
    "# A joint model CAR\n",
    " $$ [P , S ] = [P | GMRF] [ S | GMRF] $$"
   ]
  },
  {
   "cell_type": "code",
   "execution_count": 2,
   "metadata": {},
   "outputs": [],
   "source": [
    "## Import code:\n",
    "setwd('/apps/external_plugins/biospytial_rwrapper/biospytial.rwrapper/R/')"
   ]
  },
  {
   "cell_type": "code",
   "execution_count": 3,
   "metadata": {},
   "outputs": [
    {
     "name": "stderr",
     "output_type": "stream",
     "text": [
      "Loading required package: MASS\n",
      "Loading required package: Rcpp\n",
      "\n",
      "Attaching package: ‘dplyr’\n",
      "\n",
      "The following object is masked from ‘package:MASS’:\n",
      "\n",
      "    select\n",
      "\n",
      "The following objects are masked from ‘package:stats’:\n",
      "\n",
      "    filter, lag\n",
      "\n",
      "The following objects are masked from ‘package:base’:\n",
      "\n",
      "    intersect, setdiff, setequal, union\n",
      "\n"
     ]
    },
    {
     "name": "stdout",
     "output_type": "stream",
     "text": [
      "Setting up the model.\n",
      "Performing burnin period for Sample Effortmodel \n",
      "  |======================================================================| 100%\n",
      "Summarising results.\n",
      "Finished in  84.4 seconds.\n",
      "Setting up the model.\n",
      "Performing burnin period for Presence model \n",
      "  |======================================================================| 100%\n",
      "Summarising results.\n",
      "Finished in  83 seconds.\n",
      "Sampling from the joint model 10000 post burnin and thinned (if requested) samples.\n",
      "  |======================================================================| 100%\n",
      "Summarising new results.\n",
      "[1] \"Compiling results for presence process \\n\"\n"
     ]
    }
   ],
   "source": [
    "source('sandbox.R')"
   ]
  },
  {
   "cell_type": "markdown",
   "metadata": {},
   "source": [
    "## Partial results vs joint model\n"
   ]
  },
  {
   "cell_type": "code",
   "execution_count": 6,
   "metadata": {},
   "outputs": [
    {
     "data": {
      "text/plain": [
       "\n",
       "#################\n",
       "#### Model fitted\n",
       "#################\n",
       "Likelihood model - Binomial (logit link function) \n",
       "Random effects model - BYM CAR\n",
       "Regression equation - sample ~ Disttoroadm + Populationm\n",
       "Number of missing observations - 731\n",
       "\n",
       "############\n",
       "#### Results\n",
       "############\n",
       "Posterior quantities and DIC\n",
       "\n",
       "             Median    2.5%   97.5% n.sample % accept n.effective Geweke.diag\n",
       "(Intercept)  4.2801  3.5011  5.0011    10000     54.4        18.1         4.5\n",
       "Disttoroadm -0.0003 -0.0005 -0.0001    10000     54.4       146.7         2.3\n",
       "Populationm  0.0000 -0.0001  0.0002    10000     54.4       124.8        -4.0\n",
       "tau2         8.3490  6.2624 10.5957    10000    100.0         5.0         1.0\n",
       "sigma2       2.9682  2.4007  3.6082    10000    100.0         9.6        -0.7\n",
       "\n",
       "DIC =  1928.468       p.d =  640.3866       LMPL =  -1095.01 "
      ]
     },
     "metadata": {},
     "output_type": "display_data"
    }
   ],
   "source": [
    "model.sample$model.results"
   ]
  },
  {
   "cell_type": "code",
   "execution_count": 7,
   "metadata": {},
   "outputs": [
    {
     "data": {
      "text/plain": [
       "\n",
       "#################\n",
       "#### Model fitted\n",
       "#################\n",
       "Likelihood model - Binomial (logit link function) \n",
       "Random effects model - BYM CAR\n",
       "Regression equation - species ~ Elevationm + MeanTempm\n",
       "Number of missing observations - 1161\n",
       "\n",
       "############\n",
       "#### Results\n",
       "############\n",
       "Posterior quantities and DIC\n",
       "\n",
       "             Median    2.5%   97.5% n.sample % accept n.effective Geweke.diag\n",
       "(Intercept) -2.7772 -3.9216 -1.8805    10000     54.5        24.4        -5.7\n",
       "Elevationm   0.0002 -0.0001  0.0005    10000     54.5        55.7         3.3\n",
       "MeanTempm   -0.0007 -0.0010 -0.0003    10000     54.5        30.4        -1.9\n",
       "tau2        11.1199  6.7801 15.8279    10000    100.0         4.2         3.8\n",
       "sigma2       0.0667  0.0541  0.0875    10000    100.0         7.2         2.1\n",
       "\n",
       "DIC =  1464.65       p.d =  403.1601       LMPL =  -789.72 "
      ]
     },
     "metadata": {},
     "output_type": "display_data"
    }
   ],
   "source": [
    "model.presence$model.results"
   ]
  },
  {
   "cell_type": "markdown",
   "metadata": {},
   "source": [
    "## Joint model"
   ]
  },
  {
   "cell_type": "code",
   "execution_count": 10,
   "metadata": {},
   "outputs": [
    {
     "data": {
      "text/html": [
       "<table>\n",
       "<thead><tr><th></th><th scope=col>Median</th><th scope=col>2.5%</th><th scope=col>97.5%</th><th scope=col>n.sample</th><th scope=col>% accept</th><th scope=col>n.effective</th><th scope=col>Geweke.diag</th></tr></thead>\n",
       "<tbody>\n",
       "\t<tr><th scope=row>(Intercept)</th><td> 1.055760e+01</td><td> -7.7369     </td><td> 1.055760e+01</td><td>10000        </td><td> 54.5        </td><td>  4.6        </td><td>-8.4         </td></tr>\n",
       "\t<tr><th scope=row>Elevationm</th><td> 5.000000e-04</td><td> -0.0001     </td><td> 5.000000e-04</td><td>10000        </td><td> 54.5        </td><td>325.2        </td><td>-5.3         </td></tr>\n",
       "\t<tr><th scope=row>MeanTempm</th><td>-8.400000e-03</td><td> -0.0084     </td><td>-2.900000e-03</td><td>10000        </td><td> 54.5        </td><td> 10.2        </td><td> 2.5         </td></tr>\n",
       "\t<tr><th scope=row>tau2</th><td> 8.422415e+09</td><td>290.8031     </td><td> 7.744178e+10</td><td>10000        </td><td>100.0        </td><td>  1.7        </td><td>-2.3         </td></tr>\n",
       "\t<tr><th scope=row>sigma2</th><td> 2.334775e+10</td><td> 20.1018     </td><td> 2.135944e+11</td><td>10000        </td><td>100.0        </td><td>  1.8        </td><td>-2.3         </td></tr>\n",
       "</tbody>\n",
       "</table>\n"
      ],
      "text/latex": [
       "\\begin{tabular}{r|lllllll}\n",
       "  & Median & 2.5\\% & 97.5\\% & n.sample & \\% accept & n.effective & Geweke.diag\\\\\n",
       "\\hline\n",
       "\t(Intercept) &  1.055760e+01 &  -7.7369      &  1.055760e+01 & 10000         &  54.5         &   4.6         & -8.4         \\\\\n",
       "\tElevationm &  5.000000e-04 &  -0.0001      &  5.000000e-04 & 10000         &  54.5         & 325.2         & -5.3         \\\\\n",
       "\tMeanTempm & -8.400000e-03 &  -0.0084      & -2.900000e-03 & 10000         &  54.5         &  10.2         &  2.5         \\\\\n",
       "\ttau2 &  8.422415e+09 & 290.8031      &  7.744178e+10 & 10000         & 100.0         &   1.7         & -2.3         \\\\\n",
       "\tsigma2 &  2.334775e+10 &  20.1018      &  2.135944e+11 & 10000         & 100.0         &   1.8         & -2.3         \\\\\n",
       "\\end{tabular}\n"
      ],
      "text/markdown": [
       "\n",
       "| <!--/--> | Median | 2.5% | 97.5% | n.sample | % accept | n.effective | Geweke.diag | \n",
       "|---|---|---|---|---|\n",
       "| (Intercept) |  1.055760e+01 |  -7.7369      |  1.055760e+01 | 10000         |  54.5         |   4.6         | -8.4          | \n",
       "| Elevationm |  5.000000e-04 |  -0.0001      |  5.000000e-04 | 10000         |  54.5         | 325.2         | -5.3          | \n",
       "| MeanTempm | -8.400000e-03 |  -0.0084      | -2.900000e-03 | 10000         |  54.5         |  10.2         |  2.5          | \n",
       "| tau2 |  8.422415e+09 | 290.8031      |  7.744178e+10 | 10000         | 100.0         |   1.7         | -2.3          | \n",
       "| sigma2 |  2.334775e+10 |  20.1018      |  2.135944e+11 | 10000         | 100.0         |   1.8         | -2.3          | \n",
       "\n",
       "\n"
      ],
      "text/plain": [
       "            Median        2.5%     97.5%         n.sample % accept n.effective\n",
       "(Intercept)  1.055760e+01  -7.7369  1.055760e+01 10000     54.5      4.6      \n",
       "Elevationm   5.000000e-04  -0.0001  5.000000e-04 10000     54.5    325.2      \n",
       "MeanTempm   -8.400000e-03  -0.0084 -2.900000e-03 10000     54.5     10.2      \n",
       "tau2         8.422415e+09 290.8031  7.744178e+10 10000    100.0      1.7      \n",
       "sigma2       2.334775e+10  20.1018  2.135944e+11 10000    100.0      1.8      \n",
       "            Geweke.diag\n",
       "(Intercept) -8.4       \n",
       "Elevationm  -5.3       \n",
       "MeanTempm    2.5       \n",
       "tau2        -2.3       \n",
       "sigma2      -2.3       "
      ]
     },
     "metadata": {},
     "output_type": "display_data"
    }
   ],
   "source": [
    "results.presence$summary.results"
   ]
  },
  {
   "cell_type": "code",
   "execution_count": 11,
   "metadata": {},
   "outputs": [
    {
     "data": {
      "text/html": [
       "<table>\n",
       "<thead><tr><th></th><th scope=col>Median</th><th scope=col>2.5%</th><th scope=col>97.5%</th><th scope=col>n.sample</th><th scope=col>% accept</th><th scope=col>n.effective</th><th scope=col>Geweke.diag</th></tr></thead>\n",
       "<tbody>\n",
       "\t<tr><th scope=row>(Intercept)</th><td> 1.102590e+01</td><td> 11.0259     </td><td> 1.102590e+01</td><td>10000        </td><td> 54.4        </td><td> 402.5       </td><td>-1.0         </td></tr>\n",
       "\t<tr><th scope=row>Disttoroadm</th><td>-7.000000e-04</td><td> -0.0007     </td><td>-7.000000e-04</td><td>10000        </td><td> 54.4        </td><td>1543.9       </td><td> 0.8         </td></tr>\n",
       "\t<tr><th scope=row>Populationm</th><td> 0.000000e+00</td><td>  0.0000     </td><td> 0.000000e+00</td><td>10000        </td><td> 54.4        </td><td>4016.5       </td><td> 1.0         </td></tr>\n",
       "\t<tr><th scope=row>tau2</th><td> 8.422415e+09</td><td>290.8031     </td><td> 7.744178e+10</td><td>10000        </td><td>100.0        </td><td>   1.7       </td><td>-2.3         </td></tr>\n",
       "\t<tr><th scope=row>sigma2</th><td> 2.334775e+10</td><td> 20.1018     </td><td> 2.135944e+11</td><td>10000        </td><td>100.0        </td><td>   1.8       </td><td>-2.3         </td></tr>\n",
       "</tbody>\n",
       "</table>\n"
      ],
      "text/latex": [
       "\\begin{tabular}{r|lllllll}\n",
       "  & Median & 2.5\\% & 97.5\\% & n.sample & \\% accept & n.effective & Geweke.diag\\\\\n",
       "\\hline\n",
       "\t(Intercept) &  1.102590e+01 &  11.0259      &  1.102590e+01 & 10000         &  54.4         &  402.5        & -1.0         \\\\\n",
       "\tDisttoroadm & -7.000000e-04 &  -0.0007      & -7.000000e-04 & 10000         &  54.4         & 1543.9        &  0.8         \\\\\n",
       "\tPopulationm &  0.000000e+00 &   0.0000      &  0.000000e+00 & 10000         &  54.4         & 4016.5        &  1.0         \\\\\n",
       "\ttau2 &  8.422415e+09 & 290.8031      &  7.744178e+10 & 10000         & 100.0         &    1.7        & -2.3         \\\\\n",
       "\tsigma2 &  2.334775e+10 &  20.1018      &  2.135944e+11 & 10000         & 100.0         &    1.8        & -2.3         \\\\\n",
       "\\end{tabular}\n"
      ],
      "text/markdown": [
       "\n",
       "| <!--/--> | Median | 2.5% | 97.5% | n.sample | % accept | n.effective | Geweke.diag | \n",
       "|---|---|---|---|---|\n",
       "| (Intercept) |  1.102590e+01 |  11.0259      |  1.102590e+01 | 10000         |  54.4         |  402.5        | -1.0          | \n",
       "| Disttoroadm | -7.000000e-04 |  -0.0007      | -7.000000e-04 | 10000         |  54.4         | 1543.9        |  0.8          | \n",
       "| Populationm |  0.000000e+00 |   0.0000      |  0.000000e+00 | 10000         |  54.4         | 4016.5        |  1.0          | \n",
       "| tau2 |  8.422415e+09 | 290.8031      |  7.744178e+10 | 10000         | 100.0         |    1.7        | -2.3          | \n",
       "| sigma2 |  2.334775e+10 |  20.1018      |  2.135944e+11 | 10000         | 100.0         |    1.8        | -2.3          | \n",
       "\n",
       "\n"
      ],
      "text/plain": [
       "            Median        2.5%     97.5%         n.sample % accept n.effective\n",
       "(Intercept)  1.102590e+01  11.0259  1.102590e+01 10000     54.4     402.5     \n",
       "Disttoroadm -7.000000e-04  -0.0007 -7.000000e-04 10000     54.4    1543.9     \n",
       "Populationm  0.000000e+00   0.0000  0.000000e+00 10000     54.4    4016.5     \n",
       "tau2         8.422415e+09 290.8031  7.744178e+10 10000    100.0       1.7     \n",
       "sigma2       2.334775e+10  20.1018  2.135944e+11 10000    100.0       1.8     \n",
       "            Geweke.diag\n",
       "(Intercept) -1.0       \n",
       "Disttoroadm  0.8       \n",
       "Populationm  1.0       \n",
       "tau2        -2.3       \n",
       "sigma2      -2.3       "
      ]
     },
     "metadata": {},
     "output_type": "display_data"
    }
   ],
   "source": [
    "results.sample$summary.results"
   ]
  },
  {
   "cell_type": "code",
   "execution_count": null,
   "metadata": {},
   "outputs": [],
   "source": [
    "# Save output sample to display in python\n",
    "## Save the complete chain trace for analysing in Python,\n",
    "joint_ind_chain = cbind(TDF$cellids,joint_ind_ps)\n",
    "file_ = '/outputs/presence_only_models/modelCAR_indp_fitted3.csv'\n",
    "write.csv(joint_ind_chain,file_)"
   ]
  }
 ],
 "metadata": {
  "kernelspec": {
   "display_name": "R",
   "language": "R",
   "name": "ir"
  },
  "language_info": {
   "codemirror_mode": "r",
   "file_extension": ".r",
   "mimetype": "text/x-r-source",
   "name": "R",
   "pygments_lexer": "r",
   "version": "3.5.1"
  }
 },
 "nbformat": 4,
 "nbformat_minor": 2
}
