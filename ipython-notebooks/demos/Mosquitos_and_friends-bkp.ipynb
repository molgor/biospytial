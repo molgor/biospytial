{
 "cells": [
  {
   "cell_type": "markdown",
   "metadata": {},
   "source": [
    "<img src=\"../biospytial.png\" alt=\"Drawing\" style=\"width: 500px;\"/>"
   ]
  },
  {
   "cell_type": "code",
   "execution_count": 1,
   "metadata": {
    "collapsed": true
   },
   "outputs": [],
   "source": [
    "## Import modules and libraries\n",
    "%matplotlib inline\n",
    "import sys\n",
    "sys.path.append('/apps')\n",
    "import django\n",
    "django.setup()\n",
    "import numpy as np\n",
    "import matplotlib.pyplot as plt"
   ]
  },
  {
   "cell_type": "markdown",
   "metadata": {},
   "source": [
    "# Mosquitos, the environment and related species"
   ]
  },
  {
   "cell_type": "markdown",
   "metadata": {},
   "source": [
    "<img src=\"mosquito2.jpg\" alt=\"Drawing\" style=\"width: 500px;\"/>"
   ]
  },
  {
   "cell_type": "markdown",
   "metadata": {},
   "source": [
    "## Load Biospytial Modules"
   ]
  },
  {
   "cell_type": "code",
   "execution_count": 2,
   "metadata": {
    "collapsed": true
   },
   "outputs": [],
   "source": [
    "## Import modules\n",
    "from drivers.tree_builder import TreeNeo\n",
    "from drivers.graph_models import Order, Family, graph, pickNode\n",
    "from traversals.strategies import sumTrees, UniformRandomSampleForest"
   ]
  },
  {
   "cell_type": "markdown",
   "metadata": {},
   "source": [
    "## Let´s pick the Mosquito Node\n",
    "Remember that Mosquitos are all from the Family *Culicidae*\n",
    "<img src=\"mosquito3.jpg\" alt=\"taken from: http://www.insectsexplained.com/11Diptera.htm\" style=\"width: 500px;\"/>"
   ]
  },
  {
   "cell_type": "code",
   "execution_count": 3,
   "metadata": {
    "collapsed": false
   },
   "outputs": [],
   "source": [
    "mosquitos = pickNode(Family,\"Culicidae\")"
   ]
  },
  {
   "cell_type": "code",
   "execution_count": 4,
   "metadata": {
    "collapsed": false
   },
   "outputs": [
    {
     "data": {
      "text/plain": [
       "<TreeNode type: Family id = 729651 name: Culicidae>"
      ]
     },
     "execution_count": 4,
     "metadata": {},
     "output_type": "execute_result"
    }
   ],
   "source": [
    "mosquitos"
   ]
  },
  {
   "cell_type": "code",
   "execution_count": 5,
   "metadata": {
    "collapsed": false
   },
   "outputs": [
    {
     "name": "stdout",
     "output_type": "stream",
     "text": [
      "CPU times: user 84 ms, sys: 0 ns, total: 84 ms\n",
      "Wall time: 117 ms\n"
     ]
    }
   ],
   "source": [
    "%time cells = list(mosquitos.cells)\n",
    "neighbours = map(lambda cell : cell.getNeighbours(),cells)\n",
    "neighbouring_cells = reduce(lambda a,b : a+b ,neighbours)\n",
    "## Remove repetitions\n",
    "neighbours = list(set(neighbouring_cells))"
   ]
  },
  {
   "cell_type": "code",
   "execution_count": 6,
   "metadata": {
    "collapsed": false
   },
   "outputs": [
    {
     "data": {
      "text/plain": [
       "39"
      ]
     },
     "execution_count": 6,
     "metadata": {},
     "output_type": "execute_result"
    }
   ],
   "source": [
    "len(neighbours)"
   ]
  },
  {
   "cell_type": "code",
   "execution_count": 7,
   "metadata": {
    "collapsed": false
   },
   "outputs": [
    {
     "name": "stdout",
     "output_type": "stream",
     "text": [
      "CPU times: user 25.8 s, sys: 904 ms, total: 26.7 s\n",
      "Wall time: 29.1 s\n"
     ]
    }
   ],
   "source": [
    "sample = UniformRandomSampleForest(neighbours,size=5)\n",
    "%time sample_trees = list(sample)"
   ]
  },
  {
   "cell_type": "markdown",
   "metadata": {},
   "source": [
    "#### Wait.. wait..\n",
    "<img src=\"clock.png\" alt=\"Drawing\" style=\"width: 100px;\"/>\n",
    "<a href=\"http://www.youtube.com/watch?feature=player_embedded&v=IkdmOVejUlI\n",
    "\" target=\"_blank\"><img src=\"http://img.youtube.com/vi/IkdmOVejUlI/0.jpg\" \n",
    "alt=\"Waiting music\" width=\"10\" height=\"10\" border=\"10\" /></a>"
   ]
  },
  {
   "cell_type": "markdown",
   "metadata": {},
   "source": [
    "## Explore the nodes !"
   ]
  },
  {
   "cell_type": "code",
   "execution_count": 8,
   "metadata": {
    "collapsed": false
   },
   "outputs": [],
   "source": [
    "t1 = sample_trees[0]"
   ]
  },
  {
   "cell_type": "code",
   "execution_count": 9,
   "metadata": {
    "collapsed": false
   },
   "outputs": [
    {
     "data": {
      "text/plain": [
       "<LocalTree Of Life | Root: LUCA - n.count : 53- >"
      ]
     },
     "execution_count": 9,
     "metadata": {},
     "output_type": "execute_result"
    }
   ],
   "source": [
    "t1"
   ]
  },
  {
   "cell_type": "markdown",
   "metadata": {},
   "source": [
    "## By Families, Species, Genera, etc"
   ]
  },
  {
   "cell_type": "code",
   "execution_count": 10,
   "metadata": {
    "collapsed": false
   },
   "outputs": [
    {
     "data": {
      "text/plain": [
       "[<LocalTree | Family: Plantaginaceae - n.count : 1- | AF: 0.05 >,\n",
       " <LocalTree | Family: Aizoaceae - n.count : 2- | AF: 0.05 >,\n",
       " <LocalTree | Family: Homalometridae - n.count : 1- | AF: 0.05 >,\n",
       " <LocalTree | Family: Heterophyidae - n.count : 1- | AF: 0.05 >,\n",
       " <LocalTree | Family: Onagraceae - n.count : 1- | AF: 0.05 >,\n",
       " <LocalTree | Family: Gekkonidae - n.count : 1- | AF: 0.05 >,\n",
       " <LocalTree | Family: Colubridae - n.count : 1- | AF: 0.05 >,\n",
       " <LocalTree | Family: Corytophanidae - n.count : 1- | AF: 0.05 >,\n",
       " <LocalTree | Family: Hirundinidae - n.count : 1- | AF: 0.05 >,\n",
       " <LocalTree | Family: Tyrannidae - n.count : 1- | AF: 0.05 >,\n",
       " <LocalTree | Family: Mimidae - n.count : 1- | AF: 0.05 >,\n",
       " <LocalTree | Family: Ciconiidae - n.count : 1- | AF: 0.05 >,\n",
       " <LocalTree | Family: Hylidae - n.count : 4- | AF: 0.05 >,\n",
       " <LocalTree | Family: Ranidae - n.count : 4- | AF: 0.05 >,\n",
       " <LocalTree | Family: Anatidae - n.count : 9- | AF: 0.05 >,\n",
       " <LocalTree | Family: Typhaceae - n.count : 1- | AF: 0.05 >,\n",
       " <LocalTree | Family: Cyperaceae - n.count : 2- | AF: 0.05 >,\n",
       " <LocalTree | Family: Fabaceae - n.count : 3- | AF: 0.05 >,\n",
       " <LocalTree | Family: Euphorbiaceae - n.count : 1- | AF: 0.05 >,\n",
       " <LocalTree | Family: Columbidae - n.count : 1- | AF: 0.05 >,\n",
       " <LocalTree | Family: Rallidae - n.count : 4- | AF: 0.05 >,\n",
       " <LocalTree | Family: Ardeidae - n.count : 3- | AF: 0.05 >,\n",
       " <LocalTree | Family: Cathartidae - n.count : 2- | AF: 0.05 >,\n",
       " <LocalTree | Family: Falconidae - n.count : 2- | AF: 0.05 >,\n",
       " <LocalTree | Family: Podicipedidae - n.count : 1- | AF: 0.05 >,\n",
       " <LocalTree | Family: Jacanidae - n.count : 2- | AF: 0.05 >,\n",
       " <LocalTree | Family: Charadriidae - n.count : 1- | AF: 0.05 >]"
      ]
     },
     "execution_count": 10,
     "metadata": {},
     "output_type": "execute_result"
    }
   ],
   "source": [
    "t1.families"
   ]
  },
  {
   "cell_type": "markdown",
   "metadata": {},
   "source": [
    "# Monoid operations"
   ]
  },
  {
   "cell_type": "code",
   "execution_count": 11,
   "metadata": {
    "collapsed": false
   },
   "outputs": [],
   "source": [
    "# Let\n",
    "t1, t2 = sample_trees[:2]"
   ]
  },
  {
   "cell_type": "code",
   "execution_count": 12,
   "metadata": {
    "collapsed": false
   },
   "outputs": [
    {
     "data": {
      "text/plain": [
       "[<LocalTree | Phylum: Chordata - n.count : 40- | AF: 0.05 >,\n",
       " <LocalTree | Phylum: Platyhelminthes - n.count : 2- | AF: 0.05 >,\n",
       " <LocalTree | Phylum: Magnoliophyta - n.count : 11- | AF: 0.05 >]"
      ]
     },
     "execution_count": 12,
     "metadata": {},
     "output_type": "execute_result"
    }
   ],
   "source": [
    "t1.phyla"
   ]
  },
  {
   "cell_type": "code",
   "execution_count": 13,
   "metadata": {
    "collapsed": false
   },
   "outputs": [
    {
     "data": {
      "text/plain": [
       "[<LocalTree | Phylum: Chordata - n.count : 671- | AF: 0.05 >,\n",
       " <LocalTree | Phylum: Mollusca - n.count : 2- | AF: 0.05 >,\n",
       " <LocalTree | Phylum: Arthropoda - n.count : 574- | AF: 0.05 >,\n",
       " <LocalTree | Phylum: Magnoliophyta - n.count : 448- | AF: 0.05 >,\n",
       " <LocalTree | Phylum: Pteridophyta - n.count : 9- | AF: 0.05 >]"
      ]
     },
     "execution_count": 13,
     "metadata": {},
     "output_type": "execute_result"
    }
   ],
   "source": [
    "t2.phyla"
   ]
  },
  {
   "cell_type": "markdown",
   "metadata": {},
   "source": [
    "## Sum"
   ]
  },
  {
   "cell_type": "code",
   "execution_count": 14,
   "metadata": {
    "collapsed": false
   },
   "outputs": [
    {
     "name": "stderr",
     "output_type": "stream",
     "text": [
      "INFO Merging Trees\n"
     ]
    },
    {
     "data": {
      "text/plain": [
       "<LocalTree Of Life | Root: LUCA - n.count : 1757- >"
      ]
     },
     "execution_count": 14,
     "metadata": {},
     "output_type": "execute_result"
    }
   ],
   "source": [
    "t1 + t2 "
   ]
  },
  {
   "cell_type": "markdown",
   "metadata": {},
   "source": [
    "### Folding (*Integrate* ) the regional tree"
   ]
  },
  {
   "cell_type": "code",
   "execution_count": 15,
   "metadata": {
    "collapsed": false
   },
   "outputs": [
    {
     "name": "stderr",
     "output_type": "stream",
     "text": [
      "INFO Merging Trees\n",
      "INFO Merging Trees\n",
      "INFO Merging Trees\n",
      "INFO Merging Trees\n"
     ]
    }
   ],
   "source": [
    "big_t = reduce(lambda a , b : a+b , sample_trees)"
   ]
  },
  {
   "cell_type": "code",
   "execution_count": null,
   "metadata": {
    "collapsed": false
   },
   "outputs": [],
   "source": []
  },
  {
   "cell_type": "markdown",
   "metadata": {},
   "source": [
    "# Tree subselections "
   ]
  },
  {
   "cell_type": "code",
   "execution_count": 16,
   "metadata": {
    "collapsed": true
   },
   "outputs": [],
   "source": [
    "mammals = big_t.to_Animalia.to_Chordata.to_Mammalia.plantTreeNode()"
   ]
  },
  {
   "cell_type": "code",
   "execution_count": 17,
   "metadata": {
    "collapsed": false
   },
   "outputs": [
    {
     "data": {
      "text/plain": [
       "<LocalTree Of Life | Root: LUCA - n.count : 3- >"
      ]
     },
     "execution_count": 17,
     "metadata": {},
     "output_type": "execute_result"
    }
   ],
   "source": [
    "mammals"
   ]
  },
  {
   "cell_type": "markdown",
   "metadata": {},
   "source": [
    "# Get (Raster) Environmental Information"
   ]
  },
  {
   "cell_type": "code",
   "execution_count": 18,
   "metadata": {
    "collapsed": false
   },
   "outputs": [
    {
     "ename": "ValueError",
     "evalue": "need more than 0 values to unpack",
     "output_type": "error",
     "traceback": [
      "\u001b[0;31m---------------------------------------------------------------------------\u001b[0m",
      "\u001b[0;31mValueError\u001b[0m                                Traceback (most recent call last)",
      "\u001b[0;32m<ipython-input-18-b8908ae5858c>\u001b[0m in \u001b[0;36m<module>\u001b[0;34m()\u001b[0m\n\u001b[0;32m----> 1\u001b[0;31m \u001b[0mtable\u001b[0m \u001b[0;34m=\u001b[0m \u001b[0mmammals\u001b[0m\u001b[0;34m.\u001b[0m\u001b[0massociatedData\u001b[0m\u001b[0;34m.\u001b[0m\u001b[0mgetEnvironmentalVariablesPoints\u001b[0m\u001b[0;34m(\u001b[0m\u001b[0;34m)\u001b[0m\u001b[0;34m\u001b[0m\u001b[0m\n\u001b[0m",
      "\u001b[0;32m/apps/drivers/raster_node_builder.pyc\u001b[0m in \u001b[0;36mgetEnvironmentalVariablesPoints\u001b[0;34m(self, vars, with_coordinates)\u001b[0m\n\u001b[1;32m     80\u001b[0m         \u001b[0mdf\u001b[0m \u001b[0;34m=\u001b[0m \u001b[0mpandas\u001b[0m\u001b[0;34m.\u001b[0m\u001b[0mDataFrame\u001b[0m\u001b[0;34m(\u001b[0m\u001b[0;34m)\u001b[0m\u001b[0;34m\u001b[0m\u001b[0m\n\u001b[1;32m     81\u001b[0m         \u001b[0;32mfor\u001b[0m \u001b[0mvariable\u001b[0m \u001b[0;32min\u001b[0m \u001b[0mvars\u001b[0m\u001b[0;34m:\u001b[0m\u001b[0;34m\u001b[0m\u001b[0m\n\u001b[0;32m---> 82\u001b[0;31m             \u001b[0mraster\u001b[0m \u001b[0;34m=\u001b[0m \u001b[0mself\u001b[0m\u001b[0;34m.\u001b[0m\u001b[0mgetValuesFromPoints\u001b[0m\u001b[0;34m(\u001b[0m\u001b[0mvariable\u001b[0m\u001b[0;34m)\u001b[0m\u001b[0;34m\u001b[0m\u001b[0m\n\u001b[0m\u001b[1;32m     83\u001b[0m             \u001b[0menvironment_mean\u001b[0m \u001b[0;34m=\u001b[0m \u001b[0mraster\u001b[0m\u001b[0;34m.\u001b[0m\u001b[0mtable\u001b[0m\u001b[0;34m.\u001b[0m\u001b[0mmean_yr_val\u001b[0m\u001b[0;34m\u001b[0m\u001b[0m\n\u001b[1;32m     84\u001b[0m             \u001b[0menvironment_std\u001b[0m \u001b[0;34m=\u001b[0m \u001b[0mraster\u001b[0m\u001b[0;34m.\u001b[0m\u001b[0mtable\u001b[0m\u001b[0;34m.\u001b[0m\u001b[0mstd_yr_val\u001b[0m\u001b[0;34m\u001b[0m\u001b[0m\n",
      "\u001b[0;32m/apps/drivers/raster_node_builder.pyc\u001b[0m in \u001b[0;36mgetValuesFromPoints\u001b[0;34m(self, string_selection)\u001b[0m\n\u001b[1;32m     34\u001b[0m         \"\"\"\n\u001b[1;32m     35\u001b[0m         \u001b[0mvalues\u001b[0m \u001b[0;34m=\u001b[0m \u001b[0mself\u001b[0m\u001b[0;34m.\u001b[0m\u001b[0mtree\u001b[0m\u001b[0;34m.\u001b[0m\u001b[0mpullbackRasterNodes\u001b[0m\u001b[0;34m(\u001b[0m\u001b[0mstring_selection\u001b[0m\u001b[0;34m)\u001b[0m\u001b[0;34m\u001b[0m\u001b[0m\n\u001b[0;32m---> 36\u001b[0;31m         \u001b[0mstruct\u001b[0m \u001b[0;34m=\u001b[0m \u001b[0mRasterPointNodesList\u001b[0m\u001b[0;34m(\u001b[0m\u001b[0mvalues\u001b[0m\u001b[0;34m)\u001b[0m\u001b[0;34m\u001b[0m\u001b[0m\n\u001b[0m\u001b[1;32m     37\u001b[0m         \u001b[0mprefix\u001b[0m \u001b[0;34m=\u001b[0m \u001b[0;34m'points_'\u001b[0m\u001b[0;34m\u001b[0m\u001b[0m\n\u001b[1;32m     38\u001b[0m         \u001b[0msetattr\u001b[0m\u001b[0;34m(\u001b[0m\u001b[0mself\u001b[0m\u001b[0;34m,\u001b[0m\u001b[0mprefix\u001b[0m \u001b[0;34m+\u001b[0m \u001b[0mstring_selection\u001b[0m\u001b[0;34m,\u001b[0m \u001b[0mstruct\u001b[0m\u001b[0;34m)\u001b[0m\u001b[0;34m\u001b[0m\u001b[0m\n",
      "\u001b[0;32m/apps/drivers/raster_node_builder.pyc\u001b[0m in \u001b[0;36m__init__\u001b[0;34m(self, list_duple_raster_occs)\u001b[0m\n\u001b[1;32m    132\u001b[0m     \u001b[0;32mdef\u001b[0m \u001b[0m__init__\u001b[0m\u001b[0;34m(\u001b[0m\u001b[0mself\u001b[0m\u001b[0;34m,\u001b[0m\u001b[0mlist_duple_raster_occs\u001b[0m\u001b[0;34m)\u001b[0m\u001b[0;34m:\u001b[0m\u001b[0;34m\u001b[0m\u001b[0m\n\u001b[1;32m    133\u001b[0m \u001b[0;34m\u001b[0m\u001b[0m\n\u001b[0;32m--> 134\u001b[0;31m         \u001b[0mself\u001b[0m\u001b[0;34m.\u001b[0m\u001b[0mdata\u001b[0m\u001b[0;34m,\u001b[0m \u001b[0mself\u001b[0m\u001b[0;34m.\u001b[0m\u001b[0moccurrences\u001b[0m \u001b[0;34m=\u001b[0m \u001b[0mzip\u001b[0m\u001b[0;34m(\u001b[0m\u001b[0;34m*\u001b[0m\u001b[0mlist_duple_raster_occs\u001b[0m\u001b[0;34m)\u001b[0m\u001b[0;34m\u001b[0m\u001b[0m\n\u001b[0m\u001b[1;32m    135\u001b[0m         \u001b[0mself\u001b[0m\u001b[0;34m.\u001b[0m\u001b[0mtable\u001b[0m \u001b[0;34m=\u001b[0m \u001b[0mself\u001b[0m\u001b[0;34m.\u001b[0m\u001b[0mtransformToTable\u001b[0m\u001b[0;34m(\u001b[0m\u001b[0;34m)\u001b[0m\u001b[0;34m\u001b[0m\u001b[0m\n\u001b[1;32m    136\u001b[0m         \u001b[0mself\u001b[0m\u001b[0;34m.\u001b[0m\u001b[0mnametype\u001b[0m \u001b[0;34m=\u001b[0m \u001b[0mself\u001b[0m\u001b[0;34m.\u001b[0m\u001b[0msetNameType\u001b[0m\u001b[0;34m(\u001b[0m\u001b[0;34m)\u001b[0m\u001b[0;34m\u001b[0m\u001b[0m\n",
      "\u001b[0;31mValueError\u001b[0m: need more than 0 values to unpack"
     ]
    }
   ],
   "source": [
    "table = mammals.associatedData.getEnvironmentalVariablesPoints()"
   ]
  },
  {
   "cell_type": "code",
   "execution_count": null,
   "metadata": {
    "collapsed": false
   },
   "outputs": [],
   "source": [
    "table"
   ]
  },
  {
   "cell_type": "markdown",
   "metadata": {},
   "source": [
    "### Export to R"
   ]
  },
  {
   "cell_type": "code",
   "execution_count": null,
   "metadata": {
    "collapsed": false
   },
   "outputs": [],
   "source": [
    "x = table.to_json()\n",
    "from drivers.tools import redisConnection as rc\n",
    "r = rc()\n",
    "r.set('spatstats2017',x)\n",
    "r.keys()"
   ]
  },
  {
   "cell_type": "markdown",
   "metadata": {},
   "source": [
    "#### Explore array with numpy"
   ]
  },
  {
   "cell_type": "code",
   "execution_count": null,
   "metadata": {
    "collapsed": false
   },
   "outputs": [],
   "source": [
    "t1.associatedData.getAssociatedRasterAreaData('MeanTemperature').display_field()"
   ]
  },
  {
   "cell_type": "markdown",
   "metadata": {},
   "source": [
    "# Rank co-occurrent Nodes"
   ]
  },
  {
   "cell_type": "markdown",
   "metadata": {},
   "source": [
    "For this we will calculate the frequency of each Node in the big tree, using another list of trees. In this case the sample of trees that we've got."
   ]
  },
  {
   "cell_type": "code",
   "execution_count": null,
   "metadata": {
    "collapsed": false
   },
   "outputs": [],
   "source": [
    "big_t.countNodesFrequenciesOnList(list_of_trees=sample_trees)"
   ]
  },
  {
   "cell_type": "code",
   "execution_count": null,
   "metadata": {
    "collapsed": false
   },
   "outputs": [],
   "source": [
    "big_t.rankLevels()"
   ]
  },
  {
   "cell_type": "code",
   "execution_count": null,
   "metadata": {
    "collapsed": false
   },
   "outputs": [],
   "source": [
    "big_t.families[:5]"
   ]
  },
  {
   "cell_type": "markdown",
   "metadata": {},
   "source": [
    "### And for mammals ?"
   ]
  },
  {
   "cell_type": "code",
   "execution_count": null,
   "metadata": {
    "collapsed": false
   },
   "outputs": [],
   "source": [
    "mammals.countNodesFrequenciesOnList(sample_trees)"
   ]
  },
  {
   "cell_type": "code",
   "execution_count": null,
   "metadata": {
    "collapsed": false
   },
   "outputs": [],
   "source": [
    "mammals.rankLevels()"
   ]
  },
  {
   "cell_type": "code",
   "execution_count": null,
   "metadata": {
    "collapsed": false
   },
   "outputs": [],
   "source": [
    "mammals.orders[:5]"
   ]
  },
  {
   "cell_type": "markdown",
   "metadata": {},
   "source": [
    "# Graph analytics"
   ]
  },
  {
   "cell_type": "markdown",
   "metadata": {},
   "source": [
    "## Convert the TreeNeo object to a Network instance (networkx)\n",
    "### The depth_level restricts the depth of the recursion process."
   ]
  },
  {
   "cell_type": "code",
   "execution_count": null,
   "metadata": {
    "collapsed": true
   },
   "outputs": [],
   "source": [
    "gt = big_t.toNetworkx(depth_level=6)"
   ]
  },
  {
   "cell_type": "code",
   "execution_count": null,
   "metadata": {
    "collapsed": false
   },
   "outputs": [],
   "source": [
    "## Plot the Tree\n",
    "from drivers.tools import plotTree\n",
    "x = plotTree(big_t)"
   ]
  },
  {
   "cell_type": "markdown",
   "metadata": {},
   "source": [
    "## Standard Graph analysis\n",
    "With the **networkx** library"
   ]
  },
  {
   "cell_type": "code",
   "execution_count": null,
   "metadata": {
    "collapsed": false
   },
   "outputs": [],
   "source": [
    "import networkx as nt\n",
    "nt.laplacian_matrix(gt)"
   ]
  },
  {
   "cell_type": "code",
   "execution_count": null,
   "metadata": {
    "collapsed": false
   },
   "outputs": [],
   "source": [
    "sp = nt.laplacian_spectrum(gt)"
   ]
  },
  {
   "cell_type": "code",
   "execution_count": null,
   "metadata": {
    "collapsed": false
   },
   "outputs": [],
   "source": [
    "sp.shape"
   ]
  },
  {
   "cell_type": "code",
   "execution_count": null,
   "metadata": {
    "collapsed": true
   },
   "outputs": [],
   "source": []
  }
 ],
 "metadata": {
  "kernelspec": {
   "display_name": "Django Shell-Plus",
   "language": "python",
   "name": "django_extensions"
  },
  "language_info": {
   "codemirror_mode": {
    "name": "ipython",
    "version": 2
   },
   "file_extension": ".py",
   "mimetype": "text/x-python",
   "name": "python",
   "nbconvert_exporter": "python",
   "pygments_lexer": "ipython2",
   "version": "2.7.11"
  }
 },
 "nbformat": 4,
 "nbformat_minor": 0
}
