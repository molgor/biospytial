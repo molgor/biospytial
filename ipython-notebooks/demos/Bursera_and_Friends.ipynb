{
 "cells": [
  {
   "cell_type": "markdown",
   "metadata": {},
   "source": [
    "# Burseras and Friends\n",
    "## How´s the environment ?\n",
    "## Which are their friends ? "
   ]
  },
  {
   "cell_type": "markdown",
   "metadata": {},
   "source": [
    "In this example we will explore how to query and select a Node (Bursera, Node Type : Family) in the Tree Of Life.\n",
    "We will extract the associated Cells and explore which kind of other taxa share that space. \n",
    "Let´s start!"
   ]
  },
  {
   "cell_type": "markdown",
   "metadata": {},
   "source": [
    "![Burcera Environment](http://www.geographylists.com/mex_pv_forest.jpg \"Bursera and its environment\")\n"
   ]
  },
  {
   "cell_type": "markdown",
   "metadata": {},
   "source": [
    "### Import modules libraries and load ploting style"
   ]
  },
  {
   "cell_type": "code",
   "execution_count": 1,
   "metadata": {
    "collapsed": false
   },
   "outputs": [],
   "source": [
    "%matplotlib inline\n",
    "import sys\n",
    "sys.path.append('/apps')\n",
    "import django\n",
    "django.setup()\n",
    "from drivers.tree_builder import TreeNeo\n",
    "from drivers.graph_models import TreeNode, Order, Family, graph"
   ]
  },
  {
   "cell_type": "markdown",
   "metadata": {},
   "source": [
    "### Select the Node Bursera"
   ]
  },
  {
   "cell_type": "markdown",
   "metadata": {},
   "source": [
    "Bursera is a Family of Plants. We want to select a Node in the Tree Of Life that is of the type Family and the name starts \n",
    "with \"Burser\". The expression \"_.name=~STRING\" means that we will look into the attribute \"name\" using a regular expression \n",
    "\"=~\" followed by any number of characters \".*\""
   ]
  },
  {
   "cell_type": "code",
   "execution_count": 2,
   "metadata": {
    "collapsed": true
   },
   "outputs": [],
   "source": [
    "bursera = list(Family.select(graph).where(\"_.name=~'Burser.*'\")).pop()"
   ]
  },
  {
   "cell_type": "markdown",
   "metadata": {},
   "source": [
    "The result is a list. Given that there is only one Node of the type Family that has the name \"Burser\" we can extract\n",
    "the only element of the list using the standard method pop()."
   ]
  },
  {
   "cell_type": "code",
   "execution_count": 3,
   "metadata": {
    "collapsed": false
   },
   "outputs": [
    {
     "data": {
      "text/plain": [
       "<TreeNode type: Family id = 343770 name: Burseraceae>"
      ]
     },
     "execution_count": 3,
     "metadata": {},
     "output_type": "execute_result"
    }
   ],
   "source": [
    "bursera"
   ]
  },
  {
   "cell_type": "markdown",
   "metadata": {},
   "source": [
    "### Inspect taxonomy"
   ]
  },
  {
   "cell_type": "code",
   "execution_count": 4,
   "metadata": {
    "collapsed": false
   },
   "outputs": [
    {
     "data": {
      "text/plain": [
       "<TreeNode type: Family id = 343770 name: Burseraceae>"
      ]
     },
     "execution_count": 4,
     "metadata": {},
     "output_type": "execute_result"
    }
   ],
   "source": [
    "bursera"
   ]
  },
  {
   "cell_type": "code",
   "execution_count": 5,
   "metadata": {
    "collapsed": false
   },
   "outputs": [
    {
     "data": {
      "text/plain": [
       "<TreeNode type: Order id = 933 name: Sapindales>"
      ]
     },
     "execution_count": 5,
     "metadata": {},
     "output_type": "execute_result"
    }
   ],
   "source": [
    "bursera.getParent()"
   ]
  },
  {
   "cell_type": "code",
   "execution_count": 6,
   "metadata": {
    "collapsed": false
   },
   "outputs": [
    {
     "data": {
      "text/plain": [
       "<TreeNode type: Kingdom id = 6 name: Plantae>"
      ]
     },
     "execution_count": 6,
     "metadata": {},
     "output_type": "execute_result"
    }
   ],
   "source": [
    "bursera.getParent().getParent().getParent().getParent()"
   ]
  },
  {
   "cell_type": "markdown",
   "metadata": {},
   "source": [
    "The Tree Node is an object and has defined methods (refer to the documentation). One of this methods extract the cells in the spatial lattice that has associated Bursera occurrences. "
   ]
  },
  {
   "cell_type": "code",
   "execution_count": 7,
   "metadata": {
    "collapsed": true
   },
   "outputs": [],
   "source": [
    "cells_with_burseras = bursera.cells"
   ]
  },
  {
   "cell_type": "markdown",
   "metadata": {},
   "source": [
    "The result is a generator object. This is helpfull when the number of cells is big and surpasses the capacity of the machine\n",
    "or the analyst."
   ]
  },
  {
   "cell_type": "code",
   "execution_count": 8,
   "metadata": {
    "collapsed": false
   },
   "outputs": [
    {
     "data": {
      "text/plain": [
       "<generator object __iter__ at 0x7f13798dc9b0>"
      ]
     },
     "execution_count": 8,
     "metadata": {},
     "output_type": "execute_result"
    }
   ],
   "source": [
    "cells_with_burseras"
   ]
  },
  {
   "cell_type": "markdown",
   "metadata": {},
   "source": [
    "In this example we want to get only the first 10 cells."
   ]
  },
  {
   "cell_type": "code",
   "execution_count": 9,
   "metadata": {
    "collapsed": false
   },
   "outputs": [],
   "source": [
    "cells_with_burseras = list(cells_with_burseras)"
   ]
  },
  {
   "cell_type": "markdown",
   "metadata": {},
   "source": [
    "## *Oke Oke*!, \n",
    "Now we want to get the subtrees of Life constrainted by the geographical attribute of this cells.\n",
    "For doing this, simply get the occurrences within each cell with the method *occurrencesHere()* and use this output as the constructor argument."
   ]
  },
  {
   "cell_type": "code",
   "execution_count": 10,
   "metadata": {
    "collapsed": true
   },
   "outputs": [],
   "source": [
    "c = cells_with_burseras[0]"
   ]
  },
  {
   "cell_type": "code",
   "execution_count": 11,
   "metadata": {
    "collapsed": false
   },
   "outputs": [
    {
     "data": {
      "text/plain": [
       "[<Occurrence pk=540443>,\n",
       " <Occurrence pk=536897>,\n",
       " <Occurrence pk=538067>,\n",
       " <Occurrence pk=538060>,\n",
       " <Occurrence pk=552009>,\n",
       " <Occurrence pk=1686161>,\n",
       " <Occurrence pk=2198672>,\n",
       " <Occurrence pk=1900876>,\n",
       " <Occurrence pk=2153230>,\n",
       " <Occurrence pk=2144783>,\n",
       " <Occurrence pk=556012>,\n",
       " <Occurrence pk=553369>,\n",
       " <Occurrence pk=536899>,\n",
       " <Occurrence pk=1798523>]"
      ]
     },
     "execution_count": 11,
     "metadata": {},
     "output_type": "execute_result"
    }
   ],
   "source": [
    "c.occurrencesHere()"
   ]
  },
  {
   "cell_type": "markdown",
   "metadata": {
    "collapsed": true
   },
   "source": [
    "## Random subselection of cells\n",
    "The number of cells is very big. An option for processing is to select a random uniform set of indexes. We can achieve this with the following strategy.\n",
    "\n",
    "1. make a random sample selection\n"
   ]
  },
  {
   "cell_type": "markdown",
   "metadata": {},
   "source": [
    "### Let's create a random subset of 100 cells."
   ]
  },
  {
   "cell_type": "code",
   "execution_count": 12,
   "metadata": {
    "collapsed": true
   },
   "outputs": [],
   "source": [
    "import numpy.random as rnd"
   ]
  },
  {
   "cell_type": "code",
   "execution_count": 13,
   "metadata": {
    "collapsed": true
   },
   "outputs": [],
   "source": [
    "n = 100"
   ]
  },
  {
   "cell_type": "code",
   "execution_count": 14,
   "metadata": {
    "collapsed": true
   },
   "outputs": [],
   "source": [
    "indices = rnd.randint(0,len(cells_with_burseras),n)"
   ]
  },
  {
   "cell_type": "code",
   "execution_count": 15,
   "metadata": {
    "collapsed": true
   },
   "outputs": [],
   "source": [
    "selected_cells = [ cells_with_burseras[i] for i in indices ]"
   ]
  },
  {
   "cell_type": "markdown",
   "metadata": {},
   "source": [
    "### Get the subtrees within the selected cells"
   ]
  },
  {
   "cell_type": "markdown",
   "metadata": {},
   "source": [
    "Let's create first a Constructor function"
   ]
  },
  {
   "cell_type": "code",
   "execution_count": 16,
   "metadata": {
    "collapsed": true
   },
   "outputs": [],
   "source": [
    "ToTree = lambda cell : TreeNeo(cell.occurrencesHere())"
   ]
  },
  {
   "cell_type": "markdown",
   "metadata": {},
   "source": [
    "and map it to the selected cells"
   ]
  },
  {
   "cell_type": "code",
   "execution_count": 17,
   "metadata": {
    "collapsed": false
   },
   "outputs": [
    {
     "name": "stdout",
     "output_type": "stream",
     "text": [
      "CPU times: user 3min 40s, sys: 5.58 s, total: 3min 46s\n",
      "Wall time: 5min 4s\n"
     ]
    }
   ],
   "source": [
    "%time trees = map(ToTree,selected_cells)"
   ]
  },
  {
   "cell_type": "markdown",
   "metadata": {},
   "source": [
    "#### Uff! it took 3 minutes, but it's a lot of data"
   ]
  },
  {
   "cell_type": "code",
   "execution_count": 18,
   "metadata": {
    "collapsed": false
   },
   "outputs": [
    {
     "data": {
      "text/plain": [
       "[<LocalTree Of Life | Root: LUCA - n.count : 1056- >,\n",
       " <LocalTree Of Life | Root: LUCA - n.count : 25- >,\n",
       " <LocalTree Of Life | Root: LUCA - n.count : 33- >,\n",
       " <LocalTree Of Life | Root: LUCA - n.count : 38- >,\n",
       " <LocalTree Of Life | Root: LUCA - n.count : 74- >,\n",
       " <LocalTree Of Life | Root: LUCA - n.count : 3- >,\n",
       " <LocalTree Of Life | Root: LUCA - n.count : 54- >,\n",
       " <LocalTree Of Life | Root: LUCA - n.count : 56- >,\n",
       " <LocalTree Of Life | Root: LUCA - n.count : 1- >,\n",
       " <LocalTree Of Life | Root: LUCA - n.count : 307- >,\n",
       " <LocalTree Of Life | Root: LUCA - n.count : 2- >,\n",
       " <LocalTree Of Life | Root: LUCA - n.count : 37- >,\n",
       " <LocalTree Of Life | Root: LUCA - n.count : 376- >,\n",
       " <LocalTree Of Life | Root: LUCA - n.count : 245- >,\n",
       " <LocalTree Of Life | Root: LUCA - n.count : 9- >,\n",
       " <LocalTree Of Life | Root: LUCA - n.count : 27- >,\n",
       " <LocalTree Of Life | Root: LUCA - n.count : 438- >,\n",
       " <LocalTree Of Life | Root: LUCA - n.count : 621- >,\n",
       " <LocalTree Of Life | Root: LUCA - n.count : 2- >,\n",
       " <LocalTree Of Life | Root: LUCA - n.count : 299- >,\n",
       " <LocalTree Of Life | Root: LUCA - n.count : 241- >,\n",
       " <LocalTree Of Life | Root: LUCA - n.count : 83- >,\n",
       " <LocalTree Of Life | Root: LUCA - n.count : 11- >,\n",
       " <LocalTree Of Life | Root: LUCA - n.count : 99- >,\n",
       " <LocalTree Of Life | Root: LUCA - n.count : 14- >,\n",
       " <LocalTree Of Life | Root: LUCA - n.count : 94- >,\n",
       " <LocalTree Of Life | Root: LUCA - n.count : 115- >,\n",
       " <LocalTree Of Life | Root: LUCA - n.count : 5- >,\n",
       " <LocalTree Of Life | Root: LUCA - n.count : 50- >,\n",
       " <LocalTree Of Life | Root: LUCA - n.count : 59- >,\n",
       " <LocalTree Of Life | Root: LUCA - n.count : 15- >,\n",
       " <LocalTree Of Life | Root: LUCA - n.count : 212- >,\n",
       " <LocalTree Of Life | Root: LUCA - n.count : 61- >,\n",
       " <LocalTree Of Life | Root: LUCA - n.count : 124- >,\n",
       " <LocalTree Of Life | Root: LUCA - n.count : 112- >,\n",
       " <LocalTree Of Life | Root: LUCA - n.count : 125- >,\n",
       " <LocalTree Of Life | Root: LUCA - n.count : 315- >,\n",
       " <LocalTree Of Life | Root: LUCA - n.count : 14- >,\n",
       " <LocalTree Of Life | Root: LUCA - n.count : 4- >,\n",
       " <LocalTree Of Life | Root: LUCA - n.count : 158- >,\n",
       " <LocalTree Of Life | Root: LUCA - n.count : 252- >,\n",
       " <LocalTree Of Life | Root: LUCA - n.count : 349- >,\n",
       " <LocalTree Of Life | Root: LUCA - n.count : 43- >,\n",
       " <LocalTree Of Life | Root: LUCA - n.count : 4- >,\n",
       " <LocalTree Of Life | Root: LUCA - n.count : 14- >,\n",
       " <LocalTree Of Life | Root: LUCA - n.count : 41- >,\n",
       " <LocalTree Of Life | Root: LUCA - n.count : 3367- >,\n",
       " <LocalTree Of Life | Root: LUCA - n.count : 221- >,\n",
       " <LocalTree Of Life | Root: LUCA - n.count : 19- >,\n",
       " <LocalTree Of Life | Root: LUCA - n.count : 83- >,\n",
       " <LocalTree Of Life | Root: LUCA - n.count : 129- >,\n",
       " <LocalTree Of Life | Root: LUCA - n.count : 10- >,\n",
       " <LocalTree Of Life | Root: LUCA - n.count : 10- >,\n",
       " <LocalTree Of Life | Root: LUCA - n.count : 27- >,\n",
       " <LocalTree Of Life | Root: LUCA - n.count : 54- >,\n",
       " <LocalTree Of Life | Root: LUCA - n.count : 40- >,\n",
       " <LocalTree Of Life | Root: LUCA - n.count : 49- >,\n",
       " <LocalTree Of Life | Root: LUCA - n.count : 32- >,\n",
       " <LocalTree Of Life | Root: LUCA - n.count : 12- >,\n",
       " <LocalTree Of Life | Root: LUCA - n.count : 8- >,\n",
       " <LocalTree Of Life | Root: LUCA - n.count : 74- >,\n",
       " <LocalTree Of Life | Root: LUCA - n.count : 8- >,\n",
       " <LocalTree Of Life | Root: LUCA - n.count : 11- >,\n",
       " <LocalTree Of Life | Root: LUCA - n.count : 2052- >,\n",
       " <LocalTree Of Life | Root: LUCA - n.count : 3- >,\n",
       " <LocalTree Of Life | Root: LUCA - n.count : 1- >,\n",
       " <LocalTree Of Life | Root: LUCA - n.count : 78- >,\n",
       " <LocalTree Of Life | Root: LUCA - n.count : 133- >,\n",
       " <LocalTree Of Life | Root: LUCA - n.count : 25- >,\n",
       " <LocalTree Of Life | Root: LUCA - n.count : 10- >,\n",
       " <LocalTree Of Life | Root: LUCA - n.count : 78- >,\n",
       " <LocalTree Of Life | Root: LUCA - n.count : 385- >,\n",
       " <LocalTree Of Life | Root: LUCA - n.count : 1055- >,\n",
       " <LocalTree Of Life | Root: LUCA - n.count : 11- >,\n",
       " <LocalTree Of Life | Root: LUCA - n.count : 9- >,\n",
       " <LocalTree Of Life | Root: LUCA - n.count : 144- >,\n",
       " <LocalTree Of Life | Root: LUCA - n.count : 31- >,\n",
       " <LocalTree Of Life | Root: LUCA - n.count : 16- >,\n",
       " <LocalTree Of Life | Root: LUCA - n.count : 2420- >,\n",
       " <LocalTree Of Life | Root: LUCA - n.count : 41- >,\n",
       " <LocalTree Of Life | Root: LUCA - n.count : 28- >,\n",
       " <LocalTree Of Life | Root: LUCA - n.count : 6- >,\n",
       " <LocalTree Of Life | Root: LUCA - n.count : 307- >,\n",
       " <LocalTree Of Life | Root: LUCA - n.count : 474- >,\n",
       " <LocalTree Of Life | Root: LUCA - n.count : 20- >,\n",
       " <LocalTree Of Life | Root: LUCA - n.count : 444- >,\n",
       " <LocalTree Of Life | Root: LUCA - n.count : 20- >,\n",
       " <LocalTree Of Life | Root: LUCA - n.count : 103- >,\n",
       " <LocalTree Of Life | Root: LUCA - n.count : 142- >,\n",
       " <LocalTree Of Life | Root: LUCA - n.count : 140- >,\n",
       " <LocalTree Of Life | Root: LUCA - n.count : 2033- >,\n",
       " <LocalTree Of Life | Root: LUCA - n.count : 35- >,\n",
       " <LocalTree Of Life | Root: LUCA - n.count : 115- >,\n",
       " <LocalTree Of Life | Root: LUCA - n.count : 21- >,\n",
       " <LocalTree Of Life | Root: LUCA - n.count : 437- >,\n",
       " <LocalTree Of Life | Root: LUCA - n.count : 7960- >,\n",
       " <LocalTree Of Life | Root: LUCA - n.count : 152- >,\n",
       " <LocalTree Of Life | Root: LUCA - n.count : 37- >,\n",
       " <LocalTree Of Life | Root: LUCA - n.count : 787- >,\n",
       " <LocalTree Of Life | Root: LUCA - n.count : 245- >]"
      ]
     },
     "execution_count": 18,
     "metadata": {},
     "output_type": "execute_result"
    }
   ],
   "source": [
    "trees"
   ]
  },
  {
   "cell_type": "markdown",
   "metadata": {},
   "source": [
    "#### Get the UNION of the these 100 trees~"
   ]
  },
  {
   "cell_type": "code",
   "execution_count": 19,
   "metadata": {
    "collapsed": false
   },
   "outputs": [
    {
     "name": "stderr",
     "output_type": "stream",
     "text": [
      "INFO Merging Trees\n",
      "INFO Merging Trees\n",
      "INFO Merging Trees\n",
      "INFO Merging Trees\n",
      "INFO Merging Trees\n",
      "INFO Merging Trees\n",
      "INFO Merging Trees\n",
      "INFO Merging Trees\n",
      "INFO Merging Trees\n",
      "INFO Merging Trees\n",
      "INFO Merging Trees\n",
      "INFO Merging Trees\n",
      "INFO Merging Trees\n",
      "INFO Merging Trees\n",
      "INFO Merging Trees\n",
      "INFO Merging Trees\n",
      "INFO Merging Trees\n",
      "INFO Merging Trees\n",
      "INFO Merging Trees\n",
      "INFO Merging Trees\n",
      "INFO Merging Trees\n",
      "INFO Merging Trees\n",
      "INFO Merging Trees\n",
      "INFO Merging Trees\n",
      "INFO Merging Trees\n",
      "INFO Merging Trees\n",
      "INFO Merging Trees\n",
      "INFO Merging Trees\n",
      "INFO Merging Trees\n",
      "INFO Merging Trees\n",
      "INFO Merging Trees\n",
      "INFO Merging Trees\n",
      "INFO Merging Trees\n",
      "INFO Merging Trees\n",
      "INFO Merging Trees\n",
      "INFO Merging Trees\n",
      "INFO Merging Trees\n",
      "INFO Merging Trees\n",
      "INFO Merging Trees\n",
      "INFO Merging Trees\n",
      "INFO Merging Trees\n",
      "INFO Merging Trees\n",
      "INFO Merging Trees\n",
      "INFO Merging Trees\n",
      "INFO Merging Trees\n",
      "INFO Merging Trees\n",
      "INFO Merging Trees\n",
      "INFO Merging Trees\n",
      "INFO Merging Trees\n",
      "INFO Merging Trees\n",
      "INFO Merging Trees\n",
      "INFO Merging Trees\n",
      "INFO Merging Trees\n",
      "INFO Merging Trees\n",
      "INFO Merging Trees\n",
      "INFO Merging Trees\n",
      "INFO Merging Trees\n",
      "INFO Merging Trees\n",
      "INFO Merging Trees\n",
      "INFO Merging Trees\n",
      "INFO Merging Trees\n",
      "INFO Merging Trees\n",
      "INFO Merging Trees\n",
      "INFO Merging Trees\n",
      "INFO Merging Trees\n",
      "INFO Merging Trees\n",
      "INFO Merging Trees\n",
      "INFO Merging Trees\n",
      "INFO Merging Trees\n",
      "INFO Merging Trees\n",
      "INFO Merging Trees\n",
      "INFO Merging Trees\n",
      "INFO Merging Trees\n",
      "INFO Merging Trees\n",
      "INFO Merging Trees\n",
      "INFO Merging Trees\n",
      "INFO Merging Trees\n",
      "INFO Merging Trees\n",
      "INFO Merging Trees\n",
      "INFO Merging Trees\n",
      "INFO Merging Trees\n",
      "INFO Merging Trees\n",
      "INFO Merging Trees\n",
      "INFO Merging Trees\n",
      "INFO Merging Trees\n",
      "INFO Merging Trees\n",
      "INFO Merging Trees\n",
      "INFO Merging Trees\n",
      "INFO Merging Trees\n",
      "INFO Merging Trees\n",
      "INFO Merging Trees\n",
      "INFO Merging Trees\n",
      "INFO Merging Trees\n",
      "INFO Merging Trees\n",
      "INFO Merging Trees\n",
      "INFO Merging Trees\n",
      "INFO Merging Trees\n",
      "INFO Merging Trees\n",
      "INFO Merging Trees\n"
     ]
    }
   ],
   "source": [
    "big_tree = reduce(lambda a,b : a + b , trees)"
   ]
  },
  {
   "cell_type": "code",
   "execution_count": 20,
   "metadata": {
    "collapsed": false
   },
   "outputs": [
    {
     "data": {
      "text/plain": [
       "29822"
      ]
     },
     "execution_count": 20,
     "metadata": {},
     "output_type": "execute_result"
    }
   ],
   "source": [
    "big_tree.richness"
   ]
  },
  {
   "cell_type": "markdown",
   "metadata": {},
   "source": [
    "I told you, loads of data.\n",
    "We can explore the content of this tree accessing to the attributes that start with the suffix ''to_''"
   ]
  },
  {
   "cell_type": "code",
   "execution_count": 21,
   "metadata": {
    "collapsed": false
   },
   "outputs": [],
   "source": [
    "mushrooms = big_tree.to_Fungi"
   ]
  },
  {
   "cell_type": "markdown",
   "metadata": {},
   "source": [
    "Mushrooms is a TreeNode, i.e. not a complete TreeNeo object. To cast it (convert) to a TreeNode, and explore the families,classes, etc within it we must *plant-it* ."
   ]
  },
  {
   "cell_type": "code",
   "execution_count": 22,
   "metadata": {
    "collapsed": true
   },
   "outputs": [],
   "source": [
    "m = mushrooms.plantTreeNode()"
   ]
  },
  {
   "cell_type": "code",
   "execution_count": 23,
   "metadata": {
    "collapsed": false
   },
   "outputs": [
    {
     "data": {
      "text/plain": [
       "drivers.tree_builder.LocalTree"
      ]
     },
     "execution_count": 23,
     "metadata": {},
     "output_type": "execute_result"
    }
   ],
   "source": [
    "type(mushrooms)"
   ]
  },
  {
   "cell_type": "code",
   "execution_count": 24,
   "metadata": {
    "collapsed": false
   },
   "outputs": [
    {
     "data": {
      "text/plain": [
       "drivers.tree_builder.TreeNeo"
      ]
     },
     "execution_count": 24,
     "metadata": {},
     "output_type": "execute_result"
    }
   ],
   "source": [
    "type(m)"
   ]
  },
  {
   "cell_type": "code",
   "execution_count": 25,
   "metadata": {
    "collapsed": false
   },
   "outputs": [
    {
     "data": {
      "text/plain": [
       "[<TreeNode | Class: Agaricomycetes - n.count : 7- >,\n",
       " <TreeNode | Class: Lecanoromycetes - n.count : 18- >,\n",
       " <TreeNode | Class: Dothideomycetes - n.count : 2- >,\n",
       " <TreeNode | Class: Arthoniomycetes - n.count : 6- >,\n",
       " <TreeNode | Class: Pezizomycetes - n.count : 1- >,\n",
       " <TreeNode | Class: Sordariomycetes - n.count : 2- >]"
      ]
     },
     "execution_count": 25,
     "metadata": {},
     "output_type": "execute_result"
    }
   ],
   "source": [
    "m.classes"
   ]
  },
  {
   "cell_type": "code",
   "execution_count": 26,
   "metadata": {
    "collapsed": false
   },
   "outputs": [
    {
     "data": {
      "text/plain": [
       "<TreeNode | Kingdom: Protozoa - n.count : 6- >"
      ]
     },
     "execution_count": 26,
     "metadata": {},
     "output_type": "execute_result"
    }
   ],
   "source": [
    "big_tree.to_Protozoa"
   ]
  },
  {
   "cell_type": "code",
   "execution_count": 27,
   "metadata": {
    "collapsed": false
   },
   "outputs": [
    {
     "data": {
      "text/plain": [
       "<TreeNode | Kingdom: Plantae - n.count : 8028- >"
      ]
     },
     "execution_count": 27,
     "metadata": {},
     "output_type": "execute_result"
    }
   ],
   "source": [
    "big_tree.to_Plantae"
   ]
  },
  {
   "cell_type": "code",
   "execution_count": 28,
   "metadata": {
    "collapsed": false
   },
   "outputs": [
    {
     "data": {
      "text/plain": [
       "<TreeNode | Kingdom: Animalia - n.count : 21752- >"
      ]
     },
     "execution_count": 28,
     "metadata": {},
     "output_type": "execute_result"
    }
   ],
   "source": [
    "big_tree.to_Animalia"
   ]
  },
  {
   "cell_type": "markdown",
   "metadata": {},
   "source": [
    "### Cnidaria in the \"terrestrial\" environment ?  "
   ]
  },
  {
   "cell_type": "code",
   "execution_count": 29,
   "metadata": {
    "collapsed": false
   },
   "outputs": [],
   "source": [
    "cnidaria = big_tree.to_Animalia.to_Cnidaria"
   ]
  },
  {
   "cell_type": "markdown",
   "metadata": {},
   "source": [
    "Where is this ?"
   ]
  },
  {
   "cell_type": "code",
   "execution_count": 37,
   "metadata": {
    "collapsed": true
   },
   "outputs": [],
   "source": [
    "cnidaria_cells = cnidaria.getExactCells()"
   ]
  },
  {
   "cell_type": "code",
   "execution_count": 38,
   "metadata": {
    "collapsed": false
   },
   "outputs": [
    {
     "data": {
      "text/plain": [
       "[<Cell id=223271>, <Cell id=222137>]"
      ]
     },
     "execution_count": 38,
     "metadata": {},
     "output_type": "execute_result"
    }
   ],
   "source": [
    "cnidaria_cells"
   ]
  },
  {
   "cell_type": "code",
   "execution_count": 39,
   "metadata": {
    "collapsed": true
   },
   "outputs": [],
   "source": [
    "c1 , c2 = cnidaria_cells"
   ]
  },
  {
   "cell_type": "code",
   "execution_count": 41,
   "metadata": {
    "collapsed": false
   },
   "outputs": [
    {
     "data": {
      "text/plain": [
       "u'MULTIPOLYGON (((-110.2690634159987 24.18688980100021, -110.2200634159987 24.18688980100021, -110.2200634159987 24.13788980100021, -110.2690634159987 24.13788980100021, -110.2690634159987 24.18688980100021)))'"
      ]
     },
     "execution_count": 41,
     "metadata": {},
     "output_type": "execute_result"
    }
   ],
   "source": [
    "c1.cell"
   ]
  },
  {
   "cell_type": "markdown",
   "metadata": {},
   "source": [
    "![Cnidaria cell 1](cnidaria_cell1.png)"
   ]
  },
  {
   "cell_type": "code",
   "execution_count": 43,
   "metadata": {
    "collapsed": false
   },
   "outputs": [],
   "source": [
    "# c2.cell\n",
    "## Dont do it, name to big."
   ]
  },
  {
   "cell_type": "markdown",
   "metadata": {},
   "source": [
    "![Cnidaria cell 2](cnidaria_cell2.png)"
   ]
  },
  {
   "cell_type": "markdown",
   "metadata": {},
   "source": [
    "Close to the sea, but a little bit off the shore."
   ]
  },
  {
   "cell_type": "code",
   "execution_count": null,
   "metadata": {
    "collapsed": true
   },
   "outputs": [],
   "source": [
    "## "
   ]
  },
  {
   "cell_type": "code",
   "execution_count": 46,
   "metadata": {
    "collapsed": false
   },
   "outputs": [],
   "source": [
    "beatle = big_tree.to_Animalia.to_Arthropoda.to_Insecta.to_Coleoptera"
   ]
  },
  {
   "cell_type": "markdown",
   "metadata": {},
   "source": [
    "## How many of these have beatles ?"
   ]
  },
  {
   "cell_type": "code",
   "execution_count": 48,
   "metadata": {
    "collapsed": true
   },
   "outputs": [],
   "source": [
    "with_beatles = filter(lambda tree : tree.hasNode(beatle),trees)"
   ]
  },
  {
   "cell_type": "code",
   "execution_count": 49,
   "metadata": {
    "collapsed": false
   },
   "outputs": [
    {
     "data": {
      "text/plain": [
       "8"
      ]
     },
     "execution_count": 49,
     "metadata": {},
     "output_type": "execute_result"
    }
   ],
   "source": [
    "len(with_beatles)"
   ]
  },
  {
   "cell_type": "markdown",
   "metadata": {},
   "source": [
    "# Environmental Exploration\n",
    "Remember that the big tree is defined in the geographical space given by the selected cells, i.e. the random sample.\n",
    "We can get the environmental summary statistics of these cells with the following command."
   ]
  },
  {
   "cell_type": "code",
   "execution_count": 54,
   "metadata": {
    "collapsed": true
   },
   "outputs": [],
   "source": [
    "bursera_env = big_tree.associatedData.getEnvironmentalVariablesCells(with_std=True)"
   ]
  },
  {
   "cell_type": "code",
   "execution_count": 55,
   "metadata": {
    "collapsed": false
   },
   "outputs": [
    {
     "data": {
      "text/plain": [
       "{'MaxTemperature_mean': 14.238538843721749,\n",
       " 'MaxTemperature_std': 3.958130561502632,\n",
       " 'MeanTemperature_mean': 21.855606368563667,\n",
       " 'MeanTemperature_std': 3.1927214613012853,\n",
       " 'MinTemperature_mean': 29.470980126467968,\n",
       " 'MinTemperature_std': 2.936706588522792,\n",
       " 'Precipitation_mean': 61.102218834688294,\n",
       " 'Precipitation_std': 39.941882359382795,\n",
       " 'SolarRadiation_mean': 18363.57164634147,\n",
       " 'SolarRadiation_std': 1053.2515593672322,\n",
       " 'Vapor_mean': 1.6425022583559166,\n",
       " 'Vapor_std': 0.5581388290085026,\n",
       " 'WindSpeed_mean': 2.312020099367661,\n",
       " 'WindSpeed_std': 0.6463689624565792}"
      ]
     },
     "execution_count": 55,
     "metadata": {},
     "output_type": "execute_result"
    }
   ],
   "source": [
    "bursera_env"
   ]
  },
  {
   "cell_type": "markdown",
   "metadata": {},
   "source": [
    "### The same for point data"
   ]
  },
  {
   "cell_type": "code",
   "execution_count": 30,
   "metadata": {
    "collapsed": false
   },
   "outputs": [],
   "source": [
    "only_bursera = big_tree.to_Plantae.to_Magnoliophyta.to_Magnoliopsida.to_Sapindales.to_Burseraceae"
   ]
  },
  {
   "cell_type": "code",
   "execution_count": 31,
   "metadata": {
    "collapsed": false
   },
   "outputs": [],
   "source": [
    "pnts_env_burs = only_bursera.associatedData.getEnvironmentalVariablesPoints()"
   ]
  },
  {
   "cell_type": "code",
   "execution_count": 32,
   "metadata": {
    "collapsed": false
   },
   "outputs": [
    {
     "data": {
      "text/html": [
       "<div>\n",
       "<table border=\"1\" class=\"dataframe\">\n",
       "  <thead>\n",
       "    <tr style=\"text-align: right;\">\n",
       "      <th></th>\n",
       "      <th>MaxTemperature_mean</th>\n",
       "      <th>MaxTemperature_std</th>\n",
       "      <th>MeanTemperature_mean</th>\n",
       "      <th>MeanTemperature_std</th>\n",
       "      <th>MinTemperature_mean</th>\n",
       "      <th>MinTemperature_std</th>\n",
       "      <th>Precipitation_mean</th>\n",
       "      <th>Precipitation_std</th>\n",
       "      <th>Vapor_mean</th>\n",
       "      <th>Vapor_std</th>\n",
       "      <th>SolarRadiation_mean</th>\n",
       "      <th>SolarRadiation_std</th>\n",
       "      <th>WindSpeed_mean</th>\n",
       "      <th>WindSpeed_std</th>\n",
       "    </tr>\n",
       "  </thead>\n",
       "  <tbody>\n",
       "    <tr>\n",
       "      <th>0</th>\n",
       "      <td>NaN</td>\n",
       "      <td>0.000000</td>\n",
       "      <td>NaN</td>\n",
       "      <td>0.000000</td>\n",
       "      <td>NaN</td>\n",
       "      <td>0.000000</td>\n",
       "      <td>NaN</td>\n",
       "      <td>0.000000</td>\n",
       "      <td>NaN</td>\n",
       "      <td>0.000000</td>\n",
       "      <td>NaN</td>\n",
       "      <td>0.000000</td>\n",
       "      <td>NaN</td>\n",
       "      <td>0.000000</td>\n",
       "    </tr>\n",
       "    <tr>\n",
       "      <th>1</th>\n",
       "      <td>15.250000</td>\n",
       "      <td>4.044029</td>\n",
       "      <td>22.666667</td>\n",
       "      <td>3.836955</td>\n",
       "      <td>30.083333</td>\n",
       "      <td>3.639101</td>\n",
       "      <td>14.916667</td>\n",
       "      <td>17.665684</td>\n",
       "      <td>1.916667</td>\n",
       "      <td>0.640095</td>\n",
       "      <td>18959.250000</td>\n",
       "      <td>3270.691877</td>\n",
       "      <td>3.250000</td>\n",
       "      <td>0.433013</td>\n",
       "    </tr>\n",
       "    <tr>\n",
       "      <th>2</th>\n",
       "      <td>15.250000</td>\n",
       "      <td>4.044029</td>\n",
       "      <td>22.666667</td>\n",
       "      <td>3.836955</td>\n",
       "      <td>30.083333</td>\n",
       "      <td>3.639101</td>\n",
       "      <td>14.916667</td>\n",
       "      <td>17.665684</td>\n",
       "      <td>1.916667</td>\n",
       "      <td>0.640095</td>\n",
       "      <td>18959.250000</td>\n",
       "      <td>3270.691877</td>\n",
       "      <td>3.250000</td>\n",
       "      <td>0.433013</td>\n",
       "    </tr>\n",
       "    <tr>\n",
       "      <th>3</th>\n",
       "      <td>15.250000</td>\n",
       "      <td>4.044029</td>\n",
       "      <td>22.666667</td>\n",
       "      <td>3.836955</td>\n",
       "      <td>30.083333</td>\n",
       "      <td>3.639101</td>\n",
       "      <td>14.916667</td>\n",
       "      <td>17.665684</td>\n",
       "      <td>1.916667</td>\n",
       "      <td>0.640095</td>\n",
       "      <td>18959.250000</td>\n",
       "      <td>3270.691877</td>\n",
       "      <td>3.250000</td>\n",
       "      <td>0.433013</td>\n",
       "    </tr>\n",
       "    <tr>\n",
       "      <th>4</th>\n",
       "      <td>15.250000</td>\n",
       "      <td>4.044029</td>\n",
       "      <td>22.666667</td>\n",
       "      <td>3.836955</td>\n",
       "      <td>30.083333</td>\n",
       "      <td>3.639101</td>\n",
       "      <td>14.916667</td>\n",
       "      <td>17.665684</td>\n",
       "      <td>1.916667</td>\n",
       "      <td>0.640095</td>\n",
       "      <td>18959.250000</td>\n",
       "      <td>3270.691877</td>\n",
       "      <td>3.250000</td>\n",
       "      <td>0.433013</td>\n",
       "    </tr>\n",
       "    <tr>\n",
       "      <th>5</th>\n",
       "      <td>15.250000</td>\n",
       "      <td>4.044029</td>\n",
       "      <td>22.666667</td>\n",
       "      <td>3.836955</td>\n",
       "      <td>30.083333</td>\n",
       "      <td>3.639101</td>\n",
       "      <td>14.916667</td>\n",
       "      <td>17.665684</td>\n",
       "      <td>1.916667</td>\n",
       "      <td>0.640095</td>\n",
       "      <td>18959.250000</td>\n",
       "      <td>3270.691877</td>\n",
       "      <td>3.250000</td>\n",
       "      <td>0.433013</td>\n",
       "    </tr>\n",
       "    <tr>\n",
       "      <th>6</th>\n",
       "      <td>15.250000</td>\n",
       "      <td>4.044029</td>\n",
       "      <td>22.666667</td>\n",
       "      <td>3.836955</td>\n",
       "      <td>30.083333</td>\n",
       "      <td>3.639101</td>\n",
       "      <td>14.916667</td>\n",
       "      <td>17.665684</td>\n",
       "      <td>1.916667</td>\n",
       "      <td>0.640095</td>\n",
       "      <td>18959.250000</td>\n",
       "      <td>3270.691877</td>\n",
       "      <td>3.250000</td>\n",
       "      <td>0.433013</td>\n",
       "    </tr>\n",
       "    <tr>\n",
       "      <th>7</th>\n",
       "      <td>14.500000</td>\n",
       "      <td>5.751811</td>\n",
       "      <td>20.666667</td>\n",
       "      <td>5.749396</td>\n",
       "      <td>27.000000</td>\n",
       "      <td>5.522681</td>\n",
       "      <td>14.083333</td>\n",
       "      <td>11.324445</td>\n",
       "      <td>1.500000</td>\n",
       "      <td>0.645497</td>\n",
       "      <td>18710.333333</td>\n",
       "      <td>4306.416614</td>\n",
       "      <td>2.833333</td>\n",
       "      <td>0.372678</td>\n",
       "    </tr>\n",
       "    <tr>\n",
       "      <th>8</th>\n",
       "      <td>17.000000</td>\n",
       "      <td>5.700877</td>\n",
       "      <td>24.416667</td>\n",
       "      <td>5.765679</td>\n",
       "      <td>31.416667</td>\n",
       "      <td>5.765679</td>\n",
       "      <td>18.500000</td>\n",
       "      <td>20.434856</td>\n",
       "      <td>1.666667</td>\n",
       "      <td>0.849837</td>\n",
       "      <td>18372.083333</td>\n",
       "      <td>4116.958089</td>\n",
       "      <td>2.666667</td>\n",
       "      <td>0.471405</td>\n",
       "    </tr>\n",
       "    <tr>\n",
       "      <th>9</th>\n",
       "      <td>17.000000</td>\n",
       "      <td>5.700877</td>\n",
       "      <td>24.416667</td>\n",
       "      <td>5.765679</td>\n",
       "      <td>31.416667</td>\n",
       "      <td>5.765679</td>\n",
       "      <td>18.500000</td>\n",
       "      <td>20.434856</td>\n",
       "      <td>1.666667</td>\n",
       "      <td>0.849837</td>\n",
       "      <td>18372.083333</td>\n",
       "      <td>4116.958089</td>\n",
       "      <td>2.666667</td>\n",
       "      <td>0.471405</td>\n",
       "    </tr>\n",
       "    <tr>\n",
       "      <th>10</th>\n",
       "      <td>NaN</td>\n",
       "      <td>0.000000</td>\n",
       "      <td>NaN</td>\n",
       "      <td>0.000000</td>\n",
       "      <td>NaN</td>\n",
       "      <td>0.000000</td>\n",
       "      <td>NaN</td>\n",
       "      <td>0.000000</td>\n",
       "      <td>NaN</td>\n",
       "      <td>0.000000</td>\n",
       "      <td>NaN</td>\n",
       "      <td>0.000000</td>\n",
       "      <td>NaN</td>\n",
       "      <td>0.000000</td>\n",
       "    </tr>\n",
       "    <tr>\n",
       "      <th>11</th>\n",
       "      <td>4.166667</td>\n",
       "      <td>5.654398</td>\n",
       "      <td>12.833333</td>\n",
       "      <td>5.079917</td>\n",
       "      <td>21.416667</td>\n",
       "      <td>4.462031</td>\n",
       "      <td>31.250000</td>\n",
       "      <td>18.628495</td>\n",
       "      <td>1.000000</td>\n",
       "      <td>0.000000</td>\n",
       "      <td>18985.916667</td>\n",
       "      <td>5106.783437</td>\n",
       "      <td>3.000000</td>\n",
       "      <td>0.000000</td>\n",
       "    </tr>\n",
       "    <tr>\n",
       "      <th>12</th>\n",
       "      <td>4.000000</td>\n",
       "      <td>5.656854</td>\n",
       "      <td>12.750000</td>\n",
       "      <td>4.951852</td>\n",
       "      <td>21.333333</td>\n",
       "      <td>4.440971</td>\n",
       "      <td>31.583333</td>\n",
       "      <td>18.993237</td>\n",
       "      <td>1.000000</td>\n",
       "      <td>0.000000</td>\n",
       "      <td>18972.166667</td>\n",
       "      <td>5099.012696</td>\n",
       "      <td>3.000000</td>\n",
       "      <td>0.000000</td>\n",
       "    </tr>\n",
       "    <tr>\n",
       "      <th>13</th>\n",
       "      <td>11.833333</td>\n",
       "      <td>2.793842</td>\n",
       "      <td>19.833333</td>\n",
       "      <td>2.671870</td>\n",
       "      <td>27.416667</td>\n",
       "      <td>2.782635</td>\n",
       "      <td>50.666667</td>\n",
       "      <td>51.848069</td>\n",
       "      <td>1.250000</td>\n",
       "      <td>0.433013</td>\n",
       "      <td>18230.416667</td>\n",
       "      <td>2326.845449</td>\n",
       "      <td>2.000000</td>\n",
       "      <td>0.000000</td>\n",
       "    </tr>\n",
       "    <tr>\n",
       "      <th>14</th>\n",
       "      <td>11.750000</td>\n",
       "      <td>2.861381</td>\n",
       "      <td>19.666667</td>\n",
       "      <td>2.687419</td>\n",
       "      <td>27.416667</td>\n",
       "      <td>2.782635</td>\n",
       "      <td>51.333333</td>\n",
       "      <td>51.396066</td>\n",
       "      <td>1.250000</td>\n",
       "      <td>0.433013</td>\n",
       "      <td>18086.666667</td>\n",
       "      <td>2282.333650</td>\n",
       "      <td>2.000000</td>\n",
       "      <td>0.000000</td>\n",
       "    </tr>\n",
       "    <tr>\n",
       "      <th>15</th>\n",
       "      <td>11.750000</td>\n",
       "      <td>2.861381</td>\n",
       "      <td>19.666667</td>\n",
       "      <td>2.687419</td>\n",
       "      <td>27.416667</td>\n",
       "      <td>2.782635</td>\n",
       "      <td>51.333333</td>\n",
       "      <td>51.396066</td>\n",
       "      <td>1.250000</td>\n",
       "      <td>0.433013</td>\n",
       "      <td>18086.666667</td>\n",
       "      <td>2282.333650</td>\n",
       "      <td>2.000000</td>\n",
       "      <td>0.000000</td>\n",
       "    </tr>\n",
       "    <tr>\n",
       "      <th>16</th>\n",
       "      <td>11.750000</td>\n",
       "      <td>2.861381</td>\n",
       "      <td>19.666667</td>\n",
       "      <td>2.687419</td>\n",
       "      <td>27.416667</td>\n",
       "      <td>2.782635</td>\n",
       "      <td>51.333333</td>\n",
       "      <td>51.396066</td>\n",
       "      <td>1.250000</td>\n",
       "      <td>0.433013</td>\n",
       "      <td>18086.666667</td>\n",
       "      <td>2282.333650</td>\n",
       "      <td>2.000000</td>\n",
       "      <td>0.000000</td>\n",
       "    </tr>\n",
       "    <tr>\n",
       "      <th>17</th>\n",
       "      <td>15.750000</td>\n",
       "      <td>4.692636</td>\n",
       "      <td>24.750000</td>\n",
       "      <td>4.674844</td>\n",
       "      <td>34.000000</td>\n",
       "      <td>4.881940</td>\n",
       "      <td>58.916667</td>\n",
       "      <td>64.759116</td>\n",
       "      <td>1.500000</td>\n",
       "      <td>0.645497</td>\n",
       "      <td>18351.000000</td>\n",
       "      <td>4006.159632</td>\n",
       "      <td>2.000000</td>\n",
       "      <td>0.000000</td>\n",
       "    </tr>\n",
       "    <tr>\n",
       "      <th>18</th>\n",
       "      <td>15.750000</td>\n",
       "      <td>4.692636</td>\n",
       "      <td>24.750000</td>\n",
       "      <td>4.674844</td>\n",
       "      <td>34.000000</td>\n",
       "      <td>4.881940</td>\n",
       "      <td>58.916667</td>\n",
       "      <td>64.759116</td>\n",
       "      <td>1.500000</td>\n",
       "      <td>0.645497</td>\n",
       "      <td>18351.000000</td>\n",
       "      <td>4006.159632</td>\n",
       "      <td>2.000000</td>\n",
       "      <td>0.000000</td>\n",
       "    </tr>\n",
       "    <tr>\n",
       "      <th>19</th>\n",
       "      <td>9.500000</td>\n",
       "      <td>2.101587</td>\n",
       "      <td>17.083333</td>\n",
       "      <td>1.977302</td>\n",
       "      <td>24.833333</td>\n",
       "      <td>2.192158</td>\n",
       "      <td>87.750000</td>\n",
       "      <td>74.301329</td>\n",
       "      <td>1.333333</td>\n",
       "      <td>0.471405</td>\n",
       "      <td>18542.083333</td>\n",
       "      <td>2308.061071</td>\n",
       "      <td>2.000000</td>\n",
       "      <td>0.000000</td>\n",
       "    </tr>\n",
       "    <tr>\n",
       "      <th>20</th>\n",
       "      <td>12.166667</td>\n",
       "      <td>2.763854</td>\n",
       "      <td>20.166667</td>\n",
       "      <td>2.733537</td>\n",
       "      <td>28.166667</td>\n",
       "      <td>2.608746</td>\n",
       "      <td>66.500000</td>\n",
       "      <td>75.710523</td>\n",
       "      <td>1.333333</td>\n",
       "      <td>0.471405</td>\n",
       "      <td>18416.083333</td>\n",
       "      <td>2332.124584</td>\n",
       "      <td>1.916667</td>\n",
       "      <td>0.276385</td>\n",
       "    </tr>\n",
       "    <tr>\n",
       "      <th>21</th>\n",
       "      <td>12.083333</td>\n",
       "      <td>3.012705</td>\n",
       "      <td>20.750000</td>\n",
       "      <td>2.742414</td>\n",
       "      <td>29.333333</td>\n",
       "      <td>2.778889</td>\n",
       "      <td>67.333333</td>\n",
       "      <td>77.787460</td>\n",
       "      <td>1.333333</td>\n",
       "      <td>0.471405</td>\n",
       "      <td>18468.166667</td>\n",
       "      <td>2555.080717</td>\n",
       "      <td>1.833333</td>\n",
       "      <td>0.372678</td>\n",
       "    </tr>\n",
       "    <tr>\n",
       "      <th>22</th>\n",
       "      <td>12.000000</td>\n",
       "      <td>3.109126</td>\n",
       "      <td>20.583333</td>\n",
       "      <td>2.498611</td>\n",
       "      <td>29.250000</td>\n",
       "      <td>2.861381</td>\n",
       "      <td>68.083333</td>\n",
       "      <td>78.696101</td>\n",
       "      <td>1.333333</td>\n",
       "      <td>0.471405</td>\n",
       "      <td>18485.083333</td>\n",
       "      <td>2567.769313</td>\n",
       "      <td>1.833333</td>\n",
       "      <td>0.372678</td>\n",
       "    </tr>\n",
       "    <tr>\n",
       "      <th>23</th>\n",
       "      <td>12.083333</td>\n",
       "      <td>3.012705</td>\n",
       "      <td>20.750000</td>\n",
       "      <td>2.742414</td>\n",
       "      <td>29.333333</td>\n",
       "      <td>2.778889</td>\n",
       "      <td>67.333333</td>\n",
       "      <td>77.787460</td>\n",
       "      <td>1.333333</td>\n",
       "      <td>0.471405</td>\n",
       "      <td>18468.166667</td>\n",
       "      <td>2555.080717</td>\n",
       "      <td>1.833333</td>\n",
       "      <td>0.372678</td>\n",
       "    </tr>\n",
       "    <tr>\n",
       "      <th>24</th>\n",
       "      <td>15.250000</td>\n",
       "      <td>4.044029</td>\n",
       "      <td>22.666667</td>\n",
       "      <td>3.836955</td>\n",
       "      <td>30.083333</td>\n",
       "      <td>3.639101</td>\n",
       "      <td>14.916667</td>\n",
       "      <td>17.665684</td>\n",
       "      <td>1.916667</td>\n",
       "      <td>0.640095</td>\n",
       "      <td>18959.250000</td>\n",
       "      <td>3270.691877</td>\n",
       "      <td>3.250000</td>\n",
       "      <td>0.433013</td>\n",
       "    </tr>\n",
       "    <tr>\n",
       "      <th>25</th>\n",
       "      <td>15.250000</td>\n",
       "      <td>4.044029</td>\n",
       "      <td>22.666667</td>\n",
       "      <td>3.836955</td>\n",
       "      <td>30.083333</td>\n",
       "      <td>3.639101</td>\n",
       "      <td>14.916667</td>\n",
       "      <td>17.665684</td>\n",
       "      <td>1.916667</td>\n",
       "      <td>0.640095</td>\n",
       "      <td>18959.250000</td>\n",
       "      <td>3270.691877</td>\n",
       "      <td>3.250000</td>\n",
       "      <td>0.433013</td>\n",
       "    </tr>\n",
       "    <tr>\n",
       "      <th>26</th>\n",
       "      <td>13.833333</td>\n",
       "      <td>4.879094</td>\n",
       "      <td>22.000000</td>\n",
       "      <td>4.654747</td>\n",
       "      <td>30.333333</td>\n",
       "      <td>4.307616</td>\n",
       "      <td>23.500000</td>\n",
       "      <td>30.772011</td>\n",
       "      <td>1.416667</td>\n",
       "      <td>0.493007</td>\n",
       "      <td>18963.666667</td>\n",
       "      <td>3593.370524</td>\n",
       "      <td>3.000000</td>\n",
       "      <td>0.000000</td>\n",
       "    </tr>\n",
       "    <tr>\n",
       "      <th>27</th>\n",
       "      <td>15.416667</td>\n",
       "      <td>5.057310</td>\n",
       "      <td>22.916667</td>\n",
       "      <td>4.462031</td>\n",
       "      <td>30.500000</td>\n",
       "      <td>4.252450</td>\n",
       "      <td>21.666667</td>\n",
       "      <td>27.713815</td>\n",
       "      <td>1.750000</td>\n",
       "      <td>0.721688</td>\n",
       "      <td>18799.583333</td>\n",
       "      <td>3508.557454</td>\n",
       "      <td>3.166667</td>\n",
       "      <td>0.372678</td>\n",
       "    </tr>\n",
       "    <tr>\n",
       "      <th>28</th>\n",
       "      <td>13.916667</td>\n",
       "      <td>5.692954</td>\n",
       "      <td>20.250000</td>\n",
       "      <td>5.554653</td>\n",
       "      <td>26.750000</td>\n",
       "      <td>5.340490</td>\n",
       "      <td>17.083333</td>\n",
       "      <td>13.567475</td>\n",
       "      <td>1.416667</td>\n",
       "      <td>0.493007</td>\n",
       "      <td>18710.916667</td>\n",
       "      <td>4286.266041</td>\n",
       "      <td>2.750000</td>\n",
       "      <td>0.433013</td>\n",
       "    </tr>\n",
       "    <tr>\n",
       "      <th>29</th>\n",
       "      <td>12.750000</td>\n",
       "      <td>2.520747</td>\n",
       "      <td>19.916667</td>\n",
       "      <td>2.531743</td>\n",
       "      <td>26.833333</td>\n",
       "      <td>2.477678</td>\n",
       "      <td>32.666667</td>\n",
       "      <td>25.613581</td>\n",
       "      <td>1.333333</td>\n",
       "      <td>0.471405</td>\n",
       "      <td>19182.166667</td>\n",
       "      <td>2457.161534</td>\n",
       "      <td>2.000000</td>\n",
       "      <td>0.000000</td>\n",
       "    </tr>\n",
       "    <tr>\n",
       "      <th>...</th>\n",
       "      <td>...</td>\n",
       "      <td>...</td>\n",
       "      <td>...</td>\n",
       "      <td>...</td>\n",
       "      <td>...</td>\n",
       "      <td>...</td>\n",
       "      <td>...</td>\n",
       "      <td>...</td>\n",
       "      <td>...</td>\n",
       "      <td>...</td>\n",
       "      <td>...</td>\n",
       "      <td>...</td>\n",
       "      <td>...</td>\n",
       "      <td>...</td>\n",
       "    </tr>\n",
       "    <tr>\n",
       "      <th>212</th>\n",
       "      <td>12.750000</td>\n",
       "      <td>4.342138</td>\n",
       "      <td>22.083333</td>\n",
       "      <td>4.443316</td>\n",
       "      <td>31.750000</td>\n",
       "      <td>4.342138</td>\n",
       "      <td>14.000000</td>\n",
       "      <td>15.027752</td>\n",
       "      <td>1.750000</td>\n",
       "      <td>0.721688</td>\n",
       "      <td>18928.333333</td>\n",
       "      <td>3472.026578</td>\n",
       "      <td>2.000000</td>\n",
       "      <td>0.000000</td>\n",
       "    </tr>\n",
       "    <tr>\n",
       "      <th>213</th>\n",
       "      <td>11.583333</td>\n",
       "      <td>6.116349</td>\n",
       "      <td>22.500000</td>\n",
       "      <td>6.224950</td>\n",
       "      <td>33.083333</td>\n",
       "      <td>6.277716</td>\n",
       "      <td>37.583333</td>\n",
       "      <td>41.542064</td>\n",
       "      <td>1.333333</td>\n",
       "      <td>0.471405</td>\n",
       "      <td>18524.333333</td>\n",
       "      <td>4492.282741</td>\n",
       "      <td>2.333333</td>\n",
       "      <td>0.471405</td>\n",
       "    </tr>\n",
       "    <tr>\n",
       "      <th>214</th>\n",
       "      <td>11.583333</td>\n",
       "      <td>6.116349</td>\n",
       "      <td>22.500000</td>\n",
       "      <td>6.224950</td>\n",
       "      <td>33.083333</td>\n",
       "      <td>6.277716</td>\n",
       "      <td>37.583333</td>\n",
       "      <td>41.542064</td>\n",
       "      <td>1.333333</td>\n",
       "      <td>0.471405</td>\n",
       "      <td>18524.333333</td>\n",
       "      <td>4492.282741</td>\n",
       "      <td>2.333333</td>\n",
       "      <td>0.471405</td>\n",
       "    </tr>\n",
       "    <tr>\n",
       "      <th>215</th>\n",
       "      <td>16.583333</td>\n",
       "      <td>5.314420</td>\n",
       "      <td>24.083333</td>\n",
       "      <td>5.073761</td>\n",
       "      <td>31.166667</td>\n",
       "      <td>5.047001</td>\n",
       "      <td>14.000000</td>\n",
       "      <td>16.227549</td>\n",
       "      <td>1.666667</td>\n",
       "      <td>0.745356</td>\n",
       "      <td>18813.833333</td>\n",
       "      <td>3770.587638</td>\n",
       "      <td>2.750000</td>\n",
       "      <td>0.433013</td>\n",
       "    </tr>\n",
       "    <tr>\n",
       "      <th>216</th>\n",
       "      <td>17.166667</td>\n",
       "      <td>3.760171</td>\n",
       "      <td>24.333333</td>\n",
       "      <td>3.836955</td>\n",
       "      <td>31.166667</td>\n",
       "      <td>4.179979</td>\n",
       "      <td>57.166667</td>\n",
       "      <td>65.753116</td>\n",
       "      <td>1.833333</td>\n",
       "      <td>0.799305</td>\n",
       "      <td>17971.000000</td>\n",
       "      <td>3355.207197</td>\n",
       "      <td>2.500000</td>\n",
       "      <td>0.500000</td>\n",
       "    </tr>\n",
       "    <tr>\n",
       "      <th>217</th>\n",
       "      <td>17.083333</td>\n",
       "      <td>5.765679</td>\n",
       "      <td>24.416667</td>\n",
       "      <td>5.559651</td>\n",
       "      <td>31.500000</td>\n",
       "      <td>5.469613</td>\n",
       "      <td>12.333333</td>\n",
       "      <td>12.657892</td>\n",
       "      <td>1.833333</td>\n",
       "      <td>0.799305</td>\n",
       "      <td>18877.833333</td>\n",
       "      <td>3868.704754</td>\n",
       "      <td>3.000000</td>\n",
       "      <td>0.000000</td>\n",
       "    </tr>\n",
       "    <tr>\n",
       "      <th>218</th>\n",
       "      <td>14.250000</td>\n",
       "      <td>4.303584</td>\n",
       "      <td>21.166667</td>\n",
       "      <td>4.258977</td>\n",
       "      <td>28.250000</td>\n",
       "      <td>4.145781</td>\n",
       "      <td>34.166667</td>\n",
       "      <td>47.001478</td>\n",
       "      <td>1.500000</td>\n",
       "      <td>0.500000</td>\n",
       "      <td>18878.666667</td>\n",
       "      <td>3312.727334</td>\n",
       "      <td>2.916667</td>\n",
       "      <td>0.276385</td>\n",
       "    </tr>\n",
       "    <tr>\n",
       "      <th>219</th>\n",
       "      <td>15.666667</td>\n",
       "      <td>5.038739</td>\n",
       "      <td>23.583333</td>\n",
       "      <td>4.386691</td>\n",
       "      <td>31.583333</td>\n",
       "      <td>3.967752</td>\n",
       "      <td>17.916667</td>\n",
       "      <td>22.921818</td>\n",
       "      <td>1.833333</td>\n",
       "      <td>0.687184</td>\n",
       "      <td>18802.583333</td>\n",
       "      <td>3321.795058</td>\n",
       "      <td>3.333333</td>\n",
       "      <td>0.471405</td>\n",
       "    </tr>\n",
       "    <tr>\n",
       "      <th>220</th>\n",
       "      <td>15.666667</td>\n",
       "      <td>5.038739</td>\n",
       "      <td>23.583333</td>\n",
       "      <td>4.386691</td>\n",
       "      <td>31.583333</td>\n",
       "      <td>3.967752</td>\n",
       "      <td>17.916667</td>\n",
       "      <td>22.921818</td>\n",
       "      <td>1.833333</td>\n",
       "      <td>0.687184</td>\n",
       "      <td>18802.583333</td>\n",
       "      <td>3321.795058</td>\n",
       "      <td>3.333333</td>\n",
       "      <td>0.471405</td>\n",
       "    </tr>\n",
       "    <tr>\n",
       "      <th>221</th>\n",
       "      <td>15.666667</td>\n",
       "      <td>5.038739</td>\n",
       "      <td>23.583333</td>\n",
       "      <td>4.386691</td>\n",
       "      <td>31.583333</td>\n",
       "      <td>3.967752</td>\n",
       "      <td>17.916667</td>\n",
       "      <td>22.921818</td>\n",
       "      <td>1.833333</td>\n",
       "      <td>0.687184</td>\n",
       "      <td>18802.583333</td>\n",
       "      <td>3321.795058</td>\n",
       "      <td>3.333333</td>\n",
       "      <td>0.471405</td>\n",
       "    </tr>\n",
       "    <tr>\n",
       "      <th>222</th>\n",
       "      <td>15.666667</td>\n",
       "      <td>5.038739</td>\n",
       "      <td>23.583333</td>\n",
       "      <td>4.386691</td>\n",
       "      <td>31.583333</td>\n",
       "      <td>3.967752</td>\n",
       "      <td>17.916667</td>\n",
       "      <td>22.921818</td>\n",
       "      <td>1.833333</td>\n",
       "      <td>0.687184</td>\n",
       "      <td>18802.583333</td>\n",
       "      <td>3321.795058</td>\n",
       "      <td>3.333333</td>\n",
       "      <td>0.471405</td>\n",
       "    </tr>\n",
       "    <tr>\n",
       "      <th>223</th>\n",
       "      <td>15.666667</td>\n",
       "      <td>5.038739</td>\n",
       "      <td>23.583333</td>\n",
       "      <td>4.386691</td>\n",
       "      <td>31.583333</td>\n",
       "      <td>3.967752</td>\n",
       "      <td>17.916667</td>\n",
       "      <td>22.921818</td>\n",
       "      <td>1.833333</td>\n",
       "      <td>0.687184</td>\n",
       "      <td>18802.583333</td>\n",
       "      <td>3321.795058</td>\n",
       "      <td>3.333333</td>\n",
       "      <td>0.471405</td>\n",
       "    </tr>\n",
       "    <tr>\n",
       "      <th>224</th>\n",
       "      <td>15.666667</td>\n",
       "      <td>5.038739</td>\n",
       "      <td>23.583333</td>\n",
       "      <td>4.386691</td>\n",
       "      <td>31.583333</td>\n",
       "      <td>3.967752</td>\n",
       "      <td>17.916667</td>\n",
       "      <td>22.921818</td>\n",
       "      <td>1.833333</td>\n",
       "      <td>0.687184</td>\n",
       "      <td>18802.583333</td>\n",
       "      <td>3321.795058</td>\n",
       "      <td>3.333333</td>\n",
       "      <td>0.471405</td>\n",
       "    </tr>\n",
       "    <tr>\n",
       "      <th>225</th>\n",
       "      <td>15.666667</td>\n",
       "      <td>5.038739</td>\n",
       "      <td>23.583333</td>\n",
       "      <td>4.386691</td>\n",
       "      <td>31.583333</td>\n",
       "      <td>3.967752</td>\n",
       "      <td>17.916667</td>\n",
       "      <td>22.921818</td>\n",
       "      <td>1.833333</td>\n",
       "      <td>0.687184</td>\n",
       "      <td>18802.583333</td>\n",
       "      <td>3321.795058</td>\n",
       "      <td>3.333333</td>\n",
       "      <td>0.471405</td>\n",
       "    </tr>\n",
       "    <tr>\n",
       "      <th>226</th>\n",
       "      <td>15.666667</td>\n",
       "      <td>5.038739</td>\n",
       "      <td>23.583333</td>\n",
       "      <td>4.386691</td>\n",
       "      <td>31.583333</td>\n",
       "      <td>3.967752</td>\n",
       "      <td>17.916667</td>\n",
       "      <td>22.921818</td>\n",
       "      <td>1.833333</td>\n",
       "      <td>0.687184</td>\n",
       "      <td>18802.583333</td>\n",
       "      <td>3321.795058</td>\n",
       "      <td>3.333333</td>\n",
       "      <td>0.471405</td>\n",
       "    </tr>\n",
       "    <tr>\n",
       "      <th>227</th>\n",
       "      <td>15.666667</td>\n",
       "      <td>5.038739</td>\n",
       "      <td>23.583333</td>\n",
       "      <td>4.386691</td>\n",
       "      <td>31.583333</td>\n",
       "      <td>3.967752</td>\n",
       "      <td>17.916667</td>\n",
       "      <td>22.921818</td>\n",
       "      <td>1.833333</td>\n",
       "      <td>0.687184</td>\n",
       "      <td>18802.583333</td>\n",
       "      <td>3321.795058</td>\n",
       "      <td>3.333333</td>\n",
       "      <td>0.471405</td>\n",
       "    </tr>\n",
       "    <tr>\n",
       "      <th>228</th>\n",
       "      <td>15.666667</td>\n",
       "      <td>5.038739</td>\n",
       "      <td>23.583333</td>\n",
       "      <td>4.386691</td>\n",
       "      <td>31.583333</td>\n",
       "      <td>3.967752</td>\n",
       "      <td>17.916667</td>\n",
       "      <td>22.921818</td>\n",
       "      <td>1.833333</td>\n",
       "      <td>0.687184</td>\n",
       "      <td>18802.583333</td>\n",
       "      <td>3321.795058</td>\n",
       "      <td>3.333333</td>\n",
       "      <td>0.471405</td>\n",
       "    </tr>\n",
       "    <tr>\n",
       "      <th>229</th>\n",
       "      <td>15.666667</td>\n",
       "      <td>5.038739</td>\n",
       "      <td>23.583333</td>\n",
       "      <td>4.386691</td>\n",
       "      <td>31.583333</td>\n",
       "      <td>3.967752</td>\n",
       "      <td>17.916667</td>\n",
       "      <td>22.921818</td>\n",
       "      <td>1.833333</td>\n",
       "      <td>0.687184</td>\n",
       "      <td>18802.583333</td>\n",
       "      <td>3321.795058</td>\n",
       "      <td>3.333333</td>\n",
       "      <td>0.471405</td>\n",
       "    </tr>\n",
       "    <tr>\n",
       "      <th>230</th>\n",
       "      <td>15.666667</td>\n",
       "      <td>5.038739</td>\n",
       "      <td>23.583333</td>\n",
       "      <td>4.386691</td>\n",
       "      <td>31.583333</td>\n",
       "      <td>3.967752</td>\n",
       "      <td>17.916667</td>\n",
       "      <td>22.921818</td>\n",
       "      <td>1.833333</td>\n",
       "      <td>0.687184</td>\n",
       "      <td>18802.583333</td>\n",
       "      <td>3321.795058</td>\n",
       "      <td>3.333333</td>\n",
       "      <td>0.471405</td>\n",
       "    </tr>\n",
       "    <tr>\n",
       "      <th>231</th>\n",
       "      <td>11.916667</td>\n",
       "      <td>2.752524</td>\n",
       "      <td>20.166667</td>\n",
       "      <td>2.511087</td>\n",
       "      <td>28.333333</td>\n",
       "      <td>2.592725</td>\n",
       "      <td>76.916667</td>\n",
       "      <td>88.507493</td>\n",
       "      <td>1.333333</td>\n",
       "      <td>0.471405</td>\n",
       "      <td>18250.416667</td>\n",
       "      <td>2384.546514</td>\n",
       "      <td>1.833333</td>\n",
       "      <td>0.372678</td>\n",
       "    </tr>\n",
       "    <tr>\n",
       "      <th>232</th>\n",
       "      <td>16.750000</td>\n",
       "      <td>3.003470</td>\n",
       "      <td>25.666667</td>\n",
       "      <td>2.981424</td>\n",
       "      <td>34.666667</td>\n",
       "      <td>2.981424</td>\n",
       "      <td>72.000000</td>\n",
       "      <td>85.921476</td>\n",
       "      <td>1.583333</td>\n",
       "      <td>0.493007</td>\n",
       "      <td>18551.250000</td>\n",
       "      <td>2605.372562</td>\n",
       "      <td>1.333333</td>\n",
       "      <td>0.471405</td>\n",
       "    </tr>\n",
       "    <tr>\n",
       "      <th>233</th>\n",
       "      <td>16.750000</td>\n",
       "      <td>3.003470</td>\n",
       "      <td>25.666667</td>\n",
       "      <td>2.981424</td>\n",
       "      <td>34.666667</td>\n",
       "      <td>2.981424</td>\n",
       "      <td>72.000000</td>\n",
       "      <td>85.921476</td>\n",
       "      <td>1.583333</td>\n",
       "      <td>0.493007</td>\n",
       "      <td>18551.250000</td>\n",
       "      <td>2605.372562</td>\n",
       "      <td>1.333333</td>\n",
       "      <td>0.471405</td>\n",
       "    </tr>\n",
       "    <tr>\n",
       "      <th>234</th>\n",
       "      <td>18.333333</td>\n",
       "      <td>2.778889</td>\n",
       "      <td>25.000000</td>\n",
       "      <td>2.886751</td>\n",
       "      <td>31.500000</td>\n",
       "      <td>3.122499</td>\n",
       "      <td>74.500000</td>\n",
       "      <td>88.999532</td>\n",
       "      <td>2.416667</td>\n",
       "      <td>0.493007</td>\n",
       "      <td>18020.916667</td>\n",
       "      <td>3067.167299</td>\n",
       "      <td>2.000000</td>\n",
       "      <td>0.000000</td>\n",
       "    </tr>\n",
       "    <tr>\n",
       "      <th>235</th>\n",
       "      <td>19.083333</td>\n",
       "      <td>1.934698</td>\n",
       "      <td>25.250000</td>\n",
       "      <td>1.831438</td>\n",
       "      <td>31.333333</td>\n",
       "      <td>1.929306</td>\n",
       "      <td>107.916667</td>\n",
       "      <td>56.519109</td>\n",
       "      <td>2.500000</td>\n",
       "      <td>0.500000</td>\n",
       "      <td>18026.416667</td>\n",
       "      <td>2783.013548</td>\n",
       "      <td>2.333333</td>\n",
       "      <td>0.471405</td>\n",
       "    </tr>\n",
       "    <tr>\n",
       "      <th>236</th>\n",
       "      <td>19.083333</td>\n",
       "      <td>1.934698</td>\n",
       "      <td>25.250000</td>\n",
       "      <td>1.831438</td>\n",
       "      <td>31.333333</td>\n",
       "      <td>1.929306</td>\n",
       "      <td>107.916667</td>\n",
       "      <td>56.519109</td>\n",
       "      <td>2.500000</td>\n",
       "      <td>0.500000</td>\n",
       "      <td>18026.416667</td>\n",
       "      <td>2783.013548</td>\n",
       "      <td>2.333333</td>\n",
       "      <td>0.471405</td>\n",
       "    </tr>\n",
       "    <tr>\n",
       "      <th>237</th>\n",
       "      <td>19.000000</td>\n",
       "      <td>3.082207</td>\n",
       "      <td>23.916667</td>\n",
       "      <td>3.067527</td>\n",
       "      <td>28.916667</td>\n",
       "      <td>3.147971</td>\n",
       "      <td>119.666667</td>\n",
       "      <td>62.461099</td>\n",
       "      <td>2.500000</td>\n",
       "      <td>0.500000</td>\n",
       "      <td>16821.416667</td>\n",
       "      <td>2712.090383</td>\n",
       "      <td>2.000000</td>\n",
       "      <td>0.000000</td>\n",
       "    </tr>\n",
       "    <tr>\n",
       "      <th>238</th>\n",
       "      <td>19.166667</td>\n",
       "      <td>1.950783</td>\n",
       "      <td>25.750000</td>\n",
       "      <td>1.785357</td>\n",
       "      <td>32.666667</td>\n",
       "      <td>1.885618</td>\n",
       "      <td>99.333333</td>\n",
       "      <td>60.815751</td>\n",
       "      <td>2.500000</td>\n",
       "      <td>0.500000</td>\n",
       "      <td>17890.500000</td>\n",
       "      <td>2528.754321</td>\n",
       "      <td>2.333333</td>\n",
       "      <td>0.471405</td>\n",
       "    </tr>\n",
       "    <tr>\n",
       "      <th>239</th>\n",
       "      <td>19.166667</td>\n",
       "      <td>1.950783</td>\n",
       "      <td>25.750000</td>\n",
       "      <td>1.785357</td>\n",
       "      <td>32.666667</td>\n",
       "      <td>1.885618</td>\n",
       "      <td>99.333333</td>\n",
       "      <td>60.815751</td>\n",
       "      <td>2.500000</td>\n",
       "      <td>0.500000</td>\n",
       "      <td>17890.500000</td>\n",
       "      <td>2528.754321</td>\n",
       "      <td>2.333333</td>\n",
       "      <td>0.471405</td>\n",
       "    </tr>\n",
       "    <tr>\n",
       "      <th>240</th>\n",
       "      <td>18.500000</td>\n",
       "      <td>3.095696</td>\n",
       "      <td>23.583333</td>\n",
       "      <td>2.984916</td>\n",
       "      <td>28.750000</td>\n",
       "      <td>3.112475</td>\n",
       "      <td>132.916667</td>\n",
       "      <td>70.755987</td>\n",
       "      <td>2.416667</td>\n",
       "      <td>0.493007</td>\n",
       "      <td>16837.416667</td>\n",
       "      <td>2681.247858</td>\n",
       "      <td>2.000000</td>\n",
       "      <td>0.000000</td>\n",
       "    </tr>\n",
       "    <tr>\n",
       "      <th>241</th>\n",
       "      <td>11.583333</td>\n",
       "      <td>2.752524</td>\n",
       "      <td>20.500000</td>\n",
       "      <td>2.533114</td>\n",
       "      <td>29.500000</td>\n",
       "      <td>2.723356</td>\n",
       "      <td>73.500000</td>\n",
       "      <td>83.811793</td>\n",
       "      <td>1.416667</td>\n",
       "      <td>0.493007</td>\n",
       "      <td>18442.250000</td>\n",
       "      <td>2474.763932</td>\n",
       "      <td>1.416667</td>\n",
       "      <td>0.493007</td>\n",
       "    </tr>\n",
       "  </tbody>\n",
       "</table>\n",
       "<p>242 rows × 14 columns</p>\n",
       "</div>"
      ],
      "text/plain": [
       "     MaxTemperature_mean  MaxTemperature_std  MeanTemperature_mean  \\\n",
       "0                    NaN            0.000000                   NaN   \n",
       "1              15.250000            4.044029             22.666667   \n",
       "2              15.250000            4.044029             22.666667   \n",
       "3              15.250000            4.044029             22.666667   \n",
       "4              15.250000            4.044029             22.666667   \n",
       "5              15.250000            4.044029             22.666667   \n",
       "6              15.250000            4.044029             22.666667   \n",
       "7              14.500000            5.751811             20.666667   \n",
       "8              17.000000            5.700877             24.416667   \n",
       "9              17.000000            5.700877             24.416667   \n",
       "10                   NaN            0.000000                   NaN   \n",
       "11              4.166667            5.654398             12.833333   \n",
       "12              4.000000            5.656854             12.750000   \n",
       "13             11.833333            2.793842             19.833333   \n",
       "14             11.750000            2.861381             19.666667   \n",
       "15             11.750000            2.861381             19.666667   \n",
       "16             11.750000            2.861381             19.666667   \n",
       "17             15.750000            4.692636             24.750000   \n",
       "18             15.750000            4.692636             24.750000   \n",
       "19              9.500000            2.101587             17.083333   \n",
       "20             12.166667            2.763854             20.166667   \n",
       "21             12.083333            3.012705             20.750000   \n",
       "22             12.000000            3.109126             20.583333   \n",
       "23             12.083333            3.012705             20.750000   \n",
       "24             15.250000            4.044029             22.666667   \n",
       "25             15.250000            4.044029             22.666667   \n",
       "26             13.833333            4.879094             22.000000   \n",
       "27             15.416667            5.057310             22.916667   \n",
       "28             13.916667            5.692954             20.250000   \n",
       "29             12.750000            2.520747             19.916667   \n",
       "..                   ...                 ...                   ...   \n",
       "212            12.750000            4.342138             22.083333   \n",
       "213            11.583333            6.116349             22.500000   \n",
       "214            11.583333            6.116349             22.500000   \n",
       "215            16.583333            5.314420             24.083333   \n",
       "216            17.166667            3.760171             24.333333   \n",
       "217            17.083333            5.765679             24.416667   \n",
       "218            14.250000            4.303584             21.166667   \n",
       "219            15.666667            5.038739             23.583333   \n",
       "220            15.666667            5.038739             23.583333   \n",
       "221            15.666667            5.038739             23.583333   \n",
       "222            15.666667            5.038739             23.583333   \n",
       "223            15.666667            5.038739             23.583333   \n",
       "224            15.666667            5.038739             23.583333   \n",
       "225            15.666667            5.038739             23.583333   \n",
       "226            15.666667            5.038739             23.583333   \n",
       "227            15.666667            5.038739             23.583333   \n",
       "228            15.666667            5.038739             23.583333   \n",
       "229            15.666667            5.038739             23.583333   \n",
       "230            15.666667            5.038739             23.583333   \n",
       "231            11.916667            2.752524             20.166667   \n",
       "232            16.750000            3.003470             25.666667   \n",
       "233            16.750000            3.003470             25.666667   \n",
       "234            18.333333            2.778889             25.000000   \n",
       "235            19.083333            1.934698             25.250000   \n",
       "236            19.083333            1.934698             25.250000   \n",
       "237            19.000000            3.082207             23.916667   \n",
       "238            19.166667            1.950783             25.750000   \n",
       "239            19.166667            1.950783             25.750000   \n",
       "240            18.500000            3.095696             23.583333   \n",
       "241            11.583333            2.752524             20.500000   \n",
       "\n",
       "     MeanTemperature_std  MinTemperature_mean  MinTemperature_std  \\\n",
       "0               0.000000                  NaN            0.000000   \n",
       "1               3.836955            30.083333            3.639101   \n",
       "2               3.836955            30.083333            3.639101   \n",
       "3               3.836955            30.083333            3.639101   \n",
       "4               3.836955            30.083333            3.639101   \n",
       "5               3.836955            30.083333            3.639101   \n",
       "6               3.836955            30.083333            3.639101   \n",
       "7               5.749396            27.000000            5.522681   \n",
       "8               5.765679            31.416667            5.765679   \n",
       "9               5.765679            31.416667            5.765679   \n",
       "10              0.000000                  NaN            0.000000   \n",
       "11              5.079917            21.416667            4.462031   \n",
       "12              4.951852            21.333333            4.440971   \n",
       "13              2.671870            27.416667            2.782635   \n",
       "14              2.687419            27.416667            2.782635   \n",
       "15              2.687419            27.416667            2.782635   \n",
       "16              2.687419            27.416667            2.782635   \n",
       "17              4.674844            34.000000            4.881940   \n",
       "18              4.674844            34.000000            4.881940   \n",
       "19              1.977302            24.833333            2.192158   \n",
       "20              2.733537            28.166667            2.608746   \n",
       "21              2.742414            29.333333            2.778889   \n",
       "22              2.498611            29.250000            2.861381   \n",
       "23              2.742414            29.333333            2.778889   \n",
       "24              3.836955            30.083333            3.639101   \n",
       "25              3.836955            30.083333            3.639101   \n",
       "26              4.654747            30.333333            4.307616   \n",
       "27              4.462031            30.500000            4.252450   \n",
       "28              5.554653            26.750000            5.340490   \n",
       "29              2.531743            26.833333            2.477678   \n",
       "..                   ...                  ...                 ...   \n",
       "212             4.443316            31.750000            4.342138   \n",
       "213             6.224950            33.083333            6.277716   \n",
       "214             6.224950            33.083333            6.277716   \n",
       "215             5.073761            31.166667            5.047001   \n",
       "216             3.836955            31.166667            4.179979   \n",
       "217             5.559651            31.500000            5.469613   \n",
       "218             4.258977            28.250000            4.145781   \n",
       "219             4.386691            31.583333            3.967752   \n",
       "220             4.386691            31.583333            3.967752   \n",
       "221             4.386691            31.583333            3.967752   \n",
       "222             4.386691            31.583333            3.967752   \n",
       "223             4.386691            31.583333            3.967752   \n",
       "224             4.386691            31.583333            3.967752   \n",
       "225             4.386691            31.583333            3.967752   \n",
       "226             4.386691            31.583333            3.967752   \n",
       "227             4.386691            31.583333            3.967752   \n",
       "228             4.386691            31.583333            3.967752   \n",
       "229             4.386691            31.583333            3.967752   \n",
       "230             4.386691            31.583333            3.967752   \n",
       "231             2.511087            28.333333            2.592725   \n",
       "232             2.981424            34.666667            2.981424   \n",
       "233             2.981424            34.666667            2.981424   \n",
       "234             2.886751            31.500000            3.122499   \n",
       "235             1.831438            31.333333            1.929306   \n",
       "236             1.831438            31.333333            1.929306   \n",
       "237             3.067527            28.916667            3.147971   \n",
       "238             1.785357            32.666667            1.885618   \n",
       "239             1.785357            32.666667            1.885618   \n",
       "240             2.984916            28.750000            3.112475   \n",
       "241             2.533114            29.500000            2.723356   \n",
       "\n",
       "     Precipitation_mean  Precipitation_std  Vapor_mean  Vapor_std  \\\n",
       "0                   NaN           0.000000         NaN   0.000000   \n",
       "1             14.916667          17.665684    1.916667   0.640095   \n",
       "2             14.916667          17.665684    1.916667   0.640095   \n",
       "3             14.916667          17.665684    1.916667   0.640095   \n",
       "4             14.916667          17.665684    1.916667   0.640095   \n",
       "5             14.916667          17.665684    1.916667   0.640095   \n",
       "6             14.916667          17.665684    1.916667   0.640095   \n",
       "7             14.083333          11.324445    1.500000   0.645497   \n",
       "8             18.500000          20.434856    1.666667   0.849837   \n",
       "9             18.500000          20.434856    1.666667   0.849837   \n",
       "10                  NaN           0.000000         NaN   0.000000   \n",
       "11            31.250000          18.628495    1.000000   0.000000   \n",
       "12            31.583333          18.993237    1.000000   0.000000   \n",
       "13            50.666667          51.848069    1.250000   0.433013   \n",
       "14            51.333333          51.396066    1.250000   0.433013   \n",
       "15            51.333333          51.396066    1.250000   0.433013   \n",
       "16            51.333333          51.396066    1.250000   0.433013   \n",
       "17            58.916667          64.759116    1.500000   0.645497   \n",
       "18            58.916667          64.759116    1.500000   0.645497   \n",
       "19            87.750000          74.301329    1.333333   0.471405   \n",
       "20            66.500000          75.710523    1.333333   0.471405   \n",
       "21            67.333333          77.787460    1.333333   0.471405   \n",
       "22            68.083333          78.696101    1.333333   0.471405   \n",
       "23            67.333333          77.787460    1.333333   0.471405   \n",
       "24            14.916667          17.665684    1.916667   0.640095   \n",
       "25            14.916667          17.665684    1.916667   0.640095   \n",
       "26            23.500000          30.772011    1.416667   0.493007   \n",
       "27            21.666667          27.713815    1.750000   0.721688   \n",
       "28            17.083333          13.567475    1.416667   0.493007   \n",
       "29            32.666667          25.613581    1.333333   0.471405   \n",
       "..                  ...                ...         ...        ...   \n",
       "212           14.000000          15.027752    1.750000   0.721688   \n",
       "213           37.583333          41.542064    1.333333   0.471405   \n",
       "214           37.583333          41.542064    1.333333   0.471405   \n",
       "215           14.000000          16.227549    1.666667   0.745356   \n",
       "216           57.166667          65.753116    1.833333   0.799305   \n",
       "217           12.333333          12.657892    1.833333   0.799305   \n",
       "218           34.166667          47.001478    1.500000   0.500000   \n",
       "219           17.916667          22.921818    1.833333   0.687184   \n",
       "220           17.916667          22.921818    1.833333   0.687184   \n",
       "221           17.916667          22.921818    1.833333   0.687184   \n",
       "222           17.916667          22.921818    1.833333   0.687184   \n",
       "223           17.916667          22.921818    1.833333   0.687184   \n",
       "224           17.916667          22.921818    1.833333   0.687184   \n",
       "225           17.916667          22.921818    1.833333   0.687184   \n",
       "226           17.916667          22.921818    1.833333   0.687184   \n",
       "227           17.916667          22.921818    1.833333   0.687184   \n",
       "228           17.916667          22.921818    1.833333   0.687184   \n",
       "229           17.916667          22.921818    1.833333   0.687184   \n",
       "230           17.916667          22.921818    1.833333   0.687184   \n",
       "231           76.916667          88.507493    1.333333   0.471405   \n",
       "232           72.000000          85.921476    1.583333   0.493007   \n",
       "233           72.000000          85.921476    1.583333   0.493007   \n",
       "234           74.500000          88.999532    2.416667   0.493007   \n",
       "235          107.916667          56.519109    2.500000   0.500000   \n",
       "236          107.916667          56.519109    2.500000   0.500000   \n",
       "237          119.666667          62.461099    2.500000   0.500000   \n",
       "238           99.333333          60.815751    2.500000   0.500000   \n",
       "239           99.333333          60.815751    2.500000   0.500000   \n",
       "240          132.916667          70.755987    2.416667   0.493007   \n",
       "241           73.500000          83.811793    1.416667   0.493007   \n",
       "\n",
       "     SolarRadiation_mean  SolarRadiation_std  WindSpeed_mean  WindSpeed_std  \n",
       "0                    NaN            0.000000             NaN       0.000000  \n",
       "1           18959.250000         3270.691877        3.250000       0.433013  \n",
       "2           18959.250000         3270.691877        3.250000       0.433013  \n",
       "3           18959.250000         3270.691877        3.250000       0.433013  \n",
       "4           18959.250000         3270.691877        3.250000       0.433013  \n",
       "5           18959.250000         3270.691877        3.250000       0.433013  \n",
       "6           18959.250000         3270.691877        3.250000       0.433013  \n",
       "7           18710.333333         4306.416614        2.833333       0.372678  \n",
       "8           18372.083333         4116.958089        2.666667       0.471405  \n",
       "9           18372.083333         4116.958089        2.666667       0.471405  \n",
       "10                   NaN            0.000000             NaN       0.000000  \n",
       "11          18985.916667         5106.783437        3.000000       0.000000  \n",
       "12          18972.166667         5099.012696        3.000000       0.000000  \n",
       "13          18230.416667         2326.845449        2.000000       0.000000  \n",
       "14          18086.666667         2282.333650        2.000000       0.000000  \n",
       "15          18086.666667         2282.333650        2.000000       0.000000  \n",
       "16          18086.666667         2282.333650        2.000000       0.000000  \n",
       "17          18351.000000         4006.159632        2.000000       0.000000  \n",
       "18          18351.000000         4006.159632        2.000000       0.000000  \n",
       "19          18542.083333         2308.061071        2.000000       0.000000  \n",
       "20          18416.083333         2332.124584        1.916667       0.276385  \n",
       "21          18468.166667         2555.080717        1.833333       0.372678  \n",
       "22          18485.083333         2567.769313        1.833333       0.372678  \n",
       "23          18468.166667         2555.080717        1.833333       0.372678  \n",
       "24          18959.250000         3270.691877        3.250000       0.433013  \n",
       "25          18959.250000         3270.691877        3.250000       0.433013  \n",
       "26          18963.666667         3593.370524        3.000000       0.000000  \n",
       "27          18799.583333         3508.557454        3.166667       0.372678  \n",
       "28          18710.916667         4286.266041        2.750000       0.433013  \n",
       "29          19182.166667         2457.161534        2.000000       0.000000  \n",
       "..                   ...                 ...             ...            ...  \n",
       "212         18928.333333         3472.026578        2.000000       0.000000  \n",
       "213         18524.333333         4492.282741        2.333333       0.471405  \n",
       "214         18524.333333         4492.282741        2.333333       0.471405  \n",
       "215         18813.833333         3770.587638        2.750000       0.433013  \n",
       "216         17971.000000         3355.207197        2.500000       0.500000  \n",
       "217         18877.833333         3868.704754        3.000000       0.000000  \n",
       "218         18878.666667         3312.727334        2.916667       0.276385  \n",
       "219         18802.583333         3321.795058        3.333333       0.471405  \n",
       "220         18802.583333         3321.795058        3.333333       0.471405  \n",
       "221         18802.583333         3321.795058        3.333333       0.471405  \n",
       "222         18802.583333         3321.795058        3.333333       0.471405  \n",
       "223         18802.583333         3321.795058        3.333333       0.471405  \n",
       "224         18802.583333         3321.795058        3.333333       0.471405  \n",
       "225         18802.583333         3321.795058        3.333333       0.471405  \n",
       "226         18802.583333         3321.795058        3.333333       0.471405  \n",
       "227         18802.583333         3321.795058        3.333333       0.471405  \n",
       "228         18802.583333         3321.795058        3.333333       0.471405  \n",
       "229         18802.583333         3321.795058        3.333333       0.471405  \n",
       "230         18802.583333         3321.795058        3.333333       0.471405  \n",
       "231         18250.416667         2384.546514        1.833333       0.372678  \n",
       "232         18551.250000         2605.372562        1.333333       0.471405  \n",
       "233         18551.250000         2605.372562        1.333333       0.471405  \n",
       "234         18020.916667         3067.167299        2.000000       0.000000  \n",
       "235         18026.416667         2783.013548        2.333333       0.471405  \n",
       "236         18026.416667         2783.013548        2.333333       0.471405  \n",
       "237         16821.416667         2712.090383        2.000000       0.000000  \n",
       "238         17890.500000         2528.754321        2.333333       0.471405  \n",
       "239         17890.500000         2528.754321        2.333333       0.471405  \n",
       "240         16837.416667         2681.247858        2.000000       0.000000  \n",
       "241         18442.250000         2474.763932        1.416667       0.493007  \n",
       "\n",
       "[242 rows x 14 columns]"
      ]
     },
     "execution_count": 32,
     "metadata": {},
     "output_type": "execute_result"
    }
   ],
   "source": [
    "pnts_env_burs"
   ]
  },
  {
   "cell_type": "code",
   "execution_count": 42,
   "metadata": {
    "collapsed": false
   },
   "outputs": [],
   "source": [
    "nodes_iters = map(lambda oc : (oc.pullbackRasterNodes('MaxTemperature'),oc),only_bursera.occurrences)"
   ]
  },
  {
   "cell_type": "code",
   "execution_count": 33,
   "metadata": {
    "collapsed": true
   },
   "outputs": [],
   "source": [
    "chiquibum = [list(node) for (node,x) in nodes_iters]"
   ]
  },
  {
   "cell_type": "code",
   "execution_count": 34,
   "metadata": {
    "collapsed": false
   },
   "outputs": [
    {
     "data": {
      "text/plain": [
       "[[<Raster Data type: MaxTemp-30s value = 22.0 >],\n",
       " [<Raster Data type: MaxTemp-30s value = 9.0 >],\n",
       " [<Raster Data type: MaxTemp-30s value = 15.0 >],\n",
       " [<Raster Data type: MaxTemp-30s value = 17.0 >],\n",
       " [<Raster Data type: MaxTemp-30s value = 14.0 >],\n",
       " [<Raster Data type: MaxTemp-30s value = 22.0 >],\n",
       " [<Raster Data type: MaxTemp-30s value = 14.0 >],\n",
       " [<Raster Data type: MaxTemp-30s value = 10.0 >],\n",
       " [<Raster Data type: MaxTemp-30s value = 10.0 >],\n",
       " [<Raster Data type: MaxTemp-30s value = 15.0 >],\n",
       " [<Raster Data type: MaxTemp-30s value = 9.0 >],\n",
       " [<Raster Data type: MaxTemp-30s value = 9.0 >],\n",
       " [<Raster Data type: MaxTemp-30s value = 9.0 >],\n",
       " [<Raster Data type: MaxTemp-30s value = 14.0 >],\n",
       " [<Raster Data type: MaxTemp-30s value = 14.0 >],\n",
       " [<Raster Data type: MaxTemp-30s value = 10.0 >],\n",
       " [<Raster Data type: MaxTemp-30s value = 9.0 >],\n",
       " [<Raster Data type: MaxTemp-30s value = 8.0 >],\n",
       " [<Raster Data type: MaxTemp-30s value = 23.0 >],\n",
       " [<Raster Data type: MaxTemp-30s value = 23.0 >],\n",
       " [<Raster Data type: MaxTemp-30s value = 11.0 >],\n",
       " [<Raster Data type: MaxTemp-30s value = 12.0 >],\n",
       " [<Raster Data type: MaxTemp-30s value = 11.0 >],\n",
       " [<Raster Data type: MaxTemp-30s value = 21.0 >],\n",
       " [<Raster Data type: MaxTemp-30s value = 12.0 >],\n",
       " [<Raster Data type: MaxTemp-30s value = 11.0 >],\n",
       " [<Raster Data type: MaxTemp-30s value = 12.0 >],\n",
       " [<Raster Data type: MaxTemp-30s value = 21.0 >],\n",
       " [<Raster Data type: MaxTemp-30s value = 21.0 >],\n",
       " [<Raster Data type: MaxTemp-30s value = 12.0 >],\n",
       " [<Raster Data type: MaxTemp-30s value = 10.0 >],\n",
       " [<Raster Data type: MaxTemp-30s value = 20.0 >],\n",
       " [<Raster Data type: MaxTemp-30s value = 16.0 >],\n",
       " [<Raster Data type: MaxTemp-30s value = 23.0 >],\n",
       " [<Raster Data type: MaxTemp-30s value = 23.0 >],\n",
       " [<Raster Data type: MaxTemp-30s value = 13.0 >],\n",
       " [<Raster Data type: MaxTemp-30s value = 11.0 >],\n",
       " [<Raster Data type: MaxTemp-30s value = 13.0 >],\n",
       " [<Raster Data type: MaxTemp-30s value = 15.0 >],\n",
       " [<Raster Data type: MaxTemp-30s value = 20.0 >],\n",
       " [<Raster Data type: MaxTemp-30s value = 5.0 >],\n",
       " [<Raster Data type: MaxTemp-30s value = 16.0 >],\n",
       " [<Raster Data type: MaxTemp-30s value = 10.0 >],\n",
       " [<Raster Data type: MaxTemp-30s value = 16.0 >],\n",
       " [<Raster Data type: MaxTemp-30s value = 15.0 >],\n",
       " [<Raster Data type: MaxTemp-30s value = 11.0 >],\n",
       " [<Raster Data type: MaxTemp-30s value = 22.0 >],\n",
       " [<Raster Data type: MaxTemp-30s value = 21.0 >],\n",
       " [<Raster Data type: MaxTemp-30s value = 21.0 >],\n",
       " [<Raster Data type: MaxTemp-30s value = 16.0 >],\n",
       " [],\n",
       " [],\n",
       " [<Raster Data type: MaxTemp-30s value = 18.0 >],\n",
       " [<Raster Data type: MaxTemp-30s value = 18.0 >],\n",
       " [<Raster Data type: MaxTemp-30s value = 18.0 >],\n",
       " [<Raster Data type: MaxTemp-30s value = 23.0 >],\n",
       " [<Raster Data type: MaxTemp-30s value = 21.0 >],\n",
       " [<Raster Data type: MaxTemp-30s value = -9999 >],\n",
       " [<Raster Data type: MaxTemp-30s value = 18.0 >],\n",
       " [<Raster Data type: MaxTemp-30s value = 18.0 >],\n",
       " [<Raster Data type: MaxTemp-30s value = 21.0 >],\n",
       " [<Raster Data type: MaxTemp-30s value = 16.0 >],\n",
       " [<Raster Data type: MaxTemp-30s value = 20.0 >],\n",
       " [<Raster Data type: MaxTemp-30s value = 21.0 >],\n",
       " [<Raster Data type: MaxTemp-30s value = 21.0 >],\n",
       " [<Raster Data type: MaxTemp-30s value = 22.0 >],\n",
       " [],\n",
       " [],\n",
       " [<Raster Data type: MaxTemp-30s value = 22.0 >],\n",
       " [<Raster Data type: MaxTemp-30s value = 20.0 >],\n",
       " [],\n",
       " [<Raster Data type: MaxTemp-30s value = 23.0 >],\n",
       " [<Raster Data type: MaxTemp-30s value = 21.0 >],\n",
       " [<Raster Data type: MaxTemp-30s value = 18.0 >],\n",
       " [<Raster Data type: MaxTemp-30s value = 20.0 >],\n",
       " [<Raster Data type: MaxTemp-30s value = 21.0 >],\n",
       " [<Raster Data type: MaxTemp-30s value = 17.0 >],\n",
       " [<Raster Data type: MaxTemp-30s value = 21.0 >],\n",
       " [<Raster Data type: MaxTemp-30s value = 18.0 >],\n",
       " [<Raster Data type: MaxTemp-30s value = 18.0 >],\n",
       " [<Raster Data type: MaxTemp-30s value = 25.0 >],\n",
       " [<Raster Data type: MaxTemp-30s value = 25.0 >],\n",
       " [<Raster Data type: MaxTemp-30s value = -9999 >],\n",
       " [<Raster Data type: MaxTemp-30s value = 23.0 >],\n",
       " [<Raster Data type: MaxTemp-30s value = 21.0 >],\n",
       " [<Raster Data type: MaxTemp-30s value = 23.0 >],\n",
       " [<Raster Data type: MaxTemp-30s value = 18.0 >],\n",
       " [<Raster Data type: MaxTemp-30s value = 21.0 >],\n",
       " [<Raster Data type: MaxTemp-30s value = 18.0 >],\n",
       " [<Raster Data type: MaxTemp-30s value = 18.0 >],\n",
       " [<Raster Data type: MaxTemp-30s value = 20.0 >],\n",
       " [<Raster Data type: MaxTemp-30s value = 10.0 >],\n",
       " [<Raster Data type: MaxTemp-30s value = 22.0 >],\n",
       " [<Raster Data type: MaxTemp-30s value = 17.0 >],\n",
       " [<Raster Data type: MaxTemp-30s value = 22.0 >],\n",
       " [<Raster Data type: MaxTemp-30s value = 23.0 >],\n",
       " [<Raster Data type: MaxTemp-30s value = 20.0 >],\n",
       " [<Raster Data type: MaxTemp-30s value = 22.0 >],\n",
       " [<Raster Data type: MaxTemp-30s value = 22.0 >],\n",
       " [<Raster Data type: MaxTemp-30s value = 17.0 >],\n",
       " [<Raster Data type: MaxTemp-30s value = 23.0 >],\n",
       " [<Raster Data type: MaxTemp-30s value = 14.0 >],\n",
       " [<Raster Data type: MaxTemp-30s value = 11.0 >],\n",
       " [<Raster Data type: MaxTemp-30s value = 17.0 >],\n",
       " [<Raster Data type: MaxTemp-30s value = 11.0 >],\n",
       " [<Raster Data type: MaxTemp-30s value = 10.0 >],\n",
       " [<Raster Data type: MaxTemp-30s value = 22.0 >],\n",
       " [<Raster Data type: MaxTemp-30s value = 16.0 >],\n",
       " [<Raster Data type: MaxTemp-30s value = 14.0 >],\n",
       " [<Raster Data type: MaxTemp-30s value = 15.0 >],\n",
       " [<Raster Data type: MaxTemp-30s value = 16.0 >],\n",
       " [<Raster Data type: MaxTemp-30s value = 14.0 >],\n",
       " [<Raster Data type: MaxTemp-30s value = 12.0 >],\n",
       " [<Raster Data type: MaxTemp-30s value = 19.0 >],\n",
       " [<Raster Data type: MaxTemp-30s value = 16.0 >],\n",
       " [<Raster Data type: MaxTemp-30s value = 16.0 >],\n",
       " [<Raster Data type: MaxTemp-30s value = 13.0 >],\n",
       " [<Raster Data type: MaxTemp-30s value = 15.0 >],\n",
       " [<Raster Data type: MaxTemp-30s value = 14.0 >],\n",
       " [<Raster Data type: MaxTemp-30s value = 10.0 >],\n",
       " [<Raster Data type: MaxTemp-30s value = 20.0 >],\n",
       " [<Raster Data type: MaxTemp-30s value = 20.0 >],\n",
       " [<Raster Data type: MaxTemp-30s value = 12.0 >],\n",
       " [<Raster Data type: MaxTemp-30s value = 22.0 >],\n",
       " [<Raster Data type: MaxTemp-30s value = 18.0 >],\n",
       " [<Raster Data type: MaxTemp-30s value = 10.0 >],\n",
       " [<Raster Data type: MaxTemp-30s value = 11.0 >],\n",
       " [<Raster Data type: MaxTemp-30s value = 20.0 >],\n",
       " [<Raster Data type: MaxTemp-30s value = 16.0 >],\n",
       " [<Raster Data type: MaxTemp-30s value = 20.0 >],\n",
       " [<Raster Data type: MaxTemp-30s value = 13.0 >],\n",
       " [<Raster Data type: MaxTemp-30s value = 13.0 >],\n",
       " [<Raster Data type: MaxTemp-30s value = 20.0 >],\n",
       " [<Raster Data type: MaxTemp-30s value = 13.0 >],\n",
       " [<Raster Data type: MaxTemp-30s value = 8.0 >],\n",
       " [<Raster Data type: MaxTemp-30s value = 13.0 >],\n",
       " [<Raster Data type: MaxTemp-30s value = 16.0 >],\n",
       " [<Raster Data type: MaxTemp-30s value = 22.0 >],\n",
       " [<Raster Data type: MaxTemp-30s value = 11.0 >],\n",
       " [<Raster Data type: MaxTemp-30s value = 11.0 >],\n",
       " [<Raster Data type: MaxTemp-30s value = 16.0 >],\n",
       " [<Raster Data type: MaxTemp-30s value = 13.0 >],\n",
       " [<Raster Data type: MaxTemp-30s value = 13.0 >],\n",
       " [<Raster Data type: MaxTemp-30s value = 17.0 >],\n",
       " [<Raster Data type: MaxTemp-30s value = 17.0 >],\n",
       " [<Raster Data type: MaxTemp-30s value = 21.0 >],\n",
       " [<Raster Data type: MaxTemp-30s value = 21.0 >],\n",
       " [<Raster Data type: MaxTemp-30s value = 9.0 >],\n",
       " [<Raster Data type: MaxTemp-30s value = 14.0 >],\n",
       " [<Raster Data type: MaxTemp-30s value = 19.0 >],\n",
       " [<Raster Data type: MaxTemp-30s value = 19.0 >],\n",
       " [<Raster Data type: MaxTemp-30s value = 9.0 >],\n",
       " [<Raster Data type: MaxTemp-30s value = 23.0 >],\n",
       " [<Raster Data type: MaxTemp-30s value = 7.0 >],\n",
       " [<Raster Data type: MaxTemp-30s value = 22.0 >],\n",
       " [<Raster Data type: MaxTemp-30s value = 9.0 >],\n",
       " [<Raster Data type: MaxTemp-30s value = 10.0 >],\n",
       " [<Raster Data type: MaxTemp-30s value = 20.0 >],\n",
       " [<Raster Data type: MaxTemp-30s value = 21.0 >],\n",
       " [<Raster Data type: MaxTemp-30s value = 8.0 >],\n",
       " [<Raster Data type: MaxTemp-30s value = 18.0 >],\n",
       " [<Raster Data type: MaxTemp-30s value = 14.0 >],\n",
       " [<Raster Data type: MaxTemp-30s value = 16.0 >],\n",
       " [<Raster Data type: MaxTemp-30s value = 14.0 >],\n",
       " [<Raster Data type: MaxTemp-30s value = 12.0 >],\n",
       " [<Raster Data type: MaxTemp-30s value = 14.0 >],\n",
       " [<Raster Data type: MaxTemp-30s value = 14.0 >],\n",
       " [<Raster Data type: MaxTemp-30s value = 14.0 >],\n",
       " [<Raster Data type: MaxTemp-30s value = 10.0 >],\n",
       " [<Raster Data type: MaxTemp-30s value = 12.0 >],\n",
       " [<Raster Data type: MaxTemp-30s value = 11.0 >],\n",
       " [<Raster Data type: MaxTemp-30s value = 10.0 >],\n",
       " [<Raster Data type: MaxTemp-30s value = 12.0 >],\n",
       " [<Raster Data type: MaxTemp-30s value = 13.0 >],\n",
       " [<Raster Data type: MaxTemp-30s value = 20.0 >],\n",
       " [<Raster Data type: MaxTemp-30s value = 20.0 >],\n",
       " [<Raster Data type: MaxTemp-30s value = 13.0 >],\n",
       " [<Raster Data type: MaxTemp-30s value = 10.0 >],\n",
       " [<Raster Data type: MaxTemp-30s value = 13.0 >],\n",
       " [<Raster Data type: MaxTemp-30s value = 20.0 >],\n",
       " [<Raster Data type: MaxTemp-30s value = 9.0 >],\n",
       " [<Raster Data type: MaxTemp-30s value = 20.0 >],\n",
       " [<Raster Data type: MaxTemp-30s value = 18.0 >],\n",
       " [<Raster Data type: MaxTemp-30s value = 13.0 >],\n",
       " [<Raster Data type: MaxTemp-30s value = 13.0 >],\n",
       " [<Raster Data type: MaxTemp-30s value = 20.0 >],\n",
       " [<Raster Data type: MaxTemp-30s value = 16.0 >],\n",
       " [<Raster Data type: MaxTemp-30s value = 16.0 >],\n",
       " [<Raster Data type: MaxTemp-30s value = 22.0 >],\n",
       " [<Raster Data type: MaxTemp-30s value = 18.0 >],\n",
       " [<Raster Data type: MaxTemp-30s value = 18.0 >],\n",
       " [<Raster Data type: MaxTemp-30s value = 20.0 >],\n",
       " [<Raster Data type: MaxTemp-30s value = 8.0 >],\n",
       " [<Raster Data type: MaxTemp-30s value = 8.0 >],\n",
       " [<Raster Data type: MaxTemp-30s value = 16.0 >],\n",
       " [<Raster Data type: MaxTemp-30s value = 16.0 >],\n",
       " [<Raster Data type: MaxTemp-30s value = 19.0 >],\n",
       " [<Raster Data type: MaxTemp-30s value = 19.0 >],\n",
       " [<Raster Data type: MaxTemp-30s value = 9.0 >],\n",
       " [<Raster Data type: MaxTemp-30s value = 9.0 >],\n",
       " [<Raster Data type: MaxTemp-30s value = 23.0 >],\n",
       " [<Raster Data type: MaxTemp-30s value = 18.0 >],\n",
       " [<Raster Data type: MaxTemp-30s value = 18.0 >],\n",
       " [<Raster Data type: MaxTemp-30s value = -9999 >],\n",
       " [<Raster Data type: MaxTemp-30s value = 12.0 >],\n",
       " [<Raster Data type: MaxTemp-30s value = 11.0 >],\n",
       " [<Raster Data type: MaxTemp-30s value = 23.0 >],\n",
       " [<Raster Data type: MaxTemp-30s value = 23.0 >],\n",
       " [<Raster Data type: MaxTemp-30s value = 23.0 >],\n",
       " [<Raster Data type: MaxTemp-30s value = 18.0 >],\n",
       " [<Raster Data type: MaxTemp-30s value = 14.0 >],\n",
       " [<Raster Data type: MaxTemp-30s value = 17.0 >],\n",
       " [<Raster Data type: MaxTemp-30s value = 17.0 >],\n",
       " [<Raster Data type: MaxTemp-30s value = 19.0 >],\n",
       " [<Raster Data type: MaxTemp-30s value = 21.0 >],\n",
       " [],\n",
       " [<Raster Data type: MaxTemp-30s value = 23.0 >],\n",
       " [<Raster Data type: MaxTemp-30s value = 23.0 >],\n",
       " [],\n",
       " [<Raster Data type: MaxTemp-30s value = 11.0 >]]"
      ]
     },
     "execution_count": 34,
     "metadata": {},
     "output_type": "execute_result"
    }
   ],
   "source": [
    "chiquibum"
   ]
  },
  {
   "cell_type": "code",
   "execution_count": 44,
   "metadata": {
    "collapsed": false
   },
   "outputs": [
    {
     "ename": "IndexError",
     "evalue": "list index out of range",
     "output_type": "error",
     "traceback": [
      "\u001b[0;31m---------------------------------------------------------------------------\u001b[0m",
      "\u001b[0;31mIndexError\u001b[0m                                Traceback (most recent call last)",
      "\u001b[0;32m<ipython-input-44-d96dfae4bf2c>\u001b[0m in \u001b[0;36m<module>\u001b[0;34m()\u001b[0m\n\u001b[0;32m----> 1\u001b[0;31m \u001b[0mnodes\u001b[0m \u001b[0;34m=\u001b[0m \u001b[0mmap\u001b[0m\u001b[0;34m(\u001b[0m\u001b[0;32mlambda\u001b[0m \u001b[0mnode_occ\u001b[0m \u001b[0;34m:\u001b[0m \u001b[0;34m(\u001b[0m\u001b[0mlist\u001b[0m\u001b[0;34m(\u001b[0m\u001b[0mnode_occ\u001b[0m\u001b[0;34m[\u001b[0m\u001b[0;36m0\u001b[0m\u001b[0;34m]\u001b[0m\u001b[0;34m)\u001b[0m\u001b[0;34m[\u001b[0m\u001b[0;36m0\u001b[0m\u001b[0;34m]\u001b[0m\u001b[0;34m,\u001b[0m\u001b[0mnode_occ\u001b[0m\u001b[0;34m[\u001b[0m\u001b[0;36m1\u001b[0m\u001b[0;34m]\u001b[0m\u001b[0;34m)\u001b[0m\u001b[0;34m,\u001b[0m\u001b[0mnodes_iters\u001b[0m\u001b[0;34m)\u001b[0m\u001b[0;34m\u001b[0m\u001b[0m\n\u001b[0m",
      "\u001b[0;32m<ipython-input-44-d96dfae4bf2c>\u001b[0m in \u001b[0;36m<lambda>\u001b[0;34m(node_occ)\u001b[0m\n\u001b[0;32m----> 1\u001b[0;31m \u001b[0mnodes\u001b[0m \u001b[0;34m=\u001b[0m \u001b[0mmap\u001b[0m\u001b[0;34m(\u001b[0m\u001b[0;32mlambda\u001b[0m \u001b[0mnode_occ\u001b[0m \u001b[0;34m:\u001b[0m \u001b[0;34m(\u001b[0m\u001b[0mlist\u001b[0m\u001b[0;34m(\u001b[0m\u001b[0mnode_occ\u001b[0m\u001b[0;34m[\u001b[0m\u001b[0;36m0\u001b[0m\u001b[0;34m]\u001b[0m\u001b[0;34m)\u001b[0m\u001b[0;34m[\u001b[0m\u001b[0;36m0\u001b[0m\u001b[0;34m]\u001b[0m\u001b[0;34m,\u001b[0m\u001b[0mnode_occ\u001b[0m\u001b[0;34m[\u001b[0m\u001b[0;36m1\u001b[0m\u001b[0;34m]\u001b[0m\u001b[0;34m)\u001b[0m\u001b[0;34m,\u001b[0m\u001b[0mnodes_iters\u001b[0m\u001b[0;34m)\u001b[0m\u001b[0;34m\u001b[0m\u001b[0m\n\u001b[0m",
      "\u001b[0;31mIndexError\u001b[0m: list index out of range"
     ]
    }
   ],
   "source": [
    "nodes = map(lambda node_occ : (list(node_occ[0])[0],node_occ[1]),nodes_iters)"
   ]
  },
  {
   "cell_type": "code",
   "execution_count": 45,
   "metadata": {
    "collapsed": false
   },
   "outputs": [],
   "source": [
    "n0 = nodes_iters[0]"
   ]
  },
  {
   "cell_type": "code",
   "execution_count": 46,
   "metadata": {
    "collapsed": false
   },
   "outputs": [
    {
     "data": {
      "text/plain": [
       "(<generator object __iter__ at 0x7f276b506500>, <Occurrence pk=1909672>)"
      ]
     },
     "execution_count": 46,
     "metadata": {},
     "output_type": "execute_result"
    }
   ],
   "source": [
    "n0"
   ]
  },
  {
   "cell_type": "code",
   "execution_count": 47,
   "metadata": {
    "collapsed": false
   },
   "outputs": [
    {
     "data": {
      "text/plain": [
       "[]"
      ]
     },
     "execution_count": 47,
     "metadata": {},
     "output_type": "execute_result"
    }
   ],
   "source": [
    "list(n0[0])"
   ]
  },
  {
   "cell_type": "code",
   "execution_count": 80,
   "metadata": {
    "collapsed": true
   },
   "outputs": [],
   "source": [
    "test_f = lambda node_occ : (list(node_occ[0])[0],node_occ[1])"
   ]
  },
  {
   "cell_type": "code",
   "execution_count": 49,
   "metadata": {
    "collapsed": true
   },
   "outputs": [],
   "source": [
    "only_bursera_data_points_env = only_bursera.pullbackRasterNodes('MaxTemperature')"
   ]
  },
  {
   "cell_type": "code",
   "execution_count": 50,
   "metadata": {
    "collapsed": false
   },
   "outputs": [
    {
     "data": {
      "text/plain": [
       "[([<Raster Data type: MaxTemp-30s value = 22.0 >], <Occurrence pk=1909672>),\n",
       " ([<Raster Data type: MaxTemp-30s value = 9.0 >], <Occurrence pk=1918758>),\n",
       " ([<Raster Data type: MaxTemp-30s value = 15.0 >], <Occurrence pk=1553064>),\n",
       " ([<Raster Data type: MaxTemp-30s value = 17.0 >], <Occurrence pk=1802769>),\n",
       " ([<Raster Data type: MaxTemp-30s value = 14.0 >], <Occurrence pk=1909682>),\n",
       " ([<Raster Data type: MaxTemp-30s value = 22.0 >], <Occurrence pk=1553067>),\n",
       " ([<Raster Data type: MaxTemp-30s value = 14.0 >], <Occurrence pk=1553081>),\n",
       " ([<Raster Data type: MaxTemp-30s value = 10.0 >], <Occurrence pk=1659710>),\n",
       " ([<Raster Data type: MaxTemp-30s value = 10.0 >], <Occurrence pk=1928915>),\n",
       " ([<Raster Data type: MaxTemp-30s value = 15.0 >], <Occurrence pk=1909668>),\n",
       " ([<Raster Data type: MaxTemp-30s value = 9.0 >], <Occurrence pk=1659737>),\n",
       " ([<Raster Data type: MaxTemp-30s value = 9.0 >], <Occurrence pk=1928945>),\n",
       " ([<Raster Data type: MaxTemp-30s value = 9.0 >], <Occurrence pk=3162747>),\n",
       " ([<Raster Data type: MaxTemp-30s value = 14.0 >], <Occurrence pk=1918844>),\n",
       " ([<Raster Data type: MaxTemp-30s value = 14.0 >], <Occurrence pk=1562425>),\n",
       " ([<Raster Data type: MaxTemp-30s value = 10.0 >], <Occurrence pk=2632407>),\n",
       " ([<Raster Data type: MaxTemp-30s value = 9.0 >], <Occurrence pk=1562344>),\n",
       " ([<Raster Data type: MaxTemp-30s value = 8.0 >], <Occurrence pk=3162685>),\n",
       " ([<Raster Data type: MaxTemp-30s value = 23.0 >], <Occurrence pk=1909617>),\n",
       " ([<Raster Data type: MaxTemp-30s value = 23.0 >], <Occurrence pk=1552936>),\n",
       " ([<Raster Data type: MaxTemp-30s value = 11.0 >], <Occurrence pk=1801551>),\n",
       " ([<Raster Data type: MaxTemp-30s value = 12.0 >], <Occurrence pk=1918552>),\n",
       " ([<Raster Data type: MaxTemp-30s value = 11.0 >], <Occurrence pk=1800579>),\n",
       " ([<Raster Data type: MaxTemp-30s value = 21.0 >], <Occurrence pk=2631646>),\n",
       " ([<Raster Data type: MaxTemp-30s value = 12.0 >], <Occurrence pk=3162145>),\n",
       " ([<Raster Data type: MaxTemp-30s value = 11.0 >], <Occurrence pk=1661129>),\n",
       " ([<Raster Data type: MaxTemp-30s value = 12.0 >], <Occurrence pk=1562112>),\n",
       " ([<Raster Data type: MaxTemp-30s value = 21.0 >], <Occurrence pk=1802610>),\n",
       " ([<Raster Data type: MaxTemp-30s value = 21.0 >], <Occurrence pk=2632134>),\n",
       " ([<Raster Data type: MaxTemp-30s value = 12.0 >], <Occurrence pk=1800602>),\n",
       " ([<Raster Data type: MaxTemp-30s value = 10.0 >], <Occurrence pk=1801600>),\n",
       " ([<Raster Data type: MaxTemp-30s value = 20.0 >], <Occurrence pk=1918545>),\n",
       " ([<Raster Data type: MaxTemp-30s value = 16.0 >], <Occurrence pk=1766537>),\n",
       " ([<Raster Data type: MaxTemp-30s value = 23.0 >], <Occurrence pk=1562111>),\n",
       " ([<Raster Data type: MaxTemp-30s value = 23.0 >], <Occurrence pk=1918551>),\n",
       " ([<Raster Data type: MaxTemp-30s value = 13.0 >], <Occurrence pk=1686107>),\n",
       " ([<Raster Data type: MaxTemp-30s value = 11.0 >], <Occurrence pk=1801587>),\n",
       " ([<Raster Data type: MaxTemp-30s value = 13.0 >], <Occurrence pk=234754>),\n",
       " ([<Raster Data type: MaxTemp-30s value = 15.0 >], <Occurrence pk=1766568>),\n",
       " ([<Raster Data type: MaxTemp-30s value = 20.0 >], <Occurrence pk=1562097>),\n",
       " ([<Raster Data type: MaxTemp-30s value = 5.0 >], <Occurrence pk=235645>),\n",
       " ([<Raster Data type: MaxTemp-30s value = 16.0 >], <Occurrence pk=1766540>),\n",
       " ([<Raster Data type: MaxTemp-30s value = 10.0 >], <Occurrence pk=1685508>),\n",
       " ([<Raster Data type: MaxTemp-30s value = 16.0 >], <Occurrence pk=2632167>),\n",
       " ([<Raster Data type: MaxTemp-30s value = 15.0 >], <Occurrence pk=2632190>),\n",
       " ([<Raster Data type: MaxTemp-30s value = 11.0 >], <Occurrence pk=1928620>),\n",
       " ([<Raster Data type: MaxTemp-30s value = 22.0 >], <Occurrence pk=1800704>),\n",
       " ([<Raster Data type: MaxTemp-30s value = 21.0 >], <Occurrence pk=1766472>),\n",
       " ([<Raster Data type: MaxTemp-30s value = 21.0 >], <Occurrence pk=1767569>),\n",
       " ([<Raster Data type: MaxTemp-30s value = 16.0 >], <Occurrence pk=2632168>),\n",
       " ([<Raster Data type: MaxTemp-30s value = 18.0 >], <Occurrence pk=1686546>),\n",
       " ([<Raster Data type: MaxTemp-30s value = 18.0 >], <Occurrence pk=1166966>),\n",
       " ([<Raster Data type: MaxTemp-30s value = 18.0 >], <Occurrence pk=2190130>),\n",
       " ([<Raster Data type: MaxTemp-30s value = 23.0 >], <Occurrence pk=2190146>),\n",
       " ([<Raster Data type: MaxTemp-30s value = 21.0 >], <Occurrence pk=1686583>),\n",
       " ([<Raster Data type: MaxTemp-30s value = -9999 >], <Occurrence pk=1686587>),\n",
       " ([<Raster Data type: MaxTemp-30s value = 18.0 >], <Occurrence pk=2190348>),\n",
       " ([<Raster Data type: MaxTemp-30s value = 18.0 >], <Occurrence pk=951710>),\n",
       " ([<Raster Data type: MaxTemp-30s value = 21.0 >], <Occurrence pk=951762>),\n",
       " ([<Raster Data type: MaxTemp-30s value = 16.0 >], <Occurrence pk=2193432>),\n",
       " ([<Raster Data type: MaxTemp-30s value = 20.0 >], <Occurrence pk=3163228>),\n",
       " ([<Raster Data type: MaxTemp-30s value = 21.0 >], <Occurrence pk=1573579>),\n",
       " ([<Raster Data type: MaxTemp-30s value = 21.0 >], <Occurrence pk=1954574>),\n",
       " ([<Raster Data type: MaxTemp-30s value = 22.0 >], <Occurrence pk=2200320>),\n",
       " ([<Raster Data type: MaxTemp-30s value = 22.0 >], <Occurrence pk=1686677>),\n",
       " ([<Raster Data type: MaxTemp-30s value = 20.0 >], <Occurrence pk=1573584>),\n",
       " ([<Raster Data type: MaxTemp-30s value = 23.0 >], <Occurrence pk=1686540>),\n",
       " ([<Raster Data type: MaxTemp-30s value = 21.0 >], <Occurrence pk=1167045>),\n",
       " ([<Raster Data type: MaxTemp-30s value = 18.0 >], <Occurrence pk=2193640>),\n",
       " ([<Raster Data type: MaxTemp-30s value = 20.0 >], <Occurrence pk=1955727>),\n",
       " ([<Raster Data type: MaxTemp-30s value = 21.0 >], <Occurrence pk=1686570>),\n",
       " ([<Raster Data type: MaxTemp-30s value = 17.0 >], <Occurrence pk=2192644>),\n",
       " ([<Raster Data type: MaxTemp-30s value = 21.0 >], <Occurrence pk=2190215>),\n",
       " ([<Raster Data type: MaxTemp-30s value = 18.0 >], <Occurrence pk=2190356>),\n",
       " ([<Raster Data type: MaxTemp-30s value = 18.0 >], <Occurrence pk=1686761>),\n",
       " ([<Raster Data type: MaxTemp-30s value = 25.0 >], <Occurrence pk=2188610>),\n",
       " ([<Raster Data type: MaxTemp-30s value = 25.0 >], <Occurrence pk=2188545>),\n",
       " ([<Raster Data type: MaxTemp-30s value = -9999 >], <Occurrence pk=1930012>),\n",
       " ([<Raster Data type: MaxTemp-30s value = 23.0 >], <Occurrence pk=1659947>),\n",
       " ([<Raster Data type: MaxTemp-30s value = 21.0 >], <Occurrence pk=3163122>),\n",
       " ([<Raster Data type: MaxTemp-30s value = 23.0 >], <Occurrence pk=3163196>),\n",
       " ([<Raster Data type: MaxTemp-30s value = 18.0 >], <Occurrence pk=1686572>),\n",
       " ([<Raster Data type: MaxTemp-30s value = 21.0 >], <Occurrence pk=2192728>),\n",
       " ([<Raster Data type: MaxTemp-30s value = 18.0 >], <Occurrence pk=1686548>),\n",
       " ([<Raster Data type: MaxTemp-30s value = 18.0 >], <Occurrence pk=1686763>),\n",
       " ([<Raster Data type: MaxTemp-30s value = 20.0 >], <Occurrence pk=1766320>),\n",
       " ([<Raster Data type: MaxTemp-30s value = 10.0 >], <Occurrence pk=2632390>),\n",
       " ([<Raster Data type: MaxTemp-30s value = 22.0 >], <Occurrence pk=1562065>),\n",
       " ([<Raster Data type: MaxTemp-30s value = 17.0 >], <Occurrence pk=1767964>),\n",
       " ([<Raster Data type: MaxTemp-30s value = 22.0 >], <Occurrence pk=1766415>),\n",
       " ([<Raster Data type: MaxTemp-30s value = 23.0 >], <Occurrence pk=2631766>),\n",
       " ([<Raster Data type: MaxTemp-30s value = 20.0 >], <Occurrence pk=2632029>),\n",
       " ([<Raster Data type: MaxTemp-30s value = 22.0 >], <Occurrence pk=1918531>),\n",
       " ([<Raster Data type: MaxTemp-30s value = 22.0 >], <Occurrence pk=2632088>),\n",
       " ([<Raster Data type: MaxTemp-30s value = 17.0 >], <Occurrence pk=2631913>),\n",
       " ([<Raster Data type: MaxTemp-30s value = 23.0 >], <Occurrence pk=1767859>),\n",
       " ([<Raster Data type: MaxTemp-30s value = 14.0 >], <Occurrence pk=1801542>),\n",
       " ([<Raster Data type: MaxTemp-30s value = 11.0 >], <Occurrence pk=1802757>),\n",
       " ([<Raster Data type: MaxTemp-30s value = 17.0 >], <Occurrence pk=1802880>),\n",
       " ([<Raster Data type: MaxTemp-30s value = 11.0 >], <Occurrence pk=1802731>),\n",
       " ([<Raster Data type: MaxTemp-30s value = 10.0 >], <Occurrence pk=2096876>),\n",
       " ([<Raster Data type: MaxTemp-30s value = 22.0 >], <Occurrence pk=1802713>),\n",
       " ([<Raster Data type: MaxTemp-30s value = 16.0 >], <Occurrence pk=1802729>),\n",
       " ([<Raster Data type: MaxTemp-30s value = 14.0 >], <Occurrence pk=1802663>),\n",
       " ([<Raster Data type: MaxTemp-30s value = 15.0 >], <Occurrence pk=2216816>),\n",
       " ([<Raster Data type: MaxTemp-30s value = 16.0 >], <Occurrence pk=1686845>),\n",
       " ([<Raster Data type: MaxTemp-30s value = 14.0 >], <Occurrence pk=2216907>),\n",
       " ([<Raster Data type: MaxTemp-30s value = 12.0 >], <Occurrence pk=2220925>),\n",
       " ([<Raster Data type: MaxTemp-30s value = 19.0 >], <Occurrence pk=1685349>),\n",
       " ([<Raster Data type: MaxTemp-30s value = 16.0 >], <Occurrence pk=1801185>),\n",
       " ([<Raster Data type: MaxTemp-30s value = 16.0 >], <Occurrence pk=1801202>),\n",
       " ([<Raster Data type: MaxTemp-30s value = 13.0 >], <Occurrence pk=1685533>),\n",
       " ([<Raster Data type: MaxTemp-30s value = 15.0 >], <Occurrence pk=2096845>),\n",
       " ([<Raster Data type: MaxTemp-30s value = 14.0 >], <Occurrence pk=1801142>),\n",
       " ([<Raster Data type: MaxTemp-30s value = 10.0 >], <Occurrence pk=1800888>),\n",
       " ([<Raster Data type: MaxTemp-30s value = 20.0 >], <Occurrence pk=1802660>),\n",
       " ([<Raster Data type: MaxTemp-30s value = 20.0 >], <Occurrence pk=1802662>),\n",
       " ([<Raster Data type: MaxTemp-30s value = 12.0 >], <Occurrence pk=1686869>),\n",
       " ([<Raster Data type: MaxTemp-30s value = 22.0 >], <Occurrence pk=1802700>),\n",
       " ([<Raster Data type: MaxTemp-30s value = 18.0 >], <Occurrence pk=1802799>),\n",
       " ([<Raster Data type: MaxTemp-30s value = 10.0 >], <Occurrence pk=1802657>),\n",
       " ([<Raster Data type: MaxTemp-30s value = 11.0 >], <Occurrence pk=229446>),\n",
       " ([<Raster Data type: MaxTemp-30s value = 20.0 >], <Occurrence pk=1800807>),\n",
       " ([<Raster Data type: MaxTemp-30s value = 16.0 >], <Occurrence pk=3162199>),\n",
       " ([<Raster Data type: MaxTemp-30s value = 20.0 >], <Occurrence pk=1918784>),\n",
       " ([<Raster Data type: MaxTemp-30s value = 13.0 >], <Occurrence pk=1562319>),\n",
       " ([<Raster Data type: MaxTemp-30s value = 13.0 >], <Occurrence pk=234855>),\n",
       " ([<Raster Data type: MaxTemp-30s value = 20.0 >], <Occurrence pk=1562368>),\n",
       " ([<Raster Data type: MaxTemp-30s value = 13.0 >], <Occurrence pk=1918743>),\n",
       " ([<Raster Data type: MaxTemp-30s value = 8.0 >], <Occurrence pk=1686337>),\n",
       " ([<Raster Data type: MaxTemp-30s value = 13.0 >], <Occurrence pk=1686319>),\n",
       " ([<Raster Data type: MaxTemp-30s value = 16.0 >], <Occurrence pk=1802500>),\n",
       " ([<Raster Data type: MaxTemp-30s value = 22.0 >], <Occurrence pk=1802473>),\n",
       " ([<Raster Data type: MaxTemp-30s value = 11.0 >], <Occurrence pk=1686847>),\n",
       " ([<Raster Data type: MaxTemp-30s value = 11.0 >], <Occurrence pk=1687135>),\n",
       " ([<Raster Data type: MaxTemp-30s value = 16.0 >], <Occurrence pk=3163355>),\n",
       " ([<Raster Data type: MaxTemp-30s value = 13.0 >], <Occurrence pk=1687172>),\n",
       " ([<Raster Data type: MaxTemp-30s value = 13.0 >], <Occurrence pk=1687174>),\n",
       " ([<Raster Data type: MaxTemp-30s value = 17.0 >], <Occurrence pk=1918698>),\n",
       " ([<Raster Data type: MaxTemp-30s value = 17.0 >], <Occurrence pk=1562047>),\n",
       " ([<Raster Data type: MaxTemp-30s value = 21.0 >], <Occurrence pk=1562031>),\n",
       " ([<Raster Data type: MaxTemp-30s value = 21.0 >], <Occurrence pk=1918670>),\n",
       " ([<Raster Data type: MaxTemp-30s value = 9.0 >], <Occurrence pk=1802693>),\n",
       " ([<Raster Data type: MaxTemp-30s value = 14.0 >], <Occurrence pk=1802138>),\n",
       " ([<Raster Data type: MaxTemp-30s value = 19.0 >], <Occurrence pk=1766333>),\n",
       " ([<Raster Data type: MaxTemp-30s value = 19.0 >], <Occurrence pk=2632037>),\n",
       " ([<Raster Data type: MaxTemp-30s value = 9.0 >], <Occurrence pk=1918727>),\n",
       " ([<Raster Data type: MaxTemp-30s value = 23.0 >], <Occurrence pk=2137752>),\n",
       " ([<Raster Data type: MaxTemp-30s value = 7.0 >], <Occurrence pk=3077276>),\n",
       " ([<Raster Data type: MaxTemp-30s value = 22.0 >], <Occurrence pk=1804132>),\n",
       " ([<Raster Data type: MaxTemp-30s value = 9.0 >], <Occurrence pk=1562294>),\n",
       " ([<Raster Data type: MaxTemp-30s value = 10.0 >], <Occurrence pk=1803955>),\n",
       " ([<Raster Data type: MaxTemp-30s value = 20.0 >], <Occurrence pk=1800459>),\n",
       " ([<Raster Data type: MaxTemp-30s value = 21.0 >], <Occurrence pk=3162255>),\n",
       " ([<Raster Data type: MaxTemp-30s value = 8.0 >], <Occurrence pk=1800463>),\n",
       " ([<Raster Data type: MaxTemp-30s value = 18.0 >], <Occurrence pk=2199518>),\n",
       " ([<Raster Data type: MaxTemp-30s value = 14.0 >], <Occurrence pk=1802642>),\n",
       " ([<Raster Data type: MaxTemp-30s value = 16.0 >], <Occurrence pk=1687019>),\n",
       " ([<Raster Data type: MaxTemp-30s value = 14.0 >], <Occurrence pk=1686310>),\n",
       " ([<Raster Data type: MaxTemp-30s value = 12.0 >], <Occurrence pk=1686871>),\n",
       " ([<Raster Data type: MaxTemp-30s value = 14.0 >], <Occurrence pk=1802988>),\n",
       " ([<Raster Data type: MaxTemp-30s value = 14.0 >], <Occurrence pk=1802868>),\n",
       " ([<Raster Data type: MaxTemp-30s value = 14.0 >], <Occurrence pk=1687037>),\n",
       " ([<Raster Data type: MaxTemp-30s value = 10.0 >], <Occurrence pk=1802798>),\n",
       " ([<Raster Data type: MaxTemp-30s value = 12.0 >], <Occurrence pk=1800926>),\n",
       " ([<Raster Data type: MaxTemp-30s value = 11.0 >], <Occurrence pk=1801013>),\n",
       " ([<Raster Data type: MaxTemp-30s value = 10.0 >], <Occurrence pk=1801605>),\n",
       " ([<Raster Data type: MaxTemp-30s value = 12.0 >], <Occurrence pk=1801044>),\n",
       " ([<Raster Data type: MaxTemp-30s value = 13.0 >], <Occurrence pk=1800909>),\n",
       " ([<Raster Data type: MaxTemp-30s value = 20.0 >], <Occurrence pk=1801057>),\n",
       " ([<Raster Data type: MaxTemp-30s value = 20.0 >], <Occurrence pk=1801083>),\n",
       " ([<Raster Data type: MaxTemp-30s value = 13.0 >], <Occurrence pk=1685535>),\n",
       " ([<Raster Data type: MaxTemp-30s value = 10.0 >], <Occurrence pk=1685175>),\n",
       " ([<Raster Data type: MaxTemp-30s value = 13.0 >], <Occurrence pk=1685161>),\n",
       " ([<Raster Data type: MaxTemp-30s value = 20.0 >], <Occurrence pk=2761397>),\n",
       " ([<Raster Data type: MaxTemp-30s value = 9.0 >], <Occurrence pk=2222305>),\n",
       " ([<Raster Data type: MaxTemp-30s value = 20.0 >], <Occurrence pk=1562386>),\n",
       " ([<Raster Data type: MaxTemp-30s value = 18.0 >], <Occurrence pk=3162661>),\n",
       " ([<Raster Data type: MaxTemp-30s value = 13.0 >], <Occurrence pk=234875>),\n",
       " ([<Raster Data type: MaxTemp-30s value = 13.0 >], <Occurrence pk=2222376>),\n",
       " ([<Raster Data type: MaxTemp-30s value = 20.0 >], <Occurrence pk=2222297>),\n",
       " ([<Raster Data type: MaxTemp-30s value = 16.0 >], <Occurrence pk=2632159>),\n",
       " ([<Raster Data type: MaxTemp-30s value = 16.0 >], <Occurrence pk=1766525>),\n",
       " ([<Raster Data type: MaxTemp-30s value = 22.0 >], <Occurrence pk=2199126>),\n",
       " ([<Raster Data type: MaxTemp-30s value = 18.0 >], <Occurrence pk=1553523>),\n",
       " ([<Raster Data type: MaxTemp-30s value = 18.0 >], <Occurrence pk=1909897>),\n",
       " ([<Raster Data type: MaxTemp-30s value = 20.0 >], <Occurrence pk=1918808>),\n",
       " ([<Raster Data type: MaxTemp-30s value = 8.0 >], <Occurrence pk=1553522>),\n",
       " ([<Raster Data type: MaxTemp-30s value = 8.0 >], <Occurrence pk=1909896>),\n",
       " ([<Raster Data type: MaxTemp-30s value = 16.0 >], <Occurrence pk=1766569>),\n",
       " ([<Raster Data type: MaxTemp-30s value = 16.0 >], <Occurrence pk=2632192>),\n",
       " ([<Raster Data type: MaxTemp-30s value = 19.0 >], <Occurrence pk=2632047>),\n",
       " ([<Raster Data type: MaxTemp-30s value = 19.0 >], <Occurrence pk=1766356>),\n",
       " ([<Raster Data type: MaxTemp-30s value = 9.0 >], <Occurrence pk=1562295>),\n",
       " ([<Raster Data type: MaxTemp-30s value = 9.0 >], <Occurrence pk=1918729>),\n",
       " ([<Raster Data type: MaxTemp-30s value = 23.0 >], <Occurrence pk=2631594>),\n",
       " ([<Raster Data type: MaxTemp-30s value = 18.0 >], <Occurrence pk=2632207>),\n",
       " ([<Raster Data type: MaxTemp-30s value = 18.0 >], <Occurrence pk=1766603>),\n",
       " ([<Raster Data type: MaxTemp-30s value = -9999 >], <Occurrence pk=238577>),\n",
       " ([<Raster Data type: MaxTemp-30s value = 12.0 >], <Occurrence pk=1686220>),\n",
       " ([<Raster Data type: MaxTemp-30s value = 11.0 >], <Occurrence pk=2632365>),\n",
       " ([<Raster Data type: MaxTemp-30s value = 23.0 >], <Occurrence pk=1767944>),\n",
       " ([<Raster Data type: MaxTemp-30s value = 23.0 >], <Occurrence pk=1767464>),\n",
       " ([<Raster Data type: MaxTemp-30s value = 23.0 >], <Occurrence pk=2631866>),\n",
       " ([<Raster Data type: MaxTemp-30s value = 18.0 >], <Occurrence pk=3162851>),\n",
       " ([<Raster Data type: MaxTemp-30s value = 14.0 >], <Occurrence pk=1802239>),\n",
       " ([<Raster Data type: MaxTemp-30s value = 17.0 >], <Occurrence pk=1802318>),\n",
       " ([<Raster Data type: MaxTemp-30s value = 17.0 >], <Occurrence pk=1685241>),\n",
       " ([<Raster Data type: MaxTemp-30s value = 19.0 >], <Occurrence pk=2199032>),\n",
       " ([<Raster Data type: MaxTemp-30s value = 21.0 >], <Occurrence pk=2199058>),\n",
       " ([<Raster Data type: MaxTemp-30s value = 23.0 >], <Occurrence pk=843897>),\n",
       " ([<Raster Data type: MaxTemp-30s value = 23.0 >], <Occurrence pk=843901>),\n",
       " ([<Raster Data type: MaxTemp-30s value = 11.0 >], <Occurrence pk=2590495>)]"
      ]
     },
     "execution_count": 50,
     "metadata": {},
     "output_type": "execute_result"
    }
   ],
   "source": [
    "only_bursera_data_points_env"
   ]
  },
  {
   "cell_type": "code",
   "execution_count": 52,
   "metadata": {
    "collapsed": false
   },
   "outputs": [],
   "source": [
    "only_bursera_data_points_env = only_bursera.associatedData.getValuesFromPoints??"
   ]
  },
  {
   "cell_type": "code",
   "execution_count": null,
   "metadata": {
    "collapsed": true
   },
   "outputs": [],
   "source": [
    "only_bursera_data_points_env = only_bursera.associatedData.getValuesFromPoints"
   ]
  },
  {
   "cell_type": "code",
   "execution_count": null,
   "metadata": {
    "collapsed": true
   },
   "outputs": [],
   "source": [
    "only_bursera_data_points_env = only_bursera.associatedData.getValuesFromPoints"
   ]
  },
  {
   "cell_type": "code",
   "execution_count": null,
   "metadata": {
    "collapsed": true
   },
   "outputs": [],
   "source": [
    "only_bursera_data_points_env = only_bursera.associatedData.getEnvironmentalVariablesPoints"
   ]
  },
  {
   "cell_type": "markdown",
   "metadata": {},
   "source": [
    "## General aproach"
   ]
  },
  {
   "cell_type": "code",
   "execution_count": 52,
   "metadata": {
    "collapsed": false
   },
   "outputs": [
    {
     "data": {
      "text/plain": [
       "list"
      ]
     },
     "execution_count": 52,
     "metadata": {},
     "output_type": "execute_result"
    }
   ],
   "source": [
    "type(big_tree.levels)"
   ]
  },
  {
   "cell_type": "code",
   "execution_count": 45,
   "metadata": {
    "collapsed": true
   },
   "outputs": [],
   "source": [
    "birds = t.to_Animalia.to_Chordata.to_Aves"
   ]
  },
  {
   "cell_type": "code",
   "execution_count": 46,
   "metadata": {
    "collapsed": false
   },
   "outputs": [
    {
     "data": {
      "text/plain": [
       "<TreeNode type: Family id = 343770 name: Burseraceae>"
      ]
     },
     "execution_count": 46,
     "metadata": {},
     "output_type": "execute_result"
    }
   ],
   "source": [
    "bursera"
   ]
  },
  {
   "cell_type": "code",
   "execution_count": 47,
   "metadata": {
    "collapsed": false
   },
   "outputs": [
    {
     "data": {
      "text/plain": [
       "<TreeNode | Class: Aves - n.count : 8- >"
      ]
     },
     "execution_count": 47,
     "metadata": {},
     "output_type": "execute_result"
    }
   ],
   "source": [
    "birds"
   ]
  },
  {
   "cell_type": "code",
   "execution_count": 48,
   "metadata": {
    "collapsed": false
   },
   "outputs": [
    {
     "data": {
      "text/plain": [
       "[<LocalTree Of Life | Root: LUCA - n.count : 14- >,\n",
       " <LocalTree Of Life | Root: LUCA - n.count : 4- >,\n",
       " <LocalTree Of Life | Root: LUCA - n.count : 37- >,\n",
       " <LocalTree Of Life | Root: LUCA - n.count : 373- >,\n",
       " <LocalTree Of Life | Root: LUCA - n.count : 5- >,\n",
       " <LocalTree Of Life | Root: LUCA - n.count : 9- >,\n",
       " <LocalTree Of Life | Root: LUCA - n.count : 2- >,\n",
       " <LocalTree Of Life | Root: LUCA - n.count : 59- >,\n",
       " <LocalTree Of Life | Root: LUCA - n.count : 947- >,\n",
       " <LocalTree Of Life | Root: LUCA - n.count : 1052- >]"
      ]
     },
     "execution_count": 48,
     "metadata": {},
     "output_type": "execute_result"
    }
   ],
   "source": [
    "trees"
   ]
  },
  {
   "cell_type": "code",
   "execution_count": 49,
   "metadata": {
    "collapsed": false
   },
   "outputs": [
    {
     "data": {
      "text/plain": [
       "[<LocalTree Of Life | Root: LUCA - n.count : 14- >,\n",
       " <LocalTree Of Life | Root: LUCA - n.count : 373- >,\n",
       " <LocalTree Of Life | Root: LUCA - n.count : 947- >,\n",
       " <LocalTree Of Life | Root: LUCA - n.count : 1052- >]"
      ]
     },
     "execution_count": 49,
     "metadata": {},
     "output_type": "execute_result"
    }
   ],
   "source": [
    "filter(lambda tree : tree.hasNode(birds),trees)"
   ]
  },
  {
   "cell_type": "code",
   "execution_count": 56,
   "metadata": {
    "collapsed": true
   },
   "outputs": [],
   "source": [
    "getNeighbourhood = lambda tree : tree.getNeighboringTrees()"
   ]
  },
  {
   "cell_type": "code",
   "execution_count": null,
   "metadata": {
    "collapsed": true
   },
   "outputs": [],
   "source": []
  }
 ],
 "metadata": {
  "kernelspec": {
   "display_name": "Django Shell-Plus",
   "language": "python",
   "name": "django_extensions"
  },
  "language_info": {
   "codemirror_mode": {
    "name": "ipython",
    "version": 2
   },
   "file_extension": ".py",
   "mimetype": "text/x-python",
   "name": "python",
   "nbconvert_exporter": "python",
   "pygments_lexer": "ipython2",
   "version": "2.7.11"
  }
 },
 "nbformat": 4,
 "nbformat_minor": 0
}
