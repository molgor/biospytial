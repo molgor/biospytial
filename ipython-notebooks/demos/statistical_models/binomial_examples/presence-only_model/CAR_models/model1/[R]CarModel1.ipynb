{
 "cells": [
  {
   "cell_type": "markdown",
   "metadata": {},
   "source": [
    "# A notebook in R for modelling species distributions and sample effort using \n",
    "## CAR models\n",
    "\n",
    "The conditional autologistic model (Besage, et. al 1991) has the following specification (Lee, 2013).\n"
   ]
  },
  {
   "cell_type": "code",
   "execution_count": 2,
   "metadata": {},
   "outputs": [
    {
     "name": "stderr",
     "output_type": "stream",
     "text": [
      "Loading required package: MASS\n",
      "Loading required package: Rcpp\n",
      "\n",
      "Attaching package: ‘dplyr’\n",
      "\n",
      "The following object is masked from ‘package:MASS’:\n",
      "\n",
      "    select\n",
      "\n",
      "The following objects are masked from ‘package:stats’:\n",
      "\n",
      "    filter, lag\n",
      "\n",
      "The following objects are masked from ‘package:base’:\n",
      "\n",
      "    intersect, setdiff, setequal, union\n",
      "\n"
     ]
    }
   ],
   "source": [
    "library(CARBayes)\n",
    "library(dplyr)\n",
    "library(purrr)\n",
    "library(biospytial.rwrapper)"
   ]
  },
  {
   "cell_type": "code",
   "execution_count": 3,
   "metadata": {},
   "outputs": [],
   "source": [
    "## Read adjancency matrix\n",
    "mat_filename = \"/outputs/training_data_sample_puebla_p9_abies_pinophyta_adjmat.npy\"\n",
    "library(reticulate)\n",
    "np <- import(\"numpy\")\n",
    "M <- np$load(mat_filename)\n",
    "TDF = read.csv(\"/outputs/training_data_sample_puebla_p9_abies_pinophyta.csv\")\n",
    "## Order it according to the id of the cell\n",
    "## This is important because the adjancy matrix rows need to be the same\n",
    "TDF = TDF[order(TDF$cell_ids),]\n",
    "# Convert to numeric\n",
    "TDF = mutate_at(TDF,vars(Dist.to.road_m,Elevation_m,MaxTemp_m,MeanTemp_m,MinTemp_m,Population_m,Precipitation_m,SolarRadiation_m,VaporPres_m,WindSp_m),as.numeric)\n",
    "names(TDF) = lapply(names(TDF),function(x) gsub(\"_\",\"\",x))\n",
    "names(TDF) = lapply(names(TDF),function(x) gsub(\"\\\\.\",\"\",x))\n",
    "                    \n",
    "### Mini script para borrar entrada con 0 neighbours\n",
    "D = apply(M,MARGIN = 1,sum)\n",
    "idx = match(0,D)\n",
    "## Please check that the order is ok\n",
    "# Checked, \n",
    "cell_with_no_neighbour = TDF$cellids[idx]\n",
    "## look in the gis\n",
    "## Erase idx for M and for TDF (Or maybe only for M)\n",
    "M_bis = M[-c(idx),-c(idx)]\n",
    "\n",
    "names(TDF)[23] <- 'covid2'\n",
    "DataFrame = TDF %>% rowwise() %>% mutate(sample=pseudo_absence_naive(Plantae,LUCA),\n",
    "                              species=pseudo_absence_naive(Pinophyta,Plantae))\n",
    "                    \n",
    "                    \n",
    "formula_sample=sample~Disttoroadm+Populationm #+factor(tipos)\n",
    "formula_presence=species~Elevationm+MeanTempm\n",
    "n <- nrow(TDF)\n",
    "trials <- rep(1,n)\n",
    "\n",
    "burnin = 50000\n",
    "n.sample = 100000\n",
    "thin = 50    "
   ]
  },
  {
   "cell_type": "code",
   "execution_count": 4,
   "metadata": {},
   "outputs": [
    {
     "name": "stdout",
     "output_type": "stream",
     "text": [
      "Setting up the model.\n",
      "Generating 1000 post burnin and thinned (if requested) samples.\n",
      "  |======================================================================| 100%\n",
      "Summarising results.\n",
      "Finished in  846.8 seconds.\n"
     ]
    }
   ],
   "source": [
    "model.sample <-S.CARbym(formula=formula_sample,family=\"binomial\",W=M_bis,trials = trials,data=DataFrame,burnin=burnin,n.sample=n.sample,thin=thin,verbose = TRUE)"
   ]
  },
  {
   "cell_type": "code",
   "execution_count": 5,
   "metadata": {
    "scrolled": true
   },
   "outputs": [
    {
     "name": "stdout",
     "output_type": "stream",
     "text": [
      "Setting up the model.\n",
      "Generating 1000 post burnin and thinned (if requested) samples.\n",
      "  |======================================================================| 100%\n",
      "Summarising results.\n",
      "Finished in  866.1 seconds.\n"
     ]
    }
   ],
   "source": [
    "model.presence <- S.CARbym(formula=formula_presence,family=\"binomial\",W=M_bis,trials = trials,data=DataFrame,burnin=burnin,n.sample=n.sample,thin=thin,verbose = TRUE)"
   ]
  },
  {
   "cell_type": "code",
   "execution_count": 6,
   "metadata": {},
   "outputs": [
    {
     "name": "stdout",
     "output_type": "stream",
     "text": [
      "\n",
      "#################\n",
      "#### Model fitted\n",
      "#################\n",
      "Likelihood model - Binomial (logit link function) \n",
      "Random effects model - BYM CAR\n",
      "Regression equation - sample ~ Disttoroadm + Populationm\n",
      "Number of missing observations - 731\n",
      "\n",
      "############\n",
      "#### Results\n",
      "############\n",
      "Posterior quantities and DIC\n",
      "\n",
      "             Median    2.5%   97.5% n.sample % accept n.effective Geweke.diag\n",
      "(Intercept)  3.5183  2.8552  4.5571     1000     46.3        17.8         0.6\n",
      "Disttoroadm -0.0002 -0.0004 -0.0001     1000     46.3       530.0         1.0\n",
      "Populationm  0.0000 -0.0001  0.0002     1000     46.3      1000.0        -0.1\n",
      "tau2         6.6524  3.7867 11.9560     1000    100.0        26.7        -0.1\n",
      "sigma2       0.4145  0.0551  3.3149     1000    100.0         5.0         1.0\n",
      "\n",
      "DIC =  2092.947       p.d =  543.3697       LMPL =  -1111.51 \n"
     ]
    }
   ],
   "source": [
    "#DIC for model with polygon 4 611.3458\n",
    "print(model.sample)"
   ]
  },
  {
   "cell_type": "code",
   "execution_count": 7,
   "metadata": {},
   "outputs": [
    {
     "name": "stdout",
     "output_type": "stream",
     "text": [
      "\n",
      "#################\n",
      "#### Model fitted\n",
      "#################\n",
      "Likelihood model - Binomial (logit link function) \n",
      "Random effects model - BYM CAR\n",
      "Regression equation - species ~ Elevationm + MeanTempm\n",
      "Number of missing observations - 1161\n",
      "\n",
      "############\n",
      "#### Results\n",
      "############\n",
      "Posterior quantities and DIC\n",
      "\n",
      "             Median    2.5%   97.5% n.sample % accept n.effective Geweke.diag\n",
      "(Intercept) -4.4071 -6.1465 -3.1003     1000     46.5        32.6         1.7\n",
      "Elevationm   0.0002 -0.0001  0.0005     1000     46.5       701.9         1.0\n",
      "MeanTempm   -0.0007 -0.0012 -0.0002     1000     46.5       297.3         0.6\n",
      "tau2        14.7050  7.1535 31.7971     1000    100.0        12.6        -1.4\n",
      "sigma2       0.0930  0.0331  0.4415     1000    100.0         9.1        -0.9\n",
      "\n",
      "DIC =  1420.211       p.d =  441.4069       LMPL =  -786.85 \n"
     ]
    }
   ],
   "source": [
    "print(model.presence)"
   ]
  },
  {
   "cell_type": "code",
   "execution_count": 8,
   "metadata": {},
   "outputs": [],
   "source": [
    "## Compute independent joint distribution\n",
    "library(boot)\n",
    "## Calculate the inverse of the logit for extracted fitted \n",
    "#fitted_presences = apply(model.presence$samples$fitted,MARGIN=1,inv.logit)\n",
    "#fitted_sample = apply(model.sample$samples$fitted,MARGIN=1,inv.logit)\n",
    "\n",
    "fitted_presences = apply(model.presence$samples$fitted,MARGIN=1,identity)\n",
    "fitted_sample = apply(model.sample$samples$fitted,MARGIN=1,identity)\n",
    "\n",
    "re_presence = apply(model.presence$samples$psi,MARGIN=1,identity)\n",
    "re_sample = apply(model.sample$samples$psi,MARGIN=1,identity)"
   ]
  },
  {
   "cell_type": "code",
   "execution_count": 9,
   "metadata": {},
   "outputs": [],
   "source": [
    "getUpperLowerCI <- function(fitted_sample,prefix=\"\",MARGIN=1){\n",
    "    fp = partial(quantile,probs=c(0.025,0.5,0.975))\n",
    "    quants =apply(X = fitted_sample,FUN = fp,MARGIN)\n",
    "    mfitt = apply(fitted_sample,mean,MARGIN = MARGIN)\n",
    "    vfitt = apply(fitted_sample,var,MARGIN = MARGIN)\n",
    "    new_data = cbind(t(quants),mfitt,vfitt)\n",
    "    l = as.list(c(\"q025\",\"median\",\"q0975\",\"mean\",\"variance\"))\n",
    "    nnames = lapply(l,function (x){return(paste(prefix,x,sep = '_'))})\n",
    "    colnames(new_data) = nnames\n",
    "    return(new_data)\n",
    "}\n",
    "\n"
   ]
  },
  {
   "cell_type": "code",
   "execution_count": 10,
   "metadata": {},
   "outputs": [],
   "source": [
    "## Sample from the posterior\n",
    "sample.y <- data.frame(t(fitted_presences)) %>% mutate_all(function(p) rbernoulli(1,p))\n",
    "sample.x <- data.frame(t(fitted_sample)) %>% mutate_all(function(p) rbernoulli(1,p))\n",
    "sum.x <- colSums(sample.x)\n",
    "nsample <- nrow(sample.x)\n",
    "PX <- sum.x / nsample\n",
    "sum.y <- colSums(sample.y)\n",
    "PY <- sum.y / nsample\n",
    "PXY <- PX * PY"
   ]
  },
  {
   "cell_type": "code",
   "execution_count": 11,
   "metadata": {},
   "outputs": [],
   "source": [
    "P = getUpperLowerCI(fitted_presences,prefix = 'P')\n",
    "S = getUpperLowerCI(fitted_sample,prefix = 'S')\n",
    "Gp = getUpperLowerCI(re_presence,prefix = 'Gp')\n",
    "Gs = getUpperLowerCI(re_sample,prefix = 'Gs')"
   ]
  },
  {
   "cell_type": "code",
   "execution_count": 12,
   "metadata": {},
   "outputs": [],
   "source": [
    "dataout = cbind(TDF$cellids,P,S,Gp,Gs,PX,PY,PXY)"
   ]
  },
  {
   "cell_type": "code",
   "execution_count": 13,
   "metadata": {},
   "outputs": [],
   "source": [
    "## Save the complete chain trace for analysing in Python,\n",
    "file_ = '/outputs/presence_only_models/modelCAR1.csv'\n",
    "write.csv(dataout,file_)"
   ]
  },
  {
   "cell_type": "code",
   "execution_count": null,
   "metadata": {},
   "outputs": [],
   "source": []
  },
  {
   "cell_type": "code",
   "execution_count": null,
   "metadata": {},
   "outputs": [],
   "source": []
  },
  {
   "cell_type": "code",
   "execution_count": null,
   "metadata": {},
   "outputs": [],
   "source": []
  },
  {
   "cell_type": "code",
   "execution_count": null,
   "metadata": {},
   "outputs": [],
   "source": []
  },
  {
   "cell_type": "markdown",
   "metadata": {},
   "source": [
    "### Postprocess the posterior dist."
   ]
  },
  {
   "cell_type": "code",
   "execution_count": null,
   "metadata": {},
   "outputs": [],
   "source": [
    "joint_ind_ps_summary = getUpperLowerCI(joint_ind_ps,prefix='join_ind_ps',MARGIN=1)"
   ]
  },
  {
   "cell_type": "code",
   "execution_count": null,
   "metadata": {},
   "outputs": [],
   "source": [
    "var_joint_ind_ps_summary = getUpperLowerCI(var_joint_ind_ps,prefix='var_joint',MARGIN=1)"
   ]
  },
  {
   "cell_type": "code",
   "execution_count": null,
   "metadata": {},
   "outputs": [],
   "source": [
    "sample_ci = getUpperLowerCI(model.sample$samples$fitted,prefix = 'sample')"
   ]
  },
  {
   "cell_type": "code",
   "execution_count": null,
   "metadata": {},
   "outputs": [],
   "source": [
    "presence_ci = getUpperLowerCI(model.presence$samples$fitted,prefix='pinophyta')"
   ]
  },
  {
   "cell_type": "code",
   "execution_count": null,
   "metadata": {},
   "outputs": [],
   "source": [
    "#TDF$fitted_values = model.spatial$fitted.values\n",
    "#TDF = cbind(TDF,joint_ind_ps_summary,var_joint_ind_ps_summary,sample_ci,presence_ci)\n",
    "TDF = cbind(TDF,joint_ind_ps_summary,var_joint_ind_ps_summary)\n"
   ]
  },
  {
   "cell_type": "code",
   "execution_count": null,
   "metadata": {},
   "outputs": [],
   "source": [
    "## Export to CSV\n",
    "write.csv(TDF,file='/outputs/resultsCAR_sampleeffort1_puebla_p9_pinophyta_luca.csv')"
   ]
  },
  {
   "cell_type": "code",
   "execution_count": null,
   "metadata": {},
   "outputs": [],
   "source": []
  },
  {
   "cell_type": "code",
   "execution_count": null,
   "metadata": {},
   "outputs": [],
   "source": [
    "HASTA AQUI ME QUEDE HOY. FALTA VER que pasa con los modelos hacer mapa"
   ]
  },
  {
   "cell_type": "code",
   "execution_count": null,
   "metadata": {},
   "outputs": [],
   "source": []
  },
  {
   "cell_type": "code",
   "execution_count": null,
   "metadata": {},
   "outputs": [],
   "source": [
    "dtau = density(model.presence$samples$tau2)\n",
    "dsigma = density(model.presence$samples$sigma2)\n",
    "\n",
    "plot(dtau,main=expression(tau^2))\n",
    "plot(dsigma,main=expression(sigma^2))\n",
    "plot(beta1,main=\"Intercept\")\n",
    "plot(beta2,main=\"Distance to Road\")\n",
    "plot(beta3,main=\"Population\")"
   ]
  },
  {
   "cell_type": "code",
   "execution_count": null,
   "metadata": {},
   "outputs": [],
   "source": []
  },
  {
   "cell_type": "code",
   "execution_count": null,
   "metadata": {},
   "outputs": [],
   "source": [
    "mod_sig = glm(formula, data=TDF, family=binomial())\n",
    "#mod1.summary()"
   ]
  },
  {
   "cell_type": "code",
   "execution_count": null,
   "metadata": {},
   "outputs": [],
   "source": [
    "summary(mod_sig)"
   ]
  },
  {
   "cell_type": "code",
   "execution_count": null,
   "metadata": {},
   "outputs": [],
   "source": [
    "confint(mod_sig)"
   ]
  },
  {
   "cell_type": "markdown",
   "metadata": {},
   "source": [
    "## Instantiate Geospatial data"
   ]
  },
  {
   "cell_type": "code",
   "execution_count": null,
   "metadata": {},
   "outputs": [],
   "source": [
    "library(lattice)\n",
    "library(sp)\n"
   ]
  },
  {
   "cell_type": "code",
   "execution_count": null,
   "metadata": {},
   "outputs": [],
   "source": [
    "coordinates(TDF) <- c(\"Longitude\",\"Latitude\")"
   ]
  },
  {
   "cell_type": "code",
   "execution_count": null,
   "metadata": {},
   "outputs": [],
   "source": [
    "bubble(TDF,\"Pinophyta\")"
   ]
  },
  {
   "cell_type": "code",
   "execution_count": null,
   "metadata": {},
   "outputs": [],
   "source": []
  },
  {
   "cell_type": "markdown",
   "metadata": {},
   "source": [
    "## Spatial analysis in R\n",
    "First, exploratory"
   ]
  },
  {
   "cell_type": "code",
   "execution_count": null,
   "metadata": {},
   "outputs": [],
   "source": [
    "library(gstat)"
   ]
  },
  {
   "cell_type": "code",
   "execution_count": null,
   "metadata": {},
   "outputs": [],
   "source": [
    "plot(variogram(Pinophyta ~ 1,TDF))"
   ]
  },
  {
   "cell_type": "code",
   "execution_count": null,
   "metadata": {},
   "outputs": [],
   "source": [
    "install.packages(\"geoR\")"
   ]
  },
  {
   "cell_type": "code",
   "execution_count": null,
   "metadata": {},
   "outputs": [],
   "source": [
    "install.packages(\"geoRglm\")"
   ]
  },
  {
   "cell_type": "code",
   "execution_count": null,
   "metadata": {},
   "outputs": [],
   "source": [
    "library('spdep')"
   ]
  },
  {
   "cell_type": "code",
   "execution_count": null,
   "metadata": {},
   "outputs": [],
   "source": [
    "model_car = spautolm(Pinophyta ~ Dist.to.road_m +  Population_m + tipos,data=TDF,family=\"CAR\")"
   ]
  },
  {
   "cell_type": "code",
   "execution_count": null,
   "metadata": {},
   "outputs": [],
   "source": []
  }
 ],
 "metadata": {
  "kernelspec": {
   "display_name": "R",
   "language": "R",
   "name": "ir"
  },
  "language_info": {
   "codemirror_mode": "r",
   "file_extension": ".r",
   "mimetype": "text/x-r-source",
   "name": "R",
   "pygments_lexer": "r",
   "version": "3.5.1"
  }
 },
 "nbformat": 4,
 "nbformat_minor": 2
}
