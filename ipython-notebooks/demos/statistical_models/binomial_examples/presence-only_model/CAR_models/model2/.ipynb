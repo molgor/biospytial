{
 "cells": [
  {
   "cell_type": "markdown",
   "metadata": {},
   "source": [
    "# A joint model CAR (model 2) \n",
    "## Common Markov Gaussian Random Field\n",
    " $$ [P , S ] = [P | GMRF] [ S | GMRF] $$"
   ]
  },
  {
   "cell_type": "code",
   "execution_count": null,
   "metadata": {},
   "outputs": [],
   "source": [
    "## Import code:\n",
    "setwd('/apps/external_plugins/biospytial_rwrapper/biospytial.rwrapper/R/')"
   ]
  },
  {
   "cell_type": "code",
   "execution_count": null,
   "metadata": {},
   "outputs": [],
   "source": [
    "rm(list=ls())                                                                                     \n",
    "source(\"init_data.R\")                                                                             \n",
    "# load the building function                                                                      \n",
    "source(\"joint.binomial.bymCAR.R\")                                                                 \n",
    "n.sample = 10000                                                                                  \n",
    "burnin=10000                                                                                      \n",
    "postburnin = burnin +1000                                                                         \n",
    "thin = 1                                                                                          \n",
    "verbose = TRUE                                                                                    \n",
    "results  <- joint.binomial.bymCARModel2(formula_S = formula_sample, \n",
    "                                        formula_P = formula_presence,\n",
    "                                        n.sample=n.sample,\n",
    "                                        burnin=burnin,\n",
    "                                        postburnin=postburnin,\n",
    "                                        thin=thin,\n",
    "                                        verbose=TRUE) \n"
   ]
  },
  {
   "cell_type": "code",
   "execution_count": null,
   "metadata": {},
   "outputs": [],
   "source": [
    "post.sample_p = data.frame(results$S$samples$fitted)\n",
    "post.presence_p = data.frame(results$P$samples$fitted)"
   ]
  },
  {
   "cell_type": "code",
   "execution_count": 4,
   "metadata": {},
   "outputs": [],
   "source": [
    "pss  <- post.sample_p %>% mutate_all(function(p) rbernoulli(1,p))\n",
    "pps <- post.presence_p %>% mutate_all(function(p) rbernoulli(1,p))                                        "
   ]
  },
  {
   "cell_type": "code",
   "execution_count": 5,
   "metadata": {},
   "outputs": [],
   "source": [
    "\n",
    "sumpps <- colSums(pps)"
   ]
  },
  {
   "cell_type": "code",
   "execution_count": 6,
   "metadata": {},
   "outputs": [],
   "source": [
    "sumpss <- colSums(pss)"
   ]
  },
  {
   "cell_type": "code",
   "execution_count": 8,
   "metadata": {},
   "outputs": [],
   "source": [
    "prob_pps <- sumpps / length(pps)"
   ]
  },
  {
   "cell_type": "code",
   "execution_count": 9,
   "metadata": {},
   "outputs": [],
   "source": [
    "prob_pss <- sumpss / length(pss)"
   ]
  },
  {
   "cell_type": "code",
   "execution_count": 11,
   "metadata": {},
   "outputs": [],
   "source": [
    "probpres = prob_pps * prob_pss"
   ]
  },
  {
   "cell_type": "code",
   "execution_count": 13,
   "metadata": {},
   "outputs": [],
   "source": [
    "## save to posterity\n",
    "# Save output sample to display in python\n",
    "## Save the complete chain trace for analysing in Python,\n",
    "TDF = read.csv(\"/outputs/training_data_sample_puebla_p9_abies_pinophyta.csv\")\n",
    "## Order it according to the id of the cell\n",
    "## This is important because the adjancy matrix rows need to be the same\n",
    "TDF = TDF[order(TDF$cell_ids),]"
   ]
  },
  {
   "cell_type": "code",
   "execution_count": 20,
   "metadata": {},
   "outputs": [],
   "source": [
    "chain = cbind(TDF$cell_ids,probpres,prob_pps,prob_pss)\n",
    "file_ = '/outputs/presence_only_models/modelCAR_model2_fitted.csv'\n",
    "write.csv(chain,file_)"
   ]
  },
  {
   "cell_type": "code",
   "execution_count": null,
   "metadata": {},
   "outputs": [],
   "source": []
  },
  {
   "cell_type": "code",
   "execution_count": null,
   "metadata": {},
   "outputs": [],
   "source": []
  }
 ],
 "metadata": {
  "kernelspec": {
   "display_name": "R",
   "language": "R",
   "name": "ir"
  },
  "language_info": {
   "codemirror_mode": "r",
   "file_extension": ".r",
   "mimetype": "text/x-r-source",
   "name": "R",
   "pygments_lexer": "r",
   "version": "3.5.1"
  }
 },
 "nbformat": 4,
 "nbformat_minor": 2
}
