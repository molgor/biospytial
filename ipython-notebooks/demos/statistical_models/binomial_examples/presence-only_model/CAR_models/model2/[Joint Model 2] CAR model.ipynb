{
 "cells": [
  {
   "cell_type": "markdown",
   "metadata": {},
   "source": [
    "# A joint model CAR (model 2) \n",
    "## Common Markov Gaussian Random Field\n",
    " $$ [P , S ] = [P | GMRF] [ S | GMRF] $$"
   ]
  },
  {
   "cell_type": "code",
   "execution_count": 43,
   "metadata": {},
   "outputs": [],
   "source": [
    "## Import code:\n",
    "setwd('/apps/external_plugins/biospytial_rwrapper/biospytial.rwrapper/R/')"
   ]
  },
  {
   "cell_type": "code",
   "execution_count": 44,
   "metadata": {},
   "outputs": [
    {
     "name": "stdout",
     "output_type": "stream",
     "text": [
      "Setting up the model.\n",
      "Performing burnin period for Sample Effort Model \n",
      "  |======================================================================| 100%\n",
      "Summarising results.\n",
      "Finished in  20.2 seconds.\n",
      "Setting up the model.\n",
      "Performing burnin period for Presence model \n",
      "  |======================================================================| 100%\n",
      "Summarising results.\n",
      "Finished in  22.9 seconds.\n",
      "Sampling from the joint model 1000 post burnin and thinned (if requested) samples.\n",
      "  |======================================================================| 100%\n",
      "[1] \"Compiling summary for S process\"\n",
      "[1] \"Compiling summary for the P process\"\n"
     ]
    }
   ],
   "source": [
    "rm(list=ls())                                                                                     \n",
    "source(\"init_data.R\")                                                                             \n",
    "# load the building function                                                                      \n",
    "source(\"joint.binomial.bymCAR.R\")                                                                 \n",
    "n.sample = 1000                                                                                  \n",
    "burnin=1000                                                                                      \n",
    "postburnin = burnin +100                                                                         \n",
    "thin = 1                                                                                          \n",
    "verbose = TRUE                                                                                    \n",
    "results  <- joint.binomial.bymCARModel2(formula_S = formula_sample, \n",
    "                                        formula_P = formula_presence,\n",
    "                                        n.sample=n.sample,\n",
    "                                        burnin=burnin,\n",
    "                                        postburnin=postburnin,\n",
    "                                        thin=thin,\n",
    "                                        verbose=TRUE,\n",
    "                                       prior.tau2=c(0.1,0.01),\n",
    "                                       prior.sigma2=c(0.1,0.01)) \n"
   ]
  },
  {
   "cell_type": "markdown",
   "metadata": {},
   "source": [
    "## Remember to check likelihood modelfit"
   ]
  },
  {
   "cell_type": "code",
   "execution_count": null,
   "metadata": {},
   "outputs": [],
   "source": [
    "#Change priors tau2 and sigma2\n",
    "#0.1 , 0.01\n"
   ]
  },
  {
   "cell_type": "code",
   "execution_count": 45,
   "metadata": {},
   "outputs": [
    {
     "data": {
      "text/html": [
       "<dl class=dl-horizontal>\n",
       "\t<dt>DIC</dt>\n",
       "\t\t<dd>6592.77575090192</dd>\n",
       "\t<dt>p.d</dt>\n",
       "\t\t<dd>2792.49856901041</dd>\n",
       "\t<dt>WAIC</dt>\n",
       "\t\t<dd>29503.9793787808</dd>\n",
       "\t<dt>p.w</dt>\n",
       "\t\t<dd>13810.5969240452</dd>\n",
       "\t<dt>LMPL</dt>\n",
       "\t\t<dd>-58566.2496177926</dd>\n",
       "\t<dt>loglikelihood</dt>\n",
       "\t\t<dd>-503.88930644055</dd>\n",
       "</dl>\n"
      ],
      "text/latex": [
       "\\begin{description*}\n",
       "\\item[DIC] 6592.77575090192\n",
       "\\item[p.d] 2792.49856901041\n",
       "\\item[WAIC] 29503.9793787808\n",
       "\\item[p.w] 13810.5969240452\n",
       "\\item[LMPL] -58566.2496177926\n",
       "\\item[loglikelihood] -503.88930644055\n",
       "\\end{description*}\n"
      ],
      "text/markdown": [
       "DIC\n",
       ":   6592.77575090192p.d\n",
       ":   2792.49856901041WAIC\n",
       ":   29503.9793787808p.w\n",
       ":   13810.5969240452LMPL\n",
       ":   -58566.2496177926loglikelihood\n",
       ":   -503.88930644055\n",
       "\n"
      ],
      "text/plain": [
       "          DIC           p.d          WAIC           p.w          LMPL \n",
       "    6592.7758     2792.4986    29503.9794    13810.5969   -58566.2496 \n",
       "loglikelihood \n",
       "    -503.8893 "
      ]
     },
     "metadata": {},
     "output_type": "display_data"
    }
   ],
   "source": [
    "results$S$modelfit"
   ]
  },
  {
   "cell_type": "code",
   "execution_count": 46,
   "metadata": {},
   "outputs": [
    {
     "data": {
      "text/html": [
       "<dl class=dl-horizontal>\n",
       "\t<dt>DIC</dt>\n",
       "\t\t<dd>2743.43731223459</dd>\n",
       "\t<dt>p.d</dt>\n",
       "\t\t<dd>881.359322931543</dd>\n",
       "\t<dt>WAIC</dt>\n",
       "\t\t<dd>4681.16115734731</dd>\n",
       "\t<dt>p.w</dt>\n",
       "\t\t<dd>1658.39428730299</dd>\n",
       "\t<dt>LMPL</dt>\n",
       "\t\t<dd>-11031.7658382735</dd>\n",
       "\t<dt>loglikelihood</dt>\n",
       "\t\t<dd>-490.359333185751</dd>\n",
       "</dl>\n"
      ],
      "text/latex": [
       "\\begin{description*}\n",
       "\\item[DIC] 2743.43731223459\n",
       "\\item[p.d] 881.359322931543\n",
       "\\item[WAIC] 4681.16115734731\n",
       "\\item[p.w] 1658.39428730299\n",
       "\\item[LMPL] -11031.7658382735\n",
       "\\item[loglikelihood] -490.359333185751\n",
       "\\end{description*}\n"
      ],
      "text/markdown": [
       "DIC\n",
       ":   2743.43731223459p.d\n",
       ":   881.359322931543WAIC\n",
       ":   4681.16115734731p.w\n",
       ":   1658.39428730299LMPL\n",
       ":   -11031.7658382735loglikelihood\n",
       ":   -490.359333185751\n",
       "\n"
      ],
      "text/plain": [
       "          DIC           p.d          WAIC           p.w          LMPL \n",
       "    2743.4373      881.3593     4681.1612     1658.3943   -11031.7658 \n",
       "loglikelihood \n",
       "    -490.3593 "
      ]
     },
     "metadata": {},
     "output_type": "display_data"
    }
   ],
   "source": [
    "results$P$modelfit"
   ]
  },
  {
   "cell_type": "code",
   "execution_count": 13,
   "metadata": {},
   "outputs": [
    {
     "data": {
      "text/html": [
       "<dl class=dl-horizontal>\n",
       "\t<dt>DIC</dt>\n",
       "\t\t<dd>4716.57445380358</dd>\n",
       "\t<dt>p.d</dt>\n",
       "\t\t<dd>1604.13259556146</dd>\n",
       "\t<dt>WAIC</dt>\n",
       "\t\t<dd>16874.993641</dd>\n",
       "\t<dt>p.w</dt>\n",
       "\t\t<dd>7483.93672014003</dd>\n",
       "\t<dt>LMPL</dt>\n",
       "\t\t<dd>-46223.604997796</dd>\n",
       "\t<dt>loglikelihood</dt>\n",
       "\t\t<dd>-754.154631340329</dd>\n",
       "</dl>\n"
      ],
      "text/latex": [
       "\\begin{description*}\n",
       "\\item[DIC] 4716.57445380358\n",
       "\\item[p.d] 1604.13259556146\n",
       "\\item[WAIC] 16874.993641\n",
       "\\item[p.w] 7483.93672014003\n",
       "\\item[LMPL] -46223.604997796\n",
       "\\item[loglikelihood] -754.154631340329\n",
       "\\end{description*}\n"
      ],
      "text/markdown": [
       "DIC\n",
       ":   4716.57445380358p.d\n",
       ":   1604.13259556146WAIC\n",
       ":   16874.993641p.w\n",
       ":   7483.93672014003LMPL\n",
       ":   -46223.604997796loglikelihood\n",
       ":   -754.154631340329\n",
       "\n"
      ],
      "text/plain": [
       "          DIC           p.d          WAIC           p.w          LMPL \n",
       "    4716.5745     1604.1326    16874.9936     7483.9367   -46223.6050 \n",
       "loglikelihood \n",
       "    -754.1546 "
      ]
     },
     "metadata": {},
     "output_type": "display_data"
    }
   ],
   "source": [
    "results$S$modelfit"
   ]
  },
  {
   "cell_type": "code",
   "execution_count": 14,
   "metadata": {},
   "outputs": [
    {
     "data": {
      "text/html": [
       "<dl class=dl-horizontal>\n",
       "\t<dt>DIC</dt>\n",
       "\t\t<dd>2467.52319718003</dd>\n",
       "\t<dt>p.d</dt>\n",
       "\t\t<dd>666.223887981804</dd>\n",
       "\t<dt>WAIC</dt>\n",
       "\t\t<dd>3660.87534148182</dd>\n",
       "\t<dt>p.w</dt>\n",
       "\t\t<dd>1125.17125089198</dd>\n",
       "\t<dt>LMPL</dt>\n",
       "\t\t<dd>-9394.76501395975</dd>\n",
       "\t<dt>loglikelihood</dt>\n",
       "\t\t<dd>-567.537710608208</dd>\n",
       "</dl>\n"
      ],
      "text/latex": [
       "\\begin{description*}\n",
       "\\item[DIC] 2467.52319718003\n",
       "\\item[p.d] 666.223887981804\n",
       "\\item[WAIC] 3660.87534148182\n",
       "\\item[p.w] 1125.17125089198\n",
       "\\item[LMPL] -9394.76501395975\n",
       "\\item[loglikelihood] -567.537710608208\n",
       "\\end{description*}\n"
      ],
      "text/markdown": [
       "DIC\n",
       ":   2467.52319718003p.d\n",
       ":   666.223887981804WAIC\n",
       ":   3660.87534148182p.w\n",
       ":   1125.17125089198LMPL\n",
       ":   -9394.76501395975loglikelihood\n",
       ":   -567.537710608208\n",
       "\n"
      ],
      "text/plain": [
       "          DIC           p.d          WAIC           p.w          LMPL \n",
       "    2467.5232      666.2239     3660.8753     1125.1713    -9394.7650 \n",
       "loglikelihood \n",
       "    -567.5377 "
      ]
     },
     "metadata": {},
     "output_type": "display_data"
    }
   ],
   "source": [
    "results$P$modelfit"
   ]
  },
  {
   "cell_type": "code",
   "execution_count": 47,
   "metadata": {},
   "outputs": [
    {
     "data": {
      "text/html": [
       "<table>\n",
       "<thead><tr><th></th><th scope=col>Median</th><th scope=col>2.5%</th><th scope=col>97.5%</th><th scope=col>n.sample</th><th scope=col>% accept</th><th scope=col>n.effective</th><th scope=col>Geweke.diag</th></tr></thead>\n",
       "<tbody>\n",
       "\t<tr><th scope=row>(Intercept)</th><td> 2.4897 </td><td> 2.1661 </td><td>  5.6595</td><td>1000    </td><td> 99.3   </td><td> 3.6    </td><td>-0.8    </td></tr>\n",
       "\t<tr><th scope=row>Disttoroadm</th><td>-0.0002 </td><td>-0.0004 </td><td>  0.0000</td><td>1000    </td><td> 99.3   </td><td>25.6    </td><td> 1.4    </td></tr>\n",
       "\t<tr><th scope=row>Populationm</th><td> 0.0000 </td><td>-0.0001 </td><td>  0.0003</td><td>1000    </td><td> 99.3   </td><td>11.2    </td><td>-0.6    </td></tr>\n",
       "\t<tr><th scope=row>tau2</th><td> 0.6559 </td><td> 0.4088 </td><td>360.6688</td><td>1000    </td><td>100.0   </td><td> 4.5    </td><td>-0.7    </td></tr>\n",
       "\t<tr><th scope=row>sigma2</th><td> 0.3679 </td><td> 0.0984 </td><td>322.5683</td><td>1000    </td><td>100.0   </td><td>13.6    </td><td>-1.0    </td></tr>\n",
       "</tbody>\n",
       "</table>\n"
      ],
      "text/latex": [
       "\\begin{tabular}{r|lllllll}\n",
       "  & Median & 2.5\\% & 97.5\\% & n.sample & \\% accept & n.effective & Geweke.diag\\\\\n",
       "\\hline\n",
       "\t(Intercept) &  2.4897  &  2.1661  &   5.6595 & 1000     &  99.3    &  3.6     & -0.8    \\\\\n",
       "\tDisttoroadm & -0.0002  & -0.0004  &   0.0000 & 1000     &  99.3    & 25.6     &  1.4    \\\\\n",
       "\tPopulationm &  0.0000  & -0.0001  &   0.0003 & 1000     &  99.3    & 11.2     & -0.6    \\\\\n",
       "\ttau2 &  0.6559  &  0.4088  & 360.6688 & 1000     & 100.0    &  4.5     & -0.7    \\\\\n",
       "\tsigma2 &  0.3679  &  0.0984  & 322.5683 & 1000     & 100.0    & 13.6     & -1.0    \\\\\n",
       "\\end{tabular}\n"
      ],
      "text/markdown": [
       "\n",
       "| <!--/--> | Median | 2.5% | 97.5% | n.sample | % accept | n.effective | Geweke.diag | \n",
       "|---|---|---|---|---|\n",
       "| (Intercept) |  2.4897  |  2.1661  |   5.6595 | 1000     |  99.3    |  3.6     | -0.8     | \n",
       "| Disttoroadm | -0.0002  | -0.0004  |   0.0000 | 1000     |  99.3    | 25.6     |  1.4     | \n",
       "| Populationm |  0.0000  | -0.0001  |   0.0003 | 1000     |  99.3    | 11.2     | -0.6     | \n",
       "| tau2 |  0.6559  |  0.4088  | 360.6688 | 1000     | 100.0    |  4.5     | -0.7     | \n",
       "| sigma2 |  0.3679  |  0.0984  | 322.5683 | 1000     | 100.0    | 13.6     | -1.0     | \n",
       "\n",
       "\n"
      ],
      "text/plain": [
       "            Median  2.5%    97.5%    n.sample % accept n.effective Geweke.diag\n",
       "(Intercept)  2.4897  2.1661   5.6595 1000      99.3     3.6        -0.8       \n",
       "Disttoroadm -0.0002 -0.0004   0.0000 1000      99.3    25.6         1.4       \n",
       "Populationm  0.0000 -0.0001   0.0003 1000      99.3    11.2        -0.6       \n",
       "tau2         0.6559  0.4088 360.6688 1000     100.0     4.5        -0.7       \n",
       "sigma2       0.3679  0.0984 322.5683 1000     100.0    13.6        -1.0       "
      ]
     },
     "metadata": {},
     "output_type": "display_data"
    }
   ],
   "source": [
    "results$S$summary.results"
   ]
  },
  {
   "cell_type": "markdown",
   "metadata": {},
   "source": [
    "## Independent models"
   ]
  },
  {
   "cell_type": "code",
   "execution_count": 48,
   "metadata": {},
   "outputs": [
    {
     "data": {
      "text/plain": [
       "\n",
       "#################\n",
       "#### Model fitted\n",
       "#################\n",
       "Likelihood model - Binomial (logit link function) \n",
       "Random effects model - BYM CAR\n",
       "Regression equation - sample ~ Disttoroadm + Populationm\n",
       "Number of missing observations - 731\n",
       "\n",
       "############\n",
       "#### Results\n",
       "############\n",
       "Posterior quantities and DIC\n",
       "\n",
       "             Median    2.5%   97.5% n.sample % accept n.effective Geweke.diag\n",
       "(Intercept)  2.4816  2.0464  2.6858      100     99.3        11.9        -1.5\n",
       "Disttoroadm -0.0002 -0.0002 -0.0001      100     99.3        10.3         1.0\n",
       "Populationm  0.0000 -0.0001  0.0001      100     99.3         6.8         0.8\n",
       "tau2         0.4431  0.3854  0.5273      100    100.0         4.1        -3.1\n",
       "sigma2       0.3752  0.3356  0.4152      100    100.0         2.7         6.5\n",
       "\n",
       "DIC =  2292.49       p.d =  144.0098       LMPL =  -1144.93 "
      ]
     },
     "metadata": {},
     "output_type": "display_data"
    }
   ],
   "source": [
    "results$ind.model.S$model.results"
   ]
  },
  {
   "cell_type": "code",
   "execution_count": 49,
   "metadata": {},
   "outputs": [
    {
     "data": {
      "text/plain": [
       "\n",
       "#################\n",
       "#### Model fitted\n",
       "#################\n",
       "Likelihood model - Binomial (logit link function) \n",
       "Random effects model - BYM CAR\n",
       "Regression equation - species ~ Elevationm + MeanTempm\n",
       "Number of missing observations - 1161\n",
       "\n",
       "############\n",
       "#### Results\n",
       "############\n",
       "Posterior quantities and DIC\n",
       "\n",
       "             Median    2.5%   97.5% n.sample % accept n.effective Geweke.diag\n",
       "(Intercept) -1.0627 -1.3584 -0.7944      100     99.3         7.0         2.2\n",
       "Elevationm   0.0000 -0.0001  0.0002      100     99.3         3.8        -2.1\n",
       "MeanTempm   -0.0009 -0.0010 -0.0008      100     99.3         7.2        -2.2\n",
       "tau2         0.7242  0.6440  0.7711      100    100.0         5.9        -5.1\n",
       "sigma2       0.2223  0.1890  0.2389      100    100.0         4.5       -15.7\n",
       "\n",
       "DIC =  1736.497       p.d =  100.3413       LMPL =  -867.49 "
      ]
     },
     "metadata": {},
     "output_type": "display_data"
    }
   ],
   "source": [
    "results$ind.model.P$model.results"
   ]
  },
  {
   "cell_type": "code",
   "execution_count": 50,
   "metadata": {},
   "outputs": [
    {
     "data": {
      "text/html": [
       "<ol class=list-inline>\n",
       "\t<li>&lt;NA&gt;</li>\n",
       "\t<li>0</li>\n",
       "\t<li>0</li>\n",
       "\t<li>&lt;NA&gt;</li>\n",
       "\t<li>&lt;NA&gt;</li>\n",
       "\t<li>&lt;NA&gt;</li>\n",
       "</ol>\n"
      ],
      "text/latex": [
       "\\begin{enumerate*}\n",
       "\\item <NA>\n",
       "\\item 0\n",
       "\\item 0\n",
       "\\item <NA>\n",
       "\\item <NA>\n",
       "\\item <NA>\n",
       "\\end{enumerate*}\n"
      ],
      "text/markdown": [
       "1. &lt;NA&gt;\n",
       "2. 0\n",
       "3. 0\n",
       "4. &lt;NA&gt;\n",
       "5. &lt;NA&gt;\n",
       "6. &lt;NA&gt;\n",
       "\n",
       "\n"
      ],
      "text/plain": [
       "[1] NA  0  0 NA NA NA"
      ]
     },
     "metadata": {},
     "output_type": "display_data"
    }
   ],
   "source": [
    "head(DataFrame$species)"
   ]
  },
  {
   "cell_type": "code",
   "execution_count": 51,
   "metadata": {},
   "outputs": [
    {
     "data": {
      "text/html": [
       "341"
      ],
      "text/latex": [
       "341"
      ],
      "text/markdown": [
       "341"
      ],
      "text/plain": [
       "[1] 341"
      ]
     },
     "metadata": {},
     "output_type": "display_data"
    }
   ],
   "source": [
    "sum(na.omit(DataFrame$species[DataFrame$species > 0 ]))"
   ]
  },
  {
   "cell_type": "code",
   "execution_count": 52,
   "metadata": {},
   "outputs": [
    {
     "data": {
      "text/html": [
       "2900"
      ],
      "text/latex": [
       "2900"
      ],
      "text/markdown": [
       "2900"
      ],
      "text/plain": [
       "[1] 2900"
      ]
     },
     "metadata": {},
     "output_type": "display_data"
    }
   ],
   "source": [
    "sum(na.omit(DataFrame$sample[DataFrame$sample > 0 ]))"
   ]
  },
  {
   "cell_type": "code",
   "execution_count": 53,
   "metadata": {},
   "outputs": [
    {
     "data": {
      "text/html": [
       "4061"
      ],
      "text/latex": [
       "4061"
      ],
      "text/markdown": [
       "4061"
      ],
      "text/plain": [
       "[1] 4061"
      ]
     },
     "metadata": {},
     "output_type": "display_data"
    }
   ],
   "source": [
    "length(DataFrame$sample)"
   ]
  },
  {
   "cell_type": "code",
   "execution_count": 54,
   "metadata": {},
   "outputs": [
    {
     "data": {
      "text/html": [
       "3330"
      ],
      "text/latex": [
       "3330"
      ],
      "text/markdown": [
       "3330"
      ],
      "text/plain": [
       "[1] 3330"
      ]
     },
     "metadata": {},
     "output_type": "display_data"
    }
   ],
   "source": [
    "sum(DataFrame$LUCA[DataFrame$LUCA > 0])"
   ]
  },
  {
   "cell_type": "code",
   "execution_count": null,
   "metadata": {},
   "outputs": [],
   "source": []
  },
  {
   "cell_type": "code",
   "execution_count": null,
   "metadata": {},
   "outputs": [],
   "source": []
  },
  {
   "cell_type": "code",
   "execution_count": null,
   "metadata": {},
   "outputs": [],
   "source": []
  },
  {
   "cell_type": "code",
   "execution_count": 55,
   "metadata": {},
   "outputs": [],
   "source": [
    "post.sample_p = data.frame(results$S$samples$fitted)\n",
    "post.presence_p = data.frame(results$P$samples$fitted)"
   ]
  },
  {
   "cell_type": "code",
   "execution_count": 56,
   "metadata": {},
   "outputs": [],
   "source": [
    "pss  <- post.sample_p %>% mutate_all(function(p) rbernoulli(1,p))\n",
    "pps <- post.presence_p %>% mutate_all(function(p) rbernoulli(1,p))                                        "
   ]
  },
  {
   "cell_type": "code",
   "execution_count": 57,
   "metadata": {},
   "outputs": [],
   "source": [
    "\n",
    "sumpps <- colSums(pps)"
   ]
  },
  {
   "cell_type": "code",
   "execution_count": 58,
   "metadata": {},
   "outputs": [],
   "source": [
    "sumpss <- colSums(pss)"
   ]
  },
  {
   "cell_type": "code",
   "execution_count": 59,
   "metadata": {},
   "outputs": [],
   "source": [
    "prob_pps <- sumpps / length(pps)"
   ]
  },
  {
   "cell_type": "code",
   "execution_count": 60,
   "metadata": {},
   "outputs": [],
   "source": [
    "prob_pss <- sumpss / length(pss)"
   ]
  },
  {
   "cell_type": "code",
   "execution_count": 61,
   "metadata": {},
   "outputs": [],
   "source": [
    "probpres = prob_pps * prob_pss"
   ]
  },
  {
   "cell_type": "code",
   "execution_count": 62,
   "metadata": {},
   "outputs": [],
   "source": [
    "## save to posterity\n",
    "# Save output sample to display in python\n",
    "## Save the complete chain trace for analysing in Python,\n",
    "TDF = read.csv(\"/outputs/training_data_sample_puebla_p9_abies_pinophyta.csv\")\n",
    "## Order it according to the id of the cell\n",
    "## This is important because the adjancy matrix rows need to be the same\n",
    "TDF = TDF[order(TDF$cell_ids),]"
   ]
  },
  {
   "cell_type": "code",
   "execution_count": 63,
   "metadata": {},
   "outputs": [],
   "source": [
    "chain = cbind(TDF$cell_ids,probpres,prob_pps,prob_pss)\n",
    "file_ = '/outputs/presence_only_models/modelCAR_model2_fitted.csv'\n",
    "write.csv(chain,file_)"
   ]
  },
  {
   "cell_type": "code",
   "execution_count": null,
   "metadata": {},
   "outputs": [],
   "source": []
  },
  {
   "cell_type": "code",
   "execution_count": null,
   "metadata": {},
   "outputs": [],
   "source": []
  }
 ],
 "metadata": {
  "kernelspec": {
   "display_name": "R",
   "language": "R",
   "name": "ir"
  },
  "language_info": {
   "codemirror_mode": "r",
   "file_extension": ".r",
   "mimetype": "text/x-r-source",
   "name": "R",
   "pygments_lexer": "r",
   "version": "3.5.1"
  }
 },
 "nbformat": 4,
 "nbformat_minor": 2
}
