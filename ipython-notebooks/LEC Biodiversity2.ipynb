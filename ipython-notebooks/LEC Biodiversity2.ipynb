{
 "cells": [
  {
   "cell_type": "markdown",
   "metadata": {},
   "source": [
    "# Biodiversity Studies in Lancanshire, UK (part 2)"
   ]
  },
  {
   "cell_type": "markdown",
   "metadata": {},
   "source": [
    "We have created Nested Meshes which are now stored in the Postgis backend. \n",
    "Also, We have selected a bigger area and we had retrieve the data from the GBIF API. \n",
    "*Remember that we have changed the MESHTABLES variable in the settings.py file to work in another region*.\n",
    "\n",
    "We will proceed now to inspect the Gridded Taxonomy, using the stored mesh.\n",
    "After that We'll insert it into the Graph Database.\n"
   ]
  },
  {
   "cell_type": "markdown",
   "metadata": {},
   "source": [
    "The polygon close to Carnforth gave us some points but all of them with the same geographical coordinates. \n",
    "For this reason we decided to extend the AOI (Area of Interest) in order to get more spatial variability (and data).\n",
    "\n",
    "Our polygon looked like this.\n",
    "\n",
    "![Carnforth](carnford_poly_points.png \"The region\")\n"
   ]
  },
  {
   "cell_type": "markdown",
   "metadata": {},
   "source": [
    "## Expanding the region.\n",
    "We increased it to cover a much bigger area.\n",
    "Here we can see the new points distrtibuted on both sides of the Kent River delta.\n",
    "The back squares shows the cells in which we will perform the analysis. The Carnforth grove is surrounded by the yellow polygon."
   ]
  },
  {
   "cell_type": "markdown",
   "metadata": {},
   "source": [
    "![Startig region](area1.png \"The region\")\n"
   ]
  },
  {
   "cell_type": "markdown",
   "metadata": {
    "collapsed": true
   },
   "source": [
    "## Load the data."
   ]
  },
  {
   "cell_type": "code",
   "execution_count": 38,
   "metadata": {
    "collapsed": false
   },
   "outputs": [],
   "source": [
    "#First thing first. Load all the biospytial suit\n",
    "import sys\n",
    "import django\n",
    "%matplotlib inline\n",
    "sys.path.append('/apps')\n",
    "django.setup()\n",
    "from gbif.taxonomy import GriddedTaxonomy\n",
    "from gbif.models import Occurrence"
   ]
  },
  {
   "cell_type": "markdown",
   "metadata": {},
   "source": [
    "#### Remember how we build the polygon"
   ]
  },
  {
   "cell_type": "code",
   "execution_count": 39,
   "metadata": {
    "collapsed": false
   },
   "outputs": [],
   "source": [
    "#from mesh import tools as tl\n",
    "#windemere = (-2.905,54.376)\n",
    "#carnforth = (-2.835,54.179) \n",
    "#dd = tl.create_rectangle_from_two_points((0,0),(1,1),with_center=windemere)\n",
    "#polygon = dd['polygon']\n",
    "square1 = \"POLYGON((-2.89749999999999996 54.11650000000000205,-2.89749999999999996 54.24150000000000205,-2.77249999999999996 54.24150000000000205,-2.77249999999999996 54.11650000000000205,-2.89749999999999996 54.11650000000000205))\""
   ]
  },
  {
   "cell_type": "code",
   "execution_count": 40,
   "metadata": {
    "collapsed": false
   },
   "outputs": [],
   "source": [
    "## We need to convert the type. It'll be fixed in the future\n",
    "from django.contrib.gis.geos import GEOSGeometry\n",
    "polygon = GEOSGeometry(square1)"
   ]
  },
  {
   "cell_type": "markdown",
   "metadata": {},
   "source": [
    "Now we'll summon the occurrences found here (yes, the newly added)."
   ]
  },
  {
   "cell_type": "code",
   "execution_count": 41,
   "metadata": {
    "collapsed": false
   },
   "outputs": [],
   "source": [
    "biosphere = Occurrence.objects.filter(geom__within=polygon)"
   ]
  },
  {
   "cell_type": "markdown",
   "metadata": {},
   "source": [
    "### How many data here ?"
   ]
  },
  {
   "cell_type": "code",
   "execution_count": 42,
   "metadata": {
    "collapsed": false
   },
   "outputs": [
    {
     "data": {
      "text/plain": [
       "5816"
      ]
     },
     "execution_count": 42,
     "metadata": {},
     "output_type": "execute_result"
    }
   ],
   "source": [
    "biosphere.count()\n"
   ]
  },
  {
   "cell_type": "markdown",
   "metadata": {},
   "source": [
    "### Load the data in a Grid"
   ]
  },
  {
   "cell_type": "code",
   "execution_count": 43,
   "metadata": {
    "collapsed": false
   },
   "outputs": [
    {
     "name": "stderr",
     "output_type": "stream",
     "text": [
      "DEBUG Changed MESH TABLE SPACE\n"
     ]
    }
   ],
   "source": [
    "from mesh.models import initMesh\n",
    "m10 = initMesh(10)\n"
   ]
  },
  {
   "cell_type": "code",
   "execution_count": 44,
   "metadata": {
    "collapsed": true
   },
   "outputs": [],
   "source": [
    "m10_sub = m10.objects.filter(cell__intersects=polygon)"
   ]
  },
  {
   "cell_type": "code",
   "execution_count": 45,
   "metadata": {
    "collapsed": false
   },
   "outputs": [
    {
     "data": {
      "text/plain": [
       "4225"
      ]
     },
     "execution_count": 45,
     "metadata": {},
     "output_type": "execute_result"
    }
   ],
   "source": [
    "m10_sub.count()"
   ]
  },
  {
   "cell_type": "code",
   "execution_count": 34,
   "metadata": {
    "collapsed": true
   },
   "outputs": [],
   "source": [
    "ggg = GriddedTaxonomy?"
   ]
  },
  {
   "cell_type": "code",
   "execution_count": 46,
   "metadata": {
    "collapsed": false
   },
   "outputs": [
    {
     "name": "stdout",
     "output_type": "stream",
     "text": [
      "CPU times: user 13.9 s, sys: 124 ms, total: 14.1 s\n",
      "Wall time: 14 s\n"
     ]
    }
   ],
   "source": [
    "%time ggg = GriddedTaxonomy(biosphere,m10_sub,\"carnforth512\")"
   ]
  },
  {
   "cell_type": "markdown",
   "metadata": {
    "collapsed": true
   },
   "source": [
    "# Environmental variables"
   ]
  },
  {
   "cell_type": "markdown",
   "metadata": {
    "collapsed": true
   },
   "source": [
    "Some remarks on taking environmental variables"
   ]
  },
  {
   "cell_type": "code",
   "execution_count": 49,
   "metadata": {
    "collapsed": false
   },
   "outputs": [
    {
     "data": {
      "text/plain": [
       "raster_api.models.intersectWith"
      ]
     },
     "execution_count": 49,
     "metadata": {},
     "output_type": "execute_result"
    }
   ],
   "source": [
    "from django.contrib.gis.db.models.fields import RasterField\n",
    "from raster_api.models import intersectWith, raster_models\n",
    "RasterField.register_lookup(intersectWith)"
   ]
  },
  {
   "cell_type": "code",
   "execution_count": 50,
   "metadata": {
    "collapsed": false
   },
   "outputs": [
    {
     "data": {
      "text/plain": [
       "[raster_api.models.Precipitation,\n",
       " raster_api.models.SolarRadiation,\n",
       " raster_api.models.MeanTemperature,\n",
       " raster_api.models.MinTemperature,\n",
       " raster_api.models.MaxTemperature,\n",
       " raster_api.models.VaporPressure,\n",
       " raster_api.models.WindSpeed]"
      ]
     },
     "execution_count": 50,
     "metadata": {},
     "output_type": "execute_result"
    }
   ],
   "source": [
    "raster_models"
   ]
  },
  {
   "cell_type": "code",
   "execution_count": 51,
   "metadata": {
    "collapsed": true
   },
   "outputs": [],
   "source": [
    "mtemp = raster_models[2]"
   ]
  },
  {
   "cell_type": "code",
   "execution_count": 63,
   "metadata": {
    "collapsed": false
   },
   "outputs": [
    {
     "data": {
      "text/plain": [
       "<QuerySet []>"
      ]
     },
     "execution_count": 63,
     "metadata": {},
     "output_type": "execute_result"
    }
   ],
   "source": [
    "mtemp.objects.filter(rast__intersect_with=polygon)"
   ]
  },
  {
   "cell_type": "code",
   "execution_count": 54,
   "metadata": {
    "collapsed": false
   },
   "outputs": [],
   "source": [
    "from raster_api.tools import RasterData"
   ]
  },
  {
   "cell_type": "code",
   "execution_count": 60,
   "metadata": {
    "collapsed": true
   },
   "outputs": [],
   "source": [
    "imgtemp = RasterData(mtemp,polygon)"
   ]
  },
  {
   "cell_type": "code",
   "execution_count": 61,
   "metadata": {
    "collapsed": false,
    "scrolled": true
   },
   "outputs": [
    {
     "name": "stderr",
     "output_type": "stream",
     "text": [
      "ERROR Could not extract Raster data from aggregation\n",
      "ERROR:biospytial.raster_api.tools:Could not extract Raster data from aggregation\n",
      "Exception django.contrib.gis.gdal.error.GDALException: GDALException('Invalid pointer returned from \"GDALClose\"',) in "
     ]
    }
   ],
   "source": [
    "imgtemp.getRaster()"
   ]
  },
  {
   "cell_type": "code",
   "execution_count": 59,
   "metadata": {
    "collapsed": false,
    "scrolled": true
   },
   "outputs": [
    {
     "name": "stderr",
     "output_type": "stream",
     "text": [
      "ERROR No raster data associated with specified band. Run getRaster or processDEM first\n",
      "ERROR:biospytial.raster_api.tools:No raster data associated with specified band. Run getRaster or processDEM first\n"
     ]
    },
    {
     "ename": "AttributeError",
     "evalue": "'NoneType' object has no attribute 'title'",
     "output_type": "error",
     "traceback": [
      "\u001b[0;31m---------------------------------------------------------------------------\u001b[0m",
      "\u001b[0;31mAttributeError\u001b[0m                            Traceback (most recent call last)",
      "\u001b[0;32m<ipython-input-59-77065495d8cf>\u001b[0m in \u001b[0;36m<module>\u001b[0;34m()\u001b[0m\n\u001b[0;32m----> 1\u001b[0;31m \u001b[0mimgtemp\u001b[0m\u001b[0;34m.\u001b[0m\u001b[0mdisplay_field\u001b[0m\u001b[0;34m(\u001b[0m\u001b[0;34m)\u001b[0m\u001b[0;34m\u001b[0m\u001b[0m\n\u001b[0m",
      "\u001b[0;32m/apps/raster_api/tools.pyc\u001b[0m in \u001b[0;36mdisplay_field\u001b[0;34m(self, stats_dir, title, band, **kwargs)\u001b[0m\n\u001b[1;32m    323\u001b[0m     \u001b[0;32mdef\u001b[0m \u001b[0mdisplay_field\u001b[0m\u001b[0;34m(\u001b[0m\u001b[0mself\u001b[0m\u001b[0;34m,\u001b[0m\u001b[0mstats_dir\u001b[0m\u001b[0;34m=\u001b[0m\u001b[0;34m'default'\u001b[0m\u001b[0;34m,\u001b[0m\u001b[0mtitle\u001b[0m\u001b[0;34m=\u001b[0m\u001b[0;34m''\u001b[0m\u001b[0;34m,\u001b[0m\u001b[0mband\u001b[0m\u001b[0;34m=\u001b[0m\u001b[0;36m1\u001b[0m\u001b[0;34m,\u001b[0m\u001b[0;34m**\u001b[0m\u001b[0mkwargs\u001b[0m\u001b[0;34m)\u001b[0m\u001b[0;34m:\u001b[0m\u001b[0;34m\u001b[0m\u001b[0m\n\u001b[1;32m    324\u001b[0m         \u001b[0mp\u001b[0m \u001b[0;34m=\u001b[0m \u001b[0mself\u001b[0m\u001b[0;34m.\u001b[0m\u001b[0mplotField\u001b[0m\u001b[0;34m(\u001b[0m\u001b[0mstats_dir\u001b[0m\u001b[0;34m,\u001b[0m \u001b[0mband\u001b[0m\u001b[0;34m=\u001b[0m\u001b[0mband\u001b[0m\u001b[0;34m,\u001b[0m\u001b[0mxlabel\u001b[0m\u001b[0;34m=\u001b[0m\u001b[0mtitle\u001b[0m\u001b[0;34m+\u001b[0m\u001b[0;34m' Month'\u001b[0m\u001b[0;34m,\u001b[0m\u001b[0;34m**\u001b[0m\u001b[0mkwargs\u001b[0m\u001b[0;34m)\u001b[0m\u001b[0;34m\u001b[0m\u001b[0m\n\u001b[0;32m--> 325\u001b[0;31m         \u001b[0mp\u001b[0m\u001b[0;34m.\u001b[0m\u001b[0mtitle\u001b[0m\u001b[0;34m(\u001b[0m\u001b[0mtitle\u001b[0m\u001b[0;34m)\u001b[0m\u001b[0;34m\u001b[0m\u001b[0m\n\u001b[0m\u001b[1;32m    326\u001b[0m         \u001b[0mplt\u001b[0m\u001b[0;34m.\u001b[0m\u001b[0mshow\u001b[0m\u001b[0;34m(\u001b[0m\u001b[0;34m)\u001b[0m\u001b[0;34m\u001b[0m\u001b[0m\n\u001b[1;32m    327\u001b[0m         \u001b[0;32mreturn\u001b[0m \u001b[0mNone\u001b[0m\u001b[0;34m\u001b[0m\u001b[0m\n",
      "\u001b[0;31mAttributeError\u001b[0m: 'NoneType' object has no attribute 'title'"
     ]
    }
   ],
   "source": [
    "imgtemp.display_field()"
   ]
  },
  {
   "cell_type": "markdown",
   "metadata": {},
   "source": [
    "## I need to load bioclim globally (angry)"
   ]
  },
  {
   "cell_type": "code",
   "execution_count": 66,
   "metadata": {
    "collapsed": false
   },
   "outputs": [
    {
     "name": "stderr",
     "output_type": "stream",
     "text": [
      "INFO [biospytial.gbif.taxonomy.GriddedTaxonomy]\n",
      " Creating Shapefile shannon@carnford1\n",
      "INFO:biospytial.gbif.taxonomy:[biospytial.gbif.taxonomy.GriddedTaxonomy]\n",
      " Creating Shapefile shannon@carnford1\n",
      "INFO [biospytial.gbif.taxonomy.GriddedTaxonomy]\n",
      " Shapefile Created in carnford1/shannon\n",
      "INFO:biospytial.gbif.taxonomy:[biospytial.gbif.taxonomy.GriddedTaxonomy]\n",
      " Shapefile Created in carnford1/shannon\n"
     ]
    },
    {
     "data": {
      "text/plain": [
       "True"
      ]
     },
     "execution_count": 66,
     "metadata": {},
     "output_type": "execute_result"
    }
   ],
   "source": [
    "ggg.createShapefile(option='shannon',store='carnford1')"
   ]
  },
  {
   "cell_type": "markdown",
   "metadata": {},
   "source": [
    "These are the results."
   ]
  },
  {
   "cell_type": "markdown",
   "metadata": {},
   "source": [
    "![Startig region](shannon.png \"The region\")\n"
   ]
  },
  {
   "cell_type": "markdown",
   "metadata": {},
   "source": [
    "### What! Only 2 occurrences ?!"
   ]
  },
  {
   "cell_type": "code",
   "execution_count": 68,
   "metadata": {
    "collapsed": false
   },
   "outputs": [
    {
     "data": {
      "text/plain": [
       "[<Occurrence: <GBIF Occurrence: 1202678246  scientific_name: Periparus ater (Linnaeus, 1758)>\n",
       "  Kingdom: Animalia \n",
       " ,\t Phylum: Chordata \n",
       " ,\t \t Order: Passeriformes,\n",
       "  \t \t \t Class: Aves, \n",
       "  \t \t \t \t Family: Paridae, \n",
       "  \t \t \t \t \t Location: s<\\GBIF Occurrence>>,\n",
       " <Occurrence: <GBIF Occurrence: 1202679548  scientific_name: Turdus merula Linnaeus, 1758>\n",
       "  Kingdom: Animalia \n",
       " ,\t Phylum: Chordata \n",
       " ,\t \t Order: Passeriformes,\n",
       "  \t \t \t Class: Aves, \n",
       "  \t \t \t \t Family: Turdidae, \n",
       "  \t \t \t \t \t Location: s<\\GBIF Occurrence>>,\n",
       " <Occurrence: <GBIF Occurrence: 1202679575  scientific_name: Phylloscopus trochilus (Linnaeus, 1758)>\n",
       "  Kingdom: Animalia \n",
       " ,\t Phylum: Chordata \n",
       " ,\t \t Order: Passeriformes,\n",
       "  \t \t \t Class: Aves, \n",
       "  \t \t \t \t Family: Phylloscopidae, \n",
       "  \t \t \t \t \t Location: s<\\GBIF Occurrence>>,\n",
       " <Occurrence: <GBIF Occurrence: 1202679571  scientific_name: Larus marinus Linnaeus, 1758>\n",
       "  Kingdom: Animalia \n",
       " ,\t Phylum: Chordata \n",
       " ,\t \t Order: Charadriiformes,\n",
       "  \t \t \t Class: Aves, \n",
       "  \t \t \t \t Family: Laridae, \n",
       "  \t \t \t \t \t Location: s<\\GBIF Occurrence>>,\n",
       " <Occurrence: <GBIF Occurrence: 1202679557  scientific_name: Certhia familiaris Linnaeus, 1758>\n",
       "  Kingdom: Animalia \n",
       " ,\t Phylum: Chordata \n",
       " ,\t \t Order: Passeriformes,\n",
       "  \t \t \t Class: Aves, \n",
       "  \t \t \t \t Family: Certhiidae, \n",
       "  \t \t \t \t \t Location: s<\\GBIF Occurrence>>,\n",
       " <Occurrence: <GBIF Occurrence: 1202679517  scientific_name: Motacilla alba Linnaeus, 1758>\n",
       "  Kingdom: Animalia \n",
       " ,\t Phylum: Chordata \n",
       " ,\t \t Order: Passeriformes,\n",
       "  \t \t \t Class: Aves, \n",
       "  \t \t \t \t Family: Motacillidae, \n",
       "  \t \t \t \t \t Location: s<\\GBIF Occurrence>>,\n",
       " <Occurrence: <GBIF Occurrence: 1202679603  scientific_name: Parus major Linnaeus, 1758>\n",
       "  Kingdom: Animalia \n",
       " ,\t Phylum: Chordata \n",
       " ,\t \t Order: Passeriformes,\n",
       "  \t \t \t Class: Aves, \n",
       "  \t \t \t \t Family: Paridae, \n",
       "  \t \t \t \t \t Location: s<\\GBIF Occurrence>>,\n",
       " <Occurrence: <GBIF Occurrence: 1202679550  scientific_name: Pica pica (Linnaeus, 1758)>\n",
       "  Kingdom: Animalia \n",
       " ,\t Phylum: Chordata \n",
       " ,\t \t Order: Passeriformes,\n",
       "  \t \t \t Class: Aves, \n",
       "  \t \t \t \t Family: Corvidae, \n",
       "  \t \t \t \t \t Location: s<\\GBIF Occurrence>>,\n",
       " <Occurrence: <GBIF Occurrence: 1202678226  scientific_name: Delichon urbicum (Linnaeus, 1758)>\n",
       "  Kingdom: Animalia \n",
       " ,\t Phylum: Chordata \n",
       " ,\t \t Order: Passeriformes,\n",
       "  \t \t \t Class: Aves, \n",
       "  \t \t \t \t Family: Hirundinidae, \n",
       "  \t \t \t \t \t Location: s<\\GBIF Occurrence>>,\n",
       " <Occurrence: <GBIF Occurrence: 1202678282  scientific_name: Cyanistes caeruleus (Linnaeus, 1758)>\n",
       "  Kingdom: Animalia \n",
       " ,\t Phylum: Chordata \n",
       " ,\t \t Order: Passeriformes,\n",
       "  \t \t \t Class: Aves, \n",
       "  \t \t \t \t Family: Paridae, \n",
       "  \t \t \t \t \t Location: s<\\GBIF Occurrence>>]"
      ]
     },
     "execution_count": 68,
     "metadata": {},
     "output_type": "execute_result"
    }
   ],
   "source": [
    "carnforth_occurrences[:10]"
   ]
  },
  {
   "cell_type": "code",
   "execution_count": 69,
   "metadata": {
    "collapsed": true
   },
   "outputs": [],
   "source": [
    "o = carnforth_occurrences[0]"
   ]
  },
  {
   "cell_type": "code",
   "execution_count": 72,
   "metadata": {
    "collapsed": false
   },
   "outputs": [
    {
     "data": {
      "text/plain": [
       "u'POINT (-2.82074 54.17848)'"
      ]
     },
     "execution_count": 72,
     "metadata": {},
     "output_type": "execute_result"
    }
   ],
   "source": [
    "o.geom.wkt"
   ]
  },
  {
   "cell_type": "code",
   "execution_count": 73,
   "metadata": {
    "collapsed": true
   },
   "outputs": [],
   "source": [
    "points = map(lambda o : o.geom.wkt, carnforth_occurrences)"
   ]
  },
  {
   "cell_type": "code",
   "execution_count": 87,
   "metadata": {
    "collapsed": false
   },
   "outputs": [
    {
     "data": {
      "text/plain": [
       "[u'POINT (-2.82074 54.17848)',\n",
       " u'POINT (-2.82074 54.17848)',\n",
       " u'POINT (-2.82074 54.17848)',\n",
       " u'POINT (-2.82074 54.17848)',\n",
       " u'POINT (-2.82074 54.17848)',\n",
       " u'POINT (-2.82074 54.17848)',\n",
       " u'POINT (-2.82074 54.17848)',\n",
       " u'POINT (-2.82074 54.17848)',\n",
       " u'POINT (-2.82074 54.17848)',\n",
       " u'POINT (-2.82074 54.17848)']"
      ]
     },
     "execution_count": 87,
     "metadata": {},
     "output_type": "execute_result"
    }
   ],
   "source": [
    "points[:10]"
   ]
  },
  {
   "cell_type": "markdown",
   "metadata": {},
   "source": [
    "No, just that everybody registered that same point! \n",
    "Don't do that pleasEE!"
   ]
  },
  {
   "cell_type": "markdown",
   "metadata": {},
   "source": [
    "Let's see if we can get more data from there"
   ]
  },
  {
   "cell_type": "code",
   "execution_count": 77,
   "metadata": {
    "collapsed": true
   },
   "outputs": [],
   "source": [
    "more_carnforth = pop.getAllOccurrences(carnforth,offset=32)"
   ]
  },
  {
   "cell_type": "markdown",
   "metadata": {
    "collapsed": false
   },
   "source": []
  },
  {
   "cell_type": "markdown",
   "metadata": {},
   "source": []
  },
  {
   "cell_type": "code",
   "execution_count": null,
   "metadata": {
    "collapsed": true
   },
   "outputs": [],
   "source": []
  }
 ],
 "metadata": {
  "kernelspec": {
   "display_name": "Django Shell-Plus",
   "language": "python",
   "name": "django_extensions"
  },
  "language_info": {
   "codemirror_mode": {
    "name": "ipython",
    "version": 2
   },
   "file_extension": ".py",
   "mimetype": "text/x-python",
   "name": "python",
   "nbconvert_exporter": "python",
   "pygments_lexer": "ipython2",
   "version": "2.7.11"
  }
 },
 "nbformat": 4,
 "nbformat_minor": 0
}
