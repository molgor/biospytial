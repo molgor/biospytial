{
 "cells": [
  {
   "cell_type": "code",
   "execution_count": null,
   "metadata": {
    "collapsed": true
   },
   "outputs": [],
   "source": [
    "To do for the demo\n",
    "\n",
    "* Plot graph function\n",
    "* Export to html vis\n",
    "* Maybe logo\n",
    "* Extract graph structures\n",
    "\n",
    "To  Show\n",
    "* pick node \"mosquito\"\n",
    "* Select cells (Random uniform)\n",
    "* Explore count on cells with degree, maybe create a funtion for degree\n",
    "* Extract the big tree\n",
    "* Get frequencies on nodes\n",
    "* Get Raster values (point, areas)\n",
    "* plot raster of big tree\n",
    "* convert to graph /network\n",
    "* plot network \n",
    "* export json vis in html\n",
    "* calculate laplasian and other stuff-\n",
    "* maybe kmeans, etc.\n",
    "\n",
    "\n",
    "\n"
   ]
  },
  {
   "cell_type": "code",
   "execution_count": null,
   "metadata": {
    "collapsed": true
   },
   "outputs": [],
   "source": [
    "from traversals.strategies import UniformRandomSampleForest\n",
    "from drivers.tree_builder import TreeNeo\n",
    "from drivers.graph_models import TreeNode, Order, Family, graph, pickNode\n",
    "from traversals.strategies import sumTrees, UniformRandomSampleForest\n",
    "bursera = list(Family.select(graph).where(\"_.name=~'Burser.*'\")).pop()\n",
    "cells = list(bursera.cells)\n",
    "%time t = map(lambda i : list(UniformRandomSampleForest(cells,size=10)),range(10))\n"
   ]
  }
 ],
 "metadata": {
  "kernelspec": {
   "display_name": "Django Shell-Plus",
   "language": "python",
   "name": "django_extensions"
  },
  "language_info": {
   "codemirror_mode": {
    "name": "ipython",
    "version": 2
   },
   "file_extension": ".py",
   "mimetype": "text/x-python",
   "name": "python",
   "nbconvert_exporter": "python",
   "pygments_lexer": "ipython2",
   "version": "2.7.11"
  }
 },
 "nbformat": 4,
 "nbformat_minor": 0
}
