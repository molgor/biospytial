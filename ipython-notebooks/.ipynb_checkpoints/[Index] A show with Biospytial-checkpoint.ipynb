{
 "cells": [
  {
   "cell_type": "markdown",
   "metadata": {},
   "source": [
    "# A system for modelling interrelated Biodiversity data"
   ]
  },
  {
   "cell_type": "markdown",
   "metadata": {},
   "source": [
    "> The system stores data in a Knowledge Engine highly connected. \n",
    "* It integrates vector, raster and relational data in a single access-point\n",
    "* Scalable and Paralelizable\n",
    "* Built on top of highly reliable data management and GIS tools (Open Source).\n",
    "\n",
    "\n",
    "## Data handling notes:\n",
    "Examples on how to obtain Local Taxonomic Trees, operate them and get associated data.\n",
    "\n",
    "* ### [Mosquito Example](demos/Mosquitos_and_friends.ipynb)\n",
    "An interactive example on how to load regions related to a family. Extract associated trees, count frequencies and create a network\n",
    "* ### [Bats Example](demos/Bats_analysis.ipynb)\n",
    "An example on how to explore (traverse) the Tree of Life starting from a Family node (Bats *Chiroptera*), obtaining a uniform random sample and get the most associated taxa.\n",
    "\n",
    "## Gaussian Process Modelling with Inference\n",
    "\n",
    "* ### [Getting Started with Spystats](../external_plugins/spystats/notebooks/demo/Getting started with Spystats.ipynb)\n",
    "A project that I´m developing for modelling Gaussian and Non Gaussian processes with spatio-temporal variance using the Bayesian Approach.\n",
    "* ### [Working with partial FIA data](../external_plugins/spystats/notebooks/demo/Linear Model fitting with curve-fitting variogram.ipynb)\n",
    "A case study for *Spystats* In which using the Forest Inventory and Analysis National Program data (>36k data.\n",
    "* ### [Working with whole FIA data](../external_plugins/spystats/notebooks/Spatial Model Fitting using GLS.ipynb)\n",
    "Results from the analysis, a GLS fitting. Used the HEC.\n",
    "* ### [Spatial Regression (Gaussian)](../external_plugins/spystats/notebooks/spatial_autocorrelation_from_fitted_model.ipynb)\n",
    "Proof of Concept of derivable products.\n",
    "\n",
    "## Connecting Both worlds\n",
    "* ### [Richness regression](demos/statistical_models/[Spatial Regression] Extracting Taxa from grid.ipynb)\n",
    "> ON PROCESS\n",
    "The bayesian aproach for modelling data, extracted from the knowledge base\n",
    "\n",
    "## Presentations\n",
    "* ### [Spatial Statistics Conference 2017](http://panthera/files/spatstats2017.pdf)\n",
    "    Short exposition of the System with example (Mosquito)\n",
    "* ### [Simple Linear Regression Model](http://panthera/files/olsmodel.pdf)\n",
    "    A proposal for the model and a simple linear relation (No spatial autocorrelation)\n",
    "* ### [More extended presentation (2016)](http://panthera/files/chicas_nov_2016_presentation.pdf)\n",
    "    A full presentation (1hr) explaining the theoretical foundations of the system.\n",
    "    \n",
    "\n"
   ]
  },
  {
   "cell_type": "code",
   "execution_count": 17,
   "metadata": {
    "collapsed": false
   },
   "outputs": [
    {
     "name": "stdout",
     "output_type": "stream",
     "text": [
      "Analysis of spatial models using systematic and random samples.ipynb\r\n",
      "Model by chunks.ipynb\r\n",
      "Sketches2_for_geopystats.ipynb\r\n",
      "Sketches_for_geopystats.ipynb\r\n",
      "Spatial Model Fitting using GLS.ipynb\r\n",
      "\u001b[0m\u001b[01;34mTensorFlow\u001b[0m/\r\n",
      "anomalies_exploration.ipynb\r\n",
      "batchprocess_log_log.log\r\n",
      "core\r\n",
      "\u001b[01;34mdata\u001b[0m/\r\n",
      "data_envelope.csv\r\n",
      "\u001b[01;34mdemo\u001b[0m/\r\n",
      "global_variogram.ipynb\r\n",
      "gpflow_example_nongaussian.ipynb\r\n",
      "log_spatial_autocorrelation_with_trend.ipynb\r\n",
      "model_by_chunks.ipynb\r\n",
      "model_fitting_spatialautocorr_using_GLS.ipynb\r\n",
      "spatial_autocorrelation_from_fitted_model.ipynb\r\n",
      "spatial_autocorrelation_from_fitted_model_POISSON.ipynb\r\n",
      "spatial_autocorrelation_geopandas.ipynb\r\n",
      "spatial_autocorrelation_geopandas2-Copy1.ipynb\r\n",
      "spatial_autocorrelation_geopandas2.ipynb\r\n",
      "spatial_autocorrelation_random_sample.ipynb\r\n",
      "spatial_autocorrelation_raw_data.ipynb\r\n",
      "spatial_autocorrelation_with_trend.ipynb\r\n",
      "test_gls.csv\r\n",
      "variogram_envelope_by_chunks.ipynb\r\n"
     ]
    }
   ],
   "source": [
    "ls ../external_plugins/spystats/notebooks"
   ]
  },
  {
   "cell_type": "code",
   "execution_count": null,
   "metadata": {
    "collapsed": true
   },
   "outputs": [],
   "source": []
  }
 ],
 "metadata": {
  "kernelspec": {
   "display_name": "Django Shell-Plus",
   "language": "python",
   "name": "django_extensions"
  },
  "language_info": {
   "codemirror_mode": {
    "name": "ipython",
    "version": 2
   },
   "file_extension": ".py",
   "mimetype": "text/x-python",
   "name": "python",
   "nbconvert_exporter": "python",
   "pygments_lexer": "ipython2",
   "version": "2.7.11"
  }
 },
 "nbformat": 4,
 "nbformat_minor": 0
}
