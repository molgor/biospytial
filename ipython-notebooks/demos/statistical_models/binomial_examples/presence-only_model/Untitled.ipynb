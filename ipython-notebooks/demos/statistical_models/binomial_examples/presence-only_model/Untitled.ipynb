{
 "cells": [
  {
   "cell_type": "markdown",
   "metadata": {},
   "source": [
    "Compañeros:\n",
    "    Algunos creen que las elecciones son una farza, no pienso discutir eso. Otros creen que, aunque lo fuera, está jodido de todos modos porque las opciones son igualmente repugnantes, tampoco pienso discutir eso. Lo único que quiero hacer notar aquí es que la raíz de este sistema organizacional llamado gobierno mexicano es la \"democrácia representativa\" que se valida/ratifica con las elecciones. \n",
    "    \n",
    "    Quiero hacerles recordar que el gob.mex posee parte del oligopolio de las fuerzas armadas, además del monopolio de impartición de justicia y por lo tanto de afrentar contra la vida y la libertad. \n",
    "    \n",
    "    También quiero que recuerden todos los casos de corrupción del presente gob.mex.; las coluciones con empresarios que promueven la devastación ambiental; que propician el uso de combustibles fósiles agravando el cambio climático; que despojan de espacio públicos como playas,ciudades, parques nacionales; que permiten los abusos policiales; etc, etc, etc.\n",
    "    \n",
    "    Durante este sexenio, para mí fue muy claro cómo el gobierno era una agencia de relaciones públicas con la cuál cualquiera que tuviera el dinero suficiente podía hacer lo que le viniera en gana. A lo mejor, estoy equivocado. Me gustaría que alguién me explicara. \n",
    "    \n",
    "    Por ahí se rumorea de que puede haber nuevamente fraude electoral. \n",
    "    El montaje y colusión en la desaparición de los colegas de Ayotzinapa; La masacre de Apatzingan/Tlatlaya y tantas de las que ya perdimos memoria; La fuga masiva de mexicanos en el extranjero; La minima inversión pública, so pretexto de inumerables e incuestionables \"inestabilidades macro-económicas internacionales\"; Los hospitales no terminados, los que están, a reventar. Los cuadernos MontBlanc llenos de \"Merezco Abundancia\"; La presa-privada en Sonora; La contaminación del Río Sonora; La estafa maestra; El agua en el tratamiento infantil de quimioterapia; La devaluación de 80% del peso; La frivolidad; La sordera; El muñeco gigante de Peña quemándose en el Zócalo....\n",
    "    El temblor;\n",
    "    La tristeza;\n",
    "    La marabunta;\n",
    "    La auto-organización;\n",
    "    y La esperanza!\n",
    "    \n",
    "    En mi caso no es una esperanza con el próximo gobierno. Es una esperanza en el cambio pacífico de sistema económico y político. Pienso que entender la complejidad de la vida requiere del pensamiento y trabajo de muchas mentes. Sabiduría familiar siempre ha dicho que \"Dos cabezas piensan mejor que una\", y .. tres, cien , millones?? \n",
    "    Pienso que sí es posible creer una incipiente democracia, puede abrir más oportunidades para todos en el futuro. En realidad, el domingo es un día cualquiera como todos. Sucede que hay una \"oportunidad\" para quitarle la legitimidad a la corte imperial    \n",
    "    \n",
    "    \n",
    "    \n",
    "    "
   ]
  }
 ],
 "metadata": {
  "kernelspec": {
   "display_name": "Python 2",
   "language": "python",
   "name": "python2"
  },
  "language_info": {
   "codemirror_mode": {
    "name": "ipython",
    "version": 2
   },
   "file_extension": ".py",
   "mimetype": "text/x-python",
   "name": "python",
   "nbconvert_exporter": "python",
   "pygments_lexer": "ipython2",
   "version": "2.7.11"
  }
 },
 "nbformat": 4,
 "nbformat_minor": 2
}
