{
 "cells": [
  {
   "cell_type": "markdown",
   "metadata": {},
   "source": [
    "# Spatial Regression of Abundance Data\n",
    "Here I show how to extract different taxonomic information at cell level.\n",
    "Although there exists a method for building the taxonomic tree within a single cell, the process can be computationally intensive because it depends on extracting the total amount of occurrences in each cell. From there, it traverses fromtop to bottom the tree looking for the corresponding nodes.\n",
    "\n",
    "The approach is usefull when one needs a small number of trees but it'll become increasingly slow if the amount of cells or occurrences increases. \n",
    "\n",
    "## Extracting specific taxonomic levels en each cells\n",
    "\n",
    "The method studied here makes use of the relationship type `IS_IN` stored in the knowledge graph.\n",
    "\n",
    "Note: *There was a problem with the design of the OGM implementation (py2neo.ogm). The retrieval of linked nodes based on a specific relation does not distinguish different labels. In other words it returns the totality of the data that has the  specific relationship given a node.*\n",
    "\n",
    "The solution was to include extra methods for the class Cell `has_[taxas]`. This method/attribute returns a graph selector that points to the corresponding nodes.\n",
    "\n",
    "Let's get started.\n",
    "As usual we need to load the necessary modules\n"
   ]
  },
  {
   "cell_type": "code",
   "execution_count": 1,
   "metadata": {
    "collapsed": false
   },
   "outputs": [],
   "source": [
    "%matplotlib inline\n",
    "import sys\n",
    "sys.path.append('/apps')\n",
    "import django\n",
    "django.setup()\n",
    "from drivers.tree_builder import TreeNeo\n",
    "from drivers.graph_models import TreeNode, Order, Family, graph,Kingdom,Occurrence\n",
    "from drivers.graph_models import Cell,Mex4km, countObjectsOf\n",
    "import matplotlib.pyplot as plt\n",
    "## Use the ggplot style\n",
    "plt.style.use('ggplot')"
   ]
  },
  {
   "cell_type": "markdown",
   "metadata": {},
   "source": [
    "## Random selection of cells.\n",
    "\n",
    "*Note* : There was a big problem in the data arquitecture. For storage reasons I couldn't load the complete world bioclimatic layers. Therefore I needed to put a regional subset that comprises only the Mexican Territory. \n",
    "For this reason, it is necessary that any approach for selecting subsamples needs to be constrained (filter) by this geometry. \n",
    "We can do that with this:"
   ]
  },
  {
   "cell_type": "code",
   "execution_count": 85,
   "metadata": {
    "collapsed": false
   },
   "outputs": [],
   "source": [
    "from sketches.models import Country\n",
    "Mexico = Country.objects.filter(name__contains=\"exico\").get()\n",
    "import pandas as pd"
   ]
  },
  {
   "cell_type": "code",
   "execution_count": 86,
   "metadata": {
    "collapsed": false
   },
   "outputs": [],
   "source": [
    "from mesh.models import MexMesh\n",
    "mexican_cells = MexMesh.objects.filter(cell__intersects=Mexico.geom)"
   ]
  },
  {
   "cell_type": "code",
   "execution_count": 88,
   "metadata": {
    "collapsed": false
   },
   "outputs": [],
   "source": [
    "ids = list(mexican_cells.values('pk'))"
   ]
  },
  {
   "cell_type": "code",
   "execution_count": 89,
   "metadata": {
    "collapsed": false
   },
   "outputs": [],
   "source": [
    "ids = pd.DataFrame(ids)\n"
   ]
  },
  {
   "cell_type": "code",
   "execution_count": 91,
   "metadata": {
    "collapsed": false
   },
   "outputs": [
    {
     "data": {
      "text/plain": [
       "(74200, 1)"
      ]
     },
     "execution_count": 91,
     "metadata": {},
     "output_type": "execute_result"
    }
   ],
   "source": [
    "ids.shape[0]"
   ]
  },
  {
   "cell_type": "markdown",
   "metadata": {},
   "source": [
    "The selection should be as follow:\n",
    "    * Convert to pandas\n",
    "    * GEnerate random numbers uniform on that range\n",
    "    * use iloc to get the id values\n",
    "    * Use the normal methodology.\n",
    "    "
   ]
  },
  {
   "cell_type": "code",
   "execution_count": 109,
   "metadata": {
    "collapsed": false
   },
   "outputs": [],
   "source": [
    "ncells = countObjectsOf(Mex4km)\n",
    "ncells = ids.shape[0]\n",
    "import numpy as np\n",
    "np.random.seed(12345)\n",
    "sample_size = 200\n",
    "choices = np.random.choice(range(1,ncells),sample_size,replace='False')"
   ]
  },
  {
   "cell_type": "code",
   "execution_count": 110,
   "metadata": {
    "collapsed": false
   },
   "outputs": [],
   "source": [
    "choices = list(ids.loc[choices].pk)"
   ]
  },
  {
   "cell_type": "code",
   "execution_count": 111,
   "metadata": {
    "collapsed": false
   },
   "outputs": [
    {
     "data": {
      "text/plain": [
       "[161219,\n",
       " 168743,\n",
       " 212901,\n",
       " 197962,\n",
       " 233595,\n",
       " 212604,\n",
       " 238321,\n",
       " 225903,\n",
       " 178051,\n",
       " 205829,\n",
       " 206670,\n",
       " 204788,\n",
       " 195861,\n",
       " 227500,\n",
       " 192036,\n",
       " 174825,\n",
       " 216264,\n",
       " 222549,\n",
       " 246103,\n",
       " 166680,\n",
       " 247951,\n",
       " 236766,\n",
       " 254646,\n",
       " 222896,\n",
       " 254898,\n",
       " 221603,\n",
       " 235507,\n",
       " 244964,\n",
       " 247097,\n",
       " 254377,\n",
       " 256730,\n",
       " 207173,\n",
       " 228753,\n",
       " 228825,\n",
       " 250742,\n",
       " 258904,\n",
       " 224123,\n",
       " 221536,\n",
       " 229244,\n",
       " 224859,\n",
       " 236050,\n",
       " 223199,\n",
       " 260661,\n",
       " 146569,\n",
       " 240070,\n",
       " 213370,\n",
       " 201044,\n",
       " 243531,\n",
       " 259802,\n",
       " 253481,\n",
       " 212771,\n",
       " 250736,\n",
       " 223985,\n",
       " 197918,\n",
       " 230668,\n",
       " 212795,\n",
       " 189495,\n",
       " 177538,\n",
       " 258930,\n",
       " 205273,\n",
       " 199889,\n",
       " 240963,\n",
       " 247448,\n",
       " 199844,\n",
       " 253456,\n",
       " 246635,\n",
       " 241422,\n",
       " 200576,\n",
       " 248275,\n",
       " 227909,\n",
       " 236296,\n",
       " 250594,\n",
       " 215392,\n",
       " 158349,\n",
       " 228739,\n",
       " 211950,\n",
       " 199799,\n",
       " 215859,\n",
       " 193709,\n",
       " 238199,\n",
       " 239625,\n",
       " 248407,\n",
       " 194503,\n",
       " 208000,\n",
       " 251138,\n",
       " 189520,\n",
       " 216521,\n",
       " 240859,\n",
       " 253210,\n",
       " 194275,\n",
       " 228064,\n",
       " 197989,\n",
       " 202821,\n",
       " 190444,\n",
       " 213801,\n",
       " 256743,\n",
       " 232728,\n",
       " 164100,\n",
       " 254607,\n",
       " 229795,\n",
       " 247453,\n",
       " 193366,\n",
       " 214409,\n",
       " 248877,\n",
       " 205227,\n",
       " 209895,\n",
       " 225738,\n",
       " 242420,\n",
       " 204104,\n",
       " 187528,\n",
       " 241638,\n",
       " 242048,\n",
       " 205629,\n",
       " 214316,\n",
       " 196612,\n",
       " 260183,\n",
       " 245270,\n",
       " 228041,\n",
       " 219523,\n",
       " 195289,\n",
       " 215344,\n",
       " 231354,\n",
       " 245995,\n",
       " 257250,\n",
       " 194561,\n",
       " 223470,\n",
       " 192159,\n",
       " 203676,\n",
       " 205169,\n",
       " 199165,\n",
       " 235437,\n",
       " 229953,\n",
       " 200634,\n",
       " 185593,\n",
       " 212501,\n",
       " 202442,\n",
       " 188546,\n",
       " 246156,\n",
       " 245303,\n",
       " 224707,\n",
       " 233299,\n",
       " 233150,\n",
       " 161325,\n",
       " 217711,\n",
       " 236615,\n",
       " 234267,\n",
       " 227234,\n",
       " 245487,\n",
       " 216911,\n",
       " 206224,\n",
       " 185542,\n",
       " 217547,\n",
       " 222973,\n",
       " 155464,\n",
       " 206550,\n",
       " 204645,\n",
       " 193477,\n",
       " 252074,\n",
       " 249440,\n",
       " 204482,\n",
       " 214462,\n",
       " 215260,\n",
       " 205600,\n",
       " 251318,\n",
       " 235554,\n",
       " 241257,\n",
       " 248879,\n",
       " 216457,\n",
       " 236739,\n",
       " 197696,\n",
       " 256217,\n",
       " 232844,\n",
       " 194275,\n",
       " 195031,\n",
       " 229913,\n",
       " 218853,\n",
       " 260005,\n",
       " 253778,\n",
       " 205613,\n",
       " 220640,\n",
       " 198813,\n",
       " 257813,\n",
       " 230791,\n",
       " 219886,\n",
       " 154001,\n",
       " 204821,\n",
       " 243663,\n",
       " 174181,\n",
       " 198769,\n",
       " 206162,\n",
       " 223988,\n",
       " 215475,\n",
       " 222809,\n",
       " 182291,\n",
       " 260608,\n",
       " 253722,\n",
       " 241112,\n",
       " 161340,\n",
       " 244431,\n",
       " 178171]"
      ]
     },
     "execution_count": 111,
     "metadata": {},
     "output_type": "execute_result"
    }
   ],
   "source": [
    "choices"
   ]
  },
  {
   "cell_type": "code",
   "execution_count": 112,
   "metadata": {
    "collapsed": false
   },
   "outputs": [],
   "source": [
    "## This will stringify the id list to get the selected cells.\n",
    "selection_of_cells = Mex4km.select(graph).where(\"_.id IN  %s \"%str(list(choices)))"
   ]
  },
  {
   "cell_type": "markdown",
   "metadata": {
    "collapsed": false
   },
   "source": [
    "### Using iterators (imap + graphselector_iterator)"
   ]
  },
  {
   "cell_type": "code",
   "execution_count": 113,
   "metadata": {
    "collapsed": true
   },
   "outputs": [],
   "source": [
    "import itertools as it"
   ]
  },
  {
   "cell_type": "markdown",
   "metadata": {},
   "source": [
    "## We will select the different Families here"
   ]
  },
  {
   "cell_type": "code",
   "execution_count": 114,
   "metadata": {
    "collapsed": false
   },
   "outputs": [
    {
     "name": "stdout",
     "output_type": "stream",
     "text": [
      "CPU times: user 0 ns, sys: 0 ns, total: 0 ns\n",
      "Wall time: 16.9 µs\n"
     ]
    }
   ],
   "source": [
    "%time families = it.imap(lambda c : c.has_families,selection_of_cells)"
   ]
  },
  {
   "cell_type": "code",
   "execution_count": 115,
   "metadata": {
    "collapsed": false
   },
   "outputs": [],
   "source": [
    "fams = list(families)"
   ]
  },
  {
   "cell_type": "code",
   "execution_count": 116,
   "metadata": {
    "collapsed": false
   },
   "outputs": [],
   "source": [
    "tt = [ list(fam) for fam in fams]"
   ]
  },
  {
   "cell_type": "code",
   "execution_count": 117,
   "metadata": {
    "collapsed": false
   },
   "outputs": [],
   "source": [
    "calculateRichness = lambda l_taxa : len(l_taxa)\n",
    "richness_for_fams = map(calculateRichness,tt)"
   ]
  },
  {
   "cell_type": "code",
   "execution_count": 118,
   "metadata": {
    "collapsed": false
   },
   "outputs": [
    {
     "data": {
      "text/plain": [
       "[4,\n",
       " 0,\n",
       " 2,\n",
       " 9,\n",
       " 1,\n",
       " 0,\n",
       " 0,\n",
       " 0,\n",
       " 0,\n",
       " 0,\n",
       " 1,\n",
       " 0,\n",
       " 0,\n",
       " 0,\n",
       " 44,\n",
       " 0,\n",
       " 0,\n",
       " 9,\n",
       " 0,\n",
       " 0,\n",
       " 2,\n",
       " 60,\n",
       " 1,\n",
       " 0,\n",
       " 0,\n",
       " 0,\n",
       " 0,\n",
       " 0,\n",
       " 9,\n",
       " 5,\n",
       " 0,\n",
       " 0,\n",
       " 11,\n",
       " 0,\n",
       " 0,\n",
       " 15,\n",
       " 0,\n",
       " 0,\n",
       " 3,\n",
       " 4,\n",
       " 0,\n",
       " 0,\n",
       " 1,\n",
       " 0,\n",
       " 1,\n",
       " 0,\n",
       " 18,\n",
       " 0,\n",
       " 5,\n",
       " 0,\n",
       " 0,\n",
       " 2,\n",
       " 0,\n",
       " 0,\n",
       " 3,\n",
       " 2,\n",
       " 0,\n",
       " 0,\n",
       " 0,\n",
       " 0,\n",
       " 0,\n",
       " 2,\n",
       " 3,\n",
       " 2,\n",
       " 0,\n",
       " 0,\n",
       " 3,\n",
       " 1,\n",
       " 8,\n",
       " 0,\n",
       " 23,\n",
       " 9,\n",
       " 1,\n",
       " 29,\n",
       " 0,\n",
       " 9,\n",
       " 2,\n",
       " 0,\n",
       " 31,\n",
       " 2,\n",
       " 1,\n",
       " 4,\n",
       " 15,\n",
       " 0,\n",
       " 0,\n",
       " 0,\n",
       " 0,\n",
       " 1,\n",
       " 0,\n",
       " 0,\n",
       " 0,\n",
       " 2,\n",
       " 0,\n",
       " 34,\n",
       " 0,\n",
       " 38,\n",
       " 0,\n",
       " 0,\n",
       " 0,\n",
       " 7,\n",
       " 14,\n",
       " 0,\n",
       " 0,\n",
       " 0,\n",
       " 6,\n",
       " 0,\n",
       " 0,\n",
       " 0,\n",
       " 0,\n",
       " 16,\n",
       " 10,\n",
       " 0,\n",
       " 5,\n",
       " 55,\n",
       " 2,\n",
       " 0,\n",
       " 1,\n",
       " 0,\n",
       " 1,\n",
       " 4,\n",
       " 0,\n",
       " 15,\n",
       " 0,\n",
       " 0,\n",
       " 0,\n",
       " 0,\n",
       " 1,\n",
       " 0,\n",
       " 5,\n",
       " 0,\n",
       " 17,\n",
       " 47,\n",
       " 1,\n",
       " 36,\n",
       " 1,\n",
       " 0,\n",
       " 0,\n",
       " 4,\n",
       " 0,\n",
       " 0,\n",
       " 0,\n",
       " 0,\n",
       " 2,\n",
       " 2,\n",
       " 0,\n",
       " 0,\n",
       " 0,\n",
       " 0,\n",
       " 0,\n",
       " 3,\n",
       " 0,\n",
       " 7,\n",
       " 1,\n",
       " 0,\n",
       " 0,\n",
       " 30,\n",
       " 3,\n",
       " 1,\n",
       " 0,\n",
       " 0,\n",
       " 8,\n",
       " 8,\n",
       " 0,\n",
       " 0,\n",
       " 0,\n",
       " 3,\n",
       " 11,\n",
       " 71,\n",
       " 0,\n",
       " 0,\n",
       " 35,\n",
       " 5,\n",
       " 17,\n",
       " 0,\n",
       " 2,\n",
       " 0,\n",
       " 0,\n",
       " 3,\n",
       " 4,\n",
       " 8,\n",
       " 1,\n",
       " 4,\n",
       " 0,\n",
       " 33,\n",
       " 0,\n",
       " 0,\n",
       " 1,\n",
       " 1,\n",
       " 2,\n",
       " 2,\n",
       " 0,\n",
       " 0,\n",
       " 0,\n",
       " 0,\n",
       " 6,\n",
       " 0,\n",
       " 0,\n",
       " 0,\n",
       " 16]"
      ]
     },
     "execution_count": 118,
     "metadata": {},
     "output_type": "execute_result"
    }
   ],
   "source": [
    "richness_for_fams"
   ]
  },
  {
   "cell_type": "markdown",
   "metadata": {},
   "source": [
    "## Here development for getting environmental covariates for each cell\n",
    "Let's bring the environmental value per cell"
   ]
  },
  {
   "cell_type": "code",
   "execution_count": 119,
   "metadata": {
    "collapsed": false
   },
   "outputs": [],
   "source": [
    "c_iter = iter(selection_of_cells.limit(10))"
   ]
  },
  {
   "cell_type": "code",
   "execution_count": 120,
   "metadata": {
    "collapsed": false
   },
   "outputs": [],
   "source": [
    "c = c_iter.next()"
   ]
  },
  {
   "cell_type": "code",
   "execution_count": 121,
   "metadata": {
    "collapsed": false
   },
   "outputs": [],
   "source": [
    "env_data = c.getAssociatedRasterAreaData('MeanTemperature')"
   ]
  },
  {
   "cell_type": "code",
   "execution_count": 122,
   "metadata": {
    "collapsed": false
   },
   "outputs": [
    {
     "data": {
      "text/plain": [
       "u'MULTIPOLYGON (((-113.4050634159992 27.56788980100018, -113.3560634159992 27.56788980100018, -113.3560634159992 27.51888980100018, -113.4050634159992 27.51888980100018, -113.4050634159992 27.56788980100018)))'"
      ]
     },
     "execution_count": 122,
     "metadata": {},
     "output_type": "execute_result"
    }
   ],
   "source": [
    "c.polygon.wkt"
   ]
  },
  {
   "cell_type": "code",
   "execution_count": 123,
   "metadata": {
    "collapsed": false
   },
   "outputs": [
    {
     "data": {
      "text/plain": [
       "<Raster object at 0x7fc684a43d90>"
      ]
     },
     "execution_count": 123,
     "metadata": {},
     "output_type": "execute_result"
    }
   ],
   "source": [
    "env_data.getRaster()"
   ]
  },
  {
   "cell_type": "code",
   "execution_count": 124,
   "metadata": {
    "collapsed": false
   },
   "outputs": [],
   "source": [
    "rast = c.getAssociatedRasterAreaData('Elevation')"
   ]
  },
  {
   "cell_type": "code",
   "execution_count": 125,
   "metadata": {
    "collapsed": false
   },
   "outputs": [
    {
     "data": {
      "image/png": "[encoded data removed]",
      "text/plain": [
       "<matplotlib.figure.Figure at 0x7fc68421f610>"
      ]
     },
     "metadata": {},
     "output_type": "display_data"
    }
   ],
   "source": [
    "rast.display_field()"
   ]
  },
  {
   "cell_type": "markdown",
   "metadata": {},
   "source": [
    "## Let's see if we can get data from the upper scales\n"
   ]
  },
  {
   "cell_type": "code",
   "execution_count": 126,
   "metadata": {
    "collapsed": false
   },
   "outputs": [
    {
     "data": {
      "text/plain": [
       "< Cell-mexico_grid512 id = 43433 >"
      ]
     },
     "execution_count": 126,
     "metadata": {},
     "output_type": "execute_result"
    }
   ],
   "source": [
    "c.upperCell.next()"
   ]
  },
  {
   "cell_type": "code",
   "execution_count": 127,
   "metadata": {
    "collapsed": false
   },
   "outputs": [],
   "source": [
    "big_cell = c.upperCell.next().upperCell.next().upperCell.next()"
   ]
  },
  {
   "cell_type": "code",
   "execution_count": 128,
   "metadata": {
    "collapsed": false
   },
   "outputs": [],
   "source": [
    "rr = big_cell.getAssociatedRasterAreaData('Elevation')"
   ]
  },
  {
   "cell_type": "code",
   "execution_count": 129,
   "metadata": {
    "collapsed": false
   },
   "outputs": [
    {
     "data": {
      "image/png": "[encoded data removed]",
      "text/plain": [
       "<matplotlib.figure.Figure at 0x7fc682b1a150>"
      ]
     },
     "metadata": {},
     "output_type": "display_data"
    }
   ],
   "source": [
    "rr.display_field()"
   ]
  },
  {
   "cell_type": "code",
   "execution_count": 130,
   "metadata": {
    "collapsed": false
   },
   "outputs": [],
   "source": [
    "from traversals import strategies as st"
   ]
  },
  {
   "cell_type": "code",
   "execution_count": null,
   "metadata": {
    "collapsed": true
   },
   "outputs": [],
   "source": [
    "cells = list(selection_of_cells)"
   ]
  },
  {
   "cell_type": "code",
   "execution_count": null,
   "metadata": {
    "collapsed": false
   },
   "outputs": [],
   "source": [
    "tii = st.getEnvironmentalCovariatesFromListOfCells(cells)"
   ]
  },
  {
   "cell_type": "code",
   "execution_count": 30,
   "metadata": {
    "collapsed": false
   },
   "outputs": [
    {
     "data": {
      "text/html": [
       "<div>\n",
       "<table border=\"1\" class=\"dataframe\">\n",
       "  <thead>\n",
       "    <tr style=\"text-align: right;\">\n",
       "      <th></th>\n",
       "      <th>MinTemperature_mean</th>\n",
       "      <th>MeanTemperature_mean</th>\n",
       "      <th>MaxTemperature_mean</th>\n",
       "    </tr>\n",
       "  </thead>\n",
       "  <tbody>\n",
       "    <tr>\n",
       "      <th>0</th>\n",
       "      <td>N.A.</td>\n",
       "      <td>N.A.</td>\n",
       "      <td>15.2669</td>\n",
       "    </tr>\n",
       "    <tr>\n",
       "      <th>1</th>\n",
       "      <td>29.875</td>\n",
       "      <td>23.6944</td>\n",
       "      <td>29.8986</td>\n",
       "    </tr>\n",
       "    <tr>\n",
       "      <th>2</th>\n",
       "      <td>23.2861</td>\n",
       "      <td>14.8194</td>\n",
       "      <td>23.2328</td>\n",
       "    </tr>\n",
       "    <tr>\n",
       "      <th>3</th>\n",
       "      <td>N.A.</td>\n",
       "      <td>N.A.</td>\n",
       "      <td>30.0982</td>\n",
       "    </tr>\n",
       "    <tr>\n",
       "      <th>4</th>\n",
       "      <td>N.A.</td>\n",
       "      <td>N.A.</td>\n",
       "      <td>21.6241</td>\n",
       "    </tr>\n",
       "    <tr>\n",
       "      <th>5</th>\n",
       "      <td>N.A.</td>\n",
       "      <td>N.A.</td>\n",
       "      <td>16.3036</td>\n",
       "    </tr>\n",
       "    <tr>\n",
       "      <th>6</th>\n",
       "      <td>N.A.</td>\n",
       "      <td>N.A.</td>\n",
       "      <td>18.4509</td>\n",
       "    </tr>\n",
       "    <tr>\n",
       "      <th>7</th>\n",
       "      <td>N.A.</td>\n",
       "      <td>N.A.</td>\n",
       "      <td>19.1838</td>\n",
       "    </tr>\n",
       "    <tr>\n",
       "      <th>8</th>\n",
       "      <td>27.0556</td>\n",
       "      <td>18.4398</td>\n",
       "      <td>26.997</td>\n",
       "    </tr>\n",
       "    <tr>\n",
       "      <th>9</th>\n",
       "      <td>N.A.</td>\n",
       "      <td>N.A.</td>\n",
       "      <td>25.6769</td>\n",
       "    </tr>\n",
       "    <tr>\n",
       "      <th>10</th>\n",
       "      <td>N.A.</td>\n",
       "      <td>N.A.</td>\n",
       "      <td>30.3389</td>\n",
       "    </tr>\n",
       "    <tr>\n",
       "      <th>11</th>\n",
       "      <td>26.2245</td>\n",
       "      <td>19.169</td>\n",
       "      <td>26.1593</td>\n",
       "    </tr>\n",
       "    <tr>\n",
       "      <th>12</th>\n",
       "      <td>29.0625</td>\n",
       "      <td>21.5</td>\n",
       "      <td>28.9266</td>\n",
       "    </tr>\n",
       "    <tr>\n",
       "      <th>13</th>\n",
       "      <td>29.6898</td>\n",
       "      <td>23.3565</td>\n",
       "      <td>29.6736</td>\n",
       "    </tr>\n",
       "    <tr>\n",
       "      <th>14</th>\n",
       "      <td>N.A.</td>\n",
       "      <td>N.A.</td>\n",
       "      <td>30.6981</td>\n",
       "    </tr>\n",
       "    <tr>\n",
       "      <th>15</th>\n",
       "      <td>N.A.</td>\n",
       "      <td>N.A.</td>\n",
       "      <td>21.3725</td>\n",
       "    </tr>\n",
       "    <tr>\n",
       "      <th>16</th>\n",
       "      <td>N.A.</td>\n",
       "      <td>N.A.</td>\n",
       "      <td>27.2215</td>\n",
       "    </tr>\n",
       "    <tr>\n",
       "      <th>17</th>\n",
       "      <td>N.A.</td>\n",
       "      <td>N.A.</td>\n",
       "      <td>22.8664</td>\n",
       "    </tr>\n",
       "    <tr>\n",
       "      <th>18</th>\n",
       "      <td>N.A.</td>\n",
       "      <td>N.A.</td>\n",
       "      <td>22.0065</td>\n",
       "    </tr>\n",
       "    <tr>\n",
       "      <th>19</th>\n",
       "      <td>29.2199</td>\n",
       "      <td>19.0278</td>\n",
       "      <td>29.147</td>\n",
       "    </tr>\n",
       "    <tr>\n",
       "      <th>20</th>\n",
       "      <td>30.7708</td>\n",
       "      <td>21.8495</td>\n",
       "      <td>30.7278</td>\n",
       "    </tr>\n",
       "    <tr>\n",
       "      <th>21</th>\n",
       "      <td>N.A.</td>\n",
       "      <td>N.A.</td>\n",
       "      <td>21.9207</td>\n",
       "    </tr>\n",
       "    <tr>\n",
       "      <th>22</th>\n",
       "      <td>N.A.</td>\n",
       "      <td>N.A.</td>\n",
       "      <td>24.1903</td>\n",
       "    </tr>\n",
       "    <tr>\n",
       "      <th>23</th>\n",
       "      <td>N.A.</td>\n",
       "      <td>N.A.</td>\n",
       "      <td>28.9815</td>\n",
       "    </tr>\n",
       "    <tr>\n",
       "      <th>24</th>\n",
       "      <td>N.A.</td>\n",
       "      <td>N.A.</td>\n",
       "      <td>17.784</td>\n",
       "    </tr>\n",
       "    <tr>\n",
       "      <th>25</th>\n",
       "      <td>N.A.</td>\n",
       "      <td>N.A.</td>\n",
       "      <td>17.028</td>\n",
       "    </tr>\n",
       "    <tr>\n",
       "      <th>26</th>\n",
       "      <td>N.A.</td>\n",
       "      <td>N.A.</td>\n",
       "      <td>27.5828</td>\n",
       "    </tr>\n",
       "    <tr>\n",
       "      <th>27</th>\n",
       "      <td>N.A.</td>\n",
       "      <td>N.A.</td>\n",
       "      <td>N.A.</td>\n",
       "    </tr>\n",
       "    <tr>\n",
       "      <th>28</th>\n",
       "      <td>31.3639</td>\n",
       "      <td>24.9528</td>\n",
       "      <td>31.2922</td>\n",
       "    </tr>\n",
       "    <tr>\n",
       "      <th>29</th>\n",
       "      <td>N.A.</td>\n",
       "      <td>N.A.</td>\n",
       "      <td>28.1701</td>\n",
       "    </tr>\n",
       "    <tr>\n",
       "      <th>...</th>\n",
       "      <td>...</td>\n",
       "      <td>...</td>\n",
       "      <td>...</td>\n",
       "    </tr>\n",
       "    <tr>\n",
       "      <th>170</th>\n",
       "      <td>31.3981</td>\n",
       "      <td>26.2292</td>\n",
       "      <td>31.4206</td>\n",
       "    </tr>\n",
       "    <tr>\n",
       "      <th>171</th>\n",
       "      <td>N.A.</td>\n",
       "      <td>N.A.</td>\n",
       "      <td>21.3215</td>\n",
       "    </tr>\n",
       "    <tr>\n",
       "      <th>172</th>\n",
       "      <td>N.A.</td>\n",
       "      <td>N.A.</td>\n",
       "      <td>16.4708</td>\n",
       "    </tr>\n",
       "    <tr>\n",
       "      <th>173</th>\n",
       "      <td>N.A.</td>\n",
       "      <td>N.A.</td>\n",
       "      <td>18.3632</td>\n",
       "    </tr>\n",
       "    <tr>\n",
       "      <th>174</th>\n",
       "      <td>N.A.</td>\n",
       "      <td>N.A.</td>\n",
       "      <td>24.6372</td>\n",
       "    </tr>\n",
       "    <tr>\n",
       "      <th>175</th>\n",
       "      <td>N.A.</td>\n",
       "      <td>N.A.</td>\n",
       "      <td>19.2317</td>\n",
       "    </tr>\n",
       "    <tr>\n",
       "      <th>176</th>\n",
       "      <td>N.A.</td>\n",
       "      <td>N.A.</td>\n",
       "      <td>18.4772</td>\n",
       "    </tr>\n",
       "    <tr>\n",
       "      <th>177</th>\n",
       "      <td>29.3866</td>\n",
       "      <td>22.0648</td>\n",
       "      <td>29.422</td>\n",
       "    </tr>\n",
       "    <tr>\n",
       "      <th>178</th>\n",
       "      <td>N.A.</td>\n",
       "      <td>N.A.</td>\n",
       "      <td>20.7771</td>\n",
       "    </tr>\n",
       "    <tr>\n",
       "      <th>179</th>\n",
       "      <td>31.1227</td>\n",
       "      <td>24.6736</td>\n",
       "      <td>31.1294</td>\n",
       "    </tr>\n",
       "    <tr>\n",
       "      <th>180</th>\n",
       "      <td>N.A.</td>\n",
       "      <td>N.A.</td>\n",
       "      <td>20.8947</td>\n",
       "    </tr>\n",
       "    <tr>\n",
       "      <th>181</th>\n",
       "      <td>30.5671</td>\n",
       "      <td>23.8704</td>\n",
       "      <td>30.5694</td>\n",
       "    </tr>\n",
       "    <tr>\n",
       "      <th>182</th>\n",
       "      <td>N.A.</td>\n",
       "      <td>N.A.</td>\n",
       "      <td>25.4519</td>\n",
       "    </tr>\n",
       "    <tr>\n",
       "      <th>183</th>\n",
       "      <td>N.A.</td>\n",
       "      <td>N.A.</td>\n",
       "      <td>25.3731</td>\n",
       "    </tr>\n",
       "    <tr>\n",
       "      <th>184</th>\n",
       "      <td>N.A.</td>\n",
       "      <td>N.A.</td>\n",
       "      <td>24.353</td>\n",
       "    </tr>\n",
       "    <tr>\n",
       "      <th>185</th>\n",
       "      <td>26.3333</td>\n",
       "      <td>17.0833</td>\n",
       "      <td>26.2642</td>\n",
       "    </tr>\n",
       "    <tr>\n",
       "      <th>186</th>\n",
       "      <td>N.A.</td>\n",
       "      <td>N.A.</td>\n",
       "      <td>17.3361</td>\n",
       "    </tr>\n",
       "    <tr>\n",
       "      <th>187</th>\n",
       "      <td>N.A.</td>\n",
       "      <td>N.A.</td>\n",
       "      <td>22.5898</td>\n",
       "    </tr>\n",
       "    <tr>\n",
       "      <th>188</th>\n",
       "      <td>23.4639</td>\n",
       "      <td>13.7722</td>\n",
       "      <td>23.4061</td>\n",
       "    </tr>\n",
       "    <tr>\n",
       "      <th>189</th>\n",
       "      <td>N.A.</td>\n",
       "      <td>N.A.</td>\n",
       "      <td>22.31</td>\n",
       "    </tr>\n",
       "    <tr>\n",
       "      <th>190</th>\n",
       "      <td>N.A.</td>\n",
       "      <td>N.A.</td>\n",
       "      <td>20.0083</td>\n",
       "    </tr>\n",
       "    <tr>\n",
       "      <th>191</th>\n",
       "      <td>N.A.</td>\n",
       "      <td>N.A.</td>\n",
       "      <td>19.5733</td>\n",
       "    </tr>\n",
       "    <tr>\n",
       "      <th>192</th>\n",
       "      <td>N.A.</td>\n",
       "      <td>N.A.</td>\n",
       "      <td>14.4236</td>\n",
       "    </tr>\n",
       "    <tr>\n",
       "      <th>193</th>\n",
       "      <td>26.0301</td>\n",
       "      <td>16.6644</td>\n",
       "      <td>25.9525</td>\n",
       "    </tr>\n",
       "    <tr>\n",
       "      <th>194</th>\n",
       "      <td>N.A.</td>\n",
       "      <td>N.A.</td>\n",
       "      <td>23.9372</td>\n",
       "    </tr>\n",
       "    <tr>\n",
       "      <th>195</th>\n",
       "      <td>N.A.</td>\n",
       "      <td>N.A.</td>\n",
       "      <td>22.8947</td>\n",
       "    </tr>\n",
       "    <tr>\n",
       "      <th>196</th>\n",
       "      <td>N.A.</td>\n",
       "      <td>N.A.</td>\n",
       "      <td>23.8222</td>\n",
       "    </tr>\n",
       "    <tr>\n",
       "      <th>197</th>\n",
       "      <td>N.A.</td>\n",
       "      <td>N.A.</td>\n",
       "      <td>23.0278</td>\n",
       "    </tr>\n",
       "    <tr>\n",
       "      <th>198</th>\n",
       "      <td>N.A.</td>\n",
       "      <td>N.A.</td>\n",
       "      <td>17.2014</td>\n",
       "    </tr>\n",
       "    <tr>\n",
       "      <th>199</th>\n",
       "      <td>N.A.</td>\n",
       "      <td>N.A.</td>\n",
       "      <td>16.6674</td>\n",
       "    </tr>\n",
       "  </tbody>\n",
       "</table>\n",
       "<p>200 rows × 3 columns</p>\n",
       "</div>"
      ],
      "text/plain": [
       "    MinTemperature_mean MeanTemperature_mean MaxTemperature_mean\n",
       "0                  N.A.                 N.A.             15.2669\n",
       "1                29.875              23.6944             29.8986\n",
       "2               23.2861              14.8194             23.2328\n",
       "3                  N.A.                 N.A.             30.0982\n",
       "4                  N.A.                 N.A.             21.6241\n",
       "5                  N.A.                 N.A.             16.3036\n",
       "6                  N.A.                 N.A.             18.4509\n",
       "7                  N.A.                 N.A.             19.1838\n",
       "8               27.0556              18.4398              26.997\n",
       "9                  N.A.                 N.A.             25.6769\n",
       "10                 N.A.                 N.A.             30.3389\n",
       "11              26.2245               19.169             26.1593\n",
       "12              29.0625                 21.5             28.9266\n",
       "13              29.6898              23.3565             29.6736\n",
       "14                 N.A.                 N.A.             30.6981\n",
       "15                 N.A.                 N.A.             21.3725\n",
       "16                 N.A.                 N.A.             27.2215\n",
       "17                 N.A.                 N.A.             22.8664\n",
       "18                 N.A.                 N.A.             22.0065\n",
       "19              29.2199              19.0278              29.147\n",
       "20              30.7708              21.8495             30.7278\n",
       "21                 N.A.                 N.A.             21.9207\n",
       "22                 N.A.                 N.A.             24.1903\n",
       "23                 N.A.                 N.A.             28.9815\n",
       "24                 N.A.                 N.A.              17.784\n",
       "25                 N.A.                 N.A.              17.028\n",
       "26                 N.A.                 N.A.             27.5828\n",
       "27                 N.A.                 N.A.                N.A.\n",
       "28              31.3639              24.9528             31.2922\n",
       "29                 N.A.                 N.A.             28.1701\n",
       "..                  ...                  ...                 ...\n",
       "170             31.3981              26.2292             31.4206\n",
       "171                N.A.                 N.A.             21.3215\n",
       "172                N.A.                 N.A.             16.4708\n",
       "173                N.A.                 N.A.             18.3632\n",
       "174                N.A.                 N.A.             24.6372\n",
       "175                N.A.                 N.A.             19.2317\n",
       "176                N.A.                 N.A.             18.4772\n",
       "177             29.3866              22.0648              29.422\n",
       "178                N.A.                 N.A.             20.7771\n",
       "179             31.1227              24.6736             31.1294\n",
       "180                N.A.                 N.A.             20.8947\n",
       "181             30.5671              23.8704             30.5694\n",
       "182                N.A.                 N.A.             25.4519\n",
       "183                N.A.                 N.A.             25.3731\n",
       "184                N.A.                 N.A.              24.353\n",
       "185             26.3333              17.0833             26.2642\n",
       "186                N.A.                 N.A.             17.3361\n",
       "187                N.A.                 N.A.             22.5898\n",
       "188             23.4639              13.7722             23.4061\n",
       "189                N.A.                 N.A.               22.31\n",
       "190                N.A.                 N.A.             20.0083\n",
       "191                N.A.                 N.A.             19.5733\n",
       "192                N.A.                 N.A.             14.4236\n",
       "193             26.0301              16.6644             25.9525\n",
       "194                N.A.                 N.A.             23.9372\n",
       "195                N.A.                 N.A.             22.8947\n",
       "196                N.A.                 N.A.             23.8222\n",
       "197                N.A.                 N.A.             23.0278\n",
       "198                N.A.                 N.A.             17.2014\n",
       "199                N.A.                 N.A.             16.6674\n",
       "\n",
       "[200 rows x 3 columns]"
      ]
     },
     "execution_count": 30,
     "metadata": {},
     "output_type": "execute_result"
    }
   ],
   "source": [
    "tii[['MinTemperature_mean','MeanTemperature_mean','MaxTemperature_mean']]"
   ]
  },
  {
   "cell_type": "markdown",
   "metadata": {},
   "source": [
    "### Benchmarking time for retrieval using explicit lists vs lazy-evaluation\n"
   ]
  },
  {
   "cell_type": "code",
   "execution_count": null,
   "metadata": {
    "collapsed": false,
    "scrolled": true
   },
   "outputs": [],
   "source": [
    "%time samples = list(sel)"
   ]
  },
  {
   "cell_type": "code",
   "execution_count": null,
   "metadata": {
    "collapsed": false
   },
   "outputs": [],
   "source": [
    "%time ocs2 = map(lambda c : list(c.has_occurrences),samples)"
   ]
  },
  {
   "cell_type": "code",
   "execution_count": null,
   "metadata": {
    "collapsed": false
   },
   "outputs": [],
   "source": [
    "ocs2_l = filter(lambda k : k != [] ,ocs2)"
   ]
  },
  {
   "cell_type": "code",
   "execution_count": null,
   "metadata": {
    "collapsed": false
   },
   "outputs": [],
   "source": [
    "len(ocs2_l)"
   ]
  },
  {
   "cell_type": "code",
   "execution_count": null,
   "metadata": {
    "collapsed": false
   },
   "outputs": [],
   "source": [
    "lll = reduce(lambda a,b : a+b,ocs2_l)"
   ]
  },
  {
   "cell_type": "code",
   "execution_count": null,
   "metadata": {
    "collapsed": false
   },
   "outputs": [],
   "source": [
    "lll"
   ]
  },
  {
   "cell_type": "code",
   "execution_count": null,
   "metadata": {
    "collapsed": false,
    "scrolled": true
   },
   "outputs": [],
   "source": [
    "lll == ccc"
   ]
  },
  {
   "cell_type": "code",
   "execution_count": null,
   "metadata": {
    "collapsed": false
   },
   "outputs": [],
   "source": [
    "sel = Mex4km.select(graph).where(\"_.id IN  %s \"%str(c))"
   ]
  },
  {
   "cell_type": "code",
   "execution_count": null,
   "metadata": {
    "collapsed": true
   },
   "outputs": [],
   "source": []
  },
  {
   "cell_type": "code",
   "execution_count": null,
   "metadata": {
    "collapsed": true
   },
   "outputs": [],
   "source": []
  },
  {
   "cell_type": "code",
   "execution_count": null,
   "metadata": {
    "collapsed": false
   },
   "outputs": [],
   "source": [
    "def _try_levelnames_extraction(relationship):\n",
    "    \"\"\"\n",
    "    Extracts the end node relationship name.\n",
    "    for use with map functions.\n",
    "    \"\"\"\n",
    "    try:\n",
    "        a = relationship.start_node()['levelname']\n",
    "        return a\n",
    "    except:\n",
    "        return None\n",
    "    \n",
    "types = map(lambda r : map(lambda t : _try_levelnames_extraction(t),r),available_rels)"
   ]
  },
  {
   "cell_type": "code",
   "execution_count": null,
   "metadata": {
    "collapsed": false
   },
   "outputs": [],
   "source": [
    "types"
   ]
  },
  {
   "cell_type": "code",
   "execution_count": null,
   "metadata": {
    "collapsed": false
   },
   "outputs": [],
   "source": [
    "tt = tb.buildTreeNeo(samples[26])"
   ]
  },
  {
   "cell_type": "code",
   "execution_count": null,
   "metadata": {
    "collapsed": false
   },
   "outputs": [],
   "source": []
  },
  {
   "cell_type": "code",
   "execution_count": null,
   "metadata": {
    "collapsed": false
   },
   "outputs": [],
   "source": [
    "#For now not run\n",
    "#big_tree = reduce(lambda a,b : a+b , trees)\n",
    "import seaborn as sns"
   ]
  },
  {
   "cell_type": "code",
   "execution_count": null,
   "metadata": {
    "collapsed": true
   },
   "outputs": [],
   "source": [
    "t = trees[2]"
   ]
  },
  {
   "cell_type": "code",
   "execution_count": null,
   "metadata": {
    "collapsed": true
   },
   "outputs": [],
   "source": []
  },
  {
   "cell_type": "code",
   "execution_count": null,
   "metadata": {
    "collapsed": false
   },
   "outputs": [],
   "source": [
    "ll = map(lambda t : t.richness , trees)"
   ]
  },
  {
   "cell_type": "code",
   "execution_count": null,
   "metadata": {
    "collapsed": false
   },
   "outputs": [],
   "source": [
    "sns.distplot(ll)"
   ]
  },
  {
   "cell_type": "code",
   "execution_count": null,
   "metadata": {
    "collapsed": false
   },
   "outputs": [],
   "source": [
    "tl.plotTree(tt)"
   ]
  },
  {
   "cell_type": "code",
   "execution_count": null,
   "metadata": {
    "collapsed": false
   },
   "outputs": [],
   "source": [
    "import traversals.strategies as strg"
   ]
  },
  {
   "cell_type": "code",
   "execution_count": null,
   "metadata": {
    "collapsed": false
   },
   "outputs": [],
   "source": [
    "type(root)"
   ]
  },
  {
   "cell_type": "code",
   "execution_count": null,
   "metadata": {
    "collapsed": false
   },
   "outputs": [],
   "source": [
    "root = t.node"
   ]
  },
  {
   "cell_type": "code",
   "execution_count": null,
   "metadata": {
    "collapsed": false
   },
   "outputs": [],
   "source": [
    "a = strg.getPresencesForNode(root,trees)"
   ]
  },
  {
   "cell_type": "code",
   "execution_count": null,
   "metadata": {
    "collapsed": false
   },
   "outputs": [],
   "source": [
    "data_t = strg.getPresencesForListOfNodes([root],trees)"
   ]
  },
  {
   "cell_type": "code",
   "execution_count": null,
   "metadata": {
    "collapsed": false
   },
   "outputs": [],
   "source": [
    "data_t"
   ]
  },
  {
   "cell_type": "markdown",
   "metadata": {},
   "source": [
    "# The model"
   ]
  },
  {
   "cell_type": "code",
   "execution_count": null,
   "metadata": {
    "collapsed": true
   },
   "outputs": [],
   "source": [
    "import pymc3 as pm"
   ]
  },
  {
   "cell_type": "code",
   "execution_count": null,
   "metadata": {
    "collapsed": false
   },
   "outputs": [],
   "source": [
    "-"
   ]
  },
  {
   "cell_type": "code",
   "execution_count": null,
   "metadata": {
    "collapsed": false,
    "scrolled": true
   },
   "outputs": [],
   "source": [
    "from pymc3 import find_MAP\n",
    "map_estimate = find_MAP(model=model)\n",
    "map_estimate"
   ]
  },
  {
   "cell_type": "code",
   "execution_count": null,
   "metadata": {
    "collapsed": true
   },
   "outputs": [],
   "source": [
    "import pandas as pd"
   ]
  },
  {
   "cell_type": "code",
   "execution_count": null,
   "metadata": {
    "collapsed": false
   },
   "outputs": [],
   "source": [
    "mapxy = pd.concat([data_t[['Longitude','Latitude']],pd.DataFrame({'map': map_estimate['latent_field']})],axis=1)"
   ]
  },
  {
   "cell_type": "code",
   "execution_count": null,
   "metadata": {
    "collapsed": false
   },
   "outputs": [],
   "source": [
    "gmapxy = tools.toGeoDataFrame(mapxy,xcoord_name='Longitude',ycoord_name='Latitude')"
   ]
  },
  {
   "cell_type": "code",
   "execution_count": null,
   "metadata": {
    "collapsed": false
   },
   "outputs": [],
   "source": [
    "fig, ax = plt.subplots(figsize=(14, 9));\n",
    "gmapxy.plot(ax=ax,column='map')"
   ]
  },
  {
   "cell_type": "markdown",
   "metadata": {},
   "source": [
    "## Prediction\n",
    "The conditional method creates the conditional, or predictive, distribution over the latent function at arbitrary x∗x∗ input points, f(x∗)f(x∗). To construct the conditional distribution we write:"
   ]
  },
  {
   "cell_type": "code",
   "execution_count": null,
   "metadata": {
    "collapsed": true
   },
   "outputs": [],
   "source": [
    "minx = min(data_t.Longitude)\n",
    "maxx = max(data_t.Longitude)\n",
    "miny = min(data_t.Latitude)\n",
    "maxy = max(data_t.Latitude)"
   ]
  },
  {
   "cell_type": "code",
   "execution_count": null,
   "metadata": {
    "collapsed": false
   },
   "outputs": [],
   "source": [
    "from external_plugins.spystats.spystats import tools"
   ]
  },
  {
   "cell_type": "code",
   "execution_count": null,
   "metadata": {
    "collapsed": true
   },
   "outputs": [],
   "source": [
    "grid = tools.createGrid(grid_sizex=10,grid_sizey=10,minx=minx,miny=miny,maxx=maxx,maxy=maxy)"
   ]
  },
  {
   "cell_type": "code",
   "execution_count": null,
   "metadata": {
    "collapsed": false
   },
   "outputs": [],
   "source": []
  },
  {
   "cell_type": "code",
   "execution_count": null,
   "metadata": {
    "collapsed": false
   },
   "outputs": [],
   "source": [
    "gp.predict(grid[['Lon','Lat']])"
   ]
  },
  {
   "cell_type": "code",
   "execution_count": null,
   "metadata": {
    "collapsed": false
   },
   "outputs": [],
   "source": [
    "%time f_star = gp.conditional(\"f_star\", X=grid[['Lon','Lat']])"
   ]
  },
  {
   "cell_type": "code",
   "execution_count": null,
   "metadata": {
    "collapsed": false
   },
   "outputs": [],
   "source": [
    "getdata = lambda tree : tree.associatedData.getEnvironmentalVariablesCells()"
   ]
  },
  {
   "cell_type": "code",
   "execution_count": null,
   "metadata": {
    "collapsed": false
   },
   "outputs": [],
   "source": [
    "ts[1].associatedData.getEnvironmentalVariablesCells()"
   ]
  },
  {
   "cell_type": "code",
   "execution_count": null,
   "metadata": {
    "collapsed": false
   },
   "outputs": [],
   "source": [
    "list(choices)"
   ]
  },
  {
   "cell_type": "code",
   "execution_count": null,
   "metadata": {
    "collapsed": false
   },
   "outputs": [],
   "source": [
    "n"
   ]
  },
  {
   "cell_type": "code",
   "execution_count": null,
   "metadata": {
    "collapsed": true
   },
   "outputs": [],
   "source": []
  }
 ],
 "metadata": {
  "kernelspec": {
   "display_name": "Django Shell-Plus",
   "language": "python",
   "name": "django_extensions"
  },
  "language_info": {
   "codemirror_mode": {
    "name": "ipython",
    "version": 2
   },
   "file_extension": ".py",
   "mimetype": "text/x-python",
   "name": "python",
   "nbconvert_exporter": "python",
   "pygments_lexer": "ipython2",
   "version": "2.7.11"
  }
 },
 "nbformat": 4,
 "nbformat_minor": 0
}
