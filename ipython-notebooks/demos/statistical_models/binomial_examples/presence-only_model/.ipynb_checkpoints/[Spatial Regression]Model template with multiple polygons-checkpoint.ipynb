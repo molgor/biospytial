{
 "cells": [
  {
   "cell_type": "markdown",
   "metadata": {},
   "source": [
    "# Model template using multiple polygons\n",
    "This is an exercise to test the computing time for fitting and predicting spatial models using an assortment of different polygons.\n",
    "\n",
    "This can work as a general template for other models and data pipelines."
   ]
  },
  {
   "cell_type": "code",
   "execution_count": 1,
   "metadata": {
    "tags": [
     "initialise"
    ]
   },
   "outputs": [
    {
     "name": "stderr",
     "output_type": "stream",
     "text": [
      "/opt/conda/envs/biospytial/lib/python2.7/site-packages/h5py/__init__.py:36: FutureWarning: Conversion of the second argument of issubdtype from `float` to `np.floating` is deprecated. In future, it will be treated as `np.float64 == np.dtype(float).type`.\n",
      "  from ._conv import register_converters as _register_converters\n"
     ]
    }
   ],
   "source": [
    "%matplotlib inline\n",
    "import sys\n",
    "sys.path.append('/apps')\n",
    "import django\n",
    "django.setup()\n",
    "\n",
    "#import traversals.strategies as st\n",
    "#from os import walk\n",
    "import matplotlib.pyplot as plt\n",
    "import pandas as pd\n",
    "import itertools as it\n",
    "import numpy as np\n",
    "import pymc3 as pm\n",
    "\n",
    "## Use the ggplot style\n",
    "plt.style.use('ggplot')"
   ]
  },
  {
   "cell_type": "code",
   "execution_count": 2,
   "metadata": {},
   "outputs": [],
   "source": [
    "from external_plugins.spystats.spystats import utilities as ut"
   ]
  },
  {
   "cell_type": "code",
   "execution_count": 3,
   "metadata": {},
   "outputs": [
    {
     "name": "stderr",
     "output_type": "stream",
     "text": [
      "INFO:external_plugins.spystats.spystats.utilities:Reading file /outputs/presence_only_models/data/burseras\n",
      "INFO:external_plugins.spystats.spystats.utilities:Reading file /outputs/presence_only_models/data/root\n",
      "INFO:external_plugins.spystats.spystats.utilities:Reading file /outputs/presence_only_models/predictors/datasetp2\n"
     ]
    }
   ],
   "source": [
    "bursera_path = '/outputs/presence_only_models/data/burseras'\n",
    "bursera_dataset = ut.loadDataset(bursera_path)\n",
    "\n",
    "train_path = '/outputs/presence_only_models/data/root'\n",
    "train_dataset = ut.loadDataset(train_path)\n",
    "## Predictors\n",
    "pred_path = '/outputs/presence_only_models/predictors/datasetp2'\n",
    "pred_dataset = ut.loadDataset(pred_path)\n",
    "### PATCH, the thing is taking backwards the order of the lists of files, because of the name\n",
    "#pred_dataset.reverse()\n",
    "prediction_dataset_dic= map(lambda p : ut.preparePredictors(p),pred_dataset)\n"
   ]
  },
  {
   "cell_type": "code",
   "execution_count": 4,
   "metadata": {},
   "outputs": [],
   "source": [
    "## Recreating the polygons\n",
    "## This should be included in the data structure\n",
    "from django.contrib.gis.geos import Point, Polygon\n",
    "xcoord = -99.76\n",
    "ycoord = 17.55\n",
    "p = Point(xcoord,ycoord,srid=4326)\n",
    "radii = np.linspace(0.08,1, 10)\n",
    "polys = map(lambda r : p.buffer(r),radii)\n"
   ]
  },
  {
   "cell_type": "markdown",
   "metadata": {},
   "source": [
    "## Obtaining the predictors\n",
    "In this case we will bring all the variables to start working with everything"
   ]
  },
  {
   "cell_type": "code",
   "execution_count": 5,
   "metadata": {},
   "outputs": [],
   "source": [
    "from raster_api.tools import RasterData\n",
    "from raster_api.models import raster_models_dic as models\n"
   ]
  },
  {
   "cell_type": "markdown",
   "metadata": {},
   "source": [
    "### Ok, lets start the ,modelling here"
   ]
  },
  {
   "cell_type": "code",
   "execution_count": 6,
   "metadata": {},
   "outputs": [],
   "source": [
    "#pm.traceplot(trace)\n",
    "from raster_api.tools import RasterContainer\n",
    "from raster_api.models import ETOPO1,MeanTemperature\n",
    "from raster_api.tools import RasterData\n",
    "from sketches.models import Country\n",
    "from mesh.models import MexMesh"
   ]
  },
  {
   "cell_type": "code",
   "execution_count": null,
   "metadata": {},
   "outputs": [],
   "source": []
  },
  {
   "cell_type": "raw",
   "metadata": {},
   "source": [
    "## This is for calculating the signal\n",
    "from pymc3.variational.callbacks import CheckParametersConvergence\n",
    "def FitMyModel(Y,train,predictor):\n",
    "    #\n",
    "    with pm.Model() as model:\n",
    "\n",
    "        ## [R | Y]\n",
    "\n",
    "        tau = pm.HalfNormal('tau',sd=10)\n",
    "        sigma = pm.HalfNormal('sigma',sd=10)\n",
    "        phi = pm.Uniform('phi',0,15)\n",
    "\n",
    "        Tau = pm.gp.cov.Constant(tau)\n",
    "        cov = (sigma * pm.gp.cov.Matern32(2,phi,active_dims=[0,1])) + Tau\n",
    "\n",
    "        ## Parameters for linear predictor\n",
    "        #b0 = pm.Normal('b0',mu=0,sd=10)\n",
    "        b = pm.Normal('b',mu=0,sd=10,shape=3)\n",
    "        mf = pm.gp.mean.Linear(coeffs=[b]) \n",
    "\n",
    "        ## The latent function\n",
    "        gp = pm.gp.Latent(cov_func=cov)\n",
    "        f = gp.prior(\"latent_field\", X=train[['Longitude','Latitude','DistanceToRoadMex_mean','WorldPopLatam2010_mean','vegid']].values,reparameterize=False)\n",
    "\n",
    "\n",
    "        ## Other model M2\n",
    "\n",
    "        beta_y = pm.Normal(\"betay\",mu=0, sd=10,shape=2)\n",
    "\n",
    "        theta = beta_y[0] + beta_y[1] * train.MaxTemperature_mean.values\n",
    "\n",
    "        yy = pm.Bernoulli(\"yy\",logit_p=theta,observed=Y.values)\n",
    "\n",
    "\n",
    "        #y_obs = pm.Bernoulli('y_obs',logit_p=(f*yy),observed=Y.values)\n",
    "\n",
    "\n",
    "        trace = pm.fit(method='advi', callbacks=[CheckParametersConvergence()],n=15000)    \n",
    "        #trace = pm.sample(10)\n",
    "        trace = trace.sample(draws=5000)\n",
    "\n",
    "\n",
    "        f_star = gp.conditional(\"f_star\", predictor['clean'][['Longitude','Latitude','Dist.to.road_m','Population_m','covid']].values)\n",
    "\n",
    "        pred_samples = pm.sample_ppc(trace, vars=[f_star], samples=100)\n",
    "        return pred_samples\n",
    "   "
   ]
  },
  {
   "cell_type": "code",
   "execution_count": 7,
   "metadata": {},
   "outputs": [
    {
     "data": {
      "text/plain": [
       "<Raster object at 0x7f8fedb9cbe0>"
      ]
     },
     "execution_count": 7,
     "metadata": {},
     "output_type": "execute_result"
    }
   ],
   "source": [
    "i = 4\n",
    "\n",
    "datatrain = train_dataset[i]\n",
    "#Y = datatrain.Burseraceae\n",
    "#Y = datatrain.Burseraceae\n",
    "datapred = prediction_dataset_dic[i]\n",
    "polygon = polys[i]\n",
    "\n",
    "elevation = RasterData(rastermodelinstance=ETOPO1,border=polygon)\n",
    "height = 100\n",
    "width = 100\n",
    "### Remember that the geoparams are not necesarily the same as the template.\n",
    "## This is why it's important to import this object as well\n",
    "elevation.resize(width,height)\n",
    "#elevation.display_field(origin='Lower',interpolation='None')\n"
   ]
  },
  {
   "cell_type": "code",
   "execution_count": 8,
   "metadata": {},
   "outputs": [],
   "source": [
    "# Using the patsy library to extract the data"
   ]
  },
  {
   "cell_type": "code",
   "execution_count": 14,
   "metadata": {},
   "outputs": [
    {
     "name": "stderr",
     "output_type": "stream",
     "text": [
      "/opt/conda/envs/biospytial/lib/python2.7/site-packages/pandas/core/generic.py:4405: SettingWithCopyWarning: \n",
      "A value is trying to be set on a copy of a slice from a DataFrame.\n",
      "Try using .loc[row_indexer,col_indexer] = value instead\n",
      "\n",
      "See the caveats in the documentation: http://pandas.pydata.org/pandas-docs/stable/indexing.html#indexing-view-versus-copy\n",
      "  self[name] = value\n"
     ]
    }
   ],
   "source": [
    "## Assign categorical values\n",
    "datatrain.inegiv5name = datatrain.inegiv5name.astype('category')\n",
    "datapred['full'].name = datapred['full'].name.astype('category')\n",
    "datapred['clean'].name = datapred['clean'].name.astype('category')"
   ]
  },
  {
   "cell_type": "raw",
   "metadata": {},
   "source": [
    "dtrain = ut.dummifyDF(datatrain,'vegname',concatenate=False)\n",
    "dpredfull = ut.dummifyDF(datapred['full'],'wwf_mhtnum',concatenate=False)\n",
    "dpredclean = ut.dummifyDF(datapred['clean'],'wwf_mhtnum',concatenate=False)\n",
    "dpred = {'full' : dpredfull, 'clean':dpredclean}\n",
    "train_subset = datatrain[['Longitude','Latitude','DistanceToRoadMex_mean','WorldPopLatam2010_mean','Burseraceae']]\n",
    "\n",
    "traindf = pd.concat([train_subset,dtrain],axis=1)\n",
    "predictordf = pd.concat([datapred['clean'][['Longitude','Latitude','Dist.to.road_m','Population_m']],dpredclean],axis=1)"
   ]
  },
  {
   "cell_type": "code",
   "execution_count": 54,
   "metadata": {},
   "outputs": [],
   "source": [
    "#TM = dmatrices('Burseraceae ~ Longitude + Latitude + DistanceToRoadMex_mean + WorldPopLatam2010_mean + inegiv5name',datatrain,return_type=\"dataframe\")\n",
    "TM = dmatrices('Burseraceae ~ Longitude + Latitude + DistanceToRoadMex_mean + WorldPopLatam2010_mean + inegiv5name',datatrain)"
   ]
  },
  {
   "cell_type": "code",
   "execution_count": 55,
   "metadata": {},
   "outputs": [],
   "source": [
    "#PM = dmatrix('Longitude + Latitude + Q(\"Dist.to.road_m\") + Population_m + name',datapred['clean'],return_type='dataframe')\n",
    "PM = dmatrix('Longitude + Latitude + Q(\"Dist.to.road_m\") + Population_m + name',datapred['clean'])"
   ]
  },
  {
   "cell_type": "code",
   "execution_count": 46,
   "metadata": {},
   "outputs": [
    {
     "data": {
      "text/plain": [
       "<read-write buffer for 0x7f8fea89faa0, size 2655000, offset 0 at 0x7f8fea8afc70>"
      ]
     },
     "execution_count": 46,
     "metadata": {},
     "output_type": "execute_result"
    }
   ],
   "source": []
  },
  {
   "cell_type": "code",
   "execution_count": null,
   "metadata": {},
   "outputs": [],
   "source": [
    "## This is for calculating the signal\n",
    "from pymc3.variational.callbacks import CheckParametersConvergence\n",
    "def FitMyModel(Y,train_subset,predictordf):\n",
    "    with pm.Model() as model:\n",
    "        ## Building the kernel\n",
    "        tau = pm.HalfNormal('tau',sd=10)\n",
    "        sigma = pm.HalfNormal('sigma',sd=10)\n",
    "        phi = pm.Uniform('phi',0,15)\n",
    "        Tau = pm.gp.cov.Constant(tau)\n",
    "        cov = (sigma * pm.gp.cov.Matern32(2,phi,active_dims=[0,1])) + Tau\n",
    "        \n",
    "        \n",
    "        ## Parameters for linear predictor\n",
    "        #b0 = pm.Normal('b0',mu=0,sd=10)\n",
    "        dummies = [col for col in traindf if str(col).startswith('dum_')]\n",
    "        dumscols = traindf[dummies]\n",
    "        dumshape = dumscols.shape\n",
    "        \n",
    "        b = pm.Normal('b',mu=0,sd=1.5,shape=dumshape)\n",
    "        k = pm.math.matrix_dot(dumscols,b.transpose())\n",
    "        \n",
    "       \n",
    "        \n",
    "        ## The latent function\n",
    "        gp = pm.gp.Latent(cov_func=cov)\n",
    "        f = gp.prior(\"latent_field\", X=traindf.values,reparameterize=False)\n",
    "\n",
    "\n",
    "        \n",
    "        \n",
    "        yy = pm.Bernoulli(\"yy\",logit_p=k,observed=traindf.Burseraceae.values)\n",
    "\n",
    "\n",
    "\n",
    "        trace = pm.fit(method='advi', callbacks=[CheckParametersConvergence()],n=15000)    \n",
    "        #trace = pm.sample(10)\n",
    "        trace = trace.sample(draws=5000)\n",
    "\n",
    "\n",
    "        f_star = gp.conditional(\"f_star\", predictordf.values)\n",
    "\n",
    "        pred_samples = pm.sample_ppc(trace, vars=[f_star], samples=100)\n",
    "        return pred_samples,trace\n",
    "   "
   ]
  },
  {
   "cell_type": "code",
   "execution_count": null,
   "metadata": {},
   "outputs": [],
   "source": [
    "%time pred_samples,trace = FitMyModel(Y,traindf,predictordf)"
   ]
  },
  {
   "cell_type": "code",
   "execution_count": null,
   "metadata": {},
   "outputs": [],
   "source": [
    "for i in range(len(prediction_dataset_dic)):\n",
    "    datatrain = train_dataset[i]\n",
    "    #Y = datatrain.Burseraceae\n",
    "    Y = datatrain.Burseraceae\n",
    "    datapred = prediction_dataset_dic[i]\n",
    "    polygon = polys[i]\n",
    "\n",
    "    elevation = RasterData(rastermodelinstance=ETOPO1,border=polygon)\n",
    "    height = 100\n",
    "    width = 100\n",
    "    ### Remember that the geoparams are not necesarily the same as the template.\n",
    "    ## This is why it's important to import this object as well\n",
    "    elevation.resize(width,height)\n",
    "    #elevation.display_field(origin='Lower',interpolation='None')\n",
    "    %time pred_samples = FitMyModel(Y,datatrain,datapred)\n",
    "    ut.plotThings(pred_samples,datapred,elevation)"
   ]
  },
  {
   "cell_type": "code",
   "execution_count": null,
   "metadata": {},
   "outputs": [],
   "source": []
  },
  {
   "cell_type": "code",
   "execution_count": null,
   "metadata": {},
   "outputs": [],
   "source": [
    "ut.plotThings(pred_samples,datapred,elevation)"
   ]
  },
  {
   "cell_type": "code",
   "execution_count": null,
   "metadata": {},
   "outputs": [],
   "source": [
    "pm.traceplot(trace)"
   ]
  },
  {
   "cell_type": "code",
   "execution_count": null,
   "metadata": {},
   "outputs": [],
   "source": [
    "from scipy.special import expit\n",
    "fig, ax = plt.subplots(figsize=(10, 9));\n",
    "\n",
    "#ncounts_families.display_field(band=2,origin='Lower',title='family richness')\n",
    "expit(ql_presences_of_something.rasterdata.bands[0].data())\n",
    "plt.imshow(ql_presences_of_something.rasterdata.bands[1].data(),origin='Lower',cmap=plt.cm.Greens)\n",
    "plt.title(\"Presences quantile 0.025\")\n",
    "plt.colorbar(orientation='horizontal')"
   ]
  },
  {
   "cell_type": "code",
   "execution_count": null,
   "metadata": {},
   "outputs": [],
   "source": [
    "from scipy.special import expit\n",
    "fig, ax = plt.subplots(figsize=(10, 9));\n",
    "\n",
    "#ncounts_families.display_field(band=2,origin='Lower',title='family richness')\n",
    "plt.imshow(mean_presences_of_something.rasterdata.bands[1].data(),origin='Lower',cmap=plt.cm.Greens,clim=(0,1))\n",
    "\n",
    "plt.colorbar(orientation='horizontal')\n",
    "plt.title('Probability of presences (mean surface)' )"
   ]
  },
  {
   "cell_type": "code",
   "execution_count": null,
   "metadata": {},
   "outputs": [],
   "source": [
    "from scipy.special import expit\n",
    "fig, ax = plt.subplots(figsize=(10, 9));\n",
    "\n",
    "#ncounts_families.display_field(band=2,origin='Lower',title='family richness')\n",
    "plt.imshow(qh_presences_of_something.rasterdata.bands[1].data(),origin='Lower',cmap=plt.cm.Greens,clim=(0,1))\n",
    "plt.colorbar(orientation='horizontal')\n",
    "plt.title(\"Presences quantile 0.975\")"
   ]
  },
  {
   "cell_type": "code",
   "execution_count": null,
   "metadata": {},
   "outputs": [],
   "source": [
    "fig, ax = plt.subplots(figsize=(10, 9));\n",
    "\n",
    "#ncounts_families.display_field(band=2,origin='Lower',title='family richness')\n",
    "plt.imshow(prob5.rasterdata.bands[1].data(),origin='Lower',cmap=plt.cm.RdBu,clim=(0,1))\n",
    "plt.colorbar(orientation='horizontal')\n",
    "plt.title(\"Probability of probability more than 0.5 of presence of Burseracea family\")"
   ]
  },
  {
   "cell_type": "markdown",
   "metadata": {},
   "source": [
    "## Export results to GEotif!"
   ]
  },
  {
   "cell_type": "code",
   "execution_count": null,
   "metadata": {},
   "outputs": [],
   "source": [
    "name = \"sample_root\"\n",
    "ql_presences_of_something.exportToGeoTiff(\"ql_\"+name)\n"
   ]
  },
  {
   "cell_type": "code",
   "execution_count": null,
   "metadata": {},
   "outputs": [],
   "source": [
    "mean_presences_of_something.exportToGeoTiff(\"mean_\"+name)"
   ]
  },
  {
   "cell_type": "code",
   "execution_count": null,
   "metadata": {},
   "outputs": [],
   "source": [
    "qh_presences_of_something.exportToGeoTiff(\"qh_\"+name)"
   ]
  },
  {
   "cell_type": "code",
   "execution_count": null,
   "metadata": {},
   "outputs": [],
   "source": [
    "prob5.exportToGeoTiff(\"prob05\"+name)"
   ]
  },
  {
   "cell_type": "code",
   "execution_count": null,
   "metadata": {},
   "outputs": [],
   "source": []
  }
 ],
 "metadata": {
  "celltoolbar": "Slideshow",
  "kernelspec": {
   "display_name": "Django Shell-Plus",
   "language": "python",
   "name": "django_extensions"
  },
  "language_info": {
   "codemirror_mode": {
    "name": "ipython",
    "version": 2
   },
   "file_extension": ".py",
   "mimetype": "text/x-python",
   "name": "python",
   "nbconvert_exporter": "python",
   "pygments_lexer": "ipython2",
   "version": "2.7.11"
  }
 },
 "nbformat": 4,
 "nbformat_minor": 2
}
