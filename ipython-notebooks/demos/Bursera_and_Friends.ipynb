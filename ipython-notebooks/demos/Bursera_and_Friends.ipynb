{
 "cells": [
  {
   "cell_type": "markdown",
   "metadata": {},
   "source": [
    "# Burseras and Friends\n",
    "## How´s the environment ?\n",
    "## Which are their friends ? "
   ]
  },
  {
   "cell_type": "markdown",
   "metadata": {},
   "source": [
    "In this example we will explore how to query and select a Node (Bursera, Node Type : Family) in the Tree Of Life.\n",
    "We will extract the associated Cells and explore which kind of other taxa share that space. \n",
    "Let´s start!"
   ]
  },
  {
   "cell_type": "markdown",
   "metadata": {},
   "source": [
    "![Burcera Environment](http://www.geographylists.com/mex_pv_forest.jpg \"Bursera and its environment\")\n"
   ]
  },
  {
   "cell_type": "markdown",
   "metadata": {},
   "source": [
    "### Import modules libraries and load ploting style"
   ]
  },
  {
   "cell_type": "code",
   "execution_count": 2,
   "metadata": {
    "collapsed": false
   },
   "outputs": [],
   "source": [
    "%matplotlib inline\n",
    "import sys\n",
    "sys.path.append('/apps')\n",
    "import django\n",
    "django.setup()\n",
    "from drivers.tree_builder import TreeNeo\n",
    "from drivers.graph_models import TreeNode, Order, Family, graph"
   ]
  },
  {
   "cell_type": "markdown",
   "metadata": {},
   "source": [
    "### Select the Node Bursera"
   ]
  },
  {
   "cell_type": "markdown",
   "metadata": {},
   "source": [
    "Bursera is a Family of Plants. We want to select a Node in the Tree Of Life that is of the type Family and the name starts \n",
    "with \"Burser\". The expression \"_.name=~STRING\" means that we will look into the attribute \"name\" using a regular expression \n",
    "\"=~\" followed by any number of characters \".*\""
   ]
  },
  {
   "cell_type": "code",
   "execution_count": 3,
   "metadata": {
    "collapsed": false
   },
   "outputs": [],
   "source": [
    "bursera = list(Family.select(graph).where(\"_.name=~'Burser.*'\")).pop()"
   ]
  },
  {
   "cell_type": "markdown",
   "metadata": {},
   "source": [
    "The result is a list. Given that there is only one Node of the type Family that has the name \"Burser\" we can extract\n",
    "the only element of the list using the standard method pop()."
   ]
  },
  {
   "cell_type": "code",
   "execution_count": 6,
   "metadata": {
    "collapsed": false
   },
   "outputs": [],
   "source": [
    "cells = list(bursera.cells)"
   ]
  },
  {
   "cell_type": "code",
   "execution_count": 7,
   "metadata": {
    "collapsed": true
   },
   "outputs": [],
   "source": [
    "c = cells[0]"
   ]
  },
  {
   "cell_type": "code",
   "execution_count": 8,
   "metadata": {
    "collapsed": false
   },
   "outputs": [
    {
     "data": {
      "text/plain": [
       "[<Occurrence pk=374085>,\n",
       " <Occurrence pk=374083>,\n",
       " <Occurrence pk=374038>,\n",
       " <Occurrence pk=374056>,\n",
       " <Occurrence pk=1526860>,\n",
       " <Occurrence pk=374087>,\n",
       " <Occurrence pk=374055>,\n",
       " <Occurrence pk=374025>,\n",
       " <Occurrence pk=374048>,\n",
       " <Occurrence pk=374041>,\n",
       " <Occurrence pk=374081>,\n",
       " <Occurrence pk=374045>,\n",
       " <Occurrence pk=374060>,\n",
       " <Occurrence pk=374043>,\n",
       " <Occurrence pk=374028>,\n",
       " <Occurrence pk=374058>,\n",
       " <Occurrence pk=374073>,\n",
       " <Occurrence pk=374053>,\n",
       " <Occurrence pk=374047>,\n",
       " <Occurrence pk=374034>,\n",
       " <Occurrence pk=374078>,\n",
       " <Occurrence pk=374036>,\n",
       " <Occurrence pk=374027>,\n",
       " <Occurrence pk=374051>,\n",
       " <Occurrence pk=374030>,\n",
       " <Occurrence pk=374074>,\n",
       " <Occurrence pk=374032>,\n",
       " <Occurrence pk=1552936>,\n",
       " <Occurrence pk=374089>,\n",
       " <Occurrence pk=1936541>,\n",
       " <Occurrence pk=935469>,\n",
       " <Occurrence pk=1553196>,\n",
       " <Occurrence pk=2043579>,\n",
       " <Occurrence pk=1556035>,\n",
       " <Occurrence pk=1910616>,\n",
       " <Occurrence pk=446314>,\n",
       " <Occurrence pk=537441>,\n",
       " <Occurrence pk=2178333>,\n",
       " <Occurrence pk=1954074>,\n",
       " <Occurrence pk=1573011>,\n",
       " <Occurrence pk=233932>,\n",
       " <Occurrence pk=1912653>,\n",
       " <Occurrence pk=1909617>,\n",
       " <Occurrence pk=2178345>]"
      ]
     },
     "execution_count": 8,
     "metadata": {},
     "output_type": "execute_result"
    }
   ],
   "source": [
    "c.occurrencesHere()"
   ]
  },
  {
   "cell_type": "code",
   "execution_count": 9,
   "metadata": {
    "collapsed": true
   },
   "outputs": [],
   "source": [
    "tree = TreeNeo(c.occurrencesHere())"
   ]
  },
  {
   "cell_type": "code",
   "execution_count": 11,
   "metadata": {
    "collapsed": false
   },
   "outputs": [
    {
     "data": {
      "text/plain": [
       "[<LocalTree | Family: Asteraceae - n.count : 3- | AF: 0.05 >,\n",
       " <LocalTree | Family: Cactaceae - n.count : 4- | AF: 0.05 >,\n",
       " <LocalTree | Family: Nyctaginaceae - n.count : 1- | AF: 0.05 >,\n",
       " <LocalTree | Family: Rhamnaceae - n.count : 2- | AF: 0.05 >,\n",
       " <LocalTree | Family: Viperidae - n.count : 1- | AF: 0.05 >,\n",
       " <LocalTree | Family: Burseraceae - n.count : 2- | AF: 0.05 >,\n",
       " <LocalTree | Family: Euphorbiaceae - n.count : 2- | AF: 0.05 >,\n",
       " <LocalTree | Family: Heteroceridae - n.count : 27- | AF: 0.05 >,\n",
       " <LocalTree | Family: Accipitridae - n.count : 1- | AF: 0.05 >,\n",
       " <LocalTree | Family: Falconidae - n.count : 1- | AF: 0.05 >]"
      ]
     },
     "execution_count": 11,
     "metadata": {},
     "output_type": "execute_result"
    }
   ],
   "source": [
    "tree.associatedData.getEnvironmentalVariablesPoints()"
   ]
  },
  {
   "cell_type": "markdown",
   "metadata": {},
   "source": [
    "### Inspect taxonomy"
   ]
  },
  {
   "cell_type": "code",
   "execution_count": 1,
   "metadata": {
    "collapsed": false
   },
   "outputs": [
    {
     "ename": "NameError",
     "evalue": "name 'bursera' is not defined",
     "output_type": "error",
     "traceback": [
      "\u001b[0;31m---------------------------------------------------------------------------\u001b[0m",
      "\u001b[0;31mNameError\u001b[0m                                 Traceback (most recent call last)",
      "\u001b[0;32m<ipython-input-1-196f9059b098>\u001b[0m in \u001b[0;36m<module>\u001b[0;34m()\u001b[0m\n\u001b[0;32m----> 1\u001b[0;31m \u001b[0mbursera\u001b[0m\u001b[0;34m\u001b[0m\u001b[0m\n\u001b[0m",
      "\u001b[0;31mNameError\u001b[0m: name 'bursera' is not defined"
     ]
    }
   ],
   "source": [
    "bursera"
   ]
  },
  {
   "cell_type": "code",
   "execution_count": 31,
   "metadata": {
    "collapsed": false
   },
   "outputs": [
    {
     "data": {
      "text/plain": [
       "<TreeNode type: Order id = 933 name: Sapindales>"
      ]
     },
     "execution_count": 31,
     "metadata": {},
     "output_type": "execute_result"
    }
   ],
   "source": [
    "bursera.getParent()"
   ]
  },
  {
   "cell_type": "code",
   "execution_count": 32,
   "metadata": {
    "collapsed": false
   },
   "outputs": [],
   "source": [
    "magno = bursera.getParent().getParent()"
   ]
  },
  {
   "cell_type": "code",
   "execution_count": 33,
   "metadata": {
    "collapsed": false
   },
   "outputs": [
    {
     "data": {
      "text/plain": [
       "<TreeNode type: Class id = 220 name: Magnoliopsida>"
      ]
     },
     "execution_count": 33,
     "metadata": {},
     "output_type": "execute_result"
    }
   ],
   "source": [
    "magno"
   ]
  },
  {
   "cell_type": "code",
   "execution_count": 35,
   "metadata": {
    "collapsed": false
   },
   "outputs": [],
   "source": [
    "ll = list(magno.parent_link)"
   ]
  },
  {
   "cell_type": "code",
   "execution_count": 11,
   "metadata": {
    "collapsed": false
   },
   "outputs": [
    {
     "data": {
      "text/plain": [
       "[<TreeNode type: Phylum id = 49 name: Magnoliophyta>]"
      ]
     },
     "execution_count": 11,
     "metadata": {},
     "output_type": "execute_result"
    }
   ],
   "source": [
    "list(magno.parent_link)"
   ]
  },
  {
   "cell_type": "markdown",
   "metadata": {},
   "source": [
    "The Tree Node is an object and has defined methods (refer to the documentation). One of this methods extract the cells in the spatial lattice that has associated Bursera occurrences. "
   ]
  },
  {
   "cell_type": "code",
   "execution_count": 36,
   "metadata": {
    "collapsed": true
   },
   "outputs": [],
   "source": [
    "cells_with_burseras = bursera.cells"
   ]
  },
  {
   "cell_type": "markdown",
   "metadata": {},
   "source": [
    "The result is a generator object. This is helpfull when the number of cells is big and surpasses the capacity of the machine\n",
    "or the analyst."
   ]
  },
  {
   "cell_type": "code",
   "execution_count": 37,
   "metadata": {
    "collapsed": false
   },
   "outputs": [
    {
     "data": {
      "text/plain": [
       "<generator object __iter__ at 0x7f6546965fa0>"
      ]
     },
     "execution_count": 37,
     "metadata": {},
     "output_type": "execute_result"
    }
   ],
   "source": [
    "cells_with_burseras"
   ]
  },
  {
   "cell_type": "markdown",
   "metadata": {},
   "source": [
    "In this example we want to get only the first 10 cells."
   ]
  },
  {
   "cell_type": "code",
   "execution_count": 38,
   "metadata": {
    "collapsed": false
   },
   "outputs": [],
   "source": [
    "cells_with_burseras = list(cells_with_burseras)"
   ]
  },
  {
   "cell_type": "code",
   "execution_count": 39,
   "metadata": {
    "collapsed": false
   },
   "outputs": [
    {
     "data": {
      "text/plain": [
       "2537"
      ]
     },
     "execution_count": 39,
     "metadata": {},
     "output_type": "execute_result"
    }
   ],
   "source": [
    "len(cells_with_burseras)"
   ]
  },
  {
   "cell_type": "markdown",
   "metadata": {},
   "source": [
    "## *Oke Oke*!, \n",
    "Now we want to get the subtrees of Life constrainted by the geographical attribute of this cells.\n",
    "For doing this, simply get the occurrences within each cell with the method *occurrencesHere()* and use this output as the constructor argument."
   ]
  },
  {
   "cell_type": "code",
   "execution_count": 13,
   "metadata": {
    "collapsed": true
   },
   "outputs": [],
   "source": [
    "c = cells_with_burseras[0]"
   ]
  },
  {
   "cell_type": "code",
   "execution_count": 14,
   "metadata": {
    "collapsed": false
   },
   "outputs": [
    {
     "data": {
      "text/plain": [
       "[<Occurrence pk=1266943>,\n",
       " <Occurrence pk=1266931>,\n",
       " <Occurrence pk=1266975>,\n",
       " <Occurrence pk=1266893>,\n",
       " <Occurrence pk=1266913>,\n",
       " <Occurrence pk=1266863>,\n",
       " <Occurrence pk=1266877>,\n",
       " <Occurrence pk=1343013>,\n",
       " <Occurrence pk=2090835>,\n",
       " <Occurrence pk=2096496>,\n",
       " <Occurrence pk=1266886>,\n",
       " <Occurrence pk=1239196>,\n",
       " <Occurrence pk=1266953>,\n",
       " <Occurrence pk=1266903>,\n",
       " <Occurrence pk=1239323>,\n",
       " <Occurrence pk=1239209>,\n",
       " <Occurrence pk=1239207>,\n",
       " <Occurrence pk=1239264>,\n",
       " <Occurrence pk=1343005>,\n",
       " <Occurrence pk=1266841>,\n",
       " <Occurrence pk=1314821>,\n",
       " <Occurrence pk=1266851>,\n",
       " <Occurrence pk=1342675>,\n",
       " <Occurrence pk=286138>,\n",
       " <Occurrence pk=1326412>,\n",
       " <Occurrence pk=1315197>,\n",
       " <Occurrence pk=1335226>,\n",
       " <Occurrence pk=1335240>,\n",
       " <Occurrence pk=283967>,\n",
       " <Occurrence pk=1328216>,\n",
       " <Occurrence pk=1307801>,\n",
       " <Occurrence pk=284084>,\n",
       " <Occurrence pk=284152>,\n",
       " <Occurrence pk=284098>,\n",
       " <Occurrence pk=283938>,\n",
       " <Occurrence pk=284179>,\n",
       " <Occurrence pk=284028>,\n",
       " <Occurrence pk=284117>,\n",
       " <Occurrence pk=284137>,\n",
       " <Occurrence pk=283918>,\n",
       " <Occurrence pk=284010>,\n",
       " <Occurrence pk=284202>,\n",
       " <Occurrence pk=284103>,\n",
       " <Occurrence pk=284213>,\n",
       " <Occurrence pk=284149>,\n",
       " <Occurrence pk=284188>,\n",
       " <Occurrence pk=277370>,\n",
       " <Occurrence pk=284066>,\n",
       " <Occurrence pk=1312011>,\n",
       " <Occurrence pk=1312013>,\n",
       " <Occurrence pk=1335295>,\n",
       " <Occurrence pk=283995>,\n",
       " <Occurrence pk=283830>,\n",
       " <Occurrence pk=277330>,\n",
       " <Occurrence pk=1312025>,\n",
       " <Occurrence pk=1572724>,\n",
       " <Occurrence pk=1955051>,\n",
       " <Occurrence pk=3162622>,\n",
       " <Occurrence pk=1486881>,\n",
       " <Occurrence pk=2088327>]"
      ]
     },
     "execution_count": 14,
     "metadata": {},
     "output_type": "execute_result"
    }
   ],
   "source": [
    "c.occurrencesHere()"
   ]
  },
  {
   "cell_type": "markdown",
   "metadata": {
    "collapsed": true
   },
   "source": [
    "## Random subselection of cells\n",
    "The number of cells is very big. An option for processing is to select a random uniform set of indexes. We can achieve this with the following strategy.\n",
    "\n",
    "1. make a random sample selection\n"
   ]
  },
  {
   "cell_type": "markdown",
   "metadata": {},
   "source": [
    "### Let's create a random subset of 100 cells."
   ]
  },
  {
   "cell_type": "code",
   "execution_count": 40,
   "metadata": {
    "collapsed": true
   },
   "outputs": [],
   "source": [
    "import numpy.random as rnd"
   ]
  },
  {
   "cell_type": "code",
   "execution_count": 41,
   "metadata": {
    "collapsed": true
   },
   "outputs": [],
   "source": [
    "n = 100"
   ]
  },
  {
   "cell_type": "code",
   "execution_count": 42,
   "metadata": {
    "collapsed": true
   },
   "outputs": [],
   "source": [
    "indices = rnd.randint(0,len(cells_with_burseras),n)"
   ]
  },
  {
   "cell_type": "code",
   "execution_count": 43,
   "metadata": {
    "collapsed": true
   },
   "outputs": [],
   "source": [
    "selected_cells = [ cells_with_burseras[i] for i in indices ]"
   ]
  },
  {
   "cell_type": "markdown",
   "metadata": {},
   "source": [
    "### Get the subtrees within the selected cells"
   ]
  },
  {
   "cell_type": "markdown",
   "metadata": {},
   "source": [
    "Let's create first a Constructor function"
   ]
  },
  {
   "cell_type": "code",
   "execution_count": 47,
   "metadata": {
    "collapsed": false
   },
   "outputs": [
    {
     "data": {
      "text/plain": [
       "[<Cell id=244213>,\n",
       " <Cell id=233529>,\n",
       " <Cell id=248416>,\n",
       " <Cell id=237397>,\n",
       " <Cell id=252667>,\n",
       " <Cell id=185515>,\n",
       " <Cell id=236366>,\n",
       " <Cell id=251521>,\n",
       " <Cell id=230845>,\n",
       " <Cell id=207217>]"
      ]
     },
     "execution_count": 47,
     "metadata": {},
     "output_type": "execute_result"
    }
   ],
   "source": [
    "selected_cells[:10]"
   ]
  },
  {
   "cell_type": "code",
   "execution_count": 48,
   "metadata": {
    "collapsed": true
   },
   "outputs": [],
   "source": [
    "c0 = selected_cells[:10][0]"
   ]
  },
  {
   "cell_type": "code",
   "execution_count": 52,
   "metadata": {
    "collapsed": true
   },
   "outputs": [],
   "source": [
    "ns = c0.getNeighbours()"
   ]
  },
  {
   "cell_type": "code",
   "execution_count": 53,
   "metadata": {
    "collapsed": false
   },
   "outputs": [
    {
     "data": {
      "text/plain": [
       "[<Cell id=244212>,\n",
       " <Cell id=244214>,\n",
       " <Cell id=244462>,\n",
       " <Cell id=243965>,\n",
       " <Cell id=244213>]"
      ]
     },
     "execution_count": 53,
     "metadata": {},
     "output_type": "execute_result"
    }
   ],
   "source": [
    "ns"
   ]
  },
  {
   "cell_type": "code",
   "execution_count": 49,
   "metadata": {
    "collapsed": true
   },
   "outputs": [],
   "source": [
    "ToTree = lambda cell : TreeNeo(cell.occurrencesHere())"
   ]
  },
  {
   "cell_type": "markdown",
   "metadata": {},
   "source": [
    "and map it to the selected cells"
   ]
  },
  {
   "cell_type": "code",
   "execution_count": 54,
   "metadata": {
    "collapsed": false
   },
   "outputs": [
    {
     "name": "stdout",
     "output_type": "stream",
     "text": [
      "CPU times: user 840 ms, sys: 20 ms, total: 860 ms\n",
      "Wall time: 1.14 s\n"
     ]
    }
   ],
   "source": [
    "%time trees = map(ToTree,ns)"
   ]
  },
  {
   "cell_type": "markdown",
   "metadata": {},
   "source": [
    "#### Uff! it took 3 minutes, but it's a lot of data"
   ]
  },
  {
   "cell_type": "code",
   "execution_count": 55,
   "metadata": {
    "collapsed": false
   },
   "outputs": [
    {
     "data": {
      "text/plain": [
       "[<LocalTree Of Life | No record available: - n.count : 0- >,\n",
       " <LocalTree Of Life | Root: LUCA - n.count : 51- >,\n",
       " <LocalTree Of Life | No record available: - n.count : 0- >,\n",
       " <LocalTree Of Life | Root: LUCA - n.count : 6- >,\n",
       " <LocalTree Of Life | Root: LUCA - n.count : 28- >]"
      ]
     },
     "execution_count": 55,
     "metadata": {},
     "output_type": "execute_result"
    }
   ],
   "source": [
    "trees"
   ]
  },
  {
   "cell_type": "markdown",
   "metadata": {},
   "source": [
    "## Let´s make the big tree representing the window"
   ]
  },
  {
   "cell_type": "code",
   "execution_count": 56,
   "metadata": {
    "collapsed": false
   },
   "outputs": [
    {
     "name": "stderr",
     "output_type": "stream",
     "text": [
      "INFO Merging Trees\n",
      "INFO Merging Trees\n",
      "INFO Merging Trees\n",
      "INFO Merging Trees\n"
     ]
    }
   ],
   "source": [
    "bt = reduce(lambda a,b : a+b, trees)"
   ]
  },
  {
   "cell_type": "code",
   "execution_count": 75,
   "metadata": {
    "collapsed": false
   },
   "outputs": [
    {
     "data": {
      "text/plain": [
       "<raster_api.tools.RasterData at 0x7f653abe7a90>"
      ]
     },
     "execution_count": 75,
     "metadata": {},
     "output_type": "execute_result"
    }
   ],
   "source": [
    "bt.associatedData.getAssociatedRasterAreaData(string_selection=\"MeanTemperature\")"
   ]
  },
  {
   "cell_type": "code",
   "execution_count": 76,
   "metadata": {
    "collapsed": false
   },
   "outputs": [
    {
     "data": {
      "image/png": "[encoded data removed]",
      "text/plain": [
       "<matplotlib.figure.Figure at 0x7f653ab8f650>"
      ]
     },
     "metadata": {},
     "output_type": "display_data"
    }
   ],
   "source": [
    "bt.associatedData.raster_MeanTemperature.display_field()"
   ]
  },
  {
   "cell_type": "code",
   "execution_count": 58,
   "metadata": {
    "collapsed": false
   },
   "outputs": [
    {
     "name": "stderr",
     "output_type": "stream",
     "text": [
      "INFO Going deep 1\n",
      "INFO Going deep 1\n",
      "INFO Going deep 1\n",
      "INFO Going deep 1\n",
      "INFO Going deep 1\n",
      "INFO Going deep 1\n",
      "INFO Going deep 1\n",
      "INFO Going deep 1\n",
      "INFO Going deep 1\n",
      "INFO Going deep 1\n",
      "INFO Going deep 1\n",
      "INFO Going deep 1\n",
      "INFO Going deep 1\n",
      "INFO Going deep 1\n",
      "INFO Going deep 1\n",
      "INFO Going deep 1\n",
      "INFO Going deep 1\n",
      "INFO Going deep 2\n",
      "INFO Going deep 1\n",
      "INFO Going deep 1\n",
      "INFO Going deep 1\n",
      "INFO Going deep 2\n",
      "INFO Going deep 1\n",
      "INFO Going deep 1\n",
      "INFO Going deep 1\n",
      "INFO Going deep 2\n",
      "INFO Going deep 1\n",
      "INFO Going deep 1\n",
      "INFO Going deep 1\n",
      "INFO Going deep 1\n",
      "INFO Going deep 1\n",
      "INFO Going deep 1\n",
      "INFO Going deep 2\n",
      "INFO Going deep 2\n",
      "INFO Going deep 1\n",
      "INFO Going deep 1\n",
      "INFO Going deep 1\n",
      "INFO Going deep 1\n",
      "INFO Going deep 1\n",
      "INFO Going deep 2\n",
      "INFO Going deep 2\n",
      "INFO Going deep 1\n",
      "INFO Going deep 1\n",
      "INFO Going deep 1\n",
      "INFO Going deep 1\n",
      "INFO Going deep 1\n",
      "INFO Going deep 1\n",
      "INFO Going deep 1\n",
      "INFO Going deep 1\n",
      "INFO Going deep 1\n",
      "INFO Going deep 1\n",
      "INFO Going deep 1\n",
      "INFO Going deep 2\n",
      "INFO Going deep 2\n",
      "INFO Going deep 1\n",
      "INFO Going deep 1\n",
      "INFO Going deep 1\n",
      "INFO Going deep 2\n",
      "INFO Going deep 1\n",
      "INFO Going deep 1\n",
      "INFO Going deep 1\n",
      "INFO Going deep 2\n",
      "INFO Going deep 1\n",
      "INFO Going deep 1\n",
      "INFO Going deep 1\n",
      "INFO Going deep 1\n",
      "INFO Going deep 1\n",
      "INFO Going deep 2\n",
      "INFO Going deep 2\n",
      "INFO Going deep 1\n",
      "INFO Going deep 1\n",
      "INFO Going deep 1\n",
      "INFO Going deep 1\n",
      "INFO Going deep 1\n",
      "INFO Going deep 1\n",
      "INFO Going deep 1\n",
      "INFO Going deep 1\n",
      "INFO Going deep 1\n",
      "INFO Going deep 1\n",
      "INFO Going deep 1\n",
      "INFO Going deep 1\n",
      "INFO Going deep 1\n",
      "INFO Going deep 1\n",
      "INFO Going deep 1\n",
      "INFO Going deep 1\n",
      "INFO Going deep 1\n",
      "INFO Going deep 1\n",
      "INFO Going deep 1\n",
      "INFO Going deep 2\n",
      "INFO Going deep 1\n",
      "INFO Going deep 2\n",
      "INFO Going deep 2\n",
      "INFO Going deep 1\n",
      "INFO Going deep 1\n",
      "INFO Going deep 1\n",
      "INFO Going deep 1\n",
      "INFO Going deep 1\n",
      "INFO Going deep 2\n",
      "INFO Going deep 2\n",
      "INFO Going deep 3\n",
      "INFO Going deep 1\n",
      "INFO Going deep 1\n",
      "INFO Going deep 1\n",
      "INFO Going deep 1\n",
      "INFO Going deep 1\n",
      "INFO Going deep 1\n",
      "INFO Going deep 1\n",
      "INFO Going deep 1\n",
      "INFO Going deep 1\n",
      "INFO Going deep 1\n",
      "INFO Going deep 1\n",
      "INFO Going deep 1\n",
      "INFO Going deep 3\n",
      "INFO Going deep 3\n",
      "INFO Going deep 3\n"
     ]
    },
    {
     "data": {
      "text/plain": [
       "'N.A.'"
      ]
     },
     "execution_count": 58,
     "metadata": {},
     "output_type": "execute_result"
    }
   ],
   "source": [
    "bt.countNodesFrequenciesOnList(trees)"
   ]
  },
  {
   "cell_type": "code",
   "execution_count": 64,
   "metadata": {
    "collapsed": true
   },
   "outputs": [],
   "source": [
    "sortl = lambda tree : tree.n_presences_in_list"
   ]
  },
  {
   "cell_type": "code",
   "execution_count": null,
   "metadata": {
    "collapsed": true
   },
   "outputs": [],
   "source": []
  },
  {
   "cell_type": "code",
   "execution_count": 65,
   "metadata": {
    "collapsed": false
   },
   "outputs": [],
   "source": [
    "bt.families.sort(key=sortl,reverse=True)"
   ]
  },
  {
   "cell_type": "code",
   "execution_count": 66,
   "metadata": {
    "collapsed": false
   },
   "outputs": [
    {
     "data": {
      "text/plain": [
       "[<LocalTree | Family: Bignoniaceae - n.count : 2- | AF: 2 >,\n",
       " <LocalTree | Family: Apocynaceae - n.count : 10- | AF: 2 >,\n",
       " <LocalTree | Family: Rubiaceae - n.count : 7- | AF: 2 >,\n",
       " <LocalTree | Family: Polygonaceae - n.count : 4- | AF: 2 >,\n",
       " <LocalTree | Family: Meliaceae - n.count : 3- | AF: 2 >,\n",
       " <LocalTree | Family: Sapindaceae - n.count : 6- | AF: 2 >,\n",
       " <LocalTree | Family: Malvaceae - n.count : 3- | AF: 2 >,\n",
       " <LocalTree | Family: Fabaceae - n.count : 19- | AF: 2 >,\n",
       " <LocalTree | Family: Putranjivaceae - n.count : 3- | AF: 2 >,\n",
       " <LocalTree | Family: Lauraceae - n.count : 2- | AF: 1 >]"
      ]
     },
     "execution_count": 66,
     "metadata": {},
     "output_type": "execute_result"
    }
   ],
   "source": [
    "bt.families[:10]"
   ]
  },
  {
   "cell_type": "code",
   "execution_count": 70,
   "metadata": {
    "collapsed": false
   },
   "outputs": [
    {
     "data": {
      "text/plain": [
       "<Graph uri=u'http://biospytial_neo4j:7474/db/data/'>"
      ]
     },
     "execution_count": 70,
     "metadata": {},
     "output_type": "execute_result"
    }
   ],
   "source": [
    "graph"
   ]
  },
  {
   "cell_type": "code",
   "execution_count": 67,
   "metadata": {
    "collapsed": false
   },
   "outputs": [
    {
     "data": {
      "text/plain": [
       "[<LocalTree | Phylum: Magnoliophyta - n.count : 85- | AF: 3 >]"
      ]
     },
     "execution_count": 67,
     "metadata": {},
     "output_type": "execute_result"
    }
   ],
   "source": [
    "bt.phyla"
   ]
  },
  {
   "cell_type": "code",
   "execution_count": 73,
   "metadata": {
    "collapsed": false
   },
   "outputs": [],
   "source": [
    "bt.setGraph??"
   ]
  },
  {
   "cell_type": "markdown",
   "metadata": {},
   "source": [
    "#### Get the UNION of the these 100 trees~"
   ]
  },
  {
   "cell_type": "code",
   "execution_count": 21,
   "metadata": {
    "collapsed": false
   },
   "outputs": [
    {
     "name": "stderr",
     "output_type": "stream",
     "text": [
      "INFO Merging Trees\n",
      "INFO Merging Trees\n",
      "INFO Merging Trees\n",
      "INFO Merging Trees\n",
      "INFO Merging Trees\n",
      "INFO Merging Trees\n",
      "INFO Merging Trees\n",
      "INFO Merging Trees\n",
      "INFO Merging Trees\n",
      "INFO Merging Trees\n",
      "INFO Merging Trees\n",
      "INFO Merging Trees\n",
      "INFO Merging Trees\n",
      "INFO Merging Trees\n",
      "INFO Merging Trees\n",
      "INFO Merging Trees\n",
      "INFO Merging Trees\n",
      "INFO Merging Trees\n",
      "INFO Merging Trees\n",
      "INFO Merging Trees\n",
      "INFO Merging Trees\n",
      "INFO Merging Trees\n",
      "INFO Merging Trees\n",
      "INFO Merging Trees\n",
      "INFO Merging Trees\n",
      "INFO Merging Trees\n",
      "INFO Merging Trees\n",
      "INFO Merging Trees\n",
      "INFO Merging Trees\n",
      "INFO Merging Trees\n",
      "INFO Merging Trees\n",
      "INFO Merging Trees\n",
      "INFO Merging Trees\n",
      "INFO Merging Trees\n",
      "INFO Merging Trees\n",
      "INFO Merging Trees\n",
      "INFO Merging Trees\n",
      "INFO Merging Trees\n",
      "INFO Merging Trees\n",
      "INFO Merging Trees\n",
      "INFO Merging Trees\n",
      "INFO Merging Trees\n",
      "INFO Merging Trees\n",
      "INFO Merging Trees\n",
      "INFO Merging Trees\n",
      "INFO Merging Trees\n",
      "INFO Merging Trees\n",
      "INFO Merging Trees\n",
      "INFO Merging Trees\n",
      "INFO Merging Trees\n",
      "INFO Merging Trees\n",
      "INFO Merging Trees\n",
      "INFO Merging Trees\n",
      "INFO Merging Trees\n",
      "INFO Merging Trees\n",
      "INFO Merging Trees\n",
      "INFO Merging Trees\n",
      "INFO Merging Trees\n",
      "INFO Merging Trees\n",
      "INFO Merging Trees\n",
      "INFO Merging Trees\n",
      "INFO Merging Trees\n",
      "INFO Merging Trees\n",
      "INFO Merging Trees\n",
      "INFO Merging Trees\n",
      "INFO Merging Trees\n",
      "INFO Merging Trees\n",
      "INFO Merging Trees\n",
      "INFO Merging Trees\n",
      "INFO Merging Trees\n",
      "INFO Merging Trees\n",
      "INFO Merging Trees\n",
      "INFO Merging Trees\n",
      "INFO Merging Trees\n",
      "INFO Merging Trees\n",
      "INFO Merging Trees\n",
      "INFO Merging Trees\n",
      "INFO Merging Trees\n",
      "INFO Merging Trees\n",
      "INFO Merging Trees\n",
      "INFO Merging Trees\n",
      "INFO Merging Trees\n",
      "INFO Merging Trees\n",
      "INFO Merging Trees\n",
      "INFO Merging Trees\n",
      "INFO Merging Trees\n",
      "INFO Merging Trees\n",
      "INFO Merging Trees\n",
      "INFO Merging Trees\n",
      "INFO Merging Trees\n",
      "INFO Merging Trees\n",
      "INFO Merging Trees\n",
      "INFO Merging Trees\n",
      "INFO Merging Trees\n",
      "INFO Merging Trees\n",
      "INFO Merging Trees\n",
      "INFO Merging Trees\n",
      "INFO Merging Trees\n",
      "INFO Merging Trees\n"
     ]
    },
    {
     "name": "stdout",
     "output_type": "stream",
     "text": [
      "CPU times: user 1min 20s, sys: 492 ms, total: 1min 21s\n",
      "Wall time: 1min 22s\n"
     ]
    }
   ],
   "source": [
    "%time big_tree = reduce(lambda a,b : a + b , trees)"
   ]
  },
  {
   "cell_type": "code",
   "execution_count": 22,
   "metadata": {
    "collapsed": false
   },
   "outputs": [
    {
     "data": {
      "text/plain": [
       "22861"
      ]
     },
     "execution_count": 22,
     "metadata": {},
     "output_type": "execute_result"
    }
   ],
   "source": [
    "big_tree.richness"
   ]
  },
  {
   "cell_type": "markdown",
   "metadata": {},
   "source": [
    "I told you, loads of data.\n",
    "We can explore the content of this tree accessing to the attributes that start with the suffix ''to_''"
   ]
  },
  {
   "cell_type": "code",
   "execution_count": 23,
   "metadata": {
    "collapsed": false
   },
   "outputs": [],
   "source": [
    "mushrooms = big_tree.to_Fungi"
   ]
  },
  {
   "cell_type": "markdown",
   "metadata": {},
   "source": [
    "Mushrooms is a TreeNode, i.e. not a complete TreeNeo object. To cast it (convert) to a TreeNode, and explore the families,classes, etc within it we must *plant-it* ."
   ]
  },
  {
   "cell_type": "code",
   "execution_count": 24,
   "metadata": {
    "collapsed": true
   },
   "outputs": [],
   "source": [
    "m = mushrooms.plantTreeNode()"
   ]
  },
  {
   "cell_type": "code",
   "execution_count": 25,
   "metadata": {
    "collapsed": false
   },
   "outputs": [
    {
     "data": {
      "text/plain": [
       "drivers.tree_builder.LocalTree"
      ]
     },
     "execution_count": 25,
     "metadata": {},
     "output_type": "execute_result"
    }
   ],
   "source": [
    "type(mushrooms)"
   ]
  },
  {
   "cell_type": "code",
   "execution_count": 26,
   "metadata": {
    "collapsed": false
   },
   "outputs": [
    {
     "data": {
      "text/plain": [
       "drivers.tree_builder.TreeNeo"
      ]
     },
     "execution_count": 26,
     "metadata": {},
     "output_type": "execute_result"
    }
   ],
   "source": [
    "type(m)"
   ]
  },
  {
   "cell_type": "code",
   "execution_count": 27,
   "metadata": {
    "collapsed": false
   },
   "outputs": [
    {
     "data": {
      "text/plain": [
       "[<TreeNode | Class: Agaricomycetes - n.count : 1- | AF: N.A. >,\n",
       " <TreeNode | Class: Pucciniomycetes - n.count : 3- | AF: N.A. >,\n",
       " <TreeNode | Class: Eurotiomycetes - n.count : 8- | AF: N.A. >,\n",
       " <TreeNode | Class: Lecanoromycetes - n.count : 91- | AF: N.A. >,\n",
       " <TreeNode | Class: Lichinomycetes - n.count : 6- | AF: N.A. >]"
      ]
     },
     "execution_count": 27,
     "metadata": {},
     "output_type": "execute_result"
    }
   ],
   "source": [
    "m.classes"
   ]
  },
  {
   "cell_type": "code",
   "execution_count": 28,
   "metadata": {
    "collapsed": false
   },
   "outputs": [
    {
     "data": {
      "text/plain": [
       "<TreeNode | Kingdom: Protozoa - n.count : 17- | AF: N.A. >"
      ]
     },
     "execution_count": 28,
     "metadata": {},
     "output_type": "execute_result"
    }
   ],
   "source": [
    "big_tree.to_Protozoa"
   ]
  },
  {
   "cell_type": "code",
   "execution_count": 29,
   "metadata": {
    "collapsed": false
   },
   "outputs": [
    {
     "data": {
      "text/plain": [
       "<TreeNode | Kingdom: Plantae - n.count : 6441- | AF: N.A. >"
      ]
     },
     "execution_count": 29,
     "metadata": {},
     "output_type": "execute_result"
    }
   ],
   "source": [
    "big_tree.to_Plantae"
   ]
  },
  {
   "cell_type": "code",
   "execution_count": 30,
   "metadata": {
    "collapsed": false
   },
   "outputs": [
    {
     "data": {
      "text/plain": [
       "<TreeNode | Kingdom: Animalia - n.count : 16291- | AF: N.A. >"
      ]
     },
     "execution_count": 30,
     "metadata": {},
     "output_type": "execute_result"
    }
   ],
   "source": [
    "big_tree.to_Animalia"
   ]
  },
  {
   "cell_type": "markdown",
   "metadata": {},
   "source": [
    "### Cnidaria in the \"terrestrial\" environment ?  "
   ]
  },
  {
   "cell_type": "code",
   "execution_count": 32,
   "metadata": {
    "collapsed": false
   },
   "outputs": [
    {
     "ename": "AttributeError",
     "evalue": "'LocalTree' object has no attribute 'to_Cnidaria'",
     "output_type": "error",
     "traceback": [
      "\u001b[0;31m---------------------------------------------------------------------------\u001b[0m",
      "\u001b[0;31mAttributeError\u001b[0m                            Traceback (most recent call last)",
      "\u001b[0;32m<ipython-input-32-787a24ebd95b>\u001b[0m in \u001b[0;36m<module>\u001b[0;34m()\u001b[0m\n\u001b[0;32m----> 1\u001b[0;31m \u001b[0mcnidaria\u001b[0m \u001b[0;34m=\u001b[0m \u001b[0mbig_tree\u001b[0m\u001b[0;34m.\u001b[0m\u001b[0mto_Animalia\u001b[0m\u001b[0;34m.\u001b[0m\u001b[0mto_Cnidaria\u001b[0m\u001b[0;34m\u001b[0m\u001b[0m\n\u001b[0m",
      "\u001b[0;31mAttributeError\u001b[0m: 'LocalTree' object has no attribute 'to_Cnidaria'"
     ]
    }
   ],
   "source": [
    "cnidaria = big_tree.to_Animalia.to_Cnidaria"
   ]
  },
  {
   "cell_type": "code",
   "execution_count": 68,
   "metadata": {
    "collapsed": false
   },
   "outputs": [
    {
     "data": {
      "text/plain": [
       "<TreeNode | Phylum: Cnidaria - n.count : 5- >"
      ]
     },
     "execution_count": 68,
     "metadata": {},
     "output_type": "execute_result"
    }
   ],
   "source": [
    "cnidaria"
   ]
  },
  {
   "cell_type": "code",
   "execution_count": null,
   "metadata": {
    "collapsed": true
   },
   "outputs": [],
   "source": []
  },
  {
   "cell_type": "markdown",
   "metadata": {},
   "source": [
    "Where is this ?"
   ]
  },
  {
   "cell_type": "code",
   "execution_count": 69,
   "metadata": {
    "collapsed": true
   },
   "outputs": [],
   "source": [
    "cnidaria_cells = cnidaria.getExactCells()"
   ]
  },
  {
   "cell_type": "code",
   "execution_count": 70,
   "metadata": {
    "collapsed": false
   },
   "outputs": [
    {
     "data": {
      "text/plain": [
       "[<Cell id=223271>, <Cell id=199456>]"
      ]
     },
     "execution_count": 70,
     "metadata": {},
     "output_type": "execute_result"
    }
   ],
   "source": [
    "cnidaria_cells"
   ]
  },
  {
   "cell_type": "code",
   "execution_count": 71,
   "metadata": {
    "collapsed": true
   },
   "outputs": [],
   "source": [
    "c1 , c2 = cnidaria_cells"
   ]
  },
  {
   "cell_type": "code",
   "execution_count": 72,
   "metadata": {
    "collapsed": false
   },
   "outputs": [
    {
     "data": {
      "text/plain": [
       "u'MULTIPOLYGON (((-110.2690634159987 24.18688980100021, -110.2200634159987 24.18688980100021, -110.2200634159987 24.13788980100021, -110.2690634159987 24.13788980100021, -110.2690634159987 24.18688980100021)))'"
      ]
     },
     "execution_count": 72,
     "metadata": {},
     "output_type": "execute_result"
    }
   ],
   "source": [
    "c1.cell"
   ]
  },
  {
   "cell_type": "markdown",
   "metadata": {},
   "source": [
    "![Cnidaria cell 1](cnidaria_cell1.png)"
   ]
  },
  {
   "cell_type": "code",
   "execution_count": 66,
   "metadata": {
    "collapsed": false
   },
   "outputs": [],
   "source": [
    "# c2.cell\n",
    "## Dont do it, name to big."
   ]
  },
  {
   "cell_type": "markdown",
   "metadata": {},
   "source": [
    "![Cnidaria cell 2](cnidaria_cell2.png)"
   ]
  },
  {
   "cell_type": "markdown",
   "metadata": {},
   "source": [
    "Close to the sea, but a little bit off the shore."
   ]
  },
  {
   "cell_type": "code",
   "execution_count": 34,
   "metadata": {
    "collapsed": false
   },
   "outputs": [],
   "source": [
    "import redis"
   ]
  },
  {
   "cell_type": "code",
   "execution_count": 75,
   "metadata": {
    "collapsed": false
   },
   "outputs": [],
   "source": [
    "beatle = big_tree.to_Animalia.to_Arthropoda.to_Insecta.to_Coleoptera"
   ]
  },
  {
   "cell_type": "markdown",
   "metadata": {},
   "source": [
    "## How many of these have beatles ?"
   ]
  },
  {
   "cell_type": "code",
   "execution_count": 35,
   "metadata": {
    "collapsed": false
   },
   "outputs": [
    {
     "ename": "NameError",
     "evalue": "global name 'beatle' is not defined",
     "output_type": "error",
     "traceback": [
      "\u001b[0;31m---------------------------------------------------------------------------\u001b[0m",
      "\u001b[0;31mNameError\u001b[0m                                 Traceback (most recent call last)",
      "\u001b[0;32m<ipython-input-35-d3a4f03c35cc>\u001b[0m in \u001b[0;36m<module>\u001b[0;34m()\u001b[0m\n\u001b[0;32m----> 1\u001b[0;31m \u001b[0mwith_beatles\u001b[0m \u001b[0;34m=\u001b[0m \u001b[0mfilter\u001b[0m\u001b[0;34m(\u001b[0m\u001b[0;32mlambda\u001b[0m \u001b[0mtree\u001b[0m \u001b[0;34m:\u001b[0m \u001b[0mtree\u001b[0m\u001b[0;34m.\u001b[0m\u001b[0mhasNode\u001b[0m\u001b[0;34m(\u001b[0m\u001b[0mbeatle\u001b[0m\u001b[0;34m)\u001b[0m\u001b[0;34m,\u001b[0m\u001b[0mtrees\u001b[0m\u001b[0;34m)\u001b[0m\u001b[0;34m\u001b[0m\u001b[0m\n\u001b[0m",
      "\u001b[0;32m<ipython-input-35-d3a4f03c35cc>\u001b[0m in \u001b[0;36m<lambda>\u001b[0;34m(tree)\u001b[0m\n\u001b[0;32m----> 1\u001b[0;31m \u001b[0mwith_beatles\u001b[0m \u001b[0;34m=\u001b[0m \u001b[0mfilter\u001b[0m\u001b[0;34m(\u001b[0m\u001b[0;32mlambda\u001b[0m \u001b[0mtree\u001b[0m \u001b[0;34m:\u001b[0m \u001b[0mtree\u001b[0m\u001b[0;34m.\u001b[0m\u001b[0mhasNode\u001b[0m\u001b[0;34m(\u001b[0m\u001b[0mbeatle\u001b[0m\u001b[0;34m)\u001b[0m\u001b[0;34m,\u001b[0m\u001b[0mtrees\u001b[0m\u001b[0;34m)\u001b[0m\u001b[0;34m\u001b[0m\u001b[0m\n\u001b[0m",
      "\u001b[0;31mNameError\u001b[0m: global name 'beatle' is not defined"
     ]
    }
   ],
   "source": [
    "with_beatles = filter(lambda tree : tree.hasNode(beatle),trees)"
   ]
  },
  {
   "cell_type": "code",
   "execution_count": 36,
   "metadata": {
    "collapsed": false
   },
   "outputs": [
    {
     "ename": "NameError",
     "evalue": "name 'with_beatles' is not defined",
     "output_type": "error",
     "traceback": [
      "\u001b[0;31m---------------------------------------------------------------------------\u001b[0m",
      "\u001b[0;31mNameError\u001b[0m                                 Traceback (most recent call last)",
      "\u001b[0;32m<ipython-input-36-8dcd5f17f099>\u001b[0m in \u001b[0;36m<module>\u001b[0;34m()\u001b[0m\n\u001b[0;32m----> 1\u001b[0;31m \u001b[0mlen\u001b[0m\u001b[0;34m(\u001b[0m\u001b[0mwith_beatles\u001b[0m\u001b[0;34m)\u001b[0m\u001b[0;34m\u001b[0m\u001b[0m\n\u001b[0m",
      "\u001b[0;31mNameError\u001b[0m: name 'with_beatles' is not defined"
     ]
    }
   ],
   "source": [
    "len(with_beatles)"
   ]
  },
  {
   "cell_type": "markdown",
   "metadata": {},
   "source": [
    "# Environmental Exploration\n",
    "Remember that the big tree is defined in the geographical space given by the selected cells, i.e. the random sample.\n",
    "We can get the environmental summary statistics of these cells with the following command."
   ]
  },
  {
   "cell_type": "code",
   "execution_count": 37,
   "metadata": {
    "collapsed": false
   },
   "outputs": [
    {
     "name": "stdout",
     "output_type": "stream",
     "text": [
      "CPU times: user 1min 42s, sys: 8.61 s, total: 1min 51s\n",
      "Wall time: 3min 51s\n"
     ]
    }
   ],
   "source": [
    "%time bursera_env = big_tree.associatedData.getEnvironmentalVariablesCells(with_std=True)"
   ]
  },
  {
   "cell_type": "code",
   "execution_count": 38,
   "metadata": {
    "collapsed": false
   },
   "outputs": [
    {
     "data": {
      "text/plain": [
       "{'MaxTemperature_mean': 14.121969454234756,\n",
       " 'MaxTemperature_std': 4.006065262317484,\n",
       " 'MeanTemperature_mean': 21.66893623838514,\n",
       " 'MeanTemperature_std': 3.3072259058609785,\n",
       " 'MinTemperature_mean': 29.20514258250562,\n",
       " 'MinTemperature_std': 3.0664157452026277,\n",
       " 'Precipitation_mean': 58.16749439282285,\n",
       " 'Precipitation_std': 38.96332490543323,\n",
       " 'SolarRadiation_mean': 18335.95265940404,\n",
       " 'SolarRadiation_std': 1055.2620735583166,\n",
       " 'Vapor_mean': 1.6413542667948304,\n",
       " 'Vapor_std': 0.5536352334430281,\n",
       " 'WindSpeed_mean': 2.3144558368044437,\n",
       " 'WindSpeed_std': 0.5616478792620038}"
      ]
     },
     "execution_count": 38,
     "metadata": {},
     "output_type": "execute_result"
    }
   ],
   "source": [
    "bursera_env"
   ]
  },
  {
   "cell_type": "markdown",
   "metadata": {},
   "source": [
    "### The same for point data"
   ]
  },
  {
   "cell_type": "code",
   "execution_count": 39,
   "metadata": {
    "collapsed": false
   },
   "outputs": [],
   "source": [
    "only_bursera = big_tree.to_Plantae.to_Magnoliophyta.to_Magnoliopsida.to_Sapindales.to_Burseraceae"
   ]
  },
  {
   "cell_type": "code",
   "execution_count": 40,
   "metadata": {
    "collapsed": false
   },
   "outputs": [],
   "source": [
    "pnts_env_burs = only_bursera.associatedData.getEnvironmentalVariablesPoints()"
   ]
  },
  {
   "cell_type": "code",
   "execution_count": 41,
   "metadata": {
    "collapsed": false
   },
   "outputs": [
    {
     "data": {
      "text/html": [
       "<div>\n",
       "<table border=\"1\" class=\"dataframe\">\n",
       "  <thead>\n",
       "    <tr style=\"text-align: right;\">\n",
       "      <th></th>\n",
       "      <th>MaxTemperature_mean</th>\n",
       "      <th>MaxTemperature_std</th>\n",
       "      <th>MeanTemperature_mean</th>\n",
       "      <th>MeanTemperature_std</th>\n",
       "      <th>MinTemperature_mean</th>\n",
       "      <th>MinTemperature_std</th>\n",
       "      <th>Precipitation_mean</th>\n",
       "      <th>Precipitation_std</th>\n",
       "      <th>Vapor_mean</th>\n",
       "      <th>Vapor_std</th>\n",
       "      <th>SolarRadiation_mean</th>\n",
       "      <th>SolarRadiation_std</th>\n",
       "      <th>WindSpeed_mean</th>\n",
       "      <th>WindSpeed_std</th>\n",
       "      <th>x</th>\n",
       "      <th>y</th>\n",
       "    </tr>\n",
       "  </thead>\n",
       "  <tbody>\n",
       "    <tr>\n",
       "      <th>0</th>\n",
       "      <td>14.500000</td>\n",
       "      <td>4.716991</td>\n",
       "      <td>23.250000</td>\n",
       "      <td>4.303584</td>\n",
       "      <td>31.750000</td>\n",
       "      <td>4.105383</td>\n",
       "      <td>17.583333</td>\n",
       "      <td>22.651190</td>\n",
       "      <td>1.833333</td>\n",
       "      <td>0.687184</td>\n",
       "      <td>18928.166667</td>\n",
       "      <td>3372.099243</td>\n",
       "      <td>3.000000</td>\n",
       "      <td>0.000000</td>\n",
       "      <td>-110.311</td>\n",
       "      <td>24.008</td>\n",
       "    </tr>\n",
       "    <tr>\n",
       "      <th>1</th>\n",
       "      <td>14.500000</td>\n",
       "      <td>4.716991</td>\n",
       "      <td>23.250000</td>\n",
       "      <td>4.303584</td>\n",
       "      <td>31.750000</td>\n",
       "      <td>4.105383</td>\n",
       "      <td>17.583333</td>\n",
       "      <td>22.651190</td>\n",
       "      <td>1.833333</td>\n",
       "      <td>0.687184</td>\n",
       "      <td>18928.166667</td>\n",
       "      <td>3372.099243</td>\n",
       "      <td>3.000000</td>\n",
       "      <td>0.000000</td>\n",
       "      <td>-110.311</td>\n",
       "      <td>24.008</td>\n",
       "    </tr>\n",
       "    <tr>\n",
       "      <th>2</th>\n",
       "      <td>18.500000</td>\n",
       "      <td>5.267827</td>\n",
       "      <td>25.166667</td>\n",
       "      <td>5.304610</td>\n",
       "      <td>31.666667</td>\n",
       "      <td>5.497474</td>\n",
       "      <td>18.333333</td>\n",
       "      <td>19.787763</td>\n",
       "      <td>1.750000</td>\n",
       "      <td>0.829156</td>\n",
       "      <td>18665.000000</td>\n",
       "      <td>4255.209317</td>\n",
       "      <td>3.000000</td>\n",
       "      <td>0.000000</td>\n",
       "      <td>-111.047</td>\n",
       "      <td>27.964</td>\n",
       "    </tr>\n",
       "    <tr>\n",
       "      <th>3</th>\n",
       "      <td>13.666667</td>\n",
       "      <td>6.073622</td>\n",
       "      <td>22.916667</td>\n",
       "      <td>6.075337</td>\n",
       "      <td>32.583333</td>\n",
       "      <td>5.823205</td>\n",
       "      <td>25.000000</td>\n",
       "      <td>27.658633</td>\n",
       "      <td>1.500000</td>\n",
       "      <td>0.645497</td>\n",
       "      <td>18472.000000</td>\n",
       "      <td>4512.020242</td>\n",
       "      <td>2.000000</td>\n",
       "      <td>0.000000</td>\n",
       "      <td>-110.956</td>\n",
       "      <td>29.001</td>\n",
       "    </tr>\n",
       "    <tr>\n",
       "      <th>4</th>\n",
       "      <td>13.666667</td>\n",
       "      <td>6.073622</td>\n",
       "      <td>22.916667</td>\n",
       "      <td>6.075337</td>\n",
       "      <td>32.583333</td>\n",
       "      <td>5.823205</td>\n",
       "      <td>25.000000</td>\n",
       "      <td>27.658633</td>\n",
       "      <td>1.500000</td>\n",
       "      <td>0.645497</td>\n",
       "      <td>18472.000000</td>\n",
       "      <td>4512.020242</td>\n",
       "      <td>2.000000</td>\n",
       "      <td>0.000000</td>\n",
       "      <td>-110.956</td>\n",
       "      <td>29.001</td>\n",
       "    </tr>\n",
       "    <tr>\n",
       "      <th>5</th>\n",
       "      <td>11.583333</td>\n",
       "      <td>5.073761</td>\n",
       "      <td>19.166667</td>\n",
       "      <td>4.758034</td>\n",
       "      <td>26.666667</td>\n",
       "      <td>4.515406</td>\n",
       "      <td>11.583333</td>\n",
       "      <td>7.576920</td>\n",
       "      <td>1.416667</td>\n",
       "      <td>0.493007</td>\n",
       "      <td>19196.250000</td>\n",
       "      <td>4439.565766</td>\n",
       "      <td>2.583333</td>\n",
       "      <td>0.493007</td>\n",
       "      <td>-113.910</td>\n",
       "      <td>29.160</td>\n",
       "    </tr>\n",
       "    <tr>\n",
       "      <th>6</th>\n",
       "      <td>15.166667</td>\n",
       "      <td>4.963758</td>\n",
       "      <td>22.750000</td>\n",
       "      <td>4.566636</td>\n",
       "      <td>30.416667</td>\n",
       "      <td>4.271189</td>\n",
       "      <td>19.583333</td>\n",
       "      <td>24.783927</td>\n",
       "      <td>1.750000</td>\n",
       "      <td>0.721688</td>\n",
       "      <td>18937.416667</td>\n",
       "      <td>3566.501892</td>\n",
       "      <td>3.000000</td>\n",
       "      <td>0.000000</td>\n",
       "      <td>-110.666</td>\n",
       "      <td>24.986</td>\n",
       "    </tr>\n",
       "    <tr>\n",
       "      <th>7</th>\n",
       "      <td>9.583333</td>\n",
       "      <td>2.722080</td>\n",
       "      <td>18.000000</td>\n",
       "      <td>2.645751</td>\n",
       "      <td>26.083333</td>\n",
       "      <td>2.752524</td>\n",
       "      <td>45.750000</td>\n",
       "      <td>42.575668</td>\n",
       "      <td>1.000000</td>\n",
       "      <td>0.000000</td>\n",
       "      <td>18881.833333</td>\n",
       "      <td>2361.063632</td>\n",
       "      <td>2.166667</td>\n",
       "      <td>0.372678</td>\n",
       "      <td>-100.267</td>\n",
       "      <td>20.600</td>\n",
       "    </tr>\n",
       "    <tr>\n",
       "      <th>8</th>\n",
       "      <td>15.333333</td>\n",
       "      <td>5.405758</td>\n",
       "      <td>21.000000</td>\n",
       "      <td>5.446712</td>\n",
       "      <td>26.583333</td>\n",
       "      <td>5.663602</td>\n",
       "      <td>11.666667</td>\n",
       "      <td>11.374924</td>\n",
       "      <td>1.750000</td>\n",
       "      <td>0.829156</td>\n",
       "      <td>18753.500000</td>\n",
       "      <td>4365.401232</td>\n",
       "      <td>3.000000</td>\n",
       "      <td>0.000000</td>\n",
       "      <td>-111.931</td>\n",
       "      <td>28.738</td>\n",
       "    </tr>\n",
       "    <tr>\n",
       "      <th>9</th>\n",
       "      <td>15.333333</td>\n",
       "      <td>5.405758</td>\n",
       "      <td>21.000000</td>\n",
       "      <td>5.446712</td>\n",
       "      <td>26.583333</td>\n",
       "      <td>5.663602</td>\n",
       "      <td>11.666667</td>\n",
       "      <td>11.374924</td>\n",
       "      <td>1.750000</td>\n",
       "      <td>0.829156</td>\n",
       "      <td>18753.500000</td>\n",
       "      <td>4365.401232</td>\n",
       "      <td>3.000000</td>\n",
       "      <td>0.000000</td>\n",
       "      <td>-111.931</td>\n",
       "      <td>28.738</td>\n",
       "    </tr>\n",
       "    <tr>\n",
       "      <th>10</th>\n",
       "      <td>12.583333</td>\n",
       "      <td>7.135105</td>\n",
       "      <td>21.916667</td>\n",
       "      <td>6.763361</td>\n",
       "      <td>31.833333</td>\n",
       "      <td>6.580696</td>\n",
       "      <td>18.250000</td>\n",
       "      <td>15.226758</td>\n",
       "      <td>1.333333</td>\n",
       "      <td>0.471405</td>\n",
       "      <td>19219.250000</td>\n",
       "      <td>5117.709044</td>\n",
       "      <td>2.083333</td>\n",
       "      <td>0.276385</td>\n",
       "      <td>-112.250</td>\n",
       "      <td>30.700</td>\n",
       "    </tr>\n",
       "    <tr>\n",
       "      <th>11</th>\n",
       "      <td>12.583333</td>\n",
       "      <td>7.135105</td>\n",
       "      <td>21.916667</td>\n",
       "      <td>6.763361</td>\n",
       "      <td>31.833333</td>\n",
       "      <td>6.580696</td>\n",
       "      <td>18.250000</td>\n",
       "      <td>15.226758</td>\n",
       "      <td>1.333333</td>\n",
       "      <td>0.471405</td>\n",
       "      <td>19219.250000</td>\n",
       "      <td>5117.709044</td>\n",
       "      <td>2.083333</td>\n",
       "      <td>0.276385</td>\n",
       "      <td>-112.250</td>\n",
       "      <td>30.700</td>\n",
       "    </tr>\n",
       "    <tr>\n",
       "      <th>12</th>\n",
       "      <td>15.166667</td>\n",
       "      <td>4.963758</td>\n",
       "      <td>22.750000</td>\n",
       "      <td>4.566636</td>\n",
       "      <td>30.416667</td>\n",
       "      <td>4.271189</td>\n",
       "      <td>19.583333</td>\n",
       "      <td>24.783927</td>\n",
       "      <td>1.750000</td>\n",
       "      <td>0.721688</td>\n",
       "      <td>18937.416667</td>\n",
       "      <td>3566.501892</td>\n",
       "      <td>3.000000</td>\n",
       "      <td>0.000000</td>\n",
       "      <td>-110.666</td>\n",
       "      <td>24.986</td>\n",
       "    </tr>\n",
       "    <tr>\n",
       "      <th>13</th>\n",
       "      <td>14.000000</td>\n",
       "      <td>4.898979</td>\n",
       "      <td>22.833333</td>\n",
       "      <td>4.278499</td>\n",
       "      <td>31.666667</td>\n",
       "      <td>4.068852</td>\n",
       "      <td>19.083333</td>\n",
       "      <td>22.717315</td>\n",
       "      <td>1.583333</td>\n",
       "      <td>0.493007</td>\n",
       "      <td>19012.500000</td>\n",
       "      <td>3440.877202</td>\n",
       "      <td>2.250000</td>\n",
       "      <td>0.433013</td>\n",
       "      <td>-111.067</td>\n",
       "      <td>24.850</td>\n",
       "    </tr>\n",
       "    <tr>\n",
       "      <th>14</th>\n",
       "      <td>14.000000</td>\n",
       "      <td>4.898979</td>\n",
       "      <td>22.833333</td>\n",
       "      <td>4.278499</td>\n",
       "      <td>31.666667</td>\n",
       "      <td>4.068852</td>\n",
       "      <td>19.083333</td>\n",
       "      <td>22.717315</td>\n",
       "      <td>1.583333</td>\n",
       "      <td>0.493007</td>\n",
       "      <td>19012.500000</td>\n",
       "      <td>3440.877202</td>\n",
       "      <td>2.250000</td>\n",
       "      <td>0.433013</td>\n",
       "      <td>-111.067</td>\n",
       "      <td>24.850</td>\n",
       "    </tr>\n",
       "    <tr>\n",
       "      <th>15</th>\n",
       "      <td>12.916667</td>\n",
       "      <td>2.628635</td>\n",
       "      <td>20.666667</td>\n",
       "      <td>2.321398</td>\n",
       "      <td>28.416667</td>\n",
       "      <td>2.531743</td>\n",
       "      <td>43.583333</td>\n",
       "      <td>35.243104</td>\n",
       "      <td>1.583333</td>\n",
       "      <td>0.493007</td>\n",
       "      <td>18665.000000</td>\n",
       "      <td>2419.889219</td>\n",
       "      <td>1.833333</td>\n",
       "      <td>0.372678</td>\n",
       "      <td>-108.955</td>\n",
       "      <td>26.983</td>\n",
       "    </tr>\n",
       "    <tr>\n",
       "      <th>16</th>\n",
       "      <td>11.750000</td>\n",
       "      <td>2.861381</td>\n",
       "      <td>19.666667</td>\n",
       "      <td>2.687419</td>\n",
       "      <td>27.416667</td>\n",
       "      <td>2.782635</td>\n",
       "      <td>51.333333</td>\n",
       "      <td>51.396066</td>\n",
       "      <td>1.250000</td>\n",
       "      <td>0.433013</td>\n",
       "      <td>18086.666667</td>\n",
       "      <td>2282.333650</td>\n",
       "      <td>2.000000</td>\n",
       "      <td>0.000000</td>\n",
       "      <td>-108.955</td>\n",
       "      <td>26.983</td>\n",
       "    </tr>\n",
       "    <tr>\n",
       "      <th>17</th>\n",
       "      <td>11.750000</td>\n",
       "      <td>2.861381</td>\n",
       "      <td>19.666667</td>\n",
       "      <td>2.687419</td>\n",
       "      <td>27.416667</td>\n",
       "      <td>2.782635</td>\n",
       "      <td>51.333333</td>\n",
       "      <td>51.396066</td>\n",
       "      <td>1.250000</td>\n",
       "      <td>0.433013</td>\n",
       "      <td>18086.666667</td>\n",
       "      <td>2282.333650</td>\n",
       "      <td>2.000000</td>\n",
       "      <td>0.000000</td>\n",
       "      <td>-98.670</td>\n",
       "      <td>20.470</td>\n",
       "    </tr>\n",
       "    <tr>\n",
       "      <th>18</th>\n",
       "      <td>11.750000</td>\n",
       "      <td>2.861381</td>\n",
       "      <td>19.666667</td>\n",
       "      <td>2.687419</td>\n",
       "      <td>27.416667</td>\n",
       "      <td>2.782635</td>\n",
       "      <td>51.333333</td>\n",
       "      <td>51.396066</td>\n",
       "      <td>1.250000</td>\n",
       "      <td>0.433013</td>\n",
       "      <td>18086.666667</td>\n",
       "      <td>2282.333650</td>\n",
       "      <td>2.000000</td>\n",
       "      <td>0.000000</td>\n",
       "      <td>-101.680</td>\n",
       "      <td>21.118</td>\n",
       "    </tr>\n",
       "    <tr>\n",
       "      <th>19</th>\n",
       "      <td>11.833333</td>\n",
       "      <td>2.793842</td>\n",
       "      <td>19.833333</td>\n",
       "      <td>2.671870</td>\n",
       "      <td>27.416667</td>\n",
       "      <td>2.782635</td>\n",
       "      <td>50.666667</td>\n",
       "      <td>51.848069</td>\n",
       "      <td>1.250000</td>\n",
       "      <td>0.433013</td>\n",
       "      <td>18230.416667</td>\n",
       "      <td>2326.845449</td>\n",
       "      <td>2.000000</td>\n",
       "      <td>0.000000</td>\n",
       "      <td>-101.680</td>\n",
       "      <td>21.118</td>\n",
       "    </tr>\n",
       "    <tr>\n",
       "      <th>20</th>\n",
       "      <td>7.833333</td>\n",
       "      <td>5.047001</td>\n",
       "      <td>17.000000</td>\n",
       "      <td>5.066228</td>\n",
       "      <td>26.166667</td>\n",
       "      <td>5.063486</td>\n",
       "      <td>40.000000</td>\n",
       "      <td>42.967042</td>\n",
       "      <td>1.166667</td>\n",
       "      <td>0.372678</td>\n",
       "      <td>17437.500000</td>\n",
       "      <td>3696.615197</td>\n",
       "      <td>2.500000</td>\n",
       "      <td>0.500000</td>\n",
       "      <td>-101.680</td>\n",
       "      <td>21.118</td>\n",
       "    </tr>\n",
       "    <tr>\n",
       "      <th>21</th>\n",
       "      <td>14.500000</td>\n",
       "      <td>4.716991</td>\n",
       "      <td>23.250000</td>\n",
       "      <td>4.303584</td>\n",
       "      <td>31.750000</td>\n",
       "      <td>4.105383</td>\n",
       "      <td>17.583333</td>\n",
       "      <td>22.651190</td>\n",
       "      <td>1.833333</td>\n",
       "      <td>0.687184</td>\n",
       "      <td>18928.166667</td>\n",
       "      <td>3372.099243</td>\n",
       "      <td>3.000000</td>\n",
       "      <td>0.000000</td>\n",
       "      <td>-101.667</td>\n",
       "      <td>21.100</td>\n",
       "    </tr>\n",
       "    <tr>\n",
       "      <th>22</th>\n",
       "      <td>14.500000</td>\n",
       "      <td>4.716991</td>\n",
       "      <td>23.250000</td>\n",
       "      <td>4.303584</td>\n",
       "      <td>31.750000</td>\n",
       "      <td>4.105383</td>\n",
       "      <td>17.583333</td>\n",
       "      <td>22.651190</td>\n",
       "      <td>1.833333</td>\n",
       "      <td>0.687184</td>\n",
       "      <td>18928.166667</td>\n",
       "      <td>3372.099243</td>\n",
       "      <td>3.000000</td>\n",
       "      <td>0.000000</td>\n",
       "      <td>-105.420</td>\n",
       "      <td>26.770</td>\n",
       "    </tr>\n",
       "    <tr>\n",
       "      <th>23</th>\n",
       "      <td>9.250000</td>\n",
       "      <td>3.538479</td>\n",
       "      <td>17.416667</td>\n",
       "      <td>3.377828</td>\n",
       "      <td>25.583333</td>\n",
       "      <td>3.751851</td>\n",
       "      <td>44.000000</td>\n",
       "      <td>44.894320</td>\n",
       "      <td>1.250000</td>\n",
       "      <td>0.433013</td>\n",
       "      <td>17575.000000</td>\n",
       "      <td>2977.620443</td>\n",
       "      <td>2.416667</td>\n",
       "      <td>0.493007</td>\n",
       "      <td>-110.311</td>\n",
       "      <td>24.008</td>\n",
       "    </tr>\n",
       "    <tr>\n",
       "      <th>24</th>\n",
       "      <td>9.583333</td>\n",
       "      <td>2.722080</td>\n",
       "      <td>18.000000</td>\n",
       "      <td>2.645751</td>\n",
       "      <td>26.083333</td>\n",
       "      <td>2.752524</td>\n",
       "      <td>45.750000</td>\n",
       "      <td>42.575668</td>\n",
       "      <td>1.000000</td>\n",
       "      <td>0.000000</td>\n",
       "      <td>18881.833333</td>\n",
       "      <td>2361.063632</td>\n",
       "      <td>2.166667</td>\n",
       "      <td>0.372678</td>\n",
       "      <td>-110.311</td>\n",
       "      <td>24.008</td>\n",
       "    </tr>\n",
       "    <tr>\n",
       "      <th>25</th>\n",
       "      <td>10.000000</td>\n",
       "      <td>2.081666</td>\n",
       "      <td>15.666667</td>\n",
       "      <td>1.929306</td>\n",
       "      <td>21.583333</td>\n",
       "      <td>2.059868</td>\n",
       "      <td>99.416667</td>\n",
       "      <td>105.664136</td>\n",
       "      <td>1.250000</td>\n",
       "      <td>0.433013</td>\n",
       "      <td>18375.416667</td>\n",
       "      <td>2524.371884</td>\n",
       "      <td>2.000000</td>\n",
       "      <td>0.000000</td>\n",
       "      <td>-104.655</td>\n",
       "      <td>24.025</td>\n",
       "    </tr>\n",
       "    <tr>\n",
       "      <th>26</th>\n",
       "      <td>11.750000</td>\n",
       "      <td>5.945937</td>\n",
       "      <td>21.750000</td>\n",
       "      <td>5.945937</td>\n",
       "      <td>32.083333</td>\n",
       "      <td>5.880169</td>\n",
       "      <td>41.583333</td>\n",
       "      <td>44.584112</td>\n",
       "      <td>1.250000</td>\n",
       "      <td>0.433013</td>\n",
       "      <td>18624.833333</td>\n",
       "      <td>4605.134740</td>\n",
       "      <td>2.333333</td>\n",
       "      <td>0.471405</td>\n",
       "      <td>-100.267</td>\n",
       "      <td>20.600</td>\n",
       "    </tr>\n",
       "    <tr>\n",
       "      <th>27</th>\n",
       "      <td>11.750000</td>\n",
       "      <td>5.945937</td>\n",
       "      <td>21.750000</td>\n",
       "      <td>5.945937</td>\n",
       "      <td>32.083333</td>\n",
       "      <td>5.880169</td>\n",
       "      <td>41.583333</td>\n",
       "      <td>44.584112</td>\n",
       "      <td>1.250000</td>\n",
       "      <td>0.433013</td>\n",
       "      <td>18624.833333</td>\n",
       "      <td>4605.134740</td>\n",
       "      <td>2.333333</td>\n",
       "      <td>0.471405</td>\n",
       "      <td>-104.380</td>\n",
       "      <td>20.950</td>\n",
       "    </tr>\n",
       "    <tr>\n",
       "      <th>28</th>\n",
       "      <td>10.666667</td>\n",
       "      <td>5.088113</td>\n",
       "      <td>18.250000</td>\n",
       "      <td>5.277705</td>\n",
       "      <td>25.916667</td>\n",
       "      <td>5.155229</td>\n",
       "      <td>29.666667</td>\n",
       "      <td>27.557012</td>\n",
       "      <td>1.250000</td>\n",
       "      <td>0.433013</td>\n",
       "      <td>17292.833333</td>\n",
       "      <td>3916.856240</td>\n",
       "      <td>2.583333</td>\n",
       "      <td>0.493007</td>\n",
       "      <td>-110.389</td>\n",
       "      <td>29.558</td>\n",
       "    </tr>\n",
       "    <tr>\n",
       "      <th>29</th>\n",
       "      <td>11.166667</td>\n",
       "      <td>4.393809</td>\n",
       "      <td>21.000000</td>\n",
       "      <td>4.490731</td>\n",
       "      <td>30.833333</td>\n",
       "      <td>4.393809</td>\n",
       "      <td>32.166667</td>\n",
       "      <td>32.682394</td>\n",
       "      <td>1.250000</td>\n",
       "      <td>0.433013</td>\n",
       "      <td>17218.916667</td>\n",
       "      <td>3301.991456</td>\n",
       "      <td>2.250000</td>\n",
       "      <td>0.433013</td>\n",
       "      <td>-110.389</td>\n",
       "      <td>29.558</td>\n",
       "    </tr>\n",
       "    <tr>\n",
       "      <th>...</th>\n",
       "      <td>...</td>\n",
       "      <td>...</td>\n",
       "      <td>...</td>\n",
       "      <td>...</td>\n",
       "      <td>...</td>\n",
       "      <td>...</td>\n",
       "      <td>...</td>\n",
       "      <td>...</td>\n",
       "      <td>...</td>\n",
       "      <td>...</td>\n",
       "      <td>...</td>\n",
       "      <td>...</td>\n",
       "      <td>...</td>\n",
       "      <td>...</td>\n",
       "      <td>...</td>\n",
       "      <td>...</td>\n",
       "    </tr>\n",
       "    <tr>\n",
       "      <th>184</th>\n",
       "      <td>18.333333</td>\n",
       "      <td>3.064129</td>\n",
       "      <td>25.166667</td>\n",
       "      <td>3.337497</td>\n",
       "      <td>31.916667</td>\n",
       "      <td>3.451047</td>\n",
       "      <td>74.166667</td>\n",
       "      <td>84.170297</td>\n",
       "      <td>1.833333</td>\n",
       "      <td>0.799305</td>\n",
       "      <td>17996.333333</td>\n",
       "      <td>3382.911796</td>\n",
       "      <td>1.666667</td>\n",
       "      <td>0.471405</td>\n",
       "      <td>-101.680</td>\n",
       "      <td>21.118</td>\n",
       "    </tr>\n",
       "    <tr>\n",
       "      <th>185</th>\n",
       "      <td>11.000000</td>\n",
       "      <td>5.845226</td>\n",
       "      <td>20.416667</td>\n",
       "      <td>5.707573</td>\n",
       "      <td>30.083333</td>\n",
       "      <td>5.837499</td>\n",
       "      <td>44.000000</td>\n",
       "      <td>45.359674</td>\n",
       "      <td>1.250000</td>\n",
       "      <td>0.433013</td>\n",
       "      <td>18914.166667</td>\n",
       "      <td>4768.311019</td>\n",
       "      <td>2.500000</td>\n",
       "      <td>0.500000</td>\n",
       "      <td>-101.680</td>\n",
       "      <td>21.118</td>\n",
       "    </tr>\n",
       "    <tr>\n",
       "      <th>186</th>\n",
       "      <td>13.166667</td>\n",
       "      <td>4.687454</td>\n",
       "      <td>20.916667</td>\n",
       "      <td>4.517712</td>\n",
       "      <td>28.666667</td>\n",
       "      <td>4.459696</td>\n",
       "      <td>25.833333</td>\n",
       "      <td>29.529176</td>\n",
       "      <td>1.416667</td>\n",
       "      <td>0.493007</td>\n",
       "      <td>18973.333333</td>\n",
       "      <td>3643.098185</td>\n",
       "      <td>2.250000</td>\n",
       "      <td>0.433013</td>\n",
       "      <td>-100.475</td>\n",
       "      <td>20.552</td>\n",
       "    </tr>\n",
       "    <tr>\n",
       "      <th>187</th>\n",
       "      <td>15.750000</td>\n",
       "      <td>4.284176</td>\n",
       "      <td>23.750000</td>\n",
       "      <td>4.284176</td>\n",
       "      <td>31.750000</td>\n",
       "      <td>4.284176</td>\n",
       "      <td>51.500000</td>\n",
       "      <td>58.340238</td>\n",
       "      <td>1.416667</td>\n",
       "      <td>0.493007</td>\n",
       "      <td>18344.583333</td>\n",
       "      <td>3929.239313</td>\n",
       "      <td>2.000000</td>\n",
       "      <td>0.000000</td>\n",
       "      <td>-103.833</td>\n",
       "      <td>20.883</td>\n",
       "    </tr>\n",
       "    <tr>\n",
       "      <th>188</th>\n",
       "      <td>15.750000</td>\n",
       "      <td>4.284176</td>\n",
       "      <td>23.750000</td>\n",
       "      <td>4.284176</td>\n",
       "      <td>31.750000</td>\n",
       "      <td>4.284176</td>\n",
       "      <td>51.500000</td>\n",
       "      <td>58.340238</td>\n",
       "      <td>1.416667</td>\n",
       "      <td>0.493007</td>\n",
       "      <td>18344.583333</td>\n",
       "      <td>3929.239313</td>\n",
       "      <td>2.000000</td>\n",
       "      <td>0.000000</td>\n",
       "      <td>-103.398</td>\n",
       "      <td>20.782</td>\n",
       "    </tr>\n",
       "    <tr>\n",
       "      <th>189</th>\n",
       "      <td>14.000000</td>\n",
       "      <td>4.898979</td>\n",
       "      <td>21.333333</td>\n",
       "      <td>4.660710</td>\n",
       "      <td>28.666667</td>\n",
       "      <td>4.459696</td>\n",
       "      <td>25.000000</td>\n",
       "      <td>29.504237</td>\n",
       "      <td>1.416667</td>\n",
       "      <td>0.493007</td>\n",
       "      <td>18986.250000</td>\n",
       "      <td>3634.821342</td>\n",
       "      <td>2.500000</td>\n",
       "      <td>0.500000</td>\n",
       "      <td>-102.778</td>\n",
       "      <td>20.070</td>\n",
       "    </tr>\n",
       "    <tr>\n",
       "      <th>190</th>\n",
       "      <td>14.250000</td>\n",
       "      <td>4.303584</td>\n",
       "      <td>21.166667</td>\n",
       "      <td>4.258977</td>\n",
       "      <td>28.250000</td>\n",
       "      <td>4.145781</td>\n",
       "      <td>34.166667</td>\n",
       "      <td>47.001478</td>\n",
       "      <td>1.500000</td>\n",
       "      <td>0.500000</td>\n",
       "      <td>18878.666667</td>\n",
       "      <td>3312.727334</td>\n",
       "      <td>2.916667</td>\n",
       "      <td>0.276385</td>\n",
       "      <td>-103.192</td>\n",
       "      <td>20.348</td>\n",
       "    </tr>\n",
       "    <tr>\n",
       "      <th>191</th>\n",
       "      <td>13.500000</td>\n",
       "      <td>5.155903</td>\n",
       "      <td>21.000000</td>\n",
       "      <td>4.932883</td>\n",
       "      <td>28.583333</td>\n",
       "      <td>4.838359</td>\n",
       "      <td>24.083333</td>\n",
       "      <td>27.611768</td>\n",
       "      <td>1.416667</td>\n",
       "      <td>0.493007</td>\n",
       "      <td>18953.666667</td>\n",
       "      <td>3708.323595</td>\n",
       "      <td>2.250000</td>\n",
       "      <td>0.433013</td>\n",
       "      <td>-106.930</td>\n",
       "      <td>25.107</td>\n",
       "    </tr>\n",
       "    <tr>\n",
       "      <th>192</th>\n",
       "      <td>17.083333</td>\n",
       "      <td>5.765679</td>\n",
       "      <td>24.416667</td>\n",
       "      <td>5.559651</td>\n",
       "      <td>31.500000</td>\n",
       "      <td>5.469613</td>\n",
       "      <td>12.333333</td>\n",
       "      <td>12.657892</td>\n",
       "      <td>1.833333</td>\n",
       "      <td>0.799305</td>\n",
       "      <td>18877.833333</td>\n",
       "      <td>3868.704754</td>\n",
       "      <td>3.000000</td>\n",
       "      <td>0.000000</td>\n",
       "      <td>-106.930</td>\n",
       "      <td>25.107</td>\n",
       "    </tr>\n",
       "    <tr>\n",
       "      <th>193</th>\n",
       "      <td>13.166667</td>\n",
       "      <td>4.669642</td>\n",
       "      <td>21.000000</td>\n",
       "      <td>4.527693</td>\n",
       "      <td>28.666667</td>\n",
       "      <td>4.459696</td>\n",
       "      <td>24.250000</td>\n",
       "      <td>27.655997</td>\n",
       "      <td>1.416667</td>\n",
       "      <td>0.493007</td>\n",
       "      <td>18995.000000</td>\n",
       "      <td>3677.986292</td>\n",
       "      <td>2.250000</td>\n",
       "      <td>0.433013</td>\n",
       "      <td>-110.956</td>\n",
       "      <td>29.029</td>\n",
       "    </tr>\n",
       "    <tr>\n",
       "      <th>194</th>\n",
       "      <td>13.166667</td>\n",
       "      <td>4.669642</td>\n",
       "      <td>21.000000</td>\n",
       "      <td>4.527693</td>\n",
       "      <td>28.666667</td>\n",
       "      <td>4.459696</td>\n",
       "      <td>24.250000</td>\n",
       "      <td>27.655997</td>\n",
       "      <td>1.416667</td>\n",
       "      <td>0.493007</td>\n",
       "      <td>18995.000000</td>\n",
       "      <td>3677.986292</td>\n",
       "      <td>2.250000</td>\n",
       "      <td>0.433013</td>\n",
       "      <td>-110.966</td>\n",
       "      <td>29.017</td>\n",
       "    </tr>\n",
       "    <tr>\n",
       "      <th>195</th>\n",
       "      <td>13.166667</td>\n",
       "      <td>4.669642</td>\n",
       "      <td>21.000000</td>\n",
       "      <td>4.527693</td>\n",
       "      <td>28.666667</td>\n",
       "      <td>4.459696</td>\n",
       "      <td>24.250000</td>\n",
       "      <td>27.655997</td>\n",
       "      <td>1.416667</td>\n",
       "      <td>0.493007</td>\n",
       "      <td>18995.000000</td>\n",
       "      <td>3677.986292</td>\n",
       "      <td>2.250000</td>\n",
       "      <td>0.433013</td>\n",
       "      <td>-110.966</td>\n",
       "      <td>29.017</td>\n",
       "    </tr>\n",
       "    <tr>\n",
       "      <th>196</th>\n",
       "      <td>15.166667</td>\n",
       "      <td>4.963758</td>\n",
       "      <td>22.750000</td>\n",
       "      <td>4.566636</td>\n",
       "      <td>30.416667</td>\n",
       "      <td>4.271189</td>\n",
       "      <td>19.583333</td>\n",
       "      <td>24.783927</td>\n",
       "      <td>1.750000</td>\n",
       "      <td>0.721688</td>\n",
       "      <td>18937.416667</td>\n",
       "      <td>3566.501892</td>\n",
       "      <td>3.000000</td>\n",
       "      <td>0.000000</td>\n",
       "      <td>-110.867</td>\n",
       "      <td>27.883</td>\n",
       "    </tr>\n",
       "    <tr>\n",
       "      <th>197</th>\n",
       "      <td>15.166667</td>\n",
       "      <td>4.963758</td>\n",
       "      <td>22.750000</td>\n",
       "      <td>4.566636</td>\n",
       "      <td>30.416667</td>\n",
       "      <td>4.271189</td>\n",
       "      <td>19.583333</td>\n",
       "      <td>24.783927</td>\n",
       "      <td>1.750000</td>\n",
       "      <td>0.721688</td>\n",
       "      <td>18937.416667</td>\n",
       "      <td>3566.501892</td>\n",
       "      <td>3.000000</td>\n",
       "      <td>0.000000</td>\n",
       "      <td>-110.867</td>\n",
       "      <td>27.883</td>\n",
       "    </tr>\n",
       "    <tr>\n",
       "      <th>198</th>\n",
       "      <td>13.250000</td>\n",
       "      <td>4.798003</td>\n",
       "      <td>21.833333</td>\n",
       "      <td>4.651762</td>\n",
       "      <td>30.000000</td>\n",
       "      <td>4.564355</td>\n",
       "      <td>17.250000</td>\n",
       "      <td>18.056047</td>\n",
       "      <td>1.416667</td>\n",
       "      <td>0.493007</td>\n",
       "      <td>18995.916667</td>\n",
       "      <td>3716.359968</td>\n",
       "      <td>2.250000</td>\n",
       "      <td>0.433013</td>\n",
       "      <td>-109.000</td>\n",
       "      <td>26.000</td>\n",
       "    </tr>\n",
       "    <tr>\n",
       "      <th>199</th>\n",
       "      <td>13.250000</td>\n",
       "      <td>4.798003</td>\n",
       "      <td>21.833333</td>\n",
       "      <td>4.651762</td>\n",
       "      <td>30.000000</td>\n",
       "      <td>4.564355</td>\n",
       "      <td>17.250000</td>\n",
       "      <td>18.056047</td>\n",
       "      <td>1.416667</td>\n",
       "      <td>0.493007</td>\n",
       "      <td>18995.916667</td>\n",
       "      <td>3716.359968</td>\n",
       "      <td>2.250000</td>\n",
       "      <td>0.433013</td>\n",
       "      <td>-106.797</td>\n",
       "      <td>24.638</td>\n",
       "    </tr>\n",
       "    <tr>\n",
       "      <th>200</th>\n",
       "      <td>13.916667</td>\n",
       "      <td>4.172496</td>\n",
       "      <td>22.416667</td>\n",
       "      <td>3.882833</td>\n",
       "      <td>30.833333</td>\n",
       "      <td>3.578485</td>\n",
       "      <td>13.666667</td>\n",
       "      <td>16.514304</td>\n",
       "      <td>1.833333</td>\n",
       "      <td>0.687184</td>\n",
       "      <td>18957.000000</td>\n",
       "      <td>3313.459094</td>\n",
       "      <td>2.833333</td>\n",
       "      <td>0.372678</td>\n",
       "      <td>-110.280</td>\n",
       "      <td>29.930</td>\n",
       "    </tr>\n",
       "    <tr>\n",
       "      <th>201</th>\n",
       "      <td>13.916667</td>\n",
       "      <td>4.172496</td>\n",
       "      <td>22.416667</td>\n",
       "      <td>3.882833</td>\n",
       "      <td>30.833333</td>\n",
       "      <td>3.578485</td>\n",
       "      <td>13.666667</td>\n",
       "      <td>16.514304</td>\n",
       "      <td>1.833333</td>\n",
       "      <td>0.687184</td>\n",
       "      <td>18957.000000</td>\n",
       "      <td>3313.459094</td>\n",
       "      <td>2.833333</td>\n",
       "      <td>0.372678</td>\n",
       "      <td>-111.567</td>\n",
       "      <td>25.850</td>\n",
       "    </tr>\n",
       "    <tr>\n",
       "      <th>202</th>\n",
       "      <td>13.916667</td>\n",
       "      <td>4.172496</td>\n",
       "      <td>22.416667</td>\n",
       "      <td>3.882833</td>\n",
       "      <td>30.833333</td>\n",
       "      <td>3.578485</td>\n",
       "      <td>13.666667</td>\n",
       "      <td>16.514304</td>\n",
       "      <td>1.833333</td>\n",
       "      <td>0.687184</td>\n",
       "      <td>18957.000000</td>\n",
       "      <td>3313.459094</td>\n",
       "      <td>2.833333</td>\n",
       "      <td>0.372678</td>\n",
       "      <td>-108.917</td>\n",
       "      <td>26.967</td>\n",
       "    </tr>\n",
       "    <tr>\n",
       "      <th>203</th>\n",
       "      <td>13.916667</td>\n",
       "      <td>4.172496</td>\n",
       "      <td>22.416667</td>\n",
       "      <td>3.882833</td>\n",
       "      <td>30.833333</td>\n",
       "      <td>3.578485</td>\n",
       "      <td>13.666667</td>\n",
       "      <td>16.514304</td>\n",
       "      <td>1.833333</td>\n",
       "      <td>0.687184</td>\n",
       "      <td>18957.000000</td>\n",
       "      <td>3313.459094</td>\n",
       "      <td>2.833333</td>\n",
       "      <td>0.372678</td>\n",
       "      <td>-108.917</td>\n",
       "      <td>26.967</td>\n",
       "    </tr>\n",
       "    <tr>\n",
       "      <th>204</th>\n",
       "      <td>13.416667</td>\n",
       "      <td>4.517712</td>\n",
       "      <td>21.666667</td>\n",
       "      <td>4.229526</td>\n",
       "      <td>29.666667</td>\n",
       "      <td>4.048319</td>\n",
       "      <td>17.833333</td>\n",
       "      <td>18.734253</td>\n",
       "      <td>1.416667</td>\n",
       "      <td>0.493007</td>\n",
       "      <td>18992.833333</td>\n",
       "      <td>3682.371990</td>\n",
       "      <td>2.250000</td>\n",
       "      <td>0.433013</td>\n",
       "      <td>-111.500</td>\n",
       "      <td>25.820</td>\n",
       "    </tr>\n",
       "    <tr>\n",
       "      <th>205</th>\n",
       "      <td>13.416667</td>\n",
       "      <td>4.517712</td>\n",
       "      <td>21.666667</td>\n",
       "      <td>4.229526</td>\n",
       "      <td>29.666667</td>\n",
       "      <td>4.048319</td>\n",
       "      <td>17.833333</td>\n",
       "      <td>18.734253</td>\n",
       "      <td>1.416667</td>\n",
       "      <td>0.493007</td>\n",
       "      <td>18992.833333</td>\n",
       "      <td>3682.371990</td>\n",
       "      <td>2.250000</td>\n",
       "      <td>0.433013</td>\n",
       "      <td>-109.870</td>\n",
       "      <td>23.730</td>\n",
       "    </tr>\n",
       "    <tr>\n",
       "      <th>206</th>\n",
       "      <td>11.333333</td>\n",
       "      <td>5.104464</td>\n",
       "      <td>20.416667</td>\n",
       "      <td>4.940620</td>\n",
       "      <td>29.750000</td>\n",
       "      <td>5.018715</td>\n",
       "      <td>65.500000</td>\n",
       "      <td>66.711443</td>\n",
       "      <td>1.250000</td>\n",
       "      <td>0.433013</td>\n",
       "      <td>18620.250000</td>\n",
       "      <td>4402.706424</td>\n",
       "      <td>2.250000</td>\n",
       "      <td>0.433013</td>\n",
       "      <td>-111.593</td>\n",
       "      <td>26.136</td>\n",
       "    </tr>\n",
       "    <tr>\n",
       "      <th>207</th>\n",
       "      <td>11.333333</td>\n",
       "      <td>5.104464</td>\n",
       "      <td>20.416667</td>\n",
       "      <td>4.940620</td>\n",
       "      <td>29.750000</td>\n",
       "      <td>5.018715</td>\n",
       "      <td>65.500000</td>\n",
       "      <td>66.711443</td>\n",
       "      <td>1.250000</td>\n",
       "      <td>0.433013</td>\n",
       "      <td>18620.250000</td>\n",
       "      <td>4402.706424</td>\n",
       "      <td>2.250000</td>\n",
       "      <td>0.433013</td>\n",
       "      <td>-111.950</td>\n",
       "      <td>26.880</td>\n",
       "    </tr>\n",
       "    <tr>\n",
       "      <th>208</th>\n",
       "      <td>19.000000</td>\n",
       "      <td>3.082207</td>\n",
       "      <td>23.916667</td>\n",
       "      <td>3.067527</td>\n",
       "      <td>28.916667</td>\n",
       "      <td>3.147971</td>\n",
       "      <td>119.666667</td>\n",
       "      <td>62.461099</td>\n",
       "      <td>2.500000</td>\n",
       "      <td>0.500000</td>\n",
       "      <td>16821.416667</td>\n",
       "      <td>2712.090383</td>\n",
       "      <td>2.000000</td>\n",
       "      <td>0.000000</td>\n",
       "      <td>-111.617</td>\n",
       "      <td>25.850</td>\n",
       "    </tr>\n",
       "    <tr>\n",
       "      <th>209</th>\n",
       "      <td>20.666667</td>\n",
       "      <td>1.598611</td>\n",
       "      <td>25.916667</td>\n",
       "      <td>1.656217</td>\n",
       "      <td>31.166667</td>\n",
       "      <td>1.724013</td>\n",
       "      <td>100.500000</td>\n",
       "      <td>50.883036</td>\n",
       "      <td>2.666667</td>\n",
       "      <td>0.471405</td>\n",
       "      <td>18197.583333</td>\n",
       "      <td>2694.318326</td>\n",
       "      <td>2.833333</td>\n",
       "      <td>0.687184</td>\n",
       "      <td>-111.617</td>\n",
       "      <td>25.850</td>\n",
       "    </tr>\n",
       "    <tr>\n",
       "      <th>210</th>\n",
       "      <td>19.083333</td>\n",
       "      <td>1.753964</td>\n",
       "      <td>25.416667</td>\n",
       "      <td>1.891134</td>\n",
       "      <td>32.083333</td>\n",
       "      <td>1.753964</td>\n",
       "      <td>98.333333</td>\n",
       "      <td>51.588651</td>\n",
       "      <td>2.500000</td>\n",
       "      <td>0.500000</td>\n",
       "      <td>18049.166667</td>\n",
       "      <td>2747.717927</td>\n",
       "      <td>2.333333</td>\n",
       "      <td>0.471405</td>\n",
       "      <td>-111.620</td>\n",
       "      <td>25.850</td>\n",
       "    </tr>\n",
       "    <tr>\n",
       "      <th>211</th>\n",
       "      <td>19.083333</td>\n",
       "      <td>1.753964</td>\n",
       "      <td>25.416667</td>\n",
       "      <td>1.891134</td>\n",
       "      <td>32.083333</td>\n",
       "      <td>1.753964</td>\n",
       "      <td>98.333333</td>\n",
       "      <td>51.588651</td>\n",
       "      <td>2.500000</td>\n",
       "      <td>0.500000</td>\n",
       "      <td>18049.166667</td>\n",
       "      <td>2747.717927</td>\n",
       "      <td>2.333333</td>\n",
       "      <td>0.471405</td>\n",
       "      <td>-110.666</td>\n",
       "      <td>24.986</td>\n",
       "    </tr>\n",
       "    <tr>\n",
       "      <th>212</th>\n",
       "      <td>19.250000</td>\n",
       "      <td>1.785357</td>\n",
       "      <td>25.916667</td>\n",
       "      <td>1.934698</td>\n",
       "      <td>32.333333</td>\n",
       "      <td>1.885618</td>\n",
       "      <td>99.916667</td>\n",
       "      <td>62.930462</td>\n",
       "      <td>2.500000</td>\n",
       "      <td>0.500000</td>\n",
       "      <td>18102.416667</td>\n",
       "      <td>2788.290231</td>\n",
       "      <td>2.333333</td>\n",
       "      <td>0.471405</td>\n",
       "      <td>-110.666</td>\n",
       "      <td>24.986</td>\n",
       "    </tr>\n",
       "    <tr>\n",
       "      <th>213</th>\n",
       "      <td>19.250000</td>\n",
       "      <td>1.785357</td>\n",
       "      <td>25.916667</td>\n",
       "      <td>1.934698</td>\n",
       "      <td>32.333333</td>\n",
       "      <td>1.885618</td>\n",
       "      <td>99.916667</td>\n",
       "      <td>62.930462</td>\n",
       "      <td>2.500000</td>\n",
       "      <td>0.500000</td>\n",
       "      <td>18102.416667</td>\n",
       "      <td>2788.290231</td>\n",
       "      <td>2.333333</td>\n",
       "      <td>0.471405</td>\n",
       "      <td>-111.950</td>\n",
       "      <td>26.150</td>\n",
       "    </tr>\n",
       "  </tbody>\n",
       "</table>\n",
       "<p>214 rows × 16 columns</p>\n",
       "</div>"
      ],
      "text/plain": [
       "     MaxTemperature_mean  MaxTemperature_std  MeanTemperature_mean  \\\n",
       "0              14.500000            4.716991             23.250000   \n",
       "1              14.500000            4.716991             23.250000   \n",
       "2              18.500000            5.267827             25.166667   \n",
       "3              13.666667            6.073622             22.916667   \n",
       "4              13.666667            6.073622             22.916667   \n",
       "5              11.583333            5.073761             19.166667   \n",
       "6              15.166667            4.963758             22.750000   \n",
       "7               9.583333            2.722080             18.000000   \n",
       "8              15.333333            5.405758             21.000000   \n",
       "9              15.333333            5.405758             21.000000   \n",
       "10             12.583333            7.135105             21.916667   \n",
       "11             12.583333            7.135105             21.916667   \n",
       "12             15.166667            4.963758             22.750000   \n",
       "13             14.000000            4.898979             22.833333   \n",
       "14             14.000000            4.898979             22.833333   \n",
       "15             12.916667            2.628635             20.666667   \n",
       "16             11.750000            2.861381             19.666667   \n",
       "17             11.750000            2.861381             19.666667   \n",
       "18             11.750000            2.861381             19.666667   \n",
       "19             11.833333            2.793842             19.833333   \n",
       "20              7.833333            5.047001             17.000000   \n",
       "21             14.500000            4.716991             23.250000   \n",
       "22             14.500000            4.716991             23.250000   \n",
       "23              9.250000            3.538479             17.416667   \n",
       "24              9.583333            2.722080             18.000000   \n",
       "25             10.000000            2.081666             15.666667   \n",
       "26             11.750000            5.945937             21.750000   \n",
       "27             11.750000            5.945937             21.750000   \n",
       "28             10.666667            5.088113             18.250000   \n",
       "29             11.166667            4.393809             21.000000   \n",
       "..                   ...                 ...                   ...   \n",
       "184            18.333333            3.064129             25.166667   \n",
       "185            11.000000            5.845226             20.416667   \n",
       "186            13.166667            4.687454             20.916667   \n",
       "187            15.750000            4.284176             23.750000   \n",
       "188            15.750000            4.284176             23.750000   \n",
       "189            14.000000            4.898979             21.333333   \n",
       "190            14.250000            4.303584             21.166667   \n",
       "191            13.500000            5.155903             21.000000   \n",
       "192            17.083333            5.765679             24.416667   \n",
       "193            13.166667            4.669642             21.000000   \n",
       "194            13.166667            4.669642             21.000000   \n",
       "195            13.166667            4.669642             21.000000   \n",
       "196            15.166667            4.963758             22.750000   \n",
       "197            15.166667            4.963758             22.750000   \n",
       "198            13.250000            4.798003             21.833333   \n",
       "199            13.250000            4.798003             21.833333   \n",
       "200            13.916667            4.172496             22.416667   \n",
       "201            13.916667            4.172496             22.416667   \n",
       "202            13.916667            4.172496             22.416667   \n",
       "203            13.916667            4.172496             22.416667   \n",
       "204            13.416667            4.517712             21.666667   \n",
       "205            13.416667            4.517712             21.666667   \n",
       "206            11.333333            5.104464             20.416667   \n",
       "207            11.333333            5.104464             20.416667   \n",
       "208            19.000000            3.082207             23.916667   \n",
       "209            20.666667            1.598611             25.916667   \n",
       "210            19.083333            1.753964             25.416667   \n",
       "211            19.083333            1.753964             25.416667   \n",
       "212            19.250000            1.785357             25.916667   \n",
       "213            19.250000            1.785357             25.916667   \n",
       "\n",
       "     MeanTemperature_std  MinTemperature_mean  MinTemperature_std  \\\n",
       "0               4.303584            31.750000            4.105383   \n",
       "1               4.303584            31.750000            4.105383   \n",
       "2               5.304610            31.666667            5.497474   \n",
       "3               6.075337            32.583333            5.823205   \n",
       "4               6.075337            32.583333            5.823205   \n",
       "5               4.758034            26.666667            4.515406   \n",
       "6               4.566636            30.416667            4.271189   \n",
       "7               2.645751            26.083333            2.752524   \n",
       "8               5.446712            26.583333            5.663602   \n",
       "9               5.446712            26.583333            5.663602   \n",
       "10              6.763361            31.833333            6.580696   \n",
       "11              6.763361            31.833333            6.580696   \n",
       "12              4.566636            30.416667            4.271189   \n",
       "13              4.278499            31.666667            4.068852   \n",
       "14              4.278499            31.666667            4.068852   \n",
       "15              2.321398            28.416667            2.531743   \n",
       "16              2.687419            27.416667            2.782635   \n",
       "17              2.687419            27.416667            2.782635   \n",
       "18              2.687419            27.416667            2.782635   \n",
       "19              2.671870            27.416667            2.782635   \n",
       "20              5.066228            26.166667            5.063486   \n",
       "21              4.303584            31.750000            4.105383   \n",
       "22              4.303584            31.750000            4.105383   \n",
       "23              3.377828            25.583333            3.751851   \n",
       "24              2.645751            26.083333            2.752524   \n",
       "25              1.929306            21.583333            2.059868   \n",
       "26              5.945937            32.083333            5.880169   \n",
       "27              5.945937            32.083333            5.880169   \n",
       "28              5.277705            25.916667            5.155229   \n",
       "29              4.490731            30.833333            4.393809   \n",
       "..                   ...                  ...                 ...   \n",
       "184             3.337497            31.916667            3.451047   \n",
       "185             5.707573            30.083333            5.837499   \n",
       "186             4.517712            28.666667            4.459696   \n",
       "187             4.284176            31.750000            4.284176   \n",
       "188             4.284176            31.750000            4.284176   \n",
       "189             4.660710            28.666667            4.459696   \n",
       "190             4.258977            28.250000            4.145781   \n",
       "191             4.932883            28.583333            4.838359   \n",
       "192             5.559651            31.500000            5.469613   \n",
       "193             4.527693            28.666667            4.459696   \n",
       "194             4.527693            28.666667            4.459696   \n",
       "195             4.527693            28.666667            4.459696   \n",
       "196             4.566636            30.416667            4.271189   \n",
       "197             4.566636            30.416667            4.271189   \n",
       "198             4.651762            30.000000            4.564355   \n",
       "199             4.651762            30.000000            4.564355   \n",
       "200             3.882833            30.833333            3.578485   \n",
       "201             3.882833            30.833333            3.578485   \n",
       "202             3.882833            30.833333            3.578485   \n",
       "203             3.882833            30.833333            3.578485   \n",
       "204             4.229526            29.666667            4.048319   \n",
       "205             4.229526            29.666667            4.048319   \n",
       "206             4.940620            29.750000            5.018715   \n",
       "207             4.940620            29.750000            5.018715   \n",
       "208             3.067527            28.916667            3.147971   \n",
       "209             1.656217            31.166667            1.724013   \n",
       "210             1.891134            32.083333            1.753964   \n",
       "211             1.891134            32.083333            1.753964   \n",
       "212             1.934698            32.333333            1.885618   \n",
       "213             1.934698            32.333333            1.885618   \n",
       "\n",
       "     Precipitation_mean  Precipitation_std  Vapor_mean  Vapor_std  \\\n",
       "0             17.583333          22.651190    1.833333   0.687184   \n",
       "1             17.583333          22.651190    1.833333   0.687184   \n",
       "2             18.333333          19.787763    1.750000   0.829156   \n",
       "3             25.000000          27.658633    1.500000   0.645497   \n",
       "4             25.000000          27.658633    1.500000   0.645497   \n",
       "5             11.583333           7.576920    1.416667   0.493007   \n",
       "6             19.583333          24.783927    1.750000   0.721688   \n",
       "7             45.750000          42.575668    1.000000   0.000000   \n",
       "8             11.666667          11.374924    1.750000   0.829156   \n",
       "9             11.666667          11.374924    1.750000   0.829156   \n",
       "10            18.250000          15.226758    1.333333   0.471405   \n",
       "11            18.250000          15.226758    1.333333   0.471405   \n",
       "12            19.583333          24.783927    1.750000   0.721688   \n",
       "13            19.083333          22.717315    1.583333   0.493007   \n",
       "14            19.083333          22.717315    1.583333   0.493007   \n",
       "15            43.583333          35.243104    1.583333   0.493007   \n",
       "16            51.333333          51.396066    1.250000   0.433013   \n",
       "17            51.333333          51.396066    1.250000   0.433013   \n",
       "18            51.333333          51.396066    1.250000   0.433013   \n",
       "19            50.666667          51.848069    1.250000   0.433013   \n",
       "20            40.000000          42.967042    1.166667   0.372678   \n",
       "21            17.583333          22.651190    1.833333   0.687184   \n",
       "22            17.583333          22.651190    1.833333   0.687184   \n",
       "23            44.000000          44.894320    1.250000   0.433013   \n",
       "24            45.750000          42.575668    1.000000   0.000000   \n",
       "25            99.416667         105.664136    1.250000   0.433013   \n",
       "26            41.583333          44.584112    1.250000   0.433013   \n",
       "27            41.583333          44.584112    1.250000   0.433013   \n",
       "28            29.666667          27.557012    1.250000   0.433013   \n",
       "29            32.166667          32.682394    1.250000   0.433013   \n",
       "..                  ...                ...         ...        ...   \n",
       "184           74.166667          84.170297    1.833333   0.799305   \n",
       "185           44.000000          45.359674    1.250000   0.433013   \n",
       "186           25.833333          29.529176    1.416667   0.493007   \n",
       "187           51.500000          58.340238    1.416667   0.493007   \n",
       "188           51.500000          58.340238    1.416667   0.493007   \n",
       "189           25.000000          29.504237    1.416667   0.493007   \n",
       "190           34.166667          47.001478    1.500000   0.500000   \n",
       "191           24.083333          27.611768    1.416667   0.493007   \n",
       "192           12.333333          12.657892    1.833333   0.799305   \n",
       "193           24.250000          27.655997    1.416667   0.493007   \n",
       "194           24.250000          27.655997    1.416667   0.493007   \n",
       "195           24.250000          27.655997    1.416667   0.493007   \n",
       "196           19.583333          24.783927    1.750000   0.721688   \n",
       "197           19.583333          24.783927    1.750000   0.721688   \n",
       "198           17.250000          18.056047    1.416667   0.493007   \n",
       "199           17.250000          18.056047    1.416667   0.493007   \n",
       "200           13.666667          16.514304    1.833333   0.687184   \n",
       "201           13.666667          16.514304    1.833333   0.687184   \n",
       "202           13.666667          16.514304    1.833333   0.687184   \n",
       "203           13.666667          16.514304    1.833333   0.687184   \n",
       "204           17.833333          18.734253    1.416667   0.493007   \n",
       "205           17.833333          18.734253    1.416667   0.493007   \n",
       "206           65.500000          66.711443    1.250000   0.433013   \n",
       "207           65.500000          66.711443    1.250000   0.433013   \n",
       "208          119.666667          62.461099    2.500000   0.500000   \n",
       "209          100.500000          50.883036    2.666667   0.471405   \n",
       "210           98.333333          51.588651    2.500000   0.500000   \n",
       "211           98.333333          51.588651    2.500000   0.500000   \n",
       "212           99.916667          62.930462    2.500000   0.500000   \n",
       "213           99.916667          62.930462    2.500000   0.500000   \n",
       "\n",
       "     SolarRadiation_mean  SolarRadiation_std  WindSpeed_mean  WindSpeed_std  \\\n",
       "0           18928.166667         3372.099243        3.000000       0.000000   \n",
       "1           18928.166667         3372.099243        3.000000       0.000000   \n",
       "2           18665.000000         4255.209317        3.000000       0.000000   \n",
       "3           18472.000000         4512.020242        2.000000       0.000000   \n",
       "4           18472.000000         4512.020242        2.000000       0.000000   \n",
       "5           19196.250000         4439.565766        2.583333       0.493007   \n",
       "6           18937.416667         3566.501892        3.000000       0.000000   \n",
       "7           18881.833333         2361.063632        2.166667       0.372678   \n",
       "8           18753.500000         4365.401232        3.000000       0.000000   \n",
       "9           18753.500000         4365.401232        3.000000       0.000000   \n",
       "10          19219.250000         5117.709044        2.083333       0.276385   \n",
       "11          19219.250000         5117.709044        2.083333       0.276385   \n",
       "12          18937.416667         3566.501892        3.000000       0.000000   \n",
       "13          19012.500000         3440.877202        2.250000       0.433013   \n",
       "14          19012.500000         3440.877202        2.250000       0.433013   \n",
       "15          18665.000000         2419.889219        1.833333       0.372678   \n",
       "16          18086.666667         2282.333650        2.000000       0.000000   \n",
       "17          18086.666667         2282.333650        2.000000       0.000000   \n",
       "18          18086.666667         2282.333650        2.000000       0.000000   \n",
       "19          18230.416667         2326.845449        2.000000       0.000000   \n",
       "20          17437.500000         3696.615197        2.500000       0.500000   \n",
       "21          18928.166667         3372.099243        3.000000       0.000000   \n",
       "22          18928.166667         3372.099243        3.000000       0.000000   \n",
       "23          17575.000000         2977.620443        2.416667       0.493007   \n",
       "24          18881.833333         2361.063632        2.166667       0.372678   \n",
       "25          18375.416667         2524.371884        2.000000       0.000000   \n",
       "26          18624.833333         4605.134740        2.333333       0.471405   \n",
       "27          18624.833333         4605.134740        2.333333       0.471405   \n",
       "28          17292.833333         3916.856240        2.583333       0.493007   \n",
       "29          17218.916667         3301.991456        2.250000       0.433013   \n",
       "..                   ...                 ...             ...            ...   \n",
       "184         17996.333333         3382.911796        1.666667       0.471405   \n",
       "185         18914.166667         4768.311019        2.500000       0.500000   \n",
       "186         18973.333333         3643.098185        2.250000       0.433013   \n",
       "187         18344.583333         3929.239313        2.000000       0.000000   \n",
       "188         18344.583333         3929.239313        2.000000       0.000000   \n",
       "189         18986.250000         3634.821342        2.500000       0.500000   \n",
       "190         18878.666667         3312.727334        2.916667       0.276385   \n",
       "191         18953.666667         3708.323595        2.250000       0.433013   \n",
       "192         18877.833333         3868.704754        3.000000       0.000000   \n",
       "193         18995.000000         3677.986292        2.250000       0.433013   \n",
       "194         18995.000000         3677.986292        2.250000       0.433013   \n",
       "195         18995.000000         3677.986292        2.250000       0.433013   \n",
       "196         18937.416667         3566.501892        3.000000       0.000000   \n",
       "197         18937.416667         3566.501892        3.000000       0.000000   \n",
       "198         18995.916667         3716.359968        2.250000       0.433013   \n",
       "199         18995.916667         3716.359968        2.250000       0.433013   \n",
       "200         18957.000000         3313.459094        2.833333       0.372678   \n",
       "201         18957.000000         3313.459094        2.833333       0.372678   \n",
       "202         18957.000000         3313.459094        2.833333       0.372678   \n",
       "203         18957.000000         3313.459094        2.833333       0.372678   \n",
       "204         18992.833333         3682.371990        2.250000       0.433013   \n",
       "205         18992.833333         3682.371990        2.250000       0.433013   \n",
       "206         18620.250000         4402.706424        2.250000       0.433013   \n",
       "207         18620.250000         4402.706424        2.250000       0.433013   \n",
       "208         16821.416667         2712.090383        2.000000       0.000000   \n",
       "209         18197.583333         2694.318326        2.833333       0.687184   \n",
       "210         18049.166667         2747.717927        2.333333       0.471405   \n",
       "211         18049.166667         2747.717927        2.333333       0.471405   \n",
       "212         18102.416667         2788.290231        2.333333       0.471405   \n",
       "213         18102.416667         2788.290231        2.333333       0.471405   \n",
       "\n",
       "           x       y  \n",
       "0   -110.311  24.008  \n",
       "1   -110.311  24.008  \n",
       "2   -111.047  27.964  \n",
       "3   -110.956  29.001  \n",
       "4   -110.956  29.001  \n",
       "5   -113.910  29.160  \n",
       "6   -110.666  24.986  \n",
       "7   -100.267  20.600  \n",
       "8   -111.931  28.738  \n",
       "9   -111.931  28.738  \n",
       "10  -112.250  30.700  \n",
       "11  -112.250  30.700  \n",
       "12  -110.666  24.986  \n",
       "13  -111.067  24.850  \n",
       "14  -111.067  24.850  \n",
       "15  -108.955  26.983  \n",
       "16  -108.955  26.983  \n",
       "17   -98.670  20.470  \n",
       "18  -101.680  21.118  \n",
       "19  -101.680  21.118  \n",
       "20  -101.680  21.118  \n",
       "21  -101.667  21.100  \n",
       "22  -105.420  26.770  \n",
       "23  -110.311  24.008  \n",
       "24  -110.311  24.008  \n",
       "25  -104.655  24.025  \n",
       "26  -100.267  20.600  \n",
       "27  -104.380  20.950  \n",
       "28  -110.389  29.558  \n",
       "29  -110.389  29.558  \n",
       "..       ...     ...  \n",
       "184 -101.680  21.118  \n",
       "185 -101.680  21.118  \n",
       "186 -100.475  20.552  \n",
       "187 -103.833  20.883  \n",
       "188 -103.398  20.782  \n",
       "189 -102.778  20.070  \n",
       "190 -103.192  20.348  \n",
       "191 -106.930  25.107  \n",
       "192 -106.930  25.107  \n",
       "193 -110.956  29.029  \n",
       "194 -110.966  29.017  \n",
       "195 -110.966  29.017  \n",
       "196 -110.867  27.883  \n",
       "197 -110.867  27.883  \n",
       "198 -109.000  26.000  \n",
       "199 -106.797  24.638  \n",
       "200 -110.280  29.930  \n",
       "201 -111.567  25.850  \n",
       "202 -108.917  26.967  \n",
       "203 -108.917  26.967  \n",
       "204 -111.500  25.820  \n",
       "205 -109.870  23.730  \n",
       "206 -111.593  26.136  \n",
       "207 -111.950  26.880  \n",
       "208 -111.617  25.850  \n",
       "209 -111.617  25.850  \n",
       "210 -111.620  25.850  \n",
       "211 -110.666  24.986  \n",
       "212 -110.666  24.986  \n",
       "213 -111.950  26.150  \n",
       "\n",
       "[214 rows x 16 columns]"
      ]
     },
     "execution_count": 41,
     "metadata": {},
     "output_type": "execute_result"
    }
   ],
   "source": [
    "pnts_env_burs"
   ]
  },
  {
   "cell_type": "markdown",
   "metadata": {},
   "source": [
    "## General aproach"
   ]
  },
  {
   "cell_type": "code",
   "execution_count": 72,
   "metadata": {
    "collapsed": true
   },
   "outputs": [],
   "source": [
    "r = redis.StrictRedis(host='redis', port=6379, db=0)"
   ]
  },
  {
   "cell_type": "code",
   "execution_count": 73,
   "metadata": {
    "collapsed": false
   },
   "outputs": [
    {
     "data": {
      "text/plain": [
       "True"
      ]
     },
     "execution_count": 73,
     "metadata": {},
     "output_type": "execute_result"
    }
   ],
   "source": [
    "r.set('example2',pnts_env_burs.to_msgpack())"
   ]
  },
  {
   "cell_type": "markdown",
   "metadata": {},
   "source": [
    "###  TO export into R\n",
    "An option could be to use r2py but I've been experimeting with the Redis database. The idea is to store the dataframe as a CSV string and store it in a key : value ."
   ]
  },
  {
   "cell_type": "code",
   "execution_count": 79,
   "metadata": {
    "collapsed": false
   },
   "outputs": [
    {
     "data": {
      "text/plain": [
       "True"
      ]
     },
     "execution_count": 79,
     "metadata": {},
     "output_type": "execute_result"
    }
   ],
   "source": [
    "r.set('example4',pnts_env_burs.to_csv())"
   ]
  },
  {
   "cell_type": "markdown",
   "metadata": {},
   "source": [
    "In R it is very easy to read the data using the redisCMD package.\n",
    "* string_dat = redisGet('example4')\n",
    "con <- textConnection(string_dat)\n",
    "data <- read.csv(con)"
   ]
  },
  {
   "cell_type": "code",
   "execution_count": 45,
   "metadata": {
    "collapsed": true
   },
   "outputs": [],
   "source": [
    "birds = t.to_Animalia.to_Chordata.to_Aves"
   ]
  },
  {
   "cell_type": "code",
   "execution_count": 46,
   "metadata": {
    "collapsed": false
   },
   "outputs": [
    {
     "data": {
      "text/plain": [
       "<TreeNode type: Family id = 343770 name: Burseraceae>"
      ]
     },
     "execution_count": 46,
     "metadata": {},
     "output_type": "execute_result"
    }
   ],
   "source": [
    "bursera"
   ]
  },
  {
   "cell_type": "code",
   "execution_count": 47,
   "metadata": {
    "collapsed": false
   },
   "outputs": [
    {
     "data": {
      "text/plain": [
       "<TreeNode | Class: Aves - n.count : 8- >"
      ]
     },
     "execution_count": 47,
     "metadata": {},
     "output_type": "execute_result"
    }
   ],
   "source": [
    "birds"
   ]
  },
  {
   "cell_type": "code",
   "execution_count": 48,
   "metadata": {
    "collapsed": false
   },
   "outputs": [
    {
     "data": {
      "text/plain": [
       "[<LocalTree Of Life | Root: LUCA - n.count : 14- >,\n",
       " <LocalTree Of Life | Root: LUCA - n.count : 4- >,\n",
       " <LocalTree Of Life | Root: LUCA - n.count : 37- >,\n",
       " <LocalTree Of Life | Root: LUCA - n.count : 373- >,\n",
       " <LocalTree Of Life | Root: LUCA - n.count : 5- >,\n",
       " <LocalTree Of Life | Root: LUCA - n.count : 9- >,\n",
       " <LocalTree Of Life | Root: LUCA - n.count : 2- >,\n",
       " <LocalTree Of Life | Root: LUCA - n.count : 59- >,\n",
       " <LocalTree Of Life | Root: LUCA - n.count : 947- >,\n",
       " <LocalTree Of Life | Root: LUCA - n.count : 1052- >]"
      ]
     },
     "execution_count": 48,
     "metadata": {},
     "output_type": "execute_result"
    }
   ],
   "source": [
    "trees"
   ]
  },
  {
   "cell_type": "code",
   "execution_count": 49,
   "metadata": {
    "collapsed": false
   },
   "outputs": [
    {
     "data": {
      "text/plain": [
       "[<LocalTree Of Life | Root: LUCA - n.count : 14- >,\n",
       " <LocalTree Of Life | Root: LUCA - n.count : 373- >,\n",
       " <LocalTree Of Life | Root: LUCA - n.count : 947- >,\n",
       " <LocalTree Of Life | Root: LUCA - n.count : 1052- >]"
      ]
     },
     "execution_count": 49,
     "metadata": {},
     "output_type": "execute_result"
    }
   ],
   "source": [
    "filter(lambda tree : tree.hasNode(birds),trees)"
   ]
  },
  {
   "cell_type": "code",
   "execution_count": 56,
   "metadata": {
    "collapsed": true
   },
   "outputs": [],
   "source": [
    "getNeighbourhood = lambda tree : tree.getNeighboringTrees()"
   ]
  },
  {
   "cell_type": "code",
   "execution_count": null,
   "metadata": {
    "collapsed": true
   },
   "outputs": [],
   "source": []
  }
 ],
 "metadata": {
  "kernelspec": {
   "display_name": "Django Shell-Plus",
   "language": "python",
   "name": "django_extensions"
  },
  "language_info": {
   "codemirror_mode": {
    "name": "ipython",
    "version": 2
   },
   "file_extension": ".py",
   "mimetype": "text/x-python",
   "name": "python",
   "nbconvert_exporter": "python",
   "pygments_lexer": "ipython2",
   "version": "2.7.11"
  }
 },
 "nbformat": 4,
 "nbformat_minor": 0
}
