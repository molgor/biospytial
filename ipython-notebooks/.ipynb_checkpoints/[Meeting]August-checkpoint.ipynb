{
 "cells": [
  {
   "cell_type": "markdown",
   "metadata": {},
   "source": [
    "# Meeting with Pete (09/08/2018)\n",
    "## Gaussian Markov Random Fields\n",
    "* [Link to notebook](http://panthera:8888/notebooks/external_plugins/spystats/notebooks/Sandboxes/GMRF/Stationary_with_fft.ipynb)\n",
    "\n",
    "## Modelling the signal (sampled from full Gaussian Field)\n",
    "* [Link to notebook](http://panthera:8888/notebooks/ipython-notebooks/demos/statistical_models/binomial_examples/presence-only_model/Modelling_the_sample.ipynb)\n",
    "\n",
    "## Thesis Structure\n",
    "1. Introduction\n",
    "2. Model-Based Geostatistics for integrative Biodiversity Science\n",
    "3. Knowledge Engine for ecological synthesis\n",
    "4. Graph-Based models for spatial statistics (currently working in)\n",
    "5. Discussions\n",
    "\n"
   ]
  },
  {
   "cell_type": "code",
   "execution_count": null,
   "metadata": {},
   "outputs": [],
   "source": []
  },
  {
   "cell_type": "code",
   "execution_count": null,
   "metadata": {},
   "outputs": [],
   "source": []
  }
 ],
 "metadata": {
  "kernelspec": {
   "display_name": "Django Shell-Plus",
   "language": "python",
   "name": "django_extensions"
  },
  "language_info": {
   "codemirror_mode": {
    "name": "ipython",
    "version": 2
   },
   "file_extension": ".py",
   "mimetype": "text/x-python",
   "name": "python",
   "nbconvert_exporter": "python",
   "pygments_lexer": "ipython2",
   "version": "2.7.11"
  }
 },
 "nbformat": 4,
 "nbformat_minor": 2
}
