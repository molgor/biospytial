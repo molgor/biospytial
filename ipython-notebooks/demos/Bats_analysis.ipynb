{
 "cells": [
  {
   "cell_type": "markdown",
   "metadata": {},
   "source": [
    "# Bats Analysis"
   ]
  },
  {
   "cell_type": "code",
   "execution_count": 6,
   "metadata": {
    "collapsed": true
   },
   "outputs": [],
   "source": [
    "%matplotlib inline\n",
    "import sys\n",
    "sys.path.append('/apps')\n",
    "import django\n",
    "django.setup()\n",
    "from drivers.graph_models import TreeNode, Order, Family, graph, pickNode\n",
    "from traversals.strategies import sumTrees, UniformRandomSampleForest"
   ]
  },
  {
   "cell_type": "code",
   "execution_count": 7,
   "metadata": {
    "collapsed": false
   },
   "outputs": [],
   "source": [
    "bats = pickNode(Order,'Chiropt')"
   ]
  },
  {
   "cell_type": "code",
   "execution_count": 8,
   "metadata": {
    "collapsed": false
   },
   "outputs": [
    {
     "data": {
      "text/plain": [
       "<TreeNode type: Order id = 24291 name: Chiroptera>"
      ]
     },
     "execution_count": 8,
     "metadata": {},
     "output_type": "execute_result"
    }
   ],
   "source": [
    "bats"
   ]
  },
  {
   "cell_type": "code",
   "execution_count": 9,
   "metadata": {
    "collapsed": true
   },
   "outputs": [],
   "source": [
    "bats_cells = list(bats.cells)"
   ]
  },
  {
   "cell_type": "code",
   "execution_count": 10,
   "metadata": {
    "collapsed": true
   },
   "outputs": [],
   "source": [
    "n = len(bats_cells)"
   ]
  },
  {
   "cell_type": "code",
   "execution_count": 11,
   "metadata": {
    "collapsed": false
   },
   "outputs": [
    {
     "data": {
      "text/plain": [
       "3699"
      ]
     },
     "execution_count": 11,
     "metadata": {},
     "output_type": "execute_result"
    }
   ],
   "source": [
    "n"
   ]
  },
  {
   "cell_type": "markdown",
   "metadata": {},
   "source": [
    "## Create 10 random uniform sample of 10 elements each. "
   ]
  },
  {
   "cell_type": "code",
   "execution_count": 12,
   "metadata": {
    "collapsed": true
   },
   "outputs": [],
   "source": [
    "trees = map(lambda i : list(UniformRandomSampleForest(bats_cells,10)),range(10))"
   ]
  },
  {
   "cell_type": "markdown",
   "metadata": {},
   "source": [
    "### Colapse (Reduce) each sample into a single Tree"
   ]
  },
  {
   "cell_type": "code",
   "execution_count": 13,
   "metadata": {
    "collapsed": false
   },
   "outputs": [
    {
     "name": "stderr",
     "output_type": "stream",
     "text": [
      "INFO Merging Trees\n",
      "INFO Merging Trees\n",
      "INFO Merging Trees\n",
      "INFO Merging Trees\n",
      "INFO Merging Trees\n",
      "INFO Merging Trees\n",
      "INFO Merging Trees\n",
      "INFO Merging Trees\n",
      "INFO Merging Trees\n",
      "INFO Merging Trees\n",
      "INFO Merging Trees\n",
      "INFO Merging Trees\n",
      "INFO Merging Trees\n",
      "INFO Merging Trees\n",
      "INFO Merging Trees\n",
      "INFO Merging Trees\n",
      "INFO Merging Trees\n",
      "INFO Merging Trees\n",
      "INFO Merging Trees\n",
      "INFO Merging Trees\n",
      "INFO Merging Trees\n",
      "INFO Merging Trees\n",
      "INFO Merging Trees\n",
      "INFO Merging Trees\n",
      "INFO Merging Trees\n",
      "INFO Merging Trees\n",
      "INFO Merging Trees\n",
      "INFO Merging Trees\n",
      "INFO Merging Trees\n",
      "INFO Merging Trees\n",
      "INFO Merging Trees\n",
      "INFO Merging Trees\n",
      "INFO Merging Trees\n",
      "INFO Merging Trees\n",
      "INFO Merging Trees\n",
      "INFO Merging Trees\n",
      "INFO Merging Trees\n",
      "INFO Merging Trees\n",
      "INFO Merging Trees\n",
      "INFO Merging Trees\n",
      "INFO Merging Trees\n",
      "INFO Merging Trees\n",
      "INFO Merging Trees\n",
      "INFO Merging Trees\n",
      "INFO Merging Trees\n",
      "INFO Merging Trees\n",
      "INFO Merging Trees\n",
      "INFO Merging Trees\n",
      "INFO Merging Trees\n",
      "INFO Merging Trees\n",
      "INFO Merging Trees\n",
      "INFO Merging Trees\n",
      "INFO Merging Trees\n",
      "INFO Merging Trees\n",
      "INFO Merging Trees\n",
      "INFO Merging Trees\n",
      "INFO Merging Trees\n",
      "INFO Merging Trees\n",
      "INFO Merging Trees\n",
      "INFO Merging Trees\n",
      "INFO Merging Trees\n",
      "INFO Merging Trees\n",
      "INFO Merging Trees\n",
      "INFO Merging Trees\n",
      "INFO Merging Trees\n",
      "INFO Merging Trees\n",
      "INFO Merging Trees\n",
      "INFO Merging Trees\n",
      "INFO Merging Trees\n",
      "INFO Merging Trees\n",
      "INFO Merging Trees\n",
      "INFO Merging Trees\n",
      "INFO Merging Trees\n",
      "INFO Merging Trees\n",
      "INFO Merging Trees\n",
      "INFO Merging Trees\n",
      "INFO Merging Trees\n",
      "INFO Merging Trees\n",
      "INFO Merging Trees\n",
      "INFO Merging Trees\n",
      "INFO Merging Trees\n",
      "INFO Merging Trees\n",
      "INFO Merging Trees\n",
      "INFO Merging Trees\n",
      "INFO Merging Trees\n",
      "INFO Merging Trees\n",
      "INFO Merging Trees\n",
      "INFO Merging Trees\n",
      "INFO Merging Trees\n",
      "INFO Merging Trees\n"
     ]
    }
   ],
   "source": [
    "btrees = map(sumTrees,trees)"
   ]
  },
  {
   "cell_type": "markdown",
   "metadata": {},
   "source": [
    "### flaten the list of trees in 'trees'"
   ]
  },
  {
   "cell_type": "code",
   "execution_count": 14,
   "metadata": {
    "collapsed": true
   },
   "outputs": [],
   "source": [
    "flat_ltrees =sumTrees(trees)"
   ]
  },
  {
   "cell_type": "markdown",
   "metadata": {},
   "source": [
    "### Count the frequencies of Nodes based on the list of total trees."
   ]
  },
  {
   "cell_type": "code",
   "execution_count": null,
   "metadata": {
    "collapsed": true
   },
   "outputs": [],
   "source": [
    "map(lambda t : t.countNodesFrequenciesOnList(flat_ltrees),btrees)"
   ]
  },
  {
   "cell_type": "markdown",
   "metadata": {},
   "source": [
    "### Rank taxonomic levels by frquency values"
   ]
  },
  {
   "cell_type": "code",
   "execution_count": 16,
   "metadata": {
    "collapsed": false
   },
   "outputs": [
    {
     "name": "stderr",
     "output_type": "stream",
     "text": [
      "INFO Sorting nodes in taxonomic levels by counts on frequencies\n",
      "INFO Sorting nodes in taxonomic levels by counts on frequencies\n",
      "INFO Sorting nodes in taxonomic levels by counts on frequencies\n",
      "INFO Sorting nodes in taxonomic levels by counts on frequencies\n",
      "INFO Sorting nodes in taxonomic levels by counts on frequencies\n",
      "INFO Sorting nodes in taxonomic levels by counts on frequencies\n",
      "INFO Sorting nodes in taxonomic levels by counts on frequencies\n",
      "INFO Sorting nodes in taxonomic levels by counts on frequencies\n",
      "INFO Sorting nodes in taxonomic levels by counts on frequencies\n",
      "INFO Sorting nodes in taxonomic levels by counts on frequencies\n"
     ]
    },
    {
     "data": {
      "text/plain": [
       "[True, True, True, True, True, True, True, True, True, True]"
      ]
     },
     "execution_count": 16,
     "metadata": {},
     "output_type": "execute_result"
    }
   ],
   "source": [
    "map(lambda t : t.rankLevels(),btrees)"
   ]
  },
  {
   "cell_type": "code",
   "execution_count": 23,
   "metadata": {
    "collapsed": true
   },
   "outputs": [],
   "source": [
    "f5 = map(lambda t : t.[:5],btrees)"
   ]
  },
  {
   "cell_type": "code",
   "execution_count": 24,
   "metadata": {
    "collapsed": false
   },
   "outputs": [
    {
     "data": {
      "text/plain": [
       "[[<LocalTree | Genus: Artibeus - n.count : 11- | AF: 42 >,\n",
       "  <LocalTree | Genus: Peromyscus - n.count : 88- | AF: 40 >,\n",
       "  <LocalTree | Genus: Sceloporus - n.count : 8- | AF: 37 >,\n",
       "  <LocalTree | Genus: Glossophaga - n.count : 11- | AF: 28 >,\n",
       "  <LocalTree | Genus: Melanerpes - n.count : 8- | AF: 27 >],\n",
       " [<LocalTree | Genus: Artibeus - n.count : 28- | AF: 42 >,\n",
       "  <LocalTree | Genus: Peromyscus - n.count : 186- | AF: 40 >,\n",
       "  <LocalTree | Genus: Sceloporus - n.count : 31- | AF: 37 >,\n",
       "  <LocalTree | Genus: Glossophaga - n.count : 10- | AF: 28 >,\n",
       "  <LocalTree | Genus: Melanerpes - n.count : 84- | AF: 27 >],\n",
       " [<LocalTree | Genus: Artibeus - n.count : 41- | AF: 42 >,\n",
       "  <LocalTree | Genus: Peromyscus - n.count : 25- | AF: 40 >,\n",
       "  <LocalTree | Genus: Sceloporus - n.count : 25- | AF: 37 >,\n",
       "  <LocalTree | Genus: Glossophaga - n.count : 6- | AF: 28 >,\n",
       "  <LocalTree | Genus: Melanerpes - n.count : 7- | AF: 27 >],\n",
       " [<LocalTree | Genus: Artibeus - n.count : 42- | AF: 42 >,\n",
       "  <LocalTree | Genus: Peromyscus - n.count : 247- | AF: 40 >,\n",
       "  <LocalTree | Genus: Sceloporus - n.count : 11- | AF: 37 >,\n",
       "  <LocalTree | Genus: Glossophaga - n.count : 45- | AF: 28 >,\n",
       "  <LocalTree | Genus: Melanerpes - n.count : 17- | AF: 27 >],\n",
       " [<LocalTree | Genus: Artibeus - n.count : 33- | AF: 42 >,\n",
       "  <LocalTree | Genus: Peromyscus - n.count : 39- | AF: 40 >,\n",
       "  <LocalTree | Genus: Sceloporus - n.count : 13- | AF: 37 >,\n",
       "  <LocalTree | Genus: Glossophaga - n.count : 12- | AF: 28 >,\n",
       "  <LocalTree | Genus: Melanerpes - n.count : 188- | AF: 27 >],\n",
       " [<LocalTree | Genus: Artibeus - n.count : 46- | AF: 42 >,\n",
       "  <LocalTree | Genus: Peromyscus - n.count : 371- | AF: 40 >,\n",
       "  <LocalTree | Genus: Sceloporus - n.count : 19- | AF: 37 >,\n",
       "  <LocalTree | Genus: Glossophaga - n.count : 4- | AF: 28 >,\n",
       "  <LocalTree | Genus: Melanerpes - n.count : 19- | AF: 27 >],\n",
       " [<LocalTree | Genus: Artibeus - n.count : 44- | AF: 42 >,\n",
       "  <LocalTree | Genus: Peromyscus - n.count : 39- | AF: 40 >,\n",
       "  <LocalTree | Genus: Sceloporus - n.count : 23- | AF: 37 >,\n",
       "  <LocalTree | Genus: Glossophaga - n.count : 8- | AF: 28 >,\n",
       "  <LocalTree | Genus: Melanerpes - n.count : 4- | AF: 27 >],\n",
       " [<LocalTree | Genus: Artibeus - n.count : 19- | AF: 42 >,\n",
       "  <LocalTree | Genus: Peromyscus - n.count : 35- | AF: 40 >,\n",
       "  <LocalTree | Genus: Sceloporus - n.count : 42- | AF: 37 >,\n",
       "  <LocalTree | Genus: Glossophaga - n.count : 15- | AF: 28 >,\n",
       "  <LocalTree | Genus: Melanerpes - n.count : 1- | AF: 27 >],\n",
       " [<LocalTree | Genus: Artibeus - n.count : 193- | AF: 42 >,\n",
       "  <LocalTree | Genus: Peromyscus - n.count : 228- | AF: 40 >,\n",
       "  <LocalTree | Genus: Sceloporus - n.count : 55- | AF: 37 >,\n",
       "  <LocalTree | Genus: Glossophaga - n.count : 33- | AF: 28 >,\n",
       "  <LocalTree | Genus: Melanerpes - n.count : 24- | AF: 27 >],\n",
       " [<LocalTree | Genus: Artibeus - n.count : 43- | AF: 42 >,\n",
       "  <LocalTree | Genus: Peromyscus - n.count : 72- | AF: 40 >,\n",
       "  <LocalTree | Genus: Sceloporus - n.count : 11- | AF: 37 >,\n",
       "  <LocalTree | Genus: Glossophaga - n.count : 15- | AF: 28 >,\n",
       "  <LocalTree | Genus: Myotis - n.count : 9- | AF: 27 >]]"
      ]
     },
     "execution_count": 24,
     "metadata": {},
     "output_type": "execute_result"
    }
   ],
   "source": [
    "f5"
   ]
  },
  {
   "cell_type": "code",
   "execution_count": 26,
   "metadata": {
    "collapsed": false
   },
   "outputs": [],
   "source": [
    "### Testing with an independent sample\n",
    "trees2 = map(lambda i : list(UniformRandomSampleForest(bats_cells,10)),range(10))"
   ]
  },
  {
   "cell_type": "code",
   "execution_count": 27,
   "metadata": {
    "collapsed": true
   },
   "outputs": [],
   "source": [
    "flat_ltrees_2 = sumTrees(trees2)"
   ]
  },
  {
   "cell_type": "code",
   "execution_count": null,
   "metadata": {
    "collapsed": true
   },
   "outputs": [],
   "source": [
    "map(lambda t : t.countNodesFrequenciesOnList(flat_ltrees_2),btrees)"
   ]
  },
  {
   "cell_type": "code",
   "execution_count": 29,
   "metadata": {
    "collapsed": false
   },
   "outputs": [
    {
     "name": "stderr",
     "output_type": "stream",
     "text": [
      "INFO Sorting nodes in taxonomic levels by counts on frequencies\n",
      "INFO Sorting nodes in taxonomic levels by counts on frequencies\n",
      "INFO Sorting nodes in taxonomic levels by counts on frequencies\n",
      "INFO Sorting nodes in taxonomic levels by counts on frequencies\n",
      "INFO Sorting nodes in taxonomic levels by counts on frequencies\n",
      "INFO Sorting nodes in taxonomic levels by counts on frequencies\n",
      "INFO Sorting nodes in taxonomic levels by counts on frequencies\n",
      "INFO Sorting nodes in taxonomic levels by counts on frequencies\n",
      "INFO Sorting nodes in taxonomic levels by counts on frequencies\n",
      "INFO Sorting nodes in taxonomic levels by counts on frequencies\n"
     ]
    },
    {
     "data": {
      "text/plain": [
       "[True, True, True, True, True, True, True, True, True, True]"
      ]
     },
     "execution_count": 29,
     "metadata": {},
     "output_type": "execute_result"
    }
   ],
   "source": [
    "map(lambda t : t.rankLevels(),btrees)"
   ]
  },
  {
   "cell_type": "code",
   "execution_count": 32,
   "metadata": {
    "collapsed": true
   },
   "outputs": [],
   "source": [
    "f5 = map(lambda t : t.orders[:5],btrees)"
   ]
  },
  {
   "cell_type": "code",
   "execution_count": 33,
   "metadata": {
    "collapsed": false
   },
   "outputs": [
    {
     "data": {
      "text/plain": [
       "[[<LocalTree | Order: Chiroptera - n.count : 147- | AF: 100 >,\n",
       "  <LocalTree | Order: Rodentia - n.count : 214- | AF: 67 >,\n",
       "  <LocalTree | Order: Asterales - n.count : 11- | AF: 52 >,\n",
       "  <LocalTree | Order: Poales - n.count : 24- | AF: 51 >,\n",
       "  <LocalTree | Order: Fabales - n.count : 33- | AF: 50 >],\n",
       " [<LocalTree | Order: Chiroptera - n.count : 156- | AF: 100 >,\n",
       "  <LocalTree | Order: Rodentia - n.count : 358- | AF: 67 >,\n",
       "  <LocalTree | Order: Asterales - n.count : 119- | AF: 52 >,\n",
       "  <LocalTree | Order: Poales - n.count : 83- | AF: 51 >,\n",
       "  <LocalTree | Order: Fabales - n.count : 223- | AF: 50 >],\n",
       " [<LocalTree | Order: Chiroptera - n.count : 96- | AF: 100 >,\n",
       "  <LocalTree | Order: Rodentia - n.count : 96- | AF: 67 >,\n",
       "  <LocalTree | Order: Asterales - n.count : 35- | AF: 52 >,\n",
       "  <LocalTree | Order: Poales - n.count : 16- | AF: 51 >,\n",
       "  <LocalTree | Order: Fabales - n.count : 74- | AF: 50 >],\n",
       " [<LocalTree | Order: Chiroptera - n.count : 160- | AF: 100 >,\n",
       "  <LocalTree | Order: Rodentia - n.count : 384- | AF: 67 >,\n",
       "  <LocalTree | Order: Asterales - n.count : 42- | AF: 52 >,\n",
       "  <LocalTree | Order: Poales - n.count : 33- | AF: 51 >,\n",
       "  <LocalTree | Order: Fabales - n.count : 26- | AF: 50 >],\n",
       " [<LocalTree | Order: Chiroptera - n.count : 165- | AF: 100 >,\n",
       "  <LocalTree | Order: Rodentia - n.count : 108- | AF: 67 >,\n",
       "  <LocalTree | Order: Asterales - n.count : 16- | AF: 52 >,\n",
       "  <LocalTree | Order: Poales - n.count : 28- | AF: 51 >,\n",
       "  <LocalTree | Order: Fabales - n.count : 32- | AF: 50 >],\n",
       " [<LocalTree | Order: Chiroptera - n.count : 159- | AF: 100 >,\n",
       "  <LocalTree | Order: Rodentia - n.count : 533- | AF: 67 >,\n",
       "  <LocalTree | Order: Asterales - n.count : 186- | AF: 52 >,\n",
       "  <LocalTree | Order: Poales - n.count : 288- | AF: 51 >,\n",
       "  <LocalTree | Order: Fabales - n.count : 95- | AF: 50 >],\n",
       " [<LocalTree | Order: Chiroptera - n.count : 276- | AF: 100 >,\n",
       "  <LocalTree | Order: Rodentia - n.count : 132- | AF: 67 >,\n",
       "  <LocalTree | Order: Asterales - n.count : 43- | AF: 52 >,\n",
       "  <LocalTree | Order: Poales - n.count : 111- | AF: 51 >,\n",
       "  <LocalTree | Order: Fabales - n.count : 73- | AF: 50 >],\n",
       " [<LocalTree | Order: Chiroptera - n.count : 162- | AF: 100 >,\n",
       "  <LocalTree | Order: Rodentia - n.count : 188- | AF: 67 >,\n",
       "  <LocalTree | Order: Asterales - n.count : 25- | AF: 52 >,\n",
       "  <LocalTree | Order: Poales - n.count : 143- | AF: 51 >,\n",
       "  <LocalTree | Order: Fabales - n.count : 72- | AF: 50 >],\n",
       " [<LocalTree | Order: Chiroptera - n.count : 407- | AF: 100 >,\n",
       "  <LocalTree | Order: Rodentia - n.count : 350- | AF: 67 >,\n",
       "  <LocalTree | Order: Asterales - n.count : 33- | AF: 52 >,\n",
       "  <LocalTree | Order: Poales - n.count : 34- | AF: 51 >,\n",
       "  <LocalTree | Order: Fabales - n.count : 33- | AF: 50 >],\n",
       " [<LocalTree | Order: Chiroptera - n.count : 206- | AF: 100 >,\n",
       "  <LocalTree | Order: Rodentia - n.count : 155- | AF: 67 >,\n",
       "  <LocalTree | Order: Asterales - n.count : 34- | AF: 52 >,\n",
       "  <LocalTree | Order: Poales - n.count : 12- | AF: 51 >,\n",
       "  <LocalTree | Order: Fabales - n.count : 43- | AF: 50 >]]"
      ]
     },
     "execution_count": 33,
     "metadata": {},
     "output_type": "execute_result"
    }
   ],
   "source": [
    "f5"
   ]
  },
  {
   "cell_type": "markdown",
   "metadata": {},
   "source": [
    "# Even with different subsets the top ranks are the same!"
   ]
  },
  {
   "cell_type": "code",
   "execution_count": 49,
   "metadata": {
    "collapsed": false
   },
   "outputs": [],
   "source": [
    "#We can proceed to select only the plants and perform a similar analysis.\n",
    "plants = map(lambda tree : tree.to_Plantae,btrees)"
   ]
  }
 ],
 "metadata": {
  "kernelspec": {
   "display_name": "Django Shell-Plus",
   "language": "python",
   "name": "django_extensions"
  },
  "language_info": {
   "codemirror_mode": {
    "name": "ipython",
    "version": 2
   },
   "file_extension": ".py",
   "mimetype": "text/x-python",
   "name": "python",
   "nbconvert_exporter": "python",
   "pygments_lexer": "ipython2",
   "version": "2.7.11"
  }
 },
 "nbformat": 4,
 "nbformat_minor": 0
}
