{
 "cells": [
  {
   "cell_type": "markdown",
   "metadata": {},
   "source": [
    "## Obtaining the predictors\n",
    "In this case we will bring all the variables to start working with everything.\n",
    "### The fast forward way!\n",
    "It now includes population\n"
   ]
  },
  {
   "cell_type": "code",
   "execution_count": 1,
   "metadata": {},
   "outputs": [],
   "source": [
    "%matplotlib inline\n",
    "import sys\n",
    "sys.path.append('/apps')\n",
    "import django\n",
    "django.setup()\n",
    "from drivers.tree_builder import TreeNeo\n",
    "from drivers.graph_models import TreeNode, Order, Family, graph,Kingdom,Occurrence\n",
    "from drivers.graph_models import Cell,Mex4km, countObjectsOf\n",
    "from drivers.graph_models import pickNode\n",
    "import matplotlib.pyplot as plt\n",
    "import pandas as pd\n",
    "import itertools as it\n",
    "import numpy as np\n",
    "\n",
    "## Use the ggplot style\n",
    "plt.style.use('ggplot')"
   ]
  },
  {
   "cell_type": "code",
   "execution_count": 2,
   "metadata": {},
   "outputs": [],
   "source": [
    "from raster_api.tools import RasterData\n",
    "from raster_api.models import raster_models_dic as models\n",
    "from sketches.models import Country\n",
    "from mesh.models import MexMesh\n",
    "\n",
    "Mexico = Country.objects.filter(name__contains=\"exico\").get()\n",
    "mexican_cells = MexMesh.objects.filter(cell__intersects=Mexico.geom)"
   ]
  },
  {
   "cell_type": "markdown",
   "metadata": {},
   "source": [
    "## Obtaining everything\n",
    "### First rasters"
   ]
  },
  {
   "cell_type": "code",
   "execution_count": 3,
   "metadata": {},
   "outputs": [],
   "source": [
    "datadict = { key : RasterData(models[key],border=Mexico.geom) for key,value in models.iteritems()}\n",
    "## Without resamling (whole data)\n",
    "pixel_size = 0.25\n"
   ]
  },
  {
   "cell_type": "code",
   "execution_count": 4,
   "metadata": {},
   "outputs": [
    {
     "data": {
      "text/plain": [
       "{'DistanceToRoadMex': <raster_api.tools.RasterData at 0x7f5d802e6d90>,\n",
       " 'Elevation': <raster_api.tools.RasterData at 0x7f5dc43ef310>,\n",
       " 'MaxTemperature': <raster_api.tools.RasterData at 0x7f5d802e6bd0>,\n",
       " 'MeanTemperature': <raster_api.tools.RasterData at 0x7f5d802e6750>,\n",
       " 'MinTemperature': <raster_api.tools.RasterData at 0x7f5d802e6a10>,\n",
       " 'Precipitation': <raster_api.tools.RasterData at 0x7f5d802e6650>,\n",
       " 'SolarRadiation': <raster_api.tools.RasterData at 0x7f5dc4c4fdd0>,\n",
       " 'Vapor': <raster_api.tools.RasterData at 0x7f5d802e6850>,\n",
       " 'WindSpeed': <raster_api.tools.RasterData at 0x7f5dc4c4fd10>,\n",
       " 'WorldPopLatam2010': <raster_api.tools.RasterData at 0x7f5dc43ef290>}"
      ]
     },
     "execution_count": 4,
     "metadata": {},
     "output_type": "execute_result"
    }
   ],
   "source": [
    "datadict"
   ]
  },
  {
   "cell_type": "code",
   "execution_count": 7,
   "metadata": {},
   "outputs": [
    {
     "name": "stdout",
     "output_type": "stream",
     "text": [
      "CPU times: user 504 ms, sys: 8 ms, total: 512 ms\n",
      "Wall time: 5min 20s\n"
     ]
    }
   ],
   "source": [
    "%time datacube_field = map(lambda raster : raster.rescale(pixel_size,algorithm='Cubic'),datadict.itervalues())\n",
    "datacube = datacube_field"
   ]
  },
  {
   "cell_type": "code",
   "execution_count": 8,
   "metadata": {},
   "outputs": [],
   "source": [
    "## Agregate by month\n",
    "# Take mean of everything\n",
    "cubes = map(lambda (k,v): np.mean(v.toNumpyArray(),axis=0), datadict.iteritems())"
   ]
  },
  {
   "cell_type": "code",
   "execution_count": 9,
   "metadata": {},
   "outputs": [],
   "source": [
    "extractCoords = lambda (k,v) : v.getCoordinates() \n",
    "coords = extractCoords(datadict.iteritems().next())"
   ]
  },
  {
   "cell_type": "code",
   "execution_count": 10,
   "metadata": {},
   "outputs": [],
   "source": [
    "## Oke I need a way to extract the dataframe, maybe aggregate it by mean \n",
    "dataframe_cube = map(lambda cube: pd.DataFrame(cube.flatten()),cubes)"
   ]
  },
  {
   "cell_type": "code",
   "execution_count": 11,
   "metadata": {},
   "outputs": [],
   "source": [
    "datacube = pd.concat(dataframe_cube,axis=1)"
   ]
  },
  {
   "cell_type": "code",
   "execution_count": 12,
   "metadata": {},
   "outputs": [],
   "source": [
    "datacube = pd.concat([datacube,coords],axis=1)"
   ]
  },
  {
   "cell_type": "code",
   "execution_count": 13,
   "metadata": {},
   "outputs": [],
   "source": [
    "datacube.columns = datadict.keys() + list(coords.columns)"
   ]
  },
  {
   "cell_type": "markdown",
   "metadata": {},
   "source": [
    "## Extract vector data\n",
    "It would be nice to have a single interface for both type of data.\n",
    "Anyway, this would be the way/\n"
   ]
  },
  {
   "cell_type": "code",
   "execution_count": 51,
   "metadata": {},
   "outputs": [],
   "source": [
    "from django.contrib.gis.geos import Point\n",
    "toPoint = lambda r : Point(tuple(r))\n",
    "points = coords.apply(toPoint,axis=1)\n"
   ]
  },
  {
   "cell_type": "markdown",
   "metadata": {},
   "source": [
    "### Extract features\n",
    "This maybe inneficient because the request is one by one. There should be other ways to make this faster...\n"
   ]
  },
  {
   "cell_type": "code",
   "execution_count": 53,
   "metadata": {},
   "outputs": [],
   "source": [
    "%%time\n",
    "from ecoregions.models import TerrEcoregions,InegiIV\n",
    "ecoregions = map(lambda p : TerrEcoregions.objects.filter(geom__intersects=p),points)\n",
    "ecovalues = map(lambda q : q.values_list('wwf_mhtnum','wwf_mhtnam'),ecoregions)\n",
    "ecovals = [r.get() if r.exists() else (np.nan,np.nan) for r in ecovalues ]\n",
    "vegdat = pd.DataFrame(ecovals)\n",
    "vegdat.columns = ['vegid','vegname']"
   ]
  },
  {
   "cell_type": "code",
   "execution_count": 68,
   "metadata": {},
   "outputs": [],
   "source": [
    "predictors = pd.concat([datacube,vegdat],axis=1)"
   ]
  },
  {
   "cell_type": "markdown",
   "metadata": {},
   "source": [
    "## Let´s save it for the posterity"
   ]
  },
  {
   "cell_type": "code",
   "execution_count": 72,
   "metadata": {},
   "outputs": [],
   "source": [
    "predictors.to_csv('/outputs/sample_predictors_complete.csv')"
   ]
  }
 ],
 "metadata": {
  "kernelspec": {
   "display_name": "Django Shell-Plus",
   "language": "python",
   "name": "django_extensions"
  },
  "language_info": {
   "codemirror_mode": {
    "name": "ipython",
    "version": 2
   },
   "file_extension": ".py",
   "mimetype": "text/x-python",
   "name": "python",
   "nbconvert_exporter": "python",
   "pygments_lexer": "ipython2",
   "version": "2.7.11"
  }
 },
 "nbformat": 4,
 "nbformat_minor": 2
}
