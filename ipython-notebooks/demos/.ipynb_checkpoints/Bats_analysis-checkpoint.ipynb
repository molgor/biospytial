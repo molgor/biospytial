{
 "cells": [
  {
   "cell_type": "markdown",
   "metadata": {},
   "source": [
    "# Bats Analysis"
   ]
  },
  {
   "cell_type": "code",
   "execution_count": 1,
   "metadata": {
    "collapsed": false
   },
   "outputs": [],
   "source": [
    "%matplotlib inline\n",
    "import sys\n",
    "sys.path.append('/apps')\n",
    "import django\n",
    "django.setup()\n",
    "from drivers.graph_models import TreeNode, Order, Family, graph, pickNode\n",
    "from traversals.strategies import sumTrees\n",
    "from traversals.sampling import UniformRandomSampleForest\n",
    "import traversals"
   ]
  },
  {
   "cell_type": "code",
   "execution_count": 2,
   "metadata": {
    "collapsed": false
   },
   "outputs": [
    {
     "data": {
      "text/plain": [
       "<module 'traversals' from '/apps/traversals/__init__.pyc'>"
      ]
     },
     "execution_count": 2,
     "metadata": {},
     "output_type": "execute_result"
    }
   ],
   "source": [
    "reload(traversals)"
   ]
  },
  {
   "cell_type": "code",
   "execution_count": 3,
   "metadata": {
    "collapsed": false
   },
   "outputs": [],
   "source": [
    "bats = pickNode(Order,'Chiropt')"
   ]
  },
  {
   "cell_type": "code",
   "execution_count": 4,
   "metadata": {
    "collapsed": false
   },
   "outputs": [
    {
     "name": "stdout",
     "output_type": "stream",
     "text": [
      "CPU times: user 3min 10s, sys: 3.75 s, total: 3min 13s\n",
      "Wall time: 5min 14s\n"
     ]
    }
   ],
   "source": [
    "%time ccc = list(bats.cells)"
   ]
  },
  {
   "cell_type": "markdown",
   "metadata": {},
   "source": [
    "## Create 10 random uniform sample of 10 elements each. "
   ]
  },
  {
   "cell_type": "code",
   "execution_count": 5,
   "metadata": {
    "collapsed": false
   },
   "outputs": [
    {
     "name": "stderr",
     "output_type": "stream",
     "text": [
      "DEBUG Random list creates\n",
      "DEBUG:biospytial.graph_models:Random list creates\n",
      "DEBUG Random cells selected\n",
      "DEBUG:biospytial.graph_models:Random cells selected\n",
      "DEBUG [Warning]: check that the Occurrences are the same that in the has_occurrences method\n",
      "DEBUG:biospytial.graph_models:[Warning]: check that the Occurrences are the same that in the has_occurrences method\n",
      "DEBUG [Warning]: check that the Occurrences are the same that in the has_occurrences method\n",
      "DEBUG:biospytial.graph_models:[Warning]: check that the Occurrences are the same that in the has_occurrences method\n",
      "DEBUG [Warning]: check that the Occurrences are the same that in the has_occurrences method\n",
      "DEBUG:biospytial.graph_models:[Warning]: check that the Occurrences are the same that in the has_occurrences method\n",
      "DEBUG [Warning]: check that the Occurrences are the same that in the has_occurrences method\n",
      "DEBUG:biospytial.graph_models:[Warning]: check that the Occurrences are the same that in the has_occurrences method\n",
      "DEBUG [Warning]: check that the Occurrences are the same that in the has_occurrences method\n",
      "DEBUG:biospytial.graph_models:[Warning]: check that the Occurrences are the same that in the has_occurrences method\n",
      "DEBUG [Warning]: check that the Occurrences are the same that in the has_occurrences method\n",
      "DEBUG:biospytial.graph_models:[Warning]: check that the Occurrences are the same that in the has_occurrences method\n",
      "DEBUG [Warning]: check that the Occurrences are the same that in the has_occurrences method\n",
      "DEBUG:biospytial.graph_models:[Warning]: check that the Occurrences are the same that in the has_occurrences method\n",
      "DEBUG [Warning]: check that the Occurrences are the same that in the has_occurrences method\n",
      "DEBUG:biospytial.graph_models:[Warning]: check that the Occurrences are the same that in the has_occurrences method\n",
      "DEBUG [Warning]: check that the Occurrences are the same that in the has_occurrences method\n",
      "DEBUG:biospytial.graph_models:[Warning]: check that the Occurrences are the same that in the has_occurrences method\n",
      "DEBUG [Warning]: check that the Occurrences are the same that in the has_occurrences method\n",
      "DEBUG:biospytial.graph_models:[Warning]: check that the Occurrences are the same that in the has_occurrences method\n",
      "DEBUG Random list creates\n",
      "DEBUG:biospytial.graph_models:Random list creates\n",
      "DEBUG Random cells selected\n",
      "DEBUG:biospytial.graph_models:Random cells selected\n",
      "DEBUG [Warning]: check that the Occurrences are the same that in the has_occurrences method\n",
      "DEBUG:biospytial.graph_models:[Warning]: check that the Occurrences are the same that in the has_occurrences method\n",
      "DEBUG [Warning]: check that the Occurrences are the same that in the has_occurrences method\n",
      "DEBUG:biospytial.graph_models:[Warning]: check that the Occurrences are the same that in the has_occurrences method\n",
      "DEBUG [Warning]: check that the Occurrences are the same that in the has_occurrences method\n",
      "DEBUG:biospytial.graph_models:[Warning]: check that the Occurrences are the same that in the has_occurrences method\n",
      "DEBUG [Warning]: check that the Occurrences are the same that in the has_occurrences method\n",
      "DEBUG:biospytial.graph_models:[Warning]: check that the Occurrences are the same that in the has_occurrences method\n",
      "DEBUG [Warning]: check that the Occurrences are the same that in the has_occurrences method\n",
      "DEBUG:biospytial.graph_models:[Warning]: check that the Occurrences are the same that in the has_occurrences method\n",
      "DEBUG [Warning]: check that the Occurrences are the same that in the has_occurrences method\n",
      "DEBUG:biospytial.graph_models:[Warning]: check that the Occurrences are the same that in the has_occurrences method\n",
      "DEBUG [Warning]: check that the Occurrences are the same that in the has_occurrences method\n",
      "DEBUG:biospytial.graph_models:[Warning]: check that the Occurrences are the same that in the has_occurrences method\n",
      "DEBUG [Warning]: check that the Occurrences are the same that in the has_occurrences method\n",
      "DEBUG:biospytial.graph_models:[Warning]: check that the Occurrences are the same that in the has_occurrences method\n",
      "DEBUG [Warning]: check that the Occurrences are the same that in the has_occurrences method\n",
      "DEBUG:biospytial.graph_models:[Warning]: check that the Occurrences are the same that in the has_occurrences method\n",
      "DEBUG [Warning]: check that the Occurrences are the same that in the has_occurrences method\n",
      "DEBUG:biospytial.graph_models:[Warning]: check that the Occurrences are the same that in the has_occurrences method\n",
      "DEBUG Random list creates\n",
      "DEBUG:biospytial.graph_models:Random list creates\n",
      "DEBUG Random cells selected\n",
      "DEBUG:biospytial.graph_models:Random cells selected\n",
      "DEBUG [Warning]: check that the Occurrences are the same that in the has_occurrences method\n",
      "DEBUG:biospytial.graph_models:[Warning]: check that the Occurrences are the same that in the has_occurrences method\n",
      "DEBUG [Warning]: check that the Occurrences are the same that in the has_occurrences method\n",
      "DEBUG:biospytial.graph_models:[Warning]: check that the Occurrences are the same that in the has_occurrences method\n",
      "DEBUG [Warning]: check that the Occurrences are the same that in the has_occurrences method\n",
      "DEBUG:biospytial.graph_models:[Warning]: check that the Occurrences are the same that in the has_occurrences method\n",
      "DEBUG [Warning]: check that the Occurrences are the same that in the has_occurrences method\n",
      "DEBUG:biospytial.graph_models:[Warning]: check that the Occurrences are the same that in the has_occurrences method\n",
      "DEBUG [Warning]: check that the Occurrences are the same that in the has_occurrences method\n",
      "DEBUG:biospytial.graph_models:[Warning]: check that the Occurrences are the same that in the has_occurrences method\n",
      "DEBUG [Warning]: check that the Occurrences are the same that in the has_occurrences method\n",
      "DEBUG:biospytial.graph_models:[Warning]: check that the Occurrences are the same that in the has_occurrences method\n",
      "DEBUG [Warning]: check that the Occurrences are the same that in the has_occurrences method\n",
      "DEBUG:biospytial.graph_models:[Warning]: check that the Occurrences are the same that in the has_occurrences method\n",
      "DEBUG [Warning]: check that the Occurrences are the same that in the has_occurrences method\n",
      "DEBUG:biospytial.graph_models:[Warning]: check that the Occurrences are the same that in the has_occurrences method\n",
      "DEBUG [Warning]: check that the Occurrences are the same that in the has_occurrences method\n",
      "DEBUG:biospytial.graph_models:[Warning]: check that the Occurrences are the same that in the has_occurrences method\n",
      "DEBUG [Warning]: check that the Occurrences are the same that in the has_occurrences method\n",
      "DEBUG:biospytial.graph_models:[Warning]: check that the Occurrences are the same that in the has_occurrences method\n",
      "DEBUG Random list creates\n",
      "DEBUG:biospytial.graph_models:Random list creates\n",
      "DEBUG Random cells selected\n",
      "DEBUG:biospytial.graph_models:Random cells selected\n",
      "DEBUG [Warning]: check that the Occurrences are the same that in the has_occurrences method\n",
      "DEBUG:biospytial.graph_models:[Warning]: check that the Occurrences are the same that in the has_occurrences method\n",
      "DEBUG [Warning]: check that the Occurrences are the same that in the has_occurrences method\n",
      "DEBUG:biospytial.graph_models:[Warning]: check that the Occurrences are the same that in the has_occurrences method\n",
      "DEBUG [Warning]: check that the Occurrences are the same that in the has_occurrences method\n",
      "DEBUG:biospytial.graph_models:[Warning]: check that the Occurrences are the same that in the has_occurrences method\n",
      "DEBUG [Warning]: check that the Occurrences are the same that in the has_occurrences method\n",
      "DEBUG:biospytial.graph_models:[Warning]: check that the Occurrences are the same that in the has_occurrences method\n",
      "DEBUG [Warning]: check that the Occurrences are the same that in the has_occurrences method\n",
      "DEBUG:biospytial.graph_models:[Warning]: check that the Occurrences are the same that in the has_occurrences method\n",
      "DEBUG [Warning]: check that the Occurrences are the same that in the has_occurrences method\n",
      "DEBUG:biospytial.graph_models:[Warning]: check that the Occurrences are the same that in the has_occurrences method\n",
      "DEBUG [Warning]: check that the Occurrences are the same that in the has_occurrences method\n",
      "DEBUG:biospytial.graph_models:[Warning]: check that the Occurrences are the same that in the has_occurrences method\n",
      "DEBUG [Warning]: check that the Occurrences are the same that in the has_occurrences method\n",
      "DEBUG:biospytial.graph_models:[Warning]: check that the Occurrences are the same that in the has_occurrences method\n",
      "DEBUG [Warning]: check that the Occurrences are the same that in the has_occurrences method\n",
      "DEBUG:biospytial.graph_models:[Warning]: check that the Occurrences are the same that in the has_occurrences method\n",
      "DEBUG [Warning]: check that the Occurrences are the same that in the has_occurrences method\n",
      "DEBUG:biospytial.graph_models:[Warning]: check that the Occurrences are the same that in the has_occurrences method\n",
      "DEBUG Random list creates\n",
      "DEBUG:biospytial.graph_models:Random list creates\n",
      "DEBUG Random cells selected\n",
      "DEBUG:biospytial.graph_models:Random cells selected\n",
      "DEBUG [Warning]: check that the Occurrences are the same that in the has_occurrences method\n",
      "DEBUG:biospytial.graph_models:[Warning]: check that the Occurrences are the same that in the has_occurrences method\n",
      "DEBUG [Warning]: check that the Occurrences are the same that in the has_occurrences method\n",
      "DEBUG:biospytial.graph_models:[Warning]: check that the Occurrences are the same that in the has_occurrences method\n",
      "DEBUG [Warning]: check that the Occurrences are the same that in the has_occurrences method\n",
      "DEBUG:biospytial.graph_models:[Warning]: check that the Occurrences are the same that in the has_occurrences method\n",
      "DEBUG [Warning]: check that the Occurrences are the same that in the has_occurrences method\n",
      "DEBUG:biospytial.graph_models:[Warning]: check that the Occurrences are the same that in the has_occurrences method\n",
      "DEBUG [Warning]: check that the Occurrences are the same that in the has_occurrences method\n",
      "DEBUG:biospytial.graph_models:[Warning]: check that the Occurrences are the same that in the has_occurrences method\n",
      "DEBUG [Warning]: check that the Occurrences are the same that in the has_occurrences method\n",
      "DEBUG:biospytial.graph_models:[Warning]: check that the Occurrences are the same that in the has_occurrences method\n",
      "DEBUG [Warning]: check that the Occurrences are the same that in the has_occurrences method\n",
      "DEBUG:biospytial.graph_models:[Warning]: check that the Occurrences are the same that in the has_occurrences method\n",
      "DEBUG [Warning]: check that the Occurrences are the same that in the has_occurrences method\n",
      "DEBUG:biospytial.graph_models:[Warning]: check that the Occurrences are the same that in the has_occurrences method\n",
      "DEBUG [Warning]: check that the Occurrences are the same that in the has_occurrences method\n",
      "DEBUG:biospytial.graph_models:[Warning]: check that the Occurrences are the same that in the has_occurrences method\n",
      "DEBUG [Warning]: check that the Occurrences are the same that in the has_occurrences method\n",
      "DEBUG:biospytial.graph_models:[Warning]: check that the Occurrences are the same that in the has_occurrences method\n",
      "DEBUG Random list creates\n",
      "DEBUG:biospytial.graph_models:Random list creates\n",
      "DEBUG Random cells selected\n",
      "DEBUG:biospytial.graph_models:Random cells selected\n",
      "DEBUG [Warning]: check that the Occurrences are the same that in the has_occurrences method\n",
      "DEBUG:biospytial.graph_models:[Warning]: check that the Occurrences are the same that in the has_occurrences method\n",
      "DEBUG [Warning]: check that the Occurrences are the same that in the has_occurrences method\n",
      "DEBUG:biospytial.graph_models:[Warning]: check that the Occurrences are the same that in the has_occurrences method\n",
      "DEBUG [Warning]: check that the Occurrences are the same that in the has_occurrences method\n",
      "DEBUG:biospytial.graph_models:[Warning]: check that the Occurrences are the same that in the has_occurrences method\n",
      "DEBUG [Warning]: check that the Occurrences are the same that in the has_occurrences method\n",
      "DEBUG:biospytial.graph_models:[Warning]: check that the Occurrences are the same that in the has_occurrences method\n",
      "DEBUG [Warning]: check that the Occurrences are the same that in the has_occurrences method\n",
      "DEBUG:biospytial.graph_models:[Warning]: check that the Occurrences are the same that in the has_occurrences method\n",
      "DEBUG [Warning]: check that the Occurrences are the same that in the has_occurrences method\n",
      "DEBUG:biospytial.graph_models:[Warning]: check that the Occurrences are the same that in the has_occurrences method\n",
      "DEBUG [Warning]: check that the Occurrences are the same that in the has_occurrences method\n",
      "DEBUG:biospytial.graph_models:[Warning]: check that the Occurrences are the same that in the has_occurrences method\n",
      "DEBUG [Warning]: check that the Occurrences are the same that in the has_occurrences method\n",
      "DEBUG:biospytial.graph_models:[Warning]: check that the Occurrences are the same that in the has_occurrences method\n",
      "DEBUG [Warning]: check that the Occurrences are the same that in the has_occurrences method\n",
      "DEBUG:biospytial.graph_models:[Warning]: check that the Occurrences are the same that in the has_occurrences method\n",
      "DEBUG [Warning]: check that the Occurrences are the same that in the has_occurrences method\n",
      "DEBUG:biospytial.graph_models:[Warning]: check that the Occurrences are the same that in the has_occurrences method\n",
      "DEBUG Random list creates\n",
      "DEBUG:biospytial.graph_models:Random list creates\n",
      "DEBUG Random cells selected\n",
      "DEBUG:biospytial.graph_models:Random cells selected\n",
      "DEBUG [Warning]: check that the Occurrences are the same that in the has_occurrences method\n",
      "DEBUG:biospytial.graph_models:[Warning]: check that the Occurrences are the same that in the has_occurrences method\n",
      "DEBUG [Warning]: check that the Occurrences are the same that in the has_occurrences method\n",
      "DEBUG:biospytial.graph_models:[Warning]: check that the Occurrences are the same that in the has_occurrences method\n",
      "DEBUG [Warning]: check that the Occurrences are the same that in the has_occurrences method\n",
      "DEBUG:biospytial.graph_models:[Warning]: check that the Occurrences are the same that in the has_occurrences method\n",
      "DEBUG [Warning]: check that the Occurrences are the same that in the has_occurrences method\n",
      "DEBUG:biospytial.graph_models:[Warning]: check that the Occurrences are the same that in the has_occurrences method\n",
      "DEBUG [Warning]: check that the Occurrences are the same that in the has_occurrences method\n",
      "DEBUG:biospytial.graph_models:[Warning]: check that the Occurrences are the same that in the has_occurrences method\n",
      "DEBUG [Warning]: check that the Occurrences are the same that in the has_occurrences method\n",
      "DEBUG:biospytial.graph_models:[Warning]: check that the Occurrences are the same that in the has_occurrences method\n",
      "DEBUG [Warning]: check that the Occurrences are the same that in the has_occurrences method\n",
      "DEBUG:biospytial.graph_models:[Warning]: check that the Occurrences are the same that in the has_occurrences method\n",
      "DEBUG [Warning]: check that the Occurrences are the same that in the has_occurrences method\n",
      "DEBUG:biospytial.graph_models:[Warning]: check that the Occurrences are the same that in the has_occurrences method\n",
      "DEBUG [Warning]: check that the Occurrences are the same that in the has_occurrences method\n",
      "DEBUG:biospytial.graph_models:[Warning]: check that the Occurrences are the same that in the has_occurrences method\n",
      "DEBUG [Warning]: check that the Occurrences are the same that in the has_occurrences method\n",
      "DEBUG:biospytial.graph_models:[Warning]: check that the Occurrences are the same that in the has_occurrences method\n",
      "DEBUG Random list creates\n",
      "DEBUG:biospytial.graph_models:Random list creates\n",
      "DEBUG Random cells selected\n",
      "DEBUG:biospytial.graph_models:Random cells selected\n",
      "DEBUG [Warning]: check that the Occurrences are the same that in the has_occurrences method\n",
      "DEBUG:biospytial.graph_models:[Warning]: check that the Occurrences are the same that in the has_occurrences method\n",
      "DEBUG [Warning]: check that the Occurrences are the same that in the has_occurrences method\n",
      "DEBUG:biospytial.graph_models:[Warning]: check that the Occurrences are the same that in the has_occurrences method\n",
      "DEBUG [Warning]: check that the Occurrences are the same that in the has_occurrences method\n",
      "DEBUG:biospytial.graph_models:[Warning]: check that the Occurrences are the same that in the has_occurrences method\n",
      "DEBUG [Warning]: check that the Occurrences are the same that in the has_occurrences method\n",
      "DEBUG:biospytial.graph_models:[Warning]: check that the Occurrences are the same that in the has_occurrences method\n",
      "DEBUG [Warning]: check that the Occurrences are the same that in the has_occurrences method\n",
      "DEBUG:biospytial.graph_models:[Warning]: check that the Occurrences are the same that in the has_occurrences method\n",
      "DEBUG [Warning]: check that the Occurrences are the same that in the has_occurrences method\n",
      "DEBUG:biospytial.graph_models:[Warning]: check that the Occurrences are the same that in the has_occurrences method\n",
      "DEBUG [Warning]: check that the Occurrences are the same that in the has_occurrences method\n",
      "DEBUG:biospytial.graph_models:[Warning]: check that the Occurrences are the same that in the has_occurrences method\n",
      "DEBUG [Warning]: check that the Occurrences are the same that in the has_occurrences method\n",
      "DEBUG:biospytial.graph_models:[Warning]: check that the Occurrences are the same that in the has_occurrences method\n",
      "DEBUG [Warning]: check that the Occurrences are the same that in the has_occurrences method\n",
      "DEBUG:biospytial.graph_models:[Warning]: check that the Occurrences are the same that in the has_occurrences method\n",
      "DEBUG [Warning]: check that the Occurrences are the same that in the has_occurrences method\n",
      "DEBUG:biospytial.graph_models:[Warning]: check that the Occurrences are the same that in the has_occurrences method\n",
      "DEBUG Random list creates\n",
      "DEBUG:biospytial.graph_models:Random list creates\n",
      "DEBUG Random cells selected\n",
      "DEBUG:biospytial.graph_models:Random cells selected\n",
      "DEBUG [Warning]: check that the Occurrences are the same that in the has_occurrences method\n",
      "DEBUG:biospytial.graph_models:[Warning]: check that the Occurrences are the same that in the has_occurrences method\n",
      "DEBUG [Warning]: check that the Occurrences are the same that in the has_occurrences method\n",
      "DEBUG:biospytial.graph_models:[Warning]: check that the Occurrences are the same that in the has_occurrences method\n",
      "DEBUG [Warning]: check that the Occurrences are the same that in the has_occurrences method\n",
      "DEBUG:biospytial.graph_models:[Warning]: check that the Occurrences are the same that in the has_occurrences method\n",
      "DEBUG [Warning]: check that the Occurrences are the same that in the has_occurrences method\n",
      "DEBUG:biospytial.graph_models:[Warning]: check that the Occurrences are the same that in the has_occurrences method\n",
      "DEBUG [Warning]: check that the Occurrences are the same that in the has_occurrences method\n",
      "DEBUG:biospytial.graph_models:[Warning]: check that the Occurrences are the same that in the has_occurrences method\n",
      "DEBUG [Warning]: check that the Occurrences are the same that in the has_occurrences method\n",
      "DEBUG:biospytial.graph_models:[Warning]: check that the Occurrences are the same that in the has_occurrences method\n",
      "DEBUG [Warning]: check that the Occurrences are the same that in the has_occurrences method\n",
      "DEBUG:biospytial.graph_models:[Warning]: check that the Occurrences are the same that in the has_occurrences method\n",
      "DEBUG [Warning]: check that the Occurrences are the same that in the has_occurrences method\n",
      "DEBUG:biospytial.graph_models:[Warning]: check that the Occurrences are the same that in the has_occurrences method\n",
      "DEBUG [Warning]: check that the Occurrences are the same that in the has_occurrences method\n",
      "DEBUG:biospytial.graph_models:[Warning]: check that the Occurrences are the same that in the has_occurrences method\n",
      "DEBUG [Warning]: check that the Occurrences are the same that in the has_occurrences method\n",
      "DEBUG:biospytial.graph_models:[Warning]: check that the Occurrences are the same that in the has_occurrences method\n",
      "DEBUG Random list creates\n",
      "DEBUG:biospytial.graph_models:Random list creates\n",
      "DEBUG Random cells selected\n",
      "DEBUG:biospytial.graph_models:Random cells selected\n",
      "DEBUG [Warning]: check that the Occurrences are the same that in the has_occurrences method\n",
      "DEBUG:biospytial.graph_models:[Warning]: check that the Occurrences are the same that in the has_occurrences method\n",
      "DEBUG [Warning]: check that the Occurrences are the same that in the has_occurrences method\n",
      "DEBUG:biospytial.graph_models:[Warning]: check that the Occurrences are the same that in the has_occurrences method\n",
      "DEBUG [Warning]: check that the Occurrences are the same that in the has_occurrences method\n",
      "DEBUG:biospytial.graph_models:[Warning]: check that the Occurrences are the same that in the has_occurrences method\n",
      "DEBUG [Warning]: check that the Occurrences are the same that in the has_occurrences method\n",
      "DEBUG:biospytial.graph_models:[Warning]: check that the Occurrences are the same that in the has_occurrences method\n",
      "DEBUG [Warning]: check that the Occurrences are the same that in the has_occurrences method\n",
      "DEBUG:biospytial.graph_models:[Warning]: check that the Occurrences are the same that in the has_occurrences method\n",
      "DEBUG [Warning]: check that the Occurrences are the same that in the has_occurrences method\n",
      "DEBUG:biospytial.graph_models:[Warning]: check that the Occurrences are the same that in the has_occurrences method\n",
      "DEBUG [Warning]: check that the Occurrences are the same that in the has_occurrences method\n",
      "DEBUG:biospytial.graph_models:[Warning]: check that the Occurrences are the same that in the has_occurrences method\n",
      "DEBUG [Warning]: check that the Occurrences are the same that in the has_occurrences method\n",
      "DEBUG:biospytial.graph_models:[Warning]: check that the Occurrences are the same that in the has_occurrences method\n",
      "DEBUG [Warning]: check that the Occurrences are the same that in the has_occurrences method\n",
      "DEBUG:biospytial.graph_models:[Warning]: check that the Occurrences are the same that in the has_occurrences method\n",
      "DEBUG [Warning]: check that the Occurrences are the same that in the has_occurrences method\n",
      "DEBUG:biospytial.graph_models:[Warning]: check that the Occurrences are the same that in the has_occurrences method\n"
     ]
    }
   ],
   "source": [
    "trees = map(lambda i : list(traversals.sampling.UniformRandomSampleForest(ccc,10)),range(10))"
   ]
  },
  {
   "cell_type": "markdown",
   "metadata": {},
   "source": [
    "### Colapse (Reduce) each sample into a single Tree"
   ]
  },
  {
   "cell_type": "code",
   "execution_count": 15,
   "metadata": {
    "collapsed": false
   },
   "outputs": [],
   "source": [
    "t1 = trees[0]\n",
    "t2 = trees[1]\n",
    "\n",
    "\n"
   ]
  },
  {
   "cell_type": "code",
   "execution_count": 18,
   "metadata": {
    "collapsed": false
   },
   "outputs": [],
   "source": [
    "t1 = t1[0]\n",
    "t2 = t2[0]\n",
    "\n"
   ]
  },
  {
   "cell_type": "code",
   "execution_count": 22,
   "metadata": {
    "collapsed": false
   },
   "outputs": [
    {
     "data": {
      "text/plain": [
       "<LocalTree | Class: Amphibia - n.count : 18- | AF: 0.05 >"
      ]
     },
     "execution_count": 22,
     "metadata": {},
     "output_type": "execute_result"
    }
   ],
   "source": [
    "t1.to_Animalia.to_Chordata.to_Amphibia"
   ]
  },
  {
   "cell_type": "code",
   "execution_count": 25,
   "metadata": {
    "collapsed": false
   },
   "outputs": [],
   "source": [
    "t1.__add__??"
   ]
  },
  {
   "cell_type": "code",
   "execution_count": 12,
   "metadata": {
    "collapsed": false
   },
   "outputs": [
    {
     "name": "stderr",
     "output_type": "stream",
     "text": [
      "INFO Merging Trees\n"
     ]
    },
    {
     "ename": "TypeError",
     "evalue": "can only concatenate list (not \"str\") to list",
     "output_type": "error",
     "traceback": [
      "\u001b[0;31m\u001b[0m",
      "\u001b[0;31mTypeError\u001b[0mTraceback (most recent call last)",
      "\u001b[0;32m<ipython-input-12-4f3d4624599f>\u001b[0m in \u001b[0;36m<module>\u001b[0;34m()\u001b[0m\n\u001b[0;32m----> 1\u001b[0;31m \u001b[0mbt\u001b[0m \u001b[0;34m=\u001b[0m \u001b[0mreduce\u001b[0m\u001b[0;34m(\u001b[0m\u001b[0;32mlambda\u001b[0m \u001b[0ma\u001b[0m\u001b[0;34m,\u001b[0m\u001b[0mb\u001b[0m \u001b[0;34m:\u001b[0m \u001b[0ma\u001b[0m\u001b[0;34m+\u001b[0m\u001b[0mb\u001b[0m\u001b[0;34m,\u001b[0m \u001b[0mtrees\u001b[0m\u001b[0;34m[\u001b[0m\u001b[0;36m0\u001b[0m\u001b[0;34m]\u001b[0m\u001b[0;34m)\u001b[0m\u001b[0;34m\u001b[0m\u001b[0m\n\u001b[0m",
      "\u001b[0;32m<ipython-input-12-4f3d4624599f>\u001b[0m in \u001b[0;36m<lambda>\u001b[0;34m(a, b)\u001b[0m\n\u001b[0;32m----> 1\u001b[0;31m \u001b[0mbt\u001b[0m \u001b[0;34m=\u001b[0m \u001b[0mreduce\u001b[0m\u001b[0;34m(\u001b[0m\u001b[0;32mlambda\u001b[0m \u001b[0ma\u001b[0m\u001b[0;34m,\u001b[0m\u001b[0mb\u001b[0m \u001b[0;34m:\u001b[0m \u001b[0ma\u001b[0m\u001b[0;34m+\u001b[0m\u001b[0mb\u001b[0m\u001b[0;34m,\u001b[0m \u001b[0mtrees\u001b[0m\u001b[0;34m[\u001b[0m\u001b[0;36m0\u001b[0m\u001b[0;34m]\u001b[0m\u001b[0;34m)\u001b[0m\u001b[0;34m\u001b[0m\u001b[0m\n\u001b[0m",
      "\u001b[0;32m/apps/drivers/tree_builder.pyc\u001b[0m in \u001b[0;36m__add__\u001b[0;34m(self, tree_neo)\u001b[0m\n\u001b[1;32m    700\u001b[0m         \u001b[0;31m## This is experimental (if this still here is because it worked)\u001b[0m\u001b[0;34m\u001b[0m\u001b[0;34m\u001b[0m\u001b[0m\n\u001b[1;32m    701\u001b[0m         \u001b[0;31m## Get this cell\u001b[0m\u001b[0;34m\u001b[0m\u001b[0;34m\u001b[0m\u001b[0m\n\u001b[0;32m--> 702\u001b[0;31m         \u001b[0mcells\u001b[0m \u001b[0;34m=\u001b[0m \u001b[0mself\u001b[0m\u001b[0;34m.\u001b[0m\u001b[0mgetExactCells\u001b[0m\u001b[0;34m(\u001b[0m\u001b[0;34m)\u001b[0m\u001b[0;34m\u001b[0m\u001b[0m\n\u001b[0m\u001b[1;32m    703\u001b[0m         \u001b[0mother_cells\u001b[0m \u001b[0;34m=\u001b[0m \u001b[0mtree_neo\u001b[0m\u001b[0;34m.\u001b[0m\u001b[0mgetExactCells\u001b[0m\u001b[0;34m(\u001b[0m\u001b[0;34m)\u001b[0m\u001b[0;34m\u001b[0m\u001b[0m\n\u001b[1;32m    704\u001b[0m         \u001b[0mnew_cells\u001b[0m \u001b[0;34m=\u001b[0m \u001b[0mlist\u001b[0m\u001b[0;34m(\u001b[0m\u001b[0mset\u001b[0m\u001b[0;34m(\u001b[0m\u001b[0mcells\u001b[0m \u001b[0;34m+\u001b[0m \u001b[0mother_cells\u001b[0m\u001b[0;34m)\u001b[0m\u001b[0;34m)\u001b[0m\u001b[0;34m\u001b[0m\u001b[0m\n",
      "\u001b[0;32m/apps/drivers/tree_builder.pyc\u001b[0m in \u001b[0;36mgetExactCells\u001b[0;34m(self)\u001b[0m\n\u001b[1;32m    230\u001b[0m             \u001b[0;31m# take away repetition\u001b[0m\u001b[0;34m\u001b[0m\u001b[0;34m\u001b[0m\u001b[0m\n\u001b[1;32m    231\u001b[0m             \u001b[0mcells\u001b[0m \u001b[0;34m=\u001b[0m  \u001b[0mlist\u001b[0m\u001b[0;34m(\u001b[0m\u001b[0mset\u001b[0m\u001b[0;34m(\u001b[0m\u001b[0mcells\u001b[0m\u001b[0;34m)\u001b[0m\u001b[0;34m)\u001b[0m\u001b[0;34m\u001b[0m\u001b[0m\n\u001b[0;32m--> 232\u001b[0;31m             \u001b[0mself\u001b[0m\u001b[0;34m.\u001b[0m\u001b[0minvolvedCells\u001b[0m \u001b[0;34m=\u001b[0m \u001b[0mlist\u001b[0m\u001b[0;34m(\u001b[0m\u001b[0mset\u001b[0m\u001b[0;34m(\u001b[0m\u001b[0mcells\u001b[0m \u001b[0;34m+\u001b[0m \u001b[0mself\u001b[0m\u001b[0;34m.\u001b[0m\u001b[0minvolvedCells\u001b[0m\u001b[0;34m)\u001b[0m\u001b[0;34m)\u001b[0m\u001b[0;34m\u001b[0m\u001b[0m\n\u001b[0m\u001b[1;32m    233\u001b[0m             \u001b[0;32mreturn\u001b[0m \u001b[0mself\u001b[0m\u001b[0;34m.\u001b[0m\u001b[0minvolvedCells\u001b[0m\u001b[0;34m\u001b[0m\u001b[0m\n\u001b[1;32m    234\u001b[0m         \u001b[0;32melse\u001b[0m\u001b[0;34m:\u001b[0m\u001b[0;34m\u001b[0m\u001b[0m\n",
      "\u001b[0;31mTypeError\u001b[0m: can only concatenate list (not \"str\") to list"
     ]
    }
   ],
   "source": [
    "bt = reduce(lambda a,b : a+b, trees[0])\n",
    "\n",
    "\n",
    "\n"
   ]
  },
  {
   "cell_type": "code",
   "execution_count": 9,
   "metadata": {
    "collapsed": false
   },
   "outputs": [
    {
     "ename": "TypeError",
     "evalue": "unsupported operand type(s) for +: 'LocalTree' and 'LocalTree'",
     "output_type": "error",
     "traceback": [
      "\u001b[0;31m\u001b[0m",
      "\u001b[0;31mTypeError\u001b[0mTraceback (most recent call last)",
      "\u001b[0;32m<ipython-input-9-9eb1d07995fb>\u001b[0m in \u001b[0;36m<module>\u001b[0;34m()\u001b[0m\n\u001b[0;32m----> 1\u001b[0;31m \u001b[0mget_ipython\u001b[0m\u001b[0;34m(\u001b[0m\u001b[0;34m)\u001b[0m\u001b[0;34m.\u001b[0m\u001b[0mmagic\u001b[0m\u001b[0;34m(\u001b[0m\u001b[0;34mu'time btrees = map(sumTrees,trees[0])'\u001b[0m\u001b[0;34m)\u001b[0m\u001b[0;34m\u001b[0m\u001b[0m\n\u001b[0m",
      "\u001b[0;32m/opt/conda/envs/biospytial/lib/python2.7/site-packages/IPython/core/interactiveshell.pyc\u001b[0m in \u001b[0;36mmagic\u001b[0;34m(self, arg_s)\u001b[0m\n\u001b[1;32m   2156\u001b[0m         \u001b[0mmagic_name\u001b[0m\u001b[0;34m,\u001b[0m \u001b[0m_\u001b[0m\u001b[0;34m,\u001b[0m \u001b[0mmagic_arg_s\u001b[0m \u001b[0;34m=\u001b[0m \u001b[0marg_s\u001b[0m\u001b[0;34m.\u001b[0m\u001b[0mpartition\u001b[0m\u001b[0;34m(\u001b[0m\u001b[0;34m' '\u001b[0m\u001b[0;34m)\u001b[0m\u001b[0;34m\u001b[0m\u001b[0m\n\u001b[1;32m   2157\u001b[0m         \u001b[0mmagic_name\u001b[0m \u001b[0;34m=\u001b[0m \u001b[0mmagic_name\u001b[0m\u001b[0;34m.\u001b[0m\u001b[0mlstrip\u001b[0m\u001b[0;34m(\u001b[0m\u001b[0mprefilter\u001b[0m\u001b[0;34m.\u001b[0m\u001b[0mESC_MAGIC\u001b[0m\u001b[0;34m)\u001b[0m\u001b[0;34m\u001b[0m\u001b[0m\n\u001b[0;32m-> 2158\u001b[0;31m         \u001b[0;32mreturn\u001b[0m \u001b[0mself\u001b[0m\u001b[0;34m.\u001b[0m\u001b[0mrun_line_magic\u001b[0m\u001b[0;34m(\u001b[0m\u001b[0mmagic_name\u001b[0m\u001b[0;34m,\u001b[0m \u001b[0mmagic_arg_s\u001b[0m\u001b[0;34m)\u001b[0m\u001b[0;34m\u001b[0m\u001b[0m\n\u001b[0m\u001b[1;32m   2159\u001b[0m \u001b[0;34m\u001b[0m\u001b[0m\n\u001b[1;32m   2160\u001b[0m     \u001b[0;31m#-------------------------------------------------------------------------\u001b[0m\u001b[0;34m\u001b[0m\u001b[0;34m\u001b[0m\u001b[0m\n",
      "\u001b[0;32m/opt/conda/envs/biospytial/lib/python2.7/site-packages/IPython/core/interactiveshell.pyc\u001b[0m in \u001b[0;36mrun_line_magic\u001b[0;34m(self, magic_name, line)\u001b[0m\n\u001b[1;32m   2077\u001b[0m                 \u001b[0mkwargs\u001b[0m\u001b[0;34m[\u001b[0m\u001b[0;34m'local_ns'\u001b[0m\u001b[0;34m]\u001b[0m \u001b[0;34m=\u001b[0m \u001b[0msys\u001b[0m\u001b[0;34m.\u001b[0m\u001b[0m_getframe\u001b[0m\u001b[0;34m(\u001b[0m\u001b[0mstack_depth\u001b[0m\u001b[0;34m)\u001b[0m\u001b[0;34m.\u001b[0m\u001b[0mf_locals\u001b[0m\u001b[0;34m\u001b[0m\u001b[0m\n\u001b[1;32m   2078\u001b[0m             \u001b[0;32mwith\u001b[0m \u001b[0mself\u001b[0m\u001b[0;34m.\u001b[0m\u001b[0mbuiltin_trap\u001b[0m\u001b[0;34m:\u001b[0m\u001b[0;34m\u001b[0m\u001b[0m\n\u001b[0;32m-> 2079\u001b[0;31m                 \u001b[0mresult\u001b[0m \u001b[0;34m=\u001b[0m \u001b[0mfn\u001b[0m\u001b[0;34m(\u001b[0m\u001b[0;34m*\u001b[0m\u001b[0margs\u001b[0m\u001b[0;34m,\u001b[0m\u001b[0;34m**\u001b[0m\u001b[0mkwargs\u001b[0m\u001b[0;34m)\u001b[0m\u001b[0;34m\u001b[0m\u001b[0m\n\u001b[0m\u001b[1;32m   2080\u001b[0m             \u001b[0;32mreturn\u001b[0m \u001b[0mresult\u001b[0m\u001b[0;34m\u001b[0m\u001b[0m\n\u001b[1;32m   2081\u001b[0m \u001b[0;34m\u001b[0m\u001b[0m\n",
      "\u001b[0;32m<decorator-gen-59>\u001b[0m in \u001b[0;36mtime\u001b[0;34m(self, line, cell, local_ns)\u001b[0m\n",
      "\u001b[0;32m/opt/conda/envs/biospytial/lib/python2.7/site-packages/IPython/core/magic.pyc\u001b[0m in \u001b[0;36m<lambda>\u001b[0;34m(f, *a, **k)\u001b[0m\n\u001b[1;32m    186\u001b[0m     \u001b[0;31m# but it's overkill for just that one bit of state.\u001b[0m\u001b[0;34m\u001b[0m\u001b[0;34m\u001b[0m\u001b[0m\n\u001b[1;32m    187\u001b[0m     \u001b[0;32mdef\u001b[0m \u001b[0mmagic_deco\u001b[0m\u001b[0;34m(\u001b[0m\u001b[0marg\u001b[0m\u001b[0;34m)\u001b[0m\u001b[0;34m:\u001b[0m\u001b[0;34m\u001b[0m\u001b[0m\n\u001b[0;32m--> 188\u001b[0;31m         \u001b[0mcall\u001b[0m \u001b[0;34m=\u001b[0m \u001b[0;32mlambda\u001b[0m \u001b[0mf\u001b[0m\u001b[0;34m,\u001b[0m \u001b[0;34m*\u001b[0m\u001b[0ma\u001b[0m\u001b[0;34m,\u001b[0m \u001b[0;34m**\u001b[0m\u001b[0mk\u001b[0m\u001b[0;34m:\u001b[0m \u001b[0mf\u001b[0m\u001b[0;34m(\u001b[0m\u001b[0;34m*\u001b[0m\u001b[0ma\u001b[0m\u001b[0;34m,\u001b[0m \u001b[0;34m**\u001b[0m\u001b[0mk\u001b[0m\u001b[0;34m)\u001b[0m\u001b[0;34m\u001b[0m\u001b[0m\n\u001b[0m\u001b[1;32m    189\u001b[0m \u001b[0;34m\u001b[0m\u001b[0m\n\u001b[1;32m    190\u001b[0m         \u001b[0;32mif\u001b[0m \u001b[0mcallable\u001b[0m\u001b[0;34m(\u001b[0m\u001b[0marg\u001b[0m\u001b[0;34m)\u001b[0m\u001b[0;34m:\u001b[0m\u001b[0;34m\u001b[0m\u001b[0m\n",
      "\u001b[0;32m/opt/conda/envs/biospytial/lib/python2.7/site-packages/IPython/core/magics/execution.pyc\u001b[0m in \u001b[0;36mtime\u001b[0;34m(self, line, cell, local_ns)\u001b[0m\n\u001b[1;32m   1178\u001b[0m         \u001b[0;32melse\u001b[0m\u001b[0;34m:\u001b[0m\u001b[0;34m\u001b[0m\u001b[0m\n\u001b[1;32m   1179\u001b[0m             \u001b[0mst\u001b[0m \u001b[0;34m=\u001b[0m \u001b[0mclock2\u001b[0m\u001b[0;34m(\u001b[0m\u001b[0;34m)\u001b[0m\u001b[0;34m\u001b[0m\u001b[0m\n\u001b[0;32m-> 1180\u001b[0;31m             \u001b[0;32mexec\u001b[0m\u001b[0;34m(\u001b[0m\u001b[0mcode\u001b[0m\u001b[0;34m,\u001b[0m \u001b[0mglob\u001b[0m\u001b[0;34m,\u001b[0m \u001b[0mlocal_ns\u001b[0m\u001b[0;34m)\u001b[0m\u001b[0;34m\u001b[0m\u001b[0m\n\u001b[0m\u001b[1;32m   1181\u001b[0m             \u001b[0mend\u001b[0m \u001b[0;34m=\u001b[0m \u001b[0mclock2\u001b[0m\u001b[0;34m(\u001b[0m\u001b[0;34m)\u001b[0m\u001b[0;34m\u001b[0m\u001b[0m\n\u001b[1;32m   1182\u001b[0m             \u001b[0mout\u001b[0m \u001b[0;34m=\u001b[0m \u001b[0mNone\u001b[0m\u001b[0;34m\u001b[0m\u001b[0m\n",
      "\u001b[0;32m<timed exec>\u001b[0m in \u001b[0;36m<module>\u001b[0;34m()\u001b[0m\n",
      "\u001b[0;32m/apps/traversals/strategies.pyc\u001b[0m in \u001b[0;36m<lambda>\u001b[0;34m(tree_list)\u001b[0m\n\u001b[1;32m    135\u001b[0m \u001b[0;34m\u001b[0m\u001b[0m\n\u001b[1;32m    136\u001b[0m \u001b[0;34m\u001b[0m\u001b[0m\n\u001b[0;32m--> 137\u001b[0;31m \u001b[0msumTrees\u001b[0m \u001b[0;34m=\u001b[0m \u001b[0;32mlambda\u001b[0m \u001b[0mtree_list\u001b[0m \u001b[0;34m:\u001b[0m \u001b[0mreduce\u001b[0m\u001b[0;34m(\u001b[0m\u001b[0;32mlambda\u001b[0m \u001b[0ma\u001b[0m\u001b[0;34m,\u001b[0m\u001b[0mb\u001b[0m \u001b[0;34m:\u001b[0m \u001b[0ma\u001b[0m \u001b[0;34m+\u001b[0m \u001b[0mb\u001b[0m \u001b[0;34m,\u001b[0m \u001b[0mtree_list\u001b[0m\u001b[0;34m)\u001b[0m\u001b[0;34m\u001b[0m\u001b[0m\n\u001b[0m\u001b[1;32m    138\u001b[0m \u001b[0;34m\u001b[0m\u001b[0m\n\u001b[1;32m    139\u001b[0m \u001b[0;34m\u001b[0m\u001b[0m\n",
      "\u001b[0;32m/apps/traversals/strategies.pyc\u001b[0m in \u001b[0;36m<lambda>\u001b[0;34m(a, b)\u001b[0m\n\u001b[1;32m    135\u001b[0m \u001b[0;34m\u001b[0m\u001b[0m\n\u001b[1;32m    136\u001b[0m \u001b[0;34m\u001b[0m\u001b[0m\n\u001b[0;32m--> 137\u001b[0;31m \u001b[0msumTrees\u001b[0m \u001b[0;34m=\u001b[0m \u001b[0;32mlambda\u001b[0m \u001b[0mtree_list\u001b[0m \u001b[0;34m:\u001b[0m \u001b[0mreduce\u001b[0m\u001b[0;34m(\u001b[0m\u001b[0;32mlambda\u001b[0m \u001b[0ma\u001b[0m\u001b[0;34m,\u001b[0m\u001b[0mb\u001b[0m \u001b[0;34m:\u001b[0m \u001b[0ma\u001b[0m \u001b[0;34m+\u001b[0m \u001b[0mb\u001b[0m \u001b[0;34m,\u001b[0m \u001b[0mtree_list\u001b[0m\u001b[0;34m)\u001b[0m\u001b[0;34m\u001b[0m\u001b[0m\n\u001b[0m\u001b[1;32m    138\u001b[0m \u001b[0;34m\u001b[0m\u001b[0m\n\u001b[1;32m    139\u001b[0m \u001b[0;34m\u001b[0m\u001b[0m\n",
      "\u001b[0;31mTypeError\u001b[0m: unsupported operand type(s) for +: 'LocalTree' and 'LocalTree'"
     ]
    }
   ],
   "source": [
    "%time btrees = map(sumTrees,trees[0])"
   ]
  },
  {
   "cell_type": "markdown",
   "metadata": {},
   "source": [
    "### flaten the list of trees in 'trees'"
   ]
  },
  {
   "cell_type": "code",
   "execution_count": null,
   "metadata": {
    "collapsed": true
   },
   "outputs": [],
   "source": [
    "flat_ltrees =sumTrees(trees)"
   ]
  },
  {
   "cell_type": "markdown",
   "metadata": {},
   "source": [
    "### Count the frequencies of Nodes based on the list of total trees."
   ]
  },
  {
   "cell_type": "code",
   "execution_count": null,
   "metadata": {
    "collapsed": false
   },
   "outputs": [],
   "source": [
    "map(lambda t : t.countNodesFrequenciesOnList(flat_ltrees),btrees)"
   ]
  },
  {
   "cell_type": "markdown",
   "metadata": {},
   "source": [
    "### Rank taxonomic levels by frquency values"
   ]
  },
  {
   "cell_type": "code",
   "execution_count": null,
   "metadata": {
    "collapsed": false
   },
   "outputs": [],
   "source": [
    "map(lambda t : t.rankLevels(),btrees)"
   ]
  },
  {
   "cell_type": "code",
   "execution_count": null,
   "metadata": {
    "collapsed": false
   },
   "outputs": [],
   "source": [
    "f5 = map(lambda t : t.[:5],btrees)"
   ]
  },
  {
   "cell_type": "code",
   "execution_count": null,
   "metadata": {
    "collapsed": true
   },
   "outputs": [],
   "source": []
  },
  {
   "cell_type": "code",
   "execution_count": null,
   "metadata": {
    "collapsed": false
   },
   "outputs": [],
   "source": [
    "f5"
   ]
  },
  {
   "cell_type": "code",
   "execution_count": null,
   "metadata": {
    "collapsed": false
   },
   "outputs": [],
   "source": [
    "### Testing with an independent sample\n",
    "trees2 = map(lambda i : list(UniformRandomSampleForest(bats_cells,10)),range(10))"
   ]
  },
  {
   "cell_type": "code",
   "execution_count": null,
   "metadata": {
    "collapsed": true
   },
   "outputs": [],
   "source": [
    "flat_ltrees_2 = sumTrees(trees2)"
   ]
  },
  {
   "cell_type": "code",
   "execution_count": null,
   "metadata": {
    "collapsed": true
   },
   "outputs": [],
   "source": [
    "map(lambda t : t.countNodesFrequenciesOnList(flat_ltrees_2),btrees)"
   ]
  },
  {
   "cell_type": "code",
   "execution_count": null,
   "metadata": {
    "collapsed": false
   },
   "outputs": [],
   "source": [
    "map(lambda t : t.rankLevels(),btrees)"
   ]
  },
  {
   "cell_type": "code",
   "execution_count": null,
   "metadata": {
    "collapsed": true
   },
   "outputs": [],
   "source": [
    "f5 = map(lambda t : t.orders[:5],btrees)"
   ]
  },
  {
   "cell_type": "code",
   "execution_count": null,
   "metadata": {
    "collapsed": false
   },
   "outputs": [],
   "source": [
    "f5"
   ]
  },
  {
   "cell_type": "markdown",
   "metadata": {},
   "source": [
    "# Even with different subsets the top ranks are the same!"
   ]
  },
  {
   "cell_type": "code",
   "execution_count": null,
   "metadata": {
    "collapsed": false
   },
   "outputs": [],
   "source": [
    "#We can proceed to select only the plants and perform a similar analysis.\n",
    "plants = map(lambda tree : tree.to_Plantae,btrees)"
   ]
  }
 ],
 "metadata": {
  "kernelspec": {
   "display_name": "Django Shell-Plus",
   "language": "python",
   "name": "django_extensions"
  },
  "language_info": {
   "codemirror_mode": {
    "name": "ipython",
    "version": 2
   },
   "file_extension": ".py",
   "mimetype": "text/x-python",
   "name": "python",
   "nbconvert_exporter": "python",
   "pygments_lexer": "ipython2",
   "version": "2.7.11"
  }
 },
 "nbformat": 4,
 "nbformat_minor": 0
}
