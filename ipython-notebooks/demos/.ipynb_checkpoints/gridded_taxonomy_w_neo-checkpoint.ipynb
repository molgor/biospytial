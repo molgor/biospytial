{
 "cells": [
  {
   "cell_type": "markdown",
   "metadata": {},
   "source": [
    "This Demo shows how to work with different Trees loaded from the Graph Database. "
   ]
  },
  {
   "cell_type": "code",
   "execution_count": 10,
   "metadata": {
    "collapsed": false
   },
   "outputs": [],
   "source": [
    "%matplotlib inline\n",
    "import sys\n",
    "sys.path.append('/apps')\n",
    "import django\n",
    "django.setup()"
   ]
  },
  {
   "cell_type": "markdown",
   "metadata": {},
   "source": [
    "## Import biospytial modules"
   ]
  },
  {
   "cell_type": "code",
   "execution_count": 11,
   "metadata": {
    "collapsed": true
   },
   "outputs": [],
   "source": [
    "from drivers.tree_builder import TreeNeo\n",
    "from drivers.graph_models import graph, Mex4km_\n",
    "from mesh.models import MexMesh\n",
    "from gbif.taxonomy import Occurrence, Taxonomy, GriddedTaxonomy\n",
    "from drivers.graph_models import Cell\n",
    "from drivers.tree_builder import extractOccurrencesFromTaxonomies"
   ]
  },
  {
   "cell_type": "markdown",
   "metadata": {},
   "source": [
    "### How to work with custom polygons ?"
   ]
  },
  {
   "cell_type": "code",
   "execution_count": 12,
   "metadata": {
    "collapsed": true
   },
   "outputs": [],
   "source": [
    "from django.contrib.gis.geos import GEOSGeometry\n",
    "polystr = \"POLYGON((-109 27,-106 27,-106 30,-109 30,-109 27))\"\n",
    "polygon = GEOSGeometry(polystr)"
   ]
  },
  {
   "cell_type": "markdown",
   "metadata": {},
   "source": [
    "### Load mesh class"
   ]
  },
  {
   "cell_type": "code",
   "execution_count": 13,
   "metadata": {
    "collapsed": true
   },
   "outputs": [],
   "source": [
    "mexgrid = MexMesh.objects.filter(cell__intersects=polygon)"
   ]
  },
  {
   "cell_type": "markdown",
   "metadata": {},
   "source": [
    "### Instantiate the biosphere"
   ]
  },
  {
   "cell_type": "code",
   "execution_count": 14,
   "metadata": {
    "collapsed": true
   },
   "outputs": [],
   "source": [
    "biosphere = Occurrence.objects.all()"
   ]
  },
  {
   "cell_type": "markdown",
   "metadata": {},
   "source": [
    "### Filter by geometry"
   ]
  },
  {
   "cell_type": "code",
   "execution_count": 15,
   "metadata": {
    "collapsed": true
   },
   "outputs": [],
   "source": [
    "subbiosphere = biosphere.filter(geom__intersects=polygon)"
   ]
  },
  {
   "cell_type": "markdown",
   "metadata": {},
   "source": [
    "### Instantiate Gridded Taxonomy"
   ]
  },
  {
   "cell_type": "code",
   "execution_count": 16,
   "metadata": {
    "collapsed": false
   },
   "outputs": [
    {
     "name": "stderr",
     "output_type": "stream",
     "text": [
      "Exception django.contrib.gis.gdal.error.GDALException: GDALException('Invalid pointer returned from \"GDALClose\"',) in "
     ]
    }
   ],
   "source": [
    "ggg = GriddedTaxonomy(subbiosphere,mexgrid.filter(cell__intersects=polystr),'mex4km',generate_tree_now=False,use_id_as_name=False)"
   ]
  },
  {
   "cell_type": "markdown",
   "metadata": {},
   "source": [
    "### Load some trees\n",
    "If we load all of them it will take a lot of time (31 mins (in local machine))."
   ]
  },
  {
   "cell_type": "code",
   "execution_count": 17,
   "metadata": {
    "collapsed": true
   },
   "outputs": [],
   "source": [
    "taxonomies = ggg.taxonomies[0:200]"
   ]
  },
  {
   "cell_type": "markdown",
   "metadata": {},
   "source": [
    "### Let's load the data from the graphdb"
   ]
  },
  {
   "cell_type": "code",
   "execution_count": 18,
   "metadata": {
    "collapsed": false
   },
   "outputs": [],
   "source": [
    "trees = map(lambda t : t.loadFromGraphDB(),taxonomies)"
   ]
  },
  {
   "cell_type": "markdown",
   "metadata": {
    "collapsed": true
   },
   "source": [
    "### Sort it, ... ;)"
   ]
  },
  {
   "cell_type": "code",
   "execution_count": 19,
   "metadata": {
    "collapsed": false
   },
   "outputs": [],
   "source": [
    "trees.sort(key=lambda l : l.richness, reverse=True)"
   ]
  },
  {
   "cell_type": "code",
   "execution_count": 20,
   "metadata": {
    "collapsed": false
   },
   "outputs": [
    {
     "data": {
      "text/plain": [
       "455"
      ]
     },
     "execution_count": 20,
     "metadata": {},
     "output_type": "execute_result"
    }
   ],
   "source": [
    "trees[0].richness"
   ]
  },
  {
   "cell_type": "markdown",
   "metadata": {},
   "source": [
    "### Ok, let's explore this *super* node"
   ]
  },
  {
   "cell_type": "code",
   "execution_count": 21,
   "metadata": {
    "collapsed": true
   },
   "outputs": [],
   "source": [
    "st = trees[0]"
   ]
  },
  {
   "cell_type": "markdown",
   "metadata": {},
   "source": [
    "### mmhh... vertebrates ? "
   ]
  },
  {
   "cell_type": "code",
   "execution_count": 22,
   "metadata": {
    "collapsed": false
   },
   "outputs": [
    {
     "data": {
      "text/plain": [
       "<TreeNode | Phylum: Chordata - n.count : 30- >"
      ]
     },
     "execution_count": 22,
     "metadata": {},
     "output_type": "execute_result"
    }
   ],
   "source": [
    "st.to_Animalia.to_Chordata"
   ]
  },
  {
   "cell_type": "markdown",
   "metadata": {},
   "source": [
    "### Let birds be :"
   ]
  },
  {
   "cell_type": "code",
   "execution_count": 23,
   "metadata": {
    "collapsed": true
   },
   "outputs": [],
   "source": [
    "birds = st.to_Animalia.to_Chordata.to_Aves"
   ]
  },
  {
   "cell_type": "code",
   "execution_count": 24,
   "metadata": {
    "collapsed": false
   },
   "outputs": [
    {
     "data": {
      "text/plain": [
       "4"
      ]
     },
     "execution_count": 24,
     "metadata": {},
     "output_type": "execute_result"
    }
   ],
   "source": [
    "birds.richness"
   ]
  },
  {
   "cell_type": "markdown",
   "metadata": {},
   "source": [
    "### Give me environmental conditions"
   ]
  },
  {
   "cell_type": "code",
   "execution_count": 25,
   "metadata": {
    "collapsed": true
   },
   "outputs": [],
   "source": [
    "environment = birds.associatedData.getEnvironmentalVariablesPoints()"
   ]
  },
  {
   "cell_type": "code",
   "execution_count": 26,
   "metadata": {
    "collapsed": false
   },
   "outputs": [
    {
     "data": {
      "text/html": [
       "<div>\n",
       "<table border=\"1\" class=\"dataframe\">\n",
       "  <thead>\n",
       "    <tr style=\"text-align: right;\">\n",
       "      <th></th>\n",
       "      <th>MaxTemperature_mean</th>\n",
       "      <th>MaxTemperature_std</th>\n",
       "      <th>MeanTemperature_mean</th>\n",
       "      <th>MeanTemperature_std</th>\n",
       "      <th>MinTemperature_mean</th>\n",
       "      <th>MinTemperature_std</th>\n",
       "      <th>Precipitation_mean</th>\n",
       "      <th>Precipitation_std</th>\n",
       "      <th>Vapor_mean</th>\n",
       "      <th>Vapor_std</th>\n",
       "      <th>SolarRadiation_mean</th>\n",
       "      <th>SolarRadiation_std</th>\n",
       "      <th>WindSpeed_mean</th>\n",
       "      <th>WindSpeed_std</th>\n",
       "    </tr>\n",
       "  </thead>\n",
       "  <tbody>\n",
       "    <tr>\n",
       "      <th>0</th>\n",
       "      <td>2.166667</td>\n",
       "      <td>5.828569</td>\n",
       "      <td>11.916667</td>\n",
       "      <td>5.780114</td>\n",
       "      <td>21.416667</td>\n",
       "      <td>5.648869</td>\n",
       "      <td>32.75</td>\n",
       "      <td>29.115073</td>\n",
       "      <td>0.5</td>\n",
       "      <td>0.5</td>\n",
       "      <td>18873.25</td>\n",
       "      <td>4659.300683</td>\n",
       "      <td>3.416667</td>\n",
       "      <td>0.640095</td>\n",
       "    </tr>\n",
       "    <tr>\n",
       "      <th>1</th>\n",
       "      <td>2.166667</td>\n",
       "      <td>5.828569</td>\n",
       "      <td>11.916667</td>\n",
       "      <td>5.780114</td>\n",
       "      <td>21.416667</td>\n",
       "      <td>5.648869</td>\n",
       "      <td>32.75</td>\n",
       "      <td>29.115073</td>\n",
       "      <td>0.5</td>\n",
       "      <td>0.5</td>\n",
       "      <td>18873.25</td>\n",
       "      <td>4659.300683</td>\n",
       "      <td>3.416667</td>\n",
       "      <td>0.640095</td>\n",
       "    </tr>\n",
       "    <tr>\n",
       "      <th>2</th>\n",
       "      <td>2.166667</td>\n",
       "      <td>5.828569</td>\n",
       "      <td>11.916667</td>\n",
       "      <td>5.780114</td>\n",
       "      <td>21.416667</td>\n",
       "      <td>5.648869</td>\n",
       "      <td>32.75</td>\n",
       "      <td>29.115073</td>\n",
       "      <td>0.5</td>\n",
       "      <td>0.5</td>\n",
       "      <td>18873.25</td>\n",
       "      <td>4659.300683</td>\n",
       "      <td>3.416667</td>\n",
       "      <td>0.640095</td>\n",
       "    </tr>\n",
       "    <tr>\n",
       "      <th>3</th>\n",
       "      <td>2.166667</td>\n",
       "      <td>5.828569</td>\n",
       "      <td>11.916667</td>\n",
       "      <td>5.780114</td>\n",
       "      <td>21.416667</td>\n",
       "      <td>5.648869</td>\n",
       "      <td>32.75</td>\n",
       "      <td>29.115073</td>\n",
       "      <td>0.5</td>\n",
       "      <td>0.5</td>\n",
       "      <td>18873.25</td>\n",
       "      <td>4659.300683</td>\n",
       "      <td>3.416667</td>\n",
       "      <td>0.640095</td>\n",
       "    </tr>\n",
       "  </tbody>\n",
       "</table>\n",
       "</div>"
      ],
      "text/plain": [
       "   MaxTemperature_mean  MaxTemperature_std  MeanTemperature_mean  \\\n",
       "0             2.166667            5.828569             11.916667   \n",
       "1             2.166667            5.828569             11.916667   \n",
       "2             2.166667            5.828569             11.916667   \n",
       "3             2.166667            5.828569             11.916667   \n",
       "\n",
       "   MeanTemperature_std  MinTemperature_mean  MinTemperature_std  \\\n",
       "0             5.780114            21.416667            5.648869   \n",
       "1             5.780114            21.416667            5.648869   \n",
       "2             5.780114            21.416667            5.648869   \n",
       "3             5.780114            21.416667            5.648869   \n",
       "\n",
       "   Precipitation_mean  Precipitation_std  Vapor_mean  Vapor_std  \\\n",
       "0               32.75          29.115073         0.5        0.5   \n",
       "1               32.75          29.115073         0.5        0.5   \n",
       "2               32.75          29.115073         0.5        0.5   \n",
       "3               32.75          29.115073         0.5        0.5   \n",
       "\n",
       "   SolarRadiation_mean  SolarRadiation_std  WindSpeed_mean  WindSpeed_std  \n",
       "0             18873.25         4659.300683        3.416667       0.640095  \n",
       "1             18873.25         4659.300683        3.416667       0.640095  \n",
       "2             18873.25         4659.300683        3.416667       0.640095  \n",
       "3             18873.25         4659.300683        3.416667       0.640095  "
      ]
     },
     "execution_count": 26,
     "metadata": {},
     "output_type": "execute_result"
    }
   ],
   "source": [
    "environment"
   ]
  },
  {
   "cell_type": "markdown",
   "metadata": {},
   "source": [
    "## Explore the neighbours"
   ]
  },
  {
   "cell_type": "code",
   "execution_count": 30,
   "metadata": {
    "collapsed": false
   },
   "outputs": [],
   "source": [
    "ns = birds.getNeighboringTrees()"
   ]
  },
  {
   "cell_type": "code",
   "execution_count": 31,
   "metadata": {
    "collapsed": false
   },
   "outputs": [
    {
     "data": {
      "text/plain": [
       "<drivers.tree_builder.Neighbourhood at 0x7f93c889fed0>"
      ]
     },
     "execution_count": 31,
     "metadata": {},
     "output_type": "execute_result"
    }
   ],
   "source": [
    "ns"
   ]
  },
  {
   "cell_type": "code",
   "execution_count": null,
   "metadata": {
    "collapsed": true
   },
   "outputs": [],
   "source": []
  }
 ],
 "metadata": {
  "kernelspec": {
   "display_name": "Django Shell-Plus",
   "language": "python",
   "name": "django_extensions"
  },
  "language_info": {
   "codemirror_mode": {
    "name": "ipython",
    "version": 2
   },
   "file_extension": ".py",
   "mimetype": "text/x-python",
   "name": "python",
   "nbconvert_exporter": "python",
   "pygments_lexer": "ipython2",
   "version": "2.7.11"
  }
 },
 "nbformat": 4,
 "nbformat_minor": 0
}
