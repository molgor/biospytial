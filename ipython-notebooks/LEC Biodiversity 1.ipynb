{
 "cells": [
  {
   "cell_type": "markdown",
   "metadata": {},
   "source": [
    "# Biodiversity Studies in Lancanshire, UK"
   ]
  },
  {
   "cell_type": "markdown",
   "metadata": {},
   "source": [
    "In this example we will see how to obtain records from the GBIF API. Insert them into the system for further analysis.\n"
   ]
  },
  {
   "cell_type": "code",
   "execution_count": 81,
   "metadata": {},
   "outputs": [],
   "source": [
    "#First thing first. Load all the biospytial suit\n",
    "import sys\n",
    "%matplotlib inline\n",
    "sys.path.append('/apps')\n",
    "import django\n",
    "django.setup()"
   ]
  },
  {
   "cell_type": "markdown",
   "metadata": {},
   "source": [
    "## Selecting the region.\n",
    "First we need to define a study region. For simplicity we will use a WGS84 GRS wit geographic coordinates. (This GSR is the standard and has no projection)\n"
   ]
  },
  {
   "cell_type": "markdown",
   "metadata": {},
   "source": [
    "![Startig region](cumbria.png \"The region\")\n"
   ]
  },
  {
   "cell_type": "markdown",
   "metadata": {},
   "source": [
    "We will use the Biospytial tools for generating a polygon in WKT (Well Known Text) format. The polygon will be 1 degree square with center at the lake district (Windemere).\n"
   ]
  },
  {
   "cell_type": "code",
   "execution_count": 91,
   "metadata": {
    "collapsed": true
   },
   "outputs": [],
   "source": [
    "from mesh import tools as tl\n",
    "windemere = (-2.905,54.376)\n",
    "carnforth = (-2.835,54.179) \n",
    "dd = tl.create_rectangle_from_two_points((0,0),(1,1),with_center=windemere)"
   ]
  },
  {
   "cell_type": "code",
   "execution_count": 92,
   "metadata": {},
   "outputs": [],
   "source": []
  },
  {
   "cell_type": "code",
   "execution_count": 93,
   "metadata": {},
   "outputs": [
    {
     "data": {
      "image/svg+xml": [
       "<svg xmlns=\"http://www.w3.org/2000/svg\" xmlns:xlink=\"http://www.w3.org/1999/xlink\" width=\"100.0\" height=\"100.0\" viewBox=\"-3.445 53.836 1.08 1.08\" preserveAspectRatio=\"xMinYMin meet\"><g transform=\"matrix(1,0,0,-1,0,108.752)\"><path fill-rule=\"evenodd\" fill=\"#66cc99\" stroke=\"#555555\" stroke-width=\"0.0216\" opacity=\"0.6\" d=\"M -3.405,53.876 L -3.405,54.876 L -2.405,54.876 L -2.405,53.876 L -3.405,53.876 z\" /></g></svg>"
      ],
      "text/plain": [
       "<shapely.geometry.polygon.Polygon at 0x7fbdbc158490>"
      ]
     },
     "execution_count": 93,
     "metadata": {},
     "output_type": "execute_result"
    }
   ],
   "source": [
    "dd['polygon']"
   ]
  },
  {
   "cell_type": "code",
   "execution_count": 94,
   "metadata": {},
   "outputs": [
    {
     "data": {
      "text/plain": [
       "'POLYGON ((-3.405 53.876, -3.405 54.876, -2.405 54.876, -2.405 53.876, -3.405 53.876))'"
      ]
     },
     "execution_count": 94,
     "metadata": {},
     "output_type": "execute_result"
    }
   ],
   "source": [
    "dd['polygon'].wkt"
   ]
  },
  {
   "cell_type": "code",
   "execution_count": null,
   "metadata": {
    "collapsed": true
   },
   "outputs": [],
   "source": []
  },
  {
   "cell_type": "markdown",
   "metadata": {
    "collapsed": true
   },
   "source": [
    "## Create a Grid at several spatial resolutions"
   ]
  },
  {
   "cell_type": "code",
   "execution_count": 12,
   "metadata": {},
   "outputs": [
    {
     "name": "stderr",
     "output_type": "stream",
     "text": [
      "INFO Generating Grid carnforth1\n",
      "INFO Done: [(u'Table created',)]\n",
      "INFO Generating Grid carnforth2\n",
      "INFO Done: [(u'Table created',)]\n",
      "INFO Generating Grid carnforth4\n",
      "INFO Done: [(u'Table created',)]\n",
      "INFO Generating Grid carnforth8\n",
      "INFO Done: [(u'Table created',)]\n",
      "INFO Generating Grid carnforth16\n",
      "INFO Done: [(u'Table created',)]\n",
      "INFO Generating Grid carnforth32\n",
      "INFO Done: [(u'Table created',)]\n",
      "INFO Generating Grid carnforth64\n",
      "INFO Done: [(u'Table created',)]\n",
      "INFO Generating Grid carnforth128\n",
      "INFO Done: [(u'Table created',)]\n",
      "INFO Generating Grid carnforth256\n",
      "INFO Done: [(u'Table created',)]\n",
      "INFO Generating Grid carnforth512\n",
      "INFO Done: [(u'Table created',)]\n"
     ]
    },
    {
     "name": "stdout",
     "output_type": "stream",
     "text": [
      "CPU times: user 16min 52s, sys: 21.4 s, total: 17min 13s\n",
      "Wall time: 1h 2min 53s\n"
     ]
    },
    {
     "data": {
      "text/plain": [
       "{0: 'mesh\".\"carnforth1',\n",
       " 1: 'mesh\".\"carnforth2',\n",
       " 2: 'mesh\".\"carnforth4',\n",
       " 3: 'mesh\".\"carnforth8',\n",
       " 4: 'mesh\".\"carnforth16',\n",
       " 5: 'mesh\".\"carnforth32',\n",
       " 6: 'mesh\".\"carnforth64',\n",
       " 7: 'mesh\".\"carnforth128',\n",
       " 8: 'mesh\".\"carnforth256',\n",
       " 9: 'mesh\".\"carnforth512'}"
      ]
     },
     "execution_count": 12,
     "metadata": {},
     "output_type": "execute_result"
    }
   ],
   "source": [
    "%time tl.createRegionalNestedGrid(parent_square=dd['polygon'],store_prefix=\"carnforth\",n_levels=10)"
   ]
  },
  {
   "cell_type": "markdown",
   "metadata": {},
   "source": [
    "### Uff! took a lot. Perhaps we don't need so much spatial resolution"
   ]
  },
  {
   "cell_type": "markdown",
   "metadata": {},
   "source": [
    "## Get data from the GBIF API\n",
    "We are going to test the api using a lancaster polygon (very simple, just a square)"
   ]
  },
  {
   "cell_type": "code",
   "execution_count": 98,
   "metadata": {},
   "outputs": [],
   "source": [
    "square = tl.create_rectangle_from_two_points((0,0),(0.125,0.125),with_center=carnforth)"
   ]
  },
  {
   "cell_type": "code",
   "execution_count": 100,
   "metadata": {},
   "outputs": [
    {
     "data": {
      "text/plain": [
       "'POLYGON ((-2.8975 54.1165, -2.8975 54.2415, -2.7725 54.2415, -2.7725 54.1165, -2.8975 54.1165))'"
      ]
     },
     "execution_count": 100,
     "metadata": {},
     "output_type": "execute_result"
    }
   ],
   "source": [
    "square['polygon'].wkt"
   ]
  },
  {
   "cell_type": "code",
   "execution_count": 17,
   "metadata": {
    "collapsed": true
   },
   "outputs": [],
   "source": [
    "import drivers.populate as pop"
   ]
  },
  {
   "cell_type": "code",
   "execution_count": 19,
   "metadata": {
    "collapsed": true
   },
   "outputs": [],
   "source": [
    "test1 = pop.getOccurrencesDriver(lancaster)"
   ]
  },
  {
   "cell_type": "code",
   "execution_count": 22,
   "metadata": {},
   "outputs": [],
   "source": [
    "test2 = pop.getOccurrenceN(lancaster)"
   ]
  },
  {
   "cell_type": "code",
   "execution_count": 25,
   "metadata": {},
   "outputs": [],
   "source": [
    "test3 = pop.curateOccurrences(test2)"
   ]
  },
  {
   "cell_type": "code",
   "execution_count": 28,
   "metadata": {},
   "outputs": [
    {
     "data": {
      "text/plain": [
       "{u'basisOfRecord': u'HUMAN_OBSERVATION',\n",
       " u'catalogNumber': u'5134596',\n",
       " u'class': u'Liliopsida',\n",
       " u'classKey': 196,\n",
       " u'collectionCode': u'Observations',\n",
       " u'coordinateUncertaintyInMeters': 8.0,\n",
       " u'country': u'United Kingdom',\n",
       " u'countryCode': u'GB',\n",
       " u'crawlId': 66,\n",
       " u'datasetKey': u'50c9509d-22c7-4a22-a47d-8c48425ef4a7',\n",
       " u'datasetName': u'iNaturalist research-grade observations',\n",
       " u'dateIdentified': u'2017-02-19T14:26:21.000+0000',\n",
       " u'day': 29,\n",
       " u'decimalLatitude': 54.634415,\n",
       " u'decimalLongitude': -2.725071,\n",
       " u'eventDate': u'2017-01-29T15:10:00.000+0000',\n",
       " u'eventTime': u'15:10:00Z',\n",
       " u'extensions': {},\n",
       " u'facts': [],\n",
       " u'family': u'Amaryllidaceae',\n",
       " u'familyKey': 7682,\n",
       " u'gbifID': u'1453438929',\n",
       " u'genericName': u'Galanthus',\n",
       " u'genus': u'Galanthus',\n",
       " u'genusKey': 2855324,\n",
       " u'geodeticDatum': u'WGS84',\n",
       " u'http://unknown.org/occurrenceDetails': u'https://www.inaturalist.org/observations/5134596',\n",
       " u'identificationID': u'10492711',\n",
       " u'identifier': u'5134596',\n",
       " u'identifiers': [],\n",
       " u'institutionCode': u'iNaturalist',\n",
       " u'issues': [u'COORDINATE_ROUNDED', u'GEODETIC_DATUM_ASSUMED_WGS84'],\n",
       " u'key': 1453438929,\n",
       " u'kingdom': u'Plantae',\n",
       " u'kingdomKey': 6,\n",
       " u'lastCrawled': u'2017-04-05T12:02:29.362+0000',\n",
       " u'lastInterpreted': u'2017-03-29T19:56:45.549+0000',\n",
       " u'lastParsed': u'2017-03-29T16:57:39.615+0000',\n",
       " u'license': u'http://creativecommons.org/licenses/by-nc/4.0/legalcode',\n",
       " u'modified': u'2017-02-27T15:10:00.000+0000',\n",
       " u'month': 1,\n",
       " u'occurrenceID': u'https://www.inaturalist.org/observations/5134596',\n",
       " u'order': u'Asparagales',\n",
       " u'orderKey': 1169,\n",
       " u'phylum': u'Tracheophyta',\n",
       " u'phylumKey': 7707728,\n",
       " u'protocol': u'DWC_ARCHIVE',\n",
       " u'publishingCountry': u'US',\n",
       " u'publishingOrgKey': u'28eb1a3f-1c15-4a95-931a-4af90ecb574d',\n",
       " u'recordedBy': u'joel',\n",
       " u'references': u'https://www.inaturalist.org/observations/5134596',\n",
       " u'relations': [],\n",
       " u'rights': u'\\xa9 joel some rights reserved',\n",
       " u'rightsHolder': u'joel',\n",
       " u'scientificName': u'Galanthus nivalis L.',\n",
       " u'species': u'Galanthus nivalis',\n",
       " u'speciesKey': 2855356,\n",
       " u'specificEpithet': u'nivalis',\n",
       " u'taxonID': u'51606',\n",
       " u'taxonKey': 2855356,\n",
       " u'taxonRank': u'SPECIES',\n",
       " u'verbatimEventDate': u'2017/01/29 3:10 PM GMT',\n",
       " u'verbatimLocality': u'Cumbria, UK',\n",
       " u'year': 2017}"
      ]
     },
     "execution_count": 28,
     "metadata": {},
     "output_type": "execute_result"
    }
   ],
   "source": [
    "test3[0]"
   ]
  },
  {
   "cell_type": "markdown",
   "metadata": {},
   "source": [
    "#### It works!"
   ]
  },
  {
   "cell_type": "code",
   "execution_count": 31,
   "metadata": {},
   "outputs": [
    {
     "data": {
      "text/plain": [
       "20"
      ]
     },
     "execution_count": 31,
     "metadata": {},
     "output_type": "execute_result"
    }
   ],
   "source": [
    "len(test3)"
   ]
  },
  {
   "cell_type": "markdown",
   "metadata": {},
   "source": [
    "# Selection from irregular polygon Carnforth"
   ]
  },
  {
   "cell_type": "markdown",
   "metadata": {},
   "source": [
    "We'll select the small forest close to Carnforth. Remmeber that we're going to make a field trip here.\n",
    "First we need to select or draw a polygon. After this, it will be necessary to extract the WKT representation. \n",
    "This can be done with a GIS I recommend an open source like QGIS. It's a great option for that.\n",
    "Anyways, the region looks like this:\n",
    "\n",
    "![Carnforth](carnford_poly.png \"The region\")\n",
    "\n",
    "And the WKT looks like this:\n"
   ]
  },
  {
   "cell_type": "code",
   "execution_count": 44,
   "metadata": {},
   "outputs": [],
   "source": [
    "carnforth = \"\"\"\n",
    "POLYGON((-2.83563195691157111 54.17926928961760069,\n",
    "-2.83539915731830927 54.18069011861378925,\n",
    "-2.83413538809774712 54.18201358663966971,\n",
    "-2.83140830714811242 54.18374570873312734,\n",
    "-2.82961242457152329 54.18477716270070488,\n",
    "-2.82791631324918979 54.18485500723890169,\n",
    "-2.82222935175665857 54.18569182676827012,\n",
    "-2.81853781534922598 54.18742379477898652,\n",
    "-2.81541164938257182 54.18775461187626519,\n",
    "-2.81374879514498932 54.18538045403823844,\n",
    "-2.81221896924641435 54.18495231270554768,\n",
    "-2.81158708463613261 54.18388193997721913,\n",
    "-2.81311691053470847 54.18353163015696339,\n",
    "-2.81215245507691058 54.18281153953918761,\n",
    "-2.81221896924641435 54.18281153953918761,\n",
    "-2.81201942673790395 54.18170218620905132,\n",
    "-2.81205268382265583 54.18170218620905132,\n",
    "-2.8132831959584661 54.18067065553266559,\n",
    "-2.81228548341591722 54.17952231753204728,\n",
    "-2.8112877708733679 54.17882162105333776,\n",
    "-2.81058937209358373 54.17874376515618451,\n",
    "-2.8105561150088314 54.17763430269558,\n",
    "-2.81035657250032189 54.17706982791483483,\n",
    "-2.81201942673790395 54.17794573375945788,\n",
    "-2.81138754212762265 54.17673892532349811,\n",
    "-2.81181988422939444 54.17646641531916174,\n",
    "-2.81414788016200923 54.17860751698346178,\n",
    "-2.81597701982334936 54.17779001852066756,\n",
    "-2.81767313114568374 54.17706982791483483,\n",
    "-2.81926947121376248 54.17605764694599202,\n",
    "-2.82166398131588059 54.17543475403734021,\n",
    "-2.82269495094318179 54.17502597546787513,\n",
    "-2.82146443880737063 54.17397481202353759,\n",
    "-2.82365940640097923 54.17294308859210616,\n",
    "-2.82585437399458783 54.17342975379452952,\n",
    "-2.82751722823216989 54.17629122936821062,\n",
    "-2.82864796911372585 54.17545421958273266,\n",
    "-2.83067665128357593 54.17525956371656548,\n",
    "-2.83500007230128936 54.17814037698347107,\n",
    "-2.83563195691157111 54.17926928961760069))\n",
    "\"\"\""
   ]
  },
  {
   "cell_type": "markdown",
   "metadata": {},
   "source": [
    "## Now, let's try to bring all the Occurrences here"
   ]
  },
  {
   "cell_type": "code",
   "execution_count": 45,
   "metadata": {
    "scrolled": true
   },
   "outputs": [
    {
     "name": "stderr",
     "output_type": "stream",
     "text": [
      "WARNING Missing data in field 'catalogNumber':\n",
      "WARNING:biospytial.gbif.taxonomy:Missing data in field 'catalogNumber':\n",
      "WARNING Missing data in field 'catalogNumber':\n",
      "WARNING:biospytial.gbif.taxonomy:Missing data in field 'catalogNumber':\n",
      "WARNING Missing data in field 'specificEpithet':\n",
      "WARNING:biospytial.gbif.taxonomy:Missing data in field 'specificEpithet':\n",
      "DEBUG Retrieving information from the server. Offset:1\n",
      "DEBUG:biospytial.gbif.taxonomy:Retrieving information from the server. Offset:1\n",
      "WARNING Missing data in field 'catalogNumber':\n",
      "WARNING:biospytial.gbif.taxonomy:Missing data in field 'catalogNumber':\n",
      "WARNING Missing data in field 'specificEpithet':\n",
      "WARNING:biospytial.gbif.taxonomy:Missing data in field 'specificEpithet':\n",
      "WARNING Missing data in field 'catalogNumber':\n",
      "WARNING:biospytial.gbif.taxonomy:Missing data in field 'catalogNumber':\n",
      "DEBUG Retrieving information from the server. Offset:2\n",
      "DEBUG:biospytial.gbif.taxonomy:Retrieving information from the server. Offset:2\n",
      "WARNING Missing data in field 'specificEpithet':\n",
      "WARNING:biospytial.gbif.taxonomy:Missing data in field 'specificEpithet':\n",
      "WARNING Missing data in field 'catalogNumber':\n",
      "WARNING:biospytial.gbif.taxonomy:Missing data in field 'catalogNumber':\n",
      "WARNING Missing data in field 'catalogNumber':\n",
      "WARNING:biospytial.gbif.taxonomy:Missing data in field 'catalogNumber':\n",
      "DEBUG Retrieving information from the server. Offset:3\n",
      "DEBUG:biospytial.gbif.taxonomy:Retrieving information from the server. Offset:3\n",
      "WARNING Missing data in field 'specificEpithet':\n",
      "WARNING:biospytial.gbif.taxonomy:Missing data in field 'specificEpithet':\n",
      "WARNING Missing data in field 'catalogNumber':\n",
      "WARNING:biospytial.gbif.taxonomy:Missing data in field 'catalogNumber':\n",
      "WARNING Missing data in field 'catalogNumber':\n",
      "WARNING:biospytial.gbif.taxonomy:Missing data in field 'catalogNumber':\n",
      "WARNING Missing data in field 'catalogNumber':\n",
      "WARNING:biospytial.gbif.taxonomy:Missing data in field 'catalogNumber':\n",
      "DEBUG Retrieving information from the server. Offset:4\n",
      "DEBUG:biospytial.gbif.taxonomy:Retrieving information from the server. Offset:4\n",
      "WARNING Missing data in field 'specificEpithet':\n",
      "WARNING:biospytial.gbif.taxonomy:Missing data in field 'specificEpithet':\n",
      "WARNING Missing data in field 'catalogNumber':\n",
      "WARNING:biospytial.gbif.taxonomy:Missing data in field 'catalogNumber':\n",
      "WARNING Missing data in field 'catalogNumber':\n",
      "WARNING:biospytial.gbif.taxonomy:Missing data in field 'catalogNumber':\n",
      "WARNING Missing data in field 'catalogNumber':\n",
      "WARNING:biospytial.gbif.taxonomy:Missing data in field 'catalogNumber':\n",
      "WARNING Missing data in field 'catalogNumber':\n",
      "WARNING:biospytial.gbif.taxonomy:Missing data in field 'catalogNumber':\n",
      "DEBUG Retrieving information from the server. Offset:5\n",
      "DEBUG:biospytial.gbif.taxonomy:Retrieving information from the server. Offset:5\n",
      "WARNING Missing data in field 'catalogNumber':\n",
      "WARNING:biospytial.gbif.taxonomy:Missing data in field 'catalogNumber':\n",
      "WARNING Missing data in field 'catalogNumber':\n",
      "WARNING:biospytial.gbif.taxonomy:Missing data in field 'catalogNumber':\n",
      "WARNING Missing data in field 'catalogNumber':\n",
      "WARNING:biospytial.gbif.taxonomy:Missing data in field 'catalogNumber':\n",
      "WARNING Missing data in field 'catalogNumber':\n",
      "WARNING:biospytial.gbif.taxonomy:Missing data in field 'catalogNumber':\n",
      "WARNING Missing data in field 'catalogNumber':\n",
      "WARNING:biospytial.gbif.taxonomy:Missing data in field 'catalogNumber':\n",
      "DEBUG Retrieving information from the server. Offset:6\n",
      "DEBUG:biospytial.gbif.taxonomy:Retrieving information from the server. Offset:6\n",
      "WARNING Missing data in field 'catalogNumber':\n",
      "WARNING:biospytial.gbif.taxonomy:Missing data in field 'catalogNumber':\n",
      "WARNING Missing data in field 'catalogNumber':\n",
      "WARNING:biospytial.gbif.taxonomy:Missing data in field 'catalogNumber':\n",
      "WARNING Missing data in field 'catalogNumber':\n",
      "WARNING:biospytial.gbif.taxonomy:Missing data in field 'catalogNumber':\n",
      "WARNING Missing data in field 'catalogNumber':\n",
      "WARNING:biospytial.gbif.taxonomy:Missing data in field 'catalogNumber':\n",
      "WARNING Missing data in field 'catalogNumber':\n",
      "WARNING:biospytial.gbif.taxonomy:Missing data in field 'catalogNumber':\n",
      "WARNING Missing data in field 'catalogNumber':\n",
      "WARNING:biospytial.gbif.taxonomy:Missing data in field 'catalogNumber':\n",
      "DEBUG Retrieving information from the server. Offset:7\n",
      "DEBUG:biospytial.gbif.taxonomy:Retrieving information from the server. Offset:7\n",
      "WARNING Missing data in field 'catalogNumber':\n",
      "WARNING:biospytial.gbif.taxonomy:Missing data in field 'catalogNumber':\n",
      "WARNING Missing data in field 'catalogNumber':\n",
      "WARNING:biospytial.gbif.taxonomy:Missing data in field 'catalogNumber':\n",
      "WARNING Missing data in field 'catalogNumber':\n",
      "WARNING:biospytial.gbif.taxonomy:Missing data in field 'catalogNumber':\n",
      "WARNING Missing data in field 'catalogNumber':\n",
      "WARNING:biospytial.gbif.taxonomy:Missing data in field 'catalogNumber':\n",
      "WARNING Missing data in field 'catalogNumber':\n",
      "WARNING:biospytial.gbif.taxonomy:Missing data in field 'catalogNumber':\n",
      "WARNING Missing data in field 'catalogNumber':\n",
      "WARNING:biospytial.gbif.taxonomy:Missing data in field 'catalogNumber':\n",
      "WARNING Missing data in field 'catalogNumber':\n",
      "WARNING:biospytial.gbif.taxonomy:Missing data in field 'catalogNumber':\n",
      "DEBUG Retrieving information from the server. Offset:8\n",
      "DEBUG:biospytial.gbif.taxonomy:Retrieving information from the server. Offset:8\n",
      "WARNING Missing data in field 'catalogNumber':\n",
      "WARNING:biospytial.gbif.taxonomy:Missing data in field 'catalogNumber':\n",
      "WARNING Missing data in field 'catalogNumber':\n",
      "WARNING:biospytial.gbif.taxonomy:Missing data in field 'catalogNumber':\n",
      "WARNING Missing data in field 'catalogNumber':\n",
      "WARNING:biospytial.gbif.taxonomy:Missing data in field 'catalogNumber':\n",
      "WARNING Missing data in field 'catalogNumber':\n",
      "WARNING:biospytial.gbif.taxonomy:Missing data in field 'catalogNumber':\n",
      "WARNING Missing data in field 'catalogNumber':\n",
      "WARNING:biospytial.gbif.taxonomy:Missing data in field 'catalogNumber':\n",
      "WARNING Missing data in field 'catalogNumber':\n",
      "WARNING:biospytial.gbif.taxonomy:Missing data in field 'catalogNumber':\n",
      "WARNING Missing data in field 'catalogNumber':\n",
      "WARNING:biospytial.gbif.taxonomy:Missing data in field 'catalogNumber':\n",
      "WARNING Missing data in field 'catalogNumber':\n",
      "WARNING:biospytial.gbif.taxonomy:Missing data in field 'catalogNumber':\n",
      "DEBUG Retrieving information from the server. Offset:9\n",
      "DEBUG:biospytial.gbif.taxonomy:Retrieving information from the server. Offset:9\n",
      "WARNING Missing data in field 'catalogNumber':\n",
      "WARNING:biospytial.gbif.taxonomy:Missing data in field 'catalogNumber':\n",
      "WARNING Missing data in field 'catalogNumber':\n",
      "WARNING:biospytial.gbif.taxonomy:Missing data in field 'catalogNumber':\n",
      "WARNING Missing data in field 'catalogNumber':\n",
      "WARNING:biospytial.gbif.taxonomy:Missing data in field 'catalogNumber':\n",
      "WARNING Missing data in field 'catalogNumber':\n",
      "WARNING:biospytial.gbif.taxonomy:Missing data in field 'catalogNumber':\n",
      "WARNING Missing data in field 'catalogNumber':\n",
      "WARNING:biospytial.gbif.taxonomy:Missing data in field 'catalogNumber':\n",
      "WARNING Missing data in field 'catalogNumber':\n",
      "WARNING:biospytial.gbif.taxonomy:Missing data in field 'catalogNumber':\n",
      "WARNING Missing data in field 'catalogNumber':\n",
      "WARNING:biospytial.gbif.taxonomy:Missing data in field 'catalogNumber':\n",
      "WARNING Missing data in field 'catalogNumber':\n",
      "WARNING:biospytial.gbif.taxonomy:Missing data in field 'catalogNumber':\n",
      "WARNING Missing data in field 'catalogNumber':\n",
      "WARNING:biospytial.gbif.taxonomy:Missing data in field 'catalogNumber':\n",
      "DEBUG Retrieving information from the server. Offset:10\n",
      "DEBUG:biospytial.gbif.taxonomy:Retrieving information from the server. Offset:10\n",
      "WARNING Missing data in field 'catalogNumber':\n",
      "WARNING:biospytial.gbif.taxonomy:Missing data in field 'catalogNumber':\n",
      "WARNING Missing data in field 'catalogNumber':\n",
      "WARNING:biospytial.gbif.taxonomy:Missing data in field 'catalogNumber':\n",
      "WARNING Missing data in field 'catalogNumber':\n",
      "WARNING:biospytial.gbif.taxonomy:Missing data in field 'catalogNumber':\n",
      "WARNING Missing data in field 'catalogNumber':\n",
      "WARNING:biospytial.gbif.taxonomy:Missing data in field 'catalogNumber':\n",
      "WARNING Missing data in field 'catalogNumber':\n",
      "WARNING:biospytial.gbif.taxonomy:Missing data in field 'catalogNumber':\n",
      "WARNING Missing data in field 'catalogNumber':\n",
      "WARNING:biospytial.gbif.taxonomy:Missing data in field 'catalogNumber':\n",
      "WARNING Missing data in field 'catalogNumber':\n",
      "WARNING:biospytial.gbif.taxonomy:Missing data in field 'catalogNumber':\n",
      "WARNING Missing data in field 'catalogNumber':\n",
      "WARNING:biospytial.gbif.taxonomy:Missing data in field 'catalogNumber':\n",
      "WARNING Missing data in field 'catalogNumber':\n",
      "WARNING:biospytial.gbif.taxonomy:Missing data in field 'catalogNumber':\n",
      "WARNING Missing data in field 'catalogNumber':\n",
      "WARNING:biospytial.gbif.taxonomy:Missing data in field 'catalogNumber':\n",
      "DEBUG Retrieving information from the server. Offset:11\n",
      "DEBUG:biospytial.gbif.taxonomy:Retrieving information from the server. Offset:11\n",
      "WARNING Missing data in field 'catalogNumber':\n",
      "WARNING:biospytial.gbif.taxonomy:Missing data in field 'catalogNumber':\n",
      "WARNING Missing data in field 'catalogNumber':\n",
      "WARNING:biospytial.gbif.taxonomy:Missing data in field 'catalogNumber':\n",
      "WARNING Missing data in field 'catalogNumber':\n",
      "WARNING:biospytial.gbif.taxonomy:Missing data in field 'catalogNumber':\n",
      "WARNING Missing data in field 'catalogNumber':\n",
      "WARNING:biospytial.gbif.taxonomy:Missing data in field 'catalogNumber':\n",
      "WARNING Missing data in field 'catalogNumber':\n",
      "WARNING:biospytial.gbif.taxonomy:Missing data in field 'catalogNumber':\n",
      "WARNING Missing data in field 'catalogNumber':\n",
      "WARNING:biospytial.gbif.taxonomy:Missing data in field 'catalogNumber':\n",
      "WARNING Missing data in field 'catalogNumber':\n",
      "WARNING:biospytial.gbif.taxonomy:Missing data in field 'catalogNumber':\n",
      "WARNING Missing data in field 'catalogNumber':\n",
      "WARNING:biospytial.gbif.taxonomy:Missing data in field 'catalogNumber':\n",
      "WARNING Missing data in field 'catalogNumber':\n",
      "WARNING:biospytial.gbif.taxonomy:Missing data in field 'catalogNumber':\n",
      "WARNING Missing data in field 'catalogNumber':\n",
      "WARNING:biospytial.gbif.taxonomy:Missing data in field 'catalogNumber':\n",
      "WARNING Missing data in field 'catalogNumber':\n",
      "WARNING:biospytial.gbif.taxonomy:Missing data in field 'catalogNumber':\n",
      "DEBUG Retrieving information from the server. Offset:12\n",
      "DEBUG:biospytial.gbif.taxonomy:Retrieving information from the server. Offset:12\n",
      "WARNING Missing data in field 'catalogNumber':\n",
      "WARNING:biospytial.gbif.taxonomy:Missing data in field 'catalogNumber':\n",
      "WARNING Missing data in field 'catalogNumber':\n",
      "WARNING:biospytial.gbif.taxonomy:Missing data in field 'catalogNumber':\n",
      "WARNING Missing data in field 'catalogNumber':\n",
      "WARNING:biospytial.gbif.taxonomy:Missing data in field 'catalogNumber':\n",
      "WARNING Missing data in field 'catalogNumber':\n",
      "WARNING:biospytial.gbif.taxonomy:Missing data in field 'catalogNumber':\n",
      "WARNING Missing data in field 'catalogNumber':\n",
      "WARNING:biospytial.gbif.taxonomy:Missing data in field 'catalogNumber':\n",
      "WARNING Missing data in field 'catalogNumber':\n",
      "WARNING:biospytial.gbif.taxonomy:Missing data in field 'catalogNumber':\n",
      "WARNING Missing data in field 'catalogNumber':\n",
      "WARNING:biospytial.gbif.taxonomy:Missing data in field 'catalogNumber':\n",
      "WARNING Missing data in field 'catalogNumber':\n",
      "WARNING:biospytial.gbif.taxonomy:Missing data in field 'catalogNumber':\n",
      "WARNING Missing data in field 'catalogNumber':\n",
      "WARNING:biospytial.gbif.taxonomy:Missing data in field 'catalogNumber':\n",
      "WARNING Missing data in field 'catalogNumber':\n",
      "WARNING:biospytial.gbif.taxonomy:Missing data in field 'catalogNumber':\n",
      "WARNING Missing data in field 'catalogNumber':\n",
      "WARNING:biospytial.gbif.taxonomy:Missing data in field 'catalogNumber':\n",
      "WARNING Missing data in field 'catalogNumber':\n",
      "WARNING:biospytial.gbif.taxonomy:Missing data in field 'catalogNumber':\n",
      "DEBUG Retrieving information from the server. Offset:13\n",
      "DEBUG:biospytial.gbif.taxonomy:Retrieving information from the server. Offset:13\n",
      "WARNING Missing data in field 'catalogNumber':\n",
      "WARNING:biospytial.gbif.taxonomy:Missing data in field 'catalogNumber':\n",
      "WARNING Missing data in field 'catalogNumber':\n",
      "WARNING:biospytial.gbif.taxonomy:Missing data in field 'catalogNumber':\n",
      "WARNING Missing data in field 'catalogNumber':\n",
      "WARNING:biospytial.gbif.taxonomy:Missing data in field 'catalogNumber':\n",
      "WARNING Missing data in field 'catalogNumber':\n",
      "WARNING:biospytial.gbif.taxonomy:Missing data in field 'catalogNumber':\n",
      "WARNING Missing data in field 'catalogNumber':\n",
      "WARNING:biospytial.gbif.taxonomy:Missing data in field 'catalogNumber':\n",
      "WARNING Missing data in field 'catalogNumber':\n",
      "WARNING:biospytial.gbif.taxonomy:Missing data in field 'catalogNumber':\n",
      "WARNING Missing data in field 'catalogNumber':\n",
      "WARNING:biospytial.gbif.taxonomy:Missing data in field 'catalogNumber':\n",
      "WARNING Missing data in field 'catalogNumber':\n",
      "WARNING:biospytial.gbif.taxonomy:Missing data in field 'catalogNumber':\n",
      "WARNING Missing data in field 'catalogNumber':\n",
      "WARNING:biospytial.gbif.taxonomy:Missing data in field 'catalogNumber':\n",
      "WARNING Missing data in field 'catalogNumber':\n",
      "WARNING:biospytial.gbif.taxonomy:Missing data in field 'catalogNumber':\n",
      "WARNING Missing data in field 'catalogNumber':\n",
      "WARNING:biospytial.gbif.taxonomy:Missing data in field 'catalogNumber':\n",
      "WARNING Missing data in field 'catalogNumber':\n",
      "WARNING:biospytial.gbif.taxonomy:Missing data in field 'catalogNumber':\n",
      "WARNING Missing data in field 'catalogNumber':\n",
      "WARNING:biospytial.gbif.taxonomy:Missing data in field 'catalogNumber':\n",
      "DEBUG Retrieving information from the server. Offset:14\n",
      "DEBUG:biospytial.gbif.taxonomy:Retrieving information from the server. Offset:14\n",
      "WARNING Missing data in field 'catalogNumber':\n",
      "WARNING:biospytial.gbif.taxonomy:Missing data in field 'catalogNumber':\n",
      "WARNING Missing data in field 'catalogNumber':\n",
      "WARNING:biospytial.gbif.taxonomy:Missing data in field 'catalogNumber':\n",
      "WARNING Missing data in field 'catalogNumber':\n",
      "WARNING:biospytial.gbif.taxonomy:Missing data in field 'catalogNumber':\n",
      "WARNING Missing data in field 'catalogNumber':\n",
      "WARNING:biospytial.gbif.taxonomy:Missing data in field 'catalogNumber':\n",
      "WARNING Missing data in field 'catalogNumber':\n",
      "WARNING:biospytial.gbif.taxonomy:Missing data in field 'catalogNumber':\n",
      "WARNING Missing data in field 'catalogNumber':\n",
      "WARNING:biospytial.gbif.taxonomy:Missing data in field 'catalogNumber':\n",
      "WARNING Missing data in field 'catalogNumber':\n",
      "WARNING:biospytial.gbif.taxonomy:Missing data in field 'catalogNumber':\n",
      "WARNING Missing data in field 'catalogNumber':\n",
      "WARNING:biospytial.gbif.taxonomy:Missing data in field 'catalogNumber':\n",
      "WARNING Missing data in field 'catalogNumber':\n",
      "WARNING:biospytial.gbif.taxonomy:Missing data in field 'catalogNumber':\n",
      "WARNING Missing data in field 'catalogNumber':\n",
      "WARNING:biospytial.gbif.taxonomy:Missing data in field 'catalogNumber':\n",
      "WARNING Missing data in field 'catalogNumber':\n",
      "WARNING:biospytial.gbif.taxonomy:Missing data in field 'catalogNumber':\n",
      "WARNING Missing data in field 'catalogNumber':\n",
      "WARNING:biospytial.gbif.taxonomy:Missing data in field 'catalogNumber':\n",
      "WARNING Missing data in field 'catalogNumber':\n",
      "WARNING:biospytial.gbif.taxonomy:Missing data in field 'catalogNumber':\n",
      "WARNING Missing data in field 'catalogNumber':\n",
      "WARNING:biospytial.gbif.taxonomy:Missing data in field 'catalogNumber':\n",
      "DEBUG Retrieving information from the server. Offset:15\n",
      "DEBUG:biospytial.gbif.taxonomy:Retrieving information from the server. Offset:15\n",
      "WARNING Missing data in field 'catalogNumber':\n",
      "WARNING:biospytial.gbif.taxonomy:Missing data in field 'catalogNumber':\n",
      "WARNING Missing data in field 'catalogNumber':\n",
      "WARNING:biospytial.gbif.taxonomy:Missing data in field 'catalogNumber':\n",
      "WARNING Missing data in field 'catalogNumber':\n",
      "WARNING:biospytial.gbif.taxonomy:Missing data in field 'catalogNumber':\n",
      "WARNING Missing data in field 'catalogNumber':\n",
      "WARNING:biospytial.gbif.taxonomy:Missing data in field 'catalogNumber':\n",
      "WARNING Missing data in field 'catalogNumber':\n",
      "WARNING:biospytial.gbif.taxonomy:Missing data in field 'catalogNumber':\n",
      "WARNING Missing data in field 'catalogNumber':\n",
      "WARNING:biospytial.gbif.taxonomy:Missing data in field 'catalogNumber':\n",
      "WARNING Missing data in field 'catalogNumber':\n",
      "WARNING:biospytial.gbif.taxonomy:Missing data in field 'catalogNumber':\n",
      "WARNING Missing data in field 'catalogNumber':\n",
      "WARNING:biospytial.gbif.taxonomy:Missing data in field 'catalogNumber':\n",
      "WARNING Missing data in field 'catalogNumber':\n",
      "WARNING:biospytial.gbif.taxonomy:Missing data in field 'catalogNumber':\n",
      "WARNING Missing data in field 'catalogNumber':\n",
      "WARNING:biospytial.gbif.taxonomy:Missing data in field 'catalogNumber':\n",
      "WARNING Missing data in field 'catalogNumber':\n",
      "WARNING:biospytial.gbif.taxonomy:Missing data in field 'catalogNumber':\n",
      "WARNING Missing data in field 'catalogNumber':\n",
      "WARNING:biospytial.gbif.taxonomy:Missing data in field 'catalogNumber':\n",
      "WARNING Missing data in field 'catalogNumber':\n",
      "WARNING:biospytial.gbif.taxonomy:Missing data in field 'catalogNumber':\n",
      "WARNING Missing data in field 'catalogNumber':\n",
      "WARNING:biospytial.gbif.taxonomy:Missing data in field 'catalogNumber':\n",
      "WARNING Missing data in field 'catalogNumber':\n",
      "WARNING:biospytial.gbif.taxonomy:Missing data in field 'catalogNumber':\n",
      "DEBUG Retrieving information from the server. Offset:16\n",
      "DEBUG:biospytial.gbif.taxonomy:Retrieving information from the server. Offset:16\n",
      "WARNING Missing data in field 'catalogNumber':\n",
      "WARNING:biospytial.gbif.taxonomy:Missing data in field 'catalogNumber':\n",
      "WARNING Missing data in field 'catalogNumber':\n",
      "WARNING:biospytial.gbif.taxonomy:Missing data in field 'catalogNumber':\n",
      "WARNING Missing data in field 'catalogNumber':\n",
      "WARNING:biospytial.gbif.taxonomy:Missing data in field 'catalogNumber':\n",
      "WARNING Missing data in field 'catalogNumber':\n",
      "WARNING:biospytial.gbif.taxonomy:Missing data in field 'catalogNumber':\n",
      "WARNING Missing data in field 'catalogNumber':\n",
      "WARNING:biospytial.gbif.taxonomy:Missing data in field 'catalogNumber':\n",
      "WARNING Missing data in field 'catalogNumber':\n",
      "WARNING:biospytial.gbif.taxonomy:Missing data in field 'catalogNumber':\n",
      "WARNING Missing data in field 'catalogNumber':\n",
      "WARNING:biospytial.gbif.taxonomy:Missing data in field 'catalogNumber':\n",
      "WARNING Missing data in field 'catalogNumber':\n",
      "WARNING:biospytial.gbif.taxonomy:Missing data in field 'catalogNumber':\n",
      "WARNING Missing data in field 'catalogNumber':\n",
      "WARNING:biospytial.gbif.taxonomy:Missing data in field 'catalogNumber':\n",
      "WARNING Missing data in field 'catalogNumber':\n",
      "WARNING:biospytial.gbif.taxonomy:Missing data in field 'catalogNumber':\n",
      "WARNING Missing data in field 'catalogNumber':\n",
      "WARNING:biospytial.gbif.taxonomy:Missing data in field 'catalogNumber':\n",
      "WARNING Missing data in field 'catalogNumber':\n",
      "WARNING:biospytial.gbif.taxonomy:Missing data in field 'catalogNumber':\n",
      "WARNING Missing data in field 'catalogNumber':\n",
      "WARNING:biospytial.gbif.taxonomy:Missing data in field 'catalogNumber':\n",
      "WARNING Missing data in field 'catalogNumber':\n",
      "WARNING:biospytial.gbif.taxonomy:Missing data in field 'catalogNumber':\n",
      "WARNING Missing data in field 'catalogNumber':\n",
      "WARNING:biospytial.gbif.taxonomy:Missing data in field 'catalogNumber':\n",
      "WARNING Missing data in field 'catalogNumber':\n",
      "WARNING:biospytial.gbif.taxonomy:Missing data in field 'catalogNumber':\n",
      "DEBUG Retrieving information from the server. Offset:17\n",
      "DEBUG:biospytial.gbif.taxonomy:Retrieving information from the server. Offset:17\n",
      "WARNING Missing data in field 'catalogNumber':\n",
      "WARNING:biospytial.gbif.taxonomy:Missing data in field 'catalogNumber':\n",
      "WARNING Missing data in field 'catalogNumber':\n",
      "WARNING:biospytial.gbif.taxonomy:Missing data in field 'catalogNumber':\n",
      "WARNING Missing data in field 'catalogNumber':\n",
      "WARNING:biospytial.gbif.taxonomy:Missing data in field 'catalogNumber':\n",
      "WARNING Missing data in field 'catalogNumber':\n",
      "WARNING:biospytial.gbif.taxonomy:Missing data in field 'catalogNumber':\n",
      "WARNING Missing data in field 'catalogNumber':\n",
      "WARNING:biospytial.gbif.taxonomy:Missing data in field 'catalogNumber':\n",
      "WARNING Missing data in field 'catalogNumber':\n",
      "WARNING:biospytial.gbif.taxonomy:Missing data in field 'catalogNumber':\n",
      "WARNING Missing data in field 'catalogNumber':\n",
      "WARNING:biospytial.gbif.taxonomy:Missing data in field 'catalogNumber':\n",
      "WARNING Missing data in field 'catalogNumber':\n",
      "WARNING:biospytial.gbif.taxonomy:Missing data in field 'catalogNumber':\n",
      "WARNING Missing data in field 'catalogNumber':\n",
      "WARNING:biospytial.gbif.taxonomy:Missing data in field 'catalogNumber':\n",
      "WARNING Missing data in field 'catalogNumber':\n",
      "WARNING:biospytial.gbif.taxonomy:Missing data in field 'catalogNumber':\n",
      "WARNING Missing data in field 'catalogNumber':\n",
      "WARNING:biospytial.gbif.taxonomy:Missing data in field 'catalogNumber':\n",
      "WARNING Missing data in field 'catalogNumber':\n",
      "WARNING:biospytial.gbif.taxonomy:Missing data in field 'catalogNumber':\n",
      "WARNING Missing data in field 'catalogNumber':\n",
      "WARNING:biospytial.gbif.taxonomy:Missing data in field 'catalogNumber':\n",
      "WARNING Missing data in field 'catalogNumber':\n",
      "WARNING:biospytial.gbif.taxonomy:Missing data in field 'catalogNumber':\n",
      "WARNING Missing data in field 'catalogNumber':\n",
      "WARNING:biospytial.gbif.taxonomy:Missing data in field 'catalogNumber':\n",
      "WARNING Missing data in field 'catalogNumber':\n",
      "WARNING:biospytial.gbif.taxonomy:Missing data in field 'catalogNumber':\n",
      "WARNING Missing data in field 'catalogNumber':\n",
      "WARNING:biospytial.gbif.taxonomy:Missing data in field 'catalogNumber':\n",
      "DEBUG Retrieving information from the server. Offset:18\n",
      "DEBUG:biospytial.gbif.taxonomy:Retrieving information from the server. Offset:18\n",
      "WARNING Missing data in field 'catalogNumber':\n",
      "WARNING:biospytial.gbif.taxonomy:Missing data in field 'catalogNumber':\n",
      "WARNING Missing data in field 'catalogNumber':\n",
      "WARNING:biospytial.gbif.taxonomy:Missing data in field 'catalogNumber':\n",
      "WARNING Missing data in field 'catalogNumber':\n",
      "WARNING:biospytial.gbif.taxonomy:Missing data in field 'catalogNumber':\n",
      "WARNING Missing data in field 'catalogNumber':\n",
      "WARNING:biospytial.gbif.taxonomy:Missing data in field 'catalogNumber':\n",
      "WARNING Missing data in field 'catalogNumber':\n",
      "WARNING:biospytial.gbif.taxonomy:Missing data in field 'catalogNumber':\n",
      "WARNING Missing data in field 'catalogNumber':\n",
      "WARNING:biospytial.gbif.taxonomy:Missing data in field 'catalogNumber':\n",
      "WARNING Missing data in field 'catalogNumber':\n",
      "WARNING:biospytial.gbif.taxonomy:Missing data in field 'catalogNumber':\n",
      "WARNING Missing data in field 'catalogNumber':\n",
      "WARNING:biospytial.gbif.taxonomy:Missing data in field 'catalogNumber':\n",
      "WARNING Missing data in field 'catalogNumber':\n",
      "WARNING:biospytial.gbif.taxonomy:Missing data in field 'catalogNumber':\n",
      "WARNING Missing data in field 'catalogNumber':\n",
      "WARNING:biospytial.gbif.taxonomy:Missing data in field 'catalogNumber':\n",
      "WARNING Missing data in field 'catalogNumber':\n",
      "WARNING:biospytial.gbif.taxonomy:Missing data in field 'catalogNumber':\n",
      "WARNING Missing data in field 'catalogNumber':\n",
      "WARNING:biospytial.gbif.taxonomy:Missing data in field 'catalogNumber':\n",
      "WARNING Missing data in field 'catalogNumber':\n",
      "WARNING:biospytial.gbif.taxonomy:Missing data in field 'catalogNumber':\n",
      "WARNING Missing data in field 'catalogNumber':\n",
      "WARNING:biospytial.gbif.taxonomy:Missing data in field 'catalogNumber':\n",
      "WARNING Missing data in field 'catalogNumber':\n",
      "WARNING:biospytial.gbif.taxonomy:Missing data in field 'catalogNumber':\n",
      "WARNING Missing data in field 'catalogNumber':\n",
      "WARNING:biospytial.gbif.taxonomy:Missing data in field 'catalogNumber':\n",
      "WARNING Missing data in field 'catalogNumber':\n",
      "WARNING:biospytial.gbif.taxonomy:Missing data in field 'catalogNumber':\n",
      "WARNING Missing data in field 'catalogNumber':\n",
      "WARNING:biospytial.gbif.taxonomy:Missing data in field 'catalogNumber':\n",
      "DEBUG Retrieving information from the server. Offset:19\n",
      "DEBUG:biospytial.gbif.taxonomy:Retrieving information from the server. Offset:19\n",
      "WARNING Missing data in field 'catalogNumber':\n",
      "WARNING:biospytial.gbif.taxonomy:Missing data in field 'catalogNumber':\n",
      "WARNING Missing data in field 'catalogNumber':\n",
      "WARNING:biospytial.gbif.taxonomy:Missing data in field 'catalogNumber':\n",
      "WARNING Missing data in field 'catalogNumber':\n",
      "WARNING:biospytial.gbif.taxonomy:Missing data in field 'catalogNumber':\n",
      "WARNING Missing data in field 'catalogNumber':\n",
      "WARNING:biospytial.gbif.taxonomy:Missing data in field 'catalogNumber':\n",
      "WARNING Missing data in field 'catalogNumber':\n",
      "WARNING:biospytial.gbif.taxonomy:Missing data in field 'catalogNumber':\n",
      "WARNING Missing data in field 'catalogNumber':\n",
      "WARNING:biospytial.gbif.taxonomy:Missing data in field 'catalogNumber':\n",
      "WARNING Missing data in field 'catalogNumber':\n",
      "WARNING:biospytial.gbif.taxonomy:Missing data in field 'catalogNumber':\n",
      "WARNING Missing data in field 'catalogNumber':\n",
      "WARNING:biospytial.gbif.taxonomy:Missing data in field 'catalogNumber':\n",
      "WARNING Missing data in field 'catalogNumber':\n",
      "WARNING:biospytial.gbif.taxonomy:Missing data in field 'catalogNumber':\n",
      "WARNING Missing data in field 'catalogNumber':\n",
      "WARNING:biospytial.gbif.taxonomy:Missing data in field 'catalogNumber':\n",
      "WARNING Missing data in field 'catalogNumber':\n",
      "WARNING:biospytial.gbif.taxonomy:Missing data in field 'catalogNumber':\n",
      "WARNING Missing data in field 'catalogNumber':\n",
      "WARNING:biospytial.gbif.taxonomy:Missing data in field 'catalogNumber':\n",
      "WARNING Missing data in field 'catalogNumber':\n",
      "WARNING:biospytial.gbif.taxonomy:Missing data in field 'catalogNumber':\n",
      "WARNING Missing data in field 'catalogNumber':\n",
      "WARNING:biospytial.gbif.taxonomy:Missing data in field 'catalogNumber':\n",
      "WARNING Missing data in field 'catalogNumber':\n",
      "WARNING:biospytial.gbif.taxonomy:Missing data in field 'catalogNumber':\n",
      "WARNING Missing data in field 'catalogNumber':\n",
      "WARNING:biospytial.gbif.taxonomy:Missing data in field 'catalogNumber':\n",
      "WARNING Missing data in field 'catalogNumber':\n",
      "WARNING:biospytial.gbif.taxonomy:Missing data in field 'catalogNumber':\n",
      "WARNING Missing data in field 'catalogNumber':\n",
      "WARNING:biospytial.gbif.taxonomy:Missing data in field 'catalogNumber':\n",
      "WARNING Missing data in field 'institutionCode':\n",
      "WARNING:biospytial.gbif.taxonomy:Missing data in field 'institutionCode':\n",
      "DEBUG Retrieving information from the server. Offset:20\n",
      "DEBUG:biospytial.gbif.taxonomy:Retrieving information from the server. Offset:20\n",
      "WARNING Missing data in field 'catalogNumber':\n",
      "WARNING:biospytial.gbif.taxonomy:Missing data in field 'catalogNumber':\n",
      "WARNING Missing data in field 'catalogNumber':\n",
      "WARNING:biospytial.gbif.taxonomy:Missing data in field 'catalogNumber':\n",
      "WARNING Missing data in field 'catalogNumber':\n",
      "WARNING:biospytial.gbif.taxonomy:Missing data in field 'catalogNumber':\n",
      "WARNING Missing data in field 'catalogNumber':\n",
      "WARNING:biospytial.gbif.taxonomy:Missing data in field 'catalogNumber':\n",
      "WARNING Missing data in field 'catalogNumber':\n",
      "WARNING:biospytial.gbif.taxonomy:Missing data in field 'catalogNumber':\n",
      "WARNING Missing data in field 'catalogNumber':\n",
      "WARNING:biospytial.gbif.taxonomy:Missing data in field 'catalogNumber':\n",
      "WARNING Missing data in field 'catalogNumber':\n",
      "WARNING:biospytial.gbif.taxonomy:Missing data in field 'catalogNumber':\n",
      "WARNING Missing data in field 'catalogNumber':\n",
      "WARNING:biospytial.gbif.taxonomy:Missing data in field 'catalogNumber':\n",
      "WARNING Missing data in field 'catalogNumber':\n",
      "WARNING:biospytial.gbif.taxonomy:Missing data in field 'catalogNumber':\n",
      "WARNING Missing data in field 'catalogNumber':\n",
      "WARNING:biospytial.gbif.taxonomy:Missing data in field 'catalogNumber':\n",
      "WARNING Missing data in field 'catalogNumber':\n",
      "WARNING:biospytial.gbif.taxonomy:Missing data in field 'catalogNumber':\n",
      "WARNING Missing data in field 'catalogNumber':\n",
      "WARNING:biospytial.gbif.taxonomy:Missing data in field 'catalogNumber':\n",
      "WARNING Missing data in field 'catalogNumber':\n",
      "WARNING:biospytial.gbif.taxonomy:Missing data in field 'catalogNumber':\n",
      "WARNING Missing data in field 'catalogNumber':\n",
      "WARNING:biospytial.gbif.taxonomy:Missing data in field 'catalogNumber':\n",
      "WARNING Missing data in field 'catalogNumber':\n",
      "WARNING:biospytial.gbif.taxonomy:Missing data in field 'catalogNumber':\n",
      "WARNING Missing data in field 'catalogNumber':\n",
      "WARNING:biospytial.gbif.taxonomy:Missing data in field 'catalogNumber':\n",
      "WARNING Missing data in field 'catalogNumber':\n",
      "WARNING:biospytial.gbif.taxonomy:Missing data in field 'catalogNumber':\n",
      "WARNING Missing data in field 'catalogNumber':\n",
      "WARNING:biospytial.gbif.taxonomy:Missing data in field 'catalogNumber':\n",
      "WARNING Missing data in field 'institutionCode':\n",
      "WARNING:biospytial.gbif.taxonomy:Missing data in field 'institutionCode':\n",
      "DEBUG Retrieving information from the server. Offset:21\n",
      "DEBUG:biospytial.gbif.taxonomy:Retrieving information from the server. Offset:21\n",
      "WARNING Missing data in field 'catalogNumber':\n",
      "WARNING:biospytial.gbif.taxonomy:Missing data in field 'catalogNumber':\n",
      "WARNING Missing data in field 'catalogNumber':\n",
      "WARNING:biospytial.gbif.taxonomy:Missing data in field 'catalogNumber':\n",
      "WARNING Missing data in field 'catalogNumber':\n",
      "WARNING:biospytial.gbif.taxonomy:Missing data in field 'catalogNumber':\n",
      "WARNING Missing data in field 'catalogNumber':\n",
      "WARNING:biospytial.gbif.taxonomy:Missing data in field 'catalogNumber':\n",
      "WARNING Missing data in field 'catalogNumber':\n",
      "WARNING:biospytial.gbif.taxonomy:Missing data in field 'catalogNumber':\n",
      "WARNING Missing data in field 'catalogNumber':\n",
      "WARNING:biospytial.gbif.taxonomy:Missing data in field 'catalogNumber':\n",
      "WARNING Missing data in field 'catalogNumber':\n",
      "WARNING:biospytial.gbif.taxonomy:Missing data in field 'catalogNumber':\n",
      "WARNING Missing data in field 'catalogNumber':\n",
      "WARNING:biospytial.gbif.taxonomy:Missing data in field 'catalogNumber':\n",
      "WARNING Missing data in field 'catalogNumber':\n",
      "WARNING:biospytial.gbif.taxonomy:Missing data in field 'catalogNumber':\n",
      "WARNING Missing data in field 'catalogNumber':\n",
      "WARNING:biospytial.gbif.taxonomy:Missing data in field 'catalogNumber':\n",
      "WARNING Missing data in field 'catalogNumber':\n",
      "WARNING:biospytial.gbif.taxonomy:Missing data in field 'catalogNumber':\n",
      "WARNING Missing data in field 'catalogNumber':\n",
      "WARNING:biospytial.gbif.taxonomy:Missing data in field 'catalogNumber':\n",
      "WARNING Missing data in field 'catalogNumber':\n",
      "WARNING:biospytial.gbif.taxonomy:Missing data in field 'catalogNumber':\n",
      "WARNING Missing data in field 'catalogNumber':\n",
      "WARNING:biospytial.gbif.taxonomy:Missing data in field 'catalogNumber':\n",
      "WARNING Missing data in field 'catalogNumber':\n",
      "WARNING:biospytial.gbif.taxonomy:Missing data in field 'catalogNumber':\n",
      "WARNING Missing data in field 'catalogNumber':\n",
      "WARNING:biospytial.gbif.taxonomy:Missing data in field 'catalogNumber':\n",
      "WARNING Missing data in field 'catalogNumber':\n",
      "WARNING:biospytial.gbif.taxonomy:Missing data in field 'catalogNumber':\n",
      "WARNING Missing data in field 'institutionCode':\n",
      "WARNING:biospytial.gbif.taxonomy:Missing data in field 'institutionCode':\n",
      "WARNING Missing data in field 'catalogNumber':\n",
      "WARNING:biospytial.gbif.taxonomy:Missing data in field 'catalogNumber':\n",
      "DEBUG Retrieving information from the server. Offset:22\n",
      "DEBUG:biospytial.gbif.taxonomy:Retrieving information from the server. Offset:22\n",
      "WARNING Missing data in field 'catalogNumber':\n",
      "WARNING:biospytial.gbif.taxonomy:Missing data in field 'catalogNumber':\n",
      "WARNING Missing data in field 'catalogNumber':\n",
      "WARNING:biospytial.gbif.taxonomy:Missing data in field 'catalogNumber':\n",
      "WARNING Missing data in field 'catalogNumber':\n",
      "WARNING:biospytial.gbif.taxonomy:Missing data in field 'catalogNumber':\n",
      "WARNING Missing data in field 'catalogNumber':\n",
      "WARNING:biospytial.gbif.taxonomy:Missing data in field 'catalogNumber':\n",
      "WARNING Missing data in field 'catalogNumber':\n",
      "WARNING:biospytial.gbif.taxonomy:Missing data in field 'catalogNumber':\n",
      "WARNING Missing data in field 'catalogNumber':\n",
      "WARNING:biospytial.gbif.taxonomy:Missing data in field 'catalogNumber':\n",
      "WARNING Missing data in field 'catalogNumber':\n",
      "WARNING:biospytial.gbif.taxonomy:Missing data in field 'catalogNumber':\n",
      "WARNING Missing data in field 'catalogNumber':\n",
      "WARNING:biospytial.gbif.taxonomy:Missing data in field 'catalogNumber':\n",
      "WARNING Missing data in field 'catalogNumber':\n",
      "WARNING:biospytial.gbif.taxonomy:Missing data in field 'catalogNumber':\n",
      "WARNING Missing data in field 'catalogNumber':\n",
      "WARNING:biospytial.gbif.taxonomy:Missing data in field 'catalogNumber':\n",
      "WARNING Missing data in field 'catalogNumber':\n",
      "WARNING:biospytial.gbif.taxonomy:Missing data in field 'catalogNumber':\n",
      "WARNING Missing data in field 'catalogNumber':\n",
      "WARNING:biospytial.gbif.taxonomy:Missing data in field 'catalogNumber':\n",
      "WARNING Missing data in field 'catalogNumber':\n",
      "WARNING:biospytial.gbif.taxonomy:Missing data in field 'catalogNumber':\n",
      "WARNING Missing data in field 'catalogNumber':\n",
      "WARNING:biospytial.gbif.taxonomy:Missing data in field 'catalogNumber':\n",
      "WARNING Missing data in field 'catalogNumber':\n",
      "WARNING:biospytial.gbif.taxonomy:Missing data in field 'catalogNumber':\n",
      "WARNING Missing data in field 'catalogNumber':\n",
      "WARNING:biospytial.gbif.taxonomy:Missing data in field 'catalogNumber':\n",
      "WARNING Missing data in field 'institutionCode':\n",
      "WARNING:biospytial.gbif.taxonomy:Missing data in field 'institutionCode':\n",
      "WARNING Missing data in field 'catalogNumber':\n",
      "WARNING:biospytial.gbif.taxonomy:Missing data in field 'catalogNumber':\n",
      "WARNING Missing data in field 'catalogNumber':\n",
      "WARNING:biospytial.gbif.taxonomy:Missing data in field 'catalogNumber':\n",
      "DEBUG Retrieving information from the server. Offset:23\n",
      "DEBUG:biospytial.gbif.taxonomy:Retrieving information from the server. Offset:23\n",
      "WARNING Missing data in field 'catalogNumber':\n",
      "WARNING:biospytial.gbif.taxonomy:Missing data in field 'catalogNumber':\n",
      "WARNING Missing data in field 'catalogNumber':\n",
      "WARNING:biospytial.gbif.taxonomy:Missing data in field 'catalogNumber':\n",
      "WARNING Missing data in field 'catalogNumber':\n",
      "WARNING:biospytial.gbif.taxonomy:Missing data in field 'catalogNumber':\n",
      "WARNING Missing data in field 'catalogNumber':\n",
      "WARNING:biospytial.gbif.taxonomy:Missing data in field 'catalogNumber':\n",
      "WARNING Missing data in field 'catalogNumber':\n",
      "WARNING:biospytial.gbif.taxonomy:Missing data in field 'catalogNumber':\n",
      "WARNING Missing data in field 'catalogNumber':\n",
      "WARNING:biospytial.gbif.taxonomy:Missing data in field 'catalogNumber':\n",
      "WARNING Missing data in field 'catalogNumber':\n",
      "WARNING:biospytial.gbif.taxonomy:Missing data in field 'catalogNumber':\n",
      "WARNING Missing data in field 'catalogNumber':\n",
      "WARNING:biospytial.gbif.taxonomy:Missing data in field 'catalogNumber':\n",
      "WARNING Missing data in field 'catalogNumber':\n",
      "WARNING:biospytial.gbif.taxonomy:Missing data in field 'catalogNumber':\n",
      "WARNING Missing data in field 'catalogNumber':\n",
      "WARNING:biospytial.gbif.taxonomy:Missing data in field 'catalogNumber':\n",
      "WARNING Missing data in field 'catalogNumber':\n",
      "WARNING:biospytial.gbif.taxonomy:Missing data in field 'catalogNumber':\n",
      "WARNING Missing data in field 'catalogNumber':\n",
      "WARNING:biospytial.gbif.taxonomy:Missing data in field 'catalogNumber':\n",
      "WARNING Missing data in field 'catalogNumber':\n",
      "WARNING:biospytial.gbif.taxonomy:Missing data in field 'catalogNumber':\n",
      "WARNING Missing data in field 'catalogNumber':\n",
      "WARNING:biospytial.gbif.taxonomy:Missing data in field 'catalogNumber':\n",
      "WARNING Missing data in field 'catalogNumber':\n",
      "WARNING:biospytial.gbif.taxonomy:Missing data in field 'catalogNumber':\n",
      "WARNING Missing data in field 'institutionCode':\n",
      "WARNING:biospytial.gbif.taxonomy:Missing data in field 'institutionCode':\n",
      "WARNING Missing data in field 'catalogNumber':\n",
      "WARNING:biospytial.gbif.taxonomy:Missing data in field 'catalogNumber':\n",
      "WARNING Missing data in field 'catalogNumber':\n",
      "WARNING:biospytial.gbif.taxonomy:Missing data in field 'catalogNumber':\n",
      "WARNING Missing data in field 'catalogNumber':\n",
      "WARNING:biospytial.gbif.taxonomy:Missing data in field 'catalogNumber':\n",
      "DEBUG Retrieving information from the server. Offset:24\n",
      "DEBUG:biospytial.gbif.taxonomy:Retrieving information from the server. Offset:24\n",
      "WARNING Missing data in field 'catalogNumber':\n",
      "WARNING:biospytial.gbif.taxonomy:Missing data in field 'catalogNumber':\n",
      "WARNING Missing data in field 'catalogNumber':\n",
      "WARNING:biospytial.gbif.taxonomy:Missing data in field 'catalogNumber':\n",
      "WARNING Missing data in field 'catalogNumber':\n",
      "WARNING:biospytial.gbif.taxonomy:Missing data in field 'catalogNumber':\n",
      "WARNING Missing data in field 'catalogNumber':\n",
      "WARNING:biospytial.gbif.taxonomy:Missing data in field 'catalogNumber':\n",
      "WARNING Missing data in field 'catalogNumber':\n",
      "WARNING:biospytial.gbif.taxonomy:Missing data in field 'catalogNumber':\n",
      "WARNING Missing data in field 'catalogNumber':\n",
      "WARNING:biospytial.gbif.taxonomy:Missing data in field 'catalogNumber':\n",
      "WARNING Missing data in field 'catalogNumber':\n",
      "WARNING:biospytial.gbif.taxonomy:Missing data in field 'catalogNumber':\n",
      "WARNING Missing data in field 'catalogNumber':\n",
      "WARNING:biospytial.gbif.taxonomy:Missing data in field 'catalogNumber':\n",
      "WARNING Missing data in field 'catalogNumber':\n",
      "WARNING:biospytial.gbif.taxonomy:Missing data in field 'catalogNumber':\n",
      "WARNING Missing data in field 'catalogNumber':\n",
      "WARNING:biospytial.gbif.taxonomy:Missing data in field 'catalogNumber':\n",
      "WARNING Missing data in field 'catalogNumber':\n",
      "WARNING:biospytial.gbif.taxonomy:Missing data in field 'catalogNumber':\n",
      "WARNING Missing data in field 'catalogNumber':\n",
      "WARNING:biospytial.gbif.taxonomy:Missing data in field 'catalogNumber':\n",
      "WARNING Missing data in field 'catalogNumber':\n",
      "WARNING:biospytial.gbif.taxonomy:Missing data in field 'catalogNumber':\n",
      "WARNING Missing data in field 'catalogNumber':\n",
      "WARNING:biospytial.gbif.taxonomy:Missing data in field 'catalogNumber':\n",
      "WARNING Missing data in field 'institutionCode':\n",
      "WARNING:biospytial.gbif.taxonomy:Missing data in field 'institutionCode':\n",
      "WARNING Missing data in field 'catalogNumber':\n",
      "WARNING:biospytial.gbif.taxonomy:Missing data in field 'catalogNumber':\n",
      "WARNING Missing data in field 'catalogNumber':\n",
      "WARNING:biospytial.gbif.taxonomy:Missing data in field 'catalogNumber':\n",
      "WARNING Missing data in field 'catalogNumber':\n",
      "WARNING:biospytial.gbif.taxonomy:Missing data in field 'catalogNumber':\n",
      "WARNING Missing data in field 'year':\n",
      "WARNING:biospytial.gbif.taxonomy:Missing data in field 'year':\n",
      "DEBUG Retrieving information from the server. Offset:25\n",
      "DEBUG:biospytial.gbif.taxonomy:Retrieving information from the server. Offset:25\n",
      "WARNING Missing data in field 'catalogNumber':\n",
      "WARNING:biospytial.gbif.taxonomy:Missing data in field 'catalogNumber':\n",
      "WARNING Missing data in field 'catalogNumber':\n",
      "WARNING:biospytial.gbif.taxonomy:Missing data in field 'catalogNumber':\n",
      "WARNING Missing data in field 'catalogNumber':\n",
      "WARNING:biospytial.gbif.taxonomy:Missing data in field 'catalogNumber':\n",
      "WARNING Missing data in field 'catalogNumber':\n",
      "WARNING:biospytial.gbif.taxonomy:Missing data in field 'catalogNumber':\n",
      "WARNING Missing data in field 'catalogNumber':\n",
      "WARNING:biospytial.gbif.taxonomy:Missing data in field 'catalogNumber':\n",
      "WARNING Missing data in field 'catalogNumber':\n",
      "WARNING:biospytial.gbif.taxonomy:Missing data in field 'catalogNumber':\n",
      "WARNING Missing data in field 'catalogNumber':\n",
      "WARNING:biospytial.gbif.taxonomy:Missing data in field 'catalogNumber':\n",
      "WARNING Missing data in field 'catalogNumber':\n",
      "WARNING:biospytial.gbif.taxonomy:Missing data in field 'catalogNumber':\n",
      "WARNING Missing data in field 'catalogNumber':\n",
      "WARNING:biospytial.gbif.taxonomy:Missing data in field 'catalogNumber':\n",
      "WARNING Missing data in field 'catalogNumber':\n",
      "WARNING:biospytial.gbif.taxonomy:Missing data in field 'catalogNumber':\n",
      "WARNING Missing data in field 'catalogNumber':\n",
      "WARNING:biospytial.gbif.taxonomy:Missing data in field 'catalogNumber':\n",
      "WARNING Missing data in field 'catalogNumber':\n",
      "WARNING:biospytial.gbif.taxonomy:Missing data in field 'catalogNumber':\n",
      "WARNING Missing data in field 'catalogNumber':\n",
      "WARNING:biospytial.gbif.taxonomy:Missing data in field 'catalogNumber':\n",
      "WARNING Missing data in field 'institutionCode':\n",
      "WARNING:biospytial.gbif.taxonomy:Missing data in field 'institutionCode':\n",
      "WARNING Missing data in field 'catalogNumber':\n",
      "WARNING:biospytial.gbif.taxonomy:Missing data in field 'catalogNumber':\n",
      "WARNING Missing data in field 'catalogNumber':\n",
      "WARNING:biospytial.gbif.taxonomy:Missing data in field 'catalogNumber':\n",
      "WARNING Missing data in field 'catalogNumber':\n",
      "WARNING:biospytial.gbif.taxonomy:Missing data in field 'catalogNumber':\n",
      "WARNING Missing data in field 'year':\n",
      "WARNING:biospytial.gbif.taxonomy:Missing data in field 'year':\n",
      "WARNING Missing data in field 'catalogNumber':\n",
      "WARNING:biospytial.gbif.taxonomy:Missing data in field 'catalogNumber':\n",
      "DEBUG Retrieving information from the server. Offset:26\n",
      "DEBUG:biospytial.gbif.taxonomy:Retrieving information from the server. Offset:26\n",
      "WARNING Missing data in field 'catalogNumber':\n",
      "WARNING:biospytial.gbif.taxonomy:Missing data in field 'catalogNumber':\n",
      "WARNING Missing data in field 'catalogNumber':\n",
      "WARNING:biospytial.gbif.taxonomy:Missing data in field 'catalogNumber':\n",
      "WARNING Missing data in field 'catalogNumber':\n",
      "WARNING:biospytial.gbif.taxonomy:Missing data in field 'catalogNumber':\n",
      "WARNING Missing data in field 'catalogNumber':\n",
      "WARNING:biospytial.gbif.taxonomy:Missing data in field 'catalogNumber':\n",
      "WARNING Missing data in field 'catalogNumber':\n",
      "WARNING:biospytial.gbif.taxonomy:Missing data in field 'catalogNumber':\n",
      "WARNING Missing data in field 'catalogNumber':\n",
      "WARNING:biospytial.gbif.taxonomy:Missing data in field 'catalogNumber':\n",
      "WARNING Missing data in field 'catalogNumber':\n",
      "WARNING:biospytial.gbif.taxonomy:Missing data in field 'catalogNumber':\n",
      "WARNING Missing data in field 'catalogNumber':\n",
      "WARNING:biospytial.gbif.taxonomy:Missing data in field 'catalogNumber':\n",
      "WARNING Missing data in field 'catalogNumber':\n",
      "WARNING:biospytial.gbif.taxonomy:Missing data in field 'catalogNumber':\n",
      "WARNING Missing data in field 'catalogNumber':\n",
      "WARNING:biospytial.gbif.taxonomy:Missing data in field 'catalogNumber':\n",
      "WARNING Missing data in field 'catalogNumber':\n",
      "WARNING:biospytial.gbif.taxonomy:Missing data in field 'catalogNumber':\n",
      "WARNING Missing data in field 'catalogNumber':\n",
      "WARNING:biospytial.gbif.taxonomy:Missing data in field 'catalogNumber':\n",
      "WARNING Missing data in field 'institutionCode':\n",
      "WARNING:biospytial.gbif.taxonomy:Missing data in field 'institutionCode':\n",
      "WARNING Missing data in field 'catalogNumber':\n",
      "WARNING:biospytial.gbif.taxonomy:Missing data in field 'catalogNumber':\n",
      "WARNING Missing data in field 'catalogNumber':\n",
      "WARNING:biospytial.gbif.taxonomy:Missing data in field 'catalogNumber':\n",
      "WARNING Missing data in field 'catalogNumber':\n",
      "WARNING:biospytial.gbif.taxonomy:Missing data in field 'catalogNumber':\n",
      "WARNING Missing data in field 'year':\n",
      "WARNING:biospytial.gbif.taxonomy:Missing data in field 'year':\n",
      "WARNING Missing data in field 'catalogNumber':\n",
      "WARNING:biospytial.gbif.taxonomy:Missing data in field 'catalogNumber':\n",
      "WARNING Missing data in field 'catalogNumber':\n",
      "WARNING:biospytial.gbif.taxonomy:Missing data in field 'catalogNumber':\n",
      "DEBUG Retrieving information from the server. Offset:27\n",
      "DEBUG:biospytial.gbif.taxonomy:Retrieving information from the server. Offset:27\n",
      "WARNING Missing data in field 'catalogNumber':\n",
      "WARNING:biospytial.gbif.taxonomy:Missing data in field 'catalogNumber':\n",
      "WARNING Missing data in field 'catalogNumber':\n",
      "WARNING:biospytial.gbif.taxonomy:Missing data in field 'catalogNumber':\n",
      "WARNING Missing data in field 'catalogNumber':\n",
      "WARNING:biospytial.gbif.taxonomy:Missing data in field 'catalogNumber':\n",
      "WARNING Missing data in field 'catalogNumber':\n",
      "WARNING:biospytial.gbif.taxonomy:Missing data in field 'catalogNumber':\n",
      "WARNING Missing data in field 'catalogNumber':\n",
      "WARNING:biospytial.gbif.taxonomy:Missing data in field 'catalogNumber':\n",
      "WARNING Missing data in field 'catalogNumber':\n",
      "WARNING:biospytial.gbif.taxonomy:Missing data in field 'catalogNumber':\n",
      "WARNING Missing data in field 'catalogNumber':\n",
      "WARNING:biospytial.gbif.taxonomy:Missing data in field 'catalogNumber':\n",
      "WARNING Missing data in field 'catalogNumber':\n",
      "WARNING:biospytial.gbif.taxonomy:Missing data in field 'catalogNumber':\n",
      "WARNING Missing data in field 'catalogNumber':\n",
      "WARNING:biospytial.gbif.taxonomy:Missing data in field 'catalogNumber':\n",
      "WARNING Missing data in field 'catalogNumber':\n",
      "WARNING:biospytial.gbif.taxonomy:Missing data in field 'catalogNumber':\n",
      "WARNING Missing data in field 'catalogNumber':\n",
      "WARNING:biospytial.gbif.taxonomy:Missing data in field 'catalogNumber':\n",
      "WARNING Missing data in field 'institutionCode':\n",
      "WARNING:biospytial.gbif.taxonomy:Missing data in field 'institutionCode':\n",
      "WARNING Missing data in field 'catalogNumber':\n",
      "WARNING:biospytial.gbif.taxonomy:Missing data in field 'catalogNumber':\n",
      "WARNING Missing data in field 'catalogNumber':\n",
      "WARNING:biospytial.gbif.taxonomy:Missing data in field 'catalogNumber':\n",
      "WARNING Missing data in field 'catalogNumber':\n",
      "WARNING:biospytial.gbif.taxonomy:Missing data in field 'catalogNumber':\n",
      "WARNING Missing data in field 'year':\n",
      "WARNING:biospytial.gbif.taxonomy:Missing data in field 'year':\n",
      "WARNING Missing data in field 'catalogNumber':\n",
      "WARNING:biospytial.gbif.taxonomy:Missing data in field 'catalogNumber':\n",
      "WARNING Missing data in field 'catalogNumber':\n",
      "WARNING:biospytial.gbif.taxonomy:Missing data in field 'catalogNumber':\n",
      "WARNING Missing data in field 'catalogNumber':\n",
      "WARNING:biospytial.gbif.taxonomy:Missing data in field 'catalogNumber':\n",
      "DEBUG Retrieving information from the server. Offset:28\n",
      "DEBUG:biospytial.gbif.taxonomy:Retrieving information from the server. Offset:28\n",
      "WARNING Missing data in field 'catalogNumber':\n",
      "WARNING:biospytial.gbif.taxonomy:Missing data in field 'catalogNumber':\n",
      "WARNING Missing data in field 'catalogNumber':\n",
      "WARNING:biospytial.gbif.taxonomy:Missing data in field 'catalogNumber':\n",
      "WARNING Missing data in field 'catalogNumber':\n",
      "WARNING:biospytial.gbif.taxonomy:Missing data in field 'catalogNumber':\n",
      "WARNING Missing data in field 'catalogNumber':\n",
      "WARNING:biospytial.gbif.taxonomy:Missing data in field 'catalogNumber':\n",
      "WARNING Missing data in field 'catalogNumber':\n",
      "WARNING:biospytial.gbif.taxonomy:Missing data in field 'catalogNumber':\n",
      "WARNING Missing data in field 'catalogNumber':\n",
      "WARNING:biospytial.gbif.taxonomy:Missing data in field 'catalogNumber':\n",
      "WARNING Missing data in field 'catalogNumber':\n",
      "WARNING:biospytial.gbif.taxonomy:Missing data in field 'catalogNumber':\n",
      "WARNING Missing data in field 'catalogNumber':\n",
      "WARNING:biospytial.gbif.taxonomy:Missing data in field 'catalogNumber':\n",
      "WARNING Missing data in field 'catalogNumber':\n",
      "WARNING:biospytial.gbif.taxonomy:Missing data in field 'catalogNumber':\n",
      "WARNING Missing data in field 'catalogNumber':\n",
      "WARNING:biospytial.gbif.taxonomy:Missing data in field 'catalogNumber':\n",
      "WARNING Missing data in field 'institutionCode':\n",
      "WARNING:biospytial.gbif.taxonomy:Missing data in field 'institutionCode':\n",
      "WARNING Missing data in field 'catalogNumber':\n",
      "WARNING:biospytial.gbif.taxonomy:Missing data in field 'catalogNumber':\n",
      "WARNING Missing data in field 'catalogNumber':\n",
      "WARNING:biospytial.gbif.taxonomy:Missing data in field 'catalogNumber':\n",
      "WARNING Missing data in field 'catalogNumber':\n",
      "WARNING:biospytial.gbif.taxonomy:Missing data in field 'catalogNumber':\n",
      "WARNING Missing data in field 'year':\n",
      "WARNING:biospytial.gbif.taxonomy:Missing data in field 'year':\n",
      "WARNING Missing data in field 'catalogNumber':\n",
      "WARNING:biospytial.gbif.taxonomy:Missing data in field 'catalogNumber':\n",
      "WARNING Missing data in field 'catalogNumber':\n",
      "WARNING:biospytial.gbif.taxonomy:Missing data in field 'catalogNumber':\n",
      "WARNING Missing data in field 'catalogNumber':\n",
      "WARNING:biospytial.gbif.taxonomy:Missing data in field 'catalogNumber':\n",
      "WARNING Missing data in field 'year':\n",
      "WARNING:biospytial.gbif.taxonomy:Missing data in field 'year':\n",
      "DEBUG Retrieving information from the server. Offset:29\n",
      "DEBUG:biospytial.gbif.taxonomy:Retrieving information from the server. Offset:29\n",
      "WARNING Missing data in field 'catalogNumber':\n",
      "WARNING:biospytial.gbif.taxonomy:Missing data in field 'catalogNumber':\n",
      "WARNING Missing data in field 'catalogNumber':\n",
      "WARNING:biospytial.gbif.taxonomy:Missing data in field 'catalogNumber':\n",
      "WARNING Missing data in field 'catalogNumber':\n",
      "WARNING:biospytial.gbif.taxonomy:Missing data in field 'catalogNumber':\n",
      "WARNING Missing data in field 'catalogNumber':\n",
      "WARNING:biospytial.gbif.taxonomy:Missing data in field 'catalogNumber':\n",
      "WARNING Missing data in field 'catalogNumber':\n",
      "WARNING:biospytial.gbif.taxonomy:Missing data in field 'catalogNumber':\n",
      "WARNING Missing data in field 'catalogNumber':\n",
      "WARNING:biospytial.gbif.taxonomy:Missing data in field 'catalogNumber':\n",
      "WARNING Missing data in field 'catalogNumber':\n",
      "WARNING:biospytial.gbif.taxonomy:Missing data in field 'catalogNumber':\n",
      "WARNING Missing data in field 'catalogNumber':\n",
      "WARNING:biospytial.gbif.taxonomy:Missing data in field 'catalogNumber':\n",
      "WARNING Missing data in field 'catalogNumber':\n",
      "WARNING:biospytial.gbif.taxonomy:Missing data in field 'catalogNumber':\n",
      "WARNING Missing data in field 'institutionCode':\n",
      "WARNING:biospytial.gbif.taxonomy:Missing data in field 'institutionCode':\n",
      "WARNING Missing data in field 'catalogNumber':\n",
      "WARNING:biospytial.gbif.taxonomy:Missing data in field 'catalogNumber':\n",
      "WARNING Missing data in field 'catalogNumber':\n",
      "WARNING:biospytial.gbif.taxonomy:Missing data in field 'catalogNumber':\n",
      "WARNING Missing data in field 'catalogNumber':\n",
      "WARNING:biospytial.gbif.taxonomy:Missing data in field 'catalogNumber':\n",
      "WARNING Missing data in field 'year':\n",
      "WARNING:biospytial.gbif.taxonomy:Missing data in field 'year':\n",
      "WARNING Missing data in field 'catalogNumber':\n",
      "WARNING:biospytial.gbif.taxonomy:Missing data in field 'catalogNumber':\n",
      "WARNING Missing data in field 'catalogNumber':\n",
      "WARNING:biospytial.gbif.taxonomy:Missing data in field 'catalogNumber':\n",
      "WARNING Missing data in field 'catalogNumber':\n",
      "WARNING:biospytial.gbif.taxonomy:Missing data in field 'catalogNumber':\n",
      "WARNING Missing data in field 'year':\n",
      "WARNING:biospytial.gbif.taxonomy:Missing data in field 'year':\n",
      "WARNING Missing data in field 'year':\n",
      "WARNING:biospytial.gbif.taxonomy:Missing data in field 'year':\n",
      "DEBUG Retrieving information from the server. Offset:30\n",
      "DEBUG:biospytial.gbif.taxonomy:Retrieving information from the server. Offset:30\n",
      "WARNING Missing data in field 'catalogNumber':\n",
      "WARNING:biospytial.gbif.taxonomy:Missing data in field 'catalogNumber':\n",
      "WARNING Missing data in field 'catalogNumber':\n",
      "WARNING:biospytial.gbif.taxonomy:Missing data in field 'catalogNumber':\n",
      "WARNING Missing data in field 'catalogNumber':\n",
      "WARNING:biospytial.gbif.taxonomy:Missing data in field 'catalogNumber':\n",
      "WARNING Missing data in field 'catalogNumber':\n",
      "WARNING:biospytial.gbif.taxonomy:Missing data in field 'catalogNumber':\n",
      "WARNING Missing data in field 'catalogNumber':\n",
      "WARNING:biospytial.gbif.taxonomy:Missing data in field 'catalogNumber':\n",
      "WARNING Missing data in field 'catalogNumber':\n",
      "WARNING:biospytial.gbif.taxonomy:Missing data in field 'catalogNumber':\n",
      "WARNING Missing data in field 'catalogNumber':\n",
      "WARNING:biospytial.gbif.taxonomy:Missing data in field 'catalogNumber':\n",
      "WARNING Missing data in field 'catalogNumber':\n",
      "WARNING:biospytial.gbif.taxonomy:Missing data in field 'catalogNumber':\n",
      "WARNING Missing data in field 'institutionCode':\n",
      "WARNING:biospytial.gbif.taxonomy:Missing data in field 'institutionCode':\n",
      "WARNING Missing data in field 'catalogNumber':\n",
      "WARNING:biospytial.gbif.taxonomy:Missing data in field 'catalogNumber':\n",
      "WARNING Missing data in field 'catalogNumber':\n",
      "WARNING:biospytial.gbif.taxonomy:Missing data in field 'catalogNumber':\n",
      "WARNING Missing data in field 'catalogNumber':\n",
      "WARNING:biospytial.gbif.taxonomy:Missing data in field 'catalogNumber':\n",
      "WARNING Missing data in field 'year':\n",
      "WARNING:biospytial.gbif.taxonomy:Missing data in field 'year':\n",
      "WARNING Missing data in field 'catalogNumber':\n",
      "WARNING:biospytial.gbif.taxonomy:Missing data in field 'catalogNumber':\n",
      "WARNING Missing data in field 'catalogNumber':\n",
      "WARNING:biospytial.gbif.taxonomy:Missing data in field 'catalogNumber':\n",
      "WARNING Missing data in field 'catalogNumber':\n",
      "WARNING:biospytial.gbif.taxonomy:Missing data in field 'catalogNumber':\n",
      "WARNING Missing data in field 'year':\n",
      "WARNING:biospytial.gbif.taxonomy:Missing data in field 'year':\n",
      "WARNING Missing data in field 'year':\n",
      "WARNING:biospytial.gbif.taxonomy:Missing data in field 'year':\n",
      "WARNING Missing data in field 'catalogNumber':\n",
      "WARNING:biospytial.gbif.taxonomy:Missing data in field 'catalogNumber':\n",
      "DEBUG Retrieving information from the server. Offset:31\n",
      "DEBUG:biospytial.gbif.taxonomy:Retrieving information from the server. Offset:31\n"
     ]
    }
   ],
   "source": [
    "all_carnforth = pop.getAllOccurrences(carnforth)"
   ]
  },
  {
   "cell_type": "code",
   "execution_count": 46,
   "metadata": {},
   "outputs": [
    {
     "data": {
      "text/plain": [
       "31"
      ]
     },
     "execution_count": 46,
     "metadata": {},
     "output_type": "execute_result"
    }
   ],
   "source": [
    "len(all_carnforth)"
   ]
  },
  {
   "cell_type": "code",
   "execution_count": 48,
   "metadata": {},
   "outputs": [
    {
     "data": {
      "text/plain": [
       "20"
      ]
     },
     "execution_count": 48,
     "metadata": {},
     "output_type": "execute_result"
    }
   ],
   "source": [
    "len(all_carnforth[0])"
   ]
  },
  {
   "cell_type": "markdown",
   "metadata": {},
   "source": [
    "We got all the records in the small forest in Carnforth. Approximatelly:"
   ]
  },
  {
   "cell_type": "code",
   "execution_count": 50,
   "metadata": {},
   "outputs": [
    {
     "data": {
      "text/plain": [
       "620"
      ]
     },
     "execution_count": 50,
     "metadata": {},
     "output_type": "execute_result"
    }
   ],
   "source": [
    "31 * 20 "
   ]
  },
  {
   "cell_type": "markdown",
   "metadata": {},
   "source": [
    "ok, let's do some data processing. We know that each record in 'all_carnfort' is a list and also each element is another list. We can colapse all these nested lists into a single one using the 'reduce' function."
   ]
  },
  {
   "cell_type": "code",
   "execution_count": 51,
   "metadata": {
    "collapsed": true
   },
   "outputs": [],
   "source": [
    "all_c = reduce(lambda l1,l2 :  l1 + l2 , all_carnforth)"
   ]
  },
  {
   "cell_type": "code",
   "execution_count": 52,
   "metadata": {},
   "outputs": [
    {
     "data": {
      "text/plain": [
       "620"
      ]
     },
     "execution_count": 52,
     "metadata": {},
     "output_type": "execute_result"
    }
   ],
   "source": [
    "len(all_c)"
   ]
  },
  {
   "cell_type": "markdown",
   "metadata": {},
   "source": [
    "it can be that there are more records here but the server has a limit. We can explore this possibility later."
   ]
  },
  {
   "cell_type": "markdown",
   "metadata": {},
   "source": [
    "#### Let's continue our exploration"
   ]
  },
  {
   "cell_type": "code",
   "execution_count": 57,
   "metadata": {},
   "outputs": [
    {
     "data": {
      "text/plain": [
       "[None,\n",
       " None,\n",
       " <Occurrence: <GBIF Occurrence: 1202678246  scientific_name: Periparus ater (Linnaeus, 1758)>\n",
       "  Kingdom: Animalia \n",
       " ,\t Phylum: Chordata \n",
       " ,\t \t Order: Passeriformes,\n",
       "  \t \t \t Class: Aves, \n",
       "  \t \t \t \t Family: Paridae, \n",
       "  \t \t \t \t \t Location: s<\\GBIF Occurrence>>,\n",
       " <Occurrence: <GBIF Occurrence: 1202679548  scientific_name: Turdus merula Linnaeus, 1758>\n",
       "  Kingdom: Animalia \n",
       " ,\t Phylum: Chordata \n",
       " ,\t \t Order: Passeriformes,\n",
       "  \t \t \t Class: Aves, \n",
       "  \t \t \t \t Family: Turdidae, \n",
       "  \t \t \t \t \t Location: s<\\GBIF Occurrence>>,\n",
       " None,\n",
       " <Occurrence: <GBIF Occurrence: 1202679575  scientific_name: Phylloscopus trochilus (Linnaeus, 1758)>\n",
       "  Kingdom: Animalia \n",
       " ,\t Phylum: Chordata \n",
       " ,\t \t Order: Passeriformes,\n",
       "  \t \t \t Class: Aves, \n",
       "  \t \t \t \t Family: Phylloscopidae, \n",
       "  \t \t \t \t \t Location: s<\\GBIF Occurrence>>,\n",
       " <Occurrence: <GBIF Occurrence: 1202679571  scientific_name: Larus marinus Linnaeus, 1758>\n",
       "  Kingdom: Animalia \n",
       " ,\t Phylum: Chordata \n",
       " ,\t \t Order: Charadriiformes,\n",
       "  \t \t \t Class: Aves, \n",
       "  \t \t \t \t Family: Laridae, \n",
       "  \t \t \t \t \t Location: s<\\GBIF Occurrence>>,\n",
       " <Occurrence: <GBIF Occurrence: 1202679557  scientific_name: Certhia familiaris Linnaeus, 1758>\n",
       "  Kingdom: Animalia \n",
       " ,\t Phylum: Chordata \n",
       " ,\t \t Order: Passeriformes,\n",
       "  \t \t \t Class: Aves, \n",
       "  \t \t \t \t Family: Certhiidae, \n",
       "  \t \t \t \t \t Location: s<\\GBIF Occurrence>>,\n",
       " <Occurrence: <GBIF Occurrence: 1202679517  scientific_name: Motacilla alba Linnaeus, 1758>\n",
       "  Kingdom: Animalia \n",
       " ,\t Phylum: Chordata \n",
       " ,\t \t Order: Passeriformes,\n",
       "  \t \t \t Class: Aves, \n",
       "  \t \t \t \t Family: Motacillidae, \n",
       "  \t \t \t \t \t Location: s<\\GBIF Occurrence>>,\n",
       " <Occurrence: <GBIF Occurrence: 1202679603  scientific_name: Parus major Linnaeus, 1758>\n",
       "  Kingdom: Animalia \n",
       " ,\t Phylum: Chordata \n",
       " ,\t \t Order: Passeriformes,\n",
       "  \t \t \t Class: Aves, \n",
       "  \t \t \t \t Family: Paridae, \n",
       "  \t \t \t \t \t Location: s<\\GBIF Occurrence>>]"
      ]
     },
     "execution_count": 57,
     "metadata": {},
     "output_type": "execute_result"
    }
   ],
   "source": [
    "all_c[:10]"
   ]
  },
  {
   "cell_type": "markdown",
   "metadata": {},
   "source": [
    "*Ohh!* There are empty records. The reason for this is that maybe an important field (attribute) was missing. *Biospytial* needs certain attributes for modelling and analysis and if we don't have them there's no reason to keep that record.\n",
    "Let's get rid of these null elements first."
   ]
  },
  {
   "cell_type": "code",
   "execution_count": 62,
   "metadata": {},
   "outputs": [],
   "source": [
    "carnforth_occurrences = filter(lambda record : record is not None , all_c)"
   ]
  },
  {
   "cell_type": "code",
   "execution_count": 63,
   "metadata": {},
   "outputs": [
    {
     "data": {
      "text/plain": [
       "213"
      ]
     },
     "execution_count": 63,
     "metadata": {},
     "output_type": "execute_result"
    }
   ],
   "source": [
    "len(carnforth_occurrences)"
   ]
  },
  {
   "cell_type": "markdown",
   "metadata": {},
   "source": [
    "## Inserting in the local database"
   ]
  },
  {
   "cell_type": "markdown",
   "metadata": {},
   "source": [
    "We are in a possition now to insert the new data in our local database.\n",
    " .... Fingers crossed .. "
   ]
  },
  {
   "cell_type": "raw",
   "metadata": {},
   "source": [
    "map(lambda oc : oc.save(),carnforth_occurrences)"
   ]
  },
  {
   "cell_type": "markdown",
   "metadata": {},
   "source": [
    "This means! no problem. We can load the results in a database connection in QGIS. \n",
    "The result should look like this:\n",
    "![Carnforth](carnford_poly_points.png \"The region\")\n"
   ]
  },
  {
   "cell_type": "markdown",
   "metadata": {},
   "source": [
    "### What! Only 2 occurrences ?!"
   ]
  },
  {
   "cell_type": "code",
   "execution_count": 68,
   "metadata": {},
   "outputs": [
    {
     "data": {
      "text/plain": [
       "[<Occurrence: <GBIF Occurrence: 1202678246  scientific_name: Periparus ater (Linnaeus, 1758)>\n",
       "  Kingdom: Animalia \n",
       " ,\t Phylum: Chordata \n",
       " ,\t \t Order: Passeriformes,\n",
       "  \t \t \t Class: Aves, \n",
       "  \t \t \t \t Family: Paridae, \n",
       "  \t \t \t \t \t Location: s<\\GBIF Occurrence>>,\n",
       " <Occurrence: <GBIF Occurrence: 1202679548  scientific_name: Turdus merula Linnaeus, 1758>\n",
       "  Kingdom: Animalia \n",
       " ,\t Phylum: Chordata \n",
       " ,\t \t Order: Passeriformes,\n",
       "  \t \t \t Class: Aves, \n",
       "  \t \t \t \t Family: Turdidae, \n",
       "  \t \t \t \t \t Location: s<\\GBIF Occurrence>>,\n",
       " <Occurrence: <GBIF Occurrence: 1202679575  scientific_name: Phylloscopus trochilus (Linnaeus, 1758)>\n",
       "  Kingdom: Animalia \n",
       " ,\t Phylum: Chordata \n",
       " ,\t \t Order: Passeriformes,\n",
       "  \t \t \t Class: Aves, \n",
       "  \t \t \t \t Family: Phylloscopidae, \n",
       "  \t \t \t \t \t Location: s<\\GBIF Occurrence>>,\n",
       " <Occurrence: <GBIF Occurrence: 1202679571  scientific_name: Larus marinus Linnaeus, 1758>\n",
       "  Kingdom: Animalia \n",
       " ,\t Phylum: Chordata \n",
       " ,\t \t Order: Charadriiformes,\n",
       "  \t \t \t Class: Aves, \n",
       "  \t \t \t \t Family: Laridae, \n",
       "  \t \t \t \t \t Location: s<\\GBIF Occurrence>>,\n",
       " <Occurrence: <GBIF Occurrence: 1202679557  scientific_name: Certhia familiaris Linnaeus, 1758>\n",
       "  Kingdom: Animalia \n",
       " ,\t Phylum: Chordata \n",
       " ,\t \t Order: Passeriformes,\n",
       "  \t \t \t Class: Aves, \n",
       "  \t \t \t \t Family: Certhiidae, \n",
       "  \t \t \t \t \t Location: s<\\GBIF Occurrence>>,\n",
       " <Occurrence: <GBIF Occurrence: 1202679517  scientific_name: Motacilla alba Linnaeus, 1758>\n",
       "  Kingdom: Animalia \n",
       " ,\t Phylum: Chordata \n",
       " ,\t \t Order: Passeriformes,\n",
       "  \t \t \t Class: Aves, \n",
       "  \t \t \t \t Family: Motacillidae, \n",
       "  \t \t \t \t \t Location: s<\\GBIF Occurrence>>,\n",
       " <Occurrence: <GBIF Occurrence: 1202679603  scientific_name: Parus major Linnaeus, 1758>\n",
       "  Kingdom: Animalia \n",
       " ,\t Phylum: Chordata \n",
       " ,\t \t Order: Passeriformes,\n",
       "  \t \t \t Class: Aves, \n",
       "  \t \t \t \t Family: Paridae, \n",
       "  \t \t \t \t \t Location: s<\\GBIF Occurrence>>,\n",
       " <Occurrence: <GBIF Occurrence: 1202679550  scientific_name: Pica pica (Linnaeus, 1758)>\n",
       "  Kingdom: Animalia \n",
       " ,\t Phylum: Chordata \n",
       " ,\t \t Order: Passeriformes,\n",
       "  \t \t \t Class: Aves, \n",
       "  \t \t \t \t Family: Corvidae, \n",
       "  \t \t \t \t \t Location: s<\\GBIF Occurrence>>,\n",
       " <Occurrence: <GBIF Occurrence: 1202678226  scientific_name: Delichon urbicum (Linnaeus, 1758)>\n",
       "  Kingdom: Animalia \n",
       " ,\t Phylum: Chordata \n",
       " ,\t \t Order: Passeriformes,\n",
       "  \t \t \t Class: Aves, \n",
       "  \t \t \t \t Family: Hirundinidae, \n",
       "  \t \t \t \t \t Location: s<\\GBIF Occurrence>>,\n",
       " <Occurrence: <GBIF Occurrence: 1202678282  scientific_name: Cyanistes caeruleus (Linnaeus, 1758)>\n",
       "  Kingdom: Animalia \n",
       " ,\t Phylum: Chordata \n",
       " ,\t \t Order: Passeriformes,\n",
       "  \t \t \t Class: Aves, \n",
       "  \t \t \t \t Family: Paridae, \n",
       "  \t \t \t \t \t Location: s<\\GBIF Occurrence>>]"
      ]
     },
     "execution_count": 68,
     "metadata": {},
     "output_type": "execute_result"
    }
   ],
   "source": [
    "carnforth_occurrences[:10]"
   ]
  },
  {
   "cell_type": "code",
   "execution_count": 69,
   "metadata": {
    "collapsed": true
   },
   "outputs": [],
   "source": [
    "o = carnforth_occurrences[0]"
   ]
  },
  {
   "cell_type": "code",
   "execution_count": 72,
   "metadata": {},
   "outputs": [
    {
     "data": {
      "text/plain": [
       "u'POINT (-2.82074 54.17848)'"
      ]
     },
     "execution_count": 72,
     "metadata": {},
     "output_type": "execute_result"
    }
   ],
   "source": [
    "o.geom.wkt"
   ]
  },
  {
   "cell_type": "code",
   "execution_count": 73,
   "metadata": {
    "collapsed": true
   },
   "outputs": [],
   "source": [
    "points = map(lambda o : o.geom.wkt, carnforth_occurrences)"
   ]
  },
  {
   "cell_type": "code",
   "execution_count": 87,
   "metadata": {},
   "outputs": [
    {
     "data": {
      "text/plain": [
       "[u'POINT (-2.82074 54.17848)',\n",
       " u'POINT (-2.82074 54.17848)',\n",
       " u'POINT (-2.82074 54.17848)',\n",
       " u'POINT (-2.82074 54.17848)',\n",
       " u'POINT (-2.82074 54.17848)',\n",
       " u'POINT (-2.82074 54.17848)',\n",
       " u'POINT (-2.82074 54.17848)',\n",
       " u'POINT (-2.82074 54.17848)',\n",
       " u'POINT (-2.82074 54.17848)',\n",
       " u'POINT (-2.82074 54.17848)']"
      ]
     },
     "execution_count": 87,
     "metadata": {},
     "output_type": "execute_result"
    }
   ],
   "source": [
    "points[:10]"
   ]
  },
  {
   "cell_type": "markdown",
   "metadata": {},
   "source": [
    "No, just that everybody registered that same point! \n",
    "Don't do that pleasEE!"
   ]
  },
  {
   "cell_type": "markdown",
   "metadata": {},
   "source": [
    "Let's see if we can get more data from there"
   ]
  },
  {
   "cell_type": "code",
   "execution_count": 77,
   "metadata": {
    "collapsed": true
   },
   "outputs": [],
   "source": [
    "more_carnforth = pop.getAllOccurrences(carnforth,offset=32)"
   ]
  },
  {
   "cell_type": "markdown",
   "metadata": {},
   "source": []
  },
  {
   "cell_type": "markdown",
   "metadata": {},
   "source": []
  },
  {
   "cell_type": "code",
   "execution_count": null,
   "metadata": {
    "collapsed": true
   },
   "outputs": [],
   "source": []
  }
 ],
 "metadata": {
  "kernelspec": {
   "display_name": "Django Shell-Plus",
   "language": "python",
   "name": "django_extensions"
  },
  "language_info": {
   "codemirror_mode": {
    "name": "ipython",
    "version": 2
   },
   "file_extension": ".py",
   "mimetype": "text/x-python",
   "name": "python",
   "nbconvert_exporter": "python",
   "pygments_lexer": "ipython2",
   "version": "2.7.15"
  }
 },
 "nbformat": 4,
 "nbformat_minor": 1
}
