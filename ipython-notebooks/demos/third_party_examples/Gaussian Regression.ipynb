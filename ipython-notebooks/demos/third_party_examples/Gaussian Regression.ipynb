{
 "cells": [
  {
   "cell_type": "markdown",
   "metadata": {},
   "source": [
    "# Gaussian Regression\n",
    "This demo implements a regression of a Stationary Gaussian Process of the form:\n",
    "$$ y \\sim N(\\beta X,\\Sigma_p)  $$\n",
    "where $$ y = \\beta X + Z(x) + \\epsilon$$.\n",
    "$$ Z(x) \\sim N(0,\\Sigma_p)$$ \n",
    "$ \\Sigma $ describes the covariance structure. In this case, the constraint is an stationary process therefore , $Z(x)$ is invariant by translations. In other words:  \n",
    "\n",
    "$$ \\mathbb{P}[X_i=x_i] = \\mathbb{P}[X_i + h=x_i] $$\n",
    "\n",
    "By definition, a stationary process $\\{X(p) $  $p \\in \\mathbb{R}^2\\}$ such that (at least for a gaussian random variable).:\n",
    "1. $$ \\mathbb{E}(X_i) = \\mathbb{E}(X_j)$$ for all $i \\neq j $.\n",
    "and\n",
    "2. $$\\mathbb{E}(X_i X_j) = \\mathbb{E}((X_i + h),(X_j + h))$$\n",
    "\n",
    "Therefore:\n",
    "For all $X_i$ :\n",
    "$$\\mathbb{E}(X_i) = \\mu $$\n",
    "and \n",
    "The correlation function: \n",
    "$$Corr(X_i,X_j) = Corr((X_i - X_j))$$\n",
    "\n",
    "For the Z(x) described it implies that: \n",
    "$$ \\mathbb{E}(X_i) = 0$$ and $$Var(X_i) = \\tau^2 \\space \\space \\forall i \\in \\{1,...,n\\}$$\n",
    "\n",
    "Remembering that: $$ Corr(x_i,x_j) = \\frac{Cov(x_i,x_j)}{\\sqrt{Var(x_i) Var(x_j)}}$$\n",
    "\n",
    "If we restrict futher to an Isotropic process Z(X) we will have that: $\\rho(d) = Corr(x_i,x_j)$ where $ d = || (x_i,x_j) ||$ i.e the euclidean distance between $x_i$ and $x_j$ .\n",
    "\n",
    "Thus\n",
    "\n",
    "\n",
    "$$ Cov(x_i,x_j) = \\tau^2 \\rho(d) $$"
   ]
  },
  {
   "cell_type": "code",
   "execution_count": null,
   "metadata": {
    "collapsed": true
   },
   "outputs": [],
   "source": []
  },
  {
   "cell_type": "code",
   "execution_count": null,
   "metadata": {
    "collapsed": true
   },
   "outputs": [],
   "source": []
  }
 ],
 "metadata": {
  "kernelspec": {
   "display_name": "Django Shell-Plus",
   "language": "python",
   "name": "django_extensions"
  },
  "language_info": {
   "codemirror_mode": {
    "name": "ipython",
    "version": 2
   },
   "file_extension": ".py",
   "mimetype": "text/x-python",
   "name": "python",
   "nbconvert_exporter": "python",
   "pygments_lexer": "ipython2",
   "version": "2.7.11"
  }
 },
 "nbformat": 4,
 "nbformat_minor": 0
}
