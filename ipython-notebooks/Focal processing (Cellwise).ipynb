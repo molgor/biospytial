{
 "cells": [
  {
   "cell_type": "markdown",
   "metadata": {},
   "source": [
    "# This script is for showing the focal module to interpolate a Tree structure"
   ]
  },
  {
   "cell_type": "markdown",
   "metadata": {},
   "source": [
    "## Import modules and libraries"
   ]
  },
  {
   "cell_type": "code",
   "execution_count": 1,
   "metadata": {
    "collapsed": true
   },
   "outputs": [],
   "source": [
    "from drivers.neo4j_reader import TreeNeo\n",
    "from mesh.models import MexMesh\n",
    "from gbif.taxonomy import Occurrence, Taxonomy, GriddedTaxonomy\n",
    "from drivers.neo4j_reader import Cell,extractOccurrencesFromTaxonomies\n",
    "from py2neo import Graph\n",
    "import pandas as pd\n",
    "import matplotlib.pyplot as plt\n",
    "from drivers.neo4j_reader import RasterCollection"
   ]
  },
  {
   "cell_type": "markdown",
   "metadata": {},
   "source": [
    "## Initialize geographic context and graph object"
   ]
  },
  {
   "cell_type": "code",
   "execution_count": 2,
   "metadata": {
    "collapsed": true
   },
   "outputs": [],
   "source": [
    "g = Graph()\n",
    "\n",
    "\n",
    "from django.contrib.gis.geos import GEOSGeometry\n",
    "polystr = \"POLYGON((-109 27,-106 27,-106 30,-109 30,-109 27))\"\n",
    "polygon = GEOSGeometry(polystr)\n"
   ]
  },
  {
   "cell_type": "code",
   "execution_count": 3,
   "metadata": {
    "collapsed": false
   },
   "outputs": [
    {
     "name": "stderr",
     "output_type": "stream",
     "text": [
      "Exception django.contrib.gis.gdal.error.GDALException: GDALException('Invalid pointer returned from \"GDALClose\"',) in "
     ]
    }
   ],
   "source": [
    "mexgrid = MexMesh.objects.filter(cell__intersects=polygon)\n",
    "## Instantiate the biosphere\n",
    "biosphere = Occurrence.objects.all()\n",
    "subbiosphere = biosphere.filter(geom__intersects=polygon)\n",
    "ggg = GriddedTaxonomy(subbiosphere,mexgrid.filter(cell__intersects=polystr),generate_tree_now=False,use_id_as_name=False)\n"
   ]
  },
  {
   "cell_type": "code",
   "execution_count": 4,
   "metadata": {
    "collapsed": true
   },
   "outputs": [],
   "source": [
    "# Sort occurrences by length\n",
    "ggg.taxonomies.sort(key=lambda l : len(l.occurrences))\n"
   ]
  },
  {
   "cell_type": "code",
   "execution_count": 5,
   "metadata": {
    "collapsed": true
   },
   "outputs": [],
   "source": [
    "trees_f = TreeNeo(extractOccurrencesFromTaxonomies([ggg.taxonomies[3400]]))\n",
    "\n",
    "central = trees_f"
   ]
  },
  {
   "cell_type": "markdown",
   "metadata": {},
   "source": [
    "## Expand cells to 6 neighbours (Will take time, poor implementation)"
   ]
  },
  {
   "cell_type": "code",
   "execution_count": 6,
   "metadata": {
    "collapsed": true
   },
   "outputs": [],
   "source": [
    "neighbours = central.expandNeighbouringTrees(4)"
   ]
  },
  {
   "cell_type": "code",
   "execution_count": 7,
   "metadata": {
    "collapsed": false
   },
   "outputs": [],
   "source": [
    "## We need to wipe repeated trees\n",
    "neighbours = list(set(neighbours))"
   ]
  },
  {
   "cell_type": "code",
   "execution_count": 8,
   "metadata": {
    "collapsed": true
   },
   "outputs": [],
   "source": [
    "## Merge the trees into a bigger tree\n",
    "bigt = reduce(lambda a, b : a + b , neighbours)  "
   ]
  },
  {
   "cell_type": "code",
   "execution_count": 9,
   "metadata": {
    "collapsed": true
   },
   "outputs": [],
   "source": [
    "## Let's select for now (without losing generality the level \"Family\")\n",
    "catalog = map(lambda l : l.name, bigt.kingdoms)\n",
    "## Let's sort it by id\n",
    "catalog.sort()\n"
   ]
  },
  {
   "cell_type": "code",
   "execution_count": 10,
   "metadata": {
    "collapsed": false
   },
   "outputs": [
    {
     "data": {
      "text/plain": [
       "[<TreeNode | Kingdom: Animalia - n.count : 512- >,\n",
       " <TreeNode | Kingdom: Fungi - n.count : 248- >,\n",
       " <TreeNode | Kingdom: Plantae - n.count : 1301- >]"
      ]
     },
     "execution_count": 10,
     "metadata": {},
     "output_type": "execute_result"
    }
   ],
   "source": [
    "bigt.children"
   ]
  },
  {
   "cell_type": "code",
   "execution_count": 11,
   "metadata": {
    "collapsed": false
   },
   "outputs": [
    {
     "data": {
      "text/plain": [
       "[u'Animalia', u'Fungi', u'Plantae']"
      ]
     },
     "execution_count": 11,
     "metadata": {},
     "output_type": "execute_result"
    }
   ],
   "source": [
    "catalog"
   ]
  },
  {
   "cell_type": "markdown",
   "metadata": {},
   "source": [
    "## So now we have the list of the upper scale or the big region. This is going to be used to generate presence absences\n"
   ]
  },
  {
   "cell_type": "code",
   "execution_count": 12,
   "metadata": {
    "collapsed": false
   },
   "outputs": [
    {
     "data": {
      "text/plain": [
       "[<LocalTree Of Life | Root: LUCA - n.count : 4- >,\n",
       " <LocalTree Of Life | Root: LUCA - n.count : 180- >,\n",
       " <LocalTree Of Life | Root: LUCA - n.count : 266- >,\n",
       " <LocalTree Of Life | Root: LUCA - n.count : 173- >,\n",
       " <LocalTree Of Life | Root: LUCA - n.count : 38- >,\n",
       " <LocalTree Of Life | Root: LUCA - n.count : 34- >,\n",
       " <LocalTree Of Life | Root: LUCA - n.count : 14- >,\n",
       " <LocalTree Of Life | Root: LUCA - n.count : 34- >,\n",
       " <LocalTree Of Life | Root: LUCA - n.count : 14- >,\n",
       " <LocalTree Of Life | Root: LUCA - n.count : 2- >,\n",
       " <LocalTree Of Life | Root: LUCA - n.count : 4- >,\n",
       " <LocalTree Of Life | Root: LUCA - n.count : 81- >,\n",
       " <LocalTree Of Life | Root: LUCA - n.count : 596- >,\n",
       " <LocalTree Of Life | Root: LUCA - n.count : 36- >,\n",
       " <LocalTree Of Life | Root: LUCA - n.count : 64- >,\n",
       " <LocalTree Of Life | Root: LUCA - n.count : 4- >,\n",
       " <LocalTree Of Life | Root: LUCA - n.count : 177- >,\n",
       " <LocalTree Of Life | Root: LUCA - n.count : 10- >,\n",
       " <LocalTree Of Life | Root: LUCA - n.count : 330- >]"
      ]
     },
     "execution_count": 12,
     "metadata": {},
     "output_type": "execute_result"
    }
   ],
   "source": [
    "neighbours"
   ]
  },
  {
   "cell_type": "code",
   "execution_count": 13,
   "metadata": {
    "collapsed": true
   },
   "outputs": [],
   "source": [
    "## Let's see what's in the first member:\n",
    "n0 = neighbours[0]"
   ]
  },
  {
   "cell_type": "code",
   "execution_count": 14,
   "metadata": {
    "collapsed": false
   },
   "outputs": [],
   "source": [
    "a = n0.pseudoPresenceAbsence(catalog,1,selected_field='name')"
   ]
  },
  {
   "cell_type": "code",
   "execution_count": 15,
   "metadata": {
    "collapsed": true
   },
   "outputs": [],
   "source": [
    "n1 = neighbours[1]"
   ]
  },
  {
   "cell_type": "code",
   "execution_count": 16,
   "metadata": {
    "collapsed": false
   },
   "outputs": [],
   "source": [
    "b = n1.pseudoPresenceAbsence(catalog,1,selected_field='name')"
   ]
  },
  {
   "cell_type": "code",
   "execution_count": 17,
   "metadata": {
    "collapsed": false
   },
   "outputs": [],
   "source": [
    "c = pd.concat([a,b],axis=1)"
   ]
  },
  {
   "cell_type": "code",
   "execution_count": 18,
   "metadata": {
    "collapsed": false
   },
   "outputs": [],
   "source": [
    "c = a\n",
    "for i,neighbour in enumerate(neighbours):\n",
    "    n = neighbour.pseudoPresenceAbsence(catalog,1,selected_field='name')\n",
    "    n.columns = [neighbour.getExactCells()[0].id]\n",
    "    c = pd.concat([c,n],axis=1,names=str(i))"
   ]
  },
  {
   "cell_type": "code",
   "execution_count": 19,
   "metadata": {
    "collapsed": false
   },
   "outputs": [
    {
     "data": {
      "text/html": [
       "<div>\n",
       "<table border=\"1\" class=\"dataframe\">\n",
       "  <thead>\n",
       "    <tr style=\"text-align: right;\">\n",
       "      <th></th>\n",
       "      <th>0</th>\n",
       "      <th>195326</th>\n",
       "      <th>196487</th>\n",
       "      <th>195713</th>\n",
       "      <th>196488</th>\n",
       "      <th>196103</th>\n",
       "      <th>195325</th>\n",
       "      <th>195714</th>\n",
       "      <th>195717</th>\n",
       "      <th>196483</th>\n",
       "      <th>196100</th>\n",
       "      <th>195715</th>\n",
       "      <th>195716</th>\n",
       "      <th>196871</th>\n",
       "      <th>196102</th>\n",
       "      <th>197249</th>\n",
       "      <th>196484</th>\n",
       "      <th>196486</th>\n",
       "      <th>196485</th>\n",
       "      <th>196870</th>\n",
       "    </tr>\n",
       "  </thead>\n",
       "  <tbody>\n",
       "    <tr>\n",
       "      <th>Animalia</th>\n",
       "      <td>0</td>\n",
       "      <td>0</td>\n",
       "      <td>1</td>\n",
       "      <td>0</td>\n",
       "      <td>0</td>\n",
       "      <td>1</td>\n",
       "      <td>0</td>\n",
       "      <td>0</td>\n",
       "      <td>0</td>\n",
       "      <td>1</td>\n",
       "      <td>0</td>\n",
       "      <td>0</td>\n",
       "      <td>1</td>\n",
       "      <td>1</td>\n",
       "      <td>0</td>\n",
       "      <td>0</td>\n",
       "      <td>0</td>\n",
       "      <td>0</td>\n",
       "      <td>0</td>\n",
       "      <td>0</td>\n",
       "    </tr>\n",
       "    <tr>\n",
       "      <th>Plantae</th>\n",
       "      <td>1</td>\n",
       "      <td>1</td>\n",
       "      <td>1</td>\n",
       "      <td>1</td>\n",
       "      <td>1</td>\n",
       "      <td>1</td>\n",
       "      <td>1</td>\n",
       "      <td>1</td>\n",
       "      <td>1</td>\n",
       "      <td>0</td>\n",
       "      <td>1</td>\n",
       "      <td>1</td>\n",
       "      <td>1</td>\n",
       "      <td>1</td>\n",
       "      <td>1</td>\n",
       "      <td>1</td>\n",
       "      <td>1</td>\n",
       "      <td>1</td>\n",
       "      <td>1</td>\n",
       "      <td>1</td>\n",
       "    </tr>\n",
       "    <tr>\n",
       "      <th>Fungi</th>\n",
       "      <td>1</td>\n",
       "      <td>1</td>\n",
       "      <td>1</td>\n",
       "      <td>0</td>\n",
       "      <td>1</td>\n",
       "      <td>0</td>\n",
       "      <td>0</td>\n",
       "      <td>0</td>\n",
       "      <td>0</td>\n",
       "      <td>0</td>\n",
       "      <td>0</td>\n",
       "      <td>0</td>\n",
       "      <td>0</td>\n",
       "      <td>0</td>\n",
       "      <td>0</td>\n",
       "      <td>0</td>\n",
       "      <td>0</td>\n",
       "      <td>0</td>\n",
       "      <td>0</td>\n",
       "      <td>0</td>\n",
       "    </tr>\n",
       "  </tbody>\n",
       "</table>\n",
       "</div>"
      ],
      "text/plain": [
       "          0       195326  196487  195713  196488  196103  195325  195714  \\\n",
       "Animalia       0       0       1       0       0       1       0       0   \n",
       "Plantae        1       1       1       1       1       1       1       1   \n",
       "Fungi          1       1       1       0       1       0       0       0   \n",
       "\n",
       "          195717  196483  196100  195715  195716  196871  196102  197249  \\\n",
       "Animalia       0       1       0       0       1       1       0       0   \n",
       "Plantae        1       0       1       1       1       1       1       1   \n",
       "Fungi          0       0       0       0       0       0       0       0   \n",
       "\n",
       "          196484  196486  196485  196870  \n",
       "Animalia       0       0       0       0  \n",
       "Plantae        1       1       1       1  \n",
       "Fungi          0       0       0       0  "
      ]
     },
     "execution_count": 19,
     "metadata": {},
     "output_type": "execute_result"
    }
   ],
   "source": [
    "c"
   ]
  },
  {
   "cell_type": "code",
   "execution_count": 73,
   "metadata": {
    "collapsed": false
   },
   "outputs": [
    {
     "data": {
      "text/html": [
       "<div>\n",
       "<table border=\"1\" class=\"dataframe\">\n",
       "  <thead>\n",
       "    <tr style=\"text-align: right;\">\n",
       "      <th></th>\n",
       "      <th>195326</th>\n",
       "      <th>196487</th>\n",
       "      <th>195713</th>\n",
       "      <th>196488</th>\n",
       "      <th>196103</th>\n",
       "      <th>195325</th>\n",
       "      <th>195714</th>\n",
       "      <th>195717</th>\n",
       "      <th>196483</th>\n",
       "      <th>196100</th>\n",
       "      <th>195715</th>\n",
       "      <th>195716</th>\n",
       "      <th>196871</th>\n",
       "      <th>196102</th>\n",
       "      <th>197249</th>\n",
       "      <th>196484</th>\n",
       "      <th>196486</th>\n",
       "      <th>196485</th>\n",
       "      <th>196870</th>\n",
       "    </tr>\n",
       "  </thead>\n",
       "  <tbody>\n",
       "    <tr>\n",
       "      <th>Animalia</th>\n",
       "      <td>0</td>\n",
       "      <td>1</td>\n",
       "      <td>0</td>\n",
       "      <td>0</td>\n",
       "      <td>1</td>\n",
       "      <td>0</td>\n",
       "      <td>0</td>\n",
       "      <td>0</td>\n",
       "      <td>1</td>\n",
       "      <td>0</td>\n",
       "      <td>0</td>\n",
       "      <td>1</td>\n",
       "      <td>1</td>\n",
       "      <td>0</td>\n",
       "      <td>0</td>\n",
       "      <td>0</td>\n",
       "      <td>0</td>\n",
       "      <td>0</td>\n",
       "      <td>0</td>\n",
       "    </tr>\n",
       "    <tr>\n",
       "      <th>Plantae</th>\n",
       "      <td>1</td>\n",
       "      <td>1</td>\n",
       "      <td>1</td>\n",
       "      <td>1</td>\n",
       "      <td>1</td>\n",
       "      <td>1</td>\n",
       "      <td>1</td>\n",
       "      <td>1</td>\n",
       "      <td>0</td>\n",
       "      <td>1</td>\n",
       "      <td>1</td>\n",
       "      <td>1</td>\n",
       "      <td>1</td>\n",
       "      <td>1</td>\n",
       "      <td>1</td>\n",
       "      <td>1</td>\n",
       "      <td>1</td>\n",
       "      <td>1</td>\n",
       "      <td>1</td>\n",
       "    </tr>\n",
       "    <tr>\n",
       "      <th>Fungi</th>\n",
       "      <td>1</td>\n",
       "      <td>1</td>\n",
       "      <td>0</td>\n",
       "      <td>1</td>\n",
       "      <td>0</td>\n",
       "      <td>0</td>\n",
       "      <td>0</td>\n",
       "      <td>0</td>\n",
       "      <td>0</td>\n",
       "      <td>0</td>\n",
       "      <td>0</td>\n",
       "      <td>0</td>\n",
       "      <td>0</td>\n",
       "      <td>0</td>\n",
       "      <td>0</td>\n",
       "      <td>0</td>\n",
       "      <td>0</td>\n",
       "      <td>0</td>\n",
       "      <td>0</td>\n",
       "    </tr>\n",
       "  </tbody>\n",
       "</table>\n",
       "</div>"
      ],
      "text/plain": [
       "          195326  196487  195713  196488  196103  195325  195714  195717  \\\n",
       "Animalia       0       1       0       0       1       0       0       0   \n",
       "Plantae        1       1       1       1       1       1       1       1   \n",
       "Fungi          1       1       0       1       0       0       0       0   \n",
       "\n",
       "          196483  196100  195715  195716  196871  196102  197249  196484  \\\n",
       "Animalia       1       0       0       1       1       0       0       0   \n",
       "Plantae        0       1       1       1       1       1       1       1   \n",
       "Fungi          0       0       0       0       0       0       0       0   \n",
       "\n",
       "          196486  196485  196870  \n",
       "Animalia       0       0       0  \n",
       "Plantae        1       1       1  \n",
       "Fungi          0       0       0  "
      ]
     },
     "execution_count": 73,
     "metadata": {},
     "output_type": "execute_result"
    }
   ],
   "source": [
    "c.drop(0,1)"
   ]
  },
  {
   "cell_type": "code",
   "execution_count": 76,
   "metadata": {
    "collapsed": true
   },
   "outputs": [],
   "source": [
    "cooccurrences = c"
   ]
  },
  {
   "cell_type": "code",
   "execution_count": 77,
   "metadata": {
    "collapsed": false
   },
   "outputs": [
    {
     "data": {
      "text/html": [
       "<div>\n",
       "<table border=\"1\" class=\"dataframe\">\n",
       "  <thead>\n",
       "    <tr style=\"text-align: right;\">\n",
       "      <th></th>\n",
       "      <th>0</th>\n",
       "    </tr>\n",
       "  </thead>\n",
       "  <tbody>\n",
       "    <tr>\n",
       "      <th>Animalia</th>\n",
       "      <td>1</td>\n",
       "    </tr>\n",
       "    <tr>\n",
       "      <th>Plantae</th>\n",
       "      <td>0</td>\n",
       "    </tr>\n",
       "    <tr>\n",
       "      <th>Fungi</th>\n",
       "      <td>0</td>\n",
       "    </tr>\n",
       "  </tbody>\n",
       "</table>\n",
       "</div>"
      ],
      "text/plain": [
       "          0\n",
       "Animalia  1\n",
       "Plantae   0\n",
       "Fungi     0"
      ]
     },
     "execution_count": 77,
     "metadata": {},
     "output_type": "execute_result"
    }
   ],
   "source": [
    "central.pseudoPresenceAbsence(catalog, 1, selected_field='name')"
   ]
  },
  {
   "cell_type": "code",
   "execution_count": 78,
   "metadata": {
    "collapsed": false,
    "scrolled": true
   },
   "outputs": [
    {
     "data": {
      "text/plain": [
       "[u'Animalia', u'Fungi', u'Plantae']"
      ]
     },
     "execution_count": 78,
     "metadata": {},
     "output_type": "execute_result"
    }
   ],
   "source": [
    "catalog"
   ]
  },
  {
   "cell_type": "markdown",
   "metadata": {},
   "source": [
    "## Now, let's calculate the environment"
   ]
  },
  {
   "cell_type": "code",
   "execution_count": 79,
   "metadata": {
    "collapsed": false
   },
   "outputs": [],
   "source": [
    "environments = map(lambda n : n.associatedData.getEnvironmentalVariablesCells(),neighbours)"
   ]
  },
  {
   "cell_type": "code",
   "execution_count": 80,
   "metadata": {
    "collapsed": false
   },
   "outputs": [],
   "source": [
    "cell_ids = map(lambda c : str(c.getExactCells().pop().id),neighbours)"
   ]
  },
  {
   "cell_type": "code",
   "execution_count": 81,
   "metadata": {
    "collapsed": false
   },
   "outputs": [],
   "source": [
    "envs = pd.DataFrame.from_dict(environments)"
   ]
  },
  {
   "cell_type": "code",
   "execution_count": 82,
   "metadata": {
    "collapsed": false
   },
   "outputs": [],
   "source": [
    "envs = pd.concat([pd.DataFrame({'neighbour_id':cell_ids}),envs],axis=1)"
   ]
  },
  {
   "cell_type": "code",
   "execution_count": 83,
   "metadata": {
    "collapsed": false,
    "scrolled": false
   },
   "outputs": [
    {
     "data": {
      "text/html": [
       "<div>\n",
       "<table border=\"1\" class=\"dataframe\">\n",
       "  <thead>\n",
       "    <tr style=\"text-align: right;\">\n",
       "      <th></th>\n",
       "      <th>MaxTemperature_mean</th>\n",
       "      <th>MaxTemperature_std</th>\n",
       "      <th>MeanTemperature_mean</th>\n",
       "      <th>MeanTemperature_std</th>\n",
       "      <th>MinTemperature_mean</th>\n",
       "      <th>MinTemperature_std</th>\n",
       "      <th>Precipitation_mean</th>\n",
       "      <th>Precipitation_std</th>\n",
       "      <th>SolarRadiation_mean</th>\n",
       "      <th>SolarRadiation_std</th>\n",
       "      <th>Vapor_mean</th>\n",
       "      <th>Vapor_std</th>\n",
       "      <th>WindSpeed_mean</th>\n",
       "      <th>WindSpeed_std</th>\n",
       "    </tr>\n",
       "    <tr>\n",
       "      <th>neighbour_id</th>\n",
       "      <th></th>\n",
       "      <th></th>\n",
       "      <th></th>\n",
       "      <th></th>\n",
       "      <th></th>\n",
       "      <th></th>\n",
       "      <th></th>\n",
       "      <th></th>\n",
       "      <th></th>\n",
       "      <th></th>\n",
       "      <th></th>\n",
       "      <th></th>\n",
       "      <th></th>\n",
       "      <th></th>\n",
       "    </tr>\n",
       "  </thead>\n",
       "  <tbody>\n",
       "    <tr>\n",
       "      <th>195326</th>\n",
       "      <td>24.257407</td>\n",
       "      <td>0.254007</td>\n",
       "      <td>14.802778</td>\n",
       "      <td>0.341812</td>\n",
       "      <td>5.349074</td>\n",
       "      <td>0.447316</td>\n",
       "      <td>77.569444</td>\n",
       "      <td>2.042493</td>\n",
       "      <td>18575.192130</td>\n",
       "      <td>31.496980</td>\n",
       "      <td>0.874861</td>\n",
       "      <td>0.022549</td>\n",
       "      <td>2.741204</td>\n",
       "      <td>0.060159</td>\n",
       "    </tr>\n",
       "    <tr>\n",
       "      <th>196487</th>\n",
       "      <td>22.789352</td>\n",
       "      <td>0.889141</td>\n",
       "      <td>13.497222</td>\n",
       "      <td>0.770713</td>\n",
       "      <td>4.199769</td>\n",
       "      <td>0.677539</td>\n",
       "      <td>83.803241</td>\n",
       "      <td>4.194770</td>\n",
       "      <td>18497.122685</td>\n",
       "      <td>63.871331</td>\n",
       "      <td>0.797477</td>\n",
       "      <td>0.052171</td>\n",
       "      <td>2.936806</td>\n",
       "      <td>0.157682</td>\n",
       "    </tr>\n",
       "    <tr>\n",
       "      <th>195713</th>\n",
       "      <td>24.893056</td>\n",
       "      <td>0.203955</td>\n",
       "      <td>15.727778</td>\n",
       "      <td>0.256806</td>\n",
       "      <td>6.562222</td>\n",
       "      <td>0.323763</td>\n",
       "      <td>76.925000</td>\n",
       "      <td>1.631110</td>\n",
       "      <td>18609.458333</td>\n",
       "      <td>27.278082</td>\n",
       "      <td>0.936000</td>\n",
       "      <td>0.018719</td>\n",
       "      <td>2.611111</td>\n",
       "      <td>0.043620</td>\n",
       "    </tr>\n",
       "    <tr>\n",
       "      <th>196488</th>\n",
       "      <td>22.472685</td>\n",
       "      <td>0.492145</td>\n",
       "      <td>12.953009</td>\n",
       "      <td>0.420161</td>\n",
       "      <td>3.434954</td>\n",
       "      <td>0.367104</td>\n",
       "      <td>84.037037</td>\n",
       "      <td>2.468258</td>\n",
       "      <td>18454.939815</td>\n",
       "      <td>44.599961</td>\n",
       "      <td>0.772731</td>\n",
       "      <td>0.030286</td>\n",
       "      <td>3.003472</td>\n",
       "      <td>0.098579</td>\n",
       "    </tr>\n",
       "    <tr>\n",
       "      <th>196103</th>\n",
       "      <td>23.606250</td>\n",
       "      <td>0.568028</td>\n",
       "      <td>14.141435</td>\n",
       "      <td>0.564612</td>\n",
       "      <td>4.675463</td>\n",
       "      <td>0.588116</td>\n",
       "      <td>80.604167</td>\n",
       "      <td>3.335017</td>\n",
       "      <td>18481.791667</td>\n",
       "      <td>53.350899</td>\n",
       "      <td>0.829028</td>\n",
       "      <td>0.038374</td>\n",
       "      <td>2.846991</td>\n",
       "      <td>0.109634</td>\n",
       "    </tr>\n",
       "    <tr>\n",
       "      <th>195325</th>\n",
       "      <td>24.814120</td>\n",
       "      <td>0.190622</td>\n",
       "      <td>15.529167</td>\n",
       "      <td>0.250565</td>\n",
       "      <td>6.244907</td>\n",
       "      <td>0.317938</td>\n",
       "      <td>76.064815</td>\n",
       "      <td>1.576403</td>\n",
       "      <td>18583.291667</td>\n",
       "      <td>28.489497</td>\n",
       "      <td>0.913009</td>\n",
       "      <td>0.022666</td>\n",
       "      <td>2.658796</td>\n",
       "      <td>0.057749</td>\n",
       "    </tr>\n",
       "    <tr>\n",
       "      <th>195714</th>\n",
       "      <td>24.558102</td>\n",
       "      <td>0.311941</td>\n",
       "      <td>15.381713</td>\n",
       "      <td>0.332983</td>\n",
       "      <td>6.199768</td>\n",
       "      <td>0.357752</td>\n",
       "      <td>77.594907</td>\n",
       "      <td>2.319583</td>\n",
       "      <td>18590.407407</td>\n",
       "      <td>35.581397</td>\n",
       "      <td>0.912616</td>\n",
       "      <td>0.023828</td>\n",
       "      <td>2.656019</td>\n",
       "      <td>0.060069</td>\n",
       "    </tr>\n",
       "    <tr>\n",
       "      <th>195717</th>\n",
       "      <td>23.954861</td>\n",
       "      <td>0.295559</td>\n",
       "      <td>14.166667</td>\n",
       "      <td>0.280878</td>\n",
       "      <td>4.380787</td>\n",
       "      <td>0.288897</td>\n",
       "      <td>80.085648</td>\n",
       "      <td>1.677545</td>\n",
       "      <td>18505.099537</td>\n",
       "      <td>34.470394</td>\n",
       "      <td>0.832778</td>\n",
       "      <td>0.021545</td>\n",
       "      <td>2.837500</td>\n",
       "      <td>0.068161</td>\n",
       "    </tr>\n",
       "    <tr>\n",
       "      <th>196483</th>\n",
       "      <td>24.189815</td>\n",
       "      <td>0.746059</td>\n",
       "      <td>15.468287</td>\n",
       "      <td>0.943928</td>\n",
       "      <td>6.743287</td>\n",
       "      <td>1.150485</td>\n",
       "      <td>83.210648</td>\n",
       "      <td>4.091704</td>\n",
       "      <td>18527.546296</td>\n",
       "      <td>61.199200</td>\n",
       "      <td>0.883403</td>\n",
       "      <td>0.054675</td>\n",
       "      <td>2.725926</td>\n",
       "      <td>0.133956</td>\n",
       "    </tr>\n",
       "    <tr>\n",
       "      <th>196100</th>\n",
       "      <td>22.660880</td>\n",
       "      <td>0.664006</td>\n",
       "      <td>13.432176</td>\n",
       "      <td>0.553997</td>\n",
       "      <td>4.206019</td>\n",
       "      <td>0.477548</td>\n",
       "      <td>86.162037</td>\n",
       "      <td>2.840747</td>\n",
       "      <td>18532.081019</td>\n",
       "      <td>53.903177</td>\n",
       "      <td>0.793542</td>\n",
       "      <td>0.041881</td>\n",
       "      <td>2.955787</td>\n",
       "      <td>0.127942</td>\n",
       "    </tr>\n",
       "    <tr>\n",
       "      <th>195715</th>\n",
       "      <td>23.630787</td>\n",
       "      <td>0.579239</td>\n",
       "      <td>14.280556</td>\n",
       "      <td>0.646091</td>\n",
       "      <td>4.929861</td>\n",
       "      <td>0.737808</td>\n",
       "      <td>81.571759</td>\n",
       "      <td>3.339242</td>\n",
       "      <td>18560.060185</td>\n",
       "      <td>52.614071</td>\n",
       "      <td>0.844606</td>\n",
       "      <td>0.042268</td>\n",
       "      <td>2.818519</td>\n",
       "      <td>0.112478</td>\n",
       "    </tr>\n",
       "    <tr>\n",
       "      <th>195716</th>\n",
       "      <td>23.908333</td>\n",
       "      <td>0.468221</td>\n",
       "      <td>14.249768</td>\n",
       "      <td>0.377505</td>\n",
       "      <td>4.589352</td>\n",
       "      <td>0.306054</td>\n",
       "      <td>80.125000</td>\n",
       "      <td>2.566259</td>\n",
       "      <td>18540.965278</td>\n",
       "      <td>40.988011</td>\n",
       "      <td>0.848796</td>\n",
       "      <td>0.024590</td>\n",
       "      <td>2.800231</td>\n",
       "      <td>0.071860</td>\n",
       "    </tr>\n",
       "    <tr>\n",
       "      <th>196871</th>\n",
       "      <td>21.851620</td>\n",
       "      <td>0.339524</td>\n",
       "      <td>12.585417</td>\n",
       "      <td>0.314606</td>\n",
       "      <td>3.321991</td>\n",
       "      <td>0.336070</td>\n",
       "      <td>86.851852</td>\n",
       "      <td>1.658004</td>\n",
       "      <td>18449.321759</td>\n",
       "      <td>42.566989</td>\n",
       "      <td>0.748912</td>\n",
       "      <td>0.020510</td>\n",
       "      <td>3.075231</td>\n",
       "      <td>0.071706</td>\n",
       "    </tr>\n",
       "    <tr>\n",
       "      <th>196102</th>\n",
       "      <td>23.916898</td>\n",
       "      <td>0.297759</td>\n",
       "      <td>14.573380</td>\n",
       "      <td>0.375803</td>\n",
       "      <td>5.230324</td>\n",
       "      <td>0.500346</td>\n",
       "      <td>80.694444</td>\n",
       "      <td>2.571509</td>\n",
       "      <td>18520.856481</td>\n",
       "      <td>37.180271</td>\n",
       "      <td>0.851343</td>\n",
       "      <td>0.025799</td>\n",
       "      <td>2.786111</td>\n",
       "      <td>0.074270</td>\n",
       "    </tr>\n",
       "    <tr>\n",
       "      <th>197249</th>\n",
       "      <td>21.185000</td>\n",
       "      <td>0.530743</td>\n",
       "      <td>12.192500</td>\n",
       "      <td>0.447638</td>\n",
       "      <td>3.199444</td>\n",
       "      <td>0.396288</td>\n",
       "      <td>87.791667</td>\n",
       "      <td>2.036188</td>\n",
       "      <td>18429.041667</td>\n",
       "      <td>38.801911</td>\n",
       "      <td>0.726472</td>\n",
       "      <td>0.031569</td>\n",
       "      <td>3.156389</td>\n",
       "      <td>0.113239</td>\n",
       "    </tr>\n",
       "    <tr>\n",
       "      <th>196484</th>\n",
       "      <td>23.046528</td>\n",
       "      <td>1.073600</td>\n",
       "      <td>14.360185</td>\n",
       "      <td>1.107869</td>\n",
       "      <td>5.672917</td>\n",
       "      <td>1.164969</td>\n",
       "      <td>86.527778</td>\n",
       "      <td>3.856942</td>\n",
       "      <td>18495.337963</td>\n",
       "      <td>72.495207</td>\n",
       "      <td>0.803380</td>\n",
       "      <td>0.067743</td>\n",
       "      <td>2.935880</td>\n",
       "      <td>0.196563</td>\n",
       "    </tr>\n",
       "    <tr>\n",
       "      <th>196486</th>\n",
       "      <td>23.697454</td>\n",
       "      <td>1.017733</td>\n",
       "      <td>14.731019</td>\n",
       "      <td>1.046004</td>\n",
       "      <td>5.763889</td>\n",
       "      <td>1.092247</td>\n",
       "      <td>80.819444</td>\n",
       "      <td>5.959392</td>\n",
       "      <td>18522.173611</td>\n",
       "      <td>61.664399</td>\n",
       "      <td>0.862593</td>\n",
       "      <td>0.069360</td>\n",
       "      <td>2.769676</td>\n",
       "      <td>0.178862</td>\n",
       "    </tr>\n",
       "    <tr>\n",
       "      <th>196485</th>\n",
       "      <td>24.408565</td>\n",
       "      <td>1.039500</td>\n",
       "      <td>15.684028</td>\n",
       "      <td>1.144818</td>\n",
       "      <td>6.954861</td>\n",
       "      <td>1.265336</td>\n",
       "      <td>78.594907</td>\n",
       "      <td>6.799298</td>\n",
       "      <td>18516.548611</td>\n",
       "      <td>70.555013</td>\n",
       "      <td>0.908935</td>\n",
       "      <td>0.080792</td>\n",
       "      <td>2.670139</td>\n",
       "      <td>0.186484</td>\n",
       "    </tr>\n",
       "    <tr>\n",
       "      <th>196870</th>\n",
       "      <td>22.524769</td>\n",
       "      <td>0.743211</td>\n",
       "      <td>13.531713</td>\n",
       "      <td>0.695199</td>\n",
       "      <td>4.535417</td>\n",
       "      <td>0.672742</td>\n",
       "      <td>87.488426</td>\n",
       "      <td>3.917550</td>\n",
       "      <td>18493.400463</td>\n",
       "      <td>60.079243</td>\n",
       "      <td>0.799676</td>\n",
       "      <td>0.044864</td>\n",
       "      <td>2.930324</td>\n",
       "      <td>0.128413</td>\n",
       "    </tr>\n",
       "  </tbody>\n",
       "</table>\n",
       "</div>"
      ],
      "text/plain": [
       "              MaxTemperature_mean  MaxTemperature_std  MeanTemperature_mean  \\\n",
       "neighbour_id                                                                  \n",
       "195326                  24.257407            0.254007             14.802778   \n",
       "196487                  22.789352            0.889141             13.497222   \n",
       "195713                  24.893056            0.203955             15.727778   \n",
       "196488                  22.472685            0.492145             12.953009   \n",
       "196103                  23.606250            0.568028             14.141435   \n",
       "195325                  24.814120            0.190622             15.529167   \n",
       "195714                  24.558102            0.311941             15.381713   \n",
       "195717                  23.954861            0.295559             14.166667   \n",
       "196483                  24.189815            0.746059             15.468287   \n",
       "196100                  22.660880            0.664006             13.432176   \n",
       "195715                  23.630787            0.579239             14.280556   \n",
       "195716                  23.908333            0.468221             14.249768   \n",
       "196871                  21.851620            0.339524             12.585417   \n",
       "196102                  23.916898            0.297759             14.573380   \n",
       "197249                  21.185000            0.530743             12.192500   \n",
       "196484                  23.046528            1.073600             14.360185   \n",
       "196486                  23.697454            1.017733             14.731019   \n",
       "196485                  24.408565            1.039500             15.684028   \n",
       "196870                  22.524769            0.743211             13.531713   \n",
       "\n",
       "              MeanTemperature_std  MinTemperature_mean  MinTemperature_std  \\\n",
       "neighbour_id                                                                 \n",
       "195326                   0.341812             5.349074            0.447316   \n",
       "196487                   0.770713             4.199769            0.677539   \n",
       "195713                   0.256806             6.562222            0.323763   \n",
       "196488                   0.420161             3.434954            0.367104   \n",
       "196103                   0.564612             4.675463            0.588116   \n",
       "195325                   0.250565             6.244907            0.317938   \n",
       "195714                   0.332983             6.199768            0.357752   \n",
       "195717                   0.280878             4.380787            0.288897   \n",
       "196483                   0.943928             6.743287            1.150485   \n",
       "196100                   0.553997             4.206019            0.477548   \n",
       "195715                   0.646091             4.929861            0.737808   \n",
       "195716                   0.377505             4.589352            0.306054   \n",
       "196871                   0.314606             3.321991            0.336070   \n",
       "196102                   0.375803             5.230324            0.500346   \n",
       "197249                   0.447638             3.199444            0.396288   \n",
       "196484                   1.107869             5.672917            1.164969   \n",
       "196486                   1.046004             5.763889            1.092247   \n",
       "196485                   1.144818             6.954861            1.265336   \n",
       "196870                   0.695199             4.535417            0.672742   \n",
       "\n",
       "              Precipitation_mean  Precipitation_std  SolarRadiation_mean  \\\n",
       "neighbour_id                                                               \n",
       "195326                 77.569444           2.042493         18575.192130   \n",
       "196487                 83.803241           4.194770         18497.122685   \n",
       "195713                 76.925000           1.631110         18609.458333   \n",
       "196488                 84.037037           2.468258         18454.939815   \n",
       "196103                 80.604167           3.335017         18481.791667   \n",
       "195325                 76.064815           1.576403         18583.291667   \n",
       "195714                 77.594907           2.319583         18590.407407   \n",
       "195717                 80.085648           1.677545         18505.099537   \n",
       "196483                 83.210648           4.091704         18527.546296   \n",
       "196100                 86.162037           2.840747         18532.081019   \n",
       "195715                 81.571759           3.339242         18560.060185   \n",
       "195716                 80.125000           2.566259         18540.965278   \n",
       "196871                 86.851852           1.658004         18449.321759   \n",
       "196102                 80.694444           2.571509         18520.856481   \n",
       "197249                 87.791667           2.036188         18429.041667   \n",
       "196484                 86.527778           3.856942         18495.337963   \n",
       "196486                 80.819444           5.959392         18522.173611   \n",
       "196485                 78.594907           6.799298         18516.548611   \n",
       "196870                 87.488426           3.917550         18493.400463   \n",
       "\n",
       "              SolarRadiation_std  Vapor_mean  Vapor_std  WindSpeed_mean  \\\n",
       "neighbour_id                                                              \n",
       "195326                 31.496980    0.874861   0.022549        2.741204   \n",
       "196487                 63.871331    0.797477   0.052171        2.936806   \n",
       "195713                 27.278082    0.936000   0.018719        2.611111   \n",
       "196488                 44.599961    0.772731   0.030286        3.003472   \n",
       "196103                 53.350899    0.829028   0.038374        2.846991   \n",
       "195325                 28.489497    0.913009   0.022666        2.658796   \n",
       "195714                 35.581397    0.912616   0.023828        2.656019   \n",
       "195717                 34.470394    0.832778   0.021545        2.837500   \n",
       "196483                 61.199200    0.883403   0.054675        2.725926   \n",
       "196100                 53.903177    0.793542   0.041881        2.955787   \n",
       "195715                 52.614071    0.844606   0.042268        2.818519   \n",
       "195716                 40.988011    0.848796   0.024590        2.800231   \n",
       "196871                 42.566989    0.748912   0.020510        3.075231   \n",
       "196102                 37.180271    0.851343   0.025799        2.786111   \n",
       "197249                 38.801911    0.726472   0.031569        3.156389   \n",
       "196484                 72.495207    0.803380   0.067743        2.935880   \n",
       "196486                 61.664399    0.862593   0.069360        2.769676   \n",
       "196485                 70.555013    0.908935   0.080792        2.670139   \n",
       "196870                 60.079243    0.799676   0.044864        2.930324   \n",
       "\n",
       "              WindSpeed_std  \n",
       "neighbour_id                 \n",
       "195326             0.060159  \n",
       "196487             0.157682  \n",
       "195713             0.043620  \n",
       "196488             0.098579  \n",
       "196103             0.109634  \n",
       "195325             0.057749  \n",
       "195714             0.060069  \n",
       "195717             0.068161  \n",
       "196483             0.133956  \n",
       "196100             0.127942  \n",
       "195715             0.112478  \n",
       "195716             0.071860  \n",
       "196871             0.071706  \n",
       "196102             0.074270  \n",
       "197249             0.113239  \n",
       "196484             0.196563  \n",
       "196486             0.178862  \n",
       "196485             0.186484  \n",
       "196870             0.128413  "
      ]
     },
     "execution_count": 83,
     "metadata": {},
     "output_type": "execute_result"
    }
   ],
   "source": [
    "envs.set_index('neighbour_id')"
   ]
  },
  {
   "cell_type": "code",
   "execution_count": 89,
   "metadata": {
    "collapsed": true
   },
   "outputs": [],
   "source": [
    "from sklearn import linear_model"
   ]
  },
  {
   "cell_type": "code",
   "execution_count": 90,
   "metadata": {
    "collapsed": false
   },
   "outputs": [
    {
     "ename": "TypeError",
     "evalue": "list indices must be integers, not tuple",
     "output_type": "error",
     "traceback": [
      "\u001b[0;31m---------------------------------------------------------------------------\u001b[0m",
      "\u001b[0;31mTypeError\u001b[0m                                 Traceback (most recent call last)",
      "\u001b[0;32m<ipython-input-90-ab4f828788a1>\u001b[0m in \u001b[0;36m<module>\u001b[0;34m()\u001b[0m\n\u001b[0;32m----> 1\u001b[0;31m \u001b[0menvironments\u001b[0m\u001b[0;34m[\u001b[0m\u001b[0;34m:\u001b[0m\u001b[0;34m,\u001b[0m\u001b[0;36m2\u001b[0m\u001b[0;34m,\u001b[0m\u001b[0;36m2\u001b[0m\u001b[0;34m]\u001b[0m\u001b[0;34m\u001b[0m\u001b[0m\n\u001b[0m",
      "\u001b[0;31mTypeError\u001b[0m: list indices must be integers, not tuple"
     ]
    }
   ],
   "source": [
    "environments[:,2,2]"
   ]
  },
  {
   "cell_type": "markdown",
   "metadata": {},
   "source": [
    "## Let's save it into a CSV\n"
   ]
  },
  {
   "cell_type": "code",
   "execution_count": 86,
   "metadata": {
    "collapsed": true
   },
   "outputs": [],
   "source": [
    "envs.to_csv('environmental_neighbourstest1.csv')"
   ]
  },
  {
   "cell_type": "code",
   "execution_count": 88,
   "metadata": {
    "collapsed": false
   },
   "outputs": [],
   "source": [
    "cooccurrences.transpose().to_csv('environmental_kingdoms_test1.csv')"
   ]
  },
  {
   "cell_type": "code",
   "execution_count": 79,
   "metadata": {
    "collapsed": false
   },
   "outputs": [
    {
     "data": {
      "text/plain": [
       "659.5137000000001"
      ]
     },
     "execution_count": 79,
     "metadata": {},
     "output_type": "execute_result"
    }
   ],
   "source": [
    "0.0061 * 108117"
   ]
  },
  {
   "cell_type": "code",
   "execution_count": 80,
   "metadata": {
    "collapsed": false
   },
   "outputs": [
    {
     "data": {
      "text/plain": [
       "1.2961608497723824"
      ]
     },
     "execution_count": 80,
     "metadata": {},
     "output_type": "execute_result"
    }
   ],
   "source": [
    "854.17 / 659\n"
   ]
  },
  {
   "cell_type": "code",
   "execution_count": null,
   "metadata": {
    "collapsed": true
   },
   "outputs": [],
   "source": [
    "En este trabajo describo un m'etodo para modelar distribuciones geogr'aficas de grupos de organismos. Utilizo una base de datos global de ocurrencias de especies y con base en la taxonomia de cada una construyo un 'arbol (gr'afica ac'iclica). La gr'afica resultante tiene hojas (nodos con grado = 1) con atributos espaciales y temporales. Esto es, cada ocurrencia tiene un lugar en el espacio tiempo. De aqu'i se desprenden varias preguntas acerca de las asociaciones (correlaciones) de distintas especies, familias, clases, u otra herarquia taxon'omica en el espacio (tiempo). Adem'as de la informaci'on de correlacion entre grupos taxon'omicos, hay una componente ambiental de manera que el modelo utiliza la informaci'on ambiental, las co-ocurrencias de otros grupos y una regularizaci'on gaussiana para minimizar el ajuste. \n",
    "\n",
    "El m'etodo que presento consta de dos partes. Una te'orica donde propongo un modelo regresi'on multiple mixto generalizado (LME); y una implementaci'on donde describo las herramientas de grandes datos utilizados para estructurar explicitamente la base de datos.\n",
    "\n",
    "Debido a esto el proyecto puede suscribirse dentro del rubro \"Medio Ambiente\" o \"Tecnolog'ias de la informaci'on\""
   ]
  },
  {
   "cell_type": "code",
   "execution_count": null,
   "metadata": {
    "collapsed": true
   },
   "outputs": [],
   "source": [
    "I'm proposing a method for modeling geographic distributions of organisms based on their environmental and ecological niche. I use historic records at a global range (GBIF) using a RESTfull system for filtering, querying and perform spatial processing. \n",
    "A global tree of life is built using the taxonomic relationships of each occurrence, i.e. each occurrence has a species name, each specie a genus, and so on. \n",
    "Each occurrence (a realisation of a random variable) has spatial and temporal components. Using these location attributes it's possible to bind each occurrence to other environmental data (e.g. Temperature, Precipitation, Solar Radiation, WindSpeed, etc). \n",
    "The global tree of life is bound to a lattice that spans the entire planet. \n",
    "From here it's possible to derive interesting questions regarding stationary distributions, correlations of taxonomic groups across space (or time) etc. \n",
    "\n",
    "The model is defined as a Generalized Linear Mixed Model with random effects that models a joint probability distribution of the environmental covariates, the co-occurrent groups and a regularizing gaussian kernel to account for the spatial variation. \n",
    "\n",
    "The talk I'm proposing will be divided in two parts: i) a theoretical part, where I'll define the model and an implementation where I'll explain the big data framework and tools I've been developing. \n",
    "\n",
    "The talk is aimed at a general level audience. I'm looking forward to build  collaborations."
   ]
  }
 ],
 "metadata": {
  "kernelspec": {
   "display_name": "Django Shell-Plus",
   "language": "python",
   "name": "django_extensions"
  },
  "language_info": {
   "codemirror_mode": {
    "name": "ipython",
    "version": 2
   },
   "file_extension": ".py",
   "mimetype": "text/x-python",
   "name": "python",
   "nbconvert_exporter": "python",
   "pygments_lexer": "ipython2",
   "version": "2.7.11"
  }
 },
 "nbformat": 4,
 "nbformat_minor": 0
}
