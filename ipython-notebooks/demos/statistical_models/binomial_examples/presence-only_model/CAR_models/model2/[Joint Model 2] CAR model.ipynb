{
 "cells": [
  {
   "cell_type": "markdown",
   "metadata": {},
   "source": [
    "# A joint model CAR (model 2) \n",
    "## Common Markov Gaussian Random Field\n",
    " $$ [P , S ] = [P | GMRF] [ S | GMRF] $$"
   ]
  },
  {
   "cell_type": "code",
   "execution_count": 13,
   "metadata": {},
   "outputs": [],
   "source": [
    "## Import code:\n",
    "setwd('/apps/external_plugins/biospytial_rwrapper/biospytial.rwrapper/R/')"
   ]
  },
  {
   "cell_type": "code",
   "execution_count": 14,
   "metadata": {},
   "outputs": [
    {
     "name": "stdout",
     "output_type": "stream",
     "text": [
      "Setting up the model.\n",
      "Performing burnin period for Sample Effort Model \n",
      "  |======================================================================| 100%\n",
      "Summarising results.\n",
      "Finished in  124.3 seconds.\n",
      "Setting up the model.\n",
      "Performing burnin period for Presence model \n",
      "  |======================================================================| 100%\n",
      "Summarising results.\n",
      "Finished in  124 seconds.\n",
      "Sampling from the joint model 10000 post burnin and thinned (if requested) samples.\n",
      "  |======================================================================| 100%\n",
      "[1] \"Compiling summary for S process\"\n",
      "[1] \"Compiling summary for the P process\"\n"
     ]
    }
   ],
   "source": [
    "rm(list=ls())                                                                                     \n",
    "source(\"init_data.R\")                                                                             \n",
    "# load the building function                                                                      \n",
    "source(\"joint.binomial.bymCAR.R\")                                                                 \n",
    "n.sample = 10000                                                                                  \n",
    "burnin=10000                                                                                      \n",
    "postburnin = burnin +1000                                                                         \n",
    "thin = 1                                                                                          \n",
    "verbose = TRUE                                                                                    \n",
    "results  <- joint.binomial.bymCARModel2(formula_S = formula_sample, \n",
    "                                        formula_P = formula_presence,\n",
    "                                        n.sample=n.sample,\n",
    "                                        burnin=burnin,\n",
    "                                        postburnin=postburnin,\n",
    "                                        thin=thin,\n",
    "                                        verbose=TRUE) \n"
   ]
  },
  {
   "cell_type": "markdown",
   "metadata": {},
   "source": [
    "## Remember to check likelihood modelfit"
   ]
  },
  {
   "cell_type": "code",
   "execution_count": 22,
   "metadata": {},
   "outputs": [
    {
     "data": {
      "text/html": [
       "<dl class=dl-horizontal>\n",
       "\t<dt>DIC</dt>\n",
       "\t\t<dd>Inf</dd>\n",
       "\t<dt>p.d</dt>\n",
       "\t\t<dd>Inf</dd>\n",
       "\t<dt>WAIC</dt>\n",
       "\t\t<dd>100023566.704328</dd>\n",
       "\t<dt>p.w</dt>\n",
       "\t\t<dd>50004973.2393879</dd>\n",
       "\t<dt>LMPL</dt>\n",
       "\t\t<dd>-1895639.82389951</dd>\n",
       "\t<dt>loglikelihood</dt>\n",
       "\t\t<dd>-546293.839902136</dd>\n",
       "</dl>\n"
      ],
      "text/latex": [
       "\\begin{description*}\n",
       "\\item[DIC] Inf\n",
       "\\item[p.d] Inf\n",
       "\\item[WAIC] 100023566.704328\n",
       "\\item[p.w] 50004973.2393879\n",
       "\\item[LMPL] -1895639.82389951\n",
       "\\item[loglikelihood] -546293.839902136\n",
       "\\end{description*}\n"
      ],
      "text/markdown": [
       "DIC\n",
       ":   Infp.d\n",
       ":   InfWAIC\n",
       ":   100023566.704328p.w\n",
       ":   50004973.2393879LMPL\n",
       ":   -1895639.82389951loglikelihood\n",
       ":   -546293.839902136\n",
       "\n"
      ],
      "text/plain": [
       "          DIC           p.d          WAIC           p.w          LMPL \n",
       "          Inf           Inf   100023566.7    50004973.2    -1895639.8 \n",
       "loglikelihood \n",
       "    -546293.8 "
      ]
     },
     "metadata": {},
     "output_type": "display_data"
    }
   ],
   "source": [
    "results$S$modelfit"
   ]
  },
  {
   "cell_type": "code",
   "execution_count": 23,
   "metadata": {},
   "outputs": [
    {
     "data": {
      "text/html": [
       "<dl class=dl-horizontal>\n",
       "\t<dt>DIC</dt>\n",
       "\t\t<dd>49131.5407362271</dd>\n",
       "\t<dt>p.d</dt>\n",
       "\t\t<dd>2245.32760950607</dd>\n",
       "\t<dt>WAIC</dt>\n",
       "\t\t<dd>3281843.58608499</dd>\n",
       "\t<dt>p.w</dt>\n",
       "\t\t<dd>1640390.09175866</dd>\n",
       "\t<dt>LMPL</dt>\n",
       "\t\t<dd>-113899.684413243</dd>\n",
       "\t<dt>loglikelihood</dt>\n",
       "\t\t<dd>-22320.4427586075</dd>\n",
       "</dl>\n"
      ],
      "text/latex": [
       "\\begin{description*}\n",
       "\\item[DIC] 49131.5407362271\n",
       "\\item[p.d] 2245.32760950607\n",
       "\\item[WAIC] 3281843.58608499\n",
       "\\item[p.w] 1640390.09175866\n",
       "\\item[LMPL] -113899.684413243\n",
       "\\item[loglikelihood] -22320.4427586075\n",
       "\\end{description*}\n"
      ],
      "text/markdown": [
       "DIC\n",
       ":   49131.5407362271p.d\n",
       ":   2245.32760950607WAIC\n",
       ":   3281843.58608499p.w\n",
       ":   1640390.09175866LMPL\n",
       ":   -113899.684413243loglikelihood\n",
       ":   -22320.4427586075\n",
       "\n"
      ],
      "text/plain": [
       "          DIC           p.d          WAIC           p.w          LMPL \n",
       "    49131.541      2245.328   3281843.586   1640390.092   -113899.684 \n",
       "loglikelihood \n",
       "   -22320.443 "
      ]
     },
     "metadata": {},
     "output_type": "display_data"
    }
   ],
   "source": [
    "results$P$modelfit"
   ]
  },
  {
   "cell_type": "code",
   "execution_count": 26,
   "metadata": {},
   "outputs": [
    {
     "data": {
      "text/html": [
       "<table>\n",
       "<thead><tr><th></th><th scope=col>Median</th><th scope=col>2.5%</th><th scope=col>97.5%</th><th scope=col>n.sample</th><th scope=col>% accept</th><th scope=col>n.effective</th><th scope=col>Geweke.diag</th></tr></thead>\n",
       "<tbody>\n",
       "\t<tr><th scope=row>(Intercept)</th><td> 1.113870e+01</td><td> 11.1387     </td><td> 1.113870e+01</td><td>10000        </td><td> 54.3        </td><td> 380.0       </td><td>-1.0         </td></tr>\n",
       "\t<tr><th scope=row>Disttoroadm</th><td>-8.000000e-04</td><td> -0.0008     </td><td>-8.000000e-04</td><td>10000        </td><td> 54.3        </td><td> 434.0       </td><td> 0.8         </td></tr>\n",
       "\t<tr><th scope=row>Populationm</th><td>-1.000000e-04</td><td> -0.0001     </td><td>-1.000000e-04</td><td>10000        </td><td> 54.3        </td><td>1096.1       </td><td> 1.1         </td></tr>\n",
       "\t<tr><th scope=row>tau2</th><td> 6.008482e+09</td><td>206.2353     </td><td> 6.758887e+10</td><td>10000        </td><td>100.0        </td><td>   1.8       </td><td>-2.1         </td></tr>\n",
       "\t<tr><th scope=row>sigma2</th><td> 1.675376e+10</td><td>  2.2658     </td><td> 1.871404e+11</td><td>10000        </td><td>100.0        </td><td>   1.8       </td><td>-2.2         </td></tr>\n",
       "</tbody>\n",
       "</table>\n"
      ],
      "text/latex": [
       "\\begin{tabular}{r|lllllll}\n",
       "  & Median & 2.5\\% & 97.5\\% & n.sample & \\% accept & n.effective & Geweke.diag\\\\\n",
       "\\hline\n",
       "\t(Intercept) &  1.113870e+01 &  11.1387      &  1.113870e+01 & 10000         &  54.3         &  380.0        & -1.0         \\\\\n",
       "\tDisttoroadm & -8.000000e-04 &  -0.0008      & -8.000000e-04 & 10000         &  54.3         &  434.0        &  0.8         \\\\\n",
       "\tPopulationm & -1.000000e-04 &  -0.0001      & -1.000000e-04 & 10000         &  54.3         & 1096.1        &  1.1         \\\\\n",
       "\ttau2 &  6.008482e+09 & 206.2353      &  6.758887e+10 & 10000         & 100.0         &    1.8        & -2.1         \\\\\n",
       "\tsigma2 &  1.675376e+10 &   2.2658      &  1.871404e+11 & 10000         & 100.0         &    1.8        & -2.2         \\\\\n",
       "\\end{tabular}\n"
      ],
      "text/markdown": [
       "\n",
       "| <!--/--> | Median | 2.5% | 97.5% | n.sample | % accept | n.effective | Geweke.diag | \n",
       "|---|---|---|---|---|\n",
       "| (Intercept) |  1.113870e+01 |  11.1387      |  1.113870e+01 | 10000         |  54.3         |  380.0        | -1.0          | \n",
       "| Disttoroadm | -8.000000e-04 |  -0.0008      | -8.000000e-04 | 10000         |  54.3         |  434.0        |  0.8          | \n",
       "| Populationm | -1.000000e-04 |  -0.0001      | -1.000000e-04 | 10000         |  54.3         | 1096.1        |  1.1          | \n",
       "| tau2 |  6.008482e+09 | 206.2353      |  6.758887e+10 | 10000         | 100.0         |    1.8        | -2.1          | \n",
       "| sigma2 |  1.675376e+10 |   2.2658      |  1.871404e+11 | 10000         | 100.0         |    1.8        | -2.2          | \n",
       "\n",
       "\n"
      ],
      "text/plain": [
       "            Median        2.5%     97.5%         n.sample % accept n.effective\n",
       "(Intercept)  1.113870e+01  11.1387  1.113870e+01 10000     54.3     380.0     \n",
       "Disttoroadm -8.000000e-04  -0.0008 -8.000000e-04 10000     54.3     434.0     \n",
       "Populationm -1.000000e-04  -0.0001 -1.000000e-04 10000     54.3    1096.1     \n",
       "tau2         6.008482e+09 206.2353  6.758887e+10 10000    100.0       1.8     \n",
       "sigma2       1.675376e+10   2.2658  1.871404e+11 10000    100.0       1.8     \n",
       "            Geweke.diag\n",
       "(Intercept) -1.0       \n",
       "Disttoroadm  0.8       \n",
       "Populationm  1.1       \n",
       "tau2        -2.1       \n",
       "sigma2      -2.2       "
      ]
     },
     "metadata": {},
     "output_type": "display_data"
    }
   ],
   "source": [
    "results$S$summary.results"
   ]
  },
  {
   "cell_type": "code",
   "execution_count": null,
   "metadata": {},
   "outputs": [],
   "source": []
  },
  {
   "cell_type": "code",
   "execution_count": null,
   "metadata": {},
   "outputs": [],
   "source": [
    "post.sample_p = data.frame(results$S$samples$fitted)\n",
    "post.presence_p = data.frame(results$P$samples$fitted)"
   ]
  },
  {
   "cell_type": "code",
   "execution_count": null,
   "metadata": {},
   "outputs": [],
   "source": [
    "pss  <- post.sample_p %>% mutate_all(function(p) rbernoulli(1,p))\n",
    "pps <- post.presence_p %>% mutate_all(function(p) rbernoulli(1,p))                                        "
   ]
  },
  {
   "cell_type": "code",
   "execution_count": 5,
   "metadata": {},
   "outputs": [],
   "source": [
    "\n",
    "sumpps <- colSums(pps)"
   ]
  },
  {
   "cell_type": "code",
   "execution_count": 6,
   "metadata": {},
   "outputs": [],
   "source": [
    "sumpss <- colSums(pss)"
   ]
  },
  {
   "cell_type": "code",
   "execution_count": 7,
   "metadata": {},
   "outputs": [],
   "source": [
    "prob_pps <- sumpps / length(pps)"
   ]
  },
  {
   "cell_type": "code",
   "execution_count": 8,
   "metadata": {},
   "outputs": [],
   "source": [
    "prob_pss <- sumpss / length(pss)"
   ]
  },
  {
   "cell_type": "code",
   "execution_count": 9,
   "metadata": {},
   "outputs": [],
   "source": [
    "probpres = prob_pps * prob_pss"
   ]
  },
  {
   "cell_type": "code",
   "execution_count": 10,
   "metadata": {},
   "outputs": [],
   "source": [
    "## save to posterity\n",
    "# Save output sample to display in python\n",
    "## Save the complete chain trace for analysing in Python,\n",
    "TDF = read.csv(\"/outputs/training_data_sample_puebla_p9_abies_pinophyta.csv\")\n",
    "## Order it according to the id of the cell\n",
    "## This is important because the adjancy matrix rows need to be the same\n",
    "TDF = TDF[order(TDF$cell_ids),]"
   ]
  },
  {
   "cell_type": "code",
   "execution_count": 11,
   "metadata": {},
   "outputs": [],
   "source": [
    "chain = cbind(TDF$cell_ids,probpres,prob_pps,prob_pss)\n",
    "file_ = '/outputs/presence_only_models/modelCAR_model2_fitted.csv'\n",
    "write.csv(chain,file_)"
   ]
  },
  {
   "cell_type": "code",
   "execution_count": null,
   "metadata": {},
   "outputs": [],
   "source": []
  },
  {
   "cell_type": "code",
   "execution_count": null,
   "metadata": {},
   "outputs": [],
   "source": []
  }
 ],
 "metadata": {
  "kernelspec": {
   "display_name": "R",
   "language": "R",
   "name": "ir"
  },
  "language_info": {
   "codemirror_mode": "r",
   "file_extension": ".r",
   "mimetype": "text/x-r-source",
   "name": "R",
   "pygments_lexer": "r",
   "version": "3.5.1"
  }
 },
 "nbformat": 4,
 "nbformat_minor": 2
}
