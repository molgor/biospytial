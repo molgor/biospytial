{
 "cells": [
  {
   "cell_type": "markdown",
   "metadata": {},
   "source": [
    "## Obtaining the predictors\n",
    "In this case we will bring all the variables to start working with everything.\n",
    "### The fast forward way!\n",
    "## Does not includes yet the population. Worth trying in the future. Just include WorldPop in the list of Models.\n"
   ]
  },
  {
   "cell_type": "code",
   "execution_count": 1,
   "metadata": {},
   "outputs": [],
   "source": [
    "%matplotlib inline\n",
    "import sys\n",
    "sys.path.append('/apps')\n",
    "import django\n",
    "django.setup()\n",
    "from drivers.tree_builder import TreeNeo\n",
    "from drivers.graph_models import TreeNode, Order, Family, graph,Kingdom,Occurrence\n",
    "from drivers.graph_models import Cell,Mex4km, countObjectsOf\n",
    "from drivers.graph_models import pickNode\n",
    "import matplotlib.pyplot as plt\n",
    "import pandas as pd\n",
    "import itertools as it\n",
    "import numpy as np\n",
    "\n",
    "## Use the ggplot style\n",
    "plt.style.use('ggplot')"
   ]
  },
  {
   "cell_type": "code",
   "execution_count": 2,
   "metadata": {},
   "outputs": [],
   "source": [
    "from raster_api.tools import RasterData\n",
    "from raster_api.models import raster_models_dic as models\n",
    "from sketches.models import Country\n",
    "from mesh.models import MexMesh\n",
    "\n",
    "Mexico = Country.objects.filter(name__contains=\"exico\").get()\n",
    "mexican_cells = MexMesh.objects.filter(cell__intersects=Mexico.geom)"
   ]
  },
  {
   "cell_type": "markdown",
   "metadata": {},
   "source": [
    "### Obtaining everything"
   ]
  },
  {
   "cell_type": "code",
   "execution_count": 3,
   "metadata": {},
   "outputs": [],
   "source": [
    "datadict = { key : RasterData(models[key],border=Mexico.geom) for key,value in models.iteritems()}\n",
    "## Without resamling (whole data)\n",
    "pixel_size = 0.25\n"
   ]
  },
  {
   "cell_type": "code",
   "execution_count": 4,
   "metadata": {},
   "outputs": [
    {
     "data": {
      "text/plain": [
       "{'DistanceToRoadMex': <raster_api.tools.RasterData at 0x7f87c38d4c50>,\n",
       " 'Elevation': <raster_api.tools.RasterData at 0x7f87c38d4690>,\n",
       " 'MaxTemperature': <raster_api.tools.RasterData at 0x7f87c38d4a90>,\n",
       " 'MeanTemperature': <raster_api.tools.RasterData at 0x7f87c38d47d0>,\n",
       " 'MinTemperature': <raster_api.tools.RasterData at 0x7f87c38d48d0>,\n",
       " 'Precipitation': <raster_api.tools.RasterData at 0x7f87c38d4650>,\n",
       " 'SolarRadiation': <raster_api.tools.RasterData at 0x7f88081f33d0>,\n",
       " 'Vapor': <raster_api.tools.RasterData at 0x7f87c3c5dd10>,\n",
       " 'WindSpeed': <raster_api.tools.RasterData at 0x7f8808190190>,\n",
       " 'WorldPopLatam2010': <raster_api.tools.RasterData at 0x7f88081901d0>}"
      ]
     },
     "execution_count": 4,
     "metadata": {},
     "output_type": "execute_result"
    }
   ],
   "source": [
    "datadict"
   ]
  },
  {
   "cell_type": "code",
   "execution_count": 6,
   "metadata": {},
   "outputs": [
    {
     "name": "stdout",
     "output_type": "stream",
     "text": [
      "CPU times: user 412 ms, sys: 12 ms, total: 424 ms\n",
      "Wall time: 4min 46s\n"
     ]
    }
   ],
   "source": [
    "%time datacube_field = map(lambda raster : raster.rescale(pixel_size,algorithm='Cubic'),datadict.itervalues())\n",
    "datacube = datacube_field"
   ]
  },
  {
   "cell_type": "code",
   "execution_count": 7,
   "metadata": {},
   "outputs": [],
   "source": [
    "## Agregate by month\n",
    "# Take mean of everything\n",
    "cubes = map(lambda (k,v): np.mean(v.toNumpyArray(),axis=0), datadict.iteritems())"
   ]
  },
  {
   "cell_type": "code",
   "execution_count": 8,
   "metadata": {},
   "outputs": [],
   "source": [
    "extractCoords = lambda (k,v) : v.getCoordinates() \n",
    "coords = extractCoords(datadict.iteritems().next())"
   ]
  },
  {
   "cell_type": "code",
   "execution_count": 9,
   "metadata": {},
   "outputs": [],
   "source": [
    "## Oke I need a way to extract the dataframe, maybe aggregate it by mean \n",
    "dataframe_cube = map(lambda cube: pd.DataFrame(cube.flatten()),cubes)"
   ]
  },
  {
   "cell_type": "code",
   "execution_count": 10,
   "metadata": {},
   "outputs": [],
   "source": [
    "datacube = pd.concat(dataframe_cube,axis=1)"
   ]
  },
  {
   "cell_type": "code",
   "execution_count": 11,
   "metadata": {},
   "outputs": [],
   "source": [
    "datacube = pd.concat([datacube,coords],axis=1)"
   ]
  },
  {
   "cell_type": "code",
   "execution_count": 12,
   "metadata": {},
   "outputs": [],
   "source": [
    "datacube.columns = datadict.keys() + list(coords.columns)"
   ]
  },
  {
   "cell_type": "markdown",
   "metadata": {},
   "source": [
    "## Let´s save it for the posterity"
   ]
  },
  {
   "cell_type": "code",
   "execution_count": 13,
   "metadata": {},
   "outputs": [],
   "source": [
    "datacube.to_csv('/outputs/sample_predictors_complete.csv')"
   ]
  },
  {
   "cell_type": "code",
   "execution_count": 14,
   "metadata": {},
   "outputs": [
    {
     "data": {
      "text/html": [
       "<div>\n",
       "<table border=\"1\" class=\"dataframe\">\n",
       "  <thead>\n",
       "    <tr style=\"text-align: right;\">\n",
       "      <th></th>\n",
       "      <th>MaxTemperature</th>\n",
       "      <th>SolarRadiation</th>\n",
       "      <th>Elevation</th>\n",
       "      <th>MinTemperature</th>\n",
       "      <th>WorldPopLatam2010</th>\n",
       "      <th>WindSpeed</th>\n",
       "      <th>DistanceToRoadMex</th>\n",
       "      <th>MeanTemperature</th>\n",
       "      <th>Vapor</th>\n",
       "      <th>Precipitation</th>\n",
       "      <th>Longitude</th>\n",
       "      <th>Latitude</th>\n",
       "    </tr>\n",
       "  </thead>\n",
       "  <tbody>\n",
       "    <tr>\n",
       "      <th>0</th>\n",
       "      <td>NaN</td>\n",
       "      <td>NaN</td>\n",
       "      <td>NaN</td>\n",
       "      <td>NaN</td>\n",
       "      <td>NaN</td>\n",
       "      <td>NaN</td>\n",
       "      <td>NaN</td>\n",
       "      <td>NaN</td>\n",
       "      <td>NaN</td>\n",
       "      <td>NaN</td>\n",
       "      <td>-118.408333</td>\n",
       "      <td>14.475</td>\n",
       "    </tr>\n",
       "    <tr>\n",
       "      <th>1</th>\n",
       "      <td>NaN</td>\n",
       "      <td>NaN</td>\n",
       "      <td>NaN</td>\n",
       "      <td>NaN</td>\n",
       "      <td>NaN</td>\n",
       "      <td>NaN</td>\n",
       "      <td>NaN</td>\n",
       "      <td>NaN</td>\n",
       "      <td>NaN</td>\n",
       "      <td>NaN</td>\n",
       "      <td>-118.158333</td>\n",
       "      <td>14.475</td>\n",
       "    </tr>\n",
       "    <tr>\n",
       "      <th>2</th>\n",
       "      <td>NaN</td>\n",
       "      <td>NaN</td>\n",
       "      <td>NaN</td>\n",
       "      <td>NaN</td>\n",
       "      <td>NaN</td>\n",
       "      <td>NaN</td>\n",
       "      <td>NaN</td>\n",
       "      <td>NaN</td>\n",
       "      <td>NaN</td>\n",
       "      <td>NaN</td>\n",
       "      <td>-117.908333</td>\n",
       "      <td>14.475</td>\n",
       "    </tr>\n",
       "    <tr>\n",
       "      <th>3</th>\n",
       "      <td>NaN</td>\n",
       "      <td>NaN</td>\n",
       "      <td>NaN</td>\n",
       "      <td>NaN</td>\n",
       "      <td>NaN</td>\n",
       "      <td>NaN</td>\n",
       "      <td>NaN</td>\n",
       "      <td>NaN</td>\n",
       "      <td>NaN</td>\n",
       "      <td>NaN</td>\n",
       "      <td>-117.658333</td>\n",
       "      <td>14.475</td>\n",
       "    </tr>\n",
       "    <tr>\n",
       "      <th>4</th>\n",
       "      <td>NaN</td>\n",
       "      <td>NaN</td>\n",
       "      <td>NaN</td>\n",
       "      <td>NaN</td>\n",
       "      <td>NaN</td>\n",
       "      <td>NaN</td>\n",
       "      <td>NaN</td>\n",
       "      <td>NaN</td>\n",
       "      <td>NaN</td>\n",
       "      <td>NaN</td>\n",
       "      <td>-117.408333</td>\n",
       "      <td>14.475</td>\n",
       "    </tr>\n",
       "    <tr>\n",
       "      <th>5</th>\n",
       "      <td>NaN</td>\n",
       "      <td>NaN</td>\n",
       "      <td>NaN</td>\n",
       "      <td>NaN</td>\n",
       "      <td>NaN</td>\n",
       "      <td>NaN</td>\n",
       "      <td>NaN</td>\n",
       "      <td>NaN</td>\n",
       "      <td>NaN</td>\n",
       "      <td>NaN</td>\n",
       "      <td>-117.158333</td>\n",
       "      <td>14.475</td>\n",
       "    </tr>\n",
       "    <tr>\n",
       "      <th>6</th>\n",
       "      <td>NaN</td>\n",
       "      <td>NaN</td>\n",
       "      <td>NaN</td>\n",
       "      <td>NaN</td>\n",
       "      <td>NaN</td>\n",
       "      <td>NaN</td>\n",
       "      <td>NaN</td>\n",
       "      <td>NaN</td>\n",
       "      <td>NaN</td>\n",
       "      <td>NaN</td>\n",
       "      <td>-116.908333</td>\n",
       "      <td>14.475</td>\n",
       "    </tr>\n",
       "    <tr>\n",
       "      <th>7</th>\n",
       "      <td>NaN</td>\n",
       "      <td>NaN</td>\n",
       "      <td>NaN</td>\n",
       "      <td>NaN</td>\n",
       "      <td>NaN</td>\n",
       "      <td>NaN</td>\n",
       "      <td>NaN</td>\n",
       "      <td>NaN</td>\n",
       "      <td>NaN</td>\n",
       "      <td>NaN</td>\n",
       "      <td>-116.658333</td>\n",
       "      <td>14.475</td>\n",
       "    </tr>\n",
       "    <tr>\n",
       "      <th>8</th>\n",
       "      <td>NaN</td>\n",
       "      <td>NaN</td>\n",
       "      <td>NaN</td>\n",
       "      <td>NaN</td>\n",
       "      <td>NaN</td>\n",
       "      <td>NaN</td>\n",
       "      <td>NaN</td>\n",
       "      <td>NaN</td>\n",
       "      <td>NaN</td>\n",
       "      <td>NaN</td>\n",
       "      <td>-116.408333</td>\n",
       "      <td>14.475</td>\n",
       "    </tr>\n",
       "    <tr>\n",
       "      <th>9</th>\n",
       "      <td>NaN</td>\n",
       "      <td>NaN</td>\n",
       "      <td>NaN</td>\n",
       "      <td>NaN</td>\n",
       "      <td>NaN</td>\n",
       "      <td>NaN</td>\n",
       "      <td>NaN</td>\n",
       "      <td>NaN</td>\n",
       "      <td>NaN</td>\n",
       "      <td>NaN</td>\n",
       "      <td>-116.158333</td>\n",
       "      <td>14.475</td>\n",
       "    </tr>\n",
       "  </tbody>\n",
       "</table>\n",
       "</div>"
      ],
      "text/plain": [
       "   MaxTemperature  SolarRadiation  Elevation  MinTemperature  \\\n",
       "0             NaN             NaN        NaN             NaN   \n",
       "1             NaN             NaN        NaN             NaN   \n",
       "2             NaN             NaN        NaN             NaN   \n",
       "3             NaN             NaN        NaN             NaN   \n",
       "4             NaN             NaN        NaN             NaN   \n",
       "5             NaN             NaN        NaN             NaN   \n",
       "6             NaN             NaN        NaN             NaN   \n",
       "7             NaN             NaN        NaN             NaN   \n",
       "8             NaN             NaN        NaN             NaN   \n",
       "9             NaN             NaN        NaN             NaN   \n",
       "\n",
       "   WorldPopLatam2010  WindSpeed  DistanceToRoadMex  MeanTemperature  Vapor  \\\n",
       "0                NaN        NaN                NaN              NaN    NaN   \n",
       "1                NaN        NaN                NaN              NaN    NaN   \n",
       "2                NaN        NaN                NaN              NaN    NaN   \n",
       "3                NaN        NaN                NaN              NaN    NaN   \n",
       "4                NaN        NaN                NaN              NaN    NaN   \n",
       "5                NaN        NaN                NaN              NaN    NaN   \n",
       "6                NaN        NaN                NaN              NaN    NaN   \n",
       "7                NaN        NaN                NaN              NaN    NaN   \n",
       "8                NaN        NaN                NaN              NaN    NaN   \n",
       "9                NaN        NaN                NaN              NaN    NaN   \n",
       "\n",
       "   Precipitation   Longitude  Latitude  \n",
       "0            NaN -118.408333    14.475  \n",
       "1            NaN -118.158333    14.475  \n",
       "2            NaN -117.908333    14.475  \n",
       "3            NaN -117.658333    14.475  \n",
       "4            NaN -117.408333    14.475  \n",
       "5            NaN -117.158333    14.475  \n",
       "6            NaN -116.908333    14.475  \n",
       "7            NaN -116.658333    14.475  \n",
       "8            NaN -116.408333    14.475  \n",
       "9            NaN -116.158333    14.475  "
      ]
     },
     "execution_count": 14,
     "metadata": {},
     "output_type": "execute_result"
    }
   ],
   "source": [
    "datacube[:10]"
   ]
  },
  {
   "cell_type": "code",
   "execution_count": null,
   "metadata": {},
   "outputs": [],
   "source": []
  }
 ],
 "metadata": {
  "kernelspec": {
   "display_name": "Django Shell-Plus",
   "language": "python",
   "name": "django_extensions"
  },
  "language_info": {
   "codemirror_mode": {
    "name": "ipython",
    "version": 2
   },
   "file_extension": ".py",
   "mimetype": "text/x-python",
   "name": "python",
   "nbconvert_exporter": "python",
   "pygments_lexer": "ipython2",
   "version": "2.7.11"
  }
 },
 "nbformat": 4,
 "nbformat_minor": 2
}
