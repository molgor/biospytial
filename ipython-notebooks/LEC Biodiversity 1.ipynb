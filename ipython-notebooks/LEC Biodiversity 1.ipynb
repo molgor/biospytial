{
 "cells": [
  {
   "cell_type": "markdown",
   "metadata": {},
   "source": [
    "# Biodiversity Studies in Lancanshire, UK"
   ]
  },
  {
   "cell_type": "markdown",
   "metadata": {},
   "source": [
    "In this example we will see how to obtain records from the GBIF API. Insert them into the system for further analysis.\n"
   ]
  },
  {
   "cell_type": "code",
   "execution_count": 1,
   "metadata": {
    "collapsed": false
   },
   "outputs": [],
   "source": [
    "#First thing first. Load all the biospytial suit\n",
    "import sys\n",
    "%matplotlib inline\n",
    "sys.path.append('/apps')\n",
    "import django\n",
    "django.setup()"
   ]
  },
  {
   "cell_type": "markdown",
   "metadata": {},
   "source": [
    "## Selecting the region.\n",
    "First we need to define a study region. For simplicity we will use a WGS84 GRS wit geographic coordinates. (This GSR is the standard and has no projection)\n"
   ]
  },
  {
   "cell_type": "markdown",
   "metadata": {},
   "source": [
    "![Startig region](cumbria.png \"The region\")\n"
   ]
  },
  {
   "cell_type": "markdown",
   "metadata": {},
   "source": [
    "We will use the Biospytial tools for generating a polygon in WKT (Well Known Text) format. The polygon will be 1 degree square with center at the lake district (Windemere).\n"
   ]
  },
  {
   "cell_type": "code",
   "execution_count": 2,
   "metadata": {
    "collapsed": true
   },
   "outputs": [],
   "source": [
    "windemere = (-2.905,54.376)\n",
    "carnforth = (-2.835,54.179) "
   ]
  },
  {
   "cell_type": "code",
   "execution_count": 3,
   "metadata": {
    "collapsed": true
   },
   "outputs": [],
   "source": [
    "from mesh import tools as tl"
   ]
  },
  {
   "cell_type": "code",
   "execution_count": 7,
   "metadata": {
    "collapsed": false
   },
   "outputs": [],
   "source": [
    "dd = tl.create_rectangle_from_two_points((0,0),(1,1),with_center=windemere)"
   ]
  },
  {
   "cell_type": "code",
   "execution_count": 8,
   "metadata": {
    "collapsed": false
   },
   "outputs": [
    {
     "data": {
      "image/svg+xml": [
       "<svg xmlns=\"http://www.w3.org/2000/svg\" xmlns:xlink=\"http://www.w3.org/1999/xlink\" width=\"100.0\" height=\"100.0\" viewBox=\"-3.445 53.836 1.08 1.08\" preserveAspectRatio=\"xMinYMin meet\"><g transform=\"matrix(1,0,0,-1,0,108.752)\"><path fill-rule=\"evenodd\" fill=\"#66cc99\" stroke=\"#555555\" stroke-width=\"0.0216\" opacity=\"0.6\" d=\"M -3.405,53.876 L -3.405,54.876 L -2.405,54.876 L -2.405,53.876 L -3.405,53.876 z\" /></g></svg>"
      ],
      "text/plain": [
       "<shapely.geometry.polygon.Polygon at 0x7fbdbd1a9350>"
      ]
     },
     "execution_count": 8,
     "metadata": {},
     "output_type": "execute_result"
    }
   ],
   "source": [
    "dd['polygon']"
   ]
  },
  {
   "cell_type": "code",
   "execution_count": 9,
   "metadata": {
    "collapsed": false
   },
   "outputs": [
    {
     "data": {
      "text/plain": [
       "'POLYGON ((-3.405 53.876, -3.405 54.876, -2.405 54.876, -2.405 53.876, -3.405 53.876))'"
      ]
     },
     "execution_count": 9,
     "metadata": {},
     "output_type": "execute_result"
    }
   ],
   "source": [
    "dd['polygon'].wkt"
   ]
  },
  {
   "cell_type": "markdown",
   "metadata": {
    "collapsed": true
   },
   "source": [
    "## Create a Grid at several spatial resolutions"
   ]
  },
  {
   "cell_type": "code",
   "execution_count": 12,
   "metadata": {
    "collapsed": false
   },
   "outputs": [
    {
     "name": "stderr",
     "output_type": "stream",
     "text": [
      "INFO Generating Grid carnforth1\n",
      "INFO Done: [(u'Table created',)]\n",
      "INFO Generating Grid carnforth2\n",
      "INFO Done: [(u'Table created',)]\n",
      "INFO Generating Grid carnforth4\n",
      "INFO Done: [(u'Table created',)]\n",
      "INFO Generating Grid carnforth8\n",
      "INFO Done: [(u'Table created',)]\n",
      "INFO Generating Grid carnforth16\n",
      "INFO Done: [(u'Table created',)]\n",
      "INFO Generating Grid carnforth32\n",
      "INFO Done: [(u'Table created',)]\n",
      "INFO Generating Grid carnforth64\n",
      "INFO Done: [(u'Table created',)]\n",
      "INFO Generating Grid carnforth128\n",
      "INFO Done: [(u'Table created',)]\n",
      "INFO Generating Grid carnforth256\n",
      "INFO Done: [(u'Table created',)]\n",
      "INFO Generating Grid carnforth512\n",
      "INFO Done: [(u'Table created',)]\n"
     ]
    },
    {
     "name": "stdout",
     "output_type": "stream",
     "text": [
      "CPU times: user 16min 52s, sys: 21.4 s, total: 17min 13s\n",
      "Wall time: 1h 2min 53s\n"
     ]
    },
    {
     "data": {
      "text/plain": [
       "{0: 'mesh\".\"carnforth1',\n",
       " 1: 'mesh\".\"carnforth2',\n",
       " 2: 'mesh\".\"carnforth4',\n",
       " 3: 'mesh\".\"carnforth8',\n",
       " 4: 'mesh\".\"carnforth16',\n",
       " 5: 'mesh\".\"carnforth32',\n",
       " 6: 'mesh\".\"carnforth64',\n",
       " 7: 'mesh\".\"carnforth128',\n",
       " 8: 'mesh\".\"carnforth256',\n",
       " 9: 'mesh\".\"carnforth512'}"
      ]
     },
     "execution_count": 12,
     "metadata": {},
     "output_type": "execute_result"
    }
   ],
   "source": [
    "%time tl.createRegionalNestedGrid(parent_square=dd['polygon'],store_prefix=\"carnforth\",n_levels=10)"
   ]
  },
  {
   "cell_type": "code",
   "execution_count": null,
   "metadata": {
    "collapsed": true
   },
   "outputs": [],
   "source": []
  }
 ],
 "metadata": {
  "kernelspec": {
   "display_name": "Django Shell-Plus",
   "language": "python",
   "name": "django_extensions"
  },
  "language_info": {
   "codemirror_mode": {
    "name": "ipython",
    "version": 2
   },
   "file_extension": ".py",
   "mimetype": "text/x-python",
   "name": "python",
   "nbconvert_exporter": "python",
   "pygments_lexer": "ipython2",
   "version": "2.7.11"
  }
 },
 "nbformat": 4,
 "nbformat_minor": 0
}
