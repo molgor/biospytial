{
 "cells": [
  {
   "cell_type": "markdown",
   "metadata": {},
   "source": [
    "## Here I show two methods for getting data from the knowledge graph. \n",
    "1. The `naive` method which means that at all the data from a graph query (taxonomical query) will be exported first as a complete list and then processed accordingly. \n",
    "\n",
    "2. The `lazy-evaluation` method which uses nested iterators from the data retrieval (GraphSelector) to the processing. Only at the end a flattening is done. Which means, it gets the data from the bottom of the nested iterator stack.\n"
   ]
  },
  {
   "cell_type": "code",
   "execution_count": 24,
   "metadata": {
    "collapsed": false
   },
   "outputs": [],
   "source": [
    "%matplotlib inline\n",
    "import sys\n",
    "sys.path.append('/apps')\n",
    "import django\n",
    "django.setup()\n",
    "from drivers.tree_builder import TreeNeo\n",
    "from drivers.graph_models import TreeNode, Order, Family, graph,Kingdom,Occurrence\n",
    "from drivers.graph_models import Cell,Mex4km, countObjectsOf\n",
    "import matplotlib.pyplot as plt\n",
    "## Use the ggplot style\n",
    "plt.style.use('ggplot')"
   ]
  },
  {
   "cell_type": "markdown",
   "metadata": {},
   "source": [
    "## Take a subsample of the Cells."
   ]
  },
  {
   "cell_type": "code",
   "execution_count": 25,
   "metadata": {
    "collapsed": false
   },
   "outputs": [],
   "source": [
    "n = graph.data(\"MATCH (n:mex4km) RETURN Count(n)\").pop()['Count(n)']"
   ]
  },
  {
   "cell_type": "code",
   "execution_count": 26,
   "metadata": {
    "collapsed": false
   },
   "outputs": [
    {
     "name": "stdout",
     "output_type": "stream",
     "text": [
      "279277\n"
     ]
    }
   ],
   "source": [
    "n = countObjectsOf(Mex4km)\n",
    "print(n)"
   ]
  },
  {
   "cell_type": "markdown",
   "metadata": {},
   "source": [
    "### A lot of data we need to use a sampling method."
   ]
  },
  {
   "cell_type": "code",
   "execution_count": 27,
   "metadata": {
    "collapsed": false,
    "scrolled": true
   },
   "outputs": [],
   "source": [
    "import numpy as np\n",
    "np.random.seed(12345)\n",
    "sample_size = 50\n",
    "choices = np.random.choice(range(1,n),sample_size,replace='False')"
   ]
  },
  {
   "cell_type": "markdown",
   "metadata": {},
   "source": [
    "### Query for exporting a selection of cells.\n",
    "\n",
    "** THis needs to be added in the code as utilities"
   ]
  },
  {
   "cell_type": "code",
   "execution_count": 28,
   "metadata": {
    "collapsed": false
   },
   "outputs": [],
   "source": [
    "c = list(choices)\n",
    "## This will stringify the id list to get the selected cells.\n",
    "sel = Mex4km.select(graph).where(\"_.id IN  %s \"%str(c))"
   ]
  },
  {
   "cell_type": "markdown",
   "metadata": {
    "collapsed": false
   },
   "source": [
    "### Using iterators (imap + graphselector_iterator)"
   ]
  },
  {
   "cell_type": "code",
   "execution_count": 29,
   "metadata": {
    "collapsed": true
   },
   "outputs": [],
   "source": [
    "import itertools as it"
   ]
  },
  {
   "cell_type": "code",
   "execution_count": 30,
   "metadata": {
    "collapsed": false
   },
   "outputs": [
    {
     "name": "stdout",
     "output_type": "stream",
     "text": [
      "CPU times: user 0 ns, sys: 0 ns, total: 0 ns\n",
      "Wall time: 15 µs\n"
     ]
    }
   ],
   "source": [
    "%time ocs = it.imap(lambda c : c.has_occurrences,sel)"
   ]
  },
  {
   "cell_type": "markdown",
   "metadata": {},
   "source": [
    "## Getting the first N data sets\n",
    "1. First Build an iterable slice \n"
   ]
  },
  {
   "cell_type": "code",
   "execution_count": 31,
   "metadata": {
    "collapsed": false
   },
   "outputs": [
    {
     "name": "stdout",
     "output_type": "stream",
     "text": [
      "CPU times: user 0 ns, sys: 0 ns, total: 0 ns\n",
      "Wall time: 19.8 µs\n"
     ]
    }
   ],
   "source": [
    "N = sample_size\n",
    "%time f_10k = it.islice(ocs,N)"
   ]
  },
  {
   "cell_type": "markdown",
   "metadata": {},
   "source": [
    "### Flatten the data\n",
    "Because are nested iterables and according to the \"Zen of Python\" \n",
    "` Flat is better than nested `\n",
    "We will *flatten* the list to get the amount of data we want. \n",
    "This increases dramatically the efficiency because we don't need to get the all the data in the shape of list and then perform the needed operations.\n",
    "We can define them abstractly and the only flatten the data whenever is needed.\n"
   ]
  },
  {
   "cell_type": "code",
   "execution_count": 32,
   "metadata": {
    "collapsed": false
   },
   "outputs": [],
   "source": [
    "cosas = it.chain.from_iterable(ocs)"
   ]
  },
  {
   "cell_type": "code",
   "execution_count": 33,
   "metadata": {
    "collapsed": false
   },
   "outputs": [],
   "source": [
    "ccc = list(cosas)"
   ]
  },
  {
   "cell_type": "code",
   "execution_count": 34,
   "metadata": {
    "collapsed": false
   },
   "outputs": [
    {
     "data": {
      "text/plain": [
       "[<Occurrence pk=1511965>,\n",
       " <Occurrence pk=849598>,\n",
       " <Occurrence pk=710899>,\n",
       " <Occurrence pk=3178968>,\n",
       " <Occurrence pk=2807291>,\n",
       " <Occurrence pk=2395867>,\n",
       " <Occurrence pk=1471529>,\n",
       " <Occurrence pk=311658>,\n",
       " <Occurrence pk=2794415>,\n",
       " <Occurrence pk=2391625>,\n",
       " <Occurrence pk=3178392>,\n",
       " <Occurrence pk=312456>,\n",
       " <Occurrence pk=2799065>,\n",
       " <Occurrence pk=2384205>,\n",
       " <Occurrence pk=2795497>,\n",
       " <Occurrence pk=472057>,\n",
       " <Occurrence pk=689407>,\n",
       " <Occurrence pk=2794414>,\n",
       " <Occurrence pk=2808041>,\n",
       " <Occurrence pk=3188328>,\n",
       " <Occurrence pk=2416561>,\n",
       " <Occurrence pk=471833>,\n",
       " <Occurrence pk=3216290>,\n",
       " <Occurrence pk=2075876>,\n",
       " <Occurrence pk=2390662>,\n",
       " <Occurrence pk=2402321>,\n",
       " <Occurrence pk=1512607>,\n",
       " <Occurrence pk=313303>,\n",
       " <Occurrence pk=471835>,\n",
       " <Occurrence pk=710897>,\n",
       " <Occurrence pk=3178394>,\n",
       " <Occurrence pk=2147850>,\n",
       " <Occurrence pk=2794626>,\n",
       " <Occurrence pk=473300>,\n",
       " <Occurrence pk=471631>,\n",
       " <Occurrence pk=310624>,\n",
       " <Occurrence pk=1954371>,\n",
       " <Occurrence pk=1572471>,\n",
       " <Occurrence pk=1211106>,\n",
       " <Occurrence pk=1209690>,\n",
       " <Occurrence pk=1171505>,\n",
       " <Occurrence pk=1209712>,\n",
       " <Occurrence pk=954769>,\n",
       " <Occurrence pk=1212548>,\n",
       " <Occurrence pk=920878>,\n",
       " <Occurrence pk=1106178>,\n",
       " <Occurrence pk=1106069>,\n",
       " <Occurrence pk=1937963>,\n",
       " <Occurrence pk=937357>,\n",
       " <Occurrence pk=1939172>,\n",
       " <Occurrence pk=1823987>,\n",
       " <Occurrence pk=939332>,\n",
       " <Occurrence pk=1057812>,\n",
       " <Occurrence pk=1057876>,\n",
       " <Occurrence pk=1062212>,\n",
       " <Occurrence pk=2841096>,\n",
       " <Occurrence pk=1057378>,\n",
       " <Occurrence pk=2841748>,\n",
       " <Occurrence pk=54858>,\n",
       " <Occurrence pk=2841741>,\n",
       " <Occurrence pk=2841136>,\n",
       " <Occurrence pk=1005619>,\n",
       " <Occurrence pk=13776>,\n",
       " <Occurrence pk=2841951>,\n",
       " <Occurrence pk=289615>,\n",
       " <Occurrence pk=2841962>,\n",
       " <Occurrence pk=2202850>,\n",
       " <Occurrence pk=2841953>,\n",
       " <Occurrence pk=2841958>,\n",
       " <Occurrence pk=2841747>,\n",
       " <Occurrence pk=2916352>,\n",
       " <Occurrence pk=2222007>,\n",
       " <Occurrence pk=1057006>,\n",
       " <Occurrence pk=2188476>,\n",
       " <Occurrence pk=2841095>,\n",
       " <Occurrence pk=2841961>,\n",
       " <Occurrence pk=2841957>,\n",
       " <Occurrence pk=2841100>,\n",
       " <Occurrence pk=2257094>,\n",
       " <Occurrence pk=2916205>,\n",
       " <Occurrence pk=2203797>,\n",
       " <Occurrence pk=2841134>,\n",
       " <Occurrence pk=2841959>,\n",
       " <Occurrence pk=2841101>,\n",
       " <Occurrence pk=2841094>,\n",
       " <Occurrence pk=1057454>,\n",
       " <Occurrence pk=2916395>,\n",
       " <Occurrence pk=2841954>,\n",
       " <Occurrence pk=1058121>,\n",
       " <Occurrence pk=2841746>,\n",
       " <Occurrence pk=2841955>,\n",
       " <Occurrence pk=663542>,\n",
       " <Occurrence pk=1133250>,\n",
       " <Occurrence pk=2841102>,\n",
       " <Occurrence pk=2841099>,\n",
       " <Occurrence pk=2841960>,\n",
       " <Occurrence pk=1058122>,\n",
       " <Occurrence pk=2841135>,\n",
       " <Occurrence pk=2841098>,\n",
       " <Occurrence pk=2841950>,\n",
       " <Occurrence pk=2916381>,\n",
       " <Occurrence pk=2841744>,\n",
       " <Occurrence pk=2970123>,\n",
       " <Occurrence pk=2841952>,\n",
       " <Occurrence pk=1057805>,\n",
       " <Occurrence pk=2221504>,\n",
       " <Occurrence pk=1057630>,\n",
       " <Occurrence pk=2841103>,\n",
       " <Occurrence pk=2841740>,\n",
       " <Occurrence pk=2841749>,\n",
       " <Occurrence pk=2841956>]"
      ]
     },
     "execution_count": 34,
     "metadata": {},
     "output_type": "execute_result"
    }
   ],
   "source": [
    "ccc"
   ]
  },
  {
   "cell_type": "markdown",
   "metadata": {},
   "source": [
    "### Benchmarking time for retrieval using explicit lists vs lazy-evaluation\n"
   ]
  },
  {
   "cell_type": "code",
   "execution_count": 35,
   "metadata": {
    "collapsed": false,
    "scrolled": true
   },
   "outputs": [
    {
     "name": "stdout",
     "output_type": "stream",
     "text": [
      "CPU times: user 300 ms, sys: 12 ms, total: 312 ms\n",
      "Wall time: 418 ms\n"
     ]
    }
   ],
   "source": [
    "%time samples = list(sel)"
   ]
  },
  {
   "cell_type": "code",
   "execution_count": 36,
   "metadata": {
    "collapsed": false
   },
   "outputs": [
    {
     "name": "stdout",
     "output_type": "stream",
     "text": [
      "CPU times: user 204 ms, sys: 8 ms, total: 212 ms\n",
      "Wall time: 255 ms\n"
     ]
    }
   ],
   "source": [
    "%time ocs2 = map(lambda c : list(c.has_occurrences),samples)"
   ]
  },
  {
   "cell_type": "code",
   "execution_count": 37,
   "metadata": {
    "collapsed": false
   },
   "outputs": [],
   "source": [
    "ocs2_l = filter(lambda k : k != [] ,ocs2)"
   ]
  },
  {
   "cell_type": "code",
   "execution_count": 38,
   "metadata": {
    "collapsed": false
   },
   "outputs": [
    {
     "data": {
      "text/plain": [
       "7"
      ]
     },
     "execution_count": 38,
     "metadata": {},
     "output_type": "execute_result"
    }
   ],
   "source": [
    "len(ocs2_l)"
   ]
  },
  {
   "cell_type": "code",
   "execution_count": 39,
   "metadata": {
    "collapsed": false
   },
   "outputs": [],
   "source": [
    "lll = reduce(lambda a,b : a+b,ocs2_l)"
   ]
  },
  {
   "cell_type": "code",
   "execution_count": 40,
   "metadata": {
    "collapsed": false
   },
   "outputs": [
    {
     "data": {
      "text/plain": [
       "[<Occurrence pk=1511965>,\n",
       " <Occurrence pk=849598>,\n",
       " <Occurrence pk=710899>,\n",
       " <Occurrence pk=3178968>,\n",
       " <Occurrence pk=2807291>,\n",
       " <Occurrence pk=2395867>,\n",
       " <Occurrence pk=1471529>,\n",
       " <Occurrence pk=311658>,\n",
       " <Occurrence pk=2794415>,\n",
       " <Occurrence pk=2391625>,\n",
       " <Occurrence pk=3178392>,\n",
       " <Occurrence pk=312456>,\n",
       " <Occurrence pk=2799065>,\n",
       " <Occurrence pk=2384205>,\n",
       " <Occurrence pk=2795497>,\n",
       " <Occurrence pk=472057>,\n",
       " <Occurrence pk=689407>,\n",
       " <Occurrence pk=2794414>,\n",
       " <Occurrence pk=2808041>,\n",
       " <Occurrence pk=3188328>,\n",
       " <Occurrence pk=2416561>,\n",
       " <Occurrence pk=471833>,\n",
       " <Occurrence pk=3216290>,\n",
       " <Occurrence pk=2075876>,\n",
       " <Occurrence pk=2390662>,\n",
       " <Occurrence pk=2402321>,\n",
       " <Occurrence pk=1512607>,\n",
       " <Occurrence pk=313303>,\n",
       " <Occurrence pk=471835>,\n",
       " <Occurrence pk=710897>,\n",
       " <Occurrence pk=3178394>,\n",
       " <Occurrence pk=2147850>,\n",
       " <Occurrence pk=2794626>,\n",
       " <Occurrence pk=473300>,\n",
       " <Occurrence pk=471631>,\n",
       " <Occurrence pk=310624>,\n",
       " <Occurrence pk=1954371>,\n",
       " <Occurrence pk=1572471>,\n",
       " <Occurrence pk=1211106>,\n",
       " <Occurrence pk=1209690>,\n",
       " <Occurrence pk=1171505>,\n",
       " <Occurrence pk=1209712>,\n",
       " <Occurrence pk=954769>,\n",
       " <Occurrence pk=1212548>,\n",
       " <Occurrence pk=920878>,\n",
       " <Occurrence pk=1106178>,\n",
       " <Occurrence pk=1106069>,\n",
       " <Occurrence pk=1937963>,\n",
       " <Occurrence pk=937357>,\n",
       " <Occurrence pk=1939172>,\n",
       " <Occurrence pk=1823987>,\n",
       " <Occurrence pk=939332>,\n",
       " <Occurrence pk=1057812>,\n",
       " <Occurrence pk=1057876>,\n",
       " <Occurrence pk=1062212>,\n",
       " <Occurrence pk=2841096>,\n",
       " <Occurrence pk=1057378>,\n",
       " <Occurrence pk=2841748>,\n",
       " <Occurrence pk=54858>,\n",
       " <Occurrence pk=2841741>,\n",
       " <Occurrence pk=2841136>,\n",
       " <Occurrence pk=1005619>,\n",
       " <Occurrence pk=13776>,\n",
       " <Occurrence pk=2841951>,\n",
       " <Occurrence pk=289615>,\n",
       " <Occurrence pk=2841962>,\n",
       " <Occurrence pk=2202850>,\n",
       " <Occurrence pk=2841953>,\n",
       " <Occurrence pk=2841958>,\n",
       " <Occurrence pk=2841747>,\n",
       " <Occurrence pk=2916352>,\n",
       " <Occurrence pk=2222007>,\n",
       " <Occurrence pk=1057006>,\n",
       " <Occurrence pk=2188476>,\n",
       " <Occurrence pk=2841095>,\n",
       " <Occurrence pk=2841961>,\n",
       " <Occurrence pk=2841957>,\n",
       " <Occurrence pk=2841100>,\n",
       " <Occurrence pk=2257094>,\n",
       " <Occurrence pk=2916205>,\n",
       " <Occurrence pk=2203797>,\n",
       " <Occurrence pk=2841134>,\n",
       " <Occurrence pk=2841959>,\n",
       " <Occurrence pk=2841101>,\n",
       " <Occurrence pk=2841094>,\n",
       " <Occurrence pk=1057454>,\n",
       " <Occurrence pk=2916395>,\n",
       " <Occurrence pk=2841954>,\n",
       " <Occurrence pk=1058121>,\n",
       " <Occurrence pk=2841746>,\n",
       " <Occurrence pk=2841955>,\n",
       " <Occurrence pk=663542>,\n",
       " <Occurrence pk=1133250>,\n",
       " <Occurrence pk=2841102>,\n",
       " <Occurrence pk=2841099>,\n",
       " <Occurrence pk=2841960>,\n",
       " <Occurrence pk=1058122>,\n",
       " <Occurrence pk=2841135>,\n",
       " <Occurrence pk=2841098>,\n",
       " <Occurrence pk=2841950>,\n",
       " <Occurrence pk=2916381>,\n",
       " <Occurrence pk=2841744>,\n",
       " <Occurrence pk=2970123>,\n",
       " <Occurrence pk=2841952>,\n",
       " <Occurrence pk=1057805>,\n",
       " <Occurrence pk=2221504>,\n",
       " <Occurrence pk=1057630>,\n",
       " <Occurrence pk=2841103>,\n",
       " <Occurrence pk=2841740>,\n",
       " <Occurrence pk=2841749>,\n",
       " <Occurrence pk=2841956>]"
      ]
     },
     "execution_count": 40,
     "metadata": {},
     "output_type": "execute_result"
    }
   ],
   "source": [
    "lll"
   ]
  },
  {
   "cell_type": "code",
   "execution_count": 41,
   "metadata": {
    "collapsed": false,
    "scrolled": true
   },
   "outputs": [
    {
     "data": {
      "text/plain": [
       "True"
      ]
     },
     "execution_count": 41,
     "metadata": {},
     "output_type": "execute_result"
    }
   ],
   "source": [
    "lll == ccc"
   ]
  },
  {
   "cell_type": "code",
   "execution_count": 42,
   "metadata": {
    "collapsed": false
   },
   "outputs": [],
   "source": [
    "sel = Mex4km.select(graph).where(\"_.id IN  %s \"%str(c))"
   ]
  },
  {
   "cell_type": "code",
   "execution_count": null,
   "metadata": {
    "collapsed": true
   },
   "outputs": [],
   "source": []
  },
  {
   "cell_type": "code",
   "execution_count": null,
   "metadata": {
    "collapsed": true
   },
   "outputs": [],
   "source": []
  },
  {
   "cell_type": "code",
   "execution_count": null,
   "metadata": {
    "collapsed": false
   },
   "outputs": [],
   "source": [
    "def _try_levelnames_extraction(relationship):\n",
    "    \"\"\"\n",
    "    Extracts the end node relationship name.\n",
    "    for use with map functions.\n",
    "    \"\"\"\n",
    "    try:\n",
    "        a = relationship.start_node()['levelname']\n",
    "        return a\n",
    "    except:\n",
    "        return None\n",
    "    \n",
    "types = map(lambda r : map(lambda t : _try_levelnames_extraction(t),r),available_rels)"
   ]
  },
  {
   "cell_type": "code",
   "execution_count": null,
   "metadata": {
    "collapsed": false
   },
   "outputs": [],
   "source": [
    "types"
   ]
  },
  {
   "cell_type": "code",
   "execution_count": null,
   "metadata": {
    "collapsed": false
   },
   "outputs": [],
   "source": [
    "tt = tb.buildTreeNeo(samples[26])"
   ]
  },
  {
   "cell_type": "code",
   "execution_count": null,
   "metadata": {
    "collapsed": false
   },
   "outputs": [],
   "source": []
  },
  {
   "cell_type": "code",
   "execution_count": null,
   "metadata": {
    "collapsed": false
   },
   "outputs": [],
   "source": [
    "#For now not run\n",
    "#big_tree = reduce(lambda a,b : a+b , trees)\n",
    "import seaborn as sns"
   ]
  },
  {
   "cell_type": "code",
   "execution_count": null,
   "metadata": {
    "collapsed": true
   },
   "outputs": [],
   "source": [
    "t = trees[2]"
   ]
  },
  {
   "cell_type": "code",
   "execution_count": null,
   "metadata": {
    "collapsed": true
   },
   "outputs": [],
   "source": []
  },
  {
   "cell_type": "code",
   "execution_count": null,
   "metadata": {
    "collapsed": false
   },
   "outputs": [],
   "source": [
    "ll = map(lambda t : t.richness , trees)"
   ]
  },
  {
   "cell_type": "code",
   "execution_count": null,
   "metadata": {
    "collapsed": false
   },
   "outputs": [],
   "source": [
    "sns.distplot(ll)"
   ]
  },
  {
   "cell_type": "code",
   "execution_count": null,
   "metadata": {
    "collapsed": false
   },
   "outputs": [],
   "source": [
    "tl.plotTree(tt)"
   ]
  },
  {
   "cell_type": "code",
   "execution_count": null,
   "metadata": {
    "collapsed": false
   },
   "outputs": [],
   "source": [
    "import traversals.strategies as strg"
   ]
  },
  {
   "cell_type": "code",
   "execution_count": null,
   "metadata": {
    "collapsed": false
   },
   "outputs": [],
   "source": [
    "type(root)"
   ]
  },
  {
   "cell_type": "code",
   "execution_count": null,
   "metadata": {
    "collapsed": false
   },
   "outputs": [],
   "source": [
    "root = t.node"
   ]
  },
  {
   "cell_type": "code",
   "execution_count": null,
   "metadata": {
    "collapsed": false
   },
   "outputs": [],
   "source": [
    "a = strg.getPresencesForNode(root,trees)"
   ]
  },
  {
   "cell_type": "code",
   "execution_count": null,
   "metadata": {
    "collapsed": false
   },
   "outputs": [],
   "source": [
    "data_t = strg.getPresencesForListOfNodes([root],trees)"
   ]
  },
  {
   "cell_type": "code",
   "execution_count": null,
   "metadata": {
    "collapsed": false
   },
   "outputs": [],
   "source": [
    "data_t"
   ]
  },
  {
   "cell_type": "markdown",
   "metadata": {},
   "source": [
    "# The model"
   ]
  },
  {
   "cell_type": "code",
   "execution_count": null,
   "metadata": {
    "collapsed": true
   },
   "outputs": [],
   "source": [
    "import pymc3 as pm"
   ]
  },
  {
   "cell_type": "code",
   "execution_count": null,
   "metadata": {
    "collapsed": false
   },
   "outputs": [],
   "source": [
    "-"
   ]
  },
  {
   "cell_type": "code",
   "execution_count": null,
   "metadata": {
    "collapsed": false,
    "scrolled": true
   },
   "outputs": [],
   "source": [
    "from pymc3 import find_MAP\n",
    "map_estimate = find_MAP(model=model)\n",
    "map_estimate"
   ]
  },
  {
   "cell_type": "code",
   "execution_count": null,
   "metadata": {
    "collapsed": true
   },
   "outputs": [],
   "source": [
    "import pandas as pd"
   ]
  },
  {
   "cell_type": "code",
   "execution_count": null,
   "metadata": {
    "collapsed": false
   },
   "outputs": [],
   "source": [
    "mapxy = pd.concat([data_t[['Longitude','Latitude']],pd.DataFrame({'map': map_estimate['latent_field']})],axis=1)"
   ]
  },
  {
   "cell_type": "code",
   "execution_count": null,
   "metadata": {
    "collapsed": false
   },
   "outputs": [],
   "source": [
    "gmapxy = tools.toGeoDataFrame(mapxy,xcoord_name='Longitude',ycoord_name='Latitude')"
   ]
  },
  {
   "cell_type": "code",
   "execution_count": null,
   "metadata": {
    "collapsed": false
   },
   "outputs": [],
   "source": [
    "fig, ax = plt.subplots(figsize=(14, 9));\n",
    "gmapxy.plot(ax=ax,column='map')"
   ]
  },
  {
   "cell_type": "markdown",
   "metadata": {},
   "source": [
    "## Prediction\n",
    "The conditional method creates the conditional, or predictive, distribution over the latent function at arbitrary x∗x∗ input points, f(x∗)f(x∗). To construct the conditional distribution we write:"
   ]
  },
  {
   "cell_type": "code",
   "execution_count": null,
   "metadata": {
    "collapsed": true
   },
   "outputs": [],
   "source": [
    "minx = min(data_t.Longitude)\n",
    "maxx = max(data_t.Longitude)\n",
    "miny = min(data_t.Latitude)\n",
    "maxy = max(data_t.Latitude)"
   ]
  },
  {
   "cell_type": "code",
   "execution_count": null,
   "metadata": {
    "collapsed": false
   },
   "outputs": [],
   "source": [
    "from external_plugins.spystats.spystats import tools"
   ]
  },
  {
   "cell_type": "code",
   "execution_count": null,
   "metadata": {
    "collapsed": true
   },
   "outputs": [],
   "source": [
    "grid = tools.createGrid(grid_sizex=10,grid_sizey=10,minx=minx,miny=miny,maxx=maxx,maxy=maxy)"
   ]
  },
  {
   "cell_type": "code",
   "execution_count": null,
   "metadata": {
    "collapsed": false
   },
   "outputs": [],
   "source": []
  },
  {
   "cell_type": "code",
   "execution_count": null,
   "metadata": {
    "collapsed": false
   },
   "outputs": [],
   "source": [
    "gp.predict(grid[['Lon','Lat']])"
   ]
  },
  {
   "cell_type": "code",
   "execution_count": null,
   "metadata": {
    "collapsed": false
   },
   "outputs": [],
   "source": [
    "%time f_star = gp.conditional(\"f_star\", X=grid[['Lon','Lat']])"
   ]
  },
  {
   "cell_type": "code",
   "execution_count": null,
   "metadata": {
    "collapsed": false
   },
   "outputs": [],
   "source": [
    "getdata = lambda tree : tree.associatedData.getEnvironmentalVariablesCells()"
   ]
  },
  {
   "cell_type": "code",
   "execution_count": null,
   "metadata": {
    "collapsed": false
   },
   "outputs": [],
   "source": [
    "ts[1].associatedData.getEnvironmentalVariablesCells()"
   ]
  },
  {
   "cell_type": "code",
   "execution_count": null,
   "metadata": {
    "collapsed": false
   },
   "outputs": [],
   "source": [
    "list(choices)"
   ]
  },
  {
   "cell_type": "code",
   "execution_count": null,
   "metadata": {
    "collapsed": false
   },
   "outputs": [],
   "source": [
    "n"
   ]
  },
  {
   "cell_type": "code",
   "execution_count": null,
   "metadata": {
    "collapsed": true
   },
   "outputs": [],
   "source": []
  }
 ],
 "metadata": {
  "kernelspec": {
   "display_name": "Django Shell-Plus",
   "language": "python",
   "name": "django_extensions"
  },
  "language_info": {
   "codemirror_mode": {
    "name": "ipython",
    "version": 2
   },
   "file_extension": ".py",
   "mimetype": "text/x-python",
   "name": "python",
   "nbconvert_exporter": "python",
   "pygments_lexer": "ipython2",
   "version": "2.7.11"
  }
 },
 "nbformat": 4,
 "nbformat_minor": 0
}
