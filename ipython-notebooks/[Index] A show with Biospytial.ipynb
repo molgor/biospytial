{
 "cells": [
  {
   "cell_type": "markdown",
   "metadata": {},
   "source": [
    "# A system for modelling interrelated Biodiversity data"
   ]
  },
  {
   "cell_type": "markdown",
   "metadata": {},
   "source": [
    "> The system stores data in a Knowledge Engine highly connected. \n",
    "* It integrates vector, raster and relational data in a single access-point\n",
    "* Scalable and Paralelizable\n",
    "* Built on top of highly reliable data management and GIS tools [GDAL,Postgis,PROJ](https://www.osgeo.org).\n",
    "\n",
    "\n",
    "## Data handling notes:\n",
    "Examples on how to obtain Local Taxonomic Trees, operate them and get associated data.\n",
    "\n",
    "* ### [Mosquito Example](demos/Mosquitos_and_friends.ipynb)\n",
    "An interactive example on how to load regions related to a family. Extract associated trees, count frequencies and create a network\n",
    "* ### [Bats Example](demos/Bats_analysis.ipynb)\n",
    "An example on how to explore (traverse) the Tree of Life starting from a Family node (Bats *Chiroptera*), obtaining a uniform random sample and get the most associated taxa.\n",
    "\n",
    "## Raster Api\n",
    "> TO BE COMPLETED. Because there's a lot of work behind.\n",
    "\n",
    "\n",
    "* ### [How to use the predictor from the marginalized posterior?](predictor_model_howto.ipynb)\n",
    "> Export the prediction to GeoTiff\n",
    "\n",
    "## Gaussian Process Modelling with Inference\n",
    "\n",
    "* ### [Getting Started with Spystats](../external_plugins/spystats/notebooks/demo/Getting started with Spystats.ipynb)\n",
    "A project that I´m developing for modelling Gaussian and Non Gaussian processes with spatio-temporal variance using the Bayesian Approach.\n",
    "* ### [Working with partial FIA data](../external_plugins/spystats/notebooks/demo/Linear Model fitting with curve-fitting variogram.ipynb)\n",
    "A case study for *Spystats* In which using the Forest Inventory and Analysis National Program data (>36k data.\n",
    "* ### [Working with whole FIA data](../external_plugins/spystats/notebooks/Spatial Model Fitting using GLS.ipynb)\n",
    "Results from the analysis, a GLS fitting. Used the HEC.\n",
    "* ### [Spatial Regression (Gaussian)](../external_plugins/spystats/notebooks/spatial_autocorrelation_from_fitted_model.ipynb)\n",
    "Proof of Concept of derivable products.\n",
    "\n",
    "# Connecting graphs and geostatistics\n",
    "* ### [How does the *taxonomic distance* is calculated ?](demos/statistical_models/Distance between nodes using the Tree of Life.ipynb)\n",
    "* ### [Experimenting with Taxonomic Metrics](demos/Mosquitos_and_friends.ipynb)\n",
    "> ON PROCESS. Looking for feedback\n",
    "\n",
    "### Bayesian modelling approach. A Conditional distribution for $P[S|Y]$\n",
    "\n",
    "* ### [Richness regression (no filtering, with sample) ](demos/statistical_models/[Spatial Regression] Regressing Family richness [all families, all data].ipynb)\n",
    "> An example that shows all families richness, using a random sample.\n",
    "\n",
    "* ### [Richness regression for specific taxon (Bats)](demos/statistical_models/[Spatial Regression] Regression of Bat richness [with sample].ipynb)\n",
    "> ON PROCESS\n",
    "The bayesian aproach for modelling data, extracted from the knowledge base\n",
    "\n",
    "\n",
    "\n",
    "## Presentations\n",
    "* ### [Spatial Statistics Conference 2017](http://panthera/files/spatstats2017.pdf)\n",
    "    Short exposition of the System with example (Mosquito)\n",
    "* ### [Simple Linear Regression Model](http://panthera/files/olsmodel.pdf)\n",
    "    A proposal for the model and a simple linear relation (No spatial autocorrelation)\n",
    "* ### [More extended presentation (2016)](http://panthera/files/chicas_nov_2016_presentation.pdf)\n",
    "    A full presentation (1hr) explaining the theoretical foundations of the system.\n",
    "    \n",
    "\n"
   ]
  },
  {
   "cell_type": "code",
   "execution_count": 6,
   "metadata": {},
   "outputs": [
    {
     "name": "stdout",
     "output_type": "stream",
     "text": [
      "\u001b[0m\u001b[01;32mComparing list vs iterators in data retrieval using the knowledge graph.ipynb\u001b[0m*\r\n",
      "\u001b[01;32mDistance between nodes using the Tree of Life.ipynb\u001b[0m*\r\n",
      "\u001b[01;32mRegional_occurrence_availability_example.ipynb\u001b[0m*\r\n",
      "\u001b[01;32mSimple autoregression.ipynb\u001b[0m*\r\n",
      "\u001b[01;32m[Spatial Regression] Data, Model and Predictions.ipynb\u001b[0m*\r\n",
      "\u001b[01;32m[Spatial Regression] Extracting Taxa from grid.ipynb\u001b[0m*\r\n",
      "\u001b[01;32m[Spatial Regression] Regressing Family richness [all families, all data].ipynb\u001b[0m*\r\n",
      "\u001b[01;32m[Spatial Regression] Regressing a specific certain Taxon.ipynb\u001b[0m*\r\n",
      "\u001b[01;32m[Spatial Regression] Regression of Bat richness [with sample].ipynb\u001b[0m*\r\n",
      "\u001b[01;32mcore\u001b[0m*\r\n",
      "\u001b[01;32mpredictor_model_howto.ipynb\u001b[0m*\r\n"
     ]
    }
   ],
   "source": [
    "ls ../ipython-notebooks/demos/statistical_models/"
   ]
  },
  {
   "cell_type": "code",
   "execution_count": null,
   "metadata": {},
   "outputs": [],
   "source": []
  }
 ],
 "metadata": {
  "kernelspec": {
   "display_name": "Django Shell-Plus",
   "language": "python",
   "name": "django_extensions"
  },
  "language_info": {
   "codemirror_mode": {
    "name": "ipython",
    "version": 2
   },
   "file_extension": ".py",
   "mimetype": "text/x-python",
   "name": "python",
   "nbconvert_exporter": "python",
   "pygments_lexer": "ipython2",
   "version": "2.7.15"
  }
 },
 "nbformat": 4,
 "nbformat_minor": 1
}
