{
 "cells": [
  {
   "cell_type": "markdown",
   "metadata": {},
   "source": [
    "# Regression of Trees (First intent)"
   ]
  },
  {
   "cell_type": "markdown",
   "metadata": {},
   "source": [
    "Here I present an example on how to make regression of Trees on a given cell. At least a node :)"
   ]
  },
  {
   "cell_type": "markdown",
   "metadata": {},
   "source": [
    "First, import the auxiliary libraries"
   ]
  },
  {
   "cell_type": "code",
   "execution_count": 19,
   "metadata": {
    "collapsed": true
   },
   "outputs": [],
   "source": [
    "%matplotlib inline\n",
    "import sys\n",
    "sys.path.append('/apps')\n",
    "import django\n",
    "django.setup()\n",
    "from drivers.tree_builder import TreeNeo\n",
    "from drivers.graph_models import TreeNode, Order, Family, graph"
   ]
  },
  {
   "cell_type": "markdown",
   "metadata": {},
   "source": [
    "Let's select a cell first.\n",
    "![Cell in Guachochi](cell_north1.png \"First cell\")"
   ]
  },
  {
   "cell_type": "code",
   "execution_count": 20,
   "metadata": {
    "collapsed": true
   },
   "outputs": [],
   "source": [
    "cell_id = 207947"
   ]
  },
  {
   "cell_type": "code",
   "execution_count": 21,
   "metadata": {
    "collapsed": true
   },
   "outputs": [],
   "source": [
    "from drivers.graph_models import Cell,Mex4km_,Mex4km"
   ]
  },
  {
   "cell_type": "code",
   "execution_count": 27,
   "metadata": {
    "collapsed": true
   },
   "outputs": [],
   "source": [
    "cell = Cell.select(graph,cell_id)"
   ]
  },
  {
   "cell_type": "code",
   "execution_count": 28,
   "metadata": {
    "collapsed": false
   },
   "outputs": [
    {
     "data": {
      "text/plain": [
       "<py2neo.ogm.Mex4kmSelection at 0x7f6eeeca3c90>"
      ]
     },
     "execution_count": 28,
     "metadata": {},
     "output_type": "execute_result"
    }
   ],
   "source": [
    "Mex4km.select(graph,cell_id)"
   ]
  },
  {
   "cell_type": "code",
   "execution_count": 31,
   "metadata": {
    "collapsed": false
   },
   "outputs": [],
   "source": [
    "cell = list(cell).pop()"
   ]
  },
  {
   "cell_type": "code",
   "execution_count": 32,
   "metadata": {
    "collapsed": false
   },
   "outputs": [
    {
     "data": {
      "text/plain": [
       "<Cell id=207947>"
      ]
     },
     "execution_count": 32,
     "metadata": {},
     "output_type": "execute_result"
    }
   ],
   "source": [
    "cell"
   ]
  },
  {
   "cell_type": "code",
   "execution_count": 33,
   "metadata": {
    "collapsed": true
   },
   "outputs": [],
   "source": [
    "ocs = cell.occurrencesHere()"
   ]
  },
  {
   "cell_type": "code",
   "execution_count": 34,
   "metadata": {
    "collapsed": false
   },
   "outputs": [
    {
     "data": {
      "text/plain": [
       "[<Occurrence pk=50617>,\n",
       " <Occurrence pk=9393>,\n",
       " <Occurrence pk=9003>,\n",
       " <Occurrence pk=51949>,\n",
       " <Occurrence pk=51948>,\n",
       " <Occurrence pk=8926>,\n",
       " <Occurrence pk=8929>,\n",
       " <Occurrence pk=8921>,\n",
       " <Occurrence pk=51896>,\n",
       " <Occurrence pk=51788>,\n",
       " <Occurrence pk=1086972>,\n",
       " <Occurrence pk=8040>,\n",
       " <Occurrence pk=52464>,\n",
       " <Occurrence pk=2942284>,\n",
       " <Occurrence pk=2942280>,\n",
       " <Occurrence pk=2942299>,\n",
       " <Occurrence pk=865973>,\n",
       " <Occurrence pk=869360>,\n",
       " <Occurrence pk=869462>,\n",
       " <Occurrence pk=869464>,\n",
       " <Occurrence pk=6791>,\n",
       " <Occurrence pk=7359>,\n",
       " <Occurrence pk=1760885>,\n",
       " <Occurrence pk=154374>,\n",
       " <Occurrence pk=51955>,\n",
       " <Occurrence pk=151258>,\n",
       " <Occurrence pk=246826>,\n",
       " <Occurrence pk=9370>,\n",
       " <Occurrence pk=55688>,\n",
       " <Occurrence pk=1083190>,\n",
       " <Occurrence pk=52553>,\n",
       " <Occurrence pk=15689>,\n",
       " <Occurrence pk=7348>,\n",
       " <Occurrence pk=23019>,\n",
       " <Occurrence pk=13471>,\n",
       " <Occurrence pk=7364>,\n",
       " <Occurrence pk=52972>,\n",
       " <Occurrence pk=1087095>,\n",
       " <Occurrence pk=1087360>,\n",
       " <Occurrence pk=15694>,\n",
       " <Occurrence pk=51129>,\n",
       " <Occurrence pk=54758>,\n",
       " <Occurrence pk=1000169>,\n",
       " <Occurrence pk=1087098>,\n",
       " <Occurrence pk=23002>,\n",
       " <Occurrence pk=2944002>,\n",
       " <Occurrence pk=52964>,\n",
       " <Occurrence pk=1000230>,\n",
       " <Occurrence pk=1297462>,\n",
       " <Occurrence pk=1274236>,\n",
       " <Occurrence pk=1082895>,\n",
       " <Occurrence pk=51804>,\n",
       " <Occurrence pk=1867923>,\n",
       " <Occurrence pk=1644088>,\n",
       " <Occurrence pk=2597060>,\n",
       " <Occurrence pk=1302375>,\n",
       " <Occurrence pk=8972>,\n",
       " <Occurrence pk=8977>,\n",
       " <Occurrence pk=9424>,\n",
       " <Occurrence pk=52793>,\n",
       " <Occurrence pk=8923>,\n",
       " <Occurrence pk=1082942>,\n",
       " <Occurrence pk=52730>,\n",
       " <Occurrence pk=8895>,\n",
       " <Occurrence pk=1807319>,\n",
       " <Occurrence pk=1887076>,\n",
       " <Occurrence pk=22079>,\n",
       " <Occurrence pk=7550>,\n",
       " <Occurrence pk=1010719>,\n",
       " <Occurrence pk=50049>,\n",
       " <Occurrence pk=21161>,\n",
       " <Occurrence pk=23837>,\n",
       " <Occurrence pk=7582>,\n",
       " <Occurrence pk=1010002>,\n",
       " <Occurrence pk=23843>,\n",
       " <Occurrence pk=23717>,\n",
       " <Occurrence pk=1086605>,\n",
       " <Occurrence pk=933016>,\n",
       " <Occurrence pk=1087045>,\n",
       " <Occurrence pk=1083187>,\n",
       " <Occurrence pk=53036>,\n",
       " <Occurrence pk=51103>,\n",
       " <Occurrence pk=51087>,\n",
       " <Occurrence pk=9542>,\n",
       " <Occurrence pk=1000155>,\n",
       " <Occurrence pk=9510>,\n",
       " <Occurrence pk=1875812>,\n",
       " <Occurrence pk=2942673>,\n",
       " <Occurrence pk=51892>,\n",
       " <Occurrence pk=52687>,\n",
       " <Occurrence pk=52732>,\n",
       " <Occurrence pk=53474>,\n",
       " <Occurrence pk=8563>,\n",
       " <Occurrence pk=52606>,\n",
       " <Occurrence pk=245102>,\n",
       " <Occurrence pk=1725730>,\n",
       " <Occurrence pk=1011049>,\n",
       " <Occurrence pk=1011052>,\n",
       " <Occurrence pk=1012697>,\n",
       " <Occurrence pk=1008931>,\n",
       " <Occurrence pk=2944764>,\n",
       " <Occurrence pk=1008884>,\n",
       " <Occurrence pk=869463>,\n",
       " <Occurrence pk=1011050>,\n",
       " <Occurrence pk=1066602>,\n",
       " <Occurrence pk=245057>,\n",
       " <Occurrence pk=241058>,\n",
       " <Occurrence pk=240985>,\n",
       " <Occurrence pk=246852>,\n",
       " <Occurrence pk=241016>,\n",
       " <Occurrence pk=1009926>,\n",
       " <Occurrence pk=7047>,\n",
       " <Occurrence pk=53438>,\n",
       " <Occurrence pk=52796>,\n",
       " <Occurrence pk=8971>,\n",
       " <Occurrence pk=1087036>,\n",
       " <Occurrence pk=9330>,\n",
       " <Occurrence pk=52735>,\n",
       " <Occurrence pk=9300>,\n",
       " <Occurrence pk=9327>,\n",
       " <Occurrence pk=485260>,\n",
       " <Occurrence pk=8975>,\n",
       " <Occurrence pk=22949>,\n",
       " <Occurrence pk=1000167>,\n",
       " <Occurrence pk=47781>,\n",
       " <Occurrence pk=51100>,\n",
       " <Occurrence pk=55684>,\n",
       " <Occurrence pk=51101>,\n",
       " <Occurrence pk=22884>,\n",
       " <Occurrence pk=13467>,\n",
       " <Occurrence pk=485765>,\n",
       " <Occurrence pk=23010>,\n",
       " <Occurrence pk=55744>,\n",
       " <Occurrence pk=1875813>,\n",
       " <Occurrence pk=1719017>,\n",
       " <Occurrence pk=1000135>,\n",
       " <Occurrence pk=53040>,\n",
       " <Occurrence pk=2944299>,\n",
       " <Occurrence pk=2944339>,\n",
       " <Occurrence pk=2944558>,\n",
       " <Occurrence pk=1071592>,\n",
       " <Occurrence pk=53440>,\n",
       " <Occurrence pk=9396>,\n",
       " <Occurrence pk=1086174>,\n",
       " <Occurrence pk=2944341>,\n",
       " <Occurrence pk=52682>,\n",
       " <Occurrence pk=53476>,\n",
       " <Occurrence pk=9006>,\n",
       " <Occurrence pk=4457>,\n",
       " <Occurrence pk=8562>,\n",
       " <Occurrence pk=52612>,\n",
       " <Occurrence pk=1083479>,\n",
       " <Occurrence pk=7015>,\n",
       " <Occurrence pk=1087101>,\n",
       " <Occurrence pk=50561>,\n",
       " <Occurrence pk=51798>,\n",
       " <Occurrence pk=51886>,\n",
       " <Occurrence pk=51791>,\n",
       " <Occurrence pk=51951>,\n",
       " <Occurrence pk=8930>,\n",
       " <Occurrence pk=51469>,\n",
       " <Occurrence pk=50558>,\n",
       " <Occurrence pk=51885>,\n",
       " <Occurrence pk=1012026>,\n",
       " <Occurrence pk=7551>,\n",
       " <Occurrence pk=22064>,\n",
       " <Occurrence pk=51538>,\n",
       " <Occurrence pk=50552>,\n",
       " <Occurrence pk=1009884>,\n",
       " <Occurrence pk=22055>,\n",
       " <Occurrence pk=23714>,\n",
       " <Occurrence pk=50501>,\n",
       " <Occurrence pk=16514>,\n",
       " <Occurrence pk=16518>,\n",
       " <Occurrence pk=16525>,\n",
       " <Occurrence pk=16619>,\n",
       " <Occurrence pk=871877>,\n",
       " <Occurrence pk=4437>,\n",
       " <Occurrence pk=871919>,\n",
       " <Occurrence pk=54707>,\n",
       " <Occurrence pk=1083193>,\n",
       " <Occurrence pk=15595>,\n",
       " <Occurrence pk=1000147>,\n",
       " <Occurrence pk=13574>,\n",
       " <Occurrence pk=1087071>,\n",
       " <Occurrence pk=871872>,\n",
       " <Occurrence pk=55738>,\n",
       " <Occurrence pk=52599>,\n",
       " <Occurrence pk=52689>,\n",
       " <Occurrence pk=51473>,\n",
       " <Occurrence pk=50496>,\n",
       " <Occurrence pk=7017>,\n",
       " <Occurrence pk=22071>,\n",
       " <Occurrence pk=51471>,\n",
       " <Occurrence pk=51534>,\n",
       " <Occurrence pk=2942305>,\n",
       " <Occurrence pk=52549>,\n",
       " <Occurrence pk=9368>,\n",
       " <Occurrence pk=1086796>,\n",
       " <Occurrence pk=53475>,\n",
       " <Occurrence pk=9394>,\n",
       " <Occurrence pk=8532>,\n",
       " <Occurrence pk=9302>,\n",
       " <Occurrence pk=129452>,\n",
       " <Occurrence pk=867364>,\n",
       " <Occurrence pk=1086224>,\n",
       " <Occurrence pk=1066686>,\n",
       " <Occurrence pk=1066605>,\n",
       " <Occurrence pk=1071023>,\n",
       " <Occurrence pk=1066688>,\n",
       " <Occurrence pk=1066480>,\n",
       " <Occurrence pk=1066529>,\n",
       " <Occurrence pk=1066478>,\n",
       " <Occurrence pk=1066483>,\n",
       " <Occurrence pk=873330>,\n",
       " <Occurrence pk=873110>,\n",
       " <Occurrence pk=1066399>,\n",
       " <Occurrence pk=483709>,\n",
       " <Occurrence pk=2596617>,\n",
       " <Occurrence pk=1087038>,\n",
       " <Occurrence pk=9369>,\n",
       " <Occurrence pk=8561>,\n",
       " <Occurrence pk=8530>,\n",
       " <Occurrence pk=8893>,\n",
       " <Occurrence pk=52685>,\n",
       " <Occurrence pk=9324>,\n",
       " <Occurrence pk=9425>,\n",
       " <Occurrence pk=1086640>,\n",
       " <Occurrence pk=23122>,\n",
       " <Occurrence pk=1083210>,\n",
       " <Occurrence pk=51102>,\n",
       " <Occurrence pk=55691>,\n",
       " <Occurrence pk=54762>,\n",
       " <Occurrence pk=13568>,\n",
       " <Occurrence pk=9506>,\n",
       " <Occurrence pk=1083191>,\n",
       " <Occurrence pk=7361>,\n",
       " <Occurrence pk=1066488>,\n",
       " <Occurrence pk=1837608>,\n",
       " <Occurrence pk=51730>,\n",
       " <Occurrence pk=9002>,\n",
       " <Occurrence pk=9397>,\n",
       " <Occurrence pk=9395>,\n",
       " <Occurrence pk=485387>,\n",
       " <Occurrence pk=52737>,\n",
       " <Occurrence pk=8531>,\n",
       " <Occurrence pk=52683>,\n",
       " <Occurrence pk=1086642>,\n",
       " <Occurrence pk=9371>,\n",
       " <Occurrence pk=51726>,\n",
       " <Occurrence pk=52595>,\n",
       " <Occurrence pk=53442>,\n",
       " <Occurrence pk=1814411>,\n",
       " <Occurrence pk=1933989>,\n",
       " <Occurrence pk=2706804>,\n",
       " <Occurrence pk=1008040>,\n",
       " <Occurrence pk=1072950>,\n",
       " <Occurrence pk=1072948>,\n",
       " <Occurrence pk=22998>,\n",
       " <Occurrence pk=51099>,\n",
       " <Occurrence pk=51536>,\n",
       " <Occurrence pk=7360>,\n",
       " <Occurrence pk=140453>,\n",
       " <Occurrence pk=2945232>,\n",
       " <Occurrence pk=52734>,\n",
       " <Occurrence pk=1086798>,\n",
       " <Occurrence pk=2944561>,\n",
       " <Occurrence pk=9005>,\n",
       " <Occurrence pk=52601>,\n",
       " <Occurrence pk=4438>,\n",
       " <Occurrence pk=9372>,\n",
       " <Occurrence pk=47778>,\n",
       " <Occurrence pk=241140>,\n",
       " <Occurrence pk=246896>,\n",
       " <Occurrence pk=241077>,\n",
       " <Occurrence pk=241146>,\n",
       " <Occurrence pk=241041>,\n",
       " <Occurrence pk=241160>,\n",
       " <Occurrence pk=9326>,\n",
       " <Occurrence pk=9004>,\n",
       " <Occurrence pk=9333>,\n",
       " <Occurrence pk=51806>,\n",
       " <Occurrence pk=51954>,\n",
       " <Occurrence pk=51098>,\n",
       " <Occurrence pk=7078>,\n",
       " <Occurrence pk=22205>,\n",
       " <Occurrence pk=21947>,\n",
       " <Occurrence pk=7549>,\n",
       " <Occurrence pk=7580>,\n",
       " <Occurrence pk=7581>,\n",
       " <Occurrence pk=50556>,\n",
       " <Occurrence pk=22995>,\n",
       " <Occurrence pk=137744>,\n",
       " <Occurrence pk=9544>,\n",
       " <Occurrence pk=55740>,\n",
       " <Occurrence pk=51070>,\n",
       " <Occurrence pk=15587>,\n",
       " <Occurrence pk=485360>,\n",
       " <Occurrence pk=13571>,\n",
       " <Occurrence pk=1087065>,\n",
       " <Occurrence pk=7390>,\n",
       " <Occurrence pk=7362>,\n",
       " <Occurrence pk=1211887>,\n",
       " <Occurrence pk=1006409>,\n",
       " <Occurrence pk=7080>,\n",
       " <Occurrence pk=1009749>,\n",
       " <Occurrence pk=22213>,\n",
       " <Occurrence pk=4439>,\n",
       " <Occurrence pk=488783>,\n",
       " <Occurrence pk=871883>,\n",
       " <Occurrence pk=47815>,\n",
       " <Occurrence pk=47782>,\n",
       " <Occurrence pk=1086401>,\n",
       " <Occurrence pk=47818>,\n",
       " <Occurrence pk=16629>,\n",
       " <Occurrence pk=4459>,\n",
       " <Occurrence pk=146523>,\n",
       " <Occurrence pk=50614>,\n",
       " <Occurrence pk=6790>,\n",
       " <Occurrence pk=50047>,\n",
       " <Occurrence pk=21162>,\n",
       " <Occurrence pk=21940>,\n",
       " <Occurrence pk=7045>,\n",
       " <Occurrence pk=23721>,\n",
       " <Occurrence pk=7049>,\n",
       " <Occurrence pk=7051>,\n",
       " <Occurrence pk=15590>,\n",
       " <Occurrence pk=7363>,\n",
       " <Occurrence pk=55686>,\n",
       " <Occurrence pk=1081793>,\n",
       " <Occurrence pk=54760>,\n",
       " <Occurrence pk=7334>,\n",
       " <Occurrence pk=23014>,\n",
       " <Occurrence pk=15598>,\n",
       " <Occurrence pk=15704>,\n",
       " <Occurrence pk=54705>]"
      ]
     },
     "execution_count": 34,
     "metadata": {},
     "output_type": "execute_result"
    }
   ],
   "source": [
    "ocs"
   ]
  },
  {
   "cell_type": "code",
   "execution_count": 36,
   "metadata": {
    "collapsed": false
   },
   "outputs": [
    {
     "data": {
      "text/plain": [
       "336"
      ]
     },
     "execution_count": 36,
     "metadata": {},
     "output_type": "execute_result"
    }
   ],
   "source": [
    "len(ocs)"
   ]
  },
  {
   "cell_type": "code",
   "execution_count": 35,
   "metadata": {
    "collapsed": false
   },
   "outputs": [
    {
     "name": "stdout",
     "output_type": "stream",
     "text": [
      "CPU times: user 1.38 s, sys: 20 ms, total: 1.4 s\n",
      "Wall time: 2.22 s\n"
     ]
    }
   ],
   "source": [
    "%time tree = TreeNeo(ocs)"
   ]
  },
  {
   "cell_type": "code",
   "execution_count": 39,
   "metadata": {
    "collapsed": false
   },
   "outputs": [
    {
     "data": {
      "text/plain": [
       "<TreeNode | Kingdom: Animalia - n.count : 317- | AF: N.A. >"
      ]
     },
     "execution_count": 39,
     "metadata": {},
     "output_type": "execute_result"
    }
   ],
   "source": [
    "tree.to_Animalia"
   ]
  },
  {
   "cell_type": "markdown",
   "metadata": {},
   "source": [
    "## Let's explore which orders are the most abundant"
   ]
  },
  {
   "cell_type": "code",
   "execution_count": 40,
   "metadata": {
    "collapsed": true
   },
   "outputs": [],
   "source": [
    "tree.orders.sort(key=lambda l:l.richness)\n"
   ]
  },
  {
   "cell_type": "code",
   "execution_count": 41,
   "metadata": {
    "collapsed": false
   },
   "outputs": [
    {
     "data": {
      "text/plain": [
       "[<TreeNode | Order: Pinales - n.count : 1- | AF: N.A. >,\n",
       " <TreeNode | Order: Alismatales - n.count : 1- | AF: N.A. >,\n",
       " <TreeNode | Order: Commelinales - n.count : 1- | AF: N.A. >,\n",
       " <TreeNode | Order: Passeriformes - n.count : 1- | AF: N.A. >,\n",
       " <TreeNode | Order: Apodiformes - n.count : 1- | AF: N.A. >,\n",
       " <TreeNode | Order: Ranunculales - n.count : 1- | AF: N.A. >,\n",
       " <TreeNode | Order: Apiales - n.count : 1- | AF: N.A. >,\n",
       " <TreeNode | Order: Carnivora - n.count : 1- | AF: N.A. >,\n",
       " <TreeNode | Order: Strigiformes - n.count : 2- | AF: N.A. >,\n",
       " <TreeNode | Order: Asterales - n.count : 2- | AF: N.A. >,\n",
       " <TreeNode | Order: Geraniales - n.count : 2- | AF: N.A. >,\n",
       " <TreeNode | Order: Fagales - n.count : 2- | AF: N.A. >,\n",
       " <TreeNode | Order: Fabales - n.count : 2- | AF: N.A. >,\n",
       " <TreeNode | Order: Lagomorpha - n.count : 2- | AF: N.A. >,\n",
       " <TreeNode | Order: Poales - n.count : 3- | AF: N.A. >,\n",
       " <TreeNode | Order: Cypriniformes - n.count : 3- | AF: N.A. >,\n",
       " <TreeNode | Order: Piciformes - n.count : 3- | AF: N.A. >,\n",
       " <TreeNode | Order: Lamiales - n.count : 3- | AF: N.A. >,\n",
       " <TreeNode | Order: Trichoptera - n.count : 13- | AF: N.A. >,\n",
       " <TreeNode | Order: Anura - n.count : 16- | AF: N.A. >,\n",
       " <TreeNode | Order: Squamata - n.count : 63- | AF: N.A. >,\n",
       " <TreeNode | Order: Rodentia - n.count : 212- | AF: N.A. >]"
      ]
     },
     "execution_count": 41,
     "metadata": {},
     "output_type": "execute_result"
    }
   ],
   "source": [
    "tree.orders"
   ]
  },
  {
   "cell_type": "code",
   "execution_count": 58,
   "metadata": {
    "collapsed": true
   },
   "outputs": [],
   "source": [
    "ns = tree.getNeighboringTrees(filter_central_cell=False)"
   ]
  },
  {
   "cell_type": "code",
   "execution_count": 61,
   "metadata": {
    "collapsed": true
   },
   "outputs": [],
   "source": [
    "tree.expandNeighbouringTrees??"
   ]
  },
  {
   "cell_type": "code",
   "execution_count": 59,
   "metadata": {
    "collapsed": false
   },
   "outputs": [
    {
     "data": {
      "text/plain": [
       "<drivers.tree_builder.Neighbourhood at 0x7f6eed4ce3d0>"
      ]
     },
     "execution_count": 59,
     "metadata": {},
     "output_type": "execute_result"
    }
   ],
   "source": [
    "ns"
   ]
  },
  {
   "cell_type": "code",
   "execution_count": 60,
   "metadata": {
    "collapsed": false
   },
   "outputs": [
    {
     "data": {
      "text/plain": [
       "[<LocalTree Of Life | No record available: - n.count : 0- >,\n",
       " <LocalTree Of Life | Root: LUCA - n.count : 1- >,\n",
       " <LocalTree Of Life | Root: LUCA - n.count : 1- >,\n",
       " <LocalTree Of Life | Root: LUCA - n.count : 1- >,\n",
       " <LocalTree Of Life | Root: LUCA - n.count : 336- >]"
      ]
     },
     "execution_count": 60,
     "metadata": {},
     "output_type": "execute_result"
    }
   ],
   "source": [
    "ns.neighbours"
   ]
  },
  {
   "cell_type": "code",
   "execution_count": 57,
   "metadata": {
    "collapsed": false
   },
   "outputs": [
    {
     "name": "stderr",
     "output_type": "stream",
     "text": [
      "INFO Merging Trees\n",
      "INFO Merging Trees\n",
      "INFO Merging Trees\n"
     ]
    },
    {
     "data": {
      "text/plain": [
       "<LocalTree Of Life | Root: LUCA - n.count : 3- >"
      ]
     },
     "execution_count": 57,
     "metadata": {},
     "output_type": "execute_result"
    }
   ],
   "source": [
    "a.extendedTree"
   ]
  },
  {
   "cell_type": "code",
   "execution_count": null,
   "metadata": {
    "collapsed": true
   },
   "outputs": [],
   "source": []
  }
 ],
 "metadata": {
  "kernelspec": {
   "display_name": "Django Shell-Plus",
   "language": "python",
   "name": "django_extensions"
  },
  "language_info": {
   "codemirror_mode": {
    "name": "ipython",
    "version": 2
   },
   "file_extension": ".py",
   "mimetype": "text/x-python",
   "name": "python",
   "nbconvert_exporter": "python",
   "pygments_lexer": "ipython2",
   "version": "2.7.11"
  }
 },
 "nbformat": 4,
 "nbformat_minor": 0
}
