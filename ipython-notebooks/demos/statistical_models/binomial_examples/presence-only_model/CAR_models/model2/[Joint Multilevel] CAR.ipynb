{
 "cells": [
  {
   "cell_type": "markdown",
   "metadata": {},
   "source": [
    "# A joint multilevel model for CAR \n",
    "Using MVS.CARLeroux\n",
    "## Common Markov Gaussian Random Field\n",
    " $$ [P , S ] = [P | GMRF] [ S | GMRF] $$"
   ]
  },
  {
   "cell_type": "code",
   "execution_count": 263,
   "metadata": {},
   "outputs": [],
   "source": [
    "## Import code:\n",
    "setwd('/apps/external_plugins/biospytial_rwrapper/biospytial.rwrapper/R/')"
   ]
  },
  {
   "cell_type": "code",
   "execution_count": 264,
   "metadata": {},
   "outputs": [],
   "source": [
    "rm(list=ls())                                                                                     \n",
    "source(\"init_data.R\")                                                                             \n",
    "# load the building function                                                                      \n",
    "#source(\"joint.binomial.bymCAR.R\")\n",
    "\n",
    "S <- model.frame(formula_sample, DataFrame,na.action='na.pass')\n",
    "P <- model.frame(formula_presence, DataFrame,,na.action='na.pass')"
   ]
  },
  {
   "cell_type": "code",
   "execution_count": 265,
   "metadata": {},
   "outputs": [],
   "source": [
    "SX <- select(S, -c(1))\n",
    "PX <- select(P, -c(1))\n",
    "Sy <- select(S, c(1))\n",
    "Py <- select(P, c(1))\n",
    "\n",
    "names(Sy) <- 'response'\n",
    "names(Py) <- names(Sy)\n",
    "Y = rbind(Sy,Py)\n",
    "\n",
    "### Let's build covariance matrix\n",
    "T1 <- matrix(rep(0,4), ncol = 2)\n",
    "T2 <- matrix(rep(0,4), ncol = 2)\n",
    "T1[1,1] <- 1\n",
    "T2[2,2] <- 1\n",
    "\n",
    "X <- data.frame((T1 %x% as.matrix(SX)) + (T2 %x% as.matrix(PX)))\n",
    "names(X) <- c(names(SX),names(PX))\n",
    "\n",
    "DD <- cbind(Y,X)\n",
    "\n",
    "nK <- dim(M_bis)[1]\n",
    "ida <- data.frame(seq(nK))\n",
    "idarea <- unlist(rbind(ida,ida))\n",
    "\n",
    "corx <- rep(x = 1,times = nK)\n",
    "cory <- rep(x = 2,times = nK)\n",
    "\n",
    "indre <- c(corx,cory)\n",
    "\n",
    "formula <- response ~ Disttoroadm + Populationm + Elevationm + MeanTempm"
   ]
  },
  {
   "cell_type": "code",
   "execution_count": null,
   "metadata": {},
   "outputs": [
    {
     "name": "stdout",
     "output_type": "stream",
     "text": [
      "Setting up the model.\n",
      "There are no individual level effects in this model\n",
      "Generating 1e+05 post burnin and thinned (if requested) samples.\n",
      "  |=                                                                     |   1%"
     ]
    }
   ],
   "source": [
    "## now, assuming that the order in M_bis is the same as in cellids (OOOORDEEER, not value)\n",
    "## Run the model\n",
    "trials = rep(1,2 * nK)\n",
    "burnin = 100000\n",
    "n.sample = 200000\n",
    "thin = 5\n",
    "model2 <- S.CARmultilevel(formula,family = 'binomial',\n",
    "                          trials=trials, \n",
    "                          W=M_bis, \n",
    "                          ind.area = idarea,\n",
    "                         ind.re=NULL,\n",
    "                          rho = 1,\n",
    "                          burnin = burnin,\n",
    "                          n.sample = n.sample,\n",
    "                          data = DD\n",
    "                         )"
   ]
  },
  {
   "cell_type": "code",
   "execution_count": null,
   "metadata": {},
   "outputs": [],
   "source": [
    "### Notas\n",
    "## El postburnin es una mamada, quitar"
   ]
  },
  {
   "cell_type": "markdown",
   "metadata": {},
   "source": [
    "n.sample = 20000\n",
    "burnin= 10000\n",
    "single_burnin = 1\n",
    "postburnin = 2    \n",
    "thin = 10\n",
    "verbose = TRUE\n",
    "c <- 1.001 # \n",
    "fixed_prior_gamma_shape_tau <- 1\n",
    "prior_tau_scale <- 0.01\n",
    "prior_sigma_scale <- 0.01\n",
    "fixed_prior_gamma_shape_sigma <- 1\n",
    "\n",
    "results  <- joint.binomial.bymCARModel2(formula_S = formula_sample, \n",
    "                                        formula_P = formula_presence,\n",
    "                                        n.sample=n.sample,\n",
    "                                        burnin=burnin,\n",
    "                                        single_burnin=single_burnin,\n",
    "                                        postburnin=postburnin,\n",
    "                                        thin=thin,\n",
    "                                        verbose=TRUE,\n",
    "                                       prior.tau2=c(fixed_prior_gamma_shape_tau,prior_tau_scale),\n",
    "                                       prior.sigma2=c(fixed_prior_gamma_shape_sigma,prior_sigma_scale),\n",
    "                                        tau2_sigma2_denominator=c,\n",
    "                                       #prior.tau2=c(0.1,1),\n",
    "                                       #prior.sigma2=c(0.1,1),\n",
    "                                       data = DataFrame)\n",
    "                                       #data = rr)\n",
    "\n",
    "## I put 5 ceros"
   ]
  },
  {
   "cell_type": "markdown",
   "metadata": {},
   "source": [
    "## Remember to check likelihood modelfit"
   ]
  },
  {
   "cell_type": "code",
   "execution_count": null,
   "metadata": {},
   "outputs": [],
   "source": []
  },
  {
   "cell_type": "code",
   "execution_count": null,
   "metadata": {},
   "outputs": [],
   "source": [
    "#Change priors tau2 and sigma2\n",
    "#0.1 , 0.01\n"
   ]
  },
  {
   "cell_type": "code",
   "execution_count": null,
   "metadata": {},
   "outputs": [],
   "source": [
    "model2$modelfit"
   ]
  },
  {
   "cell_type": "code",
   "execution_count": null,
   "metadata": {},
   "outputs": [],
   "source": [
    "model2$summary.results"
   ]
  },
  {
   "cell_type": "markdown",
   "metadata": {},
   "source": [
    "## Some plots and analysis for convergence\n"
   ]
  },
  {
   "cell_type": "code",
   "execution_count": null,
   "metadata": {},
   "outputs": [],
   "source": [
    "library(coda)"
   ]
  },
  {
   "cell_type": "markdown",
   "metadata": {},
   "source": [
    "## $\\tau^{2}$"
   ]
  },
  {
   "cell_type": "code",
   "execution_count": null,
   "metadata": {
    "scrolled": false
   },
   "outputs": [],
   "source": [
    "plot(model2$samples$tau2)\n",
    "#plot(results$ind.model.S$model.results$samples$tau2)\n",
    "#plot(results$ind.model.P$model.results$samples$tau2)"
   ]
  },
  {
   "cell_type": "markdown",
   "metadata": {},
   "source": [
    "## $\\sigma^2$"
   ]
  },
  {
   "cell_type": "code",
   "execution_count": null,
   "metadata": {
    "scrolled": false
   },
   "outputs": [],
   "source": [
    "model2$samples$sigma2[2]\n",
    "#plot(results$ind.model.S$model.results$samples$sigma2)\n",
    "#plot(results$ind.model.P$model.results$samples$sigma2)"
   ]
  },
  {
   "cell_type": "markdown",
   "metadata": {},
   "source": [
    "## $\\beta$"
   ]
  },
  {
   "cell_type": "code",
   "execution_count": null,
   "metadata": {},
   "outputs": [],
   "source": [
    "plot(model2$samples$beta)\n",
    "\n",
    "#plot(results$ind.model.S$model.results$samples$tau2)\n",
    "#plot(results$ind.model.P$model.results$samples$tau2)"
   ]
  },
  {
   "cell_type": "markdown",
   "metadata": {},
   "source": [
    "## Diagnostics, Mr. Gelmans, et.al"
   ]
  },
  {
   "cell_type": "raw",
   "metadata": {},
   "source": [
    "gelman.diag(results$S$samples$sigma2)"
   ]
  },
  {
   "cell_type": "code",
   "execution_count": null,
   "metadata": {},
   "outputs": [],
   "source": [
    "post.sample_p = data.frame(model2$samples$fitted)"
   ]
  },
  {
   "cell_type": "code",
   "execution_count": null,
   "metadata": {},
   "outputs": [],
   "source": []
  },
  {
   "cell_type": "markdown",
   "metadata": {},
   "source": [
    "## Sample the posterior "
   ]
  },
  {
   "cell_type": "code",
   "execution_count": null,
   "metadata": {},
   "outputs": [],
   "source": [
    "pss  <- post.sample_p %>% mutate_all(function(p) rbernoulli(1,p))\n",
    "                                        "
   ]
  },
  {
   "cell_type": "code",
   "execution_count": null,
   "metadata": {},
   "outputs": [],
   "source": [
    "## divide samples for S and P according to the order given up\n",
    "pred.S <- pss[,1:nK]\n",
    "pred.P <- pss[,(nK +1) : (2*nK) ]\n"
   ]
  },
  {
   "cell_type": "code",
   "execution_count": null,
   "metadata": {},
   "outputs": [],
   "source": []
  },
  {
   "cell_type": "code",
   "execution_count": null,
   "metadata": {},
   "outputs": [],
   "source": [
    "sumpss <- colSums(pred.S)"
   ]
  },
  {
   "cell_type": "code",
   "execution_count": null,
   "metadata": {},
   "outputs": [],
   "source": [
    "prob_pss <- sumpss / length(pred.S)"
   ]
  },
  {
   "cell_type": "code",
   "execution_count": null,
   "metadata": {},
   "outputs": [],
   "source": [
    "sumpps <- colSums(pred.P)"
   ]
  },
  {
   "cell_type": "code",
   "execution_count": null,
   "metadata": {},
   "outputs": [],
   "source": [
    "prob_pps <- sumpps / length(pred.P)"
   ]
  },
  {
   "cell_type": "code",
   "execution_count": null,
   "metadata": {},
   "outputs": [],
   "source": [
    "probpres = prob_pps * prob_pss"
   ]
  },
  {
   "cell_type": "code",
   "execution_count": null,
   "metadata": {},
   "outputs": [],
   "source": [
    "## plot TDF$cells to see if its order\n",
    "plot(TDF$cellids)"
   ]
  },
  {
   "cell_type": "code",
   "execution_count": null,
   "metadata": {},
   "outputs": [],
   "source": []
  },
  {
   "cell_type": "raw",
   "metadata": {},
   "source": [
    "## UNcomment if using non na data\n",
    "#sam_idx_nan <- which(is.na(DataFrame$sample))\n",
    "\n",
    "nprobpres <- rep(NA,length(DataFrame))\n",
    "nprob_pps <- rep(NA,length(DataFrame))\n",
    "nprob_pss <- rep(NA,length(DataFrame))\n",
    "sam_idx_non_nan <- which(!is.na(DataFrame$sample))\n",
    "\n",
    "nprobpres[sam_idx_non_nan] <- probpres\n",
    "nprob_pps[sam_idx_non_nan] <- prob_pps\n",
    "nprob_pss[sam_idx_non_nan] <- prob_pss\n",
    "chain = cbind(TDF$cell_ids,nprobpres,nprob_pps,nprob_pss)"
   ]
  },
  {
   "cell_type": "code",
   "execution_count": null,
   "metadata": {},
   "outputs": [],
   "source": [
    "chain = cbind(TDF$cellids,probpres,prob_pps,prob_pss)\n",
    "file_ = '/outputs/presence_only_models/modelCAR_model2_fitted_multilevel.csv'\n",
    "write.csv(chain,file_)"
   ]
  },
  {
   "cell_type": "markdown",
   "metadata": {},
   "source": [
    "## Posterior análisis with a varying C $\\tau^2, \\sigma^2$ denominator"
   ]
  },
  {
   "cell_type": "code",
   "execution_count": 609,
   "metadata": {},
   "outputs": [],
   "source": [
    "# Read the file\n",
    "bfile = '/outputs/presence_only_models/joint-model2-benchmark-denominator.csv'\n",
    "res <- read.csv(bfile)"
   ]
  },
  {
   "cell_type": "code",
   "execution_count": 8,
   "metadata": {},
   "outputs": [
    {
     "data": {
      "image/png": "[encoded data removed]",
      "text/plain": [
       "plot without title"
      ]
     },
     "metadata": {},
     "output_type": "display_data"
    }
   ],
   "source": []
  },
  {
   "cell_type": "code",
   "execution_count": null,
   "metadata": {},
   "outputs": [],
   "source": []
  }
 ],
 "metadata": {
  "kernelspec": {
   "display_name": "R",
   "language": "R",
   "name": "ir"
  },
  "language_info": {
   "codemirror_mode": "r",
   "file_extension": ".r",
   "mimetype": "text/x-r-source",
   "name": "R",
   "pygments_lexer": "r",
   "version": "3.5.1"
  }
 },
 "nbformat": 4,
 "nbformat_minor": 2
}
