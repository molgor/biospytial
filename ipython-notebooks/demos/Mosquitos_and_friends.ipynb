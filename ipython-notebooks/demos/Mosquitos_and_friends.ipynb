{
 "cells": [
  {
   "cell_type": "code",
   "execution_count": 1,
   "metadata": {
    "collapsed": true
   },
   "outputs": [],
   "source": [
    "## Import modules and libraries\n",
    "%matplotlib inline\n",
    "import sys\n",
    "sys.path.append('/apps')\n",
    "import django\n",
    "django.setup()\n",
    "import numpy as np\n",
    "import matplotlib.pyplot as plt"
   ]
  },
  {
   "cell_type": "markdown",
   "metadata": {},
   "source": [
    "# Mosquitos, the environment and related species"
   ]
  },
  {
   "cell_type": "markdown",
   "metadata": {},
   "source": [
    "<img src=\"mosquito2.jpg\" alt=\"Drawing\" style=\"width: 500px;\"/>"
   ]
  },
  {
   "cell_type": "markdown",
   "metadata": {},
   "source": [
    "## Load Biospytial Modules"
   ]
  },
  {
   "cell_type": "code",
   "execution_count": 2,
   "metadata": {
    "collapsed": true
   },
   "outputs": [],
   "source": [
    "## Import modules\n",
    "from drivers.tree_builder import TreeNeo\n",
    "from drivers.graph_models import Order, Family, graph, pickNode\n",
    "from traversals.strategies import sumTrees, UniformRandomSampleForest"
   ]
  },
  {
   "cell_type": "markdown",
   "metadata": {},
   "source": [
    "## Let´s pick the Mosquito Node\n",
    "Remember that Mosquitos are all from the Family *Culicidae*\n",
    "<img src=\"mosquito3.jpg\" alt=\"taken from: http://www.insectsexplained.com/11Diptera.htm\" style=\"width: 500px;\"/>"
   ]
  },
  {
   "cell_type": "code",
   "execution_count": 3,
   "metadata": {
    "collapsed": false
   },
   "outputs": [],
   "source": [
    "mosquitos = pickNode(Family,\"Culicidae\")"
   ]
  },
  {
   "cell_type": "code",
   "execution_count": null,
   "metadata": {
    "collapsed": true
   },
   "outputs": [],
   "source": []
  },
  {
   "cell_type": "code",
   "execution_count": 4,
   "metadata": {
    "collapsed": false
   },
   "outputs": [
    {
     "name": "stdout",
     "output_type": "stream",
     "text": [
      "CPU times: user 50 ms, sys: 10 ms, total: 60 ms\n",
      "Wall time: 77.2 ms\n"
     ]
    }
   ],
   "source": [
    "%time cells = list(mosquitos.cells)"
   ]
  },
  {
   "cell_type": "code",
   "execution_count": 5,
   "metadata": {
    "collapsed": false
   },
   "outputs": [
    {
     "data": {
      "text/plain": [
       "[< Cell-mex4km id = 233170 >,\n",
       " < Cell-mex4km id = 235798 >,\n",
       " < Cell-mex4km id = 233782 >,\n",
       " < Cell-mex4km id = 216146 >,\n",
       " < Cell-mex4km id = 258520 >,\n",
       " < Cell-mex4km id = 233575 >,\n",
       " < Cell-mex4km id = 236040 >,\n",
       " < Cell-mex4km id = 236284 >,\n",
       " < Cell-mex4km id = 265767 >,\n",
       " < Cell-mex4km id = 236531 >]"
      ]
     },
     "execution_count": 5,
     "metadata": {},
     "output_type": "execute_result"
    }
   ],
   "source": [
    "cells"
   ]
  },
  {
   "cell_type": "code",
   "execution_count": 6,
   "metadata": {
    "collapsed": true
   },
   "outputs": [],
   "source": [
    "neighbours = map(lambda cell : cell.getNeighbours(),cells)"
   ]
  },
  {
   "cell_type": "code",
   "execution_count": 7,
   "metadata": {
    "collapsed": false
   },
   "outputs": [
    {
     "data": {
      "text/plain": [
       "[[< Cell-mex4km id = 233169 >,\n",
       "  < Cell-mex4km id = 233171 >,\n",
       "  < Cell-mex4km id = 233364 >,\n",
       "  < Cell-mex4km id = 232986 >,\n",
       "  < Cell-mex4km id = 233170 >],\n",
       " [< Cell-mex4km id = 235557 >,\n",
       "  < Cell-mex4km id = 235799 >,\n",
       "  < Cell-mex4km id = 235798 >],\n",
       " [< Cell-mex4km id = 233576 >,\n",
       "  < Cell-mex4km id = 233999 >,\n",
       "  < Cell-mex4km id = 233781 >,\n",
       "  < Cell-mex4km id = 233783 >,\n",
       "  < Cell-mex4km id = 233782 >],\n",
       " [< Cell-mex4km id = 215858 >,\n",
       "  < Cell-mex4km id = 216432 >,\n",
       "  < Cell-mex4km id = 216145 >,\n",
       "  < Cell-mex4km id = 216147 >,\n",
       "  < Cell-mex4km id = 216146 >],\n",
       " [< Cell-mex4km id = 258519 >,\n",
       "  < Cell-mex4km id = 258756 >,\n",
       "  < Cell-mex4km id = 258282 >,\n",
       "  < Cell-mex4km id = 258521 >,\n",
       "  < Cell-mex4km id = 258520 >],\n",
       " [< Cell-mex4km id = 233574 >,\n",
       "  < Cell-mex4km id = 233373 >,\n",
       "  < Cell-mex4km id = 233781 >,\n",
       "  < Cell-mex4km id = 233576 >,\n",
       "  < Cell-mex4km id = 233575 >],\n",
       " [< Cell-mex4km id = 236040 >],\n",
       " [< Cell-mex4km id = 236040 >,\n",
       "  < Cell-mex4km id = 236285 >,\n",
       "  < Cell-mex4km id = 236284 >],\n",
       " [< Cell-mex4km id = 265572 >,\n",
       "  < Cell-mex4km id = 265959 >,\n",
       "  < Cell-mex4km id = 265766 >,\n",
       "  < Cell-mex4km id = 265768 >,\n",
       "  < Cell-mex4km id = 265767 >],\n",
       " [< Cell-mex4km id = 236775 >,\n",
       "  < Cell-mex4km id = 236287 >,\n",
       "  < Cell-mex4km id = 236530 >,\n",
       "  < Cell-mex4km id = 236532 >,\n",
       "  < Cell-mex4km id = 236531 >]]"
      ]
     },
     "execution_count": 7,
     "metadata": {},
     "output_type": "execute_result"
    }
   ],
   "source": [
    "neighbours"
   ]
  },
  {
   "cell_type": "code",
   "execution_count": 8,
   "metadata": {
    "collapsed": false
   },
   "outputs": [],
   "source": [
    "neighbouring_cells = reduce(lambda a,b : a+b ,neighbours)"
   ]
  },
  {
   "cell_type": "code",
   "execution_count": 9,
   "metadata": {
    "collapsed": false
   },
   "outputs": [
    {
     "data": {
      "text/plain": [
       "[< Cell-mex4km id = 233169 >,\n",
       " < Cell-mex4km id = 233171 >,\n",
       " < Cell-mex4km id = 233364 >,\n",
       " < Cell-mex4km id = 232986 >,\n",
       " < Cell-mex4km id = 233170 >,\n",
       " < Cell-mex4km id = 235557 >,\n",
       " < Cell-mex4km id = 235799 >,\n",
       " < Cell-mex4km id = 235798 >,\n",
       " < Cell-mex4km id = 233576 >,\n",
       " < Cell-mex4km id = 233999 >,\n",
       " < Cell-mex4km id = 233781 >,\n",
       " < Cell-mex4km id = 233783 >,\n",
       " < Cell-mex4km id = 233782 >,\n",
       " < Cell-mex4km id = 215858 >,\n",
       " < Cell-mex4km id = 216432 >,\n",
       " < Cell-mex4km id = 216145 >,\n",
       " < Cell-mex4km id = 216147 >,\n",
       " < Cell-mex4km id = 216146 >,\n",
       " < Cell-mex4km id = 258519 >,\n",
       " < Cell-mex4km id = 258756 >,\n",
       " < Cell-mex4km id = 258282 >,\n",
       " < Cell-mex4km id = 258521 >,\n",
       " < Cell-mex4km id = 258520 >,\n",
       " < Cell-mex4km id = 233574 >,\n",
       " < Cell-mex4km id = 233373 >,\n",
       " < Cell-mex4km id = 233781 >,\n",
       " < Cell-mex4km id = 233576 >,\n",
       " < Cell-mex4km id = 233575 >,\n",
       " < Cell-mex4km id = 236040 >,\n",
       " < Cell-mex4km id = 236040 >,\n",
       " < Cell-mex4km id = 236285 >,\n",
       " < Cell-mex4km id = 236284 >,\n",
       " < Cell-mex4km id = 265572 >,\n",
       " < Cell-mex4km id = 265959 >,\n",
       " < Cell-mex4km id = 265766 >,\n",
       " < Cell-mex4km id = 265768 >,\n",
       " < Cell-mex4km id = 265767 >,\n",
       " < Cell-mex4km id = 236775 >,\n",
       " < Cell-mex4km id = 236287 >,\n",
       " < Cell-mex4km id = 236530 >,\n",
       " < Cell-mex4km id = 236532 >,\n",
       " < Cell-mex4km id = 236531 >]"
      ]
     },
     "execution_count": 9,
     "metadata": {},
     "output_type": "execute_result"
    }
   ],
   "source": [
    "neighbouring_cells"
   ]
  },
  {
   "cell_type": "code",
   "execution_count": 10,
   "metadata": {
    "collapsed": true
   },
   "outputs": [],
   "source": [
    "## Remove repetitions\n",
    "neighbours = list(set(neighbouring_cells))"
   ]
  },
  {
   "cell_type": "code",
   "execution_count": 11,
   "metadata": {
    "collapsed": false
   },
   "outputs": [
    {
     "data": {
      "text/plain": [
       "39"
      ]
     },
     "execution_count": 11,
     "metadata": {},
     "output_type": "execute_result"
    }
   ],
   "source": [
    "len(neighbours)"
   ]
  },
  {
   "cell_type": "code",
   "execution_count": 12,
   "metadata": {
    "collapsed": false
   },
   "outputs": [],
   "source": [
    "sample = UniformRandomSampleForest(neighbours,size=5)"
   ]
  },
  {
   "cell_type": "code",
   "execution_count": 13,
   "metadata": {
    "collapsed": false
   },
   "outputs": [
    {
     "name": "stdout",
     "output_type": "stream",
     "text": [
      "CPU times: user 39.1 s, sys: 1.29 s, total: 40.4 s\n",
      "Wall time: 44.4 s\n"
     ]
    }
   ],
   "source": [
    "%time sample_trees = list(sample)"
   ]
  },
  {
   "cell_type": "markdown",
   "metadata": {},
   "source": [
    "#### Wait.. wait..\n",
    "<img src=\"clock.png\" alt=\"Drawing\" style=\"width: 100px;\"/>\n",
    "<a href=\"http://www.youtube.com/watch?feature=player_embedded&v=IkdmOVejUlI\n",
    "\" target=\"_blank\"><img src=\"http://img.youtube.com/vi/IkdmOVejUlI/0.jpg\" \n",
    "alt=\"Waiting music\" width=\"10\" height=\"10\" border=\"10\" /></a>"
   ]
  },
  {
   "cell_type": "markdown",
   "metadata": {},
   "source": [
    "## Explore the nodes !"
   ]
  },
  {
   "cell_type": "code",
   "execution_count": 14,
   "metadata": {
    "collapsed": false
   },
   "outputs": [],
   "source": [
    "t1 = sample_trees[0]"
   ]
  },
  {
   "cell_type": "code",
   "execution_count": 15,
   "metadata": {
    "collapsed": false
   },
   "outputs": [
    {
     "data": {
      "text/plain": [
       "<LocalTree | Kingdom: Plantae - n.count : 96- | AF: 0.05 >"
      ]
     },
     "execution_count": 15,
     "metadata": {},
     "output_type": "execute_result"
    }
   ],
   "source": [
    "t1.to_Plantae"
   ]
  },
  {
   "cell_type": "markdown",
   "metadata": {},
   "source": [
    "## By Nodes"
   ]
  },
  {
   "cell_type": "code",
   "execution_count": null,
   "metadata": {
    "collapsed": false
   },
   "outputs": [],
   "source": []
  },
  {
   "cell_type": "markdown",
   "metadata": {},
   "source": [
    "## By Families, Species, Genera, etc"
   ]
  },
  {
   "cell_type": "code",
   "execution_count": 16,
   "metadata": {
    "collapsed": false
   },
   "outputs": [
    {
     "data": {
      "text/plain": [
       "[<LocalTree | Specie: Downeshelea multilineata (Lutz, 1914) - n.count : 1- | AF: 0.05 >,\n",
       " <LocalTree | Specie: Culicoides furens (Poey, 1853) - n.count : 6- | AF: 0.05 >,\n",
       " <LocalTree | Specie: Culicoides arubae Fox & Hoffman, 1944 - n.count : 2- | AF: 0.05 >,\n",
       " <LocalTree | Specie: Forcipomyia calcarata (Coquillett, 1905) - n.count : 2- | AF: 0.05 >,\n",
       " <LocalTree | Specie: Forcipomyia floridensis Dow & Wirth, 1972 - n.count : 1- | AF: 0.05 >,\n",
       " <LocalTree | Specie: Forcipomyia fuliginosa (Meigen, 1818) - n.count : 1- | AF: 0.05 >,\n",
       " <LocalTree | Specie: Brachypogon fuscivenosus (Lutz, 1914) - n.count : 5- | AF: 0.05 >,\n",
       " <LocalTree | Specie: Atrichopogon fusculus (Coquillett, 1901) - n.count : 13- | AF: 0.05 >,\n",
       " <LocalTree | Specie: Bezzia gibbera (Coquillett, 1905) - n.count : 2- | AF: 0.05 >,\n",
       " <LocalTree | Specie: Wyeomyia mitchellii (Theobald, 1905) - n.count : 4- | AF: 0.05 >,\n",
       " <LocalTree | Specie: Psorophora ciliata (Fabricius, 1794) - n.count : 3- | AF: 0.05 >,\n",
       " <LocalTree | Specie: Leptodactylus melanonotus (Hallowell, 1861) - n.count : 1- | AF: 0.05 >,\n",
       " <LocalTree | Specie: Phrynohyas venulosa (Laurenti, 1768) - n.count : 2- | AF: 0.05 >,\n",
       " <LocalTree | Specie: Urocyon cinereoargenteus fraterculus Elliot, 1896 - n.count : 1- | AF: 0.05 >,\n",
       " <LocalTree | Specie: Peromyscus yucatanicus J. A. Allen & Chapman, 1897 - n.count : 2- | AF: 0.05 >,\n",
       " <LocalTree | Specie: Didelphis virginiana yucatanensis J. A. Allen, 1901 - n.count : 6- | AF: 0.05 >,\n",
       " <LocalTree | No record available: - n.count : 1- >,\n",
       " <LocalTree | Specie: Drymobius margaritiferus Schlegel, 1837 - n.count : 1- | AF: 0.05 >,\n",
       " <LocalTree | Specie: Ctenosaura similis Gray, 1831 - n.count : 1- | AF: 0.05 >,\n",
       " <LocalTree | Specie: Laemanctus serratus Cope, 1864 - n.count : 1- | AF: 0.05 >,\n",
       " <LocalTree | Specie: Cnemidophorus angusticeps Cope, 1878 - n.count : 3- | AF: 0.05 >,\n",
       " <LocalTree | Specie: Colinus nigrogularis (Gould, 1843) - n.count : 2- | AF: 0.05 >,\n",
       " <LocalTree | Specie: Eumomota superciliosa (Sandbach, 1837) - n.count : 4- | AF: 0.05 >,\n",
       " <LocalTree | Specie: Archilochus colubris (Linnaeus, 1758) - n.count : 1- | AF: 0.05 >,\n",
       " <LocalTree | Specie: Amazilia rutila (Delattre, 1843) - n.count : 2- | AF: 0.05 >,\n",
       " <LocalTree | Specie: Doricha eliza (Lesson & Delattre, 1839) - n.count : 3- | AF: 0.05 >,\n",
       " <LocalTree | Specie: Picoides scalaris (Wagler, 1829) - n.count : 4- | AF: 0.05 >,\n",
       " <LocalTree | Specie: Melanerpes pygmaeus (Ridgway, 1885) - n.count : 2- | AF: 0.05 >,\n",
       " <LocalTree | Specie: Melanerpes aurifrons (Wagler, 1829) - n.count : 2- | AF: 0.05 >,\n",
       " <LocalTree | Specie: Aratinga nana (Vigors, 1830) - n.count : 2- | AF: 0.05 >,\n",
       " <LocalTree | Specie: Amazona albifrons (Sparrman, 1788) - n.count : 1- | AF: 0.05 >,\n",
       " <LocalTree | Specie: Fregata magnificens Mathews, 1914 - n.count : 1- | AF: 0.05 >,\n",
       " <LocalTree | Specie: Geranospiza caerulescens (Vieillot, 1817) - n.count : 1- | AF: 0.05 >,\n",
       " <LocalTree | Specie: Buteo lagopus (Pontoppidan, 1763) - n.count : 2- | AF: 0.05 >,\n",
       " <LocalTree | Specie: Butorides virescens (Linnaeus, 1758) - n.count : 1- | AF: 0.05 >,\n",
       " <LocalTree | Specie: Egretta caerulea (Linnaeus, 1758) - n.count : 2- | AF: 0.05 >,\n",
       " <LocalTree | Specie: Thalasseus maximus (Boddaert, 1783) - n.count : 1- | AF: 0.05 >,\n",
       " <LocalTree | Specie: Tringa flavipes (Gmelin, 1789) - n.count : 1- | AF: 0.05 >,\n",
       " <LocalTree | Specie: Calidris minutilla (Vieillot, 1819) - n.count : 1- | AF: 0.05 >,\n",
       " <LocalTree | Specie: Calidris pusilla (Linnaeus, 1766) - n.count : 1- | AF: 0.05 >,\n",
       " <LocalTree | Specie: Cathartes aura (Linnaeus, 1758) - n.count : 2- | AF: 0.05 >,\n",
       " <LocalTree | Specie: Coragyps atratus (Bechstein, 1793) - n.count : 1- | AF: 0.05 >,\n",
       " <LocalTree | Specie: Ortalis vetula (Wagler, 1830) - n.count : 1- | AF: 0.05 >,\n",
       " <LocalTree | Specie: Pitangus sulphuratus (Linnaeus, 1766) - n.count : 1- | AF: 0.05 >,\n",
       " <LocalTree | Specie: Tyrannus melancholicus Vieillot, 1819 - n.count : 2- | AF: 0.05 >,\n",
       " <LocalTree | Specie: Tyrannus couchii S. F. Baird, 1858 - n.count : 1- | AF: 0.05 >,\n",
       " <LocalTree | Specie: Tyrannus forficatus (Gmelin, 1789) - n.count : 1- | AF: 0.05 >,\n",
       " <LocalTree | Specie: Myiarchus yucatanensis Lawrence, 1871 - n.count : 1- | AF: 0.05 >,\n",
       " <LocalTree | Specie: Myiarchus tyrannulus (Statius Muller, 1776) - n.count : 2- | AF: 0.05 >,\n",
       " <LocalTree | Specie: Myiarchus crinitus (Linnaeus, 1758) - n.count : 1- | AF: 0.05 >,\n",
       " <LocalTree | Specie: Pyrocephalus rubinus (Boddaert, 1783) - n.count : 2- | AF: 0.05 >,\n",
       " <LocalTree | Specie: Quiscalus mexicanus (Gmelin, 1788) - n.count : 2- | AF: 0.05 >,\n",
       " <LocalTree | Specie: Icterus auratus Bonaparte, 1850 - n.count : 2- | AF: 0.05 >,\n",
       " <LocalTree | Specie: Icterus gularis (Wagler, 1829) - n.count : 3- | AF: 0.05 >,\n",
       " <LocalTree | Specie: Molothrus aeneus (Wagler, 1829) - n.count : 2- | AF: 0.05 >,\n",
       " <LocalTree | Specie: Vireo griseus (Boddaert, 1783) - n.count : 1- | AF: 0.05 >,\n",
       " <LocalTree | Specie: Vireo pallens Salvin, 1863 - n.count : 2- | AF: 0.05 >,\n",
       " <LocalTree | Specie: Polioptila caerulea (Linnaeus, 1766) - n.count : 3- | AF: 0.05 >,\n",
       " <LocalTree | Specie: Progne chalybea (J. F. Gmelin, 1789) - n.count : 1- | AF: 0.05 >,\n",
       " <LocalTree | Specie: Hirundo rustica Linnaeus, 1758 - n.count : 2- | AF: 0.05 >,\n",
       " <LocalTree | Specie: Geothlypis poliocephala S. F. Baird, 1865 - n.count : 1- | AF: 0.05 >,\n",
       " <LocalTree | Specie: Setophaga americana - n.count : 1- | AF: 0.05 >,\n",
       " <LocalTree | Specie: Setophaga citrina - n.count : 1- | AF: 0.05 >,\n",
       " <LocalTree | Specie: Setophaga palmarum - n.count : 2- | AF: 0.05 >,\n",
       " <LocalTree | Specie: Setophaga petechia - n.count : 1- | AF: 0.05 >,\n",
       " <LocalTree | Specie: Cardinalis cardinalis (Linnaeus, 1758) - n.count : 1- | AF: 0.05 >,\n",
       " <LocalTree | Specie: Turdus grayi Bonaparte, 1838 - n.count : 1- | AF: 0.05 >,\n",
       " <LocalTree | Specie: Volatinia jacarina (Linnaeus, 1766) - n.count : 2- | AF: 0.05 >,\n",
       " <LocalTree | Specie: Spizella pallida (Swainson, 1832) - n.count : 1- | AF: 0.05 >,\n",
       " <LocalTree | Specie: Campylorhynchus yucatanicus (Hellmayr, 1934) - n.count : 6- | AF: 0.05 >,\n",
       " <LocalTree | Specie: Mimus gilvus (Vieillot, 1808) - n.count : 4- | AF: 0.05 >,\n",
       " <LocalTree | Specie: Patagioenas flavirostris (Wagler, 1831) - n.count : 1- | AF: 0.05 >,\n",
       " <LocalTree | Specie: Zenaida asiatica (Linnaeus, 1758) - n.count : 1- | AF: 0.05 >,\n",
       " <LocalTree | Specie: Streptopelia decaocto (Frivaldszky, 1838) - n.count : 1- | AF: 0.05 >,\n",
       " <LocalTree | Specie: Columbina talpacoti (Temminck, 1810) - n.count : 2- | AF: 0.05 >,\n",
       " <LocalTree | Specie: Columbina passerina (Linnaeus, 1758) - n.count : 2- | AF: 0.05 >,\n",
       " <LocalTree | Specie: Crotophaga sulcirostris Swainson, 1827 - n.count : 2- | AF: 0.05 >,\n",
       " <LocalTree | Specie: Piaya cayana (Linnaeus, 1766) - n.count : 1- | AF: 0.05 >,\n",
       " <LocalTree | Specie: Geococcyx velox (Wagner, 1836) - n.count : 2- | AF: 0.05 >,\n",
       " <LocalTree | Specie: Trogon melanocephalus Gould, 1836 - n.count : 1- | AF: 0.05 >,\n",
       " <LocalTree | Specie: Nyctidromus albicollis (Gmelin, 1789) - n.count : 1- | AF: 0.05 >,\n",
       " <LocalTree | Specie: Glaucidium brasilianum (Gmelin, 1788) - n.count : 1- | AF: 0.05 >,\n",
       " <LocalTree | Specie: Dendrocygna autumnalis (Linnaeus, 1758) - n.count : 1- | AF: 0.05 >,\n",
       " <LocalTree | Specie: Typha domingensis Pers. - n.count : 1- | AF: 0.05 >,\n",
       " <LocalTree | Specie: Beaucarnea pliabilis (Baker) Rose - n.count : 5- | AF: 0.05 >,\n",
       " <LocalTree | Specie: Schomburgkia tibicinis (Bateman ex Lindl.) Bateman - n.count : 1- | AF: 0.05 >,\n",
       " <LocalTree | Specie: Echinodorus berteroi (Spreng.) Fassett - n.count : 1- | AF: 0.05 >,\n",
       " <LocalTree | Specie: Anthurium schlechtendalii subsp. jimenezii - n.count : 1- | AF: 0.05 >,\n",
       " <LocalTree | Specie: Passiflora ciliata Aiton - n.count : 1- | AF: 0.05 >,\n",
       " <LocalTree | Specie: Ocimum campechianum Mill. - n.count : 1- | AF: 0.05 >,\n",
       " <LocalTree | Specie: Sideroxylon americanum (Mill.) T.D.Penn. - n.count : 2- | AF: 0.05 >,\n",
       " <LocalTree | Specie: Justicia carthaginensis Jacq. - n.count : 1- | AF: 0.05 >,\n",
       " <LocalTree | Specie: Chiococca alba (L.) Hitchc. - n.count : 1- | AF: 0.05 >,\n",
       " <LocalTree | Specie: Lantana urticifolia Mill. - n.count : 1- | AF: 0.05 >,\n",
       " <LocalTree | Specie: Lantana involucrata L. - n.count : 1- | AF: 0.05 >,\n",
       " <LocalTree | Specie: Heliotropium curassavicum L. - n.count : 3- | AF: 0.05 >,\n",
       " <LocalTree | Specie: Solanum houstonii Martyn - n.count : 2- | AF: 0.05 >,\n",
       " <LocalTree | Specie: Macroptilium lathyroides (L.) Urb. - n.count : 1- | AF: 0.05 >,\n",
       " <LocalTree | Specie: Rhynchosia minima (L.) DC. - n.count : 1- | AF: 0.05 >,\n",
       " <LocalTree | Specie: Senna pallida (Vahl) H.S.Irwin & Barneby - n.count : 1- | AF: 0.05 >,\n",
       " <LocalTree | Specie: Coursetia caribaea (Jacq.) Lavin - n.count : 2- | AF: 0.05 >,\n",
       " <LocalTree | Specie: Diphysa carthagenensis Jacq. - n.count : 2- | AF: 0.05 >,\n",
       " <LocalTree | Specie: Desmodium tortuosum (Sw.) DC. - n.count : 1- | AF: 0.05 >,\n",
       " <LocalTree | Specie: Mimosa distachya Cav. - n.count : 1- | AF: 0.05 >,\n",
       " <LocalTree | Specie: Prosopis juliflora (Sw.) DC. - n.count : 6- | AF: 0.05 >,\n",
       " <LocalTree | Specie: Indigofera jamaicensis Spreng. - n.count : 1- | AF: 0.05 >,\n",
       " <LocalTree | Specie: Chloroleucon ebano (Berland.) L.Rico - n.count : 3- | AF: 0.05 >,\n",
       " <LocalTree | Specie: Acacia gaumeri S.F.Blake - n.count : 10- | AF: 0.05 >,\n",
       " <LocalTree | Specie: Acacia pringlei Rose - n.count : 3- | AF: 0.05 >,\n",
       " <LocalTree | Specie: Acacia collinsii Saff. - n.count : 2- | AF: 0.05 >,\n",
       " <LocalTree | Specie: Galactia discolor Donn.Sm. - n.count : 1- | AF: 0.05 >,\n",
       " <LocalTree | Specie: Hyperbaena winzerlingii Standl. - n.count : 3- | AF: 0.05 >,\n",
       " <LocalTree | Specie: Colubrina elliptica (Sw.) Brizicky - n.count : 2- | AF: 0.05 >,\n",
       " <LocalTree | Specie: Euphorbia schlechtendalii Boiss. - n.count : 2- | AF: 0.05 >,\n",
       " <LocalTree | Specie: Enriquebeltrania crenatifolia (Miranda) Rzed. - n.count : 3- | AF: 0.05 >,\n",
       " <LocalTree | Specie: Stenocereus laevigatus (Salm-Dyck) Buxb. - n.count : 1- | AF: 0.05 >,\n",
       " <LocalTree | Specie: Stenocereus griseus (Haw.) Buxb. - n.count : 2- | AF: 0.05 >,\n",
       " <LocalTree | Specie: Sesuvium portulacastrum (L.) L. - n.count : 1- | AF: 0.05 >,\n",
       " <LocalTree | Specie: Neea choriophylla Standl. - n.count : 1- | AF: 0.05 >,\n",
       " <LocalTree | Specie: Borrichia arborescens (L) DC - n.count : 1- | AF: 0.05 >,\n",
       " <LocalTree | Specie: Conyza lyrata Kunth - n.count : 1- | AF: 0.05 >,\n",
       " <LocalTree | Specie: Pluchea carolinensis (Jacq.) G. Don - n.count : 1- | AF: 0.05 >,\n",
       " <LocalTree | Specie: Melochia tomentosa L. - n.count : 1- | AF: 0.05 >,\n",
       " <LocalTree | Specie: Abutilon permolle (Willd.) Sweet - n.count : 1- | AF: 0.05 >,\n",
       " <LocalTree | Specie: Vallesia antillana Woodson - n.count : 1- | AF: 0.05 >,\n",
       " <LocalTree | Specie: Conocarpus erectus L. - n.count : 2- | AF: 0.05 >,\n",
       " <LocalTree | Specie: Guaiacum sanctum L. - n.count : 2- | AF: 0.05 >,\n",
       " <LocalTree | Specie: Thouinia paucidentata Radlk. ex Millsp. - n.count : 2- | AF: 0.05 >,\n",
       " <LocalTree | Specie: Malpighia glabra L. - n.count : 2- | AF: 0.05 >,\n",
       " <LocalTree | Specie: Capparis cynophallophora L. - n.count : 1- | AF: 0.05 >,\n",
       " <LocalTree | Specie: Leucophaeus atricilla (Linnaeus, 1758) - n.count : 1- | AF: 0.05 >,\n",
       " <LocalTree | Specie: Passerculus sandwichensis (Gmelin, 1789) - n.count : 1- | AF: 0.05 >,\n",
       " <LocalTree | Specie: Bromelia pinguin L. - n.count : 1- | AF: 0.05 >,\n",
       " <LocalTree | Specie: Thevetia gaumeri Hemsl. - n.count : 2- | AF: 0.05 >,\n",
       " <LocalTree | Specie: Parkesia noveboracensis (Gmelin, 1789) - n.count : 1- | AF: 0.05 >,\n",
       " <LocalTree | Specie: Capparis flexuosa (L.) L. - n.count : 1- | AF: 0.05 >,\n",
       " <LocalTree | Specie: Metastelma schlechtendalii Chapm. - n.count : 2- | AF: 0.05 >,\n",
       " <LocalTree | Specie: Bakeridesia gaumeri (Standl.) D.M.Bates - n.count : 1- | AF: 0.05 >,\n",
       " <LocalTree | Specie: Hampea trilobata Standl. - n.count : 2- | AF: 0.05 >]"
      ]
     },
     "execution_count": 16,
     "metadata": {},
     "output_type": "execute_result"
    }
   ],
   "source": [
    "t1.species"
   ]
  },
  {
   "cell_type": "markdown",
   "metadata": {},
   "source": [
    "# Monoid operations"
   ]
  },
  {
   "cell_type": "code",
   "execution_count": 17,
   "metadata": {
    "collapsed": false
   },
   "outputs": [],
   "source": [
    "# Let\n",
    "t1, t2 = sample_trees[:2]"
   ]
  },
  {
   "cell_type": "code",
   "execution_count": 18,
   "metadata": {
    "collapsed": false
   },
   "outputs": [
    {
     "data": {
      "text/plain": [
       "[<LocalTree | Phylum: Chordata - n.count : 126- | AF: 0.05 >,\n",
       " <LocalTree | Phylum: Arthropoda - n.count : 40- | AF: 0.05 >,\n",
       " <LocalTree | Phylum: Magnoliophyta - n.count : 96- | AF: 0.05 >]"
      ]
     },
     "execution_count": 18,
     "metadata": {},
     "output_type": "execute_result"
    }
   ],
   "source": [
    "t1.phyla"
   ]
  },
  {
   "cell_type": "code",
   "execution_count": 19,
   "metadata": {
    "collapsed": false
   },
   "outputs": [
    {
     "data": {
      "text/plain": [
       "[<LocalTree | Phylum: Chordata - n.count : 1999- | AF: 0.05 >,\n",
       " <LocalTree | Phylum: Mollusca - n.count : 2- | AF: 0.05 >,\n",
       " <LocalTree | Phylum: Arthropoda - n.count : 69- | AF: 0.05 >,\n",
       " <LocalTree | Phylum: Ascomycota - n.count : 1- | AF: 0.05 >,\n",
       " <LocalTree | Phylum: Marchantiophyta - n.count : 3- | AF: 0.05 >,\n",
       " <LocalTree | Phylum: Bryophyta - n.count : 33- | AF: 0.05 >,\n",
       " <LocalTree | Phylum: Magnoliophyta - n.count : 80- | AF: 0.05 >,\n",
       " <LocalTree | Phylum: Pteridophyta - n.count : 2- | AF: 0.05 >,\n",
       " <LocalTree | Phylum: Pinophyta - n.count : 1- | AF: 0.05 >]"
      ]
     },
     "execution_count": 19,
     "metadata": {},
     "output_type": "execute_result"
    }
   ],
   "source": [
    "t2.phyla"
   ]
  },
  {
   "cell_type": "markdown",
   "metadata": {},
   "source": [
    "## Sum"
   ]
  },
  {
   "cell_type": "code",
   "execution_count": 20,
   "metadata": {
    "collapsed": false
   },
   "outputs": [
    {
     "name": "stderr",
     "output_type": "stream",
     "text": [
      "INFO Merging Trees\n"
     ]
    },
    {
     "data": {
      "text/plain": [
       "<LocalTree Of Life | Root: LUCA - n.count : 2452- >"
      ]
     },
     "execution_count": 20,
     "metadata": {},
     "output_type": "execute_result"
    }
   ],
   "source": [
    "t1 + t2 "
   ]
  },
  {
   "cell_type": "markdown",
   "metadata": {},
   "source": [
    "### Folding (*Integrate* ) the regional tree"
   ]
  },
  {
   "cell_type": "code",
   "execution_count": 21,
   "metadata": {
    "collapsed": false
   },
   "outputs": [
    {
     "name": "stderr",
     "output_type": "stream",
     "text": [
      "INFO Merging Trees\n",
      "INFO Merging Trees\n",
      "INFO Merging Trees\n",
      "INFO Merging Trees\n"
     ]
    }
   ],
   "source": [
    "big_t = reduce(lambda a , b : a+b , sample_trees)"
   ]
  },
  {
   "cell_type": "code",
   "execution_count": 22,
   "metadata": {
    "collapsed": false
   },
   "outputs": [
    {
     "data": {
      "text/plain": [
       "<LocalTree Of Life | Root: LUCA - n.count : 4946- >"
      ]
     },
     "execution_count": 22,
     "metadata": {},
     "output_type": "execute_result"
    }
   ],
   "source": [
    "big_t"
   ]
  },
  {
   "cell_type": "markdown",
   "metadata": {},
   "source": [
    "# Tree subselections "
   ]
  },
  {
   "cell_type": "code",
   "execution_count": 23,
   "metadata": {
    "collapsed": true
   },
   "outputs": [],
   "source": [
    "mammals = big_t.to_Animalia.to_Chordata.to_Mammalia.plantTreeNode()"
   ]
  },
  {
   "cell_type": "code",
   "execution_count": 24,
   "metadata": {
    "collapsed": false
   },
   "outputs": [
    {
     "data": {
      "text/plain": [
       "<LocalTree Of Life | Root: LUCA - n.count : 320- >"
      ]
     },
     "execution_count": 24,
     "metadata": {},
     "output_type": "execute_result"
    }
   ],
   "source": [
    "mammals"
   ]
  },
  {
   "cell_type": "markdown",
   "metadata": {},
   "source": [
    "# Get (Raster) Environmental Information"
   ]
  },
  {
   "cell_type": "code",
   "execution_count": 25,
   "metadata": {
    "collapsed": false
   },
   "outputs": [],
   "source": [
    "table = mammals.associatedData.getEnvironmentalVariablesPoints()"
   ]
  },
  {
   "cell_type": "code",
   "execution_count": 26,
   "metadata": {
    "collapsed": false
   },
   "outputs": [
    {
     "data": {
      "text/html": [
       "<div>\n",
       "<table border=\"1\" class=\"dataframe\">\n",
       "  <thead>\n",
       "    <tr style=\"text-align: right;\">\n",
       "      <th></th>\n",
       "      <th>MaxTemperature_mean</th>\n",
       "      <th>MaxTemperature_std</th>\n",
       "      <th>MeanTemperature_mean</th>\n",
       "      <th>MeanTemperature_std</th>\n",
       "      <th>MinTemperature_mean</th>\n",
       "      <th>MinTemperature_std</th>\n",
       "      <th>Precipitation_mean</th>\n",
       "      <th>Precipitation_std</th>\n",
       "      <th>Vapor_mean</th>\n",
       "      <th>Vapor_std</th>\n",
       "      <th>SolarRadiation_mean</th>\n",
       "      <th>SolarRadiation_std</th>\n",
       "      <th>WindSpeed_mean</th>\n",
       "      <th>WindSpeed_std</th>\n",
       "      <th>x</th>\n",
       "      <th>y</th>\n",
       "    </tr>\n",
       "  </thead>\n",
       "  <tbody>\n",
       "    <tr>\n",
       "      <th>0</th>\n",
       "      <td>20.333333</td>\n",
       "      <td>1.795055</td>\n",
       "      <td>25.750000</td>\n",
       "      <td>1.689428</td>\n",
       "      <td>31.416667</td>\n",
       "      <td>1.656217</td>\n",
       "      <td>62.416667</td>\n",
       "      <td>32.643168</td>\n",
       "      <td>2.500000</td>\n",
       "      <td>0.500000</td>\n",
       "      <td>17884.000000</td>\n",
       "      <td>2786.078875</td>\n",
       "      <td>3.500000</td>\n",
       "      <td>0.500000</td>\n",
       "      <td>-92.6400</td>\n",
       "      <td>16.74200</td>\n",
       "    </tr>\n",
       "    <tr>\n",
       "      <th>1</th>\n",
       "      <td>20.333333</td>\n",
       "      <td>1.795055</td>\n",
       "      <td>25.833333</td>\n",
       "      <td>1.724013</td>\n",
       "      <td>31.416667</td>\n",
       "      <td>1.656217</td>\n",
       "      <td>64.083333</td>\n",
       "      <td>33.452599</td>\n",
       "      <td>2.500000</td>\n",
       "      <td>0.500000</td>\n",
       "      <td>17780.916667</td>\n",
       "      <td>2735.097209</td>\n",
       "      <td>3.500000</td>\n",
       "      <td>0.500000</td>\n",
       "      <td>-92.6780</td>\n",
       "      <td>16.75800</td>\n",
       "    </tr>\n",
       "    <tr>\n",
       "      <th>2</th>\n",
       "      <td>20.333333</td>\n",
       "      <td>1.795055</td>\n",
       "      <td>25.833333</td>\n",
       "      <td>1.724013</td>\n",
       "      <td>31.416667</td>\n",
       "      <td>1.656217</td>\n",
       "      <td>64.083333</td>\n",
       "      <td>33.452599</td>\n",
       "      <td>2.500000</td>\n",
       "      <td>0.500000</td>\n",
       "      <td>17780.916667</td>\n",
       "      <td>2735.097209</td>\n",
       "      <td>3.500000</td>\n",
       "      <td>0.500000</td>\n",
       "      <td>-92.6780</td>\n",
       "      <td>16.75800</td>\n",
       "    </tr>\n",
       "    <tr>\n",
       "      <th>3</th>\n",
       "      <td>NaN</td>\n",
       "      <td>0.000000</td>\n",
       "      <td>NaN</td>\n",
       "      <td>0.000000</td>\n",
       "      <td>NaN</td>\n",
       "      <td>0.000000</td>\n",
       "      <td>NaN</td>\n",
       "      <td>0.000000</td>\n",
       "      <td>NaN</td>\n",
       "      <td>0.000000</td>\n",
       "      <td>NaN</td>\n",
       "      <td>0.000000</td>\n",
       "      <td>NaN</td>\n",
       "      <td>0.000000</td>\n",
       "      <td>-88.1420</td>\n",
       "      <td>21.57200</td>\n",
       "    </tr>\n",
       "    <tr>\n",
       "      <th>4</th>\n",
       "      <td>20.333333</td>\n",
       "      <td>1.795055</td>\n",
       "      <td>25.833333</td>\n",
       "      <td>1.724013</td>\n",
       "      <td>31.416667</td>\n",
       "      <td>1.656217</td>\n",
       "      <td>64.083333</td>\n",
       "      <td>33.452599</td>\n",
       "      <td>2.500000</td>\n",
       "      <td>0.500000</td>\n",
       "      <td>17780.916667</td>\n",
       "      <td>2735.097209</td>\n",
       "      <td>3.500000</td>\n",
       "      <td>0.500000</td>\n",
       "      <td>-92.6330</td>\n",
       "      <td>16.75000</td>\n",
       "    </tr>\n",
       "    <tr>\n",
       "      <th>5</th>\n",
       "      <td>20.333333</td>\n",
       "      <td>1.795055</td>\n",
       "      <td>25.833333</td>\n",
       "      <td>1.724013</td>\n",
       "      <td>31.416667</td>\n",
       "      <td>1.656217</td>\n",
       "      <td>64.083333</td>\n",
       "      <td>33.452599</td>\n",
       "      <td>2.500000</td>\n",
       "      <td>0.500000</td>\n",
       "      <td>17780.916667</td>\n",
       "      <td>2735.097209</td>\n",
       "      <td>3.500000</td>\n",
       "      <td>0.500000</td>\n",
       "      <td>-92.6330</td>\n",
       "      <td>16.75000</td>\n",
       "    </tr>\n",
       "    <tr>\n",
       "      <th>6</th>\n",
       "      <td>20.333333</td>\n",
       "      <td>1.795055</td>\n",
       "      <td>25.833333</td>\n",
       "      <td>1.724013</td>\n",
       "      <td>31.416667</td>\n",
       "      <td>1.656217</td>\n",
       "      <td>64.083333</td>\n",
       "      <td>33.452599</td>\n",
       "      <td>2.500000</td>\n",
       "      <td>0.500000</td>\n",
       "      <td>17780.916667</td>\n",
       "      <td>2735.097209</td>\n",
       "      <td>3.500000</td>\n",
       "      <td>0.500000</td>\n",
       "      <td>-92.6520</td>\n",
       "      <td>16.74900</td>\n",
       "    </tr>\n",
       "    <tr>\n",
       "      <th>7</th>\n",
       "      <td>12.916667</td>\n",
       "      <td>4.609019</td>\n",
       "      <td>20.833333</td>\n",
       "      <td>4.740488</td>\n",
       "      <td>28.583333</td>\n",
       "      <td>4.768968</td>\n",
       "      <td>23.833333</td>\n",
       "      <td>20.061710</td>\n",
       "      <td>1.250000</td>\n",
       "      <td>0.433013</td>\n",
       "      <td>16799.583333</td>\n",
       "      <td>3423.108759</td>\n",
       "      <td>2.500000</td>\n",
       "      <td>0.500000</td>\n",
       "      <td>-92.6525</td>\n",
       "      <td>16.74944</td>\n",
       "    </tr>\n",
       "    <tr>\n",
       "      <th>8</th>\n",
       "      <td>12.916667</td>\n",
       "      <td>4.609019</td>\n",
       "      <td>20.833333</td>\n",
       "      <td>4.740488</td>\n",
       "      <td>28.583333</td>\n",
       "      <td>4.768968</td>\n",
       "      <td>23.833333</td>\n",
       "      <td>20.061710</td>\n",
       "      <td>1.250000</td>\n",
       "      <td>0.433013</td>\n",
       "      <td>16799.583333</td>\n",
       "      <td>3423.108759</td>\n",
       "      <td>2.500000</td>\n",
       "      <td>0.500000</td>\n",
       "      <td>-92.6500</td>\n",
       "      <td>16.76500</td>\n",
       "    </tr>\n",
       "    <tr>\n",
       "      <th>9</th>\n",
       "      <td>20.333333</td>\n",
       "      <td>1.795055</td>\n",
       "      <td>25.750000</td>\n",
       "      <td>1.689428</td>\n",
       "      <td>31.416667</td>\n",
       "      <td>1.656217</td>\n",
       "      <td>62.416667</td>\n",
       "      <td>32.643168</td>\n",
       "      <td>2.500000</td>\n",
       "      <td>0.500000</td>\n",
       "      <td>17884.000000</td>\n",
       "      <td>2786.078875</td>\n",
       "      <td>3.500000</td>\n",
       "      <td>0.500000</td>\n",
       "      <td>-92.6330</td>\n",
       "      <td>16.75000</td>\n",
       "    </tr>\n",
       "    <tr>\n",
       "      <th>10</th>\n",
       "      <td>20.333333</td>\n",
       "      <td>1.795055</td>\n",
       "      <td>25.750000</td>\n",
       "      <td>1.689428</td>\n",
       "      <td>31.416667</td>\n",
       "      <td>1.656217</td>\n",
       "      <td>62.416667</td>\n",
       "      <td>32.643168</td>\n",
       "      <td>2.500000</td>\n",
       "      <td>0.500000</td>\n",
       "      <td>17884.000000</td>\n",
       "      <td>2786.078875</td>\n",
       "      <td>3.500000</td>\n",
       "      <td>0.500000</td>\n",
       "      <td>-92.6330</td>\n",
       "      <td>16.75000</td>\n",
       "    </tr>\n",
       "    <tr>\n",
       "      <th>11</th>\n",
       "      <td>13.416667</td>\n",
       "      <td>4.974239</td>\n",
       "      <td>21.166667</td>\n",
       "      <td>4.997221</td>\n",
       "      <td>29.333333</td>\n",
       "      <td>5.005552</td>\n",
       "      <td>21.166667</td>\n",
       "      <td>16.481471</td>\n",
       "      <td>1.333333</td>\n",
       "      <td>0.471405</td>\n",
       "      <td>16708.916667</td>\n",
       "      <td>3412.480316</td>\n",
       "      <td>2.416667</td>\n",
       "      <td>0.493007</td>\n",
       "      <td>-92.6330</td>\n",
       "      <td>16.75000</td>\n",
       "    </tr>\n",
       "    <tr>\n",
       "      <th>12</th>\n",
       "      <td>13.416667</td>\n",
       "      <td>4.974239</td>\n",
       "      <td>21.166667</td>\n",
       "      <td>4.997221</td>\n",
       "      <td>29.333333</td>\n",
       "      <td>5.005552</td>\n",
       "      <td>21.166667</td>\n",
       "      <td>16.481471</td>\n",
       "      <td>1.333333</td>\n",
       "      <td>0.471405</td>\n",
       "      <td>16708.916667</td>\n",
       "      <td>3412.480316</td>\n",
       "      <td>2.416667</td>\n",
       "      <td>0.493007</td>\n",
       "      <td>-92.6330</td>\n",
       "      <td>16.75000</td>\n",
       "    </tr>\n",
       "    <tr>\n",
       "      <th>13</th>\n",
       "      <td>13.416667</td>\n",
       "      <td>4.974239</td>\n",
       "      <td>21.166667</td>\n",
       "      <td>4.997221</td>\n",
       "      <td>29.333333</td>\n",
       "      <td>5.005552</td>\n",
       "      <td>21.166667</td>\n",
       "      <td>16.481471</td>\n",
       "      <td>1.333333</td>\n",
       "      <td>0.471405</td>\n",
       "      <td>16708.916667</td>\n",
       "      <td>3412.480316</td>\n",
       "      <td>2.416667</td>\n",
       "      <td>0.493007</td>\n",
       "      <td>-92.6330</td>\n",
       "      <td>16.75000</td>\n",
       "    </tr>\n",
       "    <tr>\n",
       "      <th>14</th>\n",
       "      <td>13.416667</td>\n",
       "      <td>4.974239</td>\n",
       "      <td>21.166667</td>\n",
       "      <td>4.997221</td>\n",
       "      <td>29.333333</td>\n",
       "      <td>5.005552</td>\n",
       "      <td>21.166667</td>\n",
       "      <td>16.481471</td>\n",
       "      <td>1.333333</td>\n",
       "      <td>0.471405</td>\n",
       "      <td>16708.916667</td>\n",
       "      <td>3412.480316</td>\n",
       "      <td>2.416667</td>\n",
       "      <td>0.493007</td>\n",
       "      <td>-92.6330</td>\n",
       "      <td>16.75000</td>\n",
       "    </tr>\n",
       "  </tbody>\n",
       "</table>\n",
       "</div>"
      ],
      "text/plain": [
       "    MaxTemperature_mean  MaxTemperature_std  MeanTemperature_mean  \\\n",
       "0             20.333333            1.795055             25.750000   \n",
       "1             20.333333            1.795055             25.833333   \n",
       "2             20.333333            1.795055             25.833333   \n",
       "3                   NaN            0.000000                   NaN   \n",
       "4             20.333333            1.795055             25.833333   \n",
       "5             20.333333            1.795055             25.833333   \n",
       "6             20.333333            1.795055             25.833333   \n",
       "7             12.916667            4.609019             20.833333   \n",
       "8             12.916667            4.609019             20.833333   \n",
       "9             20.333333            1.795055             25.750000   \n",
       "10            20.333333            1.795055             25.750000   \n",
       "11            13.416667            4.974239             21.166667   \n",
       "12            13.416667            4.974239             21.166667   \n",
       "13            13.416667            4.974239             21.166667   \n",
       "14            13.416667            4.974239             21.166667   \n",
       "\n",
       "    MeanTemperature_std  MinTemperature_mean  MinTemperature_std  \\\n",
       "0              1.689428            31.416667            1.656217   \n",
       "1              1.724013            31.416667            1.656217   \n",
       "2              1.724013            31.416667            1.656217   \n",
       "3              0.000000                  NaN            0.000000   \n",
       "4              1.724013            31.416667            1.656217   \n",
       "5              1.724013            31.416667            1.656217   \n",
       "6              1.724013            31.416667            1.656217   \n",
       "7              4.740488            28.583333            4.768968   \n",
       "8              4.740488            28.583333            4.768968   \n",
       "9              1.689428            31.416667            1.656217   \n",
       "10             1.689428            31.416667            1.656217   \n",
       "11             4.997221            29.333333            5.005552   \n",
       "12             4.997221            29.333333            5.005552   \n",
       "13             4.997221            29.333333            5.005552   \n",
       "14             4.997221            29.333333            5.005552   \n",
       "\n",
       "    Precipitation_mean  Precipitation_std  Vapor_mean  Vapor_std  \\\n",
       "0            62.416667          32.643168    2.500000   0.500000   \n",
       "1            64.083333          33.452599    2.500000   0.500000   \n",
       "2            64.083333          33.452599    2.500000   0.500000   \n",
       "3                  NaN           0.000000         NaN   0.000000   \n",
       "4            64.083333          33.452599    2.500000   0.500000   \n",
       "5            64.083333          33.452599    2.500000   0.500000   \n",
       "6            64.083333          33.452599    2.500000   0.500000   \n",
       "7            23.833333          20.061710    1.250000   0.433013   \n",
       "8            23.833333          20.061710    1.250000   0.433013   \n",
       "9            62.416667          32.643168    2.500000   0.500000   \n",
       "10           62.416667          32.643168    2.500000   0.500000   \n",
       "11           21.166667          16.481471    1.333333   0.471405   \n",
       "12           21.166667          16.481471    1.333333   0.471405   \n",
       "13           21.166667          16.481471    1.333333   0.471405   \n",
       "14           21.166667          16.481471    1.333333   0.471405   \n",
       "\n",
       "    SolarRadiation_mean  SolarRadiation_std  WindSpeed_mean  WindSpeed_std  \\\n",
       "0          17884.000000         2786.078875        3.500000       0.500000   \n",
       "1          17780.916667         2735.097209        3.500000       0.500000   \n",
       "2          17780.916667         2735.097209        3.500000       0.500000   \n",
       "3                   NaN            0.000000             NaN       0.000000   \n",
       "4          17780.916667         2735.097209        3.500000       0.500000   \n",
       "5          17780.916667         2735.097209        3.500000       0.500000   \n",
       "6          17780.916667         2735.097209        3.500000       0.500000   \n",
       "7          16799.583333         3423.108759        2.500000       0.500000   \n",
       "8          16799.583333         3423.108759        2.500000       0.500000   \n",
       "9          17884.000000         2786.078875        3.500000       0.500000   \n",
       "10         17884.000000         2786.078875        3.500000       0.500000   \n",
       "11         16708.916667         3412.480316        2.416667       0.493007   \n",
       "12         16708.916667         3412.480316        2.416667       0.493007   \n",
       "13         16708.916667         3412.480316        2.416667       0.493007   \n",
       "14         16708.916667         3412.480316        2.416667       0.493007   \n",
       "\n",
       "          x         y  \n",
       "0  -92.6400  16.74200  \n",
       "1  -92.6780  16.75800  \n",
       "2  -92.6780  16.75800  \n",
       "3  -88.1420  21.57200  \n",
       "4  -92.6330  16.75000  \n",
       "5  -92.6330  16.75000  \n",
       "6  -92.6520  16.74900  \n",
       "7  -92.6525  16.74944  \n",
       "8  -92.6500  16.76500  \n",
       "9  -92.6330  16.75000  \n",
       "10 -92.6330  16.75000  \n",
       "11 -92.6330  16.75000  \n",
       "12 -92.6330  16.75000  \n",
       "13 -92.6330  16.75000  \n",
       "14 -92.6330  16.75000  "
      ]
     },
     "execution_count": 26,
     "metadata": {},
     "output_type": "execute_result"
    }
   ],
   "source": [
    "table"
   ]
  },
  {
   "cell_type": "markdown",
   "metadata": {},
   "source": [
    "### Export to R"
   ]
  },
  {
   "cell_type": "code",
   "execution_count": 35,
   "metadata": {
    "collapsed": false
   },
   "outputs": [
    {
     "data": {
      "text/plain": [
       "['testgraph3', 'spatstats2017']"
      ]
     },
     "execution_count": 35,
     "metadata": {},
     "output_type": "execute_result"
    }
   ],
   "source": [
    "x = table.to_json()\n",
    "from drivers.tools import redisConnection as rc\n",
    "r = rc()\n",
    "r.set('spatstats2017',x)\n",
    "r.keys()"
   ]
  },
  {
   "cell_type": "markdown",
   "metadata": {},
   "source": [
    "#### Explore array with numpy"
   ]
  },
  {
   "cell_type": "code",
   "execution_count": null,
   "metadata": {
    "collapsed": false
   },
   "outputs": [],
   "source": [
    "t1.associatedData.getAssociatedRasterAreaData('MeanTemperature').display_field()"
   ]
  },
  {
   "cell_type": "markdown",
   "metadata": {},
   "source": [
    "# Rank co-occurrent Nodes"
   ]
  },
  {
   "cell_type": "markdown",
   "metadata": {},
   "source": [
    "For this we will calculate the frequency of each Node in the big tree, using another list of trees. In this case the sample of trees that we've got."
   ]
  },
  {
   "cell_type": "code",
   "execution_count": null,
   "metadata": {
    "collapsed": false
   },
   "outputs": [],
   "source": [
    "big_t.countNodesFrequenciesOnList(list_of_trees=sample_trees)"
   ]
  },
  {
   "cell_type": "code",
   "execution_count": null,
   "metadata": {
    "collapsed": false
   },
   "outputs": [],
   "source": [
    "big_t.rankLevels()"
   ]
  },
  {
   "cell_type": "code",
   "execution_count": null,
   "metadata": {
    "collapsed": false
   },
   "outputs": [],
   "source": [
    "big_t.orders[:5]"
   ]
  },
  {
   "cell_type": "markdown",
   "metadata": {},
   "source": [
    "### And for mammals ?"
   ]
  },
  {
   "cell_type": "code",
   "execution_count": null,
   "metadata": {
    "collapsed": false
   },
   "outputs": [],
   "source": [
    "mammals.countNodesFrequenciesOnList(sample_trees)"
   ]
  },
  {
   "cell_type": "code",
   "execution_count": null,
   "metadata": {
    "collapsed": false
   },
   "outputs": [],
   "source": [
    "mammals.rankLevels()"
   ]
  },
  {
   "cell_type": "code",
   "execution_count": null,
   "metadata": {
    "collapsed": false
   },
   "outputs": [],
   "source": [
    "mammals.orders[:5]"
   ]
  },
  {
   "cell_type": "markdown",
   "metadata": {},
   "source": [
    "# Graph analytics"
   ]
  },
  {
   "cell_type": "markdown",
   "metadata": {},
   "source": [
    "## Convert the TreeNeo object to a Network instance (networkx)\n",
    "### The depth_level restricts the depth of the recursion process."
   ]
  },
  {
   "cell_type": "code",
   "execution_count": null,
   "metadata": {
    "collapsed": true
   },
   "outputs": [],
   "source": [
    "gt = big_t.toNetworkx(depth_level=6)"
   ]
  },
  {
   "cell_type": "code",
   "execution_count": null,
   "metadata": {
    "collapsed": false
   },
   "outputs": [],
   "source": [
    "## Plot the Tree\n",
    "from drivers.tools import plotTree\n",
    "x = plotTree(big_t)"
   ]
  },
  {
   "cell_type": "markdown",
   "metadata": {},
   "source": [
    "## Standard Graph analysis\n",
    "With the **networkx** library"
   ]
  },
  {
   "cell_type": "code",
   "execution_count": null,
   "metadata": {
    "collapsed": false
   },
   "outputs": [],
   "source": [
    "import networkx as nt\n",
    "nt.laplacian_matrix(gt)"
   ]
  },
  {
   "cell_type": "code",
   "execution_count": null,
   "metadata": {
    "collapsed": false
   },
   "outputs": [],
   "source": [
    "sp = nt.laplacian_spectrum(gt)"
   ]
  },
  {
   "cell_type": "code",
   "execution_count": null,
   "metadata": {
    "collapsed": false
   },
   "outputs": [],
   "source": [
    "sp.shape"
   ]
  },
  {
   "cell_type": "code",
   "execution_count": null,
   "metadata": {
    "collapsed": true
   },
   "outputs": [],
   "source": []
  }
 ],
 "metadata": {
  "kernelspec": {
   "display_name": "Django Shell-Plus",
   "language": "python",
   "name": "django_extensions"
  },
  "language_info": {
   "codemirror_mode": {
    "name": "ipython",
    "version": 2
   },
   "file_extension": ".py",
   "mimetype": "text/x-python",
   "name": "python",
   "nbconvert_exporter": "python",
   "pygments_lexer": "ipython2",
   "version": "2.7.11"
  }
 },
 "nbformat": 4,
 "nbformat_minor": 0
}
