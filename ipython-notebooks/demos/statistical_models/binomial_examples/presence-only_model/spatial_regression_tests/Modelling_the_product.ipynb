{
 "cells": [
  {
   "cell_type": "markdown",
   "metadata": {},
   "source": [
    "# Modelling the product of two distributions with spatial autocorrelation\n",
    "As we had discussed previously, the GBIF data is of the type *presence-only* this means that we don't know for sure when a given species es really abscent or simply the has not been registered in that location. \n",
    "We may model this as:\n",
    "\n"
   ]
  },
  {
   "cell_type": "code",
   "execution_count": 138,
   "metadata": {
    "tags": [
     "initialise"
    ]
   },
   "outputs": [],
   "source": [
    "%matplotlib inline\n",
    "import sys\n",
    "sys.path.append('/apps')\n",
    "import django\n",
    "django.setup()\n",
    "from drivers.tree_builder import TreeNeo\n",
    "from drivers.graph_models import TreeNode, Order, Family, graph,Kingdom,Occurrence\n",
    "from drivers.graph_models import Cell,Mex4km, countObjectsOf\n",
    "from drivers.graph_models import pickNode\n",
    "import matplotlib.pyplot as plt\n",
    "import pandas as pd\n",
    "import itertools as it\n",
    "import numpy as np\n",
    "import pymc3 as pm\n",
    "\n",
    "## Use the ggplot style\n",
    "plt.style.use('ggplot')"
   ]
  },
  {
   "cell_type": "code",
   "execution_count": 2,
   "metadata": {},
   "outputs": [],
   "source": [
    "datatrain = pd.read_csv(\"/outputs/sample_fams_bats.csv\")\n",
    "datatrain = pd.read_csv(\"/outputs/training_dataset_complete_with_socioeconomical.csv\")\n",
    "## Read Predictors\n",
    "datapred = pd.read_csv('/outputs/sample_predictors_complete.csv')\n",
    "datacube_clean = datapred.dropna()"
   ]
  },
  {
   "cell_type": "code",
   "execution_count": 3,
   "metadata": {},
   "outputs": [
    {
     "data": {
      "text/plain": [
       "17"
      ]
     },
     "execution_count": 3,
     "metadata": {},
     "output_type": "execute_result"
    }
   ],
   "source": [
    "len(datapred.columns)"
   ]
  },
  {
   "cell_type": "code",
   "execution_count": 4,
   "metadata": {},
   "outputs": [
    {
     "data": {
      "text/plain": [
       "Index([u'Unnamed: 0', u'Y', u'DistanceToRoadMex_mean', u'Elevation_mean',\n",
       "       u'MaxTemperature_mean', u'MeanTemperature_mean', u'MinTemperature_mean',\n",
       "       u'Precipitation_mean', u'SolarRadiation_mean', u'Vapor_mean',\n",
       "       u'WindSpeed_mean', u'WorldPopLatam2010_mean', u'Longitude', u'Latitude',\n",
       "       u'vegid', u'vegname'],\n",
       "      dtype='object')"
      ]
     },
     "execution_count": 4,
     "metadata": {},
     "output_type": "execute_result"
    }
   ],
   "source": [
    "datatrain.columns"
   ]
  },
  {
   "cell_type": "code",
   "execution_count": 5,
   "metadata": {},
   "outputs": [],
   "source": [
    "from raster_api.tools import RasterData\n",
    "from raster_api.models import raster_models_dic as models\n"
   ]
  },
  {
   "cell_type": "code",
   "execution_count": 6,
   "metadata": {},
   "outputs": [],
   "source": [
    "vegname = datatrain[['vegid','vegname']]"
   ]
  },
  {
   "cell_type": "code",
   "execution_count": 7,
   "metadata": {},
   "outputs": [
    {
     "data": {
      "text/html": [
       "<div>\n",
       "<table border=\"1\" class=\"dataframe\">\n",
       "  <thead>\n",
       "    <tr style=\"text-align: right;\">\n",
       "      <th></th>\n",
       "      <th>vegname</th>\n",
       "    </tr>\n",
       "    <tr>\n",
       "      <th>vegid</th>\n",
       "      <th></th>\n",
       "    </tr>\n",
       "  </thead>\n",
       "  <tbody>\n",
       "    <tr>\n",
       "      <th>1</th>\n",
       "      <td>Tropical and Subtropical Moist Broadleaf Forests</td>\n",
       "    </tr>\n",
       "    <tr>\n",
       "      <th>2</th>\n",
       "      <td>Tropical and Subtropical Dry Broadleaf Forests</td>\n",
       "    </tr>\n",
       "    <tr>\n",
       "      <th>3</th>\n",
       "      <td>Tropical and Subtropical Coniferous Forests</td>\n",
       "    </tr>\n",
       "    <tr>\n",
       "      <th>7</th>\n",
       "      <td>Tropical and Subtropical Grasslands, Savannas ...</td>\n",
       "    </tr>\n",
       "    <tr>\n",
       "      <th>12</th>\n",
       "      <td>Mediterranean Forests, Woodlands and Scrub</td>\n",
       "    </tr>\n",
       "    <tr>\n",
       "      <th>13</th>\n",
       "      <td>Deserts and Xeric Shrublands</td>\n",
       "    </tr>\n",
       "    <tr>\n",
       "      <th>14</th>\n",
       "      <td>Mangroves</td>\n",
       "    </tr>\n",
       "  </tbody>\n",
       "</table>\n",
       "</div>"
      ],
      "text/plain": [
       "                                                 vegname\n",
       "vegid                                                   \n",
       "1       Tropical and Subtropical Moist Broadleaf Forests\n",
       "2         Tropical and Subtropical Dry Broadleaf Forests\n",
       "3            Tropical and Subtropical Coniferous Forests\n",
       "7      Tropical and Subtropical Grasslands, Savannas ...\n",
       "12            Mediterranean Forests, Woodlands and Scrub\n",
       "13                          Deserts and Xeric Shrublands\n",
       "14                                             Mangroves"
      ]
     },
     "execution_count": 7,
     "metadata": {},
     "output_type": "execute_result"
    }
   ],
   "source": [
    "gv = vegname.groupby('vegid')\n",
    "gv.first()"
   ]
  },
  {
   "cell_type": "code",
   "execution_count": 8,
   "metadata": {},
   "outputs": [
    {
     "name": "stderr",
     "output_type": "stream",
     "text": [
      "/apps/external_plugins/spystats/spystats/tools.py:59: SettingWithCopyWarning: \n",
      "A value is trying to be set on a copy of a slice from a DataFrame.\n",
      "Try using .loc[row_indexer,col_indexer] = value instead\n",
      "\n",
      "See the caveats in the documentation: http://pandas.pydata.org/pandas-docs/stable/indexing.html#indexing-view-versus-copy\n",
      "  data['geometry'] = data.apply(lambda z : Point(z[xcoord_name], z[ycoord_name]), axis=1)\n"
     ]
    }
   ],
   "source": [
    "## Convert to geopandas\n",
    "## drop non real fields. this is important for the model\n",
    "datatrain.drop(['vegname'],axis=1,inplace=True)\n",
    "\n",
    "from external_plugins.spystats.spystats import tools as tl\n",
    "datacube_clean = tl.toGeoDataFrame(datacube_clean,xcoord_name='Longitude',ycoord_name='Latitude')\n",
    "datafull = datatrain.replace('N.A.',np.nan).astype('float')\n",
    "Y = datafull.Y\n"
   ]
  },
  {
   "cell_type": "code",
   "execution_count": 9,
   "metadata": {},
   "outputs": [
    {
     "data": {
      "text/plain": [
       "Index([u'Unnamed: 0', u'MaxTemperature', u'SolarRadiation', u'Elevation',\n",
       "       u'MinTemperature', u'WorldPopLatam2010', u'WindSpeed',\n",
       "       u'DistanceToRoadMex', u'MeanTemperature', u'Vapor', u'Precipitation',\n",
       "       u'Longitude', u'Latitude', u'vegid', u'vegname', u'inegiv5id',\n",
       "       u'inegiv5name'],\n",
       "      dtype='object')"
      ]
     },
     "execution_count": 9,
     "metadata": {},
     "output_type": "execute_result"
    }
   ],
   "source": [
    "datapred.columns"
   ]
  },
  {
   "cell_type": "code",
   "execution_count": 10,
   "metadata": {},
   "outputs": [
    {
     "data": {
      "text/plain": [
       "Index([u'Unnamed: 0', u'Y', u'DistanceToRoadMex_mean', u'Elevation_mean',\n",
       "       u'MaxTemperature_mean', u'MeanTemperature_mean', u'MinTemperature_mean',\n",
       "       u'Precipitation_mean', u'SolarRadiation_mean', u'Vapor_mean',\n",
       "       u'WindSpeed_mean', u'WorldPopLatam2010_mean', u'Longitude', u'Latitude',\n",
       "       u'vegid'],\n",
       "      dtype='object')"
      ]
     },
     "execution_count": 10,
     "metadata": {},
     "output_type": "execute_result"
    }
   ],
   "source": [
    "datatrain.columns"
   ]
  },
  {
   "cell_type": "code",
   "execution_count": 12,
   "metadata": {},
   "outputs": [
    {
     "name": "stderr",
     "output_type": "stream",
     "text": [
      "WARNING (theano.tensor.blas): We did not find a dynamic library in the library_dir of the library we use for blas. If you use ATLAS, make sure to compile it with dynamics library.\n",
      "WARNING:theano.tensor.blas:We did not find a dynamic library in the library_dir of the library we use for blas. If you use ATLAS, make sure to compile it with dynamics library.\n",
      "Average Loss = 431.59: 100%|██████████| 15000/15000 [02:57<00:00, 84.64it/s]\n",
      "Finished [100%]: Average Loss = 431.4\n",
      "INFO:pymc3.variational.inference:Finished [100%]: Average Loss = 431.4\n"
     ]
    },
    {
     "name": "stdout",
     "output_type": "stream",
     "text": [
      "CPU times: user 11min 27s, sys: 14.8 s, total: 11min 42s\n",
      "Wall time: 3min 20s\n",
      "CPU times: user 1.89 s, sys: 76 ms, total: 1.97 s\n",
      "Wall time: 2.08 s\n"
     ]
    }
   ],
   "source": [
    "## This is for calculating the signal\n",
    "\n",
    "from pymc3.variational.callbacks import CheckParametersConvergence\n",
    "with pm.Model() as model:\n",
    "\n",
    "    ## [R | Y]\n",
    "\n",
    "    tau = pm.HalfNormal('tau',sd=10)\n",
    "    sigma = pm.HalfNormal('sigma',sd=10)\n",
    "    phi = pm.Uniform('phi',0,15)\n",
    "    \n",
    "    Tau = pm.gp.cov.Constant(tau)\n",
    "    cov = (sigma * pm.gp.cov.Matern32(2,phi,active_dims=[0,1])) + Tau\n",
    "\n",
    "    ## Parameters for linear predictor\n",
    "    #b0 = pm.Normal('b0',mu=0,sd=10)\n",
    "    b = pm.Normal('b',mu=0,sd=10,shape=3)\n",
    "    mf = pm.gp.mean.Linear(coeffs=[b]) \n",
    "\n",
    "    ## The latent function\n",
    "    gp = pm.gp.Latent(cov_func=cov)\n",
    "    f = gp.prior(\"latent_field\", X=datafull[['Longitude','Latitude','DistanceToRoadMex_mean','WorldPopLatam2010_mean','vegid']].values,reparameterize=False)\n",
    "\n",
    "\n",
    "    ## Other model M2\n",
    "    \n",
    "    beta_y = pm.Normal(\"betay\",mu=0, sd=10,shape=2)\n",
    "    \n",
    "    theta = beta_y[0] + beta_y[1] * datafull.MaxTemperature_mean.values\n",
    "    \n",
    "    yy = pm.Bernoulli(\"yy\",logit_p=theta,observed=Y.values)\n",
    "    \n",
    "    \n",
    "    #y_obs = pm.Bernoulli('y_obs',logit_p=(f*yy),observed=Y.values)\n",
    "    \n",
    "    \n",
    "    %time mean_field = pm.fit(method='advi', callbacks=[CheckParametersConvergence()],n=15000)    \n",
    "    %time trace = mean_field.sample(draws=5000)\n",
    "\n",
    "\n",
    "   # %time f_star = gp.conditional(\"f_star\", datacube_clean[['Longitude','Latitude','DistanceToRoadMex','WorldPopLatam2010','vegid']].values)\n",
    "  \n",
    "   # pred_samples = pm.sample_ppc(trace, vars=[f_star], samples=100)\n",
    "\n",
    "   "
   ]
  },
  {
   "cell_type": "code",
   "execution_count": 20,
   "metadata": {},
   "outputs": [],
   "source": []
  },
  {
   "cell_type": "code",
   "execution_count": null,
   "metadata": {},
   "outputs": [],
   "source": []
  },
  {
   "cell_type": "code",
   "execution_count": 130,
   "metadata": {},
   "outputs": [],
   "source": [
    "## This is for calculating the signal\n",
    "\n",
    "from pymc3.variational.callbacks import CheckParametersConvergence\n",
    "\n",
    "with pm.Model() as model_1:\n",
    "\n",
    "        \n",
    "    Yt = datafull.MaxTemperature_mean\n",
    "    Y = datafull.Y\n",
    "    \n",
    "   \n",
    "    #b = pm.Normal('b',mu=0,sd=1,shape=3)\n",
    "\n",
    "    \n",
    "    beta_1 = pm.Normal(\"betay\",mu=0, sd=10,shape=1)\n",
    "    theta_1 = beta_1[0] * datafull.MaxTemperature_mean.values\n",
    "    \n",
    "    #m1 = pm.Normal(\"yy\",mu=beta_1)\n",
    "    \n",
    "    beta_2 = pm.Normal(\"beta2\",mu=0,sd=5,shape=1)\n",
    "    theta_2 = beta_2[0] * datafull.DistanceToRoadMex_mean.values\n",
    "    \n",
    "    pp = pm.Deterministic('aux',theta_1 + theta_2)\n",
    "    #m2 = pm.Normal(\"yy2\",theta2)\n",
    "    \n",
    "    \n",
    "    \n",
    "    yy = pm.Bernoulli(\"yy\",logit_p=pp,observed=Y.values)\n",
    "    \n",
    "    \n",
    "  \n",
    "    \n",
    "\n",
    "   # %time f_star = gp.conditional(\"f_star\", datacube_clean[['Longitude','Latitude','DistanceToRoadMex','WorldPopLatam2010','vegid']].values)\n",
    "  \n",
    "   # pred_samples = pm.sample_ppc(trace, vars=[f_star], samples=100)\n",
    "\n"
   ]
  },
  {
   "cell_type": "code",
   "execution_count": 131,
   "metadata": {},
   "outputs": [
    {
     "name": "stderr",
     "output_type": "stream",
     "text": [
      "Average Loss = 18,484: 100%|██████████| 15000/15000 [00:17<00:00, 869.09it/s]\n",
      "Finished [100%]: Average Loss = 18,497\n",
      "INFO:pymc3.variational.inference:Finished [100%]: Average Loss = 18,497\n"
     ]
    },
    {
     "name": "stdout",
     "output_type": "stream",
     "text": [
      "CPU times: user 16 s, sys: 1.21 s, total: 17.2 s\n",
      "Wall time: 22.2 s\n",
      "CPU times: user 1.85 s, sys: 76 ms, total: 1.93 s\n",
      "Wall time: 1.92 s\n"
     ]
    },
    {
     "name": "stderr",
     "output_type": "stream",
     "text": [
      "logp = -202.07, ||grad|| = 13,039: 100%|██████████| 27/27 [00:00<00:00, 868.34it/s]   \n"
     ]
    }
   ],
   "source": [
    "with model_1 :\n",
    "    %time mean_field = pm.fit(method='advi', callbacks=[CheckParametersConvergence()],n=15000)    \n",
    "    %time trace = mean_field.sample(draws=5000)\n",
    "    mapp = pm.find_MAP()"
   ]
  },
  {
   "cell_type": "code",
   "execution_count": 133,
   "metadata": {},
   "outputs": [
    {
     "name": "stderr",
     "output_type": "stream",
     "text": [
      "Only 50 samples in chain.\n",
      "WARNING:pymc3:Only 50 samples in chain.\n",
      "Auto-assigning NUTS sampler...\n",
      "INFO:pymc3:Auto-assigning NUTS sampler...\n",
      "Initializing NUTS using jitter+adapt_diag...\n",
      "INFO:pymc3:Initializing NUTS using jitter+adapt_diag...\n",
      "Multiprocess sampling (2 chains in 2 jobs)\n",
      "INFO:pymc3:Multiprocess sampling (2 chains in 2 jobs)\n",
      "NUTS: [beta2, betay]\n",
      "INFO:pymc3:NUTS: [beta2, betay]\n",
      " 75%|███████▌  | 60/80 [00:00<00:00, 595.57it/s]\n",
      "100%|██████████| 80/80 [00:00<00:00, 622.64it/s]There were 26 divergences after tuning. Increase `target_accept` or reparameterize.\n",
      "ERROR:pymc3:There were 26 divergences after tuning. Increase `target_accept` or reparameterize.\n",
      "The acceptance probability does not match the target. It is 6.613861039524613e-33, but should be close to 0.5. Try to increase the number of tuning steps.\n",
      "WARNING:pymc3:The acceptance probability does not match the target. It is 6.613861039524613e-33, but should be close to 0.5. Try to increase the number of tuning steps.\n",
      "There were 6 divergences after tuning. Increase `target_accept` or reparameterize.\n",
      "ERROR:pymc3:There were 6 divergences after tuning. Increase `target_accept` or reparameterize.\n",
      "The acceptance probability does not match the target. It is 0.11120496714228897, but should be close to 0.5. Try to increase the number of tuning steps.\n",
      "WARNING:pymc3:The acceptance probability does not match the target. It is 0.11120496714228897, but should be close to 0.5. Try to increase the number of tuning steps.\n",
      "logp = -202.07, ||grad|| = 13,039: 100%|██████████| 27/27 [00:00<00:00, 832.95it/s]   \n"
     ]
    }
   ],
   "source": [
    "with model_1:\n",
    "    trace_1 = pm.sample(50,chains=2,nuts_kwargs=dict(target_accept=.5),tune=30)\n",
    "    mapp = pm.find_MAP()"
   ]
  },
  {
   "cell_type": "code",
   "execution_count": 135,
   "metadata": {},
   "outputs": [
    {
     "data": {
      "text/plain": [
       "array([[<matplotlib.axes._subplots.AxesSubplot object at 0x7f1616bcda90>,\n",
       "        <matplotlib.axes._subplots.AxesSubplot object at 0x7f161489d310>],\n",
       "       [<matplotlib.axes._subplots.AxesSubplot object at 0x7f1616c8ae90>,\n",
       "        <matplotlib.axes._subplots.AxesSubplot object at 0x7f161816bfd0>],\n",
       "       [<matplotlib.axes._subplots.AxesSubplot object at 0x7f1618411590>,\n",
       "        <matplotlib.axes._subplots.AxesSubplot object at 0x7f16182bec90>]],\n",
       "      dtype=object)"
      ]
     },
     "execution_count": 135,
     "metadata": {},
     "output_type": "execute_result"
    },
    {
     "data": {
      "image/png": "[encoded data removed]",
      "text/plain": [
       "<matplotlib.figure.Figure at 0x7f16137b7050>"
      ]
     },
     "metadata": {},
     "output_type": "display_data"
    }
   ],
   "source": [
    "\n",
    "pm.traceplot(trace)"
   ]
  },
  {
   "cell_type": "code",
   "execution_count": null,
   "metadata": {},
   "outputs": [],
   "source": [
    "corr = datatrain.corr()\n",
    "fig = plt.figure()\n",
    "ax = fig.add_subplot(111)\n",
    "cax = ax.matshow(corr,cmap='coolwarm', vmin=-1, vmax=1)\n",
    "fig.colorbar(cax)\n",
    "ticks = np.arange(0,len(datatrain.columns),1)\n",
    "ax.set_xticks(ticks)\n",
    "plt.xticks(rotation=90)\n",
    "ax.set_yticks(ticks)\n",
    "ax.set_xticklabels(datatrain.columns)\n",
    "ax.set_yticklabels(datatrain.columns)\n",
    "plt.show()"
   ]
  },
  {
   "cell_type": "code",
   "execution_count": null,
   "metadata": {},
   "outputs": [],
   "source": [
    "from raster_api.tools import RasterContainer\n",
    "from raster_api.models import ETOPO1,MeanTemperature\n",
    "from raster_api.tools import RasterData\n",
    "from sketches.models import Country\n",
    "from mesh.models import MexMesh\n",
    "Mexico = Country.objects.filter(name__contains=\"exico\").get()\n",
    "mexican_cells = MexMesh.objects.filter(cell__intersects=Mexico.geom)\n",
    "elevation = RasterData(rastermodelinstance=MeanTemperature,border=Mexico.geom)\n",
    "#Rescale to fit same number of pixels\n",
    "pixel_size = 0.25\n",
    "elevation.rescale(pixel_size)\n",
    "elevation.display_field(origin='Lower')\n",
    "\n",
    "preds = pd.DataFrame(pred_samples['f_star']).transpose()\n",
    "\n",
    "\n"
   ]
  },
  {
   "cell_type": "code",
   "execution_count": null,
   "metadata": {},
   "outputs": [],
   "source": [
    "## Calculate some summary statistics\n",
    "import scipy.special as sp\n",
    "alpha = sp.logit(0.5) \n",
    "mean_sample = preds.mean(axis=1)\n",
    "q_025 = preds.quantile(0.025,axis=1)\n",
    "q_975 = preds.quantile(0.975,axis=1)\n",
    "prob_gt05 = preds.apply(lambda row : float(sum(row > alpha))/100,axis=1)\n",
    "surface_data = pd.DataFrame({'mean_sample' : mean_sample, 'q_025':q_025,'q_975':q_975,'prob_gt05':prob_gt05})"
   ]
  },
  {
   "cell_type": "code",
   "execution_count": null,
   "metadata": {},
   "outputs": [],
   "source": [
    "surface_data['idx'] = datacube_clean.index.values\n",
    "predictions = datapred.merge(surface_data,how='left',left_index=True,right_on='idx',suffixes=('_obs','_pred'))\n",
    "predicted_data = predictions.mean_sample.values\n",
    "mean = RasterContainer(predictions.q_025.values,use_metadata_from=elevation.rasterdata,exponential_fam=\"Bernoulli\")\n",
    "ql_presences_of_something = RasterContainer(predictions.mean_sample.values,use_metadata_from=elevation.rasterdata,exponential_fam=\"Bernoulli\")\n"
   ]
  },
  {
   "cell_type": "code",
   "execution_count": null,
   "metadata": {},
   "outputs": [],
   "source": [
    "fig, ax = plt.subplots(figsize=(10, 9));\n",
    "plt.imshow(ql_presences_of_something.rasterdata.bands[1].data(),origin='Lower',vmin=0.0,vmax=1.0)\n",
    "#ql_presences_of_something.display_field(band=2,origin='Lower',cmap=plt.cm.RdBu)\n",
    "plt.title(\"Mean probability field\")\n",
    "plt.colorbar(orientation='horizontal')"
   ]
  },
  {
   "cell_type": "code",
   "execution_count": null,
   "metadata": {},
   "outputs": [],
   "source": [
    "## With pcolor\n",
    "M = ql_presences_of_something.rasterdata.bands[1].data()\n",
    "minx = predictions.Latitude.min()\n",
    "maxx = predictions.Latitude.max()\n",
    "miny = predictions.Longitude.min()\n",
    "maxy = predictions.Longitude.max()\n",
    "i,j = M.shape\n",
    "#np.meshgrid"
   ]
  },
  {
   "cell_type": "code",
   "execution_count": null,
   "metadata": {},
   "outputs": [],
   "source": [
    "#X = np.linspace(minx,maxx,j)\n",
    "#Y = np.linspace(miny,maxy,i)\n",
    "#XX,YY = np.meshgrid(X,Y)"
   ]
  },
  {
   "cell_type": "code",
   "execution_count": null,
   "metadata": {},
   "outputs": [],
   "source": [
    "ql_025 = RasterContainer(predictions.q_025.values,use_metadata_from=elevation.rasterdata,exponential_fam=\"Bernoulli\")\n",
    "fig, ax = plt.subplots(figsize=(10, 9));\n",
    "plt.imshow(ql_025.rasterdata.bands[1].data(),origin='Lower',interpolation='None',vmin=0.0,vmax=1.0)\n",
    "#ql_presences_of_something.display_field(band=2,origin='Lower',cmap=plt.cm.RdBu)\n",
    "plt.title(\"q025 probability field\")\n",
    "\n",
    "plt.colorbar(orientation='horizontal')"
   ]
  },
  {
   "cell_type": "code",
   "execution_count": null,
   "metadata": {},
   "outputs": [],
   "source": [
    "ql_97 = RasterContainer(predictions.q_975.values,use_metadata_from=elevation.rasterdata,exponential_fam=\"Bernoulli\")\n",
    "fig, ax = plt.subplots(figsize=(10, 9));\n",
    "plt.imshow(ql_97.rasterdata.bands[1].data(),origin='Lower',vmin=0.0,vmax=1.0)\n",
    "#ql_presences_of_something.display_field(band=2,origin='Lower',cmap=plt.cm.RdBu)\n",
    "plt.title(\"q97 probability field\")\n",
    "plt.colorbar(orientation='horizontal')"
   ]
  },
  {
   "cell_type": "markdown",
   "metadata": {},
   "source": [
    "## Exceeding probability\n"
   ]
  },
  {
   "cell_type": "code",
   "execution_count": null,
   "metadata": {},
   "outputs": [],
   "source": [
    "## Probability of the probaaility of presences bigger than 0.5\n",
    "prob5 = RasterContainer(predictions.prob_gt05.values,use_metadata_from=elevation.rasterdata,exponential_fam=\"Bernoulli\")\n",
    "#prob5.display_field(band=2,origin='Lower',cmap=plt.cm.RdBu)\n"
   ]
  },
  {
   "cell_type": "code",
   "execution_count": null,
   "metadata": {},
   "outputs": [],
   "source": [
    "fig, ax = plt.subplots(figsize=(10, 9));\n",
    "plt.imshow(prob5.rasterdata.bands[0].data(),origin='Lower',vmin=0.0,vmax=1.0,cmap=plt.cm.RdBu)\n",
    "#ql_presences_of_something.display_field(band=2,origin='Lower',cmap=plt.cm.RdBu)\n",
    "plt.title(\"Exceeding Probability field\")\n",
    "plt.colorbar(orientation='horizontal')\n"
   ]
  },
  {
   "cell_type": "code",
   "execution_count": null,
   "metadata": {},
   "outputs": [],
   "source": [
    "ql_025.exportToGeoTiff(\"q025_signal\")\n",
    "ql_97.exportToGeoTiff(\"q97_signal\")"
   ]
  },
  {
   "cell_type": "code",
   "execution_count": null,
   "metadata": {},
   "outputs": [],
   "source": [
    "## Visualizing distance to road map\n",
    "#from raster_api.tools import RasterContainer\n",
    "from raster_api.models import ETOPO1,MeanTemperature,DistanceToRoadMex\n",
    "from raster_api.tools import RasterData\n",
    "from sketches.models import Country\n",
    "from mesh.models import MexMesh\n",
    "Mexico = Country.objects.filter(name__contains=\"exico\").get()\n",
    "mexican_cells = MexMesh.objects.filter(cell__intersects=Mexico.geom)\n",
    "distroad = RasterData(rastermodelinstance=DistanceToRoadMex,border=Mexico.geom)\n",
    "#distroad.display_field()"
   ]
  },
  {
   "cell_type": "code",
   "execution_count": null,
   "metadata": {},
   "outputs": [],
   "source": [
    "distroad.getRaster()"
   ]
  },
  {
   "cell_type": "code",
   "execution_count": null,
   "metadata": {},
   "outputs": [],
   "source": [
    "distroad.display_field()"
   ]
  },
  {
   "cell_type": "code",
   "execution_count": null,
   "metadata": {},
   "outputs": [],
   "source": [
    "#ql_presences_of_something.exportToGeoTiff(\"mean_signal\")"
   ]
  }
 ],
 "metadata": {
  "kernelspec": {
   "display_name": "Python 2",
   "language": "python",
   "name": "python2"
  },
  "language_info": {
   "codemirror_mode": {
    "name": "ipython",
    "version": 2
   },
   "file_extension": ".py",
   "mimetype": "text/x-python",
   "name": "python",
   "nbconvert_exporter": "python",
   "pygments_lexer": "ipython2",
   "version": "2.7.11"
  }
 },
 "nbformat": 4,
 "nbformat_minor": 2
}
