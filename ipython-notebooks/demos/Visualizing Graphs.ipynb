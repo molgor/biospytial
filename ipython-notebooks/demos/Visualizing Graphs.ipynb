{
 "cells": [
  {
   "cell_type": "markdown",
   "metadata": {},
   "source": [
    "# Working with graphs (Part 1)\n",
    "Visualization"
   ]
  },
  {
   "cell_type": "markdown",
   "metadata": {},
   "source": [
    "### In this exercise we will obtain a sample set of trees related with the Bats (Order) node. We will convert it to a Network object for visualizing and exploring graph properties.\n"
   ]
  },
  {
   "cell_type": "code",
   "execution_count": 1,
   "metadata": {
    "collapsed": true
   },
   "outputs": [],
   "source": [
    "## Import modules and libraries\n",
    "%matplotlib inline\n",
    "import sys\n",
    "sys.path.append('/apps')\n",
    "import django\n",
    "django.setup()\n",
    "import numpy as np\n",
    "import matplotlib.pyplot as plt\n",
    "# visualizing and analysing\n",
    "from networkx.drawing.nx_agraph import graphviz_layout\n",
    "import networkx as nt"
   ]
  },
  {
   "cell_type": "markdown",
   "metadata": {},
   "source": [
    "## Biospytial modules"
   ]
  },
  {
   "cell_type": "code",
   "execution_count": 2,
   "metadata": {
    "collapsed": false
   },
   "outputs": [],
   "source": [
    "## Import modules\n",
    "from drivers.tree_builder import TreeNeo\n",
    "from drivers.graph_models import TreeNode, Order, Family, graph, pickNode\n",
    "from traversals.strategies import sumTrees\n",
    "from traversals.sampling import UniformRandomSampleForest\n"
   ]
  },
  {
   "cell_type": "markdown",
   "metadata": {},
   "source": [
    "## Pick the node \"Bats\" (Chiroptera)"
   ]
  },
  {
   "cell_type": "code",
   "execution_count": 3,
   "metadata": {
    "collapsed": true
   },
   "outputs": [],
   "source": [
    "bats = pickNode(Order,'Chiropt')"
   ]
  },
  {
   "cell_type": "code",
   "execution_count": 4,
   "metadata": {
    "collapsed": false
   },
   "outputs": [
    {
     "name": "stdout",
     "output_type": "stream",
     "text": [
      "CPU times: user 2min 59s, sys: 2.88 s, total: 3min 1s\n",
      "Wall time: 4min 59s\n"
     ]
    }
   ],
   "source": [
    "%time cells = list(bats.cells)"
   ]
  },
  {
   "cell_type": "code",
   "execution_count": 5,
   "metadata": {
    "collapsed": false
   },
   "outputs": [
    {
     "name": "stderr",
     "output_type": "stream",
     "text": [
      "DEBUG Random list creates\n",
      "DEBUG:biospytial.graph_models:Random list creates\n",
      "DEBUG Random cells selected\n",
      "DEBUG:biospytial.graph_models:Random cells selected\n"
     ]
    }
   ],
   "source": [
    "trees = UniformRandomSampleForest(cells,10)"
   ]
  },
  {
   "cell_type": "code",
   "execution_count": 6,
   "metadata": {
    "collapsed": false
   },
   "outputs": [
    {
     "name": "stderr",
     "output_type": "stream",
     "text": [
      "DEBUG [Developer]: check that the Occurrences are the same that in the has_occurrences method\n",
      "DEBUG:biospytial.graph_models:[Developer]: check that the Occurrences are the same that in the has_occurrences method\n",
      "DEBUG [Developer]: check that the Occurrences are the same that in the has_occurrences method\n",
      "DEBUG:biospytial.graph_models:[Developer]: check that the Occurrences are the same that in the has_occurrences method\n",
      "DEBUG [Developer]: check that the Occurrences are the same that in the has_occurrences method\n",
      "DEBUG:biospytial.graph_models:[Developer]: check that the Occurrences are the same that in the has_occurrences method\n",
      "DEBUG [Developer]: check that the Occurrences are the same that in the has_occurrences method\n",
      "DEBUG:biospytial.graph_models:[Developer]: check that the Occurrences are the same that in the has_occurrences method\n",
      "DEBUG [Developer]: check that the Occurrences are the same that in the has_occurrences method\n",
      "DEBUG:biospytial.graph_models:[Developer]: check that the Occurrences are the same that in the has_occurrences method\n",
      "DEBUG [Developer]: check that the Occurrences are the same that in the has_occurrences method\n",
      "DEBUG:biospytial.graph_models:[Developer]: check that the Occurrences are the same that in the has_occurrences method\n",
      "DEBUG [Developer]: check that the Occurrences are the same that in the has_occurrences method\n",
      "DEBUG:biospytial.graph_models:[Developer]: check that the Occurrences are the same that in the has_occurrences method\n",
      "DEBUG [Developer]: check that the Occurrences are the same that in the has_occurrences method\n",
      "DEBUG:biospytial.graph_models:[Developer]: check that the Occurrences are the same that in the has_occurrences method\n",
      "DEBUG [Developer]: check that the Occurrences are the same that in the has_occurrences method\n",
      "DEBUG:biospytial.graph_models:[Developer]: check that the Occurrences are the same that in the has_occurrences method\n",
      "DEBUG [Developer]: check that the Occurrences are the same that in the has_occurrences method\n",
      "DEBUG:biospytial.graph_models:[Developer]: check that the Occurrences are the same that in the has_occurrences method\n"
     ]
    },
    {
     "name": "stdout",
     "output_type": "stream",
     "text": [
      "CPU times: user 9.97 s, sys: 270 ms, total: 10.2 s\n",
      "Wall time: 12.4 s\n"
     ]
    }
   ],
   "source": [
    "## trees is a generator -> cast to list\n",
    "%time trees = list(trees)"
   ]
  },
  {
   "cell_type": "markdown",
   "metadata": {},
   "source": [
    "### It is possible to get faster data (not a random sample)"
   ]
  },
  {
   "cell_type": "code",
   "execution_count": 7,
   "metadata": {
    "collapsed": false
   },
   "outputs": [
    {
     "name": "stderr",
     "output_type": "stream",
     "text": [
      "INFO Retrieving cells\n",
      "INFO:biospytial.graph_models:Retrieving cells\n",
      "INFO Done!\n",
      "INFO:biospytial.graph_models:Done!\n",
      "INFO Retriving Occurrences\n",
      "INFO:biospytial.graph_models:Retriving Occurrences\n"
     ]
    },
    {
     "name": "stdout",
     "output_type": "stream",
     "text": [
      "CPU times: user 10 ms, sys: 0 ns, total: 10 ms\n",
      "Wall time: 7.47 ms\n"
     ]
    }
   ],
   "source": [
    "%time trees_fast = bats.getAssociatedTrees(first_n_cells=10)"
   ]
  },
  {
   "cell_type": "markdown",
   "metadata": {},
   "source": [
    "## Obtain a folded Tree (Sum, integral, etc..)\n",
    "Here the importance of Monoid structure"
   ]
  },
  {
   "cell_type": "code",
   "execution_count": 8,
   "metadata": {
    "collapsed": false
   },
   "outputs": [
    {
     "name": "stderr",
     "output_type": "stream",
     "text": [
      "INFO Merging Trees\n",
      "INFO Merging Trees\n",
      "INFO Merging Trees\n",
      "INFO Merging Trees\n",
      "INFO Merging Trees\n",
      "INFO Merging Trees\n",
      "INFO Merging Trees\n",
      "INFO Merging Trees\n",
      "INFO Merging Trees\n"
     ]
    }
   ],
   "source": [
    "bt = reduce(lambda a,b : a+b , trees)"
   ]
  },
  {
   "cell_type": "markdown",
   "metadata": {},
   "source": [
    "## Frequencies analysis for each node using a given list of trees."
   ]
  },
  {
   "cell_type": "code",
   "execution_count": 9,
   "metadata": {
    "collapsed": false
   },
   "outputs": [
    {
     "name": "stderr",
     "output_type": "stream",
     "text": [
      "INFO Going deep 0.2\n",
      "INFO Going deep 0.2\n",
      "INFO Going deep 0.1\n",
      "INFO Going deep 0.1\n",
      "INFO Going deep 0.1\n",
      "INFO Going deep 0.1\n",
      "INFO Going deep 0.1\n",
      "INFO Going deep 0.1\n",
      "INFO Going deep 0.1\n",
      "INFO Going deep 0.1\n",
      "INFO Going deep 0.1\n",
      "INFO Going deep 0.3\n",
      "INFO Going deep 0.1\n",
      "INFO Going deep 0.1\n",
      "INFO Going deep 0.2\n",
      "INFO Going deep 0.2\n",
      "INFO Going deep 0.4\n",
      "INFO Going deep 0.1\n",
      "INFO Going deep 0.1\n",
      "INFO Going deep 0.1\n",
      "INFO Going deep 0.1\n",
      "INFO Going deep 0.4\n",
      "INFO Going deep 0.1\n",
      "INFO Going deep 0.1\n",
      "INFO Going deep 0.1\n",
      "INFO Going deep 0.1\n",
      "INFO Going deep 0.1\n",
      "INFO Going deep 0.1\n",
      "INFO Going deep 0.1\n",
      "INFO Going deep 0.1\n",
      "INFO Going deep 0.2\n",
      "INFO Going deep 0.1\n",
      "INFO Going deep 0.1\n",
      "INFO Going deep 0.1\n",
      "INFO Going deep 0.1\n",
      "INFO Going deep 0.1\n",
      "INFO Going deep 0.2\n",
      "INFO Going deep 0.2\n",
      "INFO Going deep 0.2\n",
      "INFO Going deep 0.1\n",
      "INFO Going deep 0.1\n",
      "INFO Going deep 0.3\n",
      "INFO Going deep 0.1\n",
      "INFO Going deep 0.1\n",
      "INFO Going deep 0.1\n",
      "INFO Going deep 0.4\n",
      "INFO Going deep 0.1\n",
      "INFO Going deep 0.4\n",
      "INFO Going deep 0.1\n",
      "INFO Going deep 0.1\n",
      "INFO Going deep 0.1\n",
      "INFO Going deep 0.1\n",
      "INFO Going deep 0.2\n",
      "INFO Going deep 0.2\n",
      "INFO Going deep 0.1\n",
      "INFO Going deep 0.2\n",
      "INFO Going deep 0.1\n",
      "INFO Going deep 0.3\n",
      "INFO Going deep 0.1\n",
      "INFO Going deep 0.3\n",
      "INFO Going deep 0.3\n",
      "INFO Going deep 0.4\n",
      "INFO Going deep 0.1\n",
      "INFO Going deep 0.1\n",
      "INFO Going deep 0.1\n",
      "INFO Going deep 0.2\n",
      "INFO Going deep 0.1\n",
      "INFO Going deep 0.3\n",
      "INFO Going deep 0.3\n",
      "INFO Going deep 0.2\n",
      "INFO Going deep 0.1\n",
      "INFO Going deep 0.1\n",
      "INFO Going deep 0.1\n",
      "INFO Going deep 0.3\n",
      "INFO Going deep 0.2\n",
      "INFO Going deep 0.1\n",
      "INFO Going deep 0.2\n",
      "INFO Going deep 0.2\n",
      "INFO Going deep 0.1\n",
      "INFO Going deep 0.2\n",
      "INFO Going deep 0.1\n",
      "INFO Going deep 0.3\n",
      "INFO Going deep 0.3\n",
      "INFO Going deep 0.2\n",
      "INFO Going deep 0.2\n",
      "INFO Going deep 0.1\n",
      "INFO Going deep 0.2\n",
      "INFO Going deep 0.3\n",
      "INFO Going deep 0.4\n",
      "INFO Going deep 0.1\n",
      "INFO Going deep 0.1\n",
      "INFO Going deep 0.1\n",
      "INFO Going deep 0.2\n",
      "INFO Going deep 0.2\n",
      "INFO Going deep 0.2\n",
      "INFO Going deep 0.1\n",
      "INFO Going deep 0.1\n",
      "INFO Going deep 0.2\n",
      "INFO Going deep 0.2\n",
      "INFO Going deep 0.1\n",
      "INFO Going deep 0.1\n",
      "INFO Going deep 0.2\n",
      "INFO Going deep 0.1\n",
      "INFO Going deep 0.2\n",
      "INFO Going deep 0.2\n",
      "INFO Going deep 0.1\n",
      "INFO Going deep 0.1\n",
      "INFO Going deep 0.2\n",
      "INFO Going deep 0.2\n",
      "INFO Going deep 0.2\n",
      "INFO Going deep 0.1\n",
      "INFO Going deep 0.1\n",
      "INFO Going deep 0.1\n",
      "INFO Going deep 0.2\n",
      "INFO Going deep 0.2\n",
      "INFO Going deep 0.3\n",
      "INFO Going deep 0.1\n",
      "INFO Going deep 0.4\n",
      "INFO Going deep 0.4\n",
      "INFO Going deep 0.1\n",
      "INFO Going deep 0.1\n",
      "INFO Going deep 0.1\n",
      "INFO Going deep 0.1\n",
      "INFO Going deep 0.1\n",
      "INFO Going deep 0.1\n",
      "INFO Going deep 0.1\n",
      "INFO Going deep 0.2\n",
      "INFO Going deep 0.2\n",
      "INFO Going deep 0.1\n",
      "INFO Going deep 0.2\n",
      "INFO Going deep 0.1\n",
      "INFO Going deep 0.1\n",
      "INFO Going deep 0.2\n",
      "INFO Going deep 0.2\n",
      "INFO Going deep 0.2\n",
      "INFO Going deep 0.1\n",
      "INFO Going deep 0.2\n",
      "INFO Going deep 0.1\n",
      "INFO Going deep 0.1\n",
      "INFO Going deep 0.1\n",
      "INFO Going deep 0.1\n",
      "INFO Going deep 0.2\n",
      "INFO Going deep 0.1\n",
      "INFO Going deep 0.1\n",
      "INFO Going deep 0.2\n",
      "INFO Going deep 0.3\n",
      "INFO Going deep 0.3\n",
      "INFO Going deep 0.1\n",
      "INFO Going deep 0.1\n",
      "INFO Going deep 0.4\n",
      "INFO Going deep 0.1\n",
      "INFO Going deep 0.1\n",
      "INFO Going deep 0.1\n",
      "INFO Going deep 0.1\n",
      "INFO Going deep 0.1\n",
      "INFO Going deep 0.1\n",
      "INFO Going deep 0.1\n",
      "INFO Going deep 0.4\n",
      "INFO Going deep 0.3\n",
      "INFO Going deep 0.3\n",
      "INFO Going deep 0.2\n",
      "INFO Going deep 0.2\n",
      "INFO Going deep 0.1\n",
      "INFO Going deep 0.1\n",
      "INFO Going deep 0.1\n",
      "INFO Going deep 0.1\n",
      "INFO Going deep 0.1\n",
      "INFO Going deep 0.1\n",
      "INFO Going deep 0.1\n",
      "INFO Going deep 0.1\n",
      "INFO Going deep 0.1\n",
      "INFO Going deep 0.2\n",
      "INFO Going deep 0.1\n",
      "INFO Going deep 0.1\n",
      "INFO Going deep 0.1\n",
      "INFO Going deep 0.3\n",
      "INFO Going deep 0.1\n",
      "INFO Going deep 0.2\n",
      "INFO Going deep 0.3\n",
      "INFO Going deep 0.1\n",
      "INFO Going deep 0.1\n",
      "INFO Going deep 0.5\n",
      "INFO Going deep 0.5\n",
      "INFO Going deep 0.1\n",
      "INFO Going deep 0.1\n",
      "INFO Going deep 0.1\n",
      "INFO Going deep 0.1\n",
      "INFO Going deep 0.1\n",
      "INFO Going deep 0.1\n",
      "INFO Going deep 0.1\n",
      "INFO Going deep 0.1\n",
      "INFO Going deep 0.1\n",
      "INFO Going deep 0.2\n",
      "INFO Going deep 0.1\n",
      "INFO Going deep 0.1\n",
      "INFO Going deep 0.1\n",
      "INFO Going deep 0.2\n",
      "INFO Going deep 0.1\n",
      "INFO Going deep 0.1\n",
      "INFO Going deep 0.3\n",
      "INFO Going deep 0.5\n",
      "INFO Going deep 0.2\n",
      "INFO Going deep 0.1\n",
      "INFO Going deep 0.4\n",
      "INFO Going deep 0.1\n",
      "INFO Going deep 0.1\n",
      "INFO Going deep 0.4\n",
      "INFO Going deep 0.1\n",
      "INFO Going deep 0.3\n",
      "INFO Going deep 0.1\n",
      "INFO Going deep 0.9\n",
      "INFO Going deep 0.1\n",
      "INFO Going deep 0.1\n",
      "INFO Going deep 0.1\n",
      "INFO Going deep 0.3\n",
      "INFO Going deep 0.2\n",
      "INFO Going deep 0.1\n",
      "INFO Going deep 0.4\n",
      "INFO Going deep 0.1\n",
      "INFO Going deep 0.2\n",
      "INFO Going deep 0.1\n",
      "INFO Going deep 0.3\n",
      "INFO Going deep 0.1\n",
      "INFO Going deep 0.3\n",
      "INFO Going deep 0.3\n",
      "INFO Going deep 1.0\n",
      "INFO Going deep 0.2\n",
      "INFO Going deep 0.2\n",
      "INFO Going deep 0.2\n",
      "INFO Going deep 0.1\n",
      "INFO Going deep 0.1\n",
      "INFO Going deep 0.2\n",
      "INFO Going deep 0.2\n",
      "INFO Going deep 0.3\n",
      "INFO Going deep 0.3\n",
      "INFO Going deep 0.1\n",
      "INFO Going deep 0.2\n",
      "INFO Going deep 0.1\n",
      "INFO Going deep 0.2\n",
      "INFO Going deep 0.2\n",
      "INFO Going deep 0.2\n",
      "INFO Going deep 0.2\n",
      "INFO Going deep 0.2\n",
      "INFO Going deep 0.4\n",
      "INFO Going deep 1.0\n",
      "INFO Going deep 1.0\n",
      "INFO Going deep 0.1\n",
      "INFO Going deep 0.1\n",
      "INFO Going deep 0.1\n",
      "INFO Going deep 0.1\n",
      "INFO Going deep 0.1\n",
      "INFO Going deep 0.1\n",
      "INFO Going deep 0.1\n",
      "INFO Going deep 0.1\n",
      "INFO Going deep 0.1\n",
      "INFO Going deep 0.1\n",
      "INFO Going deep 0.1\n",
      "INFO Going deep 0.1\n",
      "INFO Going deep 0.1\n",
      "INFO Going deep 0.1\n",
      "INFO Going deep 0.1\n",
      "INFO Going deep 0.1\n",
      "INFO Going deep 0.1\n",
      "INFO Going deep 0.1\n",
      "INFO Going deep 0.1\n",
      "INFO Going deep 0.1\n",
      "INFO Going deep 0.1\n",
      "INFO Going deep 0.1\n",
      "INFO Going deep 0.1\n",
      "INFO Going deep 0.1\n",
      "INFO Going deep 0.1\n",
      "INFO Going deep 0.1\n",
      "INFO Going deep 0.1\n",
      "INFO Going deep 0.1\n",
      "INFO Going deep 0.1\n",
      "INFO Going deep 0.1\n",
      "INFO Going deep 0.1\n",
      "INFO Going deep 0.1\n",
      "INFO Going deep 0.1\n",
      "INFO Going deep 0.1\n",
      "INFO Going deep 0.1\n",
      "INFO Going deep 0.1\n",
      "INFO Going deep 0.1\n",
      "INFO Going deep 0.2\n",
      "INFO Going deep 0.1\n",
      "INFO Going deep 0.1\n",
      "INFO Going deep 0.1\n",
      "INFO Going deep 0.3\n",
      "INFO Going deep 0.3\n",
      "INFO Going deep 0.1\n",
      "INFO Going deep 0.1\n",
      "INFO Going deep 0.1\n",
      "INFO Going deep 0.1\n",
      "INFO Going deep 0.1\n",
      "INFO Going deep 1.0\n",
      "INFO Going deep 0.1\n",
      "INFO Going deep 0.1\n",
      "INFO Going deep 0.1\n",
      "INFO Going deep 0.1\n",
      "INFO Going deep 0.1\n",
      "INFO Going deep 0.1\n",
      "INFO Going deep 0.1\n",
      "INFO Going deep 0.1\n",
      "INFO Going deep 0.1\n",
      "INFO Going deep 0.1\n",
      "INFO Going deep 0.1\n",
      "INFO Going deep 0.1\n",
      "INFO Going deep 0.1\n",
      "INFO Going deep 0.1\n",
      "INFO Going deep 0.1\n",
      "INFO Going deep 0.1\n",
      "INFO Going deep 0.1\n",
      "INFO Going deep 0.1\n",
      "INFO Going deep 0.2\n",
      "INFO Going deep 0.2\n",
      "INFO Going deep 0.1\n",
      "INFO Going deep 0.1\n",
      "INFO Going deep 0.2\n",
      "INFO Going deep 0.1\n",
      "INFO Going deep 0.1\n",
      "INFO Going deep 0.1\n",
      "INFO Going deep 0.1\n",
      "INFO Going deep 0.1\n",
      "INFO Going deep 0.1\n",
      "INFO Going deep 0.1\n",
      "INFO Going deep 0.2\n",
      "INFO Going deep 0.1\n",
      "INFO Going deep 0.1\n",
      "INFO Going deep 0.1\n",
      "INFO Going deep 0.1\n",
      "INFO Going deep 0.1\n",
      "INFO Going deep 0.1\n",
      "INFO Going deep 0.1\n",
      "INFO Going deep 0.2\n",
      "INFO Going deep 0.1\n",
      "INFO Going deep 0.1\n",
      "INFO Going deep 0.1\n",
      "INFO Going deep 0.1\n",
      "INFO Going deep 0.1\n",
      "INFO Going deep 0.1\n",
      "INFO Going deep 0.1\n",
      "INFO Going deep 0.2\n",
      "INFO Going deep 0.1\n",
      "INFO Going deep 0.1\n",
      "INFO Going deep 0.1\n",
      "INFO Going deep 0.1\n",
      "INFO Going deep 0.1\n",
      "INFO Going deep 0.1\n",
      "INFO Going deep 0.1\n",
      "INFO Going deep 0.1\n",
      "INFO Going deep 0.1\n",
      "INFO Going deep 0.4\n",
      "INFO Going deep 0.1\n",
      "INFO Going deep 0.1\n",
      "INFO Going deep 0.2\n",
      "INFO Going deep 0.1\n",
      "INFO Going deep 0.2\n",
      "INFO Going deep 0.5\n",
      "INFO Going deep 0.6\n",
      "INFO Going deep 0.1\n",
      "INFO Going deep 0.1\n",
      "INFO Going deep 0.2\n",
      "INFO Going deep 0.2\n",
      "INFO Going deep 0.1\n",
      "INFO Going deep 0.1\n",
      "INFO Going deep 0.1\n",
      "INFO Going deep 0.1\n",
      "INFO Going deep 0.1\n",
      "INFO Going deep 0.1\n",
      "INFO Going deep 0.1\n",
      "INFO Going deep 0.1\n",
      "INFO Going deep 0.2\n",
      "INFO Going deep 0.1\n",
      "INFO Going deep 0.2\n",
      "INFO Going deep 0.3\n",
      "INFO Going deep 0.1\n",
      "INFO Going deep 0.1\n",
      "INFO Going deep 0.1\n",
      "INFO Going deep 0.2\n",
      "INFO Going deep 0.2\n",
      "INFO Going deep 0.6\n",
      "INFO Going deep 0.1\n",
      "INFO Going deep 0.1\n",
      "INFO Going deep 0.1\n",
      "INFO Going deep 0.1\n",
      "INFO Going deep 0.2\n",
      "INFO Going deep 0.1\n",
      "INFO Going deep 0.1\n",
      "INFO Going deep 0.1\n",
      "INFO Going deep 0.1\n",
      "INFO Going deep 0.2\n",
      "INFO Going deep 0.4\n",
      "INFO Going deep 0.1\n",
      "INFO Going deep 0.1\n",
      "INFO Going deep 0.1\n",
      "INFO Going deep 0.1\n",
      "INFO Going deep 0.1\n",
      "INFO Going deep 0.1\n",
      "INFO Going deep 0.1\n",
      "INFO Going deep 0.1\n",
      "INFO Going deep 0.5\n",
      "INFO Going deep 0.5\n",
      "INFO Going deep 0.1\n",
      "INFO Going deep 0.1\n",
      "INFO Going deep 0.1\n",
      "INFO Going deep 0.1\n",
      "INFO Going deep 0.2\n",
      "INFO Going deep 0.3\n",
      "INFO Going deep 0.1\n",
      "INFO Going deep 0.1\n",
      "INFO Going deep 0.1\n",
      "INFO Going deep 0.1\n",
      "INFO Going deep 0.1\n",
      "INFO Going deep 0.2\n",
      "INFO Going deep 0.1\n",
      "INFO Going deep 0.1\n",
      "INFO Going deep 0.2\n",
      "INFO Going deep 0.1\n",
      "INFO Going deep 0.1\n",
      "INFO Going deep 0.4\n",
      "INFO Going deep 0.1\n",
      "INFO Going deep 0.1\n",
      "INFO Going deep 0.1\n",
      "INFO Going deep 0.1\n",
      "INFO Going deep 0.1\n",
      "INFO Going deep 0.1\n",
      "INFO Going deep 0.1\n",
      "INFO Going deep 0.2\n",
      "INFO Going deep 0.1\n",
      "INFO Going deep 0.1\n",
      "INFO Going deep 0.1\n",
      "INFO Going deep 0.1\n",
      "INFO Going deep 0.1\n",
      "INFO Going deep 0.1\n",
      "INFO Going deep 0.2\n",
      "INFO Going deep 0.3\n",
      "INFO Going deep 0.1\n",
      "INFO Going deep 0.1\n",
      "INFO Going deep 0.1\n",
      "INFO Going deep 0.2\n",
      "INFO Going deep 0.2\n",
      "INFO Going deep 0.1\n",
      "INFO Going deep 0.1\n",
      "INFO Going deep 0.1\n",
      "INFO Going deep 0.2\n",
      "INFO Going deep 0.3\n",
      "INFO Going deep 0.1\n",
      "INFO Going deep 0.1\n",
      "INFO Going deep 0.1\n",
      "INFO Going deep 0.1\n",
      "INFO Going deep 0.1\n",
      "INFO Going deep 0.1\n",
      "INFO Going deep 0.1\n",
      "INFO Going deep 0.1\n",
      "INFO Going deep 0.1\n",
      "INFO Going deep 0.1\n",
      "INFO Going deep 0.1\n",
      "INFO Going deep 0.1\n",
      "INFO Going deep 0.1\n",
      "INFO Going deep 0.1\n",
      "INFO Going deep 0.1\n",
      "INFO Going deep 0.1\n",
      "INFO Going deep 0.1\n",
      "INFO Going deep 0.1\n",
      "INFO Going deep 0.1\n",
      "INFO Going deep 0.1\n",
      "INFO Going deep 0.5\n",
      "INFO Going deep 0.5\n",
      "INFO Going deep 0.1\n",
      "INFO Going deep 0.1\n",
      "INFO Going deep 0.1\n",
      "INFO Going deep 0.2\n",
      "INFO Going deep 0.1\n",
      "INFO Going deep 0.3\n",
      "INFO Going deep 0.1\n",
      "INFO Going deep 0.1\n",
      "INFO Going deep 0.1\n",
      "INFO Going deep 0.1\n",
      "INFO Going deep 0.4\n",
      "INFO Going deep 0.1\n",
      "INFO Going deep 0.1\n",
      "INFO Going deep 0.1\n",
      "INFO Going deep 0.1\n",
      "INFO Going deep 0.1\n",
      "INFO Going deep 0.1\n",
      "INFO Going deep 0.1\n",
      "INFO Going deep 0.1\n",
      "INFO Going deep 0.1\n",
      "INFO Going deep 0.2\n",
      "INFO Going deep 0.1\n",
      "INFO Going deep 0.1\n",
      "INFO Going deep 0.4\n",
      "INFO Going deep 0.4\n",
      "INFO Going deep 1.0\n",
      "INFO Going deep 1.0\n",
      "INFO Going deep 1.0\n"
     ]
    },
    {
     "data": {
      "text/plain": [
       "0.05"
      ]
     },
     "execution_count": 9,
     "metadata": {},
     "output_type": "execute_result"
    }
   ],
   "source": [
    "bt.countNodesFrequenciesOnList(trees)"
   ]
  },
  {
   "cell_type": "markdown",
   "metadata": {},
   "source": [
    "## Convert the TreeNeo object to a Network instance (networkx)\n",
    "### The depth_level restricts the depth of the recursion process."
   ]
  },
  {
   "cell_type": "code",
   "execution_count": 10,
   "metadata": {
    "collapsed": false
   },
   "outputs": [],
   "source": [
    "gt = bt.toNetworkx(depth_level=4)"
   ]
  },
  {
   "cell_type": "markdown",
   "metadata": {},
   "source": [
    "## Visualizing the graph (now gt)"
   ]
  },
  {
   "cell_type": "code",
   "execution_count": 11,
   "metadata": {
    "collapsed": true
   },
   "outputs": [],
   "source": [
    "extractNames = lambda graph : {k:v for (k,v) in map(lambda n : (n,n.node.name),graph.nodes())}\n",
    "extractColors = lambda graph :  map(lambda n : n.level,graph.nodes())\n",
    "extractfreqs = lambda graph :  np.array(map(lambda n : n.n_presences_in_list,graph.nodes()))"
   ]
  },
  {
   "cell_type": "code",
   "execution_count": 12,
   "metadata": {
    "collapsed": false
   },
   "outputs": [
    {
     "name": "stderr",
     "output_type": "stream",
     "text": [
      "/opt/conda/envs/biospytial/lib/python2.7/site-packages/pygraphviz/agraph.py:1338: RuntimeWarning: Fontconfig warning: ignoring C.UTF-8: not a valid language tag\n",
      "\n",
      "  warnings.warn(b\"\".join(errors), RuntimeWarning)\n"
     ]
    },
    {
     "data": {
      "image/png": "[encoded data removed]",
      "text/plain": [
       "<matplotlib.figure.Figure at 0x7faf959f5690>"
      ]
     },
     "metadata": {},
     "output_type": "display_data"
    }
   ],
   "source": [
    "root = bt.node\n",
    "pos = graphviz_layout(gt,prog='circo',root=root.node.name)\n",
    "g_labels = bt.toNetworkx(depth_level=4)\n",
    "nt.draw(gt,pos,labels=extractNames(g_labels),node_color=extractColors(gt),node_size=extractfreqs(gt)*100)\n",
    "plt.show()"
   ]
  },
  {
   "cell_type": "code",
   "execution_count": null,
   "metadata": {
    "collapsed": false
   },
   "outputs": [],
   "source": [
    "## Convert to JSON and put it in the redis machine\n",
    "from drivers.encoders import TreeNodeEncoder\n",
    "from networkx.readwrite import json_graph\n",
    "xx = json.dumps(json_graph.node_link_data(gt),cls=TreeNodeEncoder)"
   ]
  },
  {
   "cell_type": "raw",
   "metadata": {
    "collapsed": false
   },
   "source": [
    "## just for testing\n",
    "from networkx.drawing.nx_agraph import graphviz_layout\n",
    "import networkx as nt\n",
    "from drivers.tree_builder import TreeNeo\n",
    "from drivers.graph_models import TreeNode, Order, Family, graph, pickNode\n",
    "from traversals.strategies import sumTrees, UniformRandomSampleForest\n",
    "import numpy as np\n",
    "import matplotlib.pyplot as plt\n",
    "bats = pickNode(Order,'Chiropt')\n",
    "trees = bats.getAssociatedTrees(first_n_cells=10)\n",
    "trees = list(trees)\n",
    "bt = reduce(lambda a,b : a+b , trees)\n",
    "gt = bt.toNetworkx(depth_level=6)\n",
    "bt.countNodesFrequenciesOnList(trees)\n",
    "extractNames = lambda graph : {k:v for (k,v) in map(lambda n : (n,n.node.name),graph.nodes())}\n",
    "extractColors = lambda graph :  map(lambda n : n.level,graph.nodes())\n",
    "extractfreqs = lambda graph :  np.array(map(lambda n : n.n_presences_in_list,graph.nodes()))\n",
    "root = bt.node\n",
    "pos = graphviz_layout(gt,prog='twopi',root=root.node.name)\n",
    "g_labels = bt.toNetworkx(depth_level=5)\n",
    "nt.draw(gt,pos,labels=extractNames(g_labels),node_color=extractColors(gt),node_size=extractfreqs(gt)*100)\n",
    "plt.show()\n",
    "\n",
    "\n"
   ]
  },
  {
   "cell_type": "code",
   "execution_count": null,
   "metadata": {
    "collapsed": true
   },
   "outputs": [],
   "source": []
  }
 ],
 "metadata": {
  "kernelspec": {
   "display_name": "Django Shell-Plus",
   "language": "python",
   "name": "django_extensions"
  },
  "language_info": {
   "codemirror_mode": {
    "name": "ipython",
    "version": 2
   },
   "file_extension": ".py",
   "mimetype": "text/x-python",
   "name": "python",
   "nbconvert_exporter": "python",
   "pygments_lexer": "ipython2",
   "version": "2.7.11"
  }
 },
 "nbformat": 4,
 "nbformat_minor": 0
}
