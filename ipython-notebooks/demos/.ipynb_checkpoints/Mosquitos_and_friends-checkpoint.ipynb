{
 "cells": [
  {
   "cell_type": "markdown",
   "metadata": {},
   "source": [
    "<img src=\"../biospytial.png\" alt=\"Drawing\" style=\"width: 500px;\"/>"
   ]
  },
  {
   "cell_type": "code",
   "execution_count": 19,
   "metadata": {},
   "outputs": [],
   "source": [
    "## Import modules and libraries\n",
    "%matplotlib inline\n",
    "import sys\n",
    "sys.path.append('/apps')\n",
    "import django\n",
    "django.setup()\n",
    "import numpy as np\n",
    "import matplotlib.pyplot as plt"
   ]
  },
  {
   "cell_type": "markdown",
   "metadata": {},
   "source": [
    "# Working example\n",
    "The purpose of this section is to show the functionalities of the engine and the global taxonomic tree structure. We will obtain a selection of a *family* type node related to mosquitos, generate a list of local taxonomic trees and obtain the ten most representative mamalian species."
   ]
  },
  {
   "cell_type": "markdown",
   "metadata": {},
   "source": [
    "<img src=\"mosquito2.jpg\" alt=\"Drawing\" style=\"width: 500px;\"/>"
   ]
  },
  {
   "cell_type": "markdown",
   "metadata": {},
   "source": [
    "## Load required classes and functions"
   ]
  },
  {
   "cell_type": "code",
   "execution_count": 20,
   "metadata": {},
   "outputs": [],
   "source": [
    "## The class of taxonomic tree\n",
    "from drivers.tree_builder import TreeNeo\n",
    "## Classes of nodes and function for node selection\n",
    "from drivers.graph_models import Order, Family, graph, pickNode\n",
    "# Load some strategies for traversal the graph\n",
    "from traversals.strategies import sumTrees\n",
    "# Load a sampling function for selecting local trees of life over a grid\n",
    "from traversals.sampling import UniformRandomSampleForest"
   ]
  },
  {
   "cell_type": "markdown",
   "metadata": {},
   "source": [
    "## Selecting the *Mosquito* node\n",
    "Mosquitos are members of the family *Culicidae*. \n",
    "For starting the traversal we will need to first select this node.\n",
    "> For picking a particular node use the function:\n",
    "**pickNode('Type of node','name of the node')**\n",
    "\n",
    "<img src=\"mosquito3.jpg\" alt=\"taken from: http://www.insectsexplained.com/11Diptera.htm\" style=\"width: 500px;\"/>"
   ]
  },
  {
   "cell_type": "code",
   "execution_count": 21,
   "metadata": {},
   "outputs": [],
   "source": [
    "mosquitos = pickNode(Family,\"Culicidae\")"
   ]
  },
  {
   "cell_type": "markdown",
   "metadata": {},
   "source": [
    "*mosquitos* is now an instance of the class **Family**. Its string representation is the following:"
   ]
  },
  {
   "cell_type": "code",
   "execution_count": 22,
   "metadata": {},
   "outputs": [
    {
     "data": {
      "text/plain": [
       "<TreeNode type: Family id = 3346 name: Culicidae>"
      ]
     },
     "execution_count": 22,
     "metadata": {},
     "output_type": "execute_result"
    }
   ],
   "source": [
    "mosquitos"
   ]
  },
  {
   "cell_type": "markdown",
   "metadata": {},
   "source": [
    "A possible traversal is to select all the cells where an occurrence of a mosquito (member of family *Culicidae*) was found. For doing this we will fetch the attribute *cells* and then translate this object into a list. \n",
    "> The attribute *.cells* is a lazy evaluation. For fetching all the data we need to cast it to a list or a partial list using an iterator"
   ]
  },
  {
   "cell_type": "code",
   "execution_count": 23,
   "metadata": {},
   "outputs": [
    {
     "name": "stdout",
     "output_type": "stream",
     "text": [
      "CPU times: user 960 ms, sys: 0 ns, total: 960 ms\n",
      "Wall time: 1.07 s\n"
     ]
    }
   ],
   "source": [
    "%time cells = list(mosquitos.cells)"
   ]
  },
  {
   "cell_type": "markdown",
   "metadata": {},
   "source": [
    "The new list *cells* has cell instances. Each cell is connected to other cells by the relation *IS_NEIGHBOUR_OF*. We can access these related cells with the method *getNeighbours(degree=n)* where degree is the size of the neighbourhood. By default n = 1"
   ]
  },
  {
   "cell_type": "code",
   "execution_count": 24,
   "metadata": {},
   "outputs": [],
   "source": [
    "neighbours = map(lambda cell : cell.getNeighbours(),cells)"
   ]
  },
  {
   "cell_type": "markdown",
   "metadata": {},
   "source": [
    "We will merge all the list of neighbours into one single list of cells, removing any repetition."
   ]
  },
  {
   "cell_type": "code",
   "execution_count": 25,
   "metadata": {},
   "outputs": [],
   "source": [
    "neighbouring_cells = reduce(lambda a,b : a+b ,neighbours)\n",
    "## Remove repetitions\n",
    "neighbours = list(set(neighbouring_cells))"
   ]
  },
  {
   "cell_type": "code",
   "execution_count": 26,
   "metadata": {},
   "outputs": [
    {
     "data": {
      "text/plain": [
       "30"
      ]
     },
     "execution_count": 26,
     "metadata": {},
     "output_type": "execute_result"
    }
   ],
   "source": [
    "# The size of the list is:\n",
    "len(neighbours)"
   ]
  },
  {
   "cell_type": "markdown",
   "metadata": {},
   "source": [
    "*neighbours* is a list of Cell:Mex4km instances. We can explore the structure of an instance"
   ]
  },
  {
   "cell_type": "code",
   "execution_count": 27,
   "metadata": {},
   "outputs": [],
   "source": [
    "c =  neighbours[0]"
   ]
  },
  {
   "cell_type": "code",
   "execution_count": 28,
   "metadata": {},
   "outputs": [
    {
     "data": {
      "text/plain": [
       "< Cell-mex4km id = 265959 >"
      ]
     },
     "execution_count": 28,
     "metadata": {},
     "output_type": "execute_result"
    }
   ],
   "source": [
    "# example of cell\n",
    "c"
   ]
  },
  {
   "cell_type": "markdown",
   "metadata": {},
   "source": [
    "## Converting cells to local taxonomic trees\n",
    "For this example we will use the function 'UniformRandomSampleForest' to sampling uniformly from the list 'neighbours'. The 'size' argument is the size of the sample, a list of TreeNeo objects that represent a local taxonomic tree of life (LTToL)."
   ]
  },
  {
   "cell_type": "code",
   "execution_count": 29,
   "metadata": {},
   "outputs": [
    {
     "name": "stderr",
     "output_type": "stream",
     "text": [
      "DEBUG Random list creates\n",
      "DEBUG Random cells selected\n"
     ]
    },
    {
     "name": "stdout",
     "output_type": "stream",
     "text": [
      "CPU times: user 24.1 s, sys: 652 ms, total: 24.7 s\n",
      "Wall time: 30.2 s\n"
     ]
    }
   ],
   "source": [
    "sample = UniformRandomSampleForest(neighbours,size=5)\n",
    "%time sample_trees = list(sample)"
   ]
  },
  {
   "cell_type": "code",
   "execution_count": 30,
   "metadata": {},
   "outputs": [
    {
     "name": "stdout",
     "output_type": "stream",
     "text": [
      "CPU times: user 1.62 s, sys: 64 ms, total: 1.69 s\n",
      "Wall time: 1.83 s\n"
     ]
    }
   ],
   "source": [
    "## This is an optimised version, without uniform sample\n",
    "%time sample_trees = map(lambda cell : TreeNeo(cell.occurrencesHere()),neighbours[:5])"
   ]
  },
  {
   "cell_type": "markdown",
   "metadata": {},
   "source": [
    "'sample_trees' is a list of LTToL. Each of these have all the occurrence data (represented as a graph traversal) hierarchically arranged according to the ancestral relation \"IS_PARENT_OF\". The n.count value indicates the number of total occurrences."
   ]
  },
  {
   "cell_type": "code",
   "execution_count": 31,
   "metadata": {},
   "outputs": [
    {
     "data": {
      "text/plain": [
       "[<LocalTree Of Life | Root: LUCA - n.count : 23- >,\n",
       " <LocalTree Of Life | Root: LUCA - n.count : 15- >,\n",
       " <LocalTree Of Life | Root: LUCA - n.count : 34- >,\n",
       " <LocalTree Of Life | Root: LUCA - n.count : 85- >,\n",
       " <LocalTree Of Life | Root: LUCA - n.count : 118- >]"
      ]
     },
     "execution_count": 31,
     "metadata": {},
     "output_type": "execute_result"
    }
   ],
   "source": [
    "sample_trees"
   ]
  },
  {
   "cell_type": "markdown",
   "metadata": {},
   "source": [
    "## Exploratory analysis of the object 'Tree'\n",
    "Let "
   ]
  },
  {
   "cell_type": "code",
   "execution_count": 35,
   "metadata": {},
   "outputs": [],
   "source": [
    "t1 = sample_trees[0]"
   ]
  },
  {
   "cell_type": "markdown",
   "metadata": {},
   "source": [
    "t1 is a LTToL, an class that warps the entire tree structure. The attribute 'node' corresponds to the Root of the Taxonomic Tree. "
   ]
  },
  {
   "cell_type": "code",
   "execution_count": 40,
   "metadata": {},
   "outputs": [],
   "source": [
    "root_node = t1.node "
   ]
  },
  {
   "cell_type": "markdown",
   "metadata": {},
   "source": [
    "root_node has children as attributes"
   ]
  },
  {
   "cell_type": "code",
   "execution_count": 41,
   "metadata": {},
   "outputs": [
    {
     "data": {
      "text/plain": [
       "[<LocalTree | Kingdom: Animalia - n.count : 21- | AF: 0.05 >,\n",
       " <LocalTree | Kingdom: Plantae - n.count : 2- | AF: 0.05 >]"
      ]
     },
     "execution_count": 41,
     "metadata": {},
     "output_type": "execute_result"
    }
   ],
   "source": [
    "root_node.children"
   ]
  },
  {
   "cell_type": "markdown",
   "metadata": {},
   "source": [
    "We can access the specific type of node, for example the node 'Animalia'. The children nodes are attributes of the node itself."
   ]
  },
  {
   "cell_type": "code",
   "execution_count": 44,
   "metadata": {},
   "outputs": [],
   "source": [
    "animalia = root_node.to_Animalia"
   ]
  },
  {
   "cell_type": "markdown",
   "metadata": {},
   "source": [
    "The resulting node (animalia) is again of a 'TreeNode' type. \n",
    "By recursion, we can explore this node until we reach no children."
   ]
  },
  {
   "cell_type": "code",
   "execution_count": 56,
   "metadata": {},
   "outputs": [],
   "source": [
    "bats = root_node.to_Animalia.to_Chordata.to_Mammalia.to_Chiroptera"
   ]
  },
  {
   "cell_type": "markdown",
   "metadata": {},
   "source": [
    "We can also explore the Tree (LTToL) from a taxonomic level perspective"
   ]
  },
  {
   "cell_type": "code",
   "execution_count": 57,
   "metadata": {},
   "outputs": [
    {
     "data": {
      "text/plain": [
       "[<LocalTree | Phylum: Chordata - n.count : 19- | AF: 0.05 >,\n",
       " <LocalTree | Phylum: Arthropoda - n.count : 2- | AF: 0.05 >,\n",
       " <LocalTree | Phylum: Magnoliophyta - n.count : 2- | AF: 0.05 >]"
      ]
     },
     "execution_count": 57,
     "metadata": {},
     "output_type": "execute_result"
    }
   ],
   "source": [
    "t1.phyla"
   ]
  },
  {
   "cell_type": "code",
   "execution_count": 58,
   "metadata": {},
   "outputs": [
    {
     "data": {
      "text/plain": [
       "[<LocalTree | Family: Troglodytidae - n.count : 2- | AF: 0.05 >,\n",
       " <LocalTree | Family: Phyllostomidae - n.count : 13- | AF: 0.05 >,\n",
       " <LocalTree | Family: Vespertilionidae - n.count : 3- | AF: 0.05 >,\n",
       " <LocalTree | Family: Sphingidae - n.count : 1- | AF: 0.05 >,\n",
       " <LocalTree | Family: Fabaceae - n.count : 2- | AF: 0.05 >,\n",
       " <LocalTree | Family: Apidae - n.count : 1- | AF: 0.05 >,\n",
       " <LocalTree | Family: Cathartidae - n.count : 1- | AF: 0.05 >]"
      ]
     },
     "execution_count": 58,
     "metadata": {},
     "output_type": "execute_result"
    }
   ],
   "source": [
    "t1.families"
   ]
  },
  {
   "cell_type": "markdown",
   "metadata": {},
   "source": [
    "## LToL operations\n",
    "LToL objects allow algebraic operations (monoid structure). Let t1 and t2 two LToL from the list of sampled trees"
   ]
  },
  {
   "cell_type": "code",
   "execution_count": 60,
   "metadata": {},
   "outputs": [],
   "source": [
    "# Let\n",
    "t1, t2 = sample_trees[:2]"
   ]
  },
  {
   "cell_type": "markdown",
   "metadata": {},
   "source": [
    "Merging two trees is equivalent to the 'Sum'"
   ]
  },
  {
   "cell_type": "code",
   "execution_count": 67,
   "metadata": {},
   "outputs": [
    {
     "name": "stderr",
     "output_type": "stream",
     "text": [
      "INFO Merging Trees\n"
     ]
    }
   ],
   "source": [
    "t3 = t1 + t2 "
   ]
  },
  {
   "cell_type": "code",
   "execution_count": 70,
   "metadata": {},
   "outputs": [
    {
     "data": {
      "text/plain": [
       "[<LocalTree | Class: Aves - n.count : 3- | AF: 0.05 >,\n",
       " <LocalTree | Class: Mammalia - n.count : 16- | AF: 0.05 >,\n",
       " <LocalTree | Class: Magnoliopsida - n.count : 2- | AF: 0.05 >,\n",
       " <LocalTree | Class: Insecta - n.count : 2- | AF: 0.05 >]"
      ]
     },
     "execution_count": 70,
     "metadata": {},
     "output_type": "execute_result"
    }
   ],
   "source": [
    "t1.classes"
   ]
  },
  {
   "cell_type": "code",
   "execution_count": 71,
   "metadata": {},
   "outputs": [
    {
     "data": {
      "text/plain": [
       "[<LocalTree | Class: Actinopterygii - n.count : 9- | AF: 0.05 >,\n",
       " <LocalTree | Class: Mammalia - n.count : 4- | AF: 0.05 >,\n",
       " <LocalTree | Class: Magnoliopsida - n.count : 1- | AF: 0.05 >,\n",
       " <LocalTree | Class: Arachnida - n.count : 1- | AF: 0.05 >]"
      ]
     },
     "execution_count": 71,
     "metadata": {},
     "output_type": "execute_result"
    }
   ],
   "source": [
    "t2.classes"
   ]
  },
  {
   "cell_type": "code",
   "execution_count": null,
   "metadata": {},
   "outputs": [],
   "source": []
  },
  {
   "cell_type": "markdown",
   "metadata": {},
   "source": [
    "### "
   ]
  },
  {
   "cell_type": "markdown",
   "metadata": {},
   "source": [
    "### Folding (*Integrate* ) the regional tree"
   ]
  },
  {
   "cell_type": "code",
   "execution_count": 26,
   "metadata": {},
   "outputs": [
    {
     "name": "stderr",
     "output_type": "stream",
     "text": [
      "INFO Merging Trees\n",
      "INFO Merging Trees\n",
      "INFO Merging Trees\n",
      "INFO Merging Trees\n"
     ]
    }
   ],
   "source": [
    "big_t = reduce(lambda a , b : a+b , sample_trees)"
   ]
  },
  {
   "cell_type": "markdown",
   "metadata": {},
   "source": [
    "# Tree subselections "
   ]
  },
  {
   "cell_type": "code",
   "execution_count": 19,
   "metadata": {
    "collapsed": true
   },
   "outputs": [],
   "source": [
    "mammals = big_t.to_Animalia.to_Chordata.to_Mammalia.plantTreeNode()"
   ]
  },
  {
   "cell_type": "code",
   "execution_count": 20,
   "metadata": {},
   "outputs": [
    {
     "data": {
      "text/plain": [
       "<LocalTree Of Life | Root: LUCA - n.count : 101- >"
      ]
     },
     "execution_count": 20,
     "metadata": {},
     "output_type": "execute_result"
    }
   ],
   "source": [
    "mammals"
   ]
  },
  {
   "cell_type": "markdown",
   "metadata": {},
   "source": [
    "# Get (Raster) Environmental Information"
   ]
  },
  {
   "cell_type": "code",
   "execution_count": 21,
   "metadata": {},
   "outputs": [],
   "source": [
    "table = mammals.associatedData.getEnvironmentalVariablesPoints()"
   ]
  },
  {
   "cell_type": "code",
   "execution_count": 22,
   "metadata": {
    "scrolled": true
   },
   "outputs": [
    {
     "data": {
      "text/html": [
       "<div>\n",
       "<table border=\"1\" class=\"dataframe\">\n",
       "  <thead>\n",
       "    <tr style=\"text-align: right;\">\n",
       "      <th></th>\n",
       "      <th>MaxTemperature_mean</th>\n",
       "      <th>MaxTemperature_std</th>\n",
       "      <th>MeanTemperature_mean</th>\n",
       "      <th>MeanTemperature_std</th>\n",
       "      <th>MinTemperature_mean</th>\n",
       "      <th>MinTemperature_std</th>\n",
       "      <th>Precipitation_mean</th>\n",
       "      <th>Precipitation_std</th>\n",
       "      <th>Vapor_mean</th>\n",
       "      <th>Vapor_std</th>\n",
       "      <th>SolarRadiation_mean</th>\n",
       "      <th>SolarRadiation_std</th>\n",
       "      <th>WindSpeed_mean</th>\n",
       "      <th>WindSpeed_std</th>\n",
       "      <th>x</th>\n",
       "      <th>y</th>\n",
       "    </tr>\n",
       "  </thead>\n",
       "  <tbody>\n",
       "    <tr>\n",
       "      <th>0</th>\n",
       "      <td>13.916667</td>\n",
       "      <td>4.974239</td>\n",
       "      <td>21.750000</td>\n",
       "      <td>5.035292</td>\n",
       "      <td>29.416667</td>\n",
       "      <td>5.024247</td>\n",
       "      <td>20.166667</td>\n",
       "      <td>15.203253</td>\n",
       "      <td>1.333333</td>\n",
       "      <td>0.471405</td>\n",
       "      <td>16683.000000</td>\n",
       "      <td>3419.142266</td>\n",
       "      <td>2.333333</td>\n",
       "      <td>0.471405</td>\n",
       "      <td>-103.42000</td>\n",
       "      <td>25.51000</td>\n",
       "    </tr>\n",
       "    <tr>\n",
       "      <th>1</th>\n",
       "      <td>13.916667</td>\n",
       "      <td>4.974239</td>\n",
       "      <td>21.750000</td>\n",
       "      <td>5.035292</td>\n",
       "      <td>29.416667</td>\n",
       "      <td>5.024247</td>\n",
       "      <td>20.166667</td>\n",
       "      <td>15.203253</td>\n",
       "      <td>1.333333</td>\n",
       "      <td>0.471405</td>\n",
       "      <td>16683.000000</td>\n",
       "      <td>3419.142266</td>\n",
       "      <td>2.333333</td>\n",
       "      <td>0.471405</td>\n",
       "      <td>-103.42000</td>\n",
       "      <td>25.51000</td>\n",
       "    </tr>\n",
       "    <tr>\n",
       "      <th>2</th>\n",
       "      <td>13.916667</td>\n",
       "      <td>4.974239</td>\n",
       "      <td>21.750000</td>\n",
       "      <td>5.035292</td>\n",
       "      <td>29.416667</td>\n",
       "      <td>5.024247</td>\n",
       "      <td>20.166667</td>\n",
       "      <td>15.203253</td>\n",
       "      <td>1.333333</td>\n",
       "      <td>0.471405</td>\n",
       "      <td>16683.000000</td>\n",
       "      <td>3419.142266</td>\n",
       "      <td>2.333333</td>\n",
       "      <td>0.471405</td>\n",
       "      <td>-103.42000</td>\n",
       "      <td>25.51000</td>\n",
       "    </tr>\n",
       "    <tr>\n",
       "      <th>3</th>\n",
       "      <td>13.916667</td>\n",
       "      <td>4.974239</td>\n",
       "      <td>21.750000</td>\n",
       "      <td>5.035292</td>\n",
       "      <td>29.416667</td>\n",
       "      <td>5.024247</td>\n",
       "      <td>20.166667</td>\n",
       "      <td>15.203253</td>\n",
       "      <td>1.333333</td>\n",
       "      <td>0.471405</td>\n",
       "      <td>16683.000000</td>\n",
       "      <td>3419.142266</td>\n",
       "      <td>2.333333</td>\n",
       "      <td>0.471405</td>\n",
       "      <td>-103.42000</td>\n",
       "      <td>25.51000</td>\n",
       "    </tr>\n",
       "    <tr>\n",
       "      <th>4</th>\n",
       "      <td>13.750000</td>\n",
       "      <td>4.866981</td>\n",
       "      <td>21.500000</td>\n",
       "      <td>5.008326</td>\n",
       "      <td>29.416667</td>\n",
       "      <td>5.024247</td>\n",
       "      <td>20.833333</td>\n",
       "      <td>15.715350</td>\n",
       "      <td>1.333333</td>\n",
       "      <td>0.471405</td>\n",
       "      <td>16706.916667</td>\n",
       "      <td>3430.710117</td>\n",
       "      <td>2.333333</td>\n",
       "      <td>0.471405</td>\n",
       "      <td>-103.44000</td>\n",
       "      <td>25.51000</td>\n",
       "    </tr>\n",
       "    <tr>\n",
       "      <th>5</th>\n",
       "      <td>13.916667</td>\n",
       "      <td>4.974239</td>\n",
       "      <td>21.750000</td>\n",
       "      <td>5.035292</td>\n",
       "      <td>29.416667</td>\n",
       "      <td>5.024247</td>\n",
       "      <td>20.166667</td>\n",
       "      <td>15.203253</td>\n",
       "      <td>1.333333</td>\n",
       "      <td>0.471405</td>\n",
       "      <td>16683.000000</td>\n",
       "      <td>3419.142266</td>\n",
       "      <td>2.333333</td>\n",
       "      <td>0.471405</td>\n",
       "      <td>-103.42000</td>\n",
       "      <td>25.51000</td>\n",
       "    </tr>\n",
       "    <tr>\n",
       "      <th>6</th>\n",
       "      <td>21.583333</td>\n",
       "      <td>0.953794</td>\n",
       "      <td>27.583333</td>\n",
       "      <td>0.759203</td>\n",
       "      <td>33.666667</td>\n",
       "      <td>0.745356</td>\n",
       "      <td>208.000000</td>\n",
       "      <td>174.915218</td>\n",
       "      <td>2.666667</td>\n",
       "      <td>0.471405</td>\n",
       "      <td>18249.083333</td>\n",
       "      <td>1151.947153</td>\n",
       "      <td>2.250000</td>\n",
       "      <td>0.433013</td>\n",
       "      <td>-92.23900</td>\n",
       "      <td>14.85800</td>\n",
       "    </tr>\n",
       "    <tr>\n",
       "      <th>7</th>\n",
       "      <td>21.583333</td>\n",
       "      <td>0.953794</td>\n",
       "      <td>27.583333</td>\n",
       "      <td>0.759203</td>\n",
       "      <td>33.666667</td>\n",
       "      <td>0.745356</td>\n",
       "      <td>208.000000</td>\n",
       "      <td>174.915218</td>\n",
       "      <td>2.666667</td>\n",
       "      <td>0.471405</td>\n",
       "      <td>18249.083333</td>\n",
       "      <td>1151.947153</td>\n",
       "      <td>2.250000</td>\n",
       "      <td>0.433013</td>\n",
       "      <td>-92.23900</td>\n",
       "      <td>14.85800</td>\n",
       "    </tr>\n",
       "    <tr>\n",
       "      <th>8</th>\n",
       "      <td>21.583333</td>\n",
       "      <td>0.953794</td>\n",
       "      <td>27.583333</td>\n",
       "      <td>0.759203</td>\n",
       "      <td>33.666667</td>\n",
       "      <td>0.745356</td>\n",
       "      <td>208.000000</td>\n",
       "      <td>174.915218</td>\n",
       "      <td>2.666667</td>\n",
       "      <td>0.471405</td>\n",
       "      <td>18249.083333</td>\n",
       "      <td>1151.947153</td>\n",
       "      <td>2.250000</td>\n",
       "      <td>0.433013</td>\n",
       "      <td>-92.23900</td>\n",
       "      <td>14.85800</td>\n",
       "    </tr>\n",
       "    <tr>\n",
       "      <th>9</th>\n",
       "      <td>21.583333</td>\n",
       "      <td>0.953794</td>\n",
       "      <td>27.583333</td>\n",
       "      <td>0.759203</td>\n",
       "      <td>33.666667</td>\n",
       "      <td>0.745356</td>\n",
       "      <td>208.000000</td>\n",
       "      <td>174.915218</td>\n",
       "      <td>2.666667</td>\n",
       "      <td>0.471405</td>\n",
       "      <td>18249.083333</td>\n",
       "      <td>1151.947153</td>\n",
       "      <td>2.250000</td>\n",
       "      <td>0.433013</td>\n",
       "      <td>-92.23900</td>\n",
       "      <td>14.85800</td>\n",
       "    </tr>\n",
       "    <tr>\n",
       "      <th>10</th>\n",
       "      <td>21.583333</td>\n",
       "      <td>0.953794</td>\n",
       "      <td>27.583333</td>\n",
       "      <td>0.759203</td>\n",
       "      <td>33.666667</td>\n",
       "      <td>0.745356</td>\n",
       "      <td>208.000000</td>\n",
       "      <td>174.915218</td>\n",
       "      <td>2.666667</td>\n",
       "      <td>0.471405</td>\n",
       "      <td>18249.083333</td>\n",
       "      <td>1151.947153</td>\n",
       "      <td>2.250000</td>\n",
       "      <td>0.433013</td>\n",
       "      <td>-92.23900</td>\n",
       "      <td>14.85800</td>\n",
       "    </tr>\n",
       "    <tr>\n",
       "      <th>11</th>\n",
       "      <td>21.583333</td>\n",
       "      <td>0.953794</td>\n",
       "      <td>27.583333</td>\n",
       "      <td>0.759203</td>\n",
       "      <td>33.666667</td>\n",
       "      <td>0.745356</td>\n",
       "      <td>208.000000</td>\n",
       "      <td>174.915218</td>\n",
       "      <td>2.666667</td>\n",
       "      <td>0.471405</td>\n",
       "      <td>18249.083333</td>\n",
       "      <td>1151.947153</td>\n",
       "      <td>2.250000</td>\n",
       "      <td>0.433013</td>\n",
       "      <td>-92.23900</td>\n",
       "      <td>14.85800</td>\n",
       "    </tr>\n",
       "    <tr>\n",
       "      <th>12</th>\n",
       "      <td>21.583333</td>\n",
       "      <td>0.953794</td>\n",
       "      <td>27.583333</td>\n",
       "      <td>0.759203</td>\n",
       "      <td>33.666667</td>\n",
       "      <td>0.745356</td>\n",
       "      <td>208.000000</td>\n",
       "      <td>174.915218</td>\n",
       "      <td>2.666667</td>\n",
       "      <td>0.471405</td>\n",
       "      <td>18249.083333</td>\n",
       "      <td>1151.947153</td>\n",
       "      <td>2.250000</td>\n",
       "      <td>0.433013</td>\n",
       "      <td>-92.23900</td>\n",
       "      <td>14.85800</td>\n",
       "    </tr>\n",
       "    <tr>\n",
       "      <th>13</th>\n",
       "      <td>21.583333</td>\n",
       "      <td>0.953794</td>\n",
       "      <td>27.583333</td>\n",
       "      <td>0.759203</td>\n",
       "      <td>33.666667</td>\n",
       "      <td>0.745356</td>\n",
       "      <td>208.000000</td>\n",
       "      <td>174.915218</td>\n",
       "      <td>2.666667</td>\n",
       "      <td>0.471405</td>\n",
       "      <td>18249.083333</td>\n",
       "      <td>1151.947153</td>\n",
       "      <td>2.250000</td>\n",
       "      <td>0.433013</td>\n",
       "      <td>-92.23900</td>\n",
       "      <td>14.85800</td>\n",
       "    </tr>\n",
       "    <tr>\n",
       "      <th>14</th>\n",
       "      <td>21.583333</td>\n",
       "      <td>0.953794</td>\n",
       "      <td>27.583333</td>\n",
       "      <td>0.759203</td>\n",
       "      <td>33.666667</td>\n",
       "      <td>0.745356</td>\n",
       "      <td>208.000000</td>\n",
       "      <td>174.915218</td>\n",
       "      <td>2.666667</td>\n",
       "      <td>0.471405</td>\n",
       "      <td>18249.083333</td>\n",
       "      <td>1151.947153</td>\n",
       "      <td>2.250000</td>\n",
       "      <td>0.433013</td>\n",
       "      <td>-92.23900</td>\n",
       "      <td>14.85800</td>\n",
       "    </tr>\n",
       "    <tr>\n",
       "      <th>15</th>\n",
       "      <td>21.583333</td>\n",
       "      <td>0.953794</td>\n",
       "      <td>27.583333</td>\n",
       "      <td>0.759203</td>\n",
       "      <td>33.666667</td>\n",
       "      <td>0.745356</td>\n",
       "      <td>208.000000</td>\n",
       "      <td>174.915218</td>\n",
       "      <td>2.666667</td>\n",
       "      <td>0.471405</td>\n",
       "      <td>18249.083333</td>\n",
       "      <td>1151.947153</td>\n",
       "      <td>2.250000</td>\n",
       "      <td>0.433013</td>\n",
       "      <td>-92.23900</td>\n",
       "      <td>14.85800</td>\n",
       "    </tr>\n",
       "    <tr>\n",
       "      <th>16</th>\n",
       "      <td>20.666667</td>\n",
       "      <td>1.795055</td>\n",
       "      <td>25.750000</td>\n",
       "      <td>1.876388</td>\n",
       "      <td>31.000000</td>\n",
       "      <td>1.732051</td>\n",
       "      <td>71.500000</td>\n",
       "      <td>36.602596</td>\n",
       "      <td>2.500000</td>\n",
       "      <td>0.500000</td>\n",
       "      <td>18203.083333</td>\n",
       "      <td>2893.894275</td>\n",
       "      <td>3.500000</td>\n",
       "      <td>0.500000</td>\n",
       "      <td>-87.65900</td>\n",
       "      <td>21.47200</td>\n",
       "    </tr>\n",
       "    <tr>\n",
       "      <th>17</th>\n",
       "      <td>20.666667</td>\n",
       "      <td>1.795055</td>\n",
       "      <td>25.750000</td>\n",
       "      <td>1.876388</td>\n",
       "      <td>31.000000</td>\n",
       "      <td>1.732051</td>\n",
       "      <td>71.500000</td>\n",
       "      <td>36.602596</td>\n",
       "      <td>2.500000</td>\n",
       "      <td>0.500000</td>\n",
       "      <td>18203.083333</td>\n",
       "      <td>2893.894275</td>\n",
       "      <td>3.500000</td>\n",
       "      <td>0.500000</td>\n",
       "      <td>-87.65900</td>\n",
       "      <td>21.47200</td>\n",
       "    </tr>\n",
       "    <tr>\n",
       "      <th>18</th>\n",
       "      <td>20.666667</td>\n",
       "      <td>1.795055</td>\n",
       "      <td>25.750000</td>\n",
       "      <td>1.876388</td>\n",
       "      <td>31.000000</td>\n",
       "      <td>1.732051</td>\n",
       "      <td>71.500000</td>\n",
       "      <td>36.602596</td>\n",
       "      <td>2.500000</td>\n",
       "      <td>0.500000</td>\n",
       "      <td>18203.083333</td>\n",
       "      <td>2893.894275</td>\n",
       "      <td>3.500000</td>\n",
       "      <td>0.500000</td>\n",
       "      <td>-87.65900</td>\n",
       "      <td>21.47200</td>\n",
       "    </tr>\n",
       "    <tr>\n",
       "      <th>19</th>\n",
       "      <td>20.666667</td>\n",
       "      <td>1.795055</td>\n",
       "      <td>25.750000</td>\n",
       "      <td>1.876388</td>\n",
       "      <td>31.000000</td>\n",
       "      <td>1.732051</td>\n",
       "      <td>71.500000</td>\n",
       "      <td>36.602596</td>\n",
       "      <td>2.500000</td>\n",
       "      <td>0.500000</td>\n",
       "      <td>18203.083333</td>\n",
       "      <td>2893.894275</td>\n",
       "      <td>3.500000</td>\n",
       "      <td>0.500000</td>\n",
       "      <td>-87.65900</td>\n",
       "      <td>21.47200</td>\n",
       "    </tr>\n",
       "    <tr>\n",
       "      <th>20</th>\n",
       "      <td>20.666667</td>\n",
       "      <td>1.795055</td>\n",
       "      <td>25.750000</td>\n",
       "      <td>1.876388</td>\n",
       "      <td>31.000000</td>\n",
       "      <td>1.732051</td>\n",
       "      <td>71.500000</td>\n",
       "      <td>36.602596</td>\n",
       "      <td>2.500000</td>\n",
       "      <td>0.500000</td>\n",
       "      <td>18203.083333</td>\n",
       "      <td>2893.894275</td>\n",
       "      <td>3.500000</td>\n",
       "      <td>0.500000</td>\n",
       "      <td>-87.65900</td>\n",
       "      <td>21.47200</td>\n",
       "    </tr>\n",
       "    <tr>\n",
       "      <th>21</th>\n",
       "      <td>20.666667</td>\n",
       "      <td>1.795055</td>\n",
       "      <td>25.750000</td>\n",
       "      <td>1.876388</td>\n",
       "      <td>31.000000</td>\n",
       "      <td>1.732051</td>\n",
       "      <td>71.500000</td>\n",
       "      <td>36.602596</td>\n",
       "      <td>2.500000</td>\n",
       "      <td>0.500000</td>\n",
       "      <td>18203.083333</td>\n",
       "      <td>2893.894275</td>\n",
       "      <td>3.500000</td>\n",
       "      <td>0.500000</td>\n",
       "      <td>-87.65900</td>\n",
       "      <td>21.47200</td>\n",
       "    </tr>\n",
       "    <tr>\n",
       "      <th>22</th>\n",
       "      <td>20.666667</td>\n",
       "      <td>1.795055</td>\n",
       "      <td>25.750000</td>\n",
       "      <td>1.876388</td>\n",
       "      <td>31.000000</td>\n",
       "      <td>1.732051</td>\n",
       "      <td>71.500000</td>\n",
       "      <td>36.602596</td>\n",
       "      <td>2.500000</td>\n",
       "      <td>0.500000</td>\n",
       "      <td>18203.083333</td>\n",
       "      <td>2893.894275</td>\n",
       "      <td>3.500000</td>\n",
       "      <td>0.500000</td>\n",
       "      <td>-87.65900</td>\n",
       "      <td>21.47200</td>\n",
       "    </tr>\n",
       "    <tr>\n",
       "      <th>23</th>\n",
       "      <td>20.666667</td>\n",
       "      <td>1.795055</td>\n",
       "      <td>25.750000</td>\n",
       "      <td>1.876388</td>\n",
       "      <td>31.000000</td>\n",
       "      <td>1.732051</td>\n",
       "      <td>71.500000</td>\n",
       "      <td>36.602596</td>\n",
       "      <td>2.500000</td>\n",
       "      <td>0.500000</td>\n",
       "      <td>18203.083333</td>\n",
       "      <td>2893.894275</td>\n",
       "      <td>3.500000</td>\n",
       "      <td>0.500000</td>\n",
       "      <td>-87.65900</td>\n",
       "      <td>21.47200</td>\n",
       "    </tr>\n",
       "    <tr>\n",
       "      <th>24</th>\n",
       "      <td>20.666667</td>\n",
       "      <td>1.795055</td>\n",
       "      <td>25.750000</td>\n",
       "      <td>1.876388</td>\n",
       "      <td>31.000000</td>\n",
       "      <td>1.732051</td>\n",
       "      <td>71.500000</td>\n",
       "      <td>36.602596</td>\n",
       "      <td>2.500000</td>\n",
       "      <td>0.500000</td>\n",
       "      <td>18203.083333</td>\n",
       "      <td>2893.894275</td>\n",
       "      <td>3.500000</td>\n",
       "      <td>0.500000</td>\n",
       "      <td>-87.65900</td>\n",
       "      <td>21.47200</td>\n",
       "    </tr>\n",
       "    <tr>\n",
       "      <th>25</th>\n",
       "      <td>21.583333</td>\n",
       "      <td>0.953794</td>\n",
       "      <td>27.583333</td>\n",
       "      <td>0.759203</td>\n",
       "      <td>33.666667</td>\n",
       "      <td>0.745356</td>\n",
       "      <td>208.000000</td>\n",
       "      <td>174.915218</td>\n",
       "      <td>2.666667</td>\n",
       "      <td>0.471405</td>\n",
       "      <td>18249.083333</td>\n",
       "      <td>1151.947153</td>\n",
       "      <td>2.250000</td>\n",
       "      <td>0.433013</td>\n",
       "      <td>-92.24000</td>\n",
       "      <td>14.85300</td>\n",
       "    </tr>\n",
       "    <tr>\n",
       "      <th>26</th>\n",
       "      <td>21.583333</td>\n",
       "      <td>0.953794</td>\n",
       "      <td>27.583333</td>\n",
       "      <td>0.759203</td>\n",
       "      <td>33.666667</td>\n",
       "      <td>0.745356</td>\n",
       "      <td>208.000000</td>\n",
       "      <td>174.915218</td>\n",
       "      <td>2.666667</td>\n",
       "      <td>0.471405</td>\n",
       "      <td>18249.083333</td>\n",
       "      <td>1151.947153</td>\n",
       "      <td>2.250000</td>\n",
       "      <td>0.433013</td>\n",
       "      <td>-92.23900</td>\n",
       "      <td>14.85800</td>\n",
       "    </tr>\n",
       "    <tr>\n",
       "      <th>27</th>\n",
       "      <td>21.583333</td>\n",
       "      <td>0.953794</td>\n",
       "      <td>27.583333</td>\n",
       "      <td>0.759203</td>\n",
       "      <td>33.666667</td>\n",
       "      <td>0.745356</td>\n",
       "      <td>208.000000</td>\n",
       "      <td>174.915218</td>\n",
       "      <td>2.666667</td>\n",
       "      <td>0.471405</td>\n",
       "      <td>18249.083333</td>\n",
       "      <td>1151.947153</td>\n",
       "      <td>2.250000</td>\n",
       "      <td>0.433013</td>\n",
       "      <td>-92.23900</td>\n",
       "      <td>14.85800</td>\n",
       "    </tr>\n",
       "    <tr>\n",
       "      <th>28</th>\n",
       "      <td>13.916667</td>\n",
       "      <td>4.974239</td>\n",
       "      <td>21.750000</td>\n",
       "      <td>5.035292</td>\n",
       "      <td>29.416667</td>\n",
       "      <td>5.024247</td>\n",
       "      <td>20.166667</td>\n",
       "      <td>15.203253</td>\n",
       "      <td>1.333333</td>\n",
       "      <td>0.471405</td>\n",
       "      <td>16683.000000</td>\n",
       "      <td>3419.142266</td>\n",
       "      <td>2.333333</td>\n",
       "      <td>0.471405</td>\n",
       "      <td>-103.42000</td>\n",
       "      <td>25.51000</td>\n",
       "    </tr>\n",
       "    <tr>\n",
       "      <th>29</th>\n",
       "      <td>13.916667</td>\n",
       "      <td>4.974239</td>\n",
       "      <td>21.750000</td>\n",
       "      <td>5.035292</td>\n",
       "      <td>29.416667</td>\n",
       "      <td>5.024247</td>\n",
       "      <td>20.166667</td>\n",
       "      <td>15.203253</td>\n",
       "      <td>1.333333</td>\n",
       "      <td>0.471405</td>\n",
       "      <td>16683.000000</td>\n",
       "      <td>3419.142266</td>\n",
       "      <td>2.333333</td>\n",
       "      <td>0.471405</td>\n",
       "      <td>-103.42000</td>\n",
       "      <td>25.51000</td>\n",
       "    </tr>\n",
       "    <tr>\n",
       "      <th>...</th>\n",
       "      <td>...</td>\n",
       "      <td>...</td>\n",
       "      <td>...</td>\n",
       "      <td>...</td>\n",
       "      <td>...</td>\n",
       "      <td>...</td>\n",
       "      <td>...</td>\n",
       "      <td>...</td>\n",
       "      <td>...</td>\n",
       "      <td>...</td>\n",
       "      <td>...</td>\n",
       "      <td>...</td>\n",
       "      <td>...</td>\n",
       "      <td>...</td>\n",
       "      <td>...</td>\n",
       "      <td>...</td>\n",
       "    </tr>\n",
       "    <tr>\n",
       "      <th>71</th>\n",
       "      <td>13.916667</td>\n",
       "      <td>4.974239</td>\n",
       "      <td>21.750000</td>\n",
       "      <td>5.035292</td>\n",
       "      <td>29.416667</td>\n",
       "      <td>5.024247</td>\n",
       "      <td>20.166667</td>\n",
       "      <td>15.203253</td>\n",
       "      <td>1.333333</td>\n",
       "      <td>0.471405</td>\n",
       "      <td>16683.000000</td>\n",
       "      <td>3419.142266</td>\n",
       "      <td>2.333333</td>\n",
       "      <td>0.471405</td>\n",
       "      <td>-103.42000</td>\n",
       "      <td>25.51000</td>\n",
       "    </tr>\n",
       "    <tr>\n",
       "      <th>72</th>\n",
       "      <td>13.916667</td>\n",
       "      <td>4.974239</td>\n",
       "      <td>21.750000</td>\n",
       "      <td>5.035292</td>\n",
       "      <td>29.416667</td>\n",
       "      <td>5.024247</td>\n",
       "      <td>20.166667</td>\n",
       "      <td>15.203253</td>\n",
       "      <td>1.333333</td>\n",
       "      <td>0.471405</td>\n",
       "      <td>16683.000000</td>\n",
       "      <td>3419.142266</td>\n",
       "      <td>2.333333</td>\n",
       "      <td>0.471405</td>\n",
       "      <td>-103.42000</td>\n",
       "      <td>25.51000</td>\n",
       "    </tr>\n",
       "    <tr>\n",
       "      <th>73</th>\n",
       "      <td>13.916667</td>\n",
       "      <td>4.974239</td>\n",
       "      <td>21.750000</td>\n",
       "      <td>5.035292</td>\n",
       "      <td>29.416667</td>\n",
       "      <td>5.024247</td>\n",
       "      <td>20.166667</td>\n",
       "      <td>15.203253</td>\n",
       "      <td>1.333333</td>\n",
       "      <td>0.471405</td>\n",
       "      <td>16683.000000</td>\n",
       "      <td>3419.142266</td>\n",
       "      <td>2.333333</td>\n",
       "      <td>0.471405</td>\n",
       "      <td>-103.42000</td>\n",
       "      <td>25.51000</td>\n",
       "    </tr>\n",
       "    <tr>\n",
       "      <th>74</th>\n",
       "      <td>13.416667</td>\n",
       "      <td>4.974239</td>\n",
       "      <td>21.166667</td>\n",
       "      <td>4.997221</td>\n",
       "      <td>29.333333</td>\n",
       "      <td>5.005552</td>\n",
       "      <td>21.166667</td>\n",
       "      <td>16.481471</td>\n",
       "      <td>1.333333</td>\n",
       "      <td>0.471405</td>\n",
       "      <td>16708.916667</td>\n",
       "      <td>3412.480316</td>\n",
       "      <td>2.416667</td>\n",
       "      <td>0.493007</td>\n",
       "      <td>-103.46900</td>\n",
       "      <td>25.52500</td>\n",
       "    </tr>\n",
       "    <tr>\n",
       "      <th>75</th>\n",
       "      <td>13.416667</td>\n",
       "      <td>4.974239</td>\n",
       "      <td>21.166667</td>\n",
       "      <td>4.997221</td>\n",
       "      <td>29.333333</td>\n",
       "      <td>5.005552</td>\n",
       "      <td>21.166667</td>\n",
       "      <td>16.481471</td>\n",
       "      <td>1.333333</td>\n",
       "      <td>0.471405</td>\n",
       "      <td>16708.916667</td>\n",
       "      <td>3412.480316</td>\n",
       "      <td>2.416667</td>\n",
       "      <td>0.493007</td>\n",
       "      <td>-103.46944</td>\n",
       "      <td>25.52500</td>\n",
       "    </tr>\n",
       "    <tr>\n",
       "      <th>76</th>\n",
       "      <td>13.416667</td>\n",
       "      <td>4.974239</td>\n",
       "      <td>21.166667</td>\n",
       "      <td>4.997221</td>\n",
       "      <td>29.333333</td>\n",
       "      <td>5.005552</td>\n",
       "      <td>21.166667</td>\n",
       "      <td>16.481471</td>\n",
       "      <td>1.333333</td>\n",
       "      <td>0.471405</td>\n",
       "      <td>16708.916667</td>\n",
       "      <td>3412.480316</td>\n",
       "      <td>2.416667</td>\n",
       "      <td>0.493007</td>\n",
       "      <td>-103.46944</td>\n",
       "      <td>25.52500</td>\n",
       "    </tr>\n",
       "    <tr>\n",
       "      <th>77</th>\n",
       "      <td>13.416667</td>\n",
       "      <td>4.974239</td>\n",
       "      <td>21.166667</td>\n",
       "      <td>4.997221</td>\n",
       "      <td>29.333333</td>\n",
       "      <td>5.005552</td>\n",
       "      <td>21.166667</td>\n",
       "      <td>16.481471</td>\n",
       "      <td>1.333333</td>\n",
       "      <td>0.471405</td>\n",
       "      <td>16708.916667</td>\n",
       "      <td>3412.480316</td>\n",
       "      <td>2.416667</td>\n",
       "      <td>0.493007</td>\n",
       "      <td>-103.46900</td>\n",
       "      <td>25.52500</td>\n",
       "    </tr>\n",
       "    <tr>\n",
       "      <th>78</th>\n",
       "      <td>13.916667</td>\n",
       "      <td>4.974239</td>\n",
       "      <td>21.750000</td>\n",
       "      <td>5.035292</td>\n",
       "      <td>29.416667</td>\n",
       "      <td>5.024247</td>\n",
       "      <td>20.166667</td>\n",
       "      <td>15.203253</td>\n",
       "      <td>1.333333</td>\n",
       "      <td>0.471405</td>\n",
       "      <td>16683.000000</td>\n",
       "      <td>3419.142266</td>\n",
       "      <td>2.333333</td>\n",
       "      <td>0.471405</td>\n",
       "      <td>-103.42000</td>\n",
       "      <td>25.51000</td>\n",
       "    </tr>\n",
       "    <tr>\n",
       "      <th>79</th>\n",
       "      <td>13.916667</td>\n",
       "      <td>4.974239</td>\n",
       "      <td>21.750000</td>\n",
       "      <td>5.035292</td>\n",
       "      <td>29.416667</td>\n",
       "      <td>5.024247</td>\n",
       "      <td>20.166667</td>\n",
       "      <td>15.203253</td>\n",
       "      <td>1.333333</td>\n",
       "      <td>0.471405</td>\n",
       "      <td>16683.000000</td>\n",
       "      <td>3419.142266</td>\n",
       "      <td>2.333333</td>\n",
       "      <td>0.471405</td>\n",
       "      <td>-103.42000</td>\n",
       "      <td>25.51000</td>\n",
       "    </tr>\n",
       "    <tr>\n",
       "      <th>80</th>\n",
       "      <td>13.916667</td>\n",
       "      <td>4.974239</td>\n",
       "      <td>21.750000</td>\n",
       "      <td>5.035292</td>\n",
       "      <td>29.416667</td>\n",
       "      <td>5.024247</td>\n",
       "      <td>20.166667</td>\n",
       "      <td>15.203253</td>\n",
       "      <td>1.333333</td>\n",
       "      <td>0.471405</td>\n",
       "      <td>16683.000000</td>\n",
       "      <td>3419.142266</td>\n",
       "      <td>2.333333</td>\n",
       "      <td>0.471405</td>\n",
       "      <td>-103.42000</td>\n",
       "      <td>25.51000</td>\n",
       "    </tr>\n",
       "    <tr>\n",
       "      <th>81</th>\n",
       "      <td>13.916667</td>\n",
       "      <td>4.974239</td>\n",
       "      <td>21.750000</td>\n",
       "      <td>5.035292</td>\n",
       "      <td>29.416667</td>\n",
       "      <td>5.024247</td>\n",
       "      <td>20.166667</td>\n",
       "      <td>15.203253</td>\n",
       "      <td>1.333333</td>\n",
       "      <td>0.471405</td>\n",
       "      <td>16683.000000</td>\n",
       "      <td>3419.142266</td>\n",
       "      <td>2.333333</td>\n",
       "      <td>0.471405</td>\n",
       "      <td>-103.42000</td>\n",
       "      <td>25.51000</td>\n",
       "    </tr>\n",
       "    <tr>\n",
       "      <th>82</th>\n",
       "      <td>13.916667</td>\n",
       "      <td>4.974239</td>\n",
       "      <td>21.750000</td>\n",
       "      <td>5.035292</td>\n",
       "      <td>29.416667</td>\n",
       "      <td>5.024247</td>\n",
       "      <td>20.166667</td>\n",
       "      <td>15.203253</td>\n",
       "      <td>1.333333</td>\n",
       "      <td>0.471405</td>\n",
       "      <td>16683.000000</td>\n",
       "      <td>3419.142266</td>\n",
       "      <td>2.333333</td>\n",
       "      <td>0.471405</td>\n",
       "      <td>-103.42000</td>\n",
       "      <td>25.51000</td>\n",
       "    </tr>\n",
       "    <tr>\n",
       "      <th>83</th>\n",
       "      <td>13.916667</td>\n",
       "      <td>4.974239</td>\n",
       "      <td>21.750000</td>\n",
       "      <td>5.035292</td>\n",
       "      <td>29.416667</td>\n",
       "      <td>5.024247</td>\n",
       "      <td>20.166667</td>\n",
       "      <td>15.203253</td>\n",
       "      <td>1.333333</td>\n",
       "      <td>0.471405</td>\n",
       "      <td>16683.000000</td>\n",
       "      <td>3419.142266</td>\n",
       "      <td>2.333333</td>\n",
       "      <td>0.471405</td>\n",
       "      <td>-103.42000</td>\n",
       "      <td>25.51000</td>\n",
       "    </tr>\n",
       "    <tr>\n",
       "      <th>84</th>\n",
       "      <td>13.916667</td>\n",
       "      <td>4.974239</td>\n",
       "      <td>21.750000</td>\n",
       "      <td>5.035292</td>\n",
       "      <td>29.416667</td>\n",
       "      <td>5.024247</td>\n",
       "      <td>20.166667</td>\n",
       "      <td>15.203253</td>\n",
       "      <td>1.333333</td>\n",
       "      <td>0.471405</td>\n",
       "      <td>16683.000000</td>\n",
       "      <td>3419.142266</td>\n",
       "      <td>2.333333</td>\n",
       "      <td>0.471405</td>\n",
       "      <td>-103.42000</td>\n",
       "      <td>25.51000</td>\n",
       "    </tr>\n",
       "    <tr>\n",
       "      <th>85</th>\n",
       "      <td>13.916667</td>\n",
       "      <td>4.974239</td>\n",
       "      <td>21.750000</td>\n",
       "      <td>5.035292</td>\n",
       "      <td>29.416667</td>\n",
       "      <td>5.024247</td>\n",
       "      <td>20.166667</td>\n",
       "      <td>15.203253</td>\n",
       "      <td>1.333333</td>\n",
       "      <td>0.471405</td>\n",
       "      <td>16683.000000</td>\n",
       "      <td>3419.142266</td>\n",
       "      <td>2.333333</td>\n",
       "      <td>0.471405</td>\n",
       "      <td>-103.42000</td>\n",
       "      <td>25.51000</td>\n",
       "    </tr>\n",
       "    <tr>\n",
       "      <th>86</th>\n",
       "      <td>13.916667</td>\n",
       "      <td>4.974239</td>\n",
       "      <td>21.750000</td>\n",
       "      <td>5.035292</td>\n",
       "      <td>29.500000</td>\n",
       "      <td>5.123475</td>\n",
       "      <td>20.000000</td>\n",
       "      <td>13.904436</td>\n",
       "      <td>1.333333</td>\n",
       "      <td>0.471405</td>\n",
       "      <td>16033.083333</td>\n",
       "      <td>2955.107005</td>\n",
       "      <td>2.333333</td>\n",
       "      <td>0.471405</td>\n",
       "      <td>-103.41257</td>\n",
       "      <td>25.54444</td>\n",
       "    </tr>\n",
       "    <tr>\n",
       "      <th>87</th>\n",
       "      <td>13.916667</td>\n",
       "      <td>4.974239</td>\n",
       "      <td>21.750000</td>\n",
       "      <td>5.035292</td>\n",
       "      <td>29.416667</td>\n",
       "      <td>5.024247</td>\n",
       "      <td>20.083333</td>\n",
       "      <td>14.038390</td>\n",
       "      <td>1.333333</td>\n",
       "      <td>0.471405</td>\n",
       "      <td>16079.083333</td>\n",
       "      <td>2961.077716</td>\n",
       "      <td>2.333333</td>\n",
       "      <td>0.471405</td>\n",
       "      <td>-103.42000</td>\n",
       "      <td>25.54000</td>\n",
       "    </tr>\n",
       "    <tr>\n",
       "      <th>88</th>\n",
       "      <td>13.916667</td>\n",
       "      <td>4.974239</td>\n",
       "      <td>21.750000</td>\n",
       "      <td>5.035292</td>\n",
       "      <td>29.416667</td>\n",
       "      <td>5.024247</td>\n",
       "      <td>20.083333</td>\n",
       "      <td>14.038390</td>\n",
       "      <td>1.333333</td>\n",
       "      <td>0.471405</td>\n",
       "      <td>16079.083333</td>\n",
       "      <td>2961.077716</td>\n",
       "      <td>2.333333</td>\n",
       "      <td>0.471405</td>\n",
       "      <td>-103.42000</td>\n",
       "      <td>25.54000</td>\n",
       "    </tr>\n",
       "    <tr>\n",
       "      <th>89</th>\n",
       "      <td>13.916667</td>\n",
       "      <td>4.974239</td>\n",
       "      <td>21.750000</td>\n",
       "      <td>5.035292</td>\n",
       "      <td>29.416667</td>\n",
       "      <td>5.024247</td>\n",
       "      <td>20.083333</td>\n",
       "      <td>14.038390</td>\n",
       "      <td>1.333333</td>\n",
       "      <td>0.471405</td>\n",
       "      <td>16079.083333</td>\n",
       "      <td>2961.077716</td>\n",
       "      <td>2.333333</td>\n",
       "      <td>0.471405</td>\n",
       "      <td>-103.42000</td>\n",
       "      <td>25.54000</td>\n",
       "    </tr>\n",
       "    <tr>\n",
       "      <th>90</th>\n",
       "      <td>13.916667</td>\n",
       "      <td>4.974239</td>\n",
       "      <td>21.750000</td>\n",
       "      <td>5.035292</td>\n",
       "      <td>29.416667</td>\n",
       "      <td>5.024247</td>\n",
       "      <td>20.083333</td>\n",
       "      <td>14.038390</td>\n",
       "      <td>1.333333</td>\n",
       "      <td>0.471405</td>\n",
       "      <td>16079.083333</td>\n",
       "      <td>2961.077716</td>\n",
       "      <td>2.333333</td>\n",
       "      <td>0.471405</td>\n",
       "      <td>-103.42000</td>\n",
       "      <td>25.54000</td>\n",
       "    </tr>\n",
       "    <tr>\n",
       "      <th>91</th>\n",
       "      <td>13.916667</td>\n",
       "      <td>4.974239</td>\n",
       "      <td>21.750000</td>\n",
       "      <td>5.035292</td>\n",
       "      <td>29.416667</td>\n",
       "      <td>5.024247</td>\n",
       "      <td>20.083333</td>\n",
       "      <td>14.038390</td>\n",
       "      <td>1.333333</td>\n",
       "      <td>0.471405</td>\n",
       "      <td>16079.083333</td>\n",
       "      <td>2961.077716</td>\n",
       "      <td>2.333333</td>\n",
       "      <td>0.471405</td>\n",
       "      <td>-103.42000</td>\n",
       "      <td>25.54000</td>\n",
       "    </tr>\n",
       "    <tr>\n",
       "      <th>92</th>\n",
       "      <td>13.916667</td>\n",
       "      <td>4.974239</td>\n",
       "      <td>21.750000</td>\n",
       "      <td>5.035292</td>\n",
       "      <td>29.416667</td>\n",
       "      <td>5.024247</td>\n",
       "      <td>20.083333</td>\n",
       "      <td>14.038390</td>\n",
       "      <td>1.333333</td>\n",
       "      <td>0.471405</td>\n",
       "      <td>16079.083333</td>\n",
       "      <td>2961.077716</td>\n",
       "      <td>2.333333</td>\n",
       "      <td>0.471405</td>\n",
       "      <td>-103.42000</td>\n",
       "      <td>25.54000</td>\n",
       "    </tr>\n",
       "    <tr>\n",
       "      <th>93</th>\n",
       "      <td>13.916667</td>\n",
       "      <td>4.974239</td>\n",
       "      <td>21.750000</td>\n",
       "      <td>5.035292</td>\n",
       "      <td>29.416667</td>\n",
       "      <td>5.024247</td>\n",
       "      <td>20.083333</td>\n",
       "      <td>14.038390</td>\n",
       "      <td>1.333333</td>\n",
       "      <td>0.471405</td>\n",
       "      <td>16079.083333</td>\n",
       "      <td>2961.077716</td>\n",
       "      <td>2.333333</td>\n",
       "      <td>0.471405</td>\n",
       "      <td>-103.42000</td>\n",
       "      <td>25.54000</td>\n",
       "    </tr>\n",
       "    <tr>\n",
       "      <th>94</th>\n",
       "      <td>13.916667</td>\n",
       "      <td>4.974239</td>\n",
       "      <td>21.750000</td>\n",
       "      <td>5.035292</td>\n",
       "      <td>29.416667</td>\n",
       "      <td>5.024247</td>\n",
       "      <td>20.083333</td>\n",
       "      <td>14.038390</td>\n",
       "      <td>1.333333</td>\n",
       "      <td>0.471405</td>\n",
       "      <td>16079.083333</td>\n",
       "      <td>2961.077716</td>\n",
       "      <td>2.333333</td>\n",
       "      <td>0.471405</td>\n",
       "      <td>-103.42000</td>\n",
       "      <td>25.54000</td>\n",
       "    </tr>\n",
       "    <tr>\n",
       "      <th>95</th>\n",
       "      <td>13.916667</td>\n",
       "      <td>4.974239</td>\n",
       "      <td>21.750000</td>\n",
       "      <td>5.035292</td>\n",
       "      <td>29.416667</td>\n",
       "      <td>5.024247</td>\n",
       "      <td>20.083333</td>\n",
       "      <td>14.038390</td>\n",
       "      <td>1.333333</td>\n",
       "      <td>0.471405</td>\n",
       "      <td>16079.083333</td>\n",
       "      <td>2961.077716</td>\n",
       "      <td>2.333333</td>\n",
       "      <td>0.471405</td>\n",
       "      <td>-103.42000</td>\n",
       "      <td>25.54000</td>\n",
       "    </tr>\n",
       "    <tr>\n",
       "      <th>96</th>\n",
       "      <td>13.916667</td>\n",
       "      <td>4.974239</td>\n",
       "      <td>21.750000</td>\n",
       "      <td>5.035292</td>\n",
       "      <td>29.416667</td>\n",
       "      <td>5.024247</td>\n",
       "      <td>20.083333</td>\n",
       "      <td>14.038390</td>\n",
       "      <td>1.333333</td>\n",
       "      <td>0.471405</td>\n",
       "      <td>16079.083333</td>\n",
       "      <td>2961.077716</td>\n",
       "      <td>2.333333</td>\n",
       "      <td>0.471405</td>\n",
       "      <td>-103.42000</td>\n",
       "      <td>25.54000</td>\n",
       "    </tr>\n",
       "    <tr>\n",
       "      <th>97</th>\n",
       "      <td>13.916667</td>\n",
       "      <td>4.974239</td>\n",
       "      <td>21.750000</td>\n",
       "      <td>5.035292</td>\n",
       "      <td>29.416667</td>\n",
       "      <td>5.024247</td>\n",
       "      <td>20.083333</td>\n",
       "      <td>14.038390</td>\n",
       "      <td>1.333333</td>\n",
       "      <td>0.471405</td>\n",
       "      <td>16079.083333</td>\n",
       "      <td>2961.077716</td>\n",
       "      <td>2.333333</td>\n",
       "      <td>0.471405</td>\n",
       "      <td>-103.42000</td>\n",
       "      <td>25.54000</td>\n",
       "    </tr>\n",
       "    <tr>\n",
       "      <th>98</th>\n",
       "      <td>13.916667</td>\n",
       "      <td>4.974239</td>\n",
       "      <td>21.750000</td>\n",
       "      <td>5.035292</td>\n",
       "      <td>29.416667</td>\n",
       "      <td>5.024247</td>\n",
       "      <td>20.083333</td>\n",
       "      <td>14.038390</td>\n",
       "      <td>1.333333</td>\n",
       "      <td>0.471405</td>\n",
       "      <td>16079.083333</td>\n",
       "      <td>2961.077716</td>\n",
       "      <td>2.333333</td>\n",
       "      <td>0.471405</td>\n",
       "      <td>-103.42000</td>\n",
       "      <td>25.54000</td>\n",
       "    </tr>\n",
       "    <tr>\n",
       "      <th>99</th>\n",
       "      <td>13.916667</td>\n",
       "      <td>4.974239</td>\n",
       "      <td>21.750000</td>\n",
       "      <td>5.035292</td>\n",
       "      <td>29.416667</td>\n",
       "      <td>5.024247</td>\n",
       "      <td>20.250000</td>\n",
       "      <td>14.248538</td>\n",
       "      <td>1.333333</td>\n",
       "      <td>0.471405</td>\n",
       "      <td>16110.416667</td>\n",
       "      <td>2993.848651</td>\n",
       "      <td>2.333333</td>\n",
       "      <td>0.471405</td>\n",
       "      <td>-103.44167</td>\n",
       "      <td>25.54444</td>\n",
       "    </tr>\n",
       "    <tr>\n",
       "      <th>100</th>\n",
       "      <td>13.916667</td>\n",
       "      <td>4.974239</td>\n",
       "      <td>21.750000</td>\n",
       "      <td>5.035292</td>\n",
       "      <td>29.416667</td>\n",
       "      <td>5.024247</td>\n",
       "      <td>20.250000</td>\n",
       "      <td>14.248538</td>\n",
       "      <td>1.333333</td>\n",
       "      <td>0.471405</td>\n",
       "      <td>16110.416667</td>\n",
       "      <td>2993.848651</td>\n",
       "      <td>2.333333</td>\n",
       "      <td>0.471405</td>\n",
       "      <td>-103.44167</td>\n",
       "      <td>25.54444</td>\n",
       "    </tr>\n",
       "  </tbody>\n",
       "</table>\n",
       "<p>101 rows × 16 columns</p>\n",
       "</div>"
      ],
      "text/plain": [
       "     MaxTemperature_mean  MaxTemperature_std  MeanTemperature_mean  \\\n",
       "0              13.916667            4.974239             21.750000   \n",
       "1              13.916667            4.974239             21.750000   \n",
       "2              13.916667            4.974239             21.750000   \n",
       "3              13.916667            4.974239             21.750000   \n",
       "4              13.750000            4.866981             21.500000   \n",
       "5              13.916667            4.974239             21.750000   \n",
       "6              21.583333            0.953794             27.583333   \n",
       "7              21.583333            0.953794             27.583333   \n",
       "8              21.583333            0.953794             27.583333   \n",
       "9              21.583333            0.953794             27.583333   \n",
       "10             21.583333            0.953794             27.583333   \n",
       "11             21.583333            0.953794             27.583333   \n",
       "12             21.583333            0.953794             27.583333   \n",
       "13             21.583333            0.953794             27.583333   \n",
       "14             21.583333            0.953794             27.583333   \n",
       "15             21.583333            0.953794             27.583333   \n",
       "16             20.666667            1.795055             25.750000   \n",
       "17             20.666667            1.795055             25.750000   \n",
       "18             20.666667            1.795055             25.750000   \n",
       "19             20.666667            1.795055             25.750000   \n",
       "20             20.666667            1.795055             25.750000   \n",
       "21             20.666667            1.795055             25.750000   \n",
       "22             20.666667            1.795055             25.750000   \n",
       "23             20.666667            1.795055             25.750000   \n",
       "24             20.666667            1.795055             25.750000   \n",
       "25             21.583333            0.953794             27.583333   \n",
       "26             21.583333            0.953794             27.583333   \n",
       "27             21.583333            0.953794             27.583333   \n",
       "28             13.916667            4.974239             21.750000   \n",
       "29             13.916667            4.974239             21.750000   \n",
       "..                   ...                 ...                   ...   \n",
       "71             13.916667            4.974239             21.750000   \n",
       "72             13.916667            4.974239             21.750000   \n",
       "73             13.916667            4.974239             21.750000   \n",
       "74             13.416667            4.974239             21.166667   \n",
       "75             13.416667            4.974239             21.166667   \n",
       "76             13.416667            4.974239             21.166667   \n",
       "77             13.416667            4.974239             21.166667   \n",
       "78             13.916667            4.974239             21.750000   \n",
       "79             13.916667            4.974239             21.750000   \n",
       "80             13.916667            4.974239             21.750000   \n",
       "81             13.916667            4.974239             21.750000   \n",
       "82             13.916667            4.974239             21.750000   \n",
       "83             13.916667            4.974239             21.750000   \n",
       "84             13.916667            4.974239             21.750000   \n",
       "85             13.916667            4.974239             21.750000   \n",
       "86             13.916667            4.974239             21.750000   \n",
       "87             13.916667            4.974239             21.750000   \n",
       "88             13.916667            4.974239             21.750000   \n",
       "89             13.916667            4.974239             21.750000   \n",
       "90             13.916667            4.974239             21.750000   \n",
       "91             13.916667            4.974239             21.750000   \n",
       "92             13.916667            4.974239             21.750000   \n",
       "93             13.916667            4.974239             21.750000   \n",
       "94             13.916667            4.974239             21.750000   \n",
       "95             13.916667            4.974239             21.750000   \n",
       "96             13.916667            4.974239             21.750000   \n",
       "97             13.916667            4.974239             21.750000   \n",
       "98             13.916667            4.974239             21.750000   \n",
       "99             13.916667            4.974239             21.750000   \n",
       "100            13.916667            4.974239             21.750000   \n",
       "\n",
       "     MeanTemperature_std  MinTemperature_mean  MinTemperature_std  \\\n",
       "0               5.035292            29.416667            5.024247   \n",
       "1               5.035292            29.416667            5.024247   \n",
       "2               5.035292            29.416667            5.024247   \n",
       "3               5.035292            29.416667            5.024247   \n",
       "4               5.008326            29.416667            5.024247   \n",
       "5               5.035292            29.416667            5.024247   \n",
       "6               0.759203            33.666667            0.745356   \n",
       "7               0.759203            33.666667            0.745356   \n",
       "8               0.759203            33.666667            0.745356   \n",
       "9               0.759203            33.666667            0.745356   \n",
       "10              0.759203            33.666667            0.745356   \n",
       "11              0.759203            33.666667            0.745356   \n",
       "12              0.759203            33.666667            0.745356   \n",
       "13              0.759203            33.666667            0.745356   \n",
       "14              0.759203            33.666667            0.745356   \n",
       "15              0.759203            33.666667            0.745356   \n",
       "16              1.876388            31.000000            1.732051   \n",
       "17              1.876388            31.000000            1.732051   \n",
       "18              1.876388            31.000000            1.732051   \n",
       "19              1.876388            31.000000            1.732051   \n",
       "20              1.876388            31.000000            1.732051   \n",
       "21              1.876388            31.000000            1.732051   \n",
       "22              1.876388            31.000000            1.732051   \n",
       "23              1.876388            31.000000            1.732051   \n",
       "24              1.876388            31.000000            1.732051   \n",
       "25              0.759203            33.666667            0.745356   \n",
       "26              0.759203            33.666667            0.745356   \n",
       "27              0.759203            33.666667            0.745356   \n",
       "28              5.035292            29.416667            5.024247   \n",
       "29              5.035292            29.416667            5.024247   \n",
       "..                   ...                  ...                 ...   \n",
       "71              5.035292            29.416667            5.024247   \n",
       "72              5.035292            29.416667            5.024247   \n",
       "73              5.035292            29.416667            5.024247   \n",
       "74              4.997221            29.333333            5.005552   \n",
       "75              4.997221            29.333333            5.005552   \n",
       "76              4.997221            29.333333            5.005552   \n",
       "77              4.997221            29.333333            5.005552   \n",
       "78              5.035292            29.416667            5.024247   \n",
       "79              5.035292            29.416667            5.024247   \n",
       "80              5.035292            29.416667            5.024247   \n",
       "81              5.035292            29.416667            5.024247   \n",
       "82              5.035292            29.416667            5.024247   \n",
       "83              5.035292            29.416667            5.024247   \n",
       "84              5.035292            29.416667            5.024247   \n",
       "85              5.035292            29.416667            5.024247   \n",
       "86              5.035292            29.500000            5.123475   \n",
       "87              5.035292            29.416667            5.024247   \n",
       "88              5.035292            29.416667            5.024247   \n",
       "89              5.035292            29.416667            5.024247   \n",
       "90              5.035292            29.416667            5.024247   \n",
       "91              5.035292            29.416667            5.024247   \n",
       "92              5.035292            29.416667            5.024247   \n",
       "93              5.035292            29.416667            5.024247   \n",
       "94              5.035292            29.416667            5.024247   \n",
       "95              5.035292            29.416667            5.024247   \n",
       "96              5.035292            29.416667            5.024247   \n",
       "97              5.035292            29.416667            5.024247   \n",
       "98              5.035292            29.416667            5.024247   \n",
       "99              5.035292            29.416667            5.024247   \n",
       "100             5.035292            29.416667            5.024247   \n",
       "\n",
       "     Precipitation_mean  Precipitation_std  Vapor_mean  Vapor_std  \\\n",
       "0             20.166667          15.203253    1.333333   0.471405   \n",
       "1             20.166667          15.203253    1.333333   0.471405   \n",
       "2             20.166667          15.203253    1.333333   0.471405   \n",
       "3             20.166667          15.203253    1.333333   0.471405   \n",
       "4             20.833333          15.715350    1.333333   0.471405   \n",
       "5             20.166667          15.203253    1.333333   0.471405   \n",
       "6            208.000000         174.915218    2.666667   0.471405   \n",
       "7            208.000000         174.915218    2.666667   0.471405   \n",
       "8            208.000000         174.915218    2.666667   0.471405   \n",
       "9            208.000000         174.915218    2.666667   0.471405   \n",
       "10           208.000000         174.915218    2.666667   0.471405   \n",
       "11           208.000000         174.915218    2.666667   0.471405   \n",
       "12           208.000000         174.915218    2.666667   0.471405   \n",
       "13           208.000000         174.915218    2.666667   0.471405   \n",
       "14           208.000000         174.915218    2.666667   0.471405   \n",
       "15           208.000000         174.915218    2.666667   0.471405   \n",
       "16            71.500000          36.602596    2.500000   0.500000   \n",
       "17            71.500000          36.602596    2.500000   0.500000   \n",
       "18            71.500000          36.602596    2.500000   0.500000   \n",
       "19            71.500000          36.602596    2.500000   0.500000   \n",
       "20            71.500000          36.602596    2.500000   0.500000   \n",
       "21            71.500000          36.602596    2.500000   0.500000   \n",
       "22            71.500000          36.602596    2.500000   0.500000   \n",
       "23            71.500000          36.602596    2.500000   0.500000   \n",
       "24            71.500000          36.602596    2.500000   0.500000   \n",
       "25           208.000000         174.915218    2.666667   0.471405   \n",
       "26           208.000000         174.915218    2.666667   0.471405   \n",
       "27           208.000000         174.915218    2.666667   0.471405   \n",
       "28            20.166667          15.203253    1.333333   0.471405   \n",
       "29            20.166667          15.203253    1.333333   0.471405   \n",
       "..                  ...                ...         ...        ...   \n",
       "71            20.166667          15.203253    1.333333   0.471405   \n",
       "72            20.166667          15.203253    1.333333   0.471405   \n",
       "73            20.166667          15.203253    1.333333   0.471405   \n",
       "74            21.166667          16.481471    1.333333   0.471405   \n",
       "75            21.166667          16.481471    1.333333   0.471405   \n",
       "76            21.166667          16.481471    1.333333   0.471405   \n",
       "77            21.166667          16.481471    1.333333   0.471405   \n",
       "78            20.166667          15.203253    1.333333   0.471405   \n",
       "79            20.166667          15.203253    1.333333   0.471405   \n",
       "80            20.166667          15.203253    1.333333   0.471405   \n",
       "81            20.166667          15.203253    1.333333   0.471405   \n",
       "82            20.166667          15.203253    1.333333   0.471405   \n",
       "83            20.166667          15.203253    1.333333   0.471405   \n",
       "84            20.166667          15.203253    1.333333   0.471405   \n",
       "85            20.166667          15.203253    1.333333   0.471405   \n",
       "86            20.000000          13.904436    1.333333   0.471405   \n",
       "87            20.083333          14.038390    1.333333   0.471405   \n",
       "88            20.083333          14.038390    1.333333   0.471405   \n",
       "89            20.083333          14.038390    1.333333   0.471405   \n",
       "90            20.083333          14.038390    1.333333   0.471405   \n",
       "91            20.083333          14.038390    1.333333   0.471405   \n",
       "92            20.083333          14.038390    1.333333   0.471405   \n",
       "93            20.083333          14.038390    1.333333   0.471405   \n",
       "94            20.083333          14.038390    1.333333   0.471405   \n",
       "95            20.083333          14.038390    1.333333   0.471405   \n",
       "96            20.083333          14.038390    1.333333   0.471405   \n",
       "97            20.083333          14.038390    1.333333   0.471405   \n",
       "98            20.083333          14.038390    1.333333   0.471405   \n",
       "99            20.250000          14.248538    1.333333   0.471405   \n",
       "100           20.250000          14.248538    1.333333   0.471405   \n",
       "\n",
       "     SolarRadiation_mean  SolarRadiation_std  WindSpeed_mean  WindSpeed_std  \\\n",
       "0           16683.000000         3419.142266        2.333333       0.471405   \n",
       "1           16683.000000         3419.142266        2.333333       0.471405   \n",
       "2           16683.000000         3419.142266        2.333333       0.471405   \n",
       "3           16683.000000         3419.142266        2.333333       0.471405   \n",
       "4           16706.916667         3430.710117        2.333333       0.471405   \n",
       "5           16683.000000         3419.142266        2.333333       0.471405   \n",
       "6           18249.083333         1151.947153        2.250000       0.433013   \n",
       "7           18249.083333         1151.947153        2.250000       0.433013   \n",
       "8           18249.083333         1151.947153        2.250000       0.433013   \n",
       "9           18249.083333         1151.947153        2.250000       0.433013   \n",
       "10          18249.083333         1151.947153        2.250000       0.433013   \n",
       "11          18249.083333         1151.947153        2.250000       0.433013   \n",
       "12          18249.083333         1151.947153        2.250000       0.433013   \n",
       "13          18249.083333         1151.947153        2.250000       0.433013   \n",
       "14          18249.083333         1151.947153        2.250000       0.433013   \n",
       "15          18249.083333         1151.947153        2.250000       0.433013   \n",
       "16          18203.083333         2893.894275        3.500000       0.500000   \n",
       "17          18203.083333         2893.894275        3.500000       0.500000   \n",
       "18          18203.083333         2893.894275        3.500000       0.500000   \n",
       "19          18203.083333         2893.894275        3.500000       0.500000   \n",
       "20          18203.083333         2893.894275        3.500000       0.500000   \n",
       "21          18203.083333         2893.894275        3.500000       0.500000   \n",
       "22          18203.083333         2893.894275        3.500000       0.500000   \n",
       "23          18203.083333         2893.894275        3.500000       0.500000   \n",
       "24          18203.083333         2893.894275        3.500000       0.500000   \n",
       "25          18249.083333         1151.947153        2.250000       0.433013   \n",
       "26          18249.083333         1151.947153        2.250000       0.433013   \n",
       "27          18249.083333         1151.947153        2.250000       0.433013   \n",
       "28          16683.000000         3419.142266        2.333333       0.471405   \n",
       "29          16683.000000         3419.142266        2.333333       0.471405   \n",
       "..                   ...                 ...             ...            ...   \n",
       "71          16683.000000         3419.142266        2.333333       0.471405   \n",
       "72          16683.000000         3419.142266        2.333333       0.471405   \n",
       "73          16683.000000         3419.142266        2.333333       0.471405   \n",
       "74          16708.916667         3412.480316        2.416667       0.493007   \n",
       "75          16708.916667         3412.480316        2.416667       0.493007   \n",
       "76          16708.916667         3412.480316        2.416667       0.493007   \n",
       "77          16708.916667         3412.480316        2.416667       0.493007   \n",
       "78          16683.000000         3419.142266        2.333333       0.471405   \n",
       "79          16683.000000         3419.142266        2.333333       0.471405   \n",
       "80          16683.000000         3419.142266        2.333333       0.471405   \n",
       "81          16683.000000         3419.142266        2.333333       0.471405   \n",
       "82          16683.000000         3419.142266        2.333333       0.471405   \n",
       "83          16683.000000         3419.142266        2.333333       0.471405   \n",
       "84          16683.000000         3419.142266        2.333333       0.471405   \n",
       "85          16683.000000         3419.142266        2.333333       0.471405   \n",
       "86          16033.083333         2955.107005        2.333333       0.471405   \n",
       "87          16079.083333         2961.077716        2.333333       0.471405   \n",
       "88          16079.083333         2961.077716        2.333333       0.471405   \n",
       "89          16079.083333         2961.077716        2.333333       0.471405   \n",
       "90          16079.083333         2961.077716        2.333333       0.471405   \n",
       "91          16079.083333         2961.077716        2.333333       0.471405   \n",
       "92          16079.083333         2961.077716        2.333333       0.471405   \n",
       "93          16079.083333         2961.077716        2.333333       0.471405   \n",
       "94          16079.083333         2961.077716        2.333333       0.471405   \n",
       "95          16079.083333         2961.077716        2.333333       0.471405   \n",
       "96          16079.083333         2961.077716        2.333333       0.471405   \n",
       "97          16079.083333         2961.077716        2.333333       0.471405   \n",
       "98          16079.083333         2961.077716        2.333333       0.471405   \n",
       "99          16110.416667         2993.848651        2.333333       0.471405   \n",
       "100         16110.416667         2993.848651        2.333333       0.471405   \n",
       "\n",
       "             x         y  \n",
       "0   -103.42000  25.51000  \n",
       "1   -103.42000  25.51000  \n",
       "2   -103.42000  25.51000  \n",
       "3   -103.42000  25.51000  \n",
       "4   -103.44000  25.51000  \n",
       "5   -103.42000  25.51000  \n",
       "6    -92.23900  14.85800  \n",
       "7    -92.23900  14.85800  \n",
       "8    -92.23900  14.85800  \n",
       "9    -92.23900  14.85800  \n",
       "10   -92.23900  14.85800  \n",
       "11   -92.23900  14.85800  \n",
       "12   -92.23900  14.85800  \n",
       "13   -92.23900  14.85800  \n",
       "14   -92.23900  14.85800  \n",
       "15   -92.23900  14.85800  \n",
       "16   -87.65900  21.47200  \n",
       "17   -87.65900  21.47200  \n",
       "18   -87.65900  21.47200  \n",
       "19   -87.65900  21.47200  \n",
       "20   -87.65900  21.47200  \n",
       "21   -87.65900  21.47200  \n",
       "22   -87.65900  21.47200  \n",
       "23   -87.65900  21.47200  \n",
       "24   -87.65900  21.47200  \n",
       "25   -92.24000  14.85300  \n",
       "26   -92.23900  14.85800  \n",
       "27   -92.23900  14.85800  \n",
       "28  -103.42000  25.51000  \n",
       "29  -103.42000  25.51000  \n",
       "..         ...       ...  \n",
       "71  -103.42000  25.51000  \n",
       "72  -103.42000  25.51000  \n",
       "73  -103.42000  25.51000  \n",
       "74  -103.46900  25.52500  \n",
       "75  -103.46944  25.52500  \n",
       "76  -103.46944  25.52500  \n",
       "77  -103.46900  25.52500  \n",
       "78  -103.42000  25.51000  \n",
       "79  -103.42000  25.51000  \n",
       "80  -103.42000  25.51000  \n",
       "81  -103.42000  25.51000  \n",
       "82  -103.42000  25.51000  \n",
       "83  -103.42000  25.51000  \n",
       "84  -103.42000  25.51000  \n",
       "85  -103.42000  25.51000  \n",
       "86  -103.41257  25.54444  \n",
       "87  -103.42000  25.54000  \n",
       "88  -103.42000  25.54000  \n",
       "89  -103.42000  25.54000  \n",
       "90  -103.42000  25.54000  \n",
       "91  -103.42000  25.54000  \n",
       "92  -103.42000  25.54000  \n",
       "93  -103.42000  25.54000  \n",
       "94  -103.42000  25.54000  \n",
       "95  -103.42000  25.54000  \n",
       "96  -103.42000  25.54000  \n",
       "97  -103.42000  25.54000  \n",
       "98  -103.42000  25.54000  \n",
       "99  -103.44167  25.54444  \n",
       "100 -103.44167  25.54444  \n",
       "\n",
       "[101 rows x 16 columns]"
      ]
     },
     "execution_count": 22,
     "metadata": {},
     "output_type": "execute_result"
    }
   ],
   "source": [
    "table"
   ]
  },
  {
   "cell_type": "code",
   "execution_count": 23,
   "metadata": {},
   "outputs": [
    {
     "data": {
      "image/png": "[encoded data removed]",
      "text/plain": [
       "<matplotlib.figure.Figure at 0x7f0c68fdad10>"
      ]
     },
     "metadata": {},
     "output_type": "display_data"
    }
   ],
   "source": [
    "t1.associatedData.getAssociatedRasterAreaData('MeanTemperature').display_field()"
   ]
  },
  {
   "cell_type": "markdown",
   "metadata": {},
   "source": []
  },
  {
   "cell_type": "markdown",
   "metadata": {},
   "source": [
    "#### Explore array with numpy"
   ]
  },
  {
   "cell_type": "markdown",
   "metadata": {},
   "source": [
    "# Rank co-occurrent Nodes"
   ]
  },
  {
   "cell_type": "markdown",
   "metadata": {},
   "source": [
    "For this we will calculate the frequency of each Node in the big tree, using another list of trees. In this case the sample of trees that we've got."
   ]
  },
  {
   "cell_type": "code",
   "execution_count": 24,
   "metadata": {
    "scrolled": true
   },
   "outputs": [
    {
     "name": "stderr",
     "output_type": "stream",
     "text": [
      "INFO Going deep 0.2\n",
      "INFO Going deep 0.2\n",
      "INFO Going deep 0.2\n",
      "INFO Going deep 0.2\n",
      "INFO Going deep 0.2\n",
      "INFO Going deep 0.2\n",
      "INFO Going deep 0.2\n",
      "INFO Going deep 0.2\n",
      "INFO Going deep 0.2\n",
      "INFO Going deep 0.2\n",
      "INFO Going deep 0.2\n",
      "INFO Going deep 0.2\n",
      "INFO Going deep 0.2\n",
      "INFO Going deep 0.2\n",
      "INFO Going deep 0.2\n",
      "INFO Going deep 0.2\n",
      "INFO Going deep 0.2\n",
      "INFO Going deep 0.2\n",
      "INFO Going deep 0.2\n",
      "INFO Going deep 0.2\n",
      "INFO Going deep 0.2\n",
      "INFO Going deep 0.2\n",
      "INFO Going deep 0.2\n",
      "INFO Going deep 0.2\n",
      "INFO Going deep 0.2\n",
      "INFO Going deep 0.6\n",
      "INFO Going deep 0.6\n",
      "INFO Going deep 0.6\n",
      "INFO Going deep 0.2\n",
      "INFO Going deep 0.2\n",
      "INFO Going deep 0.2\n",
      "INFO Going deep 0.2\n",
      "INFO Going deep 0.4\n",
      "INFO Going deep 0.2\n",
      "INFO Going deep 0.2\n",
      "INFO Going deep 0.2\n",
      "INFO Going deep 0.2\n",
      "INFO Going deep 0.2\n",
      "INFO Going deep 0.2\n",
      "INFO Going deep 0.2\n",
      "INFO Going deep 0.2\n",
      "INFO Going deep 0.4\n",
      "INFO Going deep 0.2\n",
      "INFO Going deep 0.4\n",
      "INFO Going deep 0.2\n",
      "INFO Going deep 0.2\n",
      "INFO Going deep 0.2\n",
      "INFO Going deep 0.2\n",
      "INFO Going deep 0.6\n",
      "INFO Going deep 0.2\n",
      "INFO Going deep 0.2\n",
      "INFO Going deep 0.2\n",
      "INFO Going deep 0.6\n",
      "INFO Going deep 0.4\n",
      "INFO Going deep 0.4\n",
      "INFO Going deep 0.2\n",
      "INFO Going deep 0.2\n",
      "INFO Going deep 0.2\n",
      "INFO Going deep 0.2\n",
      "INFO Going deep 0.2\n",
      "INFO Going deep 0.2\n",
      "INFO Going deep 0.2\n",
      "INFO Going deep 0.2\n",
      "INFO Going deep 0.2\n",
      "INFO Going deep 0.2\n",
      "INFO Going deep 0.2\n",
      "INFO Going deep 0.2\n",
      "INFO Going deep 0.2\n",
      "INFO Going deep 0.4\n",
      "INFO Going deep 0.4\n",
      "INFO Going deep 0.2\n",
      "INFO Going deep 0.2\n",
      "INFO Going deep 0.2\n",
      "INFO Going deep 0.6\n",
      "INFO Going deep 0.2\n",
      "INFO Going deep 0.2\n",
      "INFO Going deep 0.2\n",
      "INFO Going deep 0.4\n",
      "INFO Going deep 0.2\n",
      "INFO Going deep 0.2\n",
      "INFO Going deep 0.2\n",
      "INFO Going deep 0.2\n",
      "INFO Going deep 0.4\n",
      "INFO Going deep 0.4\n",
      "INFO Going deep 0.2\n",
      "INFO Going deep 0.2\n",
      "INFO Going deep 0.4\n",
      "INFO Going deep 0.2\n",
      "INFO Going deep 0.4\n",
      "INFO Going deep 0.4\n",
      "INFO Going deep 0.2\n",
      "INFO Going deep 0.2\n",
      "INFO Going deep 0.4\n",
      "INFO Going deep 0.8\n",
      "INFO Going deep 0.2\n",
      "INFO Going deep 0.2\n",
      "INFO Going deep 0.2\n",
      "INFO Going deep 0.2\n",
      "INFO Going deep 0.2\n",
      "INFO Going deep 0.2\n",
      "INFO Going deep 0.2\n",
      "INFO Going deep 0.2\n",
      "INFO Going deep 0.4\n",
      "INFO Going deep 0.4\n",
      "INFO Going deep 0.2\n",
      "INFO Going deep 0.2\n",
      "INFO Going deep 0.6\n",
      "INFO Going deep 0.6\n",
      "INFO Going deep 0.2\n",
      "INFO Going deep 0.2\n",
      "INFO Going deep 0.2\n",
      "INFO Going deep 0.4\n",
      "INFO Going deep 0.4\n",
      "INFO Going deep 0.2\n",
      "INFO Going deep 0.2\n",
      "INFO Going deep 0.2\n",
      "INFO Going deep 0.2\n",
      "INFO Going deep 0.2\n",
      "INFO Going deep 0.2\n",
      "INFO Going deep 0.2\n",
      "INFO Going deep 0.2\n",
      "INFO Going deep 0.4\n",
      "INFO Going deep 0.8\n",
      "INFO Going deep 0.2\n",
      "INFO Going deep 0.2\n",
      "INFO Going deep 0.2\n",
      "INFO Going deep 0.2\n",
      "INFO Going deep 0.2\n",
      "INFO Going deep 0.2\n",
      "INFO Going deep 0.2\n",
      "INFO Going deep 0.2\n",
      "INFO Going deep 0.4\n",
      "INFO Going deep 0.2\n",
      "INFO Going deep 0.2\n",
      "INFO Going deep 0.2\n",
      "INFO Going deep 0.2\n",
      "INFO Going deep 0.2\n",
      "INFO Going deep 0.2\n",
      "INFO Going deep 0.2\n",
      "INFO Going deep 0.2\n",
      "INFO Going deep 0.2\n",
      "INFO Going deep 0.2\n",
      "INFO Going deep 0.2\n",
      "INFO Going deep 0.4\n",
      "INFO Going deep 0.2\n",
      "INFO Going deep 0.2\n",
      "INFO Going deep 0.4\n",
      "INFO Going deep 0.2\n",
      "INFO Going deep 0.2\n",
      "INFO Going deep 0.4\n",
      "INFO Going deep 0.6\n",
      "INFO Going deep 0.2\n",
      "INFO Going deep 0.2\n",
      "INFO Going deep 0.2\n",
      "INFO Going deep 0.2\n",
      "INFO Going deep 0.2\n",
      "INFO Going deep 0.2\n",
      "INFO Going deep 0.2\n",
      "INFO Going deep 0.2\n",
      "INFO Going deep 0.2\n",
      "INFO Going deep 0.4\n",
      "INFO Going deep 0.2\n",
      "INFO Going deep 0.2\n",
      "INFO Going deep 0.2\n",
      "INFO Going deep 0.2\n",
      "INFO Going deep 0.2\n",
      "INFO Going deep 0.2\n",
      "INFO Going deep 0.4\n",
      "INFO Going deep 0.8\n",
      "INFO Going deep 1.0\n",
      "INFO Going deep 0.2\n",
      "INFO Going deep 0.2\n",
      "INFO Going deep 0.2\n",
      "INFO Going deep 0.2\n",
      "INFO Going deep 0.2\n",
      "INFO Going deep 0.2\n",
      "INFO Going deep 0.2\n",
      "INFO Going deep 0.2\n",
      "INFO Going deep 0.2\n",
      "INFO Going deep 0.2\n",
      "INFO Going deep 0.2\n",
      "INFO Going deep 0.2\n",
      "INFO Going deep 0.2\n",
      "INFO Going deep 0.2\n",
      "INFO Going deep 0.2\n",
      "INFO Going deep 0.2\n",
      "INFO Going deep 0.4\n",
      "INFO Going deep 0.2\n",
      "INFO Going deep 0.2\n",
      "INFO Going deep 0.4\n",
      "INFO Going deep 0.4\n",
      "INFO Going deep 0.2\n",
      "INFO Going deep 0.2\n",
      "INFO Going deep 0.4\n",
      "INFO Going deep 0.4\n",
      "INFO Going deep 0.4\n",
      "INFO Going deep 0.4\n",
      "INFO Going deep 0.4\n",
      "INFO Going deep 0.4\n",
      "INFO Going deep 0.4\n",
      "INFO Going deep 0.2\n",
      "INFO Going deep 0.2\n",
      "INFO Going deep 0.2\n",
      "INFO Going deep 0.2\n",
      "INFO Going deep 0.8\n",
      "INFO Going deep 1.0\n",
      "INFO Going deep 0.2\n",
      "INFO Going deep 0.2\n",
      "INFO Going deep 0.2\n",
      "INFO Going deep 0.2\n",
      "INFO Going deep 0.2\n",
      "INFO Going deep 0.2\n",
      "INFO Going deep 0.2\n",
      "INFO Going deep 0.2\n",
      "INFO Going deep 0.2\n",
      "INFO Going deep 0.2\n",
      "INFO Going deep 0.2\n",
      "INFO Going deep 0.2\n",
      "INFO Going deep 0.2\n",
      "INFO Going deep 0.2\n",
      "INFO Going deep 0.2\n",
      "INFO Going deep 0.4\n",
      "INFO Going deep 0.4\n",
      "INFO Going deep 0.4\n",
      "INFO Going deep 0.4\n",
      "INFO Going deep 0.2\n",
      "INFO Going deep 0.2\n",
      "INFO Going deep 0.2\n",
      "INFO Going deep 0.2\n",
      "INFO Going deep 0.2\n",
      "INFO Going deep 0.2\n",
      "INFO Going deep 0.2\n",
      "INFO Going deep 0.2\n",
      "INFO Going deep 0.2\n",
      "INFO Going deep 0.2\n",
      "INFO Going deep 0.2\n",
      "INFO Going deep 0.2\n",
      "INFO Going deep 0.2\n",
      "INFO Going deep 0.2\n",
      "INFO Going deep 0.2\n",
      "INFO Going deep 0.2\n",
      "INFO Going deep 0.2\n",
      "INFO Going deep 0.2\n",
      "INFO Going deep 0.2\n",
      "INFO Going deep 0.2\n",
      "INFO Going deep 0.2\n",
      "INFO Going deep 0.2\n",
      "INFO Going deep 0.2\n",
      "INFO Going deep 0.2\n",
      "INFO Going deep 0.2\n",
      "INFO Going deep 0.2\n",
      "INFO Going deep 0.2\n",
      "INFO Going deep 0.2\n",
      "INFO Going deep 0.2\n",
      "INFO Going deep 0.2\n",
      "INFO Going deep 0.2\n",
      "INFO Going deep 0.4\n",
      "INFO Going deep 0.2\n",
      "INFO Going deep 0.2\n",
      "INFO Going deep 0.2\n",
      "INFO Going deep 0.2\n",
      "INFO Going deep 0.2\n",
      "INFO Going deep 0.2\n",
      "INFO Going deep 0.2\n",
      "INFO Going deep 0.2\n",
      "INFO Going deep 0.2\n",
      "INFO Going deep 0.2\n",
      "INFO Going deep 0.2\n",
      "INFO Going deep 0.2\n",
      "INFO Going deep 0.2\n",
      "INFO Going deep 0.2\n",
      "INFO Going deep 0.2\n",
      "INFO Going deep 0.2\n",
      "INFO Going deep 0.2\n",
      "INFO Going deep 0.2\n",
      "INFO Going deep 0.2\n",
      "INFO Going deep 0.2\n",
      "INFO Going deep 0.2\n",
      "INFO Going deep 0.6\n",
      "INFO Going deep 0.6\n",
      "INFO Going deep 0.2\n",
      "INFO Going deep 0.2\n",
      "INFO Going deep 0.2\n",
      "INFO Going deep 0.2\n",
      "INFO Going deep 0.2\n",
      "INFO Going deep 0.2\n",
      "INFO Going deep 0.4\n",
      "INFO Going deep 0.4\n",
      "INFO Going deep 0.8\n",
      "INFO Going deep 1.0\n",
      "INFO Going deep 1.0\n"
     ]
    },
    {
     "data": {
      "text/plain": [
       "0.05"
      ]
     },
     "execution_count": 24,
     "metadata": {},
     "output_type": "execute_result"
    }
   ],
   "source": [
    "big_t.countNodesFrequenciesOnList(list_of_trees=sample_trees)"
   ]
  },
  {
   "cell_type": "code",
   "execution_count": 25,
   "metadata": {},
   "outputs": [
    {
     "name": "stderr",
     "output_type": "stream",
     "text": [
      "INFO Sorting nodes in taxonomic levels by counts on frequencies\n"
     ]
    },
    {
     "data": {
      "text/plain": [
       "True"
      ]
     },
     "execution_count": 25,
     "metadata": {},
     "output_type": "execute_result"
    }
   ],
   "source": [
    "big_t.rankLevels()"
   ]
  },
  {
   "cell_type": "code",
   "execution_count": 26,
   "metadata": {},
   "outputs": [
    {
     "data": {
      "text/plain": [
       "[<LocalTree | Family: Picidae - n.count : 6- | AF: 0.6 >,\n",
       " <LocalTree | Family: Parulidae - n.count : 17- | AF: 0.6 >,\n",
       " <LocalTree | Family: Icteridae - n.count : 14- | AF: 0.6 >,\n",
       " <LocalTree | Family: Fabaceae - n.count : 5- | AF: 0.6 >,\n",
       " <LocalTree | Family: Columbidae - n.count : 21- | AF: 0.6 >]"
      ]
     },
     "execution_count": 26,
     "metadata": {},
     "output_type": "execute_result"
    }
   ],
   "source": [
    "big_t.families[:5]"
   ]
  },
  {
   "cell_type": "markdown",
   "metadata": {},
   "source": [
    "### And for mammals ?"
   ]
  },
  {
   "cell_type": "code",
   "execution_count": 27,
   "metadata": {},
   "outputs": [
    {
     "name": "stderr",
     "output_type": "stream",
     "text": [
      "INFO Going deep 0.2\n",
      "INFO Going deep 0.2\n",
      "INFO Going deep 0.2\n",
      "INFO Going deep 0.2\n",
      "INFO Going deep 0.2\n",
      "INFO Going deep 0.2\n",
      "INFO Going deep 0.2\n",
      "INFO Going deep 0.2\n",
      "INFO Going deep 0.2\n",
      "INFO Going deep 0.2\n",
      "INFO Going deep 0.2\n",
      "INFO Going deep 0.4\n",
      "INFO Going deep 0.2\n",
      "INFO Going deep 0.2\n",
      "INFO Going deep 0.4\n",
      "INFO Going deep 0.2\n",
      "INFO Going deep 0.2\n",
      "INFO Going deep 0.4\n",
      "INFO Going deep 0.6\n",
      "INFO Going deep 0.2\n",
      "INFO Going deep 0.2\n",
      "INFO Going deep 0.2\n",
      "INFO Going deep 0.2\n",
      "INFO Going deep 0.2\n",
      "INFO Going deep 0.2\n",
      "INFO Going deep 0.2\n",
      "INFO Going deep 0.2\n",
      "INFO Going deep 0.2\n",
      "INFO Going deep 0.4\n",
      "INFO Going deep 0.2\n",
      "INFO Going deep 0.2\n",
      "INFO Going deep 0.2\n",
      "INFO Going deep 0.2\n",
      "INFO Going deep 0.2\n",
      "INFO Going deep 0.2\n",
      "INFO Going deep 0.4\n",
      "INFO Going deep 0.8\n",
      "INFO Going deep 1.0\n",
      "INFO Going deep 1.0\n"
     ]
    },
    {
     "data": {
      "text/plain": [
       "0.05"
      ]
     },
     "execution_count": 27,
     "metadata": {},
     "output_type": "execute_result"
    }
   ],
   "source": [
    "mammals.countNodesFrequenciesOnList(sample_trees)"
   ]
  },
  {
   "cell_type": "code",
   "execution_count": 28,
   "metadata": {},
   "outputs": [
    {
     "name": "stderr",
     "output_type": "stream",
     "text": [
      "INFO Sorting nodes in taxonomic levels by counts on frequencies\n"
     ]
    },
    {
     "data": {
      "text/plain": [
       "True"
      ]
     },
     "execution_count": 28,
     "metadata": {},
     "output_type": "execute_result"
    }
   ],
   "source": [
    "mammals.rankLevels()"
   ]
  },
  {
   "cell_type": "code",
   "execution_count": 29,
   "metadata": {},
   "outputs": [
    {
     "data": {
      "text/plain": [
       "[<LocalTree | Order: Chiroptera - n.count : 27- | AF: 0.6 >,\n",
       " <LocalTree | Order: Rodentia - n.count : 67- | AF: 0.4 >,\n",
       " <LocalTree | Order: Carnivora - n.count : 6- | AF: 0.2 >,\n",
       " <LocalTree | Order: Lagomorpha - n.count : 1- | AF: 0.2 >]"
      ]
     },
     "execution_count": 29,
     "metadata": {},
     "output_type": "execute_result"
    }
   ],
   "source": [
    "mammals.orders[:5]"
   ]
  },
  {
   "cell_type": "markdown",
   "metadata": {},
   "source": [
    "# Graph analytics"
   ]
  },
  {
   "cell_type": "markdown",
   "metadata": {},
   "source": [
    "## Convert the TreeNeo object to a Network instance (networkx)\n",
    "### The depth_level restricts the depth of the recursion process."
   ]
  },
  {
   "cell_type": "code",
   "execution_count": 30,
   "metadata": {},
   "outputs": [],
   "source": [
    "gt = big_t.toNetworkx(depth_level=7)"
   ]
  },
  {
   "cell_type": "code",
   "execution_count": 31,
   "metadata": {
    "scrolled": true
   },
   "outputs": [
    {
     "data": {
      "image/png": "[encoded data removed]",
      "text/plain": [
       "<matplotlib.figure.Figure at 0x7f0c65886d90>"
      ]
     },
     "metadata": {},
     "output_type": "display_data"
    }
   ],
   "source": [
    "## Plot the Tree\n",
    "from drivers.tools import plotTree\n",
    "x = plotTree(big_t)"
   ]
  },
  {
   "cell_type": "markdown",
   "metadata": {},
   "source": [
    "## Standard Graph analysis\n",
    "With the **networkx** library"
   ]
  },
  {
   "cell_type": "code",
   "execution_count": 32,
   "metadata": {},
   "outputs": [],
   "source": [
    "import networkx as nt\n",
    "lap =nt.laplacian_matrix(gt)"
   ]
  },
  {
   "cell_type": "code",
   "execution_count": 33,
   "metadata": {},
   "outputs": [],
   "source": [
    "sp = nt.laplacian_spectrum(gt)"
   ]
  },
  {
   "cell_type": "code",
   "execution_count": 34,
   "metadata": {},
   "outputs": [
    {
     "data": {
      "text/plain": [
       "(474,)"
      ]
     },
     "execution_count": 34,
     "metadata": {},
     "output_type": "execute_result"
    }
   ],
   "source": [
    "sp.shape"
   ]
  },
  {
   "cell_type": "markdown",
   "metadata": {},
   "source": [
    "## Distance to species"
   ]
  },
  {
   "cell_type": "code",
   "execution_count": 35,
   "metadata": {},
   "outputs": [],
   "source": [
    "from drivers.graph_models import Root"
   ]
  },
  {
   "cell_type": "code",
   "execution_count": 36,
   "metadata": {
    "collapsed": true
   },
   "outputs": [],
   "source": [
    "ss = big_t.species[0]"
   ]
  },
  {
   "cell_type": "code",
   "execution_count": 72,
   "metadata": {},
   "outputs": [],
   "source": [
    "species = map(lambda l : l.node , list(big_t.species))"
   ]
  },
  {
   "cell_type": "code",
   "execution_count": 73,
   "metadata": {},
   "outputs": [],
   "source": [
    "pairs = [(a,b) for a in species for b in species]"
   ]
  },
  {
   "cell_type": "code",
   "execution_count": 75,
   "metadata": {
    "collapsed": true
   },
   "outputs": [],
   "source": [
    "## Taxonomic distance doesn't use information of the graph restricted to the location. \n",
    "##Only to the taxonomic structure\n",
    "dist = lambda (a,b) : a.taxonomicDistanceTo(b)"
   ]
  },
  {
   "cell_type": "code",
   "execution_count": 76,
   "metadata": {},
   "outputs": [
    {
     "name": "stdout",
     "output_type": "stream",
     "text": [
      "CPU times: user 1min 9s, sys: 12 ms, total: 1min 9s\n",
      "Wall time: 1min 9s\n"
     ]
    }
   ],
   "source": [
    "%time distancias = map(dist,pairs)"
   ]
  },
  {
   "cell_type": "code",
   "execution_count": 77,
   "metadata": {},
   "outputs": [],
   "source": [
    "distancias = np.array(distancias).reshape(len(genera),len(genera))\n"
   ]
  },
  {
   "cell_type": "code",
   "execution_count": 78,
   "metadata": {},
   "outputs": [
    {
     "data": {
      "text/plain": [
       "<matplotlib.colorbar.Colorbar at 0x7f0c65944350>"
      ]
     },
     "execution_count": 78,
     "metadata": {},
     "output_type": "execute_result"
    },
    {
     "data": {
      "image/png": "[encoded data removed]",
      "text/plain": [
       "<matplotlib.figure.Figure at 0x7f0c39d69f90>"
      ]
     },
     "metadata": {},
     "output_type": "display_data"
    }
   ],
   "source": [
    "plt.imshow(distancias,cmap=plt.cm.Reds)\n",
    "plt.colorbar()"
   ]
  },
  {
   "cell_type": "markdown",
   "metadata": {},
   "source": [
    "I need to replace the root node because is treeneo and it should be localtree\n",
    "After this we will have the shortestpath with attribute n_presences list guaja guaajajajajaj!!!"
   ]
  },
  {
   "cell_type": "code",
   "execution_count": 79,
   "metadata": {
    "collapsed": true
   },
   "outputs": [],
   "source": [
    "lynx = lambda (a,b) : a.mergeLinageWithNode(b)"
   ]
  },
  {
   "cell_type": "code",
   "execution_count": 80,
   "metadata": {},
   "outputs": [
    {
     "name": "stdout",
     "output_type": "stream",
     "text": [
      "CPU times: user 1min, sys: 344 ms, total: 1min\n",
      "Wall time: 1min\n"
     ]
    }
   ],
   "source": [
    "%time linages = map(lynx,pairs)"
   ]
  },
  {
   "cell_type": "markdown",
   "metadata": {},
   "source": [
    "## Here we will use the general graph to extract shortest paths and attributes. \n",
    "The attributes extracted are related to the geographical context and therefore they are defined in the LocalTree class which extends the TreeNode class (is a super class of LocalTree).\n",
    "When the graph is built 'gt' "
   ]
  },
  {
   "cell_type": "code",
   "execution_count": 82,
   "metadata": {},
   "outputs": [
    {
     "name": "stdout",
     "output_type": "stream",
     "text": [
      "CPU times: user 55.5 s, sys: 16 ms, total: 55.5 s\n",
      "Wall time: 55.6 s\n"
     ]
    }
   ],
   "source": [
    "## With the graph object\n",
    "pathsf = lambda (a,b) : nt.shortest_path(gt,a,b)\n",
    "%time paths = map(pathsf,pairs)"
   ]
  },
  {
   "cell_type": "code",
   "execution_count": 83,
   "metadata": {},
   "outputs": [
    {
     "data": {
      "text/plain": [
       "False"
      ]
     },
     "execution_count": 83,
     "metadata": {},
     "output_type": "execute_result"
    }
   ],
   "source": [
    "paths[1] == linages[1]"
   ]
  },
  {
   "cell_type": "code",
   "execution_count": 84,
   "metadata": {},
   "outputs": [
    {
     "data": {
      "image/png": "[encoded data removed]",
      "text/plain": [
       "<matplotlib.figure.Figure at 0x7f0c646b6990>"
      ]
     },
     "metadata": {},
     "output_type": "display_data"
    }
   ],
   "source": [
    "nt.draw(linages[1])"
   ]
  },
  {
   "cell_type": "code",
   "execution_count": 85,
   "metadata": {},
   "outputs": [],
   "source": [
    "ppp1 = nt.shortest_path(linages[1],pairs[1][0],pairs[1][1])"
   ]
  },
  {
   "cell_type": "code",
   "execution_count": 86,
   "metadata": {},
   "outputs": [
    {
     "data": {
      "text/plain": [
       "True"
      ]
     },
     "execution_count": 86,
     "metadata": {},
     "output_type": "execute_result"
    }
   ],
   "source": [
    "ppp1 == paths[1]"
   ]
  },
  {
   "cell_type": "code",
   "execution_count": 87,
   "metadata": {},
   "outputs": [
    {
     "data": {
      "text/plain": [
       "[<TreeNode type: Specie id = 2478081 name: Melanerpes aurifrons (Wagler, 1829)>,\n",
       " <TreeNode type: Genus id = 2478067 name: Melanerpes>,\n",
       " <TreeNode type: Family id = 9333 name: Picidae>,\n",
       " <TreeNode type: Order id = 724 name: Piciformes>,\n",
       " <TreeNode type: Class id = 212 name: Aves>,\n",
       " <TreeNode type: Phylum id = 44 name: Chordata>,\n",
       " <TreeNode type: Kingdom id = 1 name: Animalia>,\n",
       " <TreeNode type: Phylum id = 54 name: Arthropoda>,\n",
       " <TreeNode type: Class id = 281 name: Branchiopoda>,\n",
       " <TreeNode type: Order id = 1159 name: Notostraca>,\n",
       " <TreeNode type: Family id = 2235047 name: Triopsidae>,\n",
       " <TreeNode type: Genus id = 2235057 name: Triops>,\n",
       " <TreeNode type: Specie id = 2235060 name: Triops longicaudatus (LeConte, 1846)>]"
      ]
     },
     "execution_count": 87,
     "metadata": {},
     "output_type": "execute_result"
    }
   ],
   "source": [
    "paths[1]"
   ]
  },
  {
   "cell_type": "code",
   "execution_count": 96,
   "metadata": {},
   "outputs": [],
   "source": [
    "freqs = nt.get_node_attributes(gt,'freq')\n",
    "richness = nt.get_node_attributes(gt,'richness')\n",
    "level  = nt.get_node_attributes(gt,'level')\n",
    "\n",
    "\n"
   ]
  },
  {
   "cell_type": "code",
   "execution_count": 155,
   "metadata": {},
   "outputs": [],
   "source": [
    "def modifiedDistance(path):\n",
    "    extractFreqsFromPath = lambda path : map(lambda node : freqs[node],path)\n",
    "    extractRichnessFromPath = lambda path : map(lambda node : richness[node],path)\n",
    "    extractLevelFromPath = lambda path : map(lambda node : level[node],path)\n",
    "    dat = pd.DataFrame({'freq' : extractFreqsFromPath(path),'rich':extractRichnessFromPath(path),'level':extractLevelFromPath(path)})\n",
    "    dat['level'] = dat.level + 1\n",
    "    dat['fl'] = dat.freq / dat.level\n",
    "    \n",
    "    return dat.sum()"
   ]
  },
  {
   "cell_type": "code",
   "execution_count": 156,
   "metadata": {},
   "outputs": [],
   "source": [
    "test1 = modifiedDistance(pp1)"
   ]
  },
  {
   "cell_type": "code",
   "execution_count": 157,
   "metadata": {},
   "outputs": [
    {
     "name": "stdout",
     "output_type": "stream",
     "text": [
      "CPU times: user 1min 20s, sys: 24 ms, total: 1min 20s\n",
      "Wall time: 1min 20s\n"
     ]
    }
   ],
   "source": [
    "%time distances_m = map(lambda path : modifiedDistance(path),paths)"
   ]
  },
  {
   "cell_type": "code",
   "execution_count": 158,
   "metadata": {},
   "outputs": [],
   "source": [
    "distances_m = pd.DataFrame(distances_m)"
   ]
  },
  {
   "cell_type": "code",
   "execution_count": 159,
   "metadata": {},
   "outputs": [],
   "source": [
    "n = len(species)"
   ]
  },
  {
   "cell_type": "code",
   "execution_count": 164,
   "metadata": {},
   "outputs": [
    {
     "data": {
      "text/plain": [
       "<matplotlib.colorbar.Colorbar at 0x7f0c45ecddd0>"
      ]
     },
     "execution_count": 164,
     "metadata": {},
     "output_type": "execute_result"
    },
    {
     "data": {
      "image/png": "[encoded data removed]",
      "text/plain": [
       "<matplotlib.figure.Figure at 0x7f0c45a02ad0>"
      ]
     },
     "metadata": {},
     "output_type": "display_data"
    }
   ],
   "source": [
    "plt.imshow(distances_m.freq.values.reshape(n,n))\n",
    "plt.colorbar()"
   ]
  },
  {
   "cell_type": "code",
   "execution_count": 161,
   "metadata": {},
   "outputs": [
    {
     "data": {
      "text/plain": [
       "<matplotlib.image.AxesImage at 0x7f0c4cd34810>"
      ]
     },
     "execution_count": 161,
     "metadata": {},
     "output_type": "execute_result"
    },
    {
     "data": {
      "image/png": "[encoded data removed]",
      "text/plain": [
       "<matplotlib.figure.Figure at 0x7f0c47b7e410>"
      ]
     },
     "metadata": {},
     "output_type": "display_data"
    }
   ],
   "source": [
    "plt.imshow(distances_m.rich.values.reshape(n,n))"
   ]
  },
  {
   "cell_type": "code",
   "execution_count": 162,
   "metadata": {},
   "outputs": [
    {
     "data": {
      "text/plain": [
       "<matplotlib.image.AxesImage at 0x7f0c45a1a110>"
      ]
     },
     "execution_count": 162,
     "metadata": {},
     "output_type": "execute_result"
    },
    {
     "data": {
      "image/png": "[encoded data removed]",
      "text/plain": [
       "<matplotlib.figure.Figure at 0x7f0c4d50f7d0>"
      ]
     },
     "metadata": {},
     "output_type": "display_data"
    }
   ],
   "source": [
    "plt.imshow(distances_m.level.values.reshape(n,n))"
   ]
  },
  {
   "cell_type": "code",
   "execution_count": 163,
   "metadata": {},
   "outputs": [
    {
     "data": {
      "text/plain": [
       "<matplotlib.image.AxesImage at 0x7f0c45cf5650>"
      ]
     },
     "execution_count": 163,
     "metadata": {},
     "output_type": "execute_result"
    },
    {
     "data": {
      "image/png": "[encoded data removed]",
      "text/plain": [
       "<matplotlib.figure.Figure at 0x7f0c45ac6790>"
      ]
     },
     "metadata": {},
     "output_type": "display_data"
    }
   ],
   "source": [
    "plt.imshow(distances_m.fl.values.reshape(n,n))"
   ]
  },
  {
   "cell_type": "code",
   "execution_count": 91,
   "metadata": {},
   "outputs": [
    {
     "data": {
      "text/plain": [
       "[0.6, 0.6, 0.6, 0.6, 0.8, 1.0, 1.0, 0.8, 0.4, 0.4, 0.4, 0.4, 0.4]"
      ]
     },
     "execution_count": 91,
     "metadata": {},
     "output_type": "execute_result"
    }
   ],
   "source": [
    "map(lambda n : freqs[n],pp1)"
   ]
  },
  {
   "cell_type": "code",
   "execution_count": 71,
   "metadata": {},
   "outputs": [
    {
     "data": {
      "text/plain": [
       "{'_GraphObject__ogm': <py2neo.ogm.OGM at 0x7f0c68bda190>}"
      ]
     },
     "execution_count": 71,
     "metadata": {},
     "output_type": "execute_result"
    }
   ],
   "source": [
    "p0.__dict__"
   ]
  },
  {
   "cell_type": "code",
   "execution_count": null,
   "metadata": {},
   "outputs": [],
   "source": [
    "nn1 = big_t.species[0]"
   ]
  },
  {
   "cell_type": "code",
   "execution_count": null,
   "metadata": {},
   "outputs": [],
   "source": []
  },
  {
   "cell_type": "code",
   "execution_count": null,
   "metadata": {},
   "outputs": [],
   "source": [
    "l1.edges()"
   ]
  },
  {
   "cell_type": "code",
   "execution_count": null,
   "metadata": {
    "collapsed": true
   },
   "outputs": [],
   "source": [
    "from drivers.tree_builder import LocalTree"
   ]
  },
  {
   "cell_type": "code",
   "execution_count": null,
   "metadata": {},
   "outputs": [],
   "source": [
    "type(big_t.node)"
   ]
  },
  {
   "cell_type": "code",
   "execution_count": null,
   "metadata": {},
   "outputs": [],
   "source": [
    "isinstance(big_t.node,TreeNeo)"
   ]
  },
  {
   "cell_type": "code",
   "execution_count": null,
   "metadata": {
    "collapsed": true
   },
   "outputs": [],
   "source": []
  },
  {
   "cell_type": "code",
   "execution_count": null,
   "metadata": {},
   "outputs": [],
   "source": [
    "ed1 = gt.edges()[0]"
   ]
  },
  {
   "cell_type": "code",
   "execution_count": null,
   "metadata": {},
   "outputs": [],
   "source": [
    "nt.Graph.add_edge?"
   ]
  },
  {
   "cell_type": "code",
   "execution_count": null,
   "metadata": {
    "collapsed": true
   },
   "outputs": [],
   "source": [
    "nt.Graph().add_edge"
   ]
  },
  {
   "cell_type": "code",
   "execution_count": null,
   "metadata": {},
   "outputs": [],
   "source": []
  },
  {
   "cell_type": "code",
   "execution_count": null,
   "metadata": {},
   "outputs": [],
   "source": [
    "dist2 = lambda (a,b) : nt.shortest_path_length(gt,a,b,weight='freq')"
   ]
  },
  {
   "cell_type": "code",
   "execution_count": null,
   "metadata": {},
   "outputs": [],
   "source": [
    "%time distancias = map(dist2,pairs)"
   ]
  },
  {
   "cell_type": "code",
   "execution_count": null,
   "metadata": {},
   "outputs": [],
   "source": [
    "distancias = np.array(distancias).reshape(len(genera),len(genera))"
   ]
  },
  {
   "cell_type": "code",
   "execution_count": null,
   "metadata": {},
   "outputs": [],
   "source": [
    "plt.imshow(distancias,cmap=plt.cm.Reds)\n",
    "plt.colorbar()"
   ]
  },
  {
   "cell_type": "code",
   "execution_count": null,
   "metadata": {
    "collapsed": true
   },
   "outputs": [],
   "source": [
    "nodes = gt.nodes()"
   ]
  },
  {
   "cell_type": "code",
   "execution_count": null,
   "metadata": {},
   "outputs": [],
   "source": [
    "from drivers.graph_models import TreeNode\n",
    "root = filter(lambda a : not isinstance(a,TreeNode),nodes).pop()"
   ]
  },
  {
   "cell_type": "code",
   "execution_count": null,
   "metadata": {
    "collapsed": true
   },
   "outputs": [],
   "source": [
    "gt.remove_node(root)"
   ]
  },
  {
   "cell_type": "code",
   "execution_count": null,
   "metadata": {},
   "outputs": [],
   "source": [
    "nt.get_edge_attributes(gt,name='freq')"
   ]
  },
  {
   "cell_type": "code",
   "execution_count": null,
   "metadata": {},
   "outputs": [],
   "source": [
    "type(big_t.node.node)"
   ]
  },
  {
   "cell_type": "code",
   "execution_count": null,
   "metadata": {
    "collapsed": true
   },
   "outputs": [],
   "source": []
  },
  {
   "cell_type": "code",
   "execution_count": null,
   "metadata": {
    "collapsed": true
   },
   "outputs": [],
   "source": []
  },
  {
   "cell_type": "code",
   "execution_count": null,
   "metadata": {
    "collapsed": true
   },
   "outputs": [],
   "source": []
  },
  {
   "cell_type": "code",
   "execution_count": null,
   "metadata": {},
   "outputs": [],
   "source": [
    "distancias = np.array(distancias).reshape(len(genera),len(genera))\n",
    "plt.imshow(distancias)\n",
    "plt.colorbar()"
   ]
  },
  {
   "cell_type": "code",
   "execution_count": null,
   "metadata": {},
   "outputs": [],
   "source": [
    "g.node.ta"
   ]
  },
  {
   "cell_type": "code",
   "execution_count": null,
   "metadata": {},
   "outputs": [],
   "source": [
    "g = genera[0]\n",
    "dist = []\n",
    "for node in genera:\n",
    "    print(\"calculating distance\")\n",
    "    %time dist.append(node.mergeLinageWithNode(g))\n",
    "    \n",
    "#cosas = map(lambda n : g.taxonomicDistanceTo(n),genera)"
   ]
  },
  {
   "cell_type": "code",
   "execution_count": null,
   "metadata": {
    "collapsed": true
   },
   "outputs": [],
   "source": []
  },
  {
   "cell_type": "code",
   "execution_count": null,
   "metadata": {},
   "outputs": [],
   "source": [
    "distances = []\n",
    "for specie in big_t.species:\n",
    "    distances.append(map(lambda sp : specie.node.taxonomicDistanceTo(sp.node),big_t.species))\n",
    "    "
   ]
  },
  {
   "cell_type": "code",
   "execution_count": null,
   "metadata": {
    "collapsed": true
   },
   "outputs": [],
   "source": [
    "import pandas as pd\n",
    "sp_dist_table = pd.DataFrame(distances)\n"
   ]
  },
  {
   "cell_type": "code",
   "execution_count": null,
   "metadata": {},
   "outputs": [],
   "source": [
    "### Export to R\n",
    "x = table.to_json()\n",
    "from drivers.tools import redisConnection as rc\n",
    "r = rc()\n",
    "r.set('spatstats2017',x)\n",
    "r.keys()"
   ]
  },
  {
   "cell_type": "code",
   "execution_count": null,
   "metadata": {
    "collapsed": true
   },
   "outputs": [],
   "source": []
  }
 ],
 "metadata": {
  "kernelspec": {
   "display_name": "Django Shell-Plus",
   "language": "python",
   "name": "django_extensions"
  },
  "language_info": {
   "codemirror_mode": {
    "name": "ipython",
    "version": 2
   },
   "file_extension": ".py",
   "mimetype": "text/x-python",
   "name": "python",
   "nbconvert_exporter": "python",
   "pygments_lexer": "ipython2",
   "version": "2.7.11"
  }
 },
 "nbformat": 4,
 "nbformat_minor": 1
}
