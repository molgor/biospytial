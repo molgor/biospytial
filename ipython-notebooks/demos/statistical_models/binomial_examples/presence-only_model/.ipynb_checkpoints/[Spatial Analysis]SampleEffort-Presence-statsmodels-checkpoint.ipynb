{
 "cells": [
  {
   "cell_type": "code",
   "execution_count": 1,
   "metadata": {},
   "outputs": [],
   "source": [
    "%matplotlib inline\n",
    "import sys\n",
    "sys.path.append('/apps')\n",
    "import django\n",
    "django.setup()\n",
    "import matplotlib.pyplot as plt\n",
    "import pandas as pd\n",
    "import numpy as np\n",
    "## Use the ggplot style\n",
    "plt.style.use('ggplot')"
   ]
  },
  {
   "cell_type": "markdown",
   "metadata": {},
   "source": [
    "# Spatial Analyses for two spatial process\n",
    "# Case Study: Presence of Abies given a Conifer sample\n",
    "\n",
    "The study is presented in the East-central region of Mexico (Puebla). The landscape includes ocean to the east (Gulf of Mexico), sharp mountain ridges, with plateau to the west. An orographic shadow is present giving a great diversity of ecosystems \n",
    "types.\n",
    "\n",
    "## Data Used\n",
    "The data extraction has been made with Biospytial. The methods for this are explained in: [here](/DataExtraction/[D.E]Cell Extractor.ipynb)\n",
    "\n",
    "We have two different datasets. \n",
    "* Training Data Set\n",
    "    \n",
    "    * 't-guerrero-p4'\n",
    "* Predictor Data Set\n",
    "    * 'p-100x100-guerrero-poly4'\n",
    "    \n",
    "Each name corresponds to a DataFrame stored in the Redis Instance\n",
    "To Read the data from here do:\n"
   ]
  },
  {
   "cell_type": "code",
   "execution_count": 2,
   "metadata": {},
   "outputs": [
    {
     "name": "stderr",
     "output_type": "stream",
     "text": [
      "/opt/conda/envs/biospytial/lib/python2.7/site-packages/h5py/__init__.py:36: FutureWarning: Conversion of the second argument of issubdtype from `float` to `np.floating` is deprecated. In future, it will be treated as `np.float64 == np.dtype(float).type`.\n",
      "  from ._conv import register_converters as _register_converters\n",
      "INFO:external_plugins.spystats.biospytial_models.runner:Loading data from RedisDB\n",
      "INFO:external_plugins.spystats.biospytial_models.runner:Loading data from RedisDB\n"
     ]
    }
   ],
   "source": [
    "import external_plugins.spystats.biospytial_models.runner as bm\n",
    "import redis\n",
    "conn = redis.StrictRedis(host='redis',password='biospytial.')\n",
    "trainkey = 't-puebla-p9-abies-pinophyta'\n",
    "predkey = 'p-100x100-puebla-poly9'\n",
    "PDF = bm.preparePredictors(bm.loadDataFrameFromRedis(predkey,conn))\n",
    "TDF = bm.loadDataFrameFromRedis(trainkey,conn)"
   ]
  },
  {
   "cell_type": "code",
   "execution_count": 3,
   "metadata": {},
   "outputs": [
    {
     "data": {
      "text/plain": [
       "[u'full', u'clean']"
      ]
     },
     "execution_count": 3,
     "metadata": {},
     "output_type": "execute_result"
    }
   ],
   "source": [
    "PDF.keys()"
   ]
  },
  {
   "cell_type": "code",
   "execution_count": 32,
   "metadata": {},
   "outputs": [
    {
     "name": "stderr",
     "output_type": "stream",
     "text": [
      "/opt/conda/envs/biospytial/lib/python2.7/site-packages/ipykernel_launcher.py:8: SettingWithCopyWarning: \n",
      "A value is trying to be set on a copy of a slice from a DataFrame.\n",
      "Try using .loc[row_indexer,col_indexer] = value instead\n",
      "\n",
      "See the caveats in the documentation: http://pandas.pydata.org/pandas-docs/stable/indexing.html#indexing-view-versus-copy\n",
      "  \n",
      "/opt/conda/envs/biospytial/lib/python2.7/site-packages/ipykernel_launcher.py:9: SettingWithCopyWarning: \n",
      "A value is trying to be set on a copy of a slice from a DataFrame.\n",
      "Try using .loc[row_indexer,col_indexer] = value instead\n",
      "\n",
      "See the caveats in the documentation: http://pandas.pydata.org/pandas-docs/stable/indexing.html#indexing-view-versus-copy\n",
      "  if __name__ == '__main__':\n",
      "/opt/conda/envs/biospytial/lib/python2.7/site-packages/ipykernel_launcher.py:10: SettingWithCopyWarning: \n",
      "A value is trying to be set on a copy of a slice from a DataFrame.\n",
      "Try using .loc[row_indexer,col_indexer] = value instead\n",
      "\n",
      "See the caveats in the documentation: http://pandas.pydata.org/pandas-docs/stable/indexing.html#indexing-view-versus-copy\n",
      "  # Remove the CWD from sys.path while we load stuff.\n"
     ]
    }
   ],
   "source": [
    "TDF = TDF.replace('N.A.',np.nan)\n",
    "## Change to categorical variables\n",
    "## Associate the categorical variables\n",
    "TDF['name'] = TDF['name'].astype('category')\n",
    "TDF['wwf_mhtnam'] = TDF['wwf_mhtnam'].astype('category')\n",
    "TDF['tipos'] = TDF['tipos'].astype('category')\n",
    "\n",
    "PDF['clean']['name'] = PDF['clean']['name'].astype('category')\n",
    "PDF['clean']['wwf_mhtnam'] = PDF['clean']['wwf_mhtnam'].astype('category')\n",
    "PDF['clean']['tipos'] = PDF['clean']['tipos'].astype('category')\n",
    "\n",
    "PDF['full']['name'] = PDF['full']['name'].astype('category')\n",
    "PDF['full']['wwf_mhtnam'] = PDF['full']['wwf_mhtnam'].astype('category')\n",
    "PDF['full']['tipos'] = PDF['full']['tipos'].astype('category')\n"
   ]
  },
  {
   "cell_type": "code",
   "execution_count": 33,
   "metadata": {},
   "outputs": [
    {
     "data": {
      "text/html": [
       "<div>\n",
       "<table border=\"1\" class=\"dataframe\">\n",
       "  <thead>\n",
       "    <tr style=\"text-align: right;\">\n",
       "      <th></th>\n",
       "      <th>Pinophyta</th>\n",
       "      <th>Abies</th>\n",
       "      <th>Dist.to.road_m</th>\n",
       "      <th>Elevation_m</th>\n",
       "      <th>MaxTemp_m</th>\n",
       "      <th>MeanTemp_m</th>\n",
       "      <th>MinTemp_m</th>\n",
       "      <th>Population_m</th>\n",
       "      <th>Precipitation_m</th>\n",
       "      <th>SolarRadiation_m</th>\n",
       "      <th>VaporPres_m</th>\n",
       "      <th>WindSp_m</th>\n",
       "      <th>Longitude</th>\n",
       "      <th>Latitude</th>\n",
       "      <th>wwf_mhtnum</th>\n",
       "      <th>cov_id</th>\n",
       "    </tr>\n",
       "  </thead>\n",
       "  <tbody>\n",
       "    <tr>\n",
       "      <th>count</th>\n",
       "      <td>5293.000000</td>\n",
       "      <td>5293.000000</td>\n",
       "      <td>5288.000000</td>\n",
       "      <td>5286.000000</td>\n",
       "      <td>5288.000000</td>\n",
       "      <td>5287.000000</td>\n",
       "      <td>5287.000000</td>\n",
       "      <td>5289.000000</td>\n",
       "      <td>5288.000000</td>\n",
       "      <td>5288.000000</td>\n",
       "      <td>5287.000000</td>\n",
       "      <td>5287.000000</td>\n",
       "      <td>5293.000000</td>\n",
       "      <td>5293.000000</td>\n",
       "      <td>5292.000000</td>\n",
       "      <td>5267.000000</td>\n",
       "    </tr>\n",
       "    <tr>\n",
       "      <th>mean</th>\n",
       "      <td>0.085774</td>\n",
       "      <td>0.011525</td>\n",
       "      <td>3442.871117</td>\n",
       "      <td>1637.472214</td>\n",
       "      <td>25.813690</td>\n",
       "      <td>19.061733</td>\n",
       "      <td>25.862289</td>\n",
       "      <td>239.562767</td>\n",
       "      <td>89.156595</td>\n",
       "      <td>17526.587081</td>\n",
       "      <td>1.489932</td>\n",
       "      <td>2.090528</td>\n",
       "      <td>-98.239071</td>\n",
       "      <td>19.034596</td>\n",
       "      <td>4.015306</td>\n",
       "      <td>9863.238656</td>\n",
       "    </tr>\n",
       "    <tr>\n",
       "      <th>std</th>\n",
       "      <td>0.280056</td>\n",
       "      <td>0.106743</td>\n",
       "      <td>2644.122717</td>\n",
       "      <td>856.912850</td>\n",
       "      <td>4.369555</td>\n",
       "      <td>4.511235</td>\n",
       "      <td>4.368675</td>\n",
       "      <td>1017.851119</td>\n",
       "      <td>43.201541</td>\n",
       "      <td>786.336890</td>\n",
       "      <td>0.522181</td>\n",
       "      <td>0.432124</td>\n",
       "      <td>1.002697</td>\n",
       "      <td>1.009354</td>\n",
       "      <td>4.068952</td>\n",
       "      <td>1057.505328</td>\n",
       "    </tr>\n",
       "    <tr>\n",
       "      <th>min</th>\n",
       "      <td>0.000000</td>\n",
       "      <td>0.000000</td>\n",
       "      <td>0.000000</td>\n",
       "      <td>2.555556</td>\n",
       "      <td>10.945833</td>\n",
       "      <td>5.250000</td>\n",
       "      <td>11.006944</td>\n",
       "      <td>1.176753</td>\n",
       "      <td>27.319444</td>\n",
       "      <td>15519.268519</td>\n",
       "      <td>0.245370</td>\n",
       "      <td>1.250000</td>\n",
       "      <td>-100.199563</td>\n",
       "      <td>17.057390</td>\n",
       "      <td>1.000000</td>\n",
       "      <td>7291.000000</td>\n",
       "    </tr>\n",
       "    <tr>\n",
       "      <th>25%</th>\n",
       "      <td>0.000000</td>\n",
       "      <td>0.000000</td>\n",
       "      <td>1431.238500</td>\n",
       "      <td>1062.777778</td>\n",
       "      <td>22.372569</td>\n",
       "      <td>15.118981</td>\n",
       "      <td>22.423611</td>\n",
       "      <td>20.013280</td>\n",
       "      <td>59.599306</td>\n",
       "      <td>16992.979861</td>\n",
       "      <td>1.000000</td>\n",
       "      <td>1.916667</td>\n",
       "      <td>-99.072563</td>\n",
       "      <td>18.233390</td>\n",
       "      <td>2.000000</td>\n",
       "      <td>8684.000000</td>\n",
       "    </tr>\n",
       "    <tr>\n",
       "      <th>50%</th>\n",
       "      <td>0.000000</td>\n",
       "      <td>0.000000</td>\n",
       "      <td>2534.083342</td>\n",
       "      <td>1734.833333</td>\n",
       "      <td>25.824306</td>\n",
       "      <td>19.433333</td>\n",
       "      <td>25.875000</td>\n",
       "      <td>48.142999</td>\n",
       "      <td>79.281944</td>\n",
       "      <td>17652.891204</td>\n",
       "      <td>1.384259</td>\n",
       "      <td>2.000000</td>\n",
       "      <td>-98.239563</td>\n",
       "      <td>19.017390</td>\n",
       "      <td>3.000000</td>\n",
       "      <td>10062.000000</td>\n",
       "    </tr>\n",
       "    <tr>\n",
       "      <th>75%</th>\n",
       "      <td>0.000000</td>\n",
       "      <td>0.000000</td>\n",
       "      <td>4720.606177</td>\n",
       "      <td>2323.416667</td>\n",
       "      <td>29.484861</td>\n",
       "      <td>23.266435</td>\n",
       "      <td>29.534028</td>\n",
       "      <td>117.856388</td>\n",
       "      <td>104.773611</td>\n",
       "      <td>18113.743634</td>\n",
       "      <td>1.791667</td>\n",
       "      <td>2.194444</td>\n",
       "      <td>-97.455563</td>\n",
       "      <td>19.850390</td>\n",
       "      <td>3.000000</td>\n",
       "      <td>10659.000000</td>\n",
       "    </tr>\n",
       "    <tr>\n",
       "      <th>max</th>\n",
       "      <td>1.000000</td>\n",
       "      <td>1.000000</td>\n",
       "      <td>18083.313164</td>\n",
       "      <td>4474.888889</td>\n",
       "      <td>34.567593</td>\n",
       "      <td>27.462963</td>\n",
       "      <td>34.615741</td>\n",
       "      <td>16464.841919</td>\n",
       "      <td>380.518519</td>\n",
       "      <td>19389.803241</td>\n",
       "      <td>2.583333</td>\n",
       "      <td>5.199074</td>\n",
       "      <td>-96.230563</td>\n",
       "      <td>21.026390</td>\n",
       "      <td>14.000000</td>\n",
       "      <td>11582.000000</td>\n",
       "    </tr>\n",
       "  </tbody>\n",
       "</table>\n",
       "</div>"
      ],
      "text/plain": [
       "         Pinophyta        Abies  Dist.to.road_m  Elevation_m    MaxTemp_m  \\\n",
       "count  5293.000000  5293.000000     5288.000000  5286.000000  5288.000000   \n",
       "mean      0.085774     0.011525     3442.871117  1637.472214    25.813690   \n",
       "std       0.280056     0.106743     2644.122717   856.912850     4.369555   \n",
       "min       0.000000     0.000000        0.000000     2.555556    10.945833   \n",
       "25%       0.000000     0.000000     1431.238500  1062.777778    22.372569   \n",
       "50%       0.000000     0.000000     2534.083342  1734.833333    25.824306   \n",
       "75%       0.000000     0.000000     4720.606177  2323.416667    29.484861   \n",
       "max       1.000000     1.000000    18083.313164  4474.888889    34.567593   \n",
       "\n",
       "        MeanTemp_m    MinTemp_m  Population_m  Precipitation_m  \\\n",
       "count  5287.000000  5287.000000   5289.000000      5288.000000   \n",
       "mean     19.061733    25.862289    239.562767        89.156595   \n",
       "std       4.511235     4.368675   1017.851119        43.201541   \n",
       "min       5.250000    11.006944      1.176753        27.319444   \n",
       "25%      15.118981    22.423611     20.013280        59.599306   \n",
       "50%      19.433333    25.875000     48.142999        79.281944   \n",
       "75%      23.266435    29.534028    117.856388       104.773611   \n",
       "max      27.462963    34.615741  16464.841919       380.518519   \n",
       "\n",
       "       SolarRadiation_m  VaporPres_m     WindSp_m    Longitude     Latitude  \\\n",
       "count       5288.000000  5287.000000  5287.000000  5293.000000  5293.000000   \n",
       "mean       17526.587081     1.489932     2.090528   -98.239071    19.034596   \n",
       "std          786.336890     0.522181     0.432124     1.002697     1.009354   \n",
       "min        15519.268519     0.245370     1.250000  -100.199563    17.057390   \n",
       "25%        16992.979861     1.000000     1.916667   -99.072563    18.233390   \n",
       "50%        17652.891204     1.384259     2.000000   -98.239563    19.017390   \n",
       "75%        18113.743634     1.791667     2.194444   -97.455563    19.850390   \n",
       "max        19389.803241     2.583333     5.199074   -96.230563    21.026390   \n",
       "\n",
       "        wwf_mhtnum        cov_id  \n",
       "count  5292.000000   5267.000000  \n",
       "mean      4.015306   9863.238656  \n",
       "std       4.068952   1057.505328  \n",
       "min       1.000000   7291.000000  \n",
       "25%       2.000000   8684.000000  \n",
       "50%       3.000000  10062.000000  \n",
       "75%       3.000000  10659.000000  \n",
       "max      14.000000  11582.000000  "
      ]
     },
     "execution_count": 33,
     "metadata": {},
     "output_type": "execute_result"
    }
   ],
   "source": [
    "TDF.describe()"
   ]
  },
  {
   "cell_type": "markdown",
   "metadata": {},
   "source": [
    "## Descriptive statistics\n",
    "Pairplot and Correlogram"
   ]
  },
  {
   "cell_type": "code",
   "execution_count": 34,
   "metadata": {},
   "outputs": [],
   "source": [
    "import seaborn as sb"
   ]
  },
  {
   "cell_type": "code",
   "execution_count": 35,
   "metadata": {},
   "outputs": [],
   "source": [
    "covs = TDF[['Pinophyta','Abies','Dist.to.road_m','Elevation_m','MaxTemp_m','MeanTemp_m','MinTemp_m','Population_m',  u'Precipitation_m','SolarRadiation_m','VaporPres_m','WindSp_m']]\n"
   ]
  },
  {
   "cell_type": "code",
   "execution_count": 36,
   "metadata": {},
   "outputs": [],
   "source": [
    "corr = covs.corr()"
   ]
  },
  {
   "cell_type": "code",
   "execution_count": 37,
   "metadata": {},
   "outputs": [
    {
     "data": {
      "text/plain": [
       "<matplotlib.axes._subplots.AxesSubplot at 0x7f19836ec5d0>"
      ]
     },
     "execution_count": 37,
     "metadata": {},
     "output_type": "execute_result"
    },
    {
     "data": {
      "image/png": "[encoded data removed]",
      "text/plain": [
       "<matplotlib.figure.Figure at 0x7f197fcf4dd0>"
      ]
     },
     "metadata": {},
     "output_type": "display_data"
    }
   ],
   "source": [
    "sb.heatmap(corr,cmap=plt.cm.RdBu)"
   ]
  },
  {
   "cell_type": "code",
   "execution_count": 38,
   "metadata": {},
   "outputs": [],
   "source": [
    "import pymc3 as pm"
   ]
  },
  {
   "cell_type": "code",
   "execution_count": null,
   "metadata": {},
   "outputs": [
    {
     "name": "stderr",
     "output_type": "stream",
     "text": [
      "Auto-assigning NUTS sampler...\n",
      "INFO:pymc3:Auto-assigning NUTS sampler...\n",
      "Initializing NUTS using adapt_diag...\n",
      "INFO:pymc3:Initializing NUTS using adapt_diag...\n",
      "Multiprocess sampling (2 chains in 2 jobs)\n",
      "INFO:pymc3:Multiprocess sampling (2 chains in 2 jobs)\n",
      "NUTS: [Population_m, Q(\"Dist.to.road_m\"), tipos[T.Zona Urbana], tipos[T.Vegetacion de Dunas Costeras], tipos[T.Vegetacion Halofila], tipos[T.Vegetacion Acuatica], tipos[T.Selva Baja Caducifolia], tipos[T.Selva Alta Subperennifolia], tipos[T.Selva Alta Perennifolia], tipos[T.Pradera de Alta Montana], tipos[T.Pastizal Halofilo], tipos[T.Pastizal Cultivado], tipos[T.Palmar], tipos[T.NaN], tipos[T.Matorral Subtropical], tipos[T.Matorral Submontano], tipos[T.Matorral Desertico Rosetofilo], tipos[T.Matorral Crasicaule], tipos[T.Manglar], tipos[T.Cuerpos de Agua], tipos[T.Chaparral], tipos[T.Bosque de Tascate], tipos[T.Bosque de Pino], tipos[T.Bosque de Oyamel], tipos[T.Bosque de Galeria], tipos[T.Bosque de Encino], tipos[T.Bosque Mesofilo de Montana], tipos[T.Bosque Cultivado], tipos[T.Areas sin Vegetacion Aparente], tipos[T.Agricultura de Temporal], tipos[T.Agricultura de Riego], Intercept]\n",
      "INFO:pymc3:NUTS: [Population_m, Q(\"Dist.to.road_m\"), tipos[T.Zona Urbana], tipos[T.Vegetacion de Dunas Costeras], tipos[T.Vegetacion Halofila], tipos[T.Vegetacion Acuatica], tipos[T.Selva Baja Caducifolia], tipos[T.Selva Alta Subperennifolia], tipos[T.Selva Alta Perennifolia], tipos[T.Pradera de Alta Montana], tipos[T.Pastizal Halofilo], tipos[T.Pastizal Cultivado], tipos[T.Palmar], tipos[T.NaN], tipos[T.Matorral Subtropical], tipos[T.Matorral Submontano], tipos[T.Matorral Desertico Rosetofilo], tipos[T.Matorral Crasicaule], tipos[T.Manglar], tipos[T.Cuerpos de Agua], tipos[T.Chaparral], tipos[T.Bosque de Tascate], tipos[T.Bosque de Pino], tipos[T.Bosque de Oyamel], tipos[T.Bosque de Galeria], tipos[T.Bosque de Encino], tipos[T.Bosque Mesofilo de Montana], tipos[T.Bosque Cultivado], tipos[T.Areas sin Vegetacion Aparente], tipos[T.Agricultura de Temporal], tipos[T.Agricultura de Riego], Intercept]\n",
      " 39%|███▉      | 984/2500 [1:24:11<2:09:42,  5.13s/it]"
     ]
    }
   ],
   "source": [
    "with pm.Model() as model:\n",
    "    pm.glm.GLM.from_formula('Pinophyta ~ Q(\"Dist.to.road_m\") +  Population_m + tipos',TDF,family=pm.glm.families.Binomial())\n",
    "    trace = pm.sample(2000,tune=500,init='adapt_diag')"
   ]
  },
  {
   "cell_type": "code",
   "execution_count": null,
   "metadata": {},
   "outputs": [],
   "source": []
  }
 ],
 "metadata": {
  "kernelspec": {
   "display_name": "Python 2",
   "language": "python",
   "name": "python2"
  },
  "language_info": {
   "codemirror_mode": {
    "name": "ipython",
    "version": 2
   },
   "file_extension": ".py",
   "mimetype": "text/x-python",
   "name": "python",
   "nbconvert_exporter": "python",
   "pygments_lexer": "ipython2",
   "version": "2.7.11"
  }
 },
 "nbformat": 4,
 "nbformat_minor": 2
}
