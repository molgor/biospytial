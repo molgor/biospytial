{
 "cells": [
  {
   "cell_type": "markdown",
   "metadata": {},
   "source": [
    "# Integrating Raster Data stored in Postgis (Raster)"
   ]
  },
  {
   "cell_type": "markdown",
   "metadata": {},
   "source": [
    "The raster_api module imports raster data stored in the postgis Database. It can be exported into numpy narrays, gdal files or summary statistics.\n",
    "The intention is to use it together with a grid and generate summary statistics."
   ]
  },
  {
   "cell_type": "markdown",
   "metadata": {},
   "source": [
    "## The aggregates\n",
    "These are functions that aggregate the raster data to fit a given geometry (a closed polygon). \n",
    "The aggregates can be:\n",
    "    * Union (returning the original raster data, cliped be the geometry) \n",
    "    * Slope (performes the slope algorithm implemented in postgis. For use with DEM models)\n",
    "    * Hillshade (calculate a hillshade image with standard parameters as in Postgis)\n",
    "    * SummaryStatistics (calculates the vector: {count,sum,mean,stddev,min,max} of the raster data defined by the geometry imposed)\n",
    "    \n",
    "The available aggregates are stored in raster_api.aggregates in the dictionary: aggregates_dict"
   ]
  },
  {
   "cell_type": "markdown",
   "metadata": {},
   "source": [
    "## The lookups\n",
    "These are functions that are translated in SQL under the WHERE clause. \n",
    "The only lookup at this moment is: \n",
    "    * intersectWith\n",
    "And this was done because the current implementation of Raster lookups in Django/Postgis is highly unefficient.\n",
    "For importing and *registering* the lookup use:\n"
   ]
  },
  {
   "cell_type": "raw",
   "metadata": {},
   "source": [
    "from django.contrib.gis.db.models.fields import RasterField\n",
    "from raster_api.models import intersectWith\n",
    "RasterField.register_lookup(intersectWith)"
   ]
  },
  {
   "cell_type": "markdown",
   "metadata": {},
   "source": [
    "## The *RasterData* class\n",
    "This class works as a wrapper of Postgis raster models. It provides an interface for processing and analysing raster data stored in a postgis database\n",
    "For instantiating a particular raster model (data like: DEM, Temperature, etc. ) use:\n",
    "\n",
    "    * RasterData(RASTERMODEL, geometry)\n",
    "    e.g.\n",
    "    x = RasterData(DemMexLow,t1.biomeGeometry)\n"
   ]
  },
  {
   "cell_type": "markdown",
   "metadata": {},
   "source": [
    "Remember that the data in Postgis RAster is stored in blobs per row. This means that each blob is a tile of n*n cells in binary format.\n",
    "That is why there is a highlevel postprocessing afterwards, to integrate the aggregates as methods as well as geoTif exporting and Neo4J. \n"
   ]
  },
  {
   "cell_type": "code",
   "execution_count": null,
   "metadata": {
    "collapsed": true
   },
   "outputs": [],
   "source": []
  }
 ],
 "metadata": {
  "kernelspec": {
   "display_name": "Django Shell-Plus",
   "language": "python",
   "name": "django_extensions"
  },
  "language_info": {
   "codemirror_mode": {
    "name": "ipython",
    "version": 2
   },
   "file_extension": ".py",
   "mimetype": "text/x-python",
   "name": "python",
   "nbconvert_exporter": "python",
   "pygments_lexer": "ipython2",
   "version": "2.7.11"
  }
 },
 "nbformat": 4,
 "nbformat_minor": 0
}
