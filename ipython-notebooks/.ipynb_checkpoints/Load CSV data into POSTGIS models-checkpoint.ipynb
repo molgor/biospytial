{
 "cells": [
  {
   "cell_type": "markdown",
   "metadata": {},
   "source": [
    "# Loading CSV (GBIF - DATA) in postgres using gbif.models"
   ]
  },
  {
   "cell_type": "code",
   "execution_count": 1,
   "metadata": {
    "collapsed": true
   },
   "outputs": [],
   "source": [
    "PATHCSV = \"/home/juan/gbif/mexico/bigdatabase_subset/mex_gbif_subset.csv\""
   ]
  },
  {
   "cell_type": "markdown",
   "metadata": {},
   "source": [
    "First, if the file is big i.e. more than 500MB it is recomended to split it in smallers chunks.\n",
    "Respecting, of course the lines.\n",
    "This can be done with the linux command 'split'.\n",
    "In the following example we had splitted the file 'mexico_subset.csv' in chunks of 10,000 lines each."
   ]
  },
  {
   "cell_type": "markdown",
   "metadata": {},
   "source": [
    " $ split -l 10000 mex_gbif_subset.csv"
   ]
  },
  {
   "cell_type": "markdown",
   "metadata": {},
   "source": [
    "This has generated 347 files all starting with the letter x and follows a generic naming.\n",
    "-------\n",
    " $ ls \n",
    "    \n",
    "    xaa                      xby  xdw  xfu  xhs  xjq  xlo\n",
    "    xab                      xbz  xdx  xfv  xht  xjr  xlp\n",
    "    xac                      xca  xdy  xfw  xhu  xjs  xlq\n",
    "    xad                      xcb  xdz  xfx  xhv  xjt  xlr\n",
    "    xae                      xcc  xea  xfy  xhw  xju  xls\n",
    "    xaf                      xcd  xeb  xfz  xhx  xjv  xlt\n",
    "    xag                      xce  xec  xga  xhy  xjw  xlu\n",
    "    xah                      xcf  xed  xgb  xhz  xjx  xlv\n",
    "    xai                      xcg  xee  xgc  xia  xjy  xlw\n",
    "...\n",
    "...\n",
    "\n",
    "Now, remember that only the first file 'xaa' has the header information.\n",
    "We will take this information and create a separate file.\n",
    "\n",
    "$ head -1 xaa > header.csv\n",
    "\n",
    "It is advisable to edit manually the file xaa to remove the headers now.\n",
    "\n",
    "After this, proceed to run the following code in the BASH programming language!\n",
    "    \n"
   ]
  },
  {
   "cell_type": "markdown",
   "metadata": {},
   "source": [
    "    for i in $(ls x*); \n",
    "        do cat header.csv >> temp$i; \n",
    "        cat $i >> temp$i; \n",
    "        rm $i; mv temp$i $i; \n",
    "        done\n"
   ]
  },
  {
   "cell_type": "markdown",
   "metadata": {},
   "source": [
    "name the code as script1.bash and run it with: $ bash script1.bash"
   ]
  },
  {
   "cell_type": "markdown",
   "metadata": {},
   "source": [
    "Now, each file has header and we can load it with the scripts in the populate module"
   ]
  },
  {
   "cell_type": "markdown",
   "metadata": {},
   "source": [
    "Now, there is a webservice in the URI: http://0.0.0.0:8001/extractDataOf?filename=xab&delimiter=,"
   ]
  },
  {
   "cell_type": "markdown",
   "metadata": {},
   "source": [
    "The GET variables are:\n",
    "\n",
    "    filename : The variable names created in the last step.\n",
    "    delimiter : The symbol to be used as delimiter in the CSV file. In the current dataset it should be , i.e. comma"
   ]
  },
  {
   "cell_type": "markdown",
   "metadata": {},
   "source": [
    "The PATH where these files are stored can be configured in the settings file under the variable name: CSVABSOLUTEPATH   "
   ]
  },
  {
   "cell_type": "markdown",
   "metadata": {},
   "source": [
    "The service can be called in a bash script using the comand 'curl'"
   ]
  },
  {
   "cell_type": "code",
   "execution_count": null,
   "metadata": {
    "collapsed": true
   },
   "outputs": [],
   "source": []
  },
  {
   "cell_type": "markdown",
   "metadata": {},
   "source": [
    "    for i in $(cat urls.txt);\n",
    "    do curl $i; \n",
    "    echo \"######################################################\"; \n",
    "    done"
   ]
  },
  {
   "cell_type": "markdown",
   "metadata": {},
   "source": [
    "Under the hood the 'view' uses the paralelizing module and it uses 4 threads to insert into the dabase.\n",
    "Still, the process can take some time."
   ]
  },
  {
   "cell_type": "code",
   "execution_count": null,
   "metadata": {
    "collapsed": true
   },
   "outputs": [],
   "source": []
  }
 ],
 "metadata": {
  "kernelspec": {
   "display_name": "Django Shell-Plus",
   "language": "python",
   "name": "django_extensions"
  },
  "language_info": {
   "codemirror_mode": {
    "name": "ipython",
    "version": 2
   },
   "file_extension": ".py",
   "mimetype": "text/x-python",
   "name": "python",
   "nbconvert_exporter": "python",
   "pygments_lexer": "ipython2",
   "version": "2.7.11"
  }
 },
 "nbformat": 4,
 "nbformat_minor": 0
}
