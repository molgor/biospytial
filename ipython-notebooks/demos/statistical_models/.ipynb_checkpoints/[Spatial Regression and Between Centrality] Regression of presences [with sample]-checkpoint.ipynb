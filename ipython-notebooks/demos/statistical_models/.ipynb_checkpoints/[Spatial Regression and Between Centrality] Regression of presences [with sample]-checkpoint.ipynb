{
 "cells": [
  {
   "cell_type": "code",
   "execution_count": 2,
   "metadata": {
    "collapsed": false
   },
   "outputs": [],
   "source": [
    "%matplotlib inline\n",
    "import sys\n",
    "sys.path.append('/apps')\n",
    "import django\n",
    "django.setup()\n",
    "from drivers.tree_builder import TreeNeo\n",
    "from drivers.graph_models import TreeNode, Order, Family, graph,Kingdom,Occurrence\n",
    "from drivers.graph_models import Cell,Mex4km, countObjectsOf\n",
    "from drivers.graph_models import pickNode\n",
    "import matplotlib.pyplot as plt\n",
    "import pandas as pd\n",
    "import itertools as it\n",
    "import numpy as np\n",
    "\n",
    "## Use the ggplot style\n",
    "plt.style.use('ggplot')"
   ]
  },
  {
   "cell_type": "markdown",
   "metadata": {},
   "source": [
    "# Spatial Regression for presences of certain taxon\n",
    "---\n",
    "Abstraction dashboard for joininig the data with the model\n",
    "\n",
    "***\n",
    "Here I show how to extract different taxonomic information at cell level.\n",
    "Although there exists a method for building the taxonomic tree within a single cell, the process can be computationally intensive because it depends on extracting the total amount of occurrences in each cell. From there, it traverses from top to bottom the tree looking for the corresponding nodes.\n",
    "\n",
    "The approach is usefull when one needs a small number of trees but it'll become increasingly slow if the amount of cells or occurrences increases. \n",
    "\n",
    "---\n",
    "\n",
    "## Extracting specific taxonomic levels en each cells\n",
    "\n",
    "The method studied here makes use of the relationship type `IS_IN` stored in the knowledge graph.\n",
    "\n",
    "> Developer's note: *There was a problem with the design of the OGM implementation (py2neo.ogm). The retrieval of linked nodes based on a specific relation does not distinguish different labels. In other words it returns the totality of the data that has the  specific relationship given a node.*\n",
    "\n",
    "> Patchy solution: \n",
    "The solution was to include extra methods for the class Cell `has_[taxas]`. This method/attribute returns a graph selector that points to the corresponding nodes.\n",
    "\n",
    "> Stable Fix: \n",
    "Make relationships as specific as possible (given the data). For example, if instead of using the relation type \n",
    "* *IS_IN* for (Bursera:Family) -[IS_IN]-> (Grid:Cell) \n",
    "change it to:\n",
    "* *Family_IS_IN* for (Bursera:Family) -[IS_IN]-> (Grid:Cell)\n",
    "Let's get started.\n",
    "As usual we need to load the necessary modules\n"
   ]
  },
  {
   "cell_type": "code",
   "execution_count": 3,
   "metadata": {
    "collapsed": false
   },
   "outputs": [],
   "source": [
    "## Let's pick the bats node\n",
    "bats = pickNode(Order,name='Chiroptera')"
   ]
  },
  {
   "cell_type": "code",
   "execution_count": 4,
   "metadata": {
    "collapsed": false
   },
   "outputs": [],
   "source": [
    "ids4bats = bats.getCellsById()"
   ]
  },
  {
   "cell_type": "markdown",
   "metadata": {},
   "source": [
    "## Random selection of cells.\n",
    "\n",
    "> Note: Data Arquitecture. For storage reasons I couldn't load the complete world bioclimatic layers. Therefore I needed to put a regional subset that comprises only the Mexican Territory. \n",
    "For this reason, it is necessary that any approach for selecting subsamples needs to be constrained (filter) by this geometry. \n",
    "We can do that with this:"
   ]
  },
  {
   "cell_type": "markdown",
   "metadata": {},
   "source": [
    "Obtain list of cells within the Mexican Territory.\n",
    "> The attribute: `mexican_cells.values` is a generator of the Type: QuerySet. We need to cast it to list for loading all the data in memory.\n"
   ]
  },
  {
   "cell_type": "code",
   "execution_count": 5,
   "metadata": {
    "collapsed": false
   },
   "outputs": [],
   "source": [
    "# Get all cell ids\n",
    "#selected_cells = mexican_cells\n",
    "selected_cells = ids4bats\n",
    "#ids = list(selected_cells.values('pk'))"
   ]
  },
  {
   "cell_type": "markdown",
   "metadata": {},
   "source": [
    "The UniformRandomCellSample is a method for sampling cells in the example below we give as arguments. "
   ]
  },
  {
   "cell_type": "code",
   "execution_count": 10,
   "metadata": {
    "collapsed": true
   },
   "outputs": [],
   "source": [
    "sm.UniformRandomCellSample?"
   ]
  },
  {
   "cell_type": "markdown",
   "metadata": {
    "collapsed": true
   },
   "source": [
    "# Select uniformly random \n",
    "We will load the submodule `sampling` from the module `traversals`. This submodule has some sampling methods for selecting objects from the *Knowledge Graph*\n",
    "\n",
    "Usage: \n",
    "\n",
    "> ` sampling.UniformRandomCellSample(list_of_cell_ids, CellNodeClass, sample_size=100, with_replacement=False, random_seed='') `\n",
    "\n",
    "Returns:\n",
    "> <\\py2neo.ogm.Mex4kmSelection\\>"
   ]
  },
  {
   "cell_type": "code",
   "execution_count": 17,
   "metadata": {
    "collapsed": false
   },
   "outputs": [
    {
     "name": "stderr",
     "output_type": "stream",
     "text": [
      "INFO Compiling Query and asking the Graph Database\n",
      "INFO:biospytial.graph_models:Compiling Query and asking the Graph Database\n"
     ]
    }
   ],
   "source": [
    "from traversals import sampling as sm\n",
    "cells_with_bats = bats.is_in.related_class\n",
    "N = 200\n",
    "sample_cells = sm.UniformRandomCellSample(ids4bats,cells_with_bats,sample_size=N)"
   ]
  },
  {
   "cell_type": "markdown",
   "metadata": {},
   "source": [
    "## Extract richness and Environmental covariates from cells at a given taxonomic level\n",
    "\n",
    "Inside the module  `traversals` there exists a submodule `strategies` which is composed of different traversal schemes for exploring the *Knowledge Graph*. Here we will use the function: `getEnvironmentalCovariatesFromListOfCells(sample_cells)` which will return a dataframe of the summary statistics for the environmental covariates given a list of Cell objects (`sample_cells`). \n",
    "\n"
   ]
  },
  {
   "cell_type": "code",
   "execution_count": null,
   "metadata": {
    "collapsed": false
   },
   "outputs": [],
   "source": [
    "from traversals import strategies as st"
   ]
  },
  {
   "cell_type": "code",
   "execution_count": 19,
   "metadata": {
    "collapsed": false
   },
   "outputs": [
    {
     "name": "stdout",
     "output_type": "stream",
     "text": [
      "CPU times: user 10.7 s, sys: 228 ms, total: 10.9 s\n",
      "Wall time: 1min 38s\n"
     ]
    }
   ],
   "source": [
    "%time data = st.getEnvironmentalCovariatesFromListOfCells(sample_cells)"
   ]
  },
  {
   "cell_type": "code",
   "execution_count": 20,
   "metadata": {
    "collapsed": false
   },
   "outputs": [
    {
     "name": "stdout",
     "output_type": "stream",
     "text": [
      "CPU times: user 6.94 s, sys: 92 ms, total: 7.04 s\n",
      "Wall time: 11 s\n"
     ]
    }
   ],
   "source": [
    "%time coords = st.getCentroidsFromListofCells(sample_cells)"
   ]
  },
  {
   "cell_type": "markdown",
   "metadata": {
    "collapsed": false
   },
   "source": [
    "### Build the trees from these cells\n",
    "Using the function for building cell to tree cells to trees"
   ]
  },
  {
   "cell_type": "code",
   "execution_count": 21,
   "metadata": {
    "collapsed": true
   },
   "outputs": [],
   "source": [
    "from drivers.tree_builder import buildTreeNeo"
   ]
  },
  {
   "cell_type": "code",
   "execution_count": 22,
   "metadata": {
    "collapsed": false
   },
   "outputs": [],
   "source": [
    "%time cells = list(sample_cells)"
   ]
  },
  {
   "cell_type": "code",
   "execution_count": 23,
   "metadata": {
    "collapsed": false
   },
   "outputs": [
    {
     "name": "stdout",
     "output_type": "stream",
     "text": [
      "CPU times: user 5min 19s, sys: 10.8 s, total: 5min 30s\n",
      "Wall time: 7min 12s\n"
     ]
    }
   ],
   "source": [
    "%time trees = map(lambda c : buildTreeNeo(c),cells)"
   ]
  },
  {
   "cell_type": "markdown",
   "metadata": {},
   "source": [
    "## Calculating Node frequencies\n",
    "For achiving this we must first obtain the global tree within this region.\n",
    "It is only with a context in which we can obtain frequencies.\n",
    "In this case the context is the totallity of the trees. Given that each tree\n",
    "is a subtree of the tree of life and all share at least a common ancestor (Root)\n",
    "it is possible to make the union of this trees. As explained before [reference] the\n",
    "set of taxonomic trees allows a monadic structure (the addition). The union of two trees\n",
    "will then be called `addition` and will be denoted with the $\\times$ symbol.\n",
    "\n",
    "\n",
    "> ### Implementation note:\n",
    "It is appealing to `integrate` a list of trees with a reduce function (fold).\n",
    "* `big_tree = reduce(lambda a,b : a + b ,trees)`\n",
    "/n Doing so will require a much higher processing time. \n",
    "\n",
    "The most efficient way of calculating the union (merge) of a list of trees is by first extracting the occurrences and, by making use of the Taxonomic relationships obtaining the resulting tree.\n",
    "\n"
   ]
  },
  {
   "cell_type": "code",
   "execution_count": 25,
   "metadata": {
    "collapsed": false
   },
   "outputs": [
    {
     "name": "stdout",
     "output_type": "stream",
     "text": [
      "CPU times: user 144 ms, sys: 0 ns, total: 144 ms\n",
      "Wall time: 146 ms\n"
     ]
    }
   ],
   "source": [
    "%time ocs = reduce(lambda a,b : a + b ,map(lambda t : t.occurrences, trees))"
   ]
  },
  {
   "cell_type": "code",
   "execution_count": 27,
   "metadata": {
    "collapsed": false
   },
   "outputs": [
    {
     "name": "stdout",
     "output_type": "stream",
     "text": [
      "CPU times: user 2.87 s, sys: 12 ms, total: 2.88 s\n",
      "Wall time: 2.88 s\n"
     ]
    }
   ],
   "source": [
    "## Ohh! super fast (compared to the other method that takes more than 20 minutes for this sample size)\n",
    "%time bigtree = TreeNeo(ocs,cell_objects=cells)"
   ]
  },
  {
   "cell_type": "code",
   "execution_count": 94,
   "metadata": {
    "collapsed": false
   },
   "outputs": [],
   "source": [
    "soyunagraphica = bigtree.to_Animalia.to_Annelida.toNetworkx(depth_level=6)"
   ]
  },
  {
   "cell_type": "code",
   "execution_count": 95,
   "metadata": {
    "collapsed": false
   },
   "outputs": [
    {
     "data": {
      "image/png": "[encoded data removed]",
      "text/plain": [
       "<matplotlib.figure.Figure at 0x7fe1935021d0>"
      ]
     },
     "metadata": {},
     "output_type": "display_data"
    }
   ],
   "source": [
    "import networkx as nt\n",
    "from networkx.drawing.nx_agraph import graphviz_layout\n",
    "extractNames = lambda graph : {k:v for (k,v) in map(lambda n : (n,n.name),\n",
    "                                                    graph.nodes())}\n",
    "extractColors = lambda graph :  map(lambda n : \n",
    "                                    n.level,graph.nodes())\n",
    "extractfreqs = lambda graph :  np.array(map(lambda n : \n",
    "                                            n.n_presences_in_list,graph.nodes()))\n",
    "root = bigtree.node\n",
    "pos = graphviz_layout(soyunagraphica,prog='circo',root=root.node.name)\n",
    "nt.draw(soyunagraphica,pos,labels=extractNames(soyunagraphica),\n",
    "        node_color=extractColors(soyunagraphica) \n",
    "       # ,node_size=extractfreqs(soyunagraphica)*100\n",
    "       )\n",
    "#nt.draw(soyunagraphica,pos)\n",
    "plt.show()"
   ]
  },
  {
   "cell_type": "code",
   "execution_count": 96,
   "metadata": {
    "collapsed": false
   },
   "outputs": [
    {
     "data": {
      "text/plain": [
       "23"
      ]
     },
     "execution_count": 96,
     "metadata": {},
     "output_type": "execute_result"
    }
   ],
   "source": [
    "soyunagraphica.size()"
   ]
  },
  {
   "cell_type": "code",
   "execution_count": 97,
   "metadata": {
    "collapsed": false
   },
   "outputs": [],
   "source": [
    "MM = nt.laplacian_matrix(soyunagraphica)"
   ]
  },
  {
   "cell_type": "code",
   "execution_count": 98,
   "metadata": {
    "collapsed": false
   },
   "outputs": [
    {
     "data": {
      "text/plain": [
       "<matplotlib.image.AxesImage at 0x7fe193cdf850>"
      ]
     },
     "execution_count": 98,
     "metadata": {},
     "output_type": "execute_result"
    },
    {
     "data": {
      "image/png": "[encoded data removed]",
      "text/plain": [
       "<matplotlib.figure.Figure at 0x7fe193e91210>"
      ]
     },
     "metadata": {},
     "output_type": "display_data"
    }
   ],
   "source": [
    "plt.imshow(MM.toarray())"
   ]
  },
  {
   "cell_type": "code",
   "execution_count": 99,
   "metadata": {
    "collapsed": false
   },
   "outputs": [
    {
     "name": "stdout",
     "output_type": "stream",
     "text": [
      "CPU times: user 52 ms, sys: 4 ms, total: 56 ms\n",
      "Wall time: 59.4 ms\n"
     ]
    }
   ],
   "source": [
    "%time gigi = nt.algorithms.betweenness_centrality(soyunagraphica)"
   ]
  },
  {
   "cell_type": "code",
   "execution_count": 105,
   "metadata": {
    "collapsed": false
   },
   "outputs": [],
   "source": [
    "cosas = gigi.items()"
   ]
  },
  {
   "cell_type": "code",
   "execution_count": 106,
   "metadata": {
    "collapsed": true
   },
   "outputs": [],
   "source": [
    "ncosas = cosas.sort(key=lambda (k,v) : v)"
   ]
  },
  {
   "cell_type": "code",
   "execution_count": null,
   "metadata": {
    "collapsed": false
   },
   "outputs": [],
   "source": []
  },
  {
   "cell_type": "markdown",
   "metadata": {},
   "source": [
    "## Here we will get the richness for all bats"
   ]
  },
  {
   "cell_type": "code",
   "execution_count": null,
   "metadata": {
    "collapsed": false
   },
   "outputs": [],
   "source": [
    "bats_richness_per_cell = map(lambda tree :tree.to_Animalia.to_Chordata.to_Mammalia.to_Chiroptera.richness,trees )"
   ]
  },
  {
   "cell_type": "code",
   "execution_count": null,
   "metadata": {
    "collapsed": false
   },
   "outputs": [],
   "source": [
    "bats_richness_per_cell = pd.DataFrame({'bats_rich' : bats_richness_per_cell})"
   ]
  },
  {
   "cell_type": "code",
   "execution_count": null,
   "metadata": {
    "collapsed": false
   },
   "outputs": [],
   "source": [
    "coords_cells = st.getCentroidsFromListofCells(cells)"
   ]
  },
  {
   "cell_type": "code",
   "execution_count": null,
   "metadata": {
    "collapsed": true
   },
   "outputs": [],
   "source": [
    "datafull = pd.concat([bats_richness_per_cell,coords_cells,data],axis=1)"
   ]
  },
  {
   "cell_type": "code",
   "execution_count": null,
   "metadata": {
    "collapsed": false
   },
   "outputs": [],
   "source": [
    "datafull.loc[:10]"
   ]
  },
  {
   "cell_type": "code",
   "execution_count": null,
   "metadata": {
    "collapsed": true
   },
   "outputs": [],
   "source": [
    "### Let's save it for posterior use\n",
    "datafull.to_csv('/outputs/bats_richness.csv')"
   ]
  },
  {
   "cell_type": "code",
   "execution_count": null,
   "metadata": {
    "collapsed": false
   },
   "outputs": [],
   "source": [
    "from sketches.models import Country\n",
    "from mesh.models import MexMesh\n",
    "\n",
    "Mexico = Country.objects.filter(name__contains=\"exico\").get()\n",
    "mexican_cells = MexMesh.objects.filter(cell__intersects=Mexico.geom)"
   ]
  },
  {
   "cell_type": "markdown",
   "metadata": {},
   "source": [
    "## Obtaining the predictors\n",
    "In this case we will bring all the variables to start working with everything"
   ]
  },
  {
   "cell_type": "code",
   "execution_count": null,
   "metadata": {
    "collapsed": false
   },
   "outputs": [],
   "source": [
    "from raster_api.tools import RasterData\n",
    "from raster_api.models import raster_models_dic as models\n"
   ]
  },
  {
   "cell_type": "markdown",
   "metadata": {},
   "source": [
    "### Obtaining everything"
   ]
  },
  {
   "cell_type": "code",
   "execution_count": null,
   "metadata": {
    "collapsed": false
   },
   "outputs": [],
   "source": [
    "datadict = { key : RasterData(models[key],border=Mexico.geom) for key,value in models.iteritems()}"
   ]
  },
  {
   "cell_type": "code",
   "execution_count": null,
   "metadata": {
    "collapsed": true
   },
   "outputs": [],
   "source": [
    "#from django.db import connections\n",
    "#connections.close_all()"
   ]
  },
  {
   "cell_type": "code",
   "execution_count": null,
   "metadata": {
    "collapsed": false
   },
   "outputs": [],
   "source": [
    "## Without resamling (whole data)\n",
    "pixel_size = 0.25\n",
    "%time datacube_field = map(lambda raster : raster.rescale(pixel_size),datadict.itervalues())\n",
    "datacube = datacube_field"
   ]
  },
  {
   "cell_type": "code",
   "execution_count": null,
   "metadata": {
    "collapsed": false
   },
   "outputs": [],
   "source": [
    "map(lambda (k,d) : d.display_field(title=k,origin='Lower'),datadict.iteritems())"
   ]
  },
  {
   "cell_type": "markdown",
   "metadata": {},
   "source": [
    "## For the moment we don't want to do temporal analysis so we need to aggregate the array by the mean.\n",
    "\n",
    "Using the new 'resample' method"
   ]
  },
  {
   "cell_type": "code",
   "execution_count": null,
   "metadata": {
    "collapsed": false
   },
   "outputs": [],
   "source": [
    "# Take mean of evetything\n",
    "cubes = map(lambda (k,v): np.mean(v.toNumpyArray(),axis=0), datadict.iteritems())"
   ]
  },
  {
   "cell_type": "markdown",
   "metadata": {},
   "source": [
    "The coordinates are the same so, we can extract the them with getCoordinates and then append everything as a flat array"
   ]
  },
  {
   "cell_type": "code",
   "execution_count": null,
   "metadata": {
    "collapsed": true
   },
   "outputs": [],
   "source": [
    "coords = map(lambda (k,v) : v.getCoordinates(),datadict.iteritems())"
   ]
  },
  {
   "cell_type": "code",
   "execution_count": null,
   "metadata": {
    "collapsed": false
   },
   "outputs": [],
   "source": [
    "coords = pd.concat(coords,axis=1)"
   ]
  },
  {
   "cell_type": "code",
   "execution_count": null,
   "metadata": {
    "collapsed": false
   },
   "outputs": [],
   "source": [
    "coords1 = coords[[0,1]]"
   ]
  },
  {
   "cell_type": "code",
   "execution_count": null,
   "metadata": {
    "collapsed": false
   },
   "outputs": [],
   "source": [
    "## Oke I need a way to extract the dataframe, maybe aggregate it by mean \n",
    "dataframe_cube = map(lambda cube: pd.DataFrame(cube.flatten()),cubes)"
   ]
  },
  {
   "cell_type": "code",
   "execution_count": null,
   "metadata": {
    "collapsed": false
   },
   "outputs": [],
   "source": [
    "datacube = pd.concat(dataframe_cube,axis=1)"
   ]
  },
  {
   "cell_type": "code",
   "execution_count": null,
   "metadata": {
    "collapsed": false
   },
   "outputs": [],
   "source": [
    "datacube = pd.concat([datacube,coords1],axis=1)"
   ]
  },
  {
   "cell_type": "code",
   "execution_count": null,
   "metadata": {
    "collapsed": false
   },
   "outputs": [],
   "source": [
    "datacube.columns = datadict.keys() + list(coords1.columns)"
   ]
  },
  {
   "cell_type": "code",
   "execution_count": null,
   "metadata": {
    "collapsed": false
   },
   "outputs": [],
   "source": [
    "datacube_clean.columns"
   ]
  },
  {
   "cell_type": "code",
   "execution_count": null,
   "metadata": {
    "collapsed": false
   },
   "outputs": [],
   "source": [
    "datacube.loc[:10]\n",
    "datacube_clean = datacube.dropna()"
   ]
  },
  {
   "cell_type": "code",
   "execution_count": null,
   "metadata": {
    "collapsed": false
   },
   "outputs": [],
   "source": [
    "## Convert to geopandas\n",
    "from external_plugins.spystats.spystats import tools as tl\n",
    "datacube_clean = tl.toGeoDataFrame(datacube_clean,xcoord_name='Longitude',ycoord_name='Latitude')"
   ]
  },
  {
   "cell_type": "markdown",
   "metadata": {},
   "source": [
    "# Bayesian Modelling\n",
    "\n",
    "The Model is an inhomogeneous Poisson process.\n",
    "\n",
    "$$y(x) \\sim Poisson(\\lambda(x)) $$\n",
    "$$ \\lambda(x) = exp\\{\\alpha + S(x)\\}$$\n",
    "\n",
    "Where $S(x)$ is a Gaussian Process such that:\n",
    "\n",
    "$$S(x) \\sim MVN(0,\\sigma^2 \\rho(||x - x'||) $$\n",
    "\n",
    "For this particular case:\n",
    "$$\\rho = Matern(\\phi,\\kappa = \\frac{3}{4}) + \\tau^2$$\n",
    "\n",
    "I'm using a Bayesian approach with parameters $\\phi$ and $\\tau$ as random variables with it's corresponding priors."
   ]
  },
  {
   "cell_type": "code",
   "execution_count": null,
   "metadata": {
    "collapsed": false
   },
   "outputs": [],
   "source": [
    "datafull.columns"
   ]
  },
  {
   "cell_type": "code",
   "execution_count": null,
   "metadata": {
    "collapsed": false
   },
   "outputs": [],
   "source": [
    "import pymc3 as pm\n",
    "#datafull.columns = [u'n_Family', u'Longitude', u'Latitude', u'Elevation_mean',\n",
    "#       u'MaxTemperature_mean', u'MeanTemperature_mean', u'MinTemperature_mean',\n",
    "#       u'Precipitation_mean', u'SolarRadiation_mean', u'Vapor_mean',\n",
    "#       u'WindSpeed_mean', u'geometry']"
   ]
  },
  {
   "cell_type": "code",
   "execution_count": null,
   "metadata": {
    "collapsed": false
   },
   "outputs": [],
   "source": [
    "datafull[:10]"
   ]
  },
  {
   "cell_type": "code",
   "execution_count": null,
   "metadata": {
    "collapsed": false
   },
   "outputs": [],
   "source": [
    "ndatafull = datafull.replace('N.A.',np.nan)"
   ]
  },
  {
   "cell_type": "code",
   "execution_count": null,
   "metadata": {
    "collapsed": false
   },
   "outputs": [],
   "source": [
    "import statsmodels.api as sm\n",
    "from statsmodels.formula.api import OLS\n",
    "from statsmodels.genmod.generalized_linear_model import GLM\n",
    "glmodel = GLM.from_formula('bats_rich ~ Elevation_mean + MeanTemperature_mean',data=ndatafull,family=sm.families.Poisson(sm.families.links.log))\n",
    "#glmodel = OLS.from_formula('bats_rich ~ WindSpeed_mean',data=datafull)\n",
    "#glmodel = OLS(ndatafull.bats_rich.values,ndatafull.WindSpeed_mean.values)\n",
    "res = glmodel.fit()\n",
    "print(res.summary())\n",
    "\n",
    "\n",
    "z = np.array([0.0,0.0])\n",
    "coefs = np.append(z,res.params.values[1:])"
   ]
  },
  {
   "cell_type": "code",
   "execution_count": null,
   "metadata": {
    "collapsed": false
   },
   "outputs": [],
   "source": [
    "z = np.array([0.0,0.0])\n",
    "coefs = np.append(z,res.params.values[1:])\n",
    "print(coefs)"
   ]
  },
  {
   "cell_type": "code",
   "execution_count": null,
   "metadata": {
    "collapsed": false
   },
   "outputs": [],
   "source": [
    "## Analysis, GP only one parameter to fit\n",
    "# The variational method is much beter.\n",
    "from pymc3.variational.callbacks import CheckParametersConvergence\n",
    "\n",
    "with pm.Model() as model:\n",
    "    sigma = 1.0\n",
    "    #range_a=10.13\n",
    "    \n",
    "    \n",
    "    tau = pm.Uniform('tau',0,5.0)\n",
    "    #sigma = pm.Flat('sigma')\n",
    "    #phi = pm.HalfNormal('phi',mu=8,sd=3)\n",
    "    #phi = pm.Uniform('phi',6,12)\n",
    "    phi = pm.Uniform('phi',0,15)\n",
    "    \n",
    "    Tau = pm.gp.cov.Constant(tau)\n",
    "    \n",
    "    cov = sigma * pm.gp.cov.Matern32(2,phi,active_dims=[0,1]) + Tau\n",
    "    #K = cov(grid[['Lon','Lat']].values)\n",
    "    #phiprint = tt.printing.Print('phi')(phi)\n",
    "    \n",
    "    \n",
    "    mf = pm.gp.mean.Linear(coeffs=coefs,intercept=res.params.values[0])\n",
    "\n",
    "    \n",
    "    \n",
    "    \n",
    "    \n",
    "    ## The latent function\n",
    "    gp = pm.gp.Latent(cov_func=cov)\n",
    "    \n",
    "    \n",
    "    \n",
    "    \n",
    "    \n",
    "    ## I don't know why this\n",
    "    #f = gp.prior(\"latent_field\", X=data[['Longitude','Latitude']].values,reparameterize=False)\n",
    "    \n",
    "    f = gp.prior(\"latent_field\", X=ndatafull[['Longitude','Latitude','Elevation_mean','MaxTemperature_mean']].values,reparameterize=False)\n",
    "    \n",
    "    \n",
    "    \n",
    "    \n",
    "    \n",
    "    \n",
    "    \n",
    "    #f_print = tt.printing.Print('latent_field')(f)\n",
    "    \n",
    "    y_obs = pm.Poisson('y_obs',mu=np.exp(f),observed=datafull[['bats_rich']].values)\n",
    "    \n",
    "    #y_obs = pm.MvNormal('y_obs',mu=np.zeros(n*n),cov=K,observed=grid.Z)\n",
    "\n",
    "    #gp = pm.gp.Latent(cov_func=cov,observed=sample)\n",
    "    # Use elliptical slice sampling\n",
    "    #ess_step = pm.EllipticalSlice(vars=[f_sample], prior_cov=K)\n",
    "    #step = pm.HamiltonianMC()\n",
    "    #step = pm.Metropolis()\n",
    "    #%time trace = pm.sample(5000,step)#,tune=0,chains=1)\n",
    "    ## Variational\n",
    "    \n",
    "    %time mean_field = pm.fit(method='advi', callbacks=[CheckParametersConvergence()],n=15000)    \n",
    "    %time trace = mean_field.sample(draws=5000)\n",
    "\n",
    "#with model:    \n",
    "    \n",
    "    ## For predicting\n",
    "    #%time f_star = gp.conditional(\"f_star\", data_star.iloc[:,1:3].values)\n",
    "    #%time f_star = gp.conditional(\"f_star\", small_sample.iloc[:,1:3].values)\n",
    "    %time f_star = gp.conditional(\"f_star\", datacube_clean[['Longitude','Latitude','Elevation','MeanTemperature']].values)\n",
    "\n",
    "    ## Full data\n",
    "    ##%time f_star = gp.conditional(\"f_star\",elev_data.iloc[:,1:3].values)\n",
    "\n",
    "\n",
    "    \n",
    "#with model:\n",
    "    ## sampling predictions posterior predictive checks\n",
    "    pred_samples = pm.sample_ppc(trace, vars=[f_star], samples=10)\n",
    "\n",
    "                    \n"
   ]
  },
  {
   "cell_type": "code",
   "execution_count": null,
   "metadata": {
    "collapsed": false
   },
   "outputs": [],
   "source": [
    "preds = pd.DataFrame(pred_samples['f_star']).transpose()"
   ]
  },
  {
   "cell_type": "code",
   "execution_count": null,
   "metadata": {
    "collapsed": true
   },
   "outputs": [],
   "source": [
    "preds['mean_sample'] = preds.mean(axis=1)"
   ]
  },
  {
   "cell_type": "code",
   "execution_count": null,
   "metadata": {
    "collapsed": false
   },
   "outputs": [],
   "source": [
    "#preds['idx'] = data_star.index.values\n",
    "preds['idx'] = datacube_clean.index.values"
   ]
  },
  {
   "cell_type": "code",
   "execution_count": null,
   "metadata": {
    "collapsed": false
   },
   "outputs": [],
   "source": [
    "\n",
    "#test1 = data_s.merge(preds,how='left',left_index=True,right_on='idx',suffixes=('_obs','_pred'))\n",
    "test1 = datacube.merge(preds,how='left',left_index=True,right_on='idx',suffixes=('_obs','_pred'))\n",
    "## Only the values of small_sample\n",
    "#test2 = elev_data.merge(preds,how='inner',left_index=True,right_on='idx',suffixes=('_obs','_pred'))"
   ]
  },
  {
   "cell_type": "code",
   "execution_count": null,
   "metadata": {
    "collapsed": false
   },
   "outputs": [],
   "source": [
    "fig, ax = plt.subplots(figsize=(10, 9));\n",
    "plt.scatter(test1.Longitude,test1.Latitude,c=test1.mean_sample)\n",
    "plt.scatter(datafull.Longitude,datafull.Latitude,c=datafull.bats_rich,cmap=plt.cm.Greys,s=90)\n",
    "plt.colorbar()"
   ]
  },
  {
   "cell_type": "markdown",
   "metadata": {},
   "source": [
    "# Convert to a raster format.\n",
    " ## Motivation\n",
    " It's important for visualization and compatibility with GIS software to generate the results in a standard raster format.\n",
    "*Biospytial* Has incorporated tools for reading and converting to the standard raster formats. In this case Geotif."
   ]
  },
  {
   "cell_type": "code",
   "execution_count": null,
   "metadata": {
    "collapsed": true
   },
   "outputs": [],
   "source": [
    "## Import raster container\n",
    "from raster_api.tools import RasterContainer"
   ]
  },
  {
   "cell_type": "markdown",
   "metadata": {},
   "source": [
    "### The easiest way is to take the metadata (geospatial parameters) from one of the RasterData we used as covariates"
   ]
  },
  {
   "cell_type": "code",
   "execution_count": null,
   "metadata": {
    "collapsed": false
   },
   "outputs": [],
   "source": [
    "elv_rast = datadict['Elevation'].rasterdata"
   ]
  },
  {
   "cell_type": "code",
   "execution_count": null,
   "metadata": {
    "collapsed": true
   },
   "outputs": [],
   "source": [
    "predicted_data = test1.mean_sample.values"
   ]
  },
  {
   "cell_type": "code",
   "execution_count": null,
   "metadata": {
    "collapsed": false
   },
   "outputs": [],
   "source": [
    "ncounts_families = RasterContainer(predicted_data,use_metadata_from=elv_rast)"
   ]
  },
  {
   "cell_type": "code",
   "execution_count": null,
   "metadata": {
    "collapsed": false
   },
   "outputs": [],
   "source": [
    "ncounts_families.display_field(band=1,origin='Lower',title='log(family richness)')"
   ]
  },
  {
   "cell_type": "code",
   "execution_count": null,
   "metadata": {
    "collapsed": false
   },
   "outputs": [],
   "source": [
    "np.log(2)"
   ]
  },
  {
   "cell_type": "code",
   "execution_count": null,
   "metadata": {
    "collapsed": false
   },
   "outputs": [],
   "source": [
    "fig, ax = plt.subplots(figsize=(10, 9));\n",
    "\n",
    "#ncounts_families.display_field(band=2,origin='Lower',title='family richness')\n",
    "plt.imshow(ncounts_families.rasterdata.bands[1].data(),origin='Lower')\n",
    "plt.colorbar(orientation='horizontal')"
   ]
  },
  {
   "cell_type": "markdown",
   "metadata": {},
   "source": [
    "### Export to Geotif"
   ]
  },
  {
   "cell_type": "code",
   "execution_count": null,
   "metadata": {
    "collapsed": true
   },
   "outputs": [],
   "source": [
    "ncounts_families.exportToGeoTiff('bats_richness_fromsample')"
   ]
  },
  {
   "cell_type": "markdown",
   "metadata": {},
   "source": [
    "There are several parameters hidden here:\n",
    "    1. The size of the predictors grid\n",
    "    2. The sample size of the training data\n",
    "    3. The bayesian hyperparameters"
   ]
  },
  {
   "cell_type": "markdown",
   "metadata": {
    "collapsed": true
   },
   "source": [
    "## For implementing today\n",
    "* The modeller function (structure):\n",
    "    \n",
    "   * Inputs: \n",
    "    \n",
    "    ** Dataframe for training data\n",
    "    \n",
    "    ** numpy n-array or dataframe for predictors\n",
    "    \n",
    "    ** Model (specified as Pymc3 model)\n",
    "    \n",
    "    * Outputs:\n",
    "        \n",
    "        *** The new RasterContainer with rthe bands as: log, exp and expit (in case binomial)\n",
    "        \n",
    "* Seems like needs to be a premodelr to select the cells, the geometry, etc.\n",
    "\n",
    "\n"
   ]
  },
  {
   "cell_type": "code",
   "execution_count": null,
   "metadata": {
    "collapsed": false
   },
   "outputs": [],
   "source": [
    "ncounts_families.rasterdata.bands[0].data().shape"
   ]
  },
  {
   "cell_type": "markdown",
   "metadata": {},
   "source": [
    "## stages\n",
    "1. Build a function for extracting the predictors given a scale parameter\n",
    "2. Build a function for the \"premodeling\"\n",
    "3. Build a function for bundling everything and return the prediction (needs to accept a model)\n",
    "\n",
    "> Models to run\n",
    "Show two maps of taxa. e.g. Agave and Bats for instance\n",
    "\n",
    "Then also show the matrix distance for trees \n"
   ]
  },
  {
   "cell_type": "code",
   "execution_count": null,
   "metadata": {
    "collapsed": true
   },
   "outputs": [],
   "source": []
  }
 ],
 "metadata": {
  "kernelspec": {
   "display_name": "Django Shell-Plus",
   "language": "python",
   "name": "django_extensions"
  },
  "language_info": {
   "codemirror_mode": {
    "name": "ipython",
    "version": 2
   },
   "file_extension": ".py",
   "mimetype": "text/x-python",
   "name": "python",
   "nbconvert_exporter": "python",
   "pygments_lexer": "ipython2",
   "version": "2.7.11"
  }
 },
 "nbformat": 4,
 "nbformat_minor": 0
}
