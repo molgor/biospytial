{
 "cells": [
  {
   "cell_type": "code",
   "execution_count": 1,
   "metadata": {
    "collapsed": true
   },
   "outputs": [],
   "source": [
    "%matplotlib inline\n",
    "import sys\n",
    "sys.path.append('/apps')\n",
    "import django\n",
    "django.setup()\n",
    "from drivers.tree_builder import TreeNeo\n",
    "from drivers.graph_models import TreeNode, Order, Family, graph"
   ]
  },
  {
   "cell_type": "code",
   "execution_count": 2,
   "metadata": {
    "collapsed": true
   },
   "outputs": [],
   "source": [
    "import redis"
   ]
  },
  {
   "cell_type": "code",
   "execution_count": 3,
   "metadata": {
    "collapsed": true
   },
   "outputs": [],
   "source": [
    "r = redis.StrictRedis(host=\"biospytial_redis\")"
   ]
  },
  {
   "cell_type": "code",
   "execution_count": 4,
   "metadata": {
    "collapsed": false
   },
   "outputs": [
    {
     "data": {
      "text/plain": [
       "['ncells2', 'bursera_n_cells']"
      ]
     },
     "execution_count": 4,
     "metadata": {},
     "output_type": "execute_result"
    }
   ],
   "source": [
    "r.keys()"
   ]
  },
  {
   "cell_type": "code",
   "execution_count": 11,
   "metadata": {
    "collapsed": true
   },
   "outputs": [],
   "source": [
    "import json\n",
    "import numpy as np\n",
    "import matplotlib.pyplot as plt\n",
    "from sklearn import datasets, linear_model"
   ]
  },
  {
   "cell_type": "code",
   "execution_count": 10,
   "metadata": {
    "collapsed": true
   },
   "outputs": [],
   "source": [
    "logscells = np.array(json.loads(r.get(\"bursera_n_cells\")))"
   ]
  },
  {
   "cell_type": "code",
   "execution_count": 12,
   "metadata": {
    "collapsed": true
   },
   "outputs": [],
   "source": [
    "ncells = np.array(json.loads(r.get(\"ncells2\")))"
   ]
  },
  {
   "cell_type": "code",
   "execution_count": 13,
   "metadata": {
    "collapsed": false
   },
   "outputs": [
    {
     "data": {
      "text/plain": [
       "array([  2.53700000e+03,   2.23200000e+03,   1.55500000e+03,\n",
       "         9.04000000e+02,   4.11000000e+02,   1.67000000e+02,\n",
       "         6.00000000e+01,   2.40000000e+01,   9.00000000e+00,\n",
       "         3.00000000e+00,   1.00000000e+00])"
      ]
     },
     "execution_count": 13,
     "metadata": {},
     "output_type": "execute_result"
    }
   ],
   "source": [
    "ncells"
   ]
  },
  {
   "cell_type": "code",
   "execution_count": 29,
   "metadata": {
    "collapsed": true
   },
   "outputs": [],
   "source": [
    "x = np.array(range(0,11))"
   ]
  },
  {
   "cell_type": "code",
   "execution_count": 30,
   "metadata": {
    "collapsed": false
   },
   "outputs": [],
   "source": [
    "regl = linear_model.LinearRegression()"
   ]
  },
  {
   "cell_type": "code",
   "execution_count": 22,
   "metadata": {
    "collapsed": false
   },
   "outputs": [
    {
     "data": {
      "text/plain": [
       "array([[ 1,  2,  3,  4,  5,  6,  7,  8,  9, 10]])"
      ]
     },
     "execution_count": 22,
     "metadata": {},
     "output_type": "execute_result"
    }
   ],
   "source": [
    "x.reshape(1,-1)"
   ]
  },
  {
   "cell_type": "code",
   "execution_count": 23,
   "metadata": {
    "collapsed": false
   },
   "outputs": [
    {
     "data": {
      "text/plain": [
       "array([[ 1],\n",
       "       [ 2],\n",
       "       [ 3],\n",
       "       [ 4],\n",
       "       [ 5],\n",
       "       [ 6],\n",
       "       [ 7],\n",
       "       [ 8],\n",
       "       [ 9],\n",
       "       [10]])"
      ]
     },
     "execution_count": 23,
     "metadata": {},
     "output_type": "execute_result"
    }
   ],
   "source": [
    "x.reshape(-1,1)"
   ]
  },
  {
   "cell_type": "code",
   "execution_count": 33,
   "metadata": {
    "collapsed": false
   },
   "outputs": [],
   "source": [
    "model = regl.fit(X=x.reshape(-1,1),y=logscells.reshape(-1,1))"
   ]
  },
  {
   "cell_type": "code",
   "execution_count": 34,
   "metadata": {
    "collapsed": false
   },
   "outputs": [
    {
     "data": {
      "text/plain": [
       "array([[-0.59202742]])"
      ]
     },
     "execution_count": 34,
     "metadata": {},
     "output_type": "execute_result"
    }
   ],
   "source": [
    "model.coef_"
   ]
  },
  {
   "cell_type": "code",
   "execution_count": 48,
   "metadata": {
    "collapsed": false
   },
   "outputs": [],
   "source": [
    "predx = np.linspace(0,10,100)"
   ]
  },
  {
   "cell_type": "code",
   "execution_count": 49,
   "metadata": {
    "collapsed": false
   },
   "outputs": [],
   "source": [
    "predx = predx.reshape(-1,1)"
   ]
  },
  {
   "cell_type": "code",
   "execution_count": 50,
   "metadata": {
    "collapsed": false
   },
   "outputs": [],
   "source": [
    "predy = model.predict(predx)"
   ]
  },
  {
   "cell_type": "code",
   "execution_count": 51,
   "metadata": {
    "collapsed": false
   },
   "outputs": [
    {
     "data": {
      "text/plain": [
       "array([[ 6.33147104],\n",
       "       [ 6.27167029],\n",
       "       [ 6.21186954],\n",
       "       [ 6.15206879],\n",
       "       [ 6.09226804],\n",
       "       [ 6.03246729],\n",
       "       [ 5.97266654],\n",
       "       [ 5.91286579],\n",
       "       [ 5.85306504],\n",
       "       [ 5.79326429],\n",
       "       [ 5.73346354],\n",
       "       [ 5.67366279],\n",
       "       [ 5.61386204],\n",
       "       [ 5.55406129],\n",
       "       [ 5.49426054],\n",
       "       [ 5.43445979],\n",
       "       [ 5.37465904],\n",
       "       [ 5.31485829],\n",
       "       [ 5.25505754],\n",
       "       [ 5.19525679],\n",
       "       [ 5.13545604],\n",
       "       [ 5.07565529],\n",
       "       [ 5.01585454],\n",
       "       [ 4.95605379],\n",
       "       [ 4.89625304],\n",
       "       [ 4.83645229],\n",
       "       [ 4.77665155],\n",
       "       [ 4.7168508 ],\n",
       "       [ 4.65705005],\n",
       "       [ 4.5972493 ],\n",
       "       [ 4.53744855],\n",
       "       [ 4.4776478 ],\n",
       "       [ 4.41784705],\n",
       "       [ 4.3580463 ],\n",
       "       [ 4.29824555],\n",
       "       [ 4.2384448 ],\n",
       "       [ 4.17864405],\n",
       "       [ 4.1188433 ],\n",
       "       [ 4.05904255],\n",
       "       [ 3.9992418 ],\n",
       "       [ 3.93944105],\n",
       "       [ 3.8796403 ],\n",
       "       [ 3.81983955],\n",
       "       [ 3.7600388 ],\n",
       "       [ 3.70023805],\n",
       "       [ 3.6404373 ],\n",
       "       [ 3.58063655],\n",
       "       [ 3.5208358 ],\n",
       "       [ 3.46103505],\n",
       "       [ 3.4012343 ],\n",
       "       [ 3.34143355],\n",
       "       [ 3.2816328 ],\n",
       "       [ 3.22183205],\n",
       "       [ 3.1620313 ],\n",
       "       [ 3.10223055],\n",
       "       [ 3.0424298 ],\n",
       "       [ 2.98262906],\n",
       "       [ 2.92282831],\n",
       "       [ 2.86302756],\n",
       "       [ 2.80322681],\n",
       "       [ 2.74342606],\n",
       "       [ 2.68362531],\n",
       "       [ 2.62382456],\n",
       "       [ 2.56402381],\n",
       "       [ 2.50422306],\n",
       "       [ 2.44442231],\n",
       "       [ 2.38462156],\n",
       "       [ 2.32482081],\n",
       "       [ 2.26502006],\n",
       "       [ 2.20521931],\n",
       "       [ 2.14541856],\n",
       "       [ 2.08561781],\n",
       "       [ 2.02581706],\n",
       "       [ 1.96601631],\n",
       "       [ 1.90621556],\n",
       "       [ 1.84641481],\n",
       "       [ 1.78661406],\n",
       "       [ 1.72681331],\n",
       "       [ 1.66701256],\n",
       "       [ 1.60721181],\n",
       "       [ 1.54741106],\n",
       "       [ 1.48761031],\n",
       "       [ 1.42780956],\n",
       "       [ 1.36800881],\n",
       "       [ 1.30820806],\n",
       "       [ 1.24840732],\n",
       "       [ 1.18860657],\n",
       "       [ 1.12880582],\n",
       "       [ 1.06900507],\n",
       "       [ 1.00920432],\n",
       "       [ 0.94940357],\n",
       "       [ 0.88960282],\n",
       "       [ 0.82980207],\n",
       "       [ 0.77000132],\n",
       "       [ 0.71020057],\n",
       "       [ 0.65039982],\n",
       "       [ 0.59059907],\n",
       "       [ 0.53079832],\n",
       "       [ 0.47099757],\n",
       "       [ 0.41119682]])"
      ]
     },
     "execution_count": 51,
     "metadata": {},
     "output_type": "execute_result"
    }
   ],
   "source": [
    "predy"
   ]
  },
  {
   "cell_type": "code",
   "execution_count": 61,
   "metadata": {
    "collapsed": false
   },
   "outputs": [
    {
     "data": {
      "text/plain": [
       "[<matplotlib.lines.Line2D at 0x7f7125349190>]"
      ]
     },
     "execution_count": 61,
     "metadata": {},
     "output_type": "execute_result"
    },
    {
     "data": {
      "image/png": "[encoded data removed]",
      "text/plain": [
       "<matplotlib.figure.Figure at 0x7f71251ec590>"
      ]
     },
     "metadata": {},
     "output_type": "display_data"
    }
   ],
   "source": [
    "plt.plot(predx,predy)\n",
    "plt.scatter(x,logscells,color='red')\n",
    "plt.plot(predx,-predx + 6,color='green')"
   ]
  },
  {
   "cell_type": "code",
   "execution_count": 58,
   "metadata": {
    "collapsed": true
   },
   "outputs": [],
   "source": [
    "b,m = model.intercept_ , model.coef_\n"
   ]
  },
  {
   "cell_type": "code",
   "execution_count": 59,
   "metadata": {
    "collapsed": false
   },
   "outputs": [
    {
     "data": {
      "text/plain": [
       "array([ 6.33147104])"
      ]
     },
     "execution_count": 59,
     "metadata": {},
     "output_type": "execute_result"
    }
   ],
   "source": [
    "b"
   ]
  },
  {
   "cell_type": "code",
   "execution_count": 60,
   "metadata": {
    "collapsed": false
   },
   "outputs": [
    {
     "data": {
      "text/plain": [
       "array([[-0.59202742]])"
      ]
     },
     "execution_count": 60,
     "metadata": {},
     "output_type": "execute_result"
    }
   ],
   "source": [
    "m"
   ]
  },
  {
   "cell_type": "code",
   "execution_count": 63,
   "metadata": {
    "collapsed": true
   },
   "outputs": [],
   "source": [
    "# Bursera , species  by gender using the all counts method"
   ]
  },
  {
   "cell_type": "code",
   "execution_count": 65,
   "metadata": {
    "collapsed": false
   },
   "outputs": [],
   "source": [
    "import redis\n",
    "r = redis.StrictRedis(host=\"biospytial_redis\")\n",
    "keys = r.keys()"
   ]
  },
  {
   "cell_type": "code",
   "execution_count": 66,
   "metadata": {
    "collapsed": false
   },
   "outputs": [
    {
     "data": {
      "text/plain": [
       "['Commiphora',\n",
       " 'Icica',\n",
       " 'Elaphrium',\n",
       " 'Beiselia',\n",
       " 'Bursera',\n",
       " 'ncells2',\n",
       " 'Terebinthus',\n",
       " 'bursera_n_cells',\n",
       " 'Protium']"
      ]
     },
     "execution_count": 66,
     "metadata": {},
     "output_type": "execute_result"
    }
   ],
   "source": [
    "keys"
   ]
  },
  {
   "cell_type": "code",
   "execution_count": 67,
   "metadata": {
    "collapsed": true
   },
   "outputs": [],
   "source": [
    "import pandas as pd"
   ]
  },
  {
   "cell_type": "code",
   "execution_count": 68,
   "metadata": {
    "collapsed": true
   },
   "outputs": [],
   "source": [
    "tables = [ (key,pd.read_msgpack(r.get(key))) for key in r.keys()]"
   ]
  },
  {
   "cell_type": "code",
   "execution_count": 72,
   "metadata": {
    "collapsed": false
   },
   "outputs": [],
   "source": [
    "ncells = tables.pop(5)"
   ]
  },
  {
   "cell_type": "code",
   "execution_count": null,
   "metadata": {
    "collapsed": true
   },
   "outputs": [],
   "source": []
  },
  {
   "cell_type": "code",
   "execution_count": null,
   "metadata": {
    "collapsed": true
   },
   "outputs": [],
   "source": []
  },
  {
   "cell_type": "code",
   "execution_count": null,
   "metadata": {
    "collapsed": true
   },
   "outputs": [],
   "source": []
  }
 ],
 "metadata": {
  "kernelspec": {
   "display_name": "Django Shell-Plus",
   "language": "python",
   "name": "django_extensions"
  },
  "language_info": {
   "codemirror_mode": {
    "name": "ipython",
    "version": 2
   },
   "file_extension": ".py",
   "mimetype": "text/x-python",
   "name": "python",
   "nbconvert_exporter": "python",
   "pygments_lexer": "ipython2",
   "version": "2.7.11"
  }
 },
 "nbformat": 4,
 "nbformat_minor": 0
}
