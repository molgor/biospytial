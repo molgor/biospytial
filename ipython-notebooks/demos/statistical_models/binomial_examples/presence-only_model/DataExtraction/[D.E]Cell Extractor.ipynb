{
 "cells": [
  {
   "cell_type": "markdown",
   "metadata": {},
   "source": [
    "# Full regional extraction\n",
    "Here we will extract cells from a variable size continuous polygon.\n",
    "This will be the first step in doing a full regionalising model.\n",
    "> For simplicity we restrict the list to only one polygon"
   ]
  },
  {
   "cell_type": "code",
   "execution_count": 1,
   "metadata": {},
   "outputs": [],
   "source": [
    "#Loading things as usual\n",
    "#%matplotlib inline\n",
    "import sys\n",
    "sys.path.append('/apps')\n",
    "import django\n",
    "django.setup()\n",
    "from drivers.tree_builder import TreeNeo\n",
    "from drivers.graph_models import TreeNode, Order, Family, graph,Kingdom,Occurrence\n",
    "from drivers.graph_models import Cell,Mex4km, countObjectsOf\n",
    "from drivers.graph_models import pickNode\n",
    "import matplotlib.pyplot as plt\n",
    "import pandas as pd\n",
    "import itertools as it\n",
    "import numpy as np\n",
    "\n",
    "## Use the ggplot style\n",
    "plt.style.use('ggplot')"
   ]
  },
  {
   "cell_type": "markdown",
   "metadata": {},
   "source": [
    "# Ok, the approach will be this\n",
    "1. Let $p=(x,y)$ in Mexico\n",
    "2. Create a buffer size list (maybe exponential) not to big.\n",
    "4. Generate a list of polygons according to this list.\n",
    "5. Overlay with the mesh (lowest resolution)\n",
    "6. Extract cells, or cell ids.\n"
   ]
  },
  {
   "cell_type": "code",
   "execution_count": 2,
   "metadata": {},
   "outputs": [],
   "source": [
    "from django.contrib.gis.geos import Point, Polygon\n",
    "#coord = -99.76\n",
    "#coord = 17.55\n",
    "#xcoord = -98.219\n",
    "#ycoord = 19.05\n",
    "xcoord = -97.237\n",
    "ycoord = 19.482\n",
    "p = Point(xcoord,ycoord,srid=4326)\n",
    "radii = np.linspace(0.08,2,10)\n",
    "polys = map(lambda r : p.buffer(r),radii)\n"
   ]
  },
  {
   "cell_type": "code",
   "execution_count": 3,
   "metadata": {},
   "outputs": [],
   "source": [
    "## Intersect the polygons with the cells to obtain the targets"
   ]
  },
  {
   "cell_type": "code",
   "execution_count": 4,
   "metadata": {},
   "outputs": [],
   "source": [
    "from mesh.models import initMesh"
   ]
  },
  {
   "cell_type": "code",
   "execution_count": 5,
   "metadata": {},
   "outputs": [
    {
     "name": "stderr",
     "output_type": "stream",
     "text": [
      "DEBUG Changed MESH TABLE SPACE\n"
     ]
    }
   ],
   "source": [
    "mexmesh = initMesh(11)"
   ]
  },
  {
   "cell_type": "code",
   "execution_count": 6,
   "metadata": {},
   "outputs": [],
   "source": [
    "## restrict the polygons to the polygon n 3\n",
    "polys = [polys[9]]\n",
    "intersected_cells = map(lambda poly : mexmesh.objects.filter(cell__intersects=poly),polys)"
   ]
  },
  {
   "cell_type": "code",
   "execution_count": 7,
   "metadata": {},
   "outputs": [],
   "source": [
    "# Number of selected cells in each buffer\n",
    "values = map(lambda l : list(l.values_list('id',flat=True)),intersected_cells)"
   ]
  },
  {
   "cell_type": "code",
   "execution_count": 8,
   "metadata": {},
   "outputs": [
    {
     "name": "stderr",
     "output_type": "stream",
     "text": [
      "INFO Compiling Query and asking the Graph Database\n"
     ]
    }
   ],
   "source": [
    "## Change to network database\n",
    "from traversals.strategies import idsToCells\n",
    "cells = map(lambda level : list(idsToCells(level)),values)"
   ]
  },
  {
   "cell_type": "code",
   "execution_count": 9,
   "metadata": {},
   "outputs": [
    {
     "name": "stdout",
     "output_type": "stream",
     "text": [
      "CPU times: user 1h 38min 46s, sys: 3min 18s, total: 1h 42min 5s\n",
      "Wall time: 2h 35s\n"
     ]
    }
   ],
   "source": [
    "### Sumon the LToL\n",
    "# Following example from Data generator\n",
    "from drivers.tree_builder import buildTreeNeo\n",
    "trees = []\n",
    "for list_of_cells in cells:\n",
    "    %time trees.append(map(lambda c : buildTreeNeo(c),list_of_cells))\n"
   ]
  },
  {
   "cell_type": "code",
   "execution_count": 10,
   "metadata": {},
   "outputs": [],
   "source": [
    "## Pseudo Presence bursea \n",
    "from traversals import strategies as st\n",
    "## Get all models, environmental variables\n",
    "from raster_api.models import raster_models_dic"
   ]
  },
  {
   "cell_type": "code",
   "execution_count": 11,
   "metadata": {},
   "outputs": [],
   "source": [
    "rstmods = raster_models_dic.keys()"
   ]
  },
  {
   "cell_type": "code",
   "execution_count": 16,
   "metadata": {},
   "outputs": [
    {
     "name": "stdout",
     "output_type": "stream",
     "text": [
      "CPU times: user 1min 48s, sys: 2.55 s, total: 1min 51s\n",
      "Wall time: 29min 39s\n"
     ]
    }
   ],
   "source": [
    "%time data = map(lambda cell : st.getEnvironmentalCovariatesFromListOfCells(cell,vars=rstmods),cells)"
   ]
  },
  {
   "cell_type": "code",
   "execution_count": null,
   "metadata": {},
   "outputs": [],
   "source": [
    "## Insert cells ids\n",
    "## be carefull with the nested list given by the several polygons\n",
    "ids = pd.DataFrame(map(lambda cell : cell.id,cells[0]),columns=['cell_ids'])\n",
    "newdata = pd.concat([ids,data[0]],axis=1)"
   ]
  },
  {
   "cell_type": "code",
   "execution_count": null,
   "metadata": {},
   "outputs": [],
   "source": []
  },
  {
   "cell_type": "markdown",
   "metadata": {},
   "source": [
    "## Let's build the Pseudo presence absence\n",
    "First, Let be bursera the node we want to model"
   ]
  },
  {
   "cell_type": "code",
   "execution_count": null,
   "metadata": {},
   "outputs": [],
   "source": [
    "from drivers.graph_models import Phylum, Genus\n",
    "abies = pickNode(Genus,'Abies')"
   ]
  },
  {
   "cell_type": "code",
   "execution_count": null,
   "metadata": {},
   "outputs": [],
   "source": [
    "pinophyta = abies.getParent().getParent().getParent().getParent()\n",
    "plant = pinophyta.getParent()\n",
    "Luca = plant.getParent()\n"
   ]
  },
  {
   "cell_type": "code",
   "execution_count": null,
   "metadata": {},
   "outputs": [],
   "source": []
  },
  {
   "cell_type": "code",
   "execution_count": null,
   "metadata": {},
   "outputs": [],
   "source": []
  },
  {
   "cell_type": "code",
   "execution_count": null,
   "metadata": {},
   "outputs": [],
   "source": []
  },
  {
   "cell_type": "code",
   "execution_count": null,
   "metadata": {},
   "outputs": [],
   "source": [
    "pinos_l = []\n",
    "abies_l = []\n",
    "luca_l = []\n",
    "plants_l = []\n",
    "for ltree in trees:\n",
    "    %time pinos_l.append(st.getPresencesForNode(pinophyta,ltree))\n",
    "    %time abies_l.append(st.getPresencesForNode(abies,ltree))\n",
    "    %time luca_l.append(st.getPresencesForNode(Luca,ltree))\n",
    "    %time plants_l.append(st.getPresencesForNode(plant,ltree))"
   ]
  },
  {
   "cell_type": "code",
   "execution_count": null,
   "metadata": {},
   "outputs": [],
   "source": []
  },
  {
   "cell_type": "code",
   "execution_count": null,
   "metadata": {},
   "outputs": [],
   "source": [
    "from utilities import data_extraction as de\n",
    "centers_nested = map(lambda c : map(lambda p : p.centroid, c),cells)\n",
    "from ecoregions.models import TerrEcoregions,InegiIV"
   ]
  },
  {
   "cell_type": "code",
   "execution_count": null,
   "metadata": {},
   "outputs": [],
   "source": [
    "## Calculate tipo de vegetacion\n",
    "#vegie_types = map(lambda lp : extractVegetation(lp),centers_nested)\n",
    "from ecoregions.models import TerrEcoregions,InegiIV,LandUseConabio\n",
    "vectsel = [[TerrEcoregions,['wwf_mhtnum','wwf_mhtnam'],[np.nan,'NaN']],\n",
    "           [InegiIV,['covid','name'],[np.nan,'NaN']],\n",
    "           [LandUseConabio,['cov_id','tipos'],[np.nan,'NaN']]\n",
    "          ]\n",
    "vegie_types = map(lambda lp : de.extractSeveralVectorFeatures(lp,vectsel),centers_nested)"
   ]
  },
  {
   "cell_type": "code",
   "execution_count": null,
   "metadata": {},
   "outputs": [],
   "source": []
  },
  {
   "cell_type": "code",
   "execution_count": null,
   "metadata": {},
   "outputs": [],
   "source": [
    "datos = zip(luca_l,plants_l,pinos_l,abies_l,[newdata],vegie_types)"
   ]
  },
  {
   "cell_type": "code",
   "execution_count": null,
   "metadata": {},
   "outputs": [],
   "source": [
    "## Compile the dataframe and convert to geopandas\n",
    "dd = map(lambda (l,pl,pn,ab,dat,veg) : pd.concat([l,pl,pn,ab,dat,veg],axis=1),datos)\n",
    "dd = map(lambda d : st.toGeoDataFrame(d,xcoord_name='Longitude',ycoord_name='Latitude'),dd)"
   ]
  },
  {
   "cell_type": "code",
   "execution_count": null,
   "metadata": {},
   "outputs": [],
   "source": [
    "#for i,d in enumerate(dd):\n",
    "#    cad = '/outputs/presence_only_models/data/root_p3/%s.csv'%i\n",
    "#    print(cad)\n",
    "#    d.to_csv(cad,encoding='utf8')"
   ]
  },
  {
   "cell_type": "code",
   "execution_count": null,
   "metadata": {},
   "outputs": [],
   "source": [
    "d = dd[0]"
   ]
  },
  {
   "cell_type": "code",
   "execution_count": null,
   "metadata": {},
   "outputs": [],
   "source": [
    "plt.rcParams['figure.figsize'] = [10, 10]"
   ]
  },
  {
   "cell_type": "code",
   "execution_count": null,
   "metadata": {},
   "outputs": [],
   "source": [
    "d.plot(column='Dist.to.road_m',marker='s',cmap=plt.cm.afmhot)\n",
    "d.plot(column='LUCA',cmap=plt.cm.Greys,marker='s')\n",
    "d.plot(column='Plantae',cmap=plt.cm.Greys,marker='s')\n",
    "d.plot(column='Pinophyta',cmap=plt.cm.Greys,marker='s')\n",
    "d.plot(column='Abies',cmap=plt.cm.Greys,marker='s')\n"
   ]
  },
  {
   "cell_type": "markdown",
   "metadata": {},
   "source": [
    "## This is for getting  the neighbour structure"
   ]
  },
  {
   "cell_type": "code",
   "execution_count": 31,
   "metadata": {},
   "outputs": [],
   "source": [
    "G = st.LatticeToNetworkx(cells[0])"
   ]
  },
  {
   "cell_type": "code",
   "execution_count": 32,
   "metadata": {},
   "outputs": [],
   "source": [
    "lpositions = map(lambda n : (n.centroid.x, n.centroid.y), cells[0])\n",
    "cellsids = map(lambda c : c.id, cells[0])\n",
    "positions = dict(zip(cellsids,lpositions))\n"
   ]
  },
  {
   "cell_type": "code",
   "execution_count": 34,
   "metadata": {},
   "outputs": [
    {
     "name": "stderr",
     "output_type": "stream",
     "text": [
      "/opt/conda/envs/biospytial/lib/python2.7/site-packages/networkx/drawing/nx_pylab.py:126: MatplotlibDeprecationWarning: pyplot.hold is deprecated.\n",
      "    Future behavior will be consistent with the long-time default:\n",
      "    plot commands add elements without first clearing the\n",
      "    Axes and/or Figure.\n",
      "  b = plt.ishold()\n",
      "/opt/conda/envs/biospytial/lib/python2.7/site-packages/networkx/drawing/nx_pylab.py:522: MatplotlibDeprecationWarning: The is_string_like function was deprecated in version 2.1.\n",
      "  if not cb.is_string_like(edge_color) \\\n",
      "/opt/conda/envs/biospytial/lib/python2.7/site-packages/networkx/drawing/nx_pylab.py:543: MatplotlibDeprecationWarning: The is_string_like function was deprecated in version 2.1.\n",
      "  if cb.is_string_like(edge_color) or len(edge_color) == 1:\n",
      "/opt/conda/envs/biospytial/lib/python2.7/site-packages/networkx/drawing/nx_pylab.py:138: MatplotlibDeprecationWarning: pyplot.hold is deprecated.\n",
      "    Future behavior will be consistent with the long-time default:\n",
      "    plot commands add elements without first clearing the\n",
      "    Axes and/or Figure.\n",
      "  plt.hold(b)\n",
      "/opt/conda/envs/biospytial/lib/python2.7/site-packages/matplotlib/__init__.py:910: MatplotlibDeprecationWarning: axes.hold is deprecated. Please remove it from your matplotlibrc and/or style files.\n",
      "  mplDeprecation)\n",
      "/opt/conda/envs/biospytial/lib/python2.7/site-packages/matplotlib/rcsetup.py:156: MatplotlibDeprecationWarning: axes.hold is deprecated, will be removed in 3.0\n",
      "  mplDeprecation)\n"
     ]
    },
    {
     "data": {
      "image/png": "[encoded data removed]",
      "text/plain": [
       "<Figure size 720x720 with 1 Axes>"
      ]
     },
     "metadata": {},
     "output_type": "display_data"
    }
   ],
   "source": [
    "import networkx as nx\n",
    "## Plot it\n",
    "options = {\n",
    "'node_size': 10,\n",
    "'width': 3,}\n",
    "nx.draw(G,positions,**options)"
   ]
  },
  {
   "cell_type": "code",
   "execution_count": 35,
   "metadata": {},
   "outputs": [],
   "source": [
    "#Order the nodes according to their id value, just ot mke it expl\n",
    "ordered_nodes_list = G.nodes()\n",
    "#ordered_nodes_list.sort(key=lambda c : c.id)\n",
    "ordered_nodes_list.sort()\n",
    "M = nx.adjacency_matrix(G,nodelist=ordered_nodes_list)"
   ]
  },
  {
   "cell_type": "code",
   "execution_count": 36,
   "metadata": {},
   "outputs": [
    {
     "data": {
      "text/plain": [
       "<matplotlib.image.AxesImage at 0x7f367341f850>"
      ]
     },
     "execution_count": 36,
     "metadata": {},
     "output_type": "execute_result"
    },
    {
     "data": {
      "image/png": "[encoded data removed]",
      "text/plain": [
       "<Figure size 720x720 with 1 Axes>"
      ]
     },
     "metadata": {
      "needs_background": "light"
     },
     "output_type": "display_data"
    }
   ],
   "source": [
    "plt.imshow(M.toarray())"
   ]
  },
  {
   "cell_type": "markdown",
   "metadata": {},
   "source": [
    "## Save it to posterity"
   ]
  },
  {
   "cell_type": "code",
   "execution_count": 103,
   "metadata": {},
   "outputs": [],
   "source": [
    "## Let's save it in Redis\n",
    "import redis\n",
    "import pickle\n",
    "conn = redis.StrictRedis(host='redis',password='biospytial.')"
   ]
  },
  {
   "cell_type": "code",
   "execution_count": 104,
   "metadata": {},
   "outputs": [
    {
     "data": {
      "text/plain": [
       "True"
      ]
     },
     "execution_count": 104,
     "metadata": {},
     "output_type": "execute_result"
    }
   ],
   "source": [
    "#tag = 't-guerrero-p4'\n",
    "tag = 't-puebla-p9-abies-pinophyta'\n",
    "#tag = 't-puebla-p3-abies-pinophyta'\n",
    "#tag = 't-puebla-p4-abies-pinophyta'\n",
    "#tag = 't-puebla-p2-abies-pinophyta'\n",
    "conn.set(tag,pickle.dumps(d))"
   ]
  },
  {
   "cell_type": "code",
   "execution_count": 105,
   "metadata": {},
   "outputs": [],
   "source": [
    "#d.to_csv(\"/outputs/training_data_sample_puebla_p4_abies_pinophyta.csv\",encoding='utf8')\n",
    "d.to_csv(\"/outputs/training_data_sample_puebla_p9_abies_pinophyta.csv\",encoding='utf8')\n",
    "#d.to_csv(\"/outputs/training_data_sample_puebla_p3_abies_pinophyta.csv\",encoding='utf8')"
   ]
  },
  {
   "cell_type": "code",
   "execution_count": 106,
   "metadata": {},
   "outputs": [
    {
     "data": {
      "text/plain": [
       "(4061, 24)"
      ]
     },
     "execution_count": 106,
     "metadata": {},
     "output_type": "execute_result"
    }
   ],
   "source": [
    "d.shape"
   ]
  },
  {
   "cell_type": "markdown",
   "metadata": {},
   "source": [
    "### Save the Adjancency matrix, BE CAREFULL ORDER FIRST!!\n"
   ]
  },
  {
   "cell_type": "code",
   "execution_count": 41,
   "metadata": {},
   "outputs": [],
   "source": [
    "#mat_filename = \"/outputs/training_data_sample_puebla_p4_abies_pinophyta_adjmat.npy\"\n",
    "#mat_filename = \"/outputs/training_data_sample_puebla_p9_abies_pinophyta_adjmat.npy\"\n",
    "mat_filename = \"/outputs/training_data_sample_puebla_p3_abies_pinophyta_adjmat.npy\"\n",
    "np.save(mat_filename,M.toarray())"
   ]
  },
  {
   "cell_type": "code",
   "execution_count": 42,
   "metadata": {},
   "outputs": [
    {
     "data": {
      "text/plain": [
       "True"
      ]
     },
     "execution_count": 42,
     "metadata": {},
     "output_type": "execute_result"
    }
   ],
   "source": [
    "# Experimental, pickle network\n",
    "#tag = 't-puebla-p9-abies-pinophyta-graph'\n",
    "tag = 't-puebla-p3-abies-pinophyta-graph'\n",
    "conn.set(tag,pickle.dumps(G))"
   ]
  },
  {
   "cell_type": "code",
   "execution_count": null,
   "metadata": {},
   "outputs": [],
   "source": [
    "Load it R apply the CAR model."
   ]
  }
 ],
 "metadata": {
  "kernelspec": {
   "display_name": "Django Shell-Plus",
   "language": "python",
   "name": "django_extensions"
  },
  "language_info": {
   "codemirror_mode": {
    "name": "ipython",
    "version": 2
   },
   "file_extension": ".py",
   "mimetype": "text/x-python",
   "name": "python",
   "nbconvert_exporter": "python",
   "pygments_lexer": "ipython2",
   "version": "2.7.15"
  }
 },
 "nbformat": 4,
 "nbformat_minor": 2
}
