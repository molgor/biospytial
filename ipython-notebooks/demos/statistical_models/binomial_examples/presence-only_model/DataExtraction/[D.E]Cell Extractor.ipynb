{
 "cells": [
  {
   "cell_type": "markdown",
   "metadata": {},
   "source": [
    "# Full regional extraction\n",
    "Here we will extract cells from a variable size continuous polygon.\n",
    "This will be the first step in doing a full regionalising model.\n",
    "> For simplicity we restrict the list to only one polygon"
   ]
  },
  {
   "cell_type": "code",
   "execution_count": 49,
   "metadata": {},
   "outputs": [],
   "source": [
    "#Loading things as usual\n",
    "%matplotlib inline\n",
    "import sys\n",
    "sys.path.append('/apps')\n",
    "import django\n",
    "django.setup()\n",
    "from drivers.tree_builder import TreeNeo\n",
    "from drivers.graph_models import TreeNode, Order, Family, graph,Kingdom,Occurrence\n",
    "from drivers.graph_models import Cell,Mex4km, countObjectsOf\n",
    "from drivers.graph_models import pickNode\n",
    "import matplotlib.pyplot as plt\n",
    "import pandas as pd\n",
    "import itertools as it\n",
    "import numpy as np\n",
    "\n",
    "## Use the ggplot style\n",
    "plt.style.use('ggplot')"
   ]
  },
  {
   "cell_type": "markdown",
   "metadata": {},
   "source": [
    "# Ok, the approach will be this\n",
    "1. Let $p=(x,y)$ in Mexico\n",
    "2. Create a buffer size list (maybe exponential) not to big.\n",
    "4. Generate a list of polygons according to this list.\n",
    "5. Overlay with the mesh (lowest resolution)\n",
    "6. Extract cells, or cell ids.\n"
   ]
  },
  {
   "cell_type": "code",
   "execution_count": 50,
   "metadata": {},
   "outputs": [],
   "source": [
    "from django.contrib.gis.geos import Point, Polygon\n",
    "xcoord = -99.76\n",
    "ycoord = 17.55\n",
    "p = Point(xcoord,ycoord,srid=4326)\n",
    "radii = np.linspace(0.08,1, 10)\n",
    "polys = map(lambda r : p.buffer(r),radii)\n"
   ]
  },
  {
   "cell_type": "code",
   "execution_count": 51,
   "metadata": {},
   "outputs": [],
   "source": [
    "## Intersect the polygons with the cells to obtain the targets"
   ]
  },
  {
   "cell_type": "code",
   "execution_count": 52,
   "metadata": {},
   "outputs": [],
   "source": [
    "from mesh.models import initMesh"
   ]
  },
  {
   "cell_type": "code",
   "execution_count": 53,
   "metadata": {},
   "outputs": [
    {
     "name": "stderr",
     "output_type": "stream",
     "text": [
      "DEBUG Changed MESH TABLE SPACE\n"
     ]
    }
   ],
   "source": [
    "mexmesh = initMesh(11)"
   ]
  },
  {
   "cell_type": "code",
   "execution_count": 54,
   "metadata": {},
   "outputs": [],
   "source": [
    "## restrict the polygons to the polygon n 3\n",
    "polys = [polys[0]]\n",
    "intersected_cells = map(lambda poly : mexmesh.objects.filter(cell__intersects=poly),polys)"
   ]
  },
  {
   "cell_type": "code",
   "execution_count": 55,
   "metadata": {},
   "outputs": [],
   "source": [
    "# Number of selected cells in each buffer\n",
    "values = map(lambda l : list(l.values_list('id',flat=True)),intersected_cells)"
   ]
  },
  {
   "cell_type": "code",
   "execution_count": 56,
   "metadata": {},
   "outputs": [
    {
     "name": "stderr",
     "output_type": "stream",
     "text": [
      "INFO Compiling Query and asking the Graph Database\n"
     ]
    }
   ],
   "source": [
    "## Change to network database\n",
    "from traversals.strategies import idsToCells\n",
    "cells = map(lambda level : list(idsToCells(level)),values)"
   ]
  },
  {
   "cell_type": "code",
   "execution_count": 57,
   "metadata": {},
   "outputs": [
    {
     "name": "stdout",
     "output_type": "stream",
     "text": [
      "CPU times: user 1min 33s, sys: 2.75 s, total: 1min 36s\n",
      "Wall time: 1min 44s\n"
     ]
    }
   ],
   "source": [
    "### Sumon the LToL\n",
    "# Following example from Data generator\n",
    "from drivers.tree_builder import buildTreeNeo\n",
    "trees = []\n",
    "for list_of_cells in cells:\n",
    "    %time trees.append(map(lambda c : buildTreeNeo(c),list_of_cells))\n"
   ]
  },
  {
   "cell_type": "code",
   "execution_count": 58,
   "metadata": {},
   "outputs": [],
   "source": [
    "## Pseudo Presence bursea \n",
    "from traversals import strategies as st\n",
    "## Get all models, environmental variables\n",
    "from raster_api.models import raster_models_dic"
   ]
  },
  {
   "cell_type": "code",
   "execution_count": 59,
   "metadata": {},
   "outputs": [],
   "source": [
    "rstmods = raster_models_dic.keys()"
   ]
  },
  {
   "cell_type": "code",
   "execution_count": 60,
   "metadata": {},
   "outputs": [
    {
     "name": "stdout",
     "output_type": "stream",
     "text": [
      "CPU times: user 604 ms, sys: 28 ms, total: 632 ms\n",
      "Wall time: 8.83 s\n"
     ]
    }
   ],
   "source": [
    "%time data = map(lambda cell : st.getEnvironmentalCovariatesFromListOfCells(cell,vars=rstmods),cells)"
   ]
  },
  {
   "cell_type": "markdown",
   "metadata": {},
   "source": [
    "## Let's build the Pseudo presence absence\n",
    "First, Let be bursera the node we want to model"
   ]
  },
  {
   "cell_type": "code",
   "execution_count": 61,
   "metadata": {},
   "outputs": [],
   "source": [
    "bursera = pickNode(Family,'Burseracea')"
   ]
  },
  {
   "cell_type": "code",
   "execution_count": 62,
   "metadata": {},
   "outputs": [],
   "source": [
    "root_node = bursera.getParent().getParent().getParent().getParent().getParent()"
   ]
  },
  {
   "cell_type": "code",
   "execution_count": 63,
   "metadata": {},
   "outputs": [
    {
     "name": "stdout",
     "output_type": "stream",
     "text": [
      "CPU times: user 0 ns, sys: 0 ns, total: 0 ns\n",
      "Wall time: 1.36 ms\n"
     ]
    }
   ],
   "source": [
    "presences = []\n",
    "for ltree in trees:\n",
    "    %time presences.append(st.getPresencesForNode(root_node,ltree))\n",
    "    "
   ]
  },
  {
   "cell_type": "code",
   "execution_count": 64,
   "metadata": {},
   "outputs": [],
   "source": [
    "from utilities import data_extraction as de\n",
    "centers_nested = map(lambda c : map(lambda p : p.centroid, c),cells)\n",
    "from ecoregions.models import TerrEcoregions,InegiIV"
   ]
  },
  {
   "cell_type": "code",
   "execution_count": 65,
   "metadata": {},
   "outputs": [
    {
     "name": "stderr",
     "output_type": "stream",
     "text": [
      "INFO extracting info from: <class 'ecoregions.models.TerrEcoregions'> this can take some minutes\n",
      "INFO extracting info from: <class 'ecoregions.models.InegiIV'> this can take some minutes\n"
     ]
    }
   ],
   "source": [
    "## Calculate tipo de vegetacion\n",
    "#vegie_types = map(lambda lp : extractVegetation(lp),centers_nested)\n",
    "from ecoregions.models import TerrEcoregions,InegiIV\n",
    "vectsel = [[TerrEcoregions,['wwf_mhtnum','wwf_mhtnam'],[np.nan,'NaN']],[InegiIV,['covid','name'],[np.nan,'NaN']]]\n",
    "vegie_types = map(lambda lp : de.extractSeveralVectorFeatures(lp,vectsel),centers_nested)"
   ]
  },
  {
   "cell_type": "code",
   "execution_count": 66,
   "metadata": {},
   "outputs": [],
   "source": [
    "datos = zip(presences,data,vegie_types)"
   ]
  },
  {
   "cell_type": "code",
   "execution_count": 67,
   "metadata": {},
   "outputs": [],
   "source": [
    "## Compile the dataframe and convert to geopandas\n",
    "dd = map(lambda (p,d,v) : pd.concat([p,d,v],axis=1),datos)\n",
    "dd = map(lambda d : st.toGeoDataFrame(d,xcoord_name='Longitude',ycoord_name='Latitude'),dd)"
   ]
  },
  {
   "cell_type": "code",
   "execution_count": 68,
   "metadata": {},
   "outputs": [],
   "source": [
    "#for i,d in enumerate(dd):\n",
    "#    cad = '/outputs/presence_only_models/data/root_p3/%s.csv'%i\n",
    "#    print(cad)\n",
    "#    d.to_csv(cad,encoding='utf8')"
   ]
  },
  {
   "cell_type": "code",
   "execution_count": 69,
   "metadata": {},
   "outputs": [],
   "source": [
    "d = dd[0]"
   ]
  },
  {
   "cell_type": "code",
   "execution_count": 70,
   "metadata": {},
   "outputs": [
    {
     "data": {
      "text/plain": [
       "<matplotlib.axes._subplots.AxesSubplot at 0x7f36801e02d0>"
      ]
     },
     "execution_count": 70,
     "metadata": {},
     "output_type": "execute_result"
    },
    {
     "data": {
      "image/png": "[encoded data removed]",
      "text/plain": [
       "<matplotlib.figure.Figure at 0x7f36782a00d0>"
      ]
     },
     "metadata": {},
     "output_type": "display_data"
    },
    {
     "data": {
      "image/png": "[encoded data removed]",
      "text/plain": [
       "<matplotlib.figure.Figure at 0x7f36782a0e10>"
      ]
     },
     "metadata": {},
     "output_type": "display_data"
    }
   ],
   "source": [
    "d.plot(column='Dist.to.road_m')\n",
    "d.plot(column='LUCA',cmap=plt.cm.Greys)"
   ]
  },
  {
   "cell_type": "code",
   "execution_count": 71,
   "metadata": {},
   "outputs": [],
   "source": [
    "## Let's save it in Redis\n",
    "import redis\n",
    "import pickle\n",
    "conn = redis.StrictRedis(host='redis',password='biospytial.')"
   ]
  },
  {
   "cell_type": "code",
   "execution_count": 72,
   "metadata": {},
   "outputs": [
    {
     "data": {
      "text/plain": [
       "True"
      ]
     },
     "execution_count": 72,
     "metadata": {},
     "output_type": "execute_result"
    }
   ],
   "source": [
    "tag = 't-guerrero-p0'\n",
    "conn.set(tag,pickle.dumps(d))"
   ]
  },
  {
   "cell_type": "code",
   "execution_count": null,
   "metadata": {},
   "outputs": [],
   "source": []
  }
 ],
 "metadata": {
  "kernelspec": {
   "display_name": "Django Shell-Plus",
   "language": "python",
   "name": "django_extensions"
  },
  "language_info": {
   "codemirror_mode": {
    "name": "ipython",
    "version": 2
   },
   "file_extension": ".py",
   "mimetype": "text/x-python",
   "name": "python",
   "nbconvert_exporter": "python",
   "pygments_lexer": "ipython2",
   "version": "2.7.11"
  }
 },
 "nbformat": 4,
 "nbformat_minor": 2
}
