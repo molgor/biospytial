{
 "cells": [
  {
   "cell_type": "markdown",
   "metadata": {},
   "source": [
    "## Example for extracting datasets\n",
    ">(to be used as predictors in a statistical mode)\n",
    "\n",
    "This notebook exemplifies how to use automated functions to extract and store datasets given a polygon (or a set of polygons). The functions will extract all the datasets in the same dimension and geographical extent and parameters (i.e. all datapoints will have the same coordinates).\n",
    "\n",
    "At the end the datasets are saved into a folder ready to be used into a statistical model.\n"
   ]
  },
  {
   "cell_type": "code",
   "execution_count": 1,
   "metadata": {},
   "outputs": [],
   "source": [
    "%matplotlib inline\n",
    "import sys\n",
    "sys.path.append('/apps')\n",
    "import django\n",
    "django.setup()\n",
    "import matplotlib.pyplot as plt\n",
    "import pandas as pd\n",
    "import numpy as np\n",
    "## Use the ggplot style\n",
    "plt.style.use('ggplot')"
   ]
  },
  {
   "cell_type": "code",
   "execution_count": 2,
   "metadata": {},
   "outputs": [],
   "source": [
    "from raster_api.models import raster_models as models\n",
    "import utilities.data_extraction as de\n",
    "from datapipelines import paper2 as p2\n"
   ]
  },
  {
   "cell_type": "markdown",
   "metadata": {},
   "source": [
    "## Rebuilding polygons from obtained pseudio absences"
   ]
  },
  {
   "cell_type": "code",
   "execution_count": 3,
   "metadata": {},
   "outputs": [],
   "source": [
    "from django.contrib.gis.geos import Point, Polygon\n",
    "#coord = -99.76\n",
    "#coord = 17.55\n",
    "#xcoord = -98.219\n",
    "#ycoord = 19.05\n",
    "xcoord = -97.237\n",
    "ycoord = 19.482\n",
    "p = Point(xcoord,ycoord,srid=4326)\n",
    "radii = np.linspace(0.08,2,10)\n",
    "polys = map(lambda r : p.buffer(r),radii)\n"
   ]
  },
  {
   "cell_type": "code",
   "execution_count": 4,
   "metadata": {},
   "outputs": [],
   "source": [
    "## Run this if you only one to generate the predictor stack for a single polygon\n",
    "#tiki = de.compilePredictorRasterStack(polys[0],200,200,models,as_dataframe=False)"
   ]
  },
  {
   "cell_type": "code",
   "execution_count": 5,
   "metadata": {},
   "outputs": [],
   "source": [
    "from ecoregions.models import LandUseConabio"
   ]
  },
  {
   "cell_type": "code",
   "execution_count": 6,
   "metadata": {},
   "outputs": [],
   "source": [
    "## Prepare the structure to retrieve the interested fields from the vector data.\n",
    "# Please  include the NaNs definition.\n",
    "from ecoregions.models import TerrEcoregions,InegiIV,LandUseConabio\n",
    "vectsel = [[TerrEcoregions,['wwf_mhtnum','wwf_mhtnam'],[np.nan,'NaN']],\n",
    "           [InegiIV,['covid','name'],[np.nan,'NaN']],\n",
    "           [LandUseConabio,['cov_id','tipos'],[np.nan,'NaN']]\n",
    "          ]\n",
    "\n",
    "#vectsel = [[TerrEcoregions,['wwf_mhtnum','wwf_mhtnam'],[np.nan,'NaN']],[InegiIV,['covid','name'],[np.nan,'NaN']]]\n",
    "#vectsel = [[TerrEcoregions,['wwf_mhtnum'],[np.nan]],[InegiIV,['covid'],[np.nan]]]"
   ]
  },
  {
   "cell_type": "code",
   "execution_count": 7,
   "metadata": {},
   "outputs": [
    {
     "name": "stderr",
     "output_type": "stream",
     "text": [
      "INFO Alligning stacked raster data to common origin...\n",
      "INFO extracting info from: <class 'ecoregions.models.TerrEcoregions'> this can take some minutes\n",
      "INFO extracting info from: <class 'ecoregions.models.InegiIV'> this can take some minutes\n",
      "INFO extracting info from: <class 'ecoregions.models.LandUseConabio'> this can take some minutes\n"
     ]
    },
    {
     "name": "stdout",
     "output_type": "stream",
     "text": [
      "CPU times: user 33.8 s, sys: 2.12 s, total: 35.9 s\n",
      "Wall time: 2min 55s\n"
     ]
    }
   ],
   "source": [
    "polys = [polys[9]]\n",
    "%time datasets = map(lambda polygon : p2.compileRasterandVectorPredictors(polygon,100,100,models,vectsel),polys)"
   ]
  },
  {
   "cell_type": "code",
   "execution_count": 8,
   "metadata": {},
   "outputs": [
    {
     "data": {
      "image/png": "[encoded data removed]",
      "text/plain": [
       "<Figure size 432x288 with 2 Axes>"
      ]
     },
     "metadata": {
      "needs_background": "light"
     },
     "output_type": "display_data"
    },
    {
     "data": {
      "text/plain": [
       "[None]"
      ]
     },
     "execution_count": 8,
     "metadata": {},
     "output_type": "execute_result"
    }
   ],
   "source": [
    "map(lambda r : r['rasters'][9].display_field(),datasets)"
   ]
  },
  {
   "cell_type": "code",
   "execution_count": 9,
   "metadata": {},
   "outputs": [],
   "source": [
    "## Save it in Redis\n",
    "import redis\n",
    "import pickle\n",
    "conn = redis.StrictRedis(host='redis',password='biospytial.')"
   ]
  },
  {
   "cell_type": "code",
   "execution_count": 10,
   "metadata": {},
   "outputs": [],
   "source": [
    "tag = 'p-100x100-puebla-poly9'\n",
    "#tag = 'p-100x100-puebla-poly4'\n",
    "#tag = 'p-100x100-puebla-poly2'\n",
    "d = datasets[0]['df']"
   ]
  },
  {
   "cell_type": "code",
   "execution_count": 11,
   "metadata": {},
   "outputs": [
    {
     "data": {
      "text/plain": [
       "True"
      ]
     },
     "execution_count": 11,
     "metadata": {},
     "output_type": "execute_result"
    }
   ],
   "source": [
    "conn.set(tag,pickle.dumps(d))"
   ]
  },
  {
   "cell_type": "raw",
   "metadata": {},
   "source": [
    "## Put it in redis\n",
    "import redis\n",
    "import pickle\n",
    "conn = redis.StrictRedis(host='redis',password='biospytial.')\n",
    "dataframes = map(lambda d : d['df'],datasets)\n",
    "for i,d in enumerate(dataframes):\n",
    "    #cad = '/outputs/presence_only_models/predictors/dataset50x50/%s-pred.csv'%i\n",
    "    tag = 'p-100x100-guerrero-%s'    \n",
    "    print(tag)\n",
    "    conn.set(tag%i,pickle.dumps(d))\n",
    "    #    d.to_csv(cad,encoding='utf8')\n",
    "\n"
   ]
  },
  {
   "cell_type": "code",
   "execution_count": null,
   "metadata": {},
   "outputs": [],
   "source": [
    "Check the meantemp is fine"
   ]
  },
  {
   "cell_type": "markdown",
   "metadata": {},
   "source": [
    "## Let´s save it for the posterity\n",
    "We need to encode the name into utf8, because.... python 2 !! "
   ]
  },
  {
   "cell_type": "code",
   "execution_count": 14,
   "metadata": {},
   "outputs": [
    {
     "name": "stdout",
     "output_type": "stream",
     "text": [
      "/outputs/presence_only_models/predictors/dataset100x100-puebla-p2/0-pred.csv\n"
     ]
    }
   ],
   "source": [
    "dataframes = map(lambda d : d['df'],datasets)\n",
    "for i,d in enumerate(dataframes):\n",
    "    cad = '/outputs/presence_only_models/predictors/dataset100x100-puebla-p2/%s-pred.csv'%i\n",
    "    print(cad)\n",
    "    d.to_csv(cad,encoding='utf8')"
   ]
  },
  {
   "cell_type": "code",
   "execution_count": null,
   "metadata": {},
   "outputs": [],
   "source": []
  }
 ],
 "metadata": {
  "kernelspec": {
   "display_name": "Django Shell-Plus",
   "language": "python",
   "name": "django_extensions"
  },
  "language_info": {
   "codemirror_mode": {
    "name": "ipython",
    "version": 2
   },
   "file_extension": ".py",
   "mimetype": "text/x-python",
   "name": "python",
   "nbconvert_exporter": "python",
   "pygments_lexer": "ipython2",
   "version": "2.7.15"
  }
 },
 "nbformat": 4,
 "nbformat_minor": 2
}
