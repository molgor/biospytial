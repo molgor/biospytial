{
 "cells": [
  {
   "cell_type": "code",
   "execution_count": 37,
   "metadata": {
    "collapsed": true
   },
   "outputs": [],
   "source": [
    "%matplotlib inline"
   ]
  },
  {
   "cell_type": "markdown",
   "metadata": {},
   "source": [
    "Import Graph models library"
   ]
  },
  {
   "cell_type": "code",
   "execution_count": 38,
   "metadata": {
    "collapsed": true
   },
   "outputs": [],
   "source": [
    "import sys\n"
   ]
  },
  {
   "cell_type": "code",
   "execution_count": 39,
   "metadata": {
    "collapsed": true
   },
   "outputs": [],
   "source": [
    "sys.path.append('/apps')"
   ]
  },
  {
   "cell_type": "code",
   "execution_count": 40,
   "metadata": {
    "collapsed": true
   },
   "outputs": [],
   "source": [
    "import django\n",
    "django.setup()"
   ]
  },
  {
   "cell_type": "code",
   "execution_count": 41,
   "metadata": {
    "collapsed": false
   },
   "outputs": [],
   "source": [
    "from drivers.graph_models import graph,Mex4km_"
   ]
  },
  {
   "cell_type": "markdown",
   "metadata": {
    "collapsed": true
   },
   "source": [
    "## Let's check some cells"
   ]
  },
  {
   "cell_type": "code",
   "execution_count": 42,
   "metadata": {
    "collapsed": true
   },
   "outputs": [],
   "source": [
    "mesh = Mex4km_()"
   ]
  },
  {
   "cell_type": "code",
   "execution_count": 43,
   "metadata": {
    "collapsed": false
   },
   "outputs": [],
   "source": [
    "cells = mesh.select(graph).limit(10)"
   ]
  },
  {
   "cell_type": "code",
   "execution_count": 44,
   "metadata": {
    "collapsed": false
   },
   "outputs": [
    {
     "data": {
      "text/plain": [
       "[<Mex4km_ id=125381>,\n",
       " <Mex4km_ id=125382>,\n",
       " <Mex4km_ id=125383>,\n",
       " <Mex4km_ id=124575>,\n",
       " <Mex4km_ id=125384>,\n",
       " <Mex4km_ id=124576>,\n",
       " <Mex4km_ id=125385>,\n",
       " <Mex4km_ id=124577>,\n",
       " <Mex4km_ id=125386>,\n",
       " <Mex4km_ id=124578>]"
      ]
     },
     "execution_count": 44,
     "metadata": {},
     "output_type": "execute_result"
    }
   ],
   "source": [
    "list(cells)"
   ]
  },
  {
   "cell_type": "code",
   "execution_count": 45,
   "metadata": {
    "collapsed": false
   },
   "outputs": [],
   "source": [
    "c = list(cells)[0]"
   ]
  },
  {
   "cell_type": "markdown",
   "metadata": {},
   "source": [
    "## Access polygon attribute"
   ]
  },
  {
   "cell_type": "code",
   "execution_count": 46,
   "metadata": {
    "collapsed": false
   },
   "outputs": [
    {
     "data": {
      "text/plain": [
       "u'MULTIPOLYGON (((-84.78906341599532 33.79088980100011, -84.74006341599531 33.79088980100011, -84.74006341599531 33.74188980100011, -84.78906341599532 33.74188980100011, -84.78906341599532 33.79088980100011)))'"
      ]
     },
     "execution_count": 46,
     "metadata": {},
     "output_type": "execute_result"
    }
   ],
   "source": [
    "c.cell"
   ]
  },
  {
   "cell_type": "markdown",
   "metadata": {},
   "source": [
    "### Access id attribute"
   ]
  },
  {
   "cell_type": "code",
   "execution_count": 47,
   "metadata": {
    "collapsed": false
   },
   "outputs": [
    {
     "data": {
      "text/plain": [
       "125381"
      ]
     },
     "execution_count": 47,
     "metadata": {},
     "output_type": "execute_result"
    }
   ],
   "source": [
    "c.id"
   ]
  },
  {
   "cell_type": "markdown",
   "metadata": {},
   "source": [
    "### Neighbours lookup ?"
   ]
  },
  {
   "cell_type": "code",
   "execution_count": 48,
   "metadata": {
    "collapsed": false
   },
   "outputs": [
    {
     "data": {
      "text/plain": [
       "[<Cell id=126191>,\n",
       " <Cell id=125380>,\n",
       " <Cell id=124571>,\n",
       " <Cell id=125382>,\n",
       " <Mex4km_ id=125381>]"
      ]
     },
     "execution_count": 48,
     "metadata": {},
     "output_type": "execute_result"
    }
   ],
   "source": [
    "c.getNeighbours()"
   ]
  },
  {
   "cell_type": "markdown",
   "metadata": {},
   "source": [
    "### Extract Occurrences"
   ]
  },
  {
   "cell_type": "code",
   "execution_count": 49,
   "metadata": {
    "collapsed": false
   },
   "outputs": [
    {
     "data": {
      "text/plain": [
       "[]"
      ]
     },
     "execution_count": 49,
     "metadata": {},
     "output_type": "execute_result"
    }
   ],
   "source": [
    "c.occurrencesHere()"
   ]
  },
  {
   "cell_type": "markdown",
   "metadata": {},
   "source": [
    "![cell](cell.png)"
   ]
  },
  {
   "cell_type": "markdown",
   "metadata": {},
   "source": [
    "Selected gid = 198766"
   ]
  },
  {
   "cell_type": "code",
   "execution_count": 50,
   "metadata": {
    "collapsed": false
   },
   "outputs": [],
   "source": [
    "cell = mesh.select(graph,198766)"
   ]
  },
  {
   "cell_type": "code",
   "execution_count": 51,
   "metadata": {
    "collapsed": false
   },
   "outputs": [],
   "source": [
    "c = list(cell).pop()"
   ]
  },
  {
   "cell_type": "code",
   "execution_count": 52,
   "metadata": {
    "collapsed": true
   },
   "outputs": [],
   "source": [
    "### Inspect Occurrences inside"
   ]
  },
  {
   "cell_type": "code",
   "execution_count": 53,
   "metadata": {
    "collapsed": false
   },
   "outputs": [],
   "source": [
    "occurrences_here = c.occurrencesHere()"
   ]
  },
  {
   "cell_type": "code",
   "execution_count": 54,
   "metadata": {
    "collapsed": false,
    "scrolled": true
   },
   "outputs": [],
   "source": [
    "from drivers.tree_builder import TreeNeo"
   ]
  },
  {
   "cell_type": "code",
   "execution_count": 55,
   "metadata": {
    "collapsed": false
   },
   "outputs": [],
   "source": [
    "tree = TreeNeo?"
   ]
  },
  {
   "cell_type": "code",
   "execution_count": null,
   "metadata": {
    "collapsed": true
   },
   "outputs": [],
   "source": [
    "tree = TreeNeo"
   ]
  },
  {
   "cell_type": "code",
   "execution_count": 56,
   "metadata": {
    "collapsed": true
   },
   "outputs": [],
   "source": [
    "tree = TreeNeo"
   ]
  },
  {
   "cell_type": "code",
   "execution_count": 57,
   "metadata": {
    "collapsed": true
   },
   "outputs": [],
   "source": [
    "tree = TreeNeo"
   ]
  },
  {
   "cell_type": "code",
   "execution_count": 72,
   "metadata": {
    "collapsed": false
   },
   "outputs": [
    {
     "name": "stderr",
     "output_type": "stream",
     "text": [
      "INFO Children are not type occurrence\n",
      "INFO Children are not type occurrence\n",
      "INFO Children are not type occurrence\n",
      "INFO Children are not type occurrence\n",
      "INFO Children are not type occurrence\n",
      "INFO Children are not type occurrence\n",
      "INFO Children are not type occurrence\n",
      "INFO Children are not type occurrence\n",
      "INFO Children are not type occurrence\n",
      "INFO Children are not type occurrence\n",
      "INFO Children are not type occurrence\n",
      "INFO Children are not type occurrence\n",
      "INFO Children are not type occurrence\n",
      "INFO Children are not type occurrence\n",
      "INFO Children are not type occurrence\n",
      "INFO Children are not type occurrence\n",
      "INFO Children are not type occurrence\n",
      "INFO Children are not type occurrence\n",
      "INFO Children are not type occurrence\n",
      "INFO Children are not type occurrence\n",
      "INFO Children are not type occurrence\n",
      "INFO Children are not type occurrence\n",
      "INFO Children are not type occurrence\n",
      "INFO Children are not type occurrence\n",
      "INFO Children are not type occurrence\n",
      "INFO Children are not type occurrence\n",
      "INFO Children are not type occurrence\n",
      "INFO Children are not type occurrence\n",
      "INFO Children are not type occurrence\n",
      "INFO Children are not type occurrence\n",
      "INFO Children are not type occurrence\n",
      "INFO Children are not type occurrence\n",
      "INFO Children are not type occurrence\n",
      "INFO Children are not type occurrence\n",
      "INFO Children are not type occurrence\n",
      "INFO Children are not type occurrence\n",
      "INFO Children are not type occurrence\n",
      "INFO Children are not type occurrence\n",
      "INFO Children are not type occurrence\n",
      "INFO Children are not type occurrence\n",
      "INFO Children are not type occurrence\n",
      "INFO Children are not type occurrence\n",
      "INFO Children are not type occurrence\n",
      "INFO Children are not type occurrence\n",
      "INFO Children are not type occurrence\n",
      "INFO Children are not type occurrence\n",
      "INFO Children are not type occurrence\n",
      "INFO Children are not type occurrence\n",
      "INFO Children are not type occurrence\n",
      "INFO Children are not type occurrence\n",
      "INFO Children are not type occurrence\n",
      "INFO Children are not type occurrence\n",
      "INFO Children are not type occurrence\n",
      "INFO Children are not type occurrence\n",
      "INFO Children are not type occurrence\n",
      "INFO Children are not type occurrence\n",
      "INFO Children are not type occurrence\n",
      "INFO Children are not type occurrence\n",
      "INFO Children are not type occurrence\n",
      "INFO Children are not type occurrence\n",
      "INFO Children are not type occurrence\n",
      "INFO Children are not type occurrence\n",
      "INFO Children are not type occurrence\n",
      "INFO Children are not type occurrence\n",
      "INFO Children are not type occurrence\n",
      "INFO Children are not type occurrence\n",
      "INFO Children are not type occurrence\n",
      "INFO Children are not type occurrence\n",
      "INFO Children are not type occurrence\n",
      "INFO Children are not type occurrence\n",
      "INFO Children are not type occurrence\n",
      "INFO Children are not type occurrence\n",
      "INFO Children are not type occurrence\n",
      "INFO Children are not type occurrence\n",
      "INFO Children are not type occurrence\n",
      "INFO Children are not type occurrence\n",
      "INFO Children are not type occurrence\n",
      "INFO Children are not type occurrence\n",
      "INFO Children are not type occurrence\n",
      "INFO Children are not type occurrence\n",
      "INFO Children are not type occurrence\n",
      "INFO Children are not type occurrence\n",
      "INFO Children are not type occurrence\n",
      "INFO Children are not type occurrence\n",
      "INFO Children are not type occurrence\n",
      "INFO Children are not type occurrence\n",
      "INFO Children are not type occurrence\n",
      "INFO Children are not type occurrence\n",
      "INFO Children are not type occurrence\n",
      "INFO Children are not type occurrence\n",
      "INFO Children are not type occurrence\n",
      "INFO Children are not type occurrence\n",
      "INFO Children are not type occurrence\n",
      "INFO Children are not type occurrence\n",
      "INFO Children are not type occurrence\n",
      "INFO Children are not type occurrence\n",
      "INFO Children are not type occurrence\n",
      "INFO Children are not type occurrence\n",
      "INFO Children are not type occurrence\n",
      "INFO Children are not type occurrence\n",
      "INFO Children are not type occurrence\n",
      "INFO Children are not type occurrence\n",
      "INFO Children are not type occurrence\n",
      "INFO Children are not type occurrence\n",
      "INFO Children are not type occurrence\n",
      "INFO Children are not type occurrence\n",
      "INFO Children are not type occurrence\n",
      "INFO Children are not type occurrence\n",
      "INFO Children are not type occurrence\n",
      "INFO Children are not type occurrence\n",
      "INFO Children are not type occurrence\n",
      "INFO Children are not type occurrence\n",
      "INFO Children are not type occurrence\n",
      "INFO Children are not type occurrence\n",
      "INFO Children are not type occurrence\n",
      "INFO Children are not type occurrence\n",
      "INFO Children are not type occurrence\n",
      "INFO Children are not type occurrence\n",
      "INFO Children are not type occurrence\n",
      "INFO Children are not type occurrence\n",
      "INFO Children are not type occurrence\n",
      "INFO Children are not type occurrence\n",
      "INFO Children are not type occurrence\n",
      "INFO Children are not type occurrence\n",
      "INFO Children are not type occurrence\n",
      "INFO Children are not type occurrence\n",
      "INFO Children are not type occurrence\n",
      "INFO Children are not type occurrence\n",
      "INFO Children are not type occurrence\n",
      "INFO Children are not type occurrence\n",
      "INFO Children are not type occurrence\n",
      "INFO Children are not type occurrence\n",
      "INFO Children are not type occurrence\n",
      "INFO Children are not type occurrence\n",
      "INFO Children are not type occurrence\n",
      "INFO Children are not type occurrence\n",
      "INFO Children are not type occurrence\n",
      "INFO Children are not type occurrence\n",
      "INFO Children are not type occurrence\n",
      "INFO Children are not type occurrence\n",
      "INFO Children are not type occurrence\n",
      "INFO Children are not type occurrence\n",
      "INFO Children are not type occurrence\n",
      "INFO Children are not type occurrence\n",
      "INFO Children are not type occurrence\n",
      "INFO Children are not type occurrence\n",
      "INFO Children are not type occurrence\n",
      "INFO Children are not type occurrence\n",
      "INFO Children are not type occurrence\n",
      "INFO Children are not type occurrence\n",
      "INFO Children are not type occurrence\n",
      "INFO Children are not type occurrence\n",
      "INFO Children are not type occurrence\n",
      "INFO Children are not type occurrence\n",
      "INFO Children are not type occurrence\n",
      "INFO Children are not type occurrence\n",
      "INFO Children are not type occurrence\n",
      "INFO Children are not type occurrence\n",
      "INFO Children are not type occurrence\n",
      "INFO Children are not type occurrence\n",
      "INFO Children are not type occurrence\n",
      "INFO Children are not type occurrence\n",
      "INFO Children are not type occurrence\n",
      "INFO Children are not type occurrence\n",
      "INFO Children are not type occurrence\n",
      "INFO Children are not type occurrence\n",
      "INFO Children are not type occurrence\n",
      "INFO Children are not type occurrence\n",
      "INFO Children are not type occurrence\n",
      "INFO Children are not type occurrence\n",
      "INFO Children are not type occurrence\n",
      "INFO Children are not type occurrence\n",
      "INFO Children are not type occurrence\n",
      "INFO Children are not type occurrence\n",
      "INFO Children are not type occurrence\n",
      "INFO Children are not type occurrence\n",
      "INFO Children are not type occurrence\n",
      "INFO Children are not type occurrence\n",
      "INFO Children are not type occurrence\n",
      "INFO Children are not type occurrence\n",
      "INFO Children are not type occurrence\n",
      "INFO Children are not type occurrence\n",
      "INFO Children are not type occurrence\n",
      "INFO Children are not type occurrence\n",
      "INFO Children are not type occurrence\n",
      "INFO Children are not type occurrence\n",
      "INFO Children are not type occurrence\n",
      "INFO Children are not type occurrence\n",
      "INFO Children are not type occurrence\n",
      "INFO Children are not type occurrence\n",
      "INFO Children are not type occurrence\n",
      "INFO Children are not type occurrence\n",
      "INFO Children are not type occurrence\n",
      "INFO Children are not type occurrence\n",
      "INFO Children are not type occurrence\n",
      "INFO Children are not type occurrence\n",
      "INFO Children are not type occurrence\n",
      "INFO Children are not type occurrence\n",
      "INFO Children are not type occurrence\n",
      "INFO Children are not type occurrence\n",
      "INFO Children are not type occurrence\n",
      "INFO Children are not type occurrence\n",
      "INFO Children are not type occurrence\n",
      "INFO Children are not type occurrence\n",
      "INFO Children are not type occurrence\n",
      "INFO Children are not type occurrence\n",
      "INFO Children are not type occurrence\n",
      "INFO Children are not type occurrence\n",
      "INFO Children are not type occurrence\n",
      "INFO Children are not type occurrence\n",
      "INFO Children are not type occurrence\n",
      "INFO Children are not type occurrence\n",
      "INFO Children are not type occurrence\n",
      "INFO Children are not type occurrence\n",
      "INFO Children are not type occurrence\n",
      "INFO Children are not type occurrence\n",
      "INFO Children are not type occurrence\n",
      "INFO Children are not type occurrence\n",
      "INFO Children are not type occurrence\n"
     ]
    }
   ],
   "source": [
    "tree = TreeNeo(occurrences_here,cell_object=cell)"
   ]
  },
  {
   "cell_type": "code",
   "execution_count": 73,
   "metadata": {
    "collapsed": false
   },
   "outputs": [
    {
     "data": {
      "text/plain": [
       "<TreeNode | Kingdom: Plantae - n.count : 228- >"
      ]
     },
     "execution_count": 73,
     "metadata": {},
     "output_type": "execute_result"
    }
   ],
   "source": [
    "tree.to_Plantae"
   ]
  },
  {
   "cell_type": "code",
   "execution_count": 74,
   "metadata": {
    "collapsed": true
   },
   "outputs": [],
   "source": [
    "grasses = tree.to_Plantae.to_Magnoliophyta.to_Liliopsida.to_Poales"
   ]
  },
  {
   "cell_type": "code",
   "execution_count": 75,
   "metadata": {
    "collapsed": false
   },
   "outputs": [
    {
     "data": {
      "text/plain": [
       "<TreeNode | Order: Poales - n.count : 31- >"
      ]
     },
     "execution_count": 75,
     "metadata": {},
     "output_type": "execute_result"
    }
   ],
   "source": [
    "grasses"
   ]
  },
  {
   "cell_type": "code",
   "execution_count": 76,
   "metadata": {
    "collapsed": false
   },
   "outputs": [
    {
     "data": {
      "text/plain": [
       "u'Order'"
      ]
     },
     "execution_count": 76,
     "metadata": {},
     "output_type": "execute_result"
    }
   ],
   "source": [
    "grasses.levelname"
   ]
  },
  {
   "cell_type": "code",
   "execution_count": 77,
   "metadata": {
    "collapsed": false
   },
   "outputs": [
    {
     "data": {
      "text/plain": [
       "31"
      ]
     },
     "execution_count": 77,
     "metadata": {},
     "output_type": "execute_result"
    }
   ],
   "source": [
    "grasses.richness"
   ]
  },
  {
   "cell_type": "code",
   "execution_count": 78,
   "metadata": {
    "collapsed": false
   },
   "outputs": [],
   "source": [
    "raster = grasses.associatedData.getAssociatedRasterAreaData('Precipitation')"
   ]
  },
  {
   "cell_type": "code",
   "execution_count": 79,
   "metadata": {
    "collapsed": false
   },
   "outputs": [
    {
     "data": {
      "image/png": "[encoded data removed]",
      "text/plain": [
       "<matplotlib.figure.Figure at 0x7ff8655fd690>"
      ]
     },
     "metadata": {},
     "output_type": "display_data"
    }
   ],
   "source": [
    "grasses.associatedData.raster_Precipitation.display_field()"
   ]
  },
  {
   "cell_type": "code",
   "execution_count": 81,
   "metadata": {
    "collapsed": true
   },
   "outputs": [],
   "source": [
    "datatable = grasses.associatedData.getEnvironmentalVariablesPoints()"
   ]
  },
  {
   "cell_type": "code",
   "execution_count": 82,
   "metadata": {
    "collapsed": false
   },
   "outputs": [
    {
     "data": {
      "text/html": [
       "<div>\n",
       "<table border=\"1\" class=\"dataframe\">\n",
       "  <thead>\n",
       "    <tr style=\"text-align: right;\">\n",
       "      <th></th>\n",
       "      <th>MaxTemperature_mean</th>\n",
       "      <th>MaxTemperature_std</th>\n",
       "      <th>MeanTemperature_mean</th>\n",
       "      <th>MeanTemperature_std</th>\n",
       "      <th>MinTemperature_mean</th>\n",
       "      <th>MinTemperature_std</th>\n",
       "      <th>Precipitation_mean</th>\n",
       "      <th>Precipitation_std</th>\n",
       "      <th>Vapor_mean</th>\n",
       "      <th>Vapor_std</th>\n",
       "      <th>SolarRadiation_mean</th>\n",
       "      <th>SolarRadiation_std</th>\n",
       "      <th>WindSpeed_mean</th>\n",
       "      <th>WindSpeed_std</th>\n",
       "    </tr>\n",
       "  </thead>\n",
       "  <tbody>\n",
       "    <tr>\n",
       "      <th>0</th>\n",
       "      <td>3.583333</td>\n",
       "      <td>4.662945</td>\n",
       "      <td>12.833333</td>\n",
       "      <td>4.792935</td>\n",
       "      <td>21.916667</td>\n",
       "      <td>4.838359</td>\n",
       "      <td>85.083333</td>\n",
       "      <td>75.299910</td>\n",
       "      <td>0.583333</td>\n",
       "      <td>0.493007</td>\n",
       "      <td>18397.250000</td>\n",
       "      <td>4107.912246</td>\n",
       "      <td>3.083333</td>\n",
       "      <td>0.640095</td>\n",
       "    </tr>\n",
       "    <tr>\n",
       "      <th>1</th>\n",
       "      <td>2.833333</td>\n",
       "      <td>4.792935</td>\n",
       "      <td>12.000000</td>\n",
       "      <td>4.778424</td>\n",
       "      <td>21.250000</td>\n",
       "      <td>4.602988</td>\n",
       "      <td>83.416667</td>\n",
       "      <td>73.155609</td>\n",
       "      <td>0.583333</td>\n",
       "      <td>0.493007</td>\n",
       "      <td>18395.916667</td>\n",
       "      <td>4084.090177</td>\n",
       "      <td>3.333333</td>\n",
       "      <td>0.623610</td>\n",
       "    </tr>\n",
       "    <tr>\n",
       "      <th>2</th>\n",
       "      <td>3.583333</td>\n",
       "      <td>4.662945</td>\n",
       "      <td>12.833333</td>\n",
       "      <td>4.792935</td>\n",
       "      <td>21.916667</td>\n",
       "      <td>4.838359</td>\n",
       "      <td>85.083333</td>\n",
       "      <td>75.299910</td>\n",
       "      <td>0.583333</td>\n",
       "      <td>0.493007</td>\n",
       "      <td>18397.250000</td>\n",
       "      <td>4107.912246</td>\n",
       "      <td>3.083333</td>\n",
       "      <td>0.640095</td>\n",
       "    </tr>\n",
       "    <tr>\n",
       "      <th>3</th>\n",
       "      <td>2.833333</td>\n",
       "      <td>4.792935</td>\n",
       "      <td>12.000000</td>\n",
       "      <td>4.778424</td>\n",
       "      <td>21.250000</td>\n",
       "      <td>4.602988</td>\n",
       "      <td>83.416667</td>\n",
       "      <td>73.155609</td>\n",
       "      <td>0.583333</td>\n",
       "      <td>0.493007</td>\n",
       "      <td>18395.916667</td>\n",
       "      <td>4084.090177</td>\n",
       "      <td>3.333333</td>\n",
       "      <td>0.623610</td>\n",
       "    </tr>\n",
       "    <tr>\n",
       "      <th>4</th>\n",
       "      <td>2.916667</td>\n",
       "      <td>4.872685</td>\n",
       "      <td>12.416667</td>\n",
       "      <td>4.698552</td>\n",
       "      <td>21.833333</td>\n",
       "      <td>4.792935</td>\n",
       "      <td>83.666667</td>\n",
       "      <td>73.660633</td>\n",
       "      <td>0.583333</td>\n",
       "      <td>0.493007</td>\n",
       "      <td>18378.416667</td>\n",
       "      <td>4078.144175</td>\n",
       "      <td>3.166667</td>\n",
       "      <td>0.552771</td>\n",
       "    </tr>\n",
       "    <tr>\n",
       "      <th>5</th>\n",
       "      <td>3.000000</td>\n",
       "      <td>4.915960</td>\n",
       "      <td>12.583333</td>\n",
       "      <td>4.733891</td>\n",
       "      <td>21.916667</td>\n",
       "      <td>4.838359</td>\n",
       "      <td>84.250000</td>\n",
       "      <td>74.370833</td>\n",
       "      <td>0.583333</td>\n",
       "      <td>0.493007</td>\n",
       "      <td>18383.083333</td>\n",
       "      <td>4083.775734</td>\n",
       "      <td>3.083333</td>\n",
       "      <td>0.640095</td>\n",
       "    </tr>\n",
       "    <tr>\n",
       "      <th>6</th>\n",
       "      <td>2.916667</td>\n",
       "      <td>4.872685</td>\n",
       "      <td>12.416667</td>\n",
       "      <td>4.698552</td>\n",
       "      <td>21.833333</td>\n",
       "      <td>4.792935</td>\n",
       "      <td>83.666667</td>\n",
       "      <td>73.660633</td>\n",
       "      <td>0.583333</td>\n",
       "      <td>0.493007</td>\n",
       "      <td>18378.416667</td>\n",
       "      <td>4078.144175</td>\n",
       "      <td>3.166667</td>\n",
       "      <td>0.552771</td>\n",
       "    </tr>\n",
       "    <tr>\n",
       "      <th>7</th>\n",
       "      <td>2.500000</td>\n",
       "      <td>4.645787</td>\n",
       "      <td>11.750000</td>\n",
       "      <td>4.692636</td>\n",
       "      <td>20.833333</td>\n",
       "      <td>4.792935</td>\n",
       "      <td>82.250000</td>\n",
       "      <td>71.747387</td>\n",
       "      <td>0.500000</td>\n",
       "      <td>0.500000</td>\n",
       "      <td>18371.000000</td>\n",
       "      <td>4069.509737</td>\n",
       "      <td>3.333333</td>\n",
       "      <td>0.623610</td>\n",
       "    </tr>\n",
       "    <tr>\n",
       "      <th>8</th>\n",
       "      <td>2.500000</td>\n",
       "      <td>4.645787</td>\n",
       "      <td>11.750000</td>\n",
       "      <td>4.692636</td>\n",
       "      <td>20.833333</td>\n",
       "      <td>4.792935</td>\n",
       "      <td>82.250000</td>\n",
       "      <td>71.747387</td>\n",
       "      <td>0.500000</td>\n",
       "      <td>0.500000</td>\n",
       "      <td>18371.000000</td>\n",
       "      <td>4069.509737</td>\n",
       "      <td>3.333333</td>\n",
       "      <td>0.623610</td>\n",
       "    </tr>\n",
       "    <tr>\n",
       "      <th>9</th>\n",
       "      <td>3.000000</td>\n",
       "      <td>4.915960</td>\n",
       "      <td>12.583333</td>\n",
       "      <td>4.733891</td>\n",
       "      <td>21.916667</td>\n",
       "      <td>4.838359</td>\n",
       "      <td>84.250000</td>\n",
       "      <td>74.370833</td>\n",
       "      <td>0.583333</td>\n",
       "      <td>0.493007</td>\n",
       "      <td>18383.083333</td>\n",
       "      <td>4083.775734</td>\n",
       "      <td>3.083333</td>\n",
       "      <td>0.640095</td>\n",
       "    </tr>\n",
       "    <tr>\n",
       "      <th>10</th>\n",
       "      <td>2.833333</td>\n",
       "      <td>4.792935</td>\n",
       "      <td>12.000000</td>\n",
       "      <td>4.778424</td>\n",
       "      <td>21.250000</td>\n",
       "      <td>4.602988</td>\n",
       "      <td>83.416667</td>\n",
       "      <td>73.155609</td>\n",
       "      <td>0.583333</td>\n",
       "      <td>0.493007</td>\n",
       "      <td>18395.916667</td>\n",
       "      <td>4084.090177</td>\n",
       "      <td>3.333333</td>\n",
       "      <td>0.623610</td>\n",
       "    </tr>\n",
       "    <tr>\n",
       "      <th>11</th>\n",
       "      <td>3.583333</td>\n",
       "      <td>4.662945</td>\n",
       "      <td>12.833333</td>\n",
       "      <td>4.792935</td>\n",
       "      <td>21.916667</td>\n",
       "      <td>4.838359</td>\n",
       "      <td>85.083333</td>\n",
       "      <td>75.299910</td>\n",
       "      <td>0.583333</td>\n",
       "      <td>0.493007</td>\n",
       "      <td>18397.250000</td>\n",
       "      <td>4107.912246</td>\n",
       "      <td>3.083333</td>\n",
       "      <td>0.640095</td>\n",
       "    </tr>\n",
       "    <tr>\n",
       "      <th>12</th>\n",
       "      <td>2.833333</td>\n",
       "      <td>4.792935</td>\n",
       "      <td>12.000000</td>\n",
       "      <td>4.778424</td>\n",
       "      <td>21.250000</td>\n",
       "      <td>4.602988</td>\n",
       "      <td>83.416667</td>\n",
       "      <td>73.155609</td>\n",
       "      <td>0.583333</td>\n",
       "      <td>0.493007</td>\n",
       "      <td>18395.916667</td>\n",
       "      <td>4084.090177</td>\n",
       "      <td>3.333333</td>\n",
       "      <td>0.623610</td>\n",
       "    </tr>\n",
       "    <tr>\n",
       "      <th>13</th>\n",
       "      <td>3.583333</td>\n",
       "      <td>4.662945</td>\n",
       "      <td>12.833333</td>\n",
       "      <td>4.792935</td>\n",
       "      <td>21.916667</td>\n",
       "      <td>4.838359</td>\n",
       "      <td>85.083333</td>\n",
       "      <td>75.299910</td>\n",
       "      <td>0.583333</td>\n",
       "      <td>0.493007</td>\n",
       "      <td>18397.250000</td>\n",
       "      <td>4107.912246</td>\n",
       "      <td>3.083333</td>\n",
       "      <td>0.640095</td>\n",
       "    </tr>\n",
       "    <tr>\n",
       "      <th>14</th>\n",
       "      <td>2.833333</td>\n",
       "      <td>4.792935</td>\n",
       "      <td>12.000000</td>\n",
       "      <td>4.778424</td>\n",
       "      <td>21.250000</td>\n",
       "      <td>4.602988</td>\n",
       "      <td>83.416667</td>\n",
       "      <td>73.155609</td>\n",
       "      <td>0.583333</td>\n",
       "      <td>0.493007</td>\n",
       "      <td>18395.916667</td>\n",
       "      <td>4084.090177</td>\n",
       "      <td>3.333333</td>\n",
       "      <td>0.623610</td>\n",
       "    </tr>\n",
       "    <tr>\n",
       "      <th>15</th>\n",
       "      <td>3.583333</td>\n",
       "      <td>4.662945</td>\n",
       "      <td>12.833333</td>\n",
       "      <td>4.792935</td>\n",
       "      <td>21.916667</td>\n",
       "      <td>4.838359</td>\n",
       "      <td>85.083333</td>\n",
       "      <td>75.299910</td>\n",
       "      <td>0.583333</td>\n",
       "      <td>0.493007</td>\n",
       "      <td>18397.250000</td>\n",
       "      <td>4107.912246</td>\n",
       "      <td>3.083333</td>\n",
       "      <td>0.640095</td>\n",
       "    </tr>\n",
       "    <tr>\n",
       "      <th>16</th>\n",
       "      <td>2.833333</td>\n",
       "      <td>4.792935</td>\n",
       "      <td>12.000000</td>\n",
       "      <td>4.778424</td>\n",
       "      <td>21.250000</td>\n",
       "      <td>4.602988</td>\n",
       "      <td>83.416667</td>\n",
       "      <td>73.155609</td>\n",
       "      <td>0.583333</td>\n",
       "      <td>0.493007</td>\n",
       "      <td>18395.916667</td>\n",
       "      <td>4084.090177</td>\n",
       "      <td>3.333333</td>\n",
       "      <td>0.623610</td>\n",
       "    </tr>\n",
       "    <tr>\n",
       "      <th>17</th>\n",
       "      <td>2.833333</td>\n",
       "      <td>4.792935</td>\n",
       "      <td>12.000000</td>\n",
       "      <td>4.778424</td>\n",
       "      <td>21.250000</td>\n",
       "      <td>4.602988</td>\n",
       "      <td>83.416667</td>\n",
       "      <td>73.155609</td>\n",
       "      <td>0.583333</td>\n",
       "      <td>0.493007</td>\n",
       "      <td>18395.916667</td>\n",
       "      <td>4084.090177</td>\n",
       "      <td>3.333333</td>\n",
       "      <td>0.623610</td>\n",
       "    </tr>\n",
       "    <tr>\n",
       "      <th>18</th>\n",
       "      <td>3.583333</td>\n",
       "      <td>4.662945</td>\n",
       "      <td>12.833333</td>\n",
       "      <td>4.792935</td>\n",
       "      <td>21.916667</td>\n",
       "      <td>4.838359</td>\n",
       "      <td>85.083333</td>\n",
       "      <td>75.299910</td>\n",
       "      <td>0.583333</td>\n",
       "      <td>0.493007</td>\n",
       "      <td>18397.250000</td>\n",
       "      <td>4107.912246</td>\n",
       "      <td>3.083333</td>\n",
       "      <td>0.640095</td>\n",
       "    </tr>\n",
       "    <tr>\n",
       "      <th>19</th>\n",
       "      <td>3.583333</td>\n",
       "      <td>4.662945</td>\n",
       "      <td>12.833333</td>\n",
       "      <td>4.792935</td>\n",
       "      <td>21.916667</td>\n",
       "      <td>4.838359</td>\n",
       "      <td>85.083333</td>\n",
       "      <td>75.299910</td>\n",
       "      <td>0.583333</td>\n",
       "      <td>0.493007</td>\n",
       "      <td>18397.250000</td>\n",
       "      <td>4107.912246</td>\n",
       "      <td>3.083333</td>\n",
       "      <td>0.640095</td>\n",
       "    </tr>\n",
       "    <tr>\n",
       "      <th>20</th>\n",
       "      <td>2.833333</td>\n",
       "      <td>4.792935</td>\n",
       "      <td>12.000000</td>\n",
       "      <td>4.778424</td>\n",
       "      <td>21.250000</td>\n",
       "      <td>4.602988</td>\n",
       "      <td>83.416667</td>\n",
       "      <td>73.155609</td>\n",
       "      <td>0.583333</td>\n",
       "      <td>0.493007</td>\n",
       "      <td>18395.916667</td>\n",
       "      <td>4084.090177</td>\n",
       "      <td>3.333333</td>\n",
       "      <td>0.623610</td>\n",
       "    </tr>\n",
       "    <tr>\n",
       "      <th>21</th>\n",
       "      <td>2.500000</td>\n",
       "      <td>4.645787</td>\n",
       "      <td>11.750000</td>\n",
       "      <td>4.692636</td>\n",
       "      <td>20.833333</td>\n",
       "      <td>4.792935</td>\n",
       "      <td>82.250000</td>\n",
       "      <td>71.747387</td>\n",
       "      <td>0.500000</td>\n",
       "      <td>0.500000</td>\n",
       "      <td>18371.000000</td>\n",
       "      <td>4069.509737</td>\n",
       "      <td>3.333333</td>\n",
       "      <td>0.623610</td>\n",
       "    </tr>\n",
       "    <tr>\n",
       "      <th>22</th>\n",
       "      <td>2.500000</td>\n",
       "      <td>4.645787</td>\n",
       "      <td>11.750000</td>\n",
       "      <td>4.692636</td>\n",
       "      <td>20.833333</td>\n",
       "      <td>4.792935</td>\n",
       "      <td>82.250000</td>\n",
       "      <td>71.747387</td>\n",
       "      <td>0.500000</td>\n",
       "      <td>0.500000</td>\n",
       "      <td>18371.000000</td>\n",
       "      <td>4069.509737</td>\n",
       "      <td>3.333333</td>\n",
       "      <td>0.623610</td>\n",
       "    </tr>\n",
       "    <tr>\n",
       "      <th>23</th>\n",
       "      <td>2.500000</td>\n",
       "      <td>4.645787</td>\n",
       "      <td>11.750000</td>\n",
       "      <td>4.692636</td>\n",
       "      <td>20.833333</td>\n",
       "      <td>4.792935</td>\n",
       "      <td>82.250000</td>\n",
       "      <td>71.747387</td>\n",
       "      <td>0.500000</td>\n",
       "      <td>0.500000</td>\n",
       "      <td>18371.000000</td>\n",
       "      <td>4069.509737</td>\n",
       "      <td>3.333333</td>\n",
       "      <td>0.623610</td>\n",
       "    </tr>\n",
       "    <tr>\n",
       "      <th>24</th>\n",
       "      <td>2.500000</td>\n",
       "      <td>4.645787</td>\n",
       "      <td>11.750000</td>\n",
       "      <td>4.692636</td>\n",
       "      <td>20.833333</td>\n",
       "      <td>4.792935</td>\n",
       "      <td>82.250000</td>\n",
       "      <td>71.747387</td>\n",
       "      <td>0.500000</td>\n",
       "      <td>0.500000</td>\n",
       "      <td>18371.000000</td>\n",
       "      <td>4069.509737</td>\n",
       "      <td>3.333333</td>\n",
       "      <td>0.623610</td>\n",
       "    </tr>\n",
       "    <tr>\n",
       "      <th>25</th>\n",
       "      <td>3.583333</td>\n",
       "      <td>4.662945</td>\n",
       "      <td>12.833333</td>\n",
       "      <td>4.792935</td>\n",
       "      <td>21.916667</td>\n",
       "      <td>4.838359</td>\n",
       "      <td>85.083333</td>\n",
       "      <td>75.299910</td>\n",
       "      <td>0.583333</td>\n",
       "      <td>0.493007</td>\n",
       "      <td>18397.250000</td>\n",
       "      <td>4107.912246</td>\n",
       "      <td>3.083333</td>\n",
       "      <td>0.640095</td>\n",
       "    </tr>\n",
       "    <tr>\n",
       "      <th>26</th>\n",
       "      <td>2.833333</td>\n",
       "      <td>4.792935</td>\n",
       "      <td>12.000000</td>\n",
       "      <td>4.778424</td>\n",
       "      <td>21.250000</td>\n",
       "      <td>4.602988</td>\n",
       "      <td>83.416667</td>\n",
       "      <td>73.155609</td>\n",
       "      <td>0.583333</td>\n",
       "      <td>0.493007</td>\n",
       "      <td>18395.916667</td>\n",
       "      <td>4084.090177</td>\n",
       "      <td>3.333333</td>\n",
       "      <td>0.623610</td>\n",
       "    </tr>\n",
       "    <tr>\n",
       "      <th>27</th>\n",
       "      <td>2.833333</td>\n",
       "      <td>4.792935</td>\n",
       "      <td>12.000000</td>\n",
       "      <td>4.778424</td>\n",
       "      <td>21.250000</td>\n",
       "      <td>4.602988</td>\n",
       "      <td>83.416667</td>\n",
       "      <td>73.155609</td>\n",
       "      <td>0.583333</td>\n",
       "      <td>0.493007</td>\n",
       "      <td>18395.916667</td>\n",
       "      <td>4084.090177</td>\n",
       "      <td>3.333333</td>\n",
       "      <td>0.623610</td>\n",
       "    </tr>\n",
       "    <tr>\n",
       "      <th>28</th>\n",
       "      <td>3.583333</td>\n",
       "      <td>4.662945</td>\n",
       "      <td>12.833333</td>\n",
       "      <td>4.792935</td>\n",
       "      <td>21.916667</td>\n",
       "      <td>4.838359</td>\n",
       "      <td>85.083333</td>\n",
       "      <td>75.299910</td>\n",
       "      <td>0.583333</td>\n",
       "      <td>0.493007</td>\n",
       "      <td>18397.250000</td>\n",
       "      <td>4107.912246</td>\n",
       "      <td>3.083333</td>\n",
       "      <td>0.640095</td>\n",
       "    </tr>\n",
       "    <tr>\n",
       "      <th>29</th>\n",
       "      <td>2.833333</td>\n",
       "      <td>4.792935</td>\n",
       "      <td>12.000000</td>\n",
       "      <td>4.915960</td>\n",
       "      <td>21.666667</td>\n",
       "      <td>4.678556</td>\n",
       "      <td>82.750000</td>\n",
       "      <td>72.756586</td>\n",
       "      <td>0.583333</td>\n",
       "      <td>0.493007</td>\n",
       "      <td>18375.666667</td>\n",
       "      <td>4067.195478</td>\n",
       "      <td>3.250000</td>\n",
       "      <td>0.595119</td>\n",
       "    </tr>\n",
       "    <tr>\n",
       "      <th>30</th>\n",
       "      <td>2.833333</td>\n",
       "      <td>4.792935</td>\n",
       "      <td>12.000000</td>\n",
       "      <td>4.915960</td>\n",
       "      <td>21.666667</td>\n",
       "      <td>4.678556</td>\n",
       "      <td>82.750000</td>\n",
       "      <td>72.756586</td>\n",
       "      <td>0.583333</td>\n",
       "      <td>0.493007</td>\n",
       "      <td>18375.666667</td>\n",
       "      <td>4067.195478</td>\n",
       "      <td>3.250000</td>\n",
       "      <td>0.595119</td>\n",
       "    </tr>\n",
       "  </tbody>\n",
       "</table>\n",
       "</div>"
      ],
      "text/plain": [
       "    MaxTemperature_mean  MaxTemperature_std  MeanTemperature_mean  \\\n",
       "0              3.583333            4.662945             12.833333   \n",
       "1              2.833333            4.792935             12.000000   \n",
       "2              3.583333            4.662945             12.833333   \n",
       "3              2.833333            4.792935             12.000000   \n",
       "4              2.916667            4.872685             12.416667   \n",
       "5              3.000000            4.915960             12.583333   \n",
       "6              2.916667            4.872685             12.416667   \n",
       "7              2.500000            4.645787             11.750000   \n",
       "8              2.500000            4.645787             11.750000   \n",
       "9              3.000000            4.915960             12.583333   \n",
       "10             2.833333            4.792935             12.000000   \n",
       "11             3.583333            4.662945             12.833333   \n",
       "12             2.833333            4.792935             12.000000   \n",
       "13             3.583333            4.662945             12.833333   \n",
       "14             2.833333            4.792935             12.000000   \n",
       "15             3.583333            4.662945             12.833333   \n",
       "16             2.833333            4.792935             12.000000   \n",
       "17             2.833333            4.792935             12.000000   \n",
       "18             3.583333            4.662945             12.833333   \n",
       "19             3.583333            4.662945             12.833333   \n",
       "20             2.833333            4.792935             12.000000   \n",
       "21             2.500000            4.645787             11.750000   \n",
       "22             2.500000            4.645787             11.750000   \n",
       "23             2.500000            4.645787             11.750000   \n",
       "24             2.500000            4.645787             11.750000   \n",
       "25             3.583333            4.662945             12.833333   \n",
       "26             2.833333            4.792935             12.000000   \n",
       "27             2.833333            4.792935             12.000000   \n",
       "28             3.583333            4.662945             12.833333   \n",
       "29             2.833333            4.792935             12.000000   \n",
       "30             2.833333            4.792935             12.000000   \n",
       "\n",
       "    MeanTemperature_std  MinTemperature_mean  MinTemperature_std  \\\n",
       "0              4.792935            21.916667            4.838359   \n",
       "1              4.778424            21.250000            4.602988   \n",
       "2              4.792935            21.916667            4.838359   \n",
       "3              4.778424            21.250000            4.602988   \n",
       "4              4.698552            21.833333            4.792935   \n",
       "5              4.733891            21.916667            4.838359   \n",
       "6              4.698552            21.833333            4.792935   \n",
       "7              4.692636            20.833333            4.792935   \n",
       "8              4.692636            20.833333            4.792935   \n",
       "9              4.733891            21.916667            4.838359   \n",
       "10             4.778424            21.250000            4.602988   \n",
       "11             4.792935            21.916667            4.838359   \n",
       "12             4.778424            21.250000            4.602988   \n",
       "13             4.792935            21.916667            4.838359   \n",
       "14             4.778424            21.250000            4.602988   \n",
       "15             4.792935            21.916667            4.838359   \n",
       "16             4.778424            21.250000            4.602988   \n",
       "17             4.778424            21.250000            4.602988   \n",
       "18             4.792935            21.916667            4.838359   \n",
       "19             4.792935            21.916667            4.838359   \n",
       "20             4.778424            21.250000            4.602988   \n",
       "21             4.692636            20.833333            4.792935   \n",
       "22             4.692636            20.833333            4.792935   \n",
       "23             4.692636            20.833333            4.792935   \n",
       "24             4.692636            20.833333            4.792935   \n",
       "25             4.792935            21.916667            4.838359   \n",
       "26             4.778424            21.250000            4.602988   \n",
       "27             4.778424            21.250000            4.602988   \n",
       "28             4.792935            21.916667            4.838359   \n",
       "29             4.915960            21.666667            4.678556   \n",
       "30             4.915960            21.666667            4.678556   \n",
       "\n",
       "    Precipitation_mean  Precipitation_std  Vapor_mean  Vapor_std  \\\n",
       "0            85.083333          75.299910    0.583333   0.493007   \n",
       "1            83.416667          73.155609    0.583333   0.493007   \n",
       "2            85.083333          75.299910    0.583333   0.493007   \n",
       "3            83.416667          73.155609    0.583333   0.493007   \n",
       "4            83.666667          73.660633    0.583333   0.493007   \n",
       "5            84.250000          74.370833    0.583333   0.493007   \n",
       "6            83.666667          73.660633    0.583333   0.493007   \n",
       "7            82.250000          71.747387    0.500000   0.500000   \n",
       "8            82.250000          71.747387    0.500000   0.500000   \n",
       "9            84.250000          74.370833    0.583333   0.493007   \n",
       "10           83.416667          73.155609    0.583333   0.493007   \n",
       "11           85.083333          75.299910    0.583333   0.493007   \n",
       "12           83.416667          73.155609    0.583333   0.493007   \n",
       "13           85.083333          75.299910    0.583333   0.493007   \n",
       "14           83.416667          73.155609    0.583333   0.493007   \n",
       "15           85.083333          75.299910    0.583333   0.493007   \n",
       "16           83.416667          73.155609    0.583333   0.493007   \n",
       "17           83.416667          73.155609    0.583333   0.493007   \n",
       "18           85.083333          75.299910    0.583333   0.493007   \n",
       "19           85.083333          75.299910    0.583333   0.493007   \n",
       "20           83.416667          73.155609    0.583333   0.493007   \n",
       "21           82.250000          71.747387    0.500000   0.500000   \n",
       "22           82.250000          71.747387    0.500000   0.500000   \n",
       "23           82.250000          71.747387    0.500000   0.500000   \n",
       "24           82.250000          71.747387    0.500000   0.500000   \n",
       "25           85.083333          75.299910    0.583333   0.493007   \n",
       "26           83.416667          73.155609    0.583333   0.493007   \n",
       "27           83.416667          73.155609    0.583333   0.493007   \n",
       "28           85.083333          75.299910    0.583333   0.493007   \n",
       "29           82.750000          72.756586    0.583333   0.493007   \n",
       "30           82.750000          72.756586    0.583333   0.493007   \n",
       "\n",
       "    SolarRadiation_mean  SolarRadiation_std  WindSpeed_mean  WindSpeed_std  \n",
       "0          18397.250000         4107.912246        3.083333       0.640095  \n",
       "1          18395.916667         4084.090177        3.333333       0.623610  \n",
       "2          18397.250000         4107.912246        3.083333       0.640095  \n",
       "3          18395.916667         4084.090177        3.333333       0.623610  \n",
       "4          18378.416667         4078.144175        3.166667       0.552771  \n",
       "5          18383.083333         4083.775734        3.083333       0.640095  \n",
       "6          18378.416667         4078.144175        3.166667       0.552771  \n",
       "7          18371.000000         4069.509737        3.333333       0.623610  \n",
       "8          18371.000000         4069.509737        3.333333       0.623610  \n",
       "9          18383.083333         4083.775734        3.083333       0.640095  \n",
       "10         18395.916667         4084.090177        3.333333       0.623610  \n",
       "11         18397.250000         4107.912246        3.083333       0.640095  \n",
       "12         18395.916667         4084.090177        3.333333       0.623610  \n",
       "13         18397.250000         4107.912246        3.083333       0.640095  \n",
       "14         18395.916667         4084.090177        3.333333       0.623610  \n",
       "15         18397.250000         4107.912246        3.083333       0.640095  \n",
       "16         18395.916667         4084.090177        3.333333       0.623610  \n",
       "17         18395.916667         4084.090177        3.333333       0.623610  \n",
       "18         18397.250000         4107.912246        3.083333       0.640095  \n",
       "19         18397.250000         4107.912246        3.083333       0.640095  \n",
       "20         18395.916667         4084.090177        3.333333       0.623610  \n",
       "21         18371.000000         4069.509737        3.333333       0.623610  \n",
       "22         18371.000000         4069.509737        3.333333       0.623610  \n",
       "23         18371.000000         4069.509737        3.333333       0.623610  \n",
       "24         18371.000000         4069.509737        3.333333       0.623610  \n",
       "25         18397.250000         4107.912246        3.083333       0.640095  \n",
       "26         18395.916667         4084.090177        3.333333       0.623610  \n",
       "27         18395.916667         4084.090177        3.333333       0.623610  \n",
       "28         18397.250000         4107.912246        3.083333       0.640095  \n",
       "29         18375.666667         4067.195478        3.250000       0.595119  \n",
       "30         18375.666667         4067.195478        3.250000       0.595119  "
      ]
     },
     "execution_count": 82,
     "metadata": {},
     "output_type": "execute_result"
    }
   ],
   "source": [
    "datatable"
   ]
  },
  {
   "cell_type": "code",
   "execution_count": 83,
   "metadata": {
    "collapsed": false
   },
   "outputs": [
    {
     "data": {
      "text/plain": [
       "228"
      ]
     },
     "execution_count": 83,
     "metadata": {},
     "output_type": "execute_result"
    }
   ],
   "source": [
    "tree.richness"
   ]
  },
  {
   "cell_type": "code",
   "execution_count": 87,
   "metadata": {
    "collapsed": false
   },
   "outputs": [],
   "source": [
    "ns =grasses.neighbouringtrees"
   ]
  },
  {
   "cell_type": "raw",
   "metadata": {},
   "source": [
    "ns"
   ]
  },
  {
   "cell_type": "code",
   "execution_count": 88,
   "metadata": {
    "collapsed": false
   },
   "outputs": [
    {
     "data": {
      "text/plain": [
       "[]"
      ]
     },
     "execution_count": 88,
     "metadata": {},
     "output_type": "execute_result"
    }
   ],
   "source": [
    "ns"
   ]
  },
  {
   "cell_type": "code",
   "execution_count": null,
   "metadata": {
    "collapsed": true
   },
   "outputs": [],
   "source": []
  },
  {
   "cell_type": "raw",
   "metadata": {},
   "source": []
  }
 ],
 "metadata": {
  "kernelspec": {
   "display_name": "Django Shell-Plus",
   "language": "python",
   "name": "django_extensions"
  },
  "language_info": {
   "codemirror_mode": {
    "name": "ipython",
    "version": 2
   },
   "file_extension": ".py",
   "mimetype": "text/x-python",
   "name": "python",
   "nbconvert_exporter": "python",
   "pygments_lexer": "ipython2",
   "version": "2.7.11"
  }
 },
 "nbformat": 4,
 "nbformat_minor": 0
}
