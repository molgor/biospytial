{
 "cells": [
  {
   "cell_type": "markdown",
   "metadata": {},
   "source": [
    "# Spatial Regression of Abundance Data\n",
    "---\n",
    "***\n",
    "Here I show how to extract different taxonomic information at cell level.\n",
    "Although there exists a method for building the taxonomic tree within a single cell, the process can be computationally intensive because it depends on extracting the total amount of occurrences in each cell. From there, it traverses fromtop to bottom the tree looking for the corresponding nodes.\n",
    "\n",
    "The approach is usefull when one needs a small number of trees but it'll become increasingly slow if the amount of cells or occurrences increases. \n",
    "\n",
    "---\n",
    "\n",
    "## Extracting specific taxonomic levels en each cells\n",
    "\n",
    "The method studied here makes use of the relationship type `IS_IN` stored in the knowledge graph.\n",
    "\n",
    "> Note: *There was a problem with the design of the OGM implementation (py2neo.ogm). The retrieval of linked nodes based on a specific relation does not distinguish different labels. In other words it returns the totality of the data that has the  specific relationship given a node.*\n",
    "\n",
    "> Patchy solution: \n",
    "The solution was to include extra methods for the class Cell `has_[taxas]`. This method/attribute returns a graph selector that points to the corresponding nodes.\n",
    "\n",
    "> Stabile Fix \n",
    "Make relationships as specific as possible (given the data). For example, if instead of using the relation type \n",
    "* *IS_IN* for (Bursera:Family) -[IS_IN]-> (Grid:Cell) \n",
    "change it to:\n",
    "* *Family_IS_IN* for (Bursera:Family) -[IS_IN]-> (Grid:Cell)\n",
    "Let's get started.\n",
    "As usual we need to load the necessary modules\n"
   ]
  },
  {
   "cell_type": "code",
   "execution_count": 1,
   "metadata": {
    "collapsed": false
   },
   "outputs": [],
   "source": [
    "%matplotlib inline\n",
    "import sys\n",
    "sys.path.append('/apps')\n",
    "import django\n",
    "django.setup()\n",
    "from drivers.tree_builder import TreeNeo\n",
    "from drivers.graph_models import TreeNode, Order, Family, graph,Kingdom,Occurrence\n",
    "from drivers.graph_models import Cell,Mex4km, countObjectsOf\n",
    "import matplotlib.pyplot as plt\n",
    "import pandas as pd\n",
    "import itertools as it\n",
    "import numpy as np\n",
    "\n",
    "## Use the ggplot style\n",
    "plt.style.use('ggplot')"
   ]
  },
  {
   "cell_type": "markdown",
   "metadata": {},
   "source": [
    "## Random selection of cells.\n",
    "\n",
    "*Note* : There was a big problem in the data arquitecture. For storage reasons I couldn't load the complete world bioclimatic layers. Therefore I needed to put a regional subset that comprises only the Mexican Territory. \n",
    "For this reason, it is necessary that any approach for selecting subsamples needs to be constrained (filter) by this geometry. \n",
    "We can do that with this:"
   ]
  },
  {
   "cell_type": "code",
   "execution_count": 2,
   "metadata": {
    "collapsed": false
   },
   "outputs": [],
   "source": [
    "from sketches.models import Country\n",
    "from mesh.models import MexMesh\n",
    "\n",
    "Mexico = Country.objects.filter(name__contains=\"exico\").get()\n",
    "mexican_cells = MexMesh.objects.filter(cell__intersects=Mexico.geom)"
   ]
  },
  {
   "cell_type": "code",
   "execution_count": 3,
   "metadata": {
    "collapsed": false
   },
   "outputs": [],
   "source": [
    "# Get all cell ids\n",
    "ids = list(mexican_cells.values('pk'))"
   ]
  },
  {
   "cell_type": "code",
   "execution_count": 4,
   "metadata": {
    "collapsed": true
   },
   "outputs": [],
   "source": [
    "from traversals.sampling import UniformRandomCellSample"
   ]
  },
  {
   "cell_type": "code",
   "execution_count": 5,
   "metadata": {
    "collapsed": false
   },
   "outputs": [
    {
     "name": "stderr",
     "output_type": "stream",
     "text": [
      "INFO Using custom random seed of: 12345\n",
      "INFO:biospytial.graph_models:Using custom random seed of: 12345\n",
      "INFO Compiling Query and asking the Graph Database\n",
      "INFO:biospytial.graph_models:Compiling Query and asking the Graph Database\n"
     ]
    }
   ],
   "source": [
    "CellNodeClass = Mex4km\n",
    "list_of_cell_ids = ids\n",
    "n = len(ids)\n",
    "selection_of_cells = UniformRandomCellSample(ids,Mex4km,sample_size=200,random_seed=12345,with_replacement=True)"
   ]
  },
  {
   "cell_type": "markdown",
   "metadata": {},
   "source": [
    "The selection should be as follow:\n",
    "    * Convert to pandas\n",
    "    * Generate random numbers uniform on that range\n",
    "    * use iloc to get the id values\n",
    "    * Use the normal methodology.\n",
    "    "
   ]
  },
  {
   "cell_type": "markdown",
   "metadata": {},
   "source": [
    "## Extract richness and Environmental covariates from cells at a given taxonomic level\n",
    "Options are: Family, Order, Spicies, etc"
   ]
  },
  {
   "cell_type": "code",
   "execution_count": 6,
   "metadata": {
    "collapsed": false
   },
   "outputs": [],
   "source": [
    "from traversals import strategies as st"
   ]
  },
  {
   "cell_type": "code",
   "execution_count": 7,
   "metadata": {
    "collapsed": false
   },
   "outputs": [
    {
     "name": "stdout",
     "output_type": "stream",
     "text": [
      "CPU times: user 20.9 s, sys: 652 ms, total: 21.6 s\n",
      "Wall time: 2min\n"
     ]
    }
   ],
   "source": [
    "%time data = st.getEnvironmentAndRichnessFromListOfCells(list_of_cells=selection_of_cells,taxonomic_level_name='Family')"
   ]
  },
  {
   "cell_type": "markdown",
   "metadata": {},
   "source": [
    "It takes time because it need to calculate on the fly the summary statistic of each cell. It is using the postgis backend"
   ]
  },
  {
   "cell_type": "code",
   "execution_count": 8,
   "metadata": {
    "collapsed": false
   },
   "outputs": [
    {
     "data": {
      "text/plain": [
       "<matplotlib.axes._subplots.AxesSubplot at 0x7f683f460c10>"
      ]
     },
     "execution_count": 8,
     "metadata": {},
     "output_type": "execute_result"
    },
    {
     "data": {
      "image/png": "[encoded data removed]",
      "text/plain": [
       "<matplotlib.figure.Figure at 0x7f683fa8c8d0>"
      ]
     },
     "metadata": {},
     "output_type": "display_data"
    }
   ],
   "source": [
    "data.plot(column='n_Family')"
   ]
  },
  {
   "cell_type": "code",
   "execution_count": 9,
   "metadata": {
    "collapsed": false
   },
   "outputs": [],
   "source": [
    "from external_plugins.spystats.spystats import tools as tl"
   ]
  },
  {
   "cell_type": "code",
   "execution_count": 10,
   "metadata": {
    "collapsed": true
   },
   "outputs": [],
   "source": [
    "vg = tl.Variogram(data,response_variable_name='n_Family')"
   ]
  },
  {
   "cell_type": "code",
   "execution_count": 11,
   "metadata": {
    "collapsed": false
   },
   "outputs": [
    {
     "data": {
      "image/png": "[encoded data removed]",
      "text/plain": [
       "<matplotlib.figure.Figure at 0x7f683cfd9110>"
      ]
     },
     "metadata": {},
     "output_type": "display_data"
    }
   ],
   "source": [
    "vg.plot(with_envelope=True)"
   ]
  },
  {
   "cell_type": "markdown",
   "metadata": {},
   "source": [
    "## Let's bring some models"
   ]
  },
  {
   "cell_type": "code",
   "execution_count": 12,
   "metadata": {
    "collapsed": true
   },
   "outputs": [],
   "source": [
    "m1 = tl.ExponentialVariogram(nugget=3.5,range_a=15,sill=6.5)\n",
    "m2 = tl.GaussianVariogram(nugget=3.5,range_a=15,sill=6.5)\n",
    "m4 = tl.SphericalVariogram(nugget=3.5,range_a=15,sill=6.5)"
   ]
  },
  {
   "cell_type": "code",
   "execution_count": 13,
   "metadata": {
    "collapsed": false
   },
   "outputs": [
    {
     "data": {
      "text/plain": [
       "< Gaussian Variogram : sill 5.56023920431, range 17.4020551862, nugget 3.53000261509 >"
      ]
     },
     "execution_count": 13,
     "metadata": {},
     "output_type": "execute_result"
    }
   ],
   "source": [
    "vg.fitVariogramModel(m2)"
   ]
  },
  {
   "cell_type": "code",
   "execution_count": 15,
   "metadata": {
    "collapsed": false
   },
   "outputs": [
    {
     "data": {
      "text/plain": [
       "[<matplotlib.lines.Line2D at 0x7f683c503bd0>]"
      ]
     },
     "execution_count": 15,
     "metadata": {},
     "output_type": "execute_result"
    },
    {
     "data": {
      "image/png": "[encoded data removed]",
      "text/plain": [
       "<matplotlib.figure.Figure at 0x7f683c503b50>"
      ]
     },
     "metadata": {},
     "output_type": "display_data"
    }
   ],
   "source": [
    "x = np.linspace(0,30,100)\n",
    "\n",
    "vg.plot(with_envelope=False,n_bins=100)\n",
    "plt.plot(x,vg.model.f(x))\n",
    "\n"
   ]
  },
  {
   "cell_type": "code",
   "execution_count": 60,
   "metadata": {
    "collapsed": false
   },
   "outputs": [
    {
     "data": {
      "text/plain": [
       "<matplotlib.axes._subplots.AxesSubplot at 0x7f6829aad990>"
      ]
     },
     "execution_count": 60,
     "metadata": {},
     "output_type": "execute_result"
    },
    {
     "data": {
      "image/png": "[encoded data removed]",
      "text/plain": [
       "<matplotlib.figure.Figure at 0x7f6824160c10>"
      ]
     },
     "metadata": {},
     "output_type": "display_data"
    }
   ],
   "source": [
    "## We will retrieve environmental data from another region using the 'raster_api'\n",
    "##We will do it like this:\n",
    "cell = selection_of_cells.first()\n",
    "## Go up 5 scales\n",
    "upcell = cell.upperCell.next().upperCell.next().upperCell.next().upperCell.next().upperCell.next()\n",
    "## Get the raster for this area, example Elevation\n",
    "elev = upcell.getAssociatedRasterAreaData('Elevation')\n",
    "## Get a dataframe\n",
    "data_s = elev.toPandasDataFrame()\n",
    "## Convert it to geoDataFrame\n",
    "data_s = tl.toGeoDataFrame(data_s,xcoord_name='Longitude',ycoord_name='Latitude')\n",
    "## Remove NAs\n",
    "data_star = data_s.dropna()\n",
    "## Restablish index to be continuous, this is important\n",
    "#data_star.reset_index(drop=True,inplace=True)\n",
    "## Plot it\n",
    "data_star.plot(column=0)\n",
    "##"
   ]
  },
  {
   "cell_type": "code",
   "execution_count": 17,
   "metadata": {
    "collapsed": false
   },
   "outputs": [
    {
     "data": {
      "text/plain": [
       "Int64Index([   1,    2,    3,    4,    5,    6,    7,    8,    9,   10,\n",
       "            ...\n",
       "            3890, 3891, 3892, 3893, 3894, 3895, 3896, 3897, 3898, 3899],\n",
       "           dtype='int64', length=3840)"
      ]
     },
     "execution_count": 17,
     "metadata": {},
     "output_type": "execute_result"
    }
   ],
   "source": [
    "data_star.index"
   ]
  },
  {
   "cell_type": "code",
   "execution_count": null,
   "metadata": {
    "collapsed": false
   },
   "outputs": [],
   "source": [
    "data_star.shape"
   ]
  },
  {
   "cell_type": "code",
   "execution_count": null,
   "metadata": {
    "collapsed": true
   },
   "outputs": [],
   "source": []
  },
  {
   "cell_type": "markdown",
   "metadata": {},
   "source": [
    "# Bayesian Modelling\n"
   ]
  },
  {
   "cell_type": "code",
   "execution_count": 18,
   "metadata": {
    "collapsed": false
   },
   "outputs": [],
   "source": [
    "import pymc3 as pm\n",
    "data.columns = [u'n_Family', u'Longitude', u'Latitude', u'Elevation_mean',\n",
    "       u'MaxTemperature_mean', u'MeanTemperature_mean', u'MinTemperature_mean',\n",
    "       u'Precipitation_mean', u'SolarRadiation_mean', u'Vapor_mean',\n",
    "       u'WindSpeed_mean', u'geometry']"
   ]
  },
  {
   "cell_type": "code",
   "execution_count": 19,
   "metadata": {
    "collapsed": false
   },
   "outputs": [
    {
     "name": "stdout",
     "output_type": "stream",
     "text": [
      "                 Generalized Linear Model Regression Results                  \n",
      "==============================================================================\n",
      "Dep. Variable:               n_Family   No. Observations:                  199\n",
      "Model:                            GLM   Df Residuals:                      197\n",
      "Model Family:                Gaussian   Df Model:                            1\n",
      "Link Function:               identity   Scale:                   123.382814666\n",
      "Method:                          IRLS   Log-Likelihood:                -760.49\n",
      "Date:                Wed, 28 Feb 2018   Deviance:                       24306.\n",
      "Time:                        18:23:06   Pearson chi2:                 2.43e+04\n",
      "No. Iterations:                     4                                         \n",
      "==================================================================================\n",
      "                     coef    std err          z      P>|z|      [95.0% Conf. Int.]\n",
      "----------------------------------------------------------------------------------\n",
      "Intercept          4.1630      1.267      3.287      0.001         1.681     6.645\n",
      "Elevation_mean     0.0007      0.001      0.717      0.473        -0.001     0.002\n",
      "==================================================================================\n"
     ]
    }
   ],
   "source": [
    "from statsmodels.genmod.generalized_linear_model import GLM\n",
    "glmodel = GLM.from_formula('n_Family ~ Elevation_mean',data=data)\n",
    "res = glmodel.fit()\n",
    "print(res.summary())\n",
    "\n",
    "\n",
    "z = np.array([0.0,0.0])\n",
    "coefs = np.append(z,res.params.values[1:])"
   ]
  },
  {
   "cell_type": "code",
   "execution_count": 20,
   "metadata": {
    "collapsed": false
   },
   "outputs": [
    {
     "name": "stdout",
     "output_type": "stream",
     "text": [
      "[ 0.          0.          0.00066554]\n"
     ]
    }
   ],
   "source": [
    "## cero coef for long lat\n",
    "z = np.array([0.0,0.0])\n",
    "coefs = np.append(z,res.params.values[1:])\n",
    "print(coefs)"
   ]
  },
  {
   "cell_type": "code",
   "execution_count": 21,
   "metadata": {
    "collapsed": false
   },
   "outputs": [
    {
     "name": "stderr",
     "output_type": "stream",
     "text": [
      "Average Loss = 3.1104e+05: 100%|██████████| 15000/15000 [01:23<00:00, 179.85it/s]"
     ]
    },
    {
     "name": "stdout",
     "output_type": "stream",
     "text": [
      "CPU times: user 5min 28s, sys: 5.79 s, total: 5min 34s\n",
      "Wall time: 1min 28s\n",
      "CPU times: user 1.6 s, sys: 24 ms, total: 1.62 s\n",
      "Wall time: 894 ms\n",
      "CPU times: user 9.16 s, sys: 840 ms, total: 10 s"
     ]
    },
    {
     "name": "stderr",
     "output_type": "stream",
     "text": [
      "\n",
      "100%|██████████| 10/10 [00:16<00:00,  1.63s/it]"
     ]
    },
    {
     "name": "stdout",
     "output_type": "stream",
     "text": [
      "\n",
      "Wall time: 3.38 s\n"
     ]
    },
    {
     "name": "stderr",
     "output_type": "stream",
     "text": [
      "\n"
     ]
    }
   ],
   "source": [
    "## Analysis, GP only one parameter to fit\n",
    "# The variational method is much beter.\n",
    "from pymc3.variational.callbacks import CheckParametersConvergence\n",
    "\n",
    "with pm.Model() as model:\n",
    "    sigma = 1.0\n",
    "    #range_a=10.13\n",
    "    \n",
    "    \n",
    "    tau = pm.Uniform('tau',0,5.0)\n",
    "    #sigma = pm.Flat('sigma')\n",
    "    #phi = pm.HalfNormal('phi',mu=8,sd=3)\n",
    "    #phi = pm.Uniform('phi',6,12)\n",
    "    phi = pm.Uniform('phi',0,15)\n",
    "    \n",
    "    Tau = pm.gp.cov.Constant(tau)\n",
    "    \n",
    "    cov = sigma * pm.gp.cov.Matern32(2,phi,active_dims=[0,1]) + Tau\n",
    "    #K = cov(grid[['Lon','Lat']].values)\n",
    "    #phiprint = tt.printing.Print('phi')(phi)\n",
    "    \n",
    "    \n",
    "    mf = pm.gp.mean.Linear(coeffs=coefs,intercept=res.params.values[0])\n",
    "\n",
    "    \n",
    "    \n",
    "    \n",
    "    \n",
    "    ## The latent function\n",
    "    gp = pm.gp.Latent(cov_func=cov)\n",
    "    \n",
    "    \n",
    "    \n",
    "    \n",
    "    \n",
    "    ## I don't know why this\n",
    "    #f = gp.prior(\"latent_field\", X=data[['Longitude','Latitude']].values,reparameterize=False)\n",
    "    \n",
    "    f = gp.prior(\"latent_field\", X=data[['Longitude','Latitude','Elevation_mean']].values,reparameterize=False)\n",
    "    \n",
    "    \n",
    "    \n",
    "    \n",
    "    \n",
    "    \n",
    "    \n",
    "    #f_print = tt.printing.Print('latent_field')(f)\n",
    "    \n",
    "    y_obs = pm.Poisson('y_obs',mu=np.exp(f),observed=data[['n_Family']].values)\n",
    "    \n",
    "    #y_obs = pm.MvNormal('y_obs',mu=np.zeros(n*n),cov=K,observed=grid.Z)\n",
    "\n",
    "    #gp = pm.gp.Latent(cov_func=cov,observed=sample)\n",
    "    # Use elliptical slice sampling\n",
    "    #ess_step = pm.EllipticalSlice(vars=[f_sample], prior_cov=K)\n",
    "    #step = pm.HamiltonianMC()\n",
    "    #step = pm.Metropolis()\n",
    "    #%time trace = pm.sample(5000,step)#,tune=0,chains=1)\n",
    "    ## Variational\n",
    "    \n",
    "    %time mean_field = pm.fit(method='advi', callbacks=[CheckParametersConvergence()],n=15000)    \n",
    "    %time trace = mean_field.sample(draws=5000)\n",
    "\n",
    "#with model:    \n",
    "    \n",
    "    ## For predicting\n",
    "    %time f_star = gp.conditional(\"f_star\", data_star.iloc[:,:3].values)\n",
    "                    \n",
    "#with model:\n",
    "    ## sampling predictions posterior predictive checks\n",
    "    pred_samples = pm.sample_ppc(trace, vars=[f_star], samples=10)\n",
    "\n",
    "                    \n"
   ]
  },
  {
   "cell_type": "code",
   "execution_count": 47,
   "metadata": {
    "collapsed": false
   },
   "outputs": [],
   "source": [
    "preds = pd.DataFrame(pred_samples['f_star']).transpose()"
   ]
  },
  {
   "cell_type": "code",
   "execution_count": 50,
   "metadata": {
    "collapsed": false
   },
   "outputs": [],
   "source": [
    "preds['idx'] = data_star.index.values"
   ]
  },
  {
   "cell_type": "code",
   "execution_count": 66,
   "metadata": {
    "collapsed": false
   },
   "outputs": [
    {
     "data": {
      "text/html": [
       "<div>\n",
       "<table border=\"1\" class=\"dataframe\">\n",
       "  <thead>\n",
       "    <tr style=\"text-align: right;\">\n",
       "      <th></th>\n",
       "      <th>0</th>\n",
       "      <th>1</th>\n",
       "      <th>2</th>\n",
       "      <th>3</th>\n",
       "      <th>4</th>\n",
       "      <th>5</th>\n",
       "      <th>6</th>\n",
       "      <th>7</th>\n",
       "      <th>8</th>\n",
       "      <th>9</th>\n",
       "    </tr>\n",
       "    <tr>\n",
       "      <th>idx</th>\n",
       "      <th></th>\n",
       "      <th></th>\n",
       "      <th></th>\n",
       "      <th></th>\n",
       "      <th></th>\n",
       "      <th></th>\n",
       "      <th></th>\n",
       "      <th></th>\n",
       "      <th></th>\n",
       "      <th></th>\n",
       "    </tr>\n",
       "  </thead>\n",
       "  <tbody>\n",
       "    <tr>\n",
       "      <th>1</th>\n",
       "      <td>1.725415</td>\n",
       "      <td>1.860726</td>\n",
       "      <td>1.094339</td>\n",
       "      <td>1.904492</td>\n",
       "      <td>2.667527</td>\n",
       "      <td>2.063353</td>\n",
       "      <td>0.110501</td>\n",
       "      <td>2.909705</td>\n",
       "      <td>1.102630</td>\n",
       "      <td>2.768591</td>\n",
       "    </tr>\n",
       "    <tr>\n",
       "      <th>2</th>\n",
       "      <td>1.149049</td>\n",
       "      <td>2.697435</td>\n",
       "      <td>2.146635</td>\n",
       "      <td>0.953344</td>\n",
       "      <td>0.889996</td>\n",
       "      <td>1.926220</td>\n",
       "      <td>2.849371</td>\n",
       "      <td>0.663232</td>\n",
       "      <td>3.327414</td>\n",
       "      <td>1.262859</td>\n",
       "    </tr>\n",
       "    <tr>\n",
       "      <th>3</th>\n",
       "      <td>2.332826</td>\n",
       "      <td>3.079767</td>\n",
       "      <td>0.564712</td>\n",
       "      <td>-0.293208</td>\n",
       "      <td>1.597766</td>\n",
       "      <td>1.492999</td>\n",
       "      <td>-0.181234</td>\n",
       "      <td>1.992894</td>\n",
       "      <td>1.669630</td>\n",
       "      <td>1.052424</td>\n",
       "    </tr>\n",
       "    <tr>\n",
       "      <th>4</th>\n",
       "      <td>1.433658</td>\n",
       "      <td>1.872244</td>\n",
       "      <td>0.170449</td>\n",
       "      <td>1.501157</td>\n",
       "      <td>0.718400</td>\n",
       "      <td>2.347414</td>\n",
       "      <td>0.301095</td>\n",
       "      <td>1.858307</td>\n",
       "      <td>1.059783</td>\n",
       "      <td>0.965243</td>\n",
       "    </tr>\n",
       "    <tr>\n",
       "      <th>5</th>\n",
       "      <td>0.360428</td>\n",
       "      <td>3.748731</td>\n",
       "      <td>0.398935</td>\n",
       "      <td>1.542095</td>\n",
       "      <td>1.238925</td>\n",
       "      <td>2.765910</td>\n",
       "      <td>0.417879</td>\n",
       "      <td>3.167239</td>\n",
       "      <td>2.219168</td>\n",
       "      <td>-0.671358</td>\n",
       "    </tr>\n",
       "    <tr>\n",
       "      <th>6</th>\n",
       "      <td>0.922781</td>\n",
       "      <td>2.139887</td>\n",
       "      <td>0.712666</td>\n",
       "      <td>0.953295</td>\n",
       "      <td>1.638203</td>\n",
       "      <td>1.301222</td>\n",
       "      <td>1.823566</td>\n",
       "      <td>2.379840</td>\n",
       "      <td>2.199264</td>\n",
       "      <td>1.297626</td>\n",
       "    </tr>\n",
       "    <tr>\n",
       "      <th>7</th>\n",
       "      <td>0.925396</td>\n",
       "      <td>2.139497</td>\n",
       "      <td>0.713516</td>\n",
       "      <td>0.952148</td>\n",
       "      <td>1.638541</td>\n",
       "      <td>1.299869</td>\n",
       "      <td>1.823096</td>\n",
       "      <td>2.380738</td>\n",
       "      <td>2.200107</td>\n",
       "      <td>1.298883</td>\n",
       "    </tr>\n",
       "    <tr>\n",
       "      <th>8</th>\n",
       "      <td>0.316205</td>\n",
       "      <td>1.735644</td>\n",
       "      <td>1.065596</td>\n",
       "      <td>1.510530</td>\n",
       "      <td>1.192532</td>\n",
       "      <td>1.246527</td>\n",
       "      <td>0.950011</td>\n",
       "      <td>2.508864</td>\n",
       "      <td>1.648035</td>\n",
       "      <td>2.462172</td>\n",
       "    </tr>\n",
       "    <tr>\n",
       "      <th>9</th>\n",
       "      <td>1.650097</td>\n",
       "      <td>2.751754</td>\n",
       "      <td>-0.244645</td>\n",
       "      <td>1.138255</td>\n",
       "      <td>0.113905</td>\n",
       "      <td>1.297428</td>\n",
       "      <td>1.279862</td>\n",
       "      <td>1.420418</td>\n",
       "      <td>0.057090</td>\n",
       "      <td>1.245410</td>\n",
       "    </tr>\n",
       "    <tr>\n",
       "      <th>10</th>\n",
       "      <td>3.077134</td>\n",
       "      <td>1.648168</td>\n",
       "      <td>0.782430</td>\n",
       "      <td>0.315536</td>\n",
       "      <td>-0.365811</td>\n",
       "      <td>1.872779</td>\n",
       "      <td>2.082955</td>\n",
       "      <td>2.352977</td>\n",
       "      <td>0.516201</td>\n",
       "      <td>0.725072</td>\n",
       "    </tr>\n",
       "    <tr>\n",
       "      <th>11</th>\n",
       "      <td>2.724910</td>\n",
       "      <td>0.998977</td>\n",
       "      <td>0.204889</td>\n",
       "      <td>0.651145</td>\n",
       "      <td>-0.122599</td>\n",
       "      <td>2.671973</td>\n",
       "      <td>1.813488</td>\n",
       "      <td>2.766923</td>\n",
       "      <td>0.122837</td>\n",
       "      <td>0.852338</td>\n",
       "    </tr>\n",
       "    <tr>\n",
       "      <th>12</th>\n",
       "      <td>2.765453</td>\n",
       "      <td>2.185826</td>\n",
       "      <td>-0.263335</td>\n",
       "      <td>0.267780</td>\n",
       "      <td>1.065423</td>\n",
       "      <td>1.338698</td>\n",
       "      <td>1.913110</td>\n",
       "      <td>2.233553</td>\n",
       "      <td>-0.709454</td>\n",
       "      <td>-0.192675</td>\n",
       "    </tr>\n",
       "    <tr>\n",
       "      <th>13</th>\n",
       "      <td>0.974640</td>\n",
       "      <td>-0.891820</td>\n",
       "      <td>1.817308</td>\n",
       "      <td>1.350410</td>\n",
       "      <td>1.160371</td>\n",
       "      <td>0.477309</td>\n",
       "      <td>2.557290</td>\n",
       "      <td>2.769628</td>\n",
       "      <td>2.511815</td>\n",
       "      <td>1.510578</td>\n",
       "    </tr>\n",
       "    <tr>\n",
       "      <th>14</th>\n",
       "      <td>0.488628</td>\n",
       "      <td>2.131728</td>\n",
       "      <td>0.716414</td>\n",
       "      <td>0.330149</td>\n",
       "      <td>1.348647</td>\n",
       "      <td>-1.448234</td>\n",
       "      <td>3.239399</td>\n",
       "      <td>1.949420</td>\n",
       "      <td>1.115819</td>\n",
       "      <td>1.580575</td>\n",
       "    </tr>\n",
       "    <tr>\n",
       "      <th>15</th>\n",
       "      <td>0.293834</td>\n",
       "      <td>-0.808393</td>\n",
       "      <td>1.183206</td>\n",
       "      <td>2.575158</td>\n",
       "      <td>3.644793</td>\n",
       "      <td>2.275290</td>\n",
       "      <td>-0.263615</td>\n",
       "      <td>3.035974</td>\n",
       "      <td>1.351648</td>\n",
       "      <td>3.741263</td>\n",
       "    </tr>\n",
       "    <tr>\n",
       "      <th>16</th>\n",
       "      <td>0.296454</td>\n",
       "      <td>3.507702</td>\n",
       "      <td>1.606733</td>\n",
       "      <td>3.308431</td>\n",
       "      <td>2.960998</td>\n",
       "      <td>0.065455</td>\n",
       "      <td>1.688415</td>\n",
       "      <td>1.695970</td>\n",
       "      <td>0.269835</td>\n",
       "      <td>2.113972</td>\n",
       "    </tr>\n",
       "    <tr>\n",
       "      <th>17</th>\n",
       "      <td>1.376801</td>\n",
       "      <td>3.283588</td>\n",
       "      <td>1.479113</td>\n",
       "      <td>3.005979</td>\n",
       "      <td>2.383787</td>\n",
       "      <td>0.124610</td>\n",
       "      <td>2.211004</td>\n",
       "      <td>2.180461</td>\n",
       "      <td>1.844044</td>\n",
       "      <td>1.262039</td>\n",
       "    </tr>\n",
       "    <tr>\n",
       "      <th>18</th>\n",
       "      <td>0.583778</td>\n",
       "      <td>0.128540</td>\n",
       "      <td>0.929885</td>\n",
       "      <td>2.002810</td>\n",
       "      <td>2.193622</td>\n",
       "      <td>1.979479</td>\n",
       "      <td>0.569550</td>\n",
       "      <td>3.654182</td>\n",
       "      <td>1.346244</td>\n",
       "      <td>3.342302</td>\n",
       "    </tr>\n",
       "    <tr>\n",
       "      <th>19</th>\n",
       "      <td>0.296531</td>\n",
       "      <td>-0.809927</td>\n",
       "      <td>1.186699</td>\n",
       "      <td>2.574413</td>\n",
       "      <td>3.647480</td>\n",
       "      <td>2.275134</td>\n",
       "      <td>-0.261222</td>\n",
       "      <td>3.037269</td>\n",
       "      <td>1.349704</td>\n",
       "      <td>3.740584</td>\n",
       "    </tr>\n",
       "    <tr>\n",
       "      <th>20</th>\n",
       "      <td>0.585081</td>\n",
       "      <td>0.127047</td>\n",
       "      <td>0.928608</td>\n",
       "      <td>2.001802</td>\n",
       "      <td>2.195773</td>\n",
       "      <td>1.979318</td>\n",
       "      <td>0.570166</td>\n",
       "      <td>3.651622</td>\n",
       "      <td>1.348216</td>\n",
       "      <td>3.345534</td>\n",
       "    </tr>\n",
       "    <tr>\n",
       "      <th>21</th>\n",
       "      <td>1.517072</td>\n",
       "      <td>2.772945</td>\n",
       "      <td>1.266145</td>\n",
       "      <td>3.027358</td>\n",
       "      <td>2.418000</td>\n",
       "      <td>0.277122</td>\n",
       "      <td>1.954822</td>\n",
       "      <td>2.042333</td>\n",
       "      <td>2.766406</td>\n",
       "      <td>1.850115</td>\n",
       "    </tr>\n",
       "    <tr>\n",
       "      <th>22</th>\n",
       "      <td>-0.524788</td>\n",
       "      <td>2.695220</td>\n",
       "      <td>0.455658</td>\n",
       "      <td>3.998882</td>\n",
       "      <td>1.116463</td>\n",
       "      <td>0.697456</td>\n",
       "      <td>1.440353</td>\n",
       "      <td>1.518762</td>\n",
       "      <td>0.195914</td>\n",
       "      <td>2.369915</td>\n",
       "    </tr>\n",
       "    <tr>\n",
       "      <th>23</th>\n",
       "      <td>0.905996</td>\n",
       "      <td>2.815089</td>\n",
       "      <td>-0.031064</td>\n",
       "      <td>2.155789</td>\n",
       "      <td>1.886242</td>\n",
       "      <td>3.474334</td>\n",
       "      <td>1.009215</td>\n",
       "      <td>0.889144</td>\n",
       "      <td>2.254723</td>\n",
       "      <td>2.041569</td>\n",
       "    </tr>\n",
       "    <tr>\n",
       "      <th>24</th>\n",
       "      <td>1.111370</td>\n",
       "      <td>-0.614641</td>\n",
       "      <td>-0.404606</td>\n",
       "      <td>1.542257</td>\n",
       "      <td>0.005653</td>\n",
       "      <td>1.749808</td>\n",
       "      <td>3.147922</td>\n",
       "      <td>-0.809579</td>\n",
       "      <td>1.713436</td>\n",
       "      <td>1.915900</td>\n",
       "    </tr>\n",
       "    <tr>\n",
       "      <th>25</th>\n",
       "      <td>1.473537</td>\n",
       "      <td>0.546914</td>\n",
       "      <td>-0.042097</td>\n",
       "      <td>1.818889</td>\n",
       "      <td>1.279687</td>\n",
       "      <td>2.330350</td>\n",
       "      <td>2.683420</td>\n",
       "      <td>-0.430634</td>\n",
       "      <td>0.816186</td>\n",
       "      <td>1.275756</td>\n",
       "    </tr>\n",
       "    <tr>\n",
       "      <th>26</th>\n",
       "      <td>1.639401</td>\n",
       "      <td>2.046215</td>\n",
       "      <td>-0.217077</td>\n",
       "      <td>1.859043</td>\n",
       "      <td>-0.192452</td>\n",
       "      <td>2.957172</td>\n",
       "      <td>1.872639</td>\n",
       "      <td>-0.049271</td>\n",
       "      <td>1.763898</td>\n",
       "      <td>2.868546</td>\n",
       "    </tr>\n",
       "    <tr>\n",
       "      <th>27</th>\n",
       "      <td>1.459355</td>\n",
       "      <td>2.630187</td>\n",
       "      <td>-0.344862</td>\n",
       "      <td>2.371822</td>\n",
       "      <td>0.906580</td>\n",
       "      <td>2.551392</td>\n",
       "      <td>2.219997</td>\n",
       "      <td>2.876307</td>\n",
       "      <td>1.456556</td>\n",
       "      <td>-0.995437</td>\n",
       "    </tr>\n",
       "    <tr>\n",
       "      <th>28</th>\n",
       "      <td>1.024857</td>\n",
       "      <td>1.937545</td>\n",
       "      <td>0.352216</td>\n",
       "      <td>2.039551</td>\n",
       "      <td>2.169620</td>\n",
       "      <td>1.232969</td>\n",
       "      <td>2.878386</td>\n",
       "      <td>1.325470</td>\n",
       "      <td>1.669072</td>\n",
       "      <td>2.295882</td>\n",
       "    </tr>\n",
       "    <tr>\n",
       "      <th>29</th>\n",
       "      <td>1.658107</td>\n",
       "      <td>0.942442</td>\n",
       "      <td>0.433586</td>\n",
       "      <td>0.515194</td>\n",
       "      <td>1.705276</td>\n",
       "      <td>1.265059</td>\n",
       "      <td>2.535662</td>\n",
       "      <td>-0.278048</td>\n",
       "      <td>2.809111</td>\n",
       "      <td>3.059546</td>\n",
       "    </tr>\n",
       "    <tr>\n",
       "      <th>30</th>\n",
       "      <td>1.251792</td>\n",
       "      <td>1.602412</td>\n",
       "      <td>-1.870590</td>\n",
       "      <td>1.399411</td>\n",
       "      <td>0.821454</td>\n",
       "      <td>1.167529</td>\n",
       "      <td>0.341405</td>\n",
       "      <td>3.622783</td>\n",
       "      <td>2.459784</td>\n",
       "      <td>0.246560</td>\n",
       "    </tr>\n",
       "    <tr>\n",
       "      <th>...</th>\n",
       "      <td>...</td>\n",
       "      <td>...</td>\n",
       "      <td>...</td>\n",
       "      <td>...</td>\n",
       "      <td>...</td>\n",
       "      <td>...</td>\n",
       "      <td>...</td>\n",
       "      <td>...</td>\n",
       "      <td>...</td>\n",
       "      <td>...</td>\n",
       "    </tr>\n",
       "    <tr>\n",
       "      <th>3870</th>\n",
       "      <td>1.019225</td>\n",
       "      <td>1.193312</td>\n",
       "      <td>0.902093</td>\n",
       "      <td>2.272948</td>\n",
       "      <td>2.252179</td>\n",
       "      <td>1.457221</td>\n",
       "      <td>1.427417</td>\n",
       "      <td>2.665295</td>\n",
       "      <td>1.604035</td>\n",
       "      <td>1.191468</td>\n",
       "    </tr>\n",
       "    <tr>\n",
       "      <th>3871</th>\n",
       "      <td>0.335096</td>\n",
       "      <td>2.308927</td>\n",
       "      <td>1.924548</td>\n",
       "      <td>1.874849</td>\n",
       "      <td>4.003611</td>\n",
       "      <td>2.474219</td>\n",
       "      <td>0.595983</td>\n",
       "      <td>2.122044</td>\n",
       "      <td>0.704314</td>\n",
       "      <td>2.369945</td>\n",
       "    </tr>\n",
       "    <tr>\n",
       "      <th>3872</th>\n",
       "      <td>0.335591</td>\n",
       "      <td>2.309155</td>\n",
       "      <td>1.923614</td>\n",
       "      <td>1.874807</td>\n",
       "      <td>4.005403</td>\n",
       "      <td>2.472800</td>\n",
       "      <td>0.595878</td>\n",
       "      <td>2.121729</td>\n",
       "      <td>0.703321</td>\n",
       "      <td>2.370517</td>\n",
       "    </tr>\n",
       "    <tr>\n",
       "      <th>3873</th>\n",
       "      <td>0.334480</td>\n",
       "      <td>2.309566</td>\n",
       "      <td>1.925671</td>\n",
       "      <td>1.875454</td>\n",
       "      <td>4.005377</td>\n",
       "      <td>2.473771</td>\n",
       "      <td>0.595554</td>\n",
       "      <td>2.120646</td>\n",
       "      <td>0.704348</td>\n",
       "      <td>2.371600</td>\n",
       "    </tr>\n",
       "    <tr>\n",
       "      <th>3874</th>\n",
       "      <td>0.348530</td>\n",
       "      <td>0.735673</td>\n",
       "      <td>1.017101</td>\n",
       "      <td>2.000742</td>\n",
       "      <td>4.401993</td>\n",
       "      <td>2.647483</td>\n",
       "      <td>0.743447</td>\n",
       "      <td>1.891581</td>\n",
       "      <td>0.955941</td>\n",
       "      <td>1.961521</td>\n",
       "    </tr>\n",
       "    <tr>\n",
       "      <th>3875</th>\n",
       "      <td>1.020355</td>\n",
       "      <td>1.192214</td>\n",
       "      <td>0.901586</td>\n",
       "      <td>2.272252</td>\n",
       "      <td>2.252650</td>\n",
       "      <td>1.458070</td>\n",
       "      <td>1.428652</td>\n",
       "      <td>2.663288</td>\n",
       "      <td>1.604969</td>\n",
       "      <td>1.191945</td>\n",
       "    </tr>\n",
       "    <tr>\n",
       "      <th>3876</th>\n",
       "      <td>1.930687</td>\n",
       "      <td>4.268191</td>\n",
       "      <td>0.851227</td>\n",
       "      <td>0.332506</td>\n",
       "      <td>1.170928</td>\n",
       "      <td>1.731095</td>\n",
       "      <td>1.701983</td>\n",
       "      <td>1.973803</td>\n",
       "      <td>2.586843</td>\n",
       "      <td>0.717338</td>\n",
       "    </tr>\n",
       "    <tr>\n",
       "      <th>3877</th>\n",
       "      <td>0.474812</td>\n",
       "      <td>1.601980</td>\n",
       "      <td>-0.461437</td>\n",
       "      <td>1.509115</td>\n",
       "      <td>0.015534</td>\n",
       "      <td>2.324079</td>\n",
       "      <td>1.665465</td>\n",
       "      <td>2.718786</td>\n",
       "      <td>-0.029856</td>\n",
       "      <td>2.172759</td>\n",
       "    </tr>\n",
       "    <tr>\n",
       "      <th>3878</th>\n",
       "      <td>0.505686</td>\n",
       "      <td>2.061477</td>\n",
       "      <td>1.082811</td>\n",
       "      <td>3.753012</td>\n",
       "      <td>1.326199</td>\n",
       "      <td>1.854134</td>\n",
       "      <td>0.166853</td>\n",
       "      <td>1.273237</td>\n",
       "      <td>0.737338</td>\n",
       "      <td>1.886515</td>\n",
       "    </tr>\n",
       "    <tr>\n",
       "      <th>3879</th>\n",
       "      <td>0.740544</td>\n",
       "      <td>0.344140</td>\n",
       "      <td>2.688010</td>\n",
       "      <td>2.411387</td>\n",
       "      <td>3.132472</td>\n",
       "      <td>3.388378</td>\n",
       "      <td>-0.567950</td>\n",
       "      <td>2.053304</td>\n",
       "      <td>3.602409</td>\n",
       "      <td>3.415349</td>\n",
       "    </tr>\n",
       "    <tr>\n",
       "      <th>3880</th>\n",
       "      <td>1.728430</td>\n",
       "      <td>1.364913</td>\n",
       "      <td>0.538123</td>\n",
       "      <td>0.321430</td>\n",
       "      <td>0.194507</td>\n",
       "      <td>2.580866</td>\n",
       "      <td>3.250770</td>\n",
       "      <td>1.244943</td>\n",
       "      <td>1.848785</td>\n",
       "      <td>3.461475</td>\n",
       "    </tr>\n",
       "    <tr>\n",
       "      <th>3881</th>\n",
       "      <td>1.048275</td>\n",
       "      <td>2.634854</td>\n",
       "      <td>0.806419</td>\n",
       "      <td>3.435068</td>\n",
       "      <td>2.178884</td>\n",
       "      <td>1.925087</td>\n",
       "      <td>0.332881</td>\n",
       "      <td>2.144776</td>\n",
       "      <td>1.423504</td>\n",
       "      <td>3.742032</td>\n",
       "    </tr>\n",
       "    <tr>\n",
       "      <th>3882</th>\n",
       "      <td>1.078844</td>\n",
       "      <td>3.453368</td>\n",
       "      <td>0.076287</td>\n",
       "      <td>1.508527</td>\n",
       "      <td>1.664572</td>\n",
       "      <td>0.276547</td>\n",
       "      <td>2.199685</td>\n",
       "      <td>1.964414</td>\n",
       "      <td>0.341538</td>\n",
       "      <td>2.935147</td>\n",
       "    </tr>\n",
       "    <tr>\n",
       "      <th>3883</th>\n",
       "      <td>1.917337</td>\n",
       "      <td>-0.930853</td>\n",
       "      <td>0.996980</td>\n",
       "      <td>1.725674</td>\n",
       "      <td>0.525228</td>\n",
       "      <td>1.833306</td>\n",
       "      <td>2.070690</td>\n",
       "      <td>3.615226</td>\n",
       "      <td>-0.037098</td>\n",
       "      <td>2.427699</td>\n",
       "    </tr>\n",
       "    <tr>\n",
       "      <th>3884</th>\n",
       "      <td>0.876289</td>\n",
       "      <td>3.786704</td>\n",
       "      <td>1.537283</td>\n",
       "      <td>2.287464</td>\n",
       "      <td>2.101082</td>\n",
       "      <td>1.185513</td>\n",
       "      <td>2.123044</td>\n",
       "      <td>2.182446</td>\n",
       "      <td>1.824132</td>\n",
       "      <td>0.500422</td>\n",
       "    </tr>\n",
       "    <tr>\n",
       "      <th>3885</th>\n",
       "      <td>1.383083</td>\n",
       "      <td>2.543598</td>\n",
       "      <td>0.688449</td>\n",
       "      <td>0.376131</td>\n",
       "      <td>1.343859</td>\n",
       "      <td>-0.828044</td>\n",
       "      <td>2.120323</td>\n",
       "      <td>2.061787</td>\n",
       "      <td>2.924084</td>\n",
       "      <td>3.231695</td>\n",
       "    </tr>\n",
       "    <tr>\n",
       "      <th>3886</th>\n",
       "      <td>3.310100</td>\n",
       "      <td>2.416606</td>\n",
       "      <td>2.529562</td>\n",
       "      <td>1.876973</td>\n",
       "      <td>0.917203</td>\n",
       "      <td>1.125199</td>\n",
       "      <td>1.070149</td>\n",
       "      <td>0.356195</td>\n",
       "      <td>1.468360</td>\n",
       "      <td>0.916791</td>\n",
       "    </tr>\n",
       "    <tr>\n",
       "      <th>3887</th>\n",
       "      <td>2.091652</td>\n",
       "      <td>1.218205</td>\n",
       "      <td>0.721483</td>\n",
       "      <td>1.545127</td>\n",
       "      <td>2.104054</td>\n",
       "      <td>2.106830</td>\n",
       "      <td>0.527548</td>\n",
       "      <td>1.255009</td>\n",
       "      <td>1.938591</td>\n",
       "      <td>3.982678</td>\n",
       "    </tr>\n",
       "    <tr>\n",
       "      <th>3888</th>\n",
       "      <td>0.806253</td>\n",
       "      <td>1.872338</td>\n",
       "      <td>-0.754431</td>\n",
       "      <td>1.402215</td>\n",
       "      <td>2.639640</td>\n",
       "      <td>1.154828</td>\n",
       "      <td>2.268069</td>\n",
       "      <td>1.329066</td>\n",
       "      <td>1.812908</td>\n",
       "      <td>1.935430</td>\n",
       "    </tr>\n",
       "    <tr>\n",
       "      <th>3889</th>\n",
       "      <td>1.235349</td>\n",
       "      <td>1.051476</td>\n",
       "      <td>-0.391923</td>\n",
       "      <td>2.159301</td>\n",
       "      <td>1.777896</td>\n",
       "      <td>1.563618</td>\n",
       "      <td>0.680641</td>\n",
       "      <td>2.349513</td>\n",
       "      <td>2.037514</td>\n",
       "      <td>0.607854</td>\n",
       "    </tr>\n",
       "    <tr>\n",
       "      <th>3890</th>\n",
       "      <td>0.738868</td>\n",
       "      <td>1.926087</td>\n",
       "      <td>1.625370</td>\n",
       "      <td>1.757665</td>\n",
       "      <td>2.497386</td>\n",
       "      <td>2.514644</td>\n",
       "      <td>1.530073</td>\n",
       "      <td>0.920211</td>\n",
       "      <td>2.653256</td>\n",
       "      <td>0.592018</td>\n",
       "    </tr>\n",
       "    <tr>\n",
       "      <th>3891</th>\n",
       "      <td>0.507249</td>\n",
       "      <td>3.209559</td>\n",
       "      <td>1.557884</td>\n",
       "      <td>0.480894</td>\n",
       "      <td>1.868854</td>\n",
       "      <td>2.940405</td>\n",
       "      <td>1.408140</td>\n",
       "      <td>2.921752</td>\n",
       "      <td>1.895002</td>\n",
       "      <td>1.742910</td>\n",
       "    </tr>\n",
       "    <tr>\n",
       "      <th>3892</th>\n",
       "      <td>2.036745</td>\n",
       "      <td>-1.750213</td>\n",
       "      <td>1.445415</td>\n",
       "      <td>2.246989</td>\n",
       "      <td>1.073383</td>\n",
       "      <td>0.787468</td>\n",
       "      <td>1.294545</td>\n",
       "      <td>3.938580</td>\n",
       "      <td>1.793748</td>\n",
       "      <td>2.381891</td>\n",
       "    </tr>\n",
       "    <tr>\n",
       "      <th>3893</th>\n",
       "      <td>2.586599</td>\n",
       "      <td>3.081292</td>\n",
       "      <td>-1.208727</td>\n",
       "      <td>-0.340697</td>\n",
       "      <td>3.625483</td>\n",
       "      <td>1.475672</td>\n",
       "      <td>3.117439</td>\n",
       "      <td>1.175209</td>\n",
       "      <td>0.983974</td>\n",
       "      <td>2.237024</td>\n",
       "    </tr>\n",
       "    <tr>\n",
       "      <th>3894</th>\n",
       "      <td>0.682371</td>\n",
       "      <td>2.979716</td>\n",
       "      <td>-0.748194</td>\n",
       "      <td>2.866981</td>\n",
       "      <td>-0.327579</td>\n",
       "      <td>0.732169</td>\n",
       "      <td>1.485806</td>\n",
       "      <td>3.432144</td>\n",
       "      <td>2.597148</td>\n",
       "      <td>1.698505</td>\n",
       "    </tr>\n",
       "    <tr>\n",
       "      <th>3895</th>\n",
       "      <td>2.291559</td>\n",
       "      <td>0.908724</td>\n",
       "      <td>1.883947</td>\n",
       "      <td>0.311585</td>\n",
       "      <td>0.465489</td>\n",
       "      <td>1.658326</td>\n",
       "      <td>2.683144</td>\n",
       "      <td>0.715622</td>\n",
       "      <td>2.054202</td>\n",
       "      <td>1.546881</td>\n",
       "    </tr>\n",
       "    <tr>\n",
       "      <th>3896</th>\n",
       "      <td>1.430078</td>\n",
       "      <td>3.112529</td>\n",
       "      <td>-1.086722</td>\n",
       "      <td>2.459663</td>\n",
       "      <td>0.487689</td>\n",
       "      <td>0.637151</td>\n",
       "      <td>3.811204</td>\n",
       "      <td>2.285113</td>\n",
       "      <td>0.973630</td>\n",
       "      <td>2.517101</td>\n",
       "    </tr>\n",
       "    <tr>\n",
       "      <th>3897</th>\n",
       "      <td>1.553217</td>\n",
       "      <td>1.582684</td>\n",
       "      <td>-0.957515</td>\n",
       "      <td>0.859735</td>\n",
       "      <td>0.954570</td>\n",
       "      <td>1.498707</td>\n",
       "      <td>2.850958</td>\n",
       "      <td>1.749619</td>\n",
       "      <td>0.967840</td>\n",
       "      <td>2.681875</td>\n",
       "    </tr>\n",
       "    <tr>\n",
       "      <th>3898</th>\n",
       "      <td>-0.051509</td>\n",
       "      <td>2.009844</td>\n",
       "      <td>-0.878493</td>\n",
       "      <td>1.742059</td>\n",
       "      <td>1.282198</td>\n",
       "      <td>2.497140</td>\n",
       "      <td>2.665995</td>\n",
       "      <td>1.816704</td>\n",
       "      <td>2.472098</td>\n",
       "      <td>2.611021</td>\n",
       "    </tr>\n",
       "    <tr>\n",
       "      <th>3899</th>\n",
       "      <td>1.038188</td>\n",
       "      <td>2.995728</td>\n",
       "      <td>-0.698313</td>\n",
       "      <td>2.114634</td>\n",
       "      <td>0.869592</td>\n",
       "      <td>1.735747</td>\n",
       "      <td>1.076622</td>\n",
       "      <td>2.366753</td>\n",
       "      <td>1.045088</td>\n",
       "      <td>1.093424</td>\n",
       "    </tr>\n",
       "  </tbody>\n",
       "</table>\n",
       "<p>3840 rows × 10 columns</p>\n",
       "</div>"
      ],
      "text/plain": [
       "             0         1         2         3         4         5         6  \\\n",
       "idx                                                                          \n",
       "1     1.725415  1.860726  1.094339  1.904492  2.667527  2.063353  0.110501   \n",
       "2     1.149049  2.697435  2.146635  0.953344  0.889996  1.926220  2.849371   \n",
       "3     2.332826  3.079767  0.564712 -0.293208  1.597766  1.492999 -0.181234   \n",
       "4     1.433658  1.872244  0.170449  1.501157  0.718400  2.347414  0.301095   \n",
       "5     0.360428  3.748731  0.398935  1.542095  1.238925  2.765910  0.417879   \n",
       "6     0.922781  2.139887  0.712666  0.953295  1.638203  1.301222  1.823566   \n",
       "7     0.925396  2.139497  0.713516  0.952148  1.638541  1.299869  1.823096   \n",
       "8     0.316205  1.735644  1.065596  1.510530  1.192532  1.246527  0.950011   \n",
       "9     1.650097  2.751754 -0.244645  1.138255  0.113905  1.297428  1.279862   \n",
       "10    3.077134  1.648168  0.782430  0.315536 -0.365811  1.872779  2.082955   \n",
       "11    2.724910  0.998977  0.204889  0.651145 -0.122599  2.671973  1.813488   \n",
       "12    2.765453  2.185826 -0.263335  0.267780  1.065423  1.338698  1.913110   \n",
       "13    0.974640 -0.891820  1.817308  1.350410  1.160371  0.477309  2.557290   \n",
       "14    0.488628  2.131728  0.716414  0.330149  1.348647 -1.448234  3.239399   \n",
       "15    0.293834 -0.808393  1.183206  2.575158  3.644793  2.275290 -0.263615   \n",
       "16    0.296454  3.507702  1.606733  3.308431  2.960998  0.065455  1.688415   \n",
       "17    1.376801  3.283588  1.479113  3.005979  2.383787  0.124610  2.211004   \n",
       "18    0.583778  0.128540  0.929885  2.002810  2.193622  1.979479  0.569550   \n",
       "19    0.296531 -0.809927  1.186699  2.574413  3.647480  2.275134 -0.261222   \n",
       "20    0.585081  0.127047  0.928608  2.001802  2.195773  1.979318  0.570166   \n",
       "21    1.517072  2.772945  1.266145  3.027358  2.418000  0.277122  1.954822   \n",
       "22   -0.524788  2.695220  0.455658  3.998882  1.116463  0.697456  1.440353   \n",
       "23    0.905996  2.815089 -0.031064  2.155789  1.886242  3.474334  1.009215   \n",
       "24    1.111370 -0.614641 -0.404606  1.542257  0.005653  1.749808  3.147922   \n",
       "25    1.473537  0.546914 -0.042097  1.818889  1.279687  2.330350  2.683420   \n",
       "26    1.639401  2.046215 -0.217077  1.859043 -0.192452  2.957172  1.872639   \n",
       "27    1.459355  2.630187 -0.344862  2.371822  0.906580  2.551392  2.219997   \n",
       "28    1.024857  1.937545  0.352216  2.039551  2.169620  1.232969  2.878386   \n",
       "29    1.658107  0.942442  0.433586  0.515194  1.705276  1.265059  2.535662   \n",
       "30    1.251792  1.602412 -1.870590  1.399411  0.821454  1.167529  0.341405   \n",
       "...        ...       ...       ...       ...       ...       ...       ...   \n",
       "3870  1.019225  1.193312  0.902093  2.272948  2.252179  1.457221  1.427417   \n",
       "3871  0.335096  2.308927  1.924548  1.874849  4.003611  2.474219  0.595983   \n",
       "3872  0.335591  2.309155  1.923614  1.874807  4.005403  2.472800  0.595878   \n",
       "3873  0.334480  2.309566  1.925671  1.875454  4.005377  2.473771  0.595554   \n",
       "3874  0.348530  0.735673  1.017101  2.000742  4.401993  2.647483  0.743447   \n",
       "3875  1.020355  1.192214  0.901586  2.272252  2.252650  1.458070  1.428652   \n",
       "3876  1.930687  4.268191  0.851227  0.332506  1.170928  1.731095  1.701983   \n",
       "3877  0.474812  1.601980 -0.461437  1.509115  0.015534  2.324079  1.665465   \n",
       "3878  0.505686  2.061477  1.082811  3.753012  1.326199  1.854134  0.166853   \n",
       "3879  0.740544  0.344140  2.688010  2.411387  3.132472  3.388378 -0.567950   \n",
       "3880  1.728430  1.364913  0.538123  0.321430  0.194507  2.580866  3.250770   \n",
       "3881  1.048275  2.634854  0.806419  3.435068  2.178884  1.925087  0.332881   \n",
       "3882  1.078844  3.453368  0.076287  1.508527  1.664572  0.276547  2.199685   \n",
       "3883  1.917337 -0.930853  0.996980  1.725674  0.525228  1.833306  2.070690   \n",
       "3884  0.876289  3.786704  1.537283  2.287464  2.101082  1.185513  2.123044   \n",
       "3885  1.383083  2.543598  0.688449  0.376131  1.343859 -0.828044  2.120323   \n",
       "3886  3.310100  2.416606  2.529562  1.876973  0.917203  1.125199  1.070149   \n",
       "3887  2.091652  1.218205  0.721483  1.545127  2.104054  2.106830  0.527548   \n",
       "3888  0.806253  1.872338 -0.754431  1.402215  2.639640  1.154828  2.268069   \n",
       "3889  1.235349  1.051476 -0.391923  2.159301  1.777896  1.563618  0.680641   \n",
       "3890  0.738868  1.926087  1.625370  1.757665  2.497386  2.514644  1.530073   \n",
       "3891  0.507249  3.209559  1.557884  0.480894  1.868854  2.940405  1.408140   \n",
       "3892  2.036745 -1.750213  1.445415  2.246989  1.073383  0.787468  1.294545   \n",
       "3893  2.586599  3.081292 -1.208727 -0.340697  3.625483  1.475672  3.117439   \n",
       "3894  0.682371  2.979716 -0.748194  2.866981 -0.327579  0.732169  1.485806   \n",
       "3895  2.291559  0.908724  1.883947  0.311585  0.465489  1.658326  2.683144   \n",
       "3896  1.430078  3.112529 -1.086722  2.459663  0.487689  0.637151  3.811204   \n",
       "3897  1.553217  1.582684 -0.957515  0.859735  0.954570  1.498707  2.850958   \n",
       "3898 -0.051509  2.009844 -0.878493  1.742059  1.282198  2.497140  2.665995   \n",
       "3899  1.038188  2.995728 -0.698313  2.114634  0.869592  1.735747  1.076622   \n",
       "\n",
       "             7         8         9  \n",
       "idx                                 \n",
       "1     2.909705  1.102630  2.768591  \n",
       "2     0.663232  3.327414  1.262859  \n",
       "3     1.992894  1.669630  1.052424  \n",
       "4     1.858307  1.059783  0.965243  \n",
       "5     3.167239  2.219168 -0.671358  \n",
       "6     2.379840  2.199264  1.297626  \n",
       "7     2.380738  2.200107  1.298883  \n",
       "8     2.508864  1.648035  2.462172  \n",
       "9     1.420418  0.057090  1.245410  \n",
       "10    2.352977  0.516201  0.725072  \n",
       "11    2.766923  0.122837  0.852338  \n",
       "12    2.233553 -0.709454 -0.192675  \n",
       "13    2.769628  2.511815  1.510578  \n",
       "14    1.949420  1.115819  1.580575  \n",
       "15    3.035974  1.351648  3.741263  \n",
       "16    1.695970  0.269835  2.113972  \n",
       "17    2.180461  1.844044  1.262039  \n",
       "18    3.654182  1.346244  3.342302  \n",
       "19    3.037269  1.349704  3.740584  \n",
       "20    3.651622  1.348216  3.345534  \n",
       "21    2.042333  2.766406  1.850115  \n",
       "22    1.518762  0.195914  2.369915  \n",
       "23    0.889144  2.254723  2.041569  \n",
       "24   -0.809579  1.713436  1.915900  \n",
       "25   -0.430634  0.816186  1.275756  \n",
       "26   -0.049271  1.763898  2.868546  \n",
       "27    2.876307  1.456556 -0.995437  \n",
       "28    1.325470  1.669072  2.295882  \n",
       "29   -0.278048  2.809111  3.059546  \n",
       "30    3.622783  2.459784  0.246560  \n",
       "...        ...       ...       ...  \n",
       "3870  2.665295  1.604035  1.191468  \n",
       "3871  2.122044  0.704314  2.369945  \n",
       "3872  2.121729  0.703321  2.370517  \n",
       "3873  2.120646  0.704348  2.371600  \n",
       "3874  1.891581  0.955941  1.961521  \n",
       "3875  2.663288  1.604969  1.191945  \n",
       "3876  1.973803  2.586843  0.717338  \n",
       "3877  2.718786 -0.029856  2.172759  \n",
       "3878  1.273237  0.737338  1.886515  \n",
       "3879  2.053304  3.602409  3.415349  \n",
       "3880  1.244943  1.848785  3.461475  \n",
       "3881  2.144776  1.423504  3.742032  \n",
       "3882  1.964414  0.341538  2.935147  \n",
       "3883  3.615226 -0.037098  2.427699  \n",
       "3884  2.182446  1.824132  0.500422  \n",
       "3885  2.061787  2.924084  3.231695  \n",
       "3886  0.356195  1.468360  0.916791  \n",
       "3887  1.255009  1.938591  3.982678  \n",
       "3888  1.329066  1.812908  1.935430  \n",
       "3889  2.349513  2.037514  0.607854  \n",
       "3890  0.920211  2.653256  0.592018  \n",
       "3891  2.921752  1.895002  1.742910  \n",
       "3892  3.938580  1.793748  2.381891  \n",
       "3893  1.175209  0.983974  2.237024  \n",
       "3894  3.432144  2.597148  1.698505  \n",
       "3895  0.715622  2.054202  1.546881  \n",
       "3896  2.285113  0.973630  2.517101  \n",
       "3897  1.749619  0.967840  2.681875  \n",
       "3898  1.816704  2.472098  2.611021  \n",
       "3899  2.366753  1.045088  1.093424  \n",
       "\n",
       "[3840 rows x 10 columns]"
      ]
     },
     "execution_count": 66,
     "metadata": {},
     "output_type": "execute_result"
    }
   ],
   "source": [
    "preds.set_index('idx')"
   ]
  },
  {
   "cell_type": "code",
   "execution_count": 70,
   "metadata": {
    "collapsed": false
   },
   "outputs": [],
   "source": [
    "data_s['pred'] = np.nan"
   ]
  },
  {
   "cell_type": "code",
   "execution_count": 73,
   "metadata": {
    "collapsed": false
   },
   "outputs": [
    {
     "data": {
      "text/plain": [
       "0         1.746116\n",
       "1         1.805960\n",
       "2         1.482598\n",
       "3         1.475250\n",
       "4         1.835269\n",
       "5         1.942577\n",
       "6         2.033799\n",
       "7         2.057829\n",
       "8         1.791779\n",
       "9         2.091585\n",
       "10        2.153171\n",
       "11        2.054944\n",
       "12        2.476139\n",
       "13        2.313868\n",
       "14        2.911742\n",
       "15        3.046724\n",
       "16        3.286493\n",
       "17        3.157308\n",
       "18        3.276060\n",
       "19        3.339379\n",
       "20        3.717483\n",
       "21        3.269440\n",
       "22        3.672821\n",
       "23        3.032502\n",
       "24        3.341092\n",
       "25        3.686192\n",
       "26        3.830172\n",
       "27        4.084142\n",
       "28        3.967812\n",
       "29        3.731140\n",
       "           ...    \n",
       "3810    353.271381\n",
       "3811    353.610321\n",
       "3812    353.701165\n",
       "3813    353.792406\n",
       "3814    353.700365\n",
       "3815    353.725998\n",
       "3816    353.933145\n",
       "3817    353.544658\n",
       "3818    353.877024\n",
       "3819    354.564368\n",
       "3820    354.230386\n",
       "3821    354.606525\n",
       "3822    354.318084\n",
       "3823    354.285835\n",
       "3824    354.764034\n",
       "3825    354.622270\n",
       "3826    354.726103\n",
       "3827    354.953743\n",
       "3828    354.769665\n",
       "3829    354.733749\n",
       "3830    355.159598\n",
       "3831    355.412059\n",
       "3832    355.204414\n",
       "3833    355.430297\n",
       "3834    355.399915\n",
       "3835    355.410862\n",
       "3836    355.693403\n",
       "3837    355.521972\n",
       "3838    355.833369\n",
       "3839    355.694315\n",
       "dtype: float64"
      ]
     },
     "execution_count": 73,
     "metadata": {},
     "output_type": "execute_result"
    }
   ],
   "source": [
    "preds.mean(axis=1)"
   ]
  },
  {
   "cell_type": "code",
   "execution_count": 75,
   "metadata": {
    "collapsed": false
   },
   "outputs": [
    {
     "name": "stderr",
     "output_type": "stream",
     "text": [
      "/opt/conda/envs/biospytial/lib/python2.7/site-packages/pandas/core/indexing.py:140: SettingWithCopyWarning: \n",
      "A value is trying to be set on a copy of a slice from a DataFrame\n",
      "\n",
      "See the caveats in the documentation: http://pandas.pydata.org/pandas-docs/stable/indexing.html#indexing-view-versus-copy\n",
      "  self._setitem_with_indexer(indexer, value)\n"
     ]
    }
   ],
   "source": [
    "data_s.pred.loc[preds.idx] = preds.mean(axis=1)"
   ]
  },
  {
   "cell_type": "code",
   "execution_count": 46,
   "metadata": {
    "collapsed": false
   },
   "outputs": [
    {
     "ename": "AttributeError",
     "evalue": "'DataFrame' object has no attribute 'idx'",
     "output_type": "error",
     "traceback": [
      "\u001b[0;31m\u001b[0m",
      "\u001b[0;31mAttributeError\u001b[0mTraceback (most recent call last)",
      "\u001b[0;32m<ipython-input-46-bdf1c9fecb25>\u001b[0m in \u001b[0;36m<module>\u001b[0;34m()\u001b[0m\n\u001b[0;32m----> 1\u001b[0;31m \u001b[0mpreds\u001b[0m\u001b[0;34m.\u001b[0m\u001b[0midx\u001b[0m\u001b[0;31m#data_star['pred'] = preds.mean()\u001b[0m\u001b[0;34m\u001b[0m\u001b[0m\n\u001b[0m",
      "\u001b[0;32m/opt/conda/envs/biospytial/lib/python2.7/site-packages/pandas/core/generic.pyc\u001b[0m in \u001b[0;36m__getattr__\u001b[0;34m(self, name)\u001b[0m\n\u001b[1;32m   2742\u001b[0m             \u001b[0;32mif\u001b[0m \u001b[0mname\u001b[0m \u001b[0;32min\u001b[0m \u001b[0mself\u001b[0m\u001b[0;34m.\u001b[0m\u001b[0m_info_axis\u001b[0m\u001b[0;34m:\u001b[0m\u001b[0;34m\u001b[0m\u001b[0m\n\u001b[1;32m   2743\u001b[0m                 \u001b[0;32mreturn\u001b[0m \u001b[0mself\u001b[0m\u001b[0;34m[\u001b[0m\u001b[0mname\u001b[0m\u001b[0;34m]\u001b[0m\u001b[0;34m\u001b[0m\u001b[0m\n\u001b[0;32m-> 2744\u001b[0;31m             \u001b[0;32mreturn\u001b[0m \u001b[0mobject\u001b[0m\u001b[0;34m.\u001b[0m\u001b[0m__getattribute__\u001b[0m\u001b[0;34m(\u001b[0m\u001b[0mself\u001b[0m\u001b[0;34m,\u001b[0m \u001b[0mname\u001b[0m\u001b[0;34m)\u001b[0m\u001b[0;34m\u001b[0m\u001b[0m\n\u001b[0m\u001b[1;32m   2745\u001b[0m \u001b[0;34m\u001b[0m\u001b[0m\n\u001b[1;32m   2746\u001b[0m     \u001b[0;32mdef\u001b[0m \u001b[0m__setattr__\u001b[0m\u001b[0;34m(\u001b[0m\u001b[0mself\u001b[0m\u001b[0;34m,\u001b[0m \u001b[0mname\u001b[0m\u001b[0;34m,\u001b[0m \u001b[0mvalue\u001b[0m\u001b[0;34m)\u001b[0m\u001b[0;34m:\u001b[0m\u001b[0;34m\u001b[0m\u001b[0m\n",
      "\u001b[0;31mAttributeError\u001b[0m: 'DataFrame' object has no attribute 'idx'"
     ]
    }
   ],
   "source": [
    "#preds.idx\n",
    "#data_star['pred'] = preds.mean()"
   ]
  },
  {
   "cell_type": "code",
   "execution_count": 52,
   "metadata": {
    "collapsed": false
   },
   "outputs": [
    {
     "data": {
      "text/html": [
       "<div>\n",
       "<table border=\"1\" class=\"dataframe\">\n",
       "  <thead>\n",
       "    <tr style=\"text-align: right;\">\n",
       "      <th></th>\n",
       "      <th>0</th>\n",
       "      <th>1</th>\n",
       "      <th>2</th>\n",
       "      <th>3</th>\n",
       "      <th>4</th>\n",
       "      <th>5</th>\n",
       "      <th>6</th>\n",
       "      <th>7</th>\n",
       "      <th>8</th>\n",
       "      <th>9</th>\n",
       "      <th>idx</th>\n",
       "    </tr>\n",
       "  </thead>\n",
       "  <tbody>\n",
       "    <tr>\n",
       "      <th>1</th>\n",
       "      <td>1.725415</td>\n",
       "      <td>1.860726</td>\n",
       "      <td>1.094339</td>\n",
       "      <td>1.904492</td>\n",
       "      <td>2.667527</td>\n",
       "      <td>2.063353</td>\n",
       "      <td>0.110501</td>\n",
       "      <td>2.909705</td>\n",
       "      <td>1.102630</td>\n",
       "      <td>2.768591</td>\n",
       "      <td>1</td>\n",
       "    </tr>\n",
       "    <tr>\n",
       "      <th>2</th>\n",
       "      <td>1.149049</td>\n",
       "      <td>2.697435</td>\n",
       "      <td>2.146635</td>\n",
       "      <td>0.953344</td>\n",
       "      <td>0.889996</td>\n",
       "      <td>1.926220</td>\n",
       "      <td>2.849371</td>\n",
       "      <td>0.663232</td>\n",
       "      <td>3.327414</td>\n",
       "      <td>1.262859</td>\n",
       "      <td>2</td>\n",
       "    </tr>\n",
       "    <tr>\n",
       "      <th>3</th>\n",
       "      <td>2.332826</td>\n",
       "      <td>3.079767</td>\n",
       "      <td>0.564712</td>\n",
       "      <td>-0.293208</td>\n",
       "      <td>1.597766</td>\n",
       "      <td>1.492999</td>\n",
       "      <td>-0.181234</td>\n",
       "      <td>1.992894</td>\n",
       "      <td>1.669630</td>\n",
       "      <td>1.052424</td>\n",
       "      <td>3</td>\n",
       "    </tr>\n",
       "    <tr>\n",
       "      <th>4</th>\n",
       "      <td>1.433658</td>\n",
       "      <td>1.872244</td>\n",
       "      <td>0.170449</td>\n",
       "      <td>1.501157</td>\n",
       "      <td>0.718400</td>\n",
       "      <td>2.347414</td>\n",
       "      <td>0.301095</td>\n",
       "      <td>1.858307</td>\n",
       "      <td>1.059783</td>\n",
       "      <td>0.965243</td>\n",
       "      <td>4</td>\n",
       "    </tr>\n",
       "    <tr>\n",
       "      <th>5</th>\n",
       "      <td>0.360428</td>\n",
       "      <td>3.748731</td>\n",
       "      <td>0.398935</td>\n",
       "      <td>1.542095</td>\n",
       "      <td>1.238925</td>\n",
       "      <td>2.765910</td>\n",
       "      <td>0.417879</td>\n",
       "      <td>3.167239</td>\n",
       "      <td>2.219168</td>\n",
       "      <td>-0.671358</td>\n",
       "      <td>5</td>\n",
       "    </tr>\n",
       "    <tr>\n",
       "      <th>6</th>\n",
       "      <td>0.922781</td>\n",
       "      <td>2.139887</td>\n",
       "      <td>0.712666</td>\n",
       "      <td>0.953295</td>\n",
       "      <td>1.638203</td>\n",
       "      <td>1.301222</td>\n",
       "      <td>1.823566</td>\n",
       "      <td>2.379840</td>\n",
       "      <td>2.199264</td>\n",
       "      <td>1.297626</td>\n",
       "      <td>6</td>\n",
       "    </tr>\n",
       "    <tr>\n",
       "      <th>7</th>\n",
       "      <td>0.925396</td>\n",
       "      <td>2.139497</td>\n",
       "      <td>0.713516</td>\n",
       "      <td>0.952148</td>\n",
       "      <td>1.638541</td>\n",
       "      <td>1.299869</td>\n",
       "      <td>1.823096</td>\n",
       "      <td>2.380738</td>\n",
       "      <td>2.200107</td>\n",
       "      <td>1.298883</td>\n",
       "      <td>7</td>\n",
       "    </tr>\n",
       "    <tr>\n",
       "      <th>8</th>\n",
       "      <td>0.316205</td>\n",
       "      <td>1.735644</td>\n",
       "      <td>1.065596</td>\n",
       "      <td>1.510530</td>\n",
       "      <td>1.192532</td>\n",
       "      <td>1.246527</td>\n",
       "      <td>0.950011</td>\n",
       "      <td>2.508864</td>\n",
       "      <td>1.648035</td>\n",
       "      <td>2.462172</td>\n",
       "      <td>8</td>\n",
       "    </tr>\n",
       "    <tr>\n",
       "      <th>9</th>\n",
       "      <td>1.650097</td>\n",
       "      <td>2.751754</td>\n",
       "      <td>-0.244645</td>\n",
       "      <td>1.138255</td>\n",
       "      <td>0.113905</td>\n",
       "      <td>1.297428</td>\n",
       "      <td>1.279862</td>\n",
       "      <td>1.420418</td>\n",
       "      <td>0.057090</td>\n",
       "      <td>1.245410</td>\n",
       "      <td>9</td>\n",
       "    </tr>\n",
       "    <tr>\n",
       "      <th>10</th>\n",
       "      <td>3.077134</td>\n",
       "      <td>1.648168</td>\n",
       "      <td>0.782430</td>\n",
       "      <td>0.315536</td>\n",
       "      <td>-0.365811</td>\n",
       "      <td>1.872779</td>\n",
       "      <td>2.082955</td>\n",
       "      <td>2.352977</td>\n",
       "      <td>0.516201</td>\n",
       "      <td>0.725072</td>\n",
       "      <td>10</td>\n",
       "    </tr>\n",
       "    <tr>\n",
       "      <th>11</th>\n",
       "      <td>2.724910</td>\n",
       "      <td>0.998977</td>\n",
       "      <td>0.204889</td>\n",
       "      <td>0.651145</td>\n",
       "      <td>-0.122599</td>\n",
       "      <td>2.671973</td>\n",
       "      <td>1.813488</td>\n",
       "      <td>2.766923</td>\n",
       "      <td>0.122837</td>\n",
       "      <td>0.852338</td>\n",
       "      <td>11</td>\n",
       "    </tr>\n",
       "    <tr>\n",
       "      <th>12</th>\n",
       "      <td>2.765453</td>\n",
       "      <td>2.185826</td>\n",
       "      <td>-0.263335</td>\n",
       "      <td>0.267780</td>\n",
       "      <td>1.065423</td>\n",
       "      <td>1.338698</td>\n",
       "      <td>1.913110</td>\n",
       "      <td>2.233553</td>\n",
       "      <td>-0.709454</td>\n",
       "      <td>-0.192675</td>\n",
       "      <td>12</td>\n",
       "    </tr>\n",
       "    <tr>\n",
       "      <th>13</th>\n",
       "      <td>0.974640</td>\n",
       "      <td>-0.891820</td>\n",
       "      <td>1.817308</td>\n",
       "      <td>1.350410</td>\n",
       "      <td>1.160371</td>\n",
       "      <td>0.477309</td>\n",
       "      <td>2.557290</td>\n",
       "      <td>2.769628</td>\n",
       "      <td>2.511815</td>\n",
       "      <td>1.510578</td>\n",
       "      <td>13</td>\n",
       "    </tr>\n",
       "    <tr>\n",
       "      <th>14</th>\n",
       "      <td>0.488628</td>\n",
       "      <td>2.131728</td>\n",
       "      <td>0.716414</td>\n",
       "      <td>0.330149</td>\n",
       "      <td>1.348647</td>\n",
       "      <td>-1.448234</td>\n",
       "      <td>3.239399</td>\n",
       "      <td>1.949420</td>\n",
       "      <td>1.115819</td>\n",
       "      <td>1.580575</td>\n",
       "      <td>14</td>\n",
       "    </tr>\n",
       "    <tr>\n",
       "      <th>15</th>\n",
       "      <td>0.293834</td>\n",
       "      <td>-0.808393</td>\n",
       "      <td>1.183206</td>\n",
       "      <td>2.575158</td>\n",
       "      <td>3.644793</td>\n",
       "      <td>2.275290</td>\n",
       "      <td>-0.263615</td>\n",
       "      <td>3.035974</td>\n",
       "      <td>1.351648</td>\n",
       "      <td>3.741263</td>\n",
       "      <td>15</td>\n",
       "    </tr>\n",
       "    <tr>\n",
       "      <th>16</th>\n",
       "      <td>0.296454</td>\n",
       "      <td>3.507702</td>\n",
       "      <td>1.606733</td>\n",
       "      <td>3.308431</td>\n",
       "      <td>2.960998</td>\n",
       "      <td>0.065455</td>\n",
       "      <td>1.688415</td>\n",
       "      <td>1.695970</td>\n",
       "      <td>0.269835</td>\n",
       "      <td>2.113972</td>\n",
       "      <td>16</td>\n",
       "    </tr>\n",
       "    <tr>\n",
       "      <th>17</th>\n",
       "      <td>1.376801</td>\n",
       "      <td>3.283588</td>\n",
       "      <td>1.479113</td>\n",
       "      <td>3.005979</td>\n",
       "      <td>2.383787</td>\n",
       "      <td>0.124610</td>\n",
       "      <td>2.211004</td>\n",
       "      <td>2.180461</td>\n",
       "      <td>1.844044</td>\n",
       "      <td>1.262039</td>\n",
       "      <td>17</td>\n",
       "    </tr>\n",
       "    <tr>\n",
       "      <th>18</th>\n",
       "      <td>0.583778</td>\n",
       "      <td>0.128540</td>\n",
       "      <td>0.929885</td>\n",
       "      <td>2.002810</td>\n",
       "      <td>2.193622</td>\n",
       "      <td>1.979479</td>\n",
       "      <td>0.569550</td>\n",
       "      <td>3.654182</td>\n",
       "      <td>1.346244</td>\n",
       "      <td>3.342302</td>\n",
       "      <td>18</td>\n",
       "    </tr>\n",
       "    <tr>\n",
       "      <th>19</th>\n",
       "      <td>0.296531</td>\n",
       "      <td>-0.809927</td>\n",
       "      <td>1.186699</td>\n",
       "      <td>2.574413</td>\n",
       "      <td>3.647480</td>\n",
       "      <td>2.275134</td>\n",
       "      <td>-0.261222</td>\n",
       "      <td>3.037269</td>\n",
       "      <td>1.349704</td>\n",
       "      <td>3.740584</td>\n",
       "      <td>19</td>\n",
       "    </tr>\n",
       "    <tr>\n",
       "      <th>20</th>\n",
       "      <td>0.585081</td>\n",
       "      <td>0.127047</td>\n",
       "      <td>0.928608</td>\n",
       "      <td>2.001802</td>\n",
       "      <td>2.195773</td>\n",
       "      <td>1.979318</td>\n",
       "      <td>0.570166</td>\n",
       "      <td>3.651622</td>\n",
       "      <td>1.348216</td>\n",
       "      <td>3.345534</td>\n",
       "      <td>20</td>\n",
       "    </tr>\n",
       "    <tr>\n",
       "      <th>21</th>\n",
       "      <td>1.517072</td>\n",
       "      <td>2.772945</td>\n",
       "      <td>1.266145</td>\n",
       "      <td>3.027358</td>\n",
       "      <td>2.418000</td>\n",
       "      <td>0.277122</td>\n",
       "      <td>1.954822</td>\n",
       "      <td>2.042333</td>\n",
       "      <td>2.766406</td>\n",
       "      <td>1.850115</td>\n",
       "      <td>21</td>\n",
       "    </tr>\n",
       "    <tr>\n",
       "      <th>22</th>\n",
       "      <td>-0.524788</td>\n",
       "      <td>2.695220</td>\n",
       "      <td>0.455658</td>\n",
       "      <td>3.998882</td>\n",
       "      <td>1.116463</td>\n",
       "      <td>0.697456</td>\n",
       "      <td>1.440353</td>\n",
       "      <td>1.518762</td>\n",
       "      <td>0.195914</td>\n",
       "      <td>2.369915</td>\n",
       "      <td>22</td>\n",
       "    </tr>\n",
       "    <tr>\n",
       "      <th>23</th>\n",
       "      <td>0.905996</td>\n",
       "      <td>2.815089</td>\n",
       "      <td>-0.031064</td>\n",
       "      <td>2.155789</td>\n",
       "      <td>1.886242</td>\n",
       "      <td>3.474334</td>\n",
       "      <td>1.009215</td>\n",
       "      <td>0.889144</td>\n",
       "      <td>2.254723</td>\n",
       "      <td>2.041569</td>\n",
       "      <td>23</td>\n",
       "    </tr>\n",
       "    <tr>\n",
       "      <th>24</th>\n",
       "      <td>1.111370</td>\n",
       "      <td>-0.614641</td>\n",
       "      <td>-0.404606</td>\n",
       "      <td>1.542257</td>\n",
       "      <td>0.005653</td>\n",
       "      <td>1.749808</td>\n",
       "      <td>3.147922</td>\n",
       "      <td>-0.809579</td>\n",
       "      <td>1.713436</td>\n",
       "      <td>1.915900</td>\n",
       "      <td>24</td>\n",
       "    </tr>\n",
       "    <tr>\n",
       "      <th>25</th>\n",
       "      <td>1.473537</td>\n",
       "      <td>0.546914</td>\n",
       "      <td>-0.042097</td>\n",
       "      <td>1.818889</td>\n",
       "      <td>1.279687</td>\n",
       "      <td>2.330350</td>\n",
       "      <td>2.683420</td>\n",
       "      <td>-0.430634</td>\n",
       "      <td>0.816186</td>\n",
       "      <td>1.275756</td>\n",
       "      <td>25</td>\n",
       "    </tr>\n",
       "    <tr>\n",
       "      <th>26</th>\n",
       "      <td>1.639401</td>\n",
       "      <td>2.046215</td>\n",
       "      <td>-0.217077</td>\n",
       "      <td>1.859043</td>\n",
       "      <td>-0.192452</td>\n",
       "      <td>2.957172</td>\n",
       "      <td>1.872639</td>\n",
       "      <td>-0.049271</td>\n",
       "      <td>1.763898</td>\n",
       "      <td>2.868546</td>\n",
       "      <td>26</td>\n",
       "    </tr>\n",
       "    <tr>\n",
       "      <th>27</th>\n",
       "      <td>1.459355</td>\n",
       "      <td>2.630187</td>\n",
       "      <td>-0.344862</td>\n",
       "      <td>2.371822</td>\n",
       "      <td>0.906580</td>\n",
       "      <td>2.551392</td>\n",
       "      <td>2.219997</td>\n",
       "      <td>2.876307</td>\n",
       "      <td>1.456556</td>\n",
       "      <td>-0.995437</td>\n",
       "      <td>27</td>\n",
       "    </tr>\n",
       "    <tr>\n",
       "      <th>28</th>\n",
       "      <td>1.024857</td>\n",
       "      <td>1.937545</td>\n",
       "      <td>0.352216</td>\n",
       "      <td>2.039551</td>\n",
       "      <td>2.169620</td>\n",
       "      <td>1.232969</td>\n",
       "      <td>2.878386</td>\n",
       "      <td>1.325470</td>\n",
       "      <td>1.669072</td>\n",
       "      <td>2.295882</td>\n",
       "      <td>28</td>\n",
       "    </tr>\n",
       "    <tr>\n",
       "      <th>29</th>\n",
       "      <td>1.658107</td>\n",
       "      <td>0.942442</td>\n",
       "      <td>0.433586</td>\n",
       "      <td>0.515194</td>\n",
       "      <td>1.705276</td>\n",
       "      <td>1.265059</td>\n",
       "      <td>2.535662</td>\n",
       "      <td>-0.278048</td>\n",
       "      <td>2.809111</td>\n",
       "      <td>3.059546</td>\n",
       "      <td>29</td>\n",
       "    </tr>\n",
       "    <tr>\n",
       "      <th>30</th>\n",
       "      <td>1.251792</td>\n",
       "      <td>1.602412</td>\n",
       "      <td>-1.870590</td>\n",
       "      <td>1.399411</td>\n",
       "      <td>0.821454</td>\n",
       "      <td>1.167529</td>\n",
       "      <td>0.341405</td>\n",
       "      <td>3.622783</td>\n",
       "      <td>2.459784</td>\n",
       "      <td>0.246560</td>\n",
       "      <td>30</td>\n",
       "    </tr>\n",
       "    <tr>\n",
       "      <th>...</th>\n",
       "      <td>...</td>\n",
       "      <td>...</td>\n",
       "      <td>...</td>\n",
       "      <td>...</td>\n",
       "      <td>...</td>\n",
       "      <td>...</td>\n",
       "      <td>...</td>\n",
       "      <td>...</td>\n",
       "      <td>...</td>\n",
       "      <td>...</td>\n",
       "      <td>...</td>\n",
       "    </tr>\n",
       "    <tr>\n",
       "      <th>3870</th>\n",
       "      <td>1.019225</td>\n",
       "      <td>1.193312</td>\n",
       "      <td>0.902093</td>\n",
       "      <td>2.272948</td>\n",
       "      <td>2.252179</td>\n",
       "      <td>1.457221</td>\n",
       "      <td>1.427417</td>\n",
       "      <td>2.665295</td>\n",
       "      <td>1.604035</td>\n",
       "      <td>1.191468</td>\n",
       "      <td>3870</td>\n",
       "    </tr>\n",
       "    <tr>\n",
       "      <th>3871</th>\n",
       "      <td>0.335096</td>\n",
       "      <td>2.308927</td>\n",
       "      <td>1.924548</td>\n",
       "      <td>1.874849</td>\n",
       "      <td>4.003611</td>\n",
       "      <td>2.474219</td>\n",
       "      <td>0.595983</td>\n",
       "      <td>2.122044</td>\n",
       "      <td>0.704314</td>\n",
       "      <td>2.369945</td>\n",
       "      <td>3871</td>\n",
       "    </tr>\n",
       "    <tr>\n",
       "      <th>3872</th>\n",
       "      <td>0.335591</td>\n",
       "      <td>2.309155</td>\n",
       "      <td>1.923614</td>\n",
       "      <td>1.874807</td>\n",
       "      <td>4.005403</td>\n",
       "      <td>2.472800</td>\n",
       "      <td>0.595878</td>\n",
       "      <td>2.121729</td>\n",
       "      <td>0.703321</td>\n",
       "      <td>2.370517</td>\n",
       "      <td>3872</td>\n",
       "    </tr>\n",
       "    <tr>\n",
       "      <th>3873</th>\n",
       "      <td>0.334480</td>\n",
       "      <td>2.309566</td>\n",
       "      <td>1.925671</td>\n",
       "      <td>1.875454</td>\n",
       "      <td>4.005377</td>\n",
       "      <td>2.473771</td>\n",
       "      <td>0.595554</td>\n",
       "      <td>2.120646</td>\n",
       "      <td>0.704348</td>\n",
       "      <td>2.371600</td>\n",
       "      <td>3873</td>\n",
       "    </tr>\n",
       "    <tr>\n",
       "      <th>3874</th>\n",
       "      <td>0.348530</td>\n",
       "      <td>0.735673</td>\n",
       "      <td>1.017101</td>\n",
       "      <td>2.000742</td>\n",
       "      <td>4.401993</td>\n",
       "      <td>2.647483</td>\n",
       "      <td>0.743447</td>\n",
       "      <td>1.891581</td>\n",
       "      <td>0.955941</td>\n",
       "      <td>1.961521</td>\n",
       "      <td>3874</td>\n",
       "    </tr>\n",
       "    <tr>\n",
       "      <th>3875</th>\n",
       "      <td>1.020355</td>\n",
       "      <td>1.192214</td>\n",
       "      <td>0.901586</td>\n",
       "      <td>2.272252</td>\n",
       "      <td>2.252650</td>\n",
       "      <td>1.458070</td>\n",
       "      <td>1.428652</td>\n",
       "      <td>2.663288</td>\n",
       "      <td>1.604969</td>\n",
       "      <td>1.191945</td>\n",
       "      <td>3875</td>\n",
       "    </tr>\n",
       "    <tr>\n",
       "      <th>3876</th>\n",
       "      <td>1.930687</td>\n",
       "      <td>4.268191</td>\n",
       "      <td>0.851227</td>\n",
       "      <td>0.332506</td>\n",
       "      <td>1.170928</td>\n",
       "      <td>1.731095</td>\n",
       "      <td>1.701983</td>\n",
       "      <td>1.973803</td>\n",
       "      <td>2.586843</td>\n",
       "      <td>0.717338</td>\n",
       "      <td>3876</td>\n",
       "    </tr>\n",
       "    <tr>\n",
       "      <th>3877</th>\n",
       "      <td>0.474812</td>\n",
       "      <td>1.601980</td>\n",
       "      <td>-0.461437</td>\n",
       "      <td>1.509115</td>\n",
       "      <td>0.015534</td>\n",
       "      <td>2.324079</td>\n",
       "      <td>1.665465</td>\n",
       "      <td>2.718786</td>\n",
       "      <td>-0.029856</td>\n",
       "      <td>2.172759</td>\n",
       "      <td>3877</td>\n",
       "    </tr>\n",
       "    <tr>\n",
       "      <th>3878</th>\n",
       "      <td>0.505686</td>\n",
       "      <td>2.061477</td>\n",
       "      <td>1.082811</td>\n",
       "      <td>3.753012</td>\n",
       "      <td>1.326199</td>\n",
       "      <td>1.854134</td>\n",
       "      <td>0.166853</td>\n",
       "      <td>1.273237</td>\n",
       "      <td>0.737338</td>\n",
       "      <td>1.886515</td>\n",
       "      <td>3878</td>\n",
       "    </tr>\n",
       "    <tr>\n",
       "      <th>3879</th>\n",
       "      <td>0.740544</td>\n",
       "      <td>0.344140</td>\n",
       "      <td>2.688010</td>\n",
       "      <td>2.411387</td>\n",
       "      <td>3.132472</td>\n",
       "      <td>3.388378</td>\n",
       "      <td>-0.567950</td>\n",
       "      <td>2.053304</td>\n",
       "      <td>3.602409</td>\n",
       "      <td>3.415349</td>\n",
       "      <td>3879</td>\n",
       "    </tr>\n",
       "    <tr>\n",
       "      <th>3880</th>\n",
       "      <td>1.728430</td>\n",
       "      <td>1.364913</td>\n",
       "      <td>0.538123</td>\n",
       "      <td>0.321430</td>\n",
       "      <td>0.194507</td>\n",
       "      <td>2.580866</td>\n",
       "      <td>3.250770</td>\n",
       "      <td>1.244943</td>\n",
       "      <td>1.848785</td>\n",
       "      <td>3.461475</td>\n",
       "      <td>3880</td>\n",
       "    </tr>\n",
       "    <tr>\n",
       "      <th>3881</th>\n",
       "      <td>1.048275</td>\n",
       "      <td>2.634854</td>\n",
       "      <td>0.806419</td>\n",
       "      <td>3.435068</td>\n",
       "      <td>2.178884</td>\n",
       "      <td>1.925087</td>\n",
       "      <td>0.332881</td>\n",
       "      <td>2.144776</td>\n",
       "      <td>1.423504</td>\n",
       "      <td>3.742032</td>\n",
       "      <td>3881</td>\n",
       "    </tr>\n",
       "    <tr>\n",
       "      <th>3882</th>\n",
       "      <td>1.078844</td>\n",
       "      <td>3.453368</td>\n",
       "      <td>0.076287</td>\n",
       "      <td>1.508527</td>\n",
       "      <td>1.664572</td>\n",
       "      <td>0.276547</td>\n",
       "      <td>2.199685</td>\n",
       "      <td>1.964414</td>\n",
       "      <td>0.341538</td>\n",
       "      <td>2.935147</td>\n",
       "      <td>3882</td>\n",
       "    </tr>\n",
       "    <tr>\n",
       "      <th>3883</th>\n",
       "      <td>1.917337</td>\n",
       "      <td>-0.930853</td>\n",
       "      <td>0.996980</td>\n",
       "      <td>1.725674</td>\n",
       "      <td>0.525228</td>\n",
       "      <td>1.833306</td>\n",
       "      <td>2.070690</td>\n",
       "      <td>3.615226</td>\n",
       "      <td>-0.037098</td>\n",
       "      <td>2.427699</td>\n",
       "      <td>3883</td>\n",
       "    </tr>\n",
       "    <tr>\n",
       "      <th>3884</th>\n",
       "      <td>0.876289</td>\n",
       "      <td>3.786704</td>\n",
       "      <td>1.537283</td>\n",
       "      <td>2.287464</td>\n",
       "      <td>2.101082</td>\n",
       "      <td>1.185513</td>\n",
       "      <td>2.123044</td>\n",
       "      <td>2.182446</td>\n",
       "      <td>1.824132</td>\n",
       "      <td>0.500422</td>\n",
       "      <td>3884</td>\n",
       "    </tr>\n",
       "    <tr>\n",
       "      <th>3885</th>\n",
       "      <td>1.383083</td>\n",
       "      <td>2.543598</td>\n",
       "      <td>0.688449</td>\n",
       "      <td>0.376131</td>\n",
       "      <td>1.343859</td>\n",
       "      <td>-0.828044</td>\n",
       "      <td>2.120323</td>\n",
       "      <td>2.061787</td>\n",
       "      <td>2.924084</td>\n",
       "      <td>3.231695</td>\n",
       "      <td>3885</td>\n",
       "    </tr>\n",
       "    <tr>\n",
       "      <th>3886</th>\n",
       "      <td>3.310100</td>\n",
       "      <td>2.416606</td>\n",
       "      <td>2.529562</td>\n",
       "      <td>1.876973</td>\n",
       "      <td>0.917203</td>\n",
       "      <td>1.125199</td>\n",
       "      <td>1.070149</td>\n",
       "      <td>0.356195</td>\n",
       "      <td>1.468360</td>\n",
       "      <td>0.916791</td>\n",
       "      <td>3886</td>\n",
       "    </tr>\n",
       "    <tr>\n",
       "      <th>3887</th>\n",
       "      <td>2.091652</td>\n",
       "      <td>1.218205</td>\n",
       "      <td>0.721483</td>\n",
       "      <td>1.545127</td>\n",
       "      <td>2.104054</td>\n",
       "      <td>2.106830</td>\n",
       "      <td>0.527548</td>\n",
       "      <td>1.255009</td>\n",
       "      <td>1.938591</td>\n",
       "      <td>3.982678</td>\n",
       "      <td>3887</td>\n",
       "    </tr>\n",
       "    <tr>\n",
       "      <th>3888</th>\n",
       "      <td>0.806253</td>\n",
       "      <td>1.872338</td>\n",
       "      <td>-0.754431</td>\n",
       "      <td>1.402215</td>\n",
       "      <td>2.639640</td>\n",
       "      <td>1.154828</td>\n",
       "      <td>2.268069</td>\n",
       "      <td>1.329066</td>\n",
       "      <td>1.812908</td>\n",
       "      <td>1.935430</td>\n",
       "      <td>3888</td>\n",
       "    </tr>\n",
       "    <tr>\n",
       "      <th>3889</th>\n",
       "      <td>1.235349</td>\n",
       "      <td>1.051476</td>\n",
       "      <td>-0.391923</td>\n",
       "      <td>2.159301</td>\n",
       "      <td>1.777896</td>\n",
       "      <td>1.563618</td>\n",
       "      <td>0.680641</td>\n",
       "      <td>2.349513</td>\n",
       "      <td>2.037514</td>\n",
       "      <td>0.607854</td>\n",
       "      <td>3889</td>\n",
       "    </tr>\n",
       "    <tr>\n",
       "      <th>3890</th>\n",
       "      <td>0.738868</td>\n",
       "      <td>1.926087</td>\n",
       "      <td>1.625370</td>\n",
       "      <td>1.757665</td>\n",
       "      <td>2.497386</td>\n",
       "      <td>2.514644</td>\n",
       "      <td>1.530073</td>\n",
       "      <td>0.920211</td>\n",
       "      <td>2.653256</td>\n",
       "      <td>0.592018</td>\n",
       "      <td>3890</td>\n",
       "    </tr>\n",
       "    <tr>\n",
       "      <th>3891</th>\n",
       "      <td>0.507249</td>\n",
       "      <td>3.209559</td>\n",
       "      <td>1.557884</td>\n",
       "      <td>0.480894</td>\n",
       "      <td>1.868854</td>\n",
       "      <td>2.940405</td>\n",
       "      <td>1.408140</td>\n",
       "      <td>2.921752</td>\n",
       "      <td>1.895002</td>\n",
       "      <td>1.742910</td>\n",
       "      <td>3891</td>\n",
       "    </tr>\n",
       "    <tr>\n",
       "      <th>3892</th>\n",
       "      <td>2.036745</td>\n",
       "      <td>-1.750213</td>\n",
       "      <td>1.445415</td>\n",
       "      <td>2.246989</td>\n",
       "      <td>1.073383</td>\n",
       "      <td>0.787468</td>\n",
       "      <td>1.294545</td>\n",
       "      <td>3.938580</td>\n",
       "      <td>1.793748</td>\n",
       "      <td>2.381891</td>\n",
       "      <td>3892</td>\n",
       "    </tr>\n",
       "    <tr>\n",
       "      <th>3893</th>\n",
       "      <td>2.586599</td>\n",
       "      <td>3.081292</td>\n",
       "      <td>-1.208727</td>\n",
       "      <td>-0.340697</td>\n",
       "      <td>3.625483</td>\n",
       "      <td>1.475672</td>\n",
       "      <td>3.117439</td>\n",
       "      <td>1.175209</td>\n",
       "      <td>0.983974</td>\n",
       "      <td>2.237024</td>\n",
       "      <td>3893</td>\n",
       "    </tr>\n",
       "    <tr>\n",
       "      <th>3894</th>\n",
       "      <td>0.682371</td>\n",
       "      <td>2.979716</td>\n",
       "      <td>-0.748194</td>\n",
       "      <td>2.866981</td>\n",
       "      <td>-0.327579</td>\n",
       "      <td>0.732169</td>\n",
       "      <td>1.485806</td>\n",
       "      <td>3.432144</td>\n",
       "      <td>2.597148</td>\n",
       "      <td>1.698505</td>\n",
       "      <td>3894</td>\n",
       "    </tr>\n",
       "    <tr>\n",
       "      <th>3895</th>\n",
       "      <td>2.291559</td>\n",
       "      <td>0.908724</td>\n",
       "      <td>1.883947</td>\n",
       "      <td>0.311585</td>\n",
       "      <td>0.465489</td>\n",
       "      <td>1.658326</td>\n",
       "      <td>2.683144</td>\n",
       "      <td>0.715622</td>\n",
       "      <td>2.054202</td>\n",
       "      <td>1.546881</td>\n",
       "      <td>3895</td>\n",
       "    </tr>\n",
       "    <tr>\n",
       "      <th>3896</th>\n",
       "      <td>1.430078</td>\n",
       "      <td>3.112529</td>\n",
       "      <td>-1.086722</td>\n",
       "      <td>2.459663</td>\n",
       "      <td>0.487689</td>\n",
       "      <td>0.637151</td>\n",
       "      <td>3.811204</td>\n",
       "      <td>2.285113</td>\n",
       "      <td>0.973630</td>\n",
       "      <td>2.517101</td>\n",
       "      <td>3896</td>\n",
       "    </tr>\n",
       "    <tr>\n",
       "      <th>3897</th>\n",
       "      <td>1.553217</td>\n",
       "      <td>1.582684</td>\n",
       "      <td>-0.957515</td>\n",
       "      <td>0.859735</td>\n",
       "      <td>0.954570</td>\n",
       "      <td>1.498707</td>\n",
       "      <td>2.850958</td>\n",
       "      <td>1.749619</td>\n",
       "      <td>0.967840</td>\n",
       "      <td>2.681875</td>\n",
       "      <td>3897</td>\n",
       "    </tr>\n",
       "    <tr>\n",
       "      <th>3898</th>\n",
       "      <td>-0.051509</td>\n",
       "      <td>2.009844</td>\n",
       "      <td>-0.878493</td>\n",
       "      <td>1.742059</td>\n",
       "      <td>1.282198</td>\n",
       "      <td>2.497140</td>\n",
       "      <td>2.665995</td>\n",
       "      <td>1.816704</td>\n",
       "      <td>2.472098</td>\n",
       "      <td>2.611021</td>\n",
       "      <td>3898</td>\n",
       "    </tr>\n",
       "    <tr>\n",
       "      <th>3899</th>\n",
       "      <td>1.038188</td>\n",
       "      <td>2.995728</td>\n",
       "      <td>-0.698313</td>\n",
       "      <td>2.114634</td>\n",
       "      <td>0.869592</td>\n",
       "      <td>1.735747</td>\n",
       "      <td>1.076622</td>\n",
       "      <td>2.366753</td>\n",
       "      <td>1.045088</td>\n",
       "      <td>1.093424</td>\n",
       "      <td>3899</td>\n",
       "    </tr>\n",
       "  </tbody>\n",
       "</table>\n",
       "<p>3840 rows × 11 columns</p>\n",
       "</div>"
      ],
      "text/plain": [
       "             0         1         2         3         4         5         6  \\\n",
       "1     1.725415  1.860726  1.094339  1.904492  2.667527  2.063353  0.110501   \n",
       "2     1.149049  2.697435  2.146635  0.953344  0.889996  1.926220  2.849371   \n",
       "3     2.332826  3.079767  0.564712 -0.293208  1.597766  1.492999 -0.181234   \n",
       "4     1.433658  1.872244  0.170449  1.501157  0.718400  2.347414  0.301095   \n",
       "5     0.360428  3.748731  0.398935  1.542095  1.238925  2.765910  0.417879   \n",
       "6     0.922781  2.139887  0.712666  0.953295  1.638203  1.301222  1.823566   \n",
       "7     0.925396  2.139497  0.713516  0.952148  1.638541  1.299869  1.823096   \n",
       "8     0.316205  1.735644  1.065596  1.510530  1.192532  1.246527  0.950011   \n",
       "9     1.650097  2.751754 -0.244645  1.138255  0.113905  1.297428  1.279862   \n",
       "10    3.077134  1.648168  0.782430  0.315536 -0.365811  1.872779  2.082955   \n",
       "11    2.724910  0.998977  0.204889  0.651145 -0.122599  2.671973  1.813488   \n",
       "12    2.765453  2.185826 -0.263335  0.267780  1.065423  1.338698  1.913110   \n",
       "13    0.974640 -0.891820  1.817308  1.350410  1.160371  0.477309  2.557290   \n",
       "14    0.488628  2.131728  0.716414  0.330149  1.348647 -1.448234  3.239399   \n",
       "15    0.293834 -0.808393  1.183206  2.575158  3.644793  2.275290 -0.263615   \n",
       "16    0.296454  3.507702  1.606733  3.308431  2.960998  0.065455  1.688415   \n",
       "17    1.376801  3.283588  1.479113  3.005979  2.383787  0.124610  2.211004   \n",
       "18    0.583778  0.128540  0.929885  2.002810  2.193622  1.979479  0.569550   \n",
       "19    0.296531 -0.809927  1.186699  2.574413  3.647480  2.275134 -0.261222   \n",
       "20    0.585081  0.127047  0.928608  2.001802  2.195773  1.979318  0.570166   \n",
       "21    1.517072  2.772945  1.266145  3.027358  2.418000  0.277122  1.954822   \n",
       "22   -0.524788  2.695220  0.455658  3.998882  1.116463  0.697456  1.440353   \n",
       "23    0.905996  2.815089 -0.031064  2.155789  1.886242  3.474334  1.009215   \n",
       "24    1.111370 -0.614641 -0.404606  1.542257  0.005653  1.749808  3.147922   \n",
       "25    1.473537  0.546914 -0.042097  1.818889  1.279687  2.330350  2.683420   \n",
       "26    1.639401  2.046215 -0.217077  1.859043 -0.192452  2.957172  1.872639   \n",
       "27    1.459355  2.630187 -0.344862  2.371822  0.906580  2.551392  2.219997   \n",
       "28    1.024857  1.937545  0.352216  2.039551  2.169620  1.232969  2.878386   \n",
       "29    1.658107  0.942442  0.433586  0.515194  1.705276  1.265059  2.535662   \n",
       "30    1.251792  1.602412 -1.870590  1.399411  0.821454  1.167529  0.341405   \n",
       "...        ...       ...       ...       ...       ...       ...       ...   \n",
       "3870  1.019225  1.193312  0.902093  2.272948  2.252179  1.457221  1.427417   \n",
       "3871  0.335096  2.308927  1.924548  1.874849  4.003611  2.474219  0.595983   \n",
       "3872  0.335591  2.309155  1.923614  1.874807  4.005403  2.472800  0.595878   \n",
       "3873  0.334480  2.309566  1.925671  1.875454  4.005377  2.473771  0.595554   \n",
       "3874  0.348530  0.735673  1.017101  2.000742  4.401993  2.647483  0.743447   \n",
       "3875  1.020355  1.192214  0.901586  2.272252  2.252650  1.458070  1.428652   \n",
       "3876  1.930687  4.268191  0.851227  0.332506  1.170928  1.731095  1.701983   \n",
       "3877  0.474812  1.601980 -0.461437  1.509115  0.015534  2.324079  1.665465   \n",
       "3878  0.505686  2.061477  1.082811  3.753012  1.326199  1.854134  0.166853   \n",
       "3879  0.740544  0.344140  2.688010  2.411387  3.132472  3.388378 -0.567950   \n",
       "3880  1.728430  1.364913  0.538123  0.321430  0.194507  2.580866  3.250770   \n",
       "3881  1.048275  2.634854  0.806419  3.435068  2.178884  1.925087  0.332881   \n",
       "3882  1.078844  3.453368  0.076287  1.508527  1.664572  0.276547  2.199685   \n",
       "3883  1.917337 -0.930853  0.996980  1.725674  0.525228  1.833306  2.070690   \n",
       "3884  0.876289  3.786704  1.537283  2.287464  2.101082  1.185513  2.123044   \n",
       "3885  1.383083  2.543598  0.688449  0.376131  1.343859 -0.828044  2.120323   \n",
       "3886  3.310100  2.416606  2.529562  1.876973  0.917203  1.125199  1.070149   \n",
       "3887  2.091652  1.218205  0.721483  1.545127  2.104054  2.106830  0.527548   \n",
       "3888  0.806253  1.872338 -0.754431  1.402215  2.639640  1.154828  2.268069   \n",
       "3889  1.235349  1.051476 -0.391923  2.159301  1.777896  1.563618  0.680641   \n",
       "3890  0.738868  1.926087  1.625370  1.757665  2.497386  2.514644  1.530073   \n",
       "3891  0.507249  3.209559  1.557884  0.480894  1.868854  2.940405  1.408140   \n",
       "3892  2.036745 -1.750213  1.445415  2.246989  1.073383  0.787468  1.294545   \n",
       "3893  2.586599  3.081292 -1.208727 -0.340697  3.625483  1.475672  3.117439   \n",
       "3894  0.682371  2.979716 -0.748194  2.866981 -0.327579  0.732169  1.485806   \n",
       "3895  2.291559  0.908724  1.883947  0.311585  0.465489  1.658326  2.683144   \n",
       "3896  1.430078  3.112529 -1.086722  2.459663  0.487689  0.637151  3.811204   \n",
       "3897  1.553217  1.582684 -0.957515  0.859735  0.954570  1.498707  2.850958   \n",
       "3898 -0.051509  2.009844 -0.878493  1.742059  1.282198  2.497140  2.665995   \n",
       "3899  1.038188  2.995728 -0.698313  2.114634  0.869592  1.735747  1.076622   \n",
       "\n",
       "             7         8         9   idx  \n",
       "1     2.909705  1.102630  2.768591     1  \n",
       "2     0.663232  3.327414  1.262859     2  \n",
       "3     1.992894  1.669630  1.052424     3  \n",
       "4     1.858307  1.059783  0.965243     4  \n",
       "5     3.167239  2.219168 -0.671358     5  \n",
       "6     2.379840  2.199264  1.297626     6  \n",
       "7     2.380738  2.200107  1.298883     7  \n",
       "8     2.508864  1.648035  2.462172     8  \n",
       "9     1.420418  0.057090  1.245410     9  \n",
       "10    2.352977  0.516201  0.725072    10  \n",
       "11    2.766923  0.122837  0.852338    11  \n",
       "12    2.233553 -0.709454 -0.192675    12  \n",
       "13    2.769628  2.511815  1.510578    13  \n",
       "14    1.949420  1.115819  1.580575    14  \n",
       "15    3.035974  1.351648  3.741263    15  \n",
       "16    1.695970  0.269835  2.113972    16  \n",
       "17    2.180461  1.844044  1.262039    17  \n",
       "18    3.654182  1.346244  3.342302    18  \n",
       "19    3.037269  1.349704  3.740584    19  \n",
       "20    3.651622  1.348216  3.345534    20  \n",
       "21    2.042333  2.766406  1.850115    21  \n",
       "22    1.518762  0.195914  2.369915    22  \n",
       "23    0.889144  2.254723  2.041569    23  \n",
       "24   -0.809579  1.713436  1.915900    24  \n",
       "25   -0.430634  0.816186  1.275756    25  \n",
       "26   -0.049271  1.763898  2.868546    26  \n",
       "27    2.876307  1.456556 -0.995437    27  \n",
       "28    1.325470  1.669072  2.295882    28  \n",
       "29   -0.278048  2.809111  3.059546    29  \n",
       "30    3.622783  2.459784  0.246560    30  \n",
       "...        ...       ...       ...   ...  \n",
       "3870  2.665295  1.604035  1.191468  3870  \n",
       "3871  2.122044  0.704314  2.369945  3871  \n",
       "3872  2.121729  0.703321  2.370517  3872  \n",
       "3873  2.120646  0.704348  2.371600  3873  \n",
       "3874  1.891581  0.955941  1.961521  3874  \n",
       "3875  2.663288  1.604969  1.191945  3875  \n",
       "3876  1.973803  2.586843  0.717338  3876  \n",
       "3877  2.718786 -0.029856  2.172759  3877  \n",
       "3878  1.273237  0.737338  1.886515  3878  \n",
       "3879  2.053304  3.602409  3.415349  3879  \n",
       "3880  1.244943  1.848785  3.461475  3880  \n",
       "3881  2.144776  1.423504  3.742032  3881  \n",
       "3882  1.964414  0.341538  2.935147  3882  \n",
       "3883  3.615226 -0.037098  2.427699  3883  \n",
       "3884  2.182446  1.824132  0.500422  3884  \n",
       "3885  2.061787  2.924084  3.231695  3885  \n",
       "3886  0.356195  1.468360  0.916791  3886  \n",
       "3887  1.255009  1.938591  3.982678  3887  \n",
       "3888  1.329066  1.812908  1.935430  3888  \n",
       "3889  2.349513  2.037514  0.607854  3889  \n",
       "3890  0.920211  2.653256  0.592018  3890  \n",
       "3891  2.921752  1.895002  1.742910  3891  \n",
       "3892  3.938580  1.793748  2.381891  3892  \n",
       "3893  1.175209  0.983974  2.237024  3893  \n",
       "3894  3.432144  2.597148  1.698505  3894  \n",
       "3895  0.715622  2.054202  1.546881  3895  \n",
       "3896  2.285113  0.973630  2.517101  3896  \n",
       "3897  1.749619  0.967840  2.681875  3897  \n",
       "3898  1.816704  2.472098  2.611021  3898  \n",
       "3899  2.366753  1.045088  1.093424  3899  \n",
       "\n",
       "[3840 rows x 11 columns]"
      ]
     },
     "execution_count": 52,
     "metadata": {},
     "output_type": "execute_result"
    }
   ],
   "source": [
    "preds.set_index(data_star.index)"
   ]
  },
  {
   "cell_type": "code",
   "execution_count": null,
   "metadata": {
    "collapsed": false
   },
   "outputs": [],
   "source": [
    "mean = pd.DataFrame(mm)"
   ]
  },
  {
   "cell_type": "code",
   "execution_count": null,
   "metadata": {
    "collapsed": false
   },
   "outputs": [],
   "source": [
    "mean"
   ]
  },
  {
   "cell_type": "code",
   "execution_count": null,
   "metadata": {
    "collapsed": false
   },
   "outputs": [],
   "source": [
    "data_star.shape"
   ]
  },
  {
   "cell_type": "code",
   "execution_count": null,
   "metadata": {
    "collapsed": false
   },
   "outputs": [],
   "source": [
    "means"
   ]
  },
  {
   "cell_type": "code",
   "execution_count": null,
   "metadata": {
    "collapsed": false
   },
   "outputs": [],
   "source": [
    "data_s"
   ]
  },
  {
   "cell_type": "code",
   "execution_count": null,
   "metadata": {
    "collapsed": false
   },
   "outputs": [],
   "source": [
    "means = preds.mean()"
   ]
  },
  {
   "cell_type": "code",
   "execution_count": null,
   "metadata": {
    "collapsed": false
   },
   "outputs": [],
   "source": [
    "data_star"
   ]
  },
  {
   "cell_type": "code",
   "execution_count": null,
   "metadata": {
    "collapsed": false
   },
   "outputs": [],
   "source": [
    "fig, ax = plt.subplots(figsize=(14, 9));\n",
    "plt.scatter(data_star.Longitude,data_star.Latitude,c=data_star.iloc[:,0],s=200)\n",
    "plt.colorbar()\n",
    "#plt.scatter(data_star.Longitude,data_star.Latitude,c=data_star.pred,s=20,alpha=0.8)\n",
    "\n"
   ]
  },
  {
   "cell_type": "code",
   "execution_count": null,
   "metadata": {
    "collapsed": false
   },
   "outputs": [],
   "source": [
    "fig, ax = plt.subplots(figsize=(14, 9));\n",
    "plt.scatter(data_star.Longitude,data_star.Latitude,c=np.exp(data_star.pred),s=50,alpha=0.9)\n",
    "plt.colorbar()\n",
    "#plt.scatter(gdata.Longitude,gdata.Latitude,c='k',s=gdata.Nsp,alpha=0.5)"
   ]
  },
  {
   "cell_type": "markdown",
   "metadata": {},
   "source": [
    "# Convert to a raster format.\n",
    " ## Motivation\n",
    " It's important for visualization and compatibility with GIS software to generate the results in a standard raster format.\n",
    " For achieving this I'll explore *rasterio* package (MapBox, 2016)"
   ]
  },
  {
   "cell_type": "code",
   "execution_count": null,
   "metadata": {
    "collapsed": true
   },
   "outputs": [],
   "source": [
    "import rasterio as rast"
   ]
  },
  {
   "cell_type": "code",
   "execution_count": null,
   "metadata": {
    "collapsed": true
   },
   "outputs": [],
   "source": [
    "from rasterio.features import rasterize,guard_transform"
   ]
  },
  {
   "cell_type": "code",
   "execution_count": null,
   "metadata": {
    "collapsed": false
   },
   "outputs": [],
   "source": [
    "shapes = ((geom,val) for geom, val in zip(data_star.geometry,np.exp(data_star.pred)))"
   ]
  },
  {
   "cell_type": "code",
   "execution_count": null,
   "metadata": {
    "collapsed": true
   },
   "outputs": [],
   "source": [
    "shapes = list(shapes)"
   ]
  },
  {
   "cell_type": "code",
   "execution_count": null,
   "metadata": {
    "collapsed": false
   },
   "outputs": [],
   "source": [
    "elev.rasterdata.geotransform"
   ]
  },
  {
   "cell_type": "code",
   "execution_count": null,
   "metadata": {
    "collapsed": false
   },
   "outputs": [],
   "source": [
    "elev.rasterdata.bands[0].data().shape"
   ]
  },
  {
   "cell_type": "code",
   "execution_count": null,
   "metadata": {
    "collapsed": false
   },
   "outputs": [],
   "source": [
    "data_star"
   ]
  },
  {
   "cell_type": "code",
   "execution_count": null,
   "metadata": {
    "collapsed": true
   },
   "outputs": [],
   "source": []
  },
  {
   "cell_type": "code",
   "execution_count": null,
   "metadata": {
    "collapsed": true
   },
   "outputs": [],
   "source": []
  },
  {
   "cell_type": "code",
   "execution_count": null,
   "metadata": {
    "collapsed": true
   },
   "outputs": [],
   "source": []
  },
  {
   "cell_type": "code",
   "execution_count": null,
   "metadata": {
    "collapsed": false
   },
   "outputs": [],
   "source": [
    "#rastband1 = elev.rasterdata.bands[0].data()\n",
    "\n",
    "newr = rasterize(shapes,out_shape=(60,65),all_touched=True,fill=0,transform=elev.rasterdata.geotransform)"
   ]
  },
  {
   "cell_type": "code",
   "execution_count": null,
   "metadata": {
    "collapsed": true
   },
   "outputs": [],
   "source": [
    "b = elev.rasterdata.bands[0]"
   ]
  },
  {
   "cell_type": "code",
   "execution_count": null,
   "metadata": {
    "collapsed": true
   },
   "outputs": [],
   "source": [
    "values = b.data()"
   ]
  },
  {
   "cell_type": "code",
   "execution_count": null,
   "metadata": {
    "collapsed": false
   },
   "outputs": [],
   "source": [
    "from rasterio.dtypes import can_cast_dtype\n",
    "can_cast_dtype(values,'int16')"
   ]
  },
  {
   "cell_type": "code",
   "execution_count": null,
   "metadata": {
    "collapsed": false
   },
   "outputs": [],
   "source": [
    "b.data().dtype"
   ]
  },
  {
   "cell_type": "code",
   "execution_count": null,
   "metadata": {
    "collapsed": false
   },
   "outputs": [],
   "source": [
    "plt.imshow(newr.transpose())"
   ]
  },
  {
   "cell_type": "code",
   "execution_count": null,
   "metadata": {
    "collapsed": false
   },
   "outputs": [],
   "source": [
    "plt.imshow(elev.rasterdata.bands[0].data())\n"
   ]
  },
  {
   "cell_type": "code",
   "execution_count": null,
   "metadata": {
    "collapsed": false
   },
   "outputs": [],
   "source": [
    "60*65"
   ]
  },
  {
   "cell_type": "code",
   "execution_count": null,
   "metadata": {
    "collapsed": false
   },
   "outputs": [],
   "source": [
    "data_star.shape"
   ]
  },
  {
   "cell_type": "code",
   "execution_count": null,
   "metadata": {
    "collapsed": false
   },
   "outputs": [],
   "source": [
    "# For experiment\n",
    "\n",
    "minx = min(data.Longitude)\n",
    "maxx = max(data.Longitude)\n",
    "miny = min(data.Latitude)\n",
    "maxy = max(data.Latitude)\n",
    "grid_sizex = 100\n",
    "grid_sizey = 100\n",
    "grid = tl.createGrid(grid_sizex=grid_sizex,grid_sizey=grid_sizey,minx=minx,miny=miny,maxx=maxx,maxy=maxy)\n",
    "\n",
    "nx = np.linspace(minx,maxx,grid_sizex)\n",
    "ny = np.linspace(miny,maxy,grid_sizey)\n",
    "xx, yy = np.meshgrid(nx,ny)"
   ]
  },
  {
   "cell_type": "code",
   "execution_count": null,
   "metadata": {
    "collapsed": false
   },
   "outputs": [],
   "source": [
    "import copy"
   ]
  },
  {
   "cell_type": "code",
   "execution_count": null,
   "metadata": {
    "collapsed": false
   },
   "outputs": [],
   "source": [
    "elev"
   ]
  },
  {
   "cell_type": "code",
   "execution_count": null,
   "metadata": {
    "collapsed": true
   },
   "outputs": [],
   "source": []
  },
  {
   "cell_type": "code",
   "execution_count": null,
   "metadata": {
    "collapsed": false
   },
   "outputs": [],
   "source": [
    "#map_estimate = find_MAP(model=model)\n",
    "#map_estimate"
   ]
  },
  {
   "cell_type": "code",
   "execution_count": null,
   "metadata": {
    "collapsed": false
   },
   "outputs": [],
   "source": [
    "f_startartartar"
   ]
  },
  {
   "cell_type": "markdown",
   "metadata": {},
   "source": [
    "## Here development for getting environmental covariates for each cell\n",
    "Let's bring the environmental value per cell"
   ]
  },
  {
   "cell_type": "code",
   "execution_count": null,
   "metadata": {
    "collapsed": false
   },
   "outputs": [],
   "source": [
    "cell = selection_of_cells.first()"
   ]
  },
  {
   "cell_type": "markdown",
   "metadata": {},
   "source": [
    "* Sacar las celdas superiores hasta sacar una marca lloraras\n",
    "* luego extraer la informacion raster en matriz\n",
    "* usar la transformacion affin para generar coordenadas\n",
    "* aplicar al modelo. con pymc3\n",
    "* primero lineal y luego con gam o algo asi,\n"
   ]
  },
  {
   "cell_type": "code",
   "execution_count": null,
   "metadata": {
    "collapsed": false
   },
   "outputs": [],
   "source": [
    "c = c_iter.next()"
   ]
  },
  {
   "cell_type": "code",
   "execution_count": null,
   "metadata": {
    "collapsed": false
   },
   "outputs": [],
   "source": [
    "env_data = c.getAssociatedRasterAreaData('MeanTemperature')"
   ]
  },
  {
   "cell_type": "code",
   "execution_count": null,
   "metadata": {
    "collapsed": false
   },
   "outputs": [],
   "source": [
    "c.polygon.wkt"
   ]
  },
  {
   "cell_type": "code",
   "execution_count": null,
   "metadata": {
    "collapsed": false
   },
   "outputs": [],
   "source": [
    "env_data.getRaster()"
   ]
  },
  {
   "cell_type": "code",
   "execution_count": null,
   "metadata": {
    "collapsed": false
   },
   "outputs": [],
   "source": [
    "rast = c.getAssociatedRasterAreaData('Elevation')"
   ]
  },
  {
   "cell_type": "code",
   "execution_count": null,
   "metadata": {
    "collapsed": false
   },
   "outputs": [],
   "source": [
    "rast.display_field()"
   ]
  },
  {
   "cell_type": "markdown",
   "metadata": {},
   "source": [
    "## Let's see if we can get data from the upper scales\n"
   ]
  },
  {
   "cell_type": "code",
   "execution_count": null,
   "metadata": {
    "collapsed": false
   },
   "outputs": [],
   "source": [
    "c.upperCell.next()"
   ]
  },
  {
   "cell_type": "code",
   "execution_count": null,
   "metadata": {
    "collapsed": false
   },
   "outputs": [],
   "source": [
    "big_cell = c.upperCell.next().upperCell.next().upperCell.next()"
   ]
  },
  {
   "cell_type": "code",
   "execution_count": null,
   "metadata": {
    "collapsed": false
   },
   "outputs": [],
   "source": [
    "rr = big_cell.getAssociatedRasterAreaData('Elevation')"
   ]
  },
  {
   "cell_type": "code",
   "execution_count": null,
   "metadata": {
    "collapsed": false
   },
   "outputs": [],
   "source": [
    "rr.display_field()"
   ]
  },
  {
   "cell_type": "code",
   "execution_count": null,
   "metadata": {
    "collapsed": true
   },
   "outputs": [],
   "source": [
    "cells = list(selection_of_cells)"
   ]
  },
  {
   "cell_type": "code",
   "execution_count": null,
   "metadata": {
    "collapsed": false
   },
   "outputs": [],
   "source": [
    "%time tii = st.getEnvironmentalCovariatesFromListOfCells(cells)"
   ]
  },
  {
   "cell_type": "code",
   "execution_count": null,
   "metadata": {
    "collapsed": false
   },
   "outputs": [],
   "source": [
    "tii"
   ]
  },
  {
   "cell_type": "markdown",
   "metadata": {},
   "source": [
    "### Benchmarking time for retrieval using explicit lists vs lazy-evaluation\n"
   ]
  },
  {
   "cell_type": "code",
   "execution_count": null,
   "metadata": {
    "collapsed": false,
    "scrolled": true
   },
   "outputs": [],
   "source": [
    "%time samples = list(sel)"
   ]
  },
  {
   "cell_type": "code",
   "execution_count": null,
   "metadata": {
    "collapsed": false
   },
   "outputs": [],
   "source": [
    "%time ocs2 = map(lambda c : list(c.has_occurrences),samples)"
   ]
  },
  {
   "cell_type": "code",
   "execution_count": null,
   "metadata": {
    "collapsed": false
   },
   "outputs": [],
   "source": [
    "ocs2_l = filter(lambda k : k != [] ,ocs2)"
   ]
  },
  {
   "cell_type": "code",
   "execution_count": null,
   "metadata": {
    "collapsed": false
   },
   "outputs": [],
   "source": [
    "len(ocs2_l)"
   ]
  },
  {
   "cell_type": "code",
   "execution_count": null,
   "metadata": {
    "collapsed": false
   },
   "outputs": [],
   "source": [
    "lll = reduce(lambda a,b : a+b,ocs2_l)"
   ]
  },
  {
   "cell_type": "code",
   "execution_count": null,
   "metadata": {
    "collapsed": false
   },
   "outputs": [],
   "source": [
    "lll"
   ]
  },
  {
   "cell_type": "code",
   "execution_count": null,
   "metadata": {
    "collapsed": false,
    "scrolled": true
   },
   "outputs": [],
   "source": [
    "lll == ccc"
   ]
  },
  {
   "cell_type": "code",
   "execution_count": null,
   "metadata": {
    "collapsed": false
   },
   "outputs": [],
   "source": [
    "sel = Mex4km.select(graph).where(\"_.id IN  %s \"%str(c))"
   ]
  },
  {
   "cell_type": "code",
   "execution_count": null,
   "metadata": {
    "collapsed": true
   },
   "outputs": [],
   "source": []
  },
  {
   "cell_type": "code",
   "execution_count": null,
   "metadata": {
    "collapsed": true
   },
   "outputs": [],
   "source": []
  },
  {
   "cell_type": "code",
   "execution_count": null,
   "metadata": {
    "collapsed": false
   },
   "outputs": [],
   "source": [
    "def _try_levelnames_extraction(relationship):\n",
    "    \"\"\"\n",
    "    Extracts the end node relationship name.\n",
    "    for use with map functions.\n",
    "    \"\"\"\n",
    "    try:\n",
    "        a = relationship.start_node()['levelname']\n",
    "        return a\n",
    "    except:\n",
    "        return None\n",
    "    \n",
    "types = map(lambda r : map(lambda t : _try_levelnames_extraction(t),r),available_rels)"
   ]
  },
  {
   "cell_type": "code",
   "execution_count": null,
   "metadata": {
    "collapsed": false
   },
   "outputs": [],
   "source": [
    "types"
   ]
  },
  {
   "cell_type": "code",
   "execution_count": null,
   "metadata": {
    "collapsed": false
   },
   "outputs": [],
   "source": [
    "tt = tb.buildTreeNeo(samples[26])"
   ]
  },
  {
   "cell_type": "code",
   "execution_count": null,
   "metadata": {
    "collapsed": false
   },
   "outputs": [],
   "source": []
  },
  {
   "cell_type": "code",
   "execution_count": null,
   "metadata": {
    "collapsed": false
   },
   "outputs": [],
   "source": [
    "#For now not run\n",
    "#big_tree = reduce(lambda a,b : a+b , trees)\n",
    "import seaborn as sns"
   ]
  },
  {
   "cell_type": "code",
   "execution_count": null,
   "metadata": {
    "collapsed": true
   },
   "outputs": [],
   "source": [
    "t = trees[2]"
   ]
  },
  {
   "cell_type": "code",
   "execution_count": null,
   "metadata": {
    "collapsed": true
   },
   "outputs": [],
   "source": []
  },
  {
   "cell_type": "code",
   "execution_count": null,
   "metadata": {
    "collapsed": false
   },
   "outputs": [],
   "source": [
    "ll = map(lambda t : t.richness , trees)"
   ]
  },
  {
   "cell_type": "code",
   "execution_count": null,
   "metadata": {
    "collapsed": false
   },
   "outputs": [],
   "source": [
    "sns.distplot(ll)"
   ]
  },
  {
   "cell_type": "code",
   "execution_count": null,
   "metadata": {
    "collapsed": false
   },
   "outputs": [],
   "source": [
    "tl.plotTree(tt)"
   ]
  },
  {
   "cell_type": "code",
   "execution_count": null,
   "metadata": {
    "collapsed": false
   },
   "outputs": [],
   "source": [
    "import traversals.strategies as strg"
   ]
  },
  {
   "cell_type": "code",
   "execution_count": null,
   "metadata": {
    "collapsed": false
   },
   "outputs": [],
   "source": [
    "type(root)"
   ]
  },
  {
   "cell_type": "code",
   "execution_count": null,
   "metadata": {
    "collapsed": false
   },
   "outputs": [],
   "source": [
    "root = t.node"
   ]
  },
  {
   "cell_type": "code",
   "execution_count": null,
   "metadata": {
    "collapsed": false
   },
   "outputs": [],
   "source": [
    "a = strg.getPresencesForNode(root,trees)"
   ]
  },
  {
   "cell_type": "code",
   "execution_count": null,
   "metadata": {
    "collapsed": false
   },
   "outputs": [],
   "source": [
    "data_t = strg.getPresencesForListOfNodes([root],trees)"
   ]
  },
  {
   "cell_type": "code",
   "execution_count": null,
   "metadata": {
    "collapsed": false
   },
   "outputs": [],
   "source": [
    "data_t"
   ]
  },
  {
   "cell_type": "markdown",
   "metadata": {},
   "source": [
    "# The model"
   ]
  },
  {
   "cell_type": "code",
   "execution_count": null,
   "metadata": {
    "collapsed": true
   },
   "outputs": [],
   "source": [
    "import pymc3 as pm"
   ]
  },
  {
   "cell_type": "code",
   "execution_count": null,
   "metadata": {
    "collapsed": true
   },
   "outputs": [],
   "source": []
  },
  {
   "cell_type": "code",
   "execution_count": null,
   "metadata": {
    "collapsed": false,
    "scrolled": true
   },
   "outputs": [],
   "source": [
    "from pymc3 import find_MAP\n",
    "map_estimate = find_MAP(model=model)\n",
    "map_estimate"
   ]
  },
  {
   "cell_type": "code",
   "execution_count": null,
   "metadata": {
    "collapsed": true
   },
   "outputs": [],
   "source": [
    "import pandas as pd"
   ]
  },
  {
   "cell_type": "code",
   "execution_count": null,
   "metadata": {
    "collapsed": false
   },
   "outputs": [],
   "source": [
    "mapxy = pd.concat([data_t[['Longitude','Latitude']],pd.DataFrame({'map': map_estimate['latent_field']})],axis=1)"
   ]
  },
  {
   "cell_type": "code",
   "execution_count": null,
   "metadata": {
    "collapsed": false
   },
   "outputs": [],
   "source": [
    "gmapxy = tools.toGeoDataFrame(mapxy,xcoord_name='Longitude',ycoord_name='Latitude')"
   ]
  },
  {
   "cell_type": "code",
   "execution_count": null,
   "metadata": {
    "collapsed": false
   },
   "outputs": [],
   "source": [
    "fig, ax = plt.subplots(figsize=(14, 9));\n",
    "gmapxy.plot(ax=ax,column='map')"
   ]
  },
  {
   "cell_type": "markdown",
   "metadata": {},
   "source": [
    "## Prediction\n",
    "The conditional method creates the conditional, or predictive, distribution over the latent function at arbitrary x∗x∗ input points, f(x∗)f(x∗). To construct the conditional distribution we write:"
   ]
  },
  {
   "cell_type": "code",
   "execution_count": null,
   "metadata": {
    "collapsed": true
   },
   "outputs": [],
   "source": [
    "minx = min(data_t.Longitude)\n",
    "maxx = max(data_t.Longitude)\n",
    "miny = min(data_t.Latitude)\n",
    "maxy = max(data_t.Latitude)"
   ]
  },
  {
   "cell_type": "code",
   "execution_count": null,
   "metadata": {
    "collapsed": false
   },
   "outputs": [],
   "source": [
    "from external_plugins.spystats.spystats import tools"
   ]
  },
  {
   "cell_type": "code",
   "execution_count": null,
   "metadata": {
    "collapsed": true
   },
   "outputs": [],
   "source": [
    "grid = tools.createGrid(grid_sizex=10,grid_sizey=10,minx=minx,miny=miny,maxx=maxx,maxy=maxy)"
   ]
  },
  {
   "cell_type": "code",
   "execution_count": null,
   "metadata": {
    "collapsed": false
   },
   "outputs": [],
   "source": []
  },
  {
   "cell_type": "code",
   "execution_count": null,
   "metadata": {
    "collapsed": false
   },
   "outputs": [],
   "source": [
    "gp.predict(grid[['Lon','Lat']])"
   ]
  },
  {
   "cell_type": "code",
   "execution_count": null,
   "metadata": {
    "collapsed": false
   },
   "outputs": [],
   "source": [
    "%time f_star = gp.conditional(\"f_star\", X=grid[['Lon','Lat']])"
   ]
  },
  {
   "cell_type": "code",
   "execution_count": null,
   "metadata": {
    "collapsed": false
   },
   "outputs": [],
   "source": [
    "getdata = lambda tree : tree.associatedData.getEnvironmentalVariablesCells()"
   ]
  },
  {
   "cell_type": "code",
   "execution_count": null,
   "metadata": {
    "collapsed": false
   },
   "outputs": [],
   "source": [
    "ts[1].associatedData.getEnvironmentalVariablesCells()"
   ]
  },
  {
   "cell_type": "code",
   "execution_count": null,
   "metadata": {
    "collapsed": false
   },
   "outputs": [],
   "source": [
    "list(choices)"
   ]
  },
  {
   "cell_type": "code",
   "execution_count": null,
   "metadata": {
    "collapsed": false
   },
   "outputs": [],
   "source": [
    "n"
   ]
  },
  {
   "cell_type": "code",
   "execution_count": null,
   "metadata": {
    "collapsed": true
   },
   "outputs": [],
   "source": []
  }
 ],
 "metadata": {
  "kernelspec": {
   "display_name": "Django Shell-Plus",
   "language": "python",
   "name": "django_extensions"
  },
  "language_info": {
   "codemirror_mode": {
    "name": "ipython",
    "version": 2
   },
   "file_extension": ".py",
   "mimetype": "text/x-python",
   "name": "python",
   "nbconvert_exporter": "python",
   "pygments_lexer": "ipython2",
   "version": "2.7.11"
  }
 },
 "nbformat": 4,
 "nbformat_minor": 0
}
