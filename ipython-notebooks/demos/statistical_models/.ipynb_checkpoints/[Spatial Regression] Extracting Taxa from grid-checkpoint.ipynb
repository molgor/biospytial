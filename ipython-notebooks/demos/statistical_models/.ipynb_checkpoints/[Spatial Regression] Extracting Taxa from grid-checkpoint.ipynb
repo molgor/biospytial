{
 "cells": [
  {
   "cell_type": "markdown",
   "metadata": {},
   "source": [
    "# Spatial Regression of Abundance Data\n",
    "Here I show how to extract different taxonomic information at cell level.\n",
    "Although there exists a method for building the taxonomic tree within a single cell, the process can be computationally intensive because it depends on extracting the total amount of occurrences in each cell. From there, it traverses fromtop to bottom the tree looking for the corresponding nodes.\n",
    "\n",
    "The approach is usefull when one needs a small number of trees but it'll become increasingly slow if the amount of cells or occurrences increases. \n",
    "\n",
    "## Extracting specific taxonomic levels en each cells\n",
    "\n",
    "The method studied here makes use of the relationship type `IS_IN` stored in the knowledge graph.\n",
    "\n",
    "Note: *There was a problem with the design of the OGM implementation (py2neo.ogm). The retrieval of linked nodes based on a specific relation does not distinguish different labels. In other words it returns the totality of the data that has the  specific relationship given a node.*\n",
    "\n",
    "The solution was to include extra methods for the class Cell `has_[taxas]`. This method/attribute returns a graph selector that points to the corresponding nodes.\n",
    "\n",
    "Let's get started.\n",
    "As usual we need to load the necessary modules\n"
   ]
  },
  {
   "cell_type": "code",
   "execution_count": 1,
   "metadata": {
    "collapsed": false
   },
   "outputs": [],
   "source": [
    "%matplotlib inline\n",
    "import sys\n",
    "sys.path.append('/apps')\n",
    "import django\n",
    "django.setup()\n",
    "from drivers.tree_builder import TreeNeo\n",
    "from drivers.graph_models import TreeNode, Order, Family, graph,Kingdom,Occurrence\n",
    "from drivers.graph_models import Cell,Mex4km, countObjectsOf\n",
    "import matplotlib.pyplot as plt\n",
    "## Use the ggplot style\n",
    "plt.style.use('ggplot')"
   ]
  },
  {
   "cell_type": "markdown",
   "metadata": {},
   "source": [
    "## Random selection of cells.\n",
    "\n",
    "*Note* : There was a big problem in the data arquitecture. For storage reasons I couldn't load the complete world bioclimatic layers. Therefore I needed to put a regional subset that comprises only the Mexican Territory. \n",
    "For this reason, it is necessary that any approach for selecting subsamples needs to be constrained (filter) by this geometry. \n",
    "We can do that with this:"
   ]
  },
  {
   "cell_type": "code",
   "execution_count": 2,
   "metadata": {
    "collapsed": false
   },
   "outputs": [],
   "source": [
    "from sketches.models import Country\n",
    "Mexico = Country.objects.filter(name__contains=\"exico\").get()\n",
    "import pandas as pd"
   ]
  },
  {
   "cell_type": "code",
   "execution_count": 3,
   "metadata": {
    "collapsed": false
   },
   "outputs": [],
   "source": [
    "from mesh.models import MexMesh\n",
    "mexican_cells = MexMesh.objects.filter(cell__intersects=Mexico.geom)"
   ]
  },
  {
   "cell_type": "code",
   "execution_count": 4,
   "metadata": {
    "collapsed": false
   },
   "outputs": [],
   "source": [
    "ids = list(mexican_cells.values('pk'))"
   ]
  },
  {
   "cell_type": "code",
   "execution_count": 5,
   "metadata": {
    "collapsed": false
   },
   "outputs": [],
   "source": [
    "ids = pd.DataFrame(ids)\n"
   ]
  },
  {
   "cell_type": "code",
   "execution_count": 6,
   "metadata": {
    "collapsed": false
   },
   "outputs": [
    {
     "data": {
      "text/plain": [
       "74200"
      ]
     },
     "execution_count": 6,
     "metadata": {},
     "output_type": "execute_result"
    }
   ],
   "source": [
    "ids.shape[0]"
   ]
  },
  {
   "cell_type": "markdown",
   "metadata": {},
   "source": [
    "The selection should be as follow:\n",
    "    * Convert to pandas\n",
    "    * GEnerate random numbers uniform on that range\n",
    "    * use iloc to get the id values\n",
    "    * Use the normal methodology.\n",
    "    "
   ]
  },
  {
   "cell_type": "code",
   "execution_count": 7,
   "metadata": {
    "collapsed": false
   },
   "outputs": [],
   "source": [
    "ncells = countObjectsOf(Mex4km)\n",
    "ncells = ids.shape[0]\n",
    "import numpy as np\n",
    "np.random.seed(12345)\n",
    "sample_size = 200\n",
    "choices = np.random.choice(range(1,ncells),sample_size,replace='False')"
   ]
  },
  {
   "cell_type": "code",
   "execution_count": 8,
   "metadata": {
    "collapsed": false
   },
   "outputs": [],
   "source": [
    "choices = list(ids.loc[choices].pk)"
   ]
  },
  {
   "cell_type": "code",
   "execution_count": 9,
   "metadata": {
    "collapsed": false
   },
   "outputs": [],
   "source": [
    "## This will stringify the id list to get the selected cells.\n",
    "selection_of_cells = Mex4km.select(graph).where(\"_.id IN  %s \"%str(list(choices)))"
   ]
  },
  {
   "cell_type": "markdown",
   "metadata": {
    "collapsed": false
   },
   "source": [
    "### Using iterators (imap + graphselector_iterator)"
   ]
  },
  {
   "cell_type": "code",
   "execution_count": 10,
   "metadata": {
    "collapsed": true
   },
   "outputs": [],
   "source": [
    "import itertools as it"
   ]
  },
  {
   "cell_type": "markdown",
   "metadata": {},
   "source": [
    "## We will select the different Families here"
   ]
  },
  {
   "cell_type": "code",
   "execution_count": 11,
   "metadata": {
    "collapsed": false
   },
   "outputs": [
    {
     "name": "stdout",
     "output_type": "stream",
     "text": [
      "CPU times: user 0 ns, sys: 0 ns, total: 0 ns\n",
      "Wall time: 11.9 µs\n"
     ]
    }
   ],
   "source": [
    "%time families = it.imap(lambda c : c.has_families,selection_of_cells)"
   ]
  },
  {
   "cell_type": "code",
   "execution_count": 12,
   "metadata": {
    "collapsed": false
   },
   "outputs": [],
   "source": [
    "from traversals import strategies as st"
   ]
  },
  {
   "cell_type": "markdown",
   "metadata": {},
   "source": [
    "## Extract richness and Environmental covariates from cells at a given taxonomic level\n",
    "Options are: Family, Order, Spicies, etc"
   ]
  },
  {
   "cell_type": "code",
   "execution_count": 15,
   "metadata": {
    "collapsed": false
   },
   "outputs": [
    {
     "name": "stdout",
     "output_type": "stream",
     "text": [
      "CPU times: user 10.1 s, sys: 388 ms, total: 10.5 s\n",
      "Wall time: 1min 17s\n"
     ]
    }
   ],
   "source": [
    "%time data = st.getEnvironmentAndRichnessFromListOfCells(list_of_cells=selection_of_cells,taxonomic_level_name='Family')"
   ]
  },
  {
   "cell_type": "markdown",
   "metadata": {},
   "source": [
    "It takes time because it need to calculate on the fly the summary statistic of each cell. It is using the postgis backend"
   ]
  },
  {
   "cell_type": "code",
   "execution_count": 16,
   "metadata": {
    "collapsed": false
   },
   "outputs": [
    {
     "data": {
      "text/html": [
       "<div>\n",
       "<table border=\"1\" class=\"dataframe\">\n",
       "  <thead>\n",
       "    <tr style=\"text-align: right;\">\n",
       "      <th></th>\n",
       "      <th>n.Family</th>\n",
       "      <th>Longitude</th>\n",
       "      <th>Latitude</th>\n",
       "      <th>Elevation_mean</th>\n",
       "      <th>MaxTemperature_mean</th>\n",
       "      <th>MeanTemperature_mean</th>\n",
       "      <th>MinTemperature_mean</th>\n",
       "      <th>Precipitation_mean</th>\n",
       "      <th>SolarRadiation_mean</th>\n",
       "      <th>Vapor_mean</th>\n",
       "      <th>WindSpeed_mean</th>\n",
       "    </tr>\n",
       "  </thead>\n",
       "  <tbody>\n",
       "    <tr>\n",
       "      <th>0</th>\n",
       "      <td>4</td>\n",
       "      <td>-113.380563</td>\n",
       "      <td>27.54339</td>\n",
       "      <td>63.222222</td>\n",
       "      <td>30.225231</td>\n",
       "      <td>20.766204</td>\n",
       "      <td>30.317130</td>\n",
       "      <td>7.560185</td>\n",
       "      <td>18867.312500</td>\n",
       "      <td>1.750000</td>\n",
       "      <td>2.263889</td>\n",
       "    </tr>\n",
       "    <tr>\n",
       "      <th>1</th>\n",
       "      <td>0</td>\n",
       "      <td>-97.406563</td>\n",
       "      <td>25.68139</td>\n",
       "      <td>3.888889</td>\n",
       "      <td>27.693981</td>\n",
       "      <td>23.069444</td>\n",
       "      <td>27.807870</td>\n",
       "      <td>58.791667</td>\n",
       "      <td>16915.250000</td>\n",
       "      <td>2.212963</td>\n",
       "      <td>4.416667</td>\n",
       "    </tr>\n",
       "    <tr>\n",
       "      <th>2</th>\n",
       "      <td>2</td>\n",
       "      <td>-103.629563</td>\n",
       "      <td>22.83939</td>\n",
       "      <td>2353.000000</td>\n",
       "      <td>21.844722</td>\n",
       "      <td>13.783333</td>\n",
       "      <td>21.880556</td>\n",
       "      <td>47.480556</td>\n",
       "      <td>18051.152778</td>\n",
       "      <td>1.000000</td>\n",
       "      <td>3.113889</td>\n",
       "    </tr>\n",
       "    <tr>\n",
       "      <th>3</th>\n",
       "      <td>9</td>\n",
       "      <td>-107.255563</td>\n",
       "      <td>25.97539</td>\n",
       "      <td>1305.777778</td>\n",
       "      <td>27.772222</td>\n",
       "      <td>20.793981</td>\n",
       "      <td>27.831019</td>\n",
       "      <td>85.865741</td>\n",
       "      <td>18112.976852</td>\n",
       "      <td>1.300926</td>\n",
       "      <td>2.185185</td>\n",
       "    </tr>\n",
       "    <tr>\n",
       "      <th>4</th>\n",
       "      <td>1</td>\n",
       "      <td>-98.974563</td>\n",
       "      <td>24.35839</td>\n",
       "      <td>283.444444</td>\n",
       "      <td>30.418518</td>\n",
       "      <td>23.655093</td>\n",
       "      <td>30.504630</td>\n",
       "      <td>57.622685</td>\n",
       "      <td>17391.502315</td>\n",
       "      <td>1.974537</td>\n",
       "      <td>2.233796</td>\n",
       "    </tr>\n",
       "    <tr>\n",
       "      <th>5</th>\n",
       "      <td>0</td>\n",
       "      <td>-97.994563</td>\n",
       "      <td>24.16239</td>\n",
       "      <td>59.555556</td>\n",
       "      <td>29.541945</td>\n",
       "      <td>23.255556</td>\n",
       "      <td>29.461111</td>\n",
       "      <td>55.769444</td>\n",
       "      <td>17422.047222</td>\n",
       "      <td>2.333333</td>\n",
       "      <td>2.908333</td>\n",
       "    </tr>\n",
       "    <tr>\n",
       "      <th>6</th>\n",
       "      <td>0</td>\n",
       "      <td>-106.667563</td>\n",
       "      <td>29.06239</td>\n",
       "      <td>2240.333333</td>\n",
       "      <td>22.721111</td>\n",
       "      <td>13.372222</td>\n",
       "      <td>22.769444</td>\n",
       "      <td>43.850000</td>\n",
       "      <td>18295.166667</td>\n",
       "      <td>0.513889</td>\n",
       "      <td>3.533333</td>\n",
       "    </tr>\n",
       "    <tr>\n",
       "      <th>7</th>\n",
       "      <td>0</td>\n",
       "      <td>-100.493563</td>\n",
       "      <td>22.25139</td>\n",
       "      <td>1603.111111</td>\n",
       "      <td>25.656250</td>\n",
       "      <td>18.354167</td>\n",
       "      <td>25.703704</td>\n",
       "      <td>45.997685</td>\n",
       "      <td>18172.048611</td>\n",
       "      <td>1.365741</td>\n",
       "      <td>2.250000</td>\n",
       "    </tr>\n",
       "    <tr>\n",
       "      <th>8</th>\n",
       "      <td>0</td>\n",
       "      <td>-95.299563</td>\n",
       "      <td>16.61639</td>\n",
       "      <td>271.250000</td>\n",
       "      <td>31.701620</td>\n",
       "      <td>26.263889</td>\n",
       "      <td>31.724537</td>\n",
       "      <td>44.273148</td>\n",
       "      <td>17577.493056</td>\n",
       "      <td>2.388889</td>\n",
       "      <td>3.037037</td>\n",
       "    </tr>\n",
       "    <tr>\n",
       "      <th>9</th>\n",
       "      <td>0</td>\n",
       "      <td>-106.814563</td>\n",
       "      <td>31.41439</td>\n",
       "      <td>1211.666667</td>\n",
       "      <td>26.597222</td>\n",
       "      <td>17.104167</td>\n",
       "      <td>26.604167</td>\n",
       "      <td>19.215278</td>\n",
       "      <td>19579.583333</td>\n",
       "      <td>1.083333</td>\n",
       "      <td>3.250000</td>\n",
       "    </tr>\n",
       "    <tr>\n",
       "      <th>10</th>\n",
       "      <td>1</td>\n",
       "      <td>-99.023563</td>\n",
       "      <td>17.89039</td>\n",
       "      <td>815.888889</td>\n",
       "      <td>32.228935</td>\n",
       "      <td>25.745370</td>\n",
       "      <td>32.284722</td>\n",
       "      <td>80.622685</td>\n",
       "      <td>18096.291667</td>\n",
       "      <td>2.000000</td>\n",
       "      <td>1.418981</td>\n",
       "    </tr>\n",
       "    <tr>\n",
       "      <th>11</th>\n",
       "      <td>0</td>\n",
       "      <td>-113.233563</td>\n",
       "      <td>27.78839</td>\n",
       "      <td>216.166667</td>\n",
       "      <td>29.732407</td>\n",
       "      <td>21.134259</td>\n",
       "      <td>29.807870</td>\n",
       "      <td>9.421296</td>\n",
       "      <td>19003.574074</td>\n",
       "      <td>1.673611</td>\n",
       "      <td>2.247685</td>\n",
       "    </tr>\n",
       "    <tr>\n",
       "      <th>12</th>\n",
       "      <td>0</td>\n",
       "      <td>-112.939563</td>\n",
       "      <td>26.90639</td>\n",
       "      <td>136.777778</td>\n",
       "      <td>30.578241</td>\n",
       "      <td>21.736111</td>\n",
       "      <td>30.655093</td>\n",
       "      <td>8.877315</td>\n",
       "      <td>19010.567130</td>\n",
       "      <td>1.768519</td>\n",
       "      <td>2.502315</td>\n",
       "    </tr>\n",
       "    <tr>\n",
       "      <th>13</th>\n",
       "      <td>0</td>\n",
       "      <td>-100.787563</td>\n",
       "      <td>23.86839</td>\n",
       "      <td>1726.444444</td>\n",
       "      <td>27.528056</td>\n",
       "      <td>17.938889</td>\n",
       "      <td>27.700000</td>\n",
       "      <td>28.536111</td>\n",
       "      <td>17725.819444</td>\n",
       "      <td>1.333333</td>\n",
       "      <td>3.166667</td>\n",
       "    </tr>\n",
       "    <tr>\n",
       "      <th>14</th>\n",
       "      <td>44</td>\n",
       "      <td>-103.580563</td>\n",
       "      <td>19.40939</td>\n",
       "      <td>1346.555556</td>\n",
       "      <td>27.888426</td>\n",
       "      <td>20.500000</td>\n",
       "      <td>27.939815</td>\n",
       "      <td>89.576389</td>\n",
       "      <td>18087.090278</td>\n",
       "      <td>1.469907</td>\n",
       "      <td>1.502315</td>\n",
       "    </tr>\n",
       "    <tr>\n",
       "      <th>15</th>\n",
       "      <td>0</td>\n",
       "      <td>-112.988563</td>\n",
       "      <td>30.87539</td>\n",
       "      <td>22.666667</td>\n",
       "      <td>32.181018</td>\n",
       "      <td>22.745370</td>\n",
       "      <td>32.243056</td>\n",
       "      <td>10.502315</td>\n",
       "      <td>19246.053241</td>\n",
       "      <td>1.506944</td>\n",
       "      <td>3.000000</td>\n",
       "    </tr>\n",
       "    <tr>\n",
       "      <th>16</th>\n",
       "      <td>0</td>\n",
       "      <td>-101.032563</td>\n",
       "      <td>23.62339</td>\n",
       "      <td>1799.888889</td>\n",
       "      <td>27.013194</td>\n",
       "      <td>17.756944</td>\n",
       "      <td>27.074074</td>\n",
       "      <td>27.969907</td>\n",
       "      <td>17872.918981</td>\n",
       "      <td>1.250000</td>\n",
       "      <td>3.166667</td>\n",
       "    </tr>\n",
       "    <tr>\n",
       "      <th>17</th>\n",
       "      <td>9</td>\n",
       "      <td>-99.709563</td>\n",
       "      <td>21.02639</td>\n",
       "      <td>1356.444444</td>\n",
       "      <td>28.286111</td>\n",
       "      <td>20.833333</td>\n",
       "      <td>28.365741</td>\n",
       "      <td>37.680556</td>\n",
       "      <td>19127.131944</td>\n",
       "      <td>1.500000</td>\n",
       "      <td>1.995370</td>\n",
       "    </tr>\n",
       "    <tr>\n",
       "      <th>18</th>\n",
       "      <td>0</td>\n",
       "      <td>-104.021563</td>\n",
       "      <td>28.52339</td>\n",
       "      <td>1343.444444</td>\n",
       "      <td>27.292824</td>\n",
       "      <td>18.108796</td>\n",
       "      <td>27.331019</td>\n",
       "      <td>24.937500</td>\n",
       "      <td>17966.238426</td>\n",
       "      <td>1.194444</td>\n",
       "      <td>3.166667</td>\n",
       "    </tr>\n",
       "    <tr>\n",
       "      <th>19</th>\n",
       "      <td>0</td>\n",
       "      <td>-98.288563</td>\n",
       "      <td>20.48739</td>\n",
       "      <td>1169.000000</td>\n",
       "      <td>24.919444</td>\n",
       "      <td>19.180556</td>\n",
       "      <td>24.972222</td>\n",
       "      <td>162.833333</td>\n",
       "      <td>17846.338889</td>\n",
       "      <td>1.644444</td>\n",
       "      <td>1.650000</td>\n",
       "    </tr>\n",
       "    <tr>\n",
       "      <th>20</th>\n",
       "      <td>2</td>\n",
       "      <td>-92.163563</td>\n",
       "      <td>18.42939</td>\n",
       "      <td>1.666667</td>\n",
       "      <td>31.868611</td>\n",
       "      <td>26.583333</td>\n",
       "      <td>32.044444</td>\n",
       "      <td>139.441667</td>\n",
       "      <td>17778.838889</td>\n",
       "      <td>2.666667</td>\n",
       "      <td>3.294444</td>\n",
       "    </tr>\n",
       "    <tr>\n",
       "      <th>21</th>\n",
       "      <td>60</td>\n",
       "      <td>-96.475563</td>\n",
       "      <td>17.40039</td>\n",
       "      <td>2826.500000</td>\n",
       "      <td>16.629398</td>\n",
       "      <td>11.905093</td>\n",
       "      <td>16.678241</td>\n",
       "      <td>98.581019</td>\n",
       "      <td>16566.886574</td>\n",
       "      <td>1.000000</td>\n",
       "      <td>3.078704</td>\n",
       "    </tr>\n",
       "    <tr>\n",
       "      <th>22</th>\n",
       "      <td>1</td>\n",
       "      <td>-101.277563</td>\n",
       "      <td>27.15139</td>\n",
       "      <td>406.444444</td>\n",
       "      <td>29.409954</td>\n",
       "      <td>22.152778</td>\n",
       "      <td>29.428241</td>\n",
       "      <td>30.201389</td>\n",
       "      <td>16676.979167</td>\n",
       "      <td>1.500000</td>\n",
       "      <td>2.879630</td>\n",
       "    </tr>\n",
       "    <tr>\n",
       "      <th>23</th>\n",
       "      <td>0</td>\n",
       "      <td>-107.941563</td>\n",
       "      <td>25.63239</td>\n",
       "      <td>228.444444</td>\n",
       "      <td>32.415046</td>\n",
       "      <td>24.685185</td>\n",
       "      <td>32.493056</td>\n",
       "      <td>61.928241</td>\n",
       "      <td>17890.090278</td>\n",
       "      <td>1.664352</td>\n",
       "      <td>2.011574</td>\n",
       "    </tr>\n",
       "    <tr>\n",
       "      <th>24</th>\n",
       "      <td>0</td>\n",
       "      <td>-88.684563</td>\n",
       "      <td>19.16439</td>\n",
       "      <td>29.666667</td>\n",
       "      <td>31.935185</td>\n",
       "      <td>25.722222</td>\n",
       "      <td>31.865741</td>\n",
       "      <td>85.018519</td>\n",
       "      <td>18102.775463</td>\n",
       "      <td>2.500000</td>\n",
       "      <td>2.250000</td>\n",
       "    </tr>\n",
       "    <tr>\n",
       "      <th>25</th>\n",
       "      <td>0</td>\n",
       "      <td>-105.883563</td>\n",
       "      <td>28.03339</td>\n",
       "      <td>1493.250000</td>\n",
       "      <td>26.573380</td>\n",
       "      <td>18.104167</td>\n",
       "      <td>26.627315</td>\n",
       "      <td>33.384259</td>\n",
       "      <td>17960.446759</td>\n",
       "      <td>1.224537</td>\n",
       "      <td>2.453704</td>\n",
       "    </tr>\n",
       "    <tr>\n",
       "      <th>26</th>\n",
       "      <td>0</td>\n",
       "      <td>-104.609563</td>\n",
       "      <td>22.05539</td>\n",
       "      <td>836.666667</td>\n",
       "      <td>32.620139</td>\n",
       "      <td>24.546296</td>\n",
       "      <td>32.648148</td>\n",
       "      <td>86.067130</td>\n",
       "      <td>18346.692130</td>\n",
       "      <td>1.587963</td>\n",
       "      <td>1.351852</td>\n",
       "    </tr>\n",
       "    <tr>\n",
       "      <th>27</th>\n",
       "      <td>0</td>\n",
       "      <td>-106.226563</td>\n",
       "      <td>26.07339</td>\n",
       "      <td>2871.000000</td>\n",
       "      <td>19.302778</td>\n",
       "      <td>9.703704</td>\n",
       "      <td>19.321759</td>\n",
       "      <td>65.534722</td>\n",
       "      <td>17588.548611</td>\n",
       "      <td>0.560185</td>\n",
       "      <td>3.631944</td>\n",
       "    </tr>\n",
       "    <tr>\n",
       "      <th>28</th>\n",
       "      <td>9</td>\n",
       "      <td>-100.199563</td>\n",
       "      <td>17.59639</td>\n",
       "      <td>1600.000000</td>\n",
       "      <td>28.980324</td>\n",
       "      <td>22.493056</td>\n",
       "      <td>29.018519</td>\n",
       "      <td>99.696759</td>\n",
       "      <td>18192.194444</td>\n",
       "      <td>1.622685</td>\n",
       "      <td>1.837963</td>\n",
       "    </tr>\n",
       "    <tr>\n",
       "      <th>29</th>\n",
       "      <td>5</td>\n",
       "      <td>-108.088563</td>\n",
       "      <td>29.25839</td>\n",
       "      <td>2150.888889</td>\n",
       "      <td>21.584722</td>\n",
       "      <td>11.777778</td>\n",
       "      <td>21.645833</td>\n",
       "      <td>52.516204</td>\n",
       "      <td>18631.537037</td>\n",
       "      <td>0.548611</td>\n",
       "      <td>3.210648</td>\n",
       "    </tr>\n",
       "    <tr>\n",
       "      <th>...</th>\n",
       "      <td>...</td>\n",
       "      <td>...</td>\n",
       "      <td>...</td>\n",
       "      <td>...</td>\n",
       "      <td>...</td>\n",
       "      <td>...</td>\n",
       "      <td>...</td>\n",
       "      <td>...</td>\n",
       "      <td>...</td>\n",
       "      <td>...</td>\n",
       "      <td>...</td>\n",
       "    </tr>\n",
       "    <tr>\n",
       "      <th>169</th>\n",
       "      <td>0</td>\n",
       "      <td>-107.059563</td>\n",
       "      <td>31.21839</td>\n",
       "      <td>1170.444444</td>\n",
       "      <td>26.485880</td>\n",
       "      <td>17.199074</td>\n",
       "      <td>26.562500</td>\n",
       "      <td>20.368056</td>\n",
       "      <td>19424.247685</td>\n",
       "      <td>1.166667</td>\n",
       "      <td>3.166667</td>\n",
       "    </tr>\n",
       "    <tr>\n",
       "      <th>170</th>\n",
       "      <td>35</td>\n",
       "      <td>-108.137563</td>\n",
       "      <td>28.57239</td>\n",
       "      <td>2482.444444</td>\n",
       "      <td>20.524444</td>\n",
       "      <td>11.141667</td>\n",
       "      <td>20.552778</td>\n",
       "      <td>70.527778</td>\n",
       "      <td>18496.305556</td>\n",
       "      <td>0.463889</td>\n",
       "      <td>3.511111</td>\n",
       "    </tr>\n",
       "    <tr>\n",
       "      <th>171</th>\n",
       "      <td>5</td>\n",
       "      <td>-89.811563</td>\n",
       "      <td>20.87939</td>\n",
       "      <td>10.777778</td>\n",
       "      <td>32.568055</td>\n",
       "      <td>26.000000</td>\n",
       "      <td>32.594444</td>\n",
       "      <td>82.211111</td>\n",
       "      <td>17803.841667</td>\n",
       "      <td>2.500000</td>\n",
       "      <td>3.083333</td>\n",
       "    </tr>\n",
       "    <tr>\n",
       "      <th>172</th>\n",
       "      <td>17</td>\n",
       "      <td>-109.264563</td>\n",
       "      <td>27.05339</td>\n",
       "      <td>155.444444</td>\n",
       "      <td>32.153009</td>\n",
       "      <td>23.995370</td>\n",
       "      <td>32.273148</td>\n",
       "      <td>40.631944</td>\n",
       "      <td>18198.136574</td>\n",
       "      <td>1.500000</td>\n",
       "      <td>2.270833</td>\n",
       "    </tr>\n",
       "    <tr>\n",
       "      <th>173</th>\n",
       "      <td>0</td>\n",
       "      <td>-106.912563</td>\n",
       "      <td>27.98439</td>\n",
       "      <td>2163.777778</td>\n",
       "      <td>23.950278</td>\n",
       "      <td>13.988889</td>\n",
       "      <td>23.986111</td>\n",
       "      <td>44.075000</td>\n",
       "      <td>18177.272222</td>\n",
       "      <td>0.650000</td>\n",
       "      <td>3.069444</td>\n",
       "    </tr>\n",
       "    <tr>\n",
       "      <th>174</th>\n",
       "      <td>2</td>\n",
       "      <td>-96.622563</td>\n",
       "      <td>18.57639</td>\n",
       "      <td>168.333333</td>\n",
       "      <td>30.676620</td>\n",
       "      <td>25.030093</td>\n",
       "      <td>30.719907</td>\n",
       "      <td>203.196759</td>\n",
       "      <td>16055.692130</td>\n",
       "      <td>2.453704</td>\n",
       "      <td>2.000000</td>\n",
       "    </tr>\n",
       "    <tr>\n",
       "      <th>175</th>\n",
       "      <td>0</td>\n",
       "      <td>-107.941563</td>\n",
       "      <td>27.88639</td>\n",
       "      <td>2167.333333</td>\n",
       "      <td>23.537963</td>\n",
       "      <td>14.384259</td>\n",
       "      <td>23.592593</td>\n",
       "      <td>72.960648</td>\n",
       "      <td>18324.532407</td>\n",
       "      <td>0.752315</td>\n",
       "      <td>2.990741</td>\n",
       "    </tr>\n",
       "    <tr>\n",
       "      <th>176</th>\n",
       "      <td>0</td>\n",
       "      <td>-103.874563</td>\n",
       "      <td>25.68139</td>\n",
       "      <td>1786.111111</td>\n",
       "      <td>27.698148</td>\n",
       "      <td>18.909722</td>\n",
       "      <td>27.775463</td>\n",
       "      <td>28.988426</td>\n",
       "      <td>16901.875000</td>\n",
       "      <td>1.129630</td>\n",
       "      <td>2.736111</td>\n",
       "    </tr>\n",
       "    <tr>\n",
       "      <th>177</th>\n",
       "      <td>3</td>\n",
       "      <td>-101.277563</td>\n",
       "      <td>28.42539</td>\n",
       "      <td>607.777778</td>\n",
       "      <td>28.568519</td>\n",
       "      <td>20.594907</td>\n",
       "      <td>28.576389</td>\n",
       "      <td>34.500000</td>\n",
       "      <td>17102.789352</td>\n",
       "      <td>1.416667</td>\n",
       "      <td>3.416667</td>\n",
       "    </tr>\n",
       "    <tr>\n",
       "      <th>178</th>\n",
       "      <td>4</td>\n",
       "      <td>-95.985563</td>\n",
       "      <td>18.82139</td>\n",
       "      <td>7.333333</td>\n",
       "      <td>30.959722</td>\n",
       "      <td>25.611111</td>\n",
       "      <td>31.053241</td>\n",
       "      <td>124.363426</td>\n",
       "      <td>16051.768519</td>\n",
       "      <td>2.583333</td>\n",
       "      <td>3.557870</td>\n",
       "    </tr>\n",
       "    <tr>\n",
       "      <th>179</th>\n",
       "      <td>8</td>\n",
       "      <td>-99.415563</td>\n",
       "      <td>22.83939</td>\n",
       "      <td>406.555556</td>\n",
       "      <td>29.970139</td>\n",
       "      <td>23.622685</td>\n",
       "      <td>30.000000</td>\n",
       "      <td>103.298611</td>\n",
       "      <td>17796.365741</td>\n",
       "      <td>1.902778</td>\n",
       "      <td>1.606481</td>\n",
       "    </tr>\n",
       "    <tr>\n",
       "      <th>180</th>\n",
       "      <td>1</td>\n",
       "      <td>-99.954563</td>\n",
       "      <td>21.51639</td>\n",
       "      <td>1267.333333</td>\n",
       "      <td>27.950833</td>\n",
       "      <td>21.075000</td>\n",
       "      <td>27.977778</td>\n",
       "      <td>41.850000</td>\n",
       "      <td>18228.700000</td>\n",
       "      <td>1.483333</td>\n",
       "      <td>1.944444</td>\n",
       "    </tr>\n",
       "    <tr>\n",
       "      <th>181</th>\n",
       "      <td>4</td>\n",
       "      <td>-98.092563</td>\n",
       "      <td>17.69439</td>\n",
       "      <td>1481.777778</td>\n",
       "      <td>29.947685</td>\n",
       "      <td>22.687500</td>\n",
       "      <td>29.962963</td>\n",
       "      <td>63.847222</td>\n",
       "      <td>17500.962963</td>\n",
       "      <td>1.513889</td>\n",
       "      <td>2.000000</td>\n",
       "    </tr>\n",
       "    <tr>\n",
       "      <th>182</th>\n",
       "      <td>0</td>\n",
       "      <td>-95.152563</td>\n",
       "      <td>17.49839</td>\n",
       "      <td>83.777778</td>\n",
       "      <td>30.463657</td>\n",
       "      <td>25.446759</td>\n",
       "      <td>30.300926</td>\n",
       "      <td>174.516204</td>\n",
       "      <td>16468.243056</td>\n",
       "      <td>2.509259</td>\n",
       "      <td>2.666667</td>\n",
       "    </tr>\n",
       "    <tr>\n",
       "      <th>183</th>\n",
       "      <td>33</td>\n",
       "      <td>-110.979563</td>\n",
       "      <td>28.57239</td>\n",
       "      <td>389.111111</td>\n",
       "      <td>31.473333</td>\n",
       "      <td>23.091667</td>\n",
       "      <td>31.511111</td>\n",
       "      <td>25.327778</td>\n",
       "      <td>18300.894444</td>\n",
       "      <td>1.494444</td>\n",
       "      <td>2.036111</td>\n",
       "    </tr>\n",
       "    <tr>\n",
       "      <th>184</th>\n",
       "      <td>0</td>\n",
       "      <td>-112.498563</td>\n",
       "      <td>30.43439</td>\n",
       "      <td>187.777778</td>\n",
       "      <td>31.184491</td>\n",
       "      <td>22.092593</td>\n",
       "      <td>31.261574</td>\n",
       "      <td>13.986111</td>\n",
       "      <td>19053.881944</td>\n",
       "      <td>1.500000</td>\n",
       "      <td>2.287037</td>\n",
       "    </tr>\n",
       "    <tr>\n",
       "      <th>185</th>\n",
       "      <td>0</td>\n",
       "      <td>-97.210563</td>\n",
       "      <td>17.15539</td>\n",
       "      <td>2040.222222</td>\n",
       "      <td>23.846528</td>\n",
       "      <td>17.997685</td>\n",
       "      <td>23.898148</td>\n",
       "      <td>63.219907</td>\n",
       "      <td>17210.483796</td>\n",
       "      <td>1.094907</td>\n",
       "      <td>2.307870</td>\n",
       "    </tr>\n",
       "    <tr>\n",
       "      <th>186</th>\n",
       "      <td>1</td>\n",
       "      <td>-100.493563</td>\n",
       "      <td>27.15139</td>\n",
       "      <td>267.000000</td>\n",
       "      <td>29.418055</td>\n",
       "      <td>22.703704</td>\n",
       "      <td>29.416667</td>\n",
       "      <td>35.157407</td>\n",
       "      <td>16317.270833</td>\n",
       "      <td>1.500000</td>\n",
       "      <td>3.333333</td>\n",
       "    </tr>\n",
       "    <tr>\n",
       "      <th>187</th>\n",
       "      <td>1</td>\n",
       "      <td>-96.818563</td>\n",
       "      <td>16.37139</td>\n",
       "      <td>1618.222222</td>\n",
       "      <td>26.253009</td>\n",
       "      <td>20.324074</td>\n",
       "      <td>26.310185</td>\n",
       "      <td>72.759259</td>\n",
       "      <td>17411.108796</td>\n",
       "      <td>1.414352</td>\n",
       "      <td>2.354167</td>\n",
       "    </tr>\n",
       "    <tr>\n",
       "      <th>188</th>\n",
       "      <td>2</td>\n",
       "      <td>-102.257563</td>\n",
       "      <td>18.47839</td>\n",
       "      <td>961.222222</td>\n",
       "      <td>29.339352</td>\n",
       "      <td>23.039352</td>\n",
       "      <td>29.391204</td>\n",
       "      <td>75.180556</td>\n",
       "      <td>18105.715278</td>\n",
       "      <td>1.921296</td>\n",
       "      <td>1.675926</td>\n",
       "    </tr>\n",
       "    <tr>\n",
       "      <th>189</th>\n",
       "      <td>2</td>\n",
       "      <td>-101.522563</td>\n",
       "      <td>27.00439</td>\n",
       "      <td>526.444444</td>\n",
       "      <td>29.212222</td>\n",
       "      <td>21.677778</td>\n",
       "      <td>29.297222</td>\n",
       "      <td>28.694444</td>\n",
       "      <td>16275.380556</td>\n",
       "      <td>1.500000</td>\n",
       "      <td>2.666667</td>\n",
       "    </tr>\n",
       "    <tr>\n",
       "      <th>190</th>\n",
       "      <td>0</td>\n",
       "      <td>-102.747563</td>\n",
       "      <td>28.71939</td>\n",
       "      <td>1072.222222</td>\n",
       "      <td>29.531944</td>\n",
       "      <td>20.233796</td>\n",
       "      <td>29.530093</td>\n",
       "      <td>20.136574</td>\n",
       "      <td>17897.872685</td>\n",
       "      <td>1.333333</td>\n",
       "      <td>3.326389</td>\n",
       "    </tr>\n",
       "    <tr>\n",
       "      <th>191</th>\n",
       "      <td>0</td>\n",
       "      <td>-106.961563</td>\n",
       "      <td>28.86639</td>\n",
       "      <td>2192.000000</td>\n",
       "      <td>23.144213</td>\n",
       "      <td>13.782407</td>\n",
       "      <td>23.199074</td>\n",
       "      <td>39.671296</td>\n",
       "      <td>18380.780093</td>\n",
       "      <td>0.576389</td>\n",
       "      <td>3.222222</td>\n",
       "    </tr>\n",
       "    <tr>\n",
       "      <th>192</th>\n",
       "      <td>0</td>\n",
       "      <td>-96.916563</td>\n",
       "      <td>17.05739</td>\n",
       "      <td>2136.500000</td>\n",
       "      <td>22.945602</td>\n",
       "      <td>17.298611</td>\n",
       "      <td>23.002315</td>\n",
       "      <td>61.113426</td>\n",
       "      <td>17017.231481</td>\n",
       "      <td>1.083333</td>\n",
       "      <td>2.460648</td>\n",
       "    </tr>\n",
       "    <tr>\n",
       "      <th>193</th>\n",
       "      <td>0</td>\n",
       "      <td>-98.778563</td>\n",
       "      <td>25.82839</td>\n",
       "      <td>169.444444</td>\n",
       "      <td>29.676157</td>\n",
       "      <td>23.502315</td>\n",
       "      <td>29.752315</td>\n",
       "      <td>45.254630</td>\n",
       "      <td>16930.733796</td>\n",
       "      <td>2.000000</td>\n",
       "      <td>3.500000</td>\n",
       "    </tr>\n",
       "    <tr>\n",
       "      <th>194</th>\n",
       "      <td>6</td>\n",
       "      <td>-97.357563</td>\n",
       "      <td>17.44939</td>\n",
       "      <td>2265.333333</td>\n",
       "      <td>22.061111</td>\n",
       "      <td>15.569444</td>\n",
       "      <td>22.122685</td>\n",
       "      <td>55.636574</td>\n",
       "      <td>16898.157407</td>\n",
       "      <td>1.000000</td>\n",
       "      <td>2.386574</td>\n",
       "    </tr>\n",
       "    <tr>\n",
       "      <th>195</th>\n",
       "      <td>0</td>\n",
       "      <td>-110.342563</td>\n",
       "      <td>29.35639</td>\n",
       "      <td>467.333333</td>\n",
       "      <td>32.770834</td>\n",
       "      <td>22.300926</td>\n",
       "      <td>32.796296</td>\n",
       "      <td>40.164352</td>\n",
       "      <td>18484.782407</td>\n",
       "      <td>1.312500</td>\n",
       "      <td>2.333333</td>\n",
       "    </tr>\n",
       "    <tr>\n",
       "      <th>196</th>\n",
       "      <td>0</td>\n",
       "      <td>-91.673563</td>\n",
       "      <td>18.13539</td>\n",
       "      <td>7.444444</td>\n",
       "      <td>32.432176</td>\n",
       "      <td>26.791667</td>\n",
       "      <td>32.518519</td>\n",
       "      <td>137.837963</td>\n",
       "      <td>17952.881944</td>\n",
       "      <td>2.666667</td>\n",
       "      <td>2.930556</td>\n",
       "    </tr>\n",
       "    <tr>\n",
       "      <th>197</th>\n",
       "      <td>0</td>\n",
       "      <td>-103.482563</td>\n",
       "      <td>22.69239</td>\n",
       "      <td>2260.444444</td>\n",
       "      <td>23.924306</td>\n",
       "      <td>15.395833</td>\n",
       "      <td>23.979167</td>\n",
       "      <td>46.421296</td>\n",
       "      <td>18108.761574</td>\n",
       "      <td>1.000000</td>\n",
       "      <td>2.891204</td>\n",
       "    </tr>\n",
       "    <tr>\n",
       "      <th>198</th>\n",
       "      <td>16</td>\n",
       "      <td>-98.778563</td>\n",
       "      <td>20.78139</td>\n",
       "      <td>1482.777778</td>\n",
       "      <td>26.545833</td>\n",
       "      <td>19.435185</td>\n",
       "      <td>26.592593</td>\n",
       "      <td>79.594907</td>\n",
       "      <td>18359.877315</td>\n",
       "      <td>1.557870</td>\n",
       "      <td>1.824074</td>\n",
       "    </tr>\n",
       "  </tbody>\n",
       "</table>\n",
       "<p>199 rows × 11 columns</p>\n",
       "</div>"
      ],
      "text/plain": [
       "     n.Family   Longitude  Latitude  Elevation_mean  MaxTemperature_mean  \\\n",
       "0           4 -113.380563  27.54339       63.222222            30.225231   \n",
       "1           0  -97.406563  25.68139        3.888889            27.693981   \n",
       "2           2 -103.629563  22.83939     2353.000000            21.844722   \n",
       "3           9 -107.255563  25.97539     1305.777778            27.772222   \n",
       "4           1  -98.974563  24.35839      283.444444            30.418518   \n",
       "5           0  -97.994563  24.16239       59.555556            29.541945   \n",
       "6           0 -106.667563  29.06239     2240.333333            22.721111   \n",
       "7           0 -100.493563  22.25139     1603.111111            25.656250   \n",
       "8           0  -95.299563  16.61639      271.250000            31.701620   \n",
       "9           0 -106.814563  31.41439     1211.666667            26.597222   \n",
       "10          1  -99.023563  17.89039      815.888889            32.228935   \n",
       "11          0 -113.233563  27.78839      216.166667            29.732407   \n",
       "12          0 -112.939563  26.90639      136.777778            30.578241   \n",
       "13          0 -100.787563  23.86839     1726.444444            27.528056   \n",
       "14         44 -103.580563  19.40939     1346.555556            27.888426   \n",
       "15          0 -112.988563  30.87539       22.666667            32.181018   \n",
       "16          0 -101.032563  23.62339     1799.888889            27.013194   \n",
       "17          9  -99.709563  21.02639     1356.444444            28.286111   \n",
       "18          0 -104.021563  28.52339     1343.444444            27.292824   \n",
       "19          0  -98.288563  20.48739     1169.000000            24.919444   \n",
       "20          2  -92.163563  18.42939        1.666667            31.868611   \n",
       "21         60  -96.475563  17.40039     2826.500000            16.629398   \n",
       "22          1 -101.277563  27.15139      406.444444            29.409954   \n",
       "23          0 -107.941563  25.63239      228.444444            32.415046   \n",
       "24          0  -88.684563  19.16439       29.666667            31.935185   \n",
       "25          0 -105.883563  28.03339     1493.250000            26.573380   \n",
       "26          0 -104.609563  22.05539      836.666667            32.620139   \n",
       "27          0 -106.226563  26.07339     2871.000000            19.302778   \n",
       "28          9 -100.199563  17.59639     1600.000000            28.980324   \n",
       "29          5 -108.088563  29.25839     2150.888889            21.584722   \n",
       "..        ...         ...       ...             ...                  ...   \n",
       "169         0 -107.059563  31.21839     1170.444444            26.485880   \n",
       "170        35 -108.137563  28.57239     2482.444444            20.524444   \n",
       "171         5  -89.811563  20.87939       10.777778            32.568055   \n",
       "172        17 -109.264563  27.05339      155.444444            32.153009   \n",
       "173         0 -106.912563  27.98439     2163.777778            23.950278   \n",
       "174         2  -96.622563  18.57639      168.333333            30.676620   \n",
       "175         0 -107.941563  27.88639     2167.333333            23.537963   \n",
       "176         0 -103.874563  25.68139     1786.111111            27.698148   \n",
       "177         3 -101.277563  28.42539      607.777778            28.568519   \n",
       "178         4  -95.985563  18.82139        7.333333            30.959722   \n",
       "179         8  -99.415563  22.83939      406.555556            29.970139   \n",
       "180         1  -99.954563  21.51639     1267.333333            27.950833   \n",
       "181         4  -98.092563  17.69439     1481.777778            29.947685   \n",
       "182         0  -95.152563  17.49839       83.777778            30.463657   \n",
       "183        33 -110.979563  28.57239      389.111111            31.473333   \n",
       "184         0 -112.498563  30.43439      187.777778            31.184491   \n",
       "185         0  -97.210563  17.15539     2040.222222            23.846528   \n",
       "186         1 -100.493563  27.15139      267.000000            29.418055   \n",
       "187         1  -96.818563  16.37139     1618.222222            26.253009   \n",
       "188         2 -102.257563  18.47839      961.222222            29.339352   \n",
       "189         2 -101.522563  27.00439      526.444444            29.212222   \n",
       "190         0 -102.747563  28.71939     1072.222222            29.531944   \n",
       "191         0 -106.961563  28.86639     2192.000000            23.144213   \n",
       "192         0  -96.916563  17.05739     2136.500000            22.945602   \n",
       "193         0  -98.778563  25.82839      169.444444            29.676157   \n",
       "194         6  -97.357563  17.44939     2265.333333            22.061111   \n",
       "195         0 -110.342563  29.35639      467.333333            32.770834   \n",
       "196         0  -91.673563  18.13539        7.444444            32.432176   \n",
       "197         0 -103.482563  22.69239     2260.444444            23.924306   \n",
       "198        16  -98.778563  20.78139     1482.777778            26.545833   \n",
       "\n",
       "     MeanTemperature_mean  MinTemperature_mean  Precipitation_mean  \\\n",
       "0               20.766204            30.317130            7.560185   \n",
       "1               23.069444            27.807870           58.791667   \n",
       "2               13.783333            21.880556           47.480556   \n",
       "3               20.793981            27.831019           85.865741   \n",
       "4               23.655093            30.504630           57.622685   \n",
       "5               23.255556            29.461111           55.769444   \n",
       "6               13.372222            22.769444           43.850000   \n",
       "7               18.354167            25.703704           45.997685   \n",
       "8               26.263889            31.724537           44.273148   \n",
       "9               17.104167            26.604167           19.215278   \n",
       "10              25.745370            32.284722           80.622685   \n",
       "11              21.134259            29.807870            9.421296   \n",
       "12              21.736111            30.655093            8.877315   \n",
       "13              17.938889            27.700000           28.536111   \n",
       "14              20.500000            27.939815           89.576389   \n",
       "15              22.745370            32.243056           10.502315   \n",
       "16              17.756944            27.074074           27.969907   \n",
       "17              20.833333            28.365741           37.680556   \n",
       "18              18.108796            27.331019           24.937500   \n",
       "19              19.180556            24.972222          162.833333   \n",
       "20              26.583333            32.044444          139.441667   \n",
       "21              11.905093            16.678241           98.581019   \n",
       "22              22.152778            29.428241           30.201389   \n",
       "23              24.685185            32.493056           61.928241   \n",
       "24              25.722222            31.865741           85.018519   \n",
       "25              18.104167            26.627315           33.384259   \n",
       "26              24.546296            32.648148           86.067130   \n",
       "27               9.703704            19.321759           65.534722   \n",
       "28              22.493056            29.018519           99.696759   \n",
       "29              11.777778            21.645833           52.516204   \n",
       "..                    ...                  ...                 ...   \n",
       "169             17.199074            26.562500           20.368056   \n",
       "170             11.141667            20.552778           70.527778   \n",
       "171             26.000000            32.594444           82.211111   \n",
       "172             23.995370            32.273148           40.631944   \n",
       "173             13.988889            23.986111           44.075000   \n",
       "174             25.030093            30.719907          203.196759   \n",
       "175             14.384259            23.592593           72.960648   \n",
       "176             18.909722            27.775463           28.988426   \n",
       "177             20.594907            28.576389           34.500000   \n",
       "178             25.611111            31.053241          124.363426   \n",
       "179             23.622685            30.000000          103.298611   \n",
       "180             21.075000            27.977778           41.850000   \n",
       "181             22.687500            29.962963           63.847222   \n",
       "182             25.446759            30.300926          174.516204   \n",
       "183             23.091667            31.511111           25.327778   \n",
       "184             22.092593            31.261574           13.986111   \n",
       "185             17.997685            23.898148           63.219907   \n",
       "186             22.703704            29.416667           35.157407   \n",
       "187             20.324074            26.310185           72.759259   \n",
       "188             23.039352            29.391204           75.180556   \n",
       "189             21.677778            29.297222           28.694444   \n",
       "190             20.233796            29.530093           20.136574   \n",
       "191             13.782407            23.199074           39.671296   \n",
       "192             17.298611            23.002315           61.113426   \n",
       "193             23.502315            29.752315           45.254630   \n",
       "194             15.569444            22.122685           55.636574   \n",
       "195             22.300926            32.796296           40.164352   \n",
       "196             26.791667            32.518519          137.837963   \n",
       "197             15.395833            23.979167           46.421296   \n",
       "198             19.435185            26.592593           79.594907   \n",
       "\n",
       "     SolarRadiation_mean  Vapor_mean  WindSpeed_mean  \n",
       "0           18867.312500    1.750000        2.263889  \n",
       "1           16915.250000    2.212963        4.416667  \n",
       "2           18051.152778    1.000000        3.113889  \n",
       "3           18112.976852    1.300926        2.185185  \n",
       "4           17391.502315    1.974537        2.233796  \n",
       "5           17422.047222    2.333333        2.908333  \n",
       "6           18295.166667    0.513889        3.533333  \n",
       "7           18172.048611    1.365741        2.250000  \n",
       "8           17577.493056    2.388889        3.037037  \n",
       "9           19579.583333    1.083333        3.250000  \n",
       "10          18096.291667    2.000000        1.418981  \n",
       "11          19003.574074    1.673611        2.247685  \n",
       "12          19010.567130    1.768519        2.502315  \n",
       "13          17725.819444    1.333333        3.166667  \n",
       "14          18087.090278    1.469907        1.502315  \n",
       "15          19246.053241    1.506944        3.000000  \n",
       "16          17872.918981    1.250000        3.166667  \n",
       "17          19127.131944    1.500000        1.995370  \n",
       "18          17966.238426    1.194444        3.166667  \n",
       "19          17846.338889    1.644444        1.650000  \n",
       "20          17778.838889    2.666667        3.294444  \n",
       "21          16566.886574    1.000000        3.078704  \n",
       "22          16676.979167    1.500000        2.879630  \n",
       "23          17890.090278    1.664352        2.011574  \n",
       "24          18102.775463    2.500000        2.250000  \n",
       "25          17960.446759    1.224537        2.453704  \n",
       "26          18346.692130    1.587963        1.351852  \n",
       "27          17588.548611    0.560185        3.631944  \n",
       "28          18192.194444    1.622685        1.837963  \n",
       "29          18631.537037    0.548611        3.210648  \n",
       "..                   ...         ...             ...  \n",
       "169         19424.247685    1.166667        3.166667  \n",
       "170         18496.305556    0.463889        3.511111  \n",
       "171         17803.841667    2.500000        3.083333  \n",
       "172         18198.136574    1.500000        2.270833  \n",
       "173         18177.272222    0.650000        3.069444  \n",
       "174         16055.692130    2.453704        2.000000  \n",
       "175         18324.532407    0.752315        2.990741  \n",
       "176         16901.875000    1.129630        2.736111  \n",
       "177         17102.789352    1.416667        3.416667  \n",
       "178         16051.768519    2.583333        3.557870  \n",
       "179         17796.365741    1.902778        1.606481  \n",
       "180         18228.700000    1.483333        1.944444  \n",
       "181         17500.962963    1.513889        2.000000  \n",
       "182         16468.243056    2.509259        2.666667  \n",
       "183         18300.894444    1.494444        2.036111  \n",
       "184         19053.881944    1.500000        2.287037  \n",
       "185         17210.483796    1.094907        2.307870  \n",
       "186         16317.270833    1.500000        3.333333  \n",
       "187         17411.108796    1.414352        2.354167  \n",
       "188         18105.715278    1.921296        1.675926  \n",
       "189         16275.380556    1.500000        2.666667  \n",
       "190         17897.872685    1.333333        3.326389  \n",
       "191         18380.780093    0.576389        3.222222  \n",
       "192         17017.231481    1.083333        2.460648  \n",
       "193         16930.733796    2.000000        3.500000  \n",
       "194         16898.157407    1.000000        2.386574  \n",
       "195         18484.782407    1.312500        2.333333  \n",
       "196         17952.881944    2.666667        2.930556  \n",
       "197         18108.761574    1.000000        2.891204  \n",
       "198         18359.877315    1.557870        1.824074  \n",
       "\n",
       "[199 rows x 11 columns]"
      ]
     },
     "execution_count": 16,
     "metadata": {},
     "output_type": "execute_result"
    }
   ],
   "source": [
    "data"
   ]
  },
  {
   "cell_type": "markdown",
   "metadata": {},
   "source": [
    "## Here development for getting environmental covariates for each cell\n",
    "Let's bring the environmental value per cell"
   ]
  },
  {
   "cell_type": "code",
   "execution_count": 21,
   "metadata": {
    "collapsed": false
   },
   "outputs": [],
   "source": [
    "cc = selection_of_cells.first()"
   ]
  },
  {
   "cell_type": "code",
   "execution_count": 23,
   "metadata": {
    "collapsed": false
   },
   "outputs": [
    {
     "data": {
      "text/plain": [
       "<py2neo.ogm.RelatedObjects at 0x7fc2bb575c50>"
      ]
     },
     "execution_count": 23,
     "metadata": {},
     "output_type": "execute_result"
    }
   ],
   "source": [
    "Sacar las celdas superiores hasta sacar una marca lloraras\n",
    "luego extraer la informacion raster en matriz\n",
    "usar la transformacion affin para generar coordenadas\n",
    "aplicar al modelo. con pymc3\n",
    "primero lineal y luego con gam o algo asi,\n"
   ]
  },
  {
   "cell_type": "code",
   "execution_count": null,
   "metadata": {
    "collapsed": false
   },
   "outputs": [],
   "source": [
    "c = c_iter.next()"
   ]
  },
  {
   "cell_type": "code",
   "execution_count": null,
   "metadata": {
    "collapsed": false
   },
   "outputs": [],
   "source": [
    "env_data = c.getAssociatedRasterAreaData('MeanTemperature')"
   ]
  },
  {
   "cell_type": "code",
   "execution_count": null,
   "metadata": {
    "collapsed": false
   },
   "outputs": [],
   "source": [
    "c.polygon.wkt"
   ]
  },
  {
   "cell_type": "code",
   "execution_count": null,
   "metadata": {
    "collapsed": false
   },
   "outputs": [],
   "source": [
    "env_data.getRaster()"
   ]
  },
  {
   "cell_type": "code",
   "execution_count": null,
   "metadata": {
    "collapsed": false
   },
   "outputs": [],
   "source": [
    "rast = c.getAssociatedRasterAreaData('Elevation')"
   ]
  },
  {
   "cell_type": "code",
   "execution_count": null,
   "metadata": {
    "collapsed": false
   },
   "outputs": [],
   "source": [
    "rast.display_field()"
   ]
  },
  {
   "cell_type": "markdown",
   "metadata": {},
   "source": [
    "## Let's see if we can get data from the upper scales\n"
   ]
  },
  {
   "cell_type": "code",
   "execution_count": null,
   "metadata": {
    "collapsed": false
   },
   "outputs": [],
   "source": [
    "c.upperCell.next()"
   ]
  },
  {
   "cell_type": "code",
   "execution_count": null,
   "metadata": {
    "collapsed": false
   },
   "outputs": [],
   "source": [
    "big_cell = c.upperCell.next().upperCell.next().upperCell.next()"
   ]
  },
  {
   "cell_type": "code",
   "execution_count": null,
   "metadata": {
    "collapsed": false
   },
   "outputs": [],
   "source": [
    "rr = big_cell.getAssociatedRasterAreaData('Elevation')"
   ]
  },
  {
   "cell_type": "code",
   "execution_count": null,
   "metadata": {
    "collapsed": false
   },
   "outputs": [],
   "source": [
    "rr.display_field()"
   ]
  },
  {
   "cell_type": "code",
   "execution_count": null,
   "metadata": {
    "collapsed": true
   },
   "outputs": [],
   "source": [
    "cells = list(selection_of_cells)"
   ]
  },
  {
   "cell_type": "code",
   "execution_count": null,
   "metadata": {
    "collapsed": false
   },
   "outputs": [],
   "source": [
    "%time tii = st.getEnvironmentalCovariatesFromListOfCells(cells)"
   ]
  },
  {
   "cell_type": "code",
   "execution_count": null,
   "metadata": {
    "collapsed": false
   },
   "outputs": [],
   "source": [
    "tii"
   ]
  },
  {
   "cell_type": "markdown",
   "metadata": {},
   "source": [
    "### Benchmarking time for retrieval using explicit lists vs lazy-evaluation\n"
   ]
  },
  {
   "cell_type": "code",
   "execution_count": null,
   "metadata": {
    "collapsed": false,
    "scrolled": true
   },
   "outputs": [],
   "source": [
    "%time samples = list(sel)"
   ]
  },
  {
   "cell_type": "code",
   "execution_count": null,
   "metadata": {
    "collapsed": false
   },
   "outputs": [],
   "source": [
    "%time ocs2 = map(lambda c : list(c.has_occurrences),samples)"
   ]
  },
  {
   "cell_type": "code",
   "execution_count": null,
   "metadata": {
    "collapsed": false
   },
   "outputs": [],
   "source": [
    "ocs2_l = filter(lambda k : k != [] ,ocs2)"
   ]
  },
  {
   "cell_type": "code",
   "execution_count": null,
   "metadata": {
    "collapsed": false
   },
   "outputs": [],
   "source": [
    "len(ocs2_l)"
   ]
  },
  {
   "cell_type": "code",
   "execution_count": null,
   "metadata": {
    "collapsed": false
   },
   "outputs": [],
   "source": [
    "lll = reduce(lambda a,b : a+b,ocs2_l)"
   ]
  },
  {
   "cell_type": "code",
   "execution_count": null,
   "metadata": {
    "collapsed": false
   },
   "outputs": [],
   "source": [
    "lll"
   ]
  },
  {
   "cell_type": "code",
   "execution_count": null,
   "metadata": {
    "collapsed": false,
    "scrolled": true
   },
   "outputs": [],
   "source": [
    "lll == ccc"
   ]
  },
  {
   "cell_type": "code",
   "execution_count": null,
   "metadata": {
    "collapsed": false
   },
   "outputs": [],
   "source": [
    "sel = Mex4km.select(graph).where(\"_.id IN  %s \"%str(c))"
   ]
  },
  {
   "cell_type": "code",
   "execution_count": null,
   "metadata": {
    "collapsed": true
   },
   "outputs": [],
   "source": []
  },
  {
   "cell_type": "code",
   "execution_count": null,
   "metadata": {
    "collapsed": true
   },
   "outputs": [],
   "source": []
  },
  {
   "cell_type": "code",
   "execution_count": null,
   "metadata": {
    "collapsed": false
   },
   "outputs": [],
   "source": [
    "def _try_levelnames_extraction(relationship):\n",
    "    \"\"\"\n",
    "    Extracts the end node relationship name.\n",
    "    for use with map functions.\n",
    "    \"\"\"\n",
    "    try:\n",
    "        a = relationship.start_node()['levelname']\n",
    "        return a\n",
    "    except:\n",
    "        return None\n",
    "    \n",
    "types = map(lambda r : map(lambda t : _try_levelnames_extraction(t),r),available_rels)"
   ]
  },
  {
   "cell_type": "code",
   "execution_count": null,
   "metadata": {
    "collapsed": false
   },
   "outputs": [],
   "source": [
    "types"
   ]
  },
  {
   "cell_type": "code",
   "execution_count": null,
   "metadata": {
    "collapsed": false
   },
   "outputs": [],
   "source": [
    "tt = tb.buildTreeNeo(samples[26])"
   ]
  },
  {
   "cell_type": "code",
   "execution_count": null,
   "metadata": {
    "collapsed": false
   },
   "outputs": [],
   "source": []
  },
  {
   "cell_type": "code",
   "execution_count": null,
   "metadata": {
    "collapsed": false
   },
   "outputs": [],
   "source": [
    "#For now not run\n",
    "#big_tree = reduce(lambda a,b : a+b , trees)\n",
    "import seaborn as sns"
   ]
  },
  {
   "cell_type": "code",
   "execution_count": null,
   "metadata": {
    "collapsed": true
   },
   "outputs": [],
   "source": [
    "t = trees[2]"
   ]
  },
  {
   "cell_type": "code",
   "execution_count": null,
   "metadata": {
    "collapsed": true
   },
   "outputs": [],
   "source": []
  },
  {
   "cell_type": "code",
   "execution_count": null,
   "metadata": {
    "collapsed": false
   },
   "outputs": [],
   "source": [
    "ll = map(lambda t : t.richness , trees)"
   ]
  },
  {
   "cell_type": "code",
   "execution_count": null,
   "metadata": {
    "collapsed": false
   },
   "outputs": [],
   "source": [
    "sns.distplot(ll)"
   ]
  },
  {
   "cell_type": "code",
   "execution_count": null,
   "metadata": {
    "collapsed": false
   },
   "outputs": [],
   "source": [
    "tl.plotTree(tt)"
   ]
  },
  {
   "cell_type": "code",
   "execution_count": null,
   "metadata": {
    "collapsed": false
   },
   "outputs": [],
   "source": [
    "import traversals.strategies as strg"
   ]
  },
  {
   "cell_type": "code",
   "execution_count": null,
   "metadata": {
    "collapsed": false
   },
   "outputs": [],
   "source": [
    "type(root)"
   ]
  },
  {
   "cell_type": "code",
   "execution_count": null,
   "metadata": {
    "collapsed": false
   },
   "outputs": [],
   "source": [
    "root = t.node"
   ]
  },
  {
   "cell_type": "code",
   "execution_count": null,
   "metadata": {
    "collapsed": false
   },
   "outputs": [],
   "source": [
    "a = strg.getPresencesForNode(root,trees)"
   ]
  },
  {
   "cell_type": "code",
   "execution_count": null,
   "metadata": {
    "collapsed": false
   },
   "outputs": [],
   "source": [
    "data_t = strg.getPresencesForListOfNodes([root],trees)"
   ]
  },
  {
   "cell_type": "code",
   "execution_count": null,
   "metadata": {
    "collapsed": false
   },
   "outputs": [],
   "source": [
    "data_t"
   ]
  },
  {
   "cell_type": "markdown",
   "metadata": {},
   "source": [
    "# The model"
   ]
  },
  {
   "cell_type": "code",
   "execution_count": 17,
   "metadata": {
    "collapsed": true
   },
   "outputs": [],
   "source": [
    "import pymc3 as pm"
   ]
  },
  {
   "cell_type": "code",
   "execution_count": null,
   "metadata": {
    "collapsed": true
   },
   "outputs": [],
   "source": []
  },
  {
   "cell_type": "code",
   "execution_count": 19,
   "metadata": {
    "collapsed": false,
    "scrolled": true
   },
   "outputs": [
    {
     "ename": "NameError",
     "evalue": "name 'model' is not defined",
     "output_type": "error",
     "traceback": [
      "\u001b[0;31m\u001b[0m",
      "\u001b[0;31mNameError\u001b[0mTraceback (most recent call last)",
      "\u001b[0;32m<ipython-input-19-1b992cda418b>\u001b[0m in \u001b[0;36m<module>\u001b[0;34m()\u001b[0m\n\u001b[1;32m      1\u001b[0m \u001b[0;32mfrom\u001b[0m \u001b[0mpymc3\u001b[0m \u001b[0;32mimport\u001b[0m \u001b[0mfind_MAP\u001b[0m\u001b[0;34m\u001b[0m\u001b[0m\n\u001b[0;32m----> 2\u001b[0;31m \u001b[0mmap_estimate\u001b[0m \u001b[0;34m=\u001b[0m \u001b[0mfind_MAP\u001b[0m\u001b[0;34m(\u001b[0m\u001b[0mmodel\u001b[0m\u001b[0;34m=\u001b[0m\u001b[0mmodel\u001b[0m\u001b[0;34m)\u001b[0m\u001b[0;34m\u001b[0m\u001b[0m\n\u001b[0m\u001b[1;32m      3\u001b[0m \u001b[0mmap_estimate\u001b[0m\u001b[0;34m\u001b[0m\u001b[0m\n",
      "\u001b[0;31mNameError\u001b[0m: name 'model' is not defined"
     ]
    }
   ],
   "source": [
    "from pymc3 import find_MAP\n",
    "map_estimate = find_MAP(model=model)\n",
    "map_estimate"
   ]
  },
  {
   "cell_type": "code",
   "execution_count": null,
   "metadata": {
    "collapsed": true
   },
   "outputs": [],
   "source": [
    "import pandas as pd"
   ]
  },
  {
   "cell_type": "code",
   "execution_count": null,
   "metadata": {
    "collapsed": false
   },
   "outputs": [],
   "source": [
    "mapxy = pd.concat([data_t[['Longitude','Latitude']],pd.DataFrame({'map': map_estimate['latent_field']})],axis=1)"
   ]
  },
  {
   "cell_type": "code",
   "execution_count": null,
   "metadata": {
    "collapsed": false
   },
   "outputs": [],
   "source": [
    "gmapxy = tools.toGeoDataFrame(mapxy,xcoord_name='Longitude',ycoord_name='Latitude')"
   ]
  },
  {
   "cell_type": "code",
   "execution_count": null,
   "metadata": {
    "collapsed": false
   },
   "outputs": [],
   "source": [
    "fig, ax = plt.subplots(figsize=(14, 9));\n",
    "gmapxy.plot(ax=ax,column='map')"
   ]
  },
  {
   "cell_type": "markdown",
   "metadata": {},
   "source": [
    "## Prediction\n",
    "The conditional method creates the conditional, or predictive, distribution over the latent function at arbitrary x∗x∗ input points, f(x∗)f(x∗). To construct the conditional distribution we write:"
   ]
  },
  {
   "cell_type": "code",
   "execution_count": null,
   "metadata": {
    "collapsed": true
   },
   "outputs": [],
   "source": [
    "minx = min(data_t.Longitude)\n",
    "maxx = max(data_t.Longitude)\n",
    "miny = min(data_t.Latitude)\n",
    "maxy = max(data_t.Latitude)"
   ]
  },
  {
   "cell_type": "code",
   "execution_count": null,
   "metadata": {
    "collapsed": false
   },
   "outputs": [],
   "source": [
    "from external_plugins.spystats.spystats import tools"
   ]
  },
  {
   "cell_type": "code",
   "execution_count": null,
   "metadata": {
    "collapsed": true
   },
   "outputs": [],
   "source": [
    "grid = tools.createGrid(grid_sizex=10,grid_sizey=10,minx=minx,miny=miny,maxx=maxx,maxy=maxy)"
   ]
  },
  {
   "cell_type": "code",
   "execution_count": null,
   "metadata": {
    "collapsed": false
   },
   "outputs": [],
   "source": []
  },
  {
   "cell_type": "code",
   "execution_count": null,
   "metadata": {
    "collapsed": false
   },
   "outputs": [],
   "source": [
    "gp.predict(grid[['Lon','Lat']])"
   ]
  },
  {
   "cell_type": "code",
   "execution_count": null,
   "metadata": {
    "collapsed": false
   },
   "outputs": [],
   "source": [
    "%time f_star = gp.conditional(\"f_star\", X=grid[['Lon','Lat']])"
   ]
  },
  {
   "cell_type": "code",
   "execution_count": null,
   "metadata": {
    "collapsed": false
   },
   "outputs": [],
   "source": [
    "getdata = lambda tree : tree.associatedData.getEnvironmentalVariablesCells()"
   ]
  },
  {
   "cell_type": "code",
   "execution_count": null,
   "metadata": {
    "collapsed": false
   },
   "outputs": [],
   "source": [
    "ts[1].associatedData.getEnvironmentalVariablesCells()"
   ]
  },
  {
   "cell_type": "code",
   "execution_count": null,
   "metadata": {
    "collapsed": false
   },
   "outputs": [],
   "source": [
    "list(choices)"
   ]
  },
  {
   "cell_type": "code",
   "execution_count": null,
   "metadata": {
    "collapsed": false
   },
   "outputs": [],
   "source": [
    "n"
   ]
  },
  {
   "cell_type": "code",
   "execution_count": null,
   "metadata": {
    "collapsed": true
   },
   "outputs": [],
   "source": []
  }
 ],
 "metadata": {
  "kernelspec": {
   "display_name": "Django Shell-Plus",
   "language": "python",
   "name": "django_extensions"
  },
  "language_info": {
   "codemirror_mode": {
    "name": "ipython",
    "version": 2
   },
   "file_extension": ".py",
   "mimetype": "text/x-python",
   "name": "python",
   "nbconvert_exporter": "python",
   "pygments_lexer": "ipython2",
   "version": "2.7.11"
  }
 },
 "nbformat": 4,
 "nbformat_minor": 0
}
