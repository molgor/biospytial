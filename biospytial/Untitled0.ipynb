{
 "metadata": {
  "name": "",
  "signature": "sha256:46129a7ac9f21b971227732f9293fa0117686023d312b4858368188560fbd3ee"
 },
 "nbformat": 3,
 "nbformat_minor": 0,
 "worksheets": []
}