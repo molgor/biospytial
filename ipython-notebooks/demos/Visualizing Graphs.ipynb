{
 "cells": [
  {
   "cell_type": "markdown",
   "metadata": {},
   "source": [
    "# Working with graphs (Part 1)\n",
    "Visualization"
   ]
  },
  {
   "cell_type": "markdown",
   "metadata": {},
   "source": [
    "### In this exercise we will obtain a sample set of trees related with the Bats (Order) node. We will convert it to a Network object for visualizing and exploring graph properties.\n"
   ]
  },
  {
   "cell_type": "code",
   "execution_count": 1,
   "metadata": {
    "collapsed": true
   },
   "outputs": [],
   "source": [
    "## Import modules and libraries\n",
    "%matplotlib inline\n",
    "import sys\n",
    "sys.path.append('/apps')\n",
    "import django\n",
    "django.setup()\n",
    "import numpy as np\n",
    "import matplotlib.pyplot as plt\n",
    "# visualizing and analysing\n",
    "from networkx.drawing.nx_agraph import graphviz_layout\n",
    "import networkx as nt"
   ]
  },
  {
   "cell_type": "markdown",
   "metadata": {},
   "source": [
    "## Biospytial modules"
   ]
  },
  {
   "cell_type": "code",
   "execution_count": 2,
   "metadata": {
    "collapsed": true
   },
   "outputs": [],
   "source": [
    "## Import modules\n",
    "from drivers.tree_builder import TreeNeo\n",
    "from drivers.graph_models import TreeNode, Order, Family, graph, pickNode\n",
    "from traversals.strategies import sumTrees, UniformRandomSampleForest\n"
   ]
  },
  {
   "cell_type": "markdown",
   "metadata": {},
   "source": [
    "## Pick the node \"Bats\" (Chiroptera)"
   ]
  },
  {
   "cell_type": "code",
   "execution_count": 3,
   "metadata": {
    "collapsed": true
   },
   "outputs": [],
   "source": [
    "bats = pickNode(Order,'Chiropt')"
   ]
  },
  {
   "cell_type": "code",
   "execution_count": 4,
   "metadata": {
    "collapsed": false
   },
   "outputs": [
    {
     "name": "stdout",
     "output_type": "stream",
     "text": [
      "CPU times: user 10.8 s, sys: 1.29 s, total: 12.1 s\n",
      "Wall time: 13.8 s\n"
     ]
    }
   ],
   "source": [
    "%time cells = list(bats.cells)"
   ]
  },
  {
   "cell_type": "code",
   "execution_count": 5,
   "metadata": {
    "collapsed": true
   },
   "outputs": [],
   "source": [
    "trees = UniformRandomSampleForest(cells,10)"
   ]
  },
  {
   "cell_type": "code",
   "execution_count": 6,
   "metadata": {
    "collapsed": false
   },
   "outputs": [
    {
     "name": "stdout",
     "output_type": "stream",
     "text": [
      "CPU times: user 7.82 s, sys: 370 ms, total: 8.19 s\n",
      "Wall time: 11.3 s\n"
     ]
    }
   ],
   "source": [
    "## trees is a generator -> cast to list\n",
    "%time trees = list(trees)"
   ]
  },
  {
   "cell_type": "markdown",
   "metadata": {},
   "source": [
    "### It is possible to get faster data (not a random sample)"
   ]
  },
  {
   "cell_type": "code",
   "execution_count": 7,
   "metadata": {
    "collapsed": false
   },
   "outputs": [
    {
     "name": "stderr",
     "output_type": "stream",
     "text": [
      "INFO Retrieving cells\n",
      "INFO:biospytial.graph_models:Retrieving cells\n",
      "INFO Done!\n",
      "INFO:biospytial.graph_models:Done!\n",
      "INFO Retriving Occurrences\n",
      "INFO:biospytial.graph_models:Retriving Occurrences\n"
     ]
    },
    {
     "name": "stdout",
     "output_type": "stream",
     "text": [
      "CPU times: user 0 ns, sys: 0 ns, total: 0 ns\n",
      "Wall time: 4.44 ms\n"
     ]
    }
   ],
   "source": [
    "%time trees_fast = bats.getAssociatedTrees(first_n_cells=10)"
   ]
  },
  {
   "cell_type": "markdown",
   "metadata": {},
   "source": [
    "## Obtain a folded Tree (Sum, integral, etc..)\n",
    "Here the importance of Monoid structure"
   ]
  },
  {
   "cell_type": "code",
   "execution_count": 8,
   "metadata": {
    "collapsed": false
   },
   "outputs": [
    {
     "name": "stderr",
     "output_type": "stream",
     "text": [
      "INFO Merging Trees\n",
      "INFO Merging Trees\n",
      "INFO Merging Trees\n",
      "INFO Merging Trees\n",
      "INFO Merging Trees\n",
      "INFO Merging Trees\n",
      "INFO Merging Trees\n",
      "INFO Merging Trees\n",
      "INFO Merging Trees\n"
     ]
    }
   ],
   "source": [
    "bt = reduce(lambda a,b : a+b , trees)"
   ]
  },
  {
   "cell_type": "markdown",
   "metadata": {},
   "source": [
    "## Frequencies analysis for each node using a given list of trees."
   ]
  },
  {
   "cell_type": "code",
   "execution_count": 10,
   "metadata": {
    "collapsed": false
   },
   "outputs": [
    {
     "name": "stderr",
     "output_type": "stream",
     "text": [
      "INFO Going deep 1\n",
      "INFO Going deep 1\n",
      "INFO Going deep 1\n",
      "INFO Going deep 1\n",
      "INFO Going deep 1\n",
      "INFO Going deep 1\n",
      "INFO Going deep 1\n",
      "INFO Going deep 1\n",
      "INFO Going deep 1\n",
      "INFO Going deep 2\n",
      "INFO Going deep 1\n",
      "INFO Going deep 2\n",
      "INFO Going deep 1\n",
      "INFO Going deep 1\n",
      "INFO Going deep 2\n",
      "INFO Going deep 2\n",
      "INFO Going deep 3\n",
      "INFO Going deep 1\n",
      "INFO Going deep 1\n",
      "INFO Going deep 3\n",
      "INFO Going deep 3\n",
      "INFO Going deep 1\n",
      "INFO Going deep 2\n",
      "INFO Going deep 2\n",
      "INFO Going deep 2\n",
      "INFO Going deep 1\n",
      "INFO Going deep 1\n",
      "INFO Going deep 1\n",
      "INFO Going deep 1\n",
      "INFO Going deep 1\n",
      "INFO Going deep 1\n",
      "INFO Going deep 1\n",
      "INFO Going deep 1\n",
      "INFO Going deep 1\n",
      "INFO Going deep 1\n",
      "INFO Going deep 1\n",
      "INFO Going deep 1\n",
      "INFO Going deep 1\n",
      "INFO Going deep 1\n",
      "INFO Going deep 1\n",
      "INFO Going deep 1\n",
      "INFO Going deep 1\n",
      "INFO Going deep 1\n",
      "INFO Going deep 1\n",
      "INFO Going deep 2\n",
      "INFO Going deep 1\n",
      "INFO Going deep 2\n",
      "INFO Going deep 1\n",
      "INFO Going deep 1\n",
      "INFO Going deep 1\n",
      "INFO Going deep 1\n",
      "INFO Going deep 1\n",
      "INFO Going deep 2\n",
      "INFO Going deep 1\n",
      "INFO Going deep 1\n",
      "INFO Going deep 2\n",
      "INFO Going deep 1\n",
      "INFO Going deep 1\n",
      "INFO Going deep 1\n",
      "INFO Going deep 2\n",
      "INFO Going deep 1\n",
      "INFO Going deep 1\n",
      "INFO Going deep 1\n",
      "INFO Going deep 1\n",
      "INFO Going deep 2\n",
      "INFO Going deep 2\n",
      "INFO Going deep 1\n",
      "INFO Going deep 1\n",
      "INFO Going deep 1\n",
      "INFO Going deep 1\n",
      "INFO Going deep 1\n",
      "INFO Going deep 2\n",
      "INFO Going deep 3\n",
      "INFO Going deep 1\n",
      "INFO Going deep 1\n",
      "INFO Going deep 2\n",
      "INFO Going deep 1\n",
      "INFO Going deep 2\n",
      "INFO Going deep 2\n",
      "INFO Going deep 1\n",
      "INFO Going deep 1\n",
      "INFO Going deep 1\n",
      "INFO Going deep 1\n",
      "INFO Going deep 1\n",
      "INFO Going deep 1\n",
      "INFO Going deep 1\n",
      "INFO Going deep 1\n",
      "INFO Going deep 1\n",
      "INFO Going deep 1\n",
      "INFO Going deep 1\n",
      "INFO Going deep 1\n",
      "INFO Going deep 1\n",
      "INFO Going deep 1\n",
      "INFO Going deep 1\n",
      "INFO Going deep 1\n",
      "INFO Going deep 1\n",
      "INFO Going deep 1\n",
      "INFO Going deep 2\n",
      "INFO Going deep 1\n",
      "INFO Going deep 2\n",
      "INFO Going deep 1\n",
      "INFO Going deep 1\n",
      "INFO Going deep 1\n",
      "INFO Going deep 1\n",
      "INFO Going deep 1\n",
      "INFO Going deep 2\n",
      "INFO Going deep 1\n",
      "INFO Going deep 1\n",
      "INFO Going deep 1\n",
      "INFO Going deep 1\n",
      "INFO Going deep 1\n",
      "INFO Going deep 1\n",
      "INFO Going deep 1\n",
      "INFO Going deep 1\n",
      "INFO Going deep 1\n",
      "INFO Going deep 1\n",
      "INFO Going deep 1\n",
      "INFO Going deep 1\n",
      "INFO Going deep 1\n",
      "INFO Going deep 1\n",
      "INFO Going deep 1\n",
      "INFO Going deep 1\n",
      "INFO Going deep 1\n",
      "INFO Going deep 1\n",
      "INFO Going deep 1\n",
      "INFO Going deep 1\n",
      "INFO Going deep 1\n",
      "INFO Going deep 1\n",
      "INFO Going deep 1\n",
      "INFO Going deep 1\n",
      "INFO Going deep 1\n",
      "INFO Going deep 1\n",
      "INFO Going deep 1\n",
      "INFO Going deep 1\n",
      "INFO Going deep 1\n",
      "INFO Going deep 1\n",
      "INFO Going deep 1\n",
      "INFO Going deep 1\n",
      "INFO Going deep 1\n",
      "INFO Going deep 5\n",
      "INFO Going deep 1\n",
      "INFO Going deep 1\n",
      "INFO Going deep 1\n",
      "INFO Going deep 1\n",
      "INFO Going deep 1\n",
      "INFO Going deep 1\n",
      "INFO Going deep 1\n",
      "INFO Going deep 1\n",
      "INFO Going deep 1\n",
      "INFO Going deep 1\n",
      "INFO Going deep 1\n",
      "INFO Going deep 1\n",
      "INFO Going deep 1\n",
      "INFO Going deep 3\n",
      "INFO Going deep 1\n",
      "INFO Going deep 1\n",
      "INFO Going deep 4\n",
      "INFO Going deep 4\n",
      "INFO Going deep 1\n",
      "INFO Going deep 1\n",
      "INFO Going deep 1\n",
      "INFO Going deep 1\n",
      "INFO Going deep 1\n",
      "INFO Going deep 1\n",
      "INFO Going deep 2\n",
      "INFO Going deep 1\n",
      "INFO Going deep 1\n",
      "INFO Going deep 3\n",
      "INFO Going deep 1\n",
      "INFO Going deep 1\n",
      "INFO Going deep 2\n",
      "INFO Going deep 2\n",
      "INFO Going deep 2\n",
      "INFO Going deep 1\n",
      "INFO Going deep 1\n",
      "INFO Going deep 9\n",
      "INFO Going deep 2\n",
      "INFO Going deep 1\n",
      "INFO Going deep 2\n",
      "INFO Going deep 2\n",
      "INFO Going deep 1\n",
      "INFO Going deep 5\n",
      "INFO Going deep 1\n",
      "INFO Going deep 1\n",
      "INFO Going deep 1\n",
      "INFO Going deep 1\n",
      "INFO Going deep 1\n",
      "INFO Going deep 1\n",
      "INFO Going deep 10\n",
      "INFO Going deep 2\n",
      "INFO Going deep 1\n",
      "INFO Going deep 2\n",
      "INFO Going deep 2\n",
      "INFO Going deep 3\n",
      "INFO Going deep 3\n",
      "INFO Going deep 3\n",
      "INFO Going deep 4\n",
      "INFO Going deep 1\n",
      "INFO Going deep 1\n",
      "INFO Going deep 1\n",
      "INFO Going deep 6\n",
      "INFO Going deep 1\n",
      "INFO Going deep 1\n",
      "INFO Going deep 5\n",
      "INFO Going deep 1\n",
      "INFO Going deep 3\n",
      "INFO Going deep 1\n",
      "INFO Going deep 1\n",
      "INFO Going deep 5\n",
      "INFO Going deep 3\n",
      "INFO Going deep 1\n",
      "INFO Going deep 1\n",
      "INFO Going deep 4\n",
      "INFO Going deep 1\n",
      "INFO Going deep 2\n",
      "INFO Going deep 3\n",
      "INFO Going deep 8\n",
      "INFO Going deep 10\n",
      "INFO Going deep 10\n",
      "INFO Going deep 1\n",
      "INFO Going deep 1\n",
      "INFO Going deep 1\n",
      "INFO Going deep 1\n",
      "INFO Going deep 1\n",
      "INFO Going deep 1\n",
      "INFO Going deep 1\n",
      "INFO Going deep 1\n",
      "INFO Going deep 1\n",
      "INFO Going deep 1\n",
      "INFO Going deep 2\n",
      "INFO Going deep 1\n",
      "INFO Going deep 1\n",
      "INFO Going deep 1\n",
      "INFO Going deep 1\n",
      "INFO Going deep 1\n",
      "INFO Going deep 1\n",
      "INFO Going deep 1\n",
      "INFO Going deep 1\n",
      "INFO Going deep 3\n",
      "INFO Going deep 4\n",
      "INFO Going deep 4\n",
      "INFO Going deep 1\n",
      "INFO Going deep 1\n",
      "INFO Going deep 1\n",
      "INFO Going deep 1\n",
      "INFO Going deep 1\n",
      "INFO Going deep 10\n",
      "INFO Going deep 1\n",
      "INFO Going deep 1\n",
      "INFO Going deep 1\n",
      "INFO Going deep 1\n",
      "INFO Going deep 1\n",
      "INFO Going deep 1\n",
      "INFO Going deep 1\n",
      "INFO Going deep 1\n",
      "INFO Going deep 1\n",
      "INFO Going deep 2\n",
      "INFO Going deep 1\n",
      "INFO Going deep 1\n",
      "INFO Going deep 1\n",
      "INFO Going deep 1\n",
      "INFO Going deep 1\n",
      "INFO Going deep 3\n",
      "INFO Going deep 3\n",
      "INFO Going deep 1\n",
      "INFO Going deep 1\n",
      "INFO Going deep 1\n",
      "INFO Going deep 1\n",
      "INFO Going deep 1\n",
      "INFO Going deep 1\n",
      "INFO Going deep 1\n",
      "INFO Going deep 1\n",
      "INFO Going deep 1\n",
      "INFO Going deep 1\n",
      "INFO Going deep 1\n",
      "INFO Going deep 1\n",
      "INFO Going deep 3\n",
      "INFO Going deep 1\n",
      "INFO Going deep 1\n",
      "INFO Going deep 1\n",
      "INFO Going deep 1\n",
      "INFO Going deep 1\n",
      "INFO Going deep 2\n",
      "INFO Going deep 2\n",
      "INFO Going deep 1\n",
      "INFO Going deep 1\n",
      "INFO Going deep 1\n",
      "INFO Going deep 1\n",
      "INFO Going deep 1\n",
      "INFO Going deep 2\n",
      "INFO Going deep 1\n",
      "INFO Going deep 1\n",
      "INFO Going deep 1\n",
      "INFO Going deep 1\n",
      "INFO Going deep 1\n",
      "INFO Going deep 1\n",
      "INFO Going deep 1\n",
      "INFO Going deep 1\n",
      "INFO Going deep 1\n",
      "INFO Going deep 1\n",
      "INFO Going deep 1\n",
      "INFO Going deep 1\n",
      "INFO Going deep 4\n",
      "INFO Going deep 4\n",
      "INFO Going deep 1\n",
      "INFO Going deep 1\n",
      "INFO Going deep 1\n",
      "INFO Going deep 7\n",
      "INFO Going deep 8\n",
      "INFO Going deep 1\n",
      "INFO Going deep 1\n",
      "INFO Going deep 1\n",
      "INFO Going deep 1\n",
      "INFO Going deep 1\n",
      "INFO Going deep 8\n"
     ]
    },
    {
     "data": {
      "text/plain": [
       "0.05"
      ]
     },
     "execution_count": 10,
     "metadata": {},
     "output_type": "execute_result"
    }
   ],
   "source": [
    "bt.countNodesFrequenciesOnList(trees)"
   ]
  },
  {
   "cell_type": "markdown",
   "metadata": {},
   "source": [
    "## Convert the TreeNeo object to a Network instance (networkx)\n",
    "### The depth_level restricts the depth of the recursion process."
   ]
  },
  {
   "cell_type": "code",
   "execution_count": 11,
   "metadata": {
    "collapsed": false
   },
   "outputs": [],
   "source": [
    "gt = bt.toNetworkx(depth_level=4)"
   ]
  },
  {
   "cell_type": "markdown",
   "metadata": {},
   "source": [
    "## Visualizing the graph (now gt)"
   ]
  },
  {
   "cell_type": "code",
   "execution_count": 12,
   "metadata": {
    "collapsed": true
   },
   "outputs": [],
   "source": [
    "extractNames = lambda graph : {k:v for (k,v) in map(lambda n : (n,n.node.name),graph.nodes())}\n",
    "extractColors = lambda graph :  map(lambda n : n.level,graph.nodes())\n",
    "extractfreqs = lambda graph :  np.array(map(lambda n : n.n_presences_in_list,graph.nodes()))"
   ]
  },
  {
   "cell_type": "code",
   "execution_count": 13,
   "metadata": {
    "collapsed": false
   },
   "outputs": [
    {
     "data": {
      "image/png": "[encoded data removed]",
      "text/plain": [
       "<matplotlib.figure.Figure at 0x7fda278aa5d0>"
      ]
     },
     "metadata": {},
     "output_type": "display_data"
    }
   ],
   "source": [
    "root = bt.node\n",
    "pos = graphviz_layout(gt,prog='circo',root=root.node.name)\n",
    "g_labels = bt.toNetworkx(depth_level=4)\n",
    "nt.draw(gt,pos,labels=extractNames(g_labels),node_color=extractColors(gt),node_size=extractfreqs(gt)*100)\n",
    "plt.show()"
   ]
  },
  {
   "cell_type": "code",
   "execution_count": 12,
   "metadata": {
    "collapsed": false
   },
   "outputs": [
    {
     "ename": "NameError",
     "evalue": "name 'json' is not defined",
     "output_type": "error",
     "traceback": [
      "\u001b[0;31m\u001b[0m",
      "\u001b[0;31mNameError\u001b[0mTraceback (most recent call last)",
      "\u001b[0;32m<ipython-input-12-023ef993178b>\u001b[0m in \u001b[0;36m<module>\u001b[0;34m()\u001b[0m\n\u001b[1;32m      2\u001b[0m \u001b[0;32mfrom\u001b[0m \u001b[0mdrivers\u001b[0m\u001b[0;34m.\u001b[0m\u001b[0mencoders\u001b[0m \u001b[0;32mimport\u001b[0m \u001b[0mTreeNodeEncoder\u001b[0m\u001b[0;34m\u001b[0m\u001b[0m\n\u001b[1;32m      3\u001b[0m \u001b[0;32mfrom\u001b[0m \u001b[0mnetworkx\u001b[0m\u001b[0;34m.\u001b[0m\u001b[0mreadwrite\u001b[0m \u001b[0;32mimport\u001b[0m \u001b[0mjson_graph\u001b[0m\u001b[0;34m\u001b[0m\u001b[0m\n\u001b[0;32m----> 4\u001b[0;31m \u001b[0mxx\u001b[0m \u001b[0;34m=\u001b[0m \u001b[0mjson\u001b[0m\u001b[0;34m.\u001b[0m\u001b[0mdumps\u001b[0m\u001b[0;34m(\u001b[0m\u001b[0mjson_graph\u001b[0m\u001b[0;34m.\u001b[0m\u001b[0mnode_link_data\u001b[0m\u001b[0;34m(\u001b[0m\u001b[0mgt\u001b[0m\u001b[0;34m)\u001b[0m\u001b[0;34m,\u001b[0m\u001b[0mcls\u001b[0m\u001b[0;34m=\u001b[0m\u001b[0mTreeNodeEncoder\u001b[0m\u001b[0;34m)\u001b[0m\u001b[0;34m\u001b[0m\u001b[0m\n\u001b[0m",
      "\u001b[0;31mNameError\u001b[0m: name 'json' is not defined"
     ]
    }
   ],
   "source": [
    "## Convert to JSON and put it in the redis machine\n",
    "from drivers.encoders import TreeNodeEncoder\n",
    "from networkx.readwrite import json_graph\n",
    "xx = json.dumps(json_graph.node_link_data(gt),cls=TreeNodeEncoder)"
   ]
  },
  {
   "cell_type": "raw",
   "metadata": {
    "collapsed": false
   },
   "source": [
    "## just for testing\n",
    "from networkx.drawing.nx_agraph import graphviz_layout\n",
    "import networkx as nt\n",
    "from drivers.tree_builder import TreeNeo\n",
    "from drivers.graph_models import TreeNode, Order, Family, graph, pickNode\n",
    "from traversals.strategies import sumTrees, UniformRandomSampleForest\n",
    "import numpy as np\n",
    "import matplotlib.pyplot as plt\n",
    "bats = pickNode(Order,'Chiropt')\n",
    "trees = bats.getAssociatedTrees(first_n_cells=10)\n",
    "trees = list(trees)\n",
    "bt = reduce(lambda a,b : a+b , trees)\n",
    "gt = bt.toNetworkx(depth_level=6)\n",
    "bt.countNodesFrequenciesOnList(trees)\n",
    "extractNames = lambda graph : {k:v for (k,v) in map(lambda n : (n,n.node.name),graph.nodes())}\n",
    "extractColors = lambda graph :  map(lambda n : n.level,graph.nodes())\n",
    "extractfreqs = lambda graph :  np.array(map(lambda n : n.n_presences_in_list,graph.nodes()))\n",
    "root = bt.node\n",
    "pos = graphviz_layout(gt,prog='twopi',root=root.node.name)\n",
    "g_labels = bt.toNetworkx(depth_level=5)\n",
    "nt.draw(gt,pos,labels=extractNames(g_labels),node_color=extractColors(gt),node_size=extractfreqs(gt)*100)\n",
    "plt.show()\n",
    "\n",
    "\n"
   ]
  },
  {
   "cell_type": "code",
   "execution_count": null,
   "metadata": {
    "collapsed": true
   },
   "outputs": [],
   "source": []
  }
 ],
 "metadata": {
  "kernelspec": {
   "display_name": "Django Shell-Plus",
   "language": "python",
   "name": "django_extensions"
  },
  "language_info": {
   "codemirror_mode": {
    "name": "ipython",
    "version": 2
   },
   "file_extension": ".py",
   "mimetype": "text/x-python",
   "name": "python",
   "nbconvert_exporter": "python",
   "pygments_lexer": "ipython2",
   "version": "2.7.11"
  }
 },
 "nbformat": 4,
 "nbformat_minor": 0
}
