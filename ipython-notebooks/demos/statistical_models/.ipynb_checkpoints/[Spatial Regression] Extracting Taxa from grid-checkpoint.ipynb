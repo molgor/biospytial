{
 "cells": [
  {
   "cell_type": "markdown",
   "metadata": {},
   "source": [
    "# Spatial Regression of Abundance Data\n",
    "Here I show how to extract different taxonomic information at cell level.\n",
    "Although there exists a method for building the taxonomic tree within a single cell, the process can be computationally intensive because it depends on extracting the total amount of occurrences in each cell. From there, it traverses fromtop to bottom the tree looking for the corresponding nodes.\n",
    "\n",
    "The approach is usefull when one needs a small number of trees but it'll become increasingly slow if the amount of cells or occurrences increases. \n",
    "\n",
    "## Extracting specific taxonomic levels en each cells\n",
    "\n",
    "The method studied here makes use of the relationship type `IS_IN` stored in the knowledge graph.\n",
    "\n",
    "Note: *There was a problem with the design of the OGM implementation (py2neo.ogm). The retrieval of linked nodes based on a specific relation does not distinguish different labels. In other words it returns the totality of the data that has the  specific relationship given a node.*\n",
    "\n",
    "The solution was to include extra methods for the class Cell `has_[taxas]`. This method/attribute returns a graph selector that points to the corresponding nodes.\n",
    "\n",
    "Let's get started.\n",
    "As usual we need to load the necessary modules\n"
   ]
  },
  {
   "cell_type": "code",
   "execution_count": 1,
   "metadata": {
    "collapsed": false
   },
   "outputs": [],
   "source": [
    "%matplotlib inline\n",
    "import sys\n",
    "sys.path.append('/apps')\n",
    "import django\n",
    "django.setup()\n",
    "from drivers.tree_builder import TreeNeo\n",
    "from drivers.graph_models import TreeNode, Order, Family, graph,Kingdom,Occurrence\n",
    "from drivers.graph_models import Cell,Mex4km, countObjectsOf\n",
    "import matplotlib.pyplot as plt\n",
    "## Use the ggplot style\n",
    "plt.style.use('ggplot')"
   ]
  },
  {
   "cell_type": "markdown",
   "metadata": {},
   "source": [
    "## Random selection of cells.\n",
    "\n",
    "*Note* : There was a big problem in the data arquitecture. For storage reasons I couldn't load the complete world bioclimatic layers. Therefore I needed to put a regional subset that comprises only the Mexican Territory. \n",
    "For this reason, it is necessary that any approach for selecting subsamples needs to be constrained (filter) by this geometry. \n",
    "We can do that with this:"
   ]
  },
  {
   "cell_type": "code",
   "execution_count": 23,
   "metadata": {
    "collapsed": false
   },
   "outputs": [],
   "source": [
    "from sketches.models import Country\n",
    "Mexico = Country.objects.filter(name__contains=\"exico\").get()\n"
   ]
  },
  {
   "cell_type": "code",
   "execution_count": 29,
   "metadata": {
    "collapsed": false
   },
   "outputs": [],
   "source": [
    "from mesh.models import MexMesh\n",
    "mexican_cells = MexMesh.objects.filter(cell__intersects=Mexico.geom)"
   ]
  },
  {
   "cell_type": "code",
   "execution_count": 83,
   "metadata": {
    "collapsed": false
   },
   "outputs": [],
   "source": [
    "ids = map(lambda a : a[0] ,list(mexican_cells.values_list('pk')))"
   ]
  },
  {
   "cell_type": "code",
   "execution_count": 84,
   "metadata": {
    "collapsed": false
   },
   "outputs": [
    {
     "data": {
      "text/plain": [
       "[141272,\n",
       " 141273,\n",
       " 141274,\n",
       " 142023,\n",
       " 142024,\n",
       " 142025,\n",
       " 142026,\n",
       " 142027,\n",
       " 142028,\n",
       " 142029,\n",
       " 142030,\n",
       " 142031,\n",
       " 142032,\n",
       " 142033,\n",
       " 142034,\n",
       " 142035,\n",
       " 142036,\n",
       " 142037,\n",
       " 142038,\n",
       " 142039,\n",
       " 142776,\n",
       " 142777,\n",
       " 142778,\n",
       " 142779,\n",
       " 142780,\n",
       " 142781,\n",
       " 142782,\n",
       " 142783,\n",
       " 142772,\n",
       " 142773,\n",
       " 142774,\n",
       " 142775,\n",
       " 142784,\n",
       " 142785,\n",
       " 142786,\n",
       " 142787,\n",
       " 142788,\n",
       " 142789,\n",
       " 142790,\n",
       " 142791,\n",
       " 142792,\n",
       " 142793,\n",
       " 142794,\n",
       " 142795,\n",
       " 142796,\n",
       " 142797,\n",
       " 142798,\n",
       " 142799,\n",
       " 142800,\n",
       " 143520,\n",
       " 143521,\n",
       " 143522,\n",
       " 143523,\n",
       " 143524,\n",
       " 143525,\n",
       " 143526,\n",
       " 143527,\n",
       " 143528,\n",
       " 143529,\n",
       " 143530,\n",
       " 143531,\n",
       " 143532,\n",
       " 143533,\n",
       " 143534,\n",
       " 143535,\n",
       " 143536,\n",
       " 143537,\n",
       " 143538,\n",
       " 143539,\n",
       " 143540,\n",
       " 143541,\n",
       " 143542,\n",
       " 143543,\n",
       " 143544,\n",
       " 143545,\n",
       " 143546,\n",
       " 143547,\n",
       " 143548,\n",
       " 143549,\n",
       " 143550,\n",
       " 143551,\n",
       " 143552,\n",
       " 143553,\n",
       " 143554,\n",
       " 143555,\n",
       " 143556,\n",
       " 143557,\n",
       " 143558,\n",
       " 143559,\n",
       " 143560,\n",
       " 143561,\n",
       " 144274,\n",
       " 144275,\n",
       " 144272,\n",
       " 144273,\n",
       " 144276,\n",
       " 144277,\n",
       " 144278,\n",
       " 144279,\n",
       " 144280,\n",
       " 144281,\n",
       " 144282,\n",
       " 144283,\n",
       " 144284,\n",
       " 144285,\n",
       " 144286,\n",
       " 144287,\n",
       " 144288,\n",
       " 144289,\n",
       " 144290,\n",
       " 144291,\n",
       " 144292,\n",
       " 144293,\n",
       " 144294,\n",
       " 144295,\n",
       " 144296,\n",
       " 144297,\n",
       " 144298,\n",
       " 144299,\n",
       " 144300,\n",
       " 144301,\n",
       " 144302,\n",
       " 144303,\n",
       " 144304,\n",
       " 144305,\n",
       " 144306,\n",
       " 144307,\n",
       " 144308,\n",
       " 144309,\n",
       " 144310,\n",
       " 144311,\n",
       " 144312,\n",
       " 144313,\n",
       " 144314,\n",
       " 144315,\n",
       " 144316,\n",
       " 144317,\n",
       " 144318,\n",
       " 144319,\n",
       " 145049,\n",
       " 145050,\n",
       " 145051,\n",
       " 145052,\n",
       " 145053,\n",
       " 145054,\n",
       " 145055,\n",
       " 145056,\n",
       " 145057,\n",
       " 145027,\n",
       " 145028,\n",
       " 145029,\n",
       " 145030,\n",
       " 145031,\n",
       " 145032,\n",
       " 145033,\n",
       " 145034,\n",
       " 145035,\n",
       " 145036,\n",
       " 145037,\n",
       " 145038,\n",
       " 145039,\n",
       " 145040,\n",
       " 145041,\n",
       " 145042,\n",
       " 145043,\n",
       " 145044,\n",
       " 145045,\n",
       " 145046,\n",
       " 145047,\n",
       " 145048,\n",
       " 145058,\n",
       " 145059,\n",
       " 145060,\n",
       " 145061,\n",
       " 145062,\n",
       " 145063,\n",
       " 145064,\n",
       " 145065,\n",
       " 145066,\n",
       " 145067,\n",
       " 145068,\n",
       " 145069,\n",
       " 145070,\n",
       " 145071,\n",
       " 145072,\n",
       " 145073,\n",
       " 145074,\n",
       " 145075,\n",
       " 145076,\n",
       " 145797,\n",
       " 145798,\n",
       " 145799,\n",
       " 145800,\n",
       " 145801,\n",
       " 145802,\n",
       " 145803,\n",
       " 145804,\n",
       " 145805,\n",
       " 145806,\n",
       " 145807,\n",
       " 145792,\n",
       " 145793,\n",
       " 145794,\n",
       " 145795,\n",
       " 145796,\n",
       " 145782,\n",
       " 145783,\n",
       " 145784,\n",
       " 145785,\n",
       " 145786,\n",
       " 145787,\n",
       " 145788,\n",
       " 145789,\n",
       " 145790,\n",
       " 145791,\n",
       " 145808,\n",
       " 145809,\n",
       " 145810,\n",
       " 145811,\n",
       " 145812,\n",
       " 145813,\n",
       " 145814,\n",
       " 145815,\n",
       " 145816,\n",
       " 145817,\n",
       " 145818,\n",
       " 145819,\n",
       " 145820,\n",
       " 145821,\n",
       " 145822,\n",
       " 145823,\n",
       " 145824,\n",
       " 145825,\n",
       " 145826,\n",
       " 145827,\n",
       " 145828,\n",
       " 145829,\n",
       " 145830,\n",
       " 145831,\n",
       " 145832,\n",
       " 145833,\n",
       " 145834,\n",
       " 145835,\n",
       " 146559,\n",
       " 146560,\n",
       " 146561,\n",
       " 146562,\n",
       " 146563,\n",
       " 146564,\n",
       " 146532,\n",
       " 146533,\n",
       " 146534,\n",
       " 146535,\n",
       " 146536,\n",
       " 146537,\n",
       " 146538,\n",
       " 146539,\n",
       " 146540,\n",
       " 146541,\n",
       " 146542,\n",
       " 146543,\n",
       " 146544,\n",
       " 146545,\n",
       " 146546,\n",
       " 146547,\n",
       " 146548,\n",
       " 146549,\n",
       " 146550,\n",
       " 146551,\n",
       " 146552,\n",
       " 146553,\n",
       " 146554,\n",
       " 146555,\n",
       " 146556,\n",
       " 146557,\n",
       " 146558,\n",
       " 146565,\n",
       " 146566,\n",
       " 146567,\n",
       " 146568,\n",
       " 146569,\n",
       " 146570,\n",
       " 146571,\n",
       " 146572,\n",
       " 146573,\n",
       " 146574,\n",
       " 146575,\n",
       " 146576,\n",
       " 146577,\n",
       " 146578,\n",
       " 146579,\n",
       " 146580,\n",
       " 146581,\n",
       " 146582,\n",
       " 146583,\n",
       " 146584,\n",
       " 146585,\n",
       " 146586,\n",
       " 146587,\n",
       " 146588,\n",
       " 147295,\n",
       " 147296,\n",
       " 147287,\n",
       " 147288,\n",
       " 147289,\n",
       " 147290,\n",
       " 147291,\n",
       " 147292,\n",
       " 147293,\n",
       " 147294,\n",
       " 147282,\n",
       " 147283,\n",
       " 147284,\n",
       " 147285,\n",
       " 147286,\n",
       " 147297,\n",
       " 147298,\n",
       " 147299,\n",
       " 147300,\n",
       " 147301,\n",
       " 147302,\n",
       " 147303,\n",
       " 147304,\n",
       " 147305,\n",
       " 147306,\n",
       " 147307,\n",
       " 147308,\n",
       " 147309,\n",
       " 147310,\n",
       " 147311,\n",
       " 147312,\n",
       " 147313,\n",
       " 147314,\n",
       " 147315,\n",
       " 147316,\n",
       " 147317,\n",
       " 147318,\n",
       " 147319,\n",
       " 147320,\n",
       " 147321,\n",
       " 147322,\n",
       " 147323,\n",
       " 147324,\n",
       " 147325,\n",
       " 147326,\n",
       " 147327,\n",
       " 147328,\n",
       " 147329,\n",
       " 147330,\n",
       " 147331,\n",
       " 147332,\n",
       " 147333,\n",
       " 147334,\n",
       " 147335,\n",
       " 147336,\n",
       " 147337,\n",
       " 147338,\n",
       " 147339,\n",
       " 147340,\n",
       " 148041,\n",
       " 148042,\n",
       " 148043,\n",
       " 148044,\n",
       " 148045,\n",
       " 148046,\n",
       " 148047,\n",
       " 148048,\n",
       " 148049,\n",
       " 148050,\n",
       " 148051,\n",
       " 148052,\n",
       " 148053,\n",
       " 148054,\n",
       " 148055,\n",
       " 148056,\n",
       " 148057,\n",
       " 148058,\n",
       " 148059,\n",
       " 148060,\n",
       " 148061,\n",
       " 148062,\n",
       " 148063,\n",
       " 148064,\n",
       " 148065,\n",
       " 148066,\n",
       " 148067,\n",
       " 148068,\n",
       " 148069,\n",
       " 148070,\n",
       " 148071,\n",
       " 148072,\n",
       " 148073,\n",
       " 148074,\n",
       " 148075,\n",
       " 148076,\n",
       " 148077,\n",
       " 148078,\n",
       " 148079,\n",
       " 148030,\n",
       " 148031,\n",
       " 148032,\n",
       " 148033,\n",
       " 148034,\n",
       " 148035,\n",
       " 148036,\n",
       " 148037,\n",
       " 148038,\n",
       " 148039,\n",
       " 148040,\n",
       " 148080,\n",
       " 148081,\n",
       " 148082,\n",
       " 148083,\n",
       " 148084,\n",
       " 148085,\n",
       " 148086,\n",
       " 148087,\n",
       " 148088,\n",
       " 148089,\n",
       " 148090,\n",
       " 148091,\n",
       " 148092,\n",
       " 148782,\n",
       " 148783,\n",
       " 148784,\n",
       " 148785,\n",
       " 148786,\n",
       " 148779,\n",
       " 148787,\n",
       " 148778,\n",
       " 148780,\n",
       " 148781,\n",
       " 148788,\n",
       " 148789,\n",
       " 148790,\n",
       " 148791,\n",
       " 148792,\n",
       " 148793,\n",
       " 148794,\n",
       " 148795,\n",
       " 148796,\n",
       " 148797,\n",
       " 148798,\n",
       " 148799,\n",
       " 148800,\n",
       " 148801,\n",
       " 148802,\n",
       " 148803,\n",
       " 148804,\n",
       " 148805,\n",
       " 148806,\n",
       " 148807,\n",
       " 148808,\n",
       " 148809,\n",
       " 148810,\n",
       " 148811,\n",
       " 148812,\n",
       " 148813,\n",
       " 148814,\n",
       " 148815,\n",
       " 148816,\n",
       " 148817,\n",
       " 148818,\n",
       " 148819,\n",
       " 148820,\n",
       " 148821,\n",
       " 148822,\n",
       " 148823,\n",
       " 148824,\n",
       " 148825,\n",
       " 148826,\n",
       " 148827,\n",
       " 148828,\n",
       " 148829,\n",
       " 148830,\n",
       " 148831,\n",
       " 148832,\n",
       " 148833,\n",
       " 148834,\n",
       " 148835,\n",
       " 148836,\n",
       " 148837,\n",
       " 148838,\n",
       " 148839,\n",
       " 148840,\n",
       " 148841,\n",
       " 148842,\n",
       " 149546,\n",
       " 149547,\n",
       " 149548,\n",
       " 149543,\n",
       " 149544,\n",
       " 149545,\n",
       " 149522,\n",
       " 149523,\n",
       " 149524,\n",
       " 149525,\n",
       " 149526,\n",
       " 149527,\n",
       " 149528,\n",
       " 149529,\n",
       " 149530,\n",
       " 149531,\n",
       " 149532,\n",
       " 149533,\n",
       " 149534,\n",
       " 149535,\n",
       " 149536,\n",
       " 149537,\n",
       " 149538,\n",
       " 149539,\n",
       " 149540,\n",
       " 149541,\n",
       " 149542,\n",
       " 149549,\n",
       " 149550,\n",
       " 149551,\n",
       " 149552,\n",
       " 149553,\n",
       " 149554,\n",
       " 149555,\n",
       " 149556,\n",
       " 149557,\n",
       " 149558,\n",
       " 149559,\n",
       " 149560,\n",
       " 149561,\n",
       " 149562,\n",
       " 149563,\n",
       " 149564,\n",
       " 149565,\n",
       " 149566,\n",
       " 149567,\n",
       " 149568,\n",
       " 149569,\n",
       " 149570,\n",
       " 149571,\n",
       " 149572,\n",
       " 149573,\n",
       " 149574,\n",
       " 149575,\n",
       " 149576,\n",
       " 149577,\n",
       " 149578,\n",
       " 149579,\n",
       " 149580,\n",
       " 149581,\n",
       " 149582,\n",
       " 149583,\n",
       " 149584,\n",
       " 149585,\n",
       " 149586,\n",
       " 149587,\n",
       " 150263,\n",
       " 150264,\n",
       " 150265,\n",
       " 150266,\n",
       " 150267,\n",
       " 150268,\n",
       " 150269,\n",
       " 150270,\n",
       " 150271,\n",
       " 150272,\n",
       " 150273,\n",
       " 150274,\n",
       " 150275,\n",
       " 150276,\n",
       " 150277,\n",
       " 150278,\n",
       " 150279,\n",
       " 150280,\n",
       " 150281,\n",
       " 150282,\n",
       " 150283,\n",
       " 150284,\n",
       " 150285,\n",
       " 150286,\n",
       " 150287,\n",
       " 150288,\n",
       " 150289,\n",
       " 150290,\n",
       " 150291,\n",
       " 150292,\n",
       " 150293,\n",
       " 150294,\n",
       " 150295,\n",
       " 150296,\n",
       " 150297,\n",
       " 150298,\n",
       " 150299,\n",
       " 150300,\n",
       " 150301,\n",
       " 150302,\n",
       " 150303,\n",
       " 150304,\n",
       " 150305,\n",
       " 150306,\n",
       " 150307,\n",
       " 150308,\n",
       " 150309,\n",
       " 150310,\n",
       " 150311,\n",
       " 150312,\n",
       " 150313,\n",
       " 150314,\n",
       " 150315,\n",
       " 150316,\n",
       " 150317,\n",
       " 150318,\n",
       " 150319,\n",
       " 150320,\n",
       " 150321,\n",
       " 150322,\n",
       " 150323,\n",
       " 150324,\n",
       " 150325,\n",
       " 150326,\n",
       " 150327,\n",
       " 150328,\n",
       " 150329,\n",
       " 150330,\n",
       " 150331,\n",
       " 151013,\n",
       " 151014,\n",
       " 151015,\n",
       " 151016,\n",
       " 151017,\n",
       " 151018,\n",
       " 151019,\n",
       " 151020,\n",
       " 151021,\n",
       " 151022,\n",
       " 151023,\n",
       " 151024,\n",
       " 151004,\n",
       " 151005,\n",
       " 151006,\n",
       " 151007,\n",
       " 151008,\n",
       " 151009,\n",
       " 151010,\n",
       " 151011,\n",
       " 151012,\n",
       " 151025,\n",
       " 151026,\n",
       " 151027,\n",
       " 151028,\n",
       " 151029,\n",
       " 151030,\n",
       " 151031,\n",
       " 151032,\n",
       " 151033,\n",
       " 151034,\n",
       " 151035,\n",
       " 151036,\n",
       " 151037,\n",
       " 151038,\n",
       " 151039,\n",
       " 151040,\n",
       " 151041,\n",
       " 151042,\n",
       " 151043,\n",
       " 151044,\n",
       " 151045,\n",
       " 151046,\n",
       " 151047,\n",
       " 151048,\n",
       " 151049,\n",
       " 151050,\n",
       " 151051,\n",
       " 151052,\n",
       " 151053,\n",
       " 151054,\n",
       " 151055,\n",
       " 151056,\n",
       " 151057,\n",
       " 151058,\n",
       " 151059,\n",
       " 151060,\n",
       " 151061,\n",
       " 151062,\n",
       " 151063,\n",
       " 151064,\n",
       " 151065,\n",
       " 151066,\n",
       " 151067,\n",
       " 151068,\n",
       " 151069,\n",
       " 151070,\n",
       " 151071,\n",
       " 151072,\n",
       " 151073,\n",
       " 151074,\n",
       " 151075,\n",
       " 151742,\n",
       " 151743,\n",
       " 151744,\n",
       " 151745,\n",
       " 151746,\n",
       " 151747,\n",
       " 151748,\n",
       " 151749,\n",
       " 151750,\n",
       " 151751,\n",
       " 151752,\n",
       " 151753,\n",
       " 151754,\n",
       " 151755,\n",
       " 151756,\n",
       " 151757,\n",
       " 151758,\n",
       " 151759,\n",
       " 151760,\n",
       " 151761,\n",
       " 151762,\n",
       " 151763,\n",
       " 151764,\n",
       " 151765,\n",
       " 151766,\n",
       " 151767,\n",
       " 151768,\n",
       " 151769,\n",
       " 151770,\n",
       " 151771,\n",
       " 151772,\n",
       " 151773,\n",
       " 151774,\n",
       " 151775,\n",
       " 151776,\n",
       " 151777,\n",
       " 151778,\n",
       " 151779,\n",
       " 151780,\n",
       " 151781,\n",
       " 151782,\n",
       " 151783,\n",
       " 151784,\n",
       " 151785,\n",
       " 151786,\n",
       " 151787,\n",
       " 151788,\n",
       " 151789,\n",
       " 151790,\n",
       " 151791,\n",
       " 151792,\n",
       " 151793,\n",
       " 151794,\n",
       " 151795,\n",
       " 151796,\n",
       " 151797,\n",
       " 151798,\n",
       " 151799,\n",
       " 151800,\n",
       " 151801,\n",
       " 151802,\n",
       " 151803,\n",
       " 151804,\n",
       " 151805,\n",
       " 151806,\n",
       " 151807,\n",
       " 151808,\n",
       " 151809,\n",
       " 151810,\n",
       " 151811,\n",
       " 151812,\n",
       " 151813,\n",
       " 151814,\n",
       " 151815,\n",
       " 151816,\n",
       " 152499,\n",
       " 152478,\n",
       " 152479,\n",
       " 152480,\n",
       " 152481,\n",
       " 152482,\n",
       " 152483,\n",
       " 152484,\n",
       " 152485,\n",
       " 152486,\n",
       " 152487,\n",
       " 152488,\n",
       " 152489,\n",
       " 152490,\n",
       " 152491,\n",
       " 152492,\n",
       " 152493,\n",
       " 152494,\n",
       " 152495,\n",
       " 152496,\n",
       " 152497,\n",
       " 152498,\n",
       " 152500,\n",
       " 152501,\n",
       " 152502,\n",
       " 152503,\n",
       " 152504,\n",
       " 152505,\n",
       " 152506,\n",
       " 152507,\n",
       " 152508,\n",
       " 152509,\n",
       " 152510,\n",
       " 152511,\n",
       " 152512,\n",
       " 152513,\n",
       " 152514,\n",
       " 152515,\n",
       " 152516,\n",
       " 152517,\n",
       " 152518,\n",
       " 152519,\n",
       " 152520,\n",
       " 152521,\n",
       " 152522,\n",
       " 152523,\n",
       " 152524,\n",
       " 152525,\n",
       " 152526,\n",
       " 152527,\n",
       " 152528,\n",
       " 152529,\n",
       " 152530,\n",
       " 152531,\n",
       " 152532,\n",
       " 152533,\n",
       " 152534,\n",
       " 152535,\n",
       " 152536,\n",
       " 152537,\n",
       " 152538,\n",
       " 152539,\n",
       " 152540,\n",
       " 152541,\n",
       " 152542,\n",
       " 152543,\n",
       " 152544,\n",
       " 152545,\n",
       " 152546,\n",
       " 152547,\n",
       " 152548,\n",
       " 152549,\n",
       " 152550,\n",
       " 152551,\n",
       " 152552,\n",
       " 152553,\n",
       " 152554,\n",
       " 152555,\n",
       " 153214,\n",
       " 153251,\n",
       " 153252,\n",
       " 153253,\n",
       " 153248,\n",
       " 153249,\n",
       " 153250,\n",
       " 153215,\n",
       " 153216,\n",
       " 153217,\n",
       " 153218,\n",
       " 153219,\n",
       " 153220,\n",
       " 153221,\n",
       " 153222,\n",
       " 153223,\n",
       " 153224,\n",
       " 153225,\n",
       " 153226,\n",
       " 153227,\n",
       " 153228,\n",
       " 153229,\n",
       " 153230,\n",
       " 153231,\n",
       " 153232,\n",
       " 153233,\n",
       " 153234,\n",
       " 153235,\n",
       " 153236,\n",
       " 153237,\n",
       " 153238,\n",
       " 153239,\n",
       " 153240,\n",
       " 153241,\n",
       " 153242,\n",
       " 153243,\n",
       " 153244,\n",
       " 153245,\n",
       " 153246,\n",
       " 153247,\n",
       " 153254,\n",
       " 153255,\n",
       " 153256,\n",
       " 153257,\n",
       " 153258,\n",
       " 153259,\n",
       " 153260,\n",
       " 153261,\n",
       " 153262,\n",
       " 153263,\n",
       " 153264,\n",
       " 153265,\n",
       " 153266,\n",
       " 153267,\n",
       " 153268,\n",
       " 153269,\n",
       " 153270,\n",
       " 153271,\n",
       " 153272,\n",
       " 153273,\n",
       " 153274,\n",
       " 153275,\n",
       " 153276,\n",
       " 153277,\n",
       " 153278,\n",
       " 153279,\n",
       " 153280,\n",
       " 153281,\n",
       " 153282,\n",
       " 153283,\n",
       " 153284,\n",
       " 153285,\n",
       " 153286,\n",
       " 153287,\n",
       " 153288,\n",
       " 153289,\n",
       " 153290,\n",
       " 153291,\n",
       " 153292,\n",
       " 153293,\n",
       " 153967,\n",
       " 153968,\n",
       " 153969,\n",
       " 153949,\n",
       " 153950,\n",
       " 153951,\n",
       " 153952,\n",
       " 153953,\n",
       " 153954,\n",
       " 153955,\n",
       " 153956,\n",
       " 153957,\n",
       " 153958,\n",
       " 153959,\n",
       " 153960,\n",
       " 153961,\n",
       " 153962,\n",
       " 153963,\n",
       " 153964,\n",
       " 153965,\n",
       " 153966,\n",
       " 153970,\n",
       " 153971,\n",
       " 153972,\n",
       " 153973,\n",
       " 153974,\n",
       " 153975,\n",
       " 153976,\n",
       " 153977,\n",
       " 153978,\n",
       " 153979,\n",
       " 153980,\n",
       " 153981,\n",
       " 153982,\n",
       " 153983,\n",
       " 153984,\n",
       " 153985,\n",
       " 153986,\n",
       " 153987,\n",
       " 153988,\n",
       " 153989,\n",
       " 153990,\n",
       " 153991,\n",
       " 153992,\n",
       " 153993,\n",
       " 153994,\n",
       " 153995,\n",
       " 153996,\n",
       " 153997,\n",
       " 153998,\n",
       " 153999,\n",
       " 154000,\n",
       " 154001,\n",
       " 154002,\n",
       " 154003,\n",
       " 154004,\n",
       " 154005,\n",
       " 154006,\n",
       " 154007,\n",
       " 154008,\n",
       " 154009,\n",
       " 154010,\n",
       " 154011,\n",
       " 154012,\n",
       " 154013,\n",
       " 154014,\n",
       " 154015,\n",
       " 154016,\n",
       " 154017,\n",
       " 154018,\n",
       " 154019,\n",
       " 154020,\n",
       " 154021,\n",
       " ...]"
      ]
     },
     "execution_count": 84,
     "metadata": {},
     "output_type": "execute_result"
    }
   ],
   "source": [
    "ids"
   ]
  },
  {
   "cell_type": "code",
   "execution_count": null,
   "metadata": {
    "collapsed": true
   },
   "outputs": [],
   "source": [
    "The selection should be as follow:\n",
    "    Convert to pandas\n",
    "    GEnerate random numbers uniform on that range\n",
    "    use iloc to get the id values\n",
    "    Use the normal methodology.\n",
    "    "
   ]
  },
  {
   "cell_type": "code",
   "execution_count": 2,
   "metadata": {
    "collapsed": false
   },
   "outputs": [],
   "source": [
    "ncells = countObjectsOf(Mex4km)\n",
    "import numpy as np\n",
    "np.random.seed(12345)\n",
    "sample_size = 200\n",
    "choices = np.random.choice(range(1,ncells),sample_size,replace='False')"
   ]
  },
  {
   "cell_type": "code",
   "execution_count": 3,
   "metadata": {
    "collapsed": false
   },
   "outputs": [],
   "source": [
    "## This will stringify the id list to get the selected cells.\n",
    "selection_of_cells = Mex4km.select(graph).where(\"_.id IN  %s \"%str(list(choices)))"
   ]
  },
  {
   "cell_type": "markdown",
   "metadata": {
    "collapsed": false
   },
   "source": [
    "### Using iterators (imap + graphselector_iterator)"
   ]
  },
  {
   "cell_type": "code",
   "execution_count": 4,
   "metadata": {
    "collapsed": true
   },
   "outputs": [],
   "source": [
    "import itertools as it"
   ]
  },
  {
   "cell_type": "markdown",
   "metadata": {},
   "source": [
    "## We will select the different Families here"
   ]
  },
  {
   "cell_type": "code",
   "execution_count": 5,
   "metadata": {
    "collapsed": false
   },
   "outputs": [
    {
     "name": "stdout",
     "output_type": "stream",
     "text": [
      "CPU times: user 0 ns, sys: 0 ns, total: 0 ns\n",
      "Wall time: 13.1 µs\n"
     ]
    }
   ],
   "source": [
    "%time families = it.imap(lambda c : c.has_families,selection_of_cells)"
   ]
  },
  {
   "cell_type": "code",
   "execution_count": 6,
   "metadata": {
    "collapsed": false
   },
   "outputs": [],
   "source": [
    "fams = list(families)"
   ]
  },
  {
   "cell_type": "code",
   "execution_count": 7,
   "metadata": {
    "collapsed": false
   },
   "outputs": [],
   "source": [
    "tt = [ list(fam) for fam in fams]"
   ]
  },
  {
   "cell_type": "code",
   "execution_count": 8,
   "metadata": {
    "collapsed": false
   },
   "outputs": [],
   "source": [
    "calculateRichness = lambda l_taxa : len(l_taxa)\n",
    "richness_for_fams = map(calculateRichness,tt)"
   ]
  },
  {
   "cell_type": "code",
   "execution_count": 9,
   "metadata": {
    "collapsed": false
   },
   "outputs": [
    {
     "data": {
      "text/plain": [
       "[0,\n",
       " 0,\n",
       " 0,\n",
       " 0,\n",
       " 0,\n",
       " 0,\n",
       " 0,\n",
       " 0,\n",
       " 0,\n",
       " 0,\n",
       " 0,\n",
       " 3,\n",
       " 6,\n",
       " 13,\n",
       " 0,\n",
       " 0,\n",
       " 0,\n",
       " 0,\n",
       " 0,\n",
       " 0,\n",
       " 1,\n",
       " 0,\n",
       " 0,\n",
       " 0,\n",
       " 0,\n",
       " 0,\n",
       " 0,\n",
       " 0,\n",
       " 0,\n",
       " 0,\n",
       " 0,\n",
       " 0,\n",
       " 0,\n",
       " 2,\n",
       " 0,\n",
       " 0,\n",
       " 0,\n",
       " 0,\n",
       " 0,\n",
       " 0,\n",
       " 0,\n",
       " 5,\n",
       " 0,\n",
       " 0,\n",
       " 0,\n",
       " 0,\n",
       " 0,\n",
       " 0,\n",
       " 0,\n",
       " 0,\n",
       " 0,\n",
       " 0,\n",
       " 0,\n",
       " 1,\n",
       " 0,\n",
       " 0,\n",
       " 0,\n",
       " 0,\n",
       " 6,\n",
       " 15,\n",
       " 0,\n",
       " 46,\n",
       " 0,\n",
       " 2,\n",
       " 12,\n",
       " 0,\n",
       " 0,\n",
       " 0,\n",
       " 18,\n",
       " 0,\n",
       " 17,\n",
       " 0,\n",
       " 0,\n",
       " 0,\n",
       " 0,\n",
       " 7,\n",
       " 0,\n",
       " 0,\n",
       " 0,\n",
       " 0,\n",
       " 3,\n",
       " 0,\n",
       " 0,\n",
       " 0,\n",
       " 0,\n",
       " 0,\n",
       " 0,\n",
       " 0,\n",
       " 0,\n",
       " 0,\n",
       " 0,\n",
       " 0,\n",
       " 0,\n",
       " 0,\n",
       " 0,\n",
       " 0,\n",
       " 0,\n",
       " 1,\n",
       " 0,\n",
       " 0,\n",
       " 0,\n",
       " 0,\n",
       " 0,\n",
       " 0,\n",
       " 0,\n",
       " 0,\n",
       " 0,\n",
       " 0,\n",
       " 0,\n",
       " 0,\n",
       " 0,\n",
       " 0,\n",
       " 0,\n",
       " 0,\n",
       " 0,\n",
       " 0,\n",
       " 0,\n",
       " 4,\n",
       " 0,\n",
       " 0,\n",
       " 0,\n",
       " 2,\n",
       " 0,\n",
       " 2,\n",
       " 0,\n",
       " 0,\n",
       " 0,\n",
       " 0,\n",
       " 0,\n",
       " 5,\n",
       " 0,\n",
       " 0,\n",
       " 14,\n",
       " 0,\n",
       " 0,\n",
       " 6,\n",
       " 0,\n",
       " 0,\n",
       " 0,\n",
       " 0,\n",
       " 5,\n",
       " 0,\n",
       " 0,\n",
       " 0,\n",
       " 0,\n",
       " 0,\n",
       " 0,\n",
       " 0,\n",
       " 2,\n",
       " 0,\n",
       " 0,\n",
       " 0,\n",
       " 1,\n",
       " 0,\n",
       " 0,\n",
       " 4,\n",
       " 0,\n",
       " 0,\n",
       " 0,\n",
       " 0,\n",
       " 2,\n",
       " 0,\n",
       " 0,\n",
       " 0,\n",
       " 0,\n",
       " 0,\n",
       " 0,\n",
       " 0,\n",
       " 0,\n",
       " 0,\n",
       " 0,\n",
       " 0,\n",
       " 0,\n",
       " 0,\n",
       " 0,\n",
       " 0,\n",
       " 0,\n",
       " 0,\n",
       " 0,\n",
       " 12,\n",
       " 0,\n",
       " 23,\n",
       " 0,\n",
       " 0,\n",
       " 0,\n",
       " 1,\n",
       " 0,\n",
       " 0,\n",
       " 0,\n",
       " 0,\n",
       " 0,\n",
       " 0,\n",
       " 0,\n",
       " 0,\n",
       " 0,\n",
       " 0,\n",
       " 0,\n",
       " 0,\n",
       " 0,\n",
       " 0]"
      ]
     },
     "execution_count": 9,
     "metadata": {},
     "output_type": "execute_result"
    }
   ],
   "source": [
    "richness_for_fams"
   ]
  },
  {
   "cell_type": "markdown",
   "metadata": {},
   "source": [
    "## Here development for getting environmental covariates for each cell\n",
    "Let's bring the environmental value per cell"
   ]
  },
  {
   "cell_type": "code",
   "execution_count": 10,
   "metadata": {
    "collapsed": false
   },
   "outputs": [],
   "source": [
    "c_iter = iter(selection_of_cells.limit(10))"
   ]
  },
  {
   "cell_type": "code",
   "execution_count": 11,
   "metadata": {
    "collapsed": false
   },
   "outputs": [],
   "source": [
    "c = c_iter.next()"
   ]
  },
  {
   "cell_type": "code",
   "execution_count": 12,
   "metadata": {
    "collapsed": false
   },
   "outputs": [
    {
     "name": "stderr",
     "output_type": "stream",
     "text": [
      "Exception django.contrib.gis.gdal.error.GDALException: GDALException('Invalid pointer returned from \"GDALClose\"',) in "
     ]
    }
   ],
   "source": [
    "env_data = c.getAssociatedRasterAreaData('MeanTemperature')"
   ]
  },
  {
   "cell_type": "code",
   "execution_count": 13,
   "metadata": {
    "collapsed": false
   },
   "outputs": [
    {
     "data": {
      "text/plain": [
       "u'MULTIPOLYGON (((-93.16806341599644 41.58188980100003, -93.11906341599644 41.58188980100003, -93.11906341599644 41.53288980100003, -93.16806341599644 41.53288980100003, -93.16806341599644 41.58188980100003)))'"
      ]
     },
     "execution_count": 13,
     "metadata": {},
     "output_type": "execute_result"
    }
   ],
   "source": [
    "c.polygon.wkt"
   ]
  },
  {
   "cell_type": "code",
   "execution_count": 14,
   "metadata": {
    "collapsed": false
   },
   "outputs": [
    {
     "name": "stderr",
     "output_type": "stream",
     "text": [
      "Exception django.contrib.gis.gdal.error.GDALException: GDALException('Invalid pointer returned from \"GDALClose\"',) in "
     ]
    }
   ],
   "source": [
    "env_data.getRaster()"
   ]
  },
  {
   "cell_type": "code",
   "execution_count": 13,
   "metadata": {
    "collapsed": false
   },
   "outputs": [],
   "source": [
    "rast = c.getAssociatedRasterAreaData('Elevation')"
   ]
  },
  {
   "cell_type": "code",
   "execution_count": 14,
   "metadata": {
    "collapsed": false
   },
   "outputs": [
    {
     "data": {
      "image/png": "[encoded data removed]",
      "text/plain": [
       "<matplotlib.figure.Figure at 0x7f5f8fe2ed10>"
      ]
     },
     "metadata": {},
     "output_type": "display_data"
    }
   ],
   "source": [
    "rast.display_field()"
   ]
  },
  {
   "cell_type": "markdown",
   "metadata": {},
   "source": [
    "## Let's see if we can get data from the upper scales\n"
   ]
  },
  {
   "cell_type": "code",
   "execution_count": 15,
   "metadata": {
    "collapsed": false
   },
   "outputs": [
    {
     "ename": "StopIteration",
     "evalue": "",
     "output_type": "error",
     "traceback": [
      "\u001b[0;31m\u001b[0m",
      "\u001b[0;31mStopIteration\u001b[0mTraceback (most recent call last)",
      "\u001b[0;32m<ipython-input-15-099af7a18214>\u001b[0m in \u001b[0;36m<module>\u001b[0;34m()\u001b[0m\n\u001b[0;32m----> 1\u001b[0;31m \u001b[0mc\u001b[0m\u001b[0;34m.\u001b[0m\u001b[0mupperCell\u001b[0m\u001b[0;34m.\u001b[0m\u001b[0mnext\u001b[0m\u001b[0;34m(\u001b[0m\u001b[0;34m)\u001b[0m\u001b[0;34m\u001b[0m\u001b[0m\n\u001b[0m",
      "\u001b[0;31mStopIteration\u001b[0m: "
     ]
    }
   ],
   "source": [
    "c.upperCell.next()"
   ]
  },
  {
   "cell_type": "code",
   "execution_count": 16,
   "metadata": {
    "collapsed": false
   },
   "outputs": [
    {
     "ename": "StopIteration",
     "evalue": "",
     "output_type": "error",
     "traceback": [
      "\u001b[0;31m\u001b[0m",
      "\u001b[0;31mStopIteration\u001b[0mTraceback (most recent call last)",
      "\u001b[0;32m<ipython-input-16-9f61ad15105c>\u001b[0m in \u001b[0;36m<module>\u001b[0;34m()\u001b[0m\n\u001b[0;32m----> 1\u001b[0;31m \u001b[0mbig_cell\u001b[0m \u001b[0;34m=\u001b[0m \u001b[0mc\u001b[0m\u001b[0;34m.\u001b[0m\u001b[0mupperCell\u001b[0m\u001b[0;34m.\u001b[0m\u001b[0mnext\u001b[0m\u001b[0;34m(\u001b[0m\u001b[0;34m)\u001b[0m\u001b[0;34m.\u001b[0m\u001b[0mupperCell\u001b[0m\u001b[0;34m.\u001b[0m\u001b[0mnext\u001b[0m\u001b[0;34m(\u001b[0m\u001b[0;34m)\u001b[0m\u001b[0;34m.\u001b[0m\u001b[0mupperCell\u001b[0m\u001b[0;34m.\u001b[0m\u001b[0mnext\u001b[0m\u001b[0;34m(\u001b[0m\u001b[0;34m)\u001b[0m\u001b[0;34m\u001b[0m\u001b[0m\n\u001b[0m",
      "\u001b[0;31mStopIteration\u001b[0m: "
     ]
    }
   ],
   "source": [
    "big_cell = c.upperCell.next().upperCell.next().upperCell.next()"
   ]
  },
  {
   "cell_type": "code",
   "execution_count": 17,
   "metadata": {
    "collapsed": false
   },
   "outputs": [
    {
     "ename": "NameError",
     "evalue": "name 'big_cell' is not defined",
     "output_type": "error",
     "traceback": [
      "\u001b[0;31m\u001b[0m",
      "\u001b[0;31mNameError\u001b[0mTraceback (most recent call last)",
      "\u001b[0;32m<ipython-input-17-e08228f5745e>\u001b[0m in \u001b[0;36m<module>\u001b[0;34m()\u001b[0m\n\u001b[0;32m----> 1\u001b[0;31m \u001b[0mrr\u001b[0m \u001b[0;34m=\u001b[0m \u001b[0mbig_cell\u001b[0m\u001b[0;34m.\u001b[0m\u001b[0mgetAssociatedRasterAreaData\u001b[0m\u001b[0;34m(\u001b[0m\u001b[0;34m'Elevation'\u001b[0m\u001b[0;34m)\u001b[0m\u001b[0;34m\u001b[0m\u001b[0m\n\u001b[0m",
      "\u001b[0;31mNameError\u001b[0m: name 'big_cell' is not defined"
     ]
    }
   ],
   "source": [
    "rr = big_cell.getAssociatedRasterAreaData('Elevation')"
   ]
  },
  {
   "cell_type": "code",
   "execution_count": 18,
   "metadata": {
    "collapsed": false
   },
   "outputs": [
    {
     "ename": "NameError",
     "evalue": "name 'rr' is not defined",
     "output_type": "error",
     "traceback": [
      "\u001b[0;31m\u001b[0m",
      "\u001b[0;31mNameError\u001b[0mTraceback (most recent call last)",
      "\u001b[0;32m<ipython-input-18-729339b3a8d2>\u001b[0m in \u001b[0;36m<module>\u001b[0;34m()\u001b[0m\n\u001b[0;32m----> 1\u001b[0;31m \u001b[0mrr\u001b[0m\u001b[0;34m.\u001b[0m\u001b[0mdisplay_field\u001b[0m\u001b[0;34m(\u001b[0m\u001b[0;34m)\u001b[0m\u001b[0;34m\u001b[0m\u001b[0m\n\u001b[0m",
      "\u001b[0;31mNameError\u001b[0m: name 'rr' is not defined"
     ]
    }
   ],
   "source": [
    "rr.display_field()"
   ]
  },
  {
   "cell_type": "code",
   "execution_count": 19,
   "metadata": {
    "collapsed": false
   },
   "outputs": [],
   "source": [
    "from traversals import strategies as st"
   ]
  },
  {
   "cell_type": "code",
   "execution_count": 20,
   "metadata": {
    "collapsed": true
   },
   "outputs": [],
   "source": [
    "cells = list(selection_of_cells)"
   ]
  },
  {
   "cell_type": "code",
   "execution_count": 24,
   "metadata": {
    "collapsed": false
   },
   "outputs": [
    {
     "name": "stderr",
     "output_type": "stream",
     "text": [
      "Exception django.contrib.gis.gdal.error.GDALException: GDALException('Invalid pointer returned from \"GDALClose\"',) in Exception django.contrib.gis.gdal.error.GDALException: GDALException('Invalid pointer returned from \"GDALClose\"',) in Exception django.contrib.gis.gdal.error.GDALException: GDALException('Invalid pointer returned from \"GDALClose\"',) in Exception django.contrib.gis.gdal.error.GDALException: GDALException('Invalid pointer returned from \"GDALClose\"',) in Exception django.contrib.gis.gdal.error.GDALException: GDALException('Invalid pointer returned from \"GDALClose\"',) in Exception django.contrib.gis.gdal.error.GDALException: GDALException('Invalid pointer returned from \"GDALClose\"',) in Exception django.contrib.gis.gdal.error.GDALException: GDALException('Invalid pointer returned from \"GDALClose\"',) in Exception django.contrib.gis.gdal.error.GDALException: GDALException('Invalid pointer returned from \"GDALClose\"',) in Exception django.contrib.gis.gdal.error.GDALException: GDALException('Invalid pointer returned from \"GDALClose\"',) in Exception django.contrib.gis.gdal.error.GDALException: GDALException('Invalid pointer returned from \"GDALClose\"',) in Exception django.contrib.gis.gdal.error.GDALException: GDALException('Invalid pointer returned from \"GDALClose\"',) in Exception django.contrib.gis.gdal.error.GDALException: GDALException('Invalid pointer returned from \"GDALClose\"',) in Exception django.contrib.gis.gdal.error.GDALException: GDALException('Invalid pointer returned from \"GDALClose\"',) in Exception django.contrib.gis.gdal.error.GDALException: GDALException('Invalid pointer returned from \"GDALClose\"',) in Exception django.contrib.gis.gdal.error.GDALException: GDALException('Invalid pointer returned from \"GDALClose\"',) in Exception django.contrib.gis.gdal.error.GDALException: GDALException('Invalid pointer returned from \"GDALClose\"',) in Exception django.contrib.gis.gdal.error.GDALException: GDALException('Invalid pointer returned from \"GDALClose\"',) in Exception django.contrib.gis.gdal.error.GDALException: GDALException('Invalid pointer returned from \"GDALClose\"',) in Exception django.contrib.gis.gdal.error.GDALException: GDALException('Invalid pointer returned from \"GDALClose\"',) in Exception django.contrib.gis.gdal.error.GDALException: GDALException('Invalid pointer returned from \"GDALClose\"',) in Exception django.contrib.gis.gdal.error.GDALException: GDALException('Invalid pointer returned from \"GDALClose\"',) in Exception django.contrib.gis.gdal.error.GDALException: GDALException('Invalid pointer returned from \"GDALClose\"',) in Exception django.contrib.gis.gdal.error.GDALException: GDALException('Invalid pointer returned from \"GDALClose\"',) in Exception django.contrib.gis.gdal.error.GDALException: GDALException('Invalid pointer returned from \"GDALClose\"',) in Exception django.contrib.gis.gdal.error.GDALException: GDALException('Invalid pointer returned from \"GDALClose\"',) in Exception django.contrib.gis.gdal.error.GDALException: GDALException('Invalid pointer returned from \"GDALClose\"',) in Exception django.contrib.gis.gdal.error.GDALException: GDALException('Invalid pointer returned from \"GDALClose\"',) in Exception django.contrib.gis.gdal.error.GDALException: GDALException('Invalid pointer returned from \"GDALClose\"',) in Exception django.contrib.gis.gdal.error.GDALException: GDALException('Invalid pointer returned from \"GDALClose\"',) in Exception django.contrib.gis.gdal.error.GDALException: GDALException('Invalid pointer returned from \"GDALClose\"',) in Exception django.contrib.gis.gdal.error.GDALException: GDALException('Invalid pointer returned from \"GDALClose\"',) in Exception django.contrib.gis.gdal.error.GDALException: GDALException('Invalid pointer returned from \"GDALClose\"',) in Exception django.contrib.gis.gdal.error.GDALException: GDALException('Invalid pointer returned from \"GDALClose\"',) in Exception django.contrib.gis.gdal.error.GDALException: GDALException('Invalid pointer returned from \"GDALClose\"',) in Exception django.contrib.gis.gdal.error.GDALException: GDALException('Invalid pointer returned from \"GDALClose\"',) in Exception django.contrib.gis.gdal.error.GDALException: GDALException('Invalid pointer returned from \"GDALClose\"',) in Exception django.contrib.gis.gdal.error.GDALException: GDALException('Invalid pointer returned from \"GDALClose\"',) in Exception django.contrib.gis.gdal.error.GDALException: GDALException('Invalid pointer returned from \"GDALClose\"',) in Exception django.contrib.gis.gdal.error.GDALException: GDALException('Invalid pointer returned from \"GDALClose\"',) in Exception django.contrib.gis.gdal.error.GDALException: GDALException('Invalid pointer returned from \"GDALClose\"',) in Exception django.contrib.gis.gdal.error.GDALException: GDALException('Invalid pointer returned from \"GDALClose\"',) in Exception django.contrib.gis.gdal.error.GDALException: GDALException('Invalid pointer returned from \"GDALClose\"',) in Exception django.contrib.gis.gdal.error.GDALException: GDALException('Invalid pointer returned from \"GDALClose\"',) in Exception django.contrib.gis.gdal.error.GDALException: GDALException('Invalid pointer returned from \"GDALClose\"',) in Exception django.contrib.gis.gdal.error.GDALException: GDALException('Invalid pointer returned from \"GDALClose\"',) in Exception django.contrib.gis.gdal.error.GDALException: GDALException('Invalid pointer returned from \"GDALClose\"',) in Exception django.contrib.gis.gdal.error.GDALException: GDALException('Invalid pointer returned from \"GDALClose\"',) in Exception django.contrib.gis.gdal.error.GDALException: GDALException('Invalid pointer returned from \"GDALClose\"',) in Exception django.contrib.gis.gdal.error.GDALException: GDALException('Invalid pointer returned from \"GDALClose\"',) in Exception django.contrib.gis.gdal.error.GDALException: GDALException('Invalid pointer returned from \"GDALClose\"',) in Exception django.contrib.gis.gdal.error.GDALException: GDALException('Invalid pointer returned from \"GDALClose\"',) in Exception django.contrib.gis.gdal.error.GDALException: GDALException('Invalid pointer returned from \"GDALClose\"',) in Exception django.contrib.gis.gdal.error.GDALException: GDALException('Invalid pointer returned from \"GDALClose\"',) in Exception django.contrib.gis.gdal.error.GDALException: GDALException('Invalid pointer returned from \"GDALClose\"',) in Exception django.contrib.gis.gdal.error.GDALException: GDALException('Invalid pointer returned from \"GDALClose\"',) in Exception django.contrib.gis.gdal.error.GDALException: GDALException('Invalid pointer returned from \"GDALClose\"',) in Exception django.contrib.gis.gdal.error.GDALException: GDALException('Invalid pointer returned from \"GDALClose\"',) in Exception django.contrib.gis.gdal.error.GDALException: GDALException('Invalid pointer returned from \"GDALClose\"',) in Exception django.contrib.gis.gdal.error.GDALException: GDALException('Invalid pointer returned from \"GDALClose\"',) in Exception django.contrib.gis.gdal.error.GDALException: GDALException('Invalid pointer returned from \"GDALClose\"',) in Exception django.contrib.gis.gdal.error.GDALException: GDALException('Invalid pointer returned from \"GDALClose\"',) in Exception django.contrib.gis.gdal.error.GDALException: GDALException('Invalid pointer returned from \"GDALClose\"',) in Exception django.contrib.gis.gdal.error.GDALException: GDALException('Invalid pointer returned from \"GDALClose\"',) in Exception django.contrib.gis.gdal.error.GDALException: GDALException('Invalid pointer returned from \"GDALClose\"',) in Exception django.contrib.gis.gdal.error.GDALException: GDALException('Invalid pointer returned from \"GDALClose\"',) in Exception django.contrib.gis.gdal.error.GDALException: GDALException('Invalid pointer returned from \"GDALClose\"',) in Exception django.contrib.gis.gdal.error.GDALException: GDALException('Invalid pointer returned from \"GDALClose\"',) in Exception django.contrib.gis.gdal.error.GDALException: GDALException('Invalid pointer returned from \"GDALClose\"',) in Exception django.contrib.gis.gdal.error.GDALException: GDALException('Invalid pointer returned from \"GDALClose\"',) in Exception django.contrib.gis.gdal.error.GDALException: GDALException('Invalid pointer returned from \"GDALClose\"',) in Exception django.contrib.gis.gdal.error.GDALException: GDALException('Invalid pointer returned from \"GDALClose\"',) in Exception django.contrib.gis.gdal.error.GDALException: GDALException('Invalid pointer returned from \"GDALClose\"',) in Exception django.contrib.gis.gdal.error.GDALException: GDALException('Invalid pointer returned from \"GDALClose\"',) in Exception django.contrib.gis.gdal.error.GDALException: GDALException('Invalid pointer returned from \"GDALClose\"',) in Exception django.contrib.gis.gdal.error.GDALException: GDALException('Invalid pointer returned from \"GDALClose\"',) in Exception django.contrib.gis.gdal.error.GDALException: GDALException('Invalid pointer returned from \"GDALClose\"',) in Exception django.contrib.gis.gdal.error.GDALException: GDALException('Invalid pointer returned from \"GDALClose\"',) in Exception django.contrib.gis.gdal.error.GDALException: GDALException('Invalid pointer returned from \"GDALClose\"',) in Exception django.contrib.gis.gdal.error.GDALException: GDALException('Invalid pointer returned from \"GDALClose\"',) in Exception django.contrib.gis.gdal.error.GDALException: GDALException('Invalid pointer returned from \"GDALClose\"',) in Exception django.contrib.gis.gdal.error.GDALException: GDALException('Invalid pointer returned from \"GDALClose\"',) in Exception django.contrib.gis.gdal.error.GDALException: GDALException('Invalid pointer returned from \"GDALClose\"',) in Exception django.contrib.gis.gdal.error.GDALException: GDALException('Invalid pointer returned from \"GDALClose\"',) in Exception django.contrib.gis.gdal.error.GDALException: GDALException('Invalid pointer returned from \"GDALClose\"',) in Exception django.contrib.gis.gdal.error.GDALException: GDALException('Invalid pointer returned from \"GDALClose\"',) in Exception django.contrib.gis.gdal.error.GDALException: GDALException('Invalid pointer returned from \"GDALClose\"',) in Exception django.contrib.gis.gdal.error.GDALException: GDALException('Invalid pointer returned from \"GDALClose\"',) in Exception django.contrib.gis.gdal.error.GDALException: GDALException('Invalid pointer returned from \"GDALClose\"',) in Exception django.contrib.gis.gdal.error.GDALException: GDALException('Invalid pointer returned from \"GDALClose\"',) in Exception django.contrib.gis.gdal.error.GDALException: GDALException('Invalid pointer returned from \"GDALClose\"',) in Exception django.contrib.gis.gdal.error.GDALException: GDALException('Invalid pointer returned from \"GDALClose\"',) in Exception django.contrib.gis.gdal.error.GDALException: GDALException('Invalid pointer returned from \"GDALClose\"',) in Exception django.contrib.gis.gdal.error.GDALException: GDALException('Invalid pointer returned from \"GDALClose\"',) in Exception django.contrib.gis.gdal.error.GDALException: GDALException('Invalid pointer returned from \"GDALClose\"',) in Exception django.contrib.gis.gdal.error.GDALException: GDALException('Invalid pointer returned from \"GDALClose\"',) in Exception django.contrib.gis.gdal.error.GDALException: GDALException('Invalid pointer returned from \"GDALClose\"',) in Exception django.contrib.gis.gdal.error.GDALException: GDALException('Invalid pointer returned from \"GDALClose\"',) in Exception django.contrib.gis.gdal.error.GDALException: GDALException('Invalid pointer returned from \"GDALClose\"',) in Exception django.contrib.gis.gdal.error.GDALException: GDALException('Invalid pointer returned from \"GDALClose\"',) in Exception django.contrib.gis.gdal.error.GDALException: GDALException('Invalid pointer returned from \"GDALClose\"',) in Exception django.contrib.gis.gdal.error.GDALException: GDALException('Invalid pointer returned from \"GDALClose\"',) in Exception django.contrib.gis.gdal.error.GDALException: GDALException('Invalid pointer returned from \"GDALClose\"',) in Exception django.contrib.gis.gdal.error.GDALException: GDALException('Invalid pointer returned from \"GDALClose\"',) in Exception django.contrib.gis.gdal.error.GDALException: GDALException('Invalid pointer returned from \"GDALClose\"',) in Exception django.contrib.gis.gdal.error.GDALException: GDALException('Invalid pointer returned from \"GDALClose\"',) in Exception django.contrib.gis.gdal.error.GDALException: GDALException('Invalid pointer returned from \"GDALClose\"',) in Exception django.contrib.gis.gdal.error.GDALException: GDALException('Invalid pointer returned from \"GDALClose\"',) in Exception django.contrib.gis.gdal.error.GDALException: GDALException('Invalid pointer returned from \"GDALClose\"',) in Exception django.contrib.gis.gdal.error.GDALException: GDALException('Invalid pointer returned from \"GDALClose\"',) in Exception django.contrib.gis.gdal.error.GDALException: GDALException('Invalid pointer returned from \"GDALClose\"',) in Exception django.contrib.gis.gdal.error.GDALException: GDALException('Invalid pointer returned from \"GDALClose\"',) in Exception django.contrib.gis.gdal.error.GDALException: GDALException('Invalid pointer returned from \"GDALClose\"',) in Exception django.contrib.gis.gdal.error.GDALException: GDALException('Invalid pointer returned from \"GDALClose\"',) in Exception django.contrib.gis.gdal.error.GDALException: GDALException('Invalid pointer returned from \"GDALClose\"',) in Exception django.contrib.gis.gdal.error.GDALException: GDALException('Invalid pointer returned from \"GDALClose\"',) in Exception django.contrib.gis.gdal.error.GDALException: GDALException('Invalid pointer returned from \"GDALClose\"',) in Exception django.contrib.gis.gdal.error.GDALException: GDALException('Invalid pointer returned from \"GDALClose\"',) in Exception django.contrib.gis.gdal.error.GDALException: GDALException('Invalid pointer returned from \"GDALClose\"',) in Exception django.contrib.gis.gdal.error.GDALException: GDALException('Invalid pointer returned from \"GDALClose\"',) in Exception django.contrib.gis.gdal.error.GDALException: GDALException('Invalid pointer returned from \"GDALClose\"',) in Exception django.contrib.gis.gdal.error.GDALException: GDALException('Invalid pointer returned from \"GDALClose\"',) in Exception django.contrib.gis.gdal.error.GDALException: GDALException('Invalid pointer returned from \"GDALClose\"',) in Exception django.contrib.gis.gdal.error.GDALException: GDALException('Invalid pointer returned from \"GDALClose\"',) in Exception django.contrib.gis.gdal.error.GDALException: GDALException('Invalid pointer returned from \"GDALClose\"',) in Exception django.contrib.gis.gdal.error.GDALException: GDALException('Invalid pointer returned from \"GDALClose\"',) in Exception django.contrib.gis.gdal.error.GDALException: GDALException('Invalid pointer returned from \"GDALClose\"',) in Exception django.contrib.gis.gdal.error.GDALException: GDALException('Invalid pointer returned from \"GDALClose\"',) in Exception django.contrib.gis.gdal.error.GDALException: GDALException('Invalid pointer returned from \"GDALClose\"',) in Exception django.contrib.gis.gdal.error.GDALException: GDALException('Invalid pointer returned from \"GDALClose\"',) in Exception django.contrib.gis.gdal.error.GDALException: GDALException('Invalid pointer returned from \"GDALClose\"',) in Exception django.contrib.gis.gdal.error.GDALException: GDALException('Invalid pointer returned from \"GDALClose\"',) in Exception django.contrib.gis.gdal.error.GDALException: GDALException('Invalid pointer returned from \"GDALClose\"',) in Exception django.contrib.gis.gdal.error.GDALException: GDALException('Invalid pointer returned from \"GDALClose\"',) in Exception django.contrib.gis.gdal.error.GDALException: GDALException('Invalid pointer returned from \"GDALClose\"',) in Exception django.contrib.gis.gdal.error.GDALException: GDALException('Invalid pointer returned from \"GDALClose\"',) in Exception django.contrib.gis.gdal.error.GDALException: GDALException('Invalid pointer returned from \"GDALClose\"',) in Exception django.contrib.gis.gdal.error.GDALException: GDALException('Invalid pointer returned from \"GDALClose\"',) in Exception django.contrib.gis.gdal.error.GDALException: GDALException('Invalid pointer returned from \"GDALClose\"',) in Exception django.contrib.gis.gdal.error.GDALException: GDALException('Invalid pointer returned from \"GDALClose\"',) in Exception django.contrib.gis.gdal.error.GDALException: GDALException('Invalid pointer returned from \"GDALClose\"',) in Exception django.contrib.gis.gdal.error.GDALException: GDALException('Invalid pointer returned from \"GDALClose\"',) in Exception django.contrib.gis.gdal.error.GDALException: GDALException('Invalid pointer returned from \"GDALClose\"',) in Exception django.contrib.gis.gdal.error.GDALException: GDALException('Invalid pointer returned from \"GDALClose\"',) in Exception django.contrib.gis.gdal.error.GDALException: GDALException('Invalid pointer returned from \"GDALClose\"',) in Exception django.contrib.gis.gdal.error.GDALException: GDALException('Invalid pointer returned from \"GDALClose\"',) in Exception django.contrib.gis.gdal.error.GDALException: GDALException('Invalid pointer returned from \"GDALClose\"',) in Exception django.contrib.gis.gdal.error.GDALException: GDALException('Invalid pointer returned from \"GDALClose\"',) in Exception django.contrib.gis.gdal.error.GDALException: GDALException('Invalid pointer returned from \"GDALClose\"',) in Exception django.contrib.gis.gdal.error.GDALException: GDALException('Invalid pointer returned from \"GDALClose\"',) in Exception django.contrib.gis.gdal.error.GDALException: GDALException('Invalid pointer returned from \"GDALClose\"',) in Exception django.contrib.gis.gdal.error.GDALException: GDALException('Invalid pointer returned from \"GDALClose\"',) in Exception django.contrib.gis.gdal.error.GDALException: GDALException('Invalid pointer returned from \"GDALClose\"',) in Exception django.contrib.gis.gdal.error.GDALException: GDALException('Invalid pointer returned from \"GDALClose\"',) in Exception django.contrib.gis.gdal.error.GDALException: GDALException('Invalid pointer returned from \"GDALClose\"',) in Exception django.contrib.gis.gdal.error.GDALException: GDALException('Invalid pointer returned from \"GDALClose\"',) in Exception django.contrib.gis.gdal.error.GDALException: GDALException('Invalid pointer returned from \"GDALClose\"',) in Exception django.contrib.gis.gdal.error.GDALException: GDALException('Invalid pointer returned from \"GDALClose\"',) in Exception django.contrib.gis.gdal.error.GDALException: GDALException('Invalid pointer returned from \"GDALClose\"',) in Exception django.contrib.gis.gdal.error.GDALException: GDALException('Invalid pointer returned from \"GDALClose\"',) in Exception django.contrib.gis.gdal.error.GDALException: GDALException('Invalid pointer returned from \"GDALClose\"',) in Exception django.contrib.gis.gdal.error.GDALException: GDALException('Invalid pointer returned from \"GDALClose\"',) in Exception django.contrib.gis.gdal.error.GDALException: GDALException('Invalid pointer returned from \"GDALClose\"',) in Exception django.contrib.gis.gdal.error.GDALException: GDALException('Invalid pointer returned from \"GDALClose\"',) in Exception django.contrib.gis.gdal.error.GDALException: GDALException('Invalid pointer returned from \"GDALClose\"',) in Exception django.contrib.gis.gdal.error.GDALException: GDALException('Invalid pointer returned from \"GDALClose\"',) in Exception django.contrib.gis.gdal.error.GDALException: GDALException('Invalid pointer returned from \"GDALClose\"',) in Exception django.contrib.gis.gdal.error.GDALException: GDALException('Invalid pointer returned from \"GDALClose\"',) in Exception django.contrib.gis.gdal.error.GDALException: GDALException('Invalid pointer returned from \"GDALClose\"',) in Exception django.contrib.gis.gdal.error.GDALException: GDALException('Invalid pointer returned from \"GDALClose\"',) in Exception django.contrib.gis.gdal.error.GDALException: GDALException('Invalid pointer returned from \"GDALClose\"',) in Exception django.contrib.gis.gdal.error.GDALException: GDALException('Invalid pointer returned from \"GDALClose\"',) in Exception django.contrib.gis.gdal.error.GDALException: GDALException('Invalid pointer returned from \"GDALClose\"',) in Exception django.contrib.gis.gdal.error.GDALException: GDALException('Invalid pointer returned from \"GDALClose\"',) in Exception django.contrib.gis.gdal.error.GDALException: GDALException('Invalid pointer returned from \"GDALClose\"',) in Exception django.contrib.gis.gdal.error.GDALException: GDALException('Invalid pointer returned from \"GDALClose\"',) in Exception django.contrib.gis.gdal.error.GDALException: GDALException('Invalid pointer returned from \"GDALClose\"',) in Exception django.contrib.gis.gdal.error.GDALException: GDALException('Invalid pointer returned from \"GDALClose\"',) in Exception django.contrib.gis.gdal.error.GDALException: GDALException('Invalid pointer returned from \"GDALClose\"',) in Exception django.contrib.gis.gdal.error.GDALException: GDALException('Invalid pointer returned from \"GDALClose\"',) in Exception django.contrib.gis.gdal.error.GDALException: GDALException('Invalid pointer returned from \"GDALClose\"',) in Exception django.contrib.gis.gdal.error.GDALException: GDALException('Invalid pointer returned from \"GDALClose\"',) in Exception django.contrib.gis.gdal.error.GDALException: GDALException('Invalid pointer returned from \"GDALClose\"',) in Exception django.contrib.gis.gdal.error.GDALException: GDALException('Invalid pointer returned from \"GDALClose\"',) in Exception django.contrib.gis.gdal.error.GDALException: GDALException('Invalid pointer returned from \"GDALClose\"',) in Exception django.contrib.gis.gdal.error.GDALException: GDALException('Invalid pointer returned from \"GDALClose\"',) in Exception django.contrib.gis.gdal.error.GDALException: GDALException('Invalid pointer returned from \"GDALClose\"',) in Exception django.contrib.gis.gdal.error.GDALException: GDALException('Invalid pointer returned from \"GDALClose\"',) in Exception django.contrib.gis.gdal.error.GDALException: GDALException('Invalid pointer returned from \"GDALClose\"',) in Exception django.contrib.gis.gdal.error.GDALException: GDALException('Invalid pointer returned from \"GDALClose\"',) in Exception django.contrib.gis.gdal.error.GDALException: GDALException('Invalid pointer returned from \"GDALClose\"',) in Exception django.contrib.gis.gdal.error.GDALException: GDALException('Invalid pointer returned from \"GDALClose\"',) in Exception django.contrib.gis.gdal.error.GDALException: GDALException('Invalid pointer returned from \"GDALClose\"',) in Exception django.contrib.gis.gdal.error.GDALException: GDALException('Invalid pointer returned from \"GDALClose\"',) in Exception django.contrib.gis.gdal.error.GDALException: GDALException('Invalid pointer returned from \"GDALClose\"',) in Exception django.contrib.gis.gdal.error.GDALException: GDALException('Invalid pointer returned from \"GDALClose\"',) in Exception django.contrib.gis.gdal.error.GDALException: GDALException('Invalid pointer returned from \"GDALClose\"',) in Exception django.contrib.gis.gdal.error.GDALException: GDALException('Invalid pointer returned from \"GDALClose\"',) in Exception django.contrib.gis.gdal.error.GDALException: GDALException('Invalid pointer returned from \"GDALClose\"',) in Exception django.contrib.gis.gdal.error.GDALException: GDALException('Invalid pointer returned from \"GDALClose\"',) in Exception django.contrib.gis.gdal.error.GDALException: GDALException('Invalid pointer returned from \"GDALClose\"',) in Exception django.contrib.gis.gdal.error.GDALException: GDALException('Invalid pointer returned from \"GDALClose\"',) in Exception django.contrib.gis.gdal.error.GDALException: GDALException('Invalid pointer returned from \"GDALClose\"',) in Exception django.contrib.gis.gdal.error.GDALException: GDALException('Invalid pointer returned from \"GDALClose\"',) in Exception django.contrib.gis.gdal.error.GDALException: GDALException('Invalid pointer returned from \"GDALClose\"',) in Exception django.contrib.gis.gdal.error.GDALException: GDALException('Invalid pointer returned from \"GDALClose\"',) in Exception django.contrib.gis.gdal.error.GDALException: GDALException('Invalid pointer returned from \"GDALClose\"',) in Exception django.contrib.gis.gdal.error.GDALException: GDALException('Invalid pointer returned from \"GDALClose\"',) in Exception django.contrib.gis.gdal.error.GDALException: GDALException('Invalid pointer returned from \"GDALClose\"',) in Exception django.contrib.gis.gdal.error.GDALException: GDALException('Invalid pointer returned from \"GDALClose\"',) in Exception django.contrib.gis.gdal.error.GDALException: GDALException('Invalid pointer returned from \"GDALClose\"',) in Exception django.contrib.gis.gdal.error.GDALException: GDALException('Invalid pointer returned from \"GDALClose\"',) in Exception django.contrib.gis.gdal.error.GDALException: GDALException('Invalid pointer returned from \"GDALClose\"',) in Exception django.contrib.gis.gdal.error.GDALException: GDALException('Invalid pointer returned from \"GDALClose\"',) in Exception django.contrib.gis.gdal.error.GDALException: GDALException('Invalid pointer returned from \"GDALClose\"',) in Exception django.contrib.gis.gdal.error.GDALException: GDALException('Invalid pointer returned from \"GDALClose\"',) in Exception django.contrib.gis.gdal.error.GDALException: GDALException('Invalid pointer returned from \"GDALClose\"',) in Exception django.contrib.gis.gdal.error.GDALException: GDALException('Invalid pointer returned from \"GDALClose\"',) in Exception django.contrib.gis.gdal.error.GDALException: GDALException('Invalid pointer returned from \"GDALClose\"',) in Exception django.contrib.gis.gdal.error.GDALException: GDALException('Invalid pointer returned from \"GDALClose\"',) in Exception django.contrib.gis.gdal.error.GDALException: GDALException('Invalid pointer returned from \"GDALClose\"',) in Exception django.contrib.gis.gdal.error.GDALException: GDALException('Invalid pointer returned from \"GDALClose\"',) in Exception django.contrib.gis.gdal.error.GDALException: GDALException('Invalid pointer returned from \"GDALClose\"',) in Exception django.contrib.gis.gdal.error.GDALException: GDALException('Invalid pointer returned from \"GDALClose\"',) in Exception django.contrib.gis.gdal.error.GDALException: GDALException('Invalid pointer returned from \"GDALClose\"',) in Exception django.contrib.gis.gdal.error.GDALException: GDALException('Invalid pointer returned from \"GDALClose\"',) in Exception django.contrib.gis.gdal.error.GDALException: GDALException('Invalid pointer returned from \"GDALClose\"',) in Exception django.contrib.gis.gdal.error.GDALException: GDALException('Invalid pointer returned from \"GDALClose\"',) in Exception django.contrib.gis.gdal.error.GDALException: GDALException('Invalid pointer returned from \"GDALClose\"',) in Exception django.contrib.gis.gdal.error.GDALException: GDALException('Invalid pointer returned from \"GDALClose\"',) in Exception django.contrib.gis.gdal.error.GDALException: GDALException('Invalid pointer returned from \"GDALClose\"',) in Exception django.contrib.gis.gdal.error.GDALException: GDALException('Invalid pointer returned from \"GDALClose\"',) in Exception django.contrib.gis.gdal.error.GDALException: GDALException('Invalid pointer returned from \"GDALClose\"',) in Exception django.contrib.gis.gdal.error.GDALException: GDALException('Invalid pointer returned from \"GDALClose\"',) in Exception django.contrib.gis.gdal.error.GDALException: GDALException('Invalid pointer returned from \"GDALClose\"',) in Exception django.contrib.gis.gdal.error.GDALException: GDALException('Invalid pointer returned from \"GDALClose\"',) in Exception django.contrib.gis.gdal.error.GDALException: GDALException('Invalid pointer returned from \"GDALClose\"',) in Exception django.contrib.gis.gdal.error.GDALException: GDALException('Invalid pointer returned from \"GDALClose\"',) in Exception django.contrib.gis.gdal.error.GDALException: GDALException('Invalid pointer returned from \"GDALClose\"',) in Exception django.contrib.gis.gdal.error.GDALException: GDALException('Invalid pointer returned from \"GDALClose\"',) in Exception django.contrib.gis.gdal.error.GDALException: GDALException('Invalid pointer returned from \"GDALClose\"',) in Exception django.contrib.gis.gdal.error.GDALException: GDALException('Invalid pointer returned from \"GDALClose\"',) in Exception django.contrib.gis.gdal.error.GDALException: GDALException('Invalid pointer returned from \"GDALClose\"',) in Exception django.contrib.gis.gdal.error.GDALException: GDALException('Invalid pointer returned from \"GDALClose\"',) in Exception django.contrib.gis.gdal.error.GDALException: GDALException('Invalid pointer returned from \"GDALClose\"',) in Exception django.contrib.gis.gdal.error.GDALException: GDALException('Invalid pointer returned from \"GDALClose\"',) in Exception django.contrib.gis.gdal.error.GDALException: GDALException('Invalid pointer returned from \"GDALClose\"',) in Exception django.contrib.gis.gdal.error.GDALException: GDALException('Invalid pointer returned from \"GDALClose\"',) in Exception django.contrib.gis.gdal.error.GDALException: GDALException('Invalid pointer returned from \"GDALClose\"',) in Exception django.contrib.gis.gdal.error.GDALException: GDALException('Invalid pointer returned from \"GDALClose\"',) in Exception django.contrib.gis.gdal.error.GDALException: GDALException('Invalid pointer returned from \"GDALClose\"',) in Exception django.contrib.gis.gdal.error.GDALException: GDALException('Invalid pointer returned from \"GDALClose\"',) in Exception django.contrib.gis.gdal.error.GDALException: GDALException('Invalid pointer returned from \"GDALClose\"',) in Exception django.contrib.gis.gdal.error.GDALException: GDALException('Invalid pointer returned from \"GDALClose\"',) in Exception django.contrib.gis.gdal.error.GDALException: GDALException('Invalid pointer returned from \"GDALClose\"',) in Exception django.contrib.gis.gdal.error.GDALException: GDALException('Invalid pointer returned from \"GDALClose\"',) in Exception django.contrib.gis.gdal.error.GDALException: GDALException('Invalid pointer returned from \"GDALClose\"',) in Exception django.contrib.gis.gdal.error.GDALException: GDALException('Invalid pointer returned from \"GDALClose\"',) in Exception django.contrib.gis.gdal.error.GDALException: GDALException('Invalid pointer returned from \"GDALClose\"',) in Exception django.contrib.gis.gdal.error.GDALException: GDALException('Invalid pointer returned from \"GDALClose\"',) in Exception django.contrib.gis.gdal.error.GDALException: GDALException('Invalid pointer returned from \"GDALClose\"',) in Exception django.contrib.gis.gdal.error.GDALException: GDALException('Invalid pointer returned from \"GDALClose\"',) in Exception django.contrib.gis.gdal.error.GDALException: GDALException('Invalid pointer returned from \"GDALClose\"',) in Exception django.contrib.gis.gdal.error.GDALException: GDALException('Invalid pointer returned from \"GDALClose\"',) in Exception django.contrib.gis.gdal.error.GDALException: GDALException('Invalid pointer returned from \"GDALClose\"',) in Exception django.contrib.gis.gdal.error.GDALException: GDALException('Invalid pointer returned from \"GDALClose\"',) in Exception django.contrib.gis.gdal.error.GDALException: GDALException('Invalid pointer returned from \"GDALClose\"',) in Exception django.contrib.gis.gdal.error.GDALException: GDALException('Invalid pointer returned from \"GDALClose\"',) in Exception django.contrib.gis.gdal.error.GDALException: GDALException('Invalid pointer returned from \"GDALClose\"',) in Exception django.contrib.gis.gdal.error.GDALException: GDALException('Invalid pointer returned from \"GDALClose\"',) in Exception django.contrib.gis.gdal.error.GDALException: GDALException('Invalid pointer returned from \"GDALClose\"',) in Exception django.contrib.gis.gdal.error.GDALException: GDALException('Invalid pointer returned from \"GDALClose\"',) in Exception django.contrib.gis.gdal.error.GDALException: GDALException('Invalid pointer returned from \"GDALClose\"',) in Exception django.contrib.gis.gdal.error.GDALException: GDALException('Invalid pointer returned from \"GDALClose\"',) in Exception django.contrib.gis.gdal.error.GDALException: GDALException('Invalid pointer returned from \"GDALClose\"',) in Exception django.contrib.gis.gdal.error.GDALException: GDALException('Invalid pointer returned from \"GDALClose\"',) in Exception django.contrib.gis.gdal.error.GDALException: GDALException('Invalid pointer returned from \"GDALClose\"',) in Exception django.contrib.gis.gdal.error.GDALException: GDALException('Invalid pointer returned from \"GDALClose\"',) in Exception django.contrib.gis.gdal.error.GDALException: GDALException('Invalid pointer returned from \"GDALClose\"',) in Exception django.contrib.gis.gdal.error.GDALException: GDALException('Invalid pointer returned from \"GDALClose\"',) in Exception django.contrib.gis.gdal.error.GDALException: GDALException('Invalid pointer returned from \"GDALClose\"',) in Exception django.contrib.gis.gdal.error.GDALException: GDALException('Invalid pointer returned from \"GDALClose\"',) in Exception django.contrib.gis.gdal.error.GDALException: GDALException('Invalid pointer returned from \"GDALClose\"',) in Exception django.contrib.gis.gdal.error.GDALException: GDALException('Invalid pointer returned from \"GDALClose\"',) in Exception django.contrib.gis.gdal.error.GDALException: GDALException('Invalid pointer returned from \"GDALClose\"',) in Exception django.contrib.gis.gdal.error.GDALException: GDALException('Invalid pointer returned from \"GDALClose\"',) in Exception django.contrib.gis.gdal.error.GDALException: GDALException('Invalid pointer returned from \"GDALClose\"',) in Exception django.contrib.gis.gdal.error.GDALException: GDALException('Invalid pointer returned from \"GDALClose\"',) in Exception django.contrib.gis.gdal.error.GDALException: GDALException('Invalid pointer returned from \"GDALClose\"',) in Exception django.contrib.gis.gdal.error.GDALException: GDALException('Invalid pointer returned from \"GDALClose\"',) in Exception django.contrib.gis.gdal.error.GDALException: GDALException('Invalid pointer returned from \"GDALClose\"',) in Exception django.contrib.gis.gdal.error.GDALException: GDALException('Invalid pointer returned from \"GDALClose\"',) in Exception django.contrib.gis.gdal.error.GDALException: GDALException('Invalid pointer returned from \"GDALClose\"',) in Exception django.contrib.gis.gdal.error.GDALException: GDALException('Invalid pointer returned from \"GDALClose\"',) in Exception django.contrib.gis.gdal.error.GDALException: GDALException('Invalid pointer returned from \"GDALClose\"',) in Exception django.contrib.gis.gdal.error.GDALException: GDALException('Invalid pointer returned from \"GDALClose\"',) in Exception django.contrib.gis.gdal.error.GDALException: GDALException('Invalid pointer returned from \"GDALClose\"',) in Exception django.contrib.gis.gdal.error.GDALException: GDALException('Invalid pointer returned from \"GDALClose\"',) in Exception django.contrib.gis.gdal.error.GDALException: GDALException('Invalid pointer returned from \"GDALClose\"',) in Exception django.contrib.gis.gdal.error.GDALException: GDALException('Invalid pointer returned from \"GDALClose\"',) in Exception django.contrib.gis.gdal.error.GDALException: GDALException('Invalid pointer returned from \"GDALClose\"',) in Exception django.contrib.gis.gdal.error.GDALException: GDALException('Invalid pointer returned from \"GDALClose\"',) in Exception django.contrib.gis.gdal.error.GDALException: GDALException('Invalid pointer returned from \"GDALClose\"',) in Exception django.contrib.gis.gdal.error.GDALException: GDALException('Invalid pointer returned from \"GDALClose\"',) in Exception django.contrib.gis.gdal.error.GDALException: GDALException('Invalid pointer returned from \"GDALClose\"',) in Exception django.contrib.gis.gdal.error.GDALException: GDALException('Invalid pointer returned from \"GDALClose\"',) in Exception django.contrib.gis.gdal.error.GDALException: GDALException('Invalid pointer returned from \"GDALClose\"',) in Exception django.contrib.gis.gdal.error.GDALException: GDALException('Invalid pointer returned from \"GDALClose\"',) in Exception django.contrib.gis.gdal.error.GDALException: GDALException('Invalid pointer returned from \"GDALClose\"',) in Exception django.contrib.gis.gdal.error.GDALException: GDALException('Invalid pointer returned from \"GDALClose\"',) in Exception django.contrib.gis.gdal.error.GDALException: GDALException('Invalid pointer returned from \"GDALClose\"',) in Exception django.contrib.gis.gdal.error.GDALException: GDALException('Invalid pointer returned from \"GDALClose\"',) in Exception django.contrib.gis.gdal.error.GDALException: GDALException('Invalid pointer returned from \"GDALClose\"',) in Exception django.contrib.gis.gdal.error.GDALException: GDALException('Invalid pointer returned from \"GDALClose\"',) in Exception django.contrib.gis.gdal.error.GDALException: GDALException('Invalid pointer returned from \"GDALClose\"',) in Exception django.contrib.gis.gdal.error.GDALException: GDALException('Invalid pointer returned from \"GDALClose\"',) in Exception django.contrib.gis.gdal.error.GDALException: GDALException('Invalid pointer returned from \"GDALClose\"',) in Exception django.contrib.gis.gdal.error.GDALException: GDALException('Invalid pointer returned from \"GDALClose\"',) in Exception django.contrib.gis.gdal.error.GDALException: GDALException('Invalid pointer returned from \"GDALClose\"',) in Exception django.contrib.gis.gdal.error.GDALException: GDALException('Invalid pointer returned from \"GDALClose\"',) in Exception django.contrib.gis.gdal.error.GDALException: GDALException('Invalid pointer returned from \"GDALClose\"',) in Exception django.contrib.gis.gdal.error.GDALException: GDALException('Invalid pointer returned from \"GDALClose\"',) in Exception django.contrib.gis.gdal.error.GDALException: GDALException('Invalid pointer returned from \"GDALClose\"',) in Exception django.contrib.gis.gdal.error.GDALException: GDALException('Invalid pointer returned from \"GDALClose\"',) in Exception django.contrib.gis.gdal.error.GDALException: GDALException('Invalid pointer returned from \"GDALClose\"',) in Exception django.contrib.gis.gdal.error.GDALException: GDALException('Invalid pointer returned from \"GDALClose\"',) in Exception django.contrib.gis.gdal.error.GDALException: GDALException('Invalid pointer returned from \"GDALClose\"',) in Exception django.contrib.gis.gdal.error.GDALException: GDALException('Invalid pointer returned from \"GDALClose\"',) in Exception django.contrib.gis.gdal.error.GDALException: GDALException('Invalid pointer returned from \"GDALClose\"',) in Exception django.contrib.gis.gdal.error.GDALException: GDALException('Invalid pointer returned from \"GDALClose\"',) in Exception django.contrib.gis.gdal.error.GDALException: GDALException('Invalid pointer returned from \"GDALClose\"',) in Exception django.contrib.gis.gdal.error.GDALException: GDALException('Invalid pointer returned from \"GDALClose\"',) in Exception django.contrib.gis.gdal.error.GDALException: GDALException('Invalid pointer returned from \"GDALClose\"',) in Exception django.contrib.gis.gdal.error.GDALException: GDALException('Invalid pointer returned from \"GDALClose\"',) in Exception django.contrib.gis.gdal.error.GDALException: GDALException('Invalid pointer returned from \"GDALClose\"',) in Exception django.contrib.gis.gdal.error.GDALException: GDALException('Invalid pointer returned from \"GDALClose\"',) in Exception django.contrib.gis.gdal.error.GDALException: GDALException('Invalid pointer returned from \"GDALClose\"',) in Exception django.contrib.gis.gdal.error.GDALException: GDALException('Invalid pointer returned from \"GDALClose\"',) in Exception django.contrib.gis.gdal.error.GDALException: GDALException('Invalid pointer returned from \"GDALClose\"',) in Exception django.contrib.gis.gdal.error.GDALException: GDALException('Invalid pointer returned from \"GDALClose\"',) in Exception django.contrib.gis.gdal.error.GDALException: GDALException('Invalid pointer returned from \"GDALClose\"',) in Exception django.contrib.gis.gdal.error.GDALException: GDALException('Invalid pointer returned from \"GDALClose\"',) in Exception django.contrib.gis.gdal.error.GDALException: GDALException('Invalid pointer returned from \"GDALClose\"',) in Exception django.contrib.gis.gdal.error.GDALException: GDALException('Invalid pointer returned from \"GDALClose\"',) in Exception django.contrib.gis.gdal.error.GDALException: GDALException('Invalid pointer returned from \"GDALClose\"',) in Exception django.contrib.gis.gdal.error.GDALException: GDALException('Invalid pointer returned from \"GDALClose\"',) in Exception django.contrib.gis.gdal.error.GDALException: GDALException('Invalid pointer returned from \"GDALClose\"',) in Exception django.contrib.gis.gdal.error.GDALException: GDALException('Invalid pointer returned from \"GDALClose\"',) in Exception django.contrib.gis.gdal.error.GDALException: GDALException('Invalid pointer returned from \"GDALClose\"',) in Exception django.contrib.gis.gdal.error.GDALException: GDALException('Invalid pointer returned from \"GDALClose\"',) in Exception django.contrib.gis.gdal.error.GDALException: GDALException('Invalid pointer returned from \"GDALClose\"',) in Exception django.contrib.gis.gdal.error.GDALException: GDALException('Invalid pointer returned from \"GDALClose\"',) in Exception django.contrib.gis.gdal.error.GDALException: GDALException('Invalid pointer returned from \"GDALClose\"',) in Exception django.contrib.gis.gdal.error.GDALException: GDALException('Invalid pointer returned from \"GDALClose\"',) in Exception django.contrib.gis.gdal.error.GDALException: GDALException('Invalid pointer returned from \"GDALClose\"',) in Exception django.contrib.gis.gdal.error.GDALException: GDALException('Invalid pointer returned from \"GDALClose\"',) in Exception django.contrib.gis.gdal.error.GDALException: GDALException('Invalid pointer returned from \"GDALClose\"',) in Exception django.contrib.gis.gdal.error.GDALException: GDALException('Invalid pointer returned from \"GDALClose\"',) in Exception django.contrib.gis.gdal.error.GDALException: GDALException('Invalid pointer returned from \"GDALClose\"',) in Exception django.contrib.gis.gdal.error.GDALException: GDALException('Invalid pointer returned from \"GDALClose\"',) in Exception django.contrib.gis.gdal.error.GDALException: GDALException('Invalid pointer returned from \"GDALClose\"',) in Exception django.contrib.gis.gdal.error.GDALException: GDALException('Invalid pointer returned from \"GDALClose\"',) in Exception django.contrib.gis.gdal.error.GDALException: GDALException('Invalid pointer returned from \"GDALClose\"',) in Exception django.contrib.gis.gdal.error.GDALException: GDALException('Invalid pointer returned from \"GDALClose\"',) in Exception django.contrib.gis.gdal.error.GDALException: GDALException('Invalid pointer returned from \"GDALClose\"',) in Exception django.contrib.gis.gdal.error.GDALException: GDALException('Invalid pointer returned from \"GDALClose\"',) in Exception django.contrib.gis.gdal.error.GDALException: GDALException('Invalid pointer returned from \"GDALClose\"',) in Exception django.contrib.gis.gdal.error.GDALException: GDALException('Invalid pointer returned from \"GDALClose\"',) in Exception django.contrib.gis.gdal.error.GDALException: GDALException('Invalid pointer returned from \"GDALClose\"',) in Exception django.contrib.gis.gdal.error.GDALException: GDALException('Invalid pointer returned from \"GDALClose\"',) in Exception django.contrib.gis.gdal.error.GDALException: GDALException('Invalid pointer returned from \"GDALClose\"',) in Exception django.contrib.gis.gdal.error.GDALException: GDALException('Invalid pointer returned from \"GDALClose\"',) in Exception django.contrib.gis.gdal.error.GDALException: GDALException('Invalid pointer returned from \"GDALClose\"',) in Exception django.contrib.gis.gdal.error.GDALException: GDALException('Invalid pointer returned from \"GDALClose\"',) in Exception django.contrib.gis.gdal.error.GDALException: GDALException('Invalid pointer returned from \"GDALClose\"',) in Exception django.contrib.gis.gdal.error.GDALException: GDALException('Invalid pointer returned from \"GDALClose\"',) in Exception django.contrib.gis.gdal.error.GDALException: GDALException('Invalid pointer returned from \"GDALClose\"',) in Exception django.contrib.gis.gdal.error.GDALException: GDALException('Invalid pointer returned from \"GDALClose\"',) in Exception django.contrib.gis.gdal.error.GDALException: GDALException('Invalid pointer returned from \"GDALClose\"',) in Exception django.contrib.gis.gdal.error.GDALException: GDALException('Invalid pointer returned from \"GDALClose\"',) in Exception django.contrib.gis.gdal.error.GDALException: GDALException('Invalid pointer returned from \"GDALClose\"',) in Exception django.contrib.gis.gdal.error.GDALException: GDALException('Invalid pointer returned from \"GDALClose\"',) in Exception django.contrib.gis.gdal.error.GDALException: GDALException('Invalid pointer returned from \"GDALClose\"',) in Exception django.contrib.gis.gdal.error.GDALException: GDALException('Invalid pointer returned from \"GDALClose\"',) in Exception django.contrib.gis.gdal.error.GDALException: GDALException('Invalid pointer returned from \"GDALClose\"',) in Exception django.contrib.gis.gdal.error.GDALException: GDALException('Invalid pointer returned from \"GDALClose\"',) in Exception django.contrib.gis.gdal.error.GDALException: GDALException('Invalid pointer returned from \"GDALClose\"',) in Exception django.contrib.gis.gdal.error.GDALException: GDALException('Invalid pointer returned from \"GDALClose\"',) in Exception django.contrib.gis.gdal.error.GDALException: GDALException('Invalid pointer returned from \"GDALClose\"',) in Exception django.contrib.gis.gdal.error.GDALException: GDALException('Invalid pointer returned from \"GDALClose\"',) in Exception django.contrib.gis.gdal.error.GDALException: GDALException('Invalid pointer returned from \"GDALClose\"',) in Exception django.contrib.gis.gdal.error.GDALException: GDALException('Invalid pointer returned from \"GDALClose\"',) in Exception django.contrib.gis.gdal.error.GDALException: GDALException('Invalid pointer returned from \"GDALClose\"',) in Exception django.contrib.gis.gdal.error.GDALException: GDALException('Invalid pointer returned from \"GDALClose\"',) in Exception django.contrib.gis.gdal.error.GDALException: GDALException('Invalid pointer returned from \"GDALClose\"',) in Exception django.contrib.gis.gdal.error.GDALException: GDALException('Invalid pointer returned from \"GDALClose\"',) in Exception django.contrib.gis.gdal.error.GDALException: GDALException('Invalid pointer returned from \"GDALClose\"',) in Exception django.contrib.gis.gdal.error.GDALException: GDALException('Invalid pointer returned from \"GDALClose\"',) in Exception django.contrib.gis.gdal.error.GDALException: GDALException('Invalid pointer returned from \"GDALClose\"',) in Exception django.contrib.gis.gdal.error.GDALException: GDALException('Invalid pointer returned from \"GDALClose\"',) in Exception django.contrib.gis.gdal.error.GDALException: GDALException('Invalid pointer returned from \"GDALClose\"',) in Exception django.contrib.gis.gdal.error.GDALException: GDALException('Invalid pointer returned from \"GDALClose\"',) in Exception django.contrib.gis.gdal.error.GDALException: GDALException('Invalid pointer returned from \"GDALClose\"',) in Exception django.contrib.gis.gdal.error.GDALException: GDALException('Invalid pointer returned from \"GDALClose\"',) in Exception django.contrib.gis.gdal.error.GDALException: GDALException('Invalid pointer returned from \"GDALClose\"',) in Exception django.contrib.gis.gdal.error.GDALException: GDALException('Invalid pointer returned from \"GDALClose\"',) in Exception django.contrib.gis.gdal.error.GDALException: GDALException('Invalid pointer returned from \"GDALClose\"',) in Exception django.contrib.gis.gdal.error.GDALException: GDALException('Invalid pointer returned from \"GDALClose\"',) in Exception django.contrib.gis.gdal.error.GDALException: GDALException('Invalid pointer returned from \"GDALClose\"',) in Exception django.contrib.gis.gdal.error.GDALException: GDALException('Invalid pointer returned from \"GDALClose\"',) in Exception django.contrib.gis.gdal.error.GDALException: GDALException('Invalid pointer returned from \"GDALClose\"',) in Exception django.contrib.gis.gdal.error.GDALException: GDALException('Invalid pointer returned from \"GDALClose\"',) in Exception django.contrib.gis.gdal.error.GDALException: GDALException('Invalid pointer returned from \"GDALClose\"',) in Exception django.contrib.gis.gdal.error.GDALException: GDALException('Invalid pointer returned from \"GDALClose\"',) in Exception django.contrib.gis.gdal.error.GDALException: GDALException('Invalid pointer returned from \"GDALClose\"',) in Exception django.contrib.gis.gdal.error.GDALException: GDALException('Invalid pointer returned from \"GDALClose\"',) in Exception django.contrib.gis.gdal.error.GDALException: GDALException('Invalid pointer returned from \"GDALClose\"',) in Exception django.contrib.gis.gdal.error.GDALException: GDALException('Invalid pointer returned from \"GDALClose\"',) in Exception django.contrib.gis.gdal.error.GDALException: GDALException('Invalid pointer returned from \"GDALClose\"',) in Exception django.contrib.gis.gdal.error.GDALException: GDALException('Invalid pointer returned from \"GDALClose\"',) in Exception django.contrib.gis.gdal.error.GDALException: GDALException('Invalid pointer returned from \"GDALClose\"',) in Exception django.contrib.gis.gdal.error.GDALException: GDALException('Invalid pointer returned from \"GDALClose\"',) in Exception django.contrib.gis.gdal.error.GDALException: GDALException('Invalid pointer returned from \"GDALClose\"',) in Exception django.contrib.gis.gdal.error.GDALException: GDALException('Invalid pointer returned from \"GDALClose\"',) in Exception django.contrib.gis.gdal.error.GDALException: GDALException('Invalid pointer returned from \"GDALClose\"',) in Exception django.contrib.gis.gdal.error.GDALException: GDALException('Invalid pointer returned from \"GDALClose\"',) in Exception django.contrib.gis.gdal.error.GDALException: GDALException('Invalid pointer returned from \"GDALClose\"',) in Exception django.contrib.gis.gdal.error.GDALException: GDALException('Invalid pointer returned from \"GDALClose\"',) in Exception django.contrib.gis.gdal.error.GDALException: GDALException('Invalid pointer returned from \"GDALClose\"',) in Exception django.contrib.gis.gdal.error.GDALException: GDALException('Invalid pointer returned from \"GDALClose\"',) in Exception django.contrib.gis.gdal.error.GDALException: GDALException('Invalid pointer returned from \"GDALClose\"',) in Exception django.contrib.gis.gdal.error.GDALException: GDALException('Invalid pointer returned from \"GDALClose\"',) in Exception django.contrib.gis.gdal.error.GDALException: GDALException('Invalid pointer returned from \"GDALClose\"',) in Exception django.contrib.gis.gdal.error.GDALException: GDALException('Invalid pointer returned from \"GDALClose\"',) in Exception django.contrib.gis.gdal.error.GDALException: GDALException('Invalid pointer returned from \"GDALClose\"',) in Exception django.contrib.gis.gdal.error.GDALException: GDALException('Invalid pointer returned from \"GDALClose\"',) in Exception django.contrib.gis.gdal.error.GDALException: GDALException('Invalid pointer returned from \"GDALClose\"',) in Exception django.contrib.gis.gdal.error.GDALException: GDALException('Invalid pointer returned from \"GDALClose\"',) in Exception django.contrib.gis.gdal.error.GDALException: GDALException('Invalid pointer returned from \"GDALClose\"',) in Exception django.contrib.gis.gdal.error.GDALException: GDALException('Invalid pointer returned from \"GDALClose\"',) in Exception django.contrib.gis.gdal.error.GDALException: GDALException('Invalid pointer returned from \"GDALClose\"',) in Exception django.contrib.gis.gdal.error.GDALException: GDALException('Invalid pointer returned from \"GDALClose\"',) in Exception django.contrib.gis.gdal.error.GDALException: GDALException('Invalid pointer returned from \"GDALClose\"',) in Exception django.contrib.gis.gdal.error.GDALException: GDALException('Invalid pointer returned from \"GDALClose\"',) in Exception django.contrib.gis.gdal.error.GDALException: GDALException('Invalid pointer returned from \"GDALClose\"',) in "
     ]
    }
   ],
   "source": [
    "tii = st.getEnvironmentalCovariatesFromListOfCells(cells)"
   ]
  },
  {
   "cell_type": "code",
   "execution_count": 30,
   "metadata": {
    "collapsed": false
   },
   "outputs": [
    {
     "data": {
      "text/html": [
       "<div>\n",
       "<table border=\"1\" class=\"dataframe\">\n",
       "  <thead>\n",
       "    <tr style=\"text-align: right;\">\n",
       "      <th></th>\n",
       "      <th>MinTemperature_mean</th>\n",
       "      <th>MeanTemperature_mean</th>\n",
       "      <th>MaxTemperature_mean</th>\n",
       "    </tr>\n",
       "  </thead>\n",
       "  <tbody>\n",
       "    <tr>\n",
       "      <th>0</th>\n",
       "      <td>N.A.</td>\n",
       "      <td>N.A.</td>\n",
       "      <td>15.2669</td>\n",
       "    </tr>\n",
       "    <tr>\n",
       "      <th>1</th>\n",
       "      <td>29.875</td>\n",
       "      <td>23.6944</td>\n",
       "      <td>29.8986</td>\n",
       "    </tr>\n",
       "    <tr>\n",
       "      <th>2</th>\n",
       "      <td>23.2861</td>\n",
       "      <td>14.8194</td>\n",
       "      <td>23.2328</td>\n",
       "    </tr>\n",
       "    <tr>\n",
       "      <th>3</th>\n",
       "      <td>N.A.</td>\n",
       "      <td>N.A.</td>\n",
       "      <td>30.0982</td>\n",
       "    </tr>\n",
       "    <tr>\n",
       "      <th>4</th>\n",
       "      <td>N.A.</td>\n",
       "      <td>N.A.</td>\n",
       "      <td>21.6241</td>\n",
       "    </tr>\n",
       "    <tr>\n",
       "      <th>5</th>\n",
       "      <td>N.A.</td>\n",
       "      <td>N.A.</td>\n",
       "      <td>16.3036</td>\n",
       "    </tr>\n",
       "    <tr>\n",
       "      <th>6</th>\n",
       "      <td>N.A.</td>\n",
       "      <td>N.A.</td>\n",
       "      <td>18.4509</td>\n",
       "    </tr>\n",
       "    <tr>\n",
       "      <th>7</th>\n",
       "      <td>N.A.</td>\n",
       "      <td>N.A.</td>\n",
       "      <td>19.1838</td>\n",
       "    </tr>\n",
       "    <tr>\n",
       "      <th>8</th>\n",
       "      <td>27.0556</td>\n",
       "      <td>18.4398</td>\n",
       "      <td>26.997</td>\n",
       "    </tr>\n",
       "    <tr>\n",
       "      <th>9</th>\n",
       "      <td>N.A.</td>\n",
       "      <td>N.A.</td>\n",
       "      <td>25.6769</td>\n",
       "    </tr>\n",
       "    <tr>\n",
       "      <th>10</th>\n",
       "      <td>N.A.</td>\n",
       "      <td>N.A.</td>\n",
       "      <td>30.3389</td>\n",
       "    </tr>\n",
       "    <tr>\n",
       "      <th>11</th>\n",
       "      <td>26.2245</td>\n",
       "      <td>19.169</td>\n",
       "      <td>26.1593</td>\n",
       "    </tr>\n",
       "    <tr>\n",
       "      <th>12</th>\n",
       "      <td>29.0625</td>\n",
       "      <td>21.5</td>\n",
       "      <td>28.9266</td>\n",
       "    </tr>\n",
       "    <tr>\n",
       "      <th>13</th>\n",
       "      <td>29.6898</td>\n",
       "      <td>23.3565</td>\n",
       "      <td>29.6736</td>\n",
       "    </tr>\n",
       "    <tr>\n",
       "      <th>14</th>\n",
       "      <td>N.A.</td>\n",
       "      <td>N.A.</td>\n",
       "      <td>30.6981</td>\n",
       "    </tr>\n",
       "    <tr>\n",
       "      <th>15</th>\n",
       "      <td>N.A.</td>\n",
       "      <td>N.A.</td>\n",
       "      <td>21.3725</td>\n",
       "    </tr>\n",
       "    <tr>\n",
       "      <th>16</th>\n",
       "      <td>N.A.</td>\n",
       "      <td>N.A.</td>\n",
       "      <td>27.2215</td>\n",
       "    </tr>\n",
       "    <tr>\n",
       "      <th>17</th>\n",
       "      <td>N.A.</td>\n",
       "      <td>N.A.</td>\n",
       "      <td>22.8664</td>\n",
       "    </tr>\n",
       "    <tr>\n",
       "      <th>18</th>\n",
       "      <td>N.A.</td>\n",
       "      <td>N.A.</td>\n",
       "      <td>22.0065</td>\n",
       "    </tr>\n",
       "    <tr>\n",
       "      <th>19</th>\n",
       "      <td>29.2199</td>\n",
       "      <td>19.0278</td>\n",
       "      <td>29.147</td>\n",
       "    </tr>\n",
       "    <tr>\n",
       "      <th>20</th>\n",
       "      <td>30.7708</td>\n",
       "      <td>21.8495</td>\n",
       "      <td>30.7278</td>\n",
       "    </tr>\n",
       "    <tr>\n",
       "      <th>21</th>\n",
       "      <td>N.A.</td>\n",
       "      <td>N.A.</td>\n",
       "      <td>21.9207</td>\n",
       "    </tr>\n",
       "    <tr>\n",
       "      <th>22</th>\n",
       "      <td>N.A.</td>\n",
       "      <td>N.A.</td>\n",
       "      <td>24.1903</td>\n",
       "    </tr>\n",
       "    <tr>\n",
       "      <th>23</th>\n",
       "      <td>N.A.</td>\n",
       "      <td>N.A.</td>\n",
       "      <td>28.9815</td>\n",
       "    </tr>\n",
       "    <tr>\n",
       "      <th>24</th>\n",
       "      <td>N.A.</td>\n",
       "      <td>N.A.</td>\n",
       "      <td>17.784</td>\n",
       "    </tr>\n",
       "    <tr>\n",
       "      <th>25</th>\n",
       "      <td>N.A.</td>\n",
       "      <td>N.A.</td>\n",
       "      <td>17.028</td>\n",
       "    </tr>\n",
       "    <tr>\n",
       "      <th>26</th>\n",
       "      <td>N.A.</td>\n",
       "      <td>N.A.</td>\n",
       "      <td>27.5828</td>\n",
       "    </tr>\n",
       "    <tr>\n",
       "      <th>27</th>\n",
       "      <td>N.A.</td>\n",
       "      <td>N.A.</td>\n",
       "      <td>N.A.</td>\n",
       "    </tr>\n",
       "    <tr>\n",
       "      <th>28</th>\n",
       "      <td>31.3639</td>\n",
       "      <td>24.9528</td>\n",
       "      <td>31.2922</td>\n",
       "    </tr>\n",
       "    <tr>\n",
       "      <th>29</th>\n",
       "      <td>N.A.</td>\n",
       "      <td>N.A.</td>\n",
       "      <td>28.1701</td>\n",
       "    </tr>\n",
       "    <tr>\n",
       "      <th>...</th>\n",
       "      <td>...</td>\n",
       "      <td>...</td>\n",
       "      <td>...</td>\n",
       "    </tr>\n",
       "    <tr>\n",
       "      <th>170</th>\n",
       "      <td>31.3981</td>\n",
       "      <td>26.2292</td>\n",
       "      <td>31.4206</td>\n",
       "    </tr>\n",
       "    <tr>\n",
       "      <th>171</th>\n",
       "      <td>N.A.</td>\n",
       "      <td>N.A.</td>\n",
       "      <td>21.3215</td>\n",
       "    </tr>\n",
       "    <tr>\n",
       "      <th>172</th>\n",
       "      <td>N.A.</td>\n",
       "      <td>N.A.</td>\n",
       "      <td>16.4708</td>\n",
       "    </tr>\n",
       "    <tr>\n",
       "      <th>173</th>\n",
       "      <td>N.A.</td>\n",
       "      <td>N.A.</td>\n",
       "      <td>18.3632</td>\n",
       "    </tr>\n",
       "    <tr>\n",
       "      <th>174</th>\n",
       "      <td>N.A.</td>\n",
       "      <td>N.A.</td>\n",
       "      <td>24.6372</td>\n",
       "    </tr>\n",
       "    <tr>\n",
       "      <th>175</th>\n",
       "      <td>N.A.</td>\n",
       "      <td>N.A.</td>\n",
       "      <td>19.2317</td>\n",
       "    </tr>\n",
       "    <tr>\n",
       "      <th>176</th>\n",
       "      <td>N.A.</td>\n",
       "      <td>N.A.</td>\n",
       "      <td>18.4772</td>\n",
       "    </tr>\n",
       "    <tr>\n",
       "      <th>177</th>\n",
       "      <td>29.3866</td>\n",
       "      <td>22.0648</td>\n",
       "      <td>29.422</td>\n",
       "    </tr>\n",
       "    <tr>\n",
       "      <th>178</th>\n",
       "      <td>N.A.</td>\n",
       "      <td>N.A.</td>\n",
       "      <td>20.7771</td>\n",
       "    </tr>\n",
       "    <tr>\n",
       "      <th>179</th>\n",
       "      <td>31.1227</td>\n",
       "      <td>24.6736</td>\n",
       "      <td>31.1294</td>\n",
       "    </tr>\n",
       "    <tr>\n",
       "      <th>180</th>\n",
       "      <td>N.A.</td>\n",
       "      <td>N.A.</td>\n",
       "      <td>20.8947</td>\n",
       "    </tr>\n",
       "    <tr>\n",
       "      <th>181</th>\n",
       "      <td>30.5671</td>\n",
       "      <td>23.8704</td>\n",
       "      <td>30.5694</td>\n",
       "    </tr>\n",
       "    <tr>\n",
       "      <th>182</th>\n",
       "      <td>N.A.</td>\n",
       "      <td>N.A.</td>\n",
       "      <td>25.4519</td>\n",
       "    </tr>\n",
       "    <tr>\n",
       "      <th>183</th>\n",
       "      <td>N.A.</td>\n",
       "      <td>N.A.</td>\n",
       "      <td>25.3731</td>\n",
       "    </tr>\n",
       "    <tr>\n",
       "      <th>184</th>\n",
       "      <td>N.A.</td>\n",
       "      <td>N.A.</td>\n",
       "      <td>24.353</td>\n",
       "    </tr>\n",
       "    <tr>\n",
       "      <th>185</th>\n",
       "      <td>26.3333</td>\n",
       "      <td>17.0833</td>\n",
       "      <td>26.2642</td>\n",
       "    </tr>\n",
       "    <tr>\n",
       "      <th>186</th>\n",
       "      <td>N.A.</td>\n",
       "      <td>N.A.</td>\n",
       "      <td>17.3361</td>\n",
       "    </tr>\n",
       "    <tr>\n",
       "      <th>187</th>\n",
       "      <td>N.A.</td>\n",
       "      <td>N.A.</td>\n",
       "      <td>22.5898</td>\n",
       "    </tr>\n",
       "    <tr>\n",
       "      <th>188</th>\n",
       "      <td>23.4639</td>\n",
       "      <td>13.7722</td>\n",
       "      <td>23.4061</td>\n",
       "    </tr>\n",
       "    <tr>\n",
       "      <th>189</th>\n",
       "      <td>N.A.</td>\n",
       "      <td>N.A.</td>\n",
       "      <td>22.31</td>\n",
       "    </tr>\n",
       "    <tr>\n",
       "      <th>190</th>\n",
       "      <td>N.A.</td>\n",
       "      <td>N.A.</td>\n",
       "      <td>20.0083</td>\n",
       "    </tr>\n",
       "    <tr>\n",
       "      <th>191</th>\n",
       "      <td>N.A.</td>\n",
       "      <td>N.A.</td>\n",
       "      <td>19.5733</td>\n",
       "    </tr>\n",
       "    <tr>\n",
       "      <th>192</th>\n",
       "      <td>N.A.</td>\n",
       "      <td>N.A.</td>\n",
       "      <td>14.4236</td>\n",
       "    </tr>\n",
       "    <tr>\n",
       "      <th>193</th>\n",
       "      <td>26.0301</td>\n",
       "      <td>16.6644</td>\n",
       "      <td>25.9525</td>\n",
       "    </tr>\n",
       "    <tr>\n",
       "      <th>194</th>\n",
       "      <td>N.A.</td>\n",
       "      <td>N.A.</td>\n",
       "      <td>23.9372</td>\n",
       "    </tr>\n",
       "    <tr>\n",
       "      <th>195</th>\n",
       "      <td>N.A.</td>\n",
       "      <td>N.A.</td>\n",
       "      <td>22.8947</td>\n",
       "    </tr>\n",
       "    <tr>\n",
       "      <th>196</th>\n",
       "      <td>N.A.</td>\n",
       "      <td>N.A.</td>\n",
       "      <td>23.8222</td>\n",
       "    </tr>\n",
       "    <tr>\n",
       "      <th>197</th>\n",
       "      <td>N.A.</td>\n",
       "      <td>N.A.</td>\n",
       "      <td>23.0278</td>\n",
       "    </tr>\n",
       "    <tr>\n",
       "      <th>198</th>\n",
       "      <td>N.A.</td>\n",
       "      <td>N.A.</td>\n",
       "      <td>17.2014</td>\n",
       "    </tr>\n",
       "    <tr>\n",
       "      <th>199</th>\n",
       "      <td>N.A.</td>\n",
       "      <td>N.A.</td>\n",
       "      <td>16.6674</td>\n",
       "    </tr>\n",
       "  </tbody>\n",
       "</table>\n",
       "<p>200 rows × 3 columns</p>\n",
       "</div>"
      ],
      "text/plain": [
       "    MinTemperature_mean MeanTemperature_mean MaxTemperature_mean\n",
       "0                  N.A.                 N.A.             15.2669\n",
       "1                29.875              23.6944             29.8986\n",
       "2               23.2861              14.8194             23.2328\n",
       "3                  N.A.                 N.A.             30.0982\n",
       "4                  N.A.                 N.A.             21.6241\n",
       "5                  N.A.                 N.A.             16.3036\n",
       "6                  N.A.                 N.A.             18.4509\n",
       "7                  N.A.                 N.A.             19.1838\n",
       "8               27.0556              18.4398              26.997\n",
       "9                  N.A.                 N.A.             25.6769\n",
       "10                 N.A.                 N.A.             30.3389\n",
       "11              26.2245               19.169             26.1593\n",
       "12              29.0625                 21.5             28.9266\n",
       "13              29.6898              23.3565             29.6736\n",
       "14                 N.A.                 N.A.             30.6981\n",
       "15                 N.A.                 N.A.             21.3725\n",
       "16                 N.A.                 N.A.             27.2215\n",
       "17                 N.A.                 N.A.             22.8664\n",
       "18                 N.A.                 N.A.             22.0065\n",
       "19              29.2199              19.0278              29.147\n",
       "20              30.7708              21.8495             30.7278\n",
       "21                 N.A.                 N.A.             21.9207\n",
       "22                 N.A.                 N.A.             24.1903\n",
       "23                 N.A.                 N.A.             28.9815\n",
       "24                 N.A.                 N.A.              17.784\n",
       "25                 N.A.                 N.A.              17.028\n",
       "26                 N.A.                 N.A.             27.5828\n",
       "27                 N.A.                 N.A.                N.A.\n",
       "28              31.3639              24.9528             31.2922\n",
       "29                 N.A.                 N.A.             28.1701\n",
       "..                  ...                  ...                 ...\n",
       "170             31.3981              26.2292             31.4206\n",
       "171                N.A.                 N.A.             21.3215\n",
       "172                N.A.                 N.A.             16.4708\n",
       "173                N.A.                 N.A.             18.3632\n",
       "174                N.A.                 N.A.             24.6372\n",
       "175                N.A.                 N.A.             19.2317\n",
       "176                N.A.                 N.A.             18.4772\n",
       "177             29.3866              22.0648              29.422\n",
       "178                N.A.                 N.A.             20.7771\n",
       "179             31.1227              24.6736             31.1294\n",
       "180                N.A.                 N.A.             20.8947\n",
       "181             30.5671              23.8704             30.5694\n",
       "182                N.A.                 N.A.             25.4519\n",
       "183                N.A.                 N.A.             25.3731\n",
       "184                N.A.                 N.A.              24.353\n",
       "185             26.3333              17.0833             26.2642\n",
       "186                N.A.                 N.A.             17.3361\n",
       "187                N.A.                 N.A.             22.5898\n",
       "188             23.4639              13.7722             23.4061\n",
       "189                N.A.                 N.A.               22.31\n",
       "190                N.A.                 N.A.             20.0083\n",
       "191                N.A.                 N.A.             19.5733\n",
       "192                N.A.                 N.A.             14.4236\n",
       "193             26.0301              16.6644             25.9525\n",
       "194                N.A.                 N.A.             23.9372\n",
       "195                N.A.                 N.A.             22.8947\n",
       "196                N.A.                 N.A.             23.8222\n",
       "197                N.A.                 N.A.             23.0278\n",
       "198                N.A.                 N.A.             17.2014\n",
       "199                N.A.                 N.A.             16.6674\n",
       "\n",
       "[200 rows x 3 columns]"
      ]
     },
     "execution_count": 30,
     "metadata": {},
     "output_type": "execute_result"
    }
   ],
   "source": [
    "tii[['MinTemperature_mean','MeanTemperature_mean','MaxTemperature_mean']]"
   ]
  },
  {
   "cell_type": "markdown",
   "metadata": {},
   "source": [
    "### Benchmarking time for retrieval using explicit lists vs lazy-evaluation\n"
   ]
  },
  {
   "cell_type": "code",
   "execution_count": null,
   "metadata": {
    "collapsed": false,
    "scrolled": true
   },
   "outputs": [],
   "source": [
    "%time samples = list(sel)"
   ]
  },
  {
   "cell_type": "code",
   "execution_count": null,
   "metadata": {
    "collapsed": false
   },
   "outputs": [],
   "source": [
    "%time ocs2 = map(lambda c : list(c.has_occurrences),samples)"
   ]
  },
  {
   "cell_type": "code",
   "execution_count": null,
   "metadata": {
    "collapsed": false
   },
   "outputs": [],
   "source": [
    "ocs2_l = filter(lambda k : k != [] ,ocs2)"
   ]
  },
  {
   "cell_type": "code",
   "execution_count": null,
   "metadata": {
    "collapsed": false
   },
   "outputs": [],
   "source": [
    "len(ocs2_l)"
   ]
  },
  {
   "cell_type": "code",
   "execution_count": null,
   "metadata": {
    "collapsed": false
   },
   "outputs": [],
   "source": [
    "lll = reduce(lambda a,b : a+b,ocs2_l)"
   ]
  },
  {
   "cell_type": "code",
   "execution_count": null,
   "metadata": {
    "collapsed": false
   },
   "outputs": [],
   "source": [
    "lll"
   ]
  },
  {
   "cell_type": "code",
   "execution_count": null,
   "metadata": {
    "collapsed": false,
    "scrolled": true
   },
   "outputs": [],
   "source": [
    "lll == ccc"
   ]
  },
  {
   "cell_type": "code",
   "execution_count": null,
   "metadata": {
    "collapsed": false
   },
   "outputs": [],
   "source": [
    "sel = Mex4km.select(graph).where(\"_.id IN  %s \"%str(c))"
   ]
  },
  {
   "cell_type": "code",
   "execution_count": null,
   "metadata": {
    "collapsed": true
   },
   "outputs": [],
   "source": []
  },
  {
   "cell_type": "code",
   "execution_count": null,
   "metadata": {
    "collapsed": true
   },
   "outputs": [],
   "source": []
  },
  {
   "cell_type": "code",
   "execution_count": null,
   "metadata": {
    "collapsed": false
   },
   "outputs": [],
   "source": [
    "def _try_levelnames_extraction(relationship):\n",
    "    \"\"\"\n",
    "    Extracts the end node relationship name.\n",
    "    for use with map functions.\n",
    "    \"\"\"\n",
    "    try:\n",
    "        a = relationship.start_node()['levelname']\n",
    "        return a\n",
    "    except:\n",
    "        return None\n",
    "    \n",
    "types = map(lambda r : map(lambda t : _try_levelnames_extraction(t),r),available_rels)"
   ]
  },
  {
   "cell_type": "code",
   "execution_count": null,
   "metadata": {
    "collapsed": false
   },
   "outputs": [],
   "source": [
    "types"
   ]
  },
  {
   "cell_type": "code",
   "execution_count": null,
   "metadata": {
    "collapsed": false
   },
   "outputs": [],
   "source": [
    "tt = tb.buildTreeNeo(samples[26])"
   ]
  },
  {
   "cell_type": "code",
   "execution_count": null,
   "metadata": {
    "collapsed": false
   },
   "outputs": [],
   "source": []
  },
  {
   "cell_type": "code",
   "execution_count": null,
   "metadata": {
    "collapsed": false
   },
   "outputs": [],
   "source": [
    "#For now not run\n",
    "#big_tree = reduce(lambda a,b : a+b , trees)\n",
    "import seaborn as sns"
   ]
  },
  {
   "cell_type": "code",
   "execution_count": null,
   "metadata": {
    "collapsed": true
   },
   "outputs": [],
   "source": [
    "t = trees[2]"
   ]
  },
  {
   "cell_type": "code",
   "execution_count": null,
   "metadata": {
    "collapsed": true
   },
   "outputs": [],
   "source": []
  },
  {
   "cell_type": "code",
   "execution_count": null,
   "metadata": {
    "collapsed": false
   },
   "outputs": [],
   "source": [
    "ll = map(lambda t : t.richness , trees)"
   ]
  },
  {
   "cell_type": "code",
   "execution_count": null,
   "metadata": {
    "collapsed": false
   },
   "outputs": [],
   "source": [
    "sns.distplot(ll)"
   ]
  },
  {
   "cell_type": "code",
   "execution_count": null,
   "metadata": {
    "collapsed": false
   },
   "outputs": [],
   "source": [
    "tl.plotTree(tt)"
   ]
  },
  {
   "cell_type": "code",
   "execution_count": null,
   "metadata": {
    "collapsed": false
   },
   "outputs": [],
   "source": [
    "import traversals.strategies as strg"
   ]
  },
  {
   "cell_type": "code",
   "execution_count": null,
   "metadata": {
    "collapsed": false
   },
   "outputs": [],
   "source": [
    "type(root)"
   ]
  },
  {
   "cell_type": "code",
   "execution_count": null,
   "metadata": {
    "collapsed": false
   },
   "outputs": [],
   "source": [
    "root = t.node"
   ]
  },
  {
   "cell_type": "code",
   "execution_count": null,
   "metadata": {
    "collapsed": false
   },
   "outputs": [],
   "source": [
    "a = strg.getPresencesForNode(root,trees)"
   ]
  },
  {
   "cell_type": "code",
   "execution_count": null,
   "metadata": {
    "collapsed": false
   },
   "outputs": [],
   "source": [
    "data_t = strg.getPresencesForListOfNodes([root],trees)"
   ]
  },
  {
   "cell_type": "code",
   "execution_count": null,
   "metadata": {
    "collapsed": false
   },
   "outputs": [],
   "source": [
    "data_t"
   ]
  },
  {
   "cell_type": "markdown",
   "metadata": {},
   "source": [
    "# The model"
   ]
  },
  {
   "cell_type": "code",
   "execution_count": null,
   "metadata": {
    "collapsed": true
   },
   "outputs": [],
   "source": [
    "import pymc3 as pm"
   ]
  },
  {
   "cell_type": "code",
   "execution_count": null,
   "metadata": {
    "collapsed": false
   },
   "outputs": [],
   "source": [
    "-"
   ]
  },
  {
   "cell_type": "code",
   "execution_count": null,
   "metadata": {
    "collapsed": false,
    "scrolled": true
   },
   "outputs": [],
   "source": [
    "from pymc3 import find_MAP\n",
    "map_estimate = find_MAP(model=model)\n",
    "map_estimate"
   ]
  },
  {
   "cell_type": "code",
   "execution_count": null,
   "metadata": {
    "collapsed": true
   },
   "outputs": [],
   "source": [
    "import pandas as pd"
   ]
  },
  {
   "cell_type": "code",
   "execution_count": null,
   "metadata": {
    "collapsed": false
   },
   "outputs": [],
   "source": [
    "mapxy = pd.concat([data_t[['Longitude','Latitude']],pd.DataFrame({'map': map_estimate['latent_field']})],axis=1)"
   ]
  },
  {
   "cell_type": "code",
   "execution_count": null,
   "metadata": {
    "collapsed": false
   },
   "outputs": [],
   "source": [
    "gmapxy = tools.toGeoDataFrame(mapxy,xcoord_name='Longitude',ycoord_name='Latitude')"
   ]
  },
  {
   "cell_type": "code",
   "execution_count": null,
   "metadata": {
    "collapsed": false
   },
   "outputs": [],
   "source": [
    "fig, ax = plt.subplots(figsize=(14, 9));\n",
    "gmapxy.plot(ax=ax,column='map')"
   ]
  },
  {
   "cell_type": "markdown",
   "metadata": {},
   "source": [
    "## Prediction\n",
    "The conditional method creates the conditional, or predictive, distribution over the latent function at arbitrary x∗x∗ input points, f(x∗)f(x∗). To construct the conditional distribution we write:"
   ]
  },
  {
   "cell_type": "code",
   "execution_count": null,
   "metadata": {
    "collapsed": true
   },
   "outputs": [],
   "source": [
    "minx = min(data_t.Longitude)\n",
    "maxx = max(data_t.Longitude)\n",
    "miny = min(data_t.Latitude)\n",
    "maxy = max(data_t.Latitude)"
   ]
  },
  {
   "cell_type": "code",
   "execution_count": null,
   "metadata": {
    "collapsed": false
   },
   "outputs": [],
   "source": [
    "from external_plugins.spystats.spystats import tools"
   ]
  },
  {
   "cell_type": "code",
   "execution_count": null,
   "metadata": {
    "collapsed": true
   },
   "outputs": [],
   "source": [
    "grid = tools.createGrid(grid_sizex=10,grid_sizey=10,minx=minx,miny=miny,maxx=maxx,maxy=maxy)"
   ]
  },
  {
   "cell_type": "code",
   "execution_count": null,
   "metadata": {
    "collapsed": false
   },
   "outputs": [],
   "source": []
  },
  {
   "cell_type": "code",
   "execution_count": null,
   "metadata": {
    "collapsed": false
   },
   "outputs": [],
   "source": [
    "gp.predict(grid[['Lon','Lat']])"
   ]
  },
  {
   "cell_type": "code",
   "execution_count": null,
   "metadata": {
    "collapsed": false
   },
   "outputs": [],
   "source": [
    "%time f_star = gp.conditional(\"f_star\", X=grid[['Lon','Lat']])"
   ]
  },
  {
   "cell_type": "code",
   "execution_count": null,
   "metadata": {
    "collapsed": false
   },
   "outputs": [],
   "source": [
    "getdata = lambda tree : tree.associatedData.getEnvironmentalVariablesCells()"
   ]
  },
  {
   "cell_type": "code",
   "execution_count": null,
   "metadata": {
    "collapsed": false
   },
   "outputs": [],
   "source": [
    "ts[1].associatedData.getEnvironmentalVariablesCells()"
   ]
  },
  {
   "cell_type": "code",
   "execution_count": null,
   "metadata": {
    "collapsed": false
   },
   "outputs": [],
   "source": [
    "list(choices)"
   ]
  },
  {
   "cell_type": "code",
   "execution_count": null,
   "metadata": {
    "collapsed": false
   },
   "outputs": [],
   "source": [
    "n"
   ]
  },
  {
   "cell_type": "code",
   "execution_count": null,
   "metadata": {
    "collapsed": true
   },
   "outputs": [],
   "source": []
  }
 ],
 "metadata": {
  "kernelspec": {
   "display_name": "Django Shell-Plus",
   "language": "python",
   "name": "django_extensions"
  },
  "language_info": {
   "codemirror_mode": {
    "name": "ipython",
    "version": 2
   },
   "file_extension": ".py",
   "mimetype": "text/x-python",
   "name": "python",
   "nbconvert_exporter": "python",
   "pygments_lexer": "ipython2",
   "version": "2.7.11"
  }
 },
 "nbformat": 4,
 "nbformat_minor": 0
}
