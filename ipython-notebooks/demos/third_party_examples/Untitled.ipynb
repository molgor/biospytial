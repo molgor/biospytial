{
 "cells": [
  {
   "cell_type": "code",
   "execution_count": 1,
   "metadata": {
    "collapsed": true
   },
   "outputs": [],
   "source": [
    "%matplotlib inline\n",
    "import sys\n",
    "sys.path.append('/apps')\n",
    "import django\n",
    "django.setup()\n",
    "from drivers.graph_models import TreeNode, Order, Family, graph, pickNode\n",
    "from traversals.strategies import sumTrees, UniformRandomSampleForest"
   ]
  },
  {
   "cell_type": "markdown",
   "metadata": {},
   "source": [
    "# Ejercicios con el API para calidad del aire\n",
    "En este cuaderno experimento con los datos abiertos de la calidad del Aire en el DF.\n",
    "Estoy usando el repositorio Mexico Datos Abiertos.\n",
    "## Motivación\n",
    "Crear una *App* que reporte la calidad del Aire. Similar a un pronostico de Meteorológico pero que prediga calidad del aire.\n",
    "\n",
    "### Covariables\n",
    "* Temperatura\n",
    "* Dirección del viento\n",
    "* Preción atmosférica\n",
    "\n",
    "### Efectos aleatórios\n",
    "* Estacionalidad\n",
    "* Autocorrelación temporal \n",
    "* Autocorrelación espacial\n",
    "\n"
   ]
  },
  {
   "cell_type": "markdown",
   "metadata": {},
   "source": [
    "### Empecemos!!"
   ]
  },
  {
   "cell_type": "code",
   "execution_count": null,
   "metadata": {
    "collapsed": true
   },
   "outputs": [],
   "source": []
  }
 ],
 "metadata": {
  "kernelspec": {
   "display_name": "Django Shell-Plus",
   "language": "python",
   "name": "django_extensions"
  },
  "language_info": {
   "codemirror_mode": {
    "name": "ipython",
    "version": 2
   },
   "file_extension": ".py",
   "mimetype": "text/x-python",
   "name": "python",
   "nbconvert_exporter": "python",
   "pygments_lexer": "ipython2",
   "version": "2.7.11"
  }
 },
 "nbformat": 4,
 "nbformat_minor": 0
}
