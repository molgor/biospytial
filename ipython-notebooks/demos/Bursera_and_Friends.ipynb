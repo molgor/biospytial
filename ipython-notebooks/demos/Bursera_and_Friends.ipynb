{
 "cells": [
  {
   "cell_type": "markdown",
   "metadata": {},
   "source": [
    "# Burseras and Friends\n",
    "## How´s the environment ?\n",
    "## Which are their friends ? "
   ]
  },
  {
   "cell_type": "markdown",
   "metadata": {},
   "source": [
    "In this example we will explore how to query and select a Node (Bursera, Node Type : Family) in the Tree Of Life.\n",
    "We will extract the associated Cells and explore which kind of other taxa share that space. \n",
    "Let´s start!"
   ]
  },
  {
   "cell_type": "markdown",
   "metadata": {},
   "source": [
    "![Burcera Environment](http://www.geographylists.com/mex_pv_forest.jpg \"Bursera and its environment\")\n"
   ]
  },
  {
   "cell_type": "markdown",
   "metadata": {},
   "source": [
    "### Import modules libraries and load ploting style"
   ]
  },
  {
   "cell_type": "code",
   "execution_count": 33,
   "metadata": {
    "collapsed": false
   },
   "outputs": [],
   "source": [
    "%matplotlib inline\n",
    "import sys\n",
    "sys.path.append('/apps')\n",
    "import django\n",
    "django.setup()\n",
    "from drivers.tree_builder import TreeNeo\n",
    "from drivers.graph_models import TreeNode, Order, Family, graph"
   ]
  },
  {
   "cell_type": "code",
   "execution_count": 84,
   "metadata": {
    "collapsed": false
   },
   "outputs": [
    {
     "data": {
      "text/plain": [
       "<Graph uri=u'http://neo4j_local:7474/db/data/'>"
      ]
     },
     "execution_count": 84,
     "metadata": {},
     "output_type": "execute_result"
    }
   ],
   "source": [
    "graph"
   ]
  },
  {
   "cell_type": "markdown",
   "metadata": {},
   "source": [
    "### Select the Node Bursera"
   ]
  },
  {
   "cell_type": "markdown",
   "metadata": {},
   "source": [
    "Bursera is a Family of Plants. We want to select a Node in the Tree Of Life that is of the type Family and the name starts \n",
    "with \"Burser\". The expression \"_.name=~STRING\" means that we will look into the attribute \"name\" using a regular expression \n",
    "\"=~\" followed by any number of characters \".*\""
   ]
  },
  {
   "cell_type": "code",
   "execution_count": 34,
   "metadata": {
    "collapsed": true
   },
   "outputs": [],
   "source": [
    "bursera = list(Family.select(graph).where(\"_.name=~'Burser.*'\")).pop()"
   ]
  },
  {
   "cell_type": "markdown",
   "metadata": {},
   "source": [
    "The result is a list. Given that there is only one Node of the type Family that has the name \"Burser\" we can extract\n",
    "the only element of the list using the standard method pop()."
   ]
  },
  {
   "cell_type": "code",
   "execution_count": 35,
   "metadata": {
    "collapsed": false
   },
   "outputs": [
    {
     "data": {
      "text/plain": [
       "<TreeNode type: Family id = 343770 name: Burseraceae>"
      ]
     },
     "execution_count": 35,
     "metadata": {},
     "output_type": "execute_result"
    }
   ],
   "source": [
    "bursera"
   ]
  },
  {
   "cell_type": "markdown",
   "metadata": {},
   "source": [
    "### Inspect taxonomy"
   ]
  },
  {
   "cell_type": "code",
   "execution_count": 36,
   "metadata": {
    "collapsed": false
   },
   "outputs": [
    {
     "data": {
      "text/plain": [
       "<TreeNode type: Family id = 343770 name: Burseraceae>"
      ]
     },
     "execution_count": 36,
     "metadata": {},
     "output_type": "execute_result"
    }
   ],
   "source": [
    "bursera"
   ]
  },
  {
   "cell_type": "code",
   "execution_count": 37,
   "metadata": {
    "collapsed": false
   },
   "outputs": [
    {
     "data": {
      "text/plain": [
       "<TreeNode type: Order id = 933 name: Sapindales>"
      ]
     },
     "execution_count": 37,
     "metadata": {},
     "output_type": "execute_result"
    }
   ],
   "source": [
    "bursera.getParent()"
   ]
  },
  {
   "cell_type": "code",
   "execution_count": 38,
   "metadata": {
    "collapsed": false
   },
   "outputs": [
    {
     "data": {
      "text/plain": [
       "<TreeNode type: Kingdom id = 6 name: Plantae>"
      ]
     },
     "execution_count": 38,
     "metadata": {},
     "output_type": "execute_result"
    }
   ],
   "source": [
    "bursera.getParent().getParent().getParent().getParent()"
   ]
  },
  {
   "cell_type": "markdown",
   "metadata": {},
   "source": [
    "The Tree Node is an object and has defined methods (refer to the documentation). One of this methods extract the cells in the spatial lattice that has associated Bursera occurrences. "
   ]
  },
  {
   "cell_type": "code",
   "execution_count": 39,
   "metadata": {
    "collapsed": true
   },
   "outputs": [],
   "source": [
    "cells_with_burseras = bursera.cells"
   ]
  },
  {
   "cell_type": "markdown",
   "metadata": {},
   "source": [
    "The result is a generator object. This is helpfull when the number of cells is big and surpasses the capacity of the machine\n",
    "or the analyst."
   ]
  },
  {
   "cell_type": "code",
   "execution_count": 40,
   "metadata": {
    "collapsed": false
   },
   "outputs": [
    {
     "data": {
      "text/plain": [
       "<generator object __iter__ at 0x7f139127f140>"
      ]
     },
     "execution_count": 40,
     "metadata": {},
     "output_type": "execute_result"
    }
   ],
   "source": [
    "cells_with_burseras"
   ]
  },
  {
   "cell_type": "markdown",
   "metadata": {},
   "source": [
    "In this example we want to get only the first 10 cells."
   ]
  },
  {
   "cell_type": "code",
   "execution_count": 41,
   "metadata": {
    "collapsed": false
   },
   "outputs": [],
   "source": [
    "cells_with_burseras = list(cells_with_burseras)"
   ]
  },
  {
   "cell_type": "code",
   "execution_count": 74,
   "metadata": {
    "collapsed": false
   },
   "outputs": [
    {
     "data": {
      "text/plain": [
       "811"
      ]
     },
     "execution_count": 74,
     "metadata": {},
     "output_type": "execute_result"
    }
   ],
   "source": [
    "len(cells_with_burseras)"
   ]
  },
  {
   "cell_type": "markdown",
   "metadata": {},
   "source": [
    "## *Oke Oke*!, \n",
    "Now we want to get the subtrees of Life constrainted by the geographical attribute of this cells.\n",
    "For doing this, simply get the occurrences within each cell with the method *occurrencesHere()* and use this output as the constructor argument."
   ]
  },
  {
   "cell_type": "code",
   "execution_count": 42,
   "metadata": {
    "collapsed": true
   },
   "outputs": [],
   "source": [
    "c = cells_with_burseras[0]"
   ]
  },
  {
   "cell_type": "code",
   "execution_count": 43,
   "metadata": {
    "collapsed": false
   },
   "outputs": [
    {
     "data": {
      "text/plain": [
       "[<Occurrence pk=540443>,\n",
       " <Occurrence pk=536897>,\n",
       " <Occurrence pk=538067>,\n",
       " <Occurrence pk=538060>,\n",
       " <Occurrence pk=552009>,\n",
       " <Occurrence pk=1686161>,\n",
       " <Occurrence pk=2198672>,\n",
       " <Occurrence pk=1900876>,\n",
       " <Occurrence pk=2153230>,\n",
       " <Occurrence pk=2144783>,\n",
       " <Occurrence pk=556012>,\n",
       " <Occurrence pk=553369>,\n",
       " <Occurrence pk=536899>,\n",
       " <Occurrence pk=1798523>]"
      ]
     },
     "execution_count": 43,
     "metadata": {},
     "output_type": "execute_result"
    }
   ],
   "source": [
    "c.occurrencesHere()"
   ]
  },
  {
   "cell_type": "markdown",
   "metadata": {
    "collapsed": true
   },
   "source": [
    "## Random subselection of cells\n",
    "The number of cells is very big. An option for processing is to select a random uniform set of indexes. We can achieve this with the following strategy.\n",
    "\n",
    "1. make a random sample selection\n"
   ]
  },
  {
   "cell_type": "markdown",
   "metadata": {},
   "source": [
    "### Let's create a random subset of 100 cells."
   ]
  },
  {
   "cell_type": "code",
   "execution_count": 44,
   "metadata": {
    "collapsed": true
   },
   "outputs": [],
   "source": [
    "import numpy.random as rnd"
   ]
  },
  {
   "cell_type": "code",
   "execution_count": 45,
   "metadata": {
    "collapsed": true
   },
   "outputs": [],
   "source": [
    "n = 100"
   ]
  },
  {
   "cell_type": "code",
   "execution_count": 46,
   "metadata": {
    "collapsed": true
   },
   "outputs": [],
   "source": [
    "indices = rnd.randint(0,len(cells_with_burseras),n)"
   ]
  },
  {
   "cell_type": "code",
   "execution_count": 47,
   "metadata": {
    "collapsed": true
   },
   "outputs": [],
   "source": [
    "selected_cells = [ cells_with_burseras[i] for i in indices ]"
   ]
  },
  {
   "cell_type": "markdown",
   "metadata": {},
   "source": [
    "### Get the subtrees within the selected cells"
   ]
  },
  {
   "cell_type": "markdown",
   "metadata": {},
   "source": [
    "Let's create first a Constructor function"
   ]
  },
  {
   "cell_type": "code",
   "execution_count": 48,
   "metadata": {
    "collapsed": true
   },
   "outputs": [],
   "source": [
    "ToTree = lambda cell : TreeNeo(cell.occurrencesHere())"
   ]
  },
  {
   "cell_type": "markdown",
   "metadata": {},
   "source": [
    "and map it to the selected cells"
   ]
  },
  {
   "cell_type": "code",
   "execution_count": 49,
   "metadata": {
    "collapsed": false
   },
   "outputs": [
    {
     "name": "stdout",
     "output_type": "stream",
     "text": [
      "CPU times: user 3min 28s, sys: 5.05 s, total: 3min 33s\n",
      "Wall time: 4min 36s\n"
     ]
    }
   ],
   "source": [
    "%time trees = map(ToTree,selected_cells)"
   ]
  },
  {
   "cell_type": "markdown",
   "metadata": {},
   "source": [
    "#### Uff! it took 3 minutes, but it's a lot of data"
   ]
  },
  {
   "cell_type": "code",
   "execution_count": 50,
   "metadata": {
    "collapsed": false
   },
   "outputs": [
    {
     "data": {
      "text/plain": [
       "[<LocalTree Of Life | Root: LUCA - n.count : 484- >,\n",
       " <LocalTree Of Life | Root: LUCA - n.count : 12- >,\n",
       " <LocalTree Of Life | Root: LUCA - n.count : 571- >,\n",
       " <LocalTree Of Life | Root: LUCA - n.count : 7- >,\n",
       " <LocalTree Of Life | Root: LUCA - n.count : 35- >,\n",
       " <LocalTree Of Life | Root: LUCA - n.count : 23- >,\n",
       " <LocalTree Of Life | Root: LUCA - n.count : 46- >,\n",
       " <LocalTree Of Life | Root: LUCA - n.count : 5- >,\n",
       " <LocalTree Of Life | Root: LUCA - n.count : 30- >,\n",
       " <LocalTree Of Life | Root: LUCA - n.count : 13- >,\n",
       " <LocalTree Of Life | Root: LUCA - n.count : 250- >,\n",
       " <LocalTree Of Life | Root: LUCA - n.count : 2- >,\n",
       " <LocalTree Of Life | Root: LUCA - n.count : 31- >,\n",
       " <LocalTree Of Life | Root: LUCA - n.count : 133- >,\n",
       " <LocalTree Of Life | Root: LUCA - n.count : 1- >,\n",
       " <LocalTree Of Life | Root: LUCA - n.count : 2632- >,\n",
       " <LocalTree Of Life | Root: LUCA - n.count : 1716- >,\n",
       " <LocalTree Of Life | Root: LUCA - n.count : 15- >,\n",
       " <LocalTree Of Life | Root: LUCA - n.count : 27- >,\n",
       " <LocalTree Of Life | Root: LUCA - n.count : 239- >,\n",
       " <LocalTree Of Life | Root: LUCA - n.count : 24- >,\n",
       " <LocalTree Of Life | Root: LUCA - n.count : 5- >,\n",
       " <LocalTree Of Life | Root: LUCA - n.count : 335- >,\n",
       " <LocalTree Of Life | Root: LUCA - n.count : 79- >,\n",
       " <LocalTree Of Life | Root: LUCA - n.count : 36- >,\n",
       " <LocalTree Of Life | Root: LUCA - n.count : 24- >,\n",
       " <LocalTree Of Life | Root: LUCA - n.count : 131- >,\n",
       " <LocalTree Of Life | Root: LUCA - n.count : 1013- >,\n",
       " <LocalTree Of Life | Root: LUCA - n.count : 433- >,\n",
       " <LocalTree Of Life | Root: LUCA - n.count : 115- >,\n",
       " <LocalTree Of Life | Root: LUCA - n.count : 27- >,\n",
       " <LocalTree Of Life | Root: LUCA - n.count : 14- >,\n",
       " <LocalTree Of Life | Root: LUCA - n.count : 235- >,\n",
       " <LocalTree Of Life | Root: LUCA - n.count : 18- >,\n",
       " <LocalTree Of Life | Root: LUCA - n.count : 126- >,\n",
       " <LocalTree Of Life | Root: LUCA - n.count : 3281- >,\n",
       " <LocalTree Of Life | Root: LUCA - n.count : 610- >,\n",
       " <LocalTree Of Life | Root: LUCA - n.count : 23- >,\n",
       " <LocalTree Of Life | Root: LUCA - n.count : 25- >,\n",
       " <LocalTree Of Life | Root: LUCA - n.count : 992- >,\n",
       " <LocalTree Of Life | Root: LUCA - n.count : 8- >,\n",
       " <LocalTree Of Life | Root: LUCA - n.count : 53- >,\n",
       " <LocalTree Of Life | Root: LUCA - n.count : 1122- >,\n",
       " <LocalTree Of Life | Root: LUCA - n.count : 15- >,\n",
       " <LocalTree Of Life | Root: LUCA - n.count : 1- >,\n",
       " <LocalTree Of Life | Root: LUCA - n.count : 11- >,\n",
       " <LocalTree Of Life | Root: LUCA - n.count : 499- >,\n",
       " <LocalTree Of Life | Root: LUCA - n.count : 1- >,\n",
       " <LocalTree Of Life | Root: LUCA - n.count : 51- >,\n",
       " <LocalTree Of Life | Root: LUCA - n.count : 70- >,\n",
       " <LocalTree Of Life | Root: LUCA - n.count : 162- >,\n",
       " <LocalTree Of Life | Root: LUCA - n.count : 13- >,\n",
       " <LocalTree Of Life | Root: LUCA - n.count : 168- >,\n",
       " <LocalTree Of Life | Root: LUCA - n.count : 30- >,\n",
       " <LocalTree Of Life | Root: LUCA - n.count : 140- >,\n",
       " <LocalTree Of Life | Root: LUCA - n.count : 992- >,\n",
       " <LocalTree Of Life | Root: LUCA - n.count : 1- >,\n",
       " <LocalTree Of Life | Root: LUCA - n.count : 22- >,\n",
       " <LocalTree Of Life | Root: LUCA - n.count : 23- >,\n",
       " <LocalTree Of Life | Root: LUCA - n.count : 94- >,\n",
       " <LocalTree Of Life | Root: LUCA - n.count : 57- >,\n",
       " <LocalTree Of Life | Root: LUCA - n.count : 22- >,\n",
       " <LocalTree Of Life | Root: LUCA - n.count : 9- >,\n",
       " <LocalTree Of Life | Root: LUCA - n.count : 110- >,\n",
       " <LocalTree Of Life | Root: LUCA - n.count : 1053- >,\n",
       " <LocalTree Of Life | Root: LUCA - n.count : 576- >,\n",
       " <LocalTree Of Life | Root: LUCA - n.count : 115- >,\n",
       " <LocalTree Of Life | Root: LUCA - n.count : 200- >,\n",
       " <LocalTree Of Life | Root: LUCA - n.count : 202- >,\n",
       " <LocalTree Of Life | Root: LUCA - n.count : 212- >,\n",
       " <LocalTree Of Life | Root: LUCA - n.count : 9- >,\n",
       " <LocalTree Of Life | Root: LUCA - n.count : 180- >,\n",
       " <LocalTree Of Life | Root: LUCA - n.count : 3- >,\n",
       " <LocalTree Of Life | Root: LUCA - n.count : 214- >,\n",
       " <LocalTree Of Life | Root: LUCA - n.count : 10- >,\n",
       " <LocalTree Of Life | Root: LUCA - n.count : 94- >,\n",
       " <LocalTree Of Life | Root: LUCA - n.count : 15- >,\n",
       " <LocalTree Of Life | Root: LUCA - n.count : 64- >,\n",
       " <LocalTree Of Life | Root: LUCA - n.count : 1127- >,\n",
       " <LocalTree Of Life | Root: LUCA - n.count : 382- >,\n",
       " <LocalTree Of Life | Root: LUCA - n.count : 18- >,\n",
       " <LocalTree Of Life | Root: LUCA - n.count : 227- >,\n",
       " <LocalTree Of Life | Root: LUCA - n.count : 61- >,\n",
       " <LocalTree Of Life | Root: LUCA - n.count : 158- >,\n",
       " <LocalTree Of Life | Root: LUCA - n.count : 115- >,\n",
       " <LocalTree Of Life | Root: LUCA - n.count : 2339- >,\n",
       " <LocalTree Of Life | Root: LUCA - n.count : 238- >,\n",
       " <LocalTree Of Life | Root: LUCA - n.count : 145- >,\n",
       " <LocalTree Of Life | Root: LUCA - n.count : 235- >,\n",
       " <LocalTree Of Life | Root: LUCA - n.count : 729- >,\n",
       " <LocalTree Of Life | Root: LUCA - n.count : 2- >,\n",
       " <LocalTree Of Life | Root: LUCA - n.count : 22- >,\n",
       " <LocalTree Of Life | Root: LUCA - n.count : 102- >,\n",
       " <LocalTree Of Life | Root: LUCA - n.count : 19- >,\n",
       " <LocalTree Of Life | Root: LUCA - n.count : 282- >,\n",
       " <LocalTree Of Life | Root: LUCA - n.count : 46- >,\n",
       " <LocalTree Of Life | Root: LUCA - n.count : 474- >,\n",
       " <LocalTree Of Life | Root: LUCA - n.count : 10- >,\n",
       " <LocalTree Of Life | Root: LUCA - n.count : 109- >,\n",
       " <LocalTree Of Life | Root: LUCA - n.count : 239- >]"
      ]
     },
     "execution_count": 50,
     "metadata": {},
     "output_type": "execute_result"
    }
   ],
   "source": [
    "trees"
   ]
  },
  {
   "cell_type": "markdown",
   "metadata": {},
   "source": [
    "#### Get the UNION of the these 100 trees~"
   ]
  },
  {
   "cell_type": "code",
   "execution_count": 51,
   "metadata": {
    "collapsed": false
   },
   "outputs": [
    {
     "name": "stderr",
     "output_type": "stream",
     "text": [
      "INFO Merging Trees\n",
      "INFO Merging Trees\n",
      "INFO Merging Trees\n",
      "INFO Merging Trees\n",
      "INFO Merging Trees\n",
      "INFO Merging Trees\n",
      "INFO Merging Trees\n",
      "INFO Merging Trees\n",
      "INFO Merging Trees\n",
      "INFO Merging Trees\n",
      "INFO Merging Trees\n",
      "INFO Merging Trees\n",
      "INFO Merging Trees\n",
      "INFO Merging Trees\n",
      "INFO Merging Trees\n",
      "INFO Merging Trees\n",
      "INFO Merging Trees\n",
      "INFO Merging Trees\n",
      "INFO Merging Trees\n",
      "INFO Merging Trees\n",
      "INFO Merging Trees\n",
      "INFO Merging Trees\n",
      "INFO Merging Trees\n",
      "INFO Merging Trees\n",
      "INFO Merging Trees\n",
      "INFO Merging Trees\n",
      "INFO Merging Trees\n",
      "INFO Merging Trees\n",
      "INFO Merging Trees\n",
      "INFO Merging Trees\n",
      "INFO Merging Trees\n",
      "INFO Merging Trees\n",
      "INFO Merging Trees\n",
      "INFO Merging Trees\n",
      "INFO Merging Trees\n",
      "INFO Merging Trees\n",
      "INFO Merging Trees\n",
      "INFO Merging Trees\n",
      "INFO Merging Trees\n",
      "INFO Merging Trees\n",
      "INFO Merging Trees\n",
      "INFO Merging Trees\n",
      "INFO Merging Trees\n",
      "INFO Merging Trees\n",
      "INFO Merging Trees\n",
      "INFO Merging Trees\n",
      "INFO Merging Trees\n",
      "INFO Merging Trees\n",
      "INFO Merging Trees\n",
      "INFO Merging Trees\n",
      "INFO Merging Trees\n",
      "INFO Merging Trees\n",
      "INFO Merging Trees\n",
      "INFO Merging Trees\n",
      "INFO Merging Trees\n",
      "INFO Merging Trees\n",
      "INFO Merging Trees\n",
      "INFO Merging Trees\n",
      "INFO Merging Trees\n",
      "INFO Merging Trees\n",
      "INFO Merging Trees\n",
      "INFO Merging Trees\n",
      "INFO Merging Trees\n",
      "INFO Merging Trees\n",
      "INFO Merging Trees\n",
      "INFO Merging Trees\n",
      "INFO Merging Trees\n",
      "INFO Merging Trees\n",
      "INFO Merging Trees\n",
      "INFO Merging Trees\n",
      "INFO Merging Trees\n",
      "INFO Merging Trees\n",
      "INFO Merging Trees\n",
      "INFO Merging Trees\n",
      "INFO Merging Trees\n",
      "INFO Merging Trees\n",
      "INFO Merging Trees\n",
      "INFO Merging Trees\n",
      "INFO Merging Trees\n",
      "INFO Merging Trees\n",
      "INFO Merging Trees\n",
      "INFO Merging Trees\n",
      "INFO Merging Trees\n",
      "INFO Merging Trees\n",
      "INFO Merging Trees\n",
      "INFO Merging Trees\n",
      "INFO Merging Trees\n",
      "INFO Merging Trees\n",
      "INFO Merging Trees\n",
      "INFO Merging Trees\n",
      "INFO Merging Trees\n",
      "INFO Merging Trees\n",
      "INFO Merging Trees\n",
      "INFO Merging Trees\n",
      "INFO Merging Trees\n",
      "INFO Merging Trees\n",
      "INFO Merging Trees\n",
      "INFO Merging Trees\n",
      "INFO Merging Trees\n"
     ]
    }
   ],
   "source": [
    "big_tree = reduce(lambda a,b : a + b , trees)"
   ]
  },
  {
   "cell_type": "code",
   "execution_count": 52,
   "metadata": {
    "collapsed": false
   },
   "outputs": [
    {
     "data": {
      "text/plain": [
       "25912"
      ]
     },
     "execution_count": 52,
     "metadata": {},
     "output_type": "execute_result"
    }
   ],
   "source": [
    "big_tree.richness"
   ]
  },
  {
   "cell_type": "markdown",
   "metadata": {},
   "source": [
    "I told you, loads of data.\n",
    "We can explore the content of this tree accessing to the attributes that start with the suffix ''to_''"
   ]
  },
  {
   "cell_type": "code",
   "execution_count": 53,
   "metadata": {
    "collapsed": false
   },
   "outputs": [],
   "source": [
    "mushrooms = big_tree.to_Fungi"
   ]
  },
  {
   "cell_type": "markdown",
   "metadata": {},
   "source": [
    "Mushrooms is a TreeNode, i.e. not a complete TreeNeo object. To cast it (convert) to a TreeNode, and explore the families,classes, etc within it we must *plant-it* ."
   ]
  },
  {
   "cell_type": "code",
   "execution_count": 54,
   "metadata": {
    "collapsed": true
   },
   "outputs": [],
   "source": [
    "m = mushrooms.plantTreeNode()"
   ]
  },
  {
   "cell_type": "code",
   "execution_count": 55,
   "metadata": {
    "collapsed": false
   },
   "outputs": [
    {
     "data": {
      "text/plain": [
       "drivers.tree_builder.LocalTree"
      ]
     },
     "execution_count": 55,
     "metadata": {},
     "output_type": "execute_result"
    }
   ],
   "source": [
    "type(mushrooms)"
   ]
  },
  {
   "cell_type": "code",
   "execution_count": 56,
   "metadata": {
    "collapsed": false
   },
   "outputs": [
    {
     "data": {
      "text/plain": [
       "drivers.tree_builder.TreeNeo"
      ]
     },
     "execution_count": 56,
     "metadata": {},
     "output_type": "execute_result"
    }
   ],
   "source": [
    "type(m)"
   ]
  },
  {
   "cell_type": "code",
   "execution_count": 57,
   "metadata": {
    "collapsed": false
   },
   "outputs": [
    {
     "data": {
      "text/plain": [
       "[<TreeNode | Class: Eurotiomycetes - n.count : 5- >,\n",
       " <TreeNode | Class: Lichinomycetes - n.count : 2- >,\n",
       " <TreeNode | Class: Sordariomycetes - n.count : 1- >]"
      ]
     },
     "execution_count": 57,
     "metadata": {},
     "output_type": "execute_result"
    }
   ],
   "source": [
    "m.classes"
   ]
  },
  {
   "cell_type": "code",
   "execution_count": 58,
   "metadata": {
    "collapsed": false
   },
   "outputs": [
    {
     "data": {
      "text/plain": [
       "<TreeNode | Kingdom: Protozoa - n.count : 4- >"
      ]
     },
     "execution_count": 58,
     "metadata": {},
     "output_type": "execute_result"
    }
   ],
   "source": [
    "big_tree.to_Protozoa"
   ]
  },
  {
   "cell_type": "code",
   "execution_count": 59,
   "metadata": {
    "collapsed": false
   },
   "outputs": [
    {
     "data": {
      "text/plain": [
       "<TreeNode | Kingdom: Plantae - n.count : 7701- >"
      ]
     },
     "execution_count": 59,
     "metadata": {},
     "output_type": "execute_result"
    }
   ],
   "source": [
    "big_tree.to_Plantae"
   ]
  },
  {
   "cell_type": "code",
   "execution_count": 60,
   "metadata": {
    "collapsed": false
   },
   "outputs": [
    {
     "data": {
      "text/plain": [
       "<TreeNode | Kingdom: Animalia - n.count : 18197- >"
      ]
     },
     "execution_count": 60,
     "metadata": {},
     "output_type": "execute_result"
    }
   ],
   "source": [
    "big_tree.to_Animalia"
   ]
  },
  {
   "cell_type": "markdown",
   "metadata": {},
   "source": [
    "### Cnidaria in the \"terrestrial\" environment ?  "
   ]
  },
  {
   "cell_type": "code",
   "execution_count": 67,
   "metadata": {
    "collapsed": false
   },
   "outputs": [],
   "source": [
    "cnidaria = big_tree.to_Animalia.to_Cnidaria"
   ]
  },
  {
   "cell_type": "code",
   "execution_count": 68,
   "metadata": {
    "collapsed": false
   },
   "outputs": [
    {
     "data": {
      "text/plain": [
       "<TreeNode | Phylum: Cnidaria - n.count : 5- >"
      ]
     },
     "execution_count": 68,
     "metadata": {},
     "output_type": "execute_result"
    }
   ],
   "source": [
    "cnidaria"
   ]
  },
  {
   "cell_type": "code",
   "execution_count": null,
   "metadata": {
    "collapsed": true
   },
   "outputs": [],
   "source": []
  },
  {
   "cell_type": "markdown",
   "metadata": {},
   "source": [
    "Where is this ?"
   ]
  },
  {
   "cell_type": "code",
   "execution_count": 69,
   "metadata": {
    "collapsed": true
   },
   "outputs": [],
   "source": [
    "cnidaria_cells = cnidaria.getExactCells()"
   ]
  },
  {
   "cell_type": "code",
   "execution_count": 70,
   "metadata": {
    "collapsed": false
   },
   "outputs": [
    {
     "data": {
      "text/plain": [
       "[<Cell id=223271>, <Cell id=199456>]"
      ]
     },
     "execution_count": 70,
     "metadata": {},
     "output_type": "execute_result"
    }
   ],
   "source": [
    "cnidaria_cells"
   ]
  },
  {
   "cell_type": "code",
   "execution_count": 71,
   "metadata": {
    "collapsed": true
   },
   "outputs": [],
   "source": [
    "c1 , c2 = cnidaria_cells"
   ]
  },
  {
   "cell_type": "code",
   "execution_count": 72,
   "metadata": {
    "collapsed": false
   },
   "outputs": [
    {
     "data": {
      "text/plain": [
       "u'MULTIPOLYGON (((-110.2690634159987 24.18688980100021, -110.2200634159987 24.18688980100021, -110.2200634159987 24.13788980100021, -110.2690634159987 24.13788980100021, -110.2690634159987 24.18688980100021)))'"
      ]
     },
     "execution_count": 72,
     "metadata": {},
     "output_type": "execute_result"
    }
   ],
   "source": [
    "c1.cell"
   ]
  },
  {
   "cell_type": "markdown",
   "metadata": {},
   "source": [
    "![Cnidaria cell 1](cnidaria_cell1.png)"
   ]
  },
  {
   "cell_type": "code",
   "execution_count": 66,
   "metadata": {
    "collapsed": false
   },
   "outputs": [],
   "source": [
    "# c2.cell\n",
    "## Dont do it, name to big."
   ]
  },
  {
   "cell_type": "markdown",
   "metadata": {},
   "source": [
    "![Cnidaria cell 2](cnidaria_cell2.png)"
   ]
  },
  {
   "cell_type": "markdown",
   "metadata": {},
   "source": [
    "Close to the sea, but a little bit off the shore."
   ]
  },
  {
   "cell_type": "code",
   "execution_count": null,
   "metadata": {
    "collapsed": true
   },
   "outputs": [],
   "source": [
    "## "
   ]
  },
  {
   "cell_type": "code",
   "execution_count": 75,
   "metadata": {
    "collapsed": false
   },
   "outputs": [],
   "source": [
    "beatle = big_tree.to_Animalia.to_Arthropoda.to_Insecta.to_Coleoptera"
   ]
  },
  {
   "cell_type": "markdown",
   "metadata": {},
   "source": [
    "## How many of these have beatles ?"
   ]
  },
  {
   "cell_type": "code",
   "execution_count": 76,
   "metadata": {
    "collapsed": true
   },
   "outputs": [],
   "source": [
    "with_beatles = filter(lambda tree : tree.hasNode(beatle),trees)"
   ]
  },
  {
   "cell_type": "code",
   "execution_count": 78,
   "metadata": {
    "collapsed": false
   },
   "outputs": [
    {
     "data": {
      "text/plain": [
       "12"
      ]
     },
     "execution_count": 78,
     "metadata": {},
     "output_type": "execute_result"
    }
   ],
   "source": [
    "len(with_beatles)"
   ]
  },
  {
   "cell_type": "markdown",
   "metadata": {},
   "source": [
    "# Environmental Exploration\n",
    "Remember that the big tree is defined in the geographical space given by the selected cells, i.e. the random sample.\n",
    "We can get the environmental summary statistics of these cells with the following command."
   ]
  },
  {
   "cell_type": "code",
   "execution_count": 79,
   "metadata": {
    "collapsed": true
   },
   "outputs": [],
   "source": [
    "%time bursera_env = big_tree.associatedData.getEnvironmentalVariablesCells(with_std=True)"
   ]
  },
  {
   "cell_type": "code",
   "execution_count": 80,
   "metadata": {
    "collapsed": false
   },
   "outputs": [
    {
     "data": {
      "text/plain": [
       "{'MaxTemperature_mean': 14.17116402116403,\n",
       " 'MaxTemperature_std': 4.116918754484438,\n",
       " 'MeanTemperature_mean': 21.776164021164046,\n",
       " 'MeanTemperature_std': 3.459773822079493,\n",
       " 'MinTemperature_mean': 29.385740740740758,\n",
       " 'MinTemperature_std': 3.228895786792082,\n",
       " 'Precipitation_mean': 55.899232804232774,\n",
       " 'Precipitation_std': 38.096175261050234,\n",
       " 'SolarRadiation_mean': 18550.605740740742,\n",
       " 'SolarRadiation_std': 1027.6193796354646,\n",
       " 'Vapor_mean': 1.6339417989417988,\n",
       " 'Vapor_std': 0.5585689252847315,\n",
       " 'WindSpeed_mean': 2.3305291005291005,\n",
       " 'WindSpeed_std': 0.6210516806588766}"
      ]
     },
     "execution_count": 80,
     "metadata": {},
     "output_type": "execute_result"
    }
   ],
   "source": [
    "bursera_env"
   ]
  },
  {
   "cell_type": "markdown",
   "metadata": {},
   "source": [
    "### The same for point data"
   ]
  },
  {
   "cell_type": "code",
   "execution_count": 81,
   "metadata": {
    "collapsed": false
   },
   "outputs": [],
   "source": [
    "only_bursera = big_tree.to_Plantae.to_Magnoliophyta.to_Magnoliopsida.to_Sapindales.to_Burseraceae"
   ]
  },
  {
   "cell_type": "code",
   "execution_count": 82,
   "metadata": {
    "collapsed": false
   },
   "outputs": [],
   "source": [
    "pnts_env_burs = only_bursera.associatedData.getEnvironmentalVariablesPoints()"
   ]
  },
  {
   "cell_type": "code",
   "execution_count": 83,
   "metadata": {
    "collapsed": false
   },
   "outputs": [
    {
     "data": {
      "text/html": [
       "<div>\n",
       "<table border=\"1\" class=\"dataframe\">\n",
       "  <thead>\n",
       "    <tr style=\"text-align: right;\">\n",
       "      <th></th>\n",
       "      <th>MaxTemperature_mean</th>\n",
       "      <th>MaxTemperature_std</th>\n",
       "      <th>MeanTemperature_mean</th>\n",
       "      <th>MeanTemperature_std</th>\n",
       "      <th>MinTemperature_mean</th>\n",
       "      <th>MinTemperature_std</th>\n",
       "      <th>Precipitation_mean</th>\n",
       "      <th>Precipitation_std</th>\n",
       "      <th>Vapor_mean</th>\n",
       "      <th>Vapor_std</th>\n",
       "      <th>SolarRadiation_mean</th>\n",
       "      <th>SolarRadiation_std</th>\n",
       "      <th>WindSpeed_mean</th>\n",
       "      <th>WindSpeed_std</th>\n",
       "    </tr>\n",
       "  </thead>\n",
       "  <tbody>\n",
       "    <tr>\n",
       "      <th>0</th>\n",
       "      <td>13.166667</td>\n",
       "      <td>4.079079</td>\n",
       "      <td>21.333333</td>\n",
       "      <td>3.659083</td>\n",
       "      <td>29.833333</td>\n",
       "      <td>3.435921</td>\n",
       "      <td>14.750000</td>\n",
       "      <td>17.440972</td>\n",
       "      <td>1.666667</td>\n",
       "      <td>0.623610</td>\n",
       "      <td>19022.750000</td>\n",
       "      <td>3321.711309</td>\n",
       "      <td>2.583333</td>\n",
       "      <td>0.493007</td>\n",
       "    </tr>\n",
       "    <tr>\n",
       "      <th>1</th>\n",
       "      <td>10.583333</td>\n",
       "      <td>5.040806</td>\n",
       "      <td>18.500000</td>\n",
       "      <td>4.406435</td>\n",
       "      <td>26.416667</td>\n",
       "      <td>4.030267</td>\n",
       "      <td>10.750000</td>\n",
       "      <td>8.001302</td>\n",
       "      <td>1.416667</td>\n",
       "      <td>0.493007</td>\n",
       "      <td>19243.416667</td>\n",
       "      <td>4598.550015</td>\n",
       "      <td>2.416667</td>\n",
       "      <td>0.493007</td>\n",
       "    </tr>\n",
       "    <tr>\n",
       "      <th>2</th>\n",
       "      <td>10.583333</td>\n",
       "      <td>5.040806</td>\n",
       "      <td>18.500000</td>\n",
       "      <td>4.406435</td>\n",
       "      <td>26.416667</td>\n",
       "      <td>4.030267</td>\n",
       "      <td>10.750000</td>\n",
       "      <td>8.001302</td>\n",
       "      <td>1.416667</td>\n",
       "      <td>0.493007</td>\n",
       "      <td>19243.416667</td>\n",
       "      <td>4598.550015</td>\n",
       "      <td>2.416667</td>\n",
       "      <td>0.493007</td>\n",
       "    </tr>\n",
       "    <tr>\n",
       "      <th>3</th>\n",
       "      <td>10.916667</td>\n",
       "      <td>2.871072</td>\n",
       "      <td>19.333333</td>\n",
       "      <td>2.527625</td>\n",
       "      <td>27.666667</td>\n",
       "      <td>2.748737</td>\n",
       "      <td>61.916667</td>\n",
       "      <td>70.374544</td>\n",
       "      <td>1.333333</td>\n",
       "      <td>0.471405</td>\n",
       "      <td>18422.750000</td>\n",
       "      <td>2304.748798</td>\n",
       "      <td>2.000000</td>\n",
       "      <td>0.000000</td>\n",
       "    </tr>\n",
       "    <tr>\n",
       "      <th>4</th>\n",
       "      <td>14.250000</td>\n",
       "      <td>4.832615</td>\n",
       "      <td>22.750000</td>\n",
       "      <td>4.380354</td>\n",
       "      <td>31.083333</td>\n",
       "      <td>3.839669</td>\n",
       "      <td>19.916667</td>\n",
       "      <td>25.381943</td>\n",
       "      <td>1.833333</td>\n",
       "      <td>0.687184</td>\n",
       "      <td>18657.333333</td>\n",
       "      <td>3183.815696</td>\n",
       "      <td>2.750000</td>\n",
       "      <td>0.433013</td>\n",
       "    </tr>\n",
       "    <tr>\n",
       "      <th>5</th>\n",
       "      <td>14.250000</td>\n",
       "      <td>5.246030</td>\n",
       "      <td>21.666667</td>\n",
       "      <td>5.071708</td>\n",
       "      <td>29.250000</td>\n",
       "      <td>5.068284</td>\n",
       "      <td>16.333333</td>\n",
       "      <td>17.182032</td>\n",
       "      <td>1.416667</td>\n",
       "      <td>0.493007</td>\n",
       "      <td>18787.583333</td>\n",
       "      <td>3722.641008</td>\n",
       "      <td>2.250000</td>\n",
       "      <td>0.433013</td>\n",
       "    </tr>\n",
       "    <tr>\n",
       "      <th>6</th>\n",
       "      <td>15.000000</td>\n",
       "      <td>5.016639</td>\n",
       "      <td>23.083333</td>\n",
       "      <td>4.974239</td>\n",
       "      <td>31.000000</td>\n",
       "      <td>4.618802</td>\n",
       "      <td>19.166667</td>\n",
       "      <td>24.309920</td>\n",
       "      <td>1.750000</td>\n",
       "      <td>0.721688</td>\n",
       "      <td>18930.166667</td>\n",
       "      <td>3571.761676</td>\n",
       "      <td>3.000000</td>\n",
       "      <td>0.000000</td>\n",
       "    </tr>\n",
       "    <tr>\n",
       "      <th>7</th>\n",
       "      <td>15.000000</td>\n",
       "      <td>5.016639</td>\n",
       "      <td>23.083333</td>\n",
       "      <td>4.974239</td>\n",
       "      <td>31.000000</td>\n",
       "      <td>4.618802</td>\n",
       "      <td>19.166667</td>\n",
       "      <td>24.309920</td>\n",
       "      <td>1.750000</td>\n",
       "      <td>0.721688</td>\n",
       "      <td>18930.166667</td>\n",
       "      <td>3571.761676</td>\n",
       "      <td>3.000000</td>\n",
       "      <td>0.000000</td>\n",
       "    </tr>\n",
       "    <tr>\n",
       "      <th>8</th>\n",
       "      <td>9.583333</td>\n",
       "      <td>2.722080</td>\n",
       "      <td>18.000000</td>\n",
       "      <td>2.645751</td>\n",
       "      <td>26.083333</td>\n",
       "      <td>2.752524</td>\n",
       "      <td>45.750000</td>\n",
       "      <td>42.575668</td>\n",
       "      <td>1.000000</td>\n",
       "      <td>0.000000</td>\n",
       "      <td>18881.833333</td>\n",
       "      <td>2361.063632</td>\n",
       "      <td>2.166667</td>\n",
       "      <td>0.372678</td>\n",
       "    </tr>\n",
       "    <tr>\n",
       "      <th>9</th>\n",
       "      <td>15.333333</td>\n",
       "      <td>5.405758</td>\n",
       "      <td>21.000000</td>\n",
       "      <td>5.446712</td>\n",
       "      <td>26.583333</td>\n",
       "      <td>5.663602</td>\n",
       "      <td>11.666667</td>\n",
       "      <td>11.374924</td>\n",
       "      <td>1.750000</td>\n",
       "      <td>0.829156</td>\n",
       "      <td>18753.500000</td>\n",
       "      <td>4365.401232</td>\n",
       "      <td>3.000000</td>\n",
       "      <td>0.000000</td>\n",
       "    </tr>\n",
       "    <tr>\n",
       "      <th>10</th>\n",
       "      <td>15.333333</td>\n",
       "      <td>5.405758</td>\n",
       "      <td>21.000000</td>\n",
       "      <td>5.446712</td>\n",
       "      <td>26.583333</td>\n",
       "      <td>5.663602</td>\n",
       "      <td>11.666667</td>\n",
       "      <td>11.374924</td>\n",
       "      <td>1.750000</td>\n",
       "      <td>0.829156</td>\n",
       "      <td>18753.500000</td>\n",
       "      <td>4365.401232</td>\n",
       "      <td>3.000000</td>\n",
       "      <td>0.000000</td>\n",
       "    </tr>\n",
       "    <tr>\n",
       "      <th>11</th>\n",
       "      <td>14.500000</td>\n",
       "      <td>7.182154</td>\n",
       "      <td>22.916667</td>\n",
       "      <td>6.873358</td>\n",
       "      <td>31.333333</td>\n",
       "      <td>6.497863</td>\n",
       "      <td>11.583333</td>\n",
       "      <td>7.285354</td>\n",
       "      <td>1.250000</td>\n",
       "      <td>0.433013</td>\n",
       "      <td>19592.416667</td>\n",
       "      <td>5418.663926</td>\n",
       "      <td>2.416667</td>\n",
       "      <td>0.493007</td>\n",
       "    </tr>\n",
       "    <tr>\n",
       "      <th>12</th>\n",
       "      <td>14.500000</td>\n",
       "      <td>7.182154</td>\n",
       "      <td>22.916667</td>\n",
       "      <td>6.873358</td>\n",
       "      <td>31.333333</td>\n",
       "      <td>6.497863</td>\n",
       "      <td>11.583333</td>\n",
       "      <td>7.285354</td>\n",
       "      <td>1.250000</td>\n",
       "      <td>0.433013</td>\n",
       "      <td>19592.416667</td>\n",
       "      <td>5418.663926</td>\n",
       "      <td>2.416667</td>\n",
       "      <td>0.493007</td>\n",
       "    </tr>\n",
       "    <tr>\n",
       "      <th>13</th>\n",
       "      <td>15.083333</td>\n",
       "      <td>4.662945</td>\n",
       "      <td>23.416667</td>\n",
       "      <td>4.367653</td>\n",
       "      <td>32.000000</td>\n",
       "      <td>3.851407</td>\n",
       "      <td>17.250000</td>\n",
       "      <td>21.241175</td>\n",
       "      <td>1.833333</td>\n",
       "      <td>0.687184</td>\n",
       "      <td>18860.583333</td>\n",
       "      <td>3350.473585</td>\n",
       "      <td>3.083333</td>\n",
       "      <td>0.276385</td>\n",
       "    </tr>\n",
       "    <tr>\n",
       "      <th>14</th>\n",
       "      <td>15.166667</td>\n",
       "      <td>4.775516</td>\n",
       "      <td>23.166667</td>\n",
       "      <td>4.374802</td>\n",
       "      <td>30.750000</td>\n",
       "      <td>4.105383</td>\n",
       "      <td>20.833333</td>\n",
       "      <td>26.406544</td>\n",
       "      <td>1.750000</td>\n",
       "      <td>0.721688</td>\n",
       "      <td>18811.500000</td>\n",
       "      <td>3456.104008</td>\n",
       "      <td>3.000000</td>\n",
       "      <td>0.000000</td>\n",
       "    </tr>\n",
       "    <tr>\n",
       "      <th>15</th>\n",
       "      <td>15.166667</td>\n",
       "      <td>4.775516</td>\n",
       "      <td>23.166667</td>\n",
       "      <td>4.374802</td>\n",
       "      <td>30.750000</td>\n",
       "      <td>4.105383</td>\n",
       "      <td>20.833333</td>\n",
       "      <td>26.406544</td>\n",
       "      <td>1.750000</td>\n",
       "      <td>0.721688</td>\n",
       "      <td>18811.500000</td>\n",
       "      <td>3456.104008</td>\n",
       "      <td>3.000000</td>\n",
       "      <td>0.000000</td>\n",
       "    </tr>\n",
       "    <tr>\n",
       "      <th>16</th>\n",
       "      <td>13.916667</td>\n",
       "      <td>6.921685</td>\n",
       "      <td>22.250000</td>\n",
       "      <td>6.508008</td>\n",
       "      <td>30.500000</td>\n",
       "      <td>6.409628</td>\n",
       "      <td>12.750000</td>\n",
       "      <td>7.980445</td>\n",
       "      <td>1.250000</td>\n",
       "      <td>0.433013</td>\n",
       "      <td>19603.750000</td>\n",
       "      <td>5403.111390</td>\n",
       "      <td>2.416667</td>\n",
       "      <td>0.493007</td>\n",
       "    </tr>\n",
       "    <tr>\n",
       "      <th>17</th>\n",
       "      <td>13.916667</td>\n",
       "      <td>6.921685</td>\n",
       "      <td>22.250000</td>\n",
       "      <td>6.508008</td>\n",
       "      <td>30.500000</td>\n",
       "      <td>6.409628</td>\n",
       "      <td>12.750000</td>\n",
       "      <td>7.980445</td>\n",
       "      <td>1.250000</td>\n",
       "      <td>0.433013</td>\n",
       "      <td>19603.750000</td>\n",
       "      <td>5403.111390</td>\n",
       "      <td>2.416667</td>\n",
       "      <td>0.493007</td>\n",
       "    </tr>\n",
       "    <tr>\n",
       "      <th>18</th>\n",
       "      <td>13.916667</td>\n",
       "      <td>6.921685</td>\n",
       "      <td>22.250000</td>\n",
       "      <td>6.508008</td>\n",
       "      <td>30.500000</td>\n",
       "      <td>6.409628</td>\n",
       "      <td>12.750000</td>\n",
       "      <td>7.980445</td>\n",
       "      <td>1.250000</td>\n",
       "      <td>0.433013</td>\n",
       "      <td>19603.750000</td>\n",
       "      <td>5403.111390</td>\n",
       "      <td>2.416667</td>\n",
       "      <td>0.493007</td>\n",
       "    </tr>\n",
       "    <tr>\n",
       "      <th>19</th>\n",
       "      <td>13.916667</td>\n",
       "      <td>6.921685</td>\n",
       "      <td>22.250000</td>\n",
       "      <td>6.508008</td>\n",
       "      <td>30.500000</td>\n",
       "      <td>6.409628</td>\n",
       "      <td>12.750000</td>\n",
       "      <td>7.980445</td>\n",
       "      <td>1.250000</td>\n",
       "      <td>0.433013</td>\n",
       "      <td>19603.750000</td>\n",
       "      <td>5403.111390</td>\n",
       "      <td>2.416667</td>\n",
       "      <td>0.493007</td>\n",
       "    </tr>\n",
       "    <tr>\n",
       "      <th>20</th>\n",
       "      <td>17.333333</td>\n",
       "      <td>5.512612</td>\n",
       "      <td>24.333333</td>\n",
       "      <td>5.467073</td>\n",
       "      <td>31.083333</td>\n",
       "      <td>5.330077</td>\n",
       "      <td>13.916667</td>\n",
       "      <td>14.671164</td>\n",
       "      <td>1.750000</td>\n",
       "      <td>0.829156</td>\n",
       "      <td>18940.750000</td>\n",
       "      <td>3861.799993</td>\n",
       "      <td>3.000000</td>\n",
       "      <td>0.000000</td>\n",
       "    </tr>\n",
       "    <tr>\n",
       "      <th>21</th>\n",
       "      <td>NaN</td>\n",
       "      <td>0.000000</td>\n",
       "      <td>NaN</td>\n",
       "      <td>0.000000</td>\n",
       "      <td>NaN</td>\n",
       "      <td>0.000000</td>\n",
       "      <td>NaN</td>\n",
       "      <td>0.000000</td>\n",
       "      <td>NaN</td>\n",
       "      <td>0.000000</td>\n",
       "      <td>NaN</td>\n",
       "      <td>0.000000</td>\n",
       "      <td>NaN</td>\n",
       "      <td>0.000000</td>\n",
       "    </tr>\n",
       "    <tr>\n",
       "      <th>22</th>\n",
       "      <td>11.750000</td>\n",
       "      <td>5.945937</td>\n",
       "      <td>21.750000</td>\n",
       "      <td>5.945937</td>\n",
       "      <td>32.083333</td>\n",
       "      <td>5.880169</td>\n",
       "      <td>41.583333</td>\n",
       "      <td>44.584112</td>\n",
       "      <td>1.250000</td>\n",
       "      <td>0.433013</td>\n",
       "      <td>18624.833333</td>\n",
       "      <td>4605.134740</td>\n",
       "      <td>2.333333</td>\n",
       "      <td>0.471405</td>\n",
       "    </tr>\n",
       "    <tr>\n",
       "      <th>23</th>\n",
       "      <td>17.833333</td>\n",
       "      <td>2.823512</td>\n",
       "      <td>24.416667</td>\n",
       "      <td>2.782635</td>\n",
       "      <td>31.416667</td>\n",
       "      <td>3.200477</td>\n",
       "      <td>80.666667</td>\n",
       "      <td>92.715814</td>\n",
       "      <td>2.000000</td>\n",
       "      <td>0.707107</td>\n",
       "      <td>17994.500000</td>\n",
       "      <td>3175.995290</td>\n",
       "      <td>1.583333</td>\n",
       "      <td>0.493007</td>\n",
       "    </tr>\n",
       "    <tr>\n",
       "      <th>24</th>\n",
       "      <td>10.750000</td>\n",
       "      <td>2.086664</td>\n",
       "      <td>18.000000</td>\n",
       "      <td>2.345208</td>\n",
       "      <td>25.333333</td>\n",
       "      <td>2.426703</td>\n",
       "      <td>37.416667</td>\n",
       "      <td>29.482928</td>\n",
       "      <td>1.333333</td>\n",
       "      <td>0.471405</td>\n",
       "      <td>18786.750000</td>\n",
       "      <td>2493.760117</td>\n",
       "      <td>2.166667</td>\n",
       "      <td>0.372678</td>\n",
       "    </tr>\n",
       "    <tr>\n",
       "      <th>25</th>\n",
       "      <td>11.000000</td>\n",
       "      <td>2.614065</td>\n",
       "      <td>18.166667</td>\n",
       "      <td>2.374634</td>\n",
       "      <td>25.666667</td>\n",
       "      <td>2.357023</td>\n",
       "      <td>57.750000</td>\n",
       "      <td>60.155528</td>\n",
       "      <td>1.250000</td>\n",
       "      <td>0.433013</td>\n",
       "      <td>18550.166667</td>\n",
       "      <td>2206.189242</td>\n",
       "      <td>2.000000</td>\n",
       "      <td>0.000000</td>\n",
       "    </tr>\n",
       "    <tr>\n",
       "      <th>26</th>\n",
       "      <td>11.416667</td>\n",
       "      <td>2.628635</td>\n",
       "      <td>18.583333</td>\n",
       "      <td>2.361438</td>\n",
       "      <td>25.750000</td>\n",
       "      <td>2.453739</td>\n",
       "      <td>58.583333</td>\n",
       "      <td>60.655390</td>\n",
       "      <td>1.250000</td>\n",
       "      <td>0.433013</td>\n",
       "      <td>18569.500000</td>\n",
       "      <td>2232.325562</td>\n",
       "      <td>2.000000</td>\n",
       "      <td>0.000000</td>\n",
       "    </tr>\n",
       "    <tr>\n",
       "      <th>27</th>\n",
       "      <td>11.416667</td>\n",
       "      <td>2.628635</td>\n",
       "      <td>18.583333</td>\n",
       "      <td>2.361438</td>\n",
       "      <td>25.750000</td>\n",
       "      <td>2.453739</td>\n",
       "      <td>58.583333</td>\n",
       "      <td>60.655390</td>\n",
       "      <td>1.250000</td>\n",
       "      <td>0.433013</td>\n",
       "      <td>18569.500000</td>\n",
       "      <td>2232.325562</td>\n",
       "      <td>2.000000</td>\n",
       "      <td>0.000000</td>\n",
       "    </tr>\n",
       "    <tr>\n",
       "      <th>28</th>\n",
       "      <td>11.583333</td>\n",
       "      <td>5.235430</td>\n",
       "      <td>21.250000</td>\n",
       "      <td>5.149838</td>\n",
       "      <td>30.750000</td>\n",
       "      <td>5.018715</td>\n",
       "      <td>62.083333</td>\n",
       "      <td>63.674247</td>\n",
       "      <td>1.250000</td>\n",
       "      <td>0.433013</td>\n",
       "      <td>18621.333333</td>\n",
       "      <td>4394.531836</td>\n",
       "      <td>2.250000</td>\n",
       "      <td>0.433013</td>\n",
       "    </tr>\n",
       "    <tr>\n",
       "      <th>29</th>\n",
       "      <td>11.333333</td>\n",
       "      <td>2.527625</td>\n",
       "      <td>18.416667</td>\n",
       "      <td>2.498611</td>\n",
       "      <td>25.916667</td>\n",
       "      <td>2.465033</td>\n",
       "      <td>34.750000</td>\n",
       "      <td>28.358200</td>\n",
       "      <td>1.333333</td>\n",
       "      <td>0.471405</td>\n",
       "      <td>19242.083333</td>\n",
       "      <td>2587.969103</td>\n",
       "      <td>2.083333</td>\n",
       "      <td>0.276385</td>\n",
       "    </tr>\n",
       "    <tr>\n",
       "      <th>...</th>\n",
       "      <td>...</td>\n",
       "      <td>...</td>\n",
       "      <td>...</td>\n",
       "      <td>...</td>\n",
       "      <td>...</td>\n",
       "      <td>...</td>\n",
       "      <td>...</td>\n",
       "      <td>...</td>\n",
       "      <td>...</td>\n",
       "      <td>...</td>\n",
       "      <td>...</td>\n",
       "      <td>...</td>\n",
       "      <td>...</td>\n",
       "      <td>...</td>\n",
       "    </tr>\n",
       "    <tr>\n",
       "      <th>221</th>\n",
       "      <td>14.916667</td>\n",
       "      <td>5.634098</td>\n",
       "      <td>25.083333</td>\n",
       "      <td>5.544642</td>\n",
       "      <td>35.166667</td>\n",
       "      <td>5.459446</td>\n",
       "      <td>49.166667</td>\n",
       "      <td>51.694347</td>\n",
       "      <td>1.500000</td>\n",
       "      <td>0.645497</td>\n",
       "      <td>18523.583333</td>\n",
       "      <td>4366.070343</td>\n",
       "      <td>2.000000</td>\n",
       "      <td>0.000000</td>\n",
       "    </tr>\n",
       "    <tr>\n",
       "      <th>222</th>\n",
       "      <td>13.416667</td>\n",
       "      <td>4.517712</td>\n",
       "      <td>21.666667</td>\n",
       "      <td>4.229526</td>\n",
       "      <td>29.666667</td>\n",
       "      <td>4.048319</td>\n",
       "      <td>17.833333</td>\n",
       "      <td>18.734253</td>\n",
       "      <td>1.416667</td>\n",
       "      <td>0.493007</td>\n",
       "      <td>18992.833333</td>\n",
       "      <td>3682.371990</td>\n",
       "      <td>2.250000</td>\n",
       "      <td>0.433013</td>\n",
       "    </tr>\n",
       "    <tr>\n",
       "      <th>223</th>\n",
       "      <td>13.416667</td>\n",
       "      <td>4.517712</td>\n",
       "      <td>21.666667</td>\n",
       "      <td>4.229526</td>\n",
       "      <td>29.666667</td>\n",
       "      <td>4.048319</td>\n",
       "      <td>17.833333</td>\n",
       "      <td>18.734253</td>\n",
       "      <td>1.416667</td>\n",
       "      <td>0.493007</td>\n",
       "      <td>18992.833333</td>\n",
       "      <td>3682.371990</td>\n",
       "      <td>2.250000</td>\n",
       "      <td>0.433013</td>\n",
       "    </tr>\n",
       "    <tr>\n",
       "      <th>224</th>\n",
       "      <td>14.250000</td>\n",
       "      <td>4.832615</td>\n",
       "      <td>22.750000</td>\n",
       "      <td>4.380354</td>\n",
       "      <td>31.083333</td>\n",
       "      <td>3.839669</td>\n",
       "      <td>19.916667</td>\n",
       "      <td>25.381943</td>\n",
       "      <td>1.833333</td>\n",
       "      <td>0.687184</td>\n",
       "      <td>18657.333333</td>\n",
       "      <td>3183.815696</td>\n",
       "      <td>2.750000</td>\n",
       "      <td>0.433013</td>\n",
       "    </tr>\n",
       "    <tr>\n",
       "      <th>225</th>\n",
       "      <td>13.416667</td>\n",
       "      <td>4.112143</td>\n",
       "      <td>22.333333</td>\n",
       "      <td>4.129837</td>\n",
       "      <td>31.083333</td>\n",
       "      <td>4.271189</td>\n",
       "      <td>9.000000</td>\n",
       "      <td>7.979139</td>\n",
       "      <td>1.750000</td>\n",
       "      <td>0.721688</td>\n",
       "      <td>18888.500000</td>\n",
       "      <td>3618.924898</td>\n",
       "      <td>2.500000</td>\n",
       "      <td>0.500000</td>\n",
       "    </tr>\n",
       "    <tr>\n",
       "      <th>226</th>\n",
       "      <td>13.416667</td>\n",
       "      <td>4.112143</td>\n",
       "      <td>22.333333</td>\n",
       "      <td>4.129837</td>\n",
       "      <td>31.083333</td>\n",
       "      <td>4.271189</td>\n",
       "      <td>9.000000</td>\n",
       "      <td>7.979139</td>\n",
       "      <td>1.750000</td>\n",
       "      <td>0.721688</td>\n",
       "      <td>18888.500000</td>\n",
       "      <td>3618.924898</td>\n",
       "      <td>2.500000</td>\n",
       "      <td>0.500000</td>\n",
       "    </tr>\n",
       "    <tr>\n",
       "      <th>227</th>\n",
       "      <td>13.416667</td>\n",
       "      <td>4.112143</td>\n",
       "      <td>22.333333</td>\n",
       "      <td>4.129837</td>\n",
       "      <td>31.083333</td>\n",
       "      <td>4.271189</td>\n",
       "      <td>9.000000</td>\n",
       "      <td>7.979139</td>\n",
       "      <td>1.750000</td>\n",
       "      <td>0.721688</td>\n",
       "      <td>18888.500000</td>\n",
       "      <td>3618.924898</td>\n",
       "      <td>2.500000</td>\n",
       "      <td>0.500000</td>\n",
       "    </tr>\n",
       "    <tr>\n",
       "      <th>228</th>\n",
       "      <td>13.416667</td>\n",
       "      <td>4.112143</td>\n",
       "      <td>22.333333</td>\n",
       "      <td>4.129837</td>\n",
       "      <td>31.083333</td>\n",
       "      <td>4.271189</td>\n",
       "      <td>9.000000</td>\n",
       "      <td>7.979139</td>\n",
       "      <td>1.750000</td>\n",
       "      <td>0.721688</td>\n",
       "      <td>18888.500000</td>\n",
       "      <td>3618.924898</td>\n",
       "      <td>2.500000</td>\n",
       "      <td>0.500000</td>\n",
       "    </tr>\n",
       "    <tr>\n",
       "      <th>229</th>\n",
       "      <td>13.416667</td>\n",
       "      <td>4.112143</td>\n",
       "      <td>22.333333</td>\n",
       "      <td>4.129837</td>\n",
       "      <td>31.083333</td>\n",
       "      <td>4.271189</td>\n",
       "      <td>9.000000</td>\n",
       "      <td>7.979139</td>\n",
       "      <td>1.750000</td>\n",
       "      <td>0.721688</td>\n",
       "      <td>18888.500000</td>\n",
       "      <td>3618.924898</td>\n",
       "      <td>2.500000</td>\n",
       "      <td>0.500000</td>\n",
       "    </tr>\n",
       "    <tr>\n",
       "      <th>230</th>\n",
       "      <td>13.416667</td>\n",
       "      <td>4.112143</td>\n",
       "      <td>22.333333</td>\n",
       "      <td>4.129837</td>\n",
       "      <td>31.083333</td>\n",
       "      <td>4.271189</td>\n",
       "      <td>9.000000</td>\n",
       "      <td>7.979139</td>\n",
       "      <td>1.750000</td>\n",
       "      <td>0.721688</td>\n",
       "      <td>18888.500000</td>\n",
       "      <td>3618.924898</td>\n",
       "      <td>2.500000</td>\n",
       "      <td>0.500000</td>\n",
       "    </tr>\n",
       "    <tr>\n",
       "      <th>231</th>\n",
       "      <td>14.666667</td>\n",
       "      <td>5.778312</td>\n",
       "      <td>20.916667</td>\n",
       "      <td>5.484194</td>\n",
       "      <td>27.166667</td>\n",
       "      <td>5.520165</td>\n",
       "      <td>13.000000</td>\n",
       "      <td>11.874342</td>\n",
       "      <td>1.583333</td>\n",
       "      <td>0.759203</td>\n",
       "      <td>18840.416667</td>\n",
       "      <td>4446.500936</td>\n",
       "      <td>3.000000</td>\n",
       "      <td>0.000000</td>\n",
       "    </tr>\n",
       "    <tr>\n",
       "      <th>232</th>\n",
       "      <td>16.750000</td>\n",
       "      <td>4.968652</td>\n",
       "      <td>24.083333</td>\n",
       "      <td>5.219488</td>\n",
       "      <td>31.250000</td>\n",
       "      <td>5.371607</td>\n",
       "      <td>26.333333</td>\n",
       "      <td>28.226268</td>\n",
       "      <td>1.583333</td>\n",
       "      <td>0.759203</td>\n",
       "      <td>18386.250000</td>\n",
       "      <td>4063.308097</td>\n",
       "      <td>3.000000</td>\n",
       "      <td>0.000000</td>\n",
       "    </tr>\n",
       "    <tr>\n",
       "      <th>233</th>\n",
       "      <td>16.750000</td>\n",
       "      <td>4.968652</td>\n",
       "      <td>24.083333</td>\n",
       "      <td>5.219488</td>\n",
       "      <td>31.250000</td>\n",
       "      <td>5.371607</td>\n",
       "      <td>26.333333</td>\n",
       "      <td>28.226268</td>\n",
       "      <td>1.583333</td>\n",
       "      <td>0.759203</td>\n",
       "      <td>18386.250000</td>\n",
       "      <td>4063.308097</td>\n",
       "      <td>3.000000</td>\n",
       "      <td>0.000000</td>\n",
       "    </tr>\n",
       "    <tr>\n",
       "      <th>234</th>\n",
       "      <td>17.500000</td>\n",
       "      <td>3.989570</td>\n",
       "      <td>24.666667</td>\n",
       "      <td>3.944053</td>\n",
       "      <td>32.083333</td>\n",
       "      <td>4.290655</td>\n",
       "      <td>51.500000</td>\n",
       "      <td>60.537179</td>\n",
       "      <td>1.833333</td>\n",
       "      <td>0.799305</td>\n",
       "      <td>17805.500000</td>\n",
       "      <td>3246.792379</td>\n",
       "      <td>2.416667</td>\n",
       "      <td>0.493007</td>\n",
       "    </tr>\n",
       "    <tr>\n",
       "      <th>235</th>\n",
       "      <td>17.500000</td>\n",
       "      <td>3.989570</td>\n",
       "      <td>24.666667</td>\n",
       "      <td>3.944053</td>\n",
       "      <td>32.083333</td>\n",
       "      <td>4.290655</td>\n",
       "      <td>51.500000</td>\n",
       "      <td>60.537179</td>\n",
       "      <td>1.833333</td>\n",
       "      <td>0.799305</td>\n",
       "      <td>17805.500000</td>\n",
       "      <td>3246.792379</td>\n",
       "      <td>2.416667</td>\n",
       "      <td>0.493007</td>\n",
       "    </tr>\n",
       "    <tr>\n",
       "      <th>236</th>\n",
       "      <td>18.916667</td>\n",
       "      <td>1.977302</td>\n",
       "      <td>25.250000</td>\n",
       "      <td>1.831438</td>\n",
       "      <td>31.666667</td>\n",
       "      <td>2.054805</td>\n",
       "      <td>105.500000</td>\n",
       "      <td>57.213780</td>\n",
       "      <td>2.500000</td>\n",
       "      <td>0.500000</td>\n",
       "      <td>18137.250000</td>\n",
       "      <td>2808.384385</td>\n",
       "      <td>2.333333</td>\n",
       "      <td>0.471405</td>\n",
       "    </tr>\n",
       "    <tr>\n",
       "      <th>237</th>\n",
       "      <td>17.333333</td>\n",
       "      <td>3.858612</td>\n",
       "      <td>24.666667</td>\n",
       "      <td>3.944053</td>\n",
       "      <td>31.500000</td>\n",
       "      <td>4.213075</td>\n",
       "      <td>53.250000</td>\n",
       "      <td>62.514165</td>\n",
       "      <td>1.833333</td>\n",
       "      <td>0.799305</td>\n",
       "      <td>17915.916667</td>\n",
       "      <td>3315.341271</td>\n",
       "      <td>2.416667</td>\n",
       "      <td>0.493007</td>\n",
       "    </tr>\n",
       "    <tr>\n",
       "      <th>238</th>\n",
       "      <td>15.500000</td>\n",
       "      <td>4.444097</td>\n",
       "      <td>23.666667</td>\n",
       "      <td>4.403282</td>\n",
       "      <td>31.666667</td>\n",
       "      <td>4.403282</td>\n",
       "      <td>49.500000</td>\n",
       "      <td>56.278326</td>\n",
       "      <td>1.416667</td>\n",
       "      <td>0.493007</td>\n",
       "      <td>18336.916667</td>\n",
       "      <td>3938.003290</td>\n",
       "      <td>2.000000</td>\n",
       "      <td>0.000000</td>\n",
       "    </tr>\n",
       "    <tr>\n",
       "      <th>239</th>\n",
       "      <td>15.416667</td>\n",
       "      <td>4.536120</td>\n",
       "      <td>23.416667</td>\n",
       "      <td>4.536120</td>\n",
       "      <td>31.416667</td>\n",
       "      <td>4.536120</td>\n",
       "      <td>49.083333</td>\n",
       "      <td>55.382696</td>\n",
       "      <td>1.416667</td>\n",
       "      <td>0.493007</td>\n",
       "      <td>18379.416667</td>\n",
       "      <td>3959.997295</td>\n",
       "      <td>2.000000</td>\n",
       "      <td>0.000000</td>\n",
       "    </tr>\n",
       "    <tr>\n",
       "      <th>240</th>\n",
       "      <td>15.166667</td>\n",
       "      <td>4.374802</td>\n",
       "      <td>23.000000</td>\n",
       "      <td>4.301163</td>\n",
       "      <td>30.750000</td>\n",
       "      <td>4.284176</td>\n",
       "      <td>50.666667</td>\n",
       "      <td>56.542511</td>\n",
       "      <td>1.416667</td>\n",
       "      <td>0.493007</td>\n",
       "      <td>18393.750000</td>\n",
       "      <td>3974.384043</td>\n",
       "      <td>2.000000</td>\n",
       "      <td>0.000000</td>\n",
       "    </tr>\n",
       "    <tr>\n",
       "      <th>241</th>\n",
       "      <td>15.166667</td>\n",
       "      <td>4.374802</td>\n",
       "      <td>23.000000</td>\n",
       "      <td>4.301163</td>\n",
       "      <td>30.750000</td>\n",
       "      <td>4.284176</td>\n",
       "      <td>50.666667</td>\n",
       "      <td>56.542511</td>\n",
       "      <td>1.416667</td>\n",
       "      <td>0.493007</td>\n",
       "      <td>18393.750000</td>\n",
       "      <td>3974.384043</td>\n",
       "      <td>2.000000</td>\n",
       "      <td>0.000000</td>\n",
       "    </tr>\n",
       "    <tr>\n",
       "      <th>242</th>\n",
       "      <td>15.416667</td>\n",
       "      <td>4.536120</td>\n",
       "      <td>23.416667</td>\n",
       "      <td>4.536120</td>\n",
       "      <td>31.416667</td>\n",
       "      <td>4.536120</td>\n",
       "      <td>49.083333</td>\n",
       "      <td>55.382696</td>\n",
       "      <td>1.416667</td>\n",
       "      <td>0.493007</td>\n",
       "      <td>18379.416667</td>\n",
       "      <td>3959.997295</td>\n",
       "      <td>2.000000</td>\n",
       "      <td>0.000000</td>\n",
       "    </tr>\n",
       "    <tr>\n",
       "      <th>243</th>\n",
       "      <td>15.500000</td>\n",
       "      <td>4.444097</td>\n",
       "      <td>23.666667</td>\n",
       "      <td>4.403282</td>\n",
       "      <td>31.666667</td>\n",
       "      <td>4.403282</td>\n",
       "      <td>49.500000</td>\n",
       "      <td>56.278326</td>\n",
       "      <td>1.416667</td>\n",
       "      <td>0.493007</td>\n",
       "      <td>18336.916667</td>\n",
       "      <td>3938.003290</td>\n",
       "      <td>2.000000</td>\n",
       "      <td>0.000000</td>\n",
       "    </tr>\n",
       "    <tr>\n",
       "      <th>244</th>\n",
       "      <td>17.833333</td>\n",
       "      <td>2.640497</td>\n",
       "      <td>24.500000</td>\n",
       "      <td>2.872281</td>\n",
       "      <td>31.583333</td>\n",
       "      <td>3.040239</td>\n",
       "      <td>82.583333</td>\n",
       "      <td>94.620697</td>\n",
       "      <td>1.916667</td>\n",
       "      <td>0.759203</td>\n",
       "      <td>17990.333333</td>\n",
       "      <td>3262.947219</td>\n",
       "      <td>1.750000</td>\n",
       "      <td>0.433013</td>\n",
       "    </tr>\n",
       "    <tr>\n",
       "      <th>245</th>\n",
       "      <td>17.000000</td>\n",
       "      <td>2.449490</td>\n",
       "      <td>23.416667</td>\n",
       "      <td>2.430992</td>\n",
       "      <td>29.750000</td>\n",
       "      <td>2.742414</td>\n",
       "      <td>86.833333</td>\n",
       "      <td>91.512142</td>\n",
       "      <td>1.583333</td>\n",
       "      <td>0.493007</td>\n",
       "      <td>17996.833333</td>\n",
       "      <td>3332.678123</td>\n",
       "      <td>1.750000</td>\n",
       "      <td>0.433013</td>\n",
       "    </tr>\n",
       "    <tr>\n",
       "      <th>246</th>\n",
       "      <td>9.416667</td>\n",
       "      <td>2.253084</td>\n",
       "      <td>17.000000</td>\n",
       "      <td>2.198484</td>\n",
       "      <td>24.500000</td>\n",
       "      <td>2.362908</td>\n",
       "      <td>89.250000</td>\n",
       "      <td>83.169631</td>\n",
       "      <td>1.250000</td>\n",
       "      <td>0.433013</td>\n",
       "      <td>17929.250000</td>\n",
       "      <td>3164.712628</td>\n",
       "      <td>2.083333</td>\n",
       "      <td>0.276385</td>\n",
       "    </tr>\n",
       "    <tr>\n",
       "      <th>247</th>\n",
       "      <td>17.333333</td>\n",
       "      <td>3.858612</td>\n",
       "      <td>24.666667</td>\n",
       "      <td>3.944053</td>\n",
       "      <td>31.500000</td>\n",
       "      <td>4.213075</td>\n",
       "      <td>53.250000</td>\n",
       "      <td>62.514165</td>\n",
       "      <td>1.833333</td>\n",
       "      <td>0.799305</td>\n",
       "      <td>17915.916667</td>\n",
       "      <td>3315.341271</td>\n",
       "      <td>2.416667</td>\n",
       "      <td>0.493007</td>\n",
       "    </tr>\n",
       "    <tr>\n",
       "      <th>248</th>\n",
       "      <td>13.833333</td>\n",
       "      <td>2.544056</td>\n",
       "      <td>22.250000</td>\n",
       "      <td>2.487469</td>\n",
       "      <td>30.583333</td>\n",
       "      <td>2.430992</td>\n",
       "      <td>83.250000</td>\n",
       "      <td>98.121629</td>\n",
       "      <td>1.583333</td>\n",
       "      <td>0.493007</td>\n",
       "      <td>18413.416667</td>\n",
       "      <td>2577.280817</td>\n",
       "      <td>1.333333</td>\n",
       "      <td>0.471405</td>\n",
       "    </tr>\n",
       "    <tr>\n",
       "      <th>249</th>\n",
       "      <td>13.833333</td>\n",
       "      <td>2.544056</td>\n",
       "      <td>22.250000</td>\n",
       "      <td>2.487469</td>\n",
       "      <td>30.583333</td>\n",
       "      <td>2.430992</td>\n",
       "      <td>83.250000</td>\n",
       "      <td>98.121629</td>\n",
       "      <td>1.583333</td>\n",
       "      <td>0.493007</td>\n",
       "      <td>18413.416667</td>\n",
       "      <td>2577.280817</td>\n",
       "      <td>1.333333</td>\n",
       "      <td>0.471405</td>\n",
       "    </tr>\n",
       "    <tr>\n",
       "      <th>250</th>\n",
       "      <td>20.666667</td>\n",
       "      <td>1.598611</td>\n",
       "      <td>25.916667</td>\n",
       "      <td>1.656217</td>\n",
       "      <td>31.166667</td>\n",
       "      <td>1.724013</td>\n",
       "      <td>100.500000</td>\n",
       "      <td>50.883036</td>\n",
       "      <td>2.666667</td>\n",
       "      <td>0.471405</td>\n",
       "      <td>18197.583333</td>\n",
       "      <td>2694.318326</td>\n",
       "      <td>2.833333</td>\n",
       "      <td>0.687184</td>\n",
       "    </tr>\n",
       "  </tbody>\n",
       "</table>\n",
       "<p>251 rows × 14 columns</p>\n",
       "</div>"
      ],
      "text/plain": [
       "     MaxTemperature_mean  MaxTemperature_std  MeanTemperature_mean  \\\n",
       "0              13.166667            4.079079             21.333333   \n",
       "1              10.583333            5.040806             18.500000   \n",
       "2              10.583333            5.040806             18.500000   \n",
       "3              10.916667            2.871072             19.333333   \n",
       "4              14.250000            4.832615             22.750000   \n",
       "5              14.250000            5.246030             21.666667   \n",
       "6              15.000000            5.016639             23.083333   \n",
       "7              15.000000            5.016639             23.083333   \n",
       "8               9.583333            2.722080             18.000000   \n",
       "9              15.333333            5.405758             21.000000   \n",
       "10             15.333333            5.405758             21.000000   \n",
       "11             14.500000            7.182154             22.916667   \n",
       "12             14.500000            7.182154             22.916667   \n",
       "13             15.083333            4.662945             23.416667   \n",
       "14             15.166667            4.775516             23.166667   \n",
       "15             15.166667            4.775516             23.166667   \n",
       "16             13.916667            6.921685             22.250000   \n",
       "17             13.916667            6.921685             22.250000   \n",
       "18             13.916667            6.921685             22.250000   \n",
       "19             13.916667            6.921685             22.250000   \n",
       "20             17.333333            5.512612             24.333333   \n",
       "21                   NaN            0.000000                   NaN   \n",
       "22             11.750000            5.945937             21.750000   \n",
       "23             17.833333            2.823512             24.416667   \n",
       "24             10.750000            2.086664             18.000000   \n",
       "25             11.000000            2.614065             18.166667   \n",
       "26             11.416667            2.628635             18.583333   \n",
       "27             11.416667            2.628635             18.583333   \n",
       "28             11.583333            5.235430             21.250000   \n",
       "29             11.333333            2.527625             18.416667   \n",
       "..                   ...                 ...                   ...   \n",
       "221            14.916667            5.634098             25.083333   \n",
       "222            13.416667            4.517712             21.666667   \n",
       "223            13.416667            4.517712             21.666667   \n",
       "224            14.250000            4.832615             22.750000   \n",
       "225            13.416667            4.112143             22.333333   \n",
       "226            13.416667            4.112143             22.333333   \n",
       "227            13.416667            4.112143             22.333333   \n",
       "228            13.416667            4.112143             22.333333   \n",
       "229            13.416667            4.112143             22.333333   \n",
       "230            13.416667            4.112143             22.333333   \n",
       "231            14.666667            5.778312             20.916667   \n",
       "232            16.750000            4.968652             24.083333   \n",
       "233            16.750000            4.968652             24.083333   \n",
       "234            17.500000            3.989570             24.666667   \n",
       "235            17.500000            3.989570             24.666667   \n",
       "236            18.916667            1.977302             25.250000   \n",
       "237            17.333333            3.858612             24.666667   \n",
       "238            15.500000            4.444097             23.666667   \n",
       "239            15.416667            4.536120             23.416667   \n",
       "240            15.166667            4.374802             23.000000   \n",
       "241            15.166667            4.374802             23.000000   \n",
       "242            15.416667            4.536120             23.416667   \n",
       "243            15.500000            4.444097             23.666667   \n",
       "244            17.833333            2.640497             24.500000   \n",
       "245            17.000000            2.449490             23.416667   \n",
       "246             9.416667            2.253084             17.000000   \n",
       "247            17.333333            3.858612             24.666667   \n",
       "248            13.833333            2.544056             22.250000   \n",
       "249            13.833333            2.544056             22.250000   \n",
       "250            20.666667            1.598611             25.916667   \n",
       "\n",
       "     MeanTemperature_std  MinTemperature_mean  MinTemperature_std  \\\n",
       "0               3.659083            29.833333            3.435921   \n",
       "1               4.406435            26.416667            4.030267   \n",
       "2               4.406435            26.416667            4.030267   \n",
       "3               2.527625            27.666667            2.748737   \n",
       "4               4.380354            31.083333            3.839669   \n",
       "5               5.071708            29.250000            5.068284   \n",
       "6               4.974239            31.000000            4.618802   \n",
       "7               4.974239            31.000000            4.618802   \n",
       "8               2.645751            26.083333            2.752524   \n",
       "9               5.446712            26.583333            5.663602   \n",
       "10              5.446712            26.583333            5.663602   \n",
       "11              6.873358            31.333333            6.497863   \n",
       "12              6.873358            31.333333            6.497863   \n",
       "13              4.367653            32.000000            3.851407   \n",
       "14              4.374802            30.750000            4.105383   \n",
       "15              4.374802            30.750000            4.105383   \n",
       "16              6.508008            30.500000            6.409628   \n",
       "17              6.508008            30.500000            6.409628   \n",
       "18              6.508008            30.500000            6.409628   \n",
       "19              6.508008            30.500000            6.409628   \n",
       "20              5.467073            31.083333            5.330077   \n",
       "21              0.000000                  NaN            0.000000   \n",
       "22              5.945937            32.083333            5.880169   \n",
       "23              2.782635            31.416667            3.200477   \n",
       "24              2.345208            25.333333            2.426703   \n",
       "25              2.374634            25.666667            2.357023   \n",
       "26              2.361438            25.750000            2.453739   \n",
       "27              2.361438            25.750000            2.453739   \n",
       "28              5.149838            30.750000            5.018715   \n",
       "29              2.498611            25.916667            2.465033   \n",
       "..                   ...                  ...                 ...   \n",
       "221             5.544642            35.166667            5.459446   \n",
       "222             4.229526            29.666667            4.048319   \n",
       "223             4.229526            29.666667            4.048319   \n",
       "224             4.380354            31.083333            3.839669   \n",
       "225             4.129837            31.083333            4.271189   \n",
       "226             4.129837            31.083333            4.271189   \n",
       "227             4.129837            31.083333            4.271189   \n",
       "228             4.129837            31.083333            4.271189   \n",
       "229             4.129837            31.083333            4.271189   \n",
       "230             4.129837            31.083333            4.271189   \n",
       "231             5.484194            27.166667            5.520165   \n",
       "232             5.219488            31.250000            5.371607   \n",
       "233             5.219488            31.250000            5.371607   \n",
       "234             3.944053            32.083333            4.290655   \n",
       "235             3.944053            32.083333            4.290655   \n",
       "236             1.831438            31.666667            2.054805   \n",
       "237             3.944053            31.500000            4.213075   \n",
       "238             4.403282            31.666667            4.403282   \n",
       "239             4.536120            31.416667            4.536120   \n",
       "240             4.301163            30.750000            4.284176   \n",
       "241             4.301163            30.750000            4.284176   \n",
       "242             4.536120            31.416667            4.536120   \n",
       "243             4.403282            31.666667            4.403282   \n",
       "244             2.872281            31.583333            3.040239   \n",
       "245             2.430992            29.750000            2.742414   \n",
       "246             2.198484            24.500000            2.362908   \n",
       "247             3.944053            31.500000            4.213075   \n",
       "248             2.487469            30.583333            2.430992   \n",
       "249             2.487469            30.583333            2.430992   \n",
       "250             1.656217            31.166667            1.724013   \n",
       "\n",
       "     Precipitation_mean  Precipitation_std  Vapor_mean  Vapor_std  \\\n",
       "0             14.750000          17.440972    1.666667   0.623610   \n",
       "1             10.750000           8.001302    1.416667   0.493007   \n",
       "2             10.750000           8.001302    1.416667   0.493007   \n",
       "3             61.916667          70.374544    1.333333   0.471405   \n",
       "4             19.916667          25.381943    1.833333   0.687184   \n",
       "5             16.333333          17.182032    1.416667   0.493007   \n",
       "6             19.166667          24.309920    1.750000   0.721688   \n",
       "7             19.166667          24.309920    1.750000   0.721688   \n",
       "8             45.750000          42.575668    1.000000   0.000000   \n",
       "9             11.666667          11.374924    1.750000   0.829156   \n",
       "10            11.666667          11.374924    1.750000   0.829156   \n",
       "11            11.583333           7.285354    1.250000   0.433013   \n",
       "12            11.583333           7.285354    1.250000   0.433013   \n",
       "13            17.250000          21.241175    1.833333   0.687184   \n",
       "14            20.833333          26.406544    1.750000   0.721688   \n",
       "15            20.833333          26.406544    1.750000   0.721688   \n",
       "16            12.750000           7.980445    1.250000   0.433013   \n",
       "17            12.750000           7.980445    1.250000   0.433013   \n",
       "18            12.750000           7.980445    1.250000   0.433013   \n",
       "19            12.750000           7.980445    1.250000   0.433013   \n",
       "20            13.916667          14.671164    1.750000   0.829156   \n",
       "21                  NaN           0.000000         NaN   0.000000   \n",
       "22            41.583333          44.584112    1.250000   0.433013   \n",
       "23            80.666667          92.715814    2.000000   0.707107   \n",
       "24            37.416667          29.482928    1.333333   0.471405   \n",
       "25            57.750000          60.155528    1.250000   0.433013   \n",
       "26            58.583333          60.655390    1.250000   0.433013   \n",
       "27            58.583333          60.655390    1.250000   0.433013   \n",
       "28            62.083333          63.674247    1.250000   0.433013   \n",
       "29            34.750000          28.358200    1.333333   0.471405   \n",
       "..                  ...                ...         ...        ...   \n",
       "221           49.166667          51.694347    1.500000   0.645497   \n",
       "222           17.833333          18.734253    1.416667   0.493007   \n",
       "223           17.833333          18.734253    1.416667   0.493007   \n",
       "224           19.916667          25.381943    1.833333   0.687184   \n",
       "225            9.000000           7.979139    1.750000   0.721688   \n",
       "226            9.000000           7.979139    1.750000   0.721688   \n",
       "227            9.000000           7.979139    1.750000   0.721688   \n",
       "228            9.000000           7.979139    1.750000   0.721688   \n",
       "229            9.000000           7.979139    1.750000   0.721688   \n",
       "230            9.000000           7.979139    1.750000   0.721688   \n",
       "231           13.000000          11.874342    1.583333   0.759203   \n",
       "232           26.333333          28.226268    1.583333   0.759203   \n",
       "233           26.333333          28.226268    1.583333   0.759203   \n",
       "234           51.500000          60.537179    1.833333   0.799305   \n",
       "235           51.500000          60.537179    1.833333   0.799305   \n",
       "236          105.500000          57.213780    2.500000   0.500000   \n",
       "237           53.250000          62.514165    1.833333   0.799305   \n",
       "238           49.500000          56.278326    1.416667   0.493007   \n",
       "239           49.083333          55.382696    1.416667   0.493007   \n",
       "240           50.666667          56.542511    1.416667   0.493007   \n",
       "241           50.666667          56.542511    1.416667   0.493007   \n",
       "242           49.083333          55.382696    1.416667   0.493007   \n",
       "243           49.500000          56.278326    1.416667   0.493007   \n",
       "244           82.583333          94.620697    1.916667   0.759203   \n",
       "245           86.833333          91.512142    1.583333   0.493007   \n",
       "246           89.250000          83.169631    1.250000   0.433013   \n",
       "247           53.250000          62.514165    1.833333   0.799305   \n",
       "248           83.250000          98.121629    1.583333   0.493007   \n",
       "249           83.250000          98.121629    1.583333   0.493007   \n",
       "250          100.500000          50.883036    2.666667   0.471405   \n",
       "\n",
       "     SolarRadiation_mean  SolarRadiation_std  WindSpeed_mean  WindSpeed_std  \n",
       "0           19022.750000         3321.711309        2.583333       0.493007  \n",
       "1           19243.416667         4598.550015        2.416667       0.493007  \n",
       "2           19243.416667         4598.550015        2.416667       0.493007  \n",
       "3           18422.750000         2304.748798        2.000000       0.000000  \n",
       "4           18657.333333         3183.815696        2.750000       0.433013  \n",
       "5           18787.583333         3722.641008        2.250000       0.433013  \n",
       "6           18930.166667         3571.761676        3.000000       0.000000  \n",
       "7           18930.166667         3571.761676        3.000000       0.000000  \n",
       "8           18881.833333         2361.063632        2.166667       0.372678  \n",
       "9           18753.500000         4365.401232        3.000000       0.000000  \n",
       "10          18753.500000         4365.401232        3.000000       0.000000  \n",
       "11          19592.416667         5418.663926        2.416667       0.493007  \n",
       "12          19592.416667         5418.663926        2.416667       0.493007  \n",
       "13          18860.583333         3350.473585        3.083333       0.276385  \n",
       "14          18811.500000         3456.104008        3.000000       0.000000  \n",
       "15          18811.500000         3456.104008        3.000000       0.000000  \n",
       "16          19603.750000         5403.111390        2.416667       0.493007  \n",
       "17          19603.750000         5403.111390        2.416667       0.493007  \n",
       "18          19603.750000         5403.111390        2.416667       0.493007  \n",
       "19          19603.750000         5403.111390        2.416667       0.493007  \n",
       "20          18940.750000         3861.799993        3.000000       0.000000  \n",
       "21                   NaN            0.000000             NaN       0.000000  \n",
       "22          18624.833333         4605.134740        2.333333       0.471405  \n",
       "23          17994.500000         3175.995290        1.583333       0.493007  \n",
       "24          18786.750000         2493.760117        2.166667       0.372678  \n",
       "25          18550.166667         2206.189242        2.000000       0.000000  \n",
       "26          18569.500000         2232.325562        2.000000       0.000000  \n",
       "27          18569.500000         2232.325562        2.000000       0.000000  \n",
       "28          18621.333333         4394.531836        2.250000       0.433013  \n",
       "29          19242.083333         2587.969103        2.083333       0.276385  \n",
       "..                   ...                 ...             ...            ...  \n",
       "221         18523.583333         4366.070343        2.000000       0.000000  \n",
       "222         18992.833333         3682.371990        2.250000       0.433013  \n",
       "223         18992.833333         3682.371990        2.250000       0.433013  \n",
       "224         18657.333333         3183.815696        2.750000       0.433013  \n",
       "225         18888.500000         3618.924898        2.500000       0.500000  \n",
       "226         18888.500000         3618.924898        2.500000       0.500000  \n",
       "227         18888.500000         3618.924898        2.500000       0.500000  \n",
       "228         18888.500000         3618.924898        2.500000       0.500000  \n",
       "229         18888.500000         3618.924898        2.500000       0.500000  \n",
       "230         18888.500000         3618.924898        2.500000       0.500000  \n",
       "231         18840.416667         4446.500936        3.000000       0.000000  \n",
       "232         18386.250000         4063.308097        3.000000       0.000000  \n",
       "233         18386.250000         4063.308097        3.000000       0.000000  \n",
       "234         17805.500000         3246.792379        2.416667       0.493007  \n",
       "235         17805.500000         3246.792379        2.416667       0.493007  \n",
       "236         18137.250000         2808.384385        2.333333       0.471405  \n",
       "237         17915.916667         3315.341271        2.416667       0.493007  \n",
       "238         18336.916667         3938.003290        2.000000       0.000000  \n",
       "239         18379.416667         3959.997295        2.000000       0.000000  \n",
       "240         18393.750000         3974.384043        2.000000       0.000000  \n",
       "241         18393.750000         3974.384043        2.000000       0.000000  \n",
       "242         18379.416667         3959.997295        2.000000       0.000000  \n",
       "243         18336.916667         3938.003290        2.000000       0.000000  \n",
       "244         17990.333333         3262.947219        1.750000       0.433013  \n",
       "245         17996.833333         3332.678123        1.750000       0.433013  \n",
       "246         17929.250000         3164.712628        2.083333       0.276385  \n",
       "247         17915.916667         3315.341271        2.416667       0.493007  \n",
       "248         18413.416667         2577.280817        1.333333       0.471405  \n",
       "249         18413.416667         2577.280817        1.333333       0.471405  \n",
       "250         18197.583333         2694.318326        2.833333       0.687184  \n",
       "\n",
       "[251 rows x 14 columns]"
      ]
     },
     "execution_count": 83,
     "metadata": {},
     "output_type": "execute_result"
    }
   ],
   "source": [
    "pnts_env_burs"
   ]
  },
  {
   "cell_type": "markdown",
   "metadata": {},
   "source": [
    "## General aproach"
   ]
  },
  {
   "cell_type": "code",
   "execution_count": 52,
   "metadata": {
    "collapsed": false
   },
   "outputs": [
    {
     "data": {
      "text/plain": [
       "list"
      ]
     },
     "execution_count": 52,
     "metadata": {},
     "output_type": "execute_result"
    }
   ],
   "source": [
    "type(big_tree.levels)"
   ]
  },
  {
   "cell_type": "code",
   "execution_count": 45,
   "metadata": {
    "collapsed": true
   },
   "outputs": [],
   "source": [
    "birds = t.to_Animalia.to_Chordata.to_Aves"
   ]
  },
  {
   "cell_type": "code",
   "execution_count": 46,
   "metadata": {
    "collapsed": false
   },
   "outputs": [
    {
     "data": {
      "text/plain": [
       "<TreeNode type: Family id = 343770 name: Burseraceae>"
      ]
     },
     "execution_count": 46,
     "metadata": {},
     "output_type": "execute_result"
    }
   ],
   "source": [
    "bursera"
   ]
  },
  {
   "cell_type": "code",
   "execution_count": 47,
   "metadata": {
    "collapsed": false
   },
   "outputs": [
    {
     "data": {
      "text/plain": [
       "<TreeNode | Class: Aves - n.count : 8- >"
      ]
     },
     "execution_count": 47,
     "metadata": {},
     "output_type": "execute_result"
    }
   ],
   "source": [
    "birds"
   ]
  },
  {
   "cell_type": "code",
   "execution_count": 48,
   "metadata": {
    "collapsed": false
   },
   "outputs": [
    {
     "data": {
      "text/plain": [
       "[<LocalTree Of Life | Root: LUCA - n.count : 14- >,\n",
       " <LocalTree Of Life | Root: LUCA - n.count : 4- >,\n",
       " <LocalTree Of Life | Root: LUCA - n.count : 37- >,\n",
       " <LocalTree Of Life | Root: LUCA - n.count : 373- >,\n",
       " <LocalTree Of Life | Root: LUCA - n.count : 5- >,\n",
       " <LocalTree Of Life | Root: LUCA - n.count : 9- >,\n",
       " <LocalTree Of Life | Root: LUCA - n.count : 2- >,\n",
       " <LocalTree Of Life | Root: LUCA - n.count : 59- >,\n",
       " <LocalTree Of Life | Root: LUCA - n.count : 947- >,\n",
       " <LocalTree Of Life | Root: LUCA - n.count : 1052- >]"
      ]
     },
     "execution_count": 48,
     "metadata": {},
     "output_type": "execute_result"
    }
   ],
   "source": [
    "trees"
   ]
  },
  {
   "cell_type": "code",
   "execution_count": 49,
   "metadata": {
    "collapsed": false
   },
   "outputs": [
    {
     "data": {
      "text/plain": [
       "[<LocalTree Of Life | Root: LUCA - n.count : 14- >,\n",
       " <LocalTree Of Life | Root: LUCA - n.count : 373- >,\n",
       " <LocalTree Of Life | Root: LUCA - n.count : 947- >,\n",
       " <LocalTree Of Life | Root: LUCA - n.count : 1052- >]"
      ]
     },
     "execution_count": 49,
     "metadata": {},
     "output_type": "execute_result"
    }
   ],
   "source": [
    "filter(lambda tree : tree.hasNode(birds),trees)"
   ]
  },
  {
   "cell_type": "code",
   "execution_count": 56,
   "metadata": {
    "collapsed": true
   },
   "outputs": [],
   "source": [
    "getNeighbourhood = lambda tree : tree.getNeighboringTrees()"
   ]
  },
  {
   "cell_type": "code",
   "execution_count": null,
   "metadata": {
    "collapsed": true
   },
   "outputs": [],
   "source": []
  }
 ],
 "metadata": {
  "kernelspec": {
   "display_name": "Django Shell-Plus",
   "language": "python",
   "name": "django_extensions"
  },
  "language_info": {
   "codemirror_mode": {
    "name": "ipython",
    "version": 2
   },
   "file_extension": ".py",
   "mimetype": "text/x-python",
   "name": "python",
   "nbconvert_exporter": "python",
   "pygments_lexer": "ipython2",
   "version": "2.7.11"
  }
 },
 "nbformat": 4,
 "nbformat_minor": 0
}
