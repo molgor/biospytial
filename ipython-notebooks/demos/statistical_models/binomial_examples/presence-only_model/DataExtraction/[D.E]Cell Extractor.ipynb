{
 "cells": [
  {
   "cell_type": "markdown",
   "metadata": {},
   "source": [
    "# Full regional extraction\n",
    "Here we will extract cells from a variable size continuous polygon.\n",
    "This will be the first step in doing a full regionalising model."
   ]
  },
  {
   "cell_type": "code",
   "execution_count": null,
   "metadata": {},
   "outputs": [],
   "source": [
    "#Loading things as usual\n",
    "%matplotlib inline\n",
    "import sys\n",
    "sys.path.append('/apps')\n",
    "import django\n",
    "django.setup()\n",
    "from drivers.tree_builder import TreeNeo\n",
    "from drivers.graph_models import TreeNode, Order, Family, graph,Kingdom,Occurrence\n",
    "from drivers.graph_models import Cell,Mex4km, countObjectsOf\n",
    "from drivers.graph_models import pickNode\n",
    "import matplotlib.pyplot as plt\n",
    "import pandas as pd\n",
    "import itertools as it\n",
    "import numpy as np\n",
    "\n",
    "## Use the ggplot style\n",
    "plt.style.use('ggplot')"
   ]
  },
  {
   "cell_type": "markdown",
   "metadata": {},
   "source": [
    "# Ok, the approach will be this\n",
    "1. Let $p=(x,y)$ in Mexico\n",
    "2. Create a buffer size list (maybe exponential) not to big.\n",
    "4. Generate a list of polygons according to this list.\n",
    "5. Overlay with the mesh (lowest resolution)\n",
    "6. Extract cells, or cell ids.\n"
   ]
  },
  {
   "cell_type": "code",
   "execution_count": 2,
   "metadata": {},
   "outputs": [],
   "source": [
    "from django.contrib.gis.geos import Point, Polygon\n",
    "xcoord = -99.76\n",
    "ycoord = 17.55\n",
    "p = Point(xcoord,ycoord,srid=4326)\n",
    "radii = np.linspace(0.08,1, 10)\n",
    "polys = map(lambda r : p.buffer(r),radii)\n"
   ]
  },
  {
   "cell_type": "code",
   "execution_count": 3,
   "metadata": {},
   "outputs": [],
   "source": [
    "## Intersect the polygons with the cells to obtain the targets"
   ]
  },
  {
   "cell_type": "code",
   "execution_count": 4,
   "metadata": {},
   "outputs": [],
   "source": [
    "from mesh.models import initMesh"
   ]
  },
  {
   "cell_type": "code",
   "execution_count": 5,
   "metadata": {},
   "outputs": [
    {
     "name": "stderr",
     "output_type": "stream",
     "text": [
      "DEBUG Changed MESH TABLE SPACE\n"
     ]
    }
   ],
   "source": [
    "mexmesh = initMesh(11)"
   ]
  },
  {
   "cell_type": "code",
   "execution_count": 6,
   "metadata": {},
   "outputs": [],
   "source": [
    "intersected_cells = map(lambda poly : mexmesh.objects.filter(cell__intersects=poly),polys)"
   ]
  },
  {
   "cell_type": "code",
   "execution_count": 7,
   "metadata": {},
   "outputs": [],
   "source": [
    "# Number of selected cells in each buffer\n",
    "values = map(lambda l : list(l.values_list('id',flat=True)),intersected_cells)"
   ]
  },
  {
   "cell_type": "code",
   "execution_count": 8,
   "metadata": {},
   "outputs": [
    {
     "name": "stderr",
     "output_type": "stream",
     "text": [
      "INFO Compiling Query and asking the Graph Database\n",
      "INFO Compiling Query and asking the Graph Database\n",
      "INFO Compiling Query and asking the Graph Database\n",
      "INFO Compiling Query and asking the Graph Database\n",
      "INFO Compiling Query and asking the Graph Database\n",
      "INFO Compiling Query and asking the Graph Database\n",
      "INFO Compiling Query and asking the Graph Database\n",
      "INFO Compiling Query and asking the Graph Database\n",
      "INFO Compiling Query and asking the Graph Database\n",
      "INFO Compiling Query and asking the Graph Database\n"
     ]
    }
   ],
   "source": [
    "## Change to network database\n",
    "from traversals.strategies import idsToCells\n",
    "cells = map(lambda level : list(idsToCells(level)),values)"
   ]
  },
  {
   "cell_type": "code",
   "execution_count": 9,
   "metadata": {},
   "outputs": [
    {
     "name": "stdout",
     "output_type": "stream",
     "text": [
      "CPU times: user 40 s, sys: 1.12 s, total: 41.1 s\n",
      "Wall time: 43.9 s\n",
      "CPU times: user 58.4 s, sys: 1.55 s, total: 60 s\n",
      "Wall time: 1min 3s\n",
      "CPU times: user 1min 59s, sys: 3.61 s, total: 2min 3s\n",
      "Wall time: 2min 11s\n",
      "CPU times: user 2min 42s, sys: 4.57 s, total: 2min 46s\n",
      "Wall time: 2min 58s\n",
      "CPU times: user 3min 37s, sys: 6.34 s, total: 3min 43s\n",
      "Wall time: 3min 59s\n",
      "CPU times: user 4min 8s, sys: 6.88 s, total: 4min 14s\n",
      "Wall time: 4min 32s\n",
      "CPU times: user 4min 40s, sys: 7.46 s, total: 4min 47s\n",
      "Wall time: 5min 7s\n",
      "CPU times: user 4min 59s, sys: 8.36 s, total: 5min 8s\n",
      "Wall time: 5min 30s\n",
      "CPU times: user 5min 51s, sys: 9.26 s, total: 6min\n",
      "Wall time: 6min 25s\n",
      "CPU times: user 5min 55s, sys: 9.88 s, total: 6min 5s\n",
      "Wall time: 6min 32s\n"
     ]
    }
   ],
   "source": [
    "### Sumon the LToL\n",
    "# Following example from Data generator\n",
    "from drivers.tree_builder import buildTreeNeo\n",
    "trees = []\n",
    "for list_of_cells in cells:\n",
    "    %time trees.append(map(lambda c : buildTreeNeo(c),list_of_cells))\n"
   ]
  },
  {
   "cell_type": "code",
   "execution_count": 13,
   "metadata": {},
   "outputs": [],
   "source": [
    "## Pseudo Presence bursea \n",
    "from traversals import strategies as st\n",
    "## Get all models, environmental variables\n",
    "from raster_api.models import raster_models_dic"
   ]
  },
  {
   "cell_type": "code",
   "execution_count": 14,
   "metadata": {},
   "outputs": [],
   "source": [
    "rstmods = raster_models_dic.keys()"
   ]
  },
  {
   "cell_type": "code",
   "execution_count": 23,
   "metadata": {},
   "outputs": [
    {
     "name": "stdout",
     "output_type": "stream",
     "text": [
      "CPU times: user 1min 40s, sys: 2.17 s, total: 1min 42s\n",
      "Wall time: 28min 36s\n"
     ]
    }
   ],
   "source": [
    "%time data = map(lambda cell : st.getEnvironmentalCovariatesFromListOfCells(cell,vars=rstmods),cells)"
   ]
  },
  {
   "cell_type": "markdown",
   "metadata": {},
   "source": [
    "## Let's build the Pseudo presence absence\n",
    "First, Let be bursera the node we want to model"
   ]
  },
  {
   "cell_type": "code",
   "execution_count": 24,
   "metadata": {},
   "outputs": [],
   "source": [
    "bursera = pickNode(Family,'Burseracea')"
   ]
  },
  {
   "cell_type": "code",
   "execution_count": 25,
   "metadata": {},
   "outputs": [],
   "source": [
    "root_node = bursera.getParent().getParent().getParent().getParent().getParent()"
   ]
  },
  {
   "cell_type": "code",
   "execution_count": 26,
   "metadata": {},
   "outputs": [],
   "source": [
    "t = trees[0][0]"
   ]
  },
  {
   "cell_type": "code",
   "execution_count": 27,
   "metadata": {},
   "outputs": [
    {
     "name": "stdout",
     "output_type": "stream",
     "text": [
      "CPU times: user 0 ns, sys: 0 ns, total: 0 ns\n",
      "Wall time: 1.06 ms\n",
      "CPU times: user 0 ns, sys: 0 ns, total: 0 ns\n",
      "Wall time: 1.07 ms\n",
      "CPU times: user 4 ms, sys: 0 ns, total: 4 ms\n",
      "Wall time: 1.95 ms\n",
      "CPU times: user 0 ns, sys: 0 ns, total: 0 ns\n",
      "Wall time: 2.5 ms\n",
      "CPU times: user 4 ms, sys: 0 ns, total: 4 ms\n",
      "Wall time: 3.72 ms\n",
      "CPU times: user 4 ms, sys: 0 ns, total: 4 ms\n",
      "Wall time: 4.44 ms\n",
      "CPU times: user 4 ms, sys: 0 ns, total: 4 ms\n",
      "Wall time: 5.45 ms\n",
      "CPU times: user 4 ms, sys: 0 ns, total: 4 ms\n",
      "Wall time: 6.43 ms\n",
      "CPU times: user 8 ms, sys: 0 ns, total: 8 ms\n",
      "Wall time: 7.71 ms\n",
      "CPU times: user 8 ms, sys: 0 ns, total: 8 ms\n",
      "Wall time: 8.68 ms\n"
     ]
    }
   ],
   "source": [
    "presences = []\n",
    "for ltree in trees:\n",
    "    %time presences.append(st.getPresencesForNode(root_node,ltree))\n",
    "    "
   ]
  },
  {
   "cell_type": "code",
   "execution_count": 28,
   "metadata": {},
   "outputs": [],
   "source": [
    "\n",
    "from ecoregions.models import TerrEcoregions,InegiIV"
   ]
  },
  {
   "cell_type": "code",
   "execution_count": null,
   "metadata": {},
   "outputs": [],
   "source": [
    "%%time\n",
    "def extractVegetation(list_points):\n",
    "    \"\"\"\n",
    "    Given a list of points it will return a dataframe of the corresponding vegetation \n",
    "    type from the TerrEcoregions and INEGI series V.\n",
    "    To be included in data extraction method, but there's no time for it, there's never time for anything!\n",
    "    Returns a dataframe.\n",
    "    \"\"\"\n",
    "    points = list_points\n",
    "    ecoregions = map(lambda p : TerrEcoregions.objects.filter(geom__intersects=p),points)\n",
    "    ecovalues = map(lambda q : q.values_list('wwf_mhtnum','wwf_mhtnam'),ecoregions)\n",
    "    inegiregions = map(lambda p : InegiIV.objects.filter(geom__intersects=p),points)\n",
    "    inegivalues = map(lambda q : q.values_list('covid','name'),inegiregions)\n",
    "    ecovals = [r.get() if r.exists() else (np.nan,'NaN') for r in ecovalues ]\n",
    "    inegivals = [r.get() if r.exists() else (np.nan,'NaN') for r in inegivalues ]\n",
    "    # Compile dataframe\n",
    "    vegdat = pd.DataFrame(ecovals)\n",
    "    inegidat = pd.DataFrame(inegivals)\n",
    "    vegdat.columns = ['vegid','vegname']\n",
    "    inegidat.columns = ['inegiv5id','inegiv5name']\n",
    "    results = pd.concat([vegdat,inegidat],axis=1)\n",
    "    return results"
   ]
  },
  {
   "cell_type": "code",
   "execution_count": 29,
   "metadata": {},
   "outputs": [],
   "source": [
    "centers_nested = map(lambda c : map(lambda p : p.centroid, c),cells)"
   ]
  },
  {
   "cell_type": "code",
   "execution_count": 30,
   "metadata": {},
   "outputs": [],
   "source": [
    "from utilities import data_extraction as de"
   ]
  },
  {
   "cell_type": "code",
   "execution_count": 31,
   "metadata": {},
   "outputs": [
    {
     "name": "stderr",
     "output_type": "stream",
     "text": [
      "INFO extracting info from: <class 'ecoregions.models.TerrEcoregions'> this can take some minutes\n",
      "INFO extracting info from: <class 'ecoregions.models.InegiIV'> this can take some minutes\n",
      "INFO extracting info from: <class 'ecoregions.models.TerrEcoregions'> this can take some minutes\n",
      "INFO extracting info from: <class 'ecoregions.models.InegiIV'> this can take some minutes\n",
      "INFO extracting info from: <class 'ecoregions.models.TerrEcoregions'> this can take some minutes\n",
      "INFO extracting info from: <class 'ecoregions.models.InegiIV'> this can take some minutes\n",
      "INFO extracting info from: <class 'ecoregions.models.TerrEcoregions'> this can take some minutes\n",
      "INFO extracting info from: <class 'ecoregions.models.InegiIV'> this can take some minutes\n",
      "INFO extracting info from: <class 'ecoregions.models.TerrEcoregions'> this can take some minutes\n",
      "INFO extracting info from: <class 'ecoregions.models.InegiIV'> this can take some minutes\n",
      "INFO extracting info from: <class 'ecoregions.models.TerrEcoregions'> this can take some minutes\n",
      "INFO extracting info from: <class 'ecoregions.models.InegiIV'> this can take some minutes\n",
      "INFO extracting info from: <class 'ecoregions.models.TerrEcoregions'> this can take some minutes\n",
      "INFO extracting info from: <class 'ecoregions.models.InegiIV'> this can take some minutes\n",
      "INFO extracting info from: <class 'ecoregions.models.TerrEcoregions'> this can take some minutes\n",
      "INFO extracting info from: <class 'ecoregions.models.InegiIV'> this can take some minutes\n",
      "INFO extracting info from: <class 'ecoregions.models.TerrEcoregions'> this can take some minutes\n",
      "INFO extracting info from: <class 'ecoregions.models.InegiIV'> this can take some minutes\n",
      "INFO extracting info from: <class 'ecoregions.models.TerrEcoregions'> this can take some minutes\n",
      "INFO extracting info from: <class 'ecoregions.models.InegiIV'> this can take some minutes\n"
     ]
    }
   ],
   "source": [
    "## Calculate tipo de vegetacion\n",
    "#vegie_types = map(lambda lp : extractVegetation(lp),centers_nested)\n",
    "from ecoregions.models import TerrEcoregions,InegiIV\n",
    "vectsel = [[TerrEcoregions,['wwf_mhtnum','wwf_mhtnam'],[np.nan,'NaN']],[InegiIV,['covid','name'],[np.nan,'NaN']]]\n",
    "vegie_types = map(lambda lp : de.extractSeveralVectorFeatures(lp,vectsel),centers_nested)"
   ]
  },
  {
   "cell_type": "code",
   "execution_count": 32,
   "metadata": {},
   "outputs": [],
   "source": [
    "datos = zip(presences,data,vegie_types)"
   ]
  },
  {
   "cell_type": "code",
   "execution_count": 33,
   "metadata": {},
   "outputs": [],
   "source": [
    "## Compile the dataframe and convert to geopandas\n",
    "dd = map(lambda (p,d,v) : pd.concat([p,d,v],axis=1),datos)\n",
    "dd = map(lambda d : st.toGeoDataFrame(d,xcoord_name='Longitude',ycoord_name='Latitude'),dd)"
   ]
  },
  {
   "cell_type": "code",
   "execution_count": 34,
   "metadata": {},
   "outputs": [],
   "source": [
    "## Maybe this was not necessary\n",
    "#def encode_df(df):\n",
    "#    df['inegiv5name'] = df['inegiv5name'].apply(lambda x: x.decode('utf8'))\n",
    "#    return df\n",
    "\n",
    "#dataframes = map(encode_df,dd)"
   ]
  },
  {
   "cell_type": "code",
   "execution_count": 35,
   "metadata": {},
   "outputs": [
    {
     "name": "stdout",
     "output_type": "stream",
     "text": [
      "/outputs/presence_only_models/data/burseras/0.csv\n",
      "/outputs/presence_only_models/data/burseras/1.csv\n",
      "/outputs/presence_only_models/data/burseras/2.csv\n",
      "/outputs/presence_only_models/data/burseras/3.csv\n",
      "/outputs/presence_only_models/data/burseras/4.csv\n",
      "/outputs/presence_only_models/data/burseras/5.csv\n",
      "/outputs/presence_only_models/data/burseras/6.csv\n",
      "/outputs/presence_only_models/data/burseras/7.csv\n",
      "/outputs/presence_only_models/data/burseras/8.csv\n",
      "/outputs/presence_only_models/data/burseras/9.csv\n"
     ]
    }
   ],
   "source": [
    "for i,d in enumerate(dd):\n",
    "    cad = '/outputs/presence_only_models/data/burseras/%s.csv'%i\n",
    "    print(cad)\n",
    "    d.to_csv(cad,encoding='utf8')"
   ]
  },
  {
   "cell_type": "code",
   "execution_count": null,
   "metadata": {},
   "outputs": [],
   "source": [
    "d9 = dd[9]"
   ]
  },
  {
   "cell_type": "code",
   "execution_count": null,
   "metadata": {},
   "outputs": [],
   "source": [
    "plt.scatter()\n",
    "dd[9].plot(column='DistanceToRoadMex_mean')\n",
    "dd[9].plot(column='Burseraceae',cmap=plt.cm.Greys)"
   ]
  },
  {
   "cell_type": "code",
   "execution_count": null,
   "metadata": {},
   "outputs": [],
   "source": [
    "otro = d.replace('NaN',np.nan)"
   ]
  },
  {
   "cell_type": "code",
   "execution_count": null,
   "metadata": {},
   "outputs": [],
   "source": [
    "otro2 = otro.replace('N.A.',np.nan)"
   ]
  },
  {
   "cell_type": "code",
   "execution_count": null,
   "metadata": {},
   "outputs": [],
   "source": [
    "plt.scatter(otro2.Longitude,otro2.Latitude,c=otro2.Elevation_mean,cmap=plt.cm.Accent,s=30)\n",
    "#plt.scatter(otro2.Longitude,otro2.Latitude,c=otro2.Precipitation_mean,cmap=plt.cm.Accent,s=30)\n",
    "\n",
    "#plt.scatter(otro2.Longitude,otro2.Latitude,c=otro2.DistanceToRoadMex_mean,cmap=plt.cm.Accent,s=30)\n",
    "plt.scatter(otro2.Longitude,otro2.Latitude,c=otro2.Burseraceae,cmap=plt.cm.Greys,s=5,vmin=0.5,vmax=1.0)"
   ]
  },
  {
   "cell_type": "code",
   "execution_count": null,
   "metadata": {},
   "outputs": [],
   "source": [
    "d9.columns"
   ]
  },
  {
   "cell_type": "code",
   "execution_count": null,
   "metadata": {},
   "outputs": [],
   "source": [
    "## This is for plotting the polygons\n",
    "from geopandas import GeoSeries,GeoDataFrame\n",
    "from shapely.wkt import loads\n",
    "\n",
    "load = map(lambda p : loads(p.wkt),polys)\n",
    "#s = GeoDataFrame(GeoSeries(load))\n"
   ]
  },
  {
   "cell_type": "code",
   "execution_count": null,
   "metadata": {},
   "outputs": [],
   "source": []
  }
 ],
 "metadata": {
  "kernelspec": {
   "display_name": "Django Shell-Plus",
   "language": "python",
   "name": "django_extensions"
  },
  "language_info": {
   "codemirror_mode": {
    "name": "ipython",
    "version": 2
   },
   "file_extension": ".py",
   "mimetype": "text/x-python",
   "name": "python",
   "nbconvert_exporter": "python",
   "pygments_lexer": "ipython2",
   "version": "2.7.11"
  }
 },
 "nbformat": 4,
 "nbformat_minor": 2
}
