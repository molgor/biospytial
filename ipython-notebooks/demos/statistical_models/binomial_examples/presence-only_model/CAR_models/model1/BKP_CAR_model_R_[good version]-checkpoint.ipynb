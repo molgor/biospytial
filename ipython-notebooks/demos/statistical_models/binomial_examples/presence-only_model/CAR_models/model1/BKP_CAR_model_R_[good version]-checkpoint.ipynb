{
 "cells": [
  {
   "cell_type": "markdown",
   "metadata": {},
   "source": [
    "# A notebook in R for modelling species distributions and sample effort using \n",
    "## CAR models\n",
    "\n",
    "The conditional autologistic model (Besage, et. al 1991) has the following specification (Lee, 2013).\n"
   ]
  },
  {
   "cell_type": "code",
   "execution_count": 21,
   "metadata": {},
   "outputs": [],
   "source": [
    "library(CARBayes)\n",
    "library(dplyr)\n",
    "library(purrr)\n",
    "library(biospytial.rwrapper)"
   ]
  },
  {
   "cell_type": "code",
   "execution_count": 22,
   "metadata": {},
   "outputs": [],
   "source": [
    "## Read adjancency matrix\n",
    "mat_filename = \"/outputs/training_data_sample_puebla_p9_abies_pinophyta_adjmat.npy\"\n",
    "library(reticulate)\n",
    "np <- import(\"numpy\")\n",
    "M <- np$load(mat_filename)\n",
    "TDF = read.csv(\"/outputs/training_data_sample_puebla_p9_abies_pinophyta.csv\")\n",
    "## Order it according to the id of the cell\n",
    "## This is important because the adjancy matrix rows need to be the same\n",
    "TDF = TDF[order(TDF$cell_ids),]\n",
    "# Convert to numeric\n",
    "TDF = mutate_at(TDF,vars(Dist.to.road_m,Elevation_m,MaxTemp_m,MeanTemp_m,MinTemp_m,Population_m,Precipitation_m,SolarRadiation_m,VaporPres_m,WindSp_m),as.numeric)\n",
    "names(TDF) = lapply(names(TDF),function(x) gsub(\"_\",\"\",x))\n",
    "names(TDF) = lapply(names(TDF),function(x) gsub(\"\\\\.\",\"\",x))\n",
    "                    \n",
    "### Mini script para borrar entrada con 0 neighbours\n",
    "D = apply(M,MARGIN = 1,sum)\n",
    "idx = match(0,D)\n",
    "## Please check that the order is ok\n",
    "# Checked, \n",
    "cell_with_no_neighbour = TDF$cellids[idx]\n",
    "## look in the gis\n",
    "## Erase idx for M and for TDF (Or maybe only for M)\n",
    "M_bis = M[-c(idx),-c(idx)]\n",
    "\n",
    "names(TDF)[23] <- 'covid2'\n",
    "DataFrame = TDF %>% rowwise() %>% mutate(sample=pseudo_absence_naive(Plantae,LUCA),\n",
    "                              species=pseudo_absence_naive(Pinophyta,Plantae))\n",
    "                    \n",
    "                    \n",
    "formula_sample=sample~Disttoroadm+Populationm #+factor(tipos)\n",
    "formula_presence=species~Elevationm+MeanTempm\n",
    "n <- nrow(TDF)\n",
    "trials <- rep(1,n)\n",
    "\n",
    "burnin = 50000\n",
    "n.sample = 100000\n",
    "thin = 50    "
   ]
  },
  {
   "cell_type": "code",
   "execution_count": 3,
   "metadata": {},
   "outputs": [
    {
     "name": "stdout",
     "output_type": "stream",
     "text": [
      "Setting up the model.\n",
      "Generating 1000 post burnin and thinned (if requested) samples.\n",
      "  |======================================================================| 100%\n",
      "Summarising results.\n",
      "Finished in  819.8 seconds.\n"
     ]
    }
   ],
   "source": [
    "model.sample <-S.CARbym(formula=formula_sample,family=\"binomial\",W=M_bis,trials = trials,data=DataFrame,burnin=burnin,n.sample=n.sample,thin=thin,verbose = TRUE)"
   ]
  },
  {
   "cell_type": "code",
   "execution_count": 4,
   "metadata": {
    "scrolled": true
   },
   "outputs": [
    {
     "name": "stdout",
     "output_type": "stream",
     "text": [
      "Setting up the model.\n",
      "Generating 1000 post burnin and thinned (if requested) samples.\n",
      "  |======================================================================| 100%\n",
      "Summarising results.\n",
      "Finished in  673.4 seconds.\n"
     ]
    }
   ],
   "source": [
    "model.presence <- S.CARbym(formula=formula_presence,family=\"binomial\",W=M_bis,trials = trials,data=DataFrame,burnin=burnin,n.sample=n.sample,thin=thin,verbose = TRUE)"
   ]
  },
  {
   "cell_type": "code",
   "execution_count": 13,
   "metadata": {},
   "outputs": [
    {
     "name": "stdout",
     "output_type": "stream",
     "text": [
      "\n",
      "#################\n",
      "#### Model fitted\n",
      "#################\n",
      "Likelihood model - Binomial (logit link function) \n",
      "Random effects model - BYM CAR\n",
      "Regression equation - sample ~ Disttoroadm + Populationm\n",
      "Number of missing observations - 731\n",
      "\n",
      "############\n",
      "#### Results\n",
      "############\n",
      "Posterior quantities and DIC\n",
      "\n",
      "             Median    2.5%   97.5% n.sample % accept n.effective Geweke.diag\n",
      "(Intercept)  3.2695  2.7012  4.8562     1000     46.6        13.2        -1.7\n",
      "Disttoroadm -0.0002 -0.0004 -0.0001     1000     46.6        97.9         1.8\n",
      "Populationm  0.0000 -0.0001  0.0002     1000     46.6       907.8         0.3\n",
      "tau2         5.7359  3.2187 14.3688     1000    100.0        16.1        -1.5\n",
      "sigma2       0.1078  0.0059  3.7740     1000    100.0         6.1        -1.2\n",
      "\n",
      "DIC =  2136.889       p.d =  496.3488       LMPL =  -1111.23 \n"
     ]
    }
   ],
   "source": [
    "#DIC for model with polygon 4 611.3458\n",
    "print(model.sample)"
   ]
  },
  {
   "cell_type": "code",
   "execution_count": 14,
   "metadata": {},
   "outputs": [
    {
     "name": "stdout",
     "output_type": "stream",
     "text": [
      "\n",
      "#################\n",
      "#### Model fitted\n",
      "#################\n",
      "Likelihood model - Binomial (logit link function) \n",
      "Random effects model - BYM CAR\n",
      "Regression equation - species ~ Elevationm + MeanTempm\n",
      "Number of missing observations - 1161\n",
      "\n",
      "############\n",
      "#### Results\n",
      "############\n",
      "Posterior quantities and DIC\n",
      "\n",
      "             Median    2.5%   97.5% n.sample % accept n.effective Geweke.diag\n",
      "(Intercept) -4.3725 -6.2358 -3.1681     1000     46.5        44.9         0.1\n",
      "Elevationm   0.0002 -0.0002  0.0005     1000     46.5       815.9         0.6\n",
      "MeanTempm   -0.0006 -0.0011 -0.0002     1000     46.5       380.5         0.9\n",
      "tau2        13.6601  8.4661 30.3181     1000    100.0        25.8        -0.6\n",
      "sigma2       0.0254  0.0082  0.1320     1000    100.0        13.6         2.1\n",
      "\n",
      "DIC =  1423.11       p.d =  433.7204       LMPL =  -790.36 \n"
     ]
    }
   ],
   "source": [
    "print(model.presence)"
   ]
  },
  {
   "cell_type": "code",
   "execution_count": 15,
   "metadata": {},
   "outputs": [],
   "source": [
    "## Compute independent joint distribution\n",
    "library(boot)\n",
    "## Calculate the inverse of the logit for extracted fitted \n",
    "#fitted_presences = apply(model.presence$samples$fitted,MARGIN=1,inv.logit)\n",
    "#fitted_sample = apply(model.sample$samples$fitted,MARGIN=1,inv.logit)\n",
    "\n",
    "fitted_presences = apply(model.presence$samples$fitted,MARGIN=1,identity)\n",
    "fitted_sample = apply(model.sample$samples$fitted,MARGIN=1,identity)\n",
    "\n",
    "re_presence = apply(model.presence$samples$psi,MARGIN=1,identity)\n",
    "re_sample = apply(model.sample$samples$psi,MARGIN=1,identity)"
   ]
  },
  {
   "cell_type": "code",
   "execution_count": 16,
   "metadata": {},
   "outputs": [],
   "source": [
    "getUpperLowerCI <- function(fitted_sample,prefix=\"\",MARGIN=1){\n",
    "    fp = partial(quantile,probs=c(0.025,0.5,0.975))\n",
    "    quants =apply(X = fitted_sample,FUN = fp,MARGIN)\n",
    "    mfitt = apply(fitted_sample,mean,MARGIN = MARGIN)\n",
    "    vfitt = apply(fitted_sample,var,MARGIN = MARGIN)\n",
    "    new_data = cbind(t(quants),mfitt,vfitt)\n",
    "    l = as.list(c(\"q025\",\"median\",\"q0975\",\"mean\",\"variance\"))\n",
    "    nnames = lapply(l,function (x){return(paste(prefix,x,sep = '_'))})\n",
    "    colnames(new_data) = nnames\n",
    "    return(new_data)\n",
    "}\n",
    "\n"
   ]
  },
  {
   "cell_type": "code",
   "execution_count": 17,
   "metadata": {},
   "outputs": [],
   "source": [
    "## Sample from the posterior\n",
    "sample.x <- data.frame(t(fitted_presences)) %>% mutate_all(function(p) rbernoulli(1,p))\n",
    "sample.y <- data.frame(t(fitted_sample)) %>% mutate_all(function(p) rbernoulli(1,p))\n",
    "sum.x <- colSums(sample.x)\n",
    "nsample <- nrow(sample.x)\n",
    "PX <- sum.x / nsample\n",
    "sum.y <- colSums(sample.y)\n",
    "PY <- sum.y / nsample\n",
    "PXY <- PX * PY"
   ]
  },
  {
   "cell_type": "code",
   "execution_count": 23,
   "metadata": {},
   "outputs": [],
   "source": [
    "P = getUpperLowerCI(fitted_presences,prefix = 'P')\n",
    "S = getUpperLowerCI(fitted_sample,prefix = 'S')\n",
    "Gp = getUpperLowerCI(re_presence,prefix = 'Gp')\n",
    "Gs = getUpperLowerCI(re_sample,prefix = 'Gs')"
   ]
  },
  {
   "cell_type": "code",
   "execution_count": 24,
   "metadata": {},
   "outputs": [],
   "source": [
    "dataout = cbind(TDF$cellids,P,S,Gp,Gs,PX,PY,PXY)"
   ]
  },
  {
   "cell_type": "code",
   "execution_count": 25,
   "metadata": {},
   "outputs": [],
   "source": [
    "## Save the complete chain trace for analysing in Python,\n",
    "file_ = '/outputs/presence_only_models/modelCAR1.csv'\n",
    "write.csv(dataout,file_)"
   ]
  },
  {
   "cell_type": "code",
   "execution_count": null,
   "metadata": {},
   "outputs": [],
   "source": []
  },
  {
   "cell_type": "code",
   "execution_count": null,
   "metadata": {},
   "outputs": [],
   "source": []
  },
  {
   "cell_type": "code",
   "execution_count": null,
   "metadata": {},
   "outputs": [],
   "source": []
  },
  {
   "cell_type": "code",
   "execution_count": null,
   "metadata": {},
   "outputs": [],
   "source": []
  },
  {
   "cell_type": "markdown",
   "metadata": {},
   "source": [
    "### Postprocess the posterior dist."
   ]
  },
  {
   "cell_type": "code",
   "execution_count": null,
   "metadata": {},
   "outputs": [],
   "source": [
    "joint_ind_ps_summary = getUpperLowerCI(joint_ind_ps,prefix='join_ind_ps',MARGIN=1)"
   ]
  },
  {
   "cell_type": "code",
   "execution_count": null,
   "metadata": {},
   "outputs": [],
   "source": [
    "var_joint_ind_ps_summary = getUpperLowerCI(var_joint_ind_ps,prefix='var_joint',MARGIN=1)"
   ]
  },
  {
   "cell_type": "code",
   "execution_count": null,
   "metadata": {},
   "outputs": [],
   "source": [
    "sample_ci = getUpperLowerCI(model.sample$samples$fitted,prefix = 'sample')"
   ]
  },
  {
   "cell_type": "code",
   "execution_count": null,
   "metadata": {},
   "outputs": [],
   "source": [
    "presence_ci = getUpperLowerCI(model.presence$samples$fitted,prefix='pinophyta')"
   ]
  },
  {
   "cell_type": "code",
   "execution_count": null,
   "metadata": {},
   "outputs": [],
   "source": [
    "#TDF$fitted_values = model.spatial$fitted.values\n",
    "#TDF = cbind(TDF,joint_ind_ps_summary,var_joint_ind_ps_summary,sample_ci,presence_ci)\n",
    "TDF = cbind(TDF,joint_ind_ps_summary,var_joint_ind_ps_summary)\n"
   ]
  },
  {
   "cell_type": "code",
   "execution_count": null,
   "metadata": {},
   "outputs": [],
   "source": [
    "## Export to CSV\n",
    "write.csv(TDF,file='/outputs/resultsCAR_sampleeffort1_puebla_p9_pinophyta_luca.csv')"
   ]
  },
  {
   "cell_type": "code",
   "execution_count": null,
   "metadata": {},
   "outputs": [],
   "source": []
  },
  {
   "cell_type": "code",
   "execution_count": null,
   "metadata": {},
   "outputs": [],
   "source": [
    "HASTA AQUI ME QUEDE HOY. FALTA VER que pasa con los modelos hacer mapa"
   ]
  },
  {
   "cell_type": "code",
   "execution_count": null,
   "metadata": {},
   "outputs": [],
   "source": []
  },
  {
   "cell_type": "code",
   "execution_count": null,
   "metadata": {},
   "outputs": [],
   "source": [
    "dtau = density(model.presence$samples$tau2)\n",
    "dsigma = density(model.presence$samples$sigma2)\n",
    "\n",
    "plot(dtau,main=expression(tau^2))\n",
    "plot(dsigma,main=expression(sigma^2))\n",
    "plot(beta1,main=\"Intercept\")\n",
    "plot(beta2,main=\"Distance to Road\")\n",
    "plot(beta3,main=\"Population\")"
   ]
  },
  {
   "cell_type": "code",
   "execution_count": null,
   "metadata": {},
   "outputs": [],
   "source": []
  },
  {
   "cell_type": "code",
   "execution_count": null,
   "metadata": {},
   "outputs": [],
   "source": [
    "mod_sig = glm(formula, data=TDF, family=binomial())\n",
    "#mod1.summary()"
   ]
  },
  {
   "cell_type": "code",
   "execution_count": null,
   "metadata": {},
   "outputs": [],
   "source": [
    "summary(mod_sig)"
   ]
  },
  {
   "cell_type": "code",
   "execution_count": null,
   "metadata": {},
   "outputs": [],
   "source": [
    "confint(mod_sig)"
   ]
  },
  {
   "cell_type": "markdown",
   "metadata": {},
   "source": [
    "## Instantiate Geospatial data"
   ]
  },
  {
   "cell_type": "code",
   "execution_count": null,
   "metadata": {},
   "outputs": [],
   "source": [
    "library(lattice)\n",
    "library(sp)\n"
   ]
  },
  {
   "cell_type": "code",
   "execution_count": null,
   "metadata": {},
   "outputs": [],
   "source": [
    "coordinates(TDF) <- c(\"Longitude\",\"Latitude\")"
   ]
  },
  {
   "cell_type": "code",
   "execution_count": null,
   "metadata": {},
   "outputs": [],
   "source": [
    "bubble(TDF,\"Pinophyta\")"
   ]
  },
  {
   "cell_type": "code",
   "execution_count": null,
   "metadata": {},
   "outputs": [],
   "source": []
  },
  {
   "cell_type": "markdown",
   "metadata": {},
   "source": [
    "## Spatial analysis in R\n",
    "First, exploratory"
   ]
  },
  {
   "cell_type": "code",
   "execution_count": null,
   "metadata": {},
   "outputs": [],
   "source": [
    "library(gstat)"
   ]
  },
  {
   "cell_type": "code",
   "execution_count": null,
   "metadata": {},
   "outputs": [],
   "source": [
    "plot(variogram(Pinophyta ~ 1,TDF))"
   ]
  },
  {
   "cell_type": "code",
   "execution_count": null,
   "metadata": {},
   "outputs": [],
   "source": [
    "install.packages(\"geoR\")"
   ]
  },
  {
   "cell_type": "code",
   "execution_count": null,
   "metadata": {},
   "outputs": [],
   "source": [
    "install.packages(\"geoRglm\")"
   ]
  },
  {
   "cell_type": "code",
   "execution_count": null,
   "metadata": {},
   "outputs": [],
   "source": [
    "library('spdep')"
   ]
  },
  {
   "cell_type": "code",
   "execution_count": null,
   "metadata": {},
   "outputs": [],
   "source": [
    "model_car = spautolm(Pinophyta ~ Dist.to.road_m +  Population_m + tipos,data=TDF,family=\"CAR\")"
   ]
  },
  {
   "cell_type": "code",
   "execution_count": null,
   "metadata": {},
   "outputs": [],
   "source": []
  }
 ],
 "metadata": {
  "kernelspec": {
   "display_name": "R",
   "language": "R",
   "name": "ir"
  },
  "language_info": {
   "codemirror_mode": "r",
   "file_extension": ".r",
   "mimetype": "text/x-r-source",
   "name": "R",
   "pygments_lexer": "r",
   "version": "3.5.1"
  }
 },
 "nbformat": 4,
 "nbformat_minor": 2
}
